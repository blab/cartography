{
 "cells": [
  {
   "cell_type": "code",
   "execution_count": null,
   "id": "58a8c282-1a99-46ad-a4b0-8443ffe72caa",
   "metadata": {},
   "outputs": [],
   "source": [
    "import matplotlib as mpl\n",
    "import matplotlib.pyplot as plt\n",
    "import pandas as pd\n",
    "import seaborn as sns\n",
    "\n",
    "%matplotlib inline"
   ]
  },
  {
   "cell_type": "code",
   "execution_count": null,
   "id": "bc60d461-c394-4f8a-a0c3-7674f2f38ed4",
   "metadata": {},
   "outputs": [],
   "source": [
    "sns.set_style(\"white\")"
   ]
  },
  {
   "cell_type": "code",
   "execution_count": null,
   "id": "f5692fd3-50ff-43fb-adcb-e864f3b1cf5a",
   "metadata": {},
   "outputs": [],
   "source": [
    "# Display figures at a reasonable default size.\n",
    "mpl.rcParams['figure.figsize'] = (6, 4)\n",
    "\n",
    "# Disable top and right spines.\n",
    "mpl.rcParams['axes.spines.top'] = False\n",
    "mpl.rcParams['axes.spines.right'] = False\n",
    "    \n",
    "# Display and save figures at higher resolution for presentations and manuscripts.\n",
    "mpl.rcParams['savefig.dpi'] = 300\n",
    "mpl.rcParams['figure.dpi'] = 300\n",
    "\n",
    "# Display text at sizes large enough for presentations and manuscripts.\n",
    "mpl.rcParams['font.weight'] = \"normal\"\n",
    "mpl.rcParams['axes.labelweight'] = \"normal\"\n",
    "mpl.rcParams['font.size'] = 14\n",
    "mpl.rcParams['axes.labelsize'] = 14\n",
    "mpl.rcParams['legend.fontsize'] = 12\n",
    "mpl.rcParams['xtick.labelsize'] = 14\n",
    "mpl.rcParams['ytick.labelsize'] = 14"
   ]
  },
  {
   "cell_type": "markdown",
   "id": "1113884e-a558-4b74-8109-67d1a52cc4a7",
   "metadata": {},
   "outputs": [],
   "source": [
    "## Load data\n",
    "\n",
    "Load exhaustive grid search data. For each possible embedding method, corresponding method parameters, and HDBSCAN distance threshold, we produced an embedding for training and validation data (using 2-fold validation with 3 repeats for N=6 cross-validation iterations per parameter combination), assigned clusters to each embedding, and evaluated how well all pairs of strains in the data were assigned to the same or different cluster compared to predetermined clade assignments."
   ]
  },
  {
   "cell_type": "code",
   "execution_count": null,
   "id": "7f46373f-2e34-4d01-a490-97f01e15531a",
   "metadata": {},
   "outputs": [],
   "source": [
    "grid = pd.read_csv(snakemake.input.table, sep=\"\\t\")"
   ]
  },
  {
   "cell_type": "code",
   "execution_count": null,
   "id": "062a85f3-2481-4f67-bca0-ee23775d2a3d",
   "metadata": {},
   "outputs": [],
   "source": [
    "grid.head()"
   ]
  },
  {
   "cell_type": "code",
   "execution_count": null,
   "id": "13fcdebb-9626-4522-bc50-8aab0283e5fa",
   "metadata": {},
   "outputs": [],
   "source": [
    "list(grid.columns)"
   ]
  },
  {
   "cell_type": "markdown",
   "id": "3a643e8f-c030-489b-a1de-c9c43988eac2",
   "metadata": {},
   "outputs": [],
   "source": [
    "## Identify the distance threshold that maximized the training accuracy\n",
    "\n",
    "We want to identify the distance threshold for HDBSCAN cluster assignment that produces the most accurate clusters (based on known clade assignments) across each method. To find this optimal threshold, we calculate the mean training MCC value across all cross-validation iterations for a given method and set of method parameters and find the threshold that maximizes this mean across each method."
   ]
  },
  {
   "cell_type": "code",
   "execution_count": null,
   "id": "4191605d-457c-43ce-8dfc-0110a21775fb",
   "metadata": {},
   "outputs": [],
   "source": [
    "mean_training_mcc_by_method = grid.groupby([\"method\", \"distance_threshold\"])[\"training_mcc\"].mean().reset_index()"
   ]
  },
  {
   "cell_type": "code",
   "execution_count": null,
   "id": "b85355d8-20a1-42ba-a077-d326de17950f",
   "metadata": {},
   "outputs": [],
   "source": [
    "mean_training_mcc_by_method"
   ]
  },
  {
   "cell_type": "code",
   "execution_count": null,
   "id": "1e74d295-05d8-439b-a2bc-0372404dfd31",
   "metadata": {},
   "outputs": [],
   "source": [
    "facet_grid = sns.relplot(\n",
    "    data=grid,\n",
    "    x=\"distance_threshold\",\n",
    "    y=\"training_mcc\",\n",
    "    col=\"method\",\n",
    "    col_wrap=2,\n",
    "    alpha=0.5,\n",
    ")\n",
    "\n",
    "for ax in facet_grid.axes.flatten():\n",
    "    ax.set_ylim(0, 1)\n",
    "    \n",
    "plt.tight_layout()\n",
    "plt.savefig(snakemake.output.mcc_by_method_and_distance_threshold)"
   ]
  },
  {
   "cell_type": "code",
   "execution_count": null,
   "id": "ffbb1711-8d93-4673-8e39-c0695d9eb657",
   "metadata": {},
   "outputs": [],
   "source": [
    "facet_grid = sns.relplot(\n",
    "    data=grid.query(\"method == 't-sne'\"),\n",
    "    x=\"distance_threshold\",\n",
    "    y=\"training_mcc\",\n",
    "    col=\"learning_rate\",\n",
    "    row=\"perplexity\",\n",
    "    alpha=0.75,\n",
    ")\n",
    "\n",
    "for ax in facet_grid.axes.flatten():\n",
    "    ax.set_ylim(0, 1)"
   ]
  },
  {
   "cell_type": "code",
   "execution_count": null,
   "id": "9ff9de77-4cef-4d72-bb08-0be8aae358ad",
   "metadata": {},
   "outputs": [],
   "source": [
    "facet_grid = sns.relplot(\n",
    "    data=grid.query(\"method == 'umap'\"),\n",
    "    x=\"distance_threshold\",\n",
    "    y=\"training_mcc\",\n",
    "    col=\"n_neighbors\",\n",
    "    row=\"min_dist\",\n",
    "    alpha=0.75,\n",
    ")\n",
    "\n",
    "for ax in facet_grid.axes.flatten():\n",
    "    ax.set_ylim(0, 1)"
   ]
  },
  {
   "cell_type": "markdown",
   "id": "26aa0bd1-e2b6-4c0f-9cef-6bd232486605",
   "metadata": {},
   "outputs": [],
   "source": [
    "## Identify optimal method parameter values\n",
    "\n",
    "Given the distance threshold that maximizes the training MCC above (threshold=4 for t-SNE and threshold=2 for UMAP), we next identify the combination of method parameters that maximizes the validation MCC for that distance threshold."
   ]
  },
  {
   "cell_type": "code",
   "execution_count": null,
   "id": "69de6042-358e-4772-abb2-9456d7893683",
   "metadata": {},
   "outputs": [],
   "source": [
    "grid.query(\"distance_threshold == 4\").groupby([\"method\", \"perplexity\", \"learning_rate\"])[\"validation_mcc\"].mean().reset_index().sort_values(\n",
    "    \"validation_mcc\",\n",
    "    ascending=False\n",
    ")"
   ]
  },
  {
   "cell_type": "code",
   "execution_count": null,
   "id": "0d021706-5a47-4191-8847-07c48118a22f",
   "metadata": {},
   "outputs": [],
   "source": [
    "facet_grid = sns.catplot(\n",
    "    data=grid.query(\"(method == 't-sne') & (distance_threshold == 4)\"),\n",
    "    x=\"perplexity\",\n",
    "    y=\"validation_mcc\",\n",
    "    hue=\"learning_rate\",\n",
    "    dodge=True,\n",
    "    alpha=0.75,\n",
    ")\n",
    "\n",
    "for ax in facet_grid.axes.flatten():\n",
    "    ax.set_ylim(0, 1)"
   ]
  },
  {
   "cell_type": "markdown",
   "id": "e04a0202-0a59-4645-a48c-d499bd068658",
   "metadata": {},
   "outputs": [],
   "source": [
    "As we’ve seen before, learning rate doesn’t matter much, but perplexity does. The maximum validation MCC for t-SNE is at perplexity=30 and learning rate = 200, which is what we’ve been using."
   ]
  },
  {
   "cell_type": "code",
   "execution_count": null,
   "id": "0a039dbf-3fd1-4cd9-8616-0b8c971db8e8",
   "metadata": {},
   "outputs": [],
   "source": [
    "grid.query(\"distance_threshold == 2\").groupby([\"method\", \"min_dist\", \"n_neighbors\"])[\"validation_mcc\"].mean().reset_index().sort_values(\n",
    "    \"validation_mcc\",\n",
    "    ascending=False\n",
    ")"
   ]
  },
  {
   "cell_type": "code",
   "execution_count": null,
   "id": "0f72bb98-d31b-45a7-b468-db5416fbc424",
   "metadata": {},
   "outputs": [],
   "source": [
    "facet_grid = sns.catplot(\n",
    "    data=grid.query(\"(method == 'umap') & (distance_threshold == 2)\"),\n",
    "    x=\"min_dist\",\n",
    "    y=\"validation_mcc\",\n",
    "    hue=\"n_neighbors\",\n",
    "    dodge=True,\n",
    "    alpha=0.75,\n",
    ")\n",
    "\n",
    "for ax in facet_grid.axes.flatten():\n",
    "    ax.set_ylim(0, 1)"
   ]
  },
  {
   "cell_type": "markdown",
   "id": "db257c4c-3f4b-4710-b502-523e0702555c",
   "metadata": {},
   "outputs": [],
   "source": [
    "In contrast with t-SNE's parameters, UMAP appears robust across all tested parameter combinations, producing roughly the same MCC values for all combinations. Although the optimal parameter combination is min_dist=0.05, n_neighbors=50 (MCC=0.681), the second best combination of min_dist=0.05, n_neighbors=100 has an MCC=0.6796)."
   ]
  },
  {
   "cell_type": "code",
   "execution_count": null,
   "id": "0180dc4a-f498-4aaa-b3c5-ece492f96f2b",
   "metadata": {},
   "outputs": [],
   "source": []
  }
 ],
 "metadata": {
  "kernelspec": {
   "display_name": "Python 3",
   "language": "python",
   "name": "python3"
  },
  "language_info": {
   "codemirror_mode": {
    "name": "ipython",
    "version": 3
   },
   "file_extension": ".py",
   "mimetype": "text/x-python",
   "name": "python",
   "nbconvert_exporter": "python",
   "pygments_lexer": "ipython3",
   "version": "3.7.10"
  }
 },
 "nbformat": 4,
 "nbformat_minor": 5
}
