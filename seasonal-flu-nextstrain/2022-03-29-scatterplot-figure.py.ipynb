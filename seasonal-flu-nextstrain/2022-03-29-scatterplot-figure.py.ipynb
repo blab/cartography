{
 "cells": [
  {
   "cell_type": "code",
   "execution_count": 1,
   "id": "78db45d1",
   "metadata": {
    "tags": [
     "snakemake-job-properties"
    ]
   },
   "outputs": [
    {
     "ename": "FileNotFoundError",
     "evalue": "[Errno 2] No such file or directory: '/Users/jlhudd/projects/cartography'",
     "output_type": "error",
     "traceback": [
      "\u001b[0;31m---------------------------------------------------------------------------\u001b[0m",
      "\u001b[0;31mFileNotFoundError\u001b[0m                         Traceback (most recent call last)",
      "\u001b[0;32m/tmp/ipykernel_6600/3885453249.py\u001b[0m in \u001b[0;36m<module>\u001b[0;34m\u001b[0m\n\u001b[1;32m      1\u001b[0m \u001b[0;31m######## snakemake preamble start (automatically inserted, do not edit) ########\u001b[0m\u001b[0;34m\u001b[0m\u001b[0;34m\u001b[0m\u001b[0;34m\u001b[0m\u001b[0m\n\u001b[0;32m----> 2\u001b[0;31m \u001b[0;32mimport\u001b[0m \u001b[0msys\u001b[0m\u001b[0;34m;\u001b[0m \u001b[0msys\u001b[0m\u001b[0;34m.\u001b[0m\u001b[0mpath\u001b[0m\u001b[0;34m.\u001b[0m\u001b[0mextend\u001b[0m\u001b[0;34m(\u001b[0m\u001b[0;34m[\u001b[0m\u001b[0;34m'/Users/jlhudd/miniconda3/envs/cartography/lib/python3.7/site-packages'\u001b[0m\u001b[0;34m,\u001b[0m \u001b[0;34m'/Users/jlhudd/projects/cartography/seasonal-flu-nextstrain'\u001b[0m\u001b[0;34m]\u001b[0m\u001b[0;34m)\u001b[0m\u001b[0;34m;\u001b[0m \u001b[0;32mimport\u001b[0m \u001b[0mpickle\u001b[0m\u001b[0;34m;\u001b[0m \u001b[0msnakemake\u001b[0m \u001b[0;34m=\u001b[0m \u001b[0mpickle\u001b[0m\u001b[0;34m.\u001b[0m\u001b[0mloads\u001b[0m\u001b[0;34m(\u001b[0m\u001b[0;34mb'\\x80\\x03csnakemake.script\\nSnakemake\\nq\\x00)\\x81q\\x01}q\\x02(X\\x05\\x00\\x00\\x00inputq\\x03csnakemake.io\\nInputFiles\\nq\\x04)\\x81q\\x05(X=\\x00\\x00\\x00seasonal-flu-nextstrain/results/full_Scatterplot_metadata.csvq\\x06X3\\x00\\x00\\x00seasonal-flu-nextstrain/results/scatterplot_pca.csvq\\x07X3\\x00\\x00\\x00seasonal-flu-nextstrain/results/scatterplot_mds.csvq\\x08X5\\x00\\x00\\x00seasonal-flu-nextstrain/results/scatterplot_t-sne.csvq\\tX4\\x00\\x00\\x00seasonal-flu-nextstrain/results/scatterplot_umap.csvq\\ne}q\\x0b(X\\x06\\x00\\x00\\x00_namesq\\x0c}q\\r(X\\x14\\x00\\x00\\x00scatterplot_metadataq\\x0eK\\x00N\\x86q\\x0fX\\x0f\\x00\\x00\\x00scatterplot_pcaq\\x10K\\x01N\\x86q\\x11X\\x0f\\x00\\x00\\x00scatterplot_mdsq\\x12K\\x02N\\x86q\\x13X\\x10\\x00\\x00\\x00scatterplot_tsneq\\x14K\\x03N\\x86q\\x15X\\x10\\x00\\x00\\x00scatterplot_umapq\\x16K\\x04N\\x86q\\x17uX\\x12\\x00\\x00\\x00_allowed_overridesq\\x18]q\\x19(X\\x05\\x00\\x00\\x00indexq\\x1aX\\x04\\x00\\x00\\x00sortq\\x1beh\\x1acfunctools\\npartial\\nq\\x1ccbuiltins\\ngetattr\\nq\\x1dcsnakemake.io\\nNamedlist\\nq\\x1eX\\x0f\\x00\\x00\\x00_used_attributeq\\x1f\\x86q Rq!\\x85q\"Rq#(h!)}q$X\\x05\\x00\\x00\\x00_nameq%h\\x1asNtq&bh\\x1bh\\x1ch!\\x85q\\'Rq((h!)}q)h%h\\x1bsNtq*bh\\x0eh\\x06h\\x10h\\x07h\\x12h\\x08h\\x14h\\th\\x16h\\nubX\\x06\\x00\\x00\\x00outputq+csnakemake.io\\nOutputFiles\\nq,)\\x81q-XH\\x00\\x00\\x00docs/figures/flu-2016-2018-ha-euclidean-distance-by-genetic-distance.pngq.a}q/(h\\x0c}q0X\\x0b\\x00\\x00\\x00scatterplotq1K\\x00N\\x86q2sh\\x18]q3(h\\x1ah\\x1beh\\x1ah\\x1ch!\\x85q4Rq5(h!)}q6h%h\\x1asNtq7bh\\x1bh\\x1ch!\\x85q8Rq9(h!)}q:h%h\\x1bsNtq;bh1h.ubX\\x06\\x00\\x00\\x00paramsq<csnakemake.io\\nParams\\nq=)\\x81q>}q?(h\\x0c}q@h\\x18]qA(h\\x1ah\\x1beh\\x1ah\\x1ch!\\x85qBRqC(h!)}qDh%h\\x1asNtqEbh\\x1bh\\x1ch!\\x85qFRqG(h!)}qHh%h\\x1bsNtqIbubX\\t\\x00\\x00\\x00wildcardsqJcsnakemake.io\\nWildcards\\nqK)\\x81qL}qM(h\\x0c}qNh\\x18]qO(h\\x1ah\\x1beh\\x1ah\\x1ch!\\x85qPRqQ(h!)}qRh%h\\x1asNtqSbh\\x1bh\\x1ch!\\x85qTRqU(h!)}qVh%h\\x1bsNtqWbubX\\x07\\x00\\x00\\x00threadsqXK\\x01X\\t\\x00\\x00\\x00resourcesqYcsnakemake.io\\nResources\\nqZ)\\x81q[(K\\x01K\\x01X0\\x00\\x00\\x00/var/folders/r1/wsctb1dd05z5rx_wnd502w0w0000gn/Tq\\\\e}q](h\\x0c}q^(X\\x06\\x00\\x00\\x00_coresq_K\\x00N\\x86q`X\\x06\\x00\\x00\\x00_nodesqaK\\x01N\\x86qbX\\x06\\x00\\x00\\x00tmpdirqcK\\x02N\\x86qduh\\x18]qe(h\\x1ah\\x1beh\\x1ah\\x1ch!\\x85qfRqg(h!)}qhh%h\\x1asNtqibh\\x1bh\\x1ch!\\x85qjRqk(h!)}qlh%h\\x1bsNtqmbh_K\\x01haK\\x01hch\\\\ubX\\x03\\x00\\x00\\x00logqncsnakemake.io\\nLog\\nqo)\\x81qp}qq(h\\x0c}qrh\\x18]qs(h\\x1ah\\x1beh\\x1ah\\x1ch!\\x85qtRqu(h!)}qvh%h\\x1asNtqwbh\\x1bh\\x1ch!\\x85qxRqy(h!)}qzh%h\\x1bsNtq{bubX\\x06\\x00\\x00\\x00configq|}q}X\\x04\\x00\\x00\\x00ruleq~X/\\x00\\x00\\x00seasonal_flu_training_create_scatterplot_figureq\\x7fX\\x0f\\x00\\x00\\x00bench_iterationq\\x80NX\\t\\x00\\x00\\x00scriptdirq\\x81X:\\x00\\x00\\x00/Users/jlhudd/projects/cartography/seasonal-flu-nextstrainq\\x82ub.'\u001b[0m\u001b[0;34m)\u001b[0m\u001b[0;34m;\u001b[0m \u001b[0;32mfrom\u001b[0m \u001b[0msnakemake\u001b[0m\u001b[0;34m.\u001b[0m\u001b[0mlogging\u001b[0m \u001b[0;32mimport\u001b[0m \u001b[0mlogger\u001b[0m\u001b[0;34m;\u001b[0m \u001b[0mlogger\u001b[0m\u001b[0;34m.\u001b[0m\u001b[0mprintshellcmds\u001b[0m \u001b[0;34m=\u001b[0m \u001b[0;32mTrue\u001b[0m\u001b[0;34m;\u001b[0m \u001b[0;32mimport\u001b[0m \u001b[0mos\u001b[0m\u001b[0;34m;\u001b[0m \u001b[0mos\u001b[0m\u001b[0;34m.\u001b[0m\u001b[0mchdir\u001b[0m\u001b[0;34m(\u001b[0m\u001b[0;34mr'/Users/jlhudd/projects/cartography'\u001b[0m\u001b[0;34m)\u001b[0m\u001b[0;34m;\u001b[0m\u001b[0;34m\u001b[0m\u001b[0;34m\u001b[0m\u001b[0m\n\u001b[0m\u001b[1;32m      3\u001b[0m \u001b[0;31m######## snakemake preamble end #########\u001b[0m\u001b[0;34m\u001b[0m\u001b[0;34m\u001b[0m\u001b[0;34m\u001b[0m\u001b[0m\n",
      "\u001b[0;31mFileNotFoundError\u001b[0m: [Errno 2] No such file or directory: '/Users/jlhudd/projects/cartography'"
     ]
    }
   ],
   "source": [
    "\n",
    "######## snakemake preamble start (automatically inserted, do not edit) ########\n",
    "import sys; sys.path.extend(['/Users/jlhudd/miniconda3/envs/cartography/lib/python3.7/site-packages', '/Users/jlhudd/projects/cartography/seasonal-flu-nextstrain']); import pickle; snakemake = pickle.loads(b'\\x80\\x03csnakemake.script\\nSnakemake\\nq\\x00)\\x81q\\x01}q\\x02(X\\x05\\x00\\x00\\x00inputq\\x03csnakemake.io\\nInputFiles\\nq\\x04)\\x81q\\x05(X=\\x00\\x00\\x00seasonal-flu-nextstrain/results/full_Scatterplot_metadata.csvq\\x06X3\\x00\\x00\\x00seasonal-flu-nextstrain/results/scatterplot_pca.csvq\\x07X3\\x00\\x00\\x00seasonal-flu-nextstrain/results/scatterplot_mds.csvq\\x08X5\\x00\\x00\\x00seasonal-flu-nextstrain/results/scatterplot_t-sne.csvq\\tX4\\x00\\x00\\x00seasonal-flu-nextstrain/results/scatterplot_umap.csvq\\ne}q\\x0b(X\\x06\\x00\\x00\\x00_namesq\\x0c}q\\r(X\\x14\\x00\\x00\\x00scatterplot_metadataq\\x0eK\\x00N\\x86q\\x0fX\\x0f\\x00\\x00\\x00scatterplot_pcaq\\x10K\\x01N\\x86q\\x11X\\x0f\\x00\\x00\\x00scatterplot_mdsq\\x12K\\x02N\\x86q\\x13X\\x10\\x00\\x00\\x00scatterplot_tsneq\\x14K\\x03N\\x86q\\x15X\\x10\\x00\\x00\\x00scatterplot_umapq\\x16K\\x04N\\x86q\\x17uX\\x12\\x00\\x00\\x00_allowed_overridesq\\x18]q\\x19(X\\x05\\x00\\x00\\x00indexq\\x1aX\\x04\\x00\\x00\\x00sortq\\x1beh\\x1acfunctools\\npartial\\nq\\x1ccbuiltins\\ngetattr\\nq\\x1dcsnakemake.io\\nNamedlist\\nq\\x1eX\\x0f\\x00\\x00\\x00_used_attributeq\\x1f\\x86q Rq!\\x85q\"Rq#(h!)}q$X\\x05\\x00\\x00\\x00_nameq%h\\x1asNtq&bh\\x1bh\\x1ch!\\x85q\\'Rq((h!)}q)h%h\\x1bsNtq*bh\\x0eh\\x06h\\x10h\\x07h\\x12h\\x08h\\x14h\\th\\x16h\\nubX\\x06\\x00\\x00\\x00outputq+csnakemake.io\\nOutputFiles\\nq,)\\x81q-XH\\x00\\x00\\x00docs/figures/flu-2016-2018-ha-euclidean-distance-by-genetic-distance.pngq.a}q/(h\\x0c}q0X\\x0b\\x00\\x00\\x00scatterplotq1K\\x00N\\x86q2sh\\x18]q3(h\\x1ah\\x1beh\\x1ah\\x1ch!\\x85q4Rq5(h!)}q6h%h\\x1asNtq7bh\\x1bh\\x1ch!\\x85q8Rq9(h!)}q:h%h\\x1bsNtq;bh1h.ubX\\x06\\x00\\x00\\x00paramsq<csnakemake.io\\nParams\\nq=)\\x81q>}q?(h\\x0c}q@h\\x18]qA(h\\x1ah\\x1beh\\x1ah\\x1ch!\\x85qBRqC(h!)}qDh%h\\x1asNtqEbh\\x1bh\\x1ch!\\x85qFRqG(h!)}qHh%h\\x1bsNtqIbubX\\t\\x00\\x00\\x00wildcardsqJcsnakemake.io\\nWildcards\\nqK)\\x81qL}qM(h\\x0c}qNh\\x18]qO(h\\x1ah\\x1beh\\x1ah\\x1ch!\\x85qPRqQ(h!)}qRh%h\\x1asNtqSbh\\x1bh\\x1ch!\\x85qTRqU(h!)}qVh%h\\x1bsNtqWbubX\\x07\\x00\\x00\\x00threadsqXK\\x01X\\t\\x00\\x00\\x00resourcesqYcsnakemake.io\\nResources\\nqZ)\\x81q[(K\\x01K\\x01X0\\x00\\x00\\x00/var/folders/r1/wsctb1dd05z5rx_wnd502w0w0000gn/Tq\\\\e}q](h\\x0c}q^(X\\x06\\x00\\x00\\x00_coresq_K\\x00N\\x86q`X\\x06\\x00\\x00\\x00_nodesqaK\\x01N\\x86qbX\\x06\\x00\\x00\\x00tmpdirqcK\\x02N\\x86qduh\\x18]qe(h\\x1ah\\x1beh\\x1ah\\x1ch!\\x85qfRqg(h!)}qhh%h\\x1asNtqibh\\x1bh\\x1ch!\\x85qjRqk(h!)}qlh%h\\x1bsNtqmbh_K\\x01haK\\x01hch\\\\ubX\\x03\\x00\\x00\\x00logqncsnakemake.io\\nLog\\nqo)\\x81qp}qq(h\\x0c}qrh\\x18]qs(h\\x1ah\\x1beh\\x1ah\\x1ch!\\x85qtRqu(h!)}qvh%h\\x1asNtqwbh\\x1bh\\x1ch!\\x85qxRqy(h!)}qzh%h\\x1bsNtq{bubX\\x06\\x00\\x00\\x00configq|}q}X\\x04\\x00\\x00\\x00ruleq~X/\\x00\\x00\\x00seasonal_flu_training_create_scatterplot_figureq\\x7fX\\x0f\\x00\\x00\\x00bench_iterationq\\x80NX\\t\\x00\\x00\\x00scriptdirq\\x81X:\\x00\\x00\\x00/Users/jlhudd/projects/cartography/seasonal-flu-nextstrainq\\x82ub.'); from snakemake.logging import logger; logger.printshellcmds = True; import os; os.chdir(r'/Users/jlhudd/projects/cartography');\n",
    "######## snakemake preamble end #########\n"
   ]
  },
  {
   "cell_type": "code",
   "execution_count": null,
   "id": "e10d0e71",
   "metadata": {},
   "outputs": [],
   "source": [
    "import matplotlib as mpl\n",
    "import matplotlib.gridspec as gridspec\n",
    "import matplotlib.pyplot as plt\n",
    "import numpy as np\n",
    "import pandas as pd\n",
    "import seaborn as sns\n",
    "\n",
    "%matplotlib inline"
   ]
  },
  {
   "cell_type": "code",
   "execution_count": null,
   "id": "52d27f85",
   "metadata": {},
   "outputs": [],
   "source": [
    "sns.set_style(\"ticks\")\n",
    "\n",
    "# Disable top and right spines.\n",
    "mpl.rcParams['axes.spines.top'] = False\n",
    "mpl.rcParams['axes.spines.right'] = False\n",
    "\n",
    "# Display and save figures at higher resolution for presentations and manuscripts.\n",
    "mpl.rcParams['savefig.dpi'] = 300\n",
    "mpl.rcParams['figure.dpi'] = 120\n",
    "\n",
    "# Display text at sizes large enough for presentations and manuscripts.\n",
    "mpl.rcParams['font.weight'] = \"normal\"\n",
    "mpl.rcParams['axes.labelweight'] = \"normal\"\n",
    "mpl.rcParams['font.size'] = 14\n",
    "mpl.rcParams['axes.labelsize'] = 14\n",
    "mpl.rcParams['legend.fontsize'] = 10\n",
    "mpl.rcParams['xtick.labelsize'] = 14\n",
    "mpl.rcParams['ytick.labelsize'] = 14\n",
    "mpl.rcParams['axes.titlesize'] = 14\n",
    "mpl.rc('text', usetex=False)"
   ]
  },
  {
   "cell_type": "markdown",
   "id": "b6d52ad7",
   "metadata": {},
   "source": [
    "## Define inputs, outputs, and parameters"
   ]
  },
  {
   "cell_type": "code",
   "execution_count": null,
   "id": "eff30942",
   "metadata": {},
   "outputs": [],
   "source": [
    "scatterplot_metadata = snakemake.input.scatterplot_metadata\n",
    "scatterplot_pca = snakemake.input.scatterplot_pca\n",
    "scatterplot_mds = snakemake.input.scatterplot_mds\n",
    "scatterplot_tsne = snakemake.input.scatterplot_tsne\n",
    "scatterplot_umap = snakemake.input.scatterplot_umap"
   ]
  },
  {
   "cell_type": "code",
   "execution_count": null,
   "id": "cd0cab08",
   "metadata": {},
   "outputs": [],
   "source": [
    "scatterplot_chart = snakemake.output.scatterplot"
   ]
  },
  {
   "cell_type": "markdown",
   "id": "578484f8",
   "metadata": {},
   "source": [
    "## Load data"
   ]
  },
  {
   "cell_type": "code",
   "execution_count": null,
   "id": "54b8f8f2",
   "metadata": {},
   "outputs": [],
   "source": [
    "metadata = pd.read_csv(scatterplot_metadata)"
   ]
  },
  {
   "cell_type": "code",
   "execution_count": null,
   "id": "ce514658",
   "metadata": {},
   "outputs": [],
   "source": [
    "metadata"
   ]
  },
  {
   "cell_type": "code",
   "execution_count": null,
   "id": "1c69daee",
   "metadata": {},
   "outputs": [],
   "source": [
    "pca = pd.read_csv(scatterplot_pca)"
   ]
  },
  {
   "cell_type": "code",
   "execution_count": null,
   "id": "d61dc06b",
   "metadata": {},
   "outputs": [],
   "source": [
    "pca.head()"
   ]
  },
  {
   "cell_type": "code",
   "execution_count": null,
   "id": "41209fcb",
   "metadata": {},
   "outputs": [],
   "source": [
    "pca.shape"
   ]
  },
  {
   "cell_type": "code",
   "execution_count": null,
   "id": "b6743b1a",
   "metadata": {},
   "outputs": [],
   "source": [
    "mds = pd.read_csv(scatterplot_mds)"
   ]
  },
  {
   "cell_type": "code",
   "execution_count": null,
   "id": "7d2c2027",
   "metadata": {},
   "outputs": [],
   "source": [
    "mds.head()"
   ]
  },
  {
   "cell_type": "code",
   "execution_count": null,
   "id": "3f19a01c",
   "metadata": {},
   "outputs": [],
   "source": [
    "tsne = pd.read_csv(scatterplot_tsne)"
   ]
  },
  {
   "cell_type": "code",
   "execution_count": null,
   "id": "01f64384",
   "metadata": {},
   "outputs": [],
   "source": [
    "tsne.head()"
   ]
  },
  {
   "cell_type": "code",
   "execution_count": null,
   "id": "3fd4c5d8",
   "metadata": {},
   "outputs": [],
   "source": [
    "umap = pd.read_csv(scatterplot_umap)"
   ]
  },
  {
   "cell_type": "code",
   "execution_count": null,
   "id": "f74849ef",
   "metadata": {},
   "outputs": [],
   "source": [
    "umap.head()"
   ]
  },
  {
   "cell_type": "markdown",
   "id": "d73c8970",
   "metadata": {},
   "source": [
    "## Plot scatterplots per embedding"
   ]
  },
  {
   "cell_type": "code",
   "execution_count": null,
   "id": "ae372110",
   "metadata": {},
   "outputs": [],
   "source": [
    "fig = plt.figure(figsize=(8, 8), constrained_layout=False)\n",
    "fig.tight_layout(pad=4.0)\n",
    "gs = gridspec.GridSpec(2, 2, figure=fig, hspace=0.4, wspace=0.4)\n",
    "ax1 = fig.add_subplot(gs[0, 0])\n",
    "ax2 = fig.add_subplot(gs[0, 1])\n",
    "ax3 = fig.add_subplot(gs[1, 0])\n",
    "ax4 = fig.add_subplot(gs[1, 1])\n",
    "\n",
    "# PCA\n",
    "metadata_pca = metadata.query(\"embedding == 'pca'\")\n",
    "mean_pca = metadata_pca[\"mean\"].values[0]\n",
    "std_pca = metadata_pca[\"std\"].values[0]\n",
    "\n",
    "ax1.plot(pca[\"genetic\"], pca[\"euclidean\"], \"o\", alpha=0.25)\n",
    "ax1.plot(pca[\"LOWESS_x\"], pca[\"LOWESS_y\"], label=\"LOESS\")\n",
    "\n",
    "ax1.set_xlabel(\"Genetic distance\")\n",
    "ax1.set_ylabel(\"Euclidean distance\")\n",
    "ax1.set_xticks(np.arange(min(pca[\"genetic\"]), max(pca[\"genetic\"])+10, 20.0))\n",
    "ax1.set_title(f\"PCA ($R^2={mean_pca:.3f} +/- {std_pca:.3f}$)\")\n",
    "\n",
    "# MDS\n",
    "metadata_mds = metadata.query(\"embedding == 'mds'\")\n",
    "mean_mds = metadata_mds[\"mean\"].values[0]\n",
    "std_mds = metadata_mds[\"std\"].values[0]\n",
    "\n",
    "ax2.plot(mds[\"genetic\"], mds[\"euclidean\"], \"o\", alpha=0.25)\n",
    "ax2.plot(mds[\"LOWESS_x\"], mds[\"LOWESS_y\"], label=\"LOESS\")\n",
    "\n",
    "ax2.set_xlabel(\"Genetic distance\")\n",
    "ax2.set_ylabel(\"Euclidean distance\")\n",
    "ax2.set_xticks(np.arange(min(mds[\"genetic\"]), max(mds[\"genetic\"])+10, 20.0))\n",
    "ax2.set_title(f\"MDS ($R^2={mean_mds:.3f} +/- {std_mds:.3f}$)\")\n",
    "\n",
    "# t-SNE\n",
    "metadata_tsne = metadata.query(\"embedding == 't-sne'\")\n",
    "mean_tsne = metadata_tsne[\"mean\"].values[0]\n",
    "std_tsne = metadata_tsne[\"std\"].values[0]\n",
    "\n",
    "ax3.plot(tsne[\"genetic\"], tsne[\"euclidean\"], \"o\", alpha=0.25)\n",
    "ax3.plot(tsne[\"LOWESS_x\"], tsne[\"LOWESS_y\"], label=\"LOESS\")\n",
    "\n",
    "ax3.set_xlabel(\"Genetic distance\")\n",
    "ax3.set_ylabel(\"Euclidean distance\")\n",
    "ax3.set_xticks(np.arange(min(tsne[\"genetic\"]), max(tsne[\"genetic\"])+10, 20.0))\n",
    "ax3.set_title(f\"t-SNE ($R^2={mean_tsne:.3f} +/- {std_tsne:.3f}$)\")\n",
    "\n",
    "# UMAP\n",
    "metadata_umap = metadata.query(\"embedding == 'umap'\")\n",
    "mean_umap = metadata_umap[\"mean\"].values[0]\n",
    "std_umap = metadata_umap[\"std\"].values[0]\n",
    "\n",
    "ax4.plot(umap[\"genetic\"], umap[\"euclidean\"], \"o\", alpha=0.25)\n",
    "ax4.plot(umap[\"LOWESS_x\"], umap[\"LOWESS_y\"], label=\"LOESS\")\n",
    "\n",
    "ax4.set_xlabel(\"Genetic distance\")\n",
    "ax4.set_ylabel(\"Euclidean distance\")\n",
    "ax4.set_xticks(np.arange(min(umap[\"genetic\"]), max(umap[\"genetic\"])+10, 20.0))\n",
    "ax4.set_title(f\"UMAP ($R^2={mean_umap:.3f} +/- {std_umap:.3f}$)\")"
   ]
  },
  {
   "cell_type": "code",
   "execution_count": null,
   "id": "f66a2aa6",
   "metadata": {},
   "outputs": [],
   "source": [
    "fig = plt.figure(figsize=(8, 8), constrained_layout=False)\n",
    "fig.tight_layout(pad=0.5)\n",
    "gs = gridspec.GridSpec(2, 2, figure=fig, hspace=0.4, wspace=0.4)\n",
    "ax1 = fig.add_subplot(gs[0, 0])\n",
    "ax2 = fig.add_subplot(gs[0, 1])\n",
    "ax3 = fig.add_subplot(gs[1, 0])\n",
    "ax4 = fig.add_subplot(gs[1, 1])\n",
    "\n",
    "# PCA\n",
    "metadata_pca = metadata.query(\"embedding == 'pca'\")\n",
    "\n",
    "ax1 = sns.boxplot(\n",
    "    x=\"genetic\",\n",
    "    y=\"euclidean\",\n",
    "    data=pca,\n",
    "    ax=ax1,\n",
    "    fliersize=1,\n",
    "    linewidth=0.25,\n",
    "    color=\"lightblue\",\n",
    ")\n",
    "\n",
    "ax1.set_xlabel(\"Genetic distance\")\n",
    "ax1.set_ylabel(\"Euclidean distance\")\n",
    "ax1.set_xticks(np.arange(min(pca[\"genetic\"]), max(pca[\"genetic\"])+10, 20.0))\n",
    "\n",
    "# MDS\n",
    "metadata_mds = metadata.query(\"embedding == 'mds'\")\n",
    "\n",
    "ax2 = sns.boxplot(\n",
    "    x=\"genetic\",\n",
    "    y=\"euclidean\",\n",
    "    data=mds,\n",
    "    ax=ax2,\n",
    "    fliersize=0.5,\n",
    "    linewidth=0.25,\n",
    "    color=\"lightblue\",\n",
    ")\n",
    "\n",
    "ax2.set_xlabel(\"Genetic distance\")\n",
    "ax2.set_ylabel(\"Euclidean distance\")\n",
    "ax2.set_xticks(np.arange(min(mds[\"genetic\"]), max(mds[\"genetic\"])+10, 20.0))\n",
    "\n",
    "# t-SNE\n",
    "metadata_tsne = metadata.query(\"embedding == 't-sne'\")\n",
    "\n",
    "ax3 = sns.boxplot(\n",
    "    x=\"genetic\",\n",
    "    y=\"euclidean\",\n",
    "    data=tsne,\n",
    "    ax=ax3,\n",
    "    fliersize=0.5,\n",
    "    linewidth=0.25,\n",
    "    color=\"lightblue\",\n",
    ")\n",
    "\n",
    "ax3.set_xlabel(\"Genetic distance\")\n",
    "ax3.set_ylabel(\"Euclidean distance\")\n",
    "ax3.set_xticks(np.arange(min(tsne[\"genetic\"]), max(tsne[\"genetic\"])+10, 20.0))\n",
    "\n",
    "# UMAP\n",
    "metadata_umap = metadata.query(\"embedding == 'umap'\")\n",
    "\n",
    "ax4 = sns.boxplot(\n",
    "    x=\"genetic\",\n",
    "    y=\"euclidean\",\n",
    "    data=umap,\n",
    "    ax=ax4,\n",
    "    fliersize=0.5,\n",
    "    linewidth=0.25,\n",
    "    color=\"lightblue\",\n",
    ")\n",
    "\n",
    "ax4.set_xlabel(\"Genetic distance\")\n",
    "ax4.set_ylabel(\"Euclidean distance\")\n",
    "ax4.set_xticks(np.arange(min(umap[\"genetic\"]), max(umap[\"genetic\"])+10, 20.0))\n",
    "\n",
    "#plt.savefig(scatterplot_chart, dpi=300)\n",
    "plt.savefig(scatterplot_chart, dpi=300)"
   ]
  }
 ],
 "metadata": {
  "kernelspec": {
   "display_name": "Python 3 (ipykernel)",
   "language": "python",
   "name": "python3"
  },
  "language_info": {
   "codemirror_mode": {
    "name": "ipython",
    "version": 3
   },
   "file_extension": ".py",
   "mimetype": "text/x-python",
   "name": "python",
   "nbconvert_exporter": "python",
   "pygments_lexer": "ipython3",
   "version": "3.7.12"
  }
 },
 "nbformat": 4,
 "nbformat_minor": 5
}
