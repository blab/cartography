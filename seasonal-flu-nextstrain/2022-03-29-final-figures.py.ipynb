{
 "cells": [
  {
   "cell_type": "code",
   "execution_count": null,
   "id": "aba2f7c8",
   "metadata": {},
   "outputs": [],
   "source": [
    "import sys\n",
    "sys.path.append(\"notebooks/scripts/\")"
   ]
  },
  {
   "cell_type": "code",
   "execution_count": null,
   "id": "c21ada08",
   "metadata": {},
   "outputs": [],
   "source": [
    "import altair as alt\n",
    "import matplotlib as mpl\n",
    "import matplotlib.pyplot as plt\n",
    "import pandas as pd\n",
    "import seaborn as sns\n",
    "\n",
    "from Helpers import linking_tree_with_plots_brush\n",
    "\n",
    "%matplotlib inline"
   ]
  },
  {
   "cell_type": "markdown",
   "id": "8a6709a2",
   "metadata": {},
   "source": [
    "## Define inputs, outputs, and parameters"
   ]
  },
  {
   "cell_type": "code",
   "execution_count": null,
   "id": "4cd386cb",
   "metadata": {},
   "outputs": [],
   "source": [
    "colors_path = snakemake.input.colors\n",
    "embeddings_path = snakemake.input.annotated_embeddings\n",
    "accuracy_path = snakemake.input.accuracy_table\n",
    "explained_variance_pca = snakemake.input.explained_variance_pca"
   ]
  },
  {
   "cell_type": "code",
   "execution_count": null,
   "id": "c847ad2a",
   "metadata": {},
   "outputs": [],
   "source": [
    "interactive_chart_by_clades = snakemake.output.fullChart\n",
    "static_chart_by_clades = snakemake.output.fullChartPNG\n",
    "\n",
    "interactive_chart_by_clusters = snakemake.output.fullChartHDBSCAN\n",
    "static_chart_by_clusters = snakemake.output.fullChartHDBSCANPNG\n",
    "\n",
    "interactive_mds_chart = snakemake.output.MDS_Supplement\n",
    "static_mds_chart = snakemake.output.MDS_Supplement_PNG"
   ]
  },
  {
   "cell_type": "code",
   "execution_count": null,
   "id": "b8a16345",
   "metadata": {},
   "outputs": [],
   "source": [
    "sns.set_style(\"ticks\")\n",
    "\n",
    "# Disable top and right spines.\n",
    "mpl.rcParams['axes.spines.top'] = False\n",
    "mpl.rcParams['axes.spines.right'] = False\n",
    "\n",
    "# Display and save figures at higher resolution for presentations and manuscripts.\n",
    "mpl.rcParams['savefig.dpi'] = 300\n",
    "mpl.rcParams['figure.dpi'] = 120\n",
    "\n",
    "# Display text at sizes large enough for presentations and manuscripts.\n",
    "mpl.rcParams['font.weight'] = \"normal\"\n",
    "mpl.rcParams['axes.labelweight'] = \"normal\"\n",
    "mpl.rcParams['font.size'] = 14\n",
    "mpl.rcParams['axes.labelsize'] = 14\n",
    "mpl.rcParams['legend.fontsize'] = 10\n",
    "mpl.rcParams['xtick.labelsize'] = 14\n",
    "mpl.rcParams['ytick.labelsize'] = 14\n",
    "mpl.rcParams['axes.titlesize'] = 14\n",
    "mpl.rc('text', usetex=False)"
   ]
  },
  {
   "cell_type": "code",
   "execution_count": null,
   "id": "735e9bb6",
   "metadata": {},
   "outputs": [],
   "source": [
    "max_items_per_column_in_legend = 16"
   ]
  },
  {
   "cell_type": "markdown",
   "id": "255b258f",
   "metadata": {},
   "source": [
    "## Load data"
   ]
  },
  {
   "cell_type": "code",
   "execution_count": null,
   "id": "05af41cb",
   "metadata": {},
   "outputs": [],
   "source": [
    "embeddings_df = pd.read_csv(embeddings_path, sep=\"\\t\")"
   ]
  },
  {
   "cell_type": "code",
   "execution_count": null,
   "id": "01e5961b",
   "metadata": {},
   "outputs": [],
   "source": [
    "embeddings_df = embeddings_df.rename(\n",
    "    columns={\n",
    "        \"numdate\": \"date\",\n",
    "    }\n",
    ")"
   ]
  },
  {
   "cell_type": "code",
   "execution_count": null,
   "id": "a7224da1",
   "metadata": {},
   "outputs": [],
   "source": [
    "clades_to_plot = sorted(embeddings_df[\"clade_membership\"].drop_duplicates().values)"
   ]
  },
  {
   "cell_type": "code",
   "execution_count": null,
   "id": "b6ee15f1",
   "metadata": {},
   "outputs": [],
   "source": [
    "clades_to_plot"
   ]
  },
  {
   "cell_type": "code",
   "execution_count": null,
   "id": "de8bc9d4",
   "metadata": {},
   "outputs": [],
   "source": [
    "len(clades_to_plot)"
   ]
  },
  {
   "cell_type": "code",
   "execution_count": null,
   "id": "697b4c7a",
   "metadata": {},
   "outputs": [],
   "source": [
    "colors = pd.read_csv(colors_path, sep=\"\\t\", names=[i for i in range(0,101)], nrows=101)"
   ]
  },
  {
   "cell_type": "code",
   "execution_count": null,
   "id": "f392e626",
   "metadata": {},
   "outputs": [],
   "source": [
    "colors.head(16)"
   ]
  },
  {
   "cell_type": "code",
   "execution_count": null,
   "id": "5e135bbc",
   "metadata": {},
   "outputs": [],
   "source": [
    "domain = clades_to_plot"
   ]
  },
  {
   "cell_type": "code",
   "execution_count": null,
   "id": "28c2742c",
   "metadata": {},
   "outputs": [],
   "source": [
    "clade_color_range = colors.iloc[len(clades_to_plot) - 1].dropna().tolist()"
   ]
  },
  {
   "cell_type": "code",
   "execution_count": null,
   "id": "57ada75a",
   "metadata": {},
   "outputs": [],
   "source": [
    "len(clade_color_range)"
   ]
  },
  {
   "cell_type": "code",
   "execution_count": null,
   "id": "40527d62",
   "metadata": {},
   "outputs": [],
   "source": [
    "domain.append(\"other\")"
   ]
  },
  {
   "cell_type": "code",
   "execution_count": null,
   "id": "75fb5a9d",
   "metadata": {},
   "outputs": [],
   "source": [
    "clade_color_range.append(\"#999999\")"
   ]
  },
  {
   "cell_type": "code",
   "execution_count": null,
   "id": "34cf72f0",
   "metadata": {},
   "outputs": [],
   "source": [
    "embeddings_df[\"clade_membership_color\"] = embeddings_df[\"clade_membership\"].apply(\n",
    "    lambda clade: clade if clade in clades_to_plot else \"other\"\n",
    ")"
   ]
  },
  {
   "cell_type": "code",
   "execution_count": null,
   "id": "66b0e3f8",
   "metadata": {},
   "outputs": [],
   "source": [
    "embeddings_df.head()"
   ]
  },
  {
   "cell_type": "code",
   "execution_count": null,
   "id": "0a79169c",
   "metadata": {},
   "outputs": [],
   "source": [
    "embeddings_df[\"clade_membership\"].value_counts()"
   ]
  },
  {
   "cell_type": "code",
   "execution_count": null,
   "id": "a9004d4f",
   "metadata": {},
   "outputs": [],
   "source": [
    "accuracy_df = pd.read_csv(accuracy_path)"
   ]
  },
  {
   "cell_type": "code",
   "execution_count": null,
   "id": "d0ed2b2f",
   "metadata": {},
   "outputs": [],
   "source": [
    "accuracy_df.head()"
   ]
  },
  {
   "cell_type": "code",
   "execution_count": null,
   "id": "6dc6f2ee",
   "metadata": {},
   "outputs": [],
   "source": [
    "explained_variance_df = pd.read_csv(explained_variance_pca)"
   ]
  },
  {
   "cell_type": "code",
   "execution_count": null,
   "id": "efa98b2b",
   "metadata": {},
   "outputs": [],
   "source": [
    "explained_variance_df.head()"
   ]
  },
  {
   "cell_type": "markdown",
   "id": "13abf271",
   "metadata": {},
   "source": [
    "## Plot PCA variance and embeddings"
   ]
  },
  {
   "cell_type": "code",
   "execution_count": null,
   "id": "e03957dc",
   "metadata": {},
   "outputs": [],
   "source": [
    "fig, ax = plt.subplots(1, 1, figsize=(6, 4))\n",
    "ax.plot(\n",
    "    explained_variance_df[\"principal components\"],\n",
    "    explained_variance_df[\"explained variance\"],\n",
    "    \"o\"\n",
    ")\n",
    "\n",
    "ax.set_xlabel(\"Principal Component\")\n",
    "ax.set_ylabel(\"Explained Variance\")\n",
    "ax.set_ylim(bottom=0)\n",
    "\n",
    "plt.tight_layout()"
   ]
  },
  {
   "cell_type": "code",
   "execution_count": null,
   "id": "af0f71a5",
   "metadata": {},
   "outputs": [],
   "source": [
    "explained_variance_PCA = explained_variance_df[\"explained variance\"].values.tolist()"
   ]
  },
  {
   "cell_type": "code",
   "execution_count": null,
   "id": "fa202441",
   "metadata": {},
   "outputs": [],
   "source": [
    "pcs = explained_variance_df[\"principal components\"].values"
   ]
  },
  {
   "cell_type": "code",
   "execution_count": null,
   "id": "ced622b0",
   "metadata": {},
   "outputs": [],
   "source": [
    "pcs"
   ]
  },
  {
   "cell_type": "code",
   "execution_count": null,
   "id": "6939d407",
   "metadata": {},
   "outputs": [],
   "source": [
    "list_of_chart = linking_tree_with_plots_brush(\n",
    "    embeddings_df,\n",
    "    [f\"pca{pc}\" for pc in pcs],\n",
    "    [\n",
    "        f\"PC {pc} (Explained Variance : {variance * 100:.2f}%)\"\n",
    "        for pc, variance in zip(pcs, explained_variance_PCA)\n",
    "    ],\n",
    "    \"clade_membership_color:N\",\n",
    "    \"Clade membership\",\n",
    "    ['strain', \"clade_membership\"],\n",
    "    domain,\n",
    "    clade_color_range,\n",
    ")"
   ]
  },
  {
   "cell_type": "code",
   "execution_count": null,
   "id": "dceefd77",
   "metadata": {
    "scrolled": true
   },
   "outputs": [],
   "source": [
    "len(list_of_chart)"
   ]
  },
  {
   "cell_type": "code",
   "execution_count": null,
   "id": "97d2a8c6",
   "metadata": {},
   "outputs": [],
   "source": [
    "PCAFluBrush = ((list_of_chart[0]) & (list_of_chart[1])).configure_axis(grid=False).configure_view(stroke=None)\n",
    "PCAFluBrush"
   ]
  },
  {
   "cell_type": "markdown",
   "id": "98582ae8",
   "metadata": {},
   "source": [
    "## Plot MDS embeddings"
   ]
  },
  {
   "cell_type": "code",
   "execution_count": null,
   "id": "ffaeb3f1",
   "metadata": {},
   "outputs": [],
   "source": [
    "list_of_chart = linking_tree_with_plots_brush(\n",
    "    embeddings_df,\n",
    "    [\"mds1\", \"mds2\", \"mds2\", \"mds3\"],\n",
    "    [\"MDS 1\", \"MDS 2\", \"MDS 2\", \"MDS 3\"],\n",
    "    \"clade_membership_color:N\",\n",
    "    \"Clade membership\",\n",
    "    ['strain', \"clade_membership\"],\n",
    "    domain,\n",
    "    clade_color_range,\n",
    ")"
   ]
  },
  {
   "cell_type": "code",
   "execution_count": null,
   "id": "390de04d",
   "metadata": {},
   "outputs": [],
   "source": [
    "MDSFluBrush = ((list_of_chart[0]) & (list_of_chart[1] | list_of_chart[2])).configure_axis(grid=False).configure_view(stroke=None)\n",
    "MDSFluBrush"
   ]
  },
  {
   "cell_type": "code",
   "execution_count": null,
   "id": "a31a5da5",
   "metadata": {},
   "outputs": [],
   "source": [
    "MDSFluBrush.save(interactive_mds_chart)\n",
    "MDSFluBrush.save(static_mds_chart, format=\"png\", scale_factor=2.0)"
   ]
  },
  {
   "cell_type": "markdown",
   "id": "0d6bed96",
   "metadata": {},
   "source": [
    "## Plot all embeddings by clade"
   ]
  },
  {
   "cell_type": "code",
   "execution_count": null,
   "id": "fc63f17f",
   "metadata": {},
   "outputs": [],
   "source": [
    "data = linking_tree_with_plots_brush(\n",
    "    embeddings_df,\n",
    "    ['mds1', 'mds2', 'tsne_x', 'tsne_y', 'pca1', 'pca2', 'umap_x', 'umap_y'],\n",
    "    [\n",
    "        'MDS 1',\n",
    "        'MDS 2',\n",
    "        't-SNE 1',\n",
    "        't-SNE 2',\n",
    "        'PC 1 (Explained Variance : {}%'.format(round(explained_variance_PCA[0]*100,2)) + \")\",\n",
    "        'PC 2 (Explained Variance : {}%'.format(round(explained_variance_PCA[1]*100,2)) + \")\",\n",
    "        'UMAP 1',\n",
    "        'UMAP 2'\n",
    "    ],\n",
    "    'clade_membership_color:N',\n",
    "    \"Clade membership\",\n",
    "    ['strain', 'clade_membership'],\n",
    "    domain,\n",
    "    clade_color_range\n",
    ")"
   ]
  },
  {
   "cell_type": "code",
   "execution_count": null,
   "id": "9dd8014f",
   "metadata": {},
   "outputs": [],
   "source": [
    "PCAMDS = data[3]|data[1]\n",
    "TSNEUMAP = data[2]|data[4]\n",
    "embeddings = alt.vconcat(PCAMDS,TSNEUMAP)\n",
    "embeddings\n",
    "fullChart = alt.vconcat(data[0],embeddings).configure_axis(grid=False).configure_view(stroke=None)\n",
    "fullChart"
   ]
  },
  {
   "cell_type": "code",
   "execution_count": null,
   "id": "2413128e",
   "metadata": {},
   "outputs": [],
   "source": [
    "fullChart.save(interactive_chart_by_clades)\n",
    "fullChart.save(static_chart_by_clades, format=\"png\", scale_factor=2.0)"
   ]
  },
  {
   "cell_type": "markdown",
   "id": "7dfb3791",
   "metadata": {},
   "source": [
    "## Plot all embeddings by cluster"
   ]
  },
  {
   "cell_type": "code",
   "execution_count": null,
   "id": "4029a7a7",
   "metadata": {},
   "outputs": [],
   "source": [
    "def build_color_range_for_domain(domain, colors, value_for_unassigned=None):\n",
    "    # Rows are zero-indexed, so to get N colors, we select row N - 1.\n",
    "    range_ = colors.loc[len(domain) - 1].dropna().values.tolist()\n",
    "   \n",
    "    # Replace known values for \"unassigned\" clade or cluster labels.\n",
    "    index_for_unassigned = None\n",
    "    if value_for_unassigned is not None and value_for_unassigned in domain:\n",
    "        index_for_unassigned = domain.index(value_for_unassigned)\n",
    "        range_[index_for_unassigned] = \"#999999\"\n",
    "        \n",
    "    return range_"
   ]
  },
  {
   "cell_type": "code",
   "execution_count": null,
   "id": "c24b2faf",
   "metadata": {},
   "outputs": [],
   "source": [
    "pca_label_color_domain =  sorted(embeddings_df[\"pca_label\"].drop_duplicates().dropna().values)\n",
    "pca_label_color_range = build_color_range_for_domain(\n",
    "    pca_label_color_domain,\n",
    "    colors,\n",
    "    value_for_unassigned=-1,\n",
    ")"
   ]
  },
  {
   "cell_type": "code",
   "execution_count": null,
   "id": "1c86c6bf",
   "metadata": {},
   "outputs": [],
   "source": [
    "pca_legend_columns = 2 if len(pca_label_color_domain) > max_items_per_column_in_legend else 1"
   ]
  },
  {
   "cell_type": "code",
   "execution_count": null,
   "id": "e0f10101",
   "metadata": {},
   "outputs": [],
   "source": [
    "pca_by_cluster = linking_tree_with_plots_brush(\n",
    "    embeddings_df,\n",
    "    ['pca1', 'pca2'],\n",
    "    [\n",
    "        'PC 1 (Explained Variance : {}%'.format(round(explained_variance_PCA[0] * 100, 2)) + \")\",\n",
    "        'PC 2 (Explained Variance : {}%'.format(round(explained_variance_PCA[1] * 100, 2)) + \")\"\n",
    "    ],\n",
    "    'pca_label:N',\n",
    "    \"PCA cluster\",\n",
    "    ['strain', 'clade_membership', 'pca_label'],\n",
    "    pca_label_color_domain,\n",
    "    pca_label_color_range,\n",
    "    legend_columns=pca_legend_columns,\n",
    ")"
   ]
  },
  {
   "cell_type": "code",
   "execution_count": null,
   "id": "484d07c7",
   "metadata": {},
   "outputs": [],
   "source": [
    "mds_label_color_domain =  sorted(embeddings_df[\"mds_label\"].drop_duplicates().dropna().values)\n",
    "mds_label_color_range = build_color_range_for_domain(\n",
    "    mds_label_color_domain,\n",
    "    colors,\n",
    "    value_for_unassigned=-1,\n",
    ")"
   ]
  },
  {
   "cell_type": "code",
   "execution_count": null,
   "id": "d0c1f403",
   "metadata": {},
   "outputs": [],
   "source": [
    "mds_legend_columns = 2 if len(mds_label_color_domain) > max_items_per_column_in_legend else 1"
   ]
  },
  {
   "cell_type": "code",
   "execution_count": null,
   "id": "898f1a62",
   "metadata": {},
   "outputs": [],
   "source": [
    "mds_by_cluster = linking_tree_with_plots_brush(\n",
    "    embeddings_df,\n",
    "    ['mds1', 'mds2'],\n",
    "    ['MDS 1', 'MDS 2'],\n",
    "    'mds_label:N',\n",
    "    \"MDS cluster\",\n",
    "    ['strain', 'clade_membership', 'mds_label'],\n",
    "    mds_label_color_domain,\n",
    "    mds_label_color_range,\n",
    "    legend_columns=mds_legend_columns,\n",
    ")"
   ]
  },
  {
   "cell_type": "code",
   "execution_count": null,
   "id": "30385804",
   "metadata": {},
   "outputs": [],
   "source": [
    "tsne_label_color_domain =  sorted(embeddings_df[\"t-sne_label\"].drop_duplicates().dropna().values)\n",
    "tsne_label_color_range = build_color_range_for_domain(\n",
    "    tsne_label_color_domain,\n",
    "    colors,\n",
    "    value_for_unassigned=-1,\n",
    ")"
   ]
  },
  {
   "cell_type": "code",
   "execution_count": null,
   "id": "d8a4946a",
   "metadata": {},
   "outputs": [],
   "source": [
    "tsne_legend_columns = 2 if len(tsne_label_color_domain) > max_items_per_column_in_legend else 1"
   ]
  },
  {
   "cell_type": "code",
   "execution_count": null,
   "id": "14fe85d2",
   "metadata": {},
   "outputs": [],
   "source": [
    "tsne_by_cluster = linking_tree_with_plots_brush(\n",
    "    embeddings_df,\n",
    "    ['tsne_x', 'tsne_y'],\n",
    "    ['t-SNE 1', 't-SNE 2'],\n",
    "    't-sne_label:N',\n",
    "    \"t-SNE cluster\",\n",
    "    ['strain', 'clade_membership', 't-sne_label'],\n",
    "    tsne_label_color_domain,\n",
    "    tsne_label_color_range,\n",
    "    legend_columns=tsne_legend_columns,\n",
    ")"
   ]
  },
  {
   "cell_type": "code",
   "execution_count": null,
   "id": "dbddb568",
   "metadata": {},
   "outputs": [],
   "source": [
    "umap_label_color_domain =  sorted(embeddings_df[\"umap_label\"].drop_duplicates().dropna().values)\n",
    "umap_label_color_range = build_color_range_for_domain(\n",
    "    umap_label_color_domain,\n",
    "    colors,\n",
    "    value_for_unassigned=-1,\n",
    ")"
   ]
  },
  {
   "cell_type": "code",
   "execution_count": null,
   "id": "793607ae",
   "metadata": {},
   "outputs": [],
   "source": [
    "umap_legend_columns = 2 if len(umap_label_color_domain) > max_items_per_column_in_legend else 1"
   ]
  },
  {
   "cell_type": "code",
   "execution_count": null,
   "id": "fa7ce1c6",
   "metadata": {},
   "outputs": [],
   "source": [
    "umap_by_cluster = linking_tree_with_plots_brush(\n",
    "    embeddings_df,\n",
    "    ['umap_x', 'umap_y'],\n",
    "    ['UMAP 1', 'UMAP 2'],\n",
    "    'umap_label:N',\n",
    "    \"UMAP cluster\",\n",
    "    ['strain', 'clade_membership', 'umap_label'],\n",
    "    umap_label_color_domain,\n",
    "    umap_label_color_range,\n",
    "    legend_columns=umap_legend_columns,\n",
    ")"
   ]
  },
  {
   "cell_type": "code",
   "execution_count": null,
   "id": "2a7c9417",
   "metadata": {},
   "outputs": [],
   "source": [
    "accuracy_by_method = dict(accuracy_df.loc[:, [\"method\", \"normalized_vi\"]].values)"
   ]
  },
  {
   "cell_type": "code",
   "execution_count": null,
   "id": "fb1314bb",
   "metadata": {},
   "outputs": [],
   "source": [
    "accuracy_by_method"
   ]
  },
  {
   "cell_type": "code",
   "execution_count": null,
   "id": "89c04177",
   "metadata": {},
   "outputs": [],
   "source": [
    "composed_pca_by_cluster = pca_by_cluster[0] | pca_by_cluster[1].properties(\n",
    "    title= f\"Normalized VI: {accuracy_by_method['pca']:.2f}\"\n",
    ")\n",
    "\n",
    "composed_mds_by_cluster = mds_by_cluster[0] | mds_by_cluster[1].properties(\n",
    "    title= f\"Normalized VI: {accuracy_by_method['mds']:.2f}\"\n",
    ")\n",
    "\n",
    "composed_tsne_by_cluster = tsne_by_cluster[0] | tsne_by_cluster[1].properties(\n",
    "    title= f\"Normalized VI: {accuracy_by_method['t-sne']:.2f}\"\n",
    ")\n",
    "\n",
    "composed_umap_by_cluster = umap_by_cluster[0] | umap_by_cluster[1].properties(\n",
    "    title= f\"Normalized VI: {accuracy_by_method['umap']:.2f}\"\n",
    ")"
   ]
  },
  {
   "cell_type": "code",
   "execution_count": null,
   "id": "9fd5fde1",
   "metadata": {},
   "outputs": [],
   "source": [
    "pca_mds = alt.vconcat(composed_pca_by_cluster, composed_mds_by_cluster).resolve_scale(color='independent')\n",
    "tsne_umap = alt.vconcat(composed_tsne_by_cluster, composed_umap_by_cluster).resolve_scale(color='independent')\n",
    "full_chart_by_cluster = alt.vconcat(pca_mds, tsne_umap).resolve_scale(color='independent').configure_axis(grid=False).configure_view(stroke=None)\n",
    "full_chart_by_cluster"
   ]
  },
  {
   "cell_type": "code",
   "execution_count": null,
   "id": "9adfa314",
   "metadata": {},
   "outputs": [],
   "source": [
    "full_chart_by_cluster.save(interactive_chart_by_clusters)\n",
    "full_chart_by_cluster.save(static_chart_by_clusters, format=\"png\", scale_factor=2.0)"
   ]
  },
  {
   "cell_type": "code",
   "execution_count": null,
   "id": "51603b4f",
   "metadata": {},
   "outputs": [],
   "source": []
  }
 ],
 "metadata": {
  "kernelspec": {
   "display_name": "Python 3 (ipykernel)",
   "language": "python",
   "name": "python3"
  },
  "language_info": {
   "codemirror_mode": {
    "name": "ipython",
    "version": 3
   },
   "file_extension": ".py",
   "mimetype": "text/x-python",
   "name": "python",
   "nbconvert_exporter": "python",
   "pygments_lexer": "ipython3",
   "version": "3.9.18"
  }
 },
 "nbformat": 4,
 "nbformat_minor": 5
}
