{
 "cells": [
  {
   "cell_type": "code",
   "execution_count": null,
   "id": "aba2f7c8",
   "metadata": {},
   "outputs": [],
   "source": [
    "import sys\n",
    "sys.path.append(\"notebooks/scripts/\")"
   ]
  },
  {
   "cell_type": "code",
   "execution_count": null,
   "id": "c21ada08",
   "metadata": {},
   "outputs": [],
   "source": [
    "from collections import defaultdict\n",
    "\n",
    "import altair as alt\n",
    "import Bio.Phylo\n",
    "import matplotlib as mpl\n",
    "import matplotlib.pyplot as plt\n",
    "import numpy as np\n",
    "import pandas as pd\n",
    "import seaborn as sns\n",
    "\n",
    "from Helpers import linking_tree_with_plots_brush\n",
    "\n",
    "%matplotlib inline"
   ]
  },
  {
   "cell_type": "markdown",
   "id": "8a6709a2",
   "metadata": {},
   "source": [
    "## Define inputs, outputs, and parameters"
   ]
  },
  {
   "cell_type": "code",
   "execution_count": null,
   "id": "4cd386cb",
   "metadata": {},
   "outputs": [],
   "source": [
    "colors_path = snakemake.input.colors\n",
    "embeddings_path = snakemake.input.annotated_embeddings\n",
    "accuracy_path = snakemake.input.accuracy_table\n",
    "explained_variance_pca = snakemake.input.explained_variance_pca"
   ]
  },
  {
   "cell_type": "code",
   "execution_count": null,
   "id": "c847ad2a",
   "metadata": {},
   "outputs": [],
   "source": [
    "interactive_chart_by_clades = snakemake.output.fullChart\n",
    "static_chart_by_clades = snakemake.output.fullChartPNG\n",
    "\n",
    "interactive_chart_by_clusters = snakemake.output.fullChartHDBSCAN\n",
    "static_chart_by_clusters = snakemake.output.fullChartHDBSCANPNG\n",
    "\n",
    "interactive_mds_chart = snakemake.output.MDS_Supplement\n",
    "static_mds_chart = snakemake.output.MDS_Supplement_PNG"
   ]
  },
  {
   "cell_type": "code",
   "execution_count": null,
   "id": "b8a16345",
   "metadata": {},
   "outputs": [],
   "source": [
    "sns.set_style(\"ticks\")\n",
    "\n",
    "# Disable top and right spines.\n",
    "mpl.rcParams['axes.spines.top'] = False\n",
    "mpl.rcParams['axes.spines.right'] = False\n",
    "\n",
    "# Display and save figures at higher resolution for presentations and manuscripts.\n",
    "mpl.rcParams['savefig.dpi'] = 300\n",
    "mpl.rcParams['figure.dpi'] = 120\n",
    "\n",
    "# Display text at sizes large enough for presentations and manuscripts.\n",
    "mpl.rcParams['font.weight'] = \"normal\"\n",
    "mpl.rcParams['axes.labelweight'] = \"normal\"\n",
    "mpl.rcParams['font.size'] = 14\n",
    "mpl.rcParams['axes.labelsize'] = 14\n",
    "mpl.rcParams['legend.fontsize'] = 10\n",
    "mpl.rcParams['xtick.labelsize'] = 14\n",
    "mpl.rcParams['ytick.labelsize'] = 14\n",
    "mpl.rcParams['axes.titlesize'] = 14\n",
    "mpl.rc('text', usetex=False)"
   ]
  },
  {
   "cell_type": "code",
   "execution_count": null,
   "id": "735e9bb6",
   "metadata": {},
   "outputs": [],
   "source": [
    "max_items_per_column_in_legend = 16"
   ]
  },
  {
   "cell_type": "markdown",
   "id": "255b258f",
   "metadata": {},
   "source": [
    "## Load data"
   ]
  },
  {
   "cell_type": "code",
   "execution_count": null,
   "id": "05af41cb",
   "metadata": {},
   "outputs": [],
   "source": [
    "embeddings_df = pd.read_csv(embeddings_path, sep=\"\\t\")"
   ]
  },
  {
   "cell_type": "code",
   "execution_count": null,
   "id": "01e5961b",
   "metadata": {},
   "outputs": [],
   "source": [
    "embeddings_df = embeddings_df.rename(\n",
    "    columns={\n",
    "        \"numdate\": \"date\",\n",
    "    }\n",
    ")"
   ]
  },
  {
   "cell_type": "code",
   "execution_count": null,
   "id": "5079fbf5",
   "metadata": {},
   "outputs": [],
   "source": [
    "clade_counts = embeddings_df[\"clade_membership\"].value_counts()"
   ]
  },
  {
   "cell_type": "code",
   "execution_count": null,
   "id": "21c16a8e",
   "metadata": {},
   "outputs": [],
   "source": [
    "clade_counts"
   ]
  },
  {
   "cell_type": "code",
   "execution_count": null,
   "id": "747480d2",
   "metadata": {},
   "outputs": [],
   "source": [
    "clades_to_plot = sorted(clade_counts[clade_counts >= 10].index.values)"
   ]
  },
  {
   "cell_type": "code",
   "execution_count": null,
   "id": "b6ee15f1",
   "metadata": {},
   "outputs": [],
   "source": [
    "clades_to_plot"
   ]
  },
  {
   "cell_type": "code",
   "execution_count": null,
   "id": "de8bc9d4",
   "metadata": {},
   "outputs": [],
   "source": [
    "len(clades_to_plot)"
   ]
  },
  {
   "cell_type": "code",
   "execution_count": null,
   "id": "697b4c7a",
   "metadata": {},
   "outputs": [],
   "source": [
    "colors = pd.read_csv(colors_path, sep=\"\\t\", names=[i for i in range(0,101)], nrows=101)"
   ]
  },
  {
   "cell_type": "code",
   "execution_count": null,
   "id": "f392e626",
   "metadata": {},
   "outputs": [],
   "source": [
    "colors.head(16)"
   ]
  },
  {
   "cell_type": "code",
   "execution_count": null,
   "id": "5e135bbc",
   "metadata": {},
   "outputs": [],
   "source": [
    "domain = clades_to_plot"
   ]
  },
  {
   "cell_type": "code",
   "execution_count": null,
   "id": "28c2742c",
   "metadata": {},
   "outputs": [],
   "source": [
    "clade_color_range = colors.iloc[len(clades_to_plot) - 1].dropna().tolist()"
   ]
  },
  {
   "cell_type": "code",
   "execution_count": null,
   "id": "57ada75a",
   "metadata": {},
   "outputs": [],
   "source": [
    "len(clade_color_range)"
   ]
  },
  {
   "cell_type": "code",
   "execution_count": null,
   "id": "40527d62",
   "metadata": {},
   "outputs": [],
   "source": [
    "domain.append(\"other\")"
   ]
  },
  {
   "cell_type": "code",
   "execution_count": null,
   "id": "75fb5a9d",
   "metadata": {},
   "outputs": [],
   "source": [
    "clade_color_range.append(\"#999999\")"
   ]
  },
  {
   "cell_type": "code",
   "execution_count": null,
   "id": "34cf72f0",
   "metadata": {},
   "outputs": [],
   "source": [
    "embeddings_df[\"clade_membership_color\"] = embeddings_df[\"clade_membership\"].apply(\n",
    "    lambda clade: clade if clade in clades_to_plot else \"other\"\n",
    ")"
   ]
  },
  {
   "cell_type": "code",
   "execution_count": null,
   "id": "66b0e3f8",
   "metadata": {},
   "outputs": [],
   "source": [
    "embeddings_df.head()"
   ]
  },
  {
   "cell_type": "code",
   "execution_count": null,
   "id": "0a79169c",
   "metadata": {},
   "outputs": [],
   "source": [
    "embeddings_df[\"clade_membership_color\"].value_counts()"
   ]
  },
  {
   "cell_type": "code",
   "execution_count": null,
   "id": "a9004d4f",
   "metadata": {},
   "outputs": [],
   "source": [
    "accuracy_df = pd.read_csv(accuracy_path)"
   ]
  },
  {
   "cell_type": "code",
   "execution_count": null,
   "id": "d0ed2b2f",
   "metadata": {},
   "outputs": [],
   "source": [
    "accuracy_df.head()"
   ]
  },
  {
   "cell_type": "code",
   "execution_count": null,
   "id": "6dc6f2ee",
   "metadata": {},
   "outputs": [],
   "source": [
    "explained_variance_df = pd.read_csv(explained_variance_pca)"
   ]
  },
  {
   "cell_type": "code",
   "execution_count": null,
   "id": "efa98b2b",
   "metadata": {},
   "outputs": [],
   "source": [
    "explained_variance_df.head()"
   ]
  },
  {
   "cell_type": "markdown",
   "id": "13abf271",
   "metadata": {},
   "source": [
    "## Plot PCA variance and embeddings"
   ]
  },
  {
   "cell_type": "code",
   "execution_count": null,
   "id": "e03957dc",
   "metadata": {},
   "outputs": [],
   "source": [
    "fig, ax = plt.subplots(1, 1, figsize=(6, 4))\n",
    "ax.plot(\n",
    "    explained_variance_df[\"principal components\"],\n",
    "    explained_variance_df[\"explained variance\"],\n",
    "    \"o\"\n",
    ")\n",
    "\n",
    "ax.set_xlabel(\"Principal Component\")\n",
    "ax.set_ylabel(\"Explained Variance\")\n",
    "ax.set_ylim(bottom=0)\n",
    "\n",
    "plt.tight_layout()"
   ]
  },
  {
   "cell_type": "code",
   "execution_count": null,
   "id": "af0f71a5",
   "metadata": {},
   "outputs": [],
   "source": [
    "explained_variance_PCA = explained_variance_df[\"explained variance\"].values.tolist()"
   ]
  },
  {
   "cell_type": "code",
   "execution_count": null,
   "id": "fa202441",
   "metadata": {},
   "outputs": [],
   "source": [
    "pcs = explained_variance_df[\"principal components\"].values"
   ]
  },
  {
   "cell_type": "code",
   "execution_count": null,
   "id": "ced622b0",
   "metadata": {},
   "outputs": [],
   "source": [
    "pcs"
   ]
  },
  {
   "cell_type": "code",
   "execution_count": null,
   "id": "6939d407",
   "metadata": {},
   "outputs": [],
   "source": [
    "list_of_chart = linking_tree_with_plots_brush(\n",
    "    embeddings_df,\n",
    "    [f\"pca{pc}\" for pc in pcs],\n",
    "    [\n",
    "        f\"PC {pc} (Explained Variance : {variance * 100:.2f}%)\"\n",
    "        for pc, variance in zip(pcs, explained_variance_PCA)\n",
    "    ],\n",
    "    \"clade_membership_color:N\",\n",
    "    \"Clade membership\",\n",
    "    ['strain', \"clade_membership\"],\n",
    "    domain,\n",
    "    clade_color_range,\n",
    ")"
   ]
  },
  {
   "cell_type": "code",
   "execution_count": null,
   "id": "dceefd77",
   "metadata": {
    "scrolled": true
   },
   "outputs": [],
   "source": [
    "len(list_of_chart)"
   ]
  },
  {
   "cell_type": "code",
   "execution_count": null,
   "id": "97d2a8c6",
   "metadata": {},
   "outputs": [],
   "source": [
    "PCAFluBrush = ((list_of_chart[0]) & (list_of_chart[1])).configure_axis(grid=False).configure_view(stroke=None)\n",
    "PCAFluBrush"
   ]
  },
  {
   "cell_type": "markdown",
   "id": "98582ae8",
   "metadata": {},
   "source": [
    "## Plot MDS embeddings"
   ]
  },
  {
   "cell_type": "code",
   "execution_count": null,
   "id": "ffaeb3f1",
   "metadata": {},
   "outputs": [],
   "source": [
    "list_of_chart = linking_tree_with_plots_brush(\n",
    "    embeddings_df,\n",
    "    [\"mds1\", \"mds2\", \"mds2\", \"mds3\"],\n",
    "    [\"MDS 1\", \"MDS 2\", \"MDS 2\", \"MDS 3\"],\n",
    "    \"clade_membership_color:N\",\n",
    "    \"Clade membership\",\n",
    "    ['strain', \"clade_membership\"],\n",
    "    domain,\n",
    "    clade_color_range,\n",
    ")"
   ]
  },
  {
   "cell_type": "code",
   "execution_count": null,
   "id": "390de04d",
   "metadata": {},
   "outputs": [],
   "source": [
    "MDSFluBrush = ((list_of_chart[0]) & (list_of_chart[1] | list_of_chart[2])).configure_axis(grid=False).configure_view(stroke=None)\n",
    "MDSFluBrush"
   ]
  },
  {
   "cell_type": "code",
   "execution_count": null,
   "id": "a31a5da5",
   "metadata": {},
   "outputs": [],
   "source": [
    "MDSFluBrush.save(interactive_mds_chart)\n",
    "MDSFluBrush.save(static_mds_chart, format=\"png\", scale_factor=2.0)"
   ]
  },
  {
   "cell_type": "markdown",
   "id": "0d6bed96",
   "metadata": {},
   "source": [
    "## Plot all embeddings by clade"
   ]
  },
  {
   "cell_type": "code",
   "execution_count": null,
   "id": "fc63f17f",
   "metadata": {},
   "outputs": [],
   "source": [
    "data = linking_tree_with_plots_brush(\n",
    "    embeddings_df,\n",
    "    ['mds1', 'mds2', 'tsne_x', 'tsne_y', 'pca1', 'pca2', 'umap_x', 'umap_y'],\n",
    "    [\n",
    "        'MDS 1',\n",
    "        'MDS 2',\n",
    "        't-SNE 1',\n",
    "        't-SNE 2',\n",
    "        'PC 1 (Explained Variance : {}%'.format(round(explained_variance_PCA[0]*100,2)) + \")\",\n",
    "        'PC 2 (Explained Variance : {}%'.format(round(explained_variance_PCA[1]*100,2)) + \")\",\n",
    "        'UMAP 1',\n",
    "        'UMAP 2'\n",
    "    ],\n",
    "    'clade_membership_color:N',\n",
    "    \"Clade membership\",\n",
    "    ['strain', 'clade_membership'],\n",
    "    domain,\n",
    "    clade_color_range\n",
    ")"
   ]
  },
  {
   "cell_type": "code",
   "execution_count": null,
   "id": "abc90b37",
   "metadata": {},
   "outputs": [],
   "source": [
    "pca = data[3]"
   ]
  },
  {
   "cell_type": "code",
   "execution_count": null,
   "id": "ae49e17a",
   "metadata": {},
   "outputs": [],
   "source": [
    "pca"
   ]
  },
  {
   "cell_type": "code",
   "execution_count": null,
   "id": "7670badc",
   "metadata": {},
   "outputs": [],
   "source": [
    "mds = data[1]"
   ]
  },
  {
   "cell_type": "code",
   "execution_count": null,
   "id": "ab259574",
   "metadata": {},
   "outputs": [],
   "source": [
    "tree = Bio.Phylo.read(\"seasonal-flu-nextstrain/results/tree.nwk\", \"newick\")"
   ]
  },
  {
   "cell_type": "code",
   "execution_count": null,
   "id": "08ffa4d8",
   "metadata": {},
   "outputs": [],
   "source": [
    "tree"
   ]
  },
  {
   "cell_type": "code",
   "execution_count": null,
   "id": "16f81617",
   "metadata": {},
   "outputs": [],
   "source": [
    "tree.root.clades"
   ]
  },
  {
   "cell_type": "code",
   "execution_count": null,
   "id": "1ceefbd0",
   "metadata": {},
   "outputs": [],
   "source": [
    "embedding_columns = [\n",
    "    \"pca1\",\n",
    "    \"pca2\",\n",
    "    \"mds1\",\n",
    "    \"mds2\",\n",
    "    \"mds3\",\n",
    "    \"tsne_x\",\n",
    "    \"tsne_y\",\n",
    "    \"umap_x\",\n",
    "    \"umap_y\",\n",
    "]"
   ]
  },
  {
   "cell_type": "code",
   "execution_count": null,
   "id": "13228d13",
   "metadata": {},
   "outputs": [],
   "source": [
    "positions = defaultdict(dict)\n",
    "for node in tree.find_clades(order=\"postorder\"):\n",
    "    for embedding_column in embedding_columns:\n",
    "        if node.is_terminal():\n",
    "            positions[node.name][embedding_column] = embeddings_df.loc[\n",
    "                embeddings_df[\"strain\"] == node.name,\n",
    "                embedding_column\n",
    "            ].values[0]\n",
    "        else:\n",
    "            positions[node.name][embedding_column] = np.mean([\n",
    "                positions[child.name][embedding_column]\n",
    "                for child in node.clades\n",
    "            ])"
   ]
  },
  {
   "cell_type": "code",
   "execution_count": null,
   "id": "82f31af4",
   "metadata": {},
   "outputs": [],
   "source": [
    "len(positions)"
   ]
  },
  {
   "cell_type": "code",
   "execution_count": null,
   "id": "628cdfee",
   "metadata": {},
   "outputs": [],
   "source": [
    "line_segments_by_embedding = {\n",
    "    \"pca1\": {\n",
    "        \"pca2\": []\n",
    "    },\n",
    "    \"mds1\": {\n",
    "        \"mds2\": []\n",
    "    },\n",
    "    \"mds2\": {\n",
    "        \"mds3\": []\n",
    "    },\n",
    "    \"tsne_x\": {\n",
    "        \"tsne_y\": []\n",
    "    },\n",
    "    \"umap_x\": {\n",
    "        \"umap_y\": []\n",
    "    }\n",
    "}"
   ]
  },
  {
   "cell_type": "code",
   "execution_count": null,
   "id": "982a656a",
   "metadata": {},
   "outputs": [],
   "source": [
    "for node in tree.find_clades(order=\"preorder\", terminal=False):\n",
    "    for child in node.clades:\n",
    "        for x_axis in line_segments_by_embedding:\n",
    "            for y_axis in line_segments_by_embedding[x_axis]:\n",
    "                line_segments_by_embedding[x_axis][y_axis].append({\n",
    "                    f\"parent_{x_axis}\": positions[node.name][x_axis],\n",
    "                    x_axis: positions[child.name][x_axis],\n",
    "                    f\"parent_{y_axis}\": positions[node.name][y_axis],\n",
    "                    y_axis: positions[child.name][y_axis],\n",
    "                    \"clade_membership_color\": embeddings_df.loc[\n",
    "                        embeddings_df[\"strain\"] == node.name,\n",
    "                        \"clade_membership_color\"\n",
    "                    ].values[0],\n",
    "                    \"children\": node.count_terminals() if not child.is_terminal() else 0,\n",
    "                })"
   ]
  },
  {
   "cell_type": "code",
   "execution_count": null,
   "id": "185d922c",
   "metadata": {},
   "outputs": [],
   "source": [
    "def make_branch_lines_for_columns(column1, column2):\n",
    "    branches = pd.DataFrame(line_segments_by_embedding[column1][column2])\n",
    "    branches[\"children_weight\"] = branches[\"children\"] / branches[\"children\"].max()\n",
    "    branches[\"branch_width\"] = 1.0 + 3.0 * branches[\"children_weight\"]\n",
    "    \n",
    "    branch_lines = alt.Chart(branches).mark_rule().encode(\n",
    "        x=f\"parent_{column1}:Q\",\n",
    "        x2=f\"{column1}:Q\",\n",
    "        y=f\"parent_{column2}:Q\",\n",
    "        y2=f\"{column2}:Q\",\n",
    "        color=alt.Color(\"clade_membership_color:N\").scale(domain=domain, range=clade_color_range),\n",
    "        strokeWidth=alt.StrokeWidth(\"branch_width\", legend=None),\n",
    "    )\n",
    "    \n",
    "    return branch_lines"
   ]
  },
  {
   "cell_type": "code",
   "execution_count": null,
   "id": "47a11e46",
   "metadata": {},
   "outputs": [],
   "source": [
    "pca_branch_lines = make_branch_lines_for_columns(\"pca1\", \"pca2\")"
   ]
  },
  {
   "cell_type": "code",
   "execution_count": null,
   "id": "7db97419",
   "metadata": {},
   "outputs": [],
   "source": [
    "pca_branch_lines"
   ]
  },
  {
   "cell_type": "code",
   "execution_count": null,
   "id": "c913ad1e",
   "metadata": {},
   "outputs": [],
   "source": [
    "(pca_branch_lines + pca).properties(width=600, height=600).configure_axis(grid=False).configure_view(stroke=None)"
   ]
  },
  {
   "cell_type": "code",
   "execution_count": null,
   "id": "75ae701a",
   "metadata": {},
   "outputs": [],
   "source": [
    "mds_branch_lines = make_branch_lines_for_columns(\"mds1\", \"mds2\")"
   ]
  },
  {
   "cell_type": "code",
   "execution_count": null,
   "id": "a1e75420",
   "metadata": {},
   "outputs": [],
   "source": [
    "mds_branch_lines"
   ]
  },
  {
   "cell_type": "code",
   "execution_count": null,
   "id": "4586ee46",
   "metadata": {},
   "outputs": [],
   "source": [
    "mds_branch_lines + mds"
   ]
  },
  {
   "cell_type": "code",
   "execution_count": null,
   "id": "b1f386f1",
   "metadata": {},
   "outputs": [],
   "source": [
    "mds23_branch_lines = make_branch_lines_for_columns(\"mds2\", \"mds3\")"
   ]
  },
  {
   "cell_type": "code",
   "execution_count": null,
   "id": "cd68135b",
   "metadata": {},
   "outputs": [],
   "source": [
    "(mds_branch_lines | mds23_branch_lines).configure_axis(grid=False).configure_view(stroke=None)"
   ]
  },
  {
   "cell_type": "code",
   "execution_count": null,
   "id": "49cbe365",
   "metadata": {},
   "outputs": [],
   "source": [
    "tsne_branch_lines = make_branch_lines_for_columns(\"tsne_x\", \"tsne_y\")"
   ]
  },
  {
   "cell_type": "code",
   "execution_count": null,
   "id": "8e787048",
   "metadata": {},
   "outputs": [],
   "source": [
    "tsne_branch_lines"
   ]
  },
  {
   "cell_type": "code",
   "execution_count": null,
   "id": "6e16b2fc",
   "metadata": {},
   "outputs": [],
   "source": [
    "tsne = data[2]"
   ]
  },
  {
   "cell_type": "code",
   "execution_count": null,
   "id": "822e23c2",
   "metadata": {},
   "outputs": [],
   "source": [
    "tsne_branch_lines + tsne"
   ]
  },
  {
   "cell_type": "code",
   "execution_count": null,
   "id": "3cd639c4",
   "metadata": {},
   "outputs": [],
   "source": [
    "umap_branch_lines = make_branch_lines_for_columns(\"umap_x\", \"umap_y\")"
   ]
  },
  {
   "cell_type": "code",
   "execution_count": null,
   "id": "96c5aea9",
   "metadata": {},
   "outputs": [],
   "source": [
    "umap_branch_lines"
   ]
  },
  {
   "cell_type": "code",
   "execution_count": null,
   "id": "e39cd72b",
   "metadata": {},
   "outputs": [],
   "source": [
    "umap = data[4]"
   ]
  },
  {
   "cell_type": "code",
   "execution_count": null,
   "id": "94016391",
   "metadata": {},
   "outputs": [],
   "source": [
    "umap_branch_lines + umap"
   ]
  },
  {
   "cell_type": "code",
   "execution_count": null,
   "id": "c8763609",
   "metadata": {},
   "outputs": [],
   "source": [
    "(\n",
    "    (\n",
    "        (pca_branch_lines) |\n",
    "        (mds_branch_lines)\n",
    "    ) &\n",
    "    (\n",
    "        (tsne_branch_lines) |\n",
    "        (umap_branch_lines)\n",
    "    )\n",
    ").configure_axis(grid=False).configure_view(stroke=None)"
   ]
  },
  {
   "cell_type": "code",
   "execution_count": null,
   "id": "7bfa9518",
   "metadata": {},
   "outputs": [],
   "source": [
    "(\n",
    "    (\n",
    "        (pca_branch_lines + pca) |\n",
    "        (mds_branch_lines + mds)\n",
    "    ) &\n",
    "    (\n",
    "        (tsne_branch_lines + tsne) |\n",
    "        (umap_branch_lines + umap)\n",
    "    )\n",
    ").configure_axis(grid=False).configure_view(stroke=None)"
   ]
  },
  {
   "cell_type": "code",
   "execution_count": null,
   "id": "6fbff0a2",
   "metadata": {},
   "outputs": [],
   "source": [
    "data[0]"
   ]
  },
  {
   "cell_type": "code",
   "execution_count": null,
   "id": "9dd8014f",
   "metadata": {},
   "outputs": [],
   "source": [
    "PCAMDS = data[3]|data[1]\n",
    "TSNEUMAP = data[2]|data[4]\n",
    "embeddings = alt.vconcat(PCAMDS,TSNEUMAP)\n",
    "embeddings\n",
    "fullChart = alt.vconcat(data[0],embeddings).configure_axis(grid=False).configure_view(stroke=None)\n",
    "fullChart"
   ]
  },
  {
   "cell_type": "code",
   "execution_count": null,
   "id": "2413128e",
   "metadata": {},
   "outputs": [],
   "source": [
    "fullChart.save(interactive_chart_by_clades)\n",
    "fullChart.save(static_chart_by_clades, format=\"png\", scale_factor=2.0)"
   ]
  },
  {
   "cell_type": "markdown",
   "id": "7dfb3791",
   "metadata": {},
   "source": [
    "## Plot all embeddings by cluster"
   ]
  },
  {
   "cell_type": "code",
   "execution_count": null,
   "id": "4029a7a7",
   "metadata": {},
   "outputs": [],
   "source": [
    "def build_color_range_for_domain(domain, colors, value_for_unassigned=None):\n",
    "    # Rows are zero-indexed, so to get N colors, we select row N - 1.\n",
    "    range_ = colors.loc[len(domain) - 1].dropna().values.tolist()\n",
    "   \n",
    "    # Replace known values for \"unassigned\" clade or cluster labels.\n",
    "    index_for_unassigned = None\n",
    "    if value_for_unassigned is not None and value_for_unassigned in domain:\n",
    "        index_for_unassigned = domain.index(value_for_unassigned)\n",
    "        range_[index_for_unassigned] = \"#999999\"\n",
    "        \n",
    "    return range_"
   ]
  },
  {
   "cell_type": "code",
   "execution_count": null,
   "id": "c24b2faf",
   "metadata": {},
   "outputs": [],
   "source": [
    "pca_label_color_domain =  sorted(embeddings_df[\"pca_label\"].drop_duplicates().dropna().values)\n",
    "pca_label_color_range = build_color_range_for_domain(\n",
    "    pca_label_color_domain,\n",
    "    colors,\n",
    "    value_for_unassigned=-1,\n",
    ")"
   ]
  },
  {
   "cell_type": "code",
   "execution_count": null,
   "id": "1c86c6bf",
   "metadata": {},
   "outputs": [],
   "source": [
    "pca_legend_columns = 2 if len(pca_label_color_domain) > max_items_per_column_in_legend else 1"
   ]
  },
  {
   "cell_type": "code",
   "execution_count": null,
   "id": "e0f10101",
   "metadata": {},
   "outputs": [],
   "source": [
    "pca_by_cluster = linking_tree_with_plots_brush(\n",
    "    embeddings_df,\n",
    "    ['pca1', 'pca2'],\n",
    "    [\n",
    "        'PC 1 (Explained Variance : {}%'.format(round(explained_variance_PCA[0] * 100, 2)) + \")\",\n",
    "        'PC 2 (Explained Variance : {}%'.format(round(explained_variance_PCA[1] * 100, 2)) + \")\"\n",
    "    ],\n",
    "    'pca_label:N',\n",
    "    \"PCA cluster\",\n",
    "    ['strain', 'clade_membership', 'pca_label'],\n",
    "    pca_label_color_domain,\n",
    "    pca_label_color_range,\n",
    "    legend_columns=pca_legend_columns,\n",
    ")"
   ]
  },
  {
   "cell_type": "code",
   "execution_count": null,
   "id": "484d07c7",
   "metadata": {},
   "outputs": [],
   "source": [
    "mds_label_color_domain =  sorted(embeddings_df[\"mds_label\"].drop_duplicates().dropna().values)\n",
    "mds_label_color_range = build_color_range_for_domain(\n",
    "    mds_label_color_domain,\n",
    "    colors,\n",
    "    value_for_unassigned=-1,\n",
    ")"
   ]
  },
  {
   "cell_type": "code",
   "execution_count": null,
   "id": "d0c1f403",
   "metadata": {},
   "outputs": [],
   "source": [
    "mds_legend_columns = 2 if len(mds_label_color_domain) > max_items_per_column_in_legend else 1"
   ]
  },
  {
   "cell_type": "code",
   "execution_count": null,
   "id": "898f1a62",
   "metadata": {},
   "outputs": [],
   "source": [
    "mds_by_cluster = linking_tree_with_plots_brush(\n",
    "    embeddings_df,\n",
    "    ['mds1', 'mds2'],\n",
    "    ['MDS 1', 'MDS 2'],\n",
    "    'mds_label:N',\n",
    "    \"MDS cluster\",\n",
    "    ['strain', 'clade_membership', 'mds_label'],\n",
    "    mds_label_color_domain,\n",
    "    mds_label_color_range,\n",
    "    legend_columns=mds_legend_columns,\n",
    ")"
   ]
  },
  {
   "cell_type": "code",
   "execution_count": null,
   "id": "30385804",
   "metadata": {},
   "outputs": [],
   "source": [
    "tsne_label_color_domain =  sorted(embeddings_df[\"t-sne_label\"].drop_duplicates().dropna().values)\n",
    "tsne_label_color_range = build_color_range_for_domain(\n",
    "    tsne_label_color_domain,\n",
    "    colors,\n",
    "    value_for_unassigned=-1,\n",
    ")"
   ]
  },
  {
   "cell_type": "code",
   "execution_count": null,
   "id": "d8a4946a",
   "metadata": {},
   "outputs": [],
   "source": [
    "tsne_legend_columns = 2 if len(tsne_label_color_domain) > max_items_per_column_in_legend else 1"
   ]
  },
  {
   "cell_type": "code",
   "execution_count": null,
   "id": "14fe85d2",
   "metadata": {},
   "outputs": [],
   "source": [
    "tsne_by_cluster = linking_tree_with_plots_brush(\n",
    "    embeddings_df,\n",
    "    ['tsne_x', 'tsne_y'],\n",
    "    ['t-SNE 1', 't-SNE 2'],\n",
    "    't-sne_label:N',\n",
    "    \"t-SNE cluster\",\n",
    "    ['strain', 'clade_membership', 't-sne_label'],\n",
    "    tsne_label_color_domain,\n",
    "    tsne_label_color_range,\n",
    "    legend_columns=tsne_legend_columns,\n",
    ")"
   ]
  },
  {
   "cell_type": "code",
   "execution_count": null,
   "id": "dbddb568",
   "metadata": {},
   "outputs": [],
   "source": [
    "umap_label_color_domain =  sorted(embeddings_df[\"umap_label\"].drop_duplicates().dropna().values)\n",
    "umap_label_color_range = build_color_range_for_domain(\n",
    "    umap_label_color_domain,\n",
    "    colors,\n",
    "    value_for_unassigned=-1,\n",
    ")"
   ]
  },
  {
   "cell_type": "code",
   "execution_count": null,
   "id": "793607ae",
   "metadata": {},
   "outputs": [],
   "source": [
    "umap_legend_columns = 2 if len(umap_label_color_domain) > max_items_per_column_in_legend else 1"
   ]
  },
  {
   "cell_type": "code",
   "execution_count": null,
   "id": "fa7ce1c6",
   "metadata": {},
   "outputs": [],
   "source": [
    "umap_by_cluster = linking_tree_with_plots_brush(\n",
    "    embeddings_df,\n",
    "    ['umap_x', 'umap_y'],\n",
    "    ['UMAP 1', 'UMAP 2'],\n",
    "    'umap_label:N',\n",
    "    \"UMAP cluster\",\n",
    "    ['strain', 'clade_membership', 'umap_label'],\n",
    "    umap_label_color_domain,\n",
    "    umap_label_color_range,\n",
    "    legend_columns=umap_legend_columns,\n",
    ")"
   ]
  },
  {
   "cell_type": "code",
   "execution_count": null,
   "id": "2a7c9417",
   "metadata": {},
   "outputs": [],
   "source": [
    "accuracy_by_method = dict(accuracy_df.loc[:, [\"method\", \"normalized_vi\"]].values)"
   ]
  },
  {
   "cell_type": "code",
   "execution_count": null,
   "id": "fb1314bb",
   "metadata": {},
   "outputs": [],
   "source": [
    "accuracy_by_method"
   ]
  },
  {
   "cell_type": "code",
   "execution_count": null,
   "id": "89c04177",
   "metadata": {},
   "outputs": [],
   "source": [
    "composed_pca_by_cluster = pca_by_cluster[0] | pca_by_cluster[1].properties(\n",
    "    title= f\"Normalized VI: {accuracy_by_method['pca']:.2f}\"\n",
    ")\n",
    "\n",
    "composed_mds_by_cluster = mds_by_cluster[0] | mds_by_cluster[1].properties(\n",
    "    title= f\"Normalized VI: {accuracy_by_method['mds']:.2f}\"\n",
    ")\n",
    "\n",
    "composed_tsne_by_cluster = tsne_by_cluster[0] | tsne_by_cluster[1].properties(\n",
    "    title= f\"Normalized VI: {accuracy_by_method['t-sne']:.2f}\"\n",
    ")\n",
    "\n",
    "composed_umap_by_cluster = umap_by_cluster[0] | umap_by_cluster[1].properties(\n",
    "    title= f\"Normalized VI: {accuracy_by_method['umap']:.2f}\"\n",
    ")"
   ]
  },
  {
   "cell_type": "code",
   "execution_count": null,
   "id": "9fd5fde1",
   "metadata": {},
   "outputs": [],
   "source": [
    "pca_mds = alt.vconcat(composed_pca_by_cluster, composed_mds_by_cluster).resolve_scale(color='independent')\n",
    "tsne_umap = alt.vconcat(composed_tsne_by_cluster, composed_umap_by_cluster).resolve_scale(color='independent')\n",
    "full_chart_by_cluster = alt.vconcat(pca_mds, tsne_umap).resolve_scale(color='independent').configure_axis(grid=False).configure_view(stroke=None)\n",
    "full_chart_by_cluster"
   ]
  },
  {
   "cell_type": "code",
   "execution_count": null,
   "id": "9adfa314",
   "metadata": {},
   "outputs": [],
   "source": [
    "full_chart_by_cluster.save(interactive_chart_by_clusters)\n",
    "full_chart_by_cluster.save(static_chart_by_clusters, format=\"png\", scale_factor=2.0)"
   ]
  },
  {
   "cell_type": "code",
   "execution_count": null,
   "id": "51603b4f",
   "metadata": {},
   "outputs": [],
   "source": []
  }
 ],
 "metadata": {
  "kernelspec": {
   "display_name": "Python 3 (ipykernel)",
   "language": "python",
   "name": "python3"
  },
  "language_info": {
   "codemirror_mode": {
    "name": "ipython",
    "version": 3
   },
   "file_extension": ".py",
   "mimetype": "text/x-python",
   "name": "python",
   "nbconvert_exporter": "python",
   "pygments_lexer": "ipython3",
   "version": "3.9.18"
  }
 },
 "nbformat": 4,
 "nbformat_minor": 5
}
