{
 "cells": [
  {
   "cell_type": "markdown",
   "metadata": {},
   "outputs": [],
   "source": [
    "# These are the Cartography visuals."
   ]
  },
  {
   "cell_type": "markdown",
   "metadata": {},
   "outputs": [],
   "source": [
    "# Imports Section "
   ]
  },
  {
   "cell_type": "code",
   "execution_count": null,
   "metadata": {},
   "outputs": [],
   "source": [
    "import sys\n",
    "sys.path.append(\"notebooks/scripts/\")"
   ]
  },
  {
   "cell_type": "code",
   "execution_count": null,
   "metadata": {},
   "outputs": [],
   "source": [
    "import altair as alt\n",
    "from altair_saver import save\n",
    "from augur.utils import json_to_tree\n",
    "import json\n",
    "import matplotlib.pyplot as plt\n",
    "import matplotlib as mpl\n",
    "import pandas as pd\n",
    "import re\n",
    "import seaborn as sns\n",
    "from sklearn.metrics import confusion_matrix, matthews_corrcoef\n",
    "\n",
    "from Helpers import linking_tree_with_plots_clickable, linking_tree_with_plots_brush, scatterplot_with_tooltip_interactive, scatterplot_with_tooltip\n",
    "from Helpers import get_y_positions\n",
    "from Helpers import get_euclidean_data_frame\n",
    "\n",
    "%matplotlib inline"
   ]
  },
  {
   "cell_type": "code",
   "execution_count": null,
   "metadata": {},
   "outputs": [],
   "source": [
    "alt.renderers.set_embed_options(\n",
    "    padding={\"left\": 0, \"right\": 0, \"bottom\": 1, \"top\": 1}\n",
    ")"
   ]
  },
  {
   "cell_type": "code",
   "execution_count": null,
   "metadata": {},
   "outputs": [],
   "source": [
    "sns.set_style(\"ticks\")\n",
    "# Disable top and right spines.\n",
    "mpl.rcParams['axes.spines.top'] = False\n",
    "mpl.rcParams['axes.spines.right'] = False\n",
    "# Display and save figures at higher resolution for presentations and manuscripts.\n",
    "mpl.rcParams['savefig.dpi'] = 300\n",
    "mpl.rcParams['figure.dpi'] = 120\n",
    "# Display text at sizes large enough for presentations and manuscripts.\n",
    "mpl.rcParams['font.weight'] = \"normal\"\n",
    "mpl.rcParams['axes.labelweight'] = \"normal\"\n",
    "mpl.rcParams['font.size'] = 14\n",
    "mpl.rcParams['axes.labelsize'] = 14\n",
    "mpl.rcParams['legend.fontsize'] = 10\n",
    "mpl.rcParams['xtick.labelsize'] = 14\n",
    "mpl.rcParams['ytick.labelsize'] = 14\n",
    "mpl.rcParams['axes.titlesize'] = 14\n",
    "mpl.rc('text', usetex=False)"
   ]
  },
  {
   "cell_type": "markdown",
   "metadata": {},
   "outputs": [],
   "source": [
    "## Pathogen-specific variables\n",
    "\n",
    "Consider consolidating these into a single configuration file that can be passed to the notebook as a command line argument for more scriptable generation of these figures."
   ]
  },
  {
   "cell_type": "markdown",
   "metadata": {},
   "outputs": [],
   "source": [
    "# Flu Specific Variables"
   ]
  },
  {
   "cell_type": "code",
   "execution_count": null,
   "metadata": {},
   "outputs": [],
   "source": [
    "colors = snakemake.input.colors\n",
    "node_df = snakemake.input.node_df\n",
    "\n",
    "pca_df = snakemake.input.pca_df\n",
    "explained_variance_pca = snakemake.input.explained_variance_pca\n",
    "\n",
    "mds_df = snakemake.input.mds_df\n",
    "tsne_df = snakemake.input.tsne_df\n",
    "umap_df = snakemake.input.umap_df\n",
    "\n",
    "#Scatterplot:\n",
    "scatterplot_pca = snakemake.input.scatterplot_pca\n",
    "scatterplot_pca_metadata = snakemake.input.scatterplot_pca_metadata\n",
    "\n",
    "scatterplot_mds = snakemake.input.scatterplot_mds\n",
    "scatterplot_mds_metadata = snakemake.input.scatterplot_mds_metadata\n",
    "\n",
    "scatterplot_tsne = snakemake.input.scatterplot_tsne\n",
    "scatterplot_tsne_metadata = snakemake.input.scatterplot_tsne_metadata\n",
    "\n",
    "scatterplot_umap = snakemake.input.scatterplot_umap\n",
    "scatterplot_umap_metadata = snakemake.input.scatterplot_umap_metadata"
   ]
  },
  {
   "cell_type": "code",
   "execution_count": null,
   "metadata": {},
   "outputs": [],
   "source": [
    "clades_to_plot = ['3c', '3c2', '3c2.A', '3c3', '3c3.A', '3c3.B','A1','A1a','A1b', 'A1b/131K','A1b/135K', 'A1b/135N', 'A2', 'A2/re', 'A3', 'A4'] \n",
    "domain =  ['3c', '3c2', '3c2.A', '3c3', '3c3.A', '3c3.B','A1','A1a','A1b', 'A1b/131K','A1b/135K', 'A1b/135N', 'A2', 'A2/re', 'A3', 'A4'] \n",
    "range_ = ['#6626d4', '#4138c3', '#4e70ff', '#5499ff', '#61b8f0', '#5499ff', '#87dfb3','#a0e994', '#bdee78', '#ddee64', '#f8e957', '#ffdb4e', '#ffc348', '#ff9e40', '#ff6e36','#dc2f24']"
   ]
  },
  {
   "cell_type": "markdown",
   "metadata": {},
   "outputs": [],
   "source": [
    "# Reading in all the data from the scripts"
   ]
  },
  {
   "cell_type": "code",
   "execution_count": null,
   "metadata": {},
   "outputs": [],
   "source": [
    "node_df = pd.read_csv(node_df, sep=\"\\t\")\n",
    "node_df.rename(columns={'num_date':'date', 'y_value':\"y\"}, inplace=True)\n",
    "node_df = node_df.take(node_df[\"clade_membership\"].dropna().index.values.tolist())"
   ]
  },
  {
   "cell_type": "code",
   "execution_count": null,
   "metadata": {},
   "outputs": [],
   "source": [
    "node_df.head()"
   ]
  },
  {
   "cell_type": "code",
   "execution_count": null,
   "metadata": {},
   "outputs": [],
   "source": [
    "# Reannotate clades that we aren't interested in as \"other\" to simplify color assignment in visualizations.\n",
    "try:\n",
    "    node_df[\"clade_membership_color\"] = node_df[\"clade_membership\"].apply(lambda clade: clade if clade in clades_to_plot else \"other\")\n",
    "except:\n",
    "    node_df[\"clade_membership_color\"] = node_df[\"clade_membership\"]\n",
    "    print(\"clades_to_plot undefined\")"
   ]
  },
  {
   "cell_type": "markdown",
   "metadata": {},
   "outputs": [],
   "source": [
    "# Running PCA on Scaled and Centered Data\n",
    "- I treated each nucleotide as a \"site\", or dimension, and found the probability of having a certain nucleotide given the frequency of that letter at that site.\n",
    "- I used [this paper][1] as my source \n",
    "- The equation is as follows where C is the matrix of dimensions, M is the mean, and p is the frequency of a nucleotide at that given site. \n",
    "![](https://journals.plos.org/plosgenetics/article/file?type=thumbnail&id=info:doi/10.1371/journal.pgen.0020190.e003)"
   ]
  },
  {
   "cell_type": "code",
   "execution_count": null,
   "metadata": {},
   "outputs": [],
   "source": [
    "principalDf = pd.read_csv(pca_df, index_col=0)"
   ]
  },
  {
   "cell_type": "code",
   "execution_count": null,
   "metadata": {},
   "outputs": [],
   "source": [
    "explained_variance_df = pd.read_csv(explained_variance_pca)\n",
    "explained_variance_df"
   ]
  },
  {
   "cell_type": "code",
   "execution_count": null,
   "metadata": {},
   "outputs": [],
   "source": [
    "plt.plot(explained_variance_df['principal components'].values.tolist(), explained_variance_df[\"explained variance\"].values.tolist(), 'o')\n",
    "\n",
    "plt.xlabel(\"Principal Component\")\n",
    "plt.ylabel(\"Explained Variance\")\n",
    "\n",
    "plt.savefig(snakemake.output.Explained_variance_PCA)"
   ]
  },
  {
   "cell_type": "code",
   "execution_count": null,
   "metadata": {},
   "outputs": [],
   "source": [
    "merged_pca_df = principalDf.merge(node_df[[\"strain\", \"date\", \"y\", \"clade_membership\", \"clade_membership_color\"]], on=\"strain\")"
   ]
  },
  {
   "cell_type": "code",
   "execution_count": null,
   "metadata": {},
   "outputs": [],
   "source": [
    "merged_pca_df.head()"
   ]
  },
  {
   "cell_type": "code",
   "execution_count": null,
   "metadata": {},
   "outputs": [],
   "source": [
    "explained_variance_PCA = explained_variance_df[\"explained variance\"].values.tolist()"
   ]
  },
  {
   "cell_type": "code",
   "execution_count": null,
   "metadata": {},
   "outputs": [],
   "source": [
    "list_of_chart = linking_tree_with_plots_brush(merged_pca_df,['pca1','pca2','pca3','pca4', 'pca5', 'pca6'],\n",
    "                                         ['PCA1 (Explained Variance : {}%'.format(round(explained_variance_PCA[0]*100,2)) + \")\",\n",
    "                                          'PCA2 (Explained Variance : {}%'.format(round(explained_variance_PCA[1]*100,2)) + \")\",\n",
    "                                          'PCA3 (Explained Variance : {}%'.format(round(explained_variance_PCA[2]*100,2)) + \")\",\n",
    "                                          'PCA4 (Explained Variance : {}%'.format(round(explained_variance_PCA[3]*100,2)) + \")\",\n",
    "                                          'PCA5 (Explained Variance : {}%'.format(round(explained_variance_PCA[4]*100,2)) + \")\",\n",
    "                                          'PCA6 (Explained Variance : {}%'.format(round(explained_variance_PCA[5]*100,2)) + \")\"],\n",
    "                                         \"clade_membership:N\",['strain', \"clade_membership\"], domain, range_)\n",
    "PCAFluBrush = list_of_chart[0]|list_of_chart[1]|list_of_chart[2]\n",
    "\n",
    "PCAFluBrush\n",
    "#PCAFluBrush.save(\"docs/PCA\" + virus_name + \"Brush.html\")"
   ]
  },
  {
   "cell_type": "markdown",
   "metadata": {},
   "outputs": [],
   "source": [
    "# HDBSCAN Output"
   ]
  },
  {
   "cell_type": "code",
   "execution_count": null,
   "metadata": {},
   "outputs": [],
   "source": [
    "list_of_chart = linking_tree_with_plots_clickable(merged_pca_df,['pca1','pca2','pca3','pca4', 'pca5', 'pca6'],\n",
    "                                         ['PCA1 (Explained Variance : {}%'.format(round(explained_variance_PCA[0]*100,2)) + \")\",\n",
    "                                          'PCA2 (Explained Variance : {}%'.format(round(explained_variance_PCA[1]*100,2)) + \")\",\n",
    "                                          'PCA3 (Explained Variance : {}%'.format(round(explained_variance_PCA[2]*100,2)) + \")\",\n",
    "                                          'PCA4 (Explained Variance : {}%'.format(round(explained_variance_PCA[3]*100,2)) + \")\",\n",
    "                                          'PCA5 (Explained Variance : {}%'.format(round(explained_variance_PCA[4]*100,2)) + \")\",\n",
    "                                          'PCA6 (Explained Variance : {}%'.format(round(explained_variance_PCA[5]*100,2)) + \")\"],\n",
    "                                         \"pca_label:N\",[\"pca_label\"], ['strain'], domain, range_)\n",
    "PCAFluBrush = list_of_chart[0]|list_of_chart[1]|list_of_chart[2]|list_of_chart[4]\n",
    "\n",
    "PCAFluBrush\n",
    "#PCAFluBrush.save(\"docs/PCA\" + virus_name + \"Brush.html\")"
   ]
  },
  {
   "cell_type": "code",
   "execution_count": null,
   "metadata": {},
   "outputs": [],
   "source": [
    "total_df_PCA = pd.read_csv(scatterplot_pca,index_col=0)\n",
    "metadata_PCA = pd.read_csv(scatterplot_pca_metadata, index_col=0)\n",
    "\n",
    "#total_df_PCA = pd.read_csv(\"results/scatterplot_pca.csv\",index_col=0)\n",
    "#metadata_PCA = pd.read_csv(\"results/scatterplot_pca_metadata.csv\", index_col=0)\n",
    "\n",
    "mean = metadata_PCA[\"mean\"].values.tolist()[0]\n",
    "std = metadata_PCA[\"std\"].values.tolist()[0]\n",
    "fig, ax = plt.subplots(1, 1, figsize=(6, 6))\n",
    "\n",
    "ax.plot(total_df_PCA[\"genetic\"], total_df_PCA[\"euclidean\"], \"o\", alpha=0.25)\n",
    "ax.plot(total_df_PCA[\"LOWESS_x\"], total_df_PCA[\"LOWESS_y\"], label=\"LOESS\")\n",
    "\n",
    "ax.set_xlabel(\"Genetic distance\")\n",
    "ax.set_ylabel(\"Euclidean distance (PCA)\")\n",
    "ax.set_title(f\"PCA ($R^2={mean:.3f} +/- {std:.3f}$)\")\n",
    "\n",
    "sns.despine()"
   ]
  },
  {
   "cell_type": "markdown",
   "metadata": {},
   "outputs": [],
   "source": [
    "# Running MDS on the Dataset"
   ]
  },
  {
   "cell_type": "code",
   "execution_count": null,
   "metadata": {},
   "outputs": [],
   "source": [
    "MDS_df = pd.read_csv(mds_df, index_col=0)\n",
    "#MDS_df = pd.read_csv(\"results/embed_mds_sequences.csv\")"
   ]
  },
  {
   "cell_type": "code",
   "execution_count": null,
   "metadata": {},
   "outputs": [],
   "source": [
    "merged_mds_df = MDS_df.merge(node_df[[\"strain\", \"date\", \"y\", \"clade_membership\", \"clade_membership_color\"]], on=\"strain\")"
   ]
  },
  {
   "cell_type": "code",
   "execution_count": null,
   "metadata": {},
   "outputs": [],
   "source": [
    "merged_mds_df"
   ]
  },
  {
   "cell_type": "code",
   "execution_count": null,
   "metadata": {},
   "outputs": [],
   "source": [
    "chart_12_mds = scatterplot_with_tooltip_interactive(merged_mds_df,'mds1','mds2',\"mds1\",\"mds2\",['strain','clade_membership'],'clade_membership_color:N', domain, range_)\n",
    "chart_12_mds"
   ]
  },
  {
   "cell_type": "code",
   "execution_count": null,
   "metadata": {},
   "outputs": [],
   "source": [
    "list_of_chart = linking_tree_with_plots_brush(merged_mds_df,['mds1','mds2'],[\"MDS1\", \"MDS2\"], 'clade_membership:N', ['strain','clade_membership'], domain, range_)\n",
    "list_of_chart[0]|list_of_chart[1]"
   ]
  },
  {
   "cell_type": "markdown",
   "metadata": {},
   "outputs": [],
   "source": [
    "# HDBSCAN output:"
   ]
  },
  {
   "cell_type": "code",
   "execution_count": null,
   "metadata": {},
   "outputs": [],
   "source": [
    "list_of_chart = linking_tree_with_plots_clickable(merged_mds_df,['mds1','mds2'],[\"MDS1\", \"MDS2\"], 'mds_label:N', [\"mds_label\"], ['strain','clade_membership'])\n",
    "list_of_chart[0]|list_of_chart[1]|list_of_chart[2]"
   ]
  },
  {
   "cell_type": "code",
   "execution_count": null,
   "metadata": {},
   "outputs": [],
   "source": [
    "total_df_MDS = pd.read_csv(scatterplot_mds,index_col=0)\n",
    "metadata_MDS = pd.read_csv(scatterplot_mds_metadata, index_col=0)\n",
    "\n",
    "#total_df_MDS = pd.read_csv(\"results/scatterplot_mds.csv\",index_col=0)\n",
    "#metadata_MDS = pd.read_csv(\"results/scatterplot_mds_metadata.csv\", index_col=0)\n",
    "\n",
    "mean = metadata_MDS[\"mean\"].values.tolist()[0]\n",
    "std = metadata_MDS[\"std\"].values.tolist()[0]\n",
    "\n",
    "fig, ax = plt.subplots(1, 1, figsize=(6, 6))\n",
    "\n",
    "ax.plot(total_df_MDS[\"genetic\"], total_df_MDS[\"euclidean\"], \"o\", alpha=0.25)\n",
    "ax.plot(total_df_MDS[\"LOWESS_x\"], total_df_MDS[\"LOWESS_y\"], label=\"LOESS\")\n",
    "\n",
    "ax.set_xlabel(\"Genetic distance\")\n",
    "ax.set_ylabel(\"Euclidean distance (MDS)\")\n",
    "ax.set_title(f\"MDS ($R^2={mean:.3f} +/- {std:.3f}$)\")\n",
    "\n",
    "sns.despine()"
   ]
  },
  {
   "cell_type": "markdown",
   "metadata": {},
   "outputs": [],
   "source": [
    "# Running T-SNE on the Dataset "
   ]
  },
  {
   "cell_type": "code",
   "execution_count": null,
   "metadata": {},
   "outputs": [],
   "source": [
    "TSNE_df = pd.read_csv(tsne_df, index_col=0)"
   ]
  },
  {
   "cell_type": "code",
   "execution_count": null,
   "metadata": {},
   "outputs": [],
   "source": [
    "TSNE_df.head()"
   ]
  },
  {
   "cell_type": "code",
   "execution_count": null,
   "metadata": {},
   "outputs": [],
   "source": [
    "merged_tsne_df = TSNE_df.merge(\n",
    "    node_df[[\"strain\", \"date\", \"y\", \"clade_membership\", \"clade_membership_color\"]],\n",
    "    on=\"strain\"\n",
    ")"
   ]
  },
  {
   "cell_type": "code",
   "execution_count": null,
   "metadata": {},
   "outputs": [],
   "source": [
    "merged_tsne_df.head()"
   ]
  },
  {
   "cell_type": "code",
   "execution_count": null,
   "metadata": {},
   "outputs": [],
   "source": [
    "scatterplot_with_tooltip_interactive(\n",
    "    merged_tsne_df,\n",
    "    'tsne_x',\n",
    "    'tsne_y',\n",
    "    'tsne_x',\n",
    "    'tsne_y',\n",
    "    ['strain', \"clade_membership\"],\n",
    "    'clade_membership:N',\n",
    "    domain,\n",
    "    range_\n",
    ")"
   ]
  },
  {
   "cell_type": "code",
   "execution_count": null,
   "metadata": {},
   "outputs": [],
   "source": [
    "list_of_chart = linking_tree_with_plots_brush(\n",
    "    merged_tsne_df,\n",
    "    ['tsne_x','tsne_y'],\n",
    "    ['tsne_x','tsne_y'],\n",
    "    'clade_membership:N',\n",
    "    [\"strain:N\"],\n",
    "    domain,\n",
    "    range_\n",
    ")\n",
    "chart_tsne = list_of_chart[0]|list_of_chart[1]\n",
    "chart_tsne"
   ]
  },
  {
   "cell_type": "code",
   "execution_count": null,
   "metadata": {},
   "outputs": [],
   "source": [
    "total_df_TSNE = pd.read_csv(scatterplot_tsne,index_col=0)\n",
    "metadata_TSNE = pd.read_csv(scatterplot_tsne_metadata, index_col=0)\n",
    "\n",
    "mean = metadata_TSNE[\"mean\"].values.tolist()[0]\n",
    "std = metadata_TSNE[\"std\"].values.tolist()[0]\n",
    "\n",
    "fig, ax = plt.subplots(1, 1, figsize=(6, 6))\n",
    "\n",
    "ax.plot(total_df_TSNE[\"genetic\"], total_df_TSNE[\"euclidean\"], \"o\", alpha=0.25)\n",
    "ax.plot(total_df_TSNE[\"LOWESS_x\"], total_df_TSNE[\"LOWESS_y\"], label=\"LOESS\")\n",
    "\n",
    "ax.set_xlabel(\"Genetic distance\")\n",
    "ax.set_ylabel(\"Euclidean distance (t-SNE)\")\n",
    "ax.set_title(f\"t-SNE ($R^2={mean:.3f} +/- {std:.3f}$)\")\n",
    "\n",
    "sns.despine()"
   ]
  },
  {
   "cell_type": "markdown",
   "metadata": {},
   "outputs": [],
   "source": [
    "# Running UMAP on the Dataset"
   ]
  },
  {
   "cell_type": "code",
   "execution_count": null,
   "metadata": {},
   "outputs": [],
   "source": [
    "UMAP_df = pd.read_csv(umap_df, index_col=0)"
   ]
  },
  {
   "cell_type": "code",
   "execution_count": null,
   "metadata": {},
   "outputs": [],
   "source": [
    "UMAP_df.head()"
   ]
  },
  {
   "cell_type": "code",
   "execution_count": null,
   "metadata": {},
   "outputs": [],
   "source": [
    "merged_umap_df = UMAP_df.merge(\n",
    "    node_df[[\"strain\", \"date\", \"y\", \"clade_membership\", \"clade_membership_color\"]],\n",
    "    on=\"strain\"\n",
    ")"
   ]
  },
  {
   "cell_type": "code",
   "execution_count": null,
   "metadata": {},
   "outputs": [],
   "source": [
    "merged_umap_df.head()"
   ]
  },
  {
   "cell_type": "code",
   "execution_count": null,
   "metadata": {},
   "outputs": [],
   "source": [
    "scatterplot_with_tooltip_interactive(\n",
    "    merged_umap_df,\n",
    "    'umap_x',\n",
    "    'umap_y',\n",
    "    'umap_x',\n",
    "    'umap_y',\n",
    "    ['strain'],\n",
    "    'clade_membership:N',\n",
    "    domain,\n",
    "    range_\n",
    ")"
   ]
  },
  {
   "cell_type": "code",
   "execution_count": null,
   "metadata": {},
   "outputs": [],
   "source": [
    "list_of_data_and_titles = ['umap_x','umap_y']\n",
    "list_of_chart = linking_tree_with_plots_brush(\n",
    "    merged_umap_df,\n",
    "    list_of_data_and_titles,\n",
    "    list_of_data_and_titles,\n",
    "    'clade_membership:N',\n",
    "    [\"strain:N\"],\n",
    "    domain,\n",
    "    range_\n",
    ")\n",
    "chart_umap = list_of_chart[0]|list_of_chart[1]\n",
    "chart_umap\n",
    "#chart.save(\"../docs/UMAPMERSBrush.html\")"
   ]
  },
  {
   "cell_type": "code",
   "execution_count": null,
   "metadata": {},
   "outputs": [],
   "source": [
    "total_df_UMAP = pd.read_csv(scatterplot_umap,index_col=0)\n",
    "metadata_UMAP = pd.read_csv(scatterplot_umap_metadata, index_col=0)\n",
    "\n",
    "mean = metadata_UMAP[\"mean\"].values.tolist()[0]\n",
    "std = metadata_UMAP[\"std\"].values.tolist()[0]\n",
    "\n",
    "fig, ax = plt.subplots(1, 1, figsize=(6, 6))\n",
    "\n",
    "ax.plot(total_df_UMAP[\"genetic\"], total_df_UMAP[\"euclidean\"], \"o\", alpha=0.25)\n",
    "ax.plot(total_df_UMAP[\"LOWESS_x\"], total_df_UMAP[\"LOWESS_y\"], label=\"LOESS\")\n",
    "\n",
    "ax.set_xlabel(\"Genetic distance\")\n",
    "ax.set_ylabel(\"Euclidean distance (UMAP)\")\n",
    "ax.set_title(f\"UMAP ($R^2={mean:.3f} +/- {std:.3f}$)\")\n",
    "\n",
    "sns.despine()"
   ]
  },
  {
   "cell_type": "markdown",
   "metadata": {},
   "outputs": [],
   "source": [
    "# Linking all plots together clickable with Tree"
   ]
  },
  {
   "cell_type": "code",
   "execution_count": null,
   "metadata": {},
   "outputs": [],
   "source": [
    "merged_df = merged_pca_df.merge(\n",
    "    MDS_df,\n",
    "    on=\"strain\",\n",
    ").merge(\n",
    "    TSNE_df,\n",
    "    on=\"strain\",\n",
    ").merge(\n",
    "    UMAP_df,\n",
    "    on=\"strain\",\n",
    ")"
   ]
  },
  {
   "cell_type": "code",
   "execution_count": null,
   "metadata": {},
   "outputs": [],
   "source": [
    "merged_df.head()"
   ]
  },
  {
   "cell_type": "code",
   "execution_count": null,
   "metadata": {},
   "outputs": [],
   "source": [
    "data = linking_tree_with_plots_brush(\n",
    "    merged_df,\n",
    "    ['mds1', 'mds2','tsne_x','tsne_y', 'pca1', 'pca2', 'umap_x','umap_y'],\n",
    "    ['MDS1', 'MDS2', 'TSNE1', 'TSNE2','PCA1 (Explained Variance : {}%'.format(round(explained_variance_PCA[0]*100,2)) + \")\",\n",
    "    'PCA2 (Explained Variance : {}%'.format(round(explained_variance_PCA[1]*100,2)) + \")\",'UMAP1','UMAP2'],\n",
    "    'clade_membership:N',\n",
    "    ['strain', 'clade_membership'],\n",
    "    domain,\n",
    "    range_\n",
    ")"
   ]
  },
  {
   "cell_type": "code",
   "execution_count": null,
   "metadata": {},
   "outputs": [],
   "source": [
    "PCAMDS = data[3]|data[1]\n",
    "TSNEUMAP = data[2]|data[4]\n",
    "embeddings = alt.vconcat(PCAMDS,TSNEUMAP)\n",
    "embeddings\n",
    "fullChart = alt.vconcat(data[0],embeddings)\n",
    "fullChart\n",
    "fullChart.save(snakemake.output.fullChart)\n",
    "save(fullChart, snakemake.output.fullChartPNG, scale_factor=2.0)"
   ]
  },
  {
   "cell_type": "code",
   "execution_count": null,
   "metadata": {},
   "outputs": [],
   "source": [
    "fullChart"
   ]
  },
  {
   "cell_type": "markdown",
   "metadata": {},
   "outputs": [],
   "source": [
    "## Scatterplots for all embeddings \n",
    "Concatenating all embedding data frames to plot genetic vs Euclidean distance for each embedding"
   ]
  },
  {
   "cell_type": "code",
   "execution_count": null,
   "metadata": {},
   "outputs": [],
   "source": [
    "import matplotlib.gridspec as gridspec\n",
    "import numpy as np"
   ]
  },
  {
   "cell_type": "code",
   "execution_count": null,
   "metadata": {},
   "outputs": [],
   "source": [
    "fig = plt.figure(figsize=(8, 8), constrained_layout=False)\n",
    "fig.tight_layout(pad=4.0)\n",
    "gs = gridspec.GridSpec(2, 2, figure=fig, hspace=0.4, wspace=0.4)\n",
    "ax1 = fig.add_subplot(gs[0, 0])\n",
    "ax2 = fig.add_subplot(gs[0, 1])\n",
    "ax3 = fig.add_subplot(gs[1, 0])\n",
    "ax4 = fig.add_subplot(gs[1, 1])\n",
    "\n",
    "mean = metadata_PCA[\"mean\"].values.tolist()[0]\n",
    "std = metadata_PCA[\"std\"].values.tolist()[0]\n",
    "\n",
    "ax1.plot(total_df_PCA[\"genetic\"], total_df_PCA[\"euclidean\"], \"o\", alpha=0.25)\n",
    "ax1.plot(total_df_PCA[\"LOWESS_x\"], total_df_PCA[\"LOWESS_y\"], label=\"LOESS\")\n",
    "\n",
    "ax1.set_xlabel(\"Genetic distance\")\n",
    "ax1.set_ylabel(\"Euclidean distance (PCA)\")\n",
    "ax1.set_xticks(np.arange(min(total_df_PCA[\"genetic\"]), max(total_df_PCA[\"genetic\"])+10, 20.0))\n",
    "ax1.set_title(f\"PCA ($R^2={mean:.3f} +/- {std:.3f}$)\")\n",
    "\n",
    "mean = metadata_MDS[\"mean\"].values.tolist()[0]\n",
    "std = metadata_MDS[\"std\"].values.tolist()[0]\n",
    "\n",
    "ax2.plot(total_df_MDS[\"genetic\"], total_df_MDS[\"euclidean\"], \"o\", alpha=0.25)\n",
    "ax2.plot(total_df_MDS[\"LOWESS_x\"], total_df_MDS[\"LOWESS_y\"], label=\"LOESS\")\n",
    "\n",
    "ax2.set_xlabel(\"Genetic distance\")\n",
    "ax2.set_ylabel(\"Euclidean distance (MDS)\")\n",
    "ax2.set_xticks(np.arange(min(total_df_MDS[\"genetic\"]), max(total_df_MDS[\"genetic\"])+10, 20.0))\n",
    "ax2.set_title(f\"MDS ($R^2={mean:.3f} +/- {std:.3f}$)\")\n",
    "\n",
    "mean = metadata_TSNE[\"mean\"].values.tolist()[0]\n",
    "std = metadata_TSNE[\"std\"].values.tolist()[0]\n",
    "\n",
    "ax3.plot(total_df_TSNE[\"genetic\"], total_df_TSNE[\"euclidean\"], \"o\", alpha=0.25)\n",
    "ax3.plot(total_df_TSNE[\"LOWESS_x\"], total_df_TSNE[\"LOWESS_y\"], label=\"LOESS\")\n",
    "\n",
    "ax3.set_xlabel(\"Genetic distance\")\n",
    "ax3.set_ylabel(\"Euclidean distance (t-SNE)\")\n",
    "ax3.set_xticks(np.arange(min(total_df_TSNE[\"genetic\"]), max(total_df_TSNE[\"genetic\"])+10, 20.0))\n",
    "ax3.set_title(f\"t-SNE ($R^2={mean:.3f} +/- {std:.3f}$)\")\n",
    "\n",
    "mean = metadata_UMAP[\"mean\"].values.tolist()[0]\n",
    "std = metadata_UMAP[\"std\"].values.tolist()[0]\n",
    "\n",
    "ax4.plot(total_df_UMAP[\"genetic\"], total_df_UMAP[\"euclidean\"], \"o\", alpha=0.25)\n",
    "ax4.plot(total_df_UMAP[\"LOWESS_x\"], total_df_UMAP[\"LOWESS_y\"], label=\"LOESS\")\n",
    "\n",
    "ax4.set_xlabel(\"Genetic distance\")\n",
    "ax4.set_ylabel(\"Euclidean distance (UMAP)\")\n",
    "ax4.set_xticks(np.arange(min(total_df_UMAP[\"genetic\"]), max(total_df_UMAP[\"genetic\"])+10, 20.0))\n",
    "ax4.set_title(f\"UMAP ($R^2={mean:.3f} +/- {std:.3f}$)\")\n",
    "\n",
    "sns.despine()\n",
    "plt.savefig(snakemake.output.Scatterplot, dpi=300)"
   ]
  },
  {
   "cell_type": "markdown",
   "metadata": {},
   "outputs": [],
   "source": [
    "# Supplemental Figures"
   ]
  },
  {
   "cell_type": "code",
   "execution_count": null,
   "metadata": {},
   "outputs": [],
   "source": [
    "list_of_chart = linking_tree_with_plots_brush(merged_pca_df,['pca' + str(i) for i in range(1,11)],['PCA' + str(i) for i in range(1,11)], 'clade_membership:N', ['strain','clade_membership'], domain, range_)\n",
    "chart = list_of_chart[0]|list_of_chart[1]|list_of_chart[2]|list_of_chart[3]\n",
    "\n",
    "chart.save(snakemake.output.PCA_Supplement)\n",
    "save(chart, snakemake.output.PCA_Supplement_PNG)"
   ]
  },
  {
   "cell_type": "markdown",
   "metadata": {},
   "outputs": [],
   "source": [
    "# HDBSCAN Final Charts"
   ]
  },
  {
   "cell_type": "code",
   "execution_count": null,
   "metadata": {},
   "outputs": [],
   "source": [
    "colors = pd.read_csv(colors, sep=\"\\t\", names=[i for i in range(0,101)])"
   ]
  },
  {
   "cell_type": "code",
   "execution_count": null,
   "metadata": {},
   "outputs": [],
   "source": [
    "node_df.rename(columns={'num_date':'date', 'y_value':\"y\"}, inplace=True)"
   ]
  },
  {
   "cell_type": "code",
   "execution_count": null,
   "metadata": {},
   "outputs": [],
   "source": [
    "PCA_df = pd.read_csv(pca_df,index_col=0)\n",
    "MDS_df = pd.read_csv(mds_df,index_col=0)\n",
    "TSNE_df = pd.read_csv(tsne_df,index_col=0)\n",
    "UMAP_df = pd.read_csv(umap_df,index_col=0)\n",
    "explained_variance_df = pd.read_csv(explained_variance_pca)"
   ]
  },
  {
   "cell_type": "code",
   "execution_count": null,
   "metadata": {},
   "outputs": [],
   "source": [
    "merged_tsne_df = TSNE_df.merge(node_df[[\"strain\", \"date\", \"y\", \"clade_membership\"]], on=\"strain\")"
   ]
  },
  {
   "cell_type": "code",
   "execution_count": null,
   "metadata": {},
   "outputs": [],
   "source": [
    "domain =  merged_tsne_df[\"t-sne_label\"].drop_duplicates().values\n",
    "range_ = colors[len(domain)-1:len(domain)].dropna(axis=1).values.tolist()[0]\n",
    "chart_12_tsne = scatterplot_with_tooltip_interactive(merged_tsne_df,'tsne_x','tsne_y','tsne_x','tsne_y',['strain','clade_membership', 't-sne_label'],'t-sne_label:N', domain, range_).properties(title=\"t-sne, optimal distance threshold\")\n",
    "domain = merged_tsne_df[\"t-sne_label_default\"].drop_duplicates().values\n",
    "range_ = colors[len(domain)-1:len(domain)].dropna(axis=1).values.tolist()[0]\n",
    "chart_12_default = scatterplot_with_tooltip_interactive(merged_tsne_df,'tsne_x','tsne_y','tsne_x','tsne_y',['strain','clade_membership', 't-sne_label'],'t-sne_label_default:N', domain, range_).properties(title=\"t-sne, default distance threshold\")\n",
    "domain = merged_tsne_df[\"clade_membership\"].drop_duplicates().values\n",
    "range_ = colors[len(domain)-1:len(domain)].dropna(axis=1).values.tolist()[0]\n",
    "chart_12_clade = scatterplot_with_tooltip_interactive(merged_tsne_df,'tsne_x','tsne_y','tsne_x','tsne_y',['strain','clade_membership', 't-sne_label'],'clade_membership:N', domain, range_).properties(title=\"t-sne, clade membership\")\n",
    "charts = alt.hconcat(chart_12_tsne,chart_12_default).resolve_scale(color='independent')\n",
    "fullChart = alt.hconcat(charts, chart_12_clade).resolve_scale(color='independent')\n",
    "fullChart\n",
    "fullChart.save(snakemake.output.SupplementalTSNEHDBSCAN)\n",
    "save(fullChart, snakemake.output.SupplementalTSNEHDBSCANPNG, scale_factor=2.0)"
   ]
  },
  {
   "cell_type": "code",
   "execution_count": null,
   "metadata": {},
   "outputs": [],
   "source": [
    "fullChart"
   ]
  },
  {
   "cell_type": "code",
   "execution_count": null,
   "metadata": {},
   "outputs": [],
   "source": [
    "def _get_embedding_columns_by_method(method):\n",
    "    if method in (\"pca\"):\n",
    "        return list(f\"{method}1 {method}2 {method}3 {method}4 {method}5 {method}6 {method}7 {method}8 {method}9 {method}10\".split())\n",
    "    if method in (\"mds\"):\n",
    "        return list(f\"{method}1 {method}2 {method}3 {method}4\".split())\n",
    "    if method in (\"t-sne\"):\n",
    "        return list(\"tsne_x tsne_y\".split())\n",
    "    else:\n",
    "        return list(f\"{method}_x {method}_y\".split())"
   ]
  },
  {
   "cell_type": "code",
   "execution_count": null,
   "metadata": {},
   "outputs": [],
   "source": [
    "merged_df = node_df[[\"strain\", \"date\", \"clade_membership\", \"y\"]].merge(\n",
    "    PCA_df,\n",
    "    on=\"strain\",\n",
    ").merge(\n",
    "    MDS_df,\n",
    "    on=\"strain\",\n",
    ").merge(\n",
    "    TSNE_df,\n",
    "    on=\"strain\",\n",
    ").merge(\n",
    "    UMAP_df,\n",
    "    on=\"strain\",\n",
    ")"
   ]
  },
  {
   "cell_type": "code",
   "execution_count": null,
   "metadata": {},
   "outputs": [],
   "source": [
    "MCC_val = []\n",
    "\n",
    "for method in [\"pca\", \"mds\", \"t-sne\", \"umap\"]:\n",
    "    KDE_df_normal = get_euclidean_data_frame(sampled_df=merged_df, column_for_analysis=\"clade_membership\", embedding=\"method\", column_list=_get_embedding_columns_by_method(method))\n",
    "\n",
    "    KDE_df_cluster =  get_euclidean_data_frame(sampled_df=merged_df, column_for_analysis=f\"{method}_label\", embedding=\"method\", column_list=_get_embedding_columns_by_method(method))\n",
    "\n",
    "    confusion_matrix_val = confusion_matrix(KDE_df_normal[\"clade_status\"], KDE_df_cluster[\"clade_status\"])\n",
    "    matthews_cc_val = matthews_corrcoef(KDE_df_normal[\"clade_status\"], KDE_df_cluster[\"clade_status\"])\n",
    "    MCC_val.append(matthews_cc_val)"
   ]
  },
  {
   "cell_type": "code",
   "execution_count": null,
   "metadata": {},
   "outputs": [],
   "source": [
    "domain =  sorted(merged_df[\"pca_label\"].drop_duplicates().values)\n",
    "if -1 in domain:\n",
    "    range_ = [\"#999999\"] + colors[len(domain)-1:len(domain)].dropna(axis=1).values.tolist()[0]\n",
    "else: \n",
    "    range_ = colors[len(domain):len(domain)+1].dropna(axis=1).values.tolist()[0]\n",
    "PCA = linking_tree_with_plots_brush(\n",
    "    merged_df,\n",
    "    ['pca1', 'pca2'],\n",
    "    ['PCA1 (Explained Variance : {}%'.format(round(explained_variance_df[\"explained variance\"][0]*100,2)) + \")\",\n",
    "    'PCA2 (Explained Variance : {}%'.format(round(explained_variance_df[\"explained variance\"][1]*100,2)) + \")\"],\n",
    "    'pca_label:N',\n",
    "    ['strain','clade_membership', 'pca_label'],\n",
    "    domain,\n",
    "    range_\n",
    ")\n",
    "domain =  sorted(merged_df[\"mds_label\"].drop_duplicates().values)\n",
    "if -1 in domain:\n",
    "    range_ = [\"#999999\"] + colors[len(domain)-1:len(domain)].dropna(axis=1).values.tolist()[0]\n",
    "else: \n",
    "    range_ = colors[len(domain):len(domain)+1].dropna(axis=1).values.tolist()[0]\n",
    "MDS = linking_tree_with_plots_brush(\n",
    "    merged_df,\n",
    "    ['mds1', 'mds2'],\n",
    "    ['MDS1', 'MDS2'],\n",
    "    'mds_label:N',\n",
    "    ['strain','clade_membership', 'mds_label'],\n",
    "    domain,\n",
    "    range_\n",
    ")\n",
    "domain =  sorted(merged_df[\"t-sne_label\"].drop_duplicates().values)\n",
    "if -1 in domain:\n",
    "    range_ = [\"#999999\"] + colors[len(domain)-1:len(domain)].dropna(axis=1).values.tolist()[0]\n",
    "else: \n",
    "    range_ = colors[len(domain):len(domain)+1].dropna(axis=1).values.tolist()[0]\n",
    "TSNE = linking_tree_with_plots_brush(\n",
    "    merged_df,\n",
    "    ['tsne_x', 'tsne_y'],\n",
    "    ['TSNE1', 'TSNE2'],\n",
    "    't-sne_label:N',\n",
    "    ['strain','clade_membership', 't-sne_label'],\n",
    "    domain,\n",
    "    range_\n",
    ")\n",
    "domain =  sorted(merged_df[\"umap_label\"].drop_duplicates().values)\n",
    "if -1 in domain:\n",
    "    range_ = [\"#999999\"] + colors[len(domain)-1:len(domain)].dropna(axis=1).values.tolist()[0]\n",
    "else: \n",
    "    range_ = colors[len(domain):len(domain)+1].dropna(axis=1).values.tolist()[0]\n",
    "UMAP = linking_tree_with_plots_brush(\n",
    "    merged_df,\n",
    "    ['umap_x', 'umap_y'],\n",
    "    ['UMAP1', 'UMAP2'],\n",
    "    'umap_label:N',\n",
    "    ['strain','clade_membership', 'umap_label'],\n",
    "    domain,\n",
    "    range_\n",
    ")"
   ]
  },
  {
   "cell_type": "code",
   "execution_count": null,
   "metadata": {},
   "outputs": [],
   "source": [
    "PCAChart = PCA[0]|PCA[1].properties(title= \"MCC Value: \" + str(round(MCC_val[0],3)))\n",
    "MDSChart = MDS[0]|MDS[1].properties(title= \"MCC Value: \" + str(round(MCC_val[1],3)))\n",
    "TSNEChart = TSNE[0]|TSNE[1].properties(title= \"MCC Value: \" + str(round(MCC_val[2],3)))\n",
    "UMAPChart = UMAP[0]|UMAP[1].properties(title= \"MCC Value: \" + str(round(MCC_val[3],3)))"
   ]
  },
  {
   "cell_type": "code",
   "execution_count": null,
   "metadata": {},
   "outputs": [],
   "source": [
    "PCAMDS = alt.vconcat(PCAChart, MDSChart).resolve_scale(color='independent')\n",
    "TSNEUMAP = alt.vconcat(TSNEChart, UMAPChart).resolve_scale(color='independent')\n",
    "fullChart = alt.vconcat(PCAMDS, TSNEUMAP).resolve_scale(color='independent')\n",
    "fullChart\n",
    "fullChart.save(snakemake.output.fullChartHDBSCAN)\n",
    "save(fullChart, snakemake.output.fullChartHDBSCANPNG, scale_factor=2.0)"
   ]
  },
  {
   "cell_type": "code",
   "execution_count": null,
   "metadata": {},
   "outputs": [],
   "source": [
    "fullChart"
   ]
  },
  {
   "cell_type": "code",
   "execution_count": null,
   "metadata": {},
   "outputs": [],
   "source": []
  }
 ],
 "metadata": {
  "kernelspec": {
   "display_name": "Python 3 (ipykernel)",
   "language": "python",
   "name": "python3"
  },
  "language_info": {
   "codemirror_mode": {
    "name": "ipython",
    "version": 3
   },
   "file_extension": ".py",
   "mimetype": "text/x-python",
   "name": "python",
   "nbconvert_exporter": "python",
   "pygments_lexer": "ipython3",
   "version": "3.7.12"
  }
 },
 "nbformat": 4,
 "nbformat_minor": 4
}
