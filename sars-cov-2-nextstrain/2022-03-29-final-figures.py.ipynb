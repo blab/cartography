{
 "cells": [
  {
   "cell_type": "code",
   "execution_count": null,
   "id": "aba2f7c8",
   "metadata": {},
   "outputs": [],
   "source": [
    "import sys\n",
    "sys.path.append(\"notebooks/scripts/\")"
   ]
  },
  {
   "cell_type": "code",
   "execution_count": null,
   "id": "c21ada08",
   "metadata": {},
   "outputs": [],
   "source": [
    "import altair as alt\n",
    "import matplotlib as mpl\n",
    "import matplotlib.pyplot as plt\n",
    "import numpy as np\n",
    "import pandas as pd\n",
    "import seaborn as sns\n",
    "\n",
    "from Helpers import linking_tree_with_plots_brush\n",
    "\n",
    "%matplotlib inline"
   ]
  },
  {
   "cell_type": "markdown",
   "id": "8a6709a2",
   "metadata": {},
   "source": [
    "## Define inputs, outputs, and parameters"
   ]
  },
  {
   "cell_type": "code",
   "execution_count": null,
   "id": "4cd386cb",
   "metadata": {},
   "outputs": [],
   "source": [
    "colors_path = snakemake.input.colors\n",
    "embeddings_path = snakemake.input.annotated_embeddings\n",
    "accuracy_path = snakemake.input.accuracy_table\n",
    "explained_variance_pca = snakemake.input.explained_variance_pca"
   ]
  },
  {
   "cell_type": "code",
   "execution_count": null,
   "id": "c847ad2a",
   "metadata": {},
   "outputs": [],
   "source": [
    "interactive_chart_by_clades = snakemake.output.fullChart\n",
    "static_chart_by_clades = snakemake.output.fullChartPNG\n",
    "\n",
    "interactive_chart_by_clusters = snakemake.output.fullChartHDBSCAN\n",
    "static_chart_by_clusters = snakemake.output.fullChartHDBSCANPNG\n",
    "\n",
    "explained_variance_pca_chart = snakemake.output.Explained_variance_PCA\n",
    "interactive_pca_chart = snakemake.output.PCA_Supplement\n",
    "static_pca_chart = snakemake.output.PCA_Supplement_PNG\n",
    "\n",
    "interactive_mds_chart = snakemake.output.MDS_Supplement\n",
    "static_mds_chart = snakemake.output.MDS_Supplement_PNG"
   ]
  },
  {
   "cell_type": "code",
   "execution_count": null,
   "id": "6aa32b0a",
   "metadata": {},
   "outputs": [],
   "source": [
    "clade_membership = snakemake.params.clade_membership"
   ]
  },
  {
   "cell_type": "code",
   "execution_count": null,
   "id": "0d36bcea",
   "metadata": {},
   "outputs": [],
   "source": [
    "pca_label = snakemake.params.pca_label"
   ]
  },
  {
   "cell_type": "code",
   "execution_count": null,
   "id": "9e911e97",
   "metadata": {},
   "outputs": [],
   "source": [
    "mds_label = snakemake.params.mds_label"
   ]
  },
  {
   "cell_type": "code",
   "execution_count": null,
   "id": "11fdfc25",
   "metadata": {},
   "outputs": [],
   "source": [
    "tsne_label = snakemake.params.tsne_label"
   ]
  },
  {
   "cell_type": "code",
   "execution_count": null,
   "id": "78040d90",
   "metadata": {},
   "outputs": [],
   "source": [
    "umap_label = snakemake.params.umap_label"
   ]
  },
  {
   "cell_type": "code",
   "execution_count": null,
   "id": "b8a16345",
   "metadata": {},
   "outputs": [],
   "source": [
    "sns.set_style(\"ticks\")\n",
    "\n",
    "# Disable top and right spines.\n",
    "mpl.rcParams['axes.spines.top'] = False\n",
    "mpl.rcParams['axes.spines.right'] = False\n",
    "\n",
    "# Display and save figures at higher resolution for presentations and manuscripts.\n",
    "mpl.rcParams['savefig.dpi'] = 300\n",
    "mpl.rcParams['figure.dpi'] = 120\n",
    "\n",
    "# Display text at sizes large enough for presentations and manuscripts.\n",
    "mpl.rcParams['font.weight'] = \"normal\"\n",
    "mpl.rcParams['axes.labelweight'] = \"normal\"\n",
    "mpl.rcParams['font.size'] = 14\n",
    "mpl.rcParams['axes.labelsize'] = 14\n",
    "mpl.rcParams['legend.fontsize'] = 10\n",
    "mpl.rcParams['xtick.labelsize'] = 14\n",
    "mpl.rcParams['ytick.labelsize'] = 14\n",
    "mpl.rcParams['axes.titlesize'] = 14\n",
    "mpl.rc('text', usetex=False)"
   ]
  },
  {
   "cell_type": "markdown",
   "id": "255b258f",
   "metadata": {},
   "source": [
    "## Load data"
   ]
  },
  {
   "cell_type": "code",
   "execution_count": null,
   "id": "697b4c7a",
   "metadata": {},
   "outputs": [],
   "source": [
    "colors = pd.read_csv(colors_path, sep=\"\\t\", names=[i for i in range(0,400)], header=None, nrows=400)"
   ]
  },
  {
   "cell_type": "code",
   "execution_count": null,
   "id": "f392e626",
   "metadata": {},
   "outputs": [],
   "source": [
    "colors.head()"
   ]
  },
  {
   "cell_type": "code",
   "execution_count": null,
   "id": "05af41cb",
   "metadata": {},
   "outputs": [],
   "source": [
    "embeddings_df = pd.read_csv(embeddings_path, sep=\"\\t\")"
   ]
  },
  {
   "cell_type": "code",
   "execution_count": null,
   "id": "01e5961b",
   "metadata": {},
   "outputs": [],
   "source": [
    "embeddings_df = embeddings_df.rename(\n",
    "    columns={\n",
    "        \"numdate\": \"date\",\n",
    "    }\n",
    ")"
   ]
  },
  {
   "cell_type": "code",
   "execution_count": null,
   "id": "69d8956b",
   "metadata": {},
   "outputs": [],
   "source": [
    "embeddings_df[clade_membership] = embeddings_df[clade_membership].fillna(\"unassigned\")"
   ]
  },
  {
   "cell_type": "code",
   "execution_count": null,
   "id": "66b0e3f8",
   "metadata": {},
   "outputs": [],
   "source": [
    "embeddings_df.head()"
   ]
  },
  {
   "cell_type": "code",
   "execution_count": null,
   "id": "cd94d01e",
   "metadata": {},
   "outputs": [],
   "source": [
    "embeddings_df.columns"
   ]
  },
  {
   "cell_type": "code",
   "execution_count": null,
   "id": "a9004d4f",
   "metadata": {},
   "outputs": [],
   "source": [
    "accuracy_df = pd.read_csv(accuracy_path)"
   ]
  },
  {
   "cell_type": "code",
   "execution_count": null,
   "id": "d0ed2b2f",
   "metadata": {},
   "outputs": [],
   "source": [
    "accuracy_df.head()"
   ]
  },
  {
   "cell_type": "code",
   "execution_count": null,
   "id": "6dc6f2ee",
   "metadata": {},
   "outputs": [],
   "source": [
    "explained_variance_df = pd.read_csv(explained_variance_pca)"
   ]
  },
  {
   "cell_type": "code",
   "execution_count": null,
   "id": "efa98b2b",
   "metadata": {},
   "outputs": [],
   "source": [
    "explained_variance_df.head()"
   ]
  },
  {
   "cell_type": "markdown",
   "id": "64663242",
   "metadata": {},
   "source": [
    "## Setup colors"
   ]
  },
  {
   "cell_type": "code",
   "execution_count": null,
   "id": "27bd8b4b",
   "metadata": {},
   "outputs": [],
   "source": [
    "def build_color_range_for_domain(domain, colors, value_for_unassigned=None):\n",
    "    # Rows are zero-indexed, so to get N colors, we select row N - 1.\n",
    "    range_ = colors.loc[len(domain) - 1].dropna().values.tolist()\n",
    "   \n",
    "    # Replace known values for \"unassigned\" clade or cluster labels.\n",
    "    index_for_unassigned = None\n",
    "    if value_for_unassigned is not None and value_for_unassigned in domain:\n",
    "        index_for_unassigned = domain.index(value_for_unassigned)\n",
    "        range_[index_for_unassigned] = \"#999999\"\n",
    "        \n",
    "    return range_"
   ]
  },
  {
   "cell_type": "code",
   "execution_count": null,
   "id": "97f5ce47",
   "metadata": {},
   "outputs": [],
   "source": [
    "domain = sorted(embeddings_df[clade_membership].drop_duplicates().values.tolist())"
   ]
  },
  {
   "cell_type": "code",
   "execution_count": null,
   "id": "03049910",
   "metadata": {},
   "outputs": [],
   "source": [
    "range_ = build_color_range_for_domain(domain, colors)"
   ]
  },
  {
   "cell_type": "code",
   "execution_count": null,
   "id": "17ca27f1",
   "metadata": {},
   "outputs": [],
   "source": [
    "len(domain)"
   ]
  },
  {
   "cell_type": "code",
   "execution_count": null,
   "id": "2ab3fc84",
   "metadata": {},
   "outputs": [],
   "source": [
    "len(range_)"
   ]
  },
  {
   "cell_type": "markdown",
   "id": "13abf271",
   "metadata": {},
   "source": [
    "## Plot PCA variance and embeddings"
   ]
  },
  {
   "cell_type": "code",
   "execution_count": null,
   "id": "e03957dc",
   "metadata": {},
   "outputs": [],
   "source": [
    "fig, ax = plt.subplots(1, 1, figsize=(6, 4))\n",
    "ax.plot(\n",
    "    explained_variance_df[\"principal components\"],\n",
    "    explained_variance_df[\"explained variance\"],\n",
    "    \"o\"\n",
    ")\n",
    "\n",
    "ax.set_xlabel(\"Principal Component\")\n",
    "ax.set_ylabel(\"Explained Variance\")\n",
    "\n",
    "ax.set_ylim(bottom=0)\n",
    "\n",
    "plt.tight_layout()\n",
    "plt.savefig(explained_variance_pca_chart)"
   ]
  },
  {
   "cell_type": "code",
   "execution_count": null,
   "id": "af0f71a5",
   "metadata": {},
   "outputs": [],
   "source": [
    "explained_variance_PCA = explained_variance_df[\"explained variance\"].values.tolist()"
   ]
  },
  {
   "cell_type": "code",
   "execution_count": null,
   "id": "6a9e6a20",
   "metadata": {},
   "outputs": [],
   "source": [
    "embeddings_df.head()"
   ]
  },
  {
   "cell_type": "code",
   "execution_count": null,
   "id": "4a55d59e",
   "metadata": {},
   "outputs": [],
   "source": [
    "legend_columns = int(np.ceil(len(domain) / 30))"
   ]
  },
  {
   "cell_type": "code",
   "execution_count": null,
   "id": "6939d407",
   "metadata": {},
   "outputs": [],
   "source": [
    "pca_charts = linking_tree_with_plots_brush(\n",
    "    embeddings_df,\n",
    "    ['pca1', 'pca2'],\n",
    "    [\n",
    "        'PC 1 (Explained Variance : {}%'.format(round(explained_variance_PCA[0]*100,2)) + \")\",\n",
    "        'PC 2 (Explained Variance : {}%'.format(round(explained_variance_PCA[1]*100,2)) + \")\",\n",
    "    ],\n",
    "    f\"{clade_membership}:N\",\n",
    "    \"Clade membership\",\n",
    "    ['strain', clade_membership],\n",
    "    domain,\n",
    "    range_,\n",
    "    legend_columns=legend_columns,\n",
    ")"
   ]
  },
  {
   "cell_type": "code",
   "execution_count": null,
   "id": "97d2a8c6",
   "metadata": {},
   "outputs": [],
   "source": [
    "pca_chart = ((pca_charts[0]) & (pca_charts[1])).configure_axis(grid=False).configure_view(stroke=None)"
   ]
  },
  {
   "cell_type": "code",
   "execution_count": null,
   "id": "3dfb9dd3",
   "metadata": {},
   "outputs": [],
   "source": [
    "pca_chart"
   ]
  },
  {
   "cell_type": "code",
   "execution_count": null,
   "id": "167d26d7",
   "metadata": {},
   "outputs": [],
   "source": [
    "pca_chart.save(interactive_pca_chart)\n",
    "pca_chart.save(static_pca_chart, format=\"png\", scale_factor=2.0)"
   ]
  },
  {
   "cell_type": "markdown",
   "id": "6a967b85",
   "metadata": {},
   "source": [
    "## Plot MDS embeddings"
   ]
  },
  {
   "cell_type": "code",
   "execution_count": null,
   "id": "e851e9d2",
   "metadata": {},
   "outputs": [],
   "source": [
    "mds_charts = linking_tree_with_plots_brush(\n",
    "    embeddings_df,\n",
    "    ['mds1', 'mds2', 'mds2', 'mds3'],\n",
    "    [\"MDS 1\", \"MDS 2\", \"MDS 2\", \"MDS 3\"],\n",
    "    f\"{clade_membership}:N\",\n",
    "    \"Clade membership\",\n",
    "    ['strain', clade_membership],\n",
    "    domain,\n",
    "    range_,\n",
    "    legend_columns=legend_columns,\n",
    ")"
   ]
  },
  {
   "cell_type": "code",
   "execution_count": null,
   "id": "9b4aa918",
   "metadata": {},
   "outputs": [],
   "source": [
    "mds_chart = ((mds_charts[0]) & (mds_charts[1] | mds_charts[2])).configure_axis(grid=False).configure_view(stroke=None)"
   ]
  },
  {
   "cell_type": "code",
   "execution_count": null,
   "id": "9e1b634d",
   "metadata": {},
   "outputs": [],
   "source": [
    "mds_chart"
   ]
  },
  {
   "cell_type": "code",
   "execution_count": null,
   "id": "8bef453d",
   "metadata": {},
   "outputs": [],
   "source": [
    "mds_chart.save(interactive_mds_chart)\n",
    "mds_chart.save(static_mds_chart, format=\"png\", scale_factor=2.0)"
   ]
  },
  {
   "cell_type": "markdown",
   "id": "0d6bed96",
   "metadata": {},
   "source": [
    "## Plot all embeddings by clade"
   ]
  },
  {
   "cell_type": "code",
   "execution_count": null,
   "id": "fc63f17f",
   "metadata": {},
   "outputs": [],
   "source": [
    "data = linking_tree_with_plots_brush(\n",
    "    embeddings_df,\n",
    "    ['mds1', 'mds2', 'tsne_x', 'tsne_y', 'pca1', 'pca2', 'umap_x', 'umap_y'],\n",
    "    [\n",
    "        'MDS 1',\n",
    "        'MDS 2',\n",
    "        't-SNE 1',\n",
    "        't-SNE 2',\n",
    "        'PC 1 (Explained Variance : {}%'.format(round(explained_variance_PCA[0]*100,2)) + \")\",\n",
    "        'PC 2 (Explained Variance : {}%'.format(round(explained_variance_PCA[1]*100,2)) + \")\",\n",
    "        'UMAP 1',\n",
    "        'UMAP 2'\n",
    "    ],\n",
    "    f'{clade_membership}:N',\n",
    "    \"Clade membership\",\n",
    "    ['strain', clade_membership],\n",
    "    domain,\n",
    "    range_,\n",
    "    legend_columns=legend_columns,\n",
    ")"
   ]
  },
  {
   "cell_type": "code",
   "execution_count": null,
   "id": "9dd8014f",
   "metadata": {},
   "outputs": [],
   "source": [
    "PCAMDS = data[3]|data[1]\n",
    "TSNEUMAP = data[2]|data[4]\n",
    "embeddings = alt.vconcat(PCAMDS,TSNEUMAP)\n",
    "embeddings\n",
    "fullChart = alt.vconcat(data[0],embeddings).configure_axis(grid=False).configure_view(stroke=None)"
   ]
  },
  {
   "cell_type": "code",
   "execution_count": null,
   "id": "588edf1b",
   "metadata": {},
   "outputs": [],
   "source": [
    "fullChart"
   ]
  },
  {
   "cell_type": "code",
   "execution_count": null,
   "id": "2413128e",
   "metadata": {},
   "outputs": [],
   "source": [
    "fullChart.save(interactive_chart_by_clades)\n",
    "fullChart.save(static_chart_by_clades, format=\"png\", scale_factor=2.0)"
   ]
  },
  {
   "cell_type": "code",
   "execution_count": null,
   "id": "ea20c191",
   "metadata": {},
   "outputs": [],
   "source": [
    "poster_embeddings_by_clade = alt.vconcat(\n",
    "    data[0].properties(width=1100),\n",
    "    (data[3] | data[1] | data[2] | data[4]),\n",
    ").configure_axis(grid=False).configure_view(stroke=None)\n",
    "poster_embeddings_by_clade"
   ]
  },
  {
   "cell_type": "markdown",
   "id": "7dfb3791",
   "metadata": {},
   "source": [
    "## Plot all embeddings by cluster"
   ]
  },
  {
   "cell_type": "code",
   "execution_count": null,
   "id": "c24b2faf",
   "metadata": {},
   "outputs": [],
   "source": [
    "pca_label_color_domain =  sorted(embeddings_df[pca_label].drop_duplicates().dropna().values)\n",
    "pca_label_color_range = build_color_range_for_domain(\n",
    "    pca_label_color_domain,\n",
    "    colors,\n",
    "    value_for_unassigned=-1,\n",
    ")"
   ]
  },
  {
   "cell_type": "code",
   "execution_count": null,
   "id": "6c42ec09",
   "metadata": {},
   "outputs": [],
   "source": [
    "pca_legend_columns = int(np.ceil(len(pca_label_color_domain) / 20))"
   ]
  },
  {
   "cell_type": "code",
   "execution_count": null,
   "id": "e0f10101",
   "metadata": {},
   "outputs": [],
   "source": [
    "pca_by_cluster = linking_tree_with_plots_brush(\n",
    "    embeddings_df,\n",
    "    ['pca1', 'pca2'],\n",
    "    [\n",
    "        'PC 1 (Explained Variance : {}%'.format(round(explained_variance_PCA[0] * 100, 2)) + \")\",\n",
    "        'PC 2 (Explained Variance : {}%'.format(round(explained_variance_PCA[1] * 100, 2)) + \")\"\n",
    "    ],\n",
    "    f'{pca_label}:N',\n",
    "    \"PCA cluster\",\n",
    "    ['strain', clade_membership, pca_label],\n",
    "    pca_label_color_domain,\n",
    "    pca_label_color_range,\n",
    "    legend_columns=pca_legend_columns,\n",
    ")"
   ]
  },
  {
   "cell_type": "code",
   "execution_count": null,
   "id": "484d07c7",
   "metadata": {},
   "outputs": [],
   "source": [
    "mds_label_color_domain =  sorted(embeddings_df[mds_label].drop_duplicates().dropna().values)\n",
    "mds_label_color_range = build_color_range_for_domain(\n",
    "    mds_label_color_domain,\n",
    "    colors,\n",
    "    value_for_unassigned=-1,\n",
    ")"
   ]
  },
  {
   "cell_type": "code",
   "execution_count": null,
   "id": "ee8e35b9",
   "metadata": {},
   "outputs": [],
   "source": [
    "mds_legend_columns = int(np.ceil(len(mds_label_color_domain) / 20))"
   ]
  },
  {
   "cell_type": "code",
   "execution_count": null,
   "id": "898f1a62",
   "metadata": {},
   "outputs": [],
   "source": [
    "mds_by_cluster = linking_tree_with_plots_brush(\n",
    "    embeddings_df,\n",
    "    ['mds1', 'mds2'],\n",
    "    ['MDS 1', 'MDS 2'],\n",
    "    f'{mds_label}:N',\n",
    "    \"MDS cluster\",\n",
    "    ['strain', clade_membership, mds_label],\n",
    "    mds_label_color_domain,\n",
    "    mds_label_color_range,\n",
    "    legend_columns=mds_legend_columns,\n",
    ")"
   ]
  },
  {
   "cell_type": "code",
   "execution_count": null,
   "id": "30385804",
   "metadata": {},
   "outputs": [],
   "source": [
    "tsne_label_color_domain =  sorted(embeddings_df[tsne_label].drop_duplicates().dropna().values)\n",
    "tsne_label_color_range = build_color_range_for_domain(\n",
    "    tsne_label_color_domain,\n",
    "    colors,\n",
    "    value_for_unassigned=-1,\n",
    ")"
   ]
  },
  {
   "cell_type": "code",
   "execution_count": null,
   "id": "2e728d04",
   "metadata": {},
   "outputs": [],
   "source": [
    "tsne_legend_columns = int(np.ceil(len(tsne_label_color_domain) / 20))"
   ]
  },
  {
   "cell_type": "code",
   "execution_count": null,
   "id": "14fe85d2",
   "metadata": {},
   "outputs": [],
   "source": [
    "tsne_by_cluster = linking_tree_with_plots_brush(\n",
    "    embeddings_df,\n",
    "    ['tsne_x', 'tsne_y'],\n",
    "    ['t-SNE 1', 't-SNE 2'],\n",
    "    f'{tsne_label}:N',\n",
    "    \"t-SNE cluster\",\n",
    "    ['strain', clade_membership, tsne_label],\n",
    "    tsne_label_color_domain,\n",
    "    tsne_label_color_range,\n",
    "    legend_columns=tsne_legend_columns,\n",
    ")"
   ]
  },
  {
   "cell_type": "code",
   "execution_count": null,
   "id": "dbddb568",
   "metadata": {},
   "outputs": [],
   "source": [
    "umap_label_color_domain =  sorted(embeddings_df[umap_label].drop_duplicates().dropna().values)\n",
    "umap_label_color_range = build_color_range_for_domain(\n",
    "    umap_label_color_domain,\n",
    "    colors,\n",
    "    value_for_unassigned=-1,\n",
    ")"
   ]
  },
  {
   "cell_type": "code",
   "execution_count": null,
   "id": "95a67af4",
   "metadata": {},
   "outputs": [],
   "source": [
    "umap_legend_columns = int(np.ceil(len(umap_label_color_domain) / 20))"
   ]
  },
  {
   "cell_type": "code",
   "execution_count": null,
   "id": "fa7ce1c6",
   "metadata": {},
   "outputs": [],
   "source": [
    "umap_by_cluster = linking_tree_with_plots_brush(\n",
    "    embeddings_df,\n",
    "    ['umap_x', 'umap_y'],\n",
    "    ['UMAP 1', 'UMAP 2'],\n",
    "    f'{umap_label}:N',\n",
    "    \"UMAP cluster\",\n",
    "    ['strain', clade_membership, umap_label],\n",
    "    umap_label_color_domain,\n",
    "    umap_label_color_range,\n",
    "    legend_columns=umap_legend_columns,\n",
    ")"
   ]
  },
  {
   "cell_type": "code",
   "execution_count": null,
   "id": "2a7c9417",
   "metadata": {},
   "outputs": [],
   "source": [
    "accuracy_by_method = dict(accuracy_df.loc[:, [\"method\", \"normalized_vi\"]].values)"
   ]
  },
  {
   "cell_type": "code",
   "execution_count": null,
   "id": "fb1314bb",
   "metadata": {},
   "outputs": [],
   "source": [
    "accuracy_by_method"
   ]
  },
  {
   "cell_type": "code",
   "execution_count": null,
   "id": "89c04177",
   "metadata": {},
   "outputs": [],
   "source": [
    "composed_pca_by_cluster = pca_by_cluster[0] | pca_by_cluster[1].properties(\n",
    "    title= f\"Normalized VI: {accuracy_by_method['pca']:.2f}\"\n",
    ")\n",
    "\n",
    "composed_mds_by_cluster = mds_by_cluster[0] | mds_by_cluster[1].properties(\n",
    "    title= f\"Normalized VI: {accuracy_by_method['mds']:.2f}\"\n",
    ")\n",
    "\n",
    "composed_tsne_by_cluster = tsne_by_cluster[0] | tsne_by_cluster[1].properties(\n",
    "    title= f\"Normalized VI: {accuracy_by_method['t-sne']:.2f}\"\n",
    ")\n",
    "\n",
    "composed_umap_by_cluster = umap_by_cluster[0] | umap_by_cluster[1].properties(\n",
    "    title= f\"Normalized VI: {accuracy_by_method['umap']:.2f}\"\n",
    ")"
   ]
  },
  {
   "cell_type": "code",
   "execution_count": null,
   "id": "9fd5fde1",
   "metadata": {},
   "outputs": [],
   "source": [
    "pca_mds = alt.vconcat(composed_pca_by_cluster, composed_mds_by_cluster).resolve_scale(color='independent')\n",
    "tsne_umap = alt.vconcat(composed_tsne_by_cluster, composed_umap_by_cluster).resolve_scale(color='independent')\n",
    "full_chart_by_cluster = alt.vconcat(pca_mds, tsne_umap).resolve_scale(color='independent').configure_axis(grid=False).configure_view(stroke=None)"
   ]
  },
  {
   "cell_type": "code",
   "execution_count": null,
   "id": "f4e1624d",
   "metadata": {},
   "outputs": [],
   "source": [
    "full_chart_by_cluster"
   ]
  },
  {
   "cell_type": "code",
   "execution_count": null,
   "id": "9adfa314",
   "metadata": {},
   "outputs": [],
   "source": [
    "full_chart_by_cluster.save(interactive_chart_by_clusters)\n",
    "full_chart_by_cluster.save(static_chart_by_clusters, format=\"png\", scale_factor=2.0)"
   ]
  },
  {
   "cell_type": "markdown",
   "id": "e303df26",
   "metadata": {},
   "source": [
    "## Prepare figures for poster"
   ]
  },
  {
   "cell_type": "code",
   "execution_count": null,
   "id": "6b3f57d1",
   "metadata": {},
   "outputs": [],
   "source": [
    "pca_by_cluster = linking_tree_with_plots_brush(\n",
    "    embeddings_df,\n",
    "    ['pca1', 'pca2'],\n",
    "    [\n",
    "        'PC 1 (Explained Variance : {}%'.format(round(explained_variance_PCA[0] * 100, 2)) + \")\",\n",
    "        'PC 2 (Explained Variance : {}%'.format(round(explained_variance_PCA[1] * 100, 2)) + \")\"\n",
    "    ],\n",
    "    f'{pca_label}:N',\n",
    "    \"PCA cluster\",\n",
    "    ['strain', clade_membership, pca_label],\n",
    "    pca_label_color_domain,\n",
    "    pca_label_color_range,\n",
    "    legend_columns=pca_legend_columns,\n",
    "    plot_legend=False,\n",
    ")"
   ]
  },
  {
   "cell_type": "code",
   "execution_count": null,
   "id": "4c434cb6",
   "metadata": {},
   "outputs": [],
   "source": [
    "mds_by_cluster = linking_tree_with_plots_brush(\n",
    "    embeddings_df,\n",
    "    ['mds1', 'mds2'],\n",
    "    ['MDS 1', 'MDS 2'],\n",
    "    f'{mds_label}:N',\n",
    "    \"MDS cluster\",\n",
    "    ['strain', clade_membership, mds_label],\n",
    "    mds_label_color_domain,\n",
    "    mds_label_color_range,\n",
    "    legend_columns=mds_legend_columns,\n",
    "    plot_legend=False,\n",
    ")"
   ]
  },
  {
   "cell_type": "code",
   "execution_count": null,
   "id": "1b3f01f6",
   "metadata": {},
   "outputs": [],
   "source": [
    "tsne_by_cluster = linking_tree_with_plots_brush(\n",
    "    embeddings_df,\n",
    "    ['tsne_x', 'tsne_y'],\n",
    "    ['t-SNE 1', 't-SNE 2'],\n",
    "    f'{tsne_label}:N',\n",
    "    \"t-SNE cluster\",\n",
    "    ['strain', clade_membership, tsne_label],\n",
    "    tsne_label_color_domain,\n",
    "    tsne_label_color_range,\n",
    "    legend_columns=tsne_legend_columns,\n",
    "    plot_legend=False,\n",
    ")"
   ]
  },
  {
   "cell_type": "code",
   "execution_count": null,
   "id": "d0e603d7",
   "metadata": {},
   "outputs": [],
   "source": [
    "umap_by_cluster = linking_tree_with_plots_brush(\n",
    "    embeddings_df,\n",
    "    ['umap_x', 'umap_y'],\n",
    "    ['UMAP 1', 'UMAP 2'],\n",
    "    f'{umap_label}:N',\n",
    "    \"UMAP cluster\",\n",
    "    ['strain', clade_membership, umap_label],\n",
    "    umap_label_color_domain,\n",
    "    umap_label_color_range,\n",
    "    legend_columns=umap_legend_columns,\n",
    "    plot_legend=False,\n",
    ")"
   ]
  },
  {
   "cell_type": "code",
   "execution_count": null,
   "id": "e2783e3a",
   "metadata": {},
   "outputs": [],
   "source": [
    "poster_embeddings_by_cluster = alt.vconcat(\n",
    "    (\n",
    "        pca_by_cluster[0].properties(width=250, height=250) |\n",
    "        mds_by_cluster[0].properties(width=250, height=250) |\n",
    "        tsne_by_cluster[0].properties(width=250, height=250) |\n",
    "        umap_by_cluster[0].properties(width=250, height=250)\n",
    "    ).resolve_scale(color='independent'),\n",
    "    (\n",
    "        pca_by_cluster[1].properties(width=250, height=250, title= f\"Normalized VI: {accuracy_by_method['pca']:.2f}\") |\n",
    "        mds_by_cluster[1].properties(width=250, height=250, title= f\"Normalized VI: {accuracy_by_method['mds']:.2f}\") |\n",
    "        tsne_by_cluster[1].properties(width=250, height=250, title= f\"Normalized VI: {accuracy_by_method['t-sne']:.2f}\") |\n",
    "        umap_by_cluster[1].properties(width=250, height=250, title= f\"Normalized VI: {accuracy_by_method['umap']:.2f}\")\n",
    "    ).resolve_scale(color='independent')\n",
    ").configure_legend(disable=True).configure_axis(grid=False).configure_view(stroke=None)\n",
    "\n",
    "poster_embeddings_by_cluster"
   ]
  },
  {
   "cell_type": "code",
   "execution_count": null,
   "id": "51603b4f",
   "metadata": {},
   "outputs": [],
   "source": []
  }
 ],
 "metadata": {
  "kernelspec": {
   "display_name": "Python 3 (ipykernel)",
   "language": "python",
   "name": "python3"
  },
  "language_info": {
   "codemirror_mode": {
    "name": "ipython",
    "version": 3
   },
   "file_extension": ".py",
   "mimetype": "text/x-python",
   "name": "python",
   "nbconvert_exporter": "python",
   "pygments_lexer": "ipython3",
   "version": "3.9.18"
  }
 },
 "nbformat": 4,
 "nbformat_minor": 5
}
