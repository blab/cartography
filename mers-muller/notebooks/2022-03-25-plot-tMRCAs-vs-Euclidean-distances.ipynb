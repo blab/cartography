{
 "cells": [
  {
   "cell_type": "code",
   "execution_count": null,
   "id": "06fd1567-2a70-4ca8-9af7-c7b6c4b87e02",
   "metadata": {},
   "outputs": [],
   "source": [
    "import matplotlib.pyplot as plt\n",
    "import numpy as np\n",
    "import pandas as pd\n",
    "from scipy.spatial.distance import pdist, squareform\n",
    "import seaborn as sns\n",
    "\n",
    "%matplotlib inline"
   ]
  },
  {
   "cell_type": "code",
   "execution_count": null,
   "id": "749797a0-015a-4671-9257-cf3ef424a9e4",
   "metadata": {},
   "outputs": [],
   "source": [
    "sns.set_style(\"ticks\")"
   ]
  },
  {
   "cell_type": "markdown",
   "id": "090dd78c",
   "metadata": {},
   "source": [
    "## Define inputs, outputs, and parameters"
   ]
  },
  {
   "cell_type": "code",
   "execution_count": null,
   "id": "3b1a0136",
   "metadata": {},
   "outputs": [],
   "source": [
    "tMRCAs_file = snakemake.input.tmrcas\n",
    "pca_path = snakemake.input.embedding_pca\n",
    "mds_path = snakemake.input.embedding_mds\n",
    "tsne_path = snakemake.input.embedding_tsne\n",
    "umap_path = snakemake.input.embedding_umap\n",
    "\n",
    "distances_figure = snakemake.output.distances_figure"
   ]
  },
  {
   "cell_type": "markdown",
   "id": "d9e55d2c",
   "metadata": {},
   "source": [
    "## Load data"
   ]
  },
  {
   "cell_type": "markdown",
   "id": "ebbc3413",
   "metadata": {},
   "source": [
    "### tMRCAs from recombination network"
   ]
  },
  {
   "cell_type": "code",
   "execution_count": null,
   "id": "557765d0-a77c-4101-a401-6067b4def881",
   "metadata": {},
   "outputs": [],
   "source": [
    "df = pd.read_csv(\n",
    "    tMRCAs_file,\n",
    "    sep=\"\\t\"\n",
    ").rename(\n",
    "    columns={\"median_median\": \"median_tMRCA\"}\n",
    ")"
   ]
  },
  {
   "cell_type": "code",
   "execution_count": null,
   "id": "8cb43c32-e2a0-405f-885b-a50a2ccc419a",
   "metadata": {},
   "outputs": [],
   "source": [
    "df.head()"
   ]
  },
  {
   "cell_type": "code",
   "execution_count": null,
   "id": "8100970f-3bd5-4f20-b7d2-2d6624d6c9fe",
   "metadata": {},
   "outputs": [],
   "source": [
    "strains = sorted(df[\"reference_strain\"].drop_duplicates().values)"
   ]
  },
  {
   "cell_type": "code",
   "execution_count": null,
   "id": "328c90cc-6e2d-4f2e-9952-d376169cd09a",
   "metadata": {},
   "outputs": [],
   "source": [
    "other_strains = sorted(df[\"name\"].drop_duplicates().values)"
   ]
  },
  {
   "cell_type": "code",
   "execution_count": null,
   "id": "cb7512a7-3621-404a-855e-e75ab6b30712",
   "metadata": {},
   "outputs": [],
   "source": [
    "len(strains)"
   ]
  },
  {
   "cell_type": "code",
   "execution_count": null,
   "id": "4ebef104-f57e-45a1-ad5f-154526fe879f",
   "metadata": {},
   "outputs": [],
   "source": [
    "len(other_strains)"
   ]
  },
  {
   "cell_type": "code",
   "execution_count": null,
   "id": "1ba68c85-2f75-4272-b48b-c18c86358462",
   "metadata": {},
   "outputs": [],
   "source": [
    "df.shape"
   ]
  },
  {
   "cell_type": "code",
   "execution_count": null,
   "id": "80e3e9b9-789f-4c99-add8-ce7b9bd18893",
   "metadata": {},
   "outputs": [],
   "source": [
    "df = df.set_index([\n",
    "    \"reference_strain\",\n",
    "    \"name\",\n",
    "])"
   ]
  },
  {
   "cell_type": "code",
   "execution_count": null,
   "id": "e74b15f2-5000-461c-8c5a-68146ccfad8d",
   "metadata": {},
   "outputs": [],
   "source": [
    "df.head()"
   ]
  },
  {
   "cell_type": "code",
   "execution_count": null,
   "id": "44b83b04-8ba6-40c8-9d63-45216b2ffe75",
   "metadata": {},
   "outputs": [],
   "source": [
    "df"
   ]
  },
  {
   "cell_type": "code",
   "execution_count": null,
   "id": "0c047e97-82bf-49bb-bc9c-1cec7c354eaa",
   "metadata": {
    "tags": []
   },
   "outputs": [],
   "source": [
    "tMRCAs = []\n",
    "for i in range(len(strains)):\n",
    "    strain_i = strains[i]\n",
    "    for j in range(i + 1, len(strains)):\n",
    "        strain_j = strains[j]\n",
    "        \n",
    "        try:\n",
    "            tMRCA = df.loc[(strain_i, strain_j), \"median_tMRCA\"]\n",
    "        except KeyError:\n",
    "            tMRCA = np.NaN\n",
    "            \n",
    "        tMRCAs.append(tMRCA)"
   ]
  },
  {
   "cell_type": "code",
   "execution_count": null,
   "id": "181b7239-b501-47bf-922e-fda70e7f8f7e",
   "metadata": {},
   "outputs": [],
   "source": [
    "len(tMRCAs)"
   ]
  },
  {
   "cell_type": "code",
   "execution_count": null,
   "id": "7139e404-b7ce-4570-9f80-38da5ef92dce",
   "metadata": {},
   "outputs": [],
   "source": [
    "tMRCAs = np.array(tMRCAs)"
   ]
  },
  {
   "cell_type": "code",
   "execution_count": null,
   "id": "d153a6dd-e0e5-460c-b584-efb05d55dd1f",
   "metadata": {},
   "outputs": [],
   "source": [
    "tMRCAs"
   ]
  },
  {
   "cell_type": "markdown",
   "id": "1f17a996",
   "metadata": {},
   "source": [
    "### PCA"
   ]
  },
  {
   "cell_type": "code",
   "execution_count": null,
   "id": "b3c22d2f",
   "metadata": {},
   "outputs": [],
   "source": [
    "pca = pd.read_csv(\n",
    "    pca_path,\n",
    "    index_col=\"strain\",\n",
    ")\n",
    "\n",
    "pca = pca.drop(columns=[column for column in pca.columns if \"label\" in column])"
   ]
  },
  {
   "cell_type": "code",
   "execution_count": null,
   "id": "f9af5059",
   "metadata": {},
   "outputs": [],
   "source": [
    "pca.head()"
   ]
  },
  {
   "cell_type": "code",
   "execution_count": null,
   "id": "51749e91",
   "metadata": {},
   "outputs": [],
   "source": [
    "pca_distances = pdist(pca.values)"
   ]
  },
  {
   "cell_type": "code",
   "execution_count": null,
   "id": "eccb4ff1",
   "metadata": {
    "scrolled": true
   },
   "outputs": [],
   "source": [
    "pca_distances"
   ]
  },
  {
   "cell_type": "markdown",
   "id": "93ccd439",
   "metadata": {},
   "source": [
    "### MDS"
   ]
  },
  {
   "cell_type": "code",
   "execution_count": null,
   "id": "0b2c30ae",
   "metadata": {},
   "outputs": [],
   "source": [
    "mds = pd.read_csv(\n",
    "    mds_path,\n",
    "    index_col=\"strain\",\n",
    ")\n",
    "\n",
    "mds = mds.drop(columns=[column for column in mds.columns if \"label\" in column])"
   ]
  },
  {
   "cell_type": "code",
   "execution_count": null,
   "id": "a4ae6058-a0fc-4767-9eb7-bcbe465738ea",
   "metadata": {},
   "outputs": [],
   "source": [
    "mds.head()"
   ]
  },
  {
   "cell_type": "code",
   "execution_count": null,
   "id": "d756f749-803f-4bdf-8c0e-4704533bfe5c",
   "metadata": {},
   "outputs": [],
   "source": [
    "mds_distances = pdist(mds.values)"
   ]
  },
  {
   "cell_type": "code",
   "execution_count": null,
   "id": "9120efa6-c28c-4620-bb51-883437a5fd7c",
   "metadata": {},
   "outputs": [],
   "source": [
    "mds_distances"
   ]
  },
  {
   "cell_type": "markdown",
   "id": "61620f1e",
   "metadata": {},
   "source": [
    "### t-SNE"
   ]
  },
  {
   "cell_type": "code",
   "execution_count": null,
   "id": "9b9ea5ac",
   "metadata": {},
   "outputs": [],
   "source": [
    "tsne = pd.read_csv(\n",
    "    tsne_path,\n",
    "    index_col=\"strain\",\n",
    ")\n",
    "\n",
    "tsne = tsne.drop(columns=[column for column in tsne.columns if \"label\" in column])"
   ]
  },
  {
   "cell_type": "code",
   "execution_count": null,
   "id": "864db01a",
   "metadata": {},
   "outputs": [],
   "source": [
    "tsne.head()"
   ]
  },
  {
   "cell_type": "code",
   "execution_count": null,
   "id": "b89304b9",
   "metadata": {},
   "outputs": [],
   "source": [
    "tsne_distances = pdist(tsne.values)"
   ]
  },
  {
   "cell_type": "code",
   "execution_count": null,
   "id": "10bd6180",
   "metadata": {},
   "outputs": [],
   "source": [
    "tsne_distances"
   ]
  },
  {
   "cell_type": "markdown",
   "id": "6808d1cd",
   "metadata": {},
   "source": [
    "### UMAP"
   ]
  },
  {
   "cell_type": "code",
   "execution_count": null,
   "id": "49b3382e",
   "metadata": {},
   "outputs": [],
   "source": [
    "umap = pd.read_csv(\n",
    "    umap_path,\n",
    "    index_col=\"strain\",\n",
    ")\n",
    "\n",
    "umap = umap.drop(columns=[column for column in umap.columns if \"label\" in column])"
   ]
  },
  {
   "cell_type": "code",
   "execution_count": null,
   "id": "87bab443",
   "metadata": {},
   "outputs": [],
   "source": [
    "umap.head()"
   ]
  },
  {
   "cell_type": "code",
   "execution_count": null,
   "id": "96636ab7-7bab-4650-abf5-158c33be06e1",
   "metadata": {},
   "outputs": [],
   "source": [
    "umap_distances = pdist(umap.values)"
   ]
  },
  {
   "cell_type": "code",
   "execution_count": null,
   "id": "3af1065a",
   "metadata": {},
   "outputs": [],
   "source": [
    "umap_distances"
   ]
  },
  {
   "cell_type": "code",
   "execution_count": null,
   "id": "b6e353f7",
   "metadata": {},
   "outputs": [],
   "source": [
    "umap_distances.shape"
   ]
  },
  {
   "cell_type": "code",
   "execution_count": null,
   "id": "6c3eb230-7014-4154-a375-f18c145e8b1b",
   "metadata": {},
   "outputs": [],
   "source": [
    "fig, ax = plt.subplots(1, 1, figsize=(6, 6), dpi=120)\n",
    "ax.hist(df[\"median_tMRCA\"])\n",
    "\n",
    "ax.set_xlabel(f\"median tMRCA\")\n",
    "ax.set_ylabel(\"number of strains\")"
   ]
  },
  {
   "cell_type": "code",
   "execution_count": null,
   "id": "79305c6b-71c1-4ee8-b274-674626b69de7",
   "metadata": {},
   "outputs": [],
   "source": [
    "distances = pd.DataFrame({\n",
    "    \"tMRCA\": tMRCAs,\n",
    "    \"pca\": pca_distances,\n",
    "    \"mds\": mds_distances,\n",
    "    \"t-sne\": tsne_distances,\n",
    "    \"umap\": umap_distances,\n",
    "})"
   ]
  },
  {
   "cell_type": "code",
   "execution_count": null,
   "id": "d5474ae3-f50f-4464-b6a2-c58943bf5c32",
   "metadata": {},
   "outputs": [],
   "source": [
    "distances.head()"
   ]
  },
  {
   "cell_type": "markdown",
   "id": "bf842277",
   "metadata": {},
   "source": [
    "## Plot Euclidean distances per embedding by tMRCA"
   ]
  },
  {
   "cell_type": "code",
   "execution_count": null,
   "id": "f6f312d2-3e24-4584-bb83-02e39deda5ed",
   "metadata": {},
   "outputs": [],
   "source": [
    "fig, axes = plt.subplots(2, 2, figsize=(8, 8), dpi=200) \n",
    "all_axes = axes.flatten()\n",
    "\n",
    "# PCA\n",
    "ax1 = all_axes[0]\n",
    "ax1 = sns.regplot(\n",
    "    x=\"tMRCA\",\n",
    "    y=\"pca\",\n",
    "    data=distances,\n",
    "    lowess=True,\n",
    "    scatter_kws={\"alpha\": 0.25},\n",
    "    line_kws={\"color\": \"orange\"},\n",
    "    ax=ax1,\n",
    ")\n",
    "\n",
    "ax1.set_xlabel(\"median tMRCA\")\n",
    "ax1.set_ylabel(f\"Euclidean distance (PCA)\")\n",
    "\n",
    "ax1.set_ylim(bottom=0)\n",
    "\n",
    "# MDS\n",
    "ax2 = all_axes[1]\n",
    "ax2 = sns.regplot(\n",
    "    x=\"tMRCA\",\n",
    "    y=\"mds\",\n",
    "    data=distances,\n",
    "    lowess=True,\n",
    "    scatter_kws={\"alpha\": 0.25},\n",
    "    line_kws={\"color\": \"orange\"},\n",
    "    ax=ax2,\n",
    ")\n",
    "\n",
    "ax2.set_xlabel(\"median tMRCA\")\n",
    "ax2.set_ylabel(f\"Euclidean distance (MDS)\")\n",
    "\n",
    "ax2.set_ylim(bottom=0)\n",
    "\n",
    "# t-SNE\n",
    "ax3 = all_axes[2]\n",
    "ax3 = sns.regplot(\n",
    "    x=\"tMRCA\",\n",
    "    y=\"t-sne\",\n",
    "    data=distances,\n",
    "    lowess=True,\n",
    "    scatter_kws={\"alpha\": 0.25},\n",
    "    line_kws={\"color\": \"orange\"},\n",
    "    ax=ax3,\n",
    ")\n",
    "\n",
    "ax3.set_xlabel(\"median tMRCA\")\n",
    "ax3.set_ylabel(f\"Euclidean distance (t-SNE)\")\n",
    "\n",
    "ax3.set_ylim(bottom=0)\n",
    "\n",
    "# UMAP\n",
    "ax4 = all_axes[3]\n",
    "ax4 = sns.regplot(\n",
    "    x=\"tMRCA\",\n",
    "    y=\"umap\",\n",
    "    data=distances,\n",
    "    lowess=True,\n",
    "    scatter_kws={\"alpha\": 0.25},\n",
    "    line_kws={\"color\": \"orange\"},\n",
    "    ax=ax4,\n",
    ")\n",
    "\n",
    "ax4.set_xlabel(\"median tMRCA\")\n",
    "ax4.set_ylabel(f\"Euclidean distance (UMAP)\")\n",
    "\n",
    "ax4.set_ylim(bottom=0)\n",
    "\n",
    "sns.despine()\n",
    "\n",
    "plt.tight_layout()\n",
    "plt.savefig(distances_figure)"
   ]
  },
  {
   "cell_type": "code",
   "execution_count": null,
   "id": "73d58d51-ad38-4f0c-8ecc-da28d949d186",
   "metadata": {},
   "outputs": [],
   "source": []
  }
 ],
 "metadata": {
  "kernelspec": {
   "display_name": "Python 3 (ipykernel)",
   "language": "python",
   "name": "python3"
  },
  "language_info": {
   "codemirror_mode": {
    "name": "ipython",
    "version": 3
   },
   "file_extension": ".py",
   "mimetype": "text/x-python",
   "name": "python",
   "nbconvert_exporter": "python",
   "pygments_lexer": "ipython3",
   "version": "3.7.12"
  }
 },
 "nbformat": 4,
 "nbformat_minor": 5
}
