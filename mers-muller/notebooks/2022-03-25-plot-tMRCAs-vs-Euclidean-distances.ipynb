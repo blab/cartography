{
 "cells": [
  {
   "cell_type": "code",
   "execution_count": null,
   "id": "06fd1567-2a70-4ca8-9af7-c7b6c4b87e02",
   "metadata": {},
   "outputs": [],
   "source": [
    "import matplotlib.pyplot as plt\n",
    "import numpy as np\n",
    "import pandas as pd\n",
    "from scipy.spatial.distance import pdist, squareform\n",
    "import seaborn as sns\n",
    "\n",
    "%matplotlib inline"
   ]
  },
  {
   "cell_type": "code",
   "execution_count": null,
   "id": "749797a0-015a-4671-9257-cf3ef424a9e4",
   "metadata": {},
   "outputs": [],
   "source": [
    "sns.set_style(\"ticks\")"
   ]
  },
  {
   "cell_type": "code",
   "execution_count": null,
   "id": "3b1a0136",
   "metadata": {},
   "outputs": [],
   "source": [
    "tMRCAs_file = snakemake.input.tmrcas\n",
    "embedding_file = snakemake.input.embedding\n",
    "\n",
    "distances_figure = snakemake.output.distances_figure"
   ]
  },
  {
   "cell_type": "code",
   "execution_count": null,
   "id": "557765d0-a77c-4101-a401-6067b4def881",
   "metadata": {},
   "outputs": [],
   "source": [
    "df = pd.read_csv(\n",
    "    tMRCAs_file,\n",
    "    sep=\"\\t\"\n",
    ").rename(\n",
    "    columns={\"median_median\": \"median_tMRCA\"}\n",
    ")"
   ]
  },
  {
   "cell_type": "code",
   "execution_count": null,
   "id": "8cb43c32-e2a0-405f-885b-a50a2ccc419a",
   "metadata": {},
   "outputs": [],
   "source": [
    "df.head()"
   ]
  },
  {
   "cell_type": "code",
   "execution_count": null,
   "id": "8100970f-3bd5-4f20-b7d2-2d6624d6c9fe",
   "metadata": {},
   "outputs": [],
   "source": [
    "strains = sorted(df[\"reference_strain\"].drop_duplicates().values)"
   ]
  },
  {
   "cell_type": "code",
   "execution_count": null,
   "id": "328c90cc-6e2d-4f2e-9952-d376169cd09a",
   "metadata": {},
   "outputs": [],
   "source": [
    "other_strains = sorted(df[\"name\"].drop_duplicates().values)"
   ]
  },
  {
   "cell_type": "code",
   "execution_count": null,
   "id": "cb7512a7-3621-404a-855e-e75ab6b30712",
   "metadata": {},
   "outputs": [],
   "source": [
    "len(strains)"
   ]
  },
  {
   "cell_type": "code",
   "execution_count": null,
   "id": "4ebef104-f57e-45a1-ad5f-154526fe879f",
   "metadata": {},
   "outputs": [],
   "source": [
    "len(other_strains)"
   ]
  },
  {
   "cell_type": "code",
   "execution_count": null,
   "id": "1ba68c85-2f75-4272-b48b-c18c86358462",
   "metadata": {},
   "outputs": [],
   "source": [
    "df.shape"
   ]
  },
  {
   "cell_type": "code",
   "execution_count": null,
   "id": "80e3e9b9-789f-4c99-add8-ce7b9bd18893",
   "metadata": {},
   "outputs": [],
   "source": [
    "df = df.set_index([\n",
    "    \"reference_strain\",\n",
    "    \"name\",\n",
    "])"
   ]
  },
  {
   "cell_type": "code",
   "execution_count": null,
   "id": "e74b15f2-5000-461c-8c5a-68146ccfad8d",
   "metadata": {},
   "outputs": [],
   "source": [
    "df.head()"
   ]
  },
  {
   "cell_type": "code",
   "execution_count": null,
   "id": "44b83b04-8ba6-40c8-9d63-45216b2ffe75",
   "metadata": {},
   "outputs": [],
   "source": [
    "df"
   ]
  },
  {
   "cell_type": "code",
   "execution_count": null,
   "id": "f3bbf1d0-990a-4b0a-9379-71173c3958d9",
   "metadata": {},
   "outputs": [],
   "source": [
    "df.loc[(\"AbuDhabi_UAE_30_2014|KP209309|human|2014-04-19\", \"Riyadh-KKUH-291||human|2014-05-06\"), \"median_tMRCA\"]"
   ]
  },
  {
   "cell_type": "code",
   "execution_count": null,
   "id": "0c047e97-82bf-49bb-bc9c-1cec7c354eaa",
   "metadata": {
    "tags": []
   },
   "outputs": [],
   "source": [
    "tMRCAs = []\n",
    "for i in range(len(strains)):\n",
    "    strain_i = strains[i]\n",
    "    for j in range(i + 1, len(strains)):\n",
    "        strain_j = strains[j]\n",
    "        \n",
    "        try:\n",
    "            tMRCA = df.loc[(strain_i, strain_j), \"median_tMRCA\"]\n",
    "        except KeyError:\n",
    "            tMRCA = np.NaN\n",
    "            \n",
    "        tMRCAs.append(tMRCA)"
   ]
  },
  {
   "cell_type": "code",
   "execution_count": null,
   "id": "181b7239-b501-47bf-922e-fda70e7f8f7e",
   "metadata": {},
   "outputs": [],
   "source": [
    "len(tMRCAs)"
   ]
  },
  {
   "cell_type": "code",
   "execution_count": null,
   "id": "7139e404-b7ce-4570-9f80-38da5ef92dce",
   "metadata": {},
   "outputs": [],
   "source": [
    "tMRCAs = np.array(tMRCAs)"
   ]
  },
  {
   "cell_type": "code",
   "execution_count": null,
   "id": "d153a6dd-e0e5-460c-b584-efb05d55dd1f",
   "metadata": {},
   "outputs": [],
   "source": [
    "tMRCAs"
   ]
  },
  {
   "cell_type": "code",
   "execution_count": null,
   "id": "f32f5175-68b0-4097-9cff-a7fb96bf3014",
   "metadata": {},
   "outputs": [],
   "source": [
    "embedding_name = \"MDS\""
   ]
  },
  {
   "cell_type": "code",
   "execution_count": null,
   "id": "78bb549f-9ca7-413b-a591-dc7b8c8285d7",
   "metadata": {},
   "outputs": [],
   "source": [
    "embedding_columns = [\"mds1\", \"mds2\", \"mds3\", \"mds4\", \"mds5\", \"mds6\"]"
   ]
  },
  {
   "cell_type": "code",
   "execution_count": null,
   "id": "6e4be21f-fc82-4aea-a376-361d45a7186c",
   "metadata": {},
   "outputs": [],
   "source": [
    "embedding = pd.read_csv(\n",
    "    embedding_file,\n",
    "    index_col=\"strain\",\n",
    "    usecols=[\"strain\"] + embedding_columns\n",
    ")"
   ]
  },
  {
   "cell_type": "code",
   "execution_count": null,
   "id": "a4ae6058-a0fc-4767-9eb7-bcbe465738ea",
   "metadata": {},
   "outputs": [],
   "source": [
    "embedding.head()"
   ]
  },
  {
   "cell_type": "code",
   "execution_count": null,
   "id": "d45bd030-25f1-4e1c-bdc2-3c2b13c762f8",
   "metadata": {},
   "outputs": [],
   "source": [
    "embedding.shape"
   ]
  },
  {
   "cell_type": "code",
   "execution_count": null,
   "id": "d756f749-803f-4bdf-8c0e-4704533bfe5c",
   "metadata": {},
   "outputs": [],
   "source": [
    "euclidean_distances = pdist(embedding.values)"
   ]
  },
  {
   "cell_type": "code",
   "execution_count": null,
   "id": "9120efa6-c28c-4620-bb51-883437a5fd7c",
   "metadata": {},
   "outputs": [],
   "source": [
    "euclidean_distances"
   ]
  },
  {
   "cell_type": "code",
   "execution_count": null,
   "id": "96636ab7-7bab-4650-abf5-158c33be06e1",
   "metadata": {},
   "outputs": [],
   "source": [
    "euclidean_distances.shape"
   ]
  },
  {
   "cell_type": "code",
   "execution_count": null,
   "id": "6c3eb230-7014-4154-a375-f18c145e8b1b",
   "metadata": {},
   "outputs": [],
   "source": [
    "fig, ax = plt.subplots(1, 1, figsize=(6, 6), dpi=120)\n",
    "ax.hist(df[\"median_tMRCA\"])\n",
    "\n",
    "ax.set_xlabel(f\"median tMRCA\")\n",
    "ax.set_ylabel(\"number of strains\")"
   ]
  },
  {
   "cell_type": "code",
   "execution_count": null,
   "id": "79305c6b-71c1-4ee8-b274-674626b69de7",
   "metadata": {},
   "outputs": [],
   "source": [
    "distances = pd.DataFrame({\n",
    "    \"tMRCA\": tMRCAs,\n",
    "    \"euclidean\": euclidean_distances,\n",
    "})"
   ]
  },
  {
   "cell_type": "code",
   "execution_count": null,
   "id": "d5474ae3-f50f-4464-b6a2-c58943bf5c32",
   "metadata": {},
   "outputs": [],
   "source": [
    "distances.head()"
   ]
  },
  {
   "cell_type": "code",
   "execution_count": null,
   "id": "f6f312d2-3e24-4584-bb83-02e39deda5ed",
   "metadata": {},
   "outputs": [],
   "source": [
    "fig, ax = plt.subplots(1, 1, figsize=(6, 6), dpi=120)\n",
    "\n",
    "sns.regplot(\n",
    "    x=\"euclidean\",\n",
    "    y=\"tMRCA\",\n",
    "    data=distances,\n",
    "    lowess=True,\n",
    "    scatter_kws={\"alpha\": 0.25},\n",
    "    line_kws={\"color\": \"orange\"},\n",
    "    ax=ax,\n",
    ")\n",
    "\n",
    "ax.set_xlabel(f\"Euclidean distance ({embedding_name})\")\n",
    "ax.set_ylabel(\"median tMRCA\")\n",
    "\n",
    "ax.set_ylim(bottom=0)\n",
    "\n",
    "sns.despine()\n",
    "\n",
    "plt.tight_layout()\n",
    "plt.savefig(distances_figure, dpi=200)"
   ]
  },
  {
   "cell_type": "code",
   "execution_count": null,
   "id": "73d58d51-ad38-4f0c-8ecc-da28d949d186",
   "metadata": {},
   "outputs": [],
   "source": []
  }
 ],
 "metadata": {
  "kernelspec": {
   "display_name": "Python 3",
   "language": "python",
   "name": "python3"
  },
  "language_info": {
   "codemirror_mode": {
    "name": "ipython",
    "version": 3
   },
   "file_extension": ".py",
   "mimetype": "text/x-python",
   "name": "python",
   "nbconvert_exporter": "python",
   "pygments_lexer": "ipython3",
   "version": "3.7.10"
  }
 },
 "nbformat": 4,
 "nbformat_minor": 5
}
