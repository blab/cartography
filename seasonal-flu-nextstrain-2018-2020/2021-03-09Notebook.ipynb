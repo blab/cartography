{
 "cells": [
  {
   "cell_type": "code",
   "execution_count": null,
   "id": "4a426ea1",
   "metadata": {},
   "outputs": [],
   "source": [
    "import sys\n",
    "sys.path.append(\"notebooks/scripts/\")"
   ]
  },
  {
   "cell_type": "markdown",
   "id": "60945cac",
   "metadata": {},
   "outputs": [],
   "source": [
    "# Imports Section "
   ]
  },
  {
   "cell_type": "code",
   "execution_count": null,
   "id": "a7bacc8f",
   "metadata": {},
   "outputs": [],
   "source": [
    "import altair as alt\n",
    "from altair_saver import save\n",
    "from augur.utils import json_to_tree\n",
    "import json\n",
    "import matplotlib.pyplot as plt\n",
    "import matplotlib as mpl\n",
    "import pandas as pd\n",
    "import re\n",
    "import seaborn as sns\n",
    "from sklearn.metrics import confusion_matrix, matthews_corrcoef\n",
    "\n",
    "from Helpers import linking_tree_with_plots_clickable, linking_tree_with_plots_brush\n",
    "from Helpers import scatterplot_with_tooltip_interactive, get_euclidean_data_frame\n",
    "from Helpers import get_y_positions\n",
    "\n",
    "%matplotlib inline"
   ]
  },
  {
   "cell_type": "code",
   "execution_count": null,
   "id": "7688f438",
   "metadata": {},
   "outputs": [],
   "source": [
    "alt.renderers.set_embed_options(\n",
    "    padding={\"left\": 0, \"right\": 0, \"bottom\": 1, \"top\": 1}\n",
    ")"
   ]
  },
  {
   "cell_type": "markdown",
   "id": "dc772cba",
   "metadata": {},
   "outputs": [],
   "source": [
    "# Testing on 2018-2020 Data"
   ]
  },
  {
   "cell_type": "code",
   "execution_count": null,
   "id": "3b0b80a2",
   "metadata": {},
   "outputs": [],
   "source": [
    "colors = pd.read_csv(snakemake.input.colors, sep=\"\\t\", names=[i for i in range(0,101)])"
   ]
  },
  {
   "cell_type": "code",
   "execution_count": null,
   "id": "a91aae16",
   "metadata": {},
   "outputs": [],
   "source": [
    "PCA_df_f = pd.read_csv(snakemake.input.pca_df,index_col=0)\n",
    "MDS_df_f = pd.read_csv(snakemake.input.mds_df,index_col=0)\n",
    "TSNE_df_f = pd.read_csv(snakemake.input.tsne_df,index_col=0)\n",
    "UMAP_df_f = pd.read_csv(snakemake.input.umap_df,index_col=0)\n",
    "explained_variance_df = pd.read_csv(snakemake.input.explained_variance_pca)"
   ]
  },
  {
   "cell_type": "code",
   "execution_count": null,
   "id": "3d3dbc74",
   "metadata": {},
   "outputs": [],
   "source": [
    "node_df_f = pd.read_csv(snakemake.input.node_df, sep=\"\\t\")\n",
    "node_df_f.rename(columns={'num_date':'date', 'y_value':\"y\"}, inplace=True)"
   ]
  },
  {
   "cell_type": "code",
   "execution_count": null,
   "id": "e9e2afd8",
   "metadata": {},
   "outputs": [],
   "source": [
    "merged_df = node_df_f[[\"strain\", \"date\", \"clade_membership\", \"y\"]].merge(\n",
    "    PCA_df_f,\n",
    "    on=\"strain\"\n",
    ").merge(\n",
    "    MDS_df_f,\n",
    "    on=\"strain\"\n",
    ").merge(\n",
    "    TSNE_df_f,\n",
    "    on=\"strain\"\n",
    ").merge(\n",
    "    UMAP_df_f,\n",
    "    on=\"strain\"\n",
    ")"
   ]
  },
  {
   "cell_type": "code",
   "execution_count": null,
   "id": "624f805e",
   "metadata": {},
   "outputs": [],
   "source": [
    "merged_df"
   ]
  },
  {
   "cell_type": "code",
   "execution_count": null,
   "id": "ff1a0c23",
   "metadata": {},
   "outputs": [],
   "source": [
    "def _get_embedding_columns_by_method(method):\n",
    "    if method in (\"pca\"):\n",
    "        return list(f\"{method}1 {method}2 {method}3 {method}4 {method}5 {method}6 {method}7 {method}8 {method}9 {method}10\".split())\n",
    "    if method in (\"mds\"):\n",
    "        return list(f\"{method}1 {method}2 {method}3 {method}4\".split())\n",
    "    if method in (\"t-sne\"):\n",
    "        return list(\"tsne_x tsne_y\".split())\n",
    "    else:\n",
    "        return list(f\"{method}_x {method}_y\".split())"
   ]
  },
  {
   "cell_type": "code",
   "execution_count": null,
   "id": "1dc117cd",
   "metadata": {},
   "outputs": [],
   "source": [
    "MCC_val = []\n",
    "\n",
    "for method in [\"pca\", \"mds\", \"t-sne\", \"umap\"]:\n",
    "    KDE_df_normal = get_euclidean_data_frame(sampled_df=merged_df, column_for_analysis=\"clade_membership\", embedding=\"method\", column_list=_get_embedding_columns_by_method(method))\n",
    "\n",
    "    KDE_df_cluster =  get_euclidean_data_frame(sampled_df=merged_df, column_for_analysis=f\"{method}_label\", embedding=\"method\", column_list=_get_embedding_columns_by_method(method))\n",
    "\n",
    "    confusion_matrix_val = confusion_matrix(KDE_df_normal[\"clade_status\"], KDE_df_cluster[\"clade_status\"])\n",
    "    matthews_cc_val = matthews_corrcoef(KDE_df_normal[\"clade_status\"], KDE_df_cluster[\"clade_status\"])\n",
    "    MCC_val.append(matthews_cc_val)"
   ]
  },
  {
   "cell_type": "code",
   "execution_count": null,
   "id": "e4a07cbb",
   "metadata": {},
   "outputs": [],
   "source": [
    "domain =  sorted(merged_df[\"pca_label\"].drop_duplicates().values)\n",
    "if -1 in domain:\n",
    "    range_ = [\"#999999\"] + colors[len(domain)-1:len(domain)].dropna(axis=1).values.tolist()[0]\n",
    "else: \n",
    "    range_ = colors[len(domain):len(domain)+1].dropna(axis=1).values.tolist()[0]\n",
    "PCA = linking_tree_with_plots_brush(\n",
    "    merged_df,\n",
    "    ['pca1', 'pca2'],\n",
    "    ['PCA1 (Explained Variance : {}%'.format(round(explained_variance_df[\"explained variance\"][0]*100,2)) + \")\",\n",
    "    'PCA2 (Explained Variance : {}%'.format(round(explained_variance_df[\"explained variance\"][1]*100,2)) + \")\"],\n",
    "    'pca_label:N',\n",
    "    ['strain','clade_membership'],\n",
    "    domain,\n",
    "    range_\n",
    ")\n",
    "domain =  sorted(merged_df[\"mds_label\"].drop_duplicates().values)\n",
    "if -1 in domain:\n",
    "    range_ = [\"#999999\"] + colors[len(domain)-1:len(domain)].dropna(axis=1).values.tolist()[0]\n",
    "else: \n",
    "    range_ = colors[len(domain):len(domain)+1].dropna(axis=1).values.tolist()[0]\n",
    "MDS = linking_tree_with_plots_brush(\n",
    "    merged_df,\n",
    "    ['mds1', 'mds2'],\n",
    "    ['MDS1', 'MDS2'],\n",
    "    'mds_label:N',\n",
    "    ['strain','clade_membership'],\n",
    "    domain,\n",
    "    range_\n",
    ")\n",
    "domain =  sorted(merged_df[\"t-sne_label\"].drop_duplicates().values)\n",
    "if -1 in domain:\n",
    "    range_ = [\"#999999\"] + colors[len(domain)-1:len(domain)].dropna(axis=1).values.tolist()[0]\n",
    "else: \n",
    "    range_ = colors[len(domain):len(domain)+1].dropna(axis=1).values.tolist()[0]\n",
    "TSNE = linking_tree_with_plots_brush(\n",
    "    merged_df,\n",
    "    ['tsne_x', 'tsne_y'],\n",
    "    ['TSNE1', 'TSNE2'],\n",
    "    't-sne_label:N',\n",
    "    ['strain','clade_membership'],\n",
    "    domain,\n",
    "    range_\n",
    ")\n",
    "domain =  sorted(merged_df[\"umap_label\"].drop_duplicates().values)\n",
    "if -1 in domain:\n",
    "    range_ = [\"#999999\"] + colors[len(domain)-1:len(domain)].dropna(axis=1).values.tolist()[0]\n",
    "else: \n",
    "    range_ = colors[len(domain):len(domain)+1].dropna(axis=1).values.tolist()[0]\n",
    "UMAP = linking_tree_with_plots_brush(\n",
    "    merged_df,\n",
    "    ['umap_x', 'umap_y'],\n",
    "    ['UMAP1', 'UMAP2'],\n",
    "    'umap_label:N',\n",
    "    ['strain','clade_membership'],\n",
    "    domain,\n",
    "    range_\n",
    ")"
   ]
  },
  {
   "cell_type": "code",
   "execution_count": null,
   "id": "5befcafa",
   "metadata": {},
   "outputs": [],
   "source": [
    "PCAChart = PCA[0]|PCA[1].properties(title= \"MCC Value: \" + str(round(MCC_val[0],3)))\n",
    "MDSChart = MDS[0]|MDS[1].properties(title= \"MCC Value: \" + str(round(MCC_val[1],3)))\n",
    "TSNEChart = TSNE[0]|TSNE[1].properties(title= \"MCC Value: \" + str(round(MCC_val[2],3)))\n",
    "UMAPChart = UMAP[0]|UMAP[1].properties(title= \"MCC Value: \" + str(round(MCC_val[3],3)))"
   ]
  },
  {
   "cell_type": "code",
   "execution_count": null,
   "id": "badb3a8c",
   "metadata": {},
   "outputs": [],
   "source": [
    "PCAMDS = alt.vconcat(PCAChart, MDSChart).resolve_scale(color='independent')\n",
    "TSNEUMAP = alt.vconcat(TSNEChart, UMAPChart).resolve_scale(color='independent')\n",
    "fullChart = alt.vconcat(PCAMDS, TSNEUMAP).resolve_scale(color='independent')\n",
    "fullChart\n",
    "fullChart.save(snakemake.output.fullChartHDBSCAN20182020)\n",
    "save(fullChart, snakemake.output.fullChartHDBSCANPNG20182020, scale_factor=2.0)"
   ]
  }
 ],
 "metadata": {
  "interpreter": {
   "hash": "54f591b56f61aaf60a03c98b095386794ad6ec6028868832a68e200f452c2523"
  },
  "kernelspec": {
   "display_name": "Python 3 (ipykernel)",
   "language": "python",
   "name": "python3"
  },
  "language_info": {
   "codemirror_mode": {
    "name": "ipython",
    "version": 3
   },
   "file_extension": ".py",
   "mimetype": "text/x-python",
   "name": "python",
   "nbconvert_exporter": "python",
   "pygments_lexer": "ipython3",
   "version": "3.7.12"
  }
 },
 "nbformat": 4,
 "nbformat_minor": 5
}
