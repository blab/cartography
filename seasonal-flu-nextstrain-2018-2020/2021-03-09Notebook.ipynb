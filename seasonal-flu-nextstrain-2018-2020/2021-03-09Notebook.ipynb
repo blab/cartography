{
 "cells": [
  {
   "cell_type": "code",
   "execution_count": null,
   "id": "4a426ea1",
   "metadata": {},
   "outputs": [],
   "source": [
    "import sys\n",
    "sys.path.append(\"notebooks/scripts/\")"
   ]
  },
  {
   "cell_type": "code",
   "execution_count": null,
   "id": "90f1a291",
   "metadata": {},
   "outputs": [],
   "source": [
    "import altair as alt\n",
    "from altair_saver import save\n",
    "import matplotlib as mpl\n",
    "import matplotlib.pyplot as plt\n",
    "import pandas as pd\n",
    "import seaborn as sns\n",
    "\n",
    "from Helpers import linking_tree_with_plots_brush\n",
    "\n",
    "%matplotlib inline"
   ]
  },
  {
   "cell_type": "markdown",
   "id": "7eb01a29",
   "metadata": {},
   "source": [
    "## Define inputs, outputs, and parameters"
   ]
  },
  {
   "cell_type": "code",
   "execution_count": null,
   "id": "1a7a044e",
   "metadata": {},
   "outputs": [],
   "source": [
    "colors_path = snakemake.input.colors\n",
    "embeddings_path = snakemake.input.annotated_embeddings\n",
    "accuracy_path = snakemake.input.accuracy_table\n",
    "explained_variance_pca = snakemake.input.explained_variance_pca"
   ]
  },
  {
   "cell_type": "code",
   "execution_count": null,
   "id": "c744f30c",
   "metadata": {},
   "outputs": [],
   "source": [
    "interactive_chart_by_clusters = snakemake.output.fullChartHDBSCAN20182020\n",
    "static_chart_by_clusters = snakemake.output.fullChartHDBSCANPNG20182020"
   ]
  },
  {
   "cell_type": "markdown",
   "id": "dc772cba",
   "metadata": {},
   "source": [
    "## Load data"
   ]
  },
  {
   "cell_type": "code",
   "execution_count": null,
   "id": "3b0b80a2",
   "metadata": {},
   "outputs": [],
   "source": [
    "colors = pd.read_csv(colors_path, sep=\"\\t\", names=[i for i in range(0,101)])"
   ]
  },
  {
   "cell_type": "code",
   "execution_count": null,
   "id": "06532877",
   "metadata": {},
   "outputs": [],
   "source": [
    "embeddings_df = pd.read_csv(embeddings_path, sep=\"\\t\")"
   ]
  },
  {
   "cell_type": "code",
   "execution_count": null,
   "id": "bc994d18",
   "metadata": {},
   "outputs": [],
   "source": [
    "embeddings_df = embeddings_df.rename(\n",
    "    columns={\n",
    "        \"num_date\": \"date\",\n",
    "        \"y_value\": \"y\"\n",
    "    }\n",
    ")"
   ]
  },
  {
   "cell_type": "code",
   "execution_count": null,
   "id": "5ddf82aa",
   "metadata": {},
   "outputs": [],
   "source": [
    "embeddings_df.head()"
   ]
  },
  {
   "cell_type": "code",
   "execution_count": null,
   "id": "7925f9a5",
   "metadata": {},
   "outputs": [],
   "source": [
    "accuracy_df = pd.read_csv(accuracy_path)"
   ]
  },
  {
   "cell_type": "code",
   "execution_count": null,
   "id": "602e5087",
   "metadata": {},
   "outputs": [],
   "source": [
    "accuracy_df.head()"
   ]
  },
  {
   "cell_type": "code",
   "execution_count": null,
   "id": "760e5048",
   "metadata": {},
   "outputs": [],
   "source": [
    "explained_variance_df = pd.read_csv(explained_variance_pca)"
   ]
  },
  {
   "cell_type": "code",
   "execution_count": null,
   "id": "97502daf",
   "metadata": {},
   "outputs": [],
   "source": [
    "explained_variance_PCA = explained_variance_df[\"explained variance\"].values.tolist()"
   ]
  },
  {
   "cell_type": "code",
   "execution_count": null,
   "id": "a86d1735",
   "metadata": {},
   "outputs": [],
   "source": [
    "explained_variance_PCA"
   ]
  },
  {
   "cell_type": "markdown",
   "id": "581632a8",
   "metadata": {},
   "source": [
    "## Plot all embeddings by cluster"
   ]
  },
  {
   "cell_type": "code",
   "execution_count": null,
   "id": "63accda5",
   "metadata": {},
   "outputs": [],
   "source": [
    "def build_color_range_for_domain(domain, colors, value_for_unassigned=None):\n",
    "    # Rows are zero-indexed, so to get N colors, we select row N - 1.\n",
    "    range_ = colors.loc[len(domain) - 1].dropna().values.tolist()\n",
    "   \n",
    "    # Replace known values for \"unassigned\" clade or cluster labels.\n",
    "    index_for_unassigned = None\n",
    "    if value_for_unassigned is not None and value_for_unassigned in domain:\n",
    "        index_for_unassigned = domain.index(value_for_unassigned)\n",
    "        range_[index_for_unassigned] = \"#999999\"\n",
    "        \n",
    "    return range_"
   ]
  },
  {
   "cell_type": "code",
   "execution_count": null,
   "id": "2dfe6615",
   "metadata": {},
   "outputs": [],
   "source": [
    "pca_label_color_domain =  sorted(embeddings_df[\"pca_label\"].drop_duplicates().values)\n",
    "pca_label_color_range = build_color_range_for_domain(\n",
    "    pca_label_color_domain,\n",
    "    colors,\n",
    "    value_for_unassigned=-1,\n",
    ")"
   ]
  },
  {
   "cell_type": "code",
   "execution_count": null,
   "id": "ddad43eb",
   "metadata": {},
   "outputs": [],
   "source": [
    "pca_by_cluster = linking_tree_with_plots_brush(\n",
    "    embeddings_df,\n",
    "    ['pca1', 'pca2'],\n",
    "    [\n",
    "        'PC 1 (Explained Variance : {}%'.format(round(explained_variance_PCA[0] * 100, 2)) + \")\",\n",
    "        'PC 2 (Explained Variance : {}%'.format(round(explained_variance_PCA[1] * 100, 2)) + \")\"\n",
    "    ],\n",
    "    'pca_label:N',\n",
    "    ['strain', 'clade_membership', 'pca_label'],\n",
    "    pca_label_color_domain,\n",
    "    pca_label_color_range,\n",
    ")"
   ]
  },
  {
   "cell_type": "code",
   "execution_count": null,
   "id": "9b418011",
   "metadata": {},
   "outputs": [],
   "source": [
    "mds_label_color_domain =  sorted(embeddings_df[\"mds_label\"].drop_duplicates().values)\n",
    "mds_label_color_range = build_color_range_for_domain(\n",
    "    mds_label_color_domain,\n",
    "    colors,\n",
    "    value_for_unassigned=-1,\n",
    ")"
   ]
  },
  {
   "cell_type": "code",
   "execution_count": null,
   "id": "f638321d",
   "metadata": {},
   "outputs": [],
   "source": [
    "mds_by_cluster = linking_tree_with_plots_brush(\n",
    "    embeddings_df,\n",
    "    ['mds1', 'mds2'],\n",
    "    ['MDS 1', 'MDS 2'],\n",
    "    'mds_label:N',\n",
    "    ['strain', 'clade_membership', 'mds_label'],\n",
    "    mds_label_color_domain,\n",
    "    mds_label_color_range,\n",
    ")"
   ]
  },
  {
   "cell_type": "code",
   "execution_count": null,
   "id": "5ebd57a5",
   "metadata": {},
   "outputs": [],
   "source": [
    "tsne_label_color_domain =  sorted(embeddings_df[\"t-sne_label\"].drop_duplicates().values)\n",
    "tsne_label_color_range = build_color_range_for_domain(\n",
    "    tsne_label_color_domain,\n",
    "    colors,\n",
    "    value_for_unassigned=-1,\n",
    ")"
   ]
  },
  {
   "cell_type": "code",
   "execution_count": null,
   "id": "bbdeb9f6",
   "metadata": {},
   "outputs": [],
   "source": [
    "tsne_by_cluster = linking_tree_with_plots_brush(\n",
    "    embeddings_df,\n",
    "    ['tsne_x', 'tsne_y'],\n",
    "    ['t-SNE 1', 't-SNE 2'],\n",
    "    't-sne_label:N',\n",
    "    ['strain', 'clade_membership', 't-sne_label'],\n",
    "    tsne_label_color_domain,\n",
    "    tsne_label_color_range,\n",
    ")"
   ]
  },
  {
   "cell_type": "code",
   "execution_count": null,
   "id": "0d45fc47",
   "metadata": {},
   "outputs": [],
   "source": [
    "umap_label_color_domain =  sorted(embeddings_df[\"umap_label\"].drop_duplicates().values)\n",
    "umap_label_color_range = build_color_range_for_domain(\n",
    "    umap_label_color_domain,\n",
    "    colors,\n",
    "    value_for_unassigned=-1,\n",
    ")"
   ]
  },
  {
   "cell_type": "code",
   "execution_count": null,
   "id": "9cad360a",
   "metadata": {},
   "outputs": [],
   "source": [
    "umap_by_cluster = linking_tree_with_plots_brush(\n",
    "    embeddings_df,\n",
    "    ['umap_x', 'umap_y'],\n",
    "    ['UMAP 1', 'UMAP 2'],\n",
    "    'umap_label:N',\n",
    "    ['strain', 'clade_membership', 'umap_label'],\n",
    "    umap_label_color_domain,\n",
    "    umap_label_color_range,\n",
    ")"
   ]
  },
  {
   "cell_type": "code",
   "execution_count": null,
   "id": "47b8b988",
   "metadata": {},
   "outputs": [],
   "source": [
    "accuracy_by_method = dict(accuracy_df.loc[:, [\"embedding\", \"normalized_VI\"]].values)"
   ]
  },
  {
   "cell_type": "code",
   "execution_count": null,
   "id": "1ea4c63e",
   "metadata": {},
   "outputs": [],
   "source": [
    "accuracy_by_method"
   ]
  },
  {
   "cell_type": "code",
   "execution_count": null,
   "id": "62743a2c",
   "metadata": {},
   "outputs": [],
   "source": [
    "composed_pca_by_cluster = pca_by_cluster[0] | pca_by_cluster[1].properties(\n",
    "    title= f\"Normalized VI: {accuracy_by_method['pca']}\"\n",
    ")\n",
    "\n",
    "composed_mds_by_cluster = mds_by_cluster[0] | mds_by_cluster[1].properties(\n",
    "    title= f\"Normalized VI: {accuracy_by_method['mds']}\"\n",
    ")\n",
    "\n",
    "composed_tsne_by_cluster = tsne_by_cluster[0] | tsne_by_cluster[1].properties(\n",
    "    title= f\"Normalized VI: {accuracy_by_method['t-sne']}\"\n",
    ")\n",
    "\n",
    "composed_umap_by_cluster = umap_by_cluster[0] | umap_by_cluster[1].properties(\n",
    "    title= f\"Normalized VI: {accuracy_by_method['umap']}\"\n",
    ")"
   ]
  },
  {
   "cell_type": "code",
   "execution_count": null,
   "id": "98ff4495",
   "metadata": {},
   "outputs": [],
   "source": [
    "pca_mds = alt.vconcat(composed_pca_by_cluster, composed_mds_by_cluster).resolve_scale(color='independent')\n",
    "tsne_umap = alt.vconcat(composed_tsne_by_cluster, composed_umap_by_cluster).resolve_scale(color='independent')\n",
    "full_chart_by_cluster = alt.vconcat(pca_mds, tsne_umap).resolve_scale(color='independent')\n",
    "full_chart_by_cluster"
   ]
  },
  {
   "cell_type": "code",
   "execution_count": null,
   "id": "1bd37cd8",
   "metadata": {},
   "outputs": [],
   "source": [
    "full_chart_by_cluster.save(interactive_chart_by_clusters)\n",
    "save(full_chart_by_cluster, static_chart_by_clusters, scale_factor=2.0)"
   ]
  },
  {
   "cell_type": "code",
   "execution_count": null,
   "id": "c180527b",
   "metadata": {},
   "outputs": [],
   "source": []
  }
 ],
 "metadata": {
  "interpreter": {
   "hash": "54f591b56f61aaf60a03c98b095386794ad6ec6028868832a68e200f452c2523"
  },
  "kernelspec": {
   "display_name": "Python 3 (ipykernel)",
   "language": "python",
   "name": "python3"
  },
  "language_info": {
   "codemirror_mode": {
    "name": "ipython",
    "version": 3
   },
   "file_extension": ".py",
   "mimetype": "text/x-python",
   "name": "python",
   "nbconvert_exporter": "python",
   "pygments_lexer": "ipython3",
   "version": "3.7.12"
  }
 },
 "nbformat": 4,
 "nbformat_minor": 5
}
