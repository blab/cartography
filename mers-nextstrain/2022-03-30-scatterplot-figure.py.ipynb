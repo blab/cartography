{
 "cells": [
  {
   "cell_type": "code",
   "execution_count": null,
   "id": "e10d0e71",
   "metadata": {},
   "outputs": [],
   "source": [
    "import matplotlib as mpl\n",
    "import matplotlib.gridspec as gridspec\n",
    "import matplotlib.pyplot as plt\n",
    "import numpy as np\n",
    "import pandas as pd\n",
    "import seaborn as sns\n",
    "\n",
    "%matplotlib inline"
   ]
  },
  {
   "cell_type": "code",
   "execution_count": null,
   "id": "52d27f85",
   "metadata": {},
   "outputs": [],
   "source": [
    "sns.set_style(\"ticks\")\n",
    "\n",
    "# Disable top and right spines.\n",
    "mpl.rcParams['axes.spines.top'] = False\n",
    "mpl.rcParams['axes.spines.right'] = False\n",
    "\n",
    "# Display and save figures at higher resolution for presentations and manuscripts.\n",
    "mpl.rcParams['savefig.dpi'] = 300\n",
    "mpl.rcParams['figure.dpi'] = 120\n",
    "\n",
    "# Display text at sizes large enough for presentations and manuscripts.\n",
    "mpl.rcParams['font.weight'] = \"normal\"\n",
    "mpl.rcParams['axes.labelweight'] = \"normal\"\n",
    "mpl.rcParams['font.size'] = 14\n",
    "mpl.rcParams['axes.labelsize'] = 14\n",
    "mpl.rcParams['legend.fontsize'] = 10\n",
    "mpl.rcParams['xtick.labelsize'] = 14\n",
    "mpl.rcParams['ytick.labelsize'] = 14\n",
    "mpl.rcParams['axes.titlesize'] = 14\n",
    "mpl.rc('text', usetex=False)"
   ]
  },
  {
   "cell_type": "markdown",
   "id": "b6d52ad7",
   "metadata": {},
   "source": [
    "## Define inputs, outputs, and parameters"
   ]
  },
  {
   "cell_type": "code",
   "execution_count": null,
   "id": "eff30942",
   "metadata": {},
   "outputs": [],
   "source": [
    "scatterplot_metadata = snakemake.input.scatterplot_metadata\n",
    "scatterplot_pca = snakemake.input.scatterplot_pca\n",
    "scatterplot_mds = snakemake.input.scatterplot_mds\n",
    "scatterplot_tsne = snakemake.input.scatterplot_tsne\n",
    "scatterplot_umap = snakemake.input.scatterplot_umap"
   ]
  },
  {
   "cell_type": "code",
   "execution_count": null,
   "id": "cd0cab08",
   "metadata": {},
   "outputs": [],
   "source": [
    "scatterplot_chart = snakemake.output.scatterplot"
   ]
  },
  {
   "cell_type": "markdown",
   "id": "578484f8",
   "metadata": {},
   "source": [
    "## Load data"
   ]
  },
  {
   "cell_type": "code",
   "execution_count": null,
   "id": "54b8f8f2",
   "metadata": {},
   "outputs": [],
   "source": [
    "metadata = pd.read_csv(scatterplot_metadata)"
   ]
  },
  {
   "cell_type": "code",
   "execution_count": null,
   "id": "ce514658",
   "metadata": {},
   "outputs": [],
   "source": [
    "metadata"
   ]
  },
  {
   "cell_type": "code",
   "execution_count": null,
   "id": "1c69daee",
   "metadata": {},
   "outputs": [],
   "source": [
    "pca = pd.read_csv(scatterplot_pca)"
   ]
  },
  {
   "cell_type": "code",
   "execution_count": null,
   "id": "d61dc06b",
   "metadata": {},
   "outputs": [],
   "source": [
    "pca.head()"
   ]
  },
  {
   "cell_type": "code",
   "execution_count": null,
   "id": "41209fcb",
   "metadata": {},
   "outputs": [],
   "source": [
    "pca.shape"
   ]
  },
  {
   "cell_type": "code",
   "execution_count": null,
   "id": "b6743b1a",
   "metadata": {},
   "outputs": [],
   "source": [
    "mds = pd.read_csv(scatterplot_mds)"
   ]
  },
  {
   "cell_type": "code",
   "execution_count": null,
   "id": "7d2c2027",
   "metadata": {},
   "outputs": [],
   "source": [
    "mds.head()"
   ]
  },
  {
   "cell_type": "code",
   "execution_count": null,
   "id": "3f19a01c",
   "metadata": {},
   "outputs": [],
   "source": [
    "tsne = pd.read_csv(scatterplot_tsne)"
   ]
  },
  {
   "cell_type": "code",
   "execution_count": null,
   "id": "01f64384",
   "metadata": {},
   "outputs": [],
   "source": [
    "tsne.head()"
   ]
  },
  {
   "cell_type": "code",
   "execution_count": null,
   "id": "3fd4c5d8",
   "metadata": {},
   "outputs": [],
   "source": [
    "umap = pd.read_csv(scatterplot_umap)"
   ]
  },
  {
   "cell_type": "code",
   "execution_count": null,
   "id": "f74849ef",
   "metadata": {},
   "outputs": [],
   "source": [
    "umap.head()"
   ]
  },
  {
   "cell_type": "markdown",
   "id": "d73c8970",
   "metadata": {},
   "source": [
    "## Plot scatterplots per embedding"
   ]
  },
  {
   "cell_type": "code",
   "execution_count": null,
   "id": "ae372110",
   "metadata": {},
   "outputs": [],
   "source": [
    "fig = plt.figure(figsize=(8, 8), constrained_layout=False)\n",
    "fig.tight_layout(pad=0.5)\n",
    "gs = gridspec.GridSpec(2, 2, figure=fig, hspace=0.4, wspace=0.4)\n",
    "ax1 = fig.add_subplot(gs[0, 0])\n",
    "ax2 = fig.add_subplot(gs[0, 1])\n",
    "ax3 = fig.add_subplot(gs[1, 0])\n",
    "ax4 = fig.add_subplot(gs[1, 1])\n",
    "\n",
    "# PCA\n",
    "metadata_pca = metadata.query(\"embedding == 'pca'\")\n",
    "mean_pca = metadata_pca[\"mean\"].values[0]\n",
    "std_pca = metadata_pca[\"std\"].values[0]\n",
    "\n",
    "ax1.plot(pca[\"genetic\"], pca[\"euclidean\"], \"o\", alpha=0.25)\n",
    "ax1.plot(pca[\"LOWESS_x\"], pca[\"LOWESS_y\"], label=\"LOESS\")\n",
    "\n",
    "ax1.set_xlabel(\"Genetic distance\")\n",
    "ax1.set_ylabel(\"Euclidean distance\")\n",
    "ax1.set_xticks(np.arange(min(pca[\"genetic\"]), max(pca[\"genetic\"])+10, 40.0))\n",
    "ax1.set_title(f\"PCA ($R^2={mean_pca:.3f} +/- {std_pca:.3f}$)\")\n",
    "\n",
    "# MDS\n",
    "metadata_mds = metadata.query(\"embedding == 'mds'\")\n",
    "mean_mds = metadata_mds[\"mean\"].values[0]\n",
    "std_mds = metadata_mds[\"std\"].values[0]\n",
    "\n",
    "ax2.plot(mds[\"genetic\"], mds[\"euclidean\"], \"o\", alpha=0.25)\n",
    "ax2.plot(mds[\"LOWESS_x\"], mds[\"LOWESS_y\"], label=\"LOESS\")\n",
    "\n",
    "ax2.set_xlabel(\"Genetic distance\")\n",
    "ax2.set_ylabel(\"Euclidean distance\")\n",
    "ax2.set_xticks(np.arange(min(mds[\"genetic\"]), max(mds[\"genetic\"])+10, 40.0))\n",
    "ax2.set_title(f\"MDS ($R^2={mean_mds:.3f} +/- {std_mds:.3f}$)\")\n",
    "\n",
    "# t-SNE\n",
    "metadata_tsne = metadata.query(\"embedding == 't-sne'\")\n",
    "mean_tsne = metadata_tsne[\"mean\"].values[0]\n",
    "std_tsne = metadata_tsne[\"std\"].values[0]\n",
    "\n",
    "ax3.plot(tsne[\"genetic\"], tsne[\"euclidean\"], \"o\", alpha=0.25)\n",
    "ax3.plot(tsne[\"LOWESS_x\"], tsne[\"LOWESS_y\"], label=\"LOESS\")\n",
    "\n",
    "ax3.set_xlabel(\"Genetic distance\")\n",
    "ax3.set_ylabel(\"Euclidean distance\")\n",
    "ax3.set_xticks(np.arange(min(tsne[\"genetic\"]), max(tsne[\"genetic\"])+10, 40.0))\n",
    "ax3.set_title(f\"t-SNE ($R^2={mean_tsne:.3f} +/- {std_tsne:.3f}$)\")\n",
    "\n",
    "# UMAP\n",
    "metadata_umap = metadata.query(\"embedding == 'umap'\")\n",
    "mean_umap = metadata_umap[\"mean\"].values[0]\n",
    "std_umap = metadata_umap[\"std\"].values[0]\n",
    "\n",
    "ax4.plot(umap[\"genetic\"], umap[\"euclidean\"], \"o\", alpha=0.25)\n",
    "ax4.plot(umap[\"LOWESS_x\"], umap[\"LOWESS_y\"], label=\"LOESS\")\n",
    "\n",
    "ax4.set_xlabel(\"Genetic distance\")\n",
    "ax4.set_ylabel(\"Euclidean distance\")\n",
    "ax4.set_xticks(np.arange(min(umap[\"genetic\"]), max(umap[\"genetic\"])+10, 40.0))\n",
    "ax4.set_title(f\"UMAP ($R^2={mean_umap:.3f} +/- {std_umap:.3f}$)\")\n",
    "\n",
    "plt.savefig(scatterplot_chart, dpi=300)"
   ]
  },
  {
   "cell_type": "code",
   "execution_count": null,
   "id": "f66a2aa6",
   "metadata": {},
   "outputs": [],
   "source": []
  }
 ],
 "metadata": {
  "kernelspec": {
   "display_name": "Python 3 (ipykernel)",
   "language": "python",
   "name": "python3"
  },
  "language_info": {
   "codemirror_mode": {
    "name": "ipython",
    "version": 3
   },
   "file_extension": ".py",
   "mimetype": "text/x-python",
   "name": "python",
   "nbconvert_exporter": "python",
   "pygments_lexer": "ipython3",
   "version": "3.7.12"
  }
 },
 "nbformat": 4,
 "nbformat_minor": 5
}
