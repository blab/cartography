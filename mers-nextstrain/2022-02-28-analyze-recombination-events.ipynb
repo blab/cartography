{
 "cells": [
  {
   "cell_type": "markdown",
   "id": "09349d42-eff4-4e27-a09c-e5a99320df67",
   "metadata": {},
   "source": [
    "# Analyze MERS recombination networks from Muller et al.\n",
    "\n",
    "Experimental work to parse and interpret MERS recombination networks produced by [Muller et al.](https://bedford.io/papers/muller-cov-recombination/). These networks were stored in extended NEXUS format and we need to parse them into a corresponding Python network data structure. This notebook shows how to identify recombination donor/recipient pairs in the NEXUS data structure. These pairs and the tree topology can then be used to create a network data structure."
   ]
  },
  {
   "cell_type": "markdown",
   "id": "3fe76842-52ba-40e2-945d-1280575510cb",
   "metadata": {},
   "source": [
    "## Imports"
   ]
  },
  {
   "cell_type": "code",
   "execution_count": null,
   "id": "0e79abfd-bcff-4592-8ca1-2803ae22225a",
   "metadata": {},
   "outputs": [],
   "source": [
    "from augur.utils import annotate_parents_for_tree, read_node_data\n",
    "import Bio.Phylo.NexusIO\n",
    "from collections import defaultdict\n",
    "import matplotlib.pyplot as plt\n",
    "import networkx as nx\n",
    "import numpy as np\n",
    "import pandas as pd\n",
    "import seaborn as sns\n",
    "\n",
    "%matplotlib inline"
   ]
  },
  {
   "cell_type": "code",
   "execution_count": null,
   "id": "81c248bf-5afd-4475-9e1a-301d0f6514e5",
   "metadata": {},
   "outputs": [],
   "source": [
    "sns.set_style(\"white\")"
   ]
  },
  {
   "cell_type": "markdown",
   "id": "93cb00f1-9c7c-47bf-9cbf-115b5ea5a192",
   "metadata": {},
   "source": [
    "## Inputs"
   ]
  },
  {
   "cell_type": "code",
   "execution_count": null,
   "id": "737839b4-9079-4a1c-be2a-632279e9738e",
   "metadata": {},
   "outputs": [],
   "source": [
    "mers_clades_path = \"data/manual_multihost_clades.json\""
   ]
  },
  {
   "cell_type": "code",
   "execution_count": null,
   "id": "a1b530f6-aa73-4f3d-b67a-bc8b0770779e",
   "metadata": {},
   "outputs": [],
   "source": [
    "mers_network_path = \"data/mers_all.tree\""
   ]
  },
  {
   "cell_type": "markdown",
   "id": "faf51b3e-3c8a-450f-8289-9a67e2800889",
   "metadata": {},
   "source": [
    "## Outputs"
   ]
  },
  {
   "cell_type": "code",
   "execution_count": null,
   "id": "3313a24e-5847-4b22-ac3e-e8a7a423735a",
   "metadata": {},
   "outputs": [],
   "source": [
    "recombination_groups_path = \"recombination_groups.tsv\""
   ]
  },
  {
   "cell_type": "code",
   "execution_count": null,
   "id": "f56cd9e6-cfd6-4809-aec1-2cb1ba7f9bf3",
   "metadata": {},
   "outputs": [],
   "source": [
    "clade_recombination_groups_path = \"clade_recombination_groups.tsv\""
   ]
  },
  {
   "cell_type": "markdown",
   "id": "af1332b8-7c70-4add-b0ab-db2d6a4b2dec",
   "metadata": {},
   "source": [
    "## Load clade annotations"
   ]
  },
  {
   "cell_type": "code",
   "execution_count": null,
   "id": "bff90fba-2971-4c54-8cc2-e65474138505",
   "metadata": {},
   "outputs": [],
   "source": [
    "clades = read_node_data(mers_clades_path)"
   ]
  },
  {
   "cell_type": "markdown",
   "id": "dfec08df-2268-4902-b4fe-1c132e6903a3",
   "metadata": {},
   "source": [
    "## Load phylogenetic network"
   ]
  },
  {
   "cell_type": "code",
   "execution_count": null,
   "id": "d53eac36-2acd-467e-931d-8e04c66a4272",
   "metadata": {},
   "outputs": [],
   "source": [
    "trees = list(Bio.Phylo.NexusIO.parse(mers_network_path))\n",
    "tree = trees[0]"
   ]
  },
  {
   "cell_type": "code",
   "execution_count": null,
   "id": "c86192ea-d9a4-42bd-9629-78115b9b3df7",
   "metadata": {},
   "outputs": [],
   "source": [
    "tree = annotate_parents_for_tree(tree)"
   ]
  },
  {
   "cell_type": "code",
   "execution_count": null,
   "id": "df4b5e92-2cf8-45ef-8dbf-de762f4b6091",
   "metadata": {},
   "outputs": [],
   "source": [
    "# Make a single pass through the tree in postorder to store a set of all\n",
    "# terminals descending from each node. This uses more memory, but it allows\n",
    "# faster identification of MRCAs between any pair of tips in the tree and\n",
    "# speeds up pairwise distance calculations by orders of magnitude.\n",
    "for node in tree.find_clades(order=\"postorder\"):\n",
    "    node.terminals = set()\n",
    "    for child in node.clades:\n",
    "        if child.is_terminal() and not child.name.startswith(\"#\"):\n",
    "            node.terminals.add(child.name)\n",
    "        else:\n",
    "            node.terminals.update(child.terminals)"
   ]
  },
  {
   "cell_type": "markdown",
   "id": "3c1a6230-8c36-4157-b37c-dc087139f3fd",
   "metadata": {},
   "source": [
    "## Identify recombination pairs\n",
    "\n",
    "Recombination events in the network appear as nodes in the tree named like `#HXX` where `XX` is an integer id for the event. There should be two nodes in the \"tree\" with the same name, one with no children (a terminal, indicating the donor of the recombination event) and another with at least one child (the recipient of the recombination event)."
   ]
  },
  {
   "cell_type": "code",
   "execution_count": null,
   "id": "d2c22071-47bc-424c-8586-fce0f376fc27",
   "metadata": {},
   "outputs": [],
   "source": [
    "recombination_pairs = defaultdict(list)\n",
    "for n in tree.find_clades():\n",
    "    if n.name is None and n.confidence is not None:\n",
    "        n.name = n.confidence\n",
    "        n.confidence = None\n",
    "\n",
    "    if n.name is not None and n.name.startswith(\"#\"):\n",
    "        recombination_pairs[n.name].append(n)"
   ]
  },
  {
   "cell_type": "code",
   "execution_count": null,
   "id": "1d131541-828a-445c-83d2-3631e51537f2",
   "metadata": {},
   "outputs": [],
   "source": [
    "len(recombination_pairs)"
   ]
  },
  {
   "cell_type": "markdown",
   "id": "5d057fbc-e6df-492f-9a95-227e7459e7ee",
   "metadata": {},
   "source": [
    "## Parse lengths of recombination events\n",
    "\n",
    "Each recombination pair should have a donor node (one with no children) that has a \"length\" annotation in the node's `comment` field. The parsing below could be more robust, but it was sufficient for this initial experimental work."
   ]
  },
  {
   "cell_type": "code",
   "execution_count": null,
   "id": "a0dd8254-d92e-4b3d-9b43-55dfb327913f",
   "metadata": {
    "tags": []
   },
   "outputs": [],
   "source": [
    "length_by_donor = {}\n",
    "lengths = []\n",
    "for name, pairs in recombination_pairs.items():\n",
    "    print(f\"event name: {name}\")\n",
    "    for node in pairs:\n",
    "        print(f\"node name: {node.name}\")\n",
    "        print(f\"children: {len(node.clades)}\")\n",
    "        length = [\n",
    "            int(piece.split(\"=\")[1].replace(\"]\", \"\"))\n",
    "            for piece in node.comment.split(\",\")\n",
    "            if \"length=\" in piece\n",
    "        ][0]\n",
    "        node.length = length\n",
    "        print(f\"length: {length}\")\n",
    "        \n",
    "        # Donor nodes have no children.\n",
    "        if len(node.clades) == 0:\n",
    "            node.is_donor = True\n",
    "            lengths.append(length)\n",
    "            \n",
    "            length_by_donor[node.name] = length\n",
    "        else:\n",
    "            node.is_donor = False\n",
    "    print()"
   ]
  },
  {
   "cell_type": "code",
   "execution_count": null,
   "id": "0140dd3c-3693-4c37-b963-3d795f2d2625",
   "metadata": {
    "tags": []
   },
   "outputs": [],
   "source": [
    "length_by_donor"
   ]
  },
  {
   "cell_type": "markdown",
   "id": "14d1a3d8-bd40-499b-ad54-e6b9a97b9b98",
   "metadata": {},
   "source": [
    "## Summarize recombination event lengths\n",
    "\n",
    "Use the distribution of recombination event lengths to reason about the minimum size an event should be to define \"subtrees\" in the network that share that same event."
   ]
  },
  {
   "cell_type": "code",
   "execution_count": null,
   "id": "a657f49d-60c1-4c7d-8688-2c82a7610905",
   "metadata": {},
   "outputs": [],
   "source": [
    "median_length = np.median(lengths)"
   ]
  },
  {
   "cell_type": "code",
   "execution_count": null,
   "id": "05a9ff1c-6386-4467-b537-0f803b24b92d",
   "metadata": {},
   "outputs": [],
   "source": [
    "median_length"
   ]
  },
  {
   "cell_type": "code",
   "execution_count": null,
   "id": "fcf6d557-ce42-4c1a-b6fb-663e0d00a172",
   "metadata": {},
   "outputs": [],
   "source": [
    "fig, ax = plt.subplots(1, 1, figsize=(6, 4), dpi=150)\n",
    "ax.hist(lengths)\n",
    "\n",
    "ax.axvline(x=median_length, color=\"red\", label=f\"median length={median_length} bp\")\n",
    "\n",
    "ax.set_xlabel(\"event length (bp)\")\n",
    "ax.set_ylabel(\"number of events\")\n",
    "\n",
    "ax.legend(frameon=False)\n",
    "\n",
    "sns.despine()"
   ]
  },
  {
   "cell_type": "markdown",
   "id": "f0962a3f-6a91-4157-8e10-e9cde5b8b13d",
   "metadata": {},
   "source": [
    "Set the threshold for minimum recombination donor size in base pairs. This threshold is somewhat arbitrary, like any threshold, but we want a value that excludes most small events that are unlikely to substantially alter the recipient genome."
   ]
  },
  {
   "cell_type": "code",
   "execution_count": null,
   "id": "62eb7278-198f-422c-b4d9-5f3238bc16d7",
   "metadata": {},
   "outputs": [],
   "source": [
    "length_threshold = 5000"
   ]
  },
  {
   "cell_type": "code",
   "execution_count": null,
   "id": "661bc7d4-a7da-42c5-8e67-6e922bec4ff7",
   "metadata": {},
   "outputs": [],
   "source": [
    "large_events = (np.array(lengths) >= length_threshold).sum()"
   ]
  },
  {
   "cell_type": "code",
   "execution_count": null,
   "id": "fa6540cf-350d-4dbf-a766-3ec7cff59d55",
   "metadata": {},
   "outputs": [],
   "source": [
    "large_events"
   ]
  },
  {
   "cell_type": "code",
   "execution_count": null,
   "id": "87a133bd-5649-4ef7-8cc7-a3ddee4812e4",
   "metadata": {},
   "outputs": [],
   "source": [
    "total_events = len(lengths)"
   ]
  },
  {
   "cell_type": "code",
   "execution_count": null,
   "id": "ea539a83-e119-43aa-af03-d0dd6add078a",
   "metadata": {},
   "outputs": [],
   "source": [
    "total_events"
   ]
  },
  {
   "cell_type": "code",
   "execution_count": null,
   "id": "8dcda90a-789d-41dd-b1e4-fbe00f5c93e0",
   "metadata": {},
   "outputs": [],
   "source": [
    "large_events / total_events"
   ]
  },
  {
   "cell_type": "markdown",
   "id": "1c1c8848-f7c0-4e84-9b84-a17fa6c6851b",
   "metadata": {},
   "source": [
    "## Inspect some recombination pairs\n",
    "\n",
    "Inspect the values associated with nodes in a given recombination pair, to better understand what data are available to us. This was important for understanding the directionality of recombination events and the associated length of the donor sequences."
   ]
  },
  {
   "cell_type": "code",
   "execution_count": null,
   "id": "16aeaac2-f2ca-48c2-a4f2-bae1efa0a49a",
   "metadata": {},
   "outputs": [],
   "source": [
    "recombination_pairs[\"#H59\"][0].__dict__"
   ]
  },
  {
   "cell_type": "code",
   "execution_count": null,
   "id": "c08f9ee6-dfd9-418d-85ed-777271053933",
   "metadata": {},
   "outputs": [],
   "source": [
    "recombination_pairs[\"#H59\"][1].__dict__"
   ]
  },
  {
   "cell_type": "code",
   "execution_count": null,
   "id": "519011ee-52d2-4511-b92d-f73f0957b3da",
   "metadata": {},
   "outputs": [],
   "source": [
    "recombination_pairs[\"#H52\"][0].__dict__"
   ]
  },
  {
   "cell_type": "code",
   "execution_count": null,
   "id": "91a2376a-a11f-4813-bf70-e3c3d4929533",
   "metadata": {},
   "outputs": [],
   "source": [
    "recombination_pairs[\"#H52\"][1].__dict__"
   ]
  },
  {
   "cell_type": "markdown",
   "id": "1e6a68c2-4dfc-41f8-a879-e8430efb4d6c",
   "metadata": {},
   "source": [
    "## Calculate number of recombination events between tips"
   ]
  },
  {
   "cell_type": "markdown",
   "id": "9b45be9b-48ec-4cf5-acaf-607c3cb232ea",
   "metadata": {},
   "source": [
    "Calculate the number of recombination events on the path between two tips in the network that were manually inspected ahead of time with [IcyTree](https://icytree.org/). If we parsed the network properly, we should find 9 events between the two tips (2 on the path from one tip to its MRCA with the other tip and 7 on the path from the other tip to their MRCA).\n",
    "\n",
    "The logic below is based on [a script from the seasonal flu Nextstrain build](https://github.com/nextstrain/seasonal-flu/blob/87740b36b4c4b11b9b450b7ad1e558390d6a1289/flu-forecasting/scripts/pairwise_titer_tree_distances.py#L12-L36) that needs to make similar pairwise tip distance calculations."
   ]
  },
  {
   "cell_type": "code",
   "execution_count": null,
   "id": "f4aa4be1-a4e0-4cb8-9cca-ae1a56e28eb9",
   "metadata": {},
   "outputs": [],
   "source": [
    "tip_a = [tip for tip in tree.find_clades(terminal=True) if \"Riyadh_9_2013\" in tip.name][0]"
   ]
  },
  {
   "cell_type": "code",
   "execution_count": null,
   "id": "11af3412-36fa-4ce4-9739-2d9813454628",
   "metadata": {},
   "outputs": [],
   "source": [
    "tip_a"
   ]
  },
  {
   "cell_type": "code",
   "execution_count": null,
   "id": "a26d64cc-de37-4293-985c-b0a41fb4ef77",
   "metadata": {},
   "outputs": [],
   "source": [
    "tip_b = [tip for tip in tree.find_clades(terminal=True) if \"Hafr-Al-Batin_4_2013\" in tip.name][0]"
   ]
  },
  {
   "cell_type": "code",
   "execution_count": null,
   "id": "6fe29466-3264-4b0d-a671-d789f4ef8393",
   "metadata": {},
   "outputs": [],
   "source": [
    "tip_b"
   ]
  },
  {
   "cell_type": "code",
   "execution_count": null,
   "id": "7d11ba86-5d1e-408d-b01a-be0ca8fe793f",
   "metadata": {},
   "outputs": [],
   "source": [
    "# Find MRCA of tips from one tip up. Sum the distance of interest\n",
    "# while walking up to the MRCA, to avoid an additional pass later. The loop\n",
    "# below stops when the past node is found in the list of the candidate\n",
    "# MRCA's terminals. This test should always evaluate to true when the MRCA\n",
    "# is the root node, so we should not have to worry about trying to find the\n",
    "# parent of the root.\n",
    "current_node_branch_sum = 0.0\n",
    "mrca = tip_a\n",
    "while tip_b.name not in mrca.terminals:\n",
    "    if hasattr(mrca, \"is_donor\") and not mrca.is_donor:\n",
    "        # Count the number of recombination events.\n",
    "        current_node_branch_sum += 1\n",
    "    \n",
    "    # Print debugging info, so we understand the network traversal.\n",
    "    print(f\"Changing MRCA from {mrca} to {mrca.parent}\")\n",
    "    mrca = mrca.parent"
   ]
  },
  {
   "cell_type": "code",
   "execution_count": null,
   "id": "316bebee-dab3-4e8f-8bdb-2fb4432ca6f3",
   "metadata": {},
   "outputs": [],
   "source": [
    "current_node_branch_sum"
   ]
  },
  {
   "cell_type": "code",
   "execution_count": null,
   "id": "49413b97-f31b-442b-8fce-522fa8c2771f",
   "metadata": {},
   "outputs": [],
   "source": [
    "mrca"
   ]
  },
  {
   "cell_type": "code",
   "execution_count": null,
   "id": "789dc96c-547c-4fda-9318-82784daa33e0",
   "metadata": {},
   "outputs": [],
   "source": [
    "# Sum the node weights for the other tip from the bottom up until we reach\n",
    "# the MRCA. The value of the MRCA is intentionally excluded here, as it\n",
    "# would represent the branch leading to the MRCA and would be outside the\n",
    "# path between the two tips.\n",
    "past_node_branch_sum = 0.0\n",
    "current_node = tip_b\n",
    "while current_node != mrca:\n",
    "    if hasattr(current_node, \"is_donor\") and not current_node.is_donor:\n",
    "        # Count the number of recombination events on the path from\n",
    "        # the second tip to its MRCA with the first tip.\n",
    "        past_node_branch_sum += 1\n",
    "        \n",
    "    current_node = current_node.parent"
   ]
  },
  {
   "cell_type": "code",
   "execution_count": null,
   "id": "c3855ec9-e254-4a13-bdd8-2b096ebdd911",
   "metadata": {},
   "outputs": [],
   "source": [
    "past_node_branch_sum"
   ]
  },
  {
   "cell_type": "code",
   "execution_count": null,
   "id": "53340780-6c5e-423d-98a6-0e41424670a3",
   "metadata": {},
   "outputs": [],
   "source": [
    "final_sum = past_node_branch_sum + current_node_branch_sum"
   ]
  },
  {
   "cell_type": "code",
   "execution_count": null,
   "id": "85f0e554-19c7-4e03-8e2d-93cad617ab5d",
   "metadata": {},
   "outputs": [],
   "source": [
    "final_sum"
   ]
  },
  {
   "cell_type": "markdown",
   "id": "1e95a7ce-cdc5-450d-b273-350cb3c73e45",
   "metadata": {},
   "source": [
    "## Assign tips to groups based on the most recent shared recombination event of a minimum size\n",
    "\n",
    "In the first attempt to assign tips to \"subtrees\" akin to clades or reassortment clusters (MCCs) from TreeKnit, we traverse the tree in postorder to find the most recent recombination event of a minimum size and then assign all tips descending from that event to a group named after the recombination event.\n",
    "\n",
    "Importantly, we look for nodes that are _recipients_ of the recombination event and then check the length of the sequence contributed by the donor event (located elsewhere in the network). The precalculated data structure with length by donor helps us do this."
   ]
  },
  {
   "cell_type": "code",
   "execution_count": null,
   "id": "95db87b9-6329-439b-8a4d-f605d76eea00",
   "metadata": {},
   "outputs": [],
   "source": [
    "for node in tree.find_clades(terminal=True):\n",
    "    node.group = None"
   ]
  },
  {
   "cell_type": "code",
   "execution_count": null,
   "id": "311edaf5-baa4-453d-a9c4-651f3c8be6c8",
   "metadata": {},
   "outputs": [],
   "source": [
    "for node in tree.find_clades(order=\"postorder\"):\n",
    "    # Find recipient nodes for recombination events with events longer than the threshold.\n",
    "    if hasattr(node, \"is_donor\") and not node.is_donor and length_by_donor[node.name] >= length_threshold:\n",
    "        # Assign all unassigned tips to a group named after the current node.\n",
    "        print(f\"Node '{node.name}' defines a cluster\")\n",
    "        for tip in node.find_clades(terminal=True):\n",
    "            # Donor recombination events appear as terminal nodes in the \"tree\",\n",
    "            # so we need to omit these from our group assignment by ignoring nodes\n",
    "            # with recombination event names like \"#HXX\".\n",
    "            if not tip.name.startswith(\"#\") and tip.group is None:\n",
    "                tip.group = node.name"
   ]
  },
  {
   "cell_type": "markdown",
   "id": "879fa2f5-e057-4254-9898-59d9efe57471",
   "metadata": {},
   "source": [
    "## Inspect the set of all groups\n",
    "\n",
    "There should be no more groups than the number of recombination events with a length greater than or equal to the threshold. However, there can be fewer groups, when all tips have been assigned to groups based on later recombination events and the earlier recombination events have no tips to be assigned."
   ]
  },
  {
   "cell_type": "code",
   "execution_count": null,
   "id": "b122c937-289b-4ccf-bbf7-4ae9695e5146",
   "metadata": {},
   "outputs": [],
   "source": [
    "(np.array(lengths) >= length_threshold).sum()"
   ]
  },
  {
   "cell_type": "code",
   "execution_count": null,
   "id": "03ca07cf-264c-4830-8b58-748e540cea10",
   "metadata": {},
   "outputs": [],
   "source": [
    "groups = {\n",
    "    tip.group\n",
    "    for tip in tree.find_clades(terminal=True)\n",
    "    if not tip.name.startswith(\"#\") and tip.group is not None\n",
    "}"
   ]
  },
  {
   "cell_type": "code",
   "execution_count": null,
   "id": "4e3ff4b6-ea79-4c68-a3a4-afa9f33356c1",
   "metadata": {},
   "outputs": [],
   "source": [
    "len(groups)"
   ]
  },
  {
   "cell_type": "code",
   "execution_count": null,
   "id": "22f70076-4115-468d-8ac3-4b041064e619",
   "metadata": {},
   "outputs": [],
   "source": [
    "groups"
   ]
  },
  {
   "cell_type": "markdown",
   "id": "8765dd76-c0fb-409d-aa65-4ee991c556aa",
   "metadata": {},
   "source": [
    "## Create and export a data frame of recombination groups\n",
    "\n",
    "The resulting TSV file can be dragged onto Auspice to quickly inspect the groups and iterate with different length thresholds, as desired."
   ]
  },
  {
   "cell_type": "code",
   "execution_count": null,
   "id": "1d881d68-2958-4ee2-8388-bba2119e288a",
   "metadata": {},
   "outputs": [],
   "source": [
    "recombination_records = []\n",
    "for tip in tree.find_clades(terminal=True):\n",
    "    if tip.group is not None:\n",
    "        recombination_records.append({\n",
    "            \"strain\": tip.name,\n",
    "            \"group\": tip.group[1:],\n",
    "        })"
   ]
  },
  {
   "cell_type": "code",
   "execution_count": null,
   "id": "332ee305-4e7f-4fa1-aeda-92357c7391f6",
   "metadata": {},
   "outputs": [],
   "source": [
    "recombination_groups = pd.DataFrame(recombination_records)"
   ]
  },
  {
   "cell_type": "code",
   "execution_count": null,
   "id": "35a3d5e7-0bff-4fe7-a8e3-06b9805abc1c",
   "metadata": {},
   "outputs": [],
   "source": [
    "recombination_groups"
   ]
  },
  {
   "cell_type": "code",
   "execution_count": null,
   "id": "ffc89ea7-63c6-4ed9-a954-ddcba8936bdd",
   "metadata": {},
   "outputs": [],
   "source": [
    "recombination_groups.to_csv(recombination_groups_path, sep=\"\\t\", index=False)"
   ]
  },
  {
   "cell_type": "markdown",
   "id": "c21dd25b-a888-4181-af81-3f2def3f7e42",
   "metadata": {},
   "source": [
    "## Annotate groups based on coalescent and recombination events\n",
    "\n",
    "Use previously defined multi-host clade annotations to represent shared coalescent events for groups of tips and combine these annotations with the recombination group annotations. The joint annotation of these event types should reflect the most evolutionarily related tips in the network for inspect in different embedding spaces."
   ]
  },
  {
   "cell_type": "code",
   "execution_count": null,
   "id": "ba3df36d-a5ae-4511-8a2b-bd8ea9b28a37",
   "metadata": {},
   "outputs": [],
   "source": [
    "clades_df = pd.DataFrame([\n",
    "    {\"strain\": key, \"clade\": values[\"multihost_clade_membership\"]}\n",
    "    for key, values in clades[\"nodes\"].items()\n",
    "])"
   ]
  },
  {
   "cell_type": "code",
   "execution_count": null,
   "id": "ec157a0b-8507-427b-9c6b-32767e156215",
   "metadata": {},
   "outputs": [],
   "source": [
    "clades_df"
   ]
  },
  {
   "cell_type": "code",
   "execution_count": null,
   "id": "e340d58f-0be5-433f-89b6-c4675ed6343f",
   "metadata": {},
   "outputs": [],
   "source": [
    "clade_recombination_groups = recombination_groups.merge(clades_df, on=\"strain\")"
   ]
  },
  {
   "cell_type": "code",
   "execution_count": null,
   "id": "d399dc1e-2a5c-4862-9001-8c094eb140de",
   "metadata": {},
   "outputs": [],
   "source": [
    "clade_recombination_groups[\"cluster\"] = clade_recombination_groups.apply(lambda row: row[\"clade\"] + \"|\" + row[\"group\"], axis=1)"
   ]
  },
  {
   "cell_type": "code",
   "execution_count": null,
   "id": "d6369741-d399-46f3-9756-d84011948599",
   "metadata": {},
   "outputs": [],
   "source": [
    "clade_recombination_groups[\"cluster\"].value_counts()"
   ]
  },
  {
   "cell_type": "code",
   "execution_count": null,
   "id": "80dcc98f-f12a-4761-a193-323c3bb8c7af",
   "metadata": {},
   "outputs": [],
   "source": [
    "clade_recombination_groups[\"cluster\"].drop_duplicates().shape"
   ]
  },
  {
   "cell_type": "markdown",
   "id": "0e862519-9e7a-49ff-b54b-ef074195cc13",
   "metadata": {},
   "source": [
    "As above, export the data frame of clade/recombination groups to a TSV file that we can drag onto Auspice and inspect in the context of the tree and different embeddings."
   ]
  },
  {
   "cell_type": "code",
   "execution_count": null,
   "id": "f357ce3c-0c52-4d9e-a7a3-8368fbc9ae70",
   "metadata": {},
   "outputs": [],
   "source": [
    "clade_recombination_groups.to_csv(clade_recombination_groups_path, sep=\"\\t\", index=False)"
   ]
  },
  {
   "cell_type": "markdown",
   "id": "f0fd9b32-5ee6-4dbc-9e2c-4b11dc83fc00",
   "metadata": {},
   "source": [
    "## Create a network data structure from the tree data structure\n",
    "\n",
    "To simplify thinking about distances between tips in the network, create a network data structure with [networkx](https://networkx.org/) based on our knowledge of how the recombination network is encoded in a tree data structure. This network structure should also simplify plotting of the network and inspection in other visualization tools that accept dot files.\n",
    "\n",
    "The network should be a directed acyclic graph (DAG) with edges between internal nodes and their descendents and edges between donor and recipient recombination events. Edge weights should be calculated from the branch lengths annotated to the corresponding internal or donor nodes. We may want to scale edge weights for recombination events by proportion of the genome contributed from the donor (e.g., `branch_length * (event_length / genome_length)`). This is up for discussion, though."
   ]
  },
  {
   "cell_type": "code",
   "execution_count": null,
   "id": "d16e5e48-4dc6-4768-8fb9-f3f1d72cc329",
   "metadata": {},
   "outputs": [],
   "source": [
    "# Code TBD.\n",
    "network = nx.Graph()"
   ]
  },
  {
   "cell_type": "markdown",
   "id": "6393ab77-2df2-47b2-8167-fceb79aa2b2b",
   "metadata": {},
   "source": [
    "## Calculate pairwise tip distances on the network\n",
    "\n",
    "Given the network data structure defined above, calculate the distance between all pairs of tips in the network. Start by implementing a function that calculates the distance between any given pair of tips and testing this function with a small subset to confirm that the implementation works. This distance calculation should scale exponentially with the number of tips in the network, so expect it to take a while."
   ]
  },
  {
   "cell_type": "code",
   "execution_count": null,
   "id": "85d8cf7e-a904-45aa-8dc6-3b7236dc2ff1",
   "metadata": {},
   "outputs": [],
   "source": [
    "# Code TBD.\n",
    "def get_network_distance(network, tip_a, tip_b):\n",
    "    \"\"\"Return the distance between the given tips on the given network.\n",
    "    \n",
    "    Arguments\n",
    "    ---------\n",
    "    network : nx.Graph\n",
    "        a graph representation of a phylogenetic network with weighted edges between\n",
    "        ancestral nodes of coalescent events and their children and weighted edges\n",
    "        between donor/recipient pairs in recombination events.\n",
    "        \n",
    "    tip_a : string\n",
    "        name of a tip in the given network to calculate distance to the second tip.\n",
    "\n",
    "    tip_b : string\n",
    "        name of a tip in the given network to calculate distance to the first tip.\n",
    "        \n",
    "    Returns\n",
    "    -------\n",
    "    float :\n",
    "        distance between tips in the network\n",
    "    \n",
    "    \"\"\"\n",
    "    pass"
   ]
  },
  {
   "cell_type": "code",
   "execution_count": null,
   "id": "2d09e8a6-7ffa-4740-834c-bc7eec5ce5c3",
   "metadata": {},
   "outputs": [],
   "source": []
  }
 ],
 "metadata": {
  "kernelspec": {
   "display_name": "Python 3",
   "language": "python",
   "name": "python3"
  },
  "language_info": {
   "codemirror_mode": {
    "name": "ipython",
    "version": 3
   },
   "file_extension": ".py",
   "mimetype": "text/x-python",
   "name": "python",
   "nbconvert_exporter": "python",
   "pygments_lexer": "ipython3",
   "version": "3.7.10"
  }
 },
 "nbformat": 4,
 "nbformat_minor": 5
}
