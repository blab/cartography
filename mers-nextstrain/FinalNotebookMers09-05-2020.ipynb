{
 "cells": [
  {
   "cell_type": "markdown",
   "metadata": {},
   "outputs": [],
   "source": [
    "# MERS"
   ]
  },
  {
   "cell_type": "code",
   "execution_count": null,
   "metadata": {},
   "outputs": [],
   "source": [
    "import sys\n",
    "sys.path.append(\"notebooks/scripts\")"
   ]
  },
  {
   "cell_type": "markdown",
   "metadata": {},
   "outputs": [],
   "source": [
    "# Imports Section "
   ]
  },
  {
   "cell_type": "code",
   "execution_count": null,
   "metadata": {},
   "outputs": [],
   "source": [
    "!pwd"
   ]
  },
  {
   "cell_type": "code",
   "execution_count": null,
   "metadata": {},
   "outputs": [],
   "source": [
    "import altair as alt\n",
    "from altair_saver import save\n",
    "import Bio.Phylo\n",
    "import json\n",
    "import matplotlib.pyplot as plt\n",
    "import matplotlib as mpl\n",
    "import numpy as np\n",
    "import pandas as pd\n",
    "import re\n",
    "import seaborn as sns\n",
    "\n",
    "from Helpers import linking_tree_with_plots_clickable, linking_tree_with_plots_brush, scatterplot_with_tooltip_interactive\n",
    "from Helpers import get_y_positions\n",
    "\n",
    "%matplotlib inline"
   ]
  },
  {
   "cell_type": "code",
   "execution_count": null,
   "metadata": {},
   "outputs": [],
   "source": [
    "alt.renderers.set_embed_options(\n",
    "    padding={\"left\": 0, \"right\": 0, \"bottom\": 1, \"top\": 1}\n",
    ")"
   ]
  },
  {
   "cell_type": "code",
   "execution_count": null,
   "metadata": {},
   "outputs": [],
   "source": [
    "sns.set_style(\"ticks\")\n",
    "# Disable top and right spines.\n",
    "mpl.rcParams['axes.spines.top'] = False\n",
    "mpl.rcParams['axes.spines.right'] = False\n",
    "# Display and save figures at higher resolution for presentations and manuscripts.\n",
    "mpl.rcParams['savefig.dpi'] = 300\n",
    "mpl.rcParams['figure.dpi'] = 100\n",
    "# Display text at sizes large enough for presentations and manuscripts.\n",
    "mpl.rcParams['font.weight'] = \"normal\"\n",
    "mpl.rcParams['axes.labelweight'] = \"normal\"\n",
    "mpl.rcParams['font.size'] = 10\n",
    "mpl.rcParams['axes.labelsize'] = 10\n",
    "mpl.rcParams['legend.fontsize'] = 8\n",
    "mpl.rcParams['xtick.labelsize'] = 10\n",
    "mpl.rcParams['ytick.labelsize'] = 10\n",
    "mpl.rcParams['axes.titlesize'] = 8\n",
    "mpl.rc('text', usetex=False)"
   ]
  },
  {
   "cell_type": "code",
   "execution_count": null,
   "metadata": {},
   "outputs": [],
   "source": [
    "try: \n",
    "    snakemake.input.node_df\n",
    "    import selenium\n",
    "    from selenium.webdriver import Chrome \n",
    "    from selenium import webdriver\n",
    "\n",
    "    chrome_options = webdriver.ChromeOptions()\n",
    "    chrome_options.add_argument('--headless')\n",
    "    chrome_options.add_argument('--no-sandbox')\n",
    "    chrome_options.add_argument('--disable-dev-shm-usage')\n",
    "    chrome_options.add_argument(\"--remote-debugging-port=9222\")\n",
    "\n",
    "    browser = webdriver.Chrome(options=chrome_options)\n",
    "except:\n",
    "    print(\"not in Snakemake, imports unnecessary\")"
   ]
  },
  {
   "cell_type": "markdown",
   "metadata": {},
   "outputs": [],
   "source": [
    "# MERS Specific Variables"
   ]
  },
  {
   "cell_type": "code",
   "execution_count": null,
   "metadata": {},
   "outputs": [],
   "source": [
    "#try:\n",
    "colors = snakemake.input.colors\n",
    "node_df = snakemake.input.node_df\n",
    "\n",
    "pca_df = snakemake.input.pca_df\n",
    "explained_variance_pca = snakemake.input.explained_variance_pca\n",
    "\n",
    "mds_df = snakemake.input.mds_df\n",
    "tsne_df = snakemake.input.tsne_df\n",
    "umap_df = snakemake.input.umap_df\n",
    "\n",
    "#Scatterplot:\n",
    "scatterplot_pca = snakemake.input.scatterplot_pca\n",
    "scatterplot_pca_metadata = snakemake.input.scatterplot_pca_metadata\n",
    "\n",
    "scatterplot_mds = snakemake.input.scatterplot_mds\n",
    "scatterplot_mds_metadata = snakemake.input.scatterplot_mds_metadata\n",
    "\n",
    "scatterplot_tsne = snakemake.input.scatterplot_tsne\n",
    "scatterplot_tsne_metadata = snakemake.input.scatterplot_tsne_metadata\n",
    "\n",
    "scatterplot_umap = snakemake.input.scatterplot_umap\n",
    "scatterplot_umap_metadata = snakemake.input.scatterplot_umap_metadata\n",
    "\n",
    "#except:\n",
    "#    print(\"not in Snakemake, imports unnecessary\")"
   ]
  },
  {
   "cell_type": "code",
   "execution_count": null,
   "metadata": {},
   "outputs": [],
   "source": [
    "#Use colors.tsv file to generate these \n",
    "\n",
    "domain = [\"other\"] + [\"clade_\" + str(x) for x in range(0,37)]\n",
    "\n"
   ]
  },
  {
   "cell_type": "code",
   "execution_count": null,
   "metadata": {},
   "outputs": [],
   "source": [
    "range_df = pd.read_csv(\"mers-nextstrain/config/colors.tsv\", sep=\"\\t\", header=None)"
   ]
  },
  {
   "cell_type": "code",
   "execution_count": null,
   "metadata": {},
   "outputs": [],
   "source": [
    "range_df.columns = [\"membership\", \"clade_name\", \"color\"]"
   ]
  },
  {
   "cell_type": "code",
   "execution_count": null,
   "metadata": {},
   "outputs": [],
   "source": [
    "range_ = range_df[\"color\"].values.tolist()[:38]"
   ]
  },
  {
   "cell_type": "code",
   "execution_count": null,
   "metadata": {},
   "outputs": [],
   "source": [
    "len(range_df[\"color\"].values.tolist()[:37])"
   ]
  },
  {
   "cell_type": "raw",
   "metadata": {},
   "outputs": [],
   "source": [
    "range_ = ['#000000', '#5c22be', '#5330cd', '#71c4ac', '#e7cf4b', '#ff9a3c', '#ff8939', '#ff7535', '#ff6131', '#fd4b2c', '#f93529', '#4b3ddb', '#474ee3', '#4760e9', '#4971eb', '#4b82e9', '#4f92e5',\n",
    "          '#549fdc', '#5aabd3', '#61b4c6', '#68bdba', '#7bca9d', '#86ce91', '#91d283', '#9dd478', '#aad66d', '#b6d764', '#c3d65c', '#cfd555', '#dcd34f', '#e7cf4b', '#f9c244', '#ffb642', '#ffaa3f', '#A17070', '#B9B7BC', '#D5D4D7', '#6F6E70' ]"
   ]
  },
  {
   "cell_type": "code",
   "execution_count": null,
   "metadata": {},
   "outputs": [],
   "source": [
    "len(domain)"
   ]
  },
  {
   "cell_type": "markdown",
   "metadata": {},
   "outputs": [],
   "source": [
    "# Trying out MERS"
   ]
  },
  {
   "cell_type": "code",
   "execution_count": null,
   "metadata": {},
   "outputs": [],
   "source": [
    "#node_df = pd.read_csv(node_df, sep=\"\\t\")\n",
    "node_df = pd.read_csv(\"mers-nextstrain/results/table.tsv\", sep=\"\\t\")\n",
    "node_df[\"multihost_clade_membership\"] = node_df[\"multihost_clade_membership\"].sort_values().fillna(\"other\")\n",
    "node_df.rename(columns={'num_date':'date', 'y_value':\"y\"}, inplace=True)"
   ]
  },
  {
   "cell_type": "code",
   "execution_count": null,
   "metadata": {},
   "outputs": [],
   "source": [
    "node_df"
   ]
  },
  {
   "cell_type": "code",
   "execution_count": null,
   "metadata": {},
   "outputs": [],
   "source": [
    "node_df[\"multihost_clade_membership\"].value_counts().sort_values(ascending=False)"
   ]
  },
  {
   "cell_type": "markdown",
   "metadata": {},
   "outputs": [],
   "source": [
    "# Running PCA on the Dataset"
   ]
  },
  {
   "cell_type": "code",
   "execution_count": null,
   "metadata": {},
   "outputs": [],
   "source": [
    "#principalDf = pd.read_csv(pca_df, index_col=0)\n",
    "principalDf = pd.read_csv(\"mers-nextstrain/results/embed_pca.csv\", index_col=0)\n",
    "#explained_variance_df = pd.read_csv(explained_variance_pca)\n",
    "explained_variance_df = pd.read_csv(\"mers-nextstrain/results/explained_variance_pca.csv\")"
   ]
  },
  {
   "cell_type": "code",
   "execution_count": null,
   "metadata": {},
   "outputs": [],
   "source": [
    "plt.plot(explained_variance_df['principal components'].values.tolist(), explained_variance_df[\"explained variance\"].values.tolist(), 'o')\n",
    "\n",
    "plt.xlabel(\"Principal Component\")\n",
    "plt.ylabel(\"Explained Variance\")\n",
    "\n",
    "plt.title(f\"Explained Variance Plot (MERS)\")\n",
    "\n",
    "plt.savefig(snakemake.output.Explained_variance_PCA)"
   ]
  },
  {
   "cell_type": "code",
   "execution_count": null,
   "metadata": {},
   "outputs": [],
   "source": [
    "merged_pca_df = principalDf.merge(node_df[[\"strain\", \"date\", \"y\", \"host\", \"multihost_clade_membership\"]], on=\"strain\")"
   ]
  },
  {
   "cell_type": "code",
   "execution_count": null,
   "metadata": {},
   "outputs": [],
   "source": [
    "explained_variance_PCA = explained_variance_df[\"explained variance\"].values.tolist()"
   ]
  },
  {
   "cell_type": "code",
   "execution_count": null,
   "metadata": {},
   "outputs": [],
   "source": [
    "PCAFluBrush = scatterplot_with_tooltip_interactive(merged_pca_df,'pca1','pca2','PCA1 (Explained Variance : {}%'.format(round(explained_variance_PCA[0]*100,2)) + \")\",\n",
    "                                          'PCA2 (Explained Variance : {}%'.format(round(explained_variance_PCA[1]*100,2)) + \")\",['strain', 'host'],'multihost_clade_membership:N', domain, range_)\n",
    "PCAFluBrush"
   ]
  },
  {
   "cell_type": "code",
   "execution_count": null,
   "metadata": {},
   "outputs": [],
   "source": [
    "brush = alt.selection(type='interval', resolve='global')\n",
    "chart = alt.Chart(merged_pca_df).mark_circle(size=60).encode(\n",
    "    x=alt.X('pca1', title='PCA1 (Explained Variance : {}%'.format(round(explained_variance_PCA[0]*100,2)) + \")\"),\n",
    "    y=alt.X('pca2', title='PCA2 (Explained Variance : {}%'.format(round(explained_variance_PCA[1]*100,2)) + \")\"),\n",
    "    color=alt.Color(\"multihost_clade_membership:N\", scale=alt.Scale(domain=domain, range=range_)),\n",
    "    tooltip=[\"strain\", \"host\"],\n",
    "    shape='host:N'\n",
    ").interactive()\n",
    "\n",
    "points = chart.mark_point(filled=True).encode(\n",
    "    color='multihost_clade_membership:N',\n",
    "    shape='host'\n",
    ")\n",
    "\n",
    "alt.layer(\n",
    "    chart,\n",
    "    points\n",
    ").resolve_scale(\n",
    "    color='independent',\n",
    "    shape='independent'\n",
    ")\n",
    "chart"
   ]
  },
  {
   "cell_type": "code",
   "execution_count": null,
   "metadata": {},
   "outputs": [],
   "source": [
    "alt.data_transformers.disable_max_rows()\n",
    "alt.Chart(merged_pca_df).mark_boxplot().encode(\n",
    "    x='pca1:Q',\n",
    "    tooltip = [\"strain\"]\n",
    ")"
   ]
  },
  {
   "cell_type": "code",
   "execution_count": null,
   "metadata": {},
   "outputs": [],
   "source": [
    "list_of_chart = linking_tree_with_plots_brush(merged_pca_df,['pca1','pca2','pca3','pca4', 'pca5', 'pca6'],\n",
    "                                         ['PCA1 (Explained Variance : {}%'.format(round(explained_variance_PCA[0]*100,2)) + \")\",\n",
    "                                          'PCA2 (Explained Variance : {}%'.format(round(explained_variance_PCA[1]*100,2)) + \")\",\n",
    "                                          'PCA3 (Explained Variance : {}%'.format(round(explained_variance_PCA[2]*100,2)) + \")\",\n",
    "                                          'PCA4 (Explained Variance : {}%'.format(round(explained_variance_PCA[3]*100,2)) + \")\",\n",
    "                                          'PCA5 (Explained Variance : {}%'.format(round(explained_variance_PCA[4]*100,2)) + \")\",\n",
    "                                          'PCA6 (Explained Variance : {}%'.format(round(explained_variance_PCA[5]*100,2)) + \")\"],\n",
    "                                         \"multihost_clade_membership:N\",['strain', \"host\"], domain, range_)\n",
    "chart_pca = list_of_chart[0]|list_of_chart[1]|list_of_chart[2]\n",
    "\n",
    "chart_pca"
   ]
  },
  {
   "cell_type": "markdown",
   "metadata": {},
   "outputs": [],
   "source": [
    "# Running MDS on Dataset"
   ]
  },
  {
   "cell_type": "code",
   "execution_count": null,
   "metadata": {},
   "outputs": [],
   "source": [
    "#MDS_df = pd.read_csv(mds_df,index_col=0)\n",
    "MDS_df = pd.read_csv(\"mers-nextstrain/results/embed_mds.csv\",index_col=0)\n",
    "merged_mds_df = MDS_df.merge(node_df[[\"strain\", \"date\", \"y\", \"host\", \"multihost_clade_membership\"]], on=\"strain\")"
   ]
  },
  {
   "cell_type": "code",
   "execution_count": null,
   "metadata": {},
   "outputs": [],
   "source": [
    "scatterplot_with_tooltip_interactive(merged_mds_df,'mds1','mds2',\"mds1\",\"mds2\",['strain'],'multihost_clade_membership:N', domain, range_)"
   ]
  },
  {
   "cell_type": "code",
   "execution_count": null,
   "metadata": {},
   "outputs": [],
   "source": [
    "list_of_chart = linking_tree_with_plots_brush(merged_mds_df,['mds1','mds2'],[\"MDS1\", \"MDS2\"], 'multihost_clade_membership:N', ['strain'], domain, range_)\n",
    "chart_mds = list_of_chart[0]|list_of_chart[1]"
   ]
  },
  {
   "cell_type": "code",
   "execution_count": null,
   "metadata": {},
   "outputs": [],
   "source": [
    "chart_mds"
   ]
  },
  {
   "cell_type": "markdown",
   "metadata": {},
   "outputs": [],
   "source": [
    "# Running t-SNE on the Dataset"
   ]
  },
  {
   "cell_type": "code",
   "execution_count": null,
   "metadata": {},
   "outputs": [],
   "source": [
    "TSNE_df = pd.read_csv(tsne_df, index_col=0)\n",
    "merged_tsne_df = TSNE_df.merge(\n",
    "    node_df[[\"strain\", \"date\", \"y\", \"clade_membership\", \"multihost_clade_membership\", \"host\"]],\n",
    "    on=\"strain\"\n",
    ")"
   ]
  },
  {
   "cell_type": "code",
   "execution_count": null,
   "metadata": {},
   "outputs": [],
   "source": [
    "tsne_chart = scatterplot_with_tooltip_interactive(merged_tsne_df,'tsne_x','tsne_y','tsne_x','tsne_y',['strain', \"multihost_clade_membership\", \"host\"],'multihost_clade_membership:N', domain, range_)"
   ]
  },
  {
   "cell_type": "code",
   "execution_count": null,
   "metadata": {},
   "outputs": [],
   "source": [
    "list_of_chart = linking_tree_with_plots_brush(\n",
    "    merged_tsne_df,\n",
    "    ['tsne_x','tsne_y'],\n",
    "    ['tsne_x','tsne_y'],\n",
    "    'multihost_clade_membership:N',\n",
    "    [\"host:N\",\"strain:N\"],\n",
    "    domain,\n",
    "    range_\n",
    ")\n",
    "chart_tsne = list_of_chart[0]|list_of_chart[1]\n",
    "chart_tsne"
   ]
  },
  {
   "cell_type": "code",
   "execution_count": null,
   "metadata": {},
   "outputs": [],
   "source": [
    "brush = alt.selection(type='interval', resolve='global')\n",
    "chart = alt.Chart(merged_tsne_df).mark_point(size=60, filled=True).encode(\n",
    "    x=alt.X('tsne_x', title='tsne_x'),\n",
    "    y=alt.X('tsne_y', title='tsne_y'),\n",
    "    color=alt.Color(\"multihost_clade_membership:N\", scale=alt.Scale(domain=domain, range=range_)),\n",
    "    tooltip=[\"strain\", \"host\",\"multihost_clade_membership\"],\n",
    "    shape=alt.Shape('host:N', scale=alt.Scale(range=[\"circle\",\"cross\"]))\n",
    ").interactive()\n",
    "chart"
   ]
  },
  {
   "cell_type": "code",
   "execution_count": null,
   "metadata": {},
   "outputs": [],
   "source": [
    "list_of_chart = linking_tree_with_plots_clickable(\n",
    "    merged_tsne_df,\n",
    "    ['tsne_x','tsne_y'],\n",
    "    ['tsne_x','tsne_y'],\n",
    "    't-sne_label:N',\n",
    "    [\"t-sne_label:N\"],\n",
    "    [\"host:N\",\"strain:N\"]\n",
    ")\n",
    "chart_tsne = list_of_chart[0]|list_of_chart[1]|list_of_chart[2]\n",
    "chart_tsne"
   ]
  },
  {
   "cell_type": "markdown",
   "metadata": {},
   "outputs": [],
   "source": [
    "# Running UMAP on the Dataset"
   ]
  },
  {
   "cell_type": "code",
   "execution_count": null,
   "metadata": {},
   "outputs": [],
   "source": [
    "UMAP_df = pd.read_csv(umap_df, index_col=0)\n",
    "merged_umap_df = UMAP_df.merge(\n",
    "    node_df[[\"strain\", \"date\", \"y\", \"clade_membership\", \"multihost_clade_membership\", \"host\"]],\n",
    "    on=\"strain\"\n",
    ")"
   ]
  },
  {
   "cell_type": "code",
   "execution_count": null,
   "metadata": {},
   "outputs": [],
   "source": [
    "scatterplot_with_tooltip_interactive(merged_umap_df,'umap_x','umap_y','umap_x','umap_y',['strain', \"multihost_clade_membership\", \"host\"],'multihost_clade_membership:N', domain, range_)"
   ]
  },
  {
   "cell_type": "code",
   "execution_count": null,
   "metadata": {},
   "outputs": [],
   "source": [
    "brush = alt.selection(type='interval', resolve='global')\n",
    "chart = alt.Chart(merged_umap_df).mark_point(size=60, filled=True).encode(\n",
    "    x=alt.X('umap_x', title='umap_x'),\n",
    "    y=alt.X('umap_y', title='umap_y'),\n",
    "    color=alt.Color(\"multihost_clade_membership:N\", scale=alt.Scale(domain=domain, range=range_)),\n",
    "    tooltip=[\"strain\", \"host\",\"multihost_clade_membership\"],\n",
    "    shape=alt.Shape('host:N', scale=alt.Scale(range=[\"circle\",\"cross\"]))\n",
    ").interactive()\n",
    "chart"
   ]
  },
  {
   "cell_type": "code",
   "execution_count": null,
   "metadata": {},
   "outputs": [],
   "source": [
    "list_of_data_and_titles = ['umap_x','umap_y']\n",
    "list_of_chart = linking_tree_with_plots_brush(\n",
    "    merged_umap_df,\n",
    "    list_of_data_and_titles,\n",
    "    list_of_data_and_titles,\n",
    "    'multihost_clade_membership:N',\n",
    "    [\"host\",\"strain:N\"],\n",
    "    domain,\n",
    "    range_\n",
    ")\n",
    "chart_umap = list_of_chart[0]|list_of_chart[1]\n",
    "chart_umap"
   ]
  },
  {
   "cell_type": "code",
   "execution_count": null,
   "metadata": {},
   "outputs": [],
   "source": [
    "list_of_chart = linking_tree_with_plots_clickable(\n",
    "    merged_umap_df,\n",
    "    ['umap_x','umap_y'],\n",
    "    ['umap_x','umap_y'],\n",
    "    'umap_label:N',\n",
    "    [\"umap_label:N\"],\n",
    "    [\"host:N\",\"strain:N\"]\n",
    ")\n",
    "chart_umap = list_of_chart[0]|list_of_chart[1]|list_of_chart[2]\n",
    "chart_umap"
   ]
  },
  {
   "cell_type": "markdown",
   "metadata": {},
   "outputs": [],
   "source": [
    "# Linking all Plots together"
   ]
  },
  {
   "cell_type": "code",
   "execution_count": null,
   "metadata": {},
   "outputs": [],
   "source": [
    "data = linking_tree_with_plots_brush(\n",
    "    node_df,\n",
    "    ['mds1', 'mds2','tsne_x','tsne_y', 'pca2', 'pca3', 'umap_x','umap_y'],\n",
    "    ['MDS1', 'MDS2', 'TSNE1', 'TSNE2','PCA2 (Explained Variance : {}%'.format(round(explained_variance_PCA[1]*100,2)) + \")\",\n",
    "    'PCA3 (Explained Variance : {}%'.format(round(explained_variance_PCA[2]*100,2)) + \")\",'UMAP1','UMAP2'],\n",
    "    'multihost_clade_membership:N',\n",
    "    ['strain','host', 'multihost_clade_membership'],\n",
    "    domain,\n",
    "    range_\n",
    ")"
   ]
  },
  {
   "cell_type": "code",
   "execution_count": null,
   "metadata": {},
   "outputs": [],
   "source": [
    "PCAMDS = data[3]|data[1]\n",
    "TSNEUMAP = data[2]|data[4]\n",
    "embeddings = alt.vconcat(PCAMDS,TSNEUMAP)\n",
    "embeddings\n",
    "fullChart = alt.vconcat(data[0],embeddings)\n",
    "fullChart\n"
   ]
  },
  {
   "cell_type": "code",
   "execution_count": null,
   "metadata": {},
   "outputs": [],
   "source": [
    "def linking_tree_with_plots_brush_mers(dataFrame, list_of_data, list_of_titles, color, ToolTip, shape, domain=None, range_=None):\n",
    "    \"\"\"Creates a linked brushable altair plot with the tree and the charts appended\n",
    "    Parameters\n",
    "    -----------\n",
    "    dataframe: Pandas Dataframe\n",
    "        dataframe including node data and dimensionality reduction data \n",
    "    list_of_data: list\n",
    "        list of all the names of the columns in the dataframe for which you want graphs: goes in the order of [x1,y1,x2,y2,x3,y3] etc.\n",
    "    list_of_titles: list\n",
    "        list of all the TITLES you want for each axis: goes in order of[x1,y1,x2,y2,x3,y3] etc.\n",
    "    color: string\n",
    "        what the data should be colored by (ex. by clade, by region)\n",
    "    ToolTip: list\n",
    "        when hovering over the data, what data should be shown\n",
    "        \n",
    "    Returns\n",
    "    ---------\n",
    "    A brushable altair plot combining the tree with the plots of columns passed in\n",
    "    \"\"\"\n",
    "    \n",
    "    list_of_chart = []\n",
    "    if(len(list_of_data) % 2 != 0 or len(list_of_titles) % 2 != 0):\n",
    "        raise Exception(\n",
    "            'The length of list_of_data and the length of list_of_titles should not be odd.')\n",
    "    else:\n",
    "        base = alt.Chart(dataFrame)\n",
    "        brush = alt.selection(type='interval', resolve='global')\n",
    "        tree_name = base.mark_point(size=60, filled=True).encode(\n",
    "            x=alt.X(\n",
    "                \"date:Q\",\n",
    "                scale=alt.Scale(\n",
    "                    domain=(dataFrame[\"date\"].min() - 0.2, dataFrame[\"date\"].max() + 0.2)),\n",
    "                title=\"Date\",\n",
    "                axis=alt.Axis(labels=False, ticks=False)\n",
    "            ),\n",
    "            y=alt.Y(\n",
    "                \"y:Q\",\n",
    "                title=\"\",\n",
    "                axis=alt.Axis(labels=False, ticks=False)\n",
    "            ),\n",
    "            color=alt.condition(brush, if_false=alt.ColorValue('gray'), if_true=alt.Color(color, scale=alt.Scale(domain=domain, range=range_))),\n",
    "            tooltip=ToolTip,\n",
    "            shape=alt.Shape(shape, scale=alt.Scale(range=[\"cross\",\"circle\"]))\n",
    "        ).add_selection(brush).properties(width=560, height=250)\n",
    "        list_of_chart.append(tree_name)\n",
    "\n",
    "        for i in range(0, len(list_of_data) - 1, 2):\n",
    "            if(i == len(list_of_data)):\n",
    "                break\n",
    "            chart = base.mark_point(size=60,filled=True).encode(\n",
    "                x=alt.X(list_of_data[i], title=list_of_titles[i], axis=alt.Axis(labels=False, ticks=False)),\n",
    "                y=alt.X(list_of_data[i + 1], title=list_of_titles[i + 1], axis=alt.Axis(labels=False, ticks=False)),\n",
    "                color=alt.condition(brush, if_false=alt.ColorValue('gray'), if_true=alt.Color(color, scale=alt.Scale(domain=domain, range=range_))),\n",
    "                tooltip=ToolTip,\n",
    "                shape=alt.Shape(shape, scale=alt.Scale(range=[\"cross\",\"circle\"]))\n",
    "            ).add_selection(\n",
    "                brush\n",
    "            ).properties(\n",
    "                width=250,\n",
    "                height=250\n",
    "            )\n",
    "            list_of_chart.append(chart)\n",
    "        return list_of_chart"
   ]
  },
  {
   "cell_type": "code",
   "execution_count": null,
   "metadata": {},
   "outputs": [],
   "source": [
    "data = linking_tree_with_plots_brush_mers(\n",
    "    node_df,\n",
    "    ['mds1', 'mds2','tsne_x','tsne_y', 'pca2', 'pca3', 'umap_x','umap_y'],\n",
    "    ['MDS1', 'MDS2', 'TSNE1', 'TSNE2','PCA2 (Explained Variance : {}%'.format(round(explained_variance_PCA[1]*100,2)) + \")\",\n",
    "    'PCA3 (Explained Variance : {}%'.format(round(explained_variance_PCA[2]*100,2)) + \")\",'UMAP1','UMAP2'],\n",
    "    'multihost_clade_membership:N',\n",
    "    ['strain','host', 'multihost_clade_membership'],\n",
    "    'host:N',\n",
    "    domain,\n",
    "    range_\n",
    ")"
   ]
  },
  {
   "cell_type": "code",
   "execution_count": null,
   "metadata": {},
   "outputs": [],
   "source": [
    "PCAMDS = data[3]|data[1]\n",
    "TSNEUMAP = data[2]|data[4]\n",
    "embeddings = alt.vconcat(PCAMDS,TSNEUMAP)\n",
    "embeddings\n",
    "fullChart = alt.vconcat(data[0],embeddings)\n",
    "fullChart\n",
    "fullChart.save(snakemake.output.fullChart)\n",
    "fullChart.save(snakemake.output.fullChartPNG, scale_factor=2.0)"
   ]
  },
  {
   "cell_type": "code",
   "execution_count": null,
   "metadata": {},
   "outputs": [],
   "source": [
    "fullChart"
   ]
  },
  {
   "cell_type": "code",
   "execution_count": null,
   "metadata": {},
   "outputs": [],
   "source": [
    "data = linking_tree_with_plots_brush(\n",
    "    node_df,\n",
    "    ['mds1', 'mds2','tsne_x','tsne_y', 'pca1', 'pca2', 'umap_x','umap_y'],\n",
    "    ['MDS1', 'MDS2', 'TSNE1', 'TSNE2','PCA1 (Explained Variance : {}%'.format(round(explained_variance_PCA[0]*100,2)) + \")\",\n",
    "    'PCA2 (Explained Variance : {}%'.format(round(explained_variance_PCA[1]*100,2)) + \")\",'UMAP1','UMAP2'],\n",
    "    'host:N',\n",
    "    ['strain','multihost_clade_membership'],\n",
    "    [\"human\", \"camel\"],\n",
    "    [\"orange\", \"blue\"]\n",
    ")"
   ]
  },
  {
   "cell_type": "code",
   "execution_count": null,
   "metadata": {},
   "outputs": [],
   "source": [
    "PCAMDS = data[3]|data[1]\n",
    "TSNEUMAP = data[2]|data[4]\n",
    "embeddings = alt.vconcat(PCAMDS,TSNEUMAP)\n",
    "embeddings\n",
    "fullChartHost = alt.vconcat(data[0],embeddings)\n",
    "fullChartHost\n",
    "fullChartHost.save(snakemake.output.fullChartHost)"
   ]
  },
  {
   "cell_type": "code",
   "execution_count": null,
   "metadata": {},
   "outputs": [],
   "source": [
    "fullChartHost"
   ]
  },
  {
   "cell_type": "markdown",
   "metadata": {},
   "outputs": [],
   "source": [
    "# Genetic Vs. Euclidean Distance Scatterplot"
   ]
  },
  {
   "cell_type": "code",
   "execution_count": null,
   "metadata": {},
   "outputs": [],
   "source": [
    "import matplotlib.gridspec as gridspec"
   ]
  },
  {
   "cell_type": "code",
   "execution_count": null,
   "metadata": {},
   "outputs": [],
   "source": [
    "total_df_PCA = pd.read_csv(scatterplot_pca,index_col=0)\n",
    "metadata_PCA = pd.read_csv(scatterplot_pca_metadata, index_col=0)\n",
    "total_df_MDS = pd.read_csv(scatterplot_mds,index_col=0)\n",
    "metadata_MDS = pd.read_csv(scatterplot_mds_metadata, index_col=0)\n",
    "total_df_TSNE = pd.read_csv(scatterplot_tsne,index_col=0)\n",
    "metadata_TSNE = pd.read_csv(scatterplot_tsne_metadata, index_col=0)\n",
    "total_df_UMAP = pd.read_csv(scatterplot_umap,index_col=0)\n",
    "metadata_UMAP = pd.read_csv(scatterplot_umap_metadata, index_col=0)"
   ]
  },
  {
   "cell_type": "code",
   "execution_count": null,
   "metadata": {},
   "outputs": [],
   "source": [
    "fig = plt.figure(figsize=(8, 8), constrained_layout=False)\n",
    "fig.tight_layout(pad=1.0)\n",
    "gs = gridspec.GridSpec(2, 2, figure=fig, hspace=0.4, wspace=0.8)\n",
    "ax1 = fig.add_subplot(gs[0, 0])\n",
    "ax2 = fig.add_subplot(gs[0, 1])\n",
    "ax3 = fig.add_subplot(gs[1, 0])\n",
    "ax4 = fig.add_subplot(gs[1, 1])\n",
    "\n",
    "mean = metadata_PCA[\"mean\"].values.tolist()[0]\n",
    "std = metadata_PCA[\"std\"].values.tolist()[0]\n",
    "\n",
    "ax1.plot(total_df_PCA[\"genetic\"], total_df_PCA[\"euclidean\"], \"o\", alpha=0.25)\n",
    "ax1.plot(total_df_PCA[\"LOWESS_x\"], total_df_PCA[\"LOWESS_y\"], label=\"LOESS\")\n",
    "\n",
    "ax1.set_xlabel(\"Genetic distance\")\n",
    "ax1.set_ylabel(\"Euclidean distance (PCA)\")\n",
    "ax1.set_xticks(np.arange(min(total_df_PCA[\"genetic\"]), max(total_df_PCA[\"genetic\"])+10, 25.0))\n",
    "ax1.set_title(f\"PCA ($R^2={mean:.3f} +/- {std:.3f}$)\")\n",
    "\n",
    "\n",
    "mean = metadata_MDS[\"mean\"].values.tolist()[0]\n",
    "std = metadata_MDS[\"std\"].values.tolist()[0]\n",
    "\n",
    "ax2.plot(total_df_MDS[\"genetic\"], total_df_MDS[\"euclidean\"], \"o\", alpha=0.25)\n",
    "ax2.plot(total_df_MDS[\"LOWESS_x\"], total_df_MDS[\"LOWESS_y\"], label=\"LOESS\")\n",
    "\n",
    "ax2.set_xlabel(\"Genetic distance\")\n",
    "ax2.set_ylabel(\"Euclidean distance (PCA)\")\n",
    "ax2.set_xticks(np.arange(min(total_df_MDS[\"genetic\"]), max(total_df_MDS[\"genetic\"])+10, 25.0))\n",
    "ax2.set_title(f\"MDS ($R^2={mean:.3f} +/- {std:.3f}$)\")\n",
    "\n",
    "\n",
    "mean = metadata_TSNE[\"mean\"].values.tolist()[0]\n",
    "std = metadata_TSNE[\"std\"].values.tolist()[0]\n",
    "\n",
    "ax3.plot(total_df_TSNE[\"genetic\"], total_df_TSNE[\"euclidean\"], \"o\", alpha=0.25)\n",
    "ax3.plot(total_df_TSNE[\"LOWESS_x\"], total_df_TSNE[\"LOWESS_y\"], label=\"LOESS\")\n",
    "\n",
    "ax3.set_xlabel(\"Genetic distance\")\n",
    "ax3.set_ylabel(\"Euclidean distance (t-SNE)\")\n",
    "ax3.set_xticks(np.arange(min(total_df_TSNE[\"genetic\"]), max(total_df_TSNE[\"genetic\"])+10, 25.0))\n",
    "ax3.set_title(f\"t-SNE ($R^2={mean:.3f} +/- {std:.3f}$)\")\n",
    "\n",
    "\n",
    "\n",
    "mean = metadata_UMAP[\"mean\"].values.tolist()[0]\n",
    "std = metadata_UMAP[\"std\"].values.tolist()[0]\n",
    "\n",
    "ax4.plot(total_df_UMAP[\"genetic\"], total_df_UMAP[\"euclidean\"], \"o\", alpha=0.25)\n",
    "ax4.plot(total_df_UMAP[\"LOWESS_x\"], total_df_UMAP[\"LOWESS_y\"], label=\"LOESS\")\n",
    "\n",
    "ax4.set_xlabel(\"Genetic distance\")\n",
    "ax4.set_ylabel(\"Euclidean distance (UMAP)\")\n",
    "ax4.set_xticks(np.arange(min(total_df_UMAP[\"genetic\"]), max(total_df_UMAP[\"genetic\"])+10, 25.0))\n",
    "ax4.set_title(f\"UMAP ($R^2={mean:.3f} +/- {std:.3f}$)\")\n",
    "\n",
    "\n",
    "sns.despine()\n",
    "plt.savefig(snakemake.output.Scatterplot, dpi=300)"
   ]
  },
  {
   "cell_type": "code",
   "execution_count": null,
   "metadata": {},
   "outputs": [],
   "source": [
    "list_of_chart = linking_tree_with_plots_brush(merged_mds_df,['mds' + str(i) for i in range(1,5)],['MDS' + str(i) for i in range(1,5)], 'multihost_clade_membership:N', ['strain','multihost_clade_membership'], domain, range_)\n",
    "chart = list_of_chart[0]|list_of_chart[1]|list_of_chart[2]\n",
    "\n",
    "chart.save(snakemake.output.MDS_Supplement)\n",
    "chart.save(snakemake.output.MDS_Supplement_PNG)"
   ]
  },
  {
   "cell_type": "code",
   "execution_count": null,
   "metadata": {},
   "outputs": [],
   "source": [
    "list_of_chart = linking_tree_with_plots_brush(merged_pca_df,['pca' + str(i) for i in range(1,11)],['PCA' + str(i) for i in range(1,11)], 'multihost_clade_membership:N', ['strain','multihost_clade_membership'], domain, range_)\n",
    "chart = list_of_chart[0]|list_of_chart[1]|list_of_chart[2]|list_of_chart[3]\n",
    "\n",
    "chart.save(snakemake.output.PCA_Supplement)\n",
    "chart.save(snakemake.output.PCA_Supplement_PNG)"
   ]
  },
  {
   "cell_type": "markdown",
   "metadata": {},
   "outputs": [],
   "source": [
    "# HDBSCAN Final Charts"
   ]
  },
  {
   "cell_type": "code",
   "execution_count": null,
   "metadata": {},
   "outputs": [],
   "source": [
    "node_df = pd.read_csv(\"mers-nextstrain/results/table.tsv\", sep=\"\\t\")\n",
    "#node_df = pd.read_csv(node_df, sep=\"\\t\")\n",
    "node_df.rename(columns={'num_date':'date', 'y_value':\"y\"}, inplace=True)"
   ]
  },
  {
   "cell_type": "code",
   "execution_count": null,
   "metadata": {},
   "outputs": [],
   "source": [
    "colors = pd.read_csv(\"notebooks/config/color_schemes.tsv\", sep=\"\\t\", names=[i for i in range(0,101)])\n",
    "#colors = pd.read_csv(colors, sep=\"\\t\", names=[i for i in range(0,101)])"
   ]
  },
  {
   "cell_type": "code",
   "execution_count": null,
   "metadata": {},
   "outputs": [],
   "source": [
    "PCA_df = pd.read_csv(\"mers-nextstrain/results/embed_pca.csv\",index_col=0)\n",
    "MDS_df = pd.read_csv(\"mers-nextstrain/results/embed_mds.csv\",index_col=0)\n",
    "TSNE_df = pd.read_csv(\"mers-nextstrain/results/embed_t-sne.csv\",index_col=0)\n",
    "UMAP_df = pd.read_csv(\"mers-nextstrain/results/embed_umap.csv\",index_col=0)\n",
    "explained_variance_df = pd.read_csv(\"mers-nextstrain/results/explained_variance_pca.csv\")\n",
    "\n",
    "\n",
    "#PCA_df = pd.read_csv(pca_df,index_col=0)\n",
    "#MDS_df = pd.read_csv(mds_df,index_col=0)\n",
    "#TSNE_df = pd.read_csv(tsne_df,index_col=0)\n",
    "#UMAP_df = pd.read_csv(umap_df,index_col=0)\n",
    "#explained_variance_df = pd.read_csv(explained_variance_pca)"
   ]
  },
  {
   "cell_type": "code",
   "execution_count": null,
   "metadata": {},
   "outputs": [],
   "source": [
    "merged_df = node_df[[\"strain\", \"date\", \"multihost_clade_membership\", \"y\", \"host\"]].merge(\n",
    "    PCA_df,\n",
    "    on=\"strain\"\n",
    ").merge(\n",
    "    MDS_df,\n",
    "    on=\"strain\"\n",
    ").merge(\n",
    "    TSNE_df,\n",
    "    on=\"strain\"\n",
    ").merge(\n",
    "    UMAP_df,\n",
    "    on=\"strain\"\n",
    ")"
   ]
  },
  {
   "cell_type": "code",
   "execution_count": null,
   "metadata": {},
   "outputs": [],
   "source": [
    "from Helpers import get_euclidean_data_frame\n",
    "from sklearn.metrics import confusion_matrix, matthews_corrcoef"
   ]
  },
  {
   "cell_type": "code",
   "execution_count": null,
   "metadata": {},
   "outputs": [],
   "source": [
    "def _get_embedding_columns_by_method(method):\n",
    "    if method in (\"pca\"):\n",
    "        return list(f\"{method}1 {method}2 {method}3 {method}4 {method}5 {method}6 {method}7 {method}8 {method}9 {method}10\".split())\n",
    "    if method in (\"mds\"):\n",
    "        return list(f\"{method}1 {method}2\".split())\n",
    "    if method in (\"t-sne\"):\n",
    "        return list(\"tsne_x tsne_y\".split())\n",
    "    else:\n",
    "        return list(f\"{method}_x {method}_y\".split())"
   ]
  },
  {
   "cell_type": "code",
   "execution_count": null,
   "metadata": {},
   "outputs": [],
   "source": [
    "MCC_val = []\n",
    "\n",
    "for method in [\"pca\", \"mds\", \"t-sne\", \"umap\"]:\n",
    "    KDE_df_normal = get_euclidean_data_frame(sampled_df=merged_df, column_for_analysis=\"multihost_clade_membership\", embedding=\"method\", column_list=_get_embedding_columns_by_method(method))\n",
    "\n",
    "    KDE_df_cluster =  get_euclidean_data_frame(sampled_df=merged_df, column_for_analysis=f\"{method}_label\", embedding=\"method\", column_list=_get_embedding_columns_by_method(method))\n",
    "\n",
    "    confusion_matrix_val = confusion_matrix(KDE_df_normal[\"clade_status\"], KDE_df_cluster[\"clade_status\"])\n",
    "    matthews_cc_val = matthews_corrcoef(KDE_df_normal[\"clade_status\"], KDE_df_cluster[\"clade_status\"])\n",
    "    MCC_val.append(matthews_cc_val)"
   ]
  },
  {
   "cell_type": "code",
   "execution_count": null,
   "metadata": {},
   "outputs": [],
   "source": [
    "domain =  sorted(merged_df[\"pca_label\"].drop_duplicates().values)\n",
    "if -1 in domain:\n",
    "    range_ = [\"#999999\"] + colors[len(domain)-1:len(domain)].dropna(axis=1).values.tolist()[0]\n",
    "else: \n",
    "    range_ = colors[len(domain):len(domain)+1].dropna(axis=1).values.tolist()[0]\n",
    "PCA = linking_tree_with_plots_brush_mers(\n",
    "    merged_df,\n",
    "    ['pca1', 'pca2'],\n",
    "    ['PCA1 (Explained Variance : {}%'.format(round(explained_variance_df[\"explained variance\"][0]*100,2)) + \")\",\n",
    "    'PCA2 (Explained Variance : {}%'.format(round(explained_variance_df[\"explained variance\"][1]*100,2)) + \")\"],\n",
    "    'pca_label:N',\n",
    "    ['strain','host', 'multihost_clade_membership'],\n",
    "    'host:N',\n",
    "    domain,\n",
    "    range_\n",
    ")\n",
    "domain =  sorted(merged_df[\"mds_label\"].drop_duplicates().values)\n",
    "if -1 in domain:\n",
    "    range_ = [\"#999999\"] + colors[len(domain)-1:len(domain)].dropna(axis=1).values.tolist()[0]\n",
    "else: \n",
    "    range_ = colors[len(domain):len(domain)+1].dropna(axis=1).values.tolist()[0]\n",
    "MDS = linking_tree_with_plots_brush_mers(\n",
    "    merged_df,\n",
    "    ['mds1', 'mds2'],\n",
    "    ['MDS1', 'MDS2'],\n",
    "    'mds_label:N',\n",
    "    ['strain','host', 'multihost_clade_membership'],\n",
    "    'host:N',\n",
    "    domain,\n",
    "    range_\n",
    ")\n",
    "domain =  sorted(merged_df[\"t-sne_label\"].drop_duplicates().values)\n",
    "if -1 in domain:\n",
    "    range_ = [\"#999999\"] + colors[len(domain)-1:len(domain)].dropna(axis=1).values.tolist()[0]\n",
    "else: \n",
    "    range_ = colors[len(domain):len(domain)+1].dropna(axis=1).values.tolist()[0]\n",
    "TSNE = linking_tree_with_plots_brush_mers(\n",
    "    merged_df,\n",
    "    ['tsne_x', 'tsne_y'],\n",
    "    ['TSNE1', 'TSNE2'],\n",
    "    't-sne_label:N',\n",
    "    ['strain','host', 'multihost_clade_membership'],\n",
    "    'host:N',\n",
    "    domain,\n",
    "    range_\n",
    ")\n",
    "domain =  sorted(merged_df[\"umap_label\"].drop_duplicates().values)\n",
    "if -1 in domain:\n",
    "    range_ = [\"#999999\"] + colors[len(domain)-1:len(domain)].dropna(axis=1).values.tolist()[0]\n",
    "else: \n",
    "    range_ = colors[len(domain):len(domain)+1].dropna(axis=1).values.tolist()[0]\n",
    "UMAP = linking_tree_with_plots_brush_mers(\n",
    "    merged_df,\n",
    "    ['umap_x', 'umap_y'],\n",
    "    ['UMAP1', 'UMAP2'],\n",
    "    'umap_label:N',\n",
    "    ['strain','host', 'multihost_clade_membership'],\n",
    "    'host:N',\n",
    "    domain,\n",
    "    range_\n",
    ")"
   ]
  },
  {
   "cell_type": "code",
   "execution_count": null,
   "metadata": {},
   "outputs": [],
   "source": [
    "PCAChart = PCA[0]|PCA[1].properties(title= \"MCC Value: \" + str(round(MCC_val[0],3)))\n",
    "MDSChart = MDS[0]|MDS[1].properties(title= \"MCC Value: \" + str(round(MCC_val[1],3)))\n",
    "TSNEChart = TSNE[0]|TSNE[1].properties(title= \"MCC Value: \" + str(round(MCC_val[2],3)))\n",
    "UMAPChart = UMAP[0]|UMAP[1].properties(title= \"MCC Value: \" + str(round(MCC_val[3],3)))"
   ]
  },
  {
   "cell_type": "code",
   "execution_count": null,
   "metadata": {},
   "outputs": [],
   "source": [
    "PCAMDS = alt.vconcat(PCAChart, MDSChart).resolve_scale(color='independent')\n",
    "TSNEUMAP = alt.vconcat(TSNEChart, UMAPChart).resolve_scale(color='independent')\n",
    "fullChart = alt.vconcat(PCAMDS, TSNEUMAP).resolve_scale(color='independent')\n",
    "fullChart.save(snakemake.output.fullChartHDBSCAN)\n",
    "save(fullChart, snakemake.output.fullChartHDBSCANPNG, scale_factor=2.0)"
   ]
  },
  {
   "cell_type": "code",
   "execution_count": null,
   "metadata": {},
   "outputs": [],
   "source": [
    "fullChart"
   ]
  },
  {
   "cell_type": "code",
   "execution_count": null,
   "metadata": {},
   "outputs": [],
   "source": []
  }
 ],
 "metadata": {
  "kernelspec": {
   "display_name": "Python 3",
   "language": "python",
   "name": "python3"
  },
  "language_info": {
   "codemirror_mode": {
    "name": "ipython",
    "version": 3
   },
   "file_extension": ".py",
   "mimetype": "text/x-python",
   "name": "python",
   "nbconvert_exporter": "python",
   "pygments_lexer": "ipython3",
   "version": "3.7.10"
  }
 },
 "nbformat": 4,
 "nbformat_minor": 4
}
