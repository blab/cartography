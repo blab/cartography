{
 "cells": [
  {
   "cell_type": "markdown",
   "metadata": {},
   "source": [
    "# These are the Cartography visuals."
   ]
  },
  {
   "cell_type": "markdown",
   "metadata": {},
   "source": [
    "# To Do:\n",
    "- make HA only and HA + NA sections, get snakemake notebook_docs folder ready"
   ]
  },
  {
   "cell_type": "markdown",
   "metadata": {},
   "source": [
    "# Imports Section "
   ]
  },
  {
   "cell_type": "code",
   "execution_count": null,
   "metadata": {},
   "outputs": [],
   "source": [
    "import sys\n",
    "sys.path.append(\"../notebooks/scripts/\")"
   ]
  },
  {
   "cell_type": "code",
   "execution_count": null,
   "metadata": {},
   "outputs": [],
   "source": [
    "import altair as alt\n",
    "from altair_saver import save\n",
    "from augur.utils import json_to_tree\n",
    "import json\n",
    "import matplotlib.pyplot as plt\n",
    "import matplotlib as mpl\n",
    "import pandas as pd\n",
    "import re\n",
    "#from reportlab.graphics import renderPDF\n",
    "import seaborn as sns\n",
    "#from svglib.svglib import svg2rlg\n",
    "\n",
    "from Helpers import linking_tree_with_plots_clickable, linking_tree_with_plots_brush, scatterplot_with_tooltip_interactive\n",
    "from Helpers import get_y_positions\n",
    "\n",
    "%matplotlib inline"
   ]
  },
  {
   "cell_type": "code",
   "execution_count": null,
   "metadata": {},
   "outputs": [],
   "source": [
    "alt.renderers.set_embed_options(\n",
    "    padding={\"left\": 0, \"right\": 0, \"bottom\": 1, \"top\": 1}\n",
    ")"
   ]
  },
  {
   "cell_type": "code",
   "execution_count": null,
   "metadata": {},
   "outputs": [],
   "source": [
    "sns.set_style(\"ticks\")\n",
    "# Disable top and right spines.\n",
    "mpl.rcParams['axes.spines.top'] = False\n",
    "mpl.rcParams['axes.spines.right'] = False\n",
    "# Display and save figures at higher resolution for presentations and manuscripts.\n",
    "mpl.rcParams['savefig.dpi'] = 300\n",
    "mpl.rcParams['figure.dpi'] = 100\n",
    "# Display text at sizes large enough for presentations and manuscripts.\n",
    "mpl.rcParams['font.weight'] = \"normal\"\n",
    "mpl.rcParams['axes.labelweight'] = \"normal\"\n",
    "mpl.rcParams['font.size'] = 10\n",
    "mpl.rcParams['axes.labelsize'] = 10\n",
    "mpl.rcParams['legend.fontsize'] = 8\n",
    "mpl.rcParams['xtick.labelsize'] = 10\n",
    "mpl.rcParams['ytick.labelsize'] = 10\n",
    "mpl.rcParams['axes.titlesize'] = 8\n",
    "mpl.rc('text', usetex=False)"
   ]
  },
  {
   "cell_type": "code",
   "execution_count": null,
   "metadata": {},
   "outputs": [],
   "source": [
    "try: \n",
    "    snakemake.input.node_df\n",
    "    import selenium\n",
    "    from selenium.webdriver import Chrome \n",
    "    from selenium import webdriver\n",
    "\n",
    "    chrome_options = webdriver.ChromeOptions()\n",
    "    chrome_options.add_argument('--headless')\n",
    "    chrome_options.add_argument('--no-sandbox')\n",
    "    chrome_options.add_argument('--disable-dev-shm-usage')\n",
    "    chrome_options.add_argument(\"--remote-debugging-port=9222\")\n",
    "\n",
    "    browser = webdriver.Chrome(options=chrome_options)\n",
    "except:\n",
    "    print(\"not in Snakemake, imports unnecessary\")"
   ]
  },
  {
   "cell_type": "markdown",
   "metadata": {},
   "source": [
    "## Pathogen-specific variables\n",
    "\n",
    "Consider consolidating these into a single configuration file that can be passed to the notebook as a command line argument for more scriptable generation of these figures."
   ]
  },
  {
   "cell_type": "markdown",
   "metadata": {},
   "source": [
    "# Flu Specific Variables"
   ]
  },
  {
   "cell_type": "code",
   "execution_count": null,
   "metadata": {},
   "outputs": [],
   "source": [
    "try:\n",
    "    node_df = snakemake.input.node_df\n",
    "\n",
    "    pca_df = snakemake.input.pca_df\n",
    "    explained_variance_pca = snakemake.input.explained_variance_pca\n",
    "\n",
    "    mds_df = snakemake.input.mds_df\n",
    "\n",
    "    #Scatterplot:\n",
    "    scatterplot_pca = snakemake.input.scatterplot_pca\n",
    "    scatterplot_pca_metadata = snakemake.input.scatterplot_pca_metadata\n",
    "\n",
    "    scatterplot_mds = snakemake.input.scatterplot_mds\n",
    "    scatterplot_mds_metadata = snakemake.input.scatterplot_mds_metadata\n",
    "\n",
    "    scatterplot_tsne = snakemake.input.scatterplot_tsne\n",
    "    scatterplot_tsne_metadata = snakemake.input.scatterplot_tsne_metadata\n",
    "\n",
    "    scatterplot_umap = snakemake.input.scatterplot_umap\n",
    "    scatterplot_umap_metadata = snakemake.input.scatterplot_umap_metadata\n",
    "\n",
    "    #KDE Density:\n",
    "    KDE_pca = snakemake.input.KDE_pca\n",
    "    KDE_pca_metadata = snakemake.input.KDE_pca_metadata\n",
    "\n",
    "    KDE_mds = snakemake.input.KDE_mds\n",
    "    KDE_mds_metadata = snakemake.input.KDE_mds_metadata\n",
    "\n",
    "    KDE_tsne = snakemake.input.KDE_tsne\n",
    "    KDE_tsne_metadata = snakemake.input.KDE_tsne_metadata\n",
    "\n",
    "    KDE_umap = snakemake.input.KDE_umap\n",
    "    KDE_umap_metadata = snakemake.input.KDE_umap_metadata\n",
    "    \n",
    "    KDE_genetic = snakemake.input.KDE_genetic\n",
    "    KDE_genetic_metadata = snakemake.input.KDE_genetic_metadata\n",
    "except:\n",
    "    print(\"not in Snakemake, imports unnecessary\")"
   ]
  },
  {
   "cell_type": "code",
   "execution_count": null,
   "metadata": {},
   "outputs": [],
   "source": [
    "clades_to_plot = ['3c2', '3c2.A', '3c3.A', 'A1','A1b', 'A1b/131K','A1b/135K', 'A1b/135N', 'A1b/137F', 'A1b/186D', 'A1b/197R', 'A1b/94N', 'A2', 'A2/re', 'A3']\n",
    "domain =   ['3c', '3c2', '3c2.A', '3c3', '3c3.A', 'A1', 'A1a', 'A1b', 'A1b/131K','A1b/135K', 'A1b/135N', 'A1b/137F', 'A1b/186D', 'A1b/197R', 'A1b/94N', 'A2', 'A2/re', 'A3', 'A4']\n",
    "range_ = ['#4e38d5', '#6626d4', '#4138c3', '#4c89e8', '#4e70ff', '#5499ff', '#79c9a1', '#61b8f0', '#5499ff', '#87dfb3','#a0e994', '#bdee78', '#ddee64', '#f8e957', '#ffdb4e', '#ffc348', '#ff9e40', '#ff6e36', '#f93529']\n"
   ]
  },
  {
   "cell_type": "markdown",
   "metadata": {},
   "source": [
    "# Reading in all the data from the scripts"
   ]
  },
  {
   "cell_type": "code",
   "execution_count": null,
   "metadata": {},
   "outputs": [],
   "source": [
    "import os\n",
    "\n",
    "os.getcwd()"
   ]
  },
  {
   "cell_type": "code",
   "execution_count": null,
   "metadata": {},
   "outputs": [],
   "source": [
    "#node_df = pd.read_csv(node_df, sep=\"\\t\")\n",
    "node_df = pd.read_csv(\"results/table.tsv\", sep=\"\\t\")"
   ]
  },
  {
   "cell_type": "code",
   "execution_count": null,
   "metadata": {},
   "outputs": [],
   "source": [
    "node_df.rename(columns={'num_date':'date', 'y_value':\"y\"}, inplace=True)"
   ]
  },
  {
   "cell_type": "code",
   "execution_count": null,
   "metadata": {},
   "outputs": [],
   "source": [
    "node_df.head()"
   ]
  },
  {
   "cell_type": "code",
   "execution_count": null,
   "metadata": {},
   "outputs": [],
   "source": [
    "all_clades = node_df[\"clade_membership\"].drop_duplicates().values"
   ]
  },
  {
   "cell_type": "code",
   "execution_count": null,
   "metadata": {},
   "outputs": [],
   "source": [
    "all_clades"
   ]
  },
  {
   "cell_type": "code",
   "execution_count": null,
   "metadata": {},
   "outputs": [],
   "source": [
    "set(domain)"
   ]
  },
  {
   "cell_type": "code",
   "execution_count": null,
   "metadata": {},
   "outputs": [],
   "source": [
    "set(all_clades) - set(domain)"
   ]
  },
  {
   "cell_type": "code",
   "execution_count": null,
   "metadata": {},
   "outputs": [],
   "source": [
    "# Reannotate clades that we aren't interested in as \"other\" to simplify color assignment in visualizations.\n",
    "try:\n",
    "    node_df[\"clade_membership_color\"] = node_df[\"clade_membership\"].apply(lambda clade: clade if clade in clades_to_plot else \"other\")\n",
    "except:\n",
    "    node_df[\"clade_membership_color\"] = node_df[\"clade_membership\"]\n",
    "    print(\"clades_to_plot undefined\")"
   ]
  },
  {
   "cell_type": "code",
   "execution_count": null,
   "metadata": {},
   "outputs": [],
   "source": [
    "node_df.head()"
   ]
  },
  {
   "cell_type": "markdown",
   "metadata": {},
   "source": [
    "# Running PCA on Scaled and Centered Data\n",
    "- I treated each nucleotide as a \"site\", or dimension, and found the probability of having a certain nucleotide given the frequency of that letter at that site.\n",
    "- I used [this paper][1] as my source \n",
    "- The equation is as follows where C is the matrix of dimensions, M is the mean, and p is the frequency of a nucleotide at that given site. \n",
    "![](https://journals.plos.org/plosgenetics/article/file?type=thumbnail&id=info:doi/10.1371/journal.pgen.0020190.e003)"
   ]
  },
  {
   "cell_type": "code",
   "execution_count": null,
   "metadata": {},
   "outputs": [],
   "source": [
    "#principalDf = pd.read_csv(pca_df, index_col=0)\n",
    "principalDf_ha = pd.read_csv(\"results/embed_pca_ha.csv\", index_col=0)\n",
    "principalDf_concatenated = pd.read_csv(\"results/embed_pca_concatenated.csv\", index_col=0)"
   ]
  },
  {
   "cell_type": "code",
   "execution_count": null,
   "metadata": {},
   "outputs": [],
   "source": [
    "#explained_variance_df = pd.read_csv(explained_variance_pca)\n",
    "explained_variance_df_ha = pd.read_csv(\"results/explained_variance_pca_ha.csv\")\n",
    "explained_variance_df_concatenated = pd.read_csv(\"results/explained_variance_pca_concatenated.csv\")"
   ]
  },
  {
   "cell_type": "code",
   "execution_count": null,
   "metadata": {},
   "outputs": [],
   "source": [
    "explained_variance_df_ha"
   ]
  },
  {
   "cell_type": "code",
   "execution_count": null,
   "metadata": {},
   "outputs": [],
   "source": [
    "explained_variance_df_concatenated"
   ]
  },
  {
   "cell_type": "code",
   "execution_count": null,
   "metadata": {},
   "outputs": [],
   "source": [
    "plt.plot(explained_variance_df_ha['principal components'].values.tolist(), explained_variance_df_ha[\"explained variance\"].values.tolist(), 'o')\n",
    "\n",
    "plt.xlabel(\"Principal Component\")\n",
    "plt.ylabel(\"Explained Variance\")\n",
    "\n",
    "plt.title(f\"Explained Variance Plot (Flu, HA-only)\")\n",
    "\n",
    "#plt.savefig(snakemake.output.Explained_variance_PCA)"
   ]
  },
  {
   "cell_type": "code",
   "execution_count": null,
   "metadata": {},
   "outputs": [],
   "source": [
    "plt.plot(\n",
    "    explained_variance_df_concatenated['principal components'].values.tolist(),\n",
    "    explained_variance_df_concatenated[\"explained variance\"].values.tolist(),\n",
    "    'o'\n",
    ")\n",
    "\n",
    "plt.xlabel(\"Principal Component\")\n",
    "plt.ylabel(\"Explained Variance\")\n",
    "\n",
    "plt.title(f\"Explained Variance Plot (Flu, HA and NA)\")\n",
    "\n",
    "#plt.savefig(snakemake.output.Explained_variance_PCA)"
   ]
  },
  {
   "cell_type": "code",
   "execution_count": null,
   "metadata": {},
   "outputs": [],
   "source": [
    "merged_pca_df_ha = principalDf_ha.merge(node_df[[\"strain\", \"date\", \"y\", \"clade_membership\"]], on=\"strain\")\n",
    "merged_pca_df_concatenated = principalDf_concatenated.merge(node_df[[\"strain\", \"date\", \"y\", \"clade_membership\"]], on=\"strain\")"
   ]
  },
  {
   "cell_type": "code",
   "execution_count": null,
   "metadata": {},
   "outputs": [],
   "source": [
    "explained_variance_PCA_ha = explained_variance_df_ha[\"explained variance\"].values.tolist()\n",
    "explained_variance_PCA_concatenated = explained_variance_df_concatenated[\"explained variance\"].values.tolist()"
   ]
  },
  {
   "cell_type": "code",
   "execution_count": null,
   "metadata": {},
   "outputs": [],
   "source": [
    "list_of_chart_ha = linking_tree_with_plots_brush(merged_pca_df_ha,['pca1','pca2','pca3','pca4', 'pca5', 'pca6'],\n",
    "                                         ['PCA1 (Explained Variance : {}%'.format(round(explained_variance_PCA_ha[0]*100,2)) + \")\",\n",
    "                                          'PCA2 (Explained Variance : {}%'.format(round(explained_variance_PCA_ha[1]*100,2)) + \")\",\n",
    "                                          'PCA3 (Explained Variance : {}%'.format(round(explained_variance_PCA_ha[2]*100,2)) + \")\",\n",
    "                                          'PCA4 (Explained Variance : {}%'.format(round(explained_variance_PCA_ha[3]*100,2)) + \")\",\n",
    "                                          'PCA5 (Explained Variance : {}%'.format(round(explained_variance_PCA_ha[4]*100,2)) + \")\",\n",
    "                                          'PCA6 (Explained Variance : {}%'.format(round(explained_variance_PCA_ha[5]*100,2)) + \")\"],\n",
    "                                         \"clade_membership:N\",['strain', \"clade_membership\"], domain, range_)\n",
    "\n",
    "list_of_chart_concatenated = linking_tree_with_plots_brush(merged_pca_df_concatenated,['pca1','pca2','pca3','pca4', 'pca5', 'pca6'],\n",
    "                                         ['PCA1 (Explained Variance : {}%'.format(round(explained_variance_PCA_concatenated[0]*100,2)) + \")\",\n",
    "                                          'PCA2 (Explained Variance : {}%'.format(round(explained_variance_PCA_concatenated[1]*100,2)) + \")\",\n",
    "                                          'PCA3 (Explained Variance : {}%'.format(round(explained_variance_PCA_concatenated[2]*100,2)) + \")\",\n",
    "                                          'PCA4 (Explained Variance : {}%'.format(round(explained_variance_PCA_concatenated[3]*100,2)) + \")\",\n",
    "                                          'PCA5 (Explained Variance : {}%'.format(round(explained_variance_PCA_concatenated[4]*100,2)) + \")\",\n",
    "                                          'PCA6 (Explained Variance : {}%'.format(round(explained_variance_PCA_concatenated[5]*100,2)) + \")\"],\n",
    "                                         \"clade_membership:N\",['strain', \"clade_membership\"], domain, range_)\n",
    "PCAFluBrush_ha = list_of_chart_ha[0]|list_of_chart_ha[1]|list_of_chart_ha[2]\n",
    "PCAFluBrush_concatenated = list_of_chart_concatenated[0]|list_of_chart_concatenated[1]|list_of_chart_concatenated[2]\n",
    "\n",
    "alt.vconcat(PCAFluBrush_ha,PCAFluBrush_concatenated)\n",
    "#PCAFluBrush.save(\"docs/PCA\" + virus_name + \"Brush.html\")"
   ]
  },
  {
   "cell_type": "markdown",
   "metadata": {},
   "source": [
    "# Running MDS on the Dataset"
   ]
  },
  {
   "cell_type": "code",
   "execution_count": null,
   "metadata": {},
   "outputs": [],
   "source": [
    "#MDS_df = pd.read_csv(mds_df,index_col=0)\n",
    "MDS_df_ha = pd.read_csv(\"results/embed_mds_ha.csv\",index_col=0)\n",
    "MDS_df_concatenated = pd.read_csv(\"results/embed_mds_concatenated.csv\",index_col=0)"
   ]
  },
  {
   "cell_type": "code",
   "execution_count": null,
   "metadata": {},
   "outputs": [],
   "source": [
    "merged_mds_df_ha = MDS_df_ha.merge(node_df[[\"strain\", \"date\", \"y\", \"clade_membership\", \"clade_membership_color\"]], on=\"strain\")\n",
    "merged_mds_df_concatenated = MDS_df_concatenated.merge(node_df[[\"strain\", \"date\", \"y\", \"clade_membership\", \"clade_membership_color\"]], on=\"strain\")"
   ]
  },
  {
   "cell_type": "code",
   "execution_count": null,
   "metadata": {},
   "outputs": [],
   "source": [
    "merged_mds_df_ha"
   ]
  },
  {
   "cell_type": "code",
   "execution_count": null,
   "metadata": {},
   "outputs": [],
   "source": [
    "chart_12_mds = scatterplot_with_tooltip_interactive(merged_mds_df_ha,'mds1','mds2',\"mds1\",\"mds2\",['strain','clade_membership'],'clade_membership_color:N', domain, range_)\n",
    "#chart_34_mds = scatterplot_with_tooltip_interactive(merged_mds_df_ha,'mds3','mds4',\"mds3\",\"mds4\",['strain','clade_membership'],'clade_membership_color:N', domain, range_)\n",
    "#chart_56_mds = scatterplot_with_tooltip_interactive(merged_mds_df_ha,'mds5','mds6',\"mds5\",\"mds6\",['strain','clade_membership'],'clade_membership_color:N', domain, range_)\n",
    "chart_12_mds#|chart_34_mds|chart_56_mds"
   ]
  },
  {
   "cell_type": "code",
   "execution_count": null,
   "metadata": {},
   "outputs": [],
   "source": [
    "list_of_chart_ha = linking_tree_with_plots_brush(merged_mds_df_ha,['mds1','mds2'],[\"MDS1\", \"MDS2\"], 'clade_membership:N', ['strain','clade_membership'], domain, range_)\n",
    "chart_ha = list_of_chart_ha[0]|list_of_chart_ha[1]\n",
    "list_of_chart_concatenated = linking_tree_with_plots_brush(merged_mds_df_concatenated,['mds1','mds2'],[\"MDS1\", \"MDS2\"], 'clade_membership:N', ['strain','clade_membership'], domain, range_)\n",
    "chart_concat = list_of_chart_concatenated[0]|list_of_chart_concatenated[1]\n",
    "alt.vconcat(chart_ha, chart_concat)"
   ]
  },
  {
   "cell_type": "markdown",
   "metadata": {},
   "source": [
    "# Running T-SNE on the Dataset "
   ]
  },
  {
   "cell_type": "code",
   "execution_count": null,
   "metadata": {},
   "outputs": [],
   "source": [
    "TSNE_df_ha = pd.read_csv(\"results/embed_t-sne_ha.csv\",index_col=0)\n",
    "TSNE_df_concatenated = pd.read_csv(\"results/embed_t-sne_concatenated.csv\",index_col=0)"
   ]
  },
  {
   "cell_type": "code",
   "execution_count": null,
   "metadata": {},
   "outputs": [],
   "source": [
    "merged_tsne_df_ha = TSNE_df_ha.merge(node_df[[\"strain\", \"date\", \"y\", \"clade_membership\", \"clade_membership_color\"]], on=\"strain\")\n",
    "merged_tsne_df_concatenated = TSNE_df_concatenated.merge(node_df[[\"strain\", \"date\", \"y\", \"clade_membership\", \"clade_membership_color\"]], on=\"strain\")"
   ]
  },
  {
   "cell_type": "code",
   "execution_count": null,
   "metadata": {},
   "outputs": [],
   "source": [
    "scatterplot_with_tooltip_interactive(merged_tsne_df_ha,'tsne_x','tsne_y','tsne_x','tsne_y',['strain', \"clade_membership\"],'clade_membership:N', domain, range_)"
   ]
  },
  {
   "cell_type": "code",
   "execution_count": null,
   "metadata": {},
   "outputs": [],
   "source": [
    "scatterplot_with_tooltip_interactive(merged_tsne_df_concatenated,'tsne_x','tsne_y','tsne_x','tsne_y',['strain', \"clade_membership\"],'clade_membership:N', domain, range_)"
   ]
  },
  {
   "cell_type": "code",
   "execution_count": null,
   "metadata": {},
   "outputs": [],
   "source": [
    "list_of_chart_ha = linking_tree_with_plots_brush(\n",
    "    merged_tsne_df_ha,\n",
    "    ['tsne_x','tsne_y'],\n",
    "    ['tsne_x','tsne_y'],\n",
    "    'clade_membership:N',\n",
    "    [\"strain:N\", \"clade_membership:N\"],\n",
    "    domain,\n",
    "    range_\n",
    ")\n",
    "chart_tsne_ha = list_of_chart_ha[0]|list_of_chart_ha[1]\n",
    "chart_tsne_ha"
   ]
  },
  {
   "cell_type": "code",
   "execution_count": null,
   "metadata": {},
   "outputs": [],
   "source": [
    "list_of_chart_concatenated = linking_tree_with_plots_brush(\n",
    "    merged_tsne_df_concatenated,\n",
    "    ['tsne_x','tsne_y'],\n",
    "    ['tsne_x','tsne_y'],\n",
    "    'clade_membership:N',\n",
    "    [\"strain:N\", \"clade_membership:N\"],\n",
    "    domain,\n",
    "    range_\n",
    ")\n",
    "chart_tsne_concatenated = list_of_chart_concatenated[0]|list_of_chart_concatenated[1]\n",
    "chart_tsne_concatenated"
   ]
  },
  {
   "cell_type": "code",
   "execution_count": null,
   "metadata": {},
   "outputs": [],
   "source": [
    "chart_tsne_ha & chart_tsne_concatenated"
   ]
  },
  {
   "cell_type": "markdown",
   "metadata": {},
   "source": [
    "# Running UMAP on the Dataset"
   ]
  },
  {
   "cell_type": "code",
   "execution_count": null,
   "metadata": {},
   "outputs": [],
   "source": [
    "UMAP_df_ha = pd.read_csv(\"results/embed_umap_ha.csv\",index_col=0)\n",
    "UMAP_df_concatenated = pd.read_csv(\"results/embed_umap_concatenated.csv\",index_col=0)"
   ]
  },
  {
   "cell_type": "code",
   "execution_count": null,
   "metadata": {},
   "outputs": [],
   "source": [
    "UMAP_df_concatenated"
   ]
  },
  {
   "cell_type": "code",
   "execution_count": null,
   "metadata": {},
   "outputs": [],
   "source": [
    "merged_umap_df_ha = UMAP_df_ha.merge(node_df[[\"strain\", \"date\", \"y\", \"clade_membership\", \"clade_membership_color\"]], on=\"strain\")\n",
    "merged_umap_df_concatenated = UMAP_df_concatenated.merge(node_df[[\"strain\", \"date\", \"y\", \"clade_membership\", \"clade_membership_color\"]], on=\"strain\")"
   ]
  },
  {
   "cell_type": "code",
   "execution_count": null,
   "metadata": {},
   "outputs": [],
   "source": [
    "merged_umap_df_ha"
   ]
  },
  {
   "cell_type": "code",
   "execution_count": null,
   "metadata": {},
   "outputs": [],
   "source": [
    "scatterplot_with_tooltip_interactive(merged_umap_df_ha,'umap_x','umap_y','umap_x','umap_y',['strain', \"clade_membership\"],'clade_membership:N', domain, range_)"
   ]
  },
  {
   "cell_type": "code",
   "execution_count": null,
   "metadata": {},
   "outputs": [],
   "source": [
    "scatterplot_with_tooltip_interactive(merged_umap_df_concatenated,'umap_x','umap_y','umap_x','umap_y',['strain', \"clade_membership\"],'clade_membership:N', domain, range_)"
   ]
  },
  {
   "cell_type": "code",
   "execution_count": null,
   "metadata": {},
   "outputs": [],
   "source": [
    "list_of_chart = linking_tree_with_plots_brush(\n",
    "    merged_umap_df_ha,\n",
    "    ['umap_x','umap_y'],\n",
    "    ['umap_x','umap_y'],\n",
    "    'clade_membership:N',\n",
    "    [\"strain:N\", \"clade_membership:N\"],\n",
    "    domain,\n",
    "    range_\n",
    ")\n",
    "chart_umap = list_of_chart[0]|list_of_chart[1]\n",
    "chart_umap"
   ]
  },
  {
   "cell_type": "code",
   "execution_count": null,
   "metadata": {},
   "outputs": [],
   "source": [
    "list_of_chart_concatenated = linking_tree_with_plots_brush(\n",
    "    merged_umap_df_concatenated,\n",
    "    ['umap_x','umap_y'],\n",
    "    ['umap_x','umap_y'],\n",
    "    'clade_membership:N',\n",
    "    [\"strain:N\", \"clade_membership:N\"],\n",
    "    domain,\n",
    "    range_\n",
    ")\n",
    "chart_umap_concatenated = list_of_chart_concatenated[0]|list_of_chart_concatenated[1]\n",
    "chart_umap_concatenated"
   ]
  },
  {
   "cell_type": "code",
   "execution_count": null,
   "metadata": {},
   "outputs": [],
   "source": [
    "chart_umap & chart_umap_concatenated"
   ]
  },
  {
   "cell_type": "markdown",
   "metadata": {},
   "source": [
    "# Linking all plots together clickable with Tree"
   ]
  },
  {
   "cell_type": "code",
   "execution_count": null,
   "metadata": {},
   "outputs": [],
   "source": [
    "#merged_df = node_df.merge(\n",
    "#    PrincipalDf_concatenated.merge)\n",
    "merged_df = node_df[[\"strain\", \"date\", \"y\", \"clade_membership\"]].merge(\n",
    "    principalDf_concatenated,\n",
    "    on=\"strain\"\n",
    ").merge(\n",
    "    MDS_df_concatenated,\n",
    "    on=\"strain\"\n",
    ").merge(\n",
    "    TSNE_df_concatenated,\n",
    "    on=\"strain\"\n",
    ").merge(\n",
    "    UMAP_df_concatenated,\n",
    "    on=\"strain\"\n",
    ")"
   ]
  },
  {
   "cell_type": "code",
   "execution_count": null,
   "metadata": {},
   "outputs": [],
   "source": [
    "merged_df"
   ]
  },
  {
   "cell_type": "code",
   "execution_count": null,
   "metadata": {},
   "outputs": [],
   "source": [
    "data = linking_tree_with_plots_brush(\n",
    "    node_df.merge(merged_df[[\"strain\"]], on=\"strain\"),\n",
    "    ['mds1', 'mds2','tsne_x','tsne_y', 'pca1', 'pca2', 'umap_x','umap_y'],\n",
    "    ['MDS1', 'MDS2', 'TSNE1', 'TSNE2','PCA1 (Expected Variance : {}%'.format(round(explained_variance_PCA_ha[0]*100,2)) + \")\",\n",
    "    'PCA2 (Expected Variance : {}%'.format(round(explained_variance_PCA_ha[1]*100,2)) + \")\",'UMAP1','UMAP2'],\n",
    "    'clade_membership:N',\n",
    "    ['strain'],\n",
    "    domain,\n",
    "    range_\n",
    ")"
   ]
  },
  {
   "cell_type": "code",
   "execution_count": null,
   "metadata": {},
   "outputs": [],
   "source": [
    "PCAMDS = data[3]|data[1]\n",
    "TSNEUMAP = data[2]|data[4]\n",
    "embeddings = alt.vconcat(PCAMDS,TSNEUMAP)\n",
    "embeddings\n",
    "fullChart = alt.vconcat(data[0],embeddings)\n",
    "fullChart\n",
    "#fullChart.save(\"../docs/FullLinkedChartBrushableFluHA.html\")\n",
    "#fullChart.save(\"../docs/FullLinkedChartBrushableFluHA.png\")\n",
    "#save(fullChart, snakemake.output.fullChartPNG, scale_factor=2.0)"
   ]
  },
  {
   "cell_type": "code",
   "execution_count": null,
   "metadata": {},
   "outputs": [],
   "source": [
    "filtered_merged_df = merged_df[merged_df[\"pca1\"] < 10].copy()"
   ]
  },
  {
   "cell_type": "code",
   "execution_count": null,
   "metadata": {},
   "outputs": [],
   "source": [
    "filtered_merged_df.shape"
   ]
  },
  {
   "cell_type": "code",
   "execution_count": null,
   "metadata": {},
   "outputs": [],
   "source": [
    "merged_df.shape"
   ]
  },
  {
   "cell_type": "code",
   "execution_count": null,
   "metadata": {},
   "outputs": [],
   "source": [
    "data = linking_tree_with_plots_brush(\n",
    "    merged_df,\n",
    "    ['mds1', 'mds2','tsne_x','tsne_y', 'pca3', 'pca4', 'umap_x','umap_y'],\n",
    "    ['MDS1', 'MDS2', 'TSNE1', 'TSNE2','PCA3 (Expected Variance : {}%'.format(round(explained_variance_PCA_concatenated[2]*100,2)) + \")\",\n",
    "    'PCA4 (Expected Variance : {}%'.format(round(explained_variance_PCA_concatenated[3]*100,2)) + \")\",'UMAP1','UMAP2'],\n",
    "    'clade_membership:N',\n",
    "    ['strain', 'clade_membership'],\n",
    "    domain,\n",
    "    range_\n",
    ")"
   ]
  },
  {
   "cell_type": "code",
   "execution_count": null,
   "metadata": {},
   "outputs": [],
   "source": [
    "PCAMDS = data[3]|data[1]\n",
    "TSNEUMAP = data[2]|data[4]\n",
    "embeddings = alt.vconcat(PCAMDS,TSNEUMAP)\n",
    "embeddings\n",
    "fullChart = alt.vconcat(data[0],embeddings)\n",
    "fullChart\n",
    "#fullChart.save(\"../docs/FullLinkedChartBrushableFluHA.html\")\n",
    "#fullChart.save(\"../docs/FullLinkedChartBrushableFluHA.png\")\n",
    "#save(fullChart, snakemake.output.fullChartPNG, scale_factor=2.0)"
   ]
  },
  {
   "cell_type": "markdown",
   "metadata": {},
   "source": [
    "# Final Chart"
   ]
  },
  {
   "cell_type": "code",
   "execution_count": null,
   "metadata": {},
   "outputs": [],
   "source": [
    "merged_df.columns = ['strain', 'date', 'y', 'clade_membership', 'pca1', 'pca2', 'pca3',\n",
    "       'pca4', 'pca5', 'pca6', 'pca7', 'pca8', 'pca9', 'pca10', 'pca_label',\n",
    "       'mds1', 'mds2', 'mds_label', 'tsne_x', 'tsne_y', 't-sne_label', 'umap_x',\n",
    "       'umap_y', 'umap_label']"
   ]
  },
  {
   "cell_type": "code",
   "execution_count": null,
   "metadata": {},
   "outputs": [],
   "source": [
    "node_df.columns = ['strain', 'date_ha', 'pca1_ha', 'pca2_ha', 'pca3_ha', 'pca4_ha', 'mds1_ha', 'mds2_ha',\n",
    "       'tsne_x_ha', 'tsne_y_ha', 'umap_x_ha', 'umap_y_ha',\n",
    "       'clade_membership_ha', 'pca_label_ha', 'mds_label_ha', 'umap_label_ha',\n",
    "       't-sne_label_ha', 'y', 'clade_membership_color']"
   ]
  },
  {
   "cell_type": "code",
   "execution_count": null,
   "metadata": {},
   "outputs": [],
   "source": [
    "node_df"
   ]
  },
  {
   "cell_type": "code",
   "execution_count": null,
   "metadata": {},
   "outputs": [],
   "source": [
    "total_df = merged_df.merge(node_df, on=\"strain\")"
   ]
  },
  {
   "cell_type": "code",
   "execution_count": null,
   "metadata": {},
   "outputs": [],
   "source": [
    "data = linking_tree_with_plots_brush(\n",
    "    total_df,\n",
    "    ['mds1', 'mds2', 'mds1_ha', 'mds2_ha','tsne_x','tsne_y', 'tsne_x_ha', 'tsne_y_ha', 'pca1', 'pca2','pca1_ha', 'pca2_ha', 'umap_x','umap_y', 'umap_x_ha', 'umap_y_ha'],\n",
    "    ['MDS1', 'MDS2', 'MDS1', 'MDS2', 'TSNE1', 'TSNE2', 'TSNE1', 'TSNE2', \n",
    "    'PCA1 (Expected Variance : {}%'.format(round(explained_variance_PCA_concatenated[0]*100,2)) + \")\",\n",
    "    'PCA2 (Expected Variance : {}%'.format(round(explained_variance_PCA_concatenated[1]*100,2)) + \")\",\n",
    "    'PCA1 (Expected Variance : {}%'.format(round(explained_variance_PCA_ha[0]*100,2)) + \")\",\n",
    "    'PCA2 (Expected Variance : {}%'.format(round(explained_variance_PCA_ha[1]*100,2)) + \")\",'UMAP1','UMAP2','UMAP1','UMAP2'],\n",
    "    'clade_membership:N',\n",
    "    ['strain', 'clade_membership'],\n",
    "    domain,\n",
    "    range_\n",
    ")"
   ]
  },
  {
   "cell_type": "code",
   "execution_count": null,
   "metadata": {},
   "outputs": [],
   "source": [
    "HA = data[2]|data[4]|data[6]|data[8]\n",
    "CONCAT = data[1]|data[3]|data[5]|data[7]\n",
    "embeddings = alt.vconcat(HA, CONCAT)\n",
    "embeddings\n",
    "#embeddings.save(\"../docs/HaNaAnalysisFinalChart.html\")\n",
    "#fullChart.save(\"../docs/FullLinkedChartBrushableFluHA.png\")\n",
    "save(embeddings, \"../docs/HaNaAnalysisFinalChart.png\", scale_factor=2.0)"
   ]
  },
  {
   "cell_type": "code",
   "execution_count": null,
   "metadata": {},
   "outputs": [],
   "source": []
  },
  {
   "cell_type": "markdown",
   "metadata": {},
   "source": [
    "## Scatterplots for all embeddings \n",
    "Concatenating all embedding data frames to plot genetic vs Euclidean distance for each embedding"
   ]
  },
  {
   "cell_type": "code",
   "execution_count": null,
   "metadata": {},
   "outputs": [],
   "source": [
    "import matplotlib.gridspec as gridspec"
   ]
  },
  {
   "cell_type": "code",
   "execution_count": null,
   "metadata": {},
   "outputs": [],
   "source": [
    "fig = plt.figure(figsize=(8, 8), constrained_layout=False)\n",
    "fig.tight_layout(pad=8.0)\n",
    "gs = gridspec.GridSpec(2, 2, figure=fig, hspace=0.4, wspace=0.8)\n",
    "ax1 = fig.add_subplot(gs[0, 0])\n",
    "ax2 = fig.add_subplot(gs[0, 1])\n",
    "ax3 = fig.add_subplot(gs[1, 0])\n",
    "ax4 = fig.add_subplot(gs[1, 1])\n",
    "\n",
    "mean = metadata_PCA[\"mean\"].values.tolist()[0]\n",
    "std = metadata_PCA[\"std\"].values.tolist()[0]\n",
    "\n",
    "ax1.plot(total_df_PCA[\"genetic\"], total_df_PCA[\"euclidean\"], \"o\", alpha=0.25)\n",
    "ax1.plot(total_df_PCA[\"LOWESS_x\"], total_df_PCA[\"LOWESS_y\"], label=\"LOESS\")\n",
    "\n",
    "ax1.set_xlabel(\"Genetic distance\")\n",
    "ax1.set_ylabel(\"Euclidean distance (PCA)\")\n",
    "ax1.set_title(f\"PCA Euclidean distance vs. genetic distance ($R^2={mean:.3f} +/- {std:.3f}$)\")\n",
    "\n",
    "\n",
    "mean = metadata_MDS[\"mean\"].values.tolist()[0]\n",
    "std = metadata_MDS[\"std\"].values.tolist()[0]\n",
    "\n",
    "ax2.plot(total_df_MDS[\"genetic\"], total_df_MDS[\"euclidean\"], \"o\", alpha=0.25)\n",
    "ax2.plot(total_df_MDS[\"LOWESS_x\"], total_df_MDS[\"LOWESS_y\"], label=\"LOESS\")\n",
    "\n",
    "ax2.set_xlabel(\"Genetic distance\")\n",
    "ax2.set_ylabel(\"Euclidean distance (PCA)\")\n",
    "ax2.set_title(f\"MDS Euclidean distance vs. genetic distance ($R^2={mean:.3f} +/- {std:.3f}$)\")\n",
    "\n",
    "\n",
    "mean = metadata_TSNE[\"mean\"].values.tolist()[0]\n",
    "std = metadata_TSNE[\"std\"].values.tolist()[0]\n",
    "\n",
    "ax3.plot(total_df_TSNE[\"genetic\"], total_df_TSNE[\"euclidean\"], \"o\", alpha=0.25)\n",
    "ax3.plot(total_df_TSNE[\"LOWESS_x\"], total_df_TSNE[\"LOWESS_y\"], label=\"LOESS\")\n",
    "\n",
    "ax3.set_xlabel(\"Genetic distance\")\n",
    "ax3.set_ylabel(\"Euclidean distance (t-SNE)\")\n",
    "ax3.set_title(f\"t-SNE Euclidean distance vs. genetic distance ($R^2={mean:.3f} +/- {std:.3f}$)\")\n",
    "\n",
    "\n",
    "\n",
    "mean = metadata_UMAP[\"mean\"].values.tolist()[0]\n",
    "std = metadata_UMAP[\"std\"].values.tolist()[0]\n",
    "\n",
    "ax4.plot(total_df_UMAP[\"genetic\"], total_df_UMAP[\"euclidean\"], \"o\", alpha=0.25)\n",
    "ax4.plot(total_df_UMAP[\"LOWESS_x\"], total_df_UMAP[\"LOWESS_y\"], label=\"LOESS\")\n",
    "\n",
    "ax4.set_xlabel(\"Genetic distance\")\n",
    "ax4.set_ylabel(\"Euclidean distance (UMAP)\")\n",
    "ax4.set_title(f\"UMAP Euclidean distance vs. genetic distance ($R^2={mean:.3f} +/- {std:.3f}$)\")\n",
    "\n",
    "\n",
    "sns.despine()\n",
    "plt.savefig(snakemake.output.Scatterplot, dpi=300)"
   ]
  },
  {
   "cell_type": "markdown",
   "metadata": {},
   "source": [
    "## Within- and between-clade Euclidean distances for all embeddings\n",
    "\n",
    "Use the complete embedding data frame to calculate pairwise Euclidean distances between samples and plot the results in a single figure."
   ]
  },
  {
   "cell_type": "code",
   "execution_count": null,
   "metadata": {},
   "outputs": [],
   "source": [
    "Genetic_KDE_df_ha = pd.read_csv(\"results/KDEDensity_genetic_ha.csv\",index_col=0)\n",
    "Genetic_KDE_df_concatenated = pd.read_csv(\"results/KDEDensity_genetic_concatenated.csv\",index_col=0)\n",
    "Genetic_KDE_metadata_df_ha = pd.read_csv(\"results/KDEDensity_genetic_metadata_ha.csv\", index_col=0)\n",
    "Genetic_KDE_metadata_df_concatenated = pd.read_csv(\"results/KDEDensity_genetic_metadata_concatenated.csv\", index_col=0)"
   ]
  },
  {
   "cell_type": "code",
   "execution_count": null,
   "metadata": {},
   "outputs": [],
   "source": [
    "PCA_KDE_df_ha = pd.read_csv(\"results/KDEDensity_pca_ha.csv\",index_col=0)\n",
    "PCA_KDE_df_concatenated = pd.read_csv(\"results/KDEDensity_pca_concatenated.csv\",index_col=0)\n",
    "PCA_KDE_metadata_df_ha = pd.read_csv(\"results/KDEDensity_pca_metadata_ha.csv\", index_col=0)\n",
    "PCA_KDE_metadata_df_concatenated = pd.read_csv(\"results/KDEDensity_pca_metadata_concatenated.csv\", index_col=0)\n",
    "\n",
    "MDS_KDE_df_ha = pd.read_csv(\"results/KDEDensity_mds_ha.csv\",index_col=0)\n",
    "MDS_KDE_df_concatenated = pd.read_csv(\"results/KDEDensity_mds_concatenated.csv\",index_col=0)\n",
    "MDS_KDE_metadata_df_ha = pd.read_csv(\"results/KDEDensity_mds_metadata_ha.csv\", index_col=0)\n",
    "MDS_KDE_metadata_df_concatenated = pd.read_csv(\"results/KDEDensity_mds_metadata_concatenated.csv\", index_col=0)\n",
    "\n",
    "TSNE_KDE_df_ha = pd.read_csv(\"results/KDEDensity_t-sne_ha.csv\",index_col=0)\n",
    "TSNE_KDE_df_concatenated = pd.read_csv(\"results/KDEDensity_t-sne_concatenated.csv\",index_col=0)\n",
    "TSNE_KDE_metadata_df_ha = pd.read_csv(\"results/KDEDensity_t-sne_metadata_ha.csv\", index_col=0)\n",
    "TSNE_KDE_metadata_df_concatenated = pd.read_csv(\"results/KDEDensity_t-sne_metadata_concatenated.csv\", index_col=0)\n",
    "\n",
    "UMAP_KDE_df_ha = pd.read_csv(\"results/KDEDensity_umap_ha.csv\",index_col=0)\n",
    "UMAP_KDE_df_concatenated = pd.read_csv(\"results/KDEDensity_umap_concatenated.csv\",index_col=0)\n",
    "UMAP_KDE_metadata_df_ha = pd.read_csv(\"results/KDEDensity_umap_metadata_ha.csv\", index_col=0)\n",
    "UMAP_KDE_metadata_df_concatenated = pd.read_csv(\"results/KDEDensity_umap_metadata_concatenated.csv\", index_col=0)"
   ]
  },
  {
   "cell_type": "code",
   "execution_count": null,
   "metadata": {},
   "outputs": [],
   "source": [
    "import matplotlib.gridspec as gridspec"
   ]
  },
  {
   "cell_type": "code",
   "execution_count": null,
   "metadata": {},
   "outputs": [],
   "source": [
    "#fig, axes = plt.subplots(1, 5, figsize=(40, 8))\n",
    "fig = plt.figure(figsize=(16, 8), constrained_layout=False)\n",
    "gs = gridspec.GridSpec(2, 4, figure=fig, hspace=0.4, wspace=0.6)\n",
    "ax1 = fig.add_subplot(gs[0, 0])\n",
    "ax2 = fig.add_subplot(gs[0, 1])\n",
    "ax3 = fig.add_subplot(gs[0, 2])\n",
    "ax4 = fig.add_subplot(gs[1, 1])\n",
    "ax5 = fig.add_subplot(gs[1, 2])\n",
    "\n",
    "\n",
    "\n",
    "#GENETIC \n",
    "ax1 = sns.kdeplot(Genetic_KDE_df_ha.query(\"clade_status == 1\")[\"scaled_distance\"], label=\"Same clade\", ax=ax1)\n",
    "ax1 = sns.kdeplot(Genetic_KDE_df_ha.query(\"clade_status == 0\")[\"scaled_distance\"], label=\"Different clade\", ax=ax1)\n",
    "ax1.axvline(x=Genetic_KDE_metadata_df_ha[\"threshold\"].values.tolist()[0], label=\"SVC threshold\", color=\"#000000\", alpha=0.5)\n",
    "ax1.legend(frameon=False)\n",
    "ax1.set_title('Genetic')\n",
    "ax1.set_xlabel(\"Scaled Euclidean distance (Genetic)\")\n",
    "ax1.set_ylabel(\"KDE density\")\n",
    "\n",
    "#PCA\n",
    "ax2 = sns.kdeplot(PCA_KDE_df_ha.query(\"clade_status == 1\")[\"scaled_distance\"], label=\"Same clade\", ax=ax2)\n",
    "ax2 = sns.kdeplot(PCA_KDE_df_ha.query(\"clade_status == 0\")[\"scaled_distance\"], label=\"Different clade\", ax=ax2)\n",
    "ax2.axvline(x=PCA_KDE_metadata_df_ha[\"threshold\"].values.tolist()[0], label=\"SVC threshold\", color=\"#000000\", alpha=0.5)\n",
    "ax2.legend(frameon=False)\n",
    "ax2.set_title('PCA')\n",
    "ax2.set_xlabel(\"Scaled Euclidean distance (PCA)\")\n",
    "ax2.set_ylabel(\"KDE density\")\n",
    "\n",
    "#MDS\n",
    "ax3 = sns.kdeplot(MDS_KDE_df_ha.query(\"clade_status == 1\")[\"scaled_distance\"], label=\"Same clade\", ax=ax3)\n",
    "ax3 = sns.kdeplot(MDS_KDE_df_ha.query(\"clade_status == 0\")[\"scaled_distance\"], label=\"Different clade\", ax=ax3)\n",
    "ax3.axvline(x=MDS_KDE_metadata_df_ha[\"threshold\"].values.tolist()[0], label=\"SVC threshold\", color=\"#000000\", alpha=0.5)\n",
    "ax3.legend(frameon=False)\n",
    "ax3.set_title('MDS')\n",
    "ax3.set_xlabel(\"Scaled Euclidean distance (MDS)\")\n",
    "ax3.set_ylabel(\"KDE density\")\n",
    "\n",
    "#TSNE\n",
    "ax4 = sns.kdeplot(TSNE_KDE_df_ha.query(\"clade_status == 1\")[\"scaled_distance\"], label=\"Same clade\", ax=ax4)\n",
    "ax4 = sns.kdeplot(TSNE_KDE_df_ha.query(\"clade_status == 0\")[\"scaled_distance\"], label=\"Different clade\", ax=ax4)\n",
    "ax4.axvline(x=TSNE_KDE_metadata_df_ha[\"threshold\"].values.tolist()[0], label=\"SVC threshold\", color=\"#000000\", alpha=0.5)\n",
    "ax4.legend(frameon=False)\n",
    "ax4.set_title('TSNE')\n",
    "ax4.set_xlabel(\"Scaled Euclidean distance (TSNE)\")\n",
    "ax4.set_ylabel(\"KDE density\")\n",
    "\n",
    "#UMAP\n",
    "ax5 = sns.kdeplot(UMAP_KDE_df_ha.query(\"clade_status == 1\")[\"scaled_distance\"], label=\"Same clade\", ax=ax5)\n",
    "ax5 = sns.kdeplot(UMAP_KDE_df_ha.query(\"clade_status == 0\")[\"scaled_distance\"], label=\"Different clade\", ax=ax5)\n",
    "ax5.axvline(x=UMAP_KDE_metadata_df_ha[\"threshold\"].values.tolist()[0], label=\"SVC threshold\", color=\"#000000\", alpha=0.5)\n",
    "ax5.legend(frameon=False)\n",
    "ax5.set_title('UMAP')\n",
    "ax5.set_xlabel(\"Scaled Euclidean distance (UMAP)\")\n",
    "ax5.set_ylabel(\"KDE density\")\n",
    "\n",
    "\n",
    "fig.suptitle('Total KDE Plot', fontsize=16)\n",
    "sns.despine()\n",
    "plt.savefig(\"../docs/FinalHAKDEPlot.png\", dpi=600, bbox_inches='tight')"
   ]
  },
  {
   "cell_type": "code",
   "execution_count": null,
   "metadata": {},
   "outputs": [],
   "source": [
    "#fig, axes = plt.subplots(1, 5, figsize=(40, 8))\n",
    "fig = plt.figure(figsize=(16, 8), constrained_layout=False)\n",
    "gs = gridspec.GridSpec(2, 4, figure=fig, hspace=0.4, wspace=0.6)\n",
    "ax1 = fig.add_subplot(gs[0, 0])\n",
    "ax2 = fig.add_subplot(gs[0, 1])\n",
    "ax3 = fig.add_subplot(gs[0, 2])\n",
    "ax4 = fig.add_subplot(gs[1, 1])\n",
    "ax5 = fig.add_subplot(gs[1, 2])\n",
    "\n",
    "\n",
    "\n",
    "#GENETIC \n",
    "ax1 = sns.kdeplot(Genetic_KDE_df_concatenated.query(\"clade_status == 1\")[\"scaled_distance\"], label=\"Same clade\", ax=ax1)\n",
    "ax1 = sns.kdeplot(Genetic_KDE_df_concatenated.query(\"clade_status == 0\")[\"scaled_distance\"], label=\"Different clade\", ax=ax1)\n",
    "ax1.axvline(x=Genetic_KDE_metadata_df_concatenated[\"threshold\"].values.tolist()[0], label=\"SVC threshold\", color=\"#000000\", alpha=0.5)\n",
    "ax1.legend(frameon=False)\n",
    "ax1.set_title('Genetic')\n",
    "ax1.set_xlabel(\"Scaled Euclidean distance (Genetic)\")\n",
    "ax1.set_ylabel(\"KDE density\")\n",
    "\n",
    "#PCA\n",
    "ax2 = sns.kdeplot(PCA_KDE_df_concatenated.query(\"clade_status == 1\")[\"scaled_distance\"], label=\"Same clade\", ax=ax2)\n",
    "ax2 = sns.kdeplot(PCA_KDE_df_concatenated.query(\"clade_status == 0\")[\"scaled_distance\"], label=\"Different clade\", ax=ax2)\n",
    "ax2.axvline(x=PCA_KDE_metadata_df_concatenated[\"threshold\"].values.tolist()[0], label=\"SVC threshold\", color=\"#000000\", alpha=0.5)\n",
    "ax2.legend(frameon=False)\n",
    "ax2.set_title('PCA')\n",
    "ax2.set_xlabel(\"Scaled Euclidean distance (PCA)\")\n",
    "ax2.set_ylabel(\"KDE density\")\n",
    "\n",
    "#MDS\n",
    "ax3 = sns.kdeplot(MDS_KDE_df_concatenated.query(\"clade_status == 1\")[\"scaled_distance\"], label=\"Same clade\", ax=ax3)\n",
    "ax3 = sns.kdeplot(MDS_KDE_df_concatenated.query(\"clade_status == 0\")[\"scaled_distance\"], label=\"Different clade\", ax=ax3)\n",
    "ax3.axvline(x=MDS_KDE_metadata_df_concatenated[\"threshold\"].values.tolist()[0], label=\"SVC threshold\", color=\"#000000\", alpha=0.5)\n",
    "ax3.legend(frameon=False)\n",
    "ax3.set_title('MDS')\n",
    "ax3.set_xlabel(\"Scaled Euclidean distance (MDS)\")\n",
    "ax3.set_ylabel(\"KDE density\")\n",
    "\n",
    "#TSNE\n",
    "ax4 = sns.kdeplot(TSNE_KDE_df_concatenated.query(\"clade_status == 1\")[\"scaled_distance\"], label=\"Same clade\", ax=ax4)\n",
    "ax4 = sns.kdeplot(TSNE_KDE_df_concatenated.query(\"clade_status == 0\")[\"scaled_distance\"], label=\"Different clade\", ax=ax4)\n",
    "ax4.axvline(x=TSNE_KDE_metadata_df_concatenated[\"threshold\"].values.tolist()[0], label=\"SVC threshold\", color=\"#000000\", alpha=0.5)\n",
    "ax4.legend(frameon=False)\n",
    "ax4.set_title('TSNE')\n",
    "ax4.set_xlabel(\"Scaled Euclidean distance (TSNE)\")\n",
    "ax4.set_ylabel(\"KDE density\")\n",
    "\n",
    "#UMAP\n",
    "ax5 = sns.kdeplot(UMAP_KDE_df_concatenated.query(\"clade_status == 1\")[\"scaled_distance\"], label=\"Same clade\", ax=ax5)\n",
    "ax5 = sns.kdeplot(UMAP_KDE_df_concatenated.query(\"clade_status == 0\")[\"scaled_distance\"], label=\"Different clade\", ax=ax5)\n",
    "ax5.axvline(x=UMAP_KDE_metadata_df_concatenated[\"threshold\"].values.tolist()[0], label=\"SVC threshold\", color=\"#000000\", alpha=0.5)\n",
    "ax5.legend(frameon=False)\n",
    "ax5.set_title('UMAP')\n",
    "ax5.set_xlabel(\"Scaled Euclidean distance (UMAP)\")\n",
    "ax5.set_ylabel(\"KDE density\")\n",
    "\n",
    "\n",
    "fig.suptitle('Total KDE Plot', fontsize=16)\n",
    "sns.despine()\n",
    "plt.savefig(\"../docs/FinalCONCATKDEPlot.png\", dpi=600, bbox_inches='tight')"
   ]
  },
  {
   "cell_type": "markdown",
   "metadata": {},
   "source": [
    "# Supplemental Figures"
   ]
  },
  {
   "cell_type": "code",
   "execution_count": null,
   "metadata": {},
   "outputs": [],
   "source": [
    "list_of_chart = linking_tree_with_plots_brush(merged_mds_df,['mds' + str(i) for i in range(1,11)],['MDS' + str(i) for i in range(1,11)], 'clade_membership:N', ['strain','clade_membership'], domain, range_)\n",
    "chart = list_of_chart[0]|list_of_chart[1]|list_of_chart[2]|list_of_chart[3]\n",
    "\n",
    "chart.save(snakemake.output.MDS_Supplement)\n",
    "save(chart, snakemake.output.MDS_Supplement_PNG)"
   ]
  },
  {
   "cell_type": "code",
   "execution_count": null,
   "metadata": {},
   "outputs": [],
   "source": [
    "list_of_chart = linking_tree_with_plots_brush(merged_pca_df,['pca' + str(i) for i in range(1,11)],['PCA' + str(i) for i in range(1,11)], 'clade_membership:N', ['strain','clade_membership'], domain, range_)\n",
    "chart = list_of_chart[0]|list_of_chart[1]|list_of_chart[2]|list_of_chart[3]\n",
    "\n",
    "chart.save(snakemake.output.PCA_Supplement)\n",
    "save(chart, snakemake.output.PCA_Supplement_PNG)"
   ]
  },
  {
   "cell_type": "code",
   "execution_count": null,
   "metadata": {},
   "outputs": [],
   "source": []
  }
 ],
 "metadata": {
  "kernelspec": {
   "display_name": "Python 3",
   "language": "python",
   "name": "python3"
  },
  "language_info": {
   "codemirror_mode": {
    "name": "ipython",
    "version": 3
   },
   "file_extension": ".py",
   "mimetype": "text/x-python",
   "name": "python",
   "nbconvert_exporter": "python",
   "pygments_lexer": "ipython3",
   "version": "3.7.8"
  }
 },
 "nbformat": 4,
 "nbformat_minor": 4
}
