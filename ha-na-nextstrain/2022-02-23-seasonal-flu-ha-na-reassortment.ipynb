{
 "cells": [
  {
   "cell_type": "markdown",
   "metadata": {},
   "outputs": [],
   "source": [
    "## Imports"
   ]
  },
  {
   "cell_type": "code",
   "execution_count": null,
   "metadata": {
    "scrolled": true
   },
   "outputs": [],
   "source": [
    "import sys\n",
    "sys.path.extend([\"./notebooks/scripts\"])"
   ]
  },
  {
   "cell_type": "code",
   "execution_count": null,
   "metadata": {
    "scrolled": true
   },
   "outputs": [],
   "source": [
    "import altair as alt\n",
    "from altair_saver import save\n",
    "from augur.utils import json_to_tree, read_node_data\n",
    "import json\n",
    "import matplotlib.pyplot as plt\n",
    "import matplotlib as mpl\n",
    "import numpy as np\n",
    "import pandas as pd\n",
    "import re\n",
    "import seaborn as sns\n",
    "from sklearn.metrics import confusion_matrix, matthews_corrcoef\n",
    "\n",
    "from Helpers import linking_tree_with_plots_clickable, linking_tree_with_plots_brush, scatterplot_with_tooltip_interactive\n",
    "from Helpers import get_y_positions, get_euclidean_data_frame\n",
    "\n",
    "#%matplotlib inline"
   ]
  },
  {
   "cell_type": "code",
   "execution_count": null,
   "metadata": {
    "scrolled": true
   },
   "outputs": [],
   "source": [
    "alt.renderers.set_embed_options(\n",
    "    padding={\"left\": 0, \"right\": 0, \"bottom\": 1, \"top\": 1}\n",
    ")"
   ]
  },
  {
   "cell_type": "code",
   "execution_count": null,
   "metadata": {
    "scrolled": true
   },
   "outputs": [],
   "source": [
    "sns.set_style(\"ticks\")\n",
    "# Disable top and right spines.\n",
    "mpl.rcParams['axes.spines.top'] = False\n",
    "mpl.rcParams['axes.spines.right'] = False\n",
    "# Display and save figures at higher resolution for presentations and manuscripts.\n",
    "mpl.rcParams['savefig.dpi'] = 300\n",
    "mpl.rcParams['figure.dpi'] = 100\n",
    "# Display text at sizes large enough for presentations and manuscripts.\n",
    "mpl.rcParams['font.weight'] = \"normal\"\n",
    "mpl.rcParams['axes.labelweight'] = \"normal\"\n",
    "mpl.rcParams['font.size'] = 10\n",
    "mpl.rcParams['axes.labelsize'] = 10\n",
    "mpl.rcParams['legend.fontsize'] = 8\n",
    "mpl.rcParams['xtick.labelsize'] = 10\n",
    "mpl.rcParams['ytick.labelsize'] = 10\n",
    "mpl.rcParams['axes.titlesize'] = 8\n",
    "mpl.rc('text', usetex=False)"
   ]
  },
  {
   "cell_type": "markdown",
   "metadata": {},
   "outputs": [],
   "source": [
    "## Inputs"
   ]
  },
  {
   "cell_type": "code",
   "execution_count": null,
   "metadata": {
    "scrolled": true
   },
   "outputs": [],
   "source": [
    "colors_path = snakemake.input.colors\n",
    "embeddings_path = snakemake.input.annotated_embeddings\n",
    "accuracy_path = snakemake.input.accuracy_table\n",
    "\n",
    "explained_variance_pca_ha = snakemake.input.explained_variance_pca_ha\n",
    "explained_variance_pca_concatenated = snakemake.input.explained_variance_pca_concatenated\n",
    "\n",
    "output_pca_html = snakemake.output.HANAFullChartBrushablePCAHTML\n",
    "output_pca_png = snakemake.output.HANAFullChartBrushablePCAPNG\n",
    "output_mds_html = snakemake.output.HANAFullChartBrushableMDSHTML\n",
    "output_mds_png = snakemake.output.HANAFullChartBrushableMDSPNG\n",
    "output_tsne_html = snakemake.output.HANAFullChartBrushableTSNEHTML\n",
    "output_tsne_png = snakemake.output.HANAFullChartBrushableTSNEPNG\n",
    "output_full_html = snakemake.output.fullChartHTML\n",
    "output_full_png = snakemake.output.fullChartPNG"
   ]
  },
  {
   "cell_type": "markdown",
   "metadata": {},
   "outputs": [],
   "source": [
    "## Load data"
   ]
  },
  {
   "cell_type": "code",
   "execution_count": null,
   "metadata": {
    "scrolled": true
   },
   "outputs": [],
   "source": [
    "colors = pd.read_csv(colors_path, sep=\"\\t\", names=[i for i in range(0,101)])"
   ]
  },
  {
   "cell_type": "code",
   "execution_count": null,
   "metadata": {
    "scrolled": true
   },
   "outputs": [],
   "source": [
    "embeddings_df = pd.read_csv(embeddings_path, sep=\"\\t\")"
   ]
  },
  {
   "cell_type": "code",
   "execution_count": null,
   "metadata": {},
   "outputs": [],
   "source": [
    "embeddings_df.rename(\n",
    "    columns={\n",
    "        \"y_value\": \"y\",\n",
    "        \"num_date\": \"date\",\n",
    "    },\n",
    "    inplace=True\n",
    ")"
   ]
  },
  {
   "cell_type": "code",
   "execution_count": null,
   "metadata": {},
   "outputs": [],
   "source": [
    "embeddings_df.head()"
   ]
  },
  {
   "cell_type": "code",
   "execution_count": null,
   "metadata": {},
   "outputs": [],
   "source": [
    "# Parametrizing node_df\n",
    "clade_membership = \"MCC\""
   ]
  },
  {
   "cell_type": "code",
   "execution_count": null,
   "metadata": {},
   "outputs": [],
   "source": [
    "accuracy_df = pd.read_csv(accuracy_path)"
   ]
  },
  {
   "cell_type": "code",
   "execution_count": null,
   "metadata": {},
   "outputs": [],
   "source": [
    "accuracy_df"
   ]
  },
  {
   "cell_type": "code",
   "execution_count": null,
   "metadata": {},
   "outputs": [],
   "source": [
    "explained_variance_df_ha = pd.read_csv(explained_variance_pca_ha)"
   ]
  },
  {
   "cell_type": "code",
   "execution_count": null,
   "metadata": {},
   "outputs": [],
   "source": [
    "explained_variance_df_ha"
   ]
  },
  {
   "cell_type": "code",
   "execution_count": null,
   "metadata": {},
   "outputs": [],
   "source": [
    "explained_variance_pca_ha_values = explained_variance_df_ha[\"explained variance\"].values.tolist()"
   ]
  },
  {
   "cell_type": "code",
   "execution_count": null,
   "metadata": {},
   "outputs": [],
   "source": [
    "explained_variance_pca_ha_values"
   ]
  },
  {
   "cell_type": "code",
   "execution_count": null,
   "metadata": {},
   "outputs": [],
   "source": [
    "explained_variance_df_concatenated = pd.read_csv(explained_variance_pca_concatenated)"
   ]
  },
  {
   "cell_type": "code",
   "execution_count": null,
   "metadata": {},
   "outputs": [],
   "source": [
    "explained_variance_df_concatenated"
   ]
  },
  {
   "cell_type": "code",
   "execution_count": null,
   "metadata": {},
   "outputs": [],
   "source": [
    "explained_variance_pca_concatenated_values = explained_variance_df_concatenated[\"explained variance\"].values.tolist()\n"
   ]
  },
  {
   "cell_type": "code",
   "execution_count": null,
   "metadata": {},
   "outputs": [],
   "source": [
    "explained_variance_pca_concatenated_values"
   ]
  },
  {
   "cell_type": "markdown",
   "metadata": {},
   "outputs": [],
   "source": [
    "## Build color scales"
   ]
  },
  {
   "cell_type": "code",
   "execution_count": null,
   "metadata": {},
   "outputs": [],
   "source": [
    "def build_color_range_for_domain(domain, colors, value_for_unassigned=None):\n",
    "    # Rows are zero-indexed, so to get N colors, we select row N - 1.\n",
    "    range_ = colors.loc[len(domain) - 1].dropna().values.tolist()\n",
    "   \n",
    "    # Replace known values for \"unassigned\" clade or cluster labels.\n",
    "    index_for_unassigned = None\n",
    "    if value_for_unassigned is not None and value_for_unassigned in domain:\n",
    "        index_for_unassigned = domain.index(value_for_unassigned)\n",
    "        range_[index_for_unassigned] = \"#999999\"\n",
    "        \n",
    "    return range_"
   ]
  },
  {
   "cell_type": "code",
   "execution_count": null,
   "metadata": {},
   "outputs": [],
   "source": [
    "clade_color_domain = embeddings_df[clade_membership].drop_duplicates().values.tolist()"
   ]
  },
  {
   "cell_type": "code",
   "execution_count": null,
   "metadata": {},
   "outputs": [],
   "source": [
    "clade_color_range = build_color_range_for_domain(clade_color_domain, colors, value_for_unassigned=\"unassigned\")"
   ]
  },
  {
   "cell_type": "markdown",
   "metadata": {},
   "outputs": [],
   "source": [
    "## PCA"
   ]
  },
  {
   "cell_type": "code",
   "execution_count": null,
   "metadata": {},
   "outputs": [],
   "source": [
    "pca_ha_label_color_domain =  sorted(embeddings_df[\"pca_label_ha\"].drop_duplicates().values)"
   ]
  },
  {
   "cell_type": "code",
   "execution_count": null,
   "metadata": {},
   "outputs": [],
   "source": [
    "pca_ha_label_color_range = build_color_range_for_domain(\n",
    "    pca_ha_label_color_domain,\n",
    "    colors,\n",
    "    value_for_unassigned=-1,\n",
    ")"
   ]
  },
  {
   "cell_type": "code",
   "execution_count": null,
   "metadata": {},
   "outputs": [],
   "source": [
    "accuracy_pca_ha = accuracy_df.query(\n",
    "    \"(embedding == 'pca') & (analysis_name == 'ha')\"\n",
    ").iloc[0][\"MCC\"]"
   ]
  },
  {
   "cell_type": "code",
   "execution_count": null,
   "metadata": {},
   "outputs": [],
   "source": [
    "pca_ha_list_of_chart = linking_tree_with_plots_brush(\n",
    "    embeddings_df,\n",
    "    [\"pca1_ha\", \"pca2_ha\"],\n",
    "    [\n",
    "        f\"PCA 1 (Explained variance: {round(explained_variance_pca_ha_values[0] * 100, 2)}%)\",\n",
    "        f\"PCA 2 (Explained variance: {round(explained_variance_pca_ha_values[1] * 100, 2)}%)\"\n",
    "    ],\n",
    "    \"pca_label_ha:N\",\n",
    "    [\"strain:N\", clade_membership, \"pca_label_ha:N\"],\n",
    "    pca_ha_label_color_domain,\n",
    "    pca_ha_label_color_range,\n",
    ")\n",
    "\n",
    "pca_ha_chart = (\n",
    "    pca_ha_list_of_chart[0] | pca_ha_list_of_chart[1].properties(\n",
    "        title=\"MCC: \" + str(round(accuracy_pca_ha, 4))\n",
    "    )\n",
    ")"
   ]
  },
  {
   "cell_type": "code",
   "execution_count": null,
   "metadata": {},
   "outputs": [],
   "source": [
    "pca_concatenated_label_color_domain =  sorted(embeddings_df[\"pca_label_concatenated\"].drop_duplicates().values)"
   ]
  },
  {
   "cell_type": "code",
   "execution_count": null,
   "metadata": {},
   "outputs": [],
   "source": [
    "pca_concatenated_label_color_range = build_color_range_for_domain(\n",
    "    pca_concatenated_label_color_domain,\n",
    "    colors,\n",
    "    value_for_unassigned=-1,\n",
    ")"
   ]
  },
  {
   "cell_type": "code",
   "execution_count": null,
   "metadata": {},
   "outputs": [],
   "source": [
    "accuracy_pca_concatenated = accuracy_df.query(\n",
    "    \"(embedding == 'pca') & (analysis_name == 'concatenated')\"\n",
    ").iloc[0][\"MCC\"]"
   ]
  },
  {
   "cell_type": "code",
   "execution_count": null,
   "metadata": {},
   "outputs": [],
   "source": [
    "pca_concatenated_list_of_chart = linking_tree_with_plots_brush(\n",
    "    embeddings_df,\n",
    "    [\"pca1_concatenated\", \"pca2_concatenated\"],\n",
    "    [\"PCA 1\", \"PCA 2\"],\n",
    "    \"pca_label_concatenated:N\",\n",
    "    [\"strain:N\", clade_membership, \"pca_label_concatenated:N\"],\n",
    "    pca_concatenated_label_color_domain,\n",
    "    pca_concatenated_label_color_range,\n",
    ")\n",
    "\n",
    "pca_concatenated_chart = (\n",
    "    pca_concatenated_list_of_chart[0] | (pca_concatenated_list_of_chart[1].properties(\n",
    "        title=\"MCC: \" + str(round(accuracy_pca_concatenated, 4)))\n",
    "    )\n",
    ")"
   ]
  },
  {
   "cell_type": "code",
   "execution_count": null,
   "metadata": {},
   "outputs": [],
   "source": [
    "# TODO: fix conflicting color scales\n",
    "pca_final_chart = alt.vconcat(pca_ha_chart, pca_concatenated_chart)\n",
    "pca_final_chart"
   ]
  },
  {
   "cell_type": "code",
   "execution_count": null,
   "metadata": {},
   "outputs": [],
   "source": [
    "pca_final_chart.save(output_pca_html)\n",
    "save(pca_final_chart, output_pca_png, scale_factor=2.0)"
   ]
  },
  {
   "cell_type": "markdown",
   "metadata": {},
   "outputs": [],
   "source": [
    "## MDS"
   ]
  },
  {
   "cell_type": "code",
   "execution_count": null,
   "metadata": {
    "scrolled": true
   },
   "outputs": [],
   "source": [
    "MDS_df_ha = pd.read_csv(mds_df_ha,index_col=0)\n",
    "MDS_df_concatenated = pd.read_csv(mds_df_concatenated,index_col=0)"
   ]
  },
  {
   "cell_type": "code",
   "execution_count": null,
   "metadata": {
    "scrolled": true
   },
   "outputs": [],
   "source": [
    "merged_mds_df_ha = MDS_df_ha.merge(node_df_ha[[\"strain\", \"date\", \"y\", clade_membership]], on=\"strain\")\n",
    "merged_mds_df_concatenated = MDS_df_concatenated.merge(node_df_ha[[\"strain\", \"date\", \"y\", clade_membership]], on=\"strain\")"
   ]
  },
  {
   "cell_type": "code",
   "execution_count": null,
   "metadata": {
    "scrolled": true
   },
   "outputs": [],
   "source": [
    "merged_mds_df_ha"
   ]
  },
  {
   "cell_type": "code",
   "execution_count": null,
   "metadata": {
    "scrolled": true
   },
   "outputs": [],
   "source": [
    "domain =  sorted(merged_mds_df_ha[clade_membership].drop_duplicates().values)\n",
    "range_ = colors[len(domain):len(domain)+1].dropna(axis=1).values.tolist()[0]\n",
    "chart_12_mds = scatterplot_with_tooltip_interactive(merged_mds_df_ha,'mds1','mds2',\"mds1\",\"mds2\",['strain',clade_membership],clade_membership+\":N\", domain, range_)\n",
    "chart_12_mds"
   ]
  },
  {
   "cell_type": "code",
   "execution_count": null,
   "metadata": {
    "scrolled": true
   },
   "outputs": [],
   "source": [
    "domain =  sorted(merged_mds_df_ha[clade_membership].drop_duplicates().values)\n",
    "range_ = colors[len(domain):len(domain)+1].dropna(axis=1).values.tolist()[0]\n",
    "list_of_chart_ha = linking_tree_with_plots_brush(merged_mds_df_ha,['mds1','mds2'],[\"MDS1\", \"MDS2\"], clade_membership+\":N\", ['strain',clade_membership], domain, range_)\n",
    "chart_ha = list_of_chart_ha[0]|list_of_chart_ha[1]\n",
    "domain =  sorted(merged_mds_df_concatenated[clade_membership].drop_duplicates().values)\n",
    "range_ = colors[len(domain):len(domain)+1].dropna(axis=1).values.tolist()[0]\n",
    "list_of_chart_concatenated = linking_tree_with_plots_brush(merged_mds_df_concatenated,['mds1','mds2'],[\"MDS1\", \"MDS2\"], clade_membership+\":N\", ['strain',clade_membership], domain, range_)\n",
    "chart_concat = list_of_chart_concatenated[0]|list_of_chart_concatenated[1]\n",
    "alt.vconcat(chart_ha, chart_concat)"
   ]
  },
  {
   "cell_type": "code",
   "execution_count": null,
   "metadata": {
    "scrolled": true
   },
   "outputs": [],
   "source": [
    "MDS_df_ha = pd.read_csv(mds_df_ha,index_col=0)\n",
    "MDS_df_concatenated = pd.read_csv(mds_df_concatenated,index_col=0)"
   ]
  },
  {
   "cell_type": "code",
   "execution_count": null,
   "metadata": {
    "scrolled": true
   },
   "outputs": [],
   "source": [
    "merged_mds_df_ha = MDS_df_ha.merge(node_df_ha[[\"strain\", \"date\", \"y\", clade_membership]], on=\"strain\")\n",
    "merged_mds_df_concatenated = MDS_df_concatenated.merge(node_df_ha[[\"strain\", \"date\", \"y\", clade_membership]], on=\"strain\")"
   ]
  },
  {
   "cell_type": "code",
   "execution_count": null,
   "metadata": {
    "scrolled": true
   },
   "outputs": [],
   "source": [
    "mcc_calc_mds = MDS_df_ha.merge(mcc_calc_df[[\"strain\", \"date\", \"y\", clade_membership]], on=\"strain\")\n",
    "mcc_calc_mds_concatenated = MDS_df_concatenated.merge(mcc_calc_df[[\"strain\", \"date\", \"y\", clade_membership]], on=\"strain\")\n",
    "KDE_df_normal = get_euclidean_data_frame(sampled_df=mcc_calc_mds, column_for_analysis=clade_membership, embedding=\"method\", column_list=['mds1', 'mds2'])"
   ]
  },
  {
   "cell_type": "code",
   "execution_count": null,
   "metadata": {
    "scrolled": true
   },
   "outputs": [],
   "source": [
    "domain =  merged_mds_df_ha[\"mds_label\"].drop_duplicates().values\n",
    "range_ = colors[len(domain)-1:len(domain)].dropna(axis=1).values.tolist()[0]\n",
    "chart_12_mds = scatterplot_with_tooltip_interactive(merged_mds_df_ha,'mds1','mds2',\"mds1\",\"mds2\",['strain',clade_membership],'mds_label:N', domain, range_)\n",
    "chart_12_mds"
   ]
  },
  {
   "cell_type": "code",
   "execution_count": null,
   "metadata": {
    "scrolled": true
   },
   "outputs": [],
   "source": [
    "from sklearn.metrics import confusion_matrix, matthews_corrcoef"
   ]
  },
  {
   "cell_type": "code",
   "execution_count": null,
   "metadata": {
    "scrolled": true
   },
   "outputs": [],
   "source": [
    "KDE_df_cluster = get_euclidean_data_frame(sampled_df=mcc_calc_mds[[\"mds1\", \"mds2\", \"strain\", \"mds_label\"]], column_for_analysis=\"mds_label\", embedding=\"mds\", column_list=[\"mds1\", \"mds2\"])\n",
    "confusion_matrix_val_ha = confusion_matrix(KDE_df_normal[\"clade_status\"], KDE_df_cluster[\"clade_status\"])\n",
    "matthews_cc_val_ha = matthews_corrcoef(KDE_df_normal[\"clade_status\"], KDE_df_cluster[\"clade_status\"])"
   ]
  },
  {
   "cell_type": "code",
   "execution_count": null,
   "metadata": {
    "scrolled": true
   },
   "outputs": [],
   "source": [
    "KDE_df_cluster = get_euclidean_data_frame(sampled_df=mcc_calc_mds_concatenated[[\"mds1\", \"mds2\", \"strain\", \"mds_label\"]], column_for_analysis=\"mds_label\", embedding=\"mds\", column_list=[\"mds1\", \"mds2\"])\n",
    "confusion_matrix_val_concatenated = confusion_matrix(KDE_df_normal[\"clade_status\"], KDE_df_cluster[\"clade_status\"])\n",
    "matthews_cc_val_concatenated = matthews_corrcoef(KDE_df_normal[\"clade_status\"], KDE_df_cluster[\"clade_status\"])"
   ]
  },
  {
   "cell_type": "code",
   "execution_count": null,
   "metadata": {
    "scrolled": true
   },
   "outputs": [],
   "source": [
    "domain =  merged_mds_df_ha[clade_membership].drop_duplicates().values\n",
    "range_ = colors[len(domain)-1:len(domain)].dropna(axis=1).values.tolist()[0]\n",
    "list_of_chart_ha = linking_tree_with_plots_brush(merged_mds_df_ha,['mds1','mds2'],[\"MDS1\", \"MDS2\"], clade_membership+\":N\", ['strain',clade_membership], domain, range_)\n",
    "chart_ha = list_of_chart_ha[0]|list_of_chart_ha[1].properties(title=\"MCC: \" + str(round(matthews_cc_val_ha,4)))\n",
    "domain =  merged_mds_df_concatenated[clade_membership].drop_duplicates().values\n",
    "range_ = colors[len(domain)-1:len(domain)].dropna(axis=1).values.tolist()[0]\n",
    "list_of_chart_concatenated = linking_tree_with_plots_brush(merged_mds_df_concatenated,['mds1','mds2'],[\"MDS1\", \"MDS2\"], clade_membership+\":N\", ['strain',clade_membership], domain, range_)\n",
    "chart_concat = list_of_chart_concatenated[0]|list_of_chart_concatenated[1].properties(title=\"MCC: \" + str(round(matthews_cc_val_concatenated,4)))\n",
    "chart_total = alt.vconcat(chart_ha, chart_concat)\n",
    "chart_total\n"
   ]
  },
  {
   "cell_type": "code",
   "execution_count": null,
   "metadata": {
    "scrolled": true
   },
   "outputs": [],
   "source": [
    "domain =  sorted(merged_mds_df_ha[\"mds_label\"].drop_duplicates().values)\n",
    "if -1 in domain:\n",
    "    range_ = [\"#999999\"] + colors[len(domain)-1:len(domain)].dropna(axis=1).values.tolist()[0]\n",
    "else: \n",
    "    range_ = colors[len(domain):len(domain)+1].dropna(axis=1).values.tolist()[0]\n",
    "list_of_chart_ha = linking_tree_with_plots_brush(merged_mds_df_ha,['mds1','mds2'],[\"MDS1\", \"MDS2\"], 'mds_label:N', ['strain',clade_membership], domain, range_)\n",
    "chart_ha = list_of_chart_ha[0]|list_of_chart_ha[1].properties(title=\"MCC: \" + str(round(matthews_cc_val_ha,4)))\n",
    "domain =  sorted(merged_mds_df_ha[\"mds_label\"].drop_duplicates().values)\n",
    "if -1 in domain:\n",
    "    range_ = [\"#999999\"] + colors[len(domain)-1:len(domain)].dropna(axis=1).values.tolist()[0]\n",
    "else: \n",
    "    range_ = colors[len(domain):len(domain)+1].dropna(axis=1).values.tolist()[0]\n",
    "list_of_chart_concatenated = linking_tree_with_plots_brush(merged_mds_df_concatenated,['mds1','mds2'],[\"MDS1\", \"MDS2\"], 'mds_label:N', ['strain',clade_membership], domain, range_)\n",
    "chart_concat = list_of_chart_concatenated[0]|list_of_chart_concatenated[1].properties(title=\"MCC: \" + str(round(matthews_cc_val_concatenated,4)))\n",
    "final_chart = alt.vconcat(chart_ha, chart_concat)\n",
    "final_chart"
   ]
  },
  {
   "cell_type": "code",
   "execution_count": null,
   "metadata": {
    "scrolled": true
   },
   "outputs": [],
   "source": [
    "final_chart.save(output_mds_html)\n",
    "#save(final_chart, output_mds_png, scale_factor=2.0)"
   ]
  },
  {
   "cell_type": "markdown",
   "metadata": {},
   "outputs": [],
   "source": [
    "## HDBSCAN clustering on t-SNE "
   ]
  },
  {
   "cell_type": "code",
   "execution_count": null,
   "metadata": {
    "scrolled": true
   },
   "outputs": [],
   "source": [
    "TSNE_df_ha = pd.read_csv(tsne_df_ha, index_col=0)\n",
    "TSNE_df_concatenated = pd.read_csv(tsne_df_concatenated,index_col=0)"
   ]
  },
  {
   "cell_type": "code",
   "execution_count": null,
   "metadata": {
    "scrolled": true
   },
   "outputs": [],
   "source": [
    "merged_tsne_df_ha = TSNE_df_ha.merge(node_df_ha[[\"strain\", \"date\", \"y\", clade_membership]], on=\"strain\")\n",
    "merged_tsne_df_concatenated = TSNE_df_concatenated.merge(node_df_ha[[\"strain\", \"date\", \"y\", clade_membership]], on=\"strain\")"
   ]
  },
  {
   "cell_type": "code",
   "execution_count": null,
   "metadata": {
    "scrolled": true
   },
   "outputs": [],
   "source": [
    "mcc_calc_tsne = TSNE_df_ha.merge(mcc_calc_df[[\"strain\", \"date\", \"y\", clade_membership]], on=\"strain\")\n",
    "mcc_calc_tsne_concatenated = TSNE_df_concatenated.merge(mcc_calc_df[[\"strain\", \"date\", \"y\", clade_membership]], on=\"strain\")\n",
    "KDE_df_normal = get_euclidean_data_frame(sampled_df=mcc_calc_tsne, column_for_analysis=clade_membership, embedding=\"method\", column_list=['tsne_x', 'tsne_y'])"
   ]
  },
  {
   "cell_type": "code",
   "execution_count": null,
   "metadata": {
    "scrolled": true
   },
   "outputs": [],
   "source": [
    "domain =  merged_tsne_df_ha[\"t-sne_label\"].drop_duplicates().values\n",
    "range_ = colors[len(domain)-1:len(domain)].dropna(axis=1).values.tolist()[0]\n",
    "chart_12_tsne = scatterplot_with_tooltip_interactive(merged_tsne_df_ha,'tsne_x','tsne_y',\"tsne_x\",\"tsne_y\",['strain',clade_membership],'t-sne_label:N', domain, range_)\n",
    "chart_12_tsne"
   ]
  },
  {
   "cell_type": "code",
   "execution_count": null,
   "metadata": {
    "scrolled": true
   },
   "outputs": [],
   "source": [
    "KDE_df_cluster = get_euclidean_data_frame(sampled_df=mcc_calc_tsne[[\"tsne_x\", \"tsne_y\", \"strain\", \"t-sne_label\"]], column_for_analysis=\"t-sne_label\", embedding=\"tsne\", column_list=[\"tsne_x\", \"tsne_y\"])\n",
    "confusion_matrix_val_ha = confusion_matrix(KDE_df_normal[\"clade_status\"], KDE_df_cluster[\"clade_status\"])\n",
    "matthews_cc_val_ha = matthews_corrcoef(KDE_df_normal[\"clade_status\"], KDE_df_cluster[\"clade_status\"])"
   ]
  },
  {
   "cell_type": "code",
   "execution_count": null,
   "metadata": {},
   "outputs": [],
   "source": [
    "KDE_df_cluster = get_euclidean_data_frame(sampled_df=mcc_calc_tsne_concatenated[[\"tsne_x\", \"tsne_y\", \"strain\", \"t-sne_label\"]], column_for_analysis=\"t-sne_label\", embedding=\"tsne\", column_list=[\"tsne_x\", \"tsne_y\"])\n",
    "confusion_matrix_val_concatenated = confusion_matrix(KDE_df_normal[\"clade_status\"], KDE_df_cluster[\"clade_status\"])\n",
    "matthews_cc_val_concatenated = matthews_corrcoef(KDE_df_normal[\"clade_status\"], KDE_df_cluster[\"clade_status\"])"
   ]
  },
  {
   "cell_type": "code",
   "execution_count": null,
   "metadata": {
    "scrolled": true
   },
   "outputs": [],
   "source": [
    "domain =  sorted(merged_tsne_df_ha[\"t-sne_label\"].drop_duplicates().values)\n",
    "if -1 in domain:\n",
    "    range_ = [\"#999999\"] + colors[len(domain)-1:len(domain)].dropna(axis=1).values.tolist()[0]\n",
    "else: \n",
    "    range_ = colors[len(domain):len(domain)+1].dropna(axis=1).values.tolist()[0]\n",
    "list_of_chart_ha = linking_tree_with_plots_brush(merged_tsne_df_ha,['tsne_x','tsne_y'],[\"MDS1\", \"MDS2\"], 't-sne_label:N', ['strain',clade_membership], domain, range_)\n",
    "chart_ha = list_of_chart_ha[0]|list_of_chart_ha[1].properties(title=\"MCC: \" + str(round(matthews_cc_val_ha,4)))\n",
    "domain =  merged_tsne_df_concatenated[\"t-sne_label\"].drop_duplicates().values\n",
    "range_ = colors[len(domain)-1:len(domain)].dropna(axis=1).values.tolist()[0]\n",
    "list_of_chart_concatenated = linking_tree_with_plots_brush(merged_tsne_df_concatenated,['tsne_x','tsne_y'],[\"MDS1\", \"MDS2\"], 't-sne_label:N', ['strain',clade_membership], domain, range_)\n",
    "chart_concat = list_of_chart_concatenated[0]|list_of_chart_concatenated[1].properties(title=\"MCC: \" + str(round(matthews_cc_val_concatenated,4)))\n",
    "final_chart = alt.vconcat(chart_ha, chart_concat).resolve_scale(color='independent')\n",
    "final_chart"
   ]
  },
  {
   "cell_type": "code",
   "execution_count": null,
   "metadata": {
    "scrolled": true
   },
   "outputs": [],
   "source": [
    "save(final_chart, output_tsne_html)\n",
    "#save(final_chart, output_tsne_png, scale_factor=2.0)"
   ]
  },
  {
   "cell_type": "markdown",
   "metadata": {},
   "outputs": [],
   "source": [
    "# Running T-SNE on the Dataset "
   ]
  },
  {
   "cell_type": "code",
   "execution_count": null,
   "metadata": {
    "scrolled": true
   },
   "outputs": [],
   "source": [
    "domain =  sorted(merged_tsne_df_ha[clade_membership].drop_duplicates().values)\n",
    "if -1 in domain:\n",
    "    range_ = [\"#999999\"] + colors[len(domain)-1:len(domain)].dropna(axis=1).values.tolist()[0]\n",
    "else: \n",
    "    range_ = colors[len(domain):len(domain)+1].dropna(axis=1).values.tolist()[0]\n",
    "scatterplot_with_tooltip_interactive(merged_tsne_df_ha,'tsne_x','tsne_y','tsne_x','tsne_y',['strain', clade_membership],clade_membership+\":N\", domain, range_)"
   ]
  },
  {
   "cell_type": "code",
   "execution_count": null,
   "metadata": {
    "scrolled": true
   },
   "outputs": [],
   "source": [
    "domain =  sorted(merged_tsne_df_concatenated[clade_membership].drop_duplicates().values)\n",
    "if -1 in domain:\n",
    "    range_ = [\"#999999\"] + colors[len(domain)-1:len(domain)].dropna(axis=1).values.tolist()[0]\n",
    "else: \n",
    "    range_ = colors[len(domain):len(domain)+1].dropna(axis=1).values.tolist()[0]\n",
    "scatterplot_with_tooltip_interactive(merged_tsne_df_concatenated,'tsne_x','tsne_y','tsne_x','tsne_y',['strain', clade_membership],clade_membership+\":N\", domain, range_)"
   ]
  },
  {
   "cell_type": "code",
   "execution_count": null,
   "metadata": {
    "scrolled": true
   },
   "outputs": [],
   "source": [
    "list_of_chart_ha = linking_tree_with_plots_brush(\n",
    "    merged_tsne_df_ha,\n",
    "    ['tsne_x','tsne_y'],\n",
    "    ['tsne_x','tsne_y'],\n",
    "    clade_membership+\":N\",\n",
    "    [\"strain:N\", clade_membership+\":N\"],\n",
    "    domain,\n",
    "    range_\n",
    ")\n",
    "chart_tsne_ha = list_of_chart_ha[0]|list_of_chart_ha[1]\n",
    "chart_tsne_ha"
   ]
  },
  {
   "cell_type": "code",
   "execution_count": null,
   "metadata": {
    "scrolled": true
   },
   "outputs": [],
   "source": [
    "list_of_chart_concatenated = linking_tree_with_plots_brush(\n",
    "    merged_tsne_df_concatenated,\n",
    "    ['tsne_x','tsne_y'],\n",
    "    ['tsne_x','tsne_y'],\n",
    "    clade_membership+\":N\",\n",
    "    [\"strain:N\", clade_membership+\":N\"],\n",
    "    domain,\n",
    "    range_\n",
    ")\n",
    "chart_tsne_concatenated = list_of_chart_concatenated[0]|list_of_chart_concatenated[1]\n",
    "chart_tsne_concatenated"
   ]
  },
  {
   "cell_type": "code",
   "execution_count": null,
   "metadata": {
    "scrolled": true
   },
   "outputs": [],
   "source": [
    "chart_tsne_ha & chart_tsne_concatenated"
   ]
  },
  {
   "cell_type": "markdown",
   "metadata": {},
   "outputs": [],
   "source": [
    "# Running UMAP on the Dataset"
   ]
  },
  {
   "cell_type": "code",
   "execution_count": null,
   "metadata": {
    "scrolled": true
   },
   "outputs": [],
   "source": [
    "UMAP_df_ha = pd.read_csv(umap_df_ha, index_col=0)\n",
    "UMAP_df_concatenated = pd.read_csv(umap_df_concatenated, index_col=0)"
   ]
  },
  {
   "cell_type": "code",
   "execution_count": null,
   "metadata": {
    "scrolled": true
   },
   "outputs": [],
   "source": [
    "UMAP_df_concatenated"
   ]
  },
  {
   "cell_type": "code",
   "execution_count": null,
   "metadata": {
    "scrolled": true
   },
   "outputs": [],
   "source": [
    "merged_umap_df_ha = UMAP_df_ha.merge(node_df_ha[[\"strain\", \"date\", \"y\", clade_membership]], on=\"strain\")\n",
    "merged_umap_df_concatenated = UMAP_df_concatenated.merge(node_df_ha[[\"strain\", \"date\", \"y\", clade_membership]], on=\"strain\")"
   ]
  },
  {
   "cell_type": "code",
   "execution_count": null,
   "metadata": {
    "scrolled": true
   },
   "outputs": [],
   "source": [
    "UMAP_df_ha.index.tolist() == UMAP_df_concatenated.index.values.tolist()"
   ]
  },
  {
   "cell_type": "markdown",
   "metadata": {},
   "outputs": [],
   "source": [
    "## All embeddings by clade membership"
   ]
  },
  {
   "cell_type": "code",
   "execution_count": null,
   "metadata": {
    "scrolled": true
   },
   "outputs": [],
   "source": [
    "# TODO:\n",
    "# - Add MCC accuracies as titles per plot\n",
    "data = linking_tree_with_plots_brush(\n",
    "    embeddings_df,\n",
    "    [\n",
    "        'mds1_concatenated',\n",
    "        'mds2_concatenated',\n",
    "        'mds1_ha',\n",
    "        'mds2_ha',\n",
    "        'tsne_x_concatenated',\n",
    "        'tsne_y_concatenated',\n",
    "        'tsne_x_ha',\n",
    "        'tsne_y_ha',\n",
    "        'pca1_concatenated',\n",
    "        'pca2_concatenated',\n",
    "        'pca1_ha',\n",
    "        'pca2_ha',\n",
    "        'umap_x_concatenated',\n",
    "        'umap_y_concatenated',\n",
    "        'umap_x_ha',\n",
    "        'umap_y_ha',\n",
    "    ],\n",
    "    [\n",
    "        'MDS 1',\n",
    "        'MDS 2',\n",
    "        'MDS 1',\n",
    "        'MDS 2',\n",
    "        't-SNE 1',\n",
    "        't-SNE 2',\n",
    "        't-SNE 1',\n",
    "        't-SNE 2', \n",
    "        'PCA 1 (Expected Variance: {}%'.format(round(explained_variance_pca_concatenated_values[0]*100,2)) + \")\",\n",
    "        'PCA 2 (Expected Variance: {}%'.format(round(explained_variance_pca_concatenated_values[1]*100,2)) + \")\",\n",
    "        'PCA 1 (Expected Variance: {}%'.format(round(explained_variance_pca_ha_values[0]*100,2)) + \")\",\n",
    "        'PCA 2 (Expected Variance: {}%'.format(round(explained_variance_pca_ha_values[1]*100,2)) + \")\",\n",
    "        'UMAP 1',\n",
    "        'UMAP 2',\n",
    "        'UMAP 1',\n",
    "        'UMAP 2',\n",
    "    ],\n",
    "    clade_membership+\":N\",\n",
    "    ['strain', clade_membership],\n",
    "    domain,\n",
    "    range_\n",
    ")"
   ]
  },
  {
   "cell_type": "code",
   "execution_count": null,
   "metadata": {
    "scrolled": true
   },
   "outputs": [],
   "source": [
    "chart_embeddings = alt.vconcat(data[0], data[6]|data[5], data[2]|data[1], data[4]|data[3], data[8]|data[7])\n",
    "chart_embeddings"
   ]
  },
  {
   "cell_type": "code",
   "execution_count": null,
   "metadata": {
    "scrolled": true
   },
   "outputs": [],
   "source": [
    "chart_embeddings.save(output_full_html)\n",
    "save(chart_embeddings, output_full_png, scale_factor=2.0)"
   ]
  },
  {
   "cell_type": "code",
   "execution_count": null,
   "metadata": {},
   "outputs": [],
   "source": []
  }
 ],
 "metadata": {
  "kernelspec": {
   "display_name": "Python 3 (ipykernel)",
   "language": "python",
   "name": "python3"
  },
  "language_info": {
   "codemirror_mode": {
    "name": "ipython",
    "version": 3
   },
   "file_extension": ".py",
   "mimetype": "text/x-python",
   "name": "python",
   "nbconvert_exporter": "python",
   "pygments_lexer": "ipython3",
   "version": "3.7.12"
  }
 },
 "nbformat": 4,
 "nbformat_minor": 4
}
