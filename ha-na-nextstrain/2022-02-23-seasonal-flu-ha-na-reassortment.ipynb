{
 "cells": [
  {
   "cell_type": "markdown",
   "metadata": {},
   "outputs": [],
   "source": [
    "## Imports"
   ]
  },
  {
   "cell_type": "code",
   "execution_count": null,
   "metadata": {
    "scrolled": true
   },
   "outputs": [],
   "source": [
    "import sys\n",
    "sys.path.extend([\"./notebooks/scripts\"])"
   ]
  },
  {
   "cell_type": "code",
   "execution_count": null,
   "metadata": {
    "scrolled": true
   },
   "outputs": [],
   "source": [
    "import altair as alt\n",
    "from altair_saver import save\n",
    "import pandas as pd\n",
    "\n",
    "from Helpers import linking_tree_with_plots_brush\n",
    "\n",
    "import bcubed"
   ]
  },
  {
   "cell_type": "code",
   "execution_count": null,
   "metadata": {
    "scrolled": true
   },
   "outputs": [],
   "source": [
    "alt.renderers.set_embed_options(\n",
    "    padding={\"left\": 0, \"right\": 0, \"bottom\": 1, \"top\": 1}\n",
    ")"
   ]
  },
  {
   "cell_type": "markdown",
   "metadata": {},
   "outputs": [],
   "source": [
    "## Inputs"
   ]
  },
  {
   "cell_type": "code",
   "execution_count": null,
   "metadata": {
    "scrolled": true
   },
   "outputs": [],
   "source": [
    "colors_path = snakemake.input.colors\n",
    "embeddings_path = snakemake.input.annotated_embeddings\n",
    "accuracy_path = snakemake.input.accuracy_table\n",
    "\n",
    "explained_variance_pca_ha = snakemake.input.explained_variance_pca_ha\n",
    "explained_variance_pca_concatenated = snakemake.input.explained_variance_pca_concatenated\n",
    "\n",
    "output_pca_html = snakemake.output.HANAFullChartBrushablePCAHTML\n",
    "output_pca_png = snakemake.output.HANAFullChartBrushablePCAPNG\n",
    "output_mds_html = snakemake.output.HANAFullChartBrushableMDSHTML\n",
    "output_mds_png = snakemake.output.HANAFullChartBrushableMDSPNG\n",
    "output_tsne_html = snakemake.output.HANAFullChartBrushableTSNEHTML\n",
    "output_tsne_png = snakemake.output.HANAFullChartBrushableTSNEPNG\n",
    "output_umap_html = snakemake.output.HANAFullChartBrushableUMAPHTML\n",
    "output_umap_png = snakemake.output.HANAFullChartBrushableUMAPPNG\n",
    "output_full_html = snakemake.output.fullChartHTML\n",
    "output_full_png = snakemake.output.fullChartPNG"
   ]
  },
  {
   "cell_type": "markdown",
   "metadata": {},
   "outputs": [],
   "source": [
    "## Load data"
   ]
  },
  {
   "cell_type": "code",
   "execution_count": null,
   "metadata": {
    "scrolled": true
   },
   "outputs": [],
   "source": [
    "colors = pd.read_csv(colors_path, sep=\"\\t\", names=[i for i in range(0,101)])"
   ]
  },
  {
   "cell_type": "code",
   "execution_count": null,
   "metadata": {
    "scrolled": true
   },
   "outputs": [],
   "source": [
    "embeddings_df = pd.read_csv(embeddings_path, sep=\"\\t\")"
   ]
  },
  {
   "cell_type": "code",
   "execution_count": null,
   "metadata": {},
   "outputs": [],
   "source": [
    "embeddings_df.rename(\n",
    "    columns={\n",
    "        \"y_value\": \"y\",\n",
    "        \"num_date\": \"date\",\n",
    "    },\n",
    "    inplace=True\n",
    ")"
   ]
  },
  {
   "cell_type": "code",
   "execution_count": null,
   "metadata": {},
   "outputs": [],
   "source": [
    "embeddings_df.head()"
   ]
  },
  {
   "cell_type": "code",
   "execution_count": null,
   "metadata": {},
   "outputs": [],
   "source": [
    "# Parametrizing node_df\n",
    "clade_membership = \"MCC\""
   ]
  },
  {
   "cell_type": "code",
   "execution_count": null,
   "metadata": {},
   "outputs": [],
   "source": [
    "accuracy_df = pd.read_csv(accuracy_path)"
   ]
  },
  {
   "cell_type": "code",
   "execution_count": null,
   "metadata": {},
   "outputs": [],
   "source": [
    "accuracy_df"
   ]
  },
  {
   "cell_type": "code",
   "execution_count": null,
   "metadata": {},
   "outputs": [],
   "source": [
    "explained_variance_df_ha = pd.read_csv(explained_variance_pca_ha)"
   ]
  },
  {
   "cell_type": "code",
   "execution_count": null,
   "metadata": {},
   "outputs": [],
   "source": [
    "explained_variance_df_ha"
   ]
  },
  {
   "cell_type": "code",
   "execution_count": null,
   "metadata": {},
   "outputs": [],
   "source": [
    "explained_variance_pca_ha_values = explained_variance_df_ha[\"explained variance\"].values.tolist()"
   ]
  },
  {
   "cell_type": "code",
   "execution_count": null,
   "metadata": {},
   "outputs": [],
   "source": [
    "explained_variance_pca_ha_values"
   ]
  },
  {
   "cell_type": "code",
   "execution_count": null,
   "metadata": {},
   "outputs": [],
   "source": [
    "explained_variance_df_concatenated = pd.read_csv(explained_variance_pca_concatenated)"
   ]
  },
  {
   "cell_type": "code",
   "execution_count": null,
   "metadata": {},
   "outputs": [],
   "source": [
    "explained_variance_df_concatenated"
   ]
  },
  {
   "cell_type": "code",
   "execution_count": null,
   "metadata": {},
   "outputs": [],
   "source": [
    "explained_variance_pca_concatenated_values = explained_variance_df_concatenated[\"explained variance\"].values.tolist()\n"
   ]
  },
  {
   "cell_type": "code",
   "execution_count": null,
   "metadata": {},
   "outputs": [],
   "source": [
    "explained_variance_pca_concatenated_values"
   ]
  },
  {
   "cell_type": "markdown",
   "metadata": {},
   "outputs": [],
   "source": [
    "## Build color scales"
   ]
  },
  {
   "cell_type": "code",
   "execution_count": null,
   "metadata": {},
   "outputs": [],
   "source": [
    "def build_color_range_for_domain(domain, colors, value_for_unassigned=None):\n",
    "    # Rows are zero-indexed, so to get N colors, we select row N - 1.\n",
    "    range_ = colors.loc[len(domain) - 1].dropna().values.tolist()\n",
    "   \n",
    "    # Replace known values for \"unassigned\" clade or cluster labels.\n",
    "    index_for_unassigned = None\n",
    "    if value_for_unassigned is not None and value_for_unassigned in domain:\n",
    "        index_for_unassigned = domain.index(value_for_unassigned)\n",
    "        range_[index_for_unassigned] = \"#999999\"\n",
    "        \n",
    "    return range_"
   ]
  },
  {
   "cell_type": "code",
   "execution_count": null,
   "metadata": {},
   "outputs": [],
   "source": [
    "clade_color_domain = embeddings_df[clade_membership].drop_duplicates().values.tolist()"
   ]
  },
  {
   "cell_type": "code",
   "execution_count": null,
   "metadata": {},
   "outputs": [],
   "source": [
    "# Order MCCs with \"unassigned\" always listed first followed by MCCs\n",
    "# in numerical order.\n",
    "clade_color_domain = sorted(\n",
    "    clade_color_domain,\n",
    "    key=lambda value: -1 if value == \"unassigned\" else int(value.split(\"_\")[-1])\n",
    ")"
   ]
  },
  {
   "cell_type": "code",
   "execution_count": null,
   "metadata": {},
   "outputs": [],
   "source": [
    "clade_color_range = build_color_range_for_domain(clade_color_domain, colors, value_for_unassigned=\"unassigned\")"
   ]
  },
  {
   "cell_type": "markdown",
   "metadata": {},
   "outputs": [],
   "source": [
    "## PCA"
   ]
  },
  {
   "cell_type": "code",
   "execution_count": null,
   "metadata": {},
   "outputs": [],
   "source": [
    "pca_ha_label_color_domain =  sorted(embeddings_df[\"pca_label_ha\"].drop_duplicates().values)"
   ]
  },
  {
   "cell_type": "code",
   "execution_count": null,
   "metadata": {},
   "outputs": [],
   "source": [
    "pca_ha_label_color_range = build_color_range_for_domain(\n",
    "    pca_ha_label_color_domain,\n",
    "    colors,\n",
    "    value_for_unassigned=-1,\n",
    ")"
   ]
  },
  {
   "cell_type": "code",
   "execution_count": null,
   "metadata": {},
   "outputs": [],
   "source": [
    "accuracy_pca_ha = accuracy_df.query(\n",
    "    \"(embedding == 'pca') & (analysis_name == 'ha')\"\n",
    ").iloc[0][\"MCC\"]"
   ]
  },
  {
   "cell_type": "code",
   "execution_count": null,
   "metadata": {},
   "outputs": [],
   "source": [
    "pca_ha_list_of_chart = linking_tree_with_plots_brush(\n",
    "    embeddings_df,\n",
    "    [\"pca1_ha\", \"pca2_ha\"],\n",
    "    [\n",
    "        f\"PC 1 (Explained variance: {round(explained_variance_pca_ha_values[0] * 100, 2)}%)\",\n",
    "        f\"PC 2 (Explained variance: {round(explained_variance_pca_ha_values[1] * 100, 2)}%)\"\n",
    "    ],\n",
    "    \"pca_label_ha:N\",\n",
    "    [\"strain:N\", clade_membership, \"pca_label_ha:N\"],\n",
    "    pca_ha_label_color_domain,\n",
    "    pca_ha_label_color_range,\n",
    ")\n",
    "\n",
    "pca_ha_chart = (\n",
    "    pca_ha_list_of_chart[0] | pca_ha_list_of_chart[1].properties(\n",
    "        title=\"MCC: \" + str(round(accuracy_pca_ha, 4))\n",
    "    )\n",
    ")"
   ]
  },
  {
   "cell_type": "code",
   "execution_count": null,
   "metadata": {},
   "outputs": [],
   "source": [
    "pca_concatenated_label_color_domain = sorted(embeddings_df[\"pca_label_concatenated\"].drop_duplicates().values)"
   ]
  },
  {
   "cell_type": "code",
   "execution_count": null,
   "metadata": {},
   "outputs": [],
   "source": [
    "pca_concatenated_label_color_range = build_color_range_for_domain(\n",
    "    pca_concatenated_label_color_domain,\n",
    "    colors,\n",
    "    value_for_unassigned=-1,\n",
    ")"
   ]
  },
  {
   "cell_type": "code",
   "execution_count": null,
   "metadata": {},
   "outputs": [],
   "source": [
    "accuracy_pca_concatenated = accuracy_df.query(\n",
    "    \"(embedding == 'pca') & (analysis_name == 'concatenated')\"\n",
    ").iloc[0][\"MCC\"]"
   ]
  },
  {
   "cell_type": "code",
   "execution_count": null,
   "metadata": {},
   "outputs": [],
   "source": [
    "pca_concatenated_list_of_chart = linking_tree_with_plots_brush(\n",
    "    embeddings_df,\n",
    "    [\"pca1_concatenated\", \"pca2_concatenated\"],\n",
    "    [\n",
    "        f\"PC 1 (Explained variance: {round(explained_variance_pca_concatenated_values[0] * 100, 2)}%)\",\n",
    "        f\"PC 2 (Explained variance: {round(explained_variance_pca_concatenated_values[1] * 100, 2)}%)\",\n",
    "    ],\n",
    "    \"pca_label_concatenated:N\",\n",
    "    [\"strain:N\", clade_membership, \"pca_label_concatenated:N\"],\n",
    "    pca_concatenated_label_color_domain,\n",
    "    pca_concatenated_label_color_range,\n",
    ")\n",
    "\n",
    "pca_concatenated_chart = (\n",
    "    pca_concatenated_list_of_chart[0] | (pca_concatenated_list_of_chart[1].properties(\n",
    "        title=\"MCC: \" + str(round(accuracy_pca_concatenated, 4)))\n",
    "    )\n",
    ")"
   ]
  },
  {
   "cell_type": "code",
   "execution_count": null,
   "metadata": {
    "scrolled": false
   },
   "outputs": [],
   "source": [
    "pca_final_chart = alt.vconcat(\n",
    "    pca_ha_chart,\n",
    "    pca_concatenated_chart\n",
    ").resolve_scale(\n",
    "    color=\"independent\",\n",
    ")\n",
    "pca_final_chart"
   ]
  },
  {
   "cell_type": "code",
   "execution_count": null,
   "metadata": {},
   "outputs": [],
   "source": [
    "embeddings_df.columns"
   ]
  },
  {
   "cell_type": "code",
   "execution_count": null,
   "metadata": {},
   "outputs": [],
   "source": [
    "cdict = embeddings_df[[\"strain\", \"pca_label_ha\"]].set_index(\"strain\").transpose().to_dict()\n",
    "\n",
    "for k, v in cdict.items():\n",
    "    cdict[k] = set(v.values())"
   ]
  },
  {
   "cell_type": "code",
   "execution_count": null,
   "metadata": {},
   "outputs": [],
   "source": [
    "ldict = embeddings_df[[\"strain\", clade_membership]].set_index(\"strain\").transpose().to_dict()\n",
    "\n",
    "for k, v in ldict.items():\n",
    "    ldict[k] = set(v.values())"
   ]
  },
  {
   "cell_type": "code",
   "execution_count": null,
   "metadata": {},
   "outputs": [],
   "source": [
    "precision = bcubed.precision(cdict, ldict)\n",
    "recall = bcubed.recall(cdict, ldict)\n",
    "fscore_pca = bcubed.fscore(precision, recall)"
   ]
  },
  {
   "cell_type": "code",
   "execution_count": null,
   "metadata": {},
   "outputs": [],
   "source": [
    "fscore_pca"
   ]
  },
  {
   "cell_type": "code",
   "execution_count": null,
   "metadata": {},
   "outputs": [],
   "source": [
    "pca_final_chart.save(output_pca_html)\n",
    "save(pca_final_chart, output_pca_png, scale_factor=2.0)"
   ]
  },
  {
   "cell_type": "markdown",
   "metadata": {},
   "outputs": [],
   "source": [
    "## MDS"
   ]
  },
  {
   "cell_type": "code",
   "execution_count": null,
   "metadata": {
    "scrolled": true
   },
   "outputs": [],
   "source": [
    "mds_ha_label_color_domain =  sorted(embeddings_df[\"mds_label_ha\"].drop_duplicates().values)"
   ]
  },
  {
   "cell_type": "code",
   "execution_count": null,
   "metadata": {},
   "outputs": [],
   "source": [
    "mds_ha_label_color_range = build_color_range_for_domain(\n",
    "    mds_ha_label_color_domain,\n",
    "    colors,\n",
    "    value_for_unassigned=-1,\n",
    ")"
   ]
  },
  {
   "cell_type": "code",
   "execution_count": null,
   "metadata": {},
   "outputs": [],
   "source": [
    "accuracy_mds_ha = accuracy_df.query(\n",
    "    \"(embedding == 'mds') & (analysis_name == 'ha')\"\n",
    ").iloc[0][\"MCC\"]"
   ]
  },
  {
   "cell_type": "code",
   "execution_count": null,
   "metadata": {},
   "outputs": [],
   "source": [
    "mds_ha_list_of_chart = linking_tree_with_plots_brush(\n",
    "    embeddings_df,\n",
    "    [\"mds1_ha\", \"mds2_ha\"],\n",
    "    [\n",
    "        \"MDS 1\",\n",
    "        \"MDS 2\"\n",
    "    ],\n",
    "    \"mds_label_ha:N\",\n",
    "    [\"strain:N\", clade_membership, \"mds_label_ha:N\"],\n",
    "    mds_ha_label_color_domain,\n",
    "    mds_ha_label_color_range,\n",
    ")\n",
    "\n",
    "mds_ha_chart = (\n",
    "    mds_ha_list_of_chart[0] | mds_ha_list_of_chart[1].properties(\n",
    "        title=\"MCC: \" + str(round(accuracy_mds_ha, 4))\n",
    "    )\n",
    ")"
   ]
  },
  {
   "cell_type": "code",
   "execution_count": null,
   "metadata": {},
   "outputs": [],
   "source": [
    "mds_concatenated_label_color_domain = sorted(embeddings_df[\"mds_label_concatenated\"].drop_duplicates().values)"
   ]
  },
  {
   "cell_type": "code",
   "execution_count": null,
   "metadata": {},
   "outputs": [],
   "source": [
    "mds_concatenated_label_color_range = build_color_range_for_domain(\n",
    "    mds_concatenated_label_color_domain,\n",
    "    colors,\n",
    "    value_for_unassigned=-1,\n",
    ")"
   ]
  },
  {
   "cell_type": "code",
   "execution_count": null,
   "metadata": {},
   "outputs": [],
   "source": [
    "accuracy_mds_concatenated = accuracy_df.query(\n",
    "    \"(embedding == 'mds') & (analysis_name == 'concatenated')\"\n",
    ").iloc[0][\"MCC\"]"
   ]
  },
  {
   "cell_type": "code",
   "execution_count": null,
   "metadata": {},
   "outputs": [],
   "source": [
    "mds_concatenated_list_of_chart = linking_tree_with_plots_brush(\n",
    "    embeddings_df,\n",
    "    [\"mds1_concatenated\", \"mds2_concatenated\"],\n",
    "    [\"MDS 1\", \"MDS 2\"],\n",
    "    \"mds_label_concatenated:N\",\n",
    "    [\"strain:N\", clade_membership, \"mds_label_concatenated:N\"],\n",
    "    mds_concatenated_label_color_domain,\n",
    "    mds_concatenated_label_color_range,\n",
    ")\n",
    "\n",
    "mds_concatenated_chart = (\n",
    "    mds_concatenated_list_of_chart[0] | (mds_concatenated_list_of_chart[1].properties(\n",
    "        title=\"MCC: \" + str(round(accuracy_mds_concatenated, 4)))\n",
    "    )\n",
    ")"
   ]
  },
  {
   "cell_type": "code",
   "execution_count": null,
   "metadata": {
    "scrolled": true
   },
   "outputs": [],
   "source": [
    "mds_final_chart = alt.vconcat(\n",
    "    mds_ha_chart,\n",
    "    mds_concatenated_chart\n",
    ").resolve_scale(\n",
    "    color=\"independent\",\n",
    ")\n",
    "mds_final_chart"
   ]
  },
  {
   "cell_type": "code",
   "execution_count": null,
   "metadata": {},
   "outputs": [],
   "source": [
    "cdict = embeddings_df[[\"strain\", \"mds_label_ha\"]].set_index(\"strain\").transpose().to_dict()\n",
    "\n",
    "for k, v in cdict.items():\n",
    "    cdict[k] = set(v.values())"
   ]
  },
  {
   "cell_type": "code",
   "execution_count": null,
   "metadata": {},
   "outputs": [],
   "source": [
    "ldict = embeddings_df[[\"strain\", clade_membership]].set_index(\"strain\").transpose().to_dict()\n",
    "\n",
    "for k, v in ldict.items():\n",
    "    ldict[k] = set(v.values())"
   ]
  },
  {
   "cell_type": "code",
   "execution_count": null,
   "metadata": {},
   "outputs": [],
   "source": [
    "precision = bcubed.precision(cdict, ldict)\n",
    "recall = bcubed.recall(cdict, ldict)\n",
    "fscore_mds = bcubed.fscore(precision, recall)"
   ]
  },
  {
   "cell_type": "code",
   "execution_count": null,
   "metadata": {},
   "outputs": [],
   "source": [
    "fscore_mds"
   ]
  },
  {
   "cell_type": "code",
   "execution_count": null,
   "metadata": {},
   "outputs": [],
   "source": [
    "mds_final_chart.save(output_mds_html)\n",
    "save(mds_final_chart, output_mds_png, scale_factor=2.0)"
   ]
  },
  {
   "cell_type": "markdown",
   "metadata": {},
   "outputs": [],
   "source": [
    "## t-SNE "
   ]
  },
  {
   "cell_type": "code",
   "execution_count": null,
   "metadata": {},
   "outputs": [],
   "source": [
    "tsne_ha_label_color_domain =  sorted(embeddings_df[\"t-sne_label_ha\"].drop_duplicates().values)"
   ]
  },
  {
   "cell_type": "code",
   "execution_count": null,
   "metadata": {},
   "outputs": [],
   "source": [
    "tsne_ha_label_color_range = build_color_range_for_domain(\n",
    "    tsne_ha_label_color_domain,\n",
    "    colors,\n",
    "    value_for_unassigned=-1,\n",
    ")"
   ]
  },
  {
   "cell_type": "code",
   "execution_count": null,
   "metadata": {},
   "outputs": [],
   "source": [
    "accuracy_tsne_ha = accuracy_df.query(\n",
    "    \"(embedding == 't-sne') & (analysis_name == 'ha')\"\n",
    ").iloc[0][\"MCC\"]"
   ]
  },
  {
   "cell_type": "code",
   "execution_count": null,
   "metadata": {},
   "outputs": [],
   "source": [
    "tsne_ha_list_of_chart = linking_tree_with_plots_brush(\n",
    "    embeddings_df,\n",
    "    [\"tsne_x_ha\", \"tsne_y_ha\"],\n",
    "    [\n",
    "        \"t-SNE 1\",\n",
    "        \"t-SNE 2\"\n",
    "    ],\n",
    "    \"t-sne_label_ha:N\",\n",
    "    [\"strain:N\", clade_membership, \"t-sne_label_ha:N\"],\n",
    "    tsne_ha_label_color_domain,\n",
    "    tsne_ha_label_color_range,\n",
    ")\n",
    "\n",
    "tsne_ha_chart = (\n",
    "    tsne_ha_list_of_chart[0] | tsne_ha_list_of_chart[1].properties(\n",
    "        title=\"MCC: \" + str(round(accuracy_tsne_ha, 4))\n",
    "    )\n",
    ")"
   ]
  },
  {
   "cell_type": "code",
   "execution_count": null,
   "metadata": {},
   "outputs": [],
   "source": [
    "tsne_concatenated_label_color_domain = sorted(embeddings_df[\"t-sne_label_concatenated\"].drop_duplicates().values)"
   ]
  },
  {
   "cell_type": "code",
   "execution_count": null,
   "metadata": {},
   "outputs": [],
   "source": [
    "tsne_concatenated_label_color_range = build_color_range_for_domain(\n",
    "    tsne_concatenated_label_color_domain,\n",
    "    colors,\n",
    "    value_for_unassigned=-1,\n",
    ")"
   ]
  },
  {
   "cell_type": "code",
   "execution_count": null,
   "metadata": {},
   "outputs": [],
   "source": [
    "accuracy_tsne_concatenated = accuracy_df.query(\n",
    "    \"(embedding == 't-sne') & (analysis_name == 'concatenated')\"\n",
    ").iloc[0][\"MCC\"]"
   ]
  },
  {
   "cell_type": "code",
   "execution_count": null,
   "metadata": {},
   "outputs": [],
   "source": [
    "tsne_concatenated_list_of_chart = linking_tree_with_plots_brush(\n",
    "    embeddings_df,\n",
    "    [\"tsne_x_concatenated\", \"tsne_y_concatenated\"],\n",
    "    [\"t-SNE 1\", \"t-SNE 2\"],\n",
    "    \"t-sne_label_concatenated:N\",\n",
    "    [\"strain:N\", clade_membership, \"t-sne_label_concatenated:N\"],\n",
    "    tsne_concatenated_label_color_domain,\n",
    "    tsne_concatenated_label_color_range,\n",
    ")\n",
    "\n",
    "tsne_concatenated_chart = (\n",
    "    tsne_concatenated_list_of_chart[0] | (tsne_concatenated_list_of_chart[1].properties(\n",
    "        title=\"MCC: \" + str(round(accuracy_tsne_concatenated, 4)))\n",
    "    )\n",
    ")"
   ]
  },
  {
   "cell_type": "code",
   "execution_count": null,
   "metadata": {},
   "outputs": [],
   "source": [
    "tsne_final_chart = alt.vconcat(\n",
    "    tsne_ha_chart,\n",
    "    tsne_concatenated_chart\n",
    ").resolve_scale(\n",
    "    color=\"independent\",\n",
    ")\n",
    "tsne_final_chart"
   ]
  },
  {
   "cell_type": "code",
   "execution_count": null,
   "metadata": {},
   "outputs": [],
   "source": [
    "cdict = embeddings_df[[\"strain\", \"t-sne_label_ha\"]].set_index(\"strain\").transpose().to_dict()\n",
    "\n",
    "for k, v in cdict.items():\n",
    "    cdict[k] = set(v.values())"
   ]
  },
  {
   "cell_type": "code",
   "execution_count": null,
   "metadata": {},
   "outputs": [],
   "source": [
    "ldict = embeddings_df[[\"strain\", clade_membership]].set_index(\"strain\").transpose().to_dict()\n",
    "\n",
    "for k, v in ldict.items():\n",
    "    ldict[k] = set(v.values())"
   ]
  },
  {
   "cell_type": "code",
   "execution_count": null,
   "metadata": {},
   "outputs": [],
   "source": [
    "precision = bcubed.precision(cdict, ldict)\n",
    "recall = bcubed.recall(cdict, ldict)\n",
    "fscore_tsne = bcubed.fscore(precision, recall)"
   ]
  },
  {
   "cell_type": "code",
   "execution_count": null,
   "metadata": {},
   "outputs": [],
   "source": [
    "fscore_tsne"
   ]
  },
  {
   "cell_type": "code",
   "execution_count": null,
   "metadata": {},
   "outputs": [],
   "source": [
    "save(tsne_final_chart, output_tsne_html)\n",
    "save(tsne_final_chart, output_tsne_png, scale_factor=2.0)"
   ]
  },
  {
   "cell_type": "markdown",
   "metadata": {},
   "outputs": [],
   "source": [
    "## UMAP"
   ]
  },
  {
   "cell_type": "code",
   "execution_count": null,
   "metadata": {},
   "outputs": [],
   "source": [
    "umap_ha_label_color_domain =  sorted(embeddings_df[\"umap_label_ha\"].drop_duplicates().values)"
   ]
  },
  {
   "cell_type": "code",
   "execution_count": null,
   "metadata": {},
   "outputs": [],
   "source": [
    "umap_ha_label_color_range = build_color_range_for_domain(\n",
    "    umap_ha_label_color_domain,\n",
    "    colors,\n",
    "    value_for_unassigned=-1,\n",
    ")"
   ]
  },
  {
   "cell_type": "code",
   "execution_count": null,
   "metadata": {},
   "outputs": [],
   "source": [
    "accuracy_umap_ha = accuracy_df.query(\n",
    "    \"(embedding == 'umap') & (analysis_name == 'ha')\"\n",
    ").iloc[0][\"MCC\"]"
   ]
  },
  {
   "cell_type": "code",
   "execution_count": null,
   "metadata": {},
   "outputs": [],
   "source": [
    "umap_ha_list_of_chart = linking_tree_with_plots_brush(\n",
    "    embeddings_df,\n",
    "    [\"umap_x_ha\", \"umap_y_ha\"],\n",
    "    [\n",
    "        \"UMAP 1\",\n",
    "        \"UMAP 2\"\n",
    "    ],\n",
    "    \"umap_label_ha:N\",\n",
    "    [\"strain:N\", clade_membership, \"umap_label_ha:N\"],\n",
    "    umap_ha_label_color_domain,\n",
    "    umap_ha_label_color_range,\n",
    ")\n",
    "\n",
    "umap_ha_chart = (\n",
    "    umap_ha_list_of_chart[0] | umap_ha_list_of_chart[1].properties(\n",
    "        title=\"MCC: \" + str(round(accuracy_umap_ha, 4))\n",
    "    )\n",
    ")"
   ]
  },
  {
   "cell_type": "code",
   "execution_count": null,
   "metadata": {},
   "outputs": [],
   "source": [
    "umap_concatenated_label_color_domain = sorted(embeddings_df[\"umap_label_concatenated\"].drop_duplicates().values)"
   ]
  },
  {
   "cell_type": "code",
   "execution_count": null,
   "metadata": {},
   "outputs": [],
   "source": [
    "umap_concatenated_label_color_range = build_color_range_for_domain(\n",
    "    umap_concatenated_label_color_domain,\n",
    "    colors,\n",
    "    value_for_unassigned=-1,\n",
    ")"
   ]
  },
  {
   "cell_type": "code",
   "execution_count": null,
   "metadata": {},
   "outputs": [],
   "source": [
    "accuracy_umap_concatenated = accuracy_df.query(\n",
    "    \"(embedding == 'umap') & (analysis_name == 'concatenated')\"\n",
    ").iloc[0][\"MCC\"]"
   ]
  },
  {
   "cell_type": "code",
   "execution_count": null,
   "metadata": {},
   "outputs": [],
   "source": [
    "umap_concatenated_list_of_chart = linking_tree_with_plots_brush(\n",
    "    embeddings_df,\n",
    "    [\"umap_x_concatenated\", \"umap_y_concatenated\"],\n",
    "    [\"UMAP 1\", \"UMAP 2\"],\n",
    "    \"umap_label_concatenated:N\",\n",
    "    [\"strain:N\", clade_membership, \"umap_label_concatenated:N\"],\n",
    "    umap_concatenated_label_color_domain,\n",
    "    umap_concatenated_label_color_range,\n",
    ")\n",
    "\n",
    "umap_concatenated_chart = (\n",
    "    umap_concatenated_list_of_chart[0] | (umap_concatenated_list_of_chart[1].properties(\n",
    "        title=\"MCC: \" + str(round(accuracy_umap_concatenated, 4)))\n",
    "    )\n",
    ")"
   ]
  },
  {
   "cell_type": "code",
   "execution_count": null,
   "metadata": {},
   "outputs": [],
   "source": [
    "umap_final_chart = alt.vconcat(\n",
    "    umap_ha_chart,\n",
    "    umap_concatenated_chart\n",
    ").resolve_scale(\n",
    "    color=\"independent\",\n",
    ")\n",
    "umap_final_chart"
   ]
  },
  {
   "cell_type": "code",
   "execution_count": null,
   "metadata": {},
   "outputs": [],
   "source": [
    "cdict = embeddings_df[[\"strain\", \"umap_label_ha\"]].set_index(\"strain\").transpose().to_dict()\n",
    "\n",
    "for k, v in cdict.items():\n",
    "    cdict[k] = set(v.values())"
   ]
  },
  {
   "cell_type": "code",
   "execution_count": null,
   "metadata": {},
   "outputs": [],
   "source": [
    "ldict = embeddings_df[[\"strain\", clade_membership]].set_index(\"strain\").transpose().to_dict()\n",
    "\n",
    "for k, v in ldict.items():\n",
    "    ldict[k] = set(v.values())"
   ]
  },
  {
   "cell_type": "code",
   "execution_count": null,
   "metadata": {},
   "outputs": [],
   "source": [
    "precision = bcubed.precision(cdict, ldict)\n",
    "recall = bcubed.recall(cdict, ldict)\n",
    "fscore_umap = bcubed.fscore(precision, recall)"
   ]
  },
  {
   "cell_type": "code",
   "execution_count": null,
   "metadata": {},
   "outputs": [],
   "source": [
    "fscore_umap"
   ]
  },
  {
   "cell_type": "code",
   "execution_count": null,
   "metadata": {},
   "outputs": [],
   "source": [
    "save(umap_final_chart, output_umap_html)\n",
    "save(umap_final_chart, output_umap_png, scale_factor=2.0)"
   ]
  },
  {
   "cell_type": "markdown",
   "metadata": {},
   "outputs": [],
   "source": [
    "## All embeddings by clade membership"
   ]
  },
  {
   "cell_type": "code",
   "execution_count": null,
   "metadata": {
    "scrolled": true
   },
   "outputs": [],
   "source": [
    "# TODO:\n",
    "# - Add MCC accuracies as titles per plot\n",
    "charts = linking_tree_with_plots_brush(\n",
    "    embeddings_df,\n",
    "    [\n",
    "        'mds1_concatenated',\n",
    "        'mds2_concatenated',\n",
    "        'mds1_ha',\n",
    "        'mds2_ha',\n",
    "        'tsne_x_concatenated',\n",
    "        'tsne_y_concatenated',\n",
    "        'tsne_x_ha',\n",
    "        'tsne_y_ha',\n",
    "        'pca1_concatenated',\n",
    "        'pca2_concatenated',\n",
    "        'pca1_ha',\n",
    "        'pca2_ha',\n",
    "        'umap_x_concatenated',\n",
    "        'umap_y_concatenated',\n",
    "        'umap_x_ha',\n",
    "        'umap_y_ha',\n",
    "    ],\n",
    "    [\n",
    "        'MDS 1',\n",
    "        'MDS 2',\n",
    "        'MDS 1',\n",
    "        'MDS 2',\n",
    "        't-SNE 1',\n",
    "        't-SNE 2',\n",
    "        't-SNE 1',\n",
    "        't-SNE 2', \n",
    "        'PC 1 (Expected Variance: {}%'.format(round(explained_variance_pca_concatenated_values[0]*100,2)) + \")\",\n",
    "        'PC 2 (Expected Variance: {}%'.format(round(explained_variance_pca_concatenated_values[1]*100,2)) + \")\",\n",
    "        'PC 1 (Expected Variance: {}%'.format(round(explained_variance_pca_ha_values[0]*100,2)) + \")\",\n",
    "        'PC 2 (Expected Variance: {}%'.format(round(explained_variance_pca_ha_values[1]*100,2)) + \")\",\n",
    "        'UMAP 1',\n",
    "        'UMAP 2',\n",
    "        'UMAP 1',\n",
    "        'UMAP 2',\n",
    "    ],\n",
    "    clade_membership+\":N\",\n",
    "    ['strain', clade_membership],\n",
    "    clade_color_domain,\n",
    "    clade_color_range,\n",
    ")"
   ]
  },
  {
   "cell_type": "code",
   "execution_count": null,
   "metadata": {
    "scrolled": true
   },
   "outputs": [],
   "source": [
    "chart_embeddings = alt.vconcat(\n",
    "    charts[0],\n",
    "    charts[6].properties(title=[\"HA only\", \"MCC: \" + str(round(accuracy_pca_ha, 4))]) | charts[5].properties(title=[\"HA and NA\", \"MCC: \" + str(round(accuracy_pca_concatenated, 4))]),\n",
    "    charts[2].properties(title=\"MCC: \" + str(round(accuracy_mds_ha, 4))) | charts[1].properties(title=\"MCC: \" + str(round(accuracy_mds_concatenated, 4))),\n",
    "    charts[4].properties(title=\"MCC: \" + str(round(accuracy_tsne_ha, 4))) | charts[3].properties(title=\"MCC: \" + str(round(accuracy_tsne_concatenated, 4))),\n",
    "    charts[8].properties(title=\"MCC: \" + str(round(accuracy_umap_ha, 4))) | charts[7].properties(title=\"MCC: \" + str(round(accuracy_umap_concatenated, 4)))\n",
    ")\n",
    "chart_embeddings"
   ]
  },
  {
   "cell_type": "code",
   "execution_count": null,
   "metadata": {
    "scrolled": true
   },
   "outputs": [],
   "source": [
    "chart_embeddings.save(output_full_html)\n",
    "save(chart_embeddings, output_full_png, scale_factor=2.0)"
   ]
  },
  {
   "cell_type": "code",
   "execution_count": null,
   "metadata": {},
   "outputs": [],
   "source": [
    "print(\"the FIRST value is the fscore, the second is the MCC.\")\n",
    "print(\"pca_ha:\")\n",
    "print(fscore_pca)\n",
    "print(accuracy_pca_ha)\n",
    "print(\"mds_ha:\")\n",
    "print(fscore_mds)\n",
    "print(accuracy_mds_ha)\n",
    "print(\"t-sne_ha:\")\n",
    "print(fscore_tsne)\n",
    "print(accuracy_tsne_ha)\n",
    "print(\"umap_ha:\")\n",
    "print(fscore_umap)\n",
    "print(accuracy_umap_ha)"
   ]
  },
  {
   "cell_type": "code",
   "execution_count": null,
   "metadata": {},
   "outputs": [],
   "source": []
  }
 ],
 "metadata": {
  "kernelspec": {
   "display_name": "Python 3 (ipykernel)",
   "language": "python",
   "name": "python3"
  },
  "language_info": {
   "codemirror_mode": {
    "name": "ipython",
    "version": 3
   },
   "file_extension": ".py",
   "mimetype": "text/x-python",
   "name": "python",
   "nbconvert_exporter": "python",
   "pygments_lexer": "ipython3",
   "version": "3.7.12"
  }
 },
 "nbformat": 4,
 "nbformat_minor": 4
}
