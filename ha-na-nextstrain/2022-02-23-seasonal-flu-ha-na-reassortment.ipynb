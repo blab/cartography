{
 "cells": [
  {
   "cell_type": "markdown",
   "id": "1fdb93cd",
   "metadata": {},
   "source": [
    "## Imports"
   ]
  },
  {
   "cell_type": "code",
   "execution_count": null,
   "id": "67baebc4",
   "metadata": {
    "scrolled": true
   },
   "outputs": [],
   "source": [
    "import sys\n",
    "sys.path.append(\"notebooks/scripts/\")"
   ]
  },
  {
   "cell_type": "code",
   "execution_count": null,
   "id": "d045cc5b",
   "metadata": {
    "scrolled": true
   },
   "outputs": [],
   "source": [
    "import altair as alt\n",
    "import matplotlib as mpl\n",
    "import matplotlib.pyplot as plt\n",
    "import pandas as pd\n",
    "import seaborn as sns\n",
    "\n",
    "from Helpers import linking_tree_with_plots_brush\n",
    "\n",
    "%matplotlib inline"
   ]
  },
  {
   "cell_type": "markdown",
   "id": "16f1ca66",
   "metadata": {},
   "source": [
    "## Define inputs, outputs, and parameters"
   ]
  },
  {
   "cell_type": "code",
   "execution_count": null,
   "id": "a81ed6e3",
   "metadata": {
    "scrolled": true
   },
   "outputs": [],
   "source": [
    "colors_path = snakemake.input.colors\n",
    "embeddings_path = snakemake.input.annotated_embeddings\n",
    "accuracy_path_ha = snakemake.input.accuracy_table_ha\n",
    "accuracy_path_concatenated = snakemake.input.accuracy_table_concatenated\n",
    "\n",
    "explained_variance_pca_ha = snakemake.input.explained_variance_pca_ha\n",
    "explained_variance_pca_concatenated = snakemake.input.explained_variance_pca_concatenated\n",
    "\n",
    "output_pca_html = snakemake.output.HANAFullChartBrushablePCAHTML\n",
    "output_pca_png = snakemake.output.HANAFullChartBrushablePCAPNG\n",
    "output_mds_html = snakemake.output.HANAFullChartBrushableMDSHTML\n",
    "output_mds_png = snakemake.output.HANAFullChartBrushableMDSPNG\n",
    "output_tsne_html = snakemake.output.HANAFullChartBrushableTSNEHTML\n",
    "output_tsne_png = snakemake.output.HANAFullChartBrushableTSNEPNG\n",
    "output_umap_html = snakemake.output.HANAFullChartBrushableUMAPHTML\n",
    "output_umap_png = snakemake.output.HANAFullChartBrushableUMAPPNG\n",
    "output_full_html = snakemake.output.fullChartHTML\n",
    "output_full_png = snakemake.output.fullChartPNG"
   ]
  },
  {
   "cell_type": "code",
   "execution_count": null,
   "id": "a7adb808",
   "metadata": {},
   "outputs": [],
   "source": [
    "accuracy_column = snakemake.params.accuracy_column"
   ]
  },
  {
   "cell_type": "code",
   "execution_count": null,
   "id": "38d8eae1",
   "metadata": {
    "scrolled": true
   },
   "outputs": [],
   "source": [
    "alt.renderers.set_embed_options(\n",
    "    padding={\"left\": 0, \"right\": 0, \"bottom\": 1, \"top\": 1}\n",
    ")"
   ]
  },
  {
   "cell_type": "markdown",
   "id": "048fa326",
   "metadata": {},
   "source": [
    "## Load data"
   ]
  },
  {
   "cell_type": "code",
   "execution_count": null,
   "id": "a188d687",
   "metadata": {
    "scrolled": true
   },
   "outputs": [],
   "source": [
    "colors = pd.read_csv(colors_path, sep=\"\\t\", names=[i for i in range(0,101)], nrows=101)"
   ]
  },
  {
   "cell_type": "code",
   "execution_count": null,
   "id": "f9d6b672",
   "metadata": {
    "scrolled": true
   },
   "outputs": [],
   "source": [
    "embeddings_df = pd.read_csv(embeddings_path, sep=\"\\t\")"
   ]
  },
  {
   "cell_type": "code",
   "execution_count": null,
   "id": "faaf1dd9",
   "metadata": {},
   "outputs": [],
   "source": [
    "embeddings_df.rename(\n",
    "    columns={\n",
    "        \"y_value\": \"y\",\n",
    "        \"num_date\": \"date\",\n",
    "    },\n",
    "    inplace=True\n",
    ")"
   ]
  },
  {
   "cell_type": "code",
   "execution_count": null,
   "id": "e2447af1",
   "metadata": {},
   "outputs": [],
   "source": [
    "embeddings_df.head()"
   ]
  },
  {
   "cell_type": "code",
   "execution_count": null,
   "id": "0b4404a1",
   "metadata": {},
   "outputs": [],
   "source": [
    "# Parametrizing node_df\n",
    "clade_membership = \"MCC\""
   ]
  },
  {
   "cell_type": "code",
   "execution_count": null,
   "id": "4cdec179",
   "metadata": {},
   "outputs": [],
   "source": [
    "accuracy_df_ha = pd.read_csv(accuracy_path_ha)"
   ]
  },
  {
   "cell_type": "code",
   "execution_count": null,
   "id": "10ee083a",
   "metadata": {},
   "outputs": [],
   "source": [
    "accuracy_df_ha"
   ]
  },
  {
   "cell_type": "code",
   "execution_count": null,
   "id": "5ac6159e",
   "metadata": {},
   "outputs": [],
   "source": [
    "accuracy_df_concatenated = pd.read_csv(accuracy_path_concatenated)"
   ]
  },
  {
   "cell_type": "code",
   "execution_count": null,
   "id": "01024873",
   "metadata": {},
   "outputs": [],
   "source": [
    "accuracy_df_concatenated"
   ]
  },
  {
   "cell_type": "code",
   "execution_count": null,
   "id": "b44c6335",
   "metadata": {},
   "outputs": [],
   "source": [
    "explained_variance_df_ha = pd.read_csv(explained_variance_pca_ha)"
   ]
  },
  {
   "cell_type": "code",
   "execution_count": null,
   "id": "c1b7f47e",
   "metadata": {},
   "outputs": [],
   "source": [
    "explained_variance_df_ha"
   ]
  },
  {
   "cell_type": "code",
   "execution_count": null,
   "id": "7bcc04b2",
   "metadata": {},
   "outputs": [],
   "source": [
    "explained_variance_pca_ha_values = explained_variance_df_ha[\"explained variance\"].values.tolist()"
   ]
  },
  {
   "cell_type": "code",
   "execution_count": null,
   "id": "518de884",
   "metadata": {},
   "outputs": [],
   "source": [
    "explained_variance_pca_ha_values"
   ]
  },
  {
   "cell_type": "code",
   "execution_count": null,
   "id": "10f2e94d",
   "metadata": {},
   "outputs": [],
   "source": [
    "explained_variance_df_concatenated = pd.read_csv(explained_variance_pca_concatenated)"
   ]
  },
  {
   "cell_type": "code",
   "execution_count": null,
   "id": "5799e5af",
   "metadata": {},
   "outputs": [],
   "source": [
    "explained_variance_df_concatenated"
   ]
  },
  {
   "cell_type": "code",
   "execution_count": null,
   "id": "28dcdd3d",
   "metadata": {},
   "outputs": [],
   "source": [
    "explained_variance_pca_concatenated_values = explained_variance_df_concatenated[\"explained variance\"].values.tolist()\n"
   ]
  },
  {
   "cell_type": "code",
   "execution_count": null,
   "id": "99287e63",
   "metadata": {},
   "outputs": [],
   "source": [
    "explained_variance_pca_concatenated_values"
   ]
  },
  {
   "cell_type": "markdown",
   "id": "9ca6b146",
   "metadata": {},
   "source": [
    "## Build color scales"
   ]
  },
  {
   "cell_type": "code",
   "execution_count": null,
   "id": "7eca3f75",
   "metadata": {},
   "outputs": [],
   "source": [
    "def build_color_range_for_domain(domain, colors, value_for_unassigned=None):\n",
    "    # Rows are zero-indexed, so to get N colors, we select row N - 1.\n",
    "    # When we want N - 1 colors after excluding an \"unassigned\" value,\n",
    "    # we select N - 1 - 1.\n",
    "    if value_for_unassigned is not None and value_for_unassigned in domain:\n",
    "        range_ = colors.loc[len(domain) - 1 - 1].dropna().values.tolist()\n",
    "\n",
    "        # Replace known values for \"unassigned\" clade or cluster labels.\n",
    "        index_for_unassigned = domain.index(value_for_unassigned)\n",
    "        range_.insert(index_for_unassigned, \"#999999\")\n",
    "    else:\n",
    "        range_ = colors.loc[len(domain) - 1].dropna().values.tolist()\n",
    "        \n",
    "    return range_"
   ]
  },
  {
   "cell_type": "code",
   "execution_count": null,
   "id": "2e83f05c",
   "metadata": {},
   "outputs": [],
   "source": [
    "clade_color_domain = [\n",
    "    clade\n",
    "    for clade in embeddings_df[clade_membership].drop_duplicates().tolist()\n",
    "    if clade != \"unassigned\"\n",
    "]"
   ]
  },
  {
   "cell_type": "code",
   "execution_count": null,
   "id": "75f8ef80",
   "metadata": {},
   "outputs": [],
   "source": [
    "clade_color_range = build_color_range_for_domain(clade_color_domain, colors)"
   ]
  },
  {
   "cell_type": "code",
   "execution_count": null,
   "id": "f32d2154",
   "metadata": {},
   "outputs": [],
   "source": [
    "zip(*sorted(\n",
    "    zip(\n",
    "        clade_color_domain,\n",
    "        clade_color_range\n",
    "    ),\n",
    "    key=lambda item: int(item[0].split(\"_\")[1])\n",
    "))"
   ]
  },
  {
   "cell_type": "code",
   "execution_count": null,
   "id": "54c5ba72",
   "metadata": {},
   "outputs": [],
   "source": [
    "clade_color_domain, clade_color_range = zip(\n",
    "    *sorted(\n",
    "        zip(\n",
    "            clade_color_domain,\n",
    "            clade_color_range\n",
    "        ),\n",
    "        key=lambda item: int(item[0].split(\"_\")[1])\n",
    "    )\n",
    ")"
   ]
  },
  {
   "cell_type": "code",
   "execution_count": null,
   "id": "ff5d9e0c",
   "metadata": {},
   "outputs": [],
   "source": [
    "clade_color_domain = [\"unassigned\"] + list(clade_color_domain)"
   ]
  },
  {
   "cell_type": "code",
   "execution_count": null,
   "id": "f477db69",
   "metadata": {},
   "outputs": [],
   "source": [
    "clade_color_range = [\"#999999\"] + list(clade_color_range)"
   ]
  },
  {
   "cell_type": "code",
   "execution_count": null,
   "id": "569394f1",
   "metadata": {},
   "outputs": [],
   "source": [
    "clade_color_domain"
   ]
  },
  {
   "cell_type": "code",
   "execution_count": null,
   "id": "7233cb5c",
   "metadata": {},
   "outputs": [],
   "source": [
    "clade_color_range"
   ]
  },
  {
   "cell_type": "markdown",
   "id": "ef4f7ed0",
   "metadata": {},
   "source": [
    "## PCA"
   ]
  },
  {
   "cell_type": "code",
   "execution_count": null,
   "id": "932dda99",
   "metadata": {},
   "outputs": [],
   "source": [
    "pca_ha_label_color_domain =  sorted(embeddings_df[\"pca_ha_label\"].drop_duplicates().values)"
   ]
  },
  {
   "cell_type": "code",
   "execution_count": null,
   "id": "3bf970f0",
   "metadata": {},
   "outputs": [],
   "source": [
    "pca_ha_label_color_range = build_color_range_for_domain(\n",
    "    pca_ha_label_color_domain,\n",
    "    colors,\n",
    "    value_for_unassigned=-1,\n",
    ")"
   ]
  },
  {
   "cell_type": "code",
   "execution_count": null,
   "id": "c0578ef0",
   "metadata": {},
   "outputs": [],
   "source": [
    "accuracy_pca_ha = accuracy_df_ha.query(\"method == 'pca'\").iloc[0][accuracy_column]"
   ]
  },
  {
   "cell_type": "code",
   "execution_count": null,
   "id": "d43accd4",
   "metadata": {},
   "outputs": [],
   "source": [
    "accuracy_pca_ha"
   ]
  },
  {
   "cell_type": "code",
   "execution_count": null,
   "id": "141b8a0a",
   "metadata": {},
   "outputs": [],
   "source": [
    "pca_ha_list_of_chart = linking_tree_with_plots_brush(\n",
    "    embeddings_df,\n",
    "    [\"pca1_ha\", \"pca2_ha\"],\n",
    "    [\n",
    "        f\"PC 1 (Explained variance: {round(explained_variance_pca_ha_values[0] * 100, 2)}%)\",\n",
    "        f\"PC 2 (Explained variance: {round(explained_variance_pca_ha_values[1] * 100, 2)}%)\"\n",
    "    ],\n",
    "    \"pca_ha_label:N\",\n",
    "    \"PCA cluster\",\n",
    "    [\"strain:N\", clade_membership, \"pca_ha_label:N\"],\n",
    "    pca_ha_label_color_domain,\n",
    "    pca_ha_label_color_range,\n",
    ")\n",
    "\n",
    "pca_ha_chart = (\n",
    "    pca_ha_list_of_chart[0] | pca_ha_list_of_chart[1].properties(\n",
    "        title=\"Normalized VI: \" + str(round(accuracy_pca_ha, 2))\n",
    "    )\n",
    ")"
   ]
  },
  {
   "cell_type": "code",
   "execution_count": null,
   "id": "4cb0152f",
   "metadata": {},
   "outputs": [],
   "source": [
    "pca_concatenated_label_color_domain = sorted(embeddings_df[\"pca_concatenated_label\"].drop_duplicates().values)"
   ]
  },
  {
   "cell_type": "code",
   "execution_count": null,
   "id": "2aadc42d",
   "metadata": {},
   "outputs": [],
   "source": [
    "pca_concatenated_label_color_range = build_color_range_for_domain(\n",
    "    pca_concatenated_label_color_domain,\n",
    "    colors,\n",
    "    value_for_unassigned=-1,\n",
    ")"
   ]
  },
  {
   "cell_type": "code",
   "execution_count": null,
   "id": "fc8412fd",
   "metadata": {},
   "outputs": [],
   "source": [
    "accuracy_pca_concatenated = accuracy_df_concatenated.query(\"method == 'pca'\").iloc[0][accuracy_column]"
   ]
  },
  {
   "cell_type": "code",
   "execution_count": null,
   "id": "666605a0",
   "metadata": {},
   "outputs": [],
   "source": [
    "accuracy_pca_concatenated"
   ]
  },
  {
   "cell_type": "code",
   "execution_count": null,
   "id": "5a053b76",
   "metadata": {},
   "outputs": [],
   "source": [
    "pca_concatenated_list_of_chart = linking_tree_with_plots_brush(\n",
    "    embeddings_df,\n",
    "    [\"pca1_concatenated\", \"pca2_concatenated\"],\n",
    "    [\n",
    "        f\"PC 1 (Explained variance: {round(explained_variance_pca_concatenated_values[0] * 100, 2)}%)\",\n",
    "        f\"PC 2 (Explained variance: {round(explained_variance_pca_concatenated_values[1] * 100, 2)}%)\",\n",
    "    ],\n",
    "    \"pca_concatenated_label:N\",\n",
    "    \"PCA cluster\",\n",
    "    [\"strain:N\", clade_membership, \"pca_concatenated_label:N\"],\n",
    "    pca_concatenated_label_color_domain,\n",
    "    pca_concatenated_label_color_range,\n",
    ")\n",
    "\n",
    "pca_concatenated_chart = (\n",
    "    pca_concatenated_list_of_chart[0] | (pca_concatenated_list_of_chart[1].properties(\n",
    "        title=\"Normalized VI: \" + str(round(accuracy_pca_concatenated, 2)))\n",
    "    )\n",
    ")"
   ]
  },
  {
   "cell_type": "code",
   "execution_count": null,
   "id": "469a1e2f",
   "metadata": {
    "scrolled": false
   },
   "outputs": [],
   "source": [
    "pca_final_chart = alt.vconcat(\n",
    "    pca_ha_chart,\n",
    "    pca_concatenated_chart\n",
    ").resolve_scale(\n",
    "    color=\"independent\",\n",
    ")\n",
    "pca_final_chart"
   ]
  },
  {
   "cell_type": "code",
   "execution_count": null,
   "id": "4283b4ea",
   "metadata": {},
   "outputs": [],
   "source": [
    "embeddings_df.columns"
   ]
  },
  {
   "cell_type": "code",
   "execution_count": null,
   "id": "fb998970",
   "metadata": {},
   "outputs": [],
   "source": [
    "pca_final_chart.save(output_pca_html)\n",
    "pca_final_chart.save(output_pca_png, format=\"png\", scale_factor=2.0)"
   ]
  },
  {
   "cell_type": "markdown",
   "id": "9d0e3680",
   "metadata": {},
   "source": [
    "## MDS"
   ]
  },
  {
   "cell_type": "code",
   "execution_count": null,
   "id": "e5d00fb2",
   "metadata": {
    "scrolled": true
   },
   "outputs": [],
   "source": [
    "mds_ha_label_color_domain =  sorted(embeddings_df[\"mds_ha_label\"].drop_duplicates().values)"
   ]
  },
  {
   "cell_type": "code",
   "execution_count": null,
   "id": "542f6e93",
   "metadata": {},
   "outputs": [],
   "source": [
    "mds_ha_label_color_range = build_color_range_for_domain(\n",
    "    mds_ha_label_color_domain,\n",
    "    colors,\n",
    "    value_for_unassigned=-1,\n",
    ")"
   ]
  },
  {
   "cell_type": "code",
   "execution_count": null,
   "id": "98f3440f",
   "metadata": {},
   "outputs": [],
   "source": [
    "accuracy_mds_ha = accuracy_df_ha.query(\"method == 'mds'\").iloc[0][accuracy_column]"
   ]
  },
  {
   "cell_type": "code",
   "execution_count": null,
   "id": "4f606db0",
   "metadata": {},
   "outputs": [],
   "source": [
    "accuracy_mds_ha"
   ]
  },
  {
   "cell_type": "code",
   "execution_count": null,
   "id": "68e10d6f",
   "metadata": {},
   "outputs": [],
   "source": [
    "mds_ha_list_of_chart = linking_tree_with_plots_brush(\n",
    "    embeddings_df,\n",
    "    [\"mds1_ha\", \"mds2_ha\"],\n",
    "    [\n",
    "        \"MDS 1\",\n",
    "        \"MDS 2\"\n",
    "    ],\n",
    "    \"mds_ha_label:N\",\n",
    "    \"MDS cluster\",\n",
    "    [\"strain:N\", clade_membership, \"mds_ha_label:N\"],\n",
    "    mds_ha_label_color_domain,\n",
    "    mds_ha_label_color_range,\n",
    "    legend_columns=2,\n",
    ")\n",
    "\n",
    "mds_ha_chart = (\n",
    "    mds_ha_list_of_chart[0] | mds_ha_list_of_chart[1].properties(\n",
    "        title=\"Normalized VI: \" + str(round(accuracy_mds_ha, 2))\n",
    "    )\n",
    ")"
   ]
  },
  {
   "cell_type": "code",
   "execution_count": null,
   "id": "a6d3f0db",
   "metadata": {},
   "outputs": [],
   "source": [
    "mds_concatenated_label_color_domain = sorted(embeddings_df[\"mds_concatenated_label\"].drop_duplicates().values)"
   ]
  },
  {
   "cell_type": "code",
   "execution_count": null,
   "id": "4c916832",
   "metadata": {},
   "outputs": [],
   "source": [
    "mds_concatenated_label_color_range = build_color_range_for_domain(\n",
    "    mds_concatenated_label_color_domain,\n",
    "    colors,\n",
    "    value_for_unassigned=-1,\n",
    ")"
   ]
  },
  {
   "cell_type": "code",
   "execution_count": null,
   "id": "83047aca",
   "metadata": {},
   "outputs": [],
   "source": [
    "accuracy_mds_concatenated = accuracy_df_concatenated.query(\"method == 'mds'\").iloc[0][accuracy_column]"
   ]
  },
  {
   "cell_type": "code",
   "execution_count": null,
   "id": "47c0d0bd",
   "metadata": {},
   "outputs": [],
   "source": [
    "accuracy_mds_concatenated"
   ]
  },
  {
   "cell_type": "code",
   "execution_count": null,
   "id": "a6e13466",
   "metadata": {},
   "outputs": [],
   "source": [
    "mds_concatenated_list_of_chart = linking_tree_with_plots_brush(\n",
    "    embeddings_df,\n",
    "    [\"mds1_concatenated\", \"mds2_concatenated\"],\n",
    "    [\"MDS 1\", \"MDS 2\"],\n",
    "    \"mds_concatenated_label:N\",\n",
    "    \"MDS cluster\",\n",
    "    [\"strain:N\", clade_membership, \"mds_concatenated_label:N\"],\n",
    "    mds_concatenated_label_color_domain,\n",
    "    mds_concatenated_label_color_range,\n",
    "    legend_columns=2,\n",
    ")\n",
    "\n",
    "mds_concatenated_chart = (\n",
    "    mds_concatenated_list_of_chart[0] | (mds_concatenated_list_of_chart[1].properties(\n",
    "        title=\"Normalized VI: \" + str(round(accuracy_mds_concatenated, 2)))\n",
    "    )\n",
    ")"
   ]
  },
  {
   "cell_type": "code",
   "execution_count": null,
   "id": "aec91303",
   "metadata": {
    "scrolled": true
   },
   "outputs": [],
   "source": [
    "mds_final_chart = alt.vconcat(\n",
    "    mds_ha_chart,\n",
    "    mds_concatenated_chart\n",
    ").resolve_scale(\n",
    "    color=\"independent\",\n",
    ")\n",
    "mds_final_chart"
   ]
  },
  {
   "cell_type": "code",
   "execution_count": null,
   "id": "51c0b076",
   "metadata": {},
   "outputs": [],
   "source": [
    "mds_final_chart.save(output_mds_html)\n",
    "mds_final_chart.save(output_mds_png, format=\"png\", scale_factor=2.0)"
   ]
  },
  {
   "cell_type": "markdown",
   "id": "f41ad492",
   "metadata": {},
   "source": [
    "## t-SNE "
   ]
  },
  {
   "cell_type": "code",
   "execution_count": null,
   "id": "343c148d",
   "metadata": {},
   "outputs": [],
   "source": [
    "tsne_ha_label_color_domain =  sorted(embeddings_df[\"t-sne_ha_label\"].drop_duplicates().values)"
   ]
  },
  {
   "cell_type": "code",
   "execution_count": null,
   "id": "a2208b02",
   "metadata": {},
   "outputs": [],
   "source": [
    "tsne_ha_label_color_range = build_color_range_for_domain(\n",
    "    tsne_ha_label_color_domain,\n",
    "    colors,\n",
    "    value_for_unassigned=-1,\n",
    ")"
   ]
  },
  {
   "cell_type": "code",
   "execution_count": null,
   "id": "02dc63a3",
   "metadata": {},
   "outputs": [],
   "source": [
    "accuracy_tsne_ha = accuracy_df_ha.query(\"method == 't-sne'\").iloc[0][accuracy_column]"
   ]
  },
  {
   "cell_type": "code",
   "execution_count": null,
   "id": "1874419c",
   "metadata": {},
   "outputs": [],
   "source": [
    "accuracy_tsne_ha"
   ]
  },
  {
   "cell_type": "code",
   "execution_count": null,
   "id": "4242a7ef",
   "metadata": {},
   "outputs": [],
   "source": [
    "tsne_ha_list_of_chart = linking_tree_with_plots_brush(\n",
    "    embeddings_df,\n",
    "    [\"tsne_x_ha\", \"tsne_y_ha\"],\n",
    "    [\n",
    "        \"t-SNE 1\",\n",
    "        \"t-SNE 2\"\n",
    "    ],\n",
    "    \"t-sne_ha_label:N\",\n",
    "    \"t-SNE cluster\",\n",
    "    [\"strain:N\", clade_membership, \"t-sne_ha_label:N\"],\n",
    "    tsne_ha_label_color_domain,\n",
    "    tsne_ha_label_color_range,\n",
    ")\n",
    "\n",
    "tsne_ha_chart = (\n",
    "    tsne_ha_list_of_chart[0] | tsne_ha_list_of_chart[1].properties(\n",
    "        title=\"Normalized VI: \" + str(round(accuracy_tsne_ha, 2))\n",
    "    )\n",
    ")"
   ]
  },
  {
   "cell_type": "code",
   "execution_count": null,
   "id": "da3f3add",
   "metadata": {},
   "outputs": [],
   "source": [
    "tsne_concatenated_label_color_domain = sorted(embeddings_df[\"t-sne_concatenated_label\"].drop_duplicates().values)"
   ]
  },
  {
   "cell_type": "code",
   "execution_count": null,
   "id": "73035818",
   "metadata": {},
   "outputs": [],
   "source": [
    "tsne_concatenated_label_color_range = build_color_range_for_domain(\n",
    "    tsne_concatenated_label_color_domain,\n",
    "    colors,\n",
    "    value_for_unassigned=-1,\n",
    ")"
   ]
  },
  {
   "cell_type": "code",
   "execution_count": null,
   "id": "5b1992bf",
   "metadata": {},
   "outputs": [],
   "source": [
    "accuracy_tsne_concatenated = accuracy_df_concatenated.query(\"method == 't-sne'\").iloc[0][accuracy_column]"
   ]
  },
  {
   "cell_type": "code",
   "execution_count": null,
   "id": "7bfa6a0b",
   "metadata": {},
   "outputs": [],
   "source": [
    "accuracy_tsne_concatenated"
   ]
  },
  {
   "cell_type": "code",
   "execution_count": null,
   "id": "ed77f40b",
   "metadata": {},
   "outputs": [],
   "source": [
    "tsne_concatenated_list_of_chart = linking_tree_with_plots_brush(\n",
    "    embeddings_df,\n",
    "    [\"tsne_x_concatenated\", \"tsne_y_concatenated\"],\n",
    "    [\"t-SNE 1\", \"t-SNE 2\"],\n",
    "    \"t-sne_concatenated_label:N\",\n",
    "    \"t-SNE cluster\",\n",
    "    [\"strain:N\", clade_membership, \"t-sne_concatenated_label:N\"],\n",
    "    tsne_concatenated_label_color_domain,\n",
    "    tsne_concatenated_label_color_range,\n",
    ")\n",
    "\n",
    "tsne_concatenated_chart = (\n",
    "    tsne_concatenated_list_of_chart[0] | (tsne_concatenated_list_of_chart[1].properties(\n",
    "        title=\"Normalized VI: \" + str(round(accuracy_tsne_concatenated, 2)))\n",
    "    )\n",
    ")"
   ]
  },
  {
   "cell_type": "code",
   "execution_count": null,
   "id": "c8a29ed3",
   "metadata": {},
   "outputs": [],
   "source": [
    "tsne_final_chart = alt.vconcat(\n",
    "    tsne_ha_chart,\n",
    "    tsne_concatenated_chart\n",
    ").resolve_scale(\n",
    "    color=\"independent\",\n",
    ")\n",
    "tsne_final_chart"
   ]
  },
  {
   "cell_type": "code",
   "execution_count": null,
   "id": "3321b927",
   "metadata": {},
   "outputs": [],
   "source": [
    "tsne_final_chart.save(output_tsne_html)\n",
    "tsne_final_chart.save(output_tsne_png, format=\"png\", scale_factor=2.0)"
   ]
  },
  {
   "cell_type": "markdown",
   "id": "a771a5b9",
   "metadata": {},
   "source": [
    "## UMAP"
   ]
  },
  {
   "cell_type": "code",
   "execution_count": null,
   "id": "e41317da",
   "metadata": {},
   "outputs": [],
   "source": [
    "umap_ha_label_color_domain =  sorted(embeddings_df[\"umap_ha_label\"].drop_duplicates().values)"
   ]
  },
  {
   "cell_type": "code",
   "execution_count": null,
   "id": "6feebde1",
   "metadata": {},
   "outputs": [],
   "source": [
    "umap_ha_label_color_range = build_color_range_for_domain(\n",
    "    umap_ha_label_color_domain,\n",
    "    colors,\n",
    "    value_for_unassigned=-1,\n",
    ")"
   ]
  },
  {
   "cell_type": "code",
   "execution_count": null,
   "id": "388338d7",
   "metadata": {},
   "outputs": [],
   "source": [
    "accuracy_umap_ha = accuracy_df_ha.query(\"method == 'umap'\").iloc[0][accuracy_column]"
   ]
  },
  {
   "cell_type": "code",
   "execution_count": null,
   "id": "530ee834",
   "metadata": {},
   "outputs": [],
   "source": [
    "accuracy_umap_ha"
   ]
  },
  {
   "cell_type": "code",
   "execution_count": null,
   "id": "1a456797",
   "metadata": {},
   "outputs": [],
   "source": [
    "umap_ha_list_of_chart = linking_tree_with_plots_brush(\n",
    "    embeddings_df,\n",
    "    [\"umap_x_ha\", \"umap_y_ha\"],\n",
    "    [\n",
    "        \"UMAP 1\",\n",
    "        \"UMAP 2\"\n",
    "    ],\n",
    "    \"umap_ha_label:N\",\n",
    "    \"UMAP cluster\",\n",
    "    [\"strain:N\", clade_membership, \"umap_ha_label:N\"],\n",
    "    umap_ha_label_color_domain,\n",
    "    umap_ha_label_color_range,\n",
    ")\n",
    "\n",
    "umap_ha_chart = (\n",
    "    umap_ha_list_of_chart[0] | umap_ha_list_of_chart[1].properties(\n",
    "        title=\"Normalized VI: \" + str(round(accuracy_umap_ha, 2))\n",
    "    )\n",
    ")"
   ]
  },
  {
   "cell_type": "code",
   "execution_count": null,
   "id": "44e6af2c",
   "metadata": {},
   "outputs": [],
   "source": [
    "umap_concatenated_label_color_domain = sorted(embeddings_df[\"umap_concatenated_label\"].drop_duplicates().values)"
   ]
  },
  {
   "cell_type": "code",
   "execution_count": null,
   "id": "f53fd36a",
   "metadata": {},
   "outputs": [],
   "source": [
    "umap_concatenated_label_color_range = build_color_range_for_domain(\n",
    "    umap_concatenated_label_color_domain,\n",
    "    colors,\n",
    "    value_for_unassigned=-1,\n",
    ")"
   ]
  },
  {
   "cell_type": "code",
   "execution_count": null,
   "id": "b7ba5312",
   "metadata": {},
   "outputs": [],
   "source": [
    "accuracy_umap_concatenated = accuracy_df_concatenated.query(\"method == 'umap'\").iloc[0][accuracy_column]"
   ]
  },
  {
   "cell_type": "code",
   "execution_count": null,
   "id": "a3a9e8f2",
   "metadata": {},
   "outputs": [],
   "source": [
    "accuracy_umap_concatenated"
   ]
  },
  {
   "cell_type": "code",
   "execution_count": null,
   "id": "a1ca4ec3",
   "metadata": {},
   "outputs": [],
   "source": [
    "umap_concatenated_list_of_chart = linking_tree_with_plots_brush(\n",
    "    embeddings_df,\n",
    "    [\"umap_x_concatenated\", \"umap_y_concatenated\"],\n",
    "    [\"UMAP 1\", \"UMAP 2\"],\n",
    "    \"umap_concatenated_label:N\",\n",
    "    \"UMAP cluster\",\n",
    "    [\"strain:N\", clade_membership, \"umap_concatenated_label:N\"],\n",
    "    umap_concatenated_label_color_domain,\n",
    "    umap_concatenated_label_color_range,\n",
    ")\n",
    "\n",
    "umap_concatenated_chart = (\n",
    "    umap_concatenated_list_of_chart[0] | (umap_concatenated_list_of_chart[1].properties(\n",
    "        title=\"Normalized VI: \" + str(round(accuracy_umap_concatenated, 2)))\n",
    "    )\n",
    ")"
   ]
  },
  {
   "cell_type": "code",
   "execution_count": null,
   "id": "3c06a65f",
   "metadata": {},
   "outputs": [],
   "source": [
    "umap_final_chart = alt.vconcat(\n",
    "    umap_ha_chart,\n",
    "    umap_concatenated_chart\n",
    ").resolve_scale(\n",
    "    color=\"independent\",\n",
    ")\n",
    "umap_final_chart"
   ]
  },
  {
   "cell_type": "code",
   "execution_count": null,
   "id": "66cdef97",
   "metadata": {},
   "outputs": [],
   "source": [
    "umap_final_chart.save(output_umap_html)\n",
    "umap_final_chart.save(output_umap_png, format=\"png\", scale_factor=2.0)"
   ]
  },
  {
   "cell_type": "markdown",
   "id": "9df5cf84",
   "metadata": {},
   "source": [
    "## All embeddings by clade membership"
   ]
  },
  {
   "cell_type": "code",
   "execution_count": null,
   "id": "0426e0d7",
   "metadata": {
    "scrolled": true
   },
   "outputs": [],
   "source": [
    "# TODO:\n",
    "# - Add MCC accuracies as titles per plot\n",
    "charts = linking_tree_with_plots_brush(\n",
    "    embeddings_df,\n",
    "    [\n",
    "        'mds1_concatenated',\n",
    "        'mds2_concatenated',\n",
    "        'mds1_ha',\n",
    "        'mds2_ha',\n",
    "        'tsne_x_concatenated',\n",
    "        'tsne_y_concatenated',\n",
    "        'tsne_x_ha',\n",
    "        'tsne_y_ha',\n",
    "        'pca1_concatenated',\n",
    "        'pca2_concatenated',\n",
    "        'pca1_ha',\n",
    "        'pca2_ha',\n",
    "        'umap_x_concatenated',\n",
    "        'umap_y_concatenated',\n",
    "        'umap_x_ha',\n",
    "        'umap_y_ha',\n",
    "    ],\n",
    "    [\n",
    "        'MDS 1',\n",
    "        'MDS 2',\n",
    "        'MDS 1',\n",
    "        'MDS 2',\n",
    "        't-SNE 1',\n",
    "        't-SNE 2',\n",
    "        't-SNE 1',\n",
    "        't-SNE 2', \n",
    "        'PC 1 (Expected Variance: {}%'.format(round(explained_variance_pca_concatenated_values[0]*100,2)) + \")\",\n",
    "        'PC 2 (Expected Variance: {}%'.format(round(explained_variance_pca_concatenated_values[1]*100,2)) + \")\",\n",
    "        'PC 1 (Expected Variance: {}%'.format(round(explained_variance_pca_ha_values[0]*100,2)) + \")\",\n",
    "        'PC 2 (Expected Variance: {}%'.format(round(explained_variance_pca_ha_values[1]*100,2)) + \")\",\n",
    "        'UMAP 1',\n",
    "        'UMAP 2',\n",
    "        'UMAP 1',\n",
    "        'UMAP 2',\n",
    "    ],\n",
    "    clade_membership+\":N\",\n",
    "    \"Clade membership\",\n",
    "    ['strain', clade_membership],\n",
    "    clade_color_domain,\n",
    "    clade_color_range,\n",
    ")"
   ]
  },
  {
   "cell_type": "code",
   "execution_count": null,
   "id": "ef7a54dd",
   "metadata": {
    "scrolled": true
   },
   "outputs": [],
   "source": [
    "chart_embeddings = alt.vconcat(\n",
    "    charts[0],\n",
    "    charts[6].properties(title=[\"HA only\", \"Normalized VI: \" + str(round(accuracy_pca_ha, 2))]) | charts[5].properties(title=[\"HA and NA\", \"Normalized VI: \" + str(round(accuracy_pca_concatenated, 2))]),\n",
    "    charts[2].properties(title=\"Normalized VI: \" + str(round(accuracy_mds_ha, 2))) | charts[1].properties(title=\"Normalized VI: \" + str(round(accuracy_mds_concatenated, 2))),\n",
    "    charts[4].properties(title=\"Normalized VI: \" + str(round(accuracy_tsne_ha, 2))) | charts[3].properties(title=\"Normalized VI: \" + str(round(accuracy_tsne_concatenated, 2))),\n",
    "    charts[8].properties(title=\"Normalized VI: \" + str(round(accuracy_umap_ha, 2))) | charts[7].properties(title=\"Normalized VI: \" + str(round(accuracy_umap_concatenated, 2)))\n",
    ")\n",
    "chart_embeddings"
   ]
  },
  {
   "cell_type": "code",
   "execution_count": null,
   "id": "153cd95d",
   "metadata": {
    "scrolled": true
   },
   "outputs": [],
   "source": [
    "chart_embeddings.save(output_full_html)\n",
    "chart_embeddings.save(output_full_png, format=\"png\", scale_factor=2.0)"
   ]
  }
 ],
 "metadata": {
  "kernelspec": {
   "display_name": "Python 3 (ipykernel)",
   "language": "python",
   "name": "python3"
  },
  "language_info": {
   "codemirror_mode": {
    "name": "ipython",
    "version": 3
   },
   "file_extension": ".py",
   "mimetype": "text/x-python",
   "name": "python",
   "nbconvert_exporter": "python",
   "pygments_lexer": "ipython3",
   "version": "3.9.18"
  }
 },
 "nbformat": 4,
 "nbformat_minor": 5
}
