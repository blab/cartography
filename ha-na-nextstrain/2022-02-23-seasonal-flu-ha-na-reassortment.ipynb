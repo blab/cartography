{
 "cells": [
  {
   "cell_type": "markdown",
   "id": "ec68a1ba",
   "metadata": {},
   "source": [
    "## Imports"
   ]
  },
  {
   "cell_type": "code",
   "execution_count": null,
   "id": "c678886b",
   "metadata": {
    "scrolled": true
   },
   "outputs": [],
   "source": [
    "import sys\n",
    "sys.path.append(\"notebooks/scripts/\")"
   ]
  },
  {
   "cell_type": "code",
   "execution_count": null,
   "id": "993ca701",
   "metadata": {
    "scrolled": true
   },
   "outputs": [],
   "source": [
    "import altair as alt\n",
    "from augur.dates import numeric_date\n",
    "import matplotlib as mpl\n",
    "import matplotlib.pyplot as plt\n",
    "import pandas as pd\n",
    "import seaborn as sns\n",
    "\n",
    "from Helpers import linking_tree_with_plots_brush\n",
    "from Helpers import make_node_branch_widths\n",
    "\n",
    "%matplotlib inline"
   ]
  },
  {
   "cell_type": "markdown",
   "id": "22cae58c",
   "metadata": {},
   "source": [
    "## Define inputs, outputs, and parameters"
   ]
  },
  {
   "cell_type": "code",
   "execution_count": null,
   "id": "33f9d7af",
   "metadata": {
    "scrolled": true
   },
   "outputs": [],
   "source": [
    "colors_path = snakemake.input.colors\n",
    "tree_path = snakemake.input.tree\n",
    "embeddings_path = snakemake.input.annotated_embeddings\n",
    "accuracy_path_ha = snakemake.input.accuracy_table_ha\n",
    "accuracy_path_concatenated = snakemake.input.accuracy_table_concatenated\n",
    "\n",
    "explained_variance_pca_ha = snakemake.input.explained_variance_pca_ha\n",
    "explained_variance_pca_concatenated = snakemake.input.explained_variance_pca_concatenated\n",
    "\n",
    "output_pca_html = snakemake.output.HANAFullChartBrushablePCAHTML\n",
    "output_pca_png = snakemake.output.HANAFullChartBrushablePCAPNG\n",
    "output_mds_html = snakemake.output.HANAFullChartBrushableMDSHTML\n",
    "output_mds_png = snakemake.output.HANAFullChartBrushableMDSPNG\n",
    "output_tsne_html = snakemake.output.HANAFullChartBrushableTSNEHTML\n",
    "output_tsne_png = snakemake.output.HANAFullChartBrushableTSNEPNG\n",
    "output_umap_html = snakemake.output.HANAFullChartBrushableUMAPHTML\n",
    "output_umap_png = snakemake.output.HANAFullChartBrushableUMAPPNG\n",
    "output_ha_na_html = snakemake.output.HANAChartHTML\n",
    "output_ha_na_png = snakemake.output.HANAChartPNG\n",
    "output_full_html = snakemake.output.fullChartHTML\n",
    "output_full_png = snakemake.output.fullChartPNG"
   ]
  },
  {
   "cell_type": "code",
   "execution_count": null,
   "id": "e84b9adb",
   "metadata": {},
   "outputs": [],
   "source": [
    "accuracy_column = snakemake.params.accuracy_column"
   ]
  },
  {
   "cell_type": "code",
   "execution_count": null,
   "id": "4ec70d2b",
   "metadata": {
    "scrolled": true
   },
   "outputs": [],
   "source": [
    "alt.renderers.set_embed_options(\n",
    "    padding={\"left\": 0, \"right\": 0, \"bottom\": 1, \"top\": 1}\n",
    ")"
   ]
  },
  {
   "cell_type": "markdown",
   "id": "a87017eb",
   "metadata": {},
   "source": [
    "## Load data"
   ]
  },
  {
   "cell_type": "code",
   "execution_count": null,
   "id": "f2523195",
   "metadata": {},
   "outputs": [],
   "source": [
    "node_branch_widths = make_node_branch_widths(tree_path)"
   ]
  },
  {
   "cell_type": "code",
   "execution_count": null,
   "id": "7ce5ac61",
   "metadata": {
    "scrolled": true
   },
   "outputs": [],
   "source": [
    "colors = pd.read_csv(colors_path, sep=\"\\t\", names=[i for i in range(0,101)], nrows=101)"
   ]
  },
  {
   "cell_type": "code",
   "execution_count": null,
   "id": "2bb7b02d",
   "metadata": {
    "scrolled": true
   },
   "outputs": [],
   "source": [
    "embeddings_df = pd.read_csv(embeddings_path, sep=\"\\t\")"
   ]
  },
  {
   "cell_type": "code",
   "execution_count": null,
   "id": "e2447af1",
   "metadata": {},
   "outputs": [],
   "source": [
    "embeddings_df.head()"
   ]
  },
  {
   "cell_type": "code",
   "execution_count": null,
   "id": "4452de8f",
   "metadata": {},
   "outputs": [],
   "source": [
    "embeddings_df = embeddings_df.merge(\n",
    "    node_branch_widths,\n",
    "    left_on=\"strain\",\n",
    "    right_on=\"node\",\n",
    "    validate=\"1:1\",\n",
    ")"
   ]
  },
  {
   "cell_type": "code",
   "execution_count": null,
   "id": "25393232",
   "metadata": {},
   "outputs": [],
   "source": [
    "# Parametrizing node_df\n",
    "clade_membership = \"MCC\""
   ]
  },
  {
   "cell_type": "code",
   "execution_count": null,
   "id": "e534869e",
   "metadata": {},
   "outputs": [],
   "source": [
    "accuracy_df_ha = pd.read_csv(accuracy_path_ha)"
   ]
  },
  {
   "cell_type": "code",
   "execution_count": null,
   "id": "b4b5b7a3",
   "metadata": {},
   "outputs": [],
   "source": [
    "accuracy_df_ha"
   ]
  },
  {
   "cell_type": "code",
   "execution_count": null,
   "id": "85f98b86",
   "metadata": {},
   "outputs": [],
   "source": [
    "accuracy_df_concatenated = pd.read_csv(accuracy_path_concatenated)"
   ]
  },
  {
   "cell_type": "code",
   "execution_count": null,
   "id": "945c992c",
   "metadata": {},
   "outputs": [],
   "source": [
    "accuracy_df_concatenated"
   ]
  },
  {
   "cell_type": "code",
   "execution_count": null,
   "id": "2d5c27f1",
   "metadata": {},
   "outputs": [],
   "source": [
    "explained_variance_df_ha = pd.read_csv(explained_variance_pca_ha)"
   ]
  },
  {
   "cell_type": "code",
   "execution_count": null,
   "id": "34fbef74",
   "metadata": {},
   "outputs": [],
   "source": [
    "explained_variance_df_ha"
   ]
  },
  {
   "cell_type": "code",
   "execution_count": null,
   "id": "df72c3c9",
   "metadata": {},
   "outputs": [],
   "source": [
    "explained_variance_pca_ha_values = explained_variance_df_ha[\"explained variance\"].values.tolist()"
   ]
  },
  {
   "cell_type": "code",
   "execution_count": null,
   "id": "8e329e1d",
   "metadata": {},
   "outputs": [],
   "source": [
    "explained_variance_pca_ha_values"
   ]
  },
  {
   "cell_type": "code",
   "execution_count": null,
   "id": "0ba7b15e",
   "metadata": {},
   "outputs": [],
   "source": [
    "explained_variance_df_concatenated = pd.read_csv(explained_variance_pca_concatenated)"
   ]
  },
  {
   "cell_type": "code",
   "execution_count": null,
   "id": "dcb4987c",
   "metadata": {},
   "outputs": [],
   "source": [
    "explained_variance_df_concatenated"
   ]
  },
  {
   "cell_type": "code",
   "execution_count": null,
   "id": "881e2c1b",
   "metadata": {},
   "outputs": [],
   "source": [
    "explained_variance_pca_concatenated_values = explained_variance_df_concatenated[\"explained variance\"].values.tolist()\n"
   ]
  },
  {
   "cell_type": "code",
   "execution_count": null,
   "id": "c5cd8c4c",
   "metadata": {},
   "outputs": [],
   "source": [
    "explained_variance_pca_concatenated_values"
   ]
  },
  {
   "cell_type": "markdown",
   "id": "25212f3d",
   "metadata": {},
   "source": [
    "## Build color scales"
   ]
  },
  {
   "cell_type": "code",
   "execution_count": null,
   "id": "5acad8ee",
   "metadata": {},
   "outputs": [],
   "source": [
    "def build_color_range_for_domain(domain, colors, value_for_unassigned=None):\n",
    "    # Rows are zero-indexed, so to get N colors, we select row N - 1.\n",
    "    # When we want N - 1 colors after excluding an \"unassigned\" value,\n",
    "    # we select N - 1 - 1.\n",
    "    if value_for_unassigned is not None and value_for_unassigned in domain:\n",
    "        range_ = colors.loc[len(domain) - 1 - 1].dropna().values.tolist()\n",
    "\n",
    "        # Replace known values for \"unassigned\" clade or cluster labels.\n",
    "        index_for_unassigned = domain.index(value_for_unassigned)\n",
    "        range_.insert(index_for_unassigned, \"#999999\")\n",
    "    else:\n",
    "        range_ = colors.loc[len(domain) - 1].dropna().values.tolist()\n",
    "        \n",
    "    return range_"
   ]
  },
  {
   "cell_type": "code",
   "execution_count": null,
   "id": "c34f86b0",
   "metadata": {},
   "outputs": [],
   "source": [
    "clade_color_domain = [\n",
    "    clade\n",
    "    for clade in embeddings_df[clade_membership].drop_duplicates().dropna().tolist()\n",
    "    if clade != \"unassigned\"\n",
    "]"
   ]
  },
  {
   "cell_type": "code",
   "execution_count": null,
   "id": "7bf223ba",
   "metadata": {},
   "outputs": [],
   "source": [
    "clade_color_range = build_color_range_for_domain(clade_color_domain, colors)"
   ]
  },
  {
   "cell_type": "code",
   "execution_count": null,
   "id": "54c5ba72",
   "metadata": {},
   "outputs": [],
   "source": [
    "clade_color_domain, clade_color_range = zip(\n",
    "    *sorted(\n",
    "        zip(\n",
    "            clade_color_domain,\n",
    "            clade_color_range\n",
    "        ),\n",
    "        key=lambda item: int(item[0].split(\"_\")[1])\n",
    "    )\n",
    ")"
   ]
  },
  {
   "cell_type": "code",
   "execution_count": null,
   "id": "e3f1265a",
   "metadata": {},
   "outputs": [],
   "source": [
    "clade_color_domain = [\"unassigned\"] + list(clade_color_domain)"
   ]
  },
  {
   "cell_type": "code",
   "execution_count": null,
   "id": "f477db69",
   "metadata": {},
   "outputs": [],
   "source": [
    "clade_color_range = [\"#999999\"] + list(clade_color_range)"
   ]
  },
  {
   "cell_type": "code",
   "execution_count": null,
   "id": "569394f1",
   "metadata": {},
   "outputs": [],
   "source": [
    "clade_color_domain"
   ]
  },
  {
   "cell_type": "code",
   "execution_count": null,
   "id": "7233cb5c",
   "metadata": {},
   "outputs": [],
   "source": [
    "clade_color_range"
   ]
  },
  {
   "cell_type": "markdown",
   "id": "d8c348b2",
   "metadata": {},
   "source": [
    "## PCA"
   ]
  },
  {
   "cell_type": "code",
   "execution_count": null,
   "id": "08ba3eed",
   "metadata": {},
   "outputs": [],
   "source": [
    "pca_ha_label_color_domain =  sorted(embeddings_df[\"pca_ha_label\"].drop_duplicates().dropna().values)"
   ]
  },
  {
   "cell_type": "code",
   "execution_count": null,
   "id": "60318ae6",
   "metadata": {},
   "outputs": [],
   "source": [
    "pca_ha_label_color_range = build_color_range_for_domain(\n",
    "    pca_ha_label_color_domain,\n",
    "    colors,\n",
    "    value_for_unassigned=-1,\n",
    ")"
   ]
  },
  {
   "cell_type": "code",
   "execution_count": null,
   "id": "2c127e67",
   "metadata": {},
   "outputs": [],
   "source": [
    "accuracy_pca_ha = accuracy_df_ha.query(\"method == 'pca'\").iloc[0][accuracy_column]"
   ]
  },
  {
   "cell_type": "code",
   "execution_count": null,
   "id": "86a8a2ba",
   "metadata": {},
   "outputs": [],
   "source": [
    "accuracy_pca_ha"
   ]
  },
  {
   "cell_type": "code",
   "execution_count": null,
   "id": "d7f3ec72",
   "metadata": {},
   "outputs": [],
   "source": [
    "pca_ha_list_of_chart = linking_tree_with_plots_brush(\n",
    "    embeddings_df,\n",
    "    [\"pca1_ha\", \"pca2_ha\"],\n",
    "    [\n",
    "        f\"PC 1 (Explained variance: {round(explained_variance_pca_ha_values[0] * 100, 2)}%)\",\n",
    "        f\"PC 2 (Explained variance: {round(explained_variance_pca_ha_values[1] * 100, 2)}%)\"\n",
    "    ],\n",
    "    \"pca_ha_label:N\",\n",
    "    \"PCA cluster\",\n",
    "    [\"strain:N\", clade_membership, \"pca_ha_label:N\"],\n",
    "    pca_ha_label_color_domain,\n",
    "    pca_ha_label_color_range,\n",
    ")\n",
    "\n",
    "pca_ha_chart = (\n",
    "    pca_ha_list_of_chart[0] | pca_ha_list_of_chart[1].properties(\n",
    "        title=\"Normalized VI: \" + str(round(accuracy_pca_ha, 2))\n",
    "    )\n",
    ")"
   ]
  },
  {
   "cell_type": "code",
   "execution_count": null,
   "id": "128b6db9",
   "metadata": {},
   "outputs": [],
   "source": [
    "pca_concatenated_label_color_domain = sorted(embeddings_df[\"pca_concatenated_label\"].drop_duplicates().dropna().values)"
   ]
  },
  {
   "cell_type": "code",
   "execution_count": null,
   "id": "437061da",
   "metadata": {},
   "outputs": [],
   "source": [
    "pca_concatenated_label_color_range = build_color_range_for_domain(\n",
    "    pca_concatenated_label_color_domain,\n",
    "    colors,\n",
    "    value_for_unassigned=-1,\n",
    ")"
   ]
  },
  {
   "cell_type": "code",
   "execution_count": null,
   "id": "7ff083f7",
   "metadata": {},
   "outputs": [],
   "source": [
    "accuracy_pca_concatenated = accuracy_df_concatenated.query(\"method == 'pca'\").iloc[0][accuracy_column]"
   ]
  },
  {
   "cell_type": "code",
   "execution_count": null,
   "id": "929ccf9f",
   "metadata": {},
   "outputs": [],
   "source": [
    "accuracy_pca_concatenated"
   ]
  },
  {
   "cell_type": "code",
   "execution_count": null,
   "id": "281e7862",
   "metadata": {},
   "outputs": [],
   "source": [
    "pca_concatenated_list_of_chart = linking_tree_with_plots_brush(\n",
    "    embeddings_df,\n",
    "    [\"pca1_concatenated\", \"pca2_concatenated\"],\n",
    "    [\n",
    "        f\"PC 1 (Explained variance: {round(explained_variance_pca_concatenated_values[0] * 100, 2)}%)\",\n",
    "        f\"PC 2 (Explained variance: {round(explained_variance_pca_concatenated_values[1] * 100, 2)}%)\",\n",
    "    ],\n",
    "    \"pca_concatenated_label:N\",\n",
    "    \"PCA cluster\",\n",
    "    [\"strain:N\", clade_membership, \"pca_concatenated_label:N\"],\n",
    "    pca_concatenated_label_color_domain,\n",
    "    pca_concatenated_label_color_range,\n",
    ")\n",
    "\n",
    "pca_concatenated_chart = (\n",
    "    pca_concatenated_list_of_chart[0] | (pca_concatenated_list_of_chart[1].properties(\n",
    "        title=\"Normalized VI: \" + str(round(accuracy_pca_concatenated, 2)))\n",
    "    )\n",
    ")"
   ]
  },
  {
   "cell_type": "code",
   "execution_count": null,
   "id": "11a53eb0",
   "metadata": {},
   "outputs": [],
   "source": [
    "pca_final_chart = alt.vconcat(\n",
    "    pca_ha_chart,\n",
    "    pca_concatenated_chart\n",
    ").resolve_scale(\n",
    "    color=\"independent\",\n",
    ").configure_axis(grid=False).configure_view(stroke=None)\n",
    "pca_final_chart"
   ]
  },
  {
   "cell_type": "code",
   "execution_count": null,
   "id": "82c67db4",
   "metadata": {},
   "outputs": [],
   "source": [
    "pca_final_chart.save(output_pca_html)\n",
    "pca_final_chart.save(output_pca_png, format=\"png\", scale_factor=2.0)"
   ]
  },
  {
   "cell_type": "markdown",
   "id": "834d7d54",
   "metadata": {},
   "source": [
    "## MDS"
   ]
  },
  {
   "cell_type": "code",
   "execution_count": null,
   "id": "38913116",
   "metadata": {
    "scrolled": true
   },
   "outputs": [],
   "source": [
    "mds_ha_label_color_domain =  sorted(embeddings_df[\"mds_ha_label\"].drop_duplicates().dropna().values)"
   ]
  },
  {
   "cell_type": "code",
   "execution_count": null,
   "id": "d5c93cf1",
   "metadata": {},
   "outputs": [],
   "source": [
    "mds_ha_label_color_range = build_color_range_for_domain(\n",
    "    mds_ha_label_color_domain,\n",
    "    colors,\n",
    "    value_for_unassigned=-1,\n",
    ")"
   ]
  },
  {
   "cell_type": "code",
   "execution_count": null,
   "id": "b66ccd8f",
   "metadata": {},
   "outputs": [],
   "source": [
    "accuracy_mds_ha = accuracy_df_ha.query(\"method == 'mds'\").iloc[0][accuracy_column]"
   ]
  },
  {
   "cell_type": "code",
   "execution_count": null,
   "id": "b9786a85",
   "metadata": {},
   "outputs": [],
   "source": [
    "accuracy_mds_ha"
   ]
  },
  {
   "cell_type": "code",
   "execution_count": null,
   "id": "657dbd5d",
   "metadata": {},
   "outputs": [],
   "source": [
    "mds_ha_list_of_chart = linking_tree_with_plots_brush(\n",
    "    embeddings_df,\n",
    "    [\"mds1_ha\", \"mds2_ha\"],\n",
    "    [\n",
    "        \"MDS 1\",\n",
    "        \"MDS 2\"\n",
    "    ],\n",
    "    \"mds_ha_label:N\",\n",
    "    \"MDS cluster\",\n",
    "    [\"strain:N\", clade_membership, \"mds_ha_label:N\"],\n",
    "    mds_ha_label_color_domain,\n",
    "    mds_ha_label_color_range,\n",
    "    legend_columns=2,\n",
    ")\n",
    "\n",
    "mds_ha_chart = (\n",
    "    mds_ha_list_of_chart[0] | mds_ha_list_of_chart[1].properties(\n",
    "        title=\"Normalized VI: \" + str(round(accuracy_mds_ha, 2))\n",
    "    )\n",
    ")"
   ]
  },
  {
   "cell_type": "code",
   "execution_count": null,
   "id": "4c35885f",
   "metadata": {},
   "outputs": [],
   "source": [
    "mds_concatenated_label_color_domain = sorted(embeddings_df[\"mds_concatenated_label\"].drop_duplicates().dropna().values)"
   ]
  },
  {
   "cell_type": "code",
   "execution_count": null,
   "id": "77f90433",
   "metadata": {},
   "outputs": [],
   "source": [
    "mds_concatenated_label_color_range = build_color_range_for_domain(\n",
    "    mds_concatenated_label_color_domain,\n",
    "    colors,\n",
    "    value_for_unassigned=-1,\n",
    ")"
   ]
  },
  {
   "cell_type": "code",
   "execution_count": null,
   "id": "37270dc3",
   "metadata": {},
   "outputs": [],
   "source": [
    "accuracy_mds_concatenated = accuracy_df_concatenated.query(\"method == 'mds'\").iloc[0][accuracy_column]"
   ]
  },
  {
   "cell_type": "code",
   "execution_count": null,
   "id": "f062eb2b",
   "metadata": {},
   "outputs": [],
   "source": [
    "accuracy_mds_concatenated"
   ]
  },
  {
   "cell_type": "code",
   "execution_count": null,
   "id": "66dc34e2",
   "metadata": {},
   "outputs": [],
   "source": [
    "mds_concatenated_list_of_chart = linking_tree_with_plots_brush(\n",
    "    embeddings_df,\n",
    "    [\"mds1_concatenated\", \"mds2_concatenated\"],\n",
    "    [\"MDS 1\", \"MDS 2\"],\n",
    "    \"mds_concatenated_label:N\",\n",
    "    \"MDS cluster\",\n",
    "    [\"strain:N\", clade_membership, \"mds_concatenated_label:N\"],\n",
    "    mds_concatenated_label_color_domain,\n",
    "    mds_concatenated_label_color_range,\n",
    "    legend_columns=2,\n",
    ")\n",
    "\n",
    "mds_concatenated_chart = (\n",
    "    mds_concatenated_list_of_chart[0] | (mds_concatenated_list_of_chart[1].properties(\n",
    "        title=\"Normalized VI: \" + str(round(accuracy_mds_concatenated, 2)))\n",
    "    )\n",
    ")"
   ]
  },
  {
   "cell_type": "code",
   "execution_count": null,
   "id": "1f173389",
   "metadata": {
    "scrolled": true
   },
   "outputs": [],
   "source": [
    "mds_final_chart = alt.vconcat(\n",
    "    mds_ha_chart,\n",
    "    mds_concatenated_chart\n",
    ").resolve_scale(\n",
    "    color=\"independent\",\n",
    ").configure_axis(grid=False).configure_view(stroke=None)"
   ]
  },
  {
   "cell_type": "code",
   "execution_count": null,
   "id": "b1a73a81",
   "metadata": {},
   "outputs": [],
   "source": [
    "mds_final_chart"
   ]
  },
  {
   "cell_type": "code",
   "execution_count": null,
   "id": "45491d1a",
   "metadata": {},
   "outputs": [],
   "source": [
    "mds_final_chart.save(output_mds_html)\n",
    "mds_final_chart.save(output_mds_png, format=\"png\", scale_factor=2.0)"
   ]
  },
  {
   "cell_type": "markdown",
   "id": "6786020e",
   "metadata": {},
   "source": [
    "## t-SNE "
   ]
  },
  {
   "cell_type": "code",
   "execution_count": null,
   "id": "578d3124",
   "metadata": {},
   "outputs": [],
   "source": [
    "tsne_ha_label_color_domain =  sorted(embeddings_df[\"t-sne_ha_label\"].drop_duplicates().dropna().values)"
   ]
  },
  {
   "cell_type": "code",
   "execution_count": null,
   "id": "38b25e0f",
   "metadata": {},
   "outputs": [],
   "source": [
    "tsne_ha_label_color_range = build_color_range_for_domain(\n",
    "    tsne_ha_label_color_domain,\n",
    "    colors,\n",
    "    value_for_unassigned=-1,\n",
    ")"
   ]
  },
  {
   "cell_type": "code",
   "execution_count": null,
   "id": "0e696dce",
   "metadata": {},
   "outputs": [],
   "source": [
    "accuracy_tsne_ha = accuracy_df_ha.query(\"method == 't-sne'\").iloc[0][accuracy_column]"
   ]
  },
  {
   "cell_type": "code",
   "execution_count": null,
   "id": "732b04b2",
   "metadata": {},
   "outputs": [],
   "source": [
    "accuracy_tsne_ha"
   ]
  },
  {
   "cell_type": "code",
   "execution_count": null,
   "id": "f375d609",
   "metadata": {},
   "outputs": [],
   "source": [
    "tsne_ha_list_of_chart = linking_tree_with_plots_brush(\n",
    "    embeddings_df,\n",
    "    [\"tsne_x_ha\", \"tsne_y_ha\"],\n",
    "    [\n",
    "        \"t-SNE 1\",\n",
    "        \"t-SNE 2\"\n",
    "    ],\n",
    "    \"t-sne_ha_label:N\",\n",
    "    \"t-SNE cluster\",\n",
    "    [\"strain:N\", clade_membership, \"t-sne_ha_label:N\"],\n",
    "    tsne_ha_label_color_domain,\n",
    "    tsne_ha_label_color_range,\n",
    ")\n",
    "\n",
    "tsne_ha_chart = (\n",
    "    tsne_ha_list_of_chart[0] | tsne_ha_list_of_chart[1].properties(\n",
    "        title=\"Normalized VI: \" + str(round(accuracy_tsne_ha, 2))\n",
    "    )\n",
    ")"
   ]
  },
  {
   "cell_type": "code",
   "execution_count": null,
   "id": "bc907371",
   "metadata": {},
   "outputs": [],
   "source": [
    "tsne_concatenated_label_color_domain = sorted(embeddings_df[\"t-sne_concatenated_label\"].drop_duplicates().dropna().values)"
   ]
  },
  {
   "cell_type": "code",
   "execution_count": null,
   "id": "70973211",
   "metadata": {},
   "outputs": [],
   "source": [
    "tsne_concatenated_label_color_range = build_color_range_for_domain(\n",
    "    tsne_concatenated_label_color_domain,\n",
    "    colors,\n",
    "    value_for_unassigned=-1,\n",
    ")"
   ]
  },
  {
   "cell_type": "code",
   "execution_count": null,
   "id": "a5359e6a",
   "metadata": {},
   "outputs": [],
   "source": [
    "accuracy_tsne_concatenated = accuracy_df_concatenated.query(\"method == 't-sne'\").iloc[0][accuracy_column]"
   ]
  },
  {
   "cell_type": "code",
   "execution_count": null,
   "id": "98d1cff1",
   "metadata": {},
   "outputs": [],
   "source": [
    "accuracy_tsne_concatenated"
   ]
  },
  {
   "cell_type": "code",
   "execution_count": null,
   "id": "75639e43",
   "metadata": {},
   "outputs": [],
   "source": [
    "tsne_concatenated_list_of_chart = linking_tree_with_plots_brush(\n",
    "    embeddings_df,\n",
    "    [\"tsne_x_concatenated\", \"tsne_y_concatenated\"],\n",
    "    [\"t-SNE 1\", \"t-SNE 2\"],\n",
    "    \"t-sne_concatenated_label:N\",\n",
    "    \"t-SNE cluster\",\n",
    "    [\"strain:N\", clade_membership, \"t-sne_concatenated_label:N\"],\n",
    "    tsne_concatenated_label_color_domain,\n",
    "    tsne_concatenated_label_color_range,\n",
    ")\n",
    "\n",
    "tsne_concatenated_chart = (\n",
    "    tsne_concatenated_list_of_chart[0] | (tsne_concatenated_list_of_chart[1].properties(\n",
    "        title=\"Normalized VI: \" + str(round(accuracy_tsne_concatenated, 2)))\n",
    "    )\n",
    ")"
   ]
  },
  {
   "cell_type": "code",
   "execution_count": null,
   "id": "09fca8da",
   "metadata": {},
   "outputs": [],
   "source": [
    "tsne_final_chart = alt.vconcat(\n",
    "    tsne_ha_chart,\n",
    "    tsne_concatenated_chart\n",
    ").resolve_scale(\n",
    "    color=\"independent\",\n",
    ").configure_axis(grid=False).configure_view(stroke=None)\n",
    "tsne_final_chart"
   ]
  },
  {
   "cell_type": "code",
   "execution_count": null,
   "id": "6f8109e2",
   "metadata": {},
   "outputs": [],
   "source": [
    "tsne_final_chart.save(output_tsne_html)\n",
    "tsne_final_chart.save(output_tsne_png, format=\"png\", scale_factor=2.0)"
   ]
  },
  {
   "cell_type": "markdown",
   "id": "ce97a775",
   "metadata": {},
   "source": [
    "## UMAP"
   ]
  },
  {
   "cell_type": "code",
   "execution_count": null,
   "id": "9c29cc39",
   "metadata": {},
   "outputs": [],
   "source": [
    "umap_ha_label_color_domain =  sorted(embeddings_df[\"umap_ha_label\"].drop_duplicates().dropna().values)"
   ]
  },
  {
   "cell_type": "code",
   "execution_count": null,
   "id": "61ad9a28",
   "metadata": {},
   "outputs": [],
   "source": [
    "umap_ha_label_color_range = build_color_range_for_domain(\n",
    "    umap_ha_label_color_domain,\n",
    "    colors,\n",
    "    value_for_unassigned=-1,\n",
    ")"
   ]
  },
  {
   "cell_type": "code",
   "execution_count": null,
   "id": "1c7cb865",
   "metadata": {},
   "outputs": [],
   "source": [
    "accuracy_umap_ha = accuracy_df_ha.query(\"method == 'umap'\").iloc[0][accuracy_column]"
   ]
  },
  {
   "cell_type": "code",
   "execution_count": null,
   "id": "201eaee9",
   "metadata": {},
   "outputs": [],
   "source": [
    "accuracy_umap_ha"
   ]
  },
  {
   "cell_type": "code",
   "execution_count": null,
   "id": "5bdedba0",
   "metadata": {},
   "outputs": [],
   "source": [
    "umap_ha_list_of_chart = linking_tree_with_plots_brush(\n",
    "    embeddings_df,\n",
    "    [\"umap_x_ha\", \"umap_y_ha\"],\n",
    "    [\n",
    "        \"UMAP 1\",\n",
    "        \"UMAP 2\"\n",
    "    ],\n",
    "    \"umap_ha_label:N\",\n",
    "    \"UMAP cluster\",\n",
    "    [\"strain:N\", clade_membership, \"umap_ha_label:N\"],\n",
    "    umap_ha_label_color_domain,\n",
    "    umap_ha_label_color_range,\n",
    ")\n",
    "\n",
    "umap_ha_chart = (\n",
    "    umap_ha_list_of_chart[0] | umap_ha_list_of_chart[1].properties(\n",
    "        title=\"Normalized VI: \" + str(round(accuracy_umap_ha, 2))\n",
    "    )\n",
    ")"
   ]
  },
  {
   "cell_type": "code",
   "execution_count": null,
   "id": "609e3a8a",
   "metadata": {},
   "outputs": [],
   "source": [
    "umap_concatenated_label_color_domain = sorted(embeddings_df[\"umap_concatenated_label\"].drop_duplicates().dropna().values)"
   ]
  },
  {
   "cell_type": "code",
   "execution_count": null,
   "id": "3399e3a1",
   "metadata": {},
   "outputs": [],
   "source": [
    "umap_concatenated_label_color_range = build_color_range_for_domain(\n",
    "    umap_concatenated_label_color_domain,\n",
    "    colors,\n",
    "    value_for_unassigned=-1,\n",
    ")"
   ]
  },
  {
   "cell_type": "code",
   "execution_count": null,
   "id": "bbb8821f",
   "metadata": {},
   "outputs": [],
   "source": [
    "accuracy_umap_concatenated = accuracy_df_concatenated.query(\"method == 'umap'\").iloc[0][accuracy_column]"
   ]
  },
  {
   "cell_type": "code",
   "execution_count": null,
   "id": "2039a3b0",
   "metadata": {},
   "outputs": [],
   "source": [
    "accuracy_umap_concatenated"
   ]
  },
  {
   "cell_type": "code",
   "execution_count": null,
   "id": "69098920",
   "metadata": {},
   "outputs": [],
   "source": [
    "umap_concatenated_list_of_chart = linking_tree_with_plots_brush(\n",
    "    embeddings_df,\n",
    "    [\"umap_x_concatenated\", \"umap_y_concatenated\"],\n",
    "    [\"UMAP 1\", \"UMAP 2\"],\n",
    "    \"umap_concatenated_label:N\",\n",
    "    \"UMAP cluster\",\n",
    "    [\"strain:N\", clade_membership, \"umap_concatenated_label:N\"],\n",
    "    umap_concatenated_label_color_domain,\n",
    "    umap_concatenated_label_color_range,\n",
    ")\n",
    "\n",
    "umap_concatenated_chart = (\n",
    "    umap_concatenated_list_of_chart[0] | (umap_concatenated_list_of_chart[1].properties(\n",
    "        title=\"Normalized VI: \" + str(round(accuracy_umap_concatenated, 2)))\n",
    "    )\n",
    ")"
   ]
  },
  {
   "cell_type": "code",
   "execution_count": null,
   "id": "f43a3a6f",
   "metadata": {},
   "outputs": [],
   "source": [
    "umap_final_chart = alt.vconcat(\n",
    "    umap_ha_chart,\n",
    "    umap_concatenated_chart\n",
    ").resolve_scale(\n",
    "    color=\"independent\",\n",
    ").configure_axis(grid=False).configure_view(stroke=None)\n",
    "umap_final_chart"
   ]
  },
  {
   "cell_type": "code",
   "execution_count": null,
   "id": "b23d7ef8",
   "metadata": {},
   "outputs": [],
   "source": [
    "umap_final_chart.save(output_umap_html)\n",
    "umap_final_chart.save(output_umap_png, format=\"png\", scale_factor=2.0)"
   ]
  },
  {
   "cell_type": "markdown",
   "id": "624ecefc",
   "metadata": {},
   "source": [
    "## All embeddings by clade membership"
   ]
  },
  {
   "cell_type": "code",
   "execution_count": null,
   "id": "f281c6ff",
   "metadata": {
    "scrolled": true
   },
   "outputs": [],
   "source": [
    "# TODO:\n",
    "# - Add MCC accuracies as titles per plot\n",
    "charts = linking_tree_with_plots_brush(\n",
    "    embeddings_df,\n",
    "    [\n",
    "        'mds1_concatenated',\n",
    "        'mds2_concatenated',\n",
    "        'mds1_ha',\n",
    "        'mds2_ha',\n",
    "        'tsne_x_concatenated',\n",
    "        'tsne_y_concatenated',\n",
    "        'tsne_x_ha',\n",
    "        'tsne_y_ha',\n",
    "        'pca1_concatenated',\n",
    "        'pca2_concatenated',\n",
    "        'pca1_ha',\n",
    "        'pca2_ha',\n",
    "        'umap_x_concatenated',\n",
    "        'umap_y_concatenated',\n",
    "        'umap_x_ha',\n",
    "        'umap_y_ha',\n",
    "    ],\n",
    "    [\n",
    "        'MDS 1',\n",
    "        'MDS 2',\n",
    "        'MDS 1',\n",
    "        'MDS 2',\n",
    "        't-SNE 1',\n",
    "        't-SNE 2',\n",
    "        't-SNE 1',\n",
    "        't-SNE 2', \n",
    "        'PC 1 (Expected Variance: {}%'.format(round(explained_variance_pca_concatenated_values[0]*100,2)) + \")\",\n",
    "        'PC 2 (Expected Variance: {}%'.format(round(explained_variance_pca_concatenated_values[1]*100,2)) + \")\",\n",
    "        'PC 1 (Expected Variance: {}%'.format(round(explained_variance_pca_ha_values[0]*100,2)) + \")\",\n",
    "        'PC 2 (Expected Variance: {}%'.format(round(explained_variance_pca_ha_values[1]*100,2)) + \")\",\n",
    "        'UMAP 1',\n",
    "        'UMAP 2',\n",
    "        'UMAP 1',\n",
    "        'UMAP 2',\n",
    "    ],\n",
    "    clade_membership+\":N\",\n",
    "    \"Clade membership\",\n",
    "    ['strain', clade_membership],\n",
    "    clade_color_domain,\n",
    "    clade_color_range,\n",
    ")"
   ]
  },
  {
   "cell_type": "code",
   "execution_count": null,
   "id": "ead73661",
   "metadata": {
    "scrolled": true
   },
   "outputs": [],
   "source": [
    "chart_embeddings = alt.vconcat(\n",
    "    charts[6].properties(title=[\"HA only\", \"Normalized VI: \" + str(round(accuracy_pca_ha, 2))]) | charts[5].properties(title=[\"HA and NA\", \"Normalized VI: \" + str(round(accuracy_pca_concatenated, 2))]),\n",
    "    charts[2].properties(title=\"Normalized VI: \" + str(round(accuracy_mds_ha, 2))) | charts[1].properties(title=\"Normalized VI: \" + str(round(accuracy_mds_concatenated, 2))),\n",
    "    charts[4].properties(title=\"Normalized VI: \" + str(round(accuracy_tsne_ha, 2))) | charts[3].properties(title=\"Normalized VI: \" + str(round(accuracy_tsne_concatenated, 2))),\n",
    "    charts[8].properties(title=\"Normalized VI: \" + str(round(accuracy_umap_ha, 2))) | charts[7].properties(title=\"Normalized VI: \" + str(round(accuracy_umap_concatenated, 2)))\n",
    ").configure_axis(grid=False).configure_view(stroke=None)"
   ]
  },
  {
   "cell_type": "code",
   "execution_count": null,
   "id": "6d3a250f",
   "metadata": {},
   "outputs": [],
   "source": [
    "chart_embeddings"
   ]
  },
  {
   "cell_type": "code",
   "execution_count": null,
   "id": "5d4574fa",
   "metadata": {
    "scrolled": true
   },
   "outputs": [],
   "source": [
    "chart_embeddings.save(output_full_html)\n",
    "chart_embeddings.save(output_full_png, format=\"png\", scale_factor=2.0)"
   ]
  },
  {
   "cell_type": "code",
   "execution_count": null,
   "id": "5860728b",
   "metadata": {},
   "outputs": [],
   "source": [
    "all_a2_records = embeddings_df.query(\"(clade_membership == 'A2')\")"
   ]
  },
  {
   "cell_type": "code",
   "execution_count": null,
   "id": "54a5b1d9",
   "metadata": {},
   "outputs": [],
   "source": [
    "a2_mcc, a2_re_mcc = all_a2_records[\"MCC\"].value_counts().head(2).index.values"
   ]
  },
  {
   "cell_type": "code",
   "execution_count": null,
   "id": "3a2ca206",
   "metadata": {},
   "outputs": [],
   "source": [
    "a2_mcc"
   ]
  },
  {
   "cell_type": "code",
   "execution_count": null,
   "id": "573e5a55",
   "metadata": {},
   "outputs": [],
   "source": [
    "a2_re_mcc"
   ]
  },
  {
   "cell_type": "code",
   "execution_count": null,
   "id": "ebaac1ca",
   "metadata": {},
   "outputs": [],
   "source": [
    "a2_records = all_a2_records[all_a2_records[\"MCC\"] == a2_mcc]"
   ]
  },
  {
   "cell_type": "code",
   "execution_count": null,
   "id": "a68cb95a",
   "metadata": {},
   "outputs": [],
   "source": [
    "a2_re_records = all_a2_records[all_a2_records[\"MCC\"] == a2_re_mcc]"
   ]
  },
  {
   "cell_type": "code",
   "execution_count": null,
   "id": "7b90e8e3",
   "metadata": {},
   "outputs": [],
   "source": [
    "a2_records.shape"
   ]
  },
  {
   "cell_type": "code",
   "execution_count": null,
   "id": "20f35073",
   "metadata": {},
   "outputs": [],
   "source": [
    "a2_re_records.shape"
   ]
  },
  {
   "cell_type": "code",
   "execution_count": null,
   "id": "cf6356eb",
   "metadata": {},
   "outputs": [],
   "source": [
    "a2_y_value = a2_records[\"y_value\"].min() + ((a2_records[\"y_value\"].max() - a2_records[\"y_value\"].min()) / 2)"
   ]
  },
  {
   "cell_type": "code",
   "execution_count": null,
   "id": "c2dbe173",
   "metadata": {},
   "outputs": [],
   "source": [
    "a2_max_divergence = a2_records[\"divergence\"].max() + 0.001"
   ]
  },
  {
   "cell_type": "code",
   "execution_count": null,
   "id": "8525e268",
   "metadata": {},
   "outputs": [],
   "source": [
    "a2_re_y_value = a2_re_records[\"y_value\"].min() + (\n",
    "    (a2_re_records[\"y_value\"].max() - a2_re_records[\"y_value\"].min()) / 2\n",
    ")"
   ]
  },
  {
   "cell_type": "code",
   "execution_count": null,
   "id": "81a54128",
   "metadata": {},
   "outputs": [],
   "source": [
    "a2_re_max_divergence = a2_re_records[\"divergence\"].max() + 0.001"
   ]
  },
  {
   "cell_type": "code",
   "execution_count": null,
   "id": "9f5aea19",
   "metadata": {},
   "outputs": [],
   "source": [
    "text_df = pd.DataFrame([\n",
    "    {\n",
    "        \"divergence\": a2_max_divergence,\n",
    "        \"y_value\": a2_y_value,\n",
    "        \"text\": \"A2\",\n",
    "    },\n",
    "    {\n",
    "        \"divergence\": a2_re_max_divergence,\n",
    "        \"y_value\": a2_re_y_value,\n",
    "        \"text\": \"A2/re\",\n",
    "    },\n",
    "])"
   ]
  },
  {
   "cell_type": "code",
   "execution_count": null,
   "id": "1a5e7cd3",
   "metadata": {},
   "outputs": [],
   "source": [
    "text_df"
   ]
  },
  {
   "cell_type": "code",
   "execution_count": null,
   "id": "09980402",
   "metadata": {
    "scrolled": true
   },
   "outputs": [],
   "source": [
    "a2_labels = alt.Chart(text_df).mark_text().encode(\n",
    "    x=\"divergence:Q\",\n",
    "    y=\"y_value:Q\",\n",
    "    text=\"text:N\",\n",
    ")"
   ]
  },
  {
   "cell_type": "code",
   "execution_count": null,
   "id": "82a285a9",
   "metadata": {},
   "outputs": [],
   "source": [
    "ha_na_only_chart = (\n",
    "    (charts[0] + a2_labels) &\n",
    "    (charts[5].properties(title=f\"Normalized VI: {round(accuracy_pca_concatenated, 2):.2f} ({round(accuracy_pca_ha, 2):.2f})\") |\n",
    "     charts[1].properties(title=f\"Normalized VI: {round(accuracy_mds_concatenated, 2):.2f} ({round(accuracy_mds_ha, 2):.2f})\")) &\n",
    "    (charts[3].properties(title=f\"Normalized VI: {round(accuracy_tsne_concatenated, 2):.2f} ({round(accuracy_tsne_ha, 2):.2f})\") |\n",
    "     charts[7].properties(title=f\"Normalized VI: {round(accuracy_umap_concatenated, 2):.2f} ({round(accuracy_umap_ha, 2):.2f})\"))\n",
    ").configure_axis(grid=False).configure_view(stroke=None)"
   ]
  },
  {
   "cell_type": "code",
   "execution_count": null,
   "id": "d877b5b8",
   "metadata": {},
   "outputs": [],
   "source": [
    "ha_na_only_chart"
   ]
  },
  {
   "cell_type": "code",
   "execution_count": null,
   "id": "9457ae04",
   "metadata": {},
   "outputs": [],
   "source": [
    "ha_na_only_chart.save(output_ha_na_html)\n",
    "ha_na_only_chart.save(output_ha_na_png, format=\"png\", scale_factor=2.0)"
   ]
  },
  {
   "cell_type": "code",
   "execution_count": null,
   "id": "0c613057",
   "metadata": {},
   "outputs": [],
   "source": [
    "poster_embeddings_by_clade = alt.vconcat(\n",
    "    charts[0].properties(width=1100),\n",
    "    (\n",
    "        charts[5].properties(title=f\"Normalized VI: {round(accuracy_pca_concatenated, 2):.2f} ({round(accuracy_pca_ha, 2):.2f})\") |\n",
    "        charts[1].properties(title=f\"Normalized VI: {round(accuracy_mds_concatenated, 2):.2f} ({round(accuracy_mds_ha, 2):.2f})\") |\n",
    "        charts[3].properties(title=f\"Normalized VI: {round(accuracy_tsne_concatenated, 2):.2f} ({round(accuracy_tsne_ha, 2):.2f})\") |\n",
    "        charts[7].properties(title=f\"Normalized VI: {round(accuracy_umap_concatenated, 2):.2f} ({round(accuracy_umap_ha, 2):.2f})\")\n",
    "    ),\n",
    ").configure_axis(grid=False).configure_view(stroke=None)\n",
    "poster_embeddings_by_clade"
   ]
  },
  {
   "cell_type": "code",
   "execution_count": null,
   "id": "302a9e10",
   "metadata": {},
   "outputs": [],
   "source": []
  }
 ],
 "metadata": {
  "kernelspec": {
   "display_name": "Python 3 (ipykernel)",
   "language": "python",
   "name": "python3"
  },
  "language_info": {
   "codemirror_mode": {
    "name": "ipython",
    "version": 3
   },
   "file_extension": ".py",
   "mimetype": "text/x-python",
   "name": "python",
   "nbconvert_exporter": "python",
   "pygments_lexer": "ipython3",
   "version": "3.9.18"
  }
 },
 "nbformat": 4,
 "nbformat_minor": 5
}
