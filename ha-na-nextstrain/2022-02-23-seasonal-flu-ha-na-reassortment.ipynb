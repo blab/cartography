{
 "cells": [
  {
   "cell_type": "markdown",
   "metadata": {},
   "outputs": [],
   "source": [
    "## Imports"
   ]
  },
  {
   "cell_type": "code",
   "execution_count": null,
   "metadata": {
    "scrolled": true
   },
   "outputs": [],
   "source": [
    "import sys\n",
    "sys.path.extend([\"./notebooks/scripts\"])"
   ]
  },
  {
   "cell_type": "code",
   "execution_count": null,
   "metadata": {
    "scrolled": true
   },
   "outputs": [],
   "source": [
    "import altair as alt\n",
    "from altair_saver import save\n",
    "from augur.utils import json_to_tree, read_node_data\n",
    "import json\n",
    "import matplotlib.pyplot as plt\n",
    "import matplotlib as mpl\n",
    "import numpy as np\n",
    "import pandas as pd\n",
    "import re\n",
    "import seaborn as sns\n",
    "from sklearn.metrics import confusion_matrix, matthews_corrcoef\n",
    "\n",
    "from Helpers import linking_tree_with_plots_clickable, linking_tree_with_plots_brush, scatterplot_with_tooltip_interactive\n",
    "from Helpers import get_y_positions, get_euclidean_data_frame\n",
    "\n",
    "#%matplotlib inline"
   ]
  },
  {
   "cell_type": "code",
   "execution_count": null,
   "metadata": {
    "scrolled": true
   },
   "outputs": [],
   "source": [
    "alt.renderers.set_embed_options(\n",
    "    padding={\"left\": 0, \"right\": 0, \"bottom\": 1, \"top\": 1}\n",
    ")"
   ]
  },
  {
   "cell_type": "code",
   "execution_count": null,
   "metadata": {
    "scrolled": true
   },
   "outputs": [],
   "source": [
    "sns.set_style(\"ticks\")\n",
    "# Disable top and right spines.\n",
    "mpl.rcParams['axes.spines.top'] = False\n",
    "mpl.rcParams['axes.spines.right'] = False\n",
    "# Display and save figures at higher resolution for presentations and manuscripts.\n",
    "mpl.rcParams['savefig.dpi'] = 300\n",
    "mpl.rcParams['figure.dpi'] = 100\n",
    "# Display text at sizes large enough for presentations and manuscripts.\n",
    "mpl.rcParams['font.weight'] = \"normal\"\n",
    "mpl.rcParams['axes.labelweight'] = \"normal\"\n",
    "mpl.rcParams['font.size'] = 10\n",
    "mpl.rcParams['axes.labelsize'] = 10\n",
    "mpl.rcParams['legend.fontsize'] = 8\n",
    "mpl.rcParams['xtick.labelsize'] = 10\n",
    "mpl.rcParams['ytick.labelsize'] = 10\n",
    "mpl.rcParams['axes.titlesize'] = 8\n",
    "mpl.rc('text', usetex=False)"
   ]
  },
  {
   "cell_type": "markdown",
   "metadata": {},
   "outputs": [],
   "source": [
    "## Inputs"
   ]
  },
  {
   "cell_type": "code",
   "execution_count": null,
   "metadata": {
    "scrolled": true
   },
   "outputs": [],
   "source": [
    "colors_path = snakemake.input.colors\n",
    "embeddings_path = snakemake.input.annotated_embeddings\n",
    "accuracy_path = snakemake.input.accuracy_table\n",
    "\n",
    "output_mds_html = snakemake.output.HANAFullChartBrushableMDSHTML\n",
    "output_mds_png = snakemake.output.HANAFullChartBrushableMDSPNG\n",
    "output_tsne_html = snakemake.output.HANAFullChartBrushableTSNEHTML\n",
    "output_tsne_png = snakemake.output.HANAFullChartBrushableTSNEPNG\n",
    "output_full_html = snakemake.output.fullChartHTML\n",
    "output_full_png = snakemake.output.fullChartPNG"
   ]
  },
  {
   "cell_type": "markdown",
   "metadata": {},
   "outputs": [],
   "source": [
    "## Load data"
   ]
  },
  {
   "cell_type": "code",
   "execution_count": null,
   "metadata": {
    "scrolled": true
   },
   "outputs": [],
   "source": [
    "colors = pd.read_csv(colors_path, sep=\"\\t\", names=[i for i in range(0,101)])"
   ]
  },
  {
   "cell_type": "code",
   "execution_count": null,
   "metadata": {
    "scrolled": true
   },
   "outputs": [],
   "source": [
    "embeddings_df = pd.read_csv(embeddings_path, sep=\"\\t\")"
   ]
  },
  {
   "cell_type": "code",
   "execution_count": null,
   "metadata": {},
   "outputs": [],
   "source": [
    "embeddings_df.rename(\n",
    "    columns={\n",
    "        \"y_value\": \"y\",\n",
    "        \"num_date\": \"date\",\n",
    "    },\n",
    "    inplace=True\n",
    ")"
   ]
  },
  {
   "cell_type": "code",
   "execution_count": null,
   "metadata": {},
   "outputs": [],
   "source": [
    "embeddings_df.head()"
   ]
  },
  {
   "cell_type": "code",
   "execution_count": null,
   "metadata": {},
   "outputs": [],
   "source": [
    "# Parametrizing node_df\n",
    "clade_membership = \"MCC\""
   ]
  },
  {
   "cell_type": "code",
   "execution_count": null,
   "metadata": {},
   "outputs": [],
   "source": [
    "accuracy_df = pd.read_csv(accuracy_path)"
   ]
  },
  {
   "cell_type": "code",
   "execution_count": null,
   "metadata": {},
   "outputs": [],
   "source": [
    "accuracy_df"
   ]
  },
  {
   "cell_type": "markdown",
   "metadata": {},
   "outputs": [],
   "source": [
    "## PCA"
   ]
  },
  {
   "cell_type": "code",
   "execution_count": null,
   "metadata": {
    "scrolled": true
   },
   "outputs": [],
   "source": [
    "domain = sorted(merged_total_ha[clade_membership].drop_duplicates().values)\n",
    "range_ = colors[len(domain):len(domain)+1].dropna(axis=1).values.tolist()[0]\n",
    "list_of_chart_ha = linking_tree_with_plots_brush(merged_total_ha,['pca1','pca2','pca3','pca4', 'pca5', 'pca6'],\n",
    "                                         ['PCA1 (Explained Variance : {}%'.format(round(explained_variance_PCA_ha[0]*100,2)) + \")\",\n",
    "                                          'PCA2 (Explained Variance : {}%'.format(round(explained_variance_PCA_ha[1]*100,2)) + \")\",\n",
    "                                          'PCA3 (Explained Variance : {}%'.format(round(explained_variance_PCA_ha[2]*100,2)) + \")\",\n",
    "                                          'PCA4 (Explained Variance : {}%'.format(round(explained_variance_PCA_ha[3]*100,2)) + \")\",\n",
    "                                          'PCA5 (Explained Variance : {}%'.format(round(explained_variance_PCA_ha[4]*100,2)) + \")\",\n",
    "                                          'PCA6 (Explained Variance : {}%'.format(round(explained_variance_PCA_ha[5]*100,2)) + \")\"],\n",
    "                                          clade_membership+\":N\",['strain', clade_membership, \"bases_missing\"], domain, range_)\n",
    "domain =  sorted(merged_total[clade_membership].drop_duplicates().values)\n",
    "range_ = colors[len(domain):len(domain)+1].dropna(axis=1).values.tolist()[0]\n",
    "list_of_chart_concatenated = linking_tree_with_plots_brush(merged_total,['pca1','pca2','pca3','pca4', 'pca5', 'pca6'],\n",
    "                                         ['PCA1 (Explained Variance : {}%'.format(round(explained_variance_PCA_concatenated[0]*100,2)) + \")\",\n",
    "                                          'PCA2 (Explained Variance : {}%'.format(round(explained_variance_PCA_concatenated[1]*100,2)) + \")\",\n",
    "                                          'PCA3 (Explained Variance : {}%'.format(round(explained_variance_PCA_concatenated[2]*100,2)) + \")\",\n",
    "                                          'PCA4 (Explained Variance : {}%'.format(round(explained_variance_PCA_concatenated[3]*100,2)) + \")\",\n",
    "                                          'PCA5 (Explained Variance : {}%'.format(round(explained_variance_PCA_concatenated[4]*100,2)) + \")\",\n",
    "                                          'PCA6 (Explained Variance : {}%'.format(round(explained_variance_PCA_concatenated[5]*100,2)) + \")\"],\n",
    "                                         clade_membership+\":N\",['strain', clade_membership, \"bases_missing\"], domain, range_)\n",
    "PCAFluBrush_ha = list_of_chart_ha[0]|list_of_chart_ha[1]|list_of_chart_ha[2]\n",
    "PCAFluBrush_concatenated = list_of_chart_concatenated[0]|list_of_chart_concatenated[1]|list_of_chart_concatenated[2]\n",
    "\n",
    "alt.vconcat(PCAFluBrush_ha,PCAFluBrush_concatenated)\n",
    "#PCAFluBrush.save(\"docs/PCAHaNaBrush.html\")"
   ]
  },
  {
   "cell_type": "code",
   "execution_count": null,
   "metadata": {
    "scrolled": true
   },
   "outputs": [],
   "source": [
    "list_of_chart_concatenated = linking_tree_with_plots_brush(merged_total,['pca1','pca2'],\n",
    "                                         ['PCA1 (Explained Variance : {}%'.format(round(explained_variance_PCA_concatenated[0]*100,2)) + \")\",\n",
    "                                          'PCA2 (Explained Variance : {}%'.format(round(explained_variance_PCA_concatenated[1]*100,2)) + \")\"],\n",
    "                                         clade_membership+\":N\",['strain', clade_membership, \"bases_missing\"], domain, range_)\n",
    "\n",
    "PCAFluBrush_concatenated = list_of_chart_concatenated[0]|list_of_chart_concatenated[1]\n",
    "#PCAFluBrush_concatenated.save(\"../docs/PCAFluBrushHA_.html\")"
   ]
  },
  {
   "cell_type": "markdown",
   "metadata": {},
   "outputs": [],
   "source": [
    "## MDS"
   ]
  },
  {
   "cell_type": "code",
   "execution_count": null,
   "metadata": {
    "scrolled": true
   },
   "outputs": [],
   "source": [
    "MDS_df_ha = pd.read_csv(mds_df_ha,index_col=0)\n",
    "MDS_df_concatenated = pd.read_csv(mds_df_concatenated,index_col=0)"
   ]
  },
  {
   "cell_type": "code",
   "execution_count": null,
   "metadata": {
    "scrolled": true
   },
   "outputs": [],
   "source": [
    "merged_mds_df_ha = MDS_df_ha.merge(node_df_ha[[\"strain\", \"date\", \"y\", clade_membership]], on=\"strain\")\n",
    "merged_mds_df_concatenated = MDS_df_concatenated.merge(node_df_ha[[\"strain\", \"date\", \"y\", clade_membership]], on=\"strain\")"
   ]
  },
  {
   "cell_type": "code",
   "execution_count": null,
   "metadata": {
    "scrolled": true
   },
   "outputs": [],
   "source": [
    "merged_mds_df_ha"
   ]
  },
  {
   "cell_type": "code",
   "execution_count": null,
   "metadata": {
    "scrolled": true
   },
   "outputs": [],
   "source": [
    "domain =  sorted(merged_mds_df_ha[clade_membership].drop_duplicates().values)\n",
    "range_ = colors[len(domain):len(domain)+1].dropna(axis=1).values.tolist()[0]\n",
    "chart_12_mds = scatterplot_with_tooltip_interactive(merged_mds_df_ha,'mds1','mds2',\"mds1\",\"mds2\",['strain',clade_membership],clade_membership+\":N\", domain, range_)\n",
    "chart_12_mds"
   ]
  },
  {
   "cell_type": "code",
   "execution_count": null,
   "metadata": {
    "scrolled": true
   },
   "outputs": [],
   "source": [
    "domain =  sorted(merged_mds_df_ha[clade_membership].drop_duplicates().values)\n",
    "range_ = colors[len(domain):len(domain)+1].dropna(axis=1).values.tolist()[0]\n",
    "list_of_chart_ha = linking_tree_with_plots_brush(merged_mds_df_ha,['mds1','mds2'],[\"MDS1\", \"MDS2\"], clade_membership+\":N\", ['strain',clade_membership], domain, range_)\n",
    "chart_ha = list_of_chart_ha[0]|list_of_chart_ha[1]\n",
    "domain =  sorted(merged_mds_df_concatenated[clade_membership].drop_duplicates().values)\n",
    "range_ = colors[len(domain):len(domain)+1].dropna(axis=1).values.tolist()[0]\n",
    "list_of_chart_concatenated = linking_tree_with_plots_brush(merged_mds_df_concatenated,['mds1','mds2'],[\"MDS1\", \"MDS2\"], clade_membership+\":N\", ['strain',clade_membership], domain, range_)\n",
    "chart_concat = list_of_chart_concatenated[0]|list_of_chart_concatenated[1]\n",
    "alt.vconcat(chart_ha, chart_concat)"
   ]
  },
  {
   "cell_type": "code",
   "execution_count": null,
   "metadata": {
    "scrolled": true
   },
   "outputs": [],
   "source": [
    "MDS_df_ha = pd.read_csv(mds_df_ha,index_col=0)\n",
    "MDS_df_concatenated = pd.read_csv(mds_df_concatenated,index_col=0)"
   ]
  },
  {
   "cell_type": "code",
   "execution_count": null,
   "metadata": {
    "scrolled": true
   },
   "outputs": [],
   "source": [
    "merged_mds_df_ha = MDS_df_ha.merge(node_df_ha[[\"strain\", \"date\", \"y\", clade_membership]], on=\"strain\")\n",
    "merged_mds_df_concatenated = MDS_df_concatenated.merge(node_df_ha[[\"strain\", \"date\", \"y\", clade_membership]], on=\"strain\")"
   ]
  },
  {
   "cell_type": "code",
   "execution_count": null,
   "metadata": {
    "scrolled": true
   },
   "outputs": [],
   "source": [
    "mcc_calc_mds = MDS_df_ha.merge(mcc_calc_df[[\"strain\", \"date\", \"y\", clade_membership]], on=\"strain\")\n",
    "mcc_calc_mds_concatenated = MDS_df_concatenated.merge(mcc_calc_df[[\"strain\", \"date\", \"y\", clade_membership]], on=\"strain\")\n",
    "KDE_df_normal = get_euclidean_data_frame(sampled_df=mcc_calc_mds, column_for_analysis=clade_membership, embedding=\"method\", column_list=['mds1', 'mds2'])"
   ]
  },
  {
   "cell_type": "code",
   "execution_count": null,
   "metadata": {
    "scrolled": true
   },
   "outputs": [],
   "source": [
    "domain =  merged_mds_df_ha[\"mds_label\"].drop_duplicates().values\n",
    "range_ = colors[len(domain)-1:len(domain)].dropna(axis=1).values.tolist()[0]\n",
    "chart_12_mds = scatterplot_with_tooltip_interactive(merged_mds_df_ha,'mds1','mds2',\"mds1\",\"mds2\",['strain',clade_membership],'mds_label:N', domain, range_)\n",
    "chart_12_mds"
   ]
  },
  {
   "cell_type": "code",
   "execution_count": null,
   "metadata": {
    "scrolled": true
   },
   "outputs": [],
   "source": [
    "from sklearn.metrics import confusion_matrix, matthews_corrcoef"
   ]
  },
  {
   "cell_type": "code",
   "execution_count": null,
   "metadata": {
    "scrolled": true
   },
   "outputs": [],
   "source": [
    "KDE_df_cluster = get_euclidean_data_frame(sampled_df=mcc_calc_mds[[\"mds1\", \"mds2\", \"strain\", \"mds_label\"]], column_for_analysis=\"mds_label\", embedding=\"mds\", column_list=[\"mds1\", \"mds2\"])\n",
    "confusion_matrix_val_ha = confusion_matrix(KDE_df_normal[\"clade_status\"], KDE_df_cluster[\"clade_status\"])\n",
    "matthews_cc_val_ha = matthews_corrcoef(KDE_df_normal[\"clade_status\"], KDE_df_cluster[\"clade_status\"])"
   ]
  },
  {
   "cell_type": "code",
   "execution_count": null,
   "metadata": {
    "scrolled": true
   },
   "outputs": [],
   "source": [
    "KDE_df_cluster = get_euclidean_data_frame(sampled_df=mcc_calc_mds_concatenated[[\"mds1\", \"mds2\", \"strain\", \"mds_label\"]], column_for_analysis=\"mds_label\", embedding=\"mds\", column_list=[\"mds1\", \"mds2\"])\n",
    "confusion_matrix_val_concatenated = confusion_matrix(KDE_df_normal[\"clade_status\"], KDE_df_cluster[\"clade_status\"])\n",
    "matthews_cc_val_concatenated = matthews_corrcoef(KDE_df_normal[\"clade_status\"], KDE_df_cluster[\"clade_status\"])"
   ]
  },
  {
   "cell_type": "code",
   "execution_count": null,
   "metadata": {
    "scrolled": true
   },
   "outputs": [],
   "source": [
    "domain =  merged_mds_df_ha[clade_membership].drop_duplicates().values\n",
    "range_ = colors[len(domain)-1:len(domain)].dropna(axis=1).values.tolist()[0]\n",
    "list_of_chart_ha = linking_tree_with_plots_brush(merged_mds_df_ha,['mds1','mds2'],[\"MDS1\", \"MDS2\"], clade_membership+\":N\", ['strain',clade_membership], domain, range_)\n",
    "chart_ha = list_of_chart_ha[0]|list_of_chart_ha[1].properties(title=\"MCC: \" + str(round(matthews_cc_val_ha,4)))\n",
    "domain =  merged_mds_df_concatenated[clade_membership].drop_duplicates().values\n",
    "range_ = colors[len(domain)-1:len(domain)].dropna(axis=1).values.tolist()[0]\n",
    "list_of_chart_concatenated = linking_tree_with_plots_brush(merged_mds_df_concatenated,['mds1','mds2'],[\"MDS1\", \"MDS2\"], clade_membership+\":N\", ['strain',clade_membership], domain, range_)\n",
    "chart_concat = list_of_chart_concatenated[0]|list_of_chart_concatenated[1].properties(title=\"MCC: \" + str(round(matthews_cc_val_concatenated,4)))\n",
    "chart_total = alt.vconcat(chart_ha, chart_concat)\n",
    "chart_total\n"
   ]
  },
  {
   "cell_type": "code",
   "execution_count": null,
   "metadata": {
    "scrolled": true
   },
   "outputs": [],
   "source": [
    "domain =  sorted(merged_mds_df_ha[\"mds_label\"].drop_duplicates().values)\n",
    "if -1 in domain:\n",
    "    range_ = [\"#999999\"] + colors[len(domain)-1:len(domain)].dropna(axis=1).values.tolist()[0]\n",
    "else: \n",
    "    range_ = colors[len(domain):len(domain)+1].dropna(axis=1).values.tolist()[0]\n",
    "list_of_chart_ha = linking_tree_with_plots_brush(merged_mds_df_ha,['mds1','mds2'],[\"MDS1\", \"MDS2\"], 'mds_label:N', ['strain',clade_membership], domain, range_)\n",
    "chart_ha = list_of_chart_ha[0]|list_of_chart_ha[1].properties(title=\"MCC: \" + str(round(matthews_cc_val_ha,4)))\n",
    "domain =  sorted(merged_mds_df_ha[\"mds_label\"].drop_duplicates().values)\n",
    "if -1 in domain:\n",
    "    range_ = [\"#999999\"] + colors[len(domain)-1:len(domain)].dropna(axis=1).values.tolist()[0]\n",
    "else: \n",
    "    range_ = colors[len(domain):len(domain)+1].dropna(axis=1).values.tolist()[0]\n",
    "list_of_chart_concatenated = linking_tree_with_plots_brush(merged_mds_df_concatenated,['mds1','mds2'],[\"MDS1\", \"MDS2\"], 'mds_label:N', ['strain',clade_membership], domain, range_)\n",
    "chart_concat = list_of_chart_concatenated[0]|list_of_chart_concatenated[1].properties(title=\"MCC: \" + str(round(matthews_cc_val_concatenated,4)))\n",
    "final_chart = alt.vconcat(chart_ha, chart_concat)\n",
    "final_chart"
   ]
  },
  {
   "cell_type": "code",
   "execution_count": null,
   "metadata": {
    "scrolled": true
   },
   "outputs": [],
   "source": [
    "final_chart.save(output_mds_html)\n",
    "#save(final_chart, output_mds_png, scale_factor=2.0)"
   ]
  },
  {
   "cell_type": "markdown",
   "metadata": {},
   "outputs": [],
   "source": [
    "## HDBSCAN clustering on t-SNE "
   ]
  },
  {
   "cell_type": "code",
   "execution_count": null,
   "metadata": {
    "scrolled": true
   },
   "outputs": [],
   "source": [
    "TSNE_df_ha = pd.read_csv(tsne_df_ha, index_col=0)\n",
    "TSNE_df_concatenated = pd.read_csv(tsne_df_concatenated,index_col=0)"
   ]
  },
  {
   "cell_type": "code",
   "execution_count": null,
   "metadata": {
    "scrolled": true
   },
   "outputs": [],
   "source": [
    "merged_tsne_df_ha = TSNE_df_ha.merge(node_df_ha[[\"strain\", \"date\", \"y\", clade_membership]], on=\"strain\")\n",
    "merged_tsne_df_concatenated = TSNE_df_concatenated.merge(node_df_ha[[\"strain\", \"date\", \"y\", clade_membership]], on=\"strain\")"
   ]
  },
  {
   "cell_type": "code",
   "execution_count": null,
   "metadata": {
    "scrolled": true
   },
   "outputs": [],
   "source": [
    "mcc_calc_tsne = TSNE_df_ha.merge(mcc_calc_df[[\"strain\", \"date\", \"y\", clade_membership]], on=\"strain\")\n",
    "mcc_calc_tsne_concatenated = TSNE_df_concatenated.merge(mcc_calc_df[[\"strain\", \"date\", \"y\", clade_membership]], on=\"strain\")\n",
    "KDE_df_normal = get_euclidean_data_frame(sampled_df=mcc_calc_tsne, column_for_analysis=clade_membership, embedding=\"method\", column_list=['tsne_x', 'tsne_y'])"
   ]
  },
  {
   "cell_type": "code",
   "execution_count": null,
   "metadata": {
    "scrolled": true
   },
   "outputs": [],
   "source": [
    "domain =  merged_tsne_df_ha[\"t-sne_label\"].drop_duplicates().values\n",
    "range_ = colors[len(domain)-1:len(domain)].dropna(axis=1).values.tolist()[0]\n",
    "chart_12_tsne = scatterplot_with_tooltip_interactive(merged_tsne_df_ha,'tsne_x','tsne_y',\"tsne_x\",\"tsne_y\",['strain',clade_membership],'t-sne_label:N', domain, range_)\n",
    "chart_12_tsne"
   ]
  },
  {
   "cell_type": "code",
   "execution_count": null,
   "metadata": {
    "scrolled": true
   },
   "outputs": [],
   "source": [
    "KDE_df_cluster = get_euclidean_data_frame(sampled_df=mcc_calc_tsne[[\"tsne_x\", \"tsne_y\", \"strain\", \"t-sne_label\"]], column_for_analysis=\"t-sne_label\", embedding=\"tsne\", column_list=[\"tsne_x\", \"tsne_y\"])\n",
    "confusion_matrix_val_ha = confusion_matrix(KDE_df_normal[\"clade_status\"], KDE_df_cluster[\"clade_status\"])\n",
    "matthews_cc_val_ha = matthews_corrcoef(KDE_df_normal[\"clade_status\"], KDE_df_cluster[\"clade_status\"])"
   ]
  },
  {
   "cell_type": "code",
   "execution_count": null,
   "metadata": {},
   "outputs": [],
   "source": [
    "KDE_df_cluster = get_euclidean_data_frame(sampled_df=mcc_calc_tsne_concatenated[[\"tsne_x\", \"tsne_y\", \"strain\", \"t-sne_label\"]], column_for_analysis=\"t-sne_label\", embedding=\"tsne\", column_list=[\"tsne_x\", \"tsne_y\"])\n",
    "confusion_matrix_val_concatenated = confusion_matrix(KDE_df_normal[\"clade_status\"], KDE_df_cluster[\"clade_status\"])\n",
    "matthews_cc_val_concatenated = matthews_corrcoef(KDE_df_normal[\"clade_status\"], KDE_df_cluster[\"clade_status\"])"
   ]
  },
  {
   "cell_type": "code",
   "execution_count": null,
   "metadata": {
    "scrolled": true
   },
   "outputs": [],
   "source": [
    "domain =  sorted(merged_tsne_df_ha[\"t-sne_label\"].drop_duplicates().values)\n",
    "if -1 in domain:\n",
    "    range_ = [\"#999999\"] + colors[len(domain)-1:len(domain)].dropna(axis=1).values.tolist()[0]\n",
    "else: \n",
    "    range_ = colors[len(domain):len(domain)+1].dropna(axis=1).values.tolist()[0]\n",
    "list_of_chart_ha = linking_tree_with_plots_brush(merged_tsne_df_ha,['tsne_x','tsne_y'],[\"MDS1\", \"MDS2\"], 't-sne_label:N', ['strain',clade_membership], domain, range_)\n",
    "chart_ha = list_of_chart_ha[0]|list_of_chart_ha[1].properties(title=\"MCC: \" + str(round(matthews_cc_val_ha,4)))\n",
    "domain =  merged_tsne_df_concatenated[\"t-sne_label\"].drop_duplicates().values\n",
    "range_ = colors[len(domain)-1:len(domain)].dropna(axis=1).values.tolist()[0]\n",
    "list_of_chart_concatenated = linking_tree_with_plots_brush(merged_tsne_df_concatenated,['tsne_x','tsne_y'],[\"MDS1\", \"MDS2\"], 't-sne_label:N', ['strain',clade_membership], domain, range_)\n",
    "chart_concat = list_of_chart_concatenated[0]|list_of_chart_concatenated[1].properties(title=\"MCC: \" + str(round(matthews_cc_val_concatenated,4)))\n",
    "final_chart = alt.vconcat(chart_ha, chart_concat).resolve_scale(color='independent')\n",
    "final_chart"
   ]
  },
  {
   "cell_type": "code",
   "execution_count": null,
   "metadata": {
    "scrolled": true
   },
   "outputs": [],
   "source": [
    "save(final_chart, output_tsne_html)\n",
    "#save(final_chart, output_tsne_png, scale_factor=2.0)"
   ]
  },
  {
   "cell_type": "markdown",
   "metadata": {},
   "outputs": [],
   "source": [
    "# Running T-SNE on the Dataset "
   ]
  },
  {
   "cell_type": "code",
   "execution_count": null,
   "metadata": {
    "scrolled": true
   },
   "outputs": [],
   "source": [
    "domain =  sorted(merged_tsne_df_ha[clade_membership].drop_duplicates().values)\n",
    "if -1 in domain:\n",
    "    range_ = [\"#999999\"] + colors[len(domain)-1:len(domain)].dropna(axis=1).values.tolist()[0]\n",
    "else: \n",
    "    range_ = colors[len(domain):len(domain)+1].dropna(axis=1).values.tolist()[0]\n",
    "scatterplot_with_tooltip_interactive(merged_tsne_df_ha,'tsne_x','tsne_y','tsne_x','tsne_y',['strain', clade_membership],clade_membership+\":N\", domain, range_)"
   ]
  },
  {
   "cell_type": "code",
   "execution_count": null,
   "metadata": {
    "scrolled": true
   },
   "outputs": [],
   "source": [
    "domain =  sorted(merged_tsne_df_concatenated[clade_membership].drop_duplicates().values)\n",
    "if -1 in domain:\n",
    "    range_ = [\"#999999\"] + colors[len(domain)-1:len(domain)].dropna(axis=1).values.tolist()[0]\n",
    "else: \n",
    "    range_ = colors[len(domain):len(domain)+1].dropna(axis=1).values.tolist()[0]\n",
    "scatterplot_with_tooltip_interactive(merged_tsne_df_concatenated,'tsne_x','tsne_y','tsne_x','tsne_y',['strain', clade_membership],clade_membership+\":N\", domain, range_)"
   ]
  },
  {
   "cell_type": "code",
   "execution_count": null,
   "metadata": {
    "scrolled": true
   },
   "outputs": [],
   "source": [
    "list_of_chart_ha = linking_tree_with_plots_brush(\n",
    "    merged_tsne_df_ha,\n",
    "    ['tsne_x','tsne_y'],\n",
    "    ['tsne_x','tsne_y'],\n",
    "    clade_membership+\":N\",\n",
    "    [\"strain:N\", clade_membership+\":N\"],\n",
    "    domain,\n",
    "    range_\n",
    ")\n",
    "chart_tsne_ha = list_of_chart_ha[0]|list_of_chart_ha[1]\n",
    "chart_tsne_ha"
   ]
  },
  {
   "cell_type": "code",
   "execution_count": null,
   "metadata": {
    "scrolled": true
   },
   "outputs": [],
   "source": [
    "list_of_chart_concatenated = linking_tree_with_plots_brush(\n",
    "    merged_tsne_df_concatenated,\n",
    "    ['tsne_x','tsne_y'],\n",
    "    ['tsne_x','tsne_y'],\n",
    "    clade_membership+\":N\",\n",
    "    [\"strain:N\", clade_membership+\":N\"],\n",
    "    domain,\n",
    "    range_\n",
    ")\n",
    "chart_tsne_concatenated = list_of_chart_concatenated[0]|list_of_chart_concatenated[1]\n",
    "chart_tsne_concatenated"
   ]
  },
  {
   "cell_type": "code",
   "execution_count": null,
   "metadata": {
    "scrolled": true
   },
   "outputs": [],
   "source": [
    "chart_tsne_ha & chart_tsne_concatenated"
   ]
  },
  {
   "cell_type": "markdown",
   "metadata": {},
   "outputs": [],
   "source": [
    "# Running UMAP on the Dataset"
   ]
  },
  {
   "cell_type": "code",
   "execution_count": null,
   "metadata": {
    "scrolled": true
   },
   "outputs": [],
   "source": [
    "UMAP_df_ha = pd.read_csv(umap_df_ha, index_col=0)\n",
    "UMAP_df_concatenated = pd.read_csv(umap_df_concatenated, index_col=0)"
   ]
  },
  {
   "cell_type": "code",
   "execution_count": null,
   "metadata": {
    "scrolled": true
   },
   "outputs": [],
   "source": [
    "UMAP_df_concatenated"
   ]
  },
  {
   "cell_type": "code",
   "execution_count": null,
   "metadata": {
    "scrolled": true
   },
   "outputs": [],
   "source": [
    "merged_umap_df_ha = UMAP_df_ha.merge(node_df_ha[[\"strain\", \"date\", \"y\", clade_membership]], on=\"strain\")\n",
    "merged_umap_df_concatenated = UMAP_df_concatenated.merge(node_df_ha[[\"strain\", \"date\", \"y\", clade_membership]], on=\"strain\")"
   ]
  },
  {
   "cell_type": "code",
   "execution_count": null,
   "metadata": {
    "scrolled": true
   },
   "outputs": [],
   "source": [
    "UMAP_df_ha.index.tolist() == UMAP_df_concatenated.index.values.tolist()"
   ]
  },
  {
   "cell_type": "markdown",
   "metadata": {},
   "outputs": [],
   "source": [
    "# Linking all plots together clickable with Tree"
   ]
  },
  {
   "cell_type": "code",
   "execution_count": null,
   "metadata": {
    "scrolled": true
   },
   "outputs": [],
   "source": [
    "#merged_df = node_df.merge(\n",
    "#    PrincipalDf_concatenated.merge)\n",
    "merged_df = node_df_ha[[\"strain\", \"date\", \"y\", clade_membership]].merge(\n",
    "    principalDf_concatenated,\n",
    "    on=\"strain\"\n",
    ").merge(\n",
    "    MDS_df_concatenated,\n",
    "    on=\"strain\"\n",
    ").merge(\n",
    "    TSNE_df_concatenated,\n",
    "    on=\"strain\"\n",
    ").merge(\n",
    "    UMAP_df_concatenated,\n",
    "    on=\"strain\"\n",
    ")"
   ]
  },
  {
   "cell_type": "code",
   "execution_count": null,
   "metadata": {
    "scrolled": true
   },
   "outputs": [],
   "source": [
    "merged_df"
   ]
  },
  {
   "cell_type": "code",
   "execution_count": null,
   "metadata": {
    "scrolled": true
   },
   "outputs": [],
   "source": [
    "data = linking_tree_with_plots_brush(\n",
    "    node_df_ha.merge(merged_df[[\"strain\"]], on=\"strain\"),\n",
    "    ['mds1', 'mds2','tsne_x','tsne_y', 'pca1', 'pca2', 'umap_x','umap_y'],\n",
    "    ['MDS1', 'MDS2', 'TSNE1', 'TSNE2','PCA1 (Expected Variance : {}%'.format(round(explained_variance_PCA_ha[0]*100,2)) + \")\",\n",
    "    'PCA2 (Expected Variance : {}%'.format(round(explained_variance_PCA_ha[1]*100,2)) + \")\",'UMAP1','UMAP2'],\n",
    "    clade_membership+\":N\",\n",
    "    ['strain'],\n",
    "    domain,\n",
    "    range_\n",
    ")"
   ]
  },
  {
   "cell_type": "code",
   "execution_count": null,
   "metadata": {
    "scrolled": true
   },
   "outputs": [],
   "source": [
    "PCAMDS = data[3]|data[1]\n",
    "TSNEUMAP = data[2]|data[4]\n",
    "embeddings = alt.vconcat(PCAMDS,TSNEUMAP)\n",
    "embeddings\n",
    "fullChart = alt.vconcat(data[0],embeddings)\n",
    "fullChart"
   ]
  },
  {
   "cell_type": "code",
   "execution_count": null,
   "metadata": {
    "scrolled": true
   },
   "outputs": [],
   "source": [
    "filtered_merged_df = merged_df[merged_df[\"pca1\"] < 10].copy()"
   ]
  },
  {
   "cell_type": "code",
   "execution_count": null,
   "metadata": {
    "scrolled": true
   },
   "outputs": [],
   "source": [
    "filtered_merged_df.shape"
   ]
  },
  {
   "cell_type": "code",
   "execution_count": null,
   "metadata": {
    "scrolled": true
   },
   "outputs": [],
   "source": [
    "merged_df.shape"
   ]
  },
  {
   "cell_type": "code",
   "execution_count": null,
   "metadata": {
    "scrolled": true
   },
   "outputs": [],
   "source": [
    "data = linking_tree_with_plots_brush(\n",
    "    merged_df,\n",
    "    ['mds1', 'mds2','tsne_x','tsne_y', 'pca3', 'pca4', 'umap_x','umap_y'],\n",
    "    ['MDS1', 'MDS2', 'TSNE1', 'TSNE2','PCA3 (Expected Variance : {}%'.format(round(explained_variance_PCA_concatenated[2]*100,2)) + \")\",\n",
    "    'PCA4 (Expected Variance : {}%'.format(round(explained_variance_PCA_concatenated[3]*100,2)) + \")\",'UMAP1','UMAP2'],\n",
    "    clade_membership+\":N\",\n",
    "    ['strain', clade_membership],\n",
    "    domain,\n",
    "    range_\n",
    ")"
   ]
  },
  {
   "cell_type": "code",
   "execution_count": null,
   "metadata": {
    "scrolled": true
   },
   "outputs": [],
   "source": [
    "PCAMDS = data[3]|data[1]\n",
    "TSNEUMAP = data[2]|data[4]\n",
    "embeddings = alt.vconcat(PCAMDS,TSNEUMAP)\n",
    "embeddings\n",
    "fullChart = alt.vconcat(data[0],embeddings)\n",
    "fullChart"
   ]
  },
  {
   "cell_type": "code",
   "execution_count": null,
   "metadata": {
    "scrolled": true
   },
   "outputs": [],
   "source": [
    "# Final Chart"
   ]
  },
  {
   "cell_type": "code",
   "execution_count": null,
   "metadata": {
    "scrolled": true
   },
   "outputs": [],
   "source": [
    "merged_df.columns"
   ]
  },
  {
   "cell_type": "raw",
   "metadata": {},
   "outputs": [],
   "source": [
    "merged_df.columns = ['strain', 'date', 'y', clade_membership, 'pca1', 'pca2', 'pca3',\n",
    "       'pca4', 'pca5', 'pca6', 'pca7', 'pca8', 'pca9', 'pca10', 'pca_label',\n",
    "       'mds1', 'mds2', 'mds_label', 'tsne_x', 'tsne_y', 't-sne_label', 'umap_x',\n",
    "       'umap_y', 'umap_label']"
   ]
  },
  {
   "cell_type": "code",
   "execution_count": null,
   "metadata": {
    "scrolled": true
   },
   "outputs": [],
   "source": [
    "merged_df"
   ]
  },
  {
   "cell_type": "code",
   "execution_count": null,
   "metadata": {
    "scrolled": true
   },
   "outputs": [],
   "source": [
    "node_df_ha"
   ]
  },
  {
   "cell_type": "code",
   "execution_count": null,
   "metadata": {
    "scrolled": true
   },
   "outputs": [],
   "source": [
    "total_df = merged_df.merge(node_df_ha, on=\"strain\", suffixes=[\"\", \"_ha\"])\n",
    "total_df.rename(columns={'y_x':\"y\"}, inplace=True)"
   ]
  },
  {
   "cell_type": "code",
   "execution_count": null,
   "metadata": {
    "scrolled": true
   },
   "outputs": [],
   "source": [
    "total_df"
   ]
  },
  {
   "cell_type": "code",
   "execution_count": null,
   "metadata": {},
   "outputs": [],
   "source": [
    "embeddings_df.columns"
   ]
  },
  {
   "cell_type": "code",
   "execution_count": null,
   "metadata": {},
   "outputs": [],
   "source": [
    "domain = embeddings_df[clade_membership].drop_duplicates().values.tolist()"
   ]
  },
  {
   "cell_type": "code",
   "execution_count": null,
   "metadata": {},
   "outputs": [],
   "source": [
    "domain"
   ]
  },
  {
   "cell_type": "code",
   "execution_count": null,
   "metadata": {},
   "outputs": [],
   "source": [
    "# Rows are zero-indexed, so to get N colors, we select row N - 1.\n",
    "range_ = colors.loc[len(domain) - 1].dropna().values.tolist()"
   ]
  },
  {
   "cell_type": "code",
   "execution_count": null,
   "metadata": {},
   "outputs": [],
   "source": [
    "range_"
   ]
  },
  {
   "cell_type": "code",
   "execution_count": null,
   "metadata": {},
   "outputs": [],
   "source": [
    "# Replace known values for \"unassigned\" clade or cluster labels.\n",
    "index_for_unassigned = None\n",
    "if -1 in domain:\n",
    "    index_for_unassigned = domain.index(-1)\n",
    "elif \"unassigned\" in domain:\n",
    "    index_for_unassigned = domain.index(\"unassigned\")"
   ]
  },
  {
   "cell_type": "code",
   "execution_count": null,
   "metadata": {},
   "outputs": [],
   "source": [
    "# Set color of unassigned group to gray.\n",
    "if index_for_unassigned is not None:\n",
    "    range_[index_for_unassigned] = \"#999999\""
   ]
  },
  {
   "cell_type": "code",
   "execution_count": null,
   "metadata": {
    "scrolled": true
   },
   "outputs": [],
   "source": [
    "# TODO:\n",
    "# - Add MCC accuracies as titles per plot\n",
    "# - Add PCA variance explained back to plots\n",
    "data = linking_tree_with_plots_brush(\n",
    "    embeddings_df,\n",
    "    [\n",
    "        'mds1_concatenated',\n",
    "        'mds2_concatenated',\n",
    "        'mds1_ha',\n",
    "        'mds2_ha',\n",
    "        'tsne_x_concatenated',\n",
    "        'tsne_y_concatenated',\n",
    "        'tsne_x_ha',\n",
    "        'tsne_y_ha',\n",
    "        'pca1_concatenated',\n",
    "        'pca2_concatenated',\n",
    "        'pca1_ha',\n",
    "        'pca2_ha',\n",
    "        'umap_x_concatenated',\n",
    "        'umap_y_concatenated',\n",
    "        'umap_x_ha',\n",
    "        'umap_y_ha',\n",
    "    ],\n",
    "    [\n",
    "        'MDS 1',\n",
    "        'MDS 2',\n",
    "        'MDS 1',\n",
    "        'MDS 2',\n",
    "        't-SNE 1',\n",
    "        't-SNE 2',\n",
    "        't-SNE 1',\n",
    "        't-SNE 2', \n",
    "        'PCA 1',# (Expected Variance : {}%'.format(round(explained_variance_PCA_concatenated[0]*100,2)) + \")\",\n",
    "        'PCA 2',# (Expected Variance : {}%'.format(round(explained_variance_PCA_concatenated[1]*100,2)) + \")\",\n",
    "        'PCA 1',# (Expected Variance : {}%'.format(round(explained_variance_PCA_ha[0]*100,2)) + \")\",\n",
    "        'PCA 2',# (Expected Variance : {}%'.format(round(explained_variance_PCA_ha[1]*100,2)) + \")\",\n",
    "        'UMAP 1',\n",
    "        'UMAP 2',\n",
    "        'UMAP 1',\n",
    "        'UMAP 2',\n",
    "    ],\n",
    "    clade_membership+\":N\",\n",
    "    ['strain', clade_membership],\n",
    "    domain,\n",
    "    range_\n",
    ")"
   ]
  },
  {
   "cell_type": "code",
   "execution_count": null,
   "metadata": {
    "scrolled": true
   },
   "outputs": [],
   "source": [
    "chart_embeddings = alt.vconcat(data[0], data[6]|data[5], data[2]|data[1], data[4]|data[3], data[8]|data[7])\n",
    "chart_embeddings"
   ]
  },
  {
   "cell_type": "code",
   "execution_count": null,
   "metadata": {
    "scrolled": true
   },
   "outputs": [],
   "source": [
    "chart_embeddings.save(output_full_html)\n",
    "save(chart_embeddings, output_full_png, scale_factor=2.0)"
   ]
  },
  {
   "cell_type": "code",
   "execution_count": null,
   "metadata": {},
   "outputs": [],
   "source": []
  }
 ],
 "metadata": {
  "kernelspec": {
   "display_name": "Python 3 (ipykernel)",
   "language": "python",
   "name": "python3"
  },
  "language_info": {
   "codemirror_mode": {
    "name": "ipython",
    "version": 3
   },
   "file_extension": ".py",
   "mimetype": "text/x-python",
   "name": "python",
   "nbconvert_exporter": "python",
   "pygments_lexer": "ipython3",
   "version": "3.7.12"
  }
 },
 "nbformat": 4,
 "nbformat_minor": 4
}
