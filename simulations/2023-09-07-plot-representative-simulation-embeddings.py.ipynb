{
 "cells": [
  {
   "cell_type": "code",
   "execution_count": null,
   "id": "134b4d44-6b91-4e44-9478-4fa8410b599a",
   "metadata": {},
   "outputs": [],
   "source": [
    "import matplotlib.pyplot as plt\n",
    "import pandas as pd\n",
    "import seaborn as sns"
   ]
  },
  {
   "cell_type": "code",
   "execution_count": null,
   "id": "64098afc-78cf-4e91-958d-2d5fbb352356",
   "metadata": {},
   "outputs": [],
   "source": [
    "influenza_metadata = pd.read_csv(\n",
    "    snakemake.input.influenza_metadata,\n",
    "    sep=\"\\t\",\n",
    "    index_col=\"strain\",\n",
    ")"
   ]
  },
  {
   "cell_type": "code",
   "execution_count": null,
   "id": "05de448e-c236-481a-a0d1-94a14fdd8acc",
   "metadata": {},
   "outputs": [],
   "source": [
    "influenza_metadata.head()"
   ]
  },
  {
   "cell_type": "code",
   "execution_count": null,
   "id": "a7d5de62-f167-4cfc-86fa-94b5639329f3",
   "metadata": {},
   "outputs": [],
   "source": [
    "influenza_metadata.shape"
   ]
  },
  {
   "cell_type": "code",
   "execution_count": null,
   "id": "83a8a62b-bf11-46f7-8af8-202fdbd10ec6",
   "metadata": {},
   "outputs": [],
   "source": [
    "influenza_pca = pd.read_csv(\n",
    "    snakemake.input.influenza_pca,\n",
    "    index_col=\"strain\",\n",
    ").join(\n",
    "    influenza_metadata,\n",
    ")"
   ]
  },
  {
   "cell_type": "code",
   "execution_count": null,
   "id": "3658e20b-f6d6-472a-af3d-0a2fb789b93d",
   "metadata": {},
   "outputs": [],
   "source": [
    "influenza_pca.head()"
   ]
  },
  {
   "cell_type": "code",
   "execution_count": null,
   "id": "d4933047-ef16-47d4-8cdb-8b77e7d73707",
   "metadata": {},
   "outputs": [],
   "source": [
    "influenza_pca.shape"
   ]
  },
  {
   "cell_type": "code",
   "execution_count": null,
   "id": "3a4f67c7-2de3-49c4-bc15-51e7ed760fc7",
   "metadata": {},
   "outputs": [],
   "source": [
    "influenza_mds = pd.read_csv(\n",
    "    snakemake.input.influenza_mds,\n",
    "    index_col=\"strain\",\n",
    ").join(\n",
    "    influenza_metadata,\n",
    ")"
   ]
  },
  {
   "cell_type": "code",
   "execution_count": null,
   "id": "9d90b60a-d1f4-417e-be78-8aff488a1ae3",
   "metadata": {},
   "outputs": [],
   "source": [
    "influenza_mds.head()"
   ]
  },
  {
   "cell_type": "code",
   "execution_count": null,
   "id": "e2b545c8-91d5-4f30-9dee-62c5c8fa8817",
   "metadata": {},
   "outputs": [],
   "source": [
    "influenza_tsne = pd.read_csv(\n",
    "    snakemake.input.influenza_tsne,\n",
    "    index_col=\"strain\",\n",
    ").join(\n",
    "    influenza_metadata,\n",
    ")"
   ]
  },
  {
   "cell_type": "code",
   "execution_count": null,
   "id": "19dd75e4-e083-46ec-8461-9aab84b88c74",
   "metadata": {},
   "outputs": [],
   "source": [
    "influenza_tsne.head()"
   ]
  },
  {
   "cell_type": "code",
   "execution_count": null,
   "id": "bb84716f-bfc6-4f44-aebc-2b393679e3d3",
   "metadata": {},
   "outputs": [],
   "source": [
    "influenza_umap = pd.read_csv(\n",
    "    snakemake.input.influenza_umap,\n",
    "    index_col=\"strain\",\n",
    ").join(\n",
    "    influenza_metadata,\n",
    ")"
   ]
  },
  {
   "cell_type": "code",
   "execution_count": null,
   "id": "f964e584-d4d2-44a9-b8e5-42c11e7e49ec",
   "metadata": {},
   "outputs": [],
   "source": [
    "influenza_umap.head()"
   ]
  },
  {
   "cell_type": "code",
   "execution_count": null,
   "id": "fecbba14-8de9-4091-9d47-35374ca16ba9",
   "metadata": {},
   "outputs": [],
   "source": [
    "coronavirus_metadata = pd.read_csv(\n",
    "    snakemake.input.coronavirus_metadata,\n",
    "    sep=\"\\t\",\n",
    "    index_col=\"strain\",\n",
    ")"
   ]
  },
  {
   "cell_type": "code",
   "execution_count": null,
   "id": "8c89f602-b3cb-46d8-9845-31c0cc761b76",
   "metadata": {},
   "outputs": [],
   "source": [
    "coronavirus_metadata.head()"
   ]
  },
  {
   "cell_type": "code",
   "execution_count": null,
   "id": "0056fcc1-14a4-441f-a673-782801267ccf",
   "metadata": {},
   "outputs": [],
   "source": [
    "coronavirus_pca = pd.read_csv(\n",
    "    snakemake.input.coronavirus_pca,\n",
    "    index_col=\"strain\",\n",
    ").join(\n",
    "    coronavirus_metadata,\n",
    ")"
   ]
  },
  {
   "cell_type": "code",
   "execution_count": null,
   "id": "2bac61b9-6fd5-4612-b834-ca054de76788",
   "metadata": {},
   "outputs": [],
   "source": [
    "coronavirus_pca.head()"
   ]
  },
  {
   "cell_type": "code",
   "execution_count": null,
   "id": "5aa9e635-9a61-400e-ad75-a8e45b240c74",
   "metadata": {},
   "outputs": [],
   "source": [
    "coronavirus_pca.shape"
   ]
  },
  {
   "cell_type": "code",
   "execution_count": null,
   "id": "94126501-3d83-48fe-a6c0-1b8cb3f0201e",
   "metadata": {},
   "outputs": [],
   "source": [
    "coronavirus_pca[\"is_recombinant\"].sum()"
   ]
  },
  {
   "cell_type": "code",
   "execution_count": null,
   "id": "8797fe85-d951-4a9b-aaa8-af96b0589aa1",
   "metadata": {},
   "outputs": [],
   "source": [
    "coronavirus_mds = pd.read_csv(\n",
    "    snakemake.input.coronavirus_mds,\n",
    "    index_col=\"strain\",\n",
    ").join(\n",
    "    coronavirus_metadata,\n",
    ")"
   ]
  },
  {
   "cell_type": "code",
   "execution_count": null,
   "id": "1db41b43-518d-4ee9-9109-86dbfd4e0b7f",
   "metadata": {},
   "outputs": [],
   "source": [
    "coronavirus_mds.head()"
   ]
  },
  {
   "cell_type": "code",
   "execution_count": null,
   "id": "f58ca49a-ddf8-4042-8d1b-fd4d1552830e",
   "metadata": {},
   "outputs": [],
   "source": [
    "coronavirus_tsne = pd.read_csv(\n",
    "    snakemake.input.coronavirus_tsne,\n",
    "    index_col=\"strain\",\n",
    ").join(\n",
    "    coronavirus_metadata,\n",
    ")"
   ]
  },
  {
   "cell_type": "code",
   "execution_count": null,
   "id": "4d85c8ab-93e5-44ed-96c2-2b4b9ae842a2",
   "metadata": {},
   "outputs": [],
   "source": [
    "coronavirus_tsne.head()"
   ]
  },
  {
   "cell_type": "code",
   "execution_count": null,
   "id": "ba27e573-b0cb-4eec-b225-61e0a63c613b",
   "metadata": {},
   "outputs": [],
   "source": [
    "coronavirus_umap = pd.read_csv(\n",
    "    snakemake.input.coronavirus_umap,\n",
    "    index_col=\"strain\",\n",
    ").join(\n",
    "    coronavirus_metadata,\n",
    ")"
   ]
  },
  {
   "cell_type": "code",
   "execution_count": null,
   "id": "74347929-cf78-4006-9760-e308ef58d294",
   "metadata": {},
   "outputs": [],
   "source": [
    "coronavirus_umap.head()"
   ]
  },
  {
   "cell_type": "code",
   "execution_count": null,
   "id": "72a97785-1ee9-41e5-b607-24ba155fe4e4",
   "metadata": {},
   "outputs": [],
   "source": [
    "fig, axes = plt.subplots(\n",
    "    nrows=2,\n",
    "    ncols=4,\n",
    "    figsize=(8, 4),\n",
    "    dpi=150,\n",
    "    gridspec_kw={\n",
    "        \"wspace\": 0.0,\n",
    "        \"hspace\": 0.0\n",
    "    },\n",
    "    constrained_layout=False,\n",
    ")\n",
    "\n",
    "alpha = 0.25\n",
    "size = 12\n",
    "recombinant_size = 150\n",
    "\n",
    "# Influenza\n",
    "\n",
    "## PCA\n",
    "axes[0][0] = sns.scatterplot(\n",
    "    data=influenza_pca,\n",
    "    x=\"pca1\",\n",
    "    y=\"pca2\",\n",
    "    hue=\"generation\",\n",
    "    ax=axes[0][0],\n",
    "    alpha=alpha,\n",
    "    s=size,\n",
    "    legend=False,\n",
    ")\n",
    "\n",
    "\n",
    "## MDS\n",
    "axes[0][1] = sns.scatterplot(\n",
    "    data=influenza_mds,\n",
    "    x=\"mds1\",\n",
    "    y=\"mds2\",\n",
    "    hue=\"generation\",\n",
    "    ax=axes[0][1],\n",
    "    alpha=alpha,\n",
    "    s=size,\n",
    "    legend=False,\n",
    ")\n",
    "\n",
    "## t-SNE\n",
    "axes[0][2] = sns.scatterplot(\n",
    "    data=influenza_tsne,\n",
    "    x=\"tsne_x\",\n",
    "    y=\"tsne_y\",\n",
    "    hue=\"generation\",\n",
    "    ax=axes[0][2],\n",
    "    alpha=alpha,\n",
    "    s=size,\n",
    "    legend=False,\n",
    ")\n",
    "\n",
    "## UMAP\n",
    "axes[0][3] = sns.scatterplot(\n",
    "    data=influenza_umap,\n",
    "    x=\"umap_x\",\n",
    "    y=\"umap_y\",\n",
    "    hue=\"generation\",\n",
    "    ax=axes[0][3],\n",
    "    alpha=alpha,\n",
    "    s=size,\n",
    "    legend=False,\n",
    ")\n",
    "\n",
    "# Coronavirus-like (moderate recombination rate)\n",
    "\n",
    "## PCA\n",
    "axes[1][0] = sns.scatterplot(\n",
    "    data=coronavirus_pca,\n",
    "    x=\"pca1\",\n",
    "    y=\"pca2\",\n",
    "    hue=\"generation\",\n",
    "    ax=axes[1][0],\n",
    "    alpha=alpha,\n",
    "    s=size,\n",
    "    legend=True,\n",
    ")\n",
    "\n",
    "coronavirus_handles, coronavirus_labels = axes[1][0].get_legend_handles_labels()\n",
    "axes[1][0].legend(\n",
    "    [coronavirus_handles[0], coronavirus_handles[-1]],\n",
    "    [\"early\", \"late\"],\n",
    "    loc=\"upper center\",\n",
    "    title=\"Generation\",\n",
    "    frameon=False,\n",
    "    columnspacing=0.5,\n",
    "    handletextpad=0.5,\n",
    "    title_fontsize=10,\n",
    ")\n",
    "\n",
    "## MDS\n",
    "axes[1][1] = sns.scatterplot(\n",
    "    data=coronavirus_mds,\n",
    "    x=\"mds1\",\n",
    "    y=\"mds2\",\n",
    "    hue=\"generation\",\n",
    "    ax=axes[1][1],\n",
    "    alpha=alpha,\n",
    "    s=size,\n",
    "    legend=False,\n",
    ")\n",
    "\n",
    "## t-SNE\n",
    "axes[1][2] = sns.scatterplot(\n",
    "    data=coronavirus_tsne,\n",
    "    x=\"tsne_x\",\n",
    "    y=\"tsne_y\",\n",
    "    hue=\"generation\",\n",
    "    ax=axes[1][2],\n",
    "    alpha=alpha,\n",
    "    s=size,\n",
    "    legend=False,\n",
    ")\n",
    "\n",
    "## UMAP\n",
    "axes[1][3] = sns.scatterplot(\n",
    "    data=coronavirus_umap,\n",
    "    x=\"umap_x\",\n",
    "    y=\"umap_y\",\n",
    "    hue=\"generation\",\n",
    "    ax=axes[1][3],\n",
    "    alpha=alpha,\n",
    "    s=size,\n",
    "    legend=False,\n",
    ")\n",
    "\n",
    "for ax in axes.flatten():\n",
    "    ax.set_xlabel(\"\")\n",
    "    ax.set_ylabel(\"\")\n",
    "    ax.set_xticks([])\n",
    "    ax.set_yticks([])\n",
    "    \n",
    "axes[0][0].set_title(\"PCA\")\n",
    "axes[0][1].set_title(\"MDS\")\n",
    "axes[0][2].set_title(\"t-SNE\")\n",
    "axes[0][3].set_title(\"UMAP\")\n",
    "\n",
    "axes[0][0].set_ylabel(\"Influenza-like\")\n",
    "axes[1][0].set_ylabel(\"Coronavirus-like\")\n",
    "\n",
    "plt.tight_layout()\n",
    "plt.savefig(snakemake.output.all_embeddings)"
   ]
  },
  {
   "cell_type": "code",
   "execution_count": null,
   "id": "487ecf47-4978-4995-ac4f-434122c5e626",
   "metadata": {},
   "outputs": [],
   "source": [
    "fig, axes = plt.subplots(\n",
    "    nrows=2,\n",
    "    ncols=2,\n",
    "    figsize=(5, 4),\n",
    "    dpi=150,\n",
    "    constrained_layout=False,\n",
    ")\n",
    "\n",
    "alpha = 0.25\n",
    "size = 12\n",
    "recombinant_size = 150\n",
    "\n",
    "# Influenza\n",
    "\n",
    "## MDS 1 and 2\n",
    "axes[0][0] = sns.scatterplot(\n",
    "    data=influenza_mds,\n",
    "    x=\"mds1\",\n",
    "    y=\"mds2\",\n",
    "    hue=\"generation\",\n",
    "    ax=axes[0][0],\n",
    "    alpha=alpha,\n",
    "    s=size,\n",
    "    legend=False,\n",
    ")\n",
    "axes[0][0].set_xlabel(\"MDS 1\")\n",
    "axes[0][0].set_ylabel(\"Influenza-like MDS 2\")\n",
    "\n",
    "## MDS 2 and 3\n",
    "axes[0][1] = sns.scatterplot(\n",
    "    data=influenza_mds,\n",
    "    x=\"mds2\",\n",
    "    y=\"mds3\",\n",
    "    hue=\"generation\",\n",
    "    ax=axes[0][1],\n",
    "    alpha=alpha,\n",
    "    s=size,\n",
    "    legend=True,\n",
    ")\n",
    "influenza_mds_handles, influenza_mds_labels = axes[0][1].get_legend_handles_labels()\n",
    "axes[0][1].legend(\n",
    "    [influenza_mds_handles[0], influenza_mds_handles[-1]],\n",
    "    [\"early\", \"late\"],\n",
    "    bbox_to_anchor=(1.05, 1),\n",
    "    loc=\"upper left\",\n",
    "    title=\"Generation\",\n",
    "    frameon=False,\n",
    "    ncol=1,\n",
    "    columnspacing=0.5,\n",
    ")\n",
    "axes[0][1].set_xlabel(\"MDS 2\")\n",
    "axes[0][1].set_ylabel(\"Influenza-like MDS 3\")\n",
    "\n",
    "# Coronavirus-like (moderate recombination rate)\n",
    "\n",
    "## MDS 1 and 2\n",
    "axes[1][0] = sns.scatterplot(\n",
    "    data=coronavirus_mds,\n",
    "    x=\"mds1\",\n",
    "    y=\"mds2\",\n",
    "    hue=\"generation\",\n",
    "    ax=axes[1][0],\n",
    "    alpha=alpha,\n",
    "    s=size,\n",
    "    legend=False,\n",
    ")\n",
    "axes[1][0].set_xlabel(\"MDS 1\")\n",
    "axes[1][0].set_ylabel(\"Coronavirus-like MDS 2\")\n",
    "\n",
    "## MDS 2 and 3\n",
    "axes[1][1] = sns.scatterplot(\n",
    "    data=coronavirus_mds,\n",
    "    x=\"mds2\",\n",
    "    y=\"mds3\",\n",
    "    hue=\"generation\",\n",
    "    ax=axes[1][1],\n",
    "    alpha=alpha,\n",
    "    s=size,\n",
    "    legend=True,\n",
    ")\n",
    "coronavirus_mds_handles, coronavirus_mds_labels = axes[1][1].get_legend_handles_labels()\n",
    "axes[1][1].legend(\n",
    "    [coronavirus_mds_handles[0], coronavirus_mds_handles[-1]],\n",
    "    [\"early\", \"late\"],\n",
    "    bbox_to_anchor=(1.05, 1),\n",
    "    loc=\"upper left\",\n",
    "    title=\"Generation\",\n",
    "    frameon=False,\n",
    "    columnspacing=0.5,\n",
    ")\n",
    "\n",
    "axes[1][1].set_xlabel(\"MDS 2\")\n",
    "axes[1][1].set_ylabel(\"Coronavirus-like MDS 3\")\n",
    "\n",
    "for ax in axes.flatten():\n",
    "    ax.set_xticks([])\n",
    "    ax.set_yticks([])\n",
    "\n",
    "plt.tight_layout()\n",
    "plt.savefig(snakemake.output.mds_embeddings)"
   ]
  },
  {
   "cell_type": "code",
   "execution_count": null,
   "id": "75b81a26",
   "metadata": {},
   "outputs": [],
   "source": []
  }
 ],
 "metadata": {
  "kernelspec": {
   "display_name": "Python 3 (ipykernel)",
   "language": "python",
   "name": "python3"
  },
  "language_info": {
   "codemirror_mode": {
    "name": "ipython",
    "version": 3
   },
   "file_extension": ".py",
   "mimetype": "text/x-python",
   "name": "python",
   "nbconvert_exporter": "python",
   "pygments_lexer": "ipython3",
   "version": "3.9.18"
  }
 },
 "nbformat": 4,
 "nbformat_minor": 5
}
