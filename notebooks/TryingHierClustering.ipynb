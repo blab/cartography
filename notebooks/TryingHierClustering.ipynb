{
 "cells": [
  {
   "cell_type": "code",
   "execution_count": 2,
   "metadata": {},
   "outputs": [],
   "source": [
    "# needed imports\n",
    "from matplotlib import pyplot as plt\n",
    "from scipy.cluster.hierarchy import dendrogram, linkage\n",
    "import numpy as np\n",
    "import pandas as pd"
   ]
  },
  {
   "cell_type": "code",
   "execution_count": 3,
   "metadata": {},
   "outputs": [],
   "source": [
    "'''\n",
    "First define a function to read in fasta file.\n",
    "1. adding line = line.rstrip(), which will remove \\n at the end of each line\n",
    "2. save results as a generator object, with name (strains) and seq (genomes), easier to store and reference\n",
    "\n",
    "'''\n",
    "import pandas as pd\n",
    "import numpy as np\n",
    "\n",
    "def read_fasta(fp):\n",
    "        name, seq = None, []\n",
    "        for line in fp:\n",
    "            line = line.rstrip()\n",
    "            if line.startswith(\">\"):\n",
    "                if name: yield (name, ''.join(seq))\n",
    "                name, seq = line, []\n",
    "            else:\n",
    "                seq.append(line)\n",
    "        if name: yield (name, ''.join(seq))\n",
    "\n",
    "            "
   ]
  },
  {
   "cell_type": "code",
   "execution_count": 4,
   "metadata": {},
   "outputs": [],
   "source": [
    "#adding strain data to one array and genomic data to the other\n",
    "strains = []\n",
    "genomes = []\n",
    "\n",
    "with open(r'C:/Users/srava/BedfordProjects/zika/results/aligned.fasta') as fp:\n",
    "    for name, seq in read_fasta(fp):\n",
    "            strains.append(name)\n",
    "            genomes.append(seq)"
   ]
  },
  {
   "cell_type": "code",
   "execution_count": 5,
   "metadata": {},
   "outputs": [],
   "source": [
    "%matplotlib inline\n",
    "np.set_printoptions(precision=5, suppress=True)  # suppress scientific float notation"
   ]
  },
  {
   "cell_type": "code",
   "execution_count": 6,
   "metadata": {},
   "outputs": [],
   "source": [
    "# Return the Hamming distance between string1 and string2.\n",
    "# string1 and string2 should be the same length.\n",
    "def hamming_distance(array1, array2): \n",
    "    # Start with a distance of zero, and count up\n",
    "    distance = 0\n",
    "    # Loop over the indices of the string\n",
    "    L = len(array1)\n",
    "    for i in range(L):\n",
    "        # Add 1 to the distance if these two characters are not equal\n",
    "        if array1[i] != array2[i] and array1[i] != 'N' and array2[i] != 'N':\n",
    "            distance += 4\n",
    "    # Return the final count of differences\n",
    "    return distance"
   ]
  },
  {
   "cell_type": "code",
   "execution_count": 7,
   "metadata": {},
   "outputs": [],
   "source": [
    "def hamming_distance2(array1, array2):\n",
    "    array1 = np.frombuffer(array1.encode(),dtype=\"s1\")\n",
    "    array2 = np.frombuffer(array2.encode(),dtype=\"s2\")\n",
    "    indices = (array1 != \"N\")&(array2 != \"N\")\n",
    "    return (array1[indices] != array2[indices]).sum()"
   ]
  },
  {
   "cell_type": "code",
   "execution_count": 8,
   "metadata": {},
   "outputs": [
    {
     "name": "stdout",
     "output_type": "stream",
     "text": [
      "     strain 1  strain 2  strain 3  strain 4  strain 5  strain 6  strain 7  \\\n",
      "0         0.0      48.0      60.0      56.0      76.0      52.0      48.0   \n",
      "1        48.0       0.0      60.0      56.0      72.0      52.0      44.0   \n",
      "2        60.0      60.0       0.0      68.0      84.0      64.0      56.0   \n",
      "3        56.0      56.0      68.0       0.0      32.0      60.0      52.0   \n",
      "4        76.0      72.0      84.0      32.0       0.0      80.0      76.0   \n",
      "5        52.0      52.0      64.0      60.0      80.0       0.0      52.0   \n",
      "6        48.0      44.0      56.0      52.0      76.0      52.0       0.0   \n",
      "7        52.0      48.0      60.0      48.0      72.0      56.0      52.0   \n",
      "8        52.0      48.0      60.0      56.0      80.0      56.0      52.0   \n",
      "9        72.0      76.0      88.0      84.0     108.0      84.0      76.0   \n",
      "10       72.0      76.0      88.0      84.0     108.0      84.0      76.0   \n",
      "11       60.0      60.0      64.0      64.0      80.0      64.0      56.0   \n",
      "12       80.0      76.0      88.0      84.0     104.0      80.0      76.0   \n",
      "13       72.0      68.0      80.0      76.0     100.0      72.0      68.0   \n",
      "14       52.0      52.0      64.0      60.0      80.0      56.0      44.0   \n",
      "15       36.0      36.0      48.0      44.0      64.0      40.0      36.0   \n",
      "16       60.0      60.0      72.0      68.0      88.0      64.0      60.0   \n",
      "17       68.0      68.0      80.0      76.0      96.0      72.0      68.0   \n",
      "18       76.0      76.0      88.0      68.0      88.0      80.0      76.0   \n",
      "19       68.0      72.0      84.0      80.0      92.0      76.0      64.0   \n",
      "20       48.0      52.0      60.0      60.0      76.0      56.0      48.0   \n",
      "21       56.0      52.0      64.0      60.0      84.0      60.0      52.0   \n",
      "22       60.0      60.0      72.0      60.0      80.0      64.0      56.0   \n",
      "23       64.0      64.0      76.0      64.0      84.0      68.0      60.0   \n",
      "24       68.0      68.0      80.0      68.0      88.0      72.0      60.0   \n",
      "25       60.0      60.0      72.0      60.0      80.0      64.0      56.0   \n",
      "26       68.0      68.0      80.0      68.0      88.0      72.0      64.0   \n",
      "27       72.0      72.0      84.0      72.0      88.0      76.0      64.0   \n",
      "28       72.0      68.0      80.0      68.0      92.0      76.0      68.0   \n",
      "29       84.0      80.0      92.0      80.0     104.0      88.0      80.0   \n",
      "..        ...       ...       ...       ...       ...       ...       ...   \n",
      "489     132.0     116.0     132.0     132.0     132.0     128.0     124.0   \n",
      "490     208.0     200.0     220.0     224.0     224.0     212.0     200.0   \n",
      "491     124.0     124.0     128.0     132.0     140.0     136.0     128.0   \n",
      "492     204.0     200.0     216.0     208.0     224.0     208.0     192.0   \n",
      "493     104.0      92.0     120.0     116.0     136.0     112.0     100.0   \n",
      "494      60.0      56.0      68.0      56.0      68.0      52.0      56.0   \n",
      "495     188.0     192.0     200.0     200.0     208.0     196.0     180.0   \n",
      "496     196.0     192.0     200.0     204.0     216.0     200.0     184.0   \n",
      "497     172.0     172.0     184.0     188.0     204.0     180.0     168.0   \n",
      "498     156.0     144.0     160.0     156.0     160.0     152.0     152.0   \n",
      "499      76.0      80.0      84.0      84.0      96.0      84.0      52.0   \n",
      "500     156.0     148.0     160.0     164.0     184.0     148.0     152.0   \n",
      "501     156.0     152.0     164.0     156.0     176.0     152.0     148.0   \n",
      "502      52.0      52.0      72.0      60.0      76.0      64.0      52.0   \n",
      "503     156.0     152.0     172.0     160.0     176.0     164.0     152.0   \n",
      "504     188.0     184.0     188.0     196.0     204.0     188.0     176.0   \n",
      "505     144.0     140.0     156.0     140.0     152.0     152.0     132.0   \n",
      "506      60.0      64.0      76.0      72.0      84.0      72.0      64.0   \n",
      "507     132.0     124.0     140.0     140.0     152.0     136.0     120.0   \n",
      "508      76.0      68.0      72.0      72.0      88.0      80.0      72.0   \n",
      "509     160.0     152.0     176.0     172.0     172.0     160.0     152.0   \n",
      "510     140.0     136.0     144.0     148.0     164.0     140.0     132.0   \n",
      "511     120.0     120.0     128.0     128.0     136.0     120.0     120.0   \n",
      "512     132.0     128.0     136.0     140.0     144.0     124.0     124.0   \n",
      "513     116.0     104.0     116.0     124.0     120.0     108.0     108.0   \n",
      "514      64.0      60.0      76.0      68.0      96.0      68.0      60.0   \n",
      "515     140.0     136.0     160.0     144.0     140.0     140.0     144.0   \n",
      "516     112.0     112.0     132.0     116.0     140.0     124.0     104.0   \n",
      "517      40.0      52.0      52.0      44.0      56.0      48.0      48.0   \n",
      "518      44.0      48.0      52.0      36.0      52.0      40.0      32.0   \n",
      "\n",
      "     strain 8  strain 9  strain 10  ...  strain 510  strain 511  strain 512  \\\n",
      "0        52.0      52.0       72.0  ...       160.0       140.0       120.0   \n",
      "1        48.0      48.0       76.0  ...       152.0       136.0       120.0   \n",
      "2        60.0      60.0       88.0  ...       176.0       144.0       128.0   \n",
      "3        48.0      56.0       84.0  ...       172.0       148.0       128.0   \n",
      "4        72.0      80.0      108.0  ...       172.0       164.0       136.0   \n",
      "5        56.0      56.0       84.0  ...       160.0       140.0       120.0   \n",
      "6        52.0      52.0       76.0  ...       152.0       132.0       120.0   \n",
      "7         0.0      56.0       80.0  ...       156.0       136.0       108.0   \n",
      "8        56.0       0.0       84.0  ...       156.0       136.0       120.0   \n",
      "9        80.0      84.0        0.0  ...       172.0       168.0       152.0   \n",
      "10       80.0      84.0        0.0  ...       172.0       168.0       152.0   \n",
      "11       64.0      68.0       88.0  ...       144.0       140.0       112.0   \n",
      "12       80.0      80.0      108.0  ...       172.0       172.0       136.0   \n",
      "13       72.0      72.0      100.0  ...       168.0       164.0       132.0   \n",
      "14       48.0      56.0       84.0  ...       168.0       148.0       124.0   \n",
      "15       40.0      40.0       68.0  ...       152.0       132.0       116.0   \n",
      "16       64.0      64.0       92.0  ...       144.0       128.0       108.0   \n",
      "17       72.0      72.0      100.0  ...       168.0       152.0       124.0   \n",
      "18       72.0      80.0      108.0  ...       172.0       156.0       132.0   \n",
      "19       68.0      68.0       96.0  ...       180.0       148.0       120.0   \n",
      "20       52.0      52.0       80.0  ...       164.0       140.0       116.0   \n",
      "21       56.0      60.0       88.0  ...       164.0       132.0       116.0   \n",
      "22       44.0      64.0       92.0  ...       160.0       144.0       124.0   \n",
      "23       48.0      68.0       96.0  ...       164.0       148.0       128.0   \n",
      "24       52.0      72.0      100.0  ...       172.0       152.0       128.0   \n",
      "25       44.0      64.0       92.0  ...       160.0       144.0       124.0   \n",
      "26       52.0      72.0      100.0  ...       168.0       152.0       132.0   \n",
      "27       52.0      72.0      100.0  ...       172.0       152.0       128.0   \n",
      "28       56.0      76.0      104.0  ...       168.0       152.0       136.0   \n",
      "29       68.0      88.0      116.0  ...       184.0       160.0       140.0   \n",
      "..        ...       ...        ...  ...         ...         ...         ...   \n",
      "489     124.0     124.0      144.0  ...       100.0        52.0        52.0   \n",
      "490     212.0     212.0      236.0  ...       180.0       132.0        92.0   \n",
      "491     128.0     128.0      148.0  ...       100.0       104.0        76.0   \n",
      "492     208.0     212.0      224.0  ...       164.0       108.0        64.0   \n",
      "493     112.0     108.0      128.0  ...       144.0       152.0       100.0   \n",
      "494      40.0      52.0       76.0  ...       144.0       120.0       112.0   \n",
      "495     180.0     192.0      200.0  ...       148.0       116.0        68.0   \n",
      "496     188.0     192.0      216.0  ...       156.0       116.0        76.0   \n",
      "497     180.0     180.0      188.0  ...       156.0       100.0        44.0   \n",
      "498     164.0     156.0      176.0  ...       108.0       128.0        68.0   \n",
      "499      76.0      88.0      108.0  ...       144.0       144.0       104.0   \n",
      "500     152.0     160.0      176.0  ...        56.0       128.0        76.0   \n",
      "501     148.0     156.0      172.0  ...       112.0        84.0        48.0   \n",
      "502      36.0      56.0       80.0  ...       132.0       124.0        88.0   \n",
      "503     160.0     160.0      184.0  ...       128.0        96.0        76.0   \n",
      "504     176.0     188.0      216.0  ...       164.0        96.0        64.0   \n",
      "505     144.0     136.0      172.0  ...        80.0       132.0        80.0   \n",
      "506      60.0      72.0       84.0  ...       148.0       120.0       108.0   \n",
      "507     124.0     132.0      160.0  ...       112.0        68.0        40.0   \n",
      "508      60.0      80.0      100.0  ...       144.0       148.0       116.0   \n",
      "509     156.0     156.0      172.0  ...         0.0       128.0       108.0   \n",
      "510     136.0     136.0      168.0  ...       128.0         0.0        68.0   \n",
      "511     108.0     120.0      152.0  ...       108.0        68.0         0.0   \n",
      "512     124.0     120.0      144.0  ...        52.0       104.0        96.0   \n",
      "513     108.0     100.0      124.0  ...        76.0        60.0        48.0   \n",
      "514      76.0      64.0       92.0  ...        84.0       104.0        80.0   \n",
      "515     148.0     140.0      152.0  ...       112.0        84.0        44.0   \n",
      "516     104.0     116.0      124.0  ...        92.0        52.0        32.0   \n",
      "517      44.0      56.0       64.0  ...        84.0        88.0        72.0   \n",
      "518      32.0      60.0       60.0  ...        84.0       108.0        72.0   \n",
      "\n",
      "     strain 513  strain 514  strain 515  strain 516  strain 517  strain 518  \\\n",
      "0         132.0       116.0        64.0       140.0       112.0        40.0   \n",
      "1         128.0       104.0        60.0       136.0       112.0        52.0   \n",
      "2         136.0       116.0        76.0       160.0       132.0        52.0   \n",
      "3         140.0       124.0        68.0       144.0       116.0        44.0   \n",
      "4         144.0       120.0        96.0       140.0       140.0        56.0   \n",
      "5         124.0       108.0        68.0       140.0       124.0        48.0   \n",
      "6         124.0       108.0        60.0       144.0       104.0        48.0   \n",
      "7         124.0       108.0        76.0       148.0       104.0        44.0   \n",
      "8         120.0       100.0        64.0       140.0       116.0        56.0   \n",
      "9         144.0       124.0        92.0       152.0       124.0        64.0   \n",
      "10        144.0       124.0        92.0       152.0       124.0        64.0   \n",
      "11        104.0       100.0        68.0       144.0       124.0        52.0   \n",
      "12        128.0       112.0        76.0       152.0       136.0        64.0   \n",
      "13        128.0       108.0        76.0       148.0       128.0        60.0   \n",
      "14        136.0       112.0        60.0       140.0       116.0        44.0   \n",
      "15        120.0       104.0        56.0       128.0       112.0        36.0   \n",
      "16        124.0       108.0        76.0       136.0       124.0        40.0   \n",
      "17        128.0       124.0        92.0       148.0       128.0        60.0   \n",
      "18        132.0       124.0        92.0       164.0       128.0        56.0   \n",
      "19        144.0       120.0        72.0       164.0       108.0        76.0   \n",
      "20        136.0       108.0        60.0       140.0       108.0        48.0   \n",
      "21        136.0       100.0        76.0       140.0       120.0        48.0   \n",
      "22        128.0       116.0        76.0       152.0       116.0         8.0   \n",
      "23        132.0       120.0        80.0       152.0       116.0        12.0   \n",
      "24        140.0       128.0        76.0       152.0       120.0         8.0   \n",
      "25        128.0       116.0        76.0       152.0       116.0         8.0   \n",
      "26        136.0       124.0        84.0       156.0       116.0        12.0   \n",
      "27        136.0       128.0        84.0       156.0       124.0        16.0   \n",
      "28        140.0       120.0        88.0       152.0       124.0        12.0   \n",
      "29        144.0       128.0        84.0       164.0       128.0        24.0   \n",
      "..          ...         ...         ...         ...         ...         ...   \n",
      "489        76.0        28.0        60.0        52.0        36.0        76.0   \n",
      "490       152.0        72.0       144.0       120.0        60.0       136.0   \n",
      "491        64.0        60.0        80.0       104.0        92.0        96.0   \n",
      "492       120.0        76.0       132.0        96.0        76.0       152.0   \n",
      "493       104.0        76.0        92.0       136.0       116.0        68.0   \n",
      "494       120.0        96.0        68.0       136.0       108.0         8.0   \n",
      "495       120.0        68.0       152.0        64.0        56.0       140.0   \n",
      "496       140.0        40.0       128.0        64.0        72.0       132.0   \n",
      "497       108.0        56.0       132.0        76.0        72.0       124.0   \n",
      "498        80.0        76.0       124.0       100.0        96.0       120.0   \n",
      "499       112.0       116.0        80.0       144.0       124.0        68.0   \n",
      "500        28.0        76.0       132.0       108.0        76.0       104.0   \n",
      "501        88.0        52.0       116.0        36.0        44.0       104.0   \n",
      "502       100.0        76.0        44.0        92.0        84.0         4.0   \n",
      "503       112.0        52.0       116.0        44.0        60.0        96.0   \n",
      "504       104.0        52.0       124.0        88.0       100.0       136.0   \n",
      "505        36.0        64.0       116.0       100.0        64.0        84.0   \n",
      "506       112.0        80.0        60.0       132.0        96.0        48.0   \n",
      "507       104.0        32.0        84.0        36.0        40.0        92.0   \n",
      "508       120.0        92.0        76.0       128.0       100.0        52.0   \n",
      "509        52.0        76.0        84.0       112.0        92.0        84.0   \n",
      "510       104.0        60.0       104.0        84.0        52.0        88.0   \n",
      "511        96.0        48.0        80.0        44.0        32.0        72.0   \n",
      "512         0.0        64.0        76.0       100.0        72.0        72.0   \n",
      "513        64.0         0.0        72.0        40.0        32.0        80.0   \n",
      "514        76.0        72.0         0.0       100.0        64.0        64.0   \n",
      "515       100.0        40.0       100.0         0.0        24.0       104.0   \n",
      "516        72.0        32.0        64.0        24.0         0.0        92.0   \n",
      "517        72.0        80.0        64.0       104.0        92.0         0.0   \n",
      "518        80.0        80.0        40.0        88.0        72.0        12.0   \n",
      "\n",
      "     strain 519  \n",
      "0          44.0  \n",
      "1          48.0  \n",
      "2          52.0  \n",
      "3          36.0  \n",
      "4          52.0  \n",
      "5          40.0  \n",
      "6          32.0  \n",
      "7          32.0  \n",
      "8          60.0  \n",
      "9          60.0  \n",
      "10         60.0  \n",
      "11         40.0  \n",
      "12         68.0  \n",
      "13         64.0  \n",
      "14         48.0  \n",
      "15         32.0  \n",
      "16         40.0  \n",
      "17         60.0  \n",
      "18         48.0  \n",
      "19         68.0  \n",
      "20         48.0  \n",
      "21         52.0  \n",
      "22          8.0  \n",
      "23          8.0  \n",
      "24         20.0  \n",
      "25          8.0  \n",
      "26         12.0  \n",
      "27         16.0  \n",
      "28         12.0  \n",
      "29         16.0  \n",
      "..          ...  \n",
      "489        68.0  \n",
      "490       148.0  \n",
      "491        72.0  \n",
      "492       128.0  \n",
      "493        84.0  \n",
      "494        12.0  \n",
      "495       124.0  \n",
      "496       124.0  \n",
      "497        96.0  \n",
      "498        96.0  \n",
      "499        64.0  \n",
      "500       100.0  \n",
      "501        96.0  \n",
      "502        12.0  \n",
      "503        68.0  \n",
      "504       144.0  \n",
      "505        84.0  \n",
      "506        48.0  \n",
      "507        72.0  \n",
      "508        48.0  \n",
      "509        84.0  \n",
      "510       108.0  \n",
      "511        72.0  \n",
      "512        80.0  \n",
      "513        80.0  \n",
      "514        40.0  \n",
      "515        88.0  \n",
      "516        72.0  \n",
      "517        12.0  \n",
      "518         0.0  \n",
      "\n",
      "[519 rows x 519 columns]\n"
     ]
    }
   ],
   "source": [
    "#Using the Hamming distance to create a similarity matrix\n",
    "numbers = []\n",
    "matrixOfNum = []\n",
    "for i in range(0,len(genomes)):\n",
    "    for j in range(0,len(genomes)):\n",
    "        num = hamming_distance(genomes[i],genomes[j])\n",
    "        numbers.append(num)\n",
    "    matrixOfNum.append(numbers)\n",
    "    numbers = []\n",
    "dataa = pd.DataFrame(matrixOfNum, columns = [\"strain \" + str(i) for i in range(1,len(matrixOfNum) + 1)], dtype=\"float\")\n",
    "print(dataa)"
   ]
  },
  {
   "cell_type": "code",
   "execution_count": 9,
   "metadata": {},
   "outputs": [
    {
     "name": "stdout",
     "output_type": "stream",
     "text": [
      "AxesSubplot(0.125,0.125;0.62x0.755)\n"
     ]
    },
    {
     "data": {
      "image/png": "[encoded data removed]",
      "text/plain": [
       "<Figure size 432x288 with 2 Axes>"
      ]
     },
     "metadata": {
      "needs_background": "light"
     },
     "output_type": "display_data"
    }
   ],
   "source": [
    "import seaborn as sns\n",
    "print(sns.heatmap(dataa))\n"
   ]
  },
  {
   "cell_type": "code",
   "execution_count": 177,
   "metadata": {},
   "outputs": [],
   "source": [
    "Z = linkage(principalDf, 'ward')"
   ]
  },
  {
   "cell_type": "code",
   "execution_count": 170,
   "metadata": {},
   "outputs": [],
   "source": [
    "principalDf = pd.DataFrame(Z)"
   ]
  },
  {
   "cell_type": "code",
   "execution_count": 171,
   "metadata": {},
   "outputs": [],
   "source": [
    "#merging my final dataframe with their regions and strain names\n",
    "import pandas as pd\n",
    "metadata_df = pd.read_csv(r'C:\\Users\\srava\\BedfordProjects\\zika\\results\\metadata.tsv', delimiter='\\t',encoding='utf-8')\n",
    "country_df = metadata_df[['country','strain']]\n",
    " \n",
    "strains_df = pd.DataFrame(strains)\n",
    "strains_df.columns = ['strain']\n",
    "\n",
    "\n",
    "colors_df = pd.read_csv(r'C:\\Users\\srava\\BedfordProjects\\zika\\config\\colors.tsv', delimiter='\\t',encoding='utf-8')\n",
    "colors_df.columns = ['y','country', 'color']\n",
    "colors_df1 = colors_df[['country','color']]\n",
    "\n",
    "result = pd.merge(metadata_df,\n",
    "                 colors_df1[['country', 'color']],\n",
    "                 on='country')\n",
    "result_df_region = result[['strain','region']]\n",
    "result_df = result[['region', 'strain','country','color']]\n",
    "\n",
    "finalDf = pd.concat([principalDf, result_df[['region','country','strain']]], axis = 1)\n",
    "finalDf.columns = ['cluster 1', 'cluster 2', 'cluster 3', 'cluster 4','region', 'country', 'strain']"
   ]
  },
  {
   "cell_type": "code",
   "execution_count": 172,
   "metadata": {},
   "outputs": [
    {
     "data": {
      "text/html": [
       "<div>\n",
       "<style scoped>\n",
       "    .dataframe tbody tr th:only-of-type {\n",
       "        vertical-align: middle;\n",
       "    }\n",
       "\n",
       "    .dataframe tbody tr th {\n",
       "        vertical-align: top;\n",
       "    }\n",
       "\n",
       "    .dataframe thead th {\n",
       "        text-align: right;\n",
       "    }\n",
       "</style>\n",
       "<table border=\"1\" class=\"dataframe\">\n",
       "  <thead>\n",
       "    <tr style=\"text-align: right;\">\n",
       "      <th></th>\n",
       "      <th>cluster 1</th>\n",
       "      <th>cluster 2</th>\n",
       "      <th>cluster 3</th>\n",
       "      <th>cluster 4</th>\n",
       "      <th>region</th>\n",
       "      <th>country</th>\n",
       "      <th>strain</th>\n",
       "    </tr>\n",
       "  </thead>\n",
       "  <tbody>\n",
       "    <tr>\n",
       "      <th>0</th>\n",
       "      <td>47.0</td>\n",
       "      <td>53.0</td>\n",
       "      <td>1.462169</td>\n",
       "      <td>2.0</td>\n",
       "      <td>oceania</td>\n",
       "      <td>french_polynesia</td>\n",
       "      <td>1_0015_PF</td>\n",
       "    </tr>\n",
       "    <tr>\n",
       "      <th>1</th>\n",
       "      <td>133.0</td>\n",
       "      <td>144.0</td>\n",
       "      <td>1.617141</td>\n",
       "      <td>2.0</td>\n",
       "      <td>oceania</td>\n",
       "      <td>french_polynesia</td>\n",
       "      <td>1_0016_PF</td>\n",
       "    </tr>\n",
       "    <tr>\n",
       "      <th>2</th>\n",
       "      <td>5.0</td>\n",
       "      <td>14.0</td>\n",
       "      <td>1.973413</td>\n",
       "      <td>2.0</td>\n",
       "      <td>oceania</td>\n",
       "      <td>french_polynesia</td>\n",
       "      <td>1_0030_PF</td>\n",
       "    </tr>\n",
       "    <tr>\n",
       "      <th>3</th>\n",
       "      <td>173.0</td>\n",
       "      <td>199.0</td>\n",
       "      <td>2.324462</td>\n",
       "      <td>2.0</td>\n",
       "      <td>oceania</td>\n",
       "      <td>french_polynesia</td>\n",
       "      <td>1_0035_PF</td>\n",
       "    </tr>\n",
       "    <tr>\n",
       "      <th>4</th>\n",
       "      <td>6.0</td>\n",
       "      <td>27.0</td>\n",
       "      <td>3.123767</td>\n",
       "      <td>2.0</td>\n",
       "      <td>oceania</td>\n",
       "      <td>french_polynesia</td>\n",
       "      <td>1_0038_PF</td>\n",
       "    </tr>\n",
       "    <tr>\n",
       "      <th>5</th>\n",
       "      <td>3.0</td>\n",
       "      <td>17.0</td>\n",
       "      <td>3.126454</td>\n",
       "      <td>2.0</td>\n",
       "      <td>oceania</td>\n",
       "      <td>french_polynesia</td>\n",
       "      <td>1_0049_PF</td>\n",
       "    </tr>\n",
       "    <tr>\n",
       "      <th>6</th>\n",
       "      <td>150.0</td>\n",
       "      <td>163.0</td>\n",
       "      <td>3.332904</td>\n",
       "      <td>2.0</td>\n",
       "      <td>oceania</td>\n",
       "      <td>french_polynesia</td>\n",
       "      <td>1_0080_PF</td>\n",
       "    </tr>\n",
       "    <tr>\n",
       "      <th>7</th>\n",
       "      <td>57.0</td>\n",
       "      <td>62.0</td>\n",
       "      <td>3.621728</td>\n",
       "      <td>2.0</td>\n",
       "      <td>oceania</td>\n",
       "      <td>french_polynesia</td>\n",
       "      <td>1_0087_PF</td>\n",
       "    </tr>\n",
       "    <tr>\n",
       "      <th>8</th>\n",
       "      <td>121.0</td>\n",
       "      <td>161.0</td>\n",
       "      <td>4.034691</td>\n",
       "      <td>2.0</td>\n",
       "      <td>oceania</td>\n",
       "      <td>french_polynesia</td>\n",
       "      <td>1_0111_PF</td>\n",
       "    </tr>\n",
       "    <tr>\n",
       "      <th>9</th>\n",
       "      <td>229.0</td>\n",
       "      <td>245.0</td>\n",
       "      <td>4.087105</td>\n",
       "      <td>2.0</td>\n",
       "      <td>oceania</td>\n",
       "      <td>french_polynesia</td>\n",
       "      <td>1_0117_PF</td>\n",
       "    </tr>\n",
       "    <tr>\n",
       "      <th>10</th>\n",
       "      <td>283.0</td>\n",
       "      <td>292.0</td>\n",
       "      <td>4.361390</td>\n",
       "      <td>2.0</td>\n",
       "      <td>oceania</td>\n",
       "      <td>french_polynesia</td>\n",
       "      <td>1_0134_PF</td>\n",
       "    </tr>\n",
       "    <tr>\n",
       "      <th>11</th>\n",
       "      <td>26.0</td>\n",
       "      <td>34.0</td>\n",
       "      <td>4.600082</td>\n",
       "      <td>2.0</td>\n",
       "      <td>oceania</td>\n",
       "      <td>french_polynesia</td>\n",
       "      <td>1_0181_PF</td>\n",
       "    </tr>\n",
       "    <tr>\n",
       "      <th>12</th>\n",
       "      <td>179.0</td>\n",
       "      <td>212.0</td>\n",
       "      <td>4.705354</td>\n",
       "      <td>2.0</td>\n",
       "      <td>oceania</td>\n",
       "      <td>french_polynesia</td>\n",
       "      <td>1_0199_PF</td>\n",
       "    </tr>\n",
       "    <tr>\n",
       "      <th>13</th>\n",
       "      <td>96.0</td>\n",
       "      <td>115.0</td>\n",
       "      <td>4.760192</td>\n",
       "      <td>2.0</td>\n",
       "      <td>oceania</td>\n",
       "      <td>french_polynesia</td>\n",
       "      <td>FrenchPolynesia2014_060114_016</td>\n",
       "    </tr>\n",
       "    <tr>\n",
       "      <th>14</th>\n",
       "      <td>127.0</td>\n",
       "      <td>162.0</td>\n",
       "      <td>5.249938</td>\n",
       "      <td>2.0</td>\n",
       "      <td>oceania</td>\n",
       "      <td>french_polynesia</td>\n",
       "      <td>H/PF/2013</td>\n",
       "    </tr>\n",
       "    <tr>\n",
       "      <th>15</th>\n",
       "      <td>0.0</td>\n",
       "      <td>519.0</td>\n",
       "      <td>5.349295</td>\n",
       "      <td>3.0</td>\n",
       "      <td>oceania</td>\n",
       "      <td>french_polynesia</td>\n",
       "      <td>PF13/251013_18</td>\n",
       "    </tr>\n",
       "    <tr>\n",
       "      <th>16</th>\n",
       "      <td>190.0</td>\n",
       "      <td>193.0</td>\n",
       "      <td>5.390099</td>\n",
       "      <td>2.0</td>\n",
       "      <td>north_america</td>\n",
       "      <td>honduras</td>\n",
       "      <td>2016_HND_19563</td>\n",
       "    </tr>\n",
       "    <tr>\n",
       "      <th>17</th>\n",
       "      <td>73.0</td>\n",
       "      <td>80.0</td>\n",
       "      <td>5.396810</td>\n",
       "      <td>2.0</td>\n",
       "      <td>north_america</td>\n",
       "      <td>honduras</td>\n",
       "      <td>FHT1166/HON/2016</td>\n",
       "    </tr>\n",
       "    <tr>\n",
       "      <th>18</th>\n",
       "      <td>355.0</td>\n",
       "      <td>360.0</td>\n",
       "      <td>5.672810</td>\n",
       "      <td>2.0</td>\n",
       "      <td>north_america</td>\n",
       "      <td>honduras</td>\n",
       "      <td>FHT1175/HON/2016</td>\n",
       "    </tr>\n",
       "    <tr>\n",
       "      <th>19</th>\n",
       "      <td>108.0</td>\n",
       "      <td>113.0</td>\n",
       "      <td>5.858691</td>\n",
       "      <td>2.0</td>\n",
       "      <td>north_america</td>\n",
       "      <td>honduras</td>\n",
       "      <td>HN16</td>\n",
       "    </tr>\n",
       "    <tr>\n",
       "      <th>20</th>\n",
       "      <td>8.0</td>\n",
       "      <td>11.0</td>\n",
       "      <td>5.863027</td>\n",
       "      <td>2.0</td>\n",
       "      <td>north_america</td>\n",
       "      <td>honduras</td>\n",
       "      <td>HND/00002/2016</td>\n",
       "    </tr>\n",
       "    <tr>\n",
       "      <th>21</th>\n",
       "      <td>51.0</td>\n",
       "      <td>76.0</td>\n",
       "      <td>5.935636</td>\n",
       "      <td>2.0</td>\n",
       "      <td>north_america</td>\n",
       "      <td>honduras</td>\n",
       "      <td>HND/2016/HU_ME131</td>\n",
       "    </tr>\n",
       "    <tr>\n",
       "      <th>22</th>\n",
       "      <td>63.0</td>\n",
       "      <td>75.0</td>\n",
       "      <td>6.004060</td>\n",
       "      <td>2.0</td>\n",
       "      <td>north_america</td>\n",
       "      <td>honduras</td>\n",
       "      <td>HND/2016/HU_ME136</td>\n",
       "    </tr>\n",
       "    <tr>\n",
       "      <th>23</th>\n",
       "      <td>164.0</td>\n",
       "      <td>178.0</td>\n",
       "      <td>6.210837</td>\n",
       "      <td>2.0</td>\n",
       "      <td>north_america</td>\n",
       "      <td>honduras</td>\n",
       "      <td>HND/2016/HU_ME137</td>\n",
       "    </tr>\n",
       "    <tr>\n",
       "      <th>24</th>\n",
       "      <td>122.0</td>\n",
       "      <td>198.0</td>\n",
       "      <td>6.423391</td>\n",
       "      <td>2.0</td>\n",
       "      <td>north_america</td>\n",
       "      <td>honduras</td>\n",
       "      <td>HND/2016/HU_ME147</td>\n",
       "    </tr>\n",
       "    <tr>\n",
       "      <th>25</th>\n",
       "      <td>187.0</td>\n",
       "      <td>207.0</td>\n",
       "      <td>6.604324</td>\n",
       "      <td>2.0</td>\n",
       "      <td>north_america</td>\n",
       "      <td>honduras</td>\n",
       "      <td>HND/2016/HU_ME152</td>\n",
       "    </tr>\n",
       "    <tr>\n",
       "      <th>26</th>\n",
       "      <td>54.0</td>\n",
       "      <td>78.0</td>\n",
       "      <td>6.640483</td>\n",
       "      <td>2.0</td>\n",
       "      <td>north_america</td>\n",
       "      <td>honduras</td>\n",
       "      <td>HND/2016/HU_ME156</td>\n",
       "    </tr>\n",
       "    <tr>\n",
       "      <th>27</th>\n",
       "      <td>405.0</td>\n",
       "      <td>406.0</td>\n",
       "      <td>6.647304</td>\n",
       "      <td>2.0</td>\n",
       "      <td>north_america</td>\n",
       "      <td>honduras</td>\n",
       "      <td>HND/2016/HU_ME167</td>\n",
       "    </tr>\n",
       "    <tr>\n",
       "      <th>28</th>\n",
       "      <td>259.0</td>\n",
       "      <td>282.0</td>\n",
       "      <td>6.815332</td>\n",
       "      <td>2.0</td>\n",
       "      <td>north_america</td>\n",
       "      <td>honduras</td>\n",
       "      <td>HND/2016/HU_ME171</td>\n",
       "    </tr>\n",
       "    <tr>\n",
       "      <th>29</th>\n",
       "      <td>218.0</td>\n",
       "      <td>237.0</td>\n",
       "      <td>6.849242</td>\n",
       "      <td>2.0</td>\n",
       "      <td>north_america</td>\n",
       "      <td>honduras</td>\n",
       "      <td>HND/2016/HU_ME172</td>\n",
       "    </tr>\n",
       "    <tr>\n",
       "      <th>...</th>\n",
       "      <td>...</td>\n",
       "      <td>...</td>\n",
       "      <td>...</td>\n",
       "      <td>...</td>\n",
       "      <td>...</td>\n",
       "      <td>...</td>\n",
       "      <td>...</td>\n",
       "    </tr>\n",
       "    <tr>\n",
       "      <th>671</th>\n",
       "      <td>NaN</td>\n",
       "      <td>NaN</td>\n",
       "      <td>NaN</td>\n",
       "      <td>NaN</td>\n",
       "      <td>north_america</td>\n",
       "      <td>usvi</td>\n",
       "      <td>USVI/19/2016</td>\n",
       "    </tr>\n",
       "    <tr>\n",
       "      <th>672</th>\n",
       "      <td>NaN</td>\n",
       "      <td>NaN</td>\n",
       "      <td>NaN</td>\n",
       "      <td>NaN</td>\n",
       "      <td>north_america</td>\n",
       "      <td>usvi</td>\n",
       "      <td>USVI/2/2016</td>\n",
       "    </tr>\n",
       "    <tr>\n",
       "      <th>673</th>\n",
       "      <td>NaN</td>\n",
       "      <td>NaN</td>\n",
       "      <td>NaN</td>\n",
       "      <td>NaN</td>\n",
       "      <td>north_america</td>\n",
       "      <td>usvi</td>\n",
       "      <td>USVI/20/2016</td>\n",
       "    </tr>\n",
       "    <tr>\n",
       "      <th>674</th>\n",
       "      <td>NaN</td>\n",
       "      <td>NaN</td>\n",
       "      <td>NaN</td>\n",
       "      <td>NaN</td>\n",
       "      <td>north_america</td>\n",
       "      <td>usvi</td>\n",
       "      <td>USVI/21/2016</td>\n",
       "    </tr>\n",
       "    <tr>\n",
       "      <th>675</th>\n",
       "      <td>NaN</td>\n",
       "      <td>NaN</td>\n",
       "      <td>NaN</td>\n",
       "      <td>NaN</td>\n",
       "      <td>north_america</td>\n",
       "      <td>usvi</td>\n",
       "      <td>USVI/22/2016</td>\n",
       "    </tr>\n",
       "    <tr>\n",
       "      <th>676</th>\n",
       "      <td>NaN</td>\n",
       "      <td>NaN</td>\n",
       "      <td>NaN</td>\n",
       "      <td>NaN</td>\n",
       "      <td>north_america</td>\n",
       "      <td>usvi</td>\n",
       "      <td>USVI/23/2016</td>\n",
       "    </tr>\n",
       "    <tr>\n",
       "      <th>677</th>\n",
       "      <td>NaN</td>\n",
       "      <td>NaN</td>\n",
       "      <td>NaN</td>\n",
       "      <td>NaN</td>\n",
       "      <td>north_america</td>\n",
       "      <td>usvi</td>\n",
       "      <td>USVI/24/2016</td>\n",
       "    </tr>\n",
       "    <tr>\n",
       "      <th>678</th>\n",
       "      <td>NaN</td>\n",
       "      <td>NaN</td>\n",
       "      <td>NaN</td>\n",
       "      <td>NaN</td>\n",
       "      <td>north_america</td>\n",
       "      <td>usvi</td>\n",
       "      <td>USVI/25/2016</td>\n",
       "    </tr>\n",
       "    <tr>\n",
       "      <th>679</th>\n",
       "      <td>NaN</td>\n",
       "      <td>NaN</td>\n",
       "      <td>NaN</td>\n",
       "      <td>NaN</td>\n",
       "      <td>north_america</td>\n",
       "      <td>usvi</td>\n",
       "      <td>USVI/27/2016</td>\n",
       "    </tr>\n",
       "    <tr>\n",
       "      <th>680</th>\n",
       "      <td>NaN</td>\n",
       "      <td>NaN</td>\n",
       "      <td>NaN</td>\n",
       "      <td>NaN</td>\n",
       "      <td>north_america</td>\n",
       "      <td>usvi</td>\n",
       "      <td>USVI/28/2016</td>\n",
       "    </tr>\n",
       "    <tr>\n",
       "      <th>681</th>\n",
       "      <td>NaN</td>\n",
       "      <td>NaN</td>\n",
       "      <td>NaN</td>\n",
       "      <td>NaN</td>\n",
       "      <td>north_america</td>\n",
       "      <td>usvi</td>\n",
       "      <td>USVI/3/2016</td>\n",
       "    </tr>\n",
       "    <tr>\n",
       "      <th>682</th>\n",
       "      <td>NaN</td>\n",
       "      <td>NaN</td>\n",
       "      <td>NaN</td>\n",
       "      <td>NaN</td>\n",
       "      <td>north_america</td>\n",
       "      <td>usvi</td>\n",
       "      <td>USVI/30/2016</td>\n",
       "    </tr>\n",
       "    <tr>\n",
       "      <th>683</th>\n",
       "      <td>NaN</td>\n",
       "      <td>NaN</td>\n",
       "      <td>NaN</td>\n",
       "      <td>NaN</td>\n",
       "      <td>north_america</td>\n",
       "      <td>usvi</td>\n",
       "      <td>USVI/32/2016</td>\n",
       "    </tr>\n",
       "    <tr>\n",
       "      <th>684</th>\n",
       "      <td>NaN</td>\n",
       "      <td>NaN</td>\n",
       "      <td>NaN</td>\n",
       "      <td>NaN</td>\n",
       "      <td>north_america</td>\n",
       "      <td>usvi</td>\n",
       "      <td>USVI/34/2016</td>\n",
       "    </tr>\n",
       "    <tr>\n",
       "      <th>685</th>\n",
       "      <td>NaN</td>\n",
       "      <td>NaN</td>\n",
       "      <td>NaN</td>\n",
       "      <td>NaN</td>\n",
       "      <td>north_america</td>\n",
       "      <td>usvi</td>\n",
       "      <td>USVI/35/2016</td>\n",
       "    </tr>\n",
       "    <tr>\n",
       "      <th>686</th>\n",
       "      <td>NaN</td>\n",
       "      <td>NaN</td>\n",
       "      <td>NaN</td>\n",
       "      <td>NaN</td>\n",
       "      <td>north_america</td>\n",
       "      <td>usvi</td>\n",
       "      <td>USVI/36/2016</td>\n",
       "    </tr>\n",
       "    <tr>\n",
       "      <th>687</th>\n",
       "      <td>NaN</td>\n",
       "      <td>NaN</td>\n",
       "      <td>NaN</td>\n",
       "      <td>NaN</td>\n",
       "      <td>north_america</td>\n",
       "      <td>usvi</td>\n",
       "      <td>USVI/37/2016</td>\n",
       "    </tr>\n",
       "    <tr>\n",
       "      <th>688</th>\n",
       "      <td>NaN</td>\n",
       "      <td>NaN</td>\n",
       "      <td>NaN</td>\n",
       "      <td>NaN</td>\n",
       "      <td>north_america</td>\n",
       "      <td>usvi</td>\n",
       "      <td>USVI/38/2016</td>\n",
       "    </tr>\n",
       "    <tr>\n",
       "      <th>689</th>\n",
       "      <td>NaN</td>\n",
       "      <td>NaN</td>\n",
       "      <td>NaN</td>\n",
       "      <td>NaN</td>\n",
       "      <td>north_america</td>\n",
       "      <td>usvi</td>\n",
       "      <td>USVI/39/2016</td>\n",
       "    </tr>\n",
       "    <tr>\n",
       "      <th>690</th>\n",
       "      <td>NaN</td>\n",
       "      <td>NaN</td>\n",
       "      <td>NaN</td>\n",
       "      <td>NaN</td>\n",
       "      <td>north_america</td>\n",
       "      <td>usvi</td>\n",
       "      <td>USVI/4/2016</td>\n",
       "    </tr>\n",
       "    <tr>\n",
       "      <th>691</th>\n",
       "      <td>NaN</td>\n",
       "      <td>NaN</td>\n",
       "      <td>NaN</td>\n",
       "      <td>NaN</td>\n",
       "      <td>north_america</td>\n",
       "      <td>usvi</td>\n",
       "      <td>USVI/40/2016</td>\n",
       "    </tr>\n",
       "    <tr>\n",
       "      <th>692</th>\n",
       "      <td>NaN</td>\n",
       "      <td>NaN</td>\n",
       "      <td>NaN</td>\n",
       "      <td>NaN</td>\n",
       "      <td>north_america</td>\n",
       "      <td>usvi</td>\n",
       "      <td>USVI/41/2016</td>\n",
       "    </tr>\n",
       "    <tr>\n",
       "      <th>693</th>\n",
       "      <td>NaN</td>\n",
       "      <td>NaN</td>\n",
       "      <td>NaN</td>\n",
       "      <td>NaN</td>\n",
       "      <td>north_america</td>\n",
       "      <td>usvi</td>\n",
       "      <td>USVI/42/2016</td>\n",
       "    </tr>\n",
       "    <tr>\n",
       "      <th>694</th>\n",
       "      <td>NaN</td>\n",
       "      <td>NaN</td>\n",
       "      <td>NaN</td>\n",
       "      <td>NaN</td>\n",
       "      <td>north_america</td>\n",
       "      <td>usvi</td>\n",
       "      <td>USVI/43/2016</td>\n",
       "    </tr>\n",
       "    <tr>\n",
       "      <th>695</th>\n",
       "      <td>NaN</td>\n",
       "      <td>NaN</td>\n",
       "      <td>NaN</td>\n",
       "      <td>NaN</td>\n",
       "      <td>north_america</td>\n",
       "      <td>usvi</td>\n",
       "      <td>USVI/45/2016</td>\n",
       "    </tr>\n",
       "    <tr>\n",
       "      <th>696</th>\n",
       "      <td>NaN</td>\n",
       "      <td>NaN</td>\n",
       "      <td>NaN</td>\n",
       "      <td>NaN</td>\n",
       "      <td>north_america</td>\n",
       "      <td>usvi</td>\n",
       "      <td>USVI/46/2016</td>\n",
       "    </tr>\n",
       "    <tr>\n",
       "      <th>697</th>\n",
       "      <td>NaN</td>\n",
       "      <td>NaN</td>\n",
       "      <td>NaN</td>\n",
       "      <td>NaN</td>\n",
       "      <td>north_america</td>\n",
       "      <td>usvi</td>\n",
       "      <td>USVI/5/2016</td>\n",
       "    </tr>\n",
       "    <tr>\n",
       "      <th>698</th>\n",
       "      <td>NaN</td>\n",
       "      <td>NaN</td>\n",
       "      <td>NaN</td>\n",
       "      <td>NaN</td>\n",
       "      <td>north_america</td>\n",
       "      <td>usvi</td>\n",
       "      <td>USVI/6/2016</td>\n",
       "    </tr>\n",
       "    <tr>\n",
       "      <th>699</th>\n",
       "      <td>NaN</td>\n",
       "      <td>NaN</td>\n",
       "      <td>NaN</td>\n",
       "      <td>NaN</td>\n",
       "      <td>north_america</td>\n",
       "      <td>usvi</td>\n",
       "      <td>USVI/7/2016</td>\n",
       "    </tr>\n",
       "    <tr>\n",
       "      <th>700</th>\n",
       "      <td>NaN</td>\n",
       "      <td>NaN</td>\n",
       "      <td>NaN</td>\n",
       "      <td>NaN</td>\n",
       "      <td>south_america</td>\n",
       "      <td>french_guiana</td>\n",
       "      <td>V17271</td>\n",
       "    </tr>\n",
       "  </tbody>\n",
       "</table>\n",
       "<p>701 rows × 7 columns</p>\n",
       "</div>"
      ],
      "text/plain": [
       "     cluster 1  cluster 2  cluster 3  cluster 4         region  \\\n",
       "0         47.0       53.0   1.462169        2.0        oceania   \n",
       "1        133.0      144.0   1.617141        2.0        oceania   \n",
       "2          5.0       14.0   1.973413        2.0        oceania   \n",
       "3        173.0      199.0   2.324462        2.0        oceania   \n",
       "4          6.0       27.0   3.123767        2.0        oceania   \n",
       "5          3.0       17.0   3.126454        2.0        oceania   \n",
       "6        150.0      163.0   3.332904        2.0        oceania   \n",
       "7         57.0       62.0   3.621728        2.0        oceania   \n",
       "8        121.0      161.0   4.034691        2.0        oceania   \n",
       "9        229.0      245.0   4.087105        2.0        oceania   \n",
       "10       283.0      292.0   4.361390        2.0        oceania   \n",
       "11        26.0       34.0   4.600082        2.0        oceania   \n",
       "12       179.0      212.0   4.705354        2.0        oceania   \n",
       "13        96.0      115.0   4.760192        2.0        oceania   \n",
       "14       127.0      162.0   5.249938        2.0        oceania   \n",
       "15         0.0      519.0   5.349295        3.0        oceania   \n",
       "16       190.0      193.0   5.390099        2.0  north_america   \n",
       "17        73.0       80.0   5.396810        2.0  north_america   \n",
       "18       355.0      360.0   5.672810        2.0  north_america   \n",
       "19       108.0      113.0   5.858691        2.0  north_america   \n",
       "20         8.0       11.0   5.863027        2.0  north_america   \n",
       "21        51.0       76.0   5.935636        2.0  north_america   \n",
       "22        63.0       75.0   6.004060        2.0  north_america   \n",
       "23       164.0      178.0   6.210837        2.0  north_america   \n",
       "24       122.0      198.0   6.423391        2.0  north_america   \n",
       "25       187.0      207.0   6.604324        2.0  north_america   \n",
       "26        54.0       78.0   6.640483        2.0  north_america   \n",
       "27       405.0      406.0   6.647304        2.0  north_america   \n",
       "28       259.0      282.0   6.815332        2.0  north_america   \n",
       "29       218.0      237.0   6.849242        2.0  north_america   \n",
       "..         ...        ...        ...        ...            ...   \n",
       "671        NaN        NaN        NaN        NaN  north_america   \n",
       "672        NaN        NaN        NaN        NaN  north_america   \n",
       "673        NaN        NaN        NaN        NaN  north_america   \n",
       "674        NaN        NaN        NaN        NaN  north_america   \n",
       "675        NaN        NaN        NaN        NaN  north_america   \n",
       "676        NaN        NaN        NaN        NaN  north_america   \n",
       "677        NaN        NaN        NaN        NaN  north_america   \n",
       "678        NaN        NaN        NaN        NaN  north_america   \n",
       "679        NaN        NaN        NaN        NaN  north_america   \n",
       "680        NaN        NaN        NaN        NaN  north_america   \n",
       "681        NaN        NaN        NaN        NaN  north_america   \n",
       "682        NaN        NaN        NaN        NaN  north_america   \n",
       "683        NaN        NaN        NaN        NaN  north_america   \n",
       "684        NaN        NaN        NaN        NaN  north_america   \n",
       "685        NaN        NaN        NaN        NaN  north_america   \n",
       "686        NaN        NaN        NaN        NaN  north_america   \n",
       "687        NaN        NaN        NaN        NaN  north_america   \n",
       "688        NaN        NaN        NaN        NaN  north_america   \n",
       "689        NaN        NaN        NaN        NaN  north_america   \n",
       "690        NaN        NaN        NaN        NaN  north_america   \n",
       "691        NaN        NaN        NaN        NaN  north_america   \n",
       "692        NaN        NaN        NaN        NaN  north_america   \n",
       "693        NaN        NaN        NaN        NaN  north_america   \n",
       "694        NaN        NaN        NaN        NaN  north_america   \n",
       "695        NaN        NaN        NaN        NaN  north_america   \n",
       "696        NaN        NaN        NaN        NaN  north_america   \n",
       "697        NaN        NaN        NaN        NaN  north_america   \n",
       "698        NaN        NaN        NaN        NaN  north_america   \n",
       "699        NaN        NaN        NaN        NaN  north_america   \n",
       "700        NaN        NaN        NaN        NaN  south_america   \n",
       "\n",
       "              country                          strain  \n",
       "0    french_polynesia                       1_0015_PF  \n",
       "1    french_polynesia                       1_0016_PF  \n",
       "2    french_polynesia                       1_0030_PF  \n",
       "3    french_polynesia                       1_0035_PF  \n",
       "4    french_polynesia                       1_0038_PF  \n",
       "5    french_polynesia                       1_0049_PF  \n",
       "6    french_polynesia                       1_0080_PF  \n",
       "7    french_polynesia                       1_0087_PF  \n",
       "8    french_polynesia                       1_0111_PF  \n",
       "9    french_polynesia                       1_0117_PF  \n",
       "10   french_polynesia                       1_0134_PF  \n",
       "11   french_polynesia                       1_0181_PF  \n",
       "12   french_polynesia                       1_0199_PF  \n",
       "13   french_polynesia  FrenchPolynesia2014_060114_016  \n",
       "14   french_polynesia                       H/PF/2013  \n",
       "15   french_polynesia                  PF13/251013_18  \n",
       "16           honduras                  2016_HND_19563  \n",
       "17           honduras                FHT1166/HON/2016  \n",
       "18           honduras                FHT1175/HON/2016  \n",
       "19           honduras                            HN16  \n",
       "20           honduras                  HND/00002/2016  \n",
       "21           honduras               HND/2016/HU_ME131  \n",
       "22           honduras               HND/2016/HU_ME136  \n",
       "23           honduras               HND/2016/HU_ME137  \n",
       "24           honduras               HND/2016/HU_ME147  \n",
       "25           honduras               HND/2016/HU_ME152  \n",
       "26           honduras               HND/2016/HU_ME156  \n",
       "27           honduras               HND/2016/HU_ME167  \n",
       "28           honduras               HND/2016/HU_ME171  \n",
       "29           honduras               HND/2016/HU_ME172  \n",
       "..                ...                             ...  \n",
       "671              usvi                    USVI/19/2016  \n",
       "672              usvi                     USVI/2/2016  \n",
       "673              usvi                    USVI/20/2016  \n",
       "674              usvi                    USVI/21/2016  \n",
       "675              usvi                    USVI/22/2016  \n",
       "676              usvi                    USVI/23/2016  \n",
       "677              usvi                    USVI/24/2016  \n",
       "678              usvi                    USVI/25/2016  \n",
       "679              usvi                    USVI/27/2016  \n",
       "680              usvi                    USVI/28/2016  \n",
       "681              usvi                     USVI/3/2016  \n",
       "682              usvi                    USVI/30/2016  \n",
       "683              usvi                    USVI/32/2016  \n",
       "684              usvi                    USVI/34/2016  \n",
       "685              usvi                    USVI/35/2016  \n",
       "686              usvi                    USVI/36/2016  \n",
       "687              usvi                    USVI/37/2016  \n",
       "688              usvi                    USVI/38/2016  \n",
       "689              usvi                    USVI/39/2016  \n",
       "690              usvi                     USVI/4/2016  \n",
       "691              usvi                    USVI/40/2016  \n",
       "692              usvi                    USVI/41/2016  \n",
       "693              usvi                    USVI/42/2016  \n",
       "694              usvi                    USVI/43/2016  \n",
       "695              usvi                    USVI/45/2016  \n",
       "696              usvi                    USVI/46/2016  \n",
       "697              usvi                     USVI/5/2016  \n",
       "698              usvi                     USVI/6/2016  \n",
       "699              usvi                     USVI/7/2016  \n",
       "700     french_guiana                          V17271  \n",
       "\n",
       "[701 rows x 7 columns]"
      ]
     },
     "execution_count": 172,
     "metadata": {},
     "output_type": "execute_result"
    }
   ],
   "source": [
    "finalDf"
   ]
  },
  {
   "cell_type": "code",
   "execution_count": 173,
   "metadata": {},
   "outputs": [
    {
     "data": {
      "application/vnd.vegalite.v3+json": {
       "$schema": "https://vega.github.io/schema/vega-lite/v3.3.0.json",
       "config": {
        "mark": {
         "tooltip": null
        },
        "view": {
         "height": 300,
         "width": 400
        }
       },
       "data": {
        "name": "data-ea58d37ae18d6de89684fd3a9cc8de45"
       },
       "datasets": {
        "data-ea58d37ae18d6de89684fd3a9cc8de45": [
         {
          "cluster 1": 47,
          "cluster 2": 53,
          "cluster 3": 1.4621691080475085,
          "cluster 4": 2,
          "country": "french_polynesia",
          "region": "oceania",
          "strain": "1_0015_PF"
         },
         {
          "cluster 1": 133,
          "cluster 2": 144,
          "cluster 3": 1.6171412387194553,
          "cluster 4": 2,
          "country": "french_polynesia",
          "region": "oceania",
          "strain": "1_0016_PF"
         },
         {
          "cluster 1": 5,
          "cluster 2": 14,
          "cluster 3": 1.9734125062632453,
          "cluster 4": 2,
          "country": "french_polynesia",
          "region": "oceania",
          "strain": "1_0030_PF"
         },
         {
          "cluster 1": 173,
          "cluster 2": 199,
          "cluster 3": 2.324461743708424,
          "cluster 4": 2,
          "country": "french_polynesia",
          "region": "oceania",
          "strain": "1_0035_PF"
         },
         {
          "cluster 1": 6,
          "cluster 2": 27,
          "cluster 3": 3.1237672056144836,
          "cluster 4": 2,
          "country": "french_polynesia",
          "region": "oceania",
          "strain": "1_0038_PF"
         },
         {
          "cluster 1": 3,
          "cluster 2": 17,
          "cluster 3": 3.126454258578468,
          "cluster 4": 2,
          "country": "french_polynesia",
          "region": "oceania",
          "strain": "1_0049_PF"
         },
         {
          "cluster 1": 150,
          "cluster 2": 163,
          "cluster 3": 3.3329044516995463,
          "cluster 4": 2,
          "country": "french_polynesia",
          "region": "oceania",
          "strain": "1_0080_PF"
         },
         {
          "cluster 1": 57,
          "cluster 2": 62,
          "cluster 3": 3.621728206132298,
          "cluster 4": 2,
          "country": "french_polynesia",
          "region": "oceania",
          "strain": "1_0087_PF"
         },
         {
          "cluster 1": 121,
          "cluster 2": 161,
          "cluster 3": 4.034690555242557,
          "cluster 4": 2,
          "country": "french_polynesia",
          "region": "oceania",
          "strain": "1_0111_PF"
         },
         {
          "cluster 1": 229,
          "cluster 2": 245,
          "cluster 3": 4.087104823096396,
          "cluster 4": 2,
          "country": "french_polynesia",
          "region": "oceania",
          "strain": "1_0117_PF"
         },
         {
          "cluster 1": 283,
          "cluster 2": 292,
          "cluster 3": 4.361389702770532,
          "cluster 4": 2,
          "country": "french_polynesia",
          "region": "oceania",
          "strain": "1_0134_PF"
         },
         {
          "cluster 1": 26,
          "cluster 2": 34,
          "cluster 3": 4.600081856788302,
          "cluster 4": 2,
          "country": "french_polynesia",
          "region": "oceania",
          "strain": "1_0181_PF"
         },
         {
          "cluster 1": 179,
          "cluster 2": 212,
          "cluster 3": 4.705353993701688,
          "cluster 4": 2,
          "country": "french_polynesia",
          "region": "oceania",
          "strain": "1_0199_PF"
         },
         {
          "cluster 1": 96,
          "cluster 2": 115,
          "cluster 3": 4.760192037887358,
          "cluster 4": 2,
          "country": "french_polynesia",
          "region": "oceania",
          "strain": "FrenchPolynesia2014_060114_016"
         },
         {
          "cluster 1": 127,
          "cluster 2": 162,
          "cluster 3": 5.249938111452144,
          "cluster 4": 2,
          "country": "french_polynesia",
          "region": "oceania",
          "strain": "H/PF/2013"
         },
         {
          "cluster 1": 0,
          "cluster 2": 519,
          "cluster 3": 5.349294638934238,
          "cluster 4": 3,
          "country": "french_polynesia",
          "region": "oceania",
          "strain": "PF13/251013_18"
         },
         {
          "cluster 1": 190,
          "cluster 2": 193,
          "cluster 3": 5.390098964398919,
          "cluster 4": 2,
          "country": "honduras",
          "region": "north_america",
          "strain": "2016_HND_19563"
         },
         {
          "cluster 1": 73,
          "cluster 2": 80,
          "cluster 3": 5.396809568752756,
          "cluster 4": 2,
          "country": "honduras",
          "region": "north_america",
          "strain": "FHT1166/HON/2016"
         },
         {
          "cluster 1": 355,
          "cluster 2": 360,
          "cluster 3": 5.672809770847313,
          "cluster 4": 2,
          "country": "honduras",
          "region": "north_america",
          "strain": "FHT1175/HON/2016"
         },
         {
          "cluster 1": 108,
          "cluster 2": 113,
          "cluster 3": 5.858691290325239,
          "cluster 4": 2,
          "country": "honduras",
          "region": "north_america",
          "strain": "HN16"
         },
         {
          "cluster 1": 8,
          "cluster 2": 11,
          "cluster 3": 5.863026714986117,
          "cluster 4": 2,
          "country": "honduras",
          "region": "north_america",
          "strain": "HND/00002/2016"
         },
         {
          "cluster 1": 51,
          "cluster 2": 76,
          "cluster 3": 5.935635939932388,
          "cluster 4": 2,
          "country": "honduras",
          "region": "north_america",
          "strain": "HND/2016/HU_ME131"
         },
         {
          "cluster 1": 63,
          "cluster 2": 75,
          "cluster 3": 6.00406021446265,
          "cluster 4": 2,
          "country": "honduras",
          "region": "north_america",
          "strain": "HND/2016/HU_ME136"
         },
         {
          "cluster 1": 164,
          "cluster 2": 178,
          "cluster 3": 6.210836581068687,
          "cluster 4": 2,
          "country": "honduras",
          "region": "north_america",
          "strain": "HND/2016/HU_ME137"
         },
         {
          "cluster 1": 122,
          "cluster 2": 198,
          "cluster 3": 6.423391108657304,
          "cluster 4": 2,
          "country": "honduras",
          "region": "north_america",
          "strain": "HND/2016/HU_ME147"
         },
         {
          "cluster 1": 187,
          "cluster 2": 207,
          "cluster 3": 6.604323898887644,
          "cluster 4": 2,
          "country": "honduras",
          "region": "north_america",
          "strain": "HND/2016/HU_ME152"
         },
         {
          "cluster 1": 54,
          "cluster 2": 78,
          "cluster 3": 6.640482678792845,
          "cluster 4": 2,
          "country": "honduras",
          "region": "north_america",
          "strain": "HND/2016/HU_ME156"
         },
         {
          "cluster 1": 405,
          "cluster 2": 406,
          "cluster 3": 6.647303518961186,
          "cluster 4": 2,
          "country": "honduras",
          "region": "north_america",
          "strain": "HND/2016/HU_ME167"
         },
         {
          "cluster 1": 259,
          "cluster 2": 282,
          "cluster 3": 6.815331817324916,
          "cluster 4": 2,
          "country": "honduras",
          "region": "north_america",
          "strain": "HND/2016/HU_ME171"
         },
         {
          "cluster 1": 218,
          "cluster 2": 237,
          "cluster 3": 6.8492418899996474,
          "cluster 4": 2,
          "country": "honduras",
          "region": "north_america",
          "strain": "HND/2016/HU_ME172"
         },
         {
          "cluster 1": 82,
          "cluster 2": 154,
          "cluster 3": 7.008342541253868,
          "cluster 4": 2,
          "country": "honduras",
          "region": "north_america",
          "strain": "HND/2016/HU_ME178"
         },
         {
          "cluster 1": 77,
          "cluster 2": 528,
          "cluster 3": 7.116918529872482,
          "cluster 4": 3,
          "country": "honduras",
          "region": "north_america",
          "strain": "HND/2016/HU_ME180"
         },
         {
          "cluster 1": 172,
          "cluster 2": 529,
          "cluster 3": 7.159087806990427,
          "cluster 4": 3,
          "country": "honduras",
          "region": "north_america",
          "strain": "HND/2016/HU_ME33"
         },
         {
          "cluster 1": 377,
          "cluster 2": 378,
          "cluster 3": 7.296701765962529,
          "cluster 4": 2,
          "country": "honduras",
          "region": "north_america",
          "strain": "HND/2016/HU_ME38"
         },
         {
          "cluster 1": 155,
          "cluster 2": 521,
          "cluster 3": 7.3508747372623455,
          "cluster 4": 3,
          "country": "honduras",
          "region": "north_america",
          "strain": "HND/2016/HU_ME42"
         },
         {
          "cluster 1": 9,
          "cluster 2": 74,
          "cluster 3": 7.420763695971242,
          "cluster 4": 2,
          "country": "honduras",
          "region": "north_america",
          "strain": "HND/2016/HU_ME50"
         },
         {
          "cluster 1": 60,
          "cluster 2": 94,
          "cluster 3": 7.650565628244571,
          "cluster 4": 2,
          "country": "honduras",
          "region": "north_america",
          "strain": "HND/2016/HU_ME58"
         },
         {
          "cluster 1": 160,
          "cluster 2": 222,
          "cluster 3": 7.668204532100273,
          "cluster 4": 2,
          "country": "honduras",
          "region": "north_america",
          "strain": "HND/2016/HU_ME59"
         },
         {
          "cluster 1": 22,
          "cluster 2": 88,
          "cluster 3": 7.709269099480078,
          "cluster 4": 2,
          "country": "honduras",
          "region": "north_america",
          "strain": "HND/2016/HU_SZ76"
         },
         {
          "cluster 1": 196,
          "cluster 2": 247,
          "cluster 3": 8.042929582569702,
          "cluster 4": 2,
          "country": "honduras",
          "region": "north_america",
          "strain": "HND/2016/Honduras_1031"
         },
         {
          "cluster 1": 65,
          "cluster 2": 68,
          "cluster 3": 8.248545981474486,
          "cluster 4": 2,
          "country": "honduras",
          "region": "north_america",
          "strain": "HND/2016/Honduras_1055"
         },
         {
          "cluster 1": 130,
          "cluster 2": 518,
          "cluster 3": 8.299415808382493,
          "cluster 4": 3,
          "country": "honduras",
          "region": "north_america",
          "strain": "HND/2016/Honduras_1083"
         },
         {
          "cluster 1": 112,
          "cluster 2": 132,
          "cluster 3": 8.309697077923897,
          "cluster 4": 2,
          "country": "honduras",
          "region": "north_america",
          "strain": "HND/2016/Honduras_1122"
         },
         {
          "cluster 1": 392,
          "cluster 2": 398,
          "cluster 3": 8.324549751322563,
          "cluster 4": 2,
          "country": "honduras",
          "region": "north_america",
          "strain": "HND/2016/Honduras_1138"
         },
         {
          "cluster 1": 67,
          "cluster 2": 72,
          "cluster 3": 8.501627006061652,
          "cluster 4": 2,
          "country": "honduras",
          "region": "north_america",
          "strain": "HND/2016/Honduras_1162"
         },
         {
          "cluster 1": 116,
          "cluster 2": 547,
          "cluster 3": 8.528034750068132,
          "cluster 4": 4,
          "country": "honduras",
          "region": "north_america",
          "strain": "HND/2016/Honduras_24"
         },
         {
          "cluster 1": 274,
          "cluster 2": 294,
          "cluster 3": 8.555761465875552,
          "cluster 4": 2,
          "country": "honduras",
          "region": "north_america",
          "strain": "HND/2016/Honduras_25"
         },
         {
          "cluster 1": 39,
          "cluster 2": 56,
          "cluster 3": 8.62161443340741,
          "cluster 4": 2,
          "country": "honduras",
          "region": "north_america",
          "strain": "HND/2016/Honduras_4102"
         },
         {
          "cluster 1": 79,
          "cluster 2": 177,
          "cluster 3": 8.621838067867536,
          "cluster 4": 2,
          "country": "honduras",
          "region": "north_america",
          "strain": "HND/R103451/2015"
         },
         {
          "cluster 1": 100,
          "cluster 2": 131,
          "cluster 3": 8.647410559739019,
          "cluster 4": 2,
          "country": "honduras",
          "region": "north_america",
          "strain": "V103451"
         },
         {
          "cluster 1": 99,
          "cluster 2": 153,
          "cluster 3": 8.738484075269161,
          "cluster 4": 2,
          "country": "mexico",
          "region": "north_america",
          "strain": "31N"
         },
         {
          "cluster 1": 43,
          "cluster 2": 114,
          "cluster 3": 8.84379140030703,
          "cluster 4": 2,
          "country": "mexico",
          "region": "north_america",
          "strain": "Aedes_aegypti/MEX/MEX_I_44/2016"
         },
         {
          "cluster 1": 16,
          "cluster 2": 95,
          "cluster 3": 8.873333621157345,
          "cluster 4": 2,
          "country": "mexico",
          "region": "north_america",
          "strain": "Aedes_sp/MEX_I_44/2016"
         },
         {
          "cluster 1": 185,
          "cluster 2": 192,
          "cluster 3": 8.948974575339314,
          "cluster 4": 2,
          "country": "mexico",
          "region": "north_america",
          "strain": "Aedessp/MEX/MEX_2_81/2016"
         },
         {
          "cluster 1": 151,
          "cluster 2": 224,
          "cluster 3": 9.036383997747633,
          "cluster 4": 2,
          "country": "mexico",
          "region": "north_america",
          "strain": "Aedessp/MEX/MEX_I_7/2016"
         },
         {
          "cluster 1": 107,
          "cluster 2": 553,
          "cluster 3": 9.042974820834248,
          "cluster 4": 3,
          "country": "mexico",
          "region": "north_america",
          "strain": "ENCB165P4"
         },
         {
          "cluster 1": 343,
          "cluster 2": 358,
          "cluster 3": 9.110758120102819,
          "cluster 4": 2,
          "country": "mexico",
          "region": "north_america",
          "strain": "MEX/2016/Mexico_1"
         },
         {
          "cluster 1": 105,
          "cluster 2": 109,
          "cluster 3": 9.49614383954375,
          "cluster 4": 2,
          "country": "mexico",
          "region": "north_america",
          "strain": "MEX/2016/Mexico_3502"
         },
         {
          "cluster 1": 42,
          "cluster 2": 136,
          "cluster 3": 9.6920718314397,
          "cluster 4": 2,
          "country": "mexico",
          "region": "north_america",
          "strain": "MEX/2016/Mexico_4227"
         },
         {
          "cluster 1": 111,
          "cluster 2": 539,
          "cluster 3": 9.69868137775001,
          "cluster 4": 3,
          "country": "mexico",
          "region": "north_america",
          "strain": "MEX/2016/mex01"
         },
         {
          "cluster 1": 423,
          "cluster 2": 428,
          "cluster 3": 9.72724103496392,
          "cluster 4": 2,
          "country": "mexico",
          "region": "north_america",
          "strain": "MEX/2016/mex04"
         },
         {
          "cluster 1": 195,
          "cluster 2": 215,
          "cluster 3": 9.807234373365604,
          "cluster 4": 2,
          "country": "mexico",
          "region": "north_america",
          "strain": "MEX/2016/mex05"
         },
         {
          "cluster 1": 10,
          "cluster 2": 70,
          "cluster 3": 9.911877447760316,
          "cluster 4": 2,
          "country": "mexico",
          "region": "north_america",
          "strain": "MEX/2016/mex14"
         },
         {
          "cluster 1": 197,
          "cluster 2": 231,
          "cluster 3": 10.109618950103844,
          "cluster 4": 2,
          "country": "mexico",
          "region": "north_america",
          "strain": "MEX/2016/mex16"
         },
         {
          "cluster 1": 289,
          "cluster 2": 310,
          "cluster 3": 10.124032265119562,
          "cluster 4": 2,
          "country": "mexico",
          "region": "north_america",
          "strain": "MEX/2016/mex17"
         },
         {
          "cluster 1": 520,
          "cluster 2": 530,
          "cluster 3": 10.230722539855632,
          "cluster 4": 5,
          "country": "mexico",
          "region": "north_america",
          "strain": "MEX/2016/mex19"
         },
         {
          "cluster 1": 257,
          "cluster 2": 269,
          "cluster 3": 10.251988111633823,
          "cluster 4": 2,
          "country": "mexico",
          "region": "north_america",
          "strain": "MEX/2016/mex20"
         },
         {
          "cluster 1": 2,
          "cluster 2": 84,
          "cluster 3": 10.257301174390957,
          "cluster 4": 2,
          "country": "mexico",
          "region": "north_america",
          "strain": "MEX/2016/mex23"
         },
         {
          "cluster 1": 317,
          "cluster 2": 525,
          "cluster 3": 10.263211634002312,
          "cluster 4": 3,
          "country": "mexico",
          "region": "north_america",
          "strain": "MEX/2016/mex24"
         },
         {
          "cluster 1": 159,
          "cluster 2": 165,
          "cluster 3": 10.30656306415391,
          "cluster 4": 2,
          "country": "mexico",
          "region": "north_america",
          "strain": "MEX/2016/mex25"
         },
         {
          "cluster 1": 49,
          "cluster 2": 59,
          "cluster 3": 10.32375036072892,
          "cluster 4": 2,
          "country": "mexico",
          "region": "north_america",
          "strain": "MEX/2016/mex26"
         },
         {
          "cluster 1": 1,
          "cluster 2": 33,
          "cluster 3": 10.471610801863658,
          "cluster 4": 2,
          "country": "mexico",
          "region": "north_america",
          "strain": "MEX/2016/mex27"
         },
         {
          "cluster 1": 249,
          "cluster 2": 540,
          "cluster 3": 10.526920770778455,
          "cluster 4": 3,
          "country": "mexico",
          "region": "north_america",
          "strain": "MEX/2016/mex28"
         },
         {
          "cluster 1": 168,
          "cluster 2": 235,
          "cluster 3": 10.558203220483412,
          "cluster 4": 2,
          "country": "mexico",
          "region": "north_america",
          "strain": "MEX/2016/mex29"
         },
         {
          "cluster 1": 7,
          "cluster 2": 515,
          "cluster 3": 10.597708762629795,
          "cluster 4": 3,
          "country": "mexico",
          "region": "north_america",
          "strain": "MEX/2016/mex30"
         },
         {
          "cluster 1": 242,
          "cluster 2": 248,
          "cluster 3": 10.695525869889096,
          "cluster 4": 2,
          "country": "mexico",
          "region": "north_america",
          "strain": "MEX/2016/mex31"
         },
         {
          "cluster 1": 13,
          "cluster 2": 21,
          "cluster 3": 10.815210087794476,
          "cluster 4": 2,
          "country": "mexico",
          "region": "north_america",
          "strain": "MEX/2016/mex32"
         },
         {
          "cluster 1": 40,
          "cluster 2": 580,
          "cluster 3": 10.866134516500285,
          "cluster 4": 6,
          "country": "mexico",
          "region": "north_america",
          "strain": "MEX/2016/mex33"
         },
         {
          "cluster 1": 465,
          "cluster 2": 466,
          "cluster 3": 10.883786492449818,
          "cluster 4": 2,
          "country": "mexico",
          "region": "north_america",
          "strain": "MEX/2016/mex34"
         },
         {
          "cluster 1": 86,
          "cluster 2": 531,
          "cluster 3": 10.894989181566773,
          "cluster 4": 3,
          "country": "mexico",
          "region": "north_america",
          "strain": "MEX/2016/mex35"
         },
         {
          "cluster 1": 20,
          "cluster 2": 66,
          "cluster 3": 10.942678008584357,
          "cluster 4": 2,
          "country": "mexico",
          "region": "north_america",
          "strain": "MEX/2016/mex36"
         },
         {
          "cluster 1": 93,
          "cluster 2": 148,
          "cluster 3": 10.957192769824015,
          "cluster 4": 2,
          "country": "mexico",
          "region": "north_america",
          "strain": "MEX/2016/mex37"
         },
         {
          "cluster 1": 106,
          "cluster 2": 584,
          "cluster 3": 11.166137478060822,
          "cluster 4": 3,
          "country": "mexico",
          "region": "north_america",
          "strain": "MEX/2016/mex38"
         },
         {
          "cluster 1": 15,
          "cluster 2": 24,
          "cluster 3": 11.208248911830424,
          "cluster 4": 2,
          "country": "mexico",
          "region": "north_america",
          "strain": "MEX/2016/mex40"
         },
         {
          "cluster 1": 201,
          "cluster 2": 203,
          "cluster 3": 11.449930885378388,
          "cluster 4": 2,
          "country": "mexico",
          "region": "north_america",
          "strain": "MEX/2016/mex42"
         },
         {
          "cluster 1": 126,
          "cluster 2": 516,
          "cluster 3": 11.514800635243825,
          "cluster 4": 3,
          "country": "mexico",
          "region": "north_america",
          "strain": "MEX/2016/mex43"
         },
         {
          "cluster 1": 146,
          "cluster 2": 570,
          "cluster 3": 11.622432040031818,
          "cluster 4": 4,
          "country": "mexico",
          "region": "north_america",
          "strain": "MEX/2016/mex44"
         },
         {
          "cluster 1": 523,
          "cluster 2": 538,
          "cluster 3": 11.636423059466035,
          "cluster 4": 4,
          "country": "mexico",
          "region": "north_america",
          "strain": "MEX/2016/mex45"
         },
         {
          "cluster 1": 180,
          "cluster 2": 208,
          "cluster 3": 11.670699407946948,
          "cluster 4": 2,
          "country": "mexico",
          "region": "north_america",
          "strain": "MEX/2016/mex46"
         },
         {
          "cluster 1": 267,
          "cluster 2": 296,
          "cluster 3": 11.677531015063986,
          "cluster 4": 2,
          "country": "mexico",
          "region": "north_america",
          "strain": "MEX/2016/mex47"
         },
         {
          "cluster 1": 286,
          "cluster 2": 316,
          "cluster 3": 11.852080580372583,
          "cluster 4": 2,
          "country": "mexico",
          "region": "north_america",
          "strain": "MEX/2016/mex50"
         },
         {
          "cluster 1": 457,
          "cluster 2": 459,
          "cluster 3": 11.975360005681008,
          "cluster 4": 2,
          "country": "mexico",
          "region": "north_america",
          "strain": "MEX/41_001_F_V3_O/2016"
         },
         {
          "cluster 1": 46,
          "cluster 2": 591,
          "cluster 3": 11.994669392436208,
          "cluster 4": 3,
          "country": "mexico",
          "region": "north_america",
          "strain": "MEX/41_001_F_V7_O/2016"
         },
         {
          "cluster 1": 372,
          "cluster 2": 391,
          "cluster 3": 12.188500372414092,
          "cluster 4": 2,
          "country": "mexico",
          "region": "north_america",
          "strain": "MEX/41_006_F_V0_O/2016"
         },
         {
          "cluster 1": 298,
          "cluster 2": 299,
          "cluster 3": 12.207098450365912,
          "cluster 4": 2,
          "country": "mexico",
          "region": "north_america",
          "strain": "MEX/41_006_F_V7_O/2016"
         },
         {
          "cluster 1": 381,
          "cluster 2": 382,
          "cluster 3": 12.247947967724834,
          "cluster 4": 2,
          "country": "mexico",
          "region": "north_america",
          "strain": "MEX/41_017_F_V0_O/2016"
         },
         {
          "cluster 1": 407,
          "cluster 2": 420,
          "cluster 3": 12.391138113950339,
          "cluster 4": 2,
          "country": "mexico",
          "region": "north_america",
          "strain": "MEX/41_017_F_V3_O/2016"
         },
         {
          "cluster 1": 129,
          "cluster 2": 217,
          "cluster 3": 12.441707265572525,
          "cluster 4": 2,
          "country": "mexico",
          "region": "north_america",
          "strain": "MEX/41_017_F_V7_O/2016"
         },
         {
          "cluster 1": 361,
          "cluster 2": 365,
          "cluster 3": 12.52935663586004,
          "cluster 4": 2,
          "country": "mexico",
          "region": "north_america",
          "strain": "MEX/41_022_F_V0_O/2016"
         },
         {
          "cluster 1": 81,
          "cluster 2": 119,
          "cluster 3": 12.57346673353129,
          "cluster 4": 2,
          "country": "mexico",
          "region": "north_america",
          "strain": "MEX/41_022_F_V3_O/2016"
         },
         {
          "cluster 1": 23,
          "cluster 2": 564,
          "cluster 3": 12.63617496256067,
          "cluster 4": 3,
          "country": "mexico",
          "region": "north_america",
          "strain": "MEX/41_022_F_V7_O/2016"
         },
         {
          "cluster 1": 333,
          "cluster 2": 351,
          "cluster 3": 12.660269418788545,
          "cluster 4": 2,
          "country": "mexico",
          "region": "north_america",
          "strain": "MEX/41_023_F_V3_O/2016"
         },
         {
          "cluster 1": 216,
          "cluster 2": 549,
          "cluster 3": 12.724484988354472,
          "cluster 4": 4,
          "country": "mexico",
          "region": "north_america",
          "strain": "MEX/41_023_F_V7_O/2016"
         },
         {
          "cluster 1": 152,
          "cluster 2": 223,
          "cluster 3": 12.834477909740626,
          "cluster 4": 2,
          "country": "mexico",
          "region": "north_america",
          "strain": "MEX/42_001_F_V0_O/2016"
         },
         {
          "cluster 1": 36,
          "cluster 2": 149,
          "cluster 3": 12.876460733168944,
          "cluster 4": 2,
          "country": "mexico",
          "region": "north_america",
          "strain": "MEX/42_001_F_V3_O/2016"
         },
         {
          "cluster 1": 128,
          "cluster 2": 546,
          "cluster 3": 12.909715302966662,
          "cluster 4": 4,
          "country": "mexico",
          "region": "north_america",
          "strain": "MEX/42_007_F_V3_O/2016"
         },
         {
          "cluster 1": 385,
          "cluster 2": 548,
          "cluster 3": 13.221921443896466,
          "cluster 4": 3,
          "country": "mexico",
          "region": "north_america",
          "strain": "MEX/42_016_F_V0_O/2016"
         },
         {
          "cluster 1": 30,
          "cluster 2": 35,
          "cluster 3": 13.35891038911876,
          "cluster 4": 2,
          "country": "mexico",
          "region": "north_america",
          "strain": "MEX/42_018_F_V3_O/2016"
         },
         {
          "cluster 1": 147,
          "cluster 2": 541,
          "cluster 3": 13.415119567819007,
          "cluster 4": 3,
          "country": "mexico",
          "region": "north_america",
          "strain": "MEX/42_018_F_V7_O/2016"
         },
         {
          "cluster 1": 226,
          "cluster 2": 560,
          "cluster 3": 13.453925042273491,
          "cluster 4": 5,
          "country": "mexico",
          "region": "north_america",
          "strain": "MEX/43_023_F_V0_O/2016"
         },
         {
          "cluster 1": 156,
          "cluster 2": 263,
          "cluster 3": 13.5796250787114,
          "cluster 4": 2,
          "country": "mexico",
          "region": "north_america",
          "strain": "MEX/43_023_F_V3_O/2016"
         },
         {
          "cluster 1": 125,
          "cluster 2": 174,
          "cluster 3": 13.62295797504618,
          "cluster 4": 2,
          "country": "mexico",
          "region": "north_america",
          "strain": "MEX/InDRE/2016"
         },
         {
          "cluster 1": 69,
          "cluster 2": 103,
          "cluster 3": 13.641673784639165,
          "cluster 4": 2,
          "country": "mexico",
          "region": "north_america",
          "strain": "MEX/R116265/2016"
         },
         {
          "cluster 1": 175,
          "cluster 2": 565,
          "cluster 3": 13.673387309279033,
          "cluster 4": 3,
          "country": "mexico",
          "region": "north_america",
          "strain": "MEX_CIENI551"
         },
         {
          "cluster 1": 104,
          "cluster 2": 118,
          "cluster 3": 13.708683633097072,
          "cluster 4": 2,
          "country": "mexico",
          "region": "north_america",
          "strain": "MEX_ENCB165"
         },
         {
          "cluster 1": 306,
          "cluster 2": 313,
          "cluster 3": 13.745389124957596,
          "cluster 4": 2,
          "country": "mexico",
          "region": "north_america",
          "strain": "MEX_I_7"
         },
         {
          "cluster 1": 253,
          "cluster 2": 311,
          "cluster 3": 13.826848400307691,
          "cluster 4": 2,
          "country": "mexico",
          "region": "north_america",
          "strain": "Mex03/Mexico/2016"
         },
         {
          "cluster 1": 55,
          "cluster 2": 535,
          "cluster 3": 13.868183909139455,
          "cluster 4": 3,
          "country": "mexico",
          "region": "north_america",
          "strain": "Mexico/INPER38b/2016"
         },
         {
          "cluster 1": 262,
          "cluster 2": 543,
          "cluster 3": 13.977268016462352,
          "cluster 4": 3,
          "country": "mexico",
          "region": "north_america",
          "strain": "Mexico_Rus_10GNN_2016"
         },
         {
          "cluster 1": 461,
          "cluster 2": 463,
          "cluster 3": 13.996855068247132,
          "cluster 4": 2,
          "country": "mexico",
          "region": "north_america",
          "strain": "Mexico_Rus_12TVR_2017"
         },
         {
          "cluster 1": 337,
          "cluster 2": 342,
          "cluster 3": 14.274933582176958,
          "cluster 4": 2,
          "country": "mexico",
          "region": "north_america",
          "strain": "R116265"
         },
         {
          "cluster 1": 31,
          "cluster 2": 188,
          "cluster 3": 14.275890360098545,
          "cluster 4": 2,
          "country": "mexico",
          "region": "north_america",
          "strain": "USA/UT_1/2016"
         },
         {
          "cluster 1": 276,
          "cluster 2": 290,
          "cluster 3": 14.302354079553604,
          "cluster 4": 2,
          "country": "mexico",
          "region": "north_america",
          "strain": "mex07/Mexico/2016"
         },
         {
          "cluster 1": 266,
          "cluster 2": 583,
          "cluster 3": 14.40452786361383,
          "cluster 4": 4,
          "country": "mexico",
          "region": "north_america",
          "strain": "mex39/Mexico/2016"
         },
         {
          "cluster 1": 246,
          "cluster 2": 264,
          "cluster 3": 14.409106565795035,
          "cluster 4": 2,
          "country": "mexico",
          "region": "north_america",
          "strain": "mex48/Mexico/2016"
         },
         {
          "cluster 1": 176,
          "cluster 2": 250,
          "cluster 3": 14.563515997553278,
          "cluster 4": 2,
          "country": "japan",
          "region": "japan_korea",
          "strain": "3216DP137"
         },
         {
          "cluster 1": 28,
          "cluster 2": 169,
          "cluster 3": 14.594255341630175,
          "cluster 4": 2,
          "country": "japan",
          "region": "japan_korea",
          "strain": "Yokohama/1/2016"
         },
         {
          "cluster 1": 467,
          "cluster 2": 468,
          "cluster 3": 14.700083163098569,
          "cluster 4": 2,
          "country": "italy",
          "region": "europe",
          "strain": "34997/Pavia/2016"
         },
         {
          "cluster 1": 362,
          "cluster 2": 375,
          "cluster 3": 15.038967118184846,
          "cluster 4": 2,
          "country": "italy",
          "region": "europe",
          "strain": "Dominican_Republic/2016/PD2"
         },
         {
          "cluster 1": 12,
          "cluster 2": 18,
          "cluster 3": 15.049257323992611,
          "cluster 4": 2,
          "country": "italy",
          "region": "europe",
          "strain": "VR10599/Pavia/2016"
         },
         {
          "cluster 1": 58,
          "cluster 2": 566,
          "cluster 3": 15.112952618406988,
          "cluster 4": 3,
          "country": "colombia",
          "region": "south_america",
          "strain": "459148_Meta_Colombia_2016"
         },
         {
          "cluster 1": 411,
          "cluster 2": 416,
          "cluster 3": 15.130124168110973,
          "cluster 4": 2,
          "country": "colombia",
          "region": "south_america",
          "strain": "Aedes_aegypti/COL/FH04/2016"
         },
         {
          "cluster 1": 336,
          "cluster 2": 344,
          "cluster 3": 15.133686987423616,
          "cluster 4": 2,
          "country": "colombia",
          "region": "south_america",
          "strain": "COL/2016/SU_1810A"
         },
         {
          "cluster 1": 475,
          "cluster 2": 476,
          "cluster 3": 15.13722222985461,
          "cluster 4": 2,
          "country": "colombia",
          "region": "south_america",
          "strain": "COL/2016/SU_1856A"
         },
         {
          "cluster 1": 25,
          "cluster 2": 37,
          "cluster 3": 15.310870947073292,
          "cluster 4": 2,
          "country": "colombia",
          "region": "south_america",
          "strain": "COL/2016/SU_2293A"
         },
         {
          "cluster 1": 194,
          "cluster 2": 202,
          "cluster 3": 15.321708877690051,
          "cluster 4": 2,
          "country": "colombia",
          "region": "south_america",
          "strain": "COL/2016/SU_2724A"
         },
         {
          "cluster 1": 409,
          "cluster 2": 415,
          "cluster 3": 15.330624690845951,
          "cluster 4": 2,
          "country": "colombia",
          "region": "south_america",
          "strain": "COL/FCC00093/2015"
         },
         {
          "cluster 1": 318,
          "cluster 2": 322,
          "cluster 3": 15.629000615978985,
          "cluster 4": 2,
          "country": "colombia",
          "region": "south_america",
          "strain": "COL/FH02/2016"
         },
         {
          "cluster 1": 303,
          "cluster 2": 524,
          "cluster 3": 15.660115354169143,
          "cluster 4": 3,
          "country": "colombia",
          "region": "south_america",
          "strain": "COL/FH03/2016"
         },
         {
          "cluster 1": 396,
          "cluster 2": 402,
          "cluster 3": 15.80231379878576,
          "cluster 4": 2,
          "country": "colombia",
          "region": "south_america",
          "strain": "COL/FH05/2016"
         },
         {
          "cluster 1": 554,
          "cluster 2": 594,
          "cluster 3": 15.812973908147544,
          "cluster 4": 5,
          "country": "colombia",
          "region": "south_america",
          "strain": "COL/FH07/2016"
         },
         {
          "cluster 1": 71,
          "cluster 2": 102,
          "cluster 3": 15.94127856629861,
          "cluster 4": 2,
          "country": "colombia",
          "region": "south_america",
          "strain": "COL/FH09/2016"
         },
         {
          "cluster 1": 166,
          "cluster 2": 545,
          "cluster 3": 15.953931288918051,
          "cluster 4": 3,
          "country": "colombia",
          "region": "south_america",
          "strain": "COL/FH16/2015"
         },
         {
          "cluster 1": 50,
          "cluster 2": 617,
          "cluster 3": 15.98647092333637,
          "cluster 4": 5,
          "country": "colombia",
          "region": "south_america",
          "strain": "COL/FH16/2016"
         },
         {
          "cluster 1": 573,
          "cluster 2": 595,
          "cluster 3": 16.006127213126096,
          "cluster 4": 4,
          "country": "colombia",
          "region": "south_america",
          "strain": "COL/FH19/2015"
         },
         {
          "cluster 1": 537,
          "cluster 2": 567,
          "cluster 3": 16.010960367983174,
          "cluster 4": 4,
          "country": "colombia",
          "region": "south_america",
          "strain": "COL/FH19/2016"
         },
         {
          "cluster 1": 238,
          "cluster 2": 304,
          "cluster 3": 16.131644227447364,
          "cluster 4": 2,
          "country": "colombia",
          "region": "south_america",
          "strain": "COL/FLR/2015"
         },
         {
          "cluster 1": 171,
          "cluster 2": 189,
          "cluster 3": 16.186438282566048,
          "cluster 4": 2,
          "country": "colombia",
          "region": "south_america",
          "strain": "COL/FLR_00001/2015"
         },
         {
          "cluster 1": 44,
          "cluster 2": 120,
          "cluster 3": 16.19529718137386,
          "cluster 4": 2,
          "country": "colombia",
          "region": "south_america",
          "strain": "COL/FLR_00002/2015"
         },
         {
          "cluster 1": 170,
          "cluster 2": 581,
          "cluster 3": 16.22496504307969,
          "cluster 4": 3,
          "country": "colombia",
          "region": "south_america",
          "strain": "COL/FLR_00003/2015"
         },
         {
          "cluster 1": 220,
          "cluster 2": 534,
          "cluster 3": 16.233714097928104,
          "cluster 4": 3,
          "country": "colombia",
          "region": "south_america",
          "strain": "COL/FLR_00004/2015"
         },
         {
          "cluster 1": 4,
          "cluster 2": 645,
          "cluster 3": 16.35199892135441,
          "cluster 4": 4,
          "country": "colombia",
          "region": "south_america",
          "strain": "COL/FLR_00005/2015"
         },
         {
          "cluster 1": 388,
          "cluster 2": 390,
          "cluster 3": 16.43288958688683,
          "cluster 4": 2,
          "country": "colombia",
          "region": "south_america",
          "strain": "COL/FLR_00006/2015"
         },
         {
          "cluster 1": 29,
          "cluster 2": 586,
          "cluster 3": 16.489986755411056,
          "cluster 4": 3,
          "country": "colombia",
          "region": "south_america",
          "strain": "COL/FLR_00007/2015"
         },
         {
          "cluster 1": 45,
          "cluster 2": 550,
          "cluster 3": 16.494790435711078,
          "cluster 4": 3,
          "country": "colombia",
          "region": "south_america",
          "strain": "COL/FLR_00008/2015"
         },
         {
          "cluster 1": 436,
          "cluster 2": 440,
          "cluster 3": 16.55920545322546,
          "cluster 4": 2,
          "country": "colombia",
          "region": "south_america",
          "strain": "COL/FLR_00009/2015"
         },
         {
          "cluster 1": 386,
          "cluster 2": 404,
          "cluster 3": 16.619110438508642,
          "cluster 4": 2,
          "country": "colombia",
          "region": "south_america",
          "strain": "COL/FLR_00010/2015"
         },
         {
          "cluster 1": 451,
          "cluster 2": 454,
          "cluster 3": 16.650096733703535,
          "cluster 4": 2,
          "country": "colombia",
          "region": "south_america",
          "strain": "COL/FLR_00011/2015"
         },
         {
          "cluster 1": 85,
          "cluster 2": 587,
          "cluster 3": 16.880700250172655,
          "cluster 4": 4,
          "country": "colombia",
          "region": "south_america",
          "strain": "COL/FLR_00012/2015"
         },
         {
          "cluster 1": 123,
          "cluster 2": 213,
          "cluster 3": 16.965075234106767,
          "cluster 4": 2,
          "country": "colombia",
          "region": "south_america",
          "strain": "COL/FLR_00013/2015"
         },
         {
          "cluster 1": 329,
          "cluster 2": 332,
          "cluster 3": 16.977265445037983,
          "cluster 4": 2,
          "country": "colombia",
          "region": "south_america",
          "strain": "COL/FLR_00014/2015"
         },
         {
          "cluster 1": 52,
          "cluster 2": 137,
          "cluster 3": 17.005548292979807,
          "cluster 4": 2,
          "country": "colombia",
          "region": "south_america",
          "strain": "COL/FLR_00015/2015"
         },
         {
          "cluster 1": 410,
          "cluster 2": 418,
          "cluster 3": 17.257002316630473,
          "cluster 4": 2,
          "country": "colombia",
          "region": "south_america",
          "strain": "COL/FLR_00016/2015"
         },
         {
          "cluster 1": 41,
          "cluster 2": 555,
          "cluster 3": 17.275042965901182,
          "cluster 4": 3,
          "country": "colombia",
          "region": "south_america",
          "strain": "COL/FLR_00017/2015"
         },
         {
          "cluster 1": 261,
          "cluster 2": 544,
          "cluster 3": 17.285054070798257,
          "cluster 4": 3,
          "country": "colombia",
          "region": "south_america",
          "strain": "COL/FLR_00018/2015"
         },
         {
          "cluster 1": 206,
          "cluster 2": 552,
          "cluster 3": 17.388753186311224,
          "cluster 4": 3,
          "country": "colombia",
          "region": "south_america",
          "strain": "COL/FLR_00019/2015"
         },
         {
          "cluster 1": 158,
          "cluster 2": 574,
          "cluster 3": 17.40750417522149,
          "cluster 4": 4,
          "country": "colombia",
          "region": "south_america",
          "strain": "COL/FLR_00020/2015"
         },
         {
          "cluster 1": 486,
          "cluster 2": 487,
          "cluster 3": 17.421522536463012,
          "cluster 4": 2,
          "country": "colombia",
          "region": "south_america",
          "strain": "COL/FLR_00021/2015"
         },
         {
          "cluster 1": 359,
          "cluster 2": 367,
          "cluster 3": 17.488494429432546,
          "cluster 4": 2,
          "country": "colombia",
          "region": "south_america",
          "strain": "COL/FLR_00022/2015"
         },
         {
          "cluster 1": 271,
          "cluster 2": 295,
          "cluster 3": 17.5053004067794,
          "cluster 4": 2,
          "country": "colombia",
          "region": "south_america",
          "strain": "COL/FLR_00023/2015"
         },
         {
          "cluster 1": 445,
          "cluster 2": 449,
          "cluster 3": 17.81373288810188,
          "cluster 4": 2,
          "country": "colombia",
          "region": "south_america",
          "strain": "COL/FLR_00024/2015"
         },
         {
          "cluster 1": 401,
          "cluster 2": 542,
          "cluster 3": 18.05411474207113,
          "cluster 4": 3,
          "country": "colombia",
          "region": "south_america",
          "strain": "COL/FLR_00025/2015"
         },
         {
          "cluster 1": 443,
          "cluster 2": 448,
          "cluster 3": 18.08629592423261,
          "cluster 4": 2,
          "country": "colombia",
          "region": "south_america",
          "strain": "COL/FLR_00026/2015"
         },
         {
          "cluster 1": 338,
          "cluster 2": 348,
          "cluster 3": 18.093674971017634,
          "cluster 4": 2,
          "country": "colombia",
          "region": "south_america",
          "strain": "COL/FLR_00034/2015"
         },
         {
          "cluster 1": 89,
          "cluster 2": 590,
          "cluster 3": 18.243715511745282,
          "cluster 4": 3,
          "country": "colombia",
          "region": "south_america",
          "strain": "COL/FLR_00035/2015"
         },
         {
          "cluster 1": 232,
          "cluster 2": 255,
          "cluster 3": 18.417911371580132,
          "cluster 4": 2,
          "country": "colombia",
          "region": "south_america",
          "strain": "COL/FLR_00036/2015"
         },
         {
          "cluster 1": 142,
          "cluster 2": 181,
          "cluster 3": 18.662161050699485,
          "cluster 4": 2,
          "country": "colombia",
          "region": "south_america",
          "strain": "COL/FLR_00038/2015"
         },
         {
          "cluster 1": 145,
          "cluster 2": 607,
          "cluster 3": 18.695915698202235,
          "cluster 4": 4,
          "country": "colombia",
          "region": "south_america",
          "strain": "COL/FLR_00040/2015"
         },
         {
          "cluster 1": 32,
          "cluster 2": 522,
          "cluster 3": 18.77789009043754,
          "cluster 4": 3,
          "country": "colombia",
          "region": "south_america",
          "strain": "COL/FLR_00041/2015"
         },
         {
          "cluster 1": 397,
          "cluster 2": 403,
          "cluster 3": 18.866223570905287,
          "cluster 4": 2,
          "country": "colombia",
          "region": "south_america",
          "strain": "COL/FLR_00042/2015"
         },
         {
          "cluster 1": 297,
          "cluster 2": 625,
          "cluster 3": 19.241029888509956,
          "cluster 4": 3,
          "country": "colombia",
          "region": "south_america",
          "strain": "COL/PAN_00029/2015"
         },
         {
          "cluster 1": 98,
          "cluster 2": 532,
          "cluster 3": 19.254417026698057,
          "cluster 4": 3,
          "country": "colombia",
          "region": "south_america",
          "strain": "COL/PAN_00030/2015"
         },
         {
          "cluster 1": 325,
          "cluster 2": 357,
          "cluster 3": 19.26955109985166,
          "cluster 4": 2,
          "country": "colombia",
          "region": "south_america",
          "strain": "COL/PRV_00027/2015"
         },
         {
          "cluster 1": 234,
          "cluster 2": 239,
          "cluster 3": 19.324532687611526,
          "cluster 4": 2,
          "country": "colombia",
          "region": "south_america",
          "strain": "COL/PRV_00028/2015"
         },
         {
          "cluster 1": 260,
          "cluster 2": 330,
          "cluster 3": 19.380949321259344,
          "cluster 4": 2,
          "country": "colombia",
          "region": "south_america",
          "strain": "COL/UF_1/2016"
         },
         {
          "cluster 1": 414,
          "cluster 2": 575,
          "cluster 3": 19.52590225319659,
          "cluster 4": 3,
          "country": "colombia",
          "region": "south_america",
          "strain": "COL345Si"
         },
         {
          "cluster 1": 139,
          "cluster 2": 557,
          "cluster 3": 19.774648522801737,
          "cluster 4": 3,
          "country": "colombia",
          "region": "south_america",
          "strain": "Colombia/2016/ZC188Se"
         },
         {
          "cluster 1": 596,
          "cluster 2": 622,
          "cluster 3": 19.850610219174133,
          "cluster 4": 4,
          "country": "colombia",
          "region": "south_america",
          "strain": "Colombia/2016/ZC192Se"
         },
         {
          "cluster 1": 64,
          "cluster 2": 655,
          "cluster 3": 19.898029620748172,
          "cluster 4": 6,
          "country": "colombia",
          "region": "south_america",
          "strain": "Colombia/2016/ZC199Se"
         },
         {
          "cluster 1": 419,
          "cluster 2": 430,
          "cluster 3": 20.01793792739967,
          "cluster 4": 2,
          "country": "colombia",
          "region": "south_america",
          "strain": "Colombia/2016/ZC204Se"
         },
         {
          "cluster 1": 228,
          "cluster 2": 321,
          "cluster 3": 20.203366751015206,
          "cluster 4": 2,
          "country": "colombia",
          "region": "south_america",
          "strain": "Colombia/2016/ZC207Se"
         },
         {
          "cluster 1": 619,
          "cluster 2": 665,
          "cluster 3": 20.22005413443739,
          "cluster 4": 5,
          "country": "colombia",
          "region": "south_america",
          "strain": "FLA"
         },
         {
          "cluster 1": 230,
          "cluster 2": 293,
          "cluster 3": 20.357027063154156,
          "cluster 4": 2,
          "country": "usa",
          "region": "north_america",
          "strain": "Aedes_aegypti/USA/2016/FL01"
         },
         {
          "cluster 1": 563,
          "cluster 2": 602,
          "cluster 3": 20.518296143777707,
          "cluster 4": 6,
          "country": "usa",
          "region": "north_america",
          "strain": "Aedes_aegypti/USA/2016/FL02"
         },
         {
          "cluster 1": 97,
          "cluster 2": 623,
          "cluster 3": 20.82095748229955,
          "cluster 4": 4,
          "country": "usa",
          "region": "north_america",
          "strain": "Aedes_aegypti/USA/2016/FL03"
         },
         {
          "cluster 1": 272,
          "cluster 2": 277,
          "cluster 3": 20.911285629174856,
          "cluster 4": 2,
          "country": "usa",
          "region": "north_america",
          "strain": "Aedes_aegypti/USA/2016/FL04"
         },
         {
          "cluster 1": 562,
          "cluster 2": 572,
          "cluster 3": 21.09257092948944,
          "cluster 4": 4,
          "country": "usa",
          "region": "north_america",
          "strain": "Aedes_aegypti/USA/2016/FL05"
         },
         {
          "cluster 1": 479,
          "cluster 2": 480,
          "cluster 3": 21.292105716394477,
          "cluster 4": 2,
          "country": "usa",
          "region": "north_america",
          "strain": "Aedes_aegypti/USA/2016/FL06"
         },
         {
          "cluster 1": 200,
          "cluster 2": 577,
          "cluster 3": 21.674155358077684,
          "cluster 4": 3,
          "country": "usa",
          "region": "north_america",
          "strain": "Aedes_aegypti/USA/2016/FL08"
         },
         {
          "cluster 1": 450,
          "cluster 2": 453,
          "cluster 3": 22.108220716153042,
          "cluster 4": 2,
          "country": "usa",
          "region": "north_america",
          "strain": "MB16_23"
         },
         {
          "cluster 1": 273,
          "cluster 2": 281,
          "cluster 3": 22.12022874082551,
          "cluster 4": 2,
          "country": "usa",
          "region": "north_america",
          "strain": "USA/2016/FL010"
         },
         {
          "cluster 1": 134,
          "cluster 2": 569,
          "cluster 3": 22.19299120716294,
          "cluster 4": 3,
          "country": "usa",
          "region": "north_america",
          "strain": "USA/2016/FL019"
         },
         {
          "cluster 1": 205,
          "cluster 2": 609,
          "cluster 3": 22.329976965390102,
          "cluster 4": 3,
          "country": "usa",
          "region": "north_america",
          "strain": "USA/2016/FL021"
         },
         {
          "cluster 1": 399,
          "cluster 2": 677,
          "cluster 3": 22.408367934364524,
          "cluster 4": 3,
          "country": "usa",
          "region": "north_america",
          "strain": "USA/2016/FL022"
         },
         {
          "cluster 1": 477,
          "cluster 2": 478,
          "cluster 3": 22.476589422654765,
          "cluster 4": 2,
          "country": "usa",
          "region": "north_america",
          "strain": "USA/2016/FL028"
         },
         {
          "cluster 1": 319,
          "cluster 2": 661,
          "cluster 3": 22.535525164024698,
          "cluster 4": 3,
          "country": "usa",
          "region": "north_america",
          "strain": "USA/2016/FL029"
         },
         {
          "cluster 1": 412,
          "cluster 2": 611,
          "cluster 3": 22.54343965448853,
          "cluster 4": 3,
          "country": "usa",
          "region": "north_america",
          "strain": "USA/2016/FL030"
         },
         {
          "cluster 1": 376,
          "cluster 2": 408,
          "cluster 3": 23.037276530900712,
          "cluster 4": 2,
          "country": "usa",
          "region": "north_america",
          "strain": "USA/2016/FL032"
         },
         {
          "cluster 1": 140,
          "cluster 2": 233,
          "cluster 3": 23.06519155851952,
          "cluster 4": 2,
          "country": "usa",
          "region": "north_america",
          "strain": "USA/2016/FL035"
         },
         {
          "cluster 1": 632,
          "cluster 2": 668,
          "cluster 3": 23.242897933982036,
          "cluster 4": 6,
          "country": "usa",
          "region": "north_america",
          "strain": "USA/2016/FL036"
         },
         {
          "cluster 1": 470,
          "cluster 2": 471,
          "cluster 3": 23.262701378810767,
          "cluster 4": 2,
          "country": "usa",
          "region": "north_america",
          "strain": "USA/2016/FL038"
         },
         {
          "cluster 1": 191,
          "cluster 2": 579,
          "cluster 3": 23.46302427659158,
          "cluster 4": 3,
          "country": "usa",
          "region": "north_america",
          "strain": "USA/2016/FL039"
         },
         {
          "cluster 1": 380,
          "cluster 2": 558,
          "cluster 3": 23.467476677928587,
          "cluster 4": 3,
          "country": "usa",
          "region": "north_america",
          "strain": "USA/2016/FLSR036"
         },
         {
          "cluster 1": 117,
          "cluster 2": 691,
          "cluster 3": 23.541301516534297,
          "cluster 4": 3,
          "country": "usa",
          "region": "north_america",
          "strain": "USA/2016/FLSR043"
         },
         {
          "cluster 1": 38,
          "cluster 2": 615,
          "cluster 3": 23.57997513933668,
          "cluster 4": 4,
          "country": "usa",
          "region": "north_america",
          "strain": "USA/2016/FLUR001"
         },
         {
          "cluster 1": 186,
          "cluster 2": 599,
          "cluster 3": 23.671936973068476,
          "cluster 4": 3,
          "country": "usa",
          "region": "north_america",
          "strain": "USA/2016/FLUR002"
         },
         {
          "cluster 1": 92,
          "cluster 2": 614,
          "cluster 3": 23.690072194340125,
          "cluster 4": 3,
          "country": "usa",
          "region": "north_america",
          "strain": "USA/2016/FLUR005"
         },
         {
          "cluster 1": 345,
          "cluster 2": 571,
          "cluster 3": 23.845517557859772,
          "cluster 4": 3,
          "country": "usa",
          "region": "north_america",
          "strain": "USA/2016/FLUR006"
         },
         {
          "cluster 1": 291,
          "cluster 2": 353,
          "cluster 3": 23.991240188835143,
          "cluster 4": 2,
          "country": "usa",
          "region": "north_america",
          "strain": "USA/2016/FLUR007"
         },
         {
          "cluster 1": 265,
          "cluster 2": 578,
          "cluster 3": 24.00369212303171,
          "cluster 4": 3,
          "country": "usa",
          "region": "north_america",
          "strain": "USA/2016/FLUR008"
         },
         {
          "cluster 1": 433,
          "cluster 2": 438,
          "cluster 3": 24.08387025911835,
          "cluster 4": 2,
          "country": "usa",
          "region": "north_america",
          "strain": "USA/2016/FLUR009"
         },
         {
          "cluster 1": 141,
          "cluster 2": 660,
          "cluster 3": 24.195292553168713,
          "cluster 4": 5,
          "country": "usa",
          "region": "north_america",
          "strain": "USA/2016/FLUR011"
         },
         {
          "cluster 1": 91,
          "cluster 2": 730,
          "cluster 3": 24.230515795164816,
          "cluster 4": 4,
          "country": "usa",
          "region": "north_america",
          "strain": "USA/2016/FLUR013"
         },
         {
          "cluster 1": 87,
          "cluster 2": 598,
          "cluster 3": 24.319609364753358,
          "cluster 4": 3,
          "country": "usa",
          "region": "north_america",
          "strain": "USA/2016/FLUR014"
         },
         {
          "cluster 1": 492,
          "cluster 2": 493,
          "cluster 3": 24.678914240394125,
          "cluster 4": 2,
          "country": "usa",
          "region": "north_america",
          "strain": "USA/2016/FLUR015"
         },
         {
          "cluster 1": 61,
          "cluster 2": 627,
          "cluster 3": 24.91988178514329,
          "cluster 4": 3,
          "country": "usa",
          "region": "north_america",
          "strain": "USA/2016/FLUR022"
         },
         {
          "cluster 1": 83,
          "cluster 2": 559,
          "cluster 3": 25.426291167765736,
          "cluster 4": 3,
          "country": "usa",
          "region": "north_america",
          "strain": "USA/2016/FLUR026"
         },
         {
          "cluster 1": 314,
          "cluster 2": 354,
          "cluster 3": 25.512674825398335,
          "cluster 4": 2,
          "country": "usa",
          "region": "north_america",
          "strain": "USA/2016/FLUR057"
         },
         {
          "cluster 1": 305,
          "cluster 2": 616,
          "cluster 3": 25.73460945482833,
          "cluster 4": 3,
          "country": "usa",
          "region": "north_america",
          "strain": "USA/2016/FLUR058"
         },
         {
          "cluster 1": 243,
          "cluster 2": 641,
          "cluster 3": 25.926388490549495,
          "cluster 4": 3,
          "country": "usa",
          "region": "north_america",
          "strain": "USA/2016/FLUR063"
         },
         {
          "cluster 1": 219,
          "cluster 2": 679,
          "cluster 3": 26.010871781158396,
          "cluster 4": 4,
          "country": "usa",
          "region": "north_america",
          "strain": "USA/2016/FLWB042"
         },
         {
          "cluster 1": 568,
          "cluster 2": 588,
          "cluster 3": 26.07774336995507,
          "cluster 4": 4,
          "country": "usa",
          "region": "north_america",
          "strain": "USA/2016/FLWB044"
         },
         {
          "cluster 1": 256,
          "cluster 2": 340,
          "cluster 3": 26.19477071841869,
          "cluster 4": 2,
          "country": "usa",
          "region": "north_america",
          "strain": "USA/2016/Hu0015SA"
         },
         {
          "cluster 1": 300,
          "cluster 2": 726,
          "cluster 3": 26.21268751499522,
          "cluster 4": 4,
          "country": "usa",
          "region": "north_america",
          "strain": "USA/2016/MA_WGS16_034"
         },
         {
          "cluster 1": 346,
          "cluster 2": 605,
          "cluster 3": 26.311336277421393,
          "cluster 4": 3,
          "country": "thailand",
          "region": "southeast_asia",
          "strain": "BKK03"
         },
         {
          "cluster 1": 252,
          "cluster 2": 350,
          "cluster 3": 26.31479280939236,
          "cluster 4": 2,
          "country": "thailand",
          "region": "southeast_asia",
          "strain": "BKK04"
         },
         {
          "cluster 1": 370,
          "cluster 2": 387,
          "cluster 3": 26.40162134854774,
          "cluster 4": 2,
          "country": "thailand",
          "region": "southeast_asia",
          "strain": "BKK07"
         },
         {
          "cluster 1": 287,
          "cluster 2": 307,
          "cluster 3": 26.51115251411356,
          "cluster 4": 2,
          "country": "thailand",
          "region": "southeast_asia",
          "strain": "CVD_06_274"
         },
         {
          "cluster 1": 270,
          "cluster 2": 323,
          "cluster 3": 26.65423453023202,
          "cluster 4": 2,
          "country": "thailand",
          "region": "southeast_asia",
          "strain": "DMSc05684_16"
         },
         {
          "cluster 1": 517,
          "cluster 2": 585,
          "cluster 3": 26.664224519701516,
          "cluster 4": 4,
          "country": "thailand",
          "region": "southeast_asia",
          "strain": "SI_BKK01"
         },
         {
          "cluster 1": 225,
          "cluster 2": 280,
          "cluster 3": 26.737875662280448,
          "cluster 4": 2,
          "country": "thailand",
          "region": "southeast_asia",
          "strain": "SI_BKK02"
         },
         {
          "cluster 1": 422,
          "cluster 2": 700,
          "cluster 3": 26.924194030943056,
          "cluster 4": 4,
          "country": "thailand",
          "region": "southeast_asia",
          "strain": "SI_BKK05"
         },
         {
          "cluster 1": 458,
          "cluster 2": 606,
          "cluster 3": 26.92427534686285,
          "cluster 4": 3,
          "country": "thailand",
          "region": "southeast_asia",
          "strain": "SI_BKK06"
         },
         {
          "cluster 1": 424,
          "cluster 2": 704,
          "cluster 3": 26.93973470160595,
          "cluster 4": 3,
          "country": "thailand",
          "region": "southeast_asia",
          "strain": "SK364/13AS"
         },
         {
          "cluster 1": 628,
          "cluster 2": 689,
          "cluster 3": 26.990418656364263,
          "cluster 4": 6,
          "country": "thailand",
          "region": "southeast_asia",
          "strain": "SK403/13AS"
         },
         {
          "cluster 1": 157,
          "cluster 2": 656,
          "cluster 3": 26.99702569595982,
          "cluster 4": 3,
          "country": "thailand",
          "region": "southeast_asia",
          "strain": "SV0010/15"
         },
         {
          "cluster 1": 363,
          "cluster 2": 383,
          "cluster 3": 27.12867074036613,
          "cluster 4": 2,
          "country": "thailand",
          "region": "southeast_asia",
          "strain": "THA/2014/SV0127_14"
         },
         {
          "cluster 1": 495,
          "cluster 2": 496,
          "cluster 3": 27.1512827067124,
          "cluster 4": 2,
          "country": "thailand",
          "region": "southeast_asia",
          "strain": "THA/PLCal_ZV/2013"
         },
         {
          "cluster 1": 533,
          "cluster 2": 608,
          "cluster 3": 27.164499564889606,
          "cluster 4": 4,
          "country": "thailand",
          "region": "southeast_asia",
          "strain": "Thai/KngSG/17_D501"
         },
         {
          "cluster 1": 551,
          "cluster 2": 644,
          "cluster 3": 27.226454153089104,
          "cluster 4": 4,
          "country": "thailand",
          "region": "southeast_asia",
          "strain": "Thailand/1610acTw"
         },
         {
          "cluster 1": 472,
          "cluster 2": 473,
          "cluster 3": 27.550029208750175,
          "cluster 4": 2,
          "country": "brazil",
          "region": "south_america",
          "strain": "BR/AM/16800005"
         },
         {
          "cluster 1": 439,
          "cluster 2": 687,
          "cluster 3": 27.84343889688413,
          "cluster 4": 3,
          "country": "brazil",
          "region": "south_america",
          "strain": "BR/NHP_17_05/2017"
         },
         {
          "cluster 1": 254,
          "cluster 2": 626,
          "cluster 3": 27.97199222936515,
          "cluster 4": 3,
          "country": "brazil",
          "region": "south_america",
          "strain": "BR/NHP_17_17/2017"
         },
         {
          "cluster 1": 124,
          "cluster 2": 698,
          "cluster 3": 28.016128653327907,
          "cluster 4": 3,
          "country": "brazil",
          "region": "south_america",
          "strain": "BR/NHP_17_18/2017"
         },
         {
          "cluster 1": 227,
          "cluster 2": 309,
          "cluster 3": 28.041983512315387,
          "cluster 4": 2,
          "country": "brazil",
          "region": "south_america",
          "strain": "BR/NHP_17_19/2017"
         },
         {
          "cluster 1": 603,
          "cluster 2": 681,
          "cluster 3": 28.092666101218516,
          "cluster 4": 6,
          "country": "brazil",
          "region": "south_america",
          "strain": "BR/Sinop/H355/2015"
         },
         {
          "cluster 1": 326,
          "cluster 2": 732,
          "cluster 3": 28.22653558069732,
          "cluster 4": 4,
          "country": "brazil",
          "region": "south_america",
          "strain": "BR/Sinop/H366/2015"
         },
         {
          "cluster 1": 384,
          "cluster 2": 613,
          "cluster 3": 28.26298236714337,
          "cluster 4": 3,
          "country": "brazil",
          "region": "south_america",
          "strain": "BR/Sinop/H366_2P/2015"
         },
         {
          "cluster 1": 366,
          "cluster 2": 394,
          "cluster 3": 28.544031844148243,
          "cluster 4": 2,
          "country": "brazil",
          "region": "south_america",
          "strain": "BRA/2016/FC_5790"
         },
         {
          "cluster 1": 214,
          "cluster 2": 327,
          "cluster 3": 28.75904666203051,
          "cluster 4": 2,
          "country": "brazil",
          "region": "south_america",
          "strain": "BRA/2016/FC_5905"
         },
         {
          "cluster 1": 241,
          "cluster 2": 284,
          "cluster 3": 29.0194018292123,
          "cluster 4": 2,
          "country": "brazil",
          "region": "south_america",
          "strain": "BRA/2016/FC_6418"
         },
         {
          "cluster 1": 251,
          "cluster 2": 652,
          "cluster 3": 29.06311840276991,
          "cluster 4": 3,
          "country": "brazil",
          "region": "south_america",
          "strain": "BRA/2016/FC_6696"
         },
         {
          "cluster 1": 324,
          "cluster 2": 369,
          "cluster 3": 29.079175528085248,
          "cluster 4": 2,
          "country": "brazil",
          "region": "south_america",
          "strain": "BRA/2016/FC_6703"
         },
         {
          "cluster 1": 339,
          "cluster 2": 364,
          "cluster 3": 29.281656350063955,
          "cluster 4": 2,
          "country": "brazil",
          "region": "south_america",
          "strain": "BRA/2016/FC_6706"
         },
         {
          "cluster 1": 236,
          "cluster 2": 658,
          "cluster 3": 29.445947848654576,
          "cluster 4": 6,
          "country": "brazil",
          "region": "south_america",
          "strain": "BRA/2016/FC_6863"
         },
         {
          "cluster 1": 643,
          "cluster 2": 667,
          "cluster 3": 29.533832223697555,
          "cluster 4": 4,
          "country": "brazil",
          "region": "south_america",
          "strain": "BRA/2016/FC_6864"
         },
         {
          "cluster 1": 536,
          "cluster 2": 692,
          "cluster 3": 29.620896743066698,
          "cluster 4": 6,
          "country": "brazil",
          "region": "south_america",
          "strain": "BRA/2016/FC_DQ107D1"
         },
         {
          "cluster 1": 320,
          "cluster 2": 331,
          "cluster 3": 29.66540115258288,
          "cluster 4": 2,
          "country": "brazil",
          "region": "south_america",
          "strain": "BRA/2016/FC_DQ116D1"
         },
         {
          "cluster 1": 431,
          "cluster 2": 441,
          "cluster 3": 29.73688735652001,
          "cluster 4": 2,
          "country": "brazil",
          "region": "south_america",
          "strain": "BRA/2016/FC_DQ122D1"
         },
         {
          "cluster 1": 48,
          "cluster 2": 631,
          "cluster 3": 29.9795608572893,
          "cluster 4": 3,
          "country": "brazil",
          "region": "south_america",
          "strain": "BRA/2016/FC_DQ12D1"
         },
         {
          "cluster 1": 135,
          "cluster 2": 576,
          "cluster 3": 31.329513571130654,
          "cluster 4": 3,
          "country": "brazil",
          "region": "south_america",
          "strain": "BRA/2016/FC_DQ131D1"
         },
         {
          "cluster 1": 19,
          "cluster 2": 690,
          "cluster 3": 31.41586126339081,
          "cluster 4": 3,
          "country": "brazil",
          "region": "south_america",
          "strain": "BRA/2016/FC_DQ192D1"
         },
         {
          "cluster 1": 426,
          "cluster 2": 718,
          "cluster 3": 31.926193034681557,
          "cluster 4": 4,
          "country": "brazil",
          "region": "south_america",
          "strain": "BRA/2016/FC_DQ28D1"
         },
         {
          "cluster 1": 288,
          "cluster 2": 720,
          "cluster 3": 31.954522968589682,
          "cluster 4": 4,
          "country": "brazil",
          "region": "south_america",
          "strain": "BRA/2016/FC_DQ42D1"
         },
         {
          "cluster 1": 561,
          "cluster 2": 705,
          "cluster 3": 31.98621634959904,
          "cluster 4": 4,
          "country": "brazil",
          "region": "south_america",
          "strain": "BRA/2016/FC_DQ47D1"
         },
         {
          "cluster 1": 204,
          "cluster 2": 301,
          "cluster 3": 32.02141893338639,
          "cluster 4": 2,
          "country": "brazil",
          "region": "south_america",
          "strain": "BRA/2016/FC_DQ49D1"
         },
         {
          "cluster 1": 456,
          "cluster 2": 460,
          "cluster 3": 32.089801621034404,
          "cluster 4": 2,
          "country": "brazil",
          "region": "south_america",
          "strain": "BRA/2016/FC_DQ58D1"
         },
         {
          "cluster 1": 678,
          "cluster 2": 731,
          "cluster 3": 32.15927326274278,
          "cluster 4": 6,
          "country": "brazil",
          "region": "south_america",
          "strain": "BRA/2016/FC_DQ5D1"
         },
         {
          "cluster 1": 556,
          "cluster 2": 673,
          "cluster 3": 32.64473365836728,
          "cluster 4": 7,
          "country": "brazil",
          "region": "south_america",
          "strain": "BRA/2016/FC_DQ60D1"
         },
         {
          "cluster 1": 143,
          "cluster 2": 680,
          "cluster 3": 32.75655106013916,
          "cluster 4": 4,
          "country": "brazil",
          "region": "south_america",
          "strain": "BRA/2016/FC_DQ62D1"
         },
         {
          "cluster 1": 347,
          "cluster 2": 639,
          "cluster 3": 32.925151777298076,
          "cluster 4": 3,
          "country": "brazil",
          "region": "south_america",
          "strain": "BRA/2016/FC_DQ62D2"
         },
         {
          "cluster 1": 334,
          "cluster 2": 684,
          "cluster 3": 33.566550138506706,
          "cluster 4": 3,
          "country": "brazil",
          "region": "south_america",
          "strain": "BRA/2016/FC_DQ68D1"
         },
         {
          "cluster 1": 421,
          "cluster 2": 686,
          "cluster 3": 33.68149841659873,
          "cluster 4": 4,
          "country": "brazil",
          "region": "south_america",
          "strain": "BRA/2016/FC_DQ75D1"
         },
         {
          "cluster 1": 389,
          "cluster 2": 413,
          "cluster 3": 33.853576278084255,
          "cluster 4": 2,
          "country": "brazil",
          "region": "south_america",
          "strain": "BRA/2016/ZKV17Asem_2016_04_26"
         },
         {
          "cluster 1": 211,
          "cluster 2": 695,
          "cluster 3": 34.118354061136344,
          "cluster 4": 4,
          "country": "brazil",
          "region": "south_america",
          "strain": "BRA/2016/ZKV17Auri_2016_04_26"
         },
         {
          "cluster 1": 258,
          "cluster 2": 278,
          "cluster 3": 34.172888684539345,
          "cluster 4": 2,
          "country": "brazil",
          "region": "south_america",
          "strain": "BRA/2016/ZKV17Bsem_2016_05_03"
         },
         {
          "cluster 1": 167,
          "cluster 2": 638,
          "cluster 3": 34.29921217309573,
          "cluster 4": 5,
          "country": "brazil",
          "region": "south_america",
          "strain": "BRA/2016/ZKV17Csem_2016_05_10"
         },
         {
          "cluster 1": 285,
          "cluster 2": 717,
          "cluster 3": 34.311927889276355,
          "cluster 4": 4,
          "country": "brazil",
          "region": "south_america",
          "strain": "BRA/2016/ZKV17Dsem_2016_05_17"
         },
         {
          "cluster 1": 101,
          "cluster 2": 110,
          "cluster 3": 34.54228845153157,
          "cluster 4": 2,
          "country": "brazil",
          "region": "south_america",
          "strain": "BRA/2016/ZKV17Esem_2016_05_24"
         },
         {
          "cluster 1": 444,
          "cluster 2": 446,
          "cluster 3": 34.64319547665856,
          "cluster 4": 2,
          "country": "brazil",
          "region": "south_america",
          "strain": "BRA/2016/ZKV17Fsem_2016_05_31"
         },
         {
          "cluster 1": 685,
          "cluster 2": 714,
          "cluster 3": 35.005499436439024,
          "cluster 4": 4,
          "country": "brazil",
          "region": "south_america",
          "strain": "BRA/2016/ZKV17Gsem_2016_06_08"
         },
         {
          "cluster 1": 368,
          "cluster 2": 393,
          "cluster 3": 35.0259938450228,
          "cluster 4": 2,
          "country": "brazil",
          "region": "south_america",
          "strain": "BRA/2016/ZKV17Hsem_2016_06_16"
         },
         {
          "cluster 1": 379,
          "cluster 2": 697,
          "cluster 3": 35.12452950960533,
          "cluster 4": 3,
          "country": "brazil",
          "region": "south_america",
          "strain": "BRA/2016/ZKV17Jsem_2016_06_28"
         },
         {
          "cluster 1": 184,
          "cluster 2": 302,
          "cluster 3": 35.16742567987737,
          "cluster 4": 2,
          "country": "brazil",
          "region": "south_america",
          "strain": "BRA/2016/ZKV17Ksem_2016_07_05"
         },
         {
          "cluster 1": 240,
          "cluster 2": 630,
          "cluster 3": 35.228058697777676,
          "cluster 4": 3,
          "country": "brazil",
          "region": "south_america",
          "strain": "BRA/2016/ZKV17Lsem_2016_07_12"
         },
         {
          "cluster 1": 526,
          "cluster 2": 711,
          "cluster 3": 35.58810308136729,
          "cluster 4": 6,
          "country": "brazil",
          "region": "south_america",
          "strain": "BRA/2016/ZKV17Msem_2016_07_19"
         },
         {
          "cluster 1": 674,
          "cluster 2": 709,
          "cluster 3": 36.47212053813039,
          "cluster 4": 6,
          "country": "brazil",
          "region": "south_america",
          "strain": "BRA/2016/ZKV17Nsem_2016_07_27"
         },
         {
          "cluster 1": 654,
          "cluster 2": 722,
          "cluster 3": 36.680951574214006,
          "cluster 4": 4,
          "country": "brazil",
          "region": "south_america",
          "strain": "BRA/2016/ZKV17sem_2016_04_19"
         },
         {
          "cluster 1": 589,
          "cluster 2": 738,
          "cluster 3": 36.70909351270449,
          "cluster 4": 6,
          "country": "brazil",
          "region": "south_america",
          "strain": "BRA/2016/ZKV17uri_2016_04_19"
         },
         {
          "cluster 1": 427,
          "cluster 2": 432,
          "cluster 3": 36.78761005416284,
          "cluster 4": 2,
          "country": "brazil",
          "region": "south_america",
          "strain": "BRA/2016/ZKV19Auri_2016_05_05"
         },
         {
          "cluster 1": 707,
          "cluster 2": 748,
          "cluster 3": 36.927212704523065,
          "cluster 4": 6,
          "country": "brazil",
          "region": "south_america",
          "strain": "BRA/2016/ZKV19Bsem_2016_05_12"
         },
         {
          "cluster 1": 671,
          "cluster 2": 751,
          "cluster 3": 37.23508356179798,
          "cluster 4": 4,
          "country": "brazil",
          "region": "south_america",
          "strain": "BRA/2016/ZKV19Csem_2016_05_19"
         },
         {
          "cluster 1": 138,
          "cluster 2": 209,
          "cluster 3": 37.29121220648721,
          "cluster 4": 2,
          "country": "brazil",
          "region": "south_america",
          "strain": "BRA/2016/ZKV19Dsem_2016_05_24"
         },
         {
          "cluster 1": 669,
          "cluster 2": 744,
          "cluster 3": 37.30710331751444,
          "cluster 4": 6,
          "country": "brazil",
          "region": "south_america",
          "strain": "BRA/2016/ZKV19Esem_2016_06_02"
         },
         {
          "cluster 1": 582,
          "cluster 2": 666,
          "cluster 3": 37.6403068943726,
          "cluster 4": 6,
          "country": "brazil",
          "region": "south_america",
          "strain": "BRA/2016/ZKV19Fsem_2016_06_09"
         },
         {
          "cluster 1": 649,
          "cluster 2": 740,
          "cluster 3": 37.6931519734623,
          "cluster 4": 5,
          "country": "brazil",
          "region": "south_america",
          "strain": "BRA/2016/ZKV19uri_2016_04_30"
         },
         {
          "cluster 1": 651,
          "cluster 2": 758,
          "cluster 3": 38.227687085851194,
          "cluster 4": 5,
          "country": "brazil",
          "region": "south_america",
          "strain": "BR_SJRP1840"
         },
         {
          "cluster 1": 650,
          "cluster 2": 760,
          "cluster 3": 38.29889412726215,
          "cluster 4": 5,
          "country": "brazil",
          "region": "south_america",
          "strain": "BR_SJRP21"
         },
         {
          "cluster 1": 474,
          "cluster 2": 648,
          "cluster 3": 38.37083005896079,
          "cluster 4": 3,
          "country": "brazil",
          "region": "south_america",
          "strain": "BR_SJRP61"
         },
         {
          "cluster 1": 637,
          "cluster 2": 747,
          "cluster 3": 38.57967853269315,
          "cluster 4": 4,
          "country": "brazil",
          "region": "south_america",
          "strain": "Bahia01"
         },
         {
          "cluster 1": 183,
          "cluster 2": 785,
          "cluster 3": 38.79464540780884,
          "cluster 4": 4,
          "country": "brazil",
          "region": "south_america",
          "strain": "Bahia02"
         },
         {
          "cluster 1": 352,
          "cluster 2": 635,
          "cluster 3": 38.86964858900758,
          "cluster 4": 3,
          "country": "brazil",
          "region": "south_america",
          "strain": "Bahia03"
         },
         {
          "cluster 1": 315,
          "cluster 2": 349,
          "cluster 3": 39.08947312062262,
          "cluster 4": 2,
          "country": "brazil",
          "region": "south_america",
          "strain": "Bahia04"
         },
         {
          "cluster 1": 452,
          "cluster 2": 766,
          "cluster 3": 39.11024597150334,
          "cluster 4": 4,
          "country": "brazil",
          "region": "south_america",
          "strain": "Bahia05"
         },
         {
          "cluster 1": 308,
          "cluster 2": 729,
          "cluster 3": 39.1502955361687,
          "cluster 4": 5,
          "country": "brazil",
          "region": "south_america",
          "strain": "Bahia07"
         },
         {
          "cluster 1": 210,
          "cluster 2": 733,
          "cluster 3": 39.44523324367149,
          "cluster 4": 3,
          "country": "brazil",
          "region": "south_america",
          "strain": "Bahia08"
         },
         {
          "cluster 1": 356,
          "cluster 2": 827,
          "cluster 3": 39.468964575931345,
          "cluster 4": 3,
          "country": "brazil",
          "region": "south_america",
          "strain": "Bahia09"
         },
         {
          "cluster 1": 279,
          "cluster 2": 742,
          "cluster 3": 40.10695068201637,
          "cluster 4": 3,
          "country": "brazil",
          "region": "south_america",
          "strain": "Bahia11"
         },
         {
          "cluster 1": 734,
          "cluster 2": 770,
          "cluster 3": 41.20386745282649,
          "cluster 4": 9,
          "country": "brazil",
          "region": "south_america",
          "strain": "Bahia12"
         },
         {
          "cluster 1": 312,
          "cluster 2": 371,
          "cluster 3": 41.28160379252272,
          "cluster 4": 2,
          "country": "brazil",
          "region": "south_america",
          "strain": "Bahia15"
         },
         {
          "cluster 1": 437,
          "cluster 2": 783,
          "cluster 3": 41.37193287205361,
          "cluster 4": 3,
          "country": "brazil",
          "region": "south_america",
          "strain": "BeH815744"
         },
         {
          "cluster 1": 676,
          "cluster 2": 696,
          "cluster 3": 41.413791237370496,
          "cluster 4": 5,
          "country": "brazil",
          "region": "south_america",
          "strain": "BeH818995"
         },
         {
          "cluster 1": 275,
          "cluster 2": 755,
          "cluster 3": 41.515505473478896,
          "cluster 4": 3,
          "country": "brazil",
          "region": "south_america",
          "strain": "BeH819015"
         },
         {
          "cluster 1": 610,
          "cluster 2": 683,
          "cluster 3": 41.74240141393835,
          "cluster 4": 4,
          "country": "brazil",
          "region": "south_america",
          "strain": "BeH819966"
         },
         {
          "cluster 1": 735,
          "cluster 2": 804,
          "cluster 3": 41.80464965240049,
          "cluster 4": 4,
          "country": "brazil",
          "region": "south_america",
          "strain": "BeH823339"
         },
         {
          "cluster 1": 636,
          "cluster 2": 741,
          "cluster 3": 42.25874816422173,
          "cluster 4": 5,
          "country": "brazil",
          "region": "south_america",
          "strain": "BeH828305"
         },
         {
          "cluster 1": 629,
          "cluster 2": 767,
          "cluster 3": 42.31210355384394,
          "cluster 4": 5,
          "country": "brazil",
          "region": "south_america",
          "strain": "Brazil/16321"
         },
         {
          "cluster 1": 712,
          "cluster 2": 719,
          "cluster 3": 42.858465890556296,
          "cluster 4": 4,
          "country": "brazil",
          "region": "south_america",
          "strain": "Brazil/2015/ZBRA105"
         },
         {
          "cluster 1": 612,
          "cluster 2": 737,
          "cluster 3": 43.03047918044041,
          "cluster 4": 6,
          "country": "brazil",
          "region": "south_america",
          "strain": "Brazil/2015/ZBRC301"
         },
         {
          "cluster 1": 620,
          "cluster 2": 699,
          "cluster 3": 43.75071348819895,
          "cluster 4": 6,
          "country": "brazil",
          "region": "south_america",
          "strain": "Brazil/2015/ZBRC302"
         },
         {
          "cluster 1": 221,
          "cluster 2": 794,
          "cluster 3": 43.78291631193281,
          "cluster 4": 5,
          "country": "brazil",
          "region": "south_america",
          "strain": "Brazil/2015/ZBRC303"
         },
         {
          "cluster 1": 653,
          "cluster 2": 706,
          "cluster 3": 44.072524210865424,
          "cluster 4": 8,
          "country": "brazil",
          "region": "south_america",
          "strain": "Brazil/2015/ZBRC313"
         },
         {
          "cluster 1": 485,
          "cluster 2": 682,
          "cluster 3": 44.1835980586433,
          "cluster 4": 3,
          "country": "brazil",
          "region": "south_america",
          "strain": "Brazil/2015/ZBRC321"
         },
         {
          "cluster 1": 328,
          "cluster 2": 341,
          "cluster 3": 44.212835576174015,
          "cluster 4": 2,
          "country": "brazil",
          "region": "south_america",
          "strain": "Brazil/2015/ZBRD103"
         },
         {
          "cluster 1": 527,
          "cluster 2": 811,
          "cluster 3": 44.47365101417256,
          "cluster 4": 8,
          "country": "brazil",
          "region": "south_america",
          "strain": "Brazil/2015/ZBRD107"
         },
         {
          "cluster 1": 715,
          "cluster 2": 753,
          "cluster 3": 44.6779802210078,
          "cluster 4": 4,
          "country": "brazil",
          "region": "south_america",
          "strain": "Brazil/2015/ZBRD116"
         },
         {
          "cluster 1": 759,
          "cluster 2": 784,
          "cluster 3": 44.68963169432481,
          "cluster 4": 9,
          "country": "brazil",
          "region": "south_america",
          "strain": "Brazil/2016/INMI1"
         },
         {
          "cluster 1": 501,
          "cluster 2": 502,
          "cluster 3": 44.95860313463031,
          "cluster 4": 2,
          "country": "brazil",
          "region": "south_america",
          "strain": "Brazil/2016/ZBRC14"
         },
         {
          "cluster 1": 659,
          "cluster 2": 663,
          "cluster 3": 44.98405243052304,
          "cluster 4": 6,
          "country": "brazil",
          "region": "south_america",
          "strain": "Brazil/2016/ZBRC16"
         },
         {
          "cluster 1": 624,
          "cluster 2": 779,
          "cluster 3": 47.6613643267236,
          "cluster 4": 11,
          "country": "brazil",
          "region": "south_america",
          "strain": "Brazil/2016/ZBRC18"
         },
         {
          "cluster 1": 90,
          "cluster 2": 724,
          "cluster 3": 47.743284028998474,
          "cluster 4": 7,
          "country": "brazil",
          "region": "south_america",
          "strain": "Brazil/2016/ZBRC25"
         },
         {
          "cluster 1": 710,
          "cluster 2": 716,
          "cluster 3": 47.750103159880695,
          "cluster 4": 5,
          "country": "brazil",
          "region": "south_america",
          "strain": "Brazil/2016/ZBRC28"
         },
         {
          "cluster 1": 429,
          "cluster 2": 821,
          "cluster 3": 47.82102529805189,
          "cluster 4": 6,
          "country": "brazil",
          "region": "south_america",
          "strain": "Brazil/2016/ZBRC319"
         },
         {
          "cluster 1": 633,
          "cluster 2": 788,
          "cluster 3": 48.477314245830904,
          "cluster 4": 7,
          "country": "brazil",
          "region": "south_america",
          "strain": "Brazil/2016/ZBRE69"
         },
         {
          "cluster 1": 464,
          "cluster 2": 725,
          "cluster 3": 48.793863493064656,
          "cluster 4": 3,
          "country": "brazil",
          "region": "south_america",
          "strain": "Brazil/2016/ZBRX1"
         },
         {
          "cluster 1": 593,
          "cluster 2": 642,
          "cluster 3": 48.89960691242386,
          "cluster 4": 4,
          "country": "brazil",
          "region": "south_america",
          "strain": "Brazil/2016/ZBRX100"
         },
         {
          "cluster 1": 462,
          "cluster 2": 791,
          "cluster 3": 49.45294030016095,
          "cluster 4": 3,
          "country": "brazil",
          "region": "south_america",
          "strain": "Brazil/2016/ZBRX102"
         },
         {
          "cluster 1": 600,
          "cluster 2": 749,
          "cluster 3": 49.723835916024804,
          "cluster 4": 6,
          "country": "brazil",
          "region": "south_america",
          "strain": "Brazil/2016/ZBRX103"
         },
         {
          "cluster 1": 771,
          "cluster 2": 775,
          "cluster 3": 50.22074006309225,
          "cluster 4": 6,
          "country": "brazil",
          "region": "south_america",
          "strain": "Brazil/2016/ZBRX106"
         },
         {
          "cluster 1": 713,
          "cluster 2": 829,
          "cluster 3": 50.365603901759734,
          "cluster 4": 8,
          "country": "brazil",
          "region": "south_america",
          "strain": "Brazil/2016/ZBRX11"
         },
         {
          "cluster 1": 597,
          "cluster 2": 803,
          "cluster 3": 50.64504466753552,
          "cluster 4": 5,
          "country": "brazil",
          "region": "south_america",
          "strain": "Brazil/2016/ZBRX12"
         },
         {
          "cluster 1": 417,
          "cluster 2": 761,
          "cluster 3": 50.822237971513935,
          "cluster 4": 3,
          "country": "brazil",
          "region": "south_america",
          "strain": "Brazil/2016/ZBRX127"
         },
         {
          "cluster 1": 182,
          "cluster 2": 769,
          "cluster 3": 51.02824411695646,
          "cluster 4": 3,
          "country": "brazil",
          "region": "south_america",
          "strain": "Brazil/2016/ZBRX128"
         },
         {
          "cluster 1": 693,
          "cluster 2": 754,
          "cluster 3": 51.24396822834795,
          "cluster 4": 7,
          "country": "brazil",
          "region": "south_america",
          "strain": "Brazil/2016/ZBRX13"
         },
         {
          "cluster 1": 727,
          "cluster 2": 772,
          "cluster 3": 51.47525023344747,
          "cluster 4": 6,
          "country": "brazil",
          "region": "south_america",
          "strain": "Brazil/2016/ZBRX130"
         },
         {
          "cluster 1": 489,
          "cluster 2": 490,
          "cluster 3": 52.63156995912566,
          "cluster 4": 2,
          "country": "brazil",
          "region": "south_america",
          "strain": "Brazil/2016/ZBRX137"
         },
         {
          "cluster 1": 634,
          "cluster 2": 757,
          "cluster 3": 53.21425430346076,
          "cluster 4": 5,
          "country": "brazil",
          "region": "south_america",
          "strain": "Brazil/2016/ZBRX14"
         },
         {
          "cluster 1": 780,
          "cluster 2": 797,
          "cluster 3": 53.25710662242802,
          "cluster 4": 8,
          "country": "brazil",
          "region": "south_america",
          "strain": "Brazil/2016/ZBRX15"
         },
         {
          "cluster 1": 621,
          "cluster 2": 675,
          "cluster 3": 53.35169800283576,
          "cluster 4": 5,
          "country": "brazil",
          "region": "south_america",
          "strain": "Brazil/2016/ZBRX16"
         },
         {
          "cluster 1": 400,
          "cluster 2": 425,
          "cluster 3": 53.396431442766406,
          "cluster 4": 2,
          "country": "brazil",
          "region": "south_america",
          "strain": "Brazil/2016/ZBRX2"
         },
         {
          "cluster 1": 702,
          "cluster 2": 786,
          "cluster 3": 53.647627804711384,
          "cluster 4": 7,
          "country": "brazil",
          "region": "south_america",
          "strain": "Brazil/2016/ZBRX4"
         },
         {
          "cluster 1": 442,
          "cluster 2": 828,
          "cluster 3": 54.05004420454392,
          "cluster 4": 5,
          "country": "brazil",
          "region": "south_america",
          "strain": "Brazil/2016/ZBRX6"
         },
         {
          "cluster 1": 736,
          "cluster 2": 764,
          "cluster 3": 54.05820948746022,
          "cluster 4": 9,
          "country": "brazil",
          "region": "south_america",
          "strain": "Brazil/2016/ZBRX7"
         },
         {
          "cluster 1": 447,
          "cluster 2": 670,
          "cluster 3": 54.41152639229901,
          "cluster 4": 3,
          "country": "brazil",
          "region": "south_america",
          "strain": "Brazil/2016/ZBRX8"
         },
         {
          "cluster 1": 773,
          "cluster 2": 776,
          "cluster 3": 54.60914538577355,
          "cluster 4": 5,
          "country": "brazil",
          "region": "south_america",
          "strain": "Brazil/2016/ZBRY1"
         },
         {
          "cluster 1": 646,
          "cluster 2": 756,
          "cluster 3": 54.86580511834855,
          "cluster 4": 6,
          "country": "brazil",
          "region": "south_america",
          "strain": "Brazil/2016/ZBRY10"
         },
         {
          "cluster 1": 244,
          "cluster 2": 832,
          "cluster 3": 56.18856445562685,
          "cluster 4": 4,
          "country": "brazil",
          "region": "south_america",
          "strain": "Brazil/2016/ZBRY11"
         },
         {
          "cluster 1": 721,
          "cluster 2": 787,
          "cluster 3": 56.41042169660341,
          "cluster 4": 7,
          "country": "brazil",
          "region": "south_america",
          "strain": "Brazil/2016/ZBRY12"
         },
         {
          "cluster 1": 723,
          "cluster 2": 845,
          "cluster 3": 56.8654096961251,
          "cluster 4": 7,
          "country": "brazil",
          "region": "south_america",
          "strain": "Brazil/2016/ZBRY14"
         },
         {
          "cluster 1": 604,
          "cluster 2": 807,
          "cluster 3": 57.101127461400246,
          "cluster 4": 5,
          "country": "brazil",
          "region": "south_america",
          "strain": "Brazil/2016/ZBRY4"
         },
         {
          "cluster 1": 808,
          "cluster 2": 820,
          "cluster 3": 57.463467357350204,
          "cluster 4": 7,
          "country": "brazil",
          "region": "south_america",
          "strain": "Brazil/2016/ZBRY6"
         },
         {
          "cluster 1": 664,
          "cluster 2": 830,
          "cluster 3": 59.85279849797643,
          "cluster 4": 6,
          "country": "brazil",
          "region": "south_america",
          "strain": "Brazil/2016/ZBRY7"
         },
         {
          "cluster 1": 765,
          "cluster 2": 823,
          "cluster 3": 60.68217820423782,
          "cluster 4": 5,
          "country": "brazil",
          "region": "south_america",
          "strain": "Brazil/2016/ZBRY8"
         },
         {
          "cluster 1": 395,
          "cluster 2": 802,
          "cluster 3": 61.49041885709659,
          "cluster 4": 5,
          "country": "brazil",
          "region": "south_america",
          "strain": "Brazil/PE243/2015"
         },
         {
          "cluster 1": 647,
          "cluster 2": 824,
          "cluster 3": 63.07231528953026,
          "cluster 4": 6,
          "country": "brazil",
          "region": "south_america",
          "strain": "Brazil_2015_MG"
         },
         {
          "cluster 1": 774,
          "cluster 2": 815,
          "cluster 3": 63.26551388855784,
          "cluster 4": 8,
          "country": "brazil",
          "region": "south_america",
          "strain": "Brazil_ZKV2015"
         },
         {
          "cluster 1": 763,
          "cluster 2": 866,
          "cluster 3": 63.96567566898422,
          "cluster 4": 7,
          "country": "brazil",
          "region": "south_america",
          "strain": "CX17"
         },
         {
          "cluster 1": 869,
          "cluster 2": 882,
          "cluster 3": 64.15727733862784,
          "cluster 4": 13,
          "country": "brazil",
          "region": "south_america",
          "strain": "CX5"
         },
         {
          "cluster 1": 703,
          "cluster 2": 862,
          "cluster 3": 64.86329220570383,
          "cluster 4": 12,
          "country": "brazil",
          "region": "south_america",
          "strain": "GB_BR"
         },
         {
          "cluster 1": 601,
          "cluster 2": 846,
          "cluster 3": 65.24394451951159,
          "cluster 4": 12,
          "country": "brazil",
          "region": "south_america",
          "strain": "HS_2015_BA_01"
         },
         {
          "cluster 1": 768,
          "cluster 2": 848,
          "cluster 3": 66.65288445434835,
          "cluster 4": 5,
          "country": "brazil",
          "region": "south_america",
          "strain": "Natal_RGN"
         },
         {
          "cluster 1": 618,
          "cluster 2": 851,
          "cluster 3": 67.54330812111992,
          "cluster 4": 11,
          "country": "brazil",
          "region": "south_america",
          "strain": "PE243"
         },
         {
          "cluster 1": 481,
          "cluster 2": 483,
          "cluster 3": 67.70893690809355,
          "cluster 4": 2,
          "country": "brazil",
          "region": "south_america",
          "strain": "Paraiba_01"
         },
         {
          "cluster 1": 708,
          "cluster 2": 793,
          "cluster 3": 68.33732366861769,
          "cluster 4": 13,
          "country": "brazil",
          "region": "south_america",
          "strain": "RIO_BM1"
         },
         {
          "cluster 1": 434,
          "cluster 2": 798,
          "cluster 3": 70.24381770411736,
          "cluster 4": 3,
          "country": "brazil",
          "region": "south_america",
          "strain": "Rio_S1"
         },
         {
          "cluster 1": 834,
          "cluster 2": 879,
          "cluster 3": 70.28119596581321,
          "cluster 4": 7,
          "country": "brazil",
          "region": "south_america",
          "strain": "Rio_U1"
         },
         {
          "cluster 1": 781,
          "cluster 2": 836,
          "cluster 3": 71.68609366990076,
          "cluster 4": 11,
          "country": "brazil",
          "region": "south_america",
          "strain": "SPH2015"
         },
         {
          "cluster 1": 795,
          "cluster 2": 796,
          "cluster 3": 71.92470114861158,
          "cluster 4": 6,
          "country": "brazil",
          "region": "south_america",
          "strain": "SSABR1"
         },
         {
          "cluster 1": 435,
          "cluster 2": 455,
          "cluster 3": 72.34050066748661,
          "cluster 4": 2,
          "country": "brazil",
          "region": "south_america",
          "strain": "V15098"
         },
         {
          "cluster 1": 752,
          "cluster 2": 789,
          "cluster 3": 73.39583675302116,
          "cluster 4": 6,
          "country": "brazil",
          "region": "south_america",
          "strain": "V15261"
         },
         {
          "cluster 1": 694,
          "cluster 2": 831,
          "cluster 3": 73.50365680996839,
          "cluster 4": 5,
          "country": "brazil",
          "region": "south_america",
          "strain": "V16288"
         },
         {
          "cluster 1": 728,
          "cluster 2": 844,
          "cluster 3": 74.12829362954793,
          "cluster 4": 9,
          "country": "brazil",
          "region": "south_america",
          "strain": "V17829"
         },
         {
          "cluster 1": 688,
          "cluster 2": 891,
          "cluster 3": 75.50166925565131,
          "cluster 4": 9,
          "country": "brazil",
          "region": "south_america",
          "strain": "V9"
         },
         {
          "cluster 1": 484,
          "cluster 2": 847,
          "cluster 3": 75.75204613876983,
          "cluster 4": 4,
          "country": "brazil",
          "region": "south_america",
          "strain": "VIE/Bra/2016"
         },
         {
          "cluster 1": 782,
          "cluster 2": 838,
          "cluster 3": 76.01840854825451,
          "cluster 4": 6,
          "country": "brazil",
          "region": "south_america",
          "strain": "ZBRC13"
         },
         {
          "cluster 1": 745,
          "cluster 2": 800,
          "cluster 3": 76.21724728369584,
          "cluster 4": 6,
          "country": "brazil",
          "region": "south_america",
          "strain": "ZBRC15"
         },
         {
          "cluster 1": 813,
          "cluster 2": 868,
          "cluster 3": 77.55959566395745,
          "cluster 4": 13,
          "country": "american_samoa",
          "region": "oceania",
          "strain": "CN/SZ02/2016"
         },
         {
          "cluster 1": 373,
          "cluster 2": 889,
          "cluster 3": 78.12859936663982,
          "cluster 4": 7,
          "country": "american_samoa",
          "region": "oceania",
          "strain": "SMGC_1"
         },
         {
          "cluster 1": 746,
          "cluster 2": 856,
          "cluster 3": 78.27719285406124,
          "cluster 4": 9,
          "country": "american_samoa",
          "region": "oceania",
          "strain": "SZ01/2016/China"
         },
         {
          "cluster 1": 835,
          "cluster 2": 880,
          "cluster 3": 78.37112126866967,
          "cluster 4": 9,
          "country": "american_samoa",
          "region": "oceania",
          "strain": "SZ_WIV01"
         },
         {
          "cluster 1": 701,
          "cluster 2": 843,
          "cluster 3": 78.39825664697946,
          "cluster 4": 9,
          "country": "american_samoa",
          "region": "oceania",
          "strain": "Z16006"
         },
         {
          "cluster 1": 374,
          "cluster 2": 778,
          "cluster 3": 79.48349700512517,
          "cluster 4": 3,
          "country": "american_samoa",
          "region": "oceania",
          "strain": "ZJ02"
         },
         {
          "cluster 1": 810,
          "cluster 2": 855,
          "cluster 3": 79.7839297639715,
          "cluster 4": 13,
          "country": "american_samoa",
          "region": "oceania",
          "strain": "ZJ03"
         },
         {
          "cluster 1": 859,
          "cluster 2": 860,
          "cluster 3": 80.06987523577612,
          "cluster 4": 7,
          "country": "american_samoa",
          "region": "oceania",
          "strain": "ZKC2/2016"
         },
         {
          "cluster 1": 498,
          "cluster 2": 500,
          "cluster 3": 80.62638622778329,
          "cluster 4": 2,
          "country": "american_samoa",
          "region": "oceania",
          "strain": "Zhejiang04"
         },
         {
          "cluster 1": 743,
          "cluster 2": 884,
          "cluster 3": 81.01374999969181,
          "cluster 4": 8,
          "country": "fiji",
          "region": "oceania",
          "strain": "Chiba/S36/2016"
         },
         {
          "cluster 1": 861,
          "cluster 2": 871,
          "cluster 3": 82.23662516979222,
          "cluster 4": 8,
          "country": "cuba",
          "region": "north_america",
          "strain": "Cuba/2017/FL046Se"
         },
         {
          "cluster 1": 662,
          "cluster 2": 895,
          "cluster 3": 82.2757824072969,
          "cluster 4": 7,
          "country": "cuba",
          "region": "north_america",
          "strain": "Cuba/2017/FL047U"
         },
         {
          "cluster 1": 777,
          "cluster 2": 850,
          "cluster 3": 82.40683654983967,
          "cluster 4": 6,
          "country": "cuba",
          "region": "north_america",
          "strain": "Cuba/2017/FL049U"
         },
         {
          "cluster 1": 482,
          "cluster 2": 842,
          "cluster 3": 82.52449505751576,
          "cluster 4": 5,
          "country": "cuba",
          "region": "north_america",
          "strain": "Cuba/2017/FL051Se"
         },
         {
          "cluster 1": 839,
          "cluster 2": 857,
          "cluster 3": 86.93164554235545,
          "cluster 4": 10,
          "country": "cuba",
          "region": "north_america",
          "strain": "Cuba/2017/FL052U"
         },
         {
          "cluster 1": 818,
          "cluster 2": 864,
          "cluster 3": 87.37286853988336,
          "cluster 4": 14,
          "country": "cuba",
          "region": "north_america",
          "strain": "Cuba/2017/FL055Se"
         },
         {
          "cluster 1": 750,
          "cluster 2": 790,
          "cluster 3": 93.60226596700365,
          "cluster 4": 4,
          "country": "cuba",
          "region": "north_america",
          "strain": "Cuba/2017/FL057U"
         },
         {
          "cluster 1": 812,
          "cluster 2": 816,
          "cluster 3": 94.91452084987787,
          "cluster 4": 8,
          "country": "cuba",
          "region": "north_america",
          "strain": "Cuba/2017/Hu0046Sa"
         },
         {
          "cluster 1": 841,
          "cluster 2": 877,
          "cluster 3": 96.1643648562063,
          "cluster 4": 14,
          "country": "cuba",
          "region": "north_america",
          "strain": "Cuba/2017_10_09/FL82U"
         },
         {
          "cluster 1": 826,
          "cluster 2": 920,
          "cluster 3": 98.89485775709745,
          "cluster 4": 11,
          "country": "cuba",
          "region": "north_america",
          "strain": "Cuba/2018_01_18/FL257U"
         },
         {
          "cluster 1": 809,
          "cluster 2": 900,
          "cluster 3": 99.18179356739377,
          "cluster 4": 10,
          "country": "cuba",
          "region": "north_america",
          "strain": "Cuba_2017"
         },
         {
          "cluster 1": 640,
          "cluster 2": 867,
          "cluster 3": 99.4007112121982,
          "cluster 4": 5,
          "country": "cuba",
          "region": "north_america",
          "strain": "SG_EHI_/33164Y17"
         },
         {
          "cluster 1": 491,
          "cluster 2": 870,
          "cluster 3": 105.74135241176786,
          "cluster 4": 3,
          "country": "dominican_republic",
          "region": "north_america",
          "strain": "DOM/2016/BB_0059"
         },
         {
          "cluster 1": 268,
          "cluster 2": 837,
          "cluster 3": 105.86674864107043,
          "cluster 4": 4,
          "country": "dominican_republic",
          "region": "north_america",
          "strain": "DOM/2016/BB_0071"
         },
         {
          "cluster 1": 801,
          "cluster 2": 893,
          "cluster 3": 108.31393187733728,
          "cluster 4": 17,
          "country": "dominican_republic",
          "region": "north_america",
          "strain": "DOM/2016/BB_0076"
         },
         {
          "cluster 1": 886,
          "cluster 2": 902,
          "cluster 3": 110.0821147434872,
          "cluster 4": 12,
          "country": "dominican_republic",
          "region": "north_america",
          "strain": "DOM/2016/BB_0085"
         },
         {
          "cluster 1": 873,
          "cluster 2": 907,
          "cluster 3": 111.26845395850962,
          "cluster 4": 14,
          "country": "dominican_republic",
          "region": "north_america",
          "strain": "DOM/2016/BB_0091"
         },
         {
          "cluster 1": 819,
          "cluster 2": 906,
          "cluster 3": 111.50406937228298,
          "cluster 4": 15,
          "country": "dominican_republic",
          "region": "north_america",
          "strain": "DOM/2016/BB_0115"
         },
         {
          "cluster 1": 806,
          "cluster 2": 905,
          "cluster 3": 112.25179119512326,
          "cluster 4": 7,
          "country": "dominican_republic",
          "region": "north_america",
          "strain": "DOM/2016/BB_0127"
         },
         {
          "cluster 1": 853,
          "cluster 2": 901,
          "cluster 3": 114.344067527001,
          "cluster 4": 17,
          "country": "dominican_republic",
          "region": "north_america",
          "strain": "DOM/2016/BB_0180"
         },
         {
          "cluster 1": 887,
          "cluster 2": 918,
          "cluster 3": 119.90561395930699,
          "cluster 4": 12,
          "country": "dominican_republic",
          "region": "north_america",
          "strain": "DOM/2016/BB_0183"
         },
         {
          "cluster 1": 881,
          "cluster 2": 927,
          "cluster 3": 123.85294768506253,
          "cluster 4": 8,
          "country": "dominican_republic",
          "region": "north_america",
          "strain": "DOM/2016/BB_0208"
         },
         {
          "cluster 1": 840,
          "cluster 2": 915,
          "cluster 3": 126.2185638564737,
          "cluster 4": 14,
          "country": "dominican_republic",
          "region": "north_america",
          "strain": "DOM/2016/BB_0216"
         },
         {
          "cluster 1": 657,
          "cluster 2": 913,
          "cluster 3": 127.58903615748848,
          "cluster 4": 12,
          "country": "dominican_republic",
          "region": "north_america",
          "strain": "DOM/2016/BB_0269"
         },
         {
          "cluster 1": 335,
          "cluster 2": 896,
          "cluster 3": 127.64887845117325,
          "cluster 4": 12,
          "country": "dominican_republic",
          "region": "north_america",
          "strain": "DOM/2016/BB_0428"
         },
         {
          "cluster 1": 672,
          "cluster 2": 874,
          "cluster 3": 127.86444331077617,
          "cluster 4": 4,
          "country": "dominican_republic",
          "region": "north_america",
          "strain": "DOM/2016/BB_0433"
         },
         {
          "cluster 1": 872,
          "cluster 2": 892,
          "cluster 3": 128.03452848386263,
          "cluster 4": 21,
          "country": "dominican_republic",
          "region": "north_america",
          "strain": "DOM/2016/BB_0436"
         },
         {
          "cluster 1": 878,
          "cluster 2": 903,
          "cluster 3": 128.0923826924509,
          "cluster 4": 5,
          "country": "dominican_republic",
          "region": "north_america",
          "strain": "DOM/2016/MA_WGS16_007"
         },
         {
          "cluster 1": 833,
          "cluster 2": 854,
          "cluster 3": 131.4184106241612,
          "cluster 4": 20,
          "country": "dominican_republic",
          "region": "north_america",
          "strain": "DOM/2016/MA_WGS16_009"
         },
         {
          "cluster 1": 849,
          "cluster 2": 865,
          "cluster 3": 133.77950418176857,
          "cluster 4": 13,
          "country": "dominican_republic",
          "region": "north_america",
          "strain": "DOM/2016/MA_WGS16_011"
         },
         {
          "cluster 1": 899,
          "cluster 2": 928,
          "cluster 3": 135.61096798386095,
          "cluster 4": 11,
          "country": "dominican_republic",
          "region": "north_america",
          "strain": "DOM/2016/MA_WGS16_013"
         },
         {
          "cluster 1": 876,
          "cluster 2": 925,
          "cluster 3": 136.25511745013202,
          "cluster 4": 15,
          "country": "dominican_republic",
          "region": "north_america",
          "strain": "DOM/2016/MA_WGS16_014"
         },
         {
          "cluster 1": 799,
          "cluster 2": 904,
          "cluster 3": 141.66255028942064,
          "cluster 4": 10,
          "country": "dominican_republic",
          "region": "north_america",
          "strain": "DOM/2016/MA_WGS16_020"
         },
         {
          "cluster 1": 814,
          "cluster 2": 916,
          "cluster 3": 141.8156429223159,
          "cluster 4": 5,
          "country": "dominican_republic",
          "region": "north_america",
          "strain": "DOM/2016/MA_WGS16_024"
         },
         {
          "cluster 1": 792,
          "cluster 2": 885,
          "cluster 3": 142.3505669861289,
          "cluster 4": 13,
          "country": "dominican_republic",
          "region": "north_america",
          "strain": "DOM/2016/MA_WGS16_031"
         },
         {
          "cluster 1": 592,
          "cluster 2": 911,
          "cluster 3": 142.61861697806404,
          "cluster 4": 19,
          "country": "dominican_republic",
          "region": "north_america",
          "strain": "DOM/2016/MA_WGS16_036"
         },
         {
          "cluster 1": 875,
          "cluster 2": 917,
          "cluster 3": 144.1272010930044,
          "cluster 4": 20,
          "country": "dominican_republic",
          "region": "north_america",
          "strain": "DOM/2016/MA_WGS16_040"
         },
         {
          "cluster 1": 817,
          "cluster 2": 922,
          "cluster 3": 145.5153105746894,
          "cluster 4": 9,
          "country": "dominican_republic",
          "region": "north_america",
          "strain": "Dominican_Rep_Rus_3ALT_2016"
         },
         {
          "cluster 1": 858,
          "cluster 2": 890,
          "cluster 3": 154.61058039773377,
          "cluster 4": 15,
          "country": "dominican_republic",
          "region": "north_america",
          "strain": "Dominican_Rep_Rus_4MRG_2016"
         },
         {
          "cluster 1": 805,
          "cluster 2": 952,
          "cluster 3": 155.00680056292646,
          "cluster 4": 19,
          "country": "dominican_republic",
          "region": "north_america",
          "strain": "Dominican_Rep_Rus_5RMN_2016"
         },
         {
          "cluster 1": 938,
          "cluster 2": 945,
          "cluster 3": 161.1858323904564,
          "cluster 4": 27,
          "country": "dominican_republic",
          "region": "north_america",
          "strain": "Dominican_Rep_Rus_7EGR_2016"
         },
         {
          "cluster 1": 503,
          "cluster 2": 852,
          "cluster 3": 168.37805575013272,
          "cluster 4": 3,
          "country": "dominican_republic",
          "region": "north_america",
          "strain": "Dominican_Rep_Rus_8ZBR_2016"
         },
         {
          "cluster 1": 888,
          "cluster 2": 936,
          "cluster 3": 173.56837243472842,
          "cluster 4": 17,
          "country": "dominican_republic",
          "region": "north_america",
          "strain": "Dominican_Republic/2016/PD1"
         },
         {
          "cluster 1": 923,
          "cluster 2": 931,
          "cluster 3": 176.33791040211972,
          "cluster 4": 16,
          "country": "dominican_republic",
          "region": "north_america",
          "strain": "Dominican_Republic/2016/ZB"
         },
         {
          "cluster 1": 883,
          "cluster 2": 950,
          "cluster 3": 179.77730227557868,
          "cluster 4": 20,
          "country": "dominican_republic",
          "region": "north_america",
          "strain": "R114916"
         },
         {
          "cluster 1": 914,
          "cluster 2": 947,
          "cluster 3": 181.12013967905563,
          "cluster 4": 30,
          "country": "ecuador",
          "region": "south_america",
          "strain": "EC/Esmeraldas/121/2016"
         },
         {
          "cluster 1": 863,
          "cluster 2": 912,
          "cluster 3": 183.0264817234538,
          "cluster 4": 13,
          "country": "ecuador",
          "region": "south_america",
          "strain": "EcEs062_16"
         },
         {
          "cluster 1": 508,
          "cluster 2": 509,
          "cluster 3": 184.05706953579065,
          "cluster 4": 2,
          "country": "ecuador",
          "region": "south_america",
          "strain": "EcEs089_16"
         },
         {
          "cluster 1": 822,
          "cluster 2": 926,
          "cluster 3": 189.85156928993305,
          "cluster 4": 19,
          "country": "guatemala",
          "region": "north_america",
          "strain": "FB_GWUH_2016"
         },
         {
          "cluster 1": 910,
          "cluster 2": 934,
          "cluster 3": 192.54535862550892,
          "cluster 4": 10,
          "country": "guatemala",
          "region": "north_america",
          "strain": "GTM/2016/Guatemala_2411"
         },
         {
          "cluster 1": 488,
          "cluster 2": 897,
          "cluster 3": 206.10693386911115,
          "cluster 4": 3,
          "country": "guatemala",
          "region": "north_america",
          "strain": "GTM/2016/Guatemala_3294"
         },
         {
          "cluster 1": 955,
          "cluster 2": 957,
          "cluster 3": 213.93081350956777,
          "cluster 4": 33,
          "country": "guatemala",
          "region": "north_america",
          "strain": "GTM/2016/Guatemala_3921"
         },
         {
          "cluster 1": 909,
          "cluster 2": 951,
          "cluster 3": 220.014540882249,
          "cluster 4": 17,
          "country": "guatemala",
          "region": "north_america",
          "strain": "Henan/001/2016"
         },
         {
          "cluster 1": 929,
          "cluster 2": 943,
          "cluster 3": 222.98434995656146,
          "cluster 4": 28,
          "country": "guatemala",
          "region": "north_america",
          "strain": "V103344"
         },
         {
          "cluster 1": 908,
          "cluster 2": 933,
          "cluster 3": 228.0644150803069,
          "cluster 4": 7,
          "country": "guatemala",
          "region": "north_america",
          "strain": "V8375"
         },
         {
          "cluster 1": 953,
          "cluster 2": 958,
          "cluster 3": 235.95122001587742,
          "cluster 4": 19,
          "country": "peru",
          "region": "south_america",
          "strain": "FPI15198/PERU/Loreto/2016"
         },
         {
          "cluster 1": 469,
          "cluster 2": 948,
          "cluster 3": 240.70432409268582,
          "cluster 4": 6,
          "country": "peru",
          "region": "south_america",
          "strain": "FPI15263/PERU/Loreto/2016"
         },
         {
          "cluster 1": 825,
          "cluster 2": 974,
          "cluster 3": 241.2821778543463,
          "cluster 4": 32,
          "country": "venezuela",
          "region": "south_america",
          "strain": "FVM00318/VEN/Maracay/2016"
         },
         {
          "cluster 1": 898,
          "cluster 2": 935,
          "cluster 3": 242.29974757290015,
          "cluster 4": 30,
          "country": "venezuela",
          "region": "south_america",
          "strain": "GD01"
         },
         {
          "cluster 1": 932,
          "cluster 2": 963,
          "cluster 3": 244.49411395066446,
          "cluster 4": 22,
          "country": "venezuela",
          "region": "south_america",
          "strain": "GDZ16001"
         },
         {
          "cluster 1": 942,
          "cluster 2": 970,
          "cluster 3": 262.97292717663197,
          "cluster 4": 18,
          "country": "venezuela",
          "region": "south_america",
          "strain": "GZ01"
         },
         {
          "cluster 1": 939,
          "cluster 2": 954,
          "cluster 3": 264.0114663465503,
          "cluster 4": 12,
          "country": "venezuela",
          "region": "south_america",
          "strain": "GZ02/2016"
         },
         {
          "cluster 1": 930,
          "cluster 2": 937,
          "cluster 3": 264.92014377285653,
          "cluster 4": 25,
          "country": "venezuela",
          "region": "south_america",
          "strain": "VEN/UF_1/2016"
         },
         {
          "cluster 1": 894,
          "cluster 2": 949,
          "cluster 3": 278.1845290192119,
          "cluster 4": 32,
          "country": "venezuela",
          "region": "south_america",
          "strain": "VEN/UF_2/2016"
         },
         {
          "cluster 1": 921,
          "cluster 2": 941,
          "cluster 3": 282.5222075008687,
          "cluster 4": 20,
          "country": "venezuela",
          "region": "south_america",
          "strain": "VE_Ganxian"
         },
         {
          "cluster 1": 959,
          "cluster 2": 964,
          "cluster 3": 296.9189542129588,
          "cluster 4": 31,
          "country": "venezuela",
          "region": "south_america",
          "strain": "Z16019"
         },
         {
          "cluster 1": 494,
          "cluster 2": 499,
          "cluster 3": 309.3446801401391,
          "cluster 4": 2,
          "country": "china",
          "region": "china",
          "strain": "GDZ16021"
         },
         {
          "cluster 1": 762,
          "cluster 2": 919,
          "cluster 3": 320.8707109234127,
          "cluster 4": 4,
          "country": "china",
          "region": "china",
          "strain": "GZDJ1666_2"
         },
         {
          "cluster 1": 497,
          "cluster 2": 739,
          "cluster 3": 326.2571051523564,
          "cluster 4": 3,
          "country": "china",
          "region": "china",
          "strain": "GZDJ1685"
         },
         {
          "cluster 1": 946,
          "cluster 2": 979,
          "cluster 3": 341.98147388215267,
          "cluster 4": 34,
          "country": "china",
          "region": "china",
          "strain": "SY01_2016"
         },
         {
          "cluster 1": 940,
          "cluster 2": 969,
          "cluster 3": 344.06542777549015,
          "cluster 4": 36,
          "country": "china",
          "region": "china",
          "strain": "ZG_01"
         },
         {
          "cluster 1": 977,
          "cluster 2": 982,
          "cluster 3": 363.5547444053265,
          "cluster 4": 18,
          "country": "china",
          "region": "china",
          "strain": "ZJ01"
         },
         {
          "cluster 1": 924,
          "cluster 2": 985,
          "cluster 3": 407.2002263924128,
          "cluster 4": 25,
          "country": "china",
          "region": "china",
          "strain": "ZJ04"
         },
         {
          "cluster 1": 973,
          "cluster 2": 983,
          "cluster 3": 414.4284492185389,
          "cluster 4": 42,
          "country": "china",
          "region": "china",
          "strain": "ZKC2P4"
         },
         {
          "cluster 1": 960,
          "cluster 2": 966,
          "cluster 3": 431.79840872825656,
          "cluster 4": 49,
          "country": "china",
          "region": "china",
          "strain": "ZKC2P6"
         },
         {
          "cluster 1": 967,
          "cluster 2": 980,
          "cluster 3": 465.5160870210742,
          "cluster 4": 35,
          "country": "china",
          "region": "china",
          "strain": "ZK_YN001"
         },
         {
          "cluster 1": 944,
          "cluster 2": 986,
          "cluster 3": 484.7155457830803,
          "cluster 4": 43,
          "country": "china",
          "region": "china",
          "strain": "ZZ_1"
         },
         {
          "cluster 1": 505,
          "cluster 2": 506,
          "cluster 3": 492.7692398729704,
          "cluster 4": 2,
          "country": "china",
          "region": "china",
          "strain": "_CCMU01/2016"
         },
         {
          "cluster 1": 965,
          "cluster 2": 976,
          "cluster 3": 521.3972759331934,
          "cluster 4": 39,
          "country": "haiti",
          "region": "north_america",
          "strain": "HTI/2016/MA_WGS16_022"
         },
         {
          "cluster 1": 956,
          "cluster 2": 972,
          "cluster 3": 536.2947656144447,
          "cluster 4": 52,
          "country": "haiti",
          "region": "north_america",
          "strain": "Haiti/0029/2014"
         },
         {
          "cluster 1": 507,
          "cluster 2": 968,
          "cluster 3": 628.1330983257948,
          "cluster 4": 3,
          "country": "haiti",
          "region": "north_america",
          "strain": "Haiti/0033/2014"
         },
         {
          "cluster 1": 961,
          "cluster 2": 984,
          "cluster 3": 644.4884727514651,
          "cluster 4": 59,
          "country": "haiti",
          "region": "north_america",
          "strain": "Haiti/0036/2014"
         },
         {
          "cluster 1": 504,
          "cluster 2": 962,
          "cluster 3": 656.4569682951518,
          "cluster 4": 4,
          "country": "haiti",
          "region": "north_america",
          "strain": "Haiti/0054/2014"
         },
         {
          "cluster 1": 981,
          "cluster 2": 999,
          "cluster 3": 717.0768947513341,
          "cluster 4": 57,
          "country": "haiti",
          "region": "north_america",
          "strain": "Haiti/0074/2014"
         },
         {
          "cluster 1": 971,
          "cluster 2": 989,
          "cluster 3": 769.7268449174497,
          "cluster 4": 6,
          "country": "haiti",
          "region": "north_america",
          "strain": "Haiti/0097/2014"
         },
         {
          "cluster 1": 992,
          "cluster 2": 996,
          "cluster 3": 840.5942179374308,
          "cluster 4": 53,
          "country": "haiti",
          "region": "north_america",
          "strain": "Haiti/1/2016"
         },
         {
          "cluster 1": 988,
          "cluster 2": 1003,
          "cluster 3": 879.3218815154378,
          "cluster 4": 8,
          "country": "haiti",
          "region": "north_america",
          "strain": "Haiti/1225/2014"
         },
         {
          "cluster 1": 994,
          "cluster 2": 995,
          "cluster 3": 1008.9896865352663,
          "cluster 4": 91,
          "country": "haiti",
          "region": "north_america",
          "strain": "Haiti/2016/PD"
         },
         {
          "cluster 1": 991,
          "cluster 2": 1000,
          "cluster 3": 1016.6105279211314,
          "cluster 4": 88,
          "country": "haiti",
          "region": "north_america",
          "strain": "mosquito/Haiti/1682/2016"
         },
         {
          "cluster 1": 987,
          "cluster 2": 1005,
          "cluster 3": 1042.5760766679089,
          "cluster 4": 8,
          "country": "haiti",
          "region": "north_america",
          "strain": "mosquito/Haiti/1855/2016"
         },
         {
          "cluster 1": 978,
          "cluster 2": 1004,
          "cluster 3": 1127.4543260603045,
          "cluster 4": 89,
          "country": "haiti",
          "region": "north_america",
          "strain": "mosquito/Haiti/1919/2016"
         },
         {
          "cluster 1": 975,
          "cluster 2": 993,
          "cluster 3": 1181.591221857974,
          "cluster 4": 32,
          "country": "jamaica",
          "region": "north_america",
          "strain": "JAM/2016/MA_WGS16_025"
         },
         {
          "cluster 1": 990,
          "cluster 2": 1002,
          "cluster 3": 1276.3598127344944,
          "cluster 4": 93,
          "country": "jamaica",
          "region": "north_america",
          "strain": "JAM/2016/MA_WGS16_038"
         },
         {
          "cluster 1": 997,
          "cluster 2": 1006,
          "cluster 3": 1357.0507724854672,
          "cluster 4": 96,
          "country": "jamaica",
          "region": "north_america",
          "strain": "JAM/2016/MA_WGS16_039"
         },
         {
          "cluster 1": 1007,
          "cluster 2": 1010,
          "cluster 3": 1999.99148967347,
          "cluster 4": 16,
          "country": "jamaica",
          "region": "north_america",
          "strain": "JAM/2016/MA_WGS16_041"
         },
         {
          "cluster 1": 511,
          "cluster 2": 512,
          "cluster 3": 2192.979662086619,
          "cluster 4": 2,
          "country": "jamaica",
          "region": "north_america",
          "strain": "JAM/2016/WI_JM6"
         },
         {
          "cluster 1": 998,
          "cluster 2": 1001,
          "cluster 3": 2305.6391330493234,
          "cluster 4": 5,
          "country": "martinique",
          "region": "north_america",
          "strain": "MRS_OPY_Martinique_PaRi_2015"
         },
         {
          "cluster 1": 1008,
          "cluster 2": 1012,
          "cluster 3": 2438.4762198751405,
          "cluster 4": 123,
          "country": "martinique",
          "region": "north_america",
          "strain": "Martinique/2016/FL001"
         },
         {
          "cluster 1": 1011,
          "cluster 2": 1013,
          "cluster 3": 2823.1342980454924,
          "cluster 4": 182,
          "country": "martinique",
          "region": "north_america",
          "strain": "Martinique/2016/FL001Sa"
         },
         {
          "cluster 1": 510,
          "cluster 2": 1017,
          "cluster 3": 3480.6583883979965,
          "cluster 4": 6,
          "country": "nicaragua",
          "region": "north_america",
          "strain": "NIC/1304_13A1/2016"
         },
         {
          "cluster 1": 1014,
          "cluster 2": 1019,
          "cluster 3": 3624.6457138432625,
          "cluster 4": 278,
          "country": "nicaragua",
          "region": "north_america",
          "strain": "NIC/1659_13A1/2016"
         },
         {
          "cluster 1": 1015,
          "cluster 2": 1018,
          "cluster 3": 5149.988814547659,
          "cluster 4": 139,
          "country": "nicaragua",
          "region": "north_america",
          "strain": "NIC/2016/Nicaragua_3358"
         },
         {
          "cluster 1": 1009,
          "cluster 2": 1021,
          "cluster 3": 5550.632429844119,
          "cluster 4": 366,
          "country": "nicaragua",
          "region": "north_america",
          "strain": "NIC/2016/Nicaragua_3912"
         },
         {
          "cluster 1": 1016,
          "cluster 2": 1020,
          "cluster 3": 9481.312508181927,
          "cluster 4": 8,
          "country": "nicaragua",
          "region": "north_america",
          "strain": "NIC/4886_12A1/2016"
         },
         {
          "cluster 1": 1022,
          "cluster 2": 1023,
          "cluster 3": 10252.738531634388,
          "cluster 4": 505,
          "country": "nicaragua",
          "region": "north_america",
          "strain": "NIC/5005_13A1/2016"
         },
         {
          "cluster 1": 513,
          "cluster 2": 514,
          "cluster 3": 19672.374001318563,
          "cluster 4": 2,
          "country": "nicaragua",
          "region": "north_america",
          "strain": "NIC/5256_13A1/2016"
         },
         {
          "cluster 1": 1024,
          "cluster 2": 1025,
          "cluster 3": 22717.31659340282,
          "cluster 4": 513,
          "country": "nicaragua",
          "region": "north_america",
          "strain": "NIC/5338_13A1/2016"
         },
         {
          "cluster 1": 1026,
          "cluster 2": 1027,
          "cluster 3": 75697.60821833588,
          "cluster 4": 515,
          "country": "nicaragua",
          "region": "north_america",
          "strain": "NIC/5847_12B1/2016"
         },
         {
          "cluster 1": null,
          "cluster 2": null,
          "cluster 3": null,
          "cluster 4": null,
          "country": "nicaragua",
          "region": "north_america",
          "strain": "NIC/6188_13A1/2016"
         },
         {
          "cluster 1": null,
          "cluster 2": null,
          "cluster 3": null,
          "cluster 4": null,
          "country": "nicaragua",
          "region": "north_america",
          "strain": "NIC/6406_13A1/2016"
         },
         {
          "cluster 1": null,
          "cluster 2": null,
          "cluster 3": null,
          "cluster 4": null,
          "country": "nicaragua",
          "region": "north_america",
          "strain": "NIC/6547_13A1/2016"
         },
         {
          "cluster 1": null,
          "cluster 2": null,
          "cluster 3": null,
          "cluster 4": null,
          "country": "nicaragua",
          "region": "north_america",
          "strain": "NIC/7252_12A1/2016"
         },
         {
          "cluster 1": null,
          "cluster 2": null,
          "cluster 3": null,
          "cluster 4": null,
          "country": "nicaragua",
          "region": "north_america",
          "strain": "NIC/7253_13A1/2016"
         },
         {
          "cluster 1": null,
          "cluster 2": null,
          "cluster 3": null,
          "cluster 4": null,
          "country": "nicaragua",
          "region": "north_america",
          "strain": "NIC/8610_13A1/2016"
         },
         {
          "cluster 1": null,
          "cluster 2": null,
          "cluster 3": null,
          "cluster 4": null,
          "country": "nicaragua",
          "region": "north_america",
          "strain": "Nica1_16"
         },
         {
          "cluster 1": null,
          "cluster 2": null,
          "cluster 3": null,
          "cluster 4": null,
          "country": "nicaragua",
          "region": "north_america",
          "strain": "Nica2_16"
         },
         {
          "cluster 1": null,
          "cluster 2": null,
          "cluster 3": null,
          "cluster 4": null,
          "country": "vietnam",
          "region": "southeast_asia",
          "strain": "NIID123/2016"
         },
         {
          "cluster 1": null,
          "cluster 2": null,
          "cluster 3": null,
          "cluster 4": null,
          "country": "suriname",
          "region": "south_america",
          "strain": "NL00013"
         },
         {
          "cluster 1": null,
          "cluster 2": null,
          "cluster 3": null,
          "cluster 4": null,
          "country": "suriname",
          "region": "south_america",
          "strain": "SL1602"
         },
         {
          "cluster 1": null,
          "cluster 2": null,
          "cluster 3": null,
          "cluster 4": null,
          "country": "suriname",
          "region": "south_america",
          "strain": "Z1106033"
         },
         {
          "cluster 1": null,
          "cluster 2": null,
          "cluster 3": null,
          "cluster 4": null,
          "country": "panama",
          "region": "north_america",
          "strain": "PAN/BEI_259634_V4/2016"
         },
         {
          "cluster 1": null,
          "cluster 2": null,
          "cluster 3": null,
          "cluster 4": null,
          "country": "panama",
          "region": "north_america",
          "strain": "PAN/CDC_259249_V1_V3/2015"
         },
         {
          "cluster 1": null,
          "cluster 2": null,
          "cluster 3": null,
          "cluster 4": null,
          "country": "panama",
          "region": "north_america",
          "strain": "PAN/CDC_259359_V1_V3/2015"
         },
         {
          "cluster 1": null,
          "cluster 2": null,
          "cluster 3": null,
          "cluster 4": null,
          "country": "panama",
          "region": "north_america",
          "strain": "PAN/CDC_259364_V1_V2/2015"
         },
         {
          "cluster 1": null,
          "cluster 2": null,
          "cluster 3": null,
          "cluster 4": null,
          "country": "panama",
          "region": "north_america",
          "strain": "Panama/2015/259249"
         },
         {
          "cluster 1": null,
          "cluster 2": null,
          "cluster 3": null,
          "cluster 4": null,
          "country": "panama",
          "region": "north_america",
          "strain": "Panama/2015/259359"
         },
         {
          "cluster 1": null,
          "cluster 2": null,
          "cluster 3": null,
          "cluster 4": null,
          "country": "panama",
          "region": "north_america",
          "strain": "Panama/2015/259364"
         },
         {
          "cluster 1": null,
          "cluster 2": null,
          "cluster 3": null,
          "cluster 4": null,
          "country": "guadeloupe",
          "region": "north_america",
          "strain": "PHE_Guadeloupe"
         },
         {
          "cluster 1": null,
          "cluster 2": null,
          "cluster 3": null,
          "cluster 4": null,
          "country": "puerto_rico",
          "region": "north_america",
          "strain": "PRI/2016/MA_WGS16_004"
         },
         {
          "cluster 1": null,
          "cluster 2": null,
          "cluster 3": null,
          "cluster 4": null,
          "country": "puerto_rico",
          "region": "north_america",
          "strain": "PRI/2016/MA_WGS16_005"
         },
         {
          "cluster 1": null,
          "cluster 2": null,
          "cluster 3": null,
          "cluster 4": null,
          "country": "puerto_rico",
          "region": "north_america",
          "strain": "PRI/2016/MA_WGS16_016"
         },
         {
          "cluster 1": null,
          "cluster 2": null,
          "cluster 3": null,
          "cluster 4": null,
          "country": "puerto_rico",
          "region": "north_america",
          "strain": "PRVABC59"
         },
         {
          "cluster 1": null,
          "cluster 2": null,
          "cluster 3": null,
          "cluster 4": null,
          "country": "puerto_rico",
          "region": "north_america",
          "strain": "PuertoRico/2016/FL008U"
         },
         {
          "cluster 1": null,
          "cluster 2": null,
          "cluster 3": null,
          "cluster 4": null,
          "country": "puerto_rico",
          "region": "north_america",
          "strain": "PuertoRico/2016/FL016U"
         },
         {
          "cluster 1": null,
          "cluster 2": null,
          "cluster 3": null,
          "cluster 4": null,
          "country": "puerto_rico",
          "region": "north_america",
          "strain": "Puerto_Rico/2015/PRVABC59"
         },
         {
          "cluster 1": null,
          "cluster 2": null,
          "cluster 3": null,
          "cluster 4": null,
          "country": "singapore",
          "region": "southeast_asia",
          "strain": "SG_001"
         },
         {
          "cluster 1": null,
          "cluster 2": null,
          "cluster 3": null,
          "cluster 4": null,
          "country": "singapore",
          "region": "southeast_asia",
          "strain": "SG_003"
         },
         {
          "cluster 1": null,
          "cluster 2": null,
          "cluster 3": null,
          "cluster 4": null,
          "country": "singapore",
          "region": "southeast_asia",
          "strain": "SG_004"
         },
         {
          "cluster 1": null,
          "cluster 2": null,
          "cluster 3": null,
          "cluster 4": null,
          "country": "singapore",
          "region": "southeast_asia",
          "strain": "SG_005"
         },
         {
          "cluster 1": null,
          "cluster 2": null,
          "cluster 3": null,
          "cluster 4": null,
          "country": "singapore",
          "region": "southeast_asia",
          "strain": "SG_006"
         },
         {
          "cluster 1": null,
          "cluster 2": null,
          "cluster 3": null,
          "cluster 4": null,
          "country": "singapore",
          "region": "southeast_asia",
          "strain": "SG_007"
         },
         {
          "cluster 1": null,
          "cluster 2": null,
          "cluster 3": null,
          "cluster 4": null,
          "country": "singapore",
          "region": "southeast_asia",
          "strain": "SG_008"
         },
         {
          "cluster 1": null,
          "cluster 2": null,
          "cluster 3": null,
          "cluster 4": null,
          "country": "singapore",
          "region": "southeast_asia",
          "strain": "SG_009"
         },
         {
          "cluster 1": null,
          "cluster 2": null,
          "cluster 3": null,
          "cluster 4": null,
          "country": "singapore",
          "region": "southeast_asia",
          "strain": "SG_010"
         },
         {
          "cluster 1": null,
          "cluster 2": null,
          "cluster 3": null,
          "cluster 4": null,
          "country": "singapore",
          "region": "southeast_asia",
          "strain": "SG_011"
         },
         {
          "cluster 1": null,
          "cluster 2": null,
          "cluster 3": null,
          "cluster 4": null,
          "country": "singapore",
          "region": "southeast_asia",
          "strain": "SG_012"
         },
         {
          "cluster 1": null,
          "cluster 2": null,
          "cluster 3": null,
          "cluster 4": null,
          "country": "singapore",
          "region": "southeast_asia",
          "strain": "SG_013"
         },
         {
          "cluster 1": null,
          "cluster 2": null,
          "cluster 3": null,
          "cluster 4": null,
          "country": "singapore",
          "region": "southeast_asia",
          "strain": "SG_014"
         },
         {
          "cluster 1": null,
          "cluster 2": null,
          "cluster 3": null,
          "cluster 4": null,
          "country": "singapore",
          "region": "southeast_asia",
          "strain": "SG_015"
         },
         {
          "cluster 1": null,
          "cluster 2": null,
          "cluster 3": null,
          "cluster 4": null,
          "country": "singapore",
          "region": "southeast_asia",
          "strain": "SG_016"
         },
         {
          "cluster 1": null,
          "cluster 2": null,
          "cluster 3": null,
          "cluster 4": null,
          "country": "singapore",
          "region": "southeast_asia",
          "strain": "SG_017"
         },
         {
          "cluster 1": null,
          "cluster 2": null,
          "cluster 3": null,
          "cluster 4": null,
          "country": "singapore",
          "region": "southeast_asia",
          "strain": "SG_018"
         },
         {
          "cluster 1": null,
          "cluster 2": null,
          "cluster 3": null,
          "cluster 4": null,
          "country": "singapore",
          "region": "southeast_asia",
          "strain": "SG_019"
         },
         {
          "cluster 1": null,
          "cluster 2": null,
          "cluster 3": null,
          "cluster 4": null,
          "country": "singapore",
          "region": "southeast_asia",
          "strain": "SG_020"
         },
         {
          "cluster 1": null,
          "cluster 2": null,
          "cluster 3": null,
          "cluster 4": null,
          "country": "singapore",
          "region": "southeast_asia",
          "strain": "SG_021"
         },
         {
          "cluster 1": null,
          "cluster 2": null,
          "cluster 3": null,
          "cluster 4": null,
          "country": "singapore",
          "region": "southeast_asia",
          "strain": "SG_022"
         },
         {
          "cluster 1": null,
          "cluster 2": null,
          "cluster 3": null,
          "cluster 4": null,
          "country": "singapore",
          "region": "southeast_asia",
          "strain": "SG_023"
         },
         {
          "cluster 1": null,
          "cluster 2": null,
          "cluster 3": null,
          "cluster 4": null,
          "country": "singapore",
          "region": "southeast_asia",
          "strain": "SG_024"
         },
         {
          "cluster 1": null,
          "cluster 2": null,
          "cluster 3": null,
          "cluster 4": null,
          "country": "singapore",
          "region": "southeast_asia",
          "strain": "SG_025"
         },
         {
          "cluster 1": null,
          "cluster 2": null,
          "cluster 3": null,
          "cluster 4": null,
          "country": "singapore",
          "region": "southeast_asia",
          "strain": "SG_026"
         },
         {
          "cluster 1": null,
          "cluster 2": null,
          "cluster 3": null,
          "cluster 4": null,
          "country": "singapore",
          "region": "southeast_asia",
          "strain": "SG_027"
         },
         {
          "cluster 1": null,
          "cluster 2": null,
          "cluster 3": null,
          "cluster 4": null,
          "country": "singapore",
          "region": "southeast_asia",
          "strain": "SG_028"
         },
         {
          "cluster 1": null,
          "cluster 2": null,
          "cluster 3": null,
          "cluster 4": null,
          "country": "singapore",
          "region": "southeast_asia",
          "strain": "SG_029"
         },
         {
          "cluster 1": null,
          "cluster 2": null,
          "cluster 3": null,
          "cluster 4": null,
          "country": "singapore",
          "region": "southeast_asia",
          "strain": "SG_030"
         },
         {
          "cluster 1": null,
          "cluster 2": null,
          "cluster 3": null,
          "cluster 4": null,
          "country": "singapore",
          "region": "southeast_asia",
          "strain": "SG_031"
         },
         {
          "cluster 1": null,
          "cluster 2": null,
          "cluster 3": null,
          "cluster 4": null,
          "country": "singapore",
          "region": "southeast_asia",
          "strain": "SG_032"
         },
         {
          "cluster 1": null,
          "cluster 2": null,
          "cluster 3": null,
          "cluster 4": null,
          "country": "singapore",
          "region": "southeast_asia",
          "strain": "SG_033"
         },
         {
          "cluster 1": null,
          "cluster 2": null,
          "cluster 3": null,
          "cluster 4": null,
          "country": "singapore",
          "region": "southeast_asia",
          "strain": "SG_034"
         },
         {
          "cluster 1": null,
          "cluster 2": null,
          "cluster 3": null,
          "cluster 4": null,
          "country": "singapore",
          "region": "southeast_asia",
          "strain": "SG_035"
         },
         {
          "cluster 1": null,
          "cluster 2": null,
          "cluster 3": null,
          "cluster 4": null,
          "country": "singapore",
          "region": "southeast_asia",
          "strain": "SG_036"
         },
         {
          "cluster 1": null,
          "cluster 2": null,
          "cluster 3": null,
          "cluster 4": null,
          "country": "singapore",
          "region": "southeast_asia",
          "strain": "SG_037"
         },
         {
          "cluster 1": null,
          "cluster 2": null,
          "cluster 3": null,
          "cluster 4": null,
          "country": "singapore",
          "region": "southeast_asia",
          "strain": "SG_038"
         },
         {
          "cluster 1": null,
          "cluster 2": null,
          "cluster 3": null,
          "cluster 4": null,
          "country": "singapore",
          "region": "southeast_asia",
          "strain": "SG_039"
         },
         {
          "cluster 1": null,
          "cluster 2": null,
          "cluster 3": null,
          "cluster 4": null,
          "country": "singapore",
          "region": "southeast_asia",
          "strain": "SG_040"
         },
         {
          "cluster 1": null,
          "cluster 2": null,
          "cluster 3": null,
          "cluster 4": null,
          "country": "singapore",
          "region": "southeast_asia",
          "strain": "SG_041"
         },
         {
          "cluster 1": null,
          "cluster 2": null,
          "cluster 3": null,
          "cluster 4": null,
          "country": "singapore",
          "region": "southeast_asia",
          "strain": "SG_042"
         },
         {
          "cluster 1": null,
          "cluster 2": null,
          "cluster 3": null,
          "cluster 4": null,
          "country": "singapore",
          "region": "southeast_asia",
          "strain": "SG_043"
         },
         {
          "cluster 1": null,
          "cluster 2": null,
          "cluster 3": null,
          "cluster 4": null,
          "country": "singapore",
          "region": "southeast_asia",
          "strain": "SG_044"
         },
         {
          "cluster 1": null,
          "cluster 2": null,
          "cluster 3": null,
          "cluster 4": null,
          "country": "singapore",
          "region": "southeast_asia",
          "strain": "SG_045"
         },
         {
          "cluster 1": null,
          "cluster 2": null,
          "cluster 3": null,
          "cluster 4": null,
          "country": "singapore",
          "region": "southeast_asia",
          "strain": "SG_046"
         },
         {
          "cluster 1": null,
          "cluster 2": null,
          "cluster 3": null,
          "cluster 4": null,
          "country": "singapore",
          "region": "southeast_asia",
          "strain": "SG_047"
         },
         {
          "cluster 1": null,
          "cluster 2": null,
          "cluster 3": null,
          "cluster 4": null,
          "country": "singapore",
          "region": "southeast_asia",
          "strain": "SG_048"
         },
         {
          "cluster 1": null,
          "cluster 2": null,
          "cluster 3": null,
          "cluster 4": null,
          "country": "singapore",
          "region": "southeast_asia",
          "strain": "SG_049"
         },
         {
          "cluster 1": null,
          "cluster 2": null,
          "cluster 3": null,
          "cluster 4": null,
          "country": "singapore",
          "region": "southeast_asia",
          "strain": "SG_050"
         },
         {
          "cluster 1": null,
          "cluster 2": null,
          "cluster 3": null,
          "cluster 4": null,
          "country": "singapore",
          "region": "southeast_asia",
          "strain": "SG_051"
         },
         {
          "cluster 1": null,
          "cluster 2": null,
          "cluster 3": null,
          "cluster 4": null,
          "country": "singapore",
          "region": "southeast_asia",
          "strain": "SG_052"
         },
         {
          "cluster 1": null,
          "cluster 2": null,
          "cluster 3": null,
          "cluster 4": null,
          "country": "singapore",
          "region": "southeast_asia",
          "strain": "SG_053"
         },
         {
          "cluster 1": null,
          "cluster 2": null,
          "cluster 3": null,
          "cluster 4": null,
          "country": "singapore",
          "region": "southeast_asia",
          "strain": "SG_054"
         },
         {
          "cluster 1": null,
          "cluster 2": null,
          "cluster 3": null,
          "cluster 4": null,
          "country": "singapore",
          "region": "southeast_asia",
          "strain": "SG_055"
         },
         {
          "cluster 1": null,
          "cluster 2": null,
          "cluster 3": null,
          "cluster 4": null,
          "country": "singapore",
          "region": "southeast_asia",
          "strain": "SG_056"
         },
         {
          "cluster 1": null,
          "cluster 2": null,
          "cluster 3": null,
          "cluster 4": null,
          "country": "singapore",
          "region": "southeast_asia",
          "strain": "SG_057"
         },
         {
          "cluster 1": null,
          "cluster 2": null,
          "cluster 3": null,
          "cluster 4": null,
          "country": "singapore",
          "region": "southeast_asia",
          "strain": "SG_058"
         },
         {
          "cluster 1": null,
          "cluster 2": null,
          "cluster 3": null,
          "cluster 4": null,
          "country": "singapore",
          "region": "southeast_asia",
          "strain": "SG_059"
         },
         {
          "cluster 1": null,
          "cluster 2": null,
          "cluster 3": null,
          "cluster 4": null,
          "country": "singapore",
          "region": "southeast_asia",
          "strain": "SG_060"
         },
         {
          "cluster 1": null,
          "cluster 2": null,
          "cluster 3": null,
          "cluster 4": null,
          "country": "singapore",
          "region": "southeast_asia",
          "strain": "SG_061"
         },
         {
          "cluster 1": null,
          "cluster 2": null,
          "cluster 3": null,
          "cluster 4": null,
          "country": "singapore",
          "region": "southeast_asia",
          "strain": "SG_062"
         },
         {
          "cluster 1": null,
          "cluster 2": null,
          "cluster 3": null,
          "cluster 4": null,
          "country": "singapore",
          "region": "southeast_asia",
          "strain": "SG_063"
         },
         {
          "cluster 1": null,
          "cluster 2": null,
          "cluster 3": null,
          "cluster 4": null,
          "country": "singapore",
          "region": "southeast_asia",
          "strain": "SG_064"
         },
         {
          "cluster 1": null,
          "cluster 2": null,
          "cluster 3": null,
          "cluster 4": null,
          "country": "singapore",
          "region": "southeast_asia",
          "strain": "SG_065"
         },
         {
          "cluster 1": null,
          "cluster 2": null,
          "cluster 3": null,
          "cluster 4": null,
          "country": "singapore",
          "region": "southeast_asia",
          "strain": "SG_066"
         },
         {
          "cluster 1": null,
          "cluster 2": null,
          "cluster 3": null,
          "cluster 4": null,
          "country": "singapore",
          "region": "southeast_asia",
          "strain": "SG_067"
         },
         {
          "cluster 1": null,
          "cluster 2": null,
          "cluster 3": null,
          "cluster 4": null,
          "country": "singapore",
          "region": "southeast_asia",
          "strain": "SG_068"
         },
         {
          "cluster 1": null,
          "cluster 2": null,
          "cluster 3": null,
          "cluster 4": null,
          "country": "singapore",
          "region": "southeast_asia",
          "strain": "SG_069"
         },
         {
          "cluster 1": null,
          "cluster 2": null,
          "cluster 3": null,
          "cluster 4": null,
          "country": "singapore",
          "region": "southeast_asia",
          "strain": "SG_070"
         },
         {
          "cluster 1": null,
          "cluster 2": null,
          "cluster 3": null,
          "cluster 4": null,
          "country": "singapore",
          "region": "southeast_asia",
          "strain": "SG_071"
         },
         {
          "cluster 1": null,
          "cluster 2": null,
          "cluster 3": null,
          "cluster 4": null,
          "country": "singapore",
          "region": "southeast_asia",
          "strain": "SG_072"
         },
         {
          "cluster 1": null,
          "cluster 2": null,
          "cluster 3": null,
          "cluster 4": null,
          "country": "singapore",
          "region": "southeast_asia",
          "strain": "SG_073"
         },
         {
          "cluster 1": null,
          "cluster 2": null,
          "cluster 3": null,
          "cluster 4": null,
          "country": "singapore",
          "region": "southeast_asia",
          "strain": "SG_074"
         },
         {
          "cluster 1": null,
          "cluster 2": null,
          "cluster 3": null,
          "cluster 4": null,
          "country": "singapore",
          "region": "southeast_asia",
          "strain": "SG_075"
         },
         {
          "cluster 1": null,
          "cluster 2": null,
          "cluster 3": null,
          "cluster 4": null,
          "country": "singapore",
          "region": "southeast_asia",
          "strain": "SG_076"
         },
         {
          "cluster 1": null,
          "cluster 2": null,
          "cluster 3": null,
          "cluster 4": null,
          "country": "singapore",
          "region": "southeast_asia",
          "strain": "SG_077"
         },
         {
          "cluster 1": null,
          "cluster 2": null,
          "cluster 3": null,
          "cluster 4": null,
          "country": "singapore",
          "region": "southeast_asia",
          "strain": "SG_078"
         },
         {
          "cluster 1": null,
          "cluster 2": null,
          "cluster 3": null,
          "cluster 4": null,
          "country": "singapore",
          "region": "southeast_asia",
          "strain": "SG_079"
         },
         {
          "cluster 1": null,
          "cluster 2": null,
          "cluster 3": null,
          "cluster 4": null,
          "country": "singapore",
          "region": "southeast_asia",
          "strain": "SG_080"
         },
         {
          "cluster 1": null,
          "cluster 2": null,
          "cluster 3": null,
          "cluster 4": null,
          "country": "singapore",
          "region": "southeast_asia",
          "strain": "SG_081"
         },
         {
          "cluster 1": null,
          "cluster 2": null,
          "cluster 3": null,
          "cluster 4": null,
          "country": "singapore",
          "region": "southeast_asia",
          "strain": "SG_082"
         },
         {
          "cluster 1": null,
          "cluster 2": null,
          "cluster 3": null,
          "cluster 4": null,
          "country": "singapore",
          "region": "southeast_asia",
          "strain": "SG_083"
         },
         {
          "cluster 1": null,
          "cluster 2": null,
          "cluster 3": null,
          "cluster 4": null,
          "country": "singapore",
          "region": "southeast_asia",
          "strain": "SG_084"
         },
         {
          "cluster 1": null,
          "cluster 2": null,
          "cluster 3": null,
          "cluster 4": null,
          "country": "singapore",
          "region": "southeast_asia",
          "strain": "SG_085"
         },
         {
          "cluster 1": null,
          "cluster 2": null,
          "cluster 3": null,
          "cluster 4": null,
          "country": "singapore",
          "region": "southeast_asia",
          "strain": "SG_086"
         },
         {
          "cluster 1": null,
          "cluster 2": null,
          "cluster 3": null,
          "cluster 4": null,
          "country": "singapore",
          "region": "southeast_asia",
          "strain": "SG_087"
         },
         {
          "cluster 1": null,
          "cluster 2": null,
          "cluster 3": null,
          "cluster 4": null,
          "country": "singapore",
          "region": "southeast_asia",
          "strain": "SG_088"
         },
         {
          "cluster 1": null,
          "cluster 2": null,
          "cluster 3": null,
          "cluster 4": null,
          "country": "singapore",
          "region": "southeast_asia",
          "strain": "SG_089"
         },
         {
          "cluster 1": null,
          "cluster 2": null,
          "cluster 3": null,
          "cluster 4": null,
          "country": "singapore",
          "region": "southeast_asia",
          "strain": "SG_090"
         },
         {
          "cluster 1": null,
          "cluster 2": null,
          "cluster 3": null,
          "cluster 4": null,
          "country": "singapore",
          "region": "southeast_asia",
          "strain": "SG_091"
         },
         {
          "cluster 1": null,
          "cluster 2": null,
          "cluster 3": null,
          "cluster 4": null,
          "country": "singapore",
          "region": "southeast_asia",
          "strain": "SG_092"
         },
         {
          "cluster 1": null,
          "cluster 2": null,
          "cluster 3": null,
          "cluster 4": null,
          "country": "singapore",
          "region": "southeast_asia",
          "strain": "SG_093"
         },
         {
          "cluster 1": null,
          "cluster 2": null,
          "cluster 3": null,
          "cluster 4": null,
          "country": "singapore",
          "region": "southeast_asia",
          "strain": "SG_094"
         },
         {
          "cluster 1": null,
          "cluster 2": null,
          "cluster 3": null,
          "cluster 4": null,
          "country": "singapore",
          "region": "southeast_asia",
          "strain": "SG_095"
         },
         {
          "cluster 1": null,
          "cluster 2": null,
          "cluster 3": null,
          "cluster 4": null,
          "country": "singapore",
          "region": "southeast_asia",
          "strain": "SG_096"
         },
         {
          "cluster 1": null,
          "cluster 2": null,
          "cluster 3": null,
          "cluster 4": null,
          "country": "singapore",
          "region": "southeast_asia",
          "strain": "SG_097"
         },
         {
          "cluster 1": null,
          "cluster 2": null,
          "cluster 3": null,
          "cluster 4": null,
          "country": "singapore",
          "region": "southeast_asia",
          "strain": "SG_098"
         },
         {
          "cluster 1": null,
          "cluster 2": null,
          "cluster 3": null,
          "cluster 4": null,
          "country": "singapore",
          "region": "southeast_asia",
          "strain": "SG_099"
         },
         {
          "cluster 1": null,
          "cluster 2": null,
          "cluster 3": null,
          "cluster 4": null,
          "country": "singapore",
          "region": "southeast_asia",
          "strain": "SG_100"
         },
         {
          "cluster 1": null,
          "cluster 2": null,
          "cluster 3": null,
          "cluster 4": null,
          "country": "singapore",
          "region": "southeast_asia",
          "strain": "SG_101"
         },
         {
          "cluster 1": null,
          "cluster 2": null,
          "cluster 3": null,
          "cluster 4": null,
          "country": "singapore",
          "region": "southeast_asia",
          "strain": "SG_102"
         },
         {
          "cluster 1": null,
          "cluster 2": null,
          "cluster 3": null,
          "cluster 4": null,
          "country": "singapore",
          "region": "southeast_asia",
          "strain": "SG_103"
         },
         {
          "cluster 1": null,
          "cluster 2": null,
          "cluster 3": null,
          "cluster 4": null,
          "country": "singapore",
          "region": "southeast_asia",
          "strain": "SG_104"
         },
         {
          "cluster 1": null,
          "cluster 2": null,
          "cluster 3": null,
          "cluster 4": null,
          "country": "singapore",
          "region": "southeast_asia",
          "strain": "SG_105"
         },
         {
          "cluster 1": null,
          "cluster 2": null,
          "cluster 3": null,
          "cluster 4": null,
          "country": "singapore",
          "region": "southeast_asia",
          "strain": "SG_106"
         },
         {
          "cluster 1": null,
          "cluster 2": null,
          "cluster 3": null,
          "cluster 4": null,
          "country": "singapore",
          "region": "southeast_asia",
          "strain": "SG_107"
         },
         {
          "cluster 1": null,
          "cluster 2": null,
          "cluster 3": null,
          "cluster 4": null,
          "country": "singapore",
          "region": "southeast_asia",
          "strain": "SG_108"
         },
         {
          "cluster 1": null,
          "cluster 2": null,
          "cluster 3": null,
          "cluster 4": null,
          "country": "singapore",
          "region": "southeast_asia",
          "strain": "SG_109"
         },
         {
          "cluster 1": null,
          "cluster 2": null,
          "cluster 3": null,
          "cluster 4": null,
          "country": "singapore",
          "region": "southeast_asia",
          "strain": "SG_110"
         },
         {
          "cluster 1": null,
          "cluster 2": null,
          "cluster 3": null,
          "cluster 4": null,
          "country": "singapore",
          "region": "southeast_asia",
          "strain": "SG_111"
         },
         {
          "cluster 1": null,
          "cluster 2": null,
          "cluster 3": null,
          "cluster 4": null,
          "country": "singapore",
          "region": "southeast_asia",
          "strain": "SG_112"
         },
         {
          "cluster 1": null,
          "cluster 2": null,
          "cluster 3": null,
          "cluster 4": null,
          "country": "singapore",
          "region": "southeast_asia",
          "strain": "SG_113"
         },
         {
          "cluster 1": null,
          "cluster 2": null,
          "cluster 3": null,
          "cluster 4": null,
          "country": "singapore",
          "region": "southeast_asia",
          "strain": "SG_114"
         },
         {
          "cluster 1": null,
          "cluster 2": null,
          "cluster 3": null,
          "cluster 4": null,
          "country": "singapore",
          "region": "southeast_asia",
          "strain": "SG_115"
         },
         {
          "cluster 1": null,
          "cluster 2": null,
          "cluster 3": null,
          "cluster 4": null,
          "country": "singapore",
          "region": "southeast_asia",
          "strain": "SG_116"
         },
         {
          "cluster 1": null,
          "cluster 2": null,
          "cluster 3": null,
          "cluster 4": null,
          "country": "singapore",
          "region": "southeast_asia",
          "strain": "SG_117"
         },
         {
          "cluster 1": null,
          "cluster 2": null,
          "cluster 3": null,
          "cluster 4": null,
          "country": "singapore",
          "region": "southeast_asia",
          "strain": "SG_118"
         },
         {
          "cluster 1": null,
          "cluster 2": null,
          "cluster 3": null,
          "cluster 4": null,
          "country": "singapore",
          "region": "southeast_asia",
          "strain": "ZKA_16_097"
         },
         {
          "cluster 1": null,
          "cluster 2": null,
          "cluster 3": null,
          "cluster 4": null,
          "country": "singapore",
          "region": "southeast_asia",
          "strain": "ZKA_16_291"
         },
         {
          "cluster 1": null,
          "cluster 2": null,
          "cluster 3": null,
          "cluster 4": null,
          "country": "singapore",
          "region": "southeast_asia",
          "strain": "ZKA_16_922"
         },
         {
          "cluster 1": null,
          "cluster 2": null,
          "cluster 3": null,
          "cluster 4": null,
          "country": "el_salvador",
          "region": "north_america",
          "strain": "SLV/2016/ElSalvador_1055"
         },
         {
          "cluster 1": null,
          "cluster 2": null,
          "cluster 3": null,
          "cluster 4": null,
          "country": "el_salvador",
          "region": "north_america",
          "strain": "UNK/2016/MA_WGS16_029"
         },
         {
          "cluster 1": null,
          "cluster 2": null,
          "cluster 3": null,
          "cluster 4": null,
          "country": "saint_barthelemy",
          "region": "north_america",
          "strain": "Saint_Barthelemi_Rus_6BRN_2016"
         },
         {
          "cluster 1": null,
          "cluster 2": null,
          "cluster 3": null,
          "cluster 4": null,
          "country": "tonga",
          "region": "oceania",
          "strain": "TS17_2016"
         },
         {
          "cluster 1": null,
          "cluster 2": null,
          "cluster 3": null,
          "cluster 4": null,
          "country": "taiwan",
          "region": "china",
          "strain": "Thailand/1605aTw"
         },
         {
          "cluster 1": null,
          "cluster 2": null,
          "cluster 3": null,
          "cluster 4": null,
          "country": "usvi",
          "region": "north_america",
          "strain": "USVI/1/2016"
         },
         {
          "cluster 1": null,
          "cluster 2": null,
          "cluster 3": null,
          "cluster 4": null,
          "country": "usvi",
          "region": "north_america",
          "strain": "USVI/11/2016"
         },
         {
          "cluster 1": null,
          "cluster 2": null,
          "cluster 3": null,
          "cluster 4": null,
          "country": "usvi",
          "region": "north_america",
          "strain": "USVI/12/2016"
         },
         {
          "cluster 1": null,
          "cluster 2": null,
          "cluster 3": null,
          "cluster 4": null,
          "country": "usvi",
          "region": "north_america",
          "strain": "USVI/13/2016"
         },
         {
          "cluster 1": null,
          "cluster 2": null,
          "cluster 3": null,
          "cluster 4": null,
          "country": "usvi",
          "region": "north_america",
          "strain": "USVI/15/2016"
         },
         {
          "cluster 1": null,
          "cluster 2": null,
          "cluster 3": null,
          "cluster 4": null,
          "country": "usvi",
          "region": "north_america",
          "strain": "USVI/19/2016"
         },
         {
          "cluster 1": null,
          "cluster 2": null,
          "cluster 3": null,
          "cluster 4": null,
          "country": "usvi",
          "region": "north_america",
          "strain": "USVI/2/2016"
         },
         {
          "cluster 1": null,
          "cluster 2": null,
          "cluster 3": null,
          "cluster 4": null,
          "country": "usvi",
          "region": "north_america",
          "strain": "USVI/20/2016"
         },
         {
          "cluster 1": null,
          "cluster 2": null,
          "cluster 3": null,
          "cluster 4": null,
          "country": "usvi",
          "region": "north_america",
          "strain": "USVI/21/2016"
         },
         {
          "cluster 1": null,
          "cluster 2": null,
          "cluster 3": null,
          "cluster 4": null,
          "country": "usvi",
          "region": "north_america",
          "strain": "USVI/22/2016"
         },
         {
          "cluster 1": null,
          "cluster 2": null,
          "cluster 3": null,
          "cluster 4": null,
          "country": "usvi",
          "region": "north_america",
          "strain": "USVI/23/2016"
         },
         {
          "cluster 1": null,
          "cluster 2": null,
          "cluster 3": null,
          "cluster 4": null,
          "country": "usvi",
          "region": "north_america",
          "strain": "USVI/24/2016"
         },
         {
          "cluster 1": null,
          "cluster 2": null,
          "cluster 3": null,
          "cluster 4": null,
          "country": "usvi",
          "region": "north_america",
          "strain": "USVI/25/2016"
         },
         {
          "cluster 1": null,
          "cluster 2": null,
          "cluster 3": null,
          "cluster 4": null,
          "country": "usvi",
          "region": "north_america",
          "strain": "USVI/27/2016"
         },
         {
          "cluster 1": null,
          "cluster 2": null,
          "cluster 3": null,
          "cluster 4": null,
          "country": "usvi",
          "region": "north_america",
          "strain": "USVI/28/2016"
         },
         {
          "cluster 1": null,
          "cluster 2": null,
          "cluster 3": null,
          "cluster 4": null,
          "country": "usvi",
          "region": "north_america",
          "strain": "USVI/3/2016"
         },
         {
          "cluster 1": null,
          "cluster 2": null,
          "cluster 3": null,
          "cluster 4": null,
          "country": "usvi",
          "region": "north_america",
          "strain": "USVI/30/2016"
         },
         {
          "cluster 1": null,
          "cluster 2": null,
          "cluster 3": null,
          "cluster 4": null,
          "country": "usvi",
          "region": "north_america",
          "strain": "USVI/32/2016"
         },
         {
          "cluster 1": null,
          "cluster 2": null,
          "cluster 3": null,
          "cluster 4": null,
          "country": "usvi",
          "region": "north_america",
          "strain": "USVI/34/2016"
         },
         {
          "cluster 1": null,
          "cluster 2": null,
          "cluster 3": null,
          "cluster 4": null,
          "country": "usvi",
          "region": "north_america",
          "strain": "USVI/35/2016"
         },
         {
          "cluster 1": null,
          "cluster 2": null,
          "cluster 3": null,
          "cluster 4": null,
          "country": "usvi",
          "region": "north_america",
          "strain": "USVI/36/2016"
         },
         {
          "cluster 1": null,
          "cluster 2": null,
          "cluster 3": null,
          "cluster 4": null,
          "country": "usvi",
          "region": "north_america",
          "strain": "USVI/37/2016"
         },
         {
          "cluster 1": null,
          "cluster 2": null,
          "cluster 3": null,
          "cluster 4": null,
          "country": "usvi",
          "region": "north_america",
          "strain": "USVI/38/2016"
         },
         {
          "cluster 1": null,
          "cluster 2": null,
          "cluster 3": null,
          "cluster 4": null,
          "country": "usvi",
          "region": "north_america",
          "strain": "USVI/39/2016"
         },
         {
          "cluster 1": null,
          "cluster 2": null,
          "cluster 3": null,
          "cluster 4": null,
          "country": "usvi",
          "region": "north_america",
          "strain": "USVI/4/2016"
         },
         {
          "cluster 1": null,
          "cluster 2": null,
          "cluster 3": null,
          "cluster 4": null,
          "country": "usvi",
          "region": "north_america",
          "strain": "USVI/40/2016"
         },
         {
          "cluster 1": null,
          "cluster 2": null,
          "cluster 3": null,
          "cluster 4": null,
          "country": "usvi",
          "region": "north_america",
          "strain": "USVI/41/2016"
         },
         {
          "cluster 1": null,
          "cluster 2": null,
          "cluster 3": null,
          "cluster 4": null,
          "country": "usvi",
          "region": "north_america",
          "strain": "USVI/42/2016"
         },
         {
          "cluster 1": null,
          "cluster 2": null,
          "cluster 3": null,
          "cluster 4": null,
          "country": "usvi",
          "region": "north_america",
          "strain": "USVI/43/2016"
         },
         {
          "cluster 1": null,
          "cluster 2": null,
          "cluster 3": null,
          "cluster 4": null,
          "country": "usvi",
          "region": "north_america",
          "strain": "USVI/45/2016"
         },
         {
          "cluster 1": null,
          "cluster 2": null,
          "cluster 3": null,
          "cluster 4": null,
          "country": "usvi",
          "region": "north_america",
          "strain": "USVI/46/2016"
         },
         {
          "cluster 1": null,
          "cluster 2": null,
          "cluster 3": null,
          "cluster 4": null,
          "country": "usvi",
          "region": "north_america",
          "strain": "USVI/5/2016"
         },
         {
          "cluster 1": null,
          "cluster 2": null,
          "cluster 3": null,
          "cluster 4": null,
          "country": "usvi",
          "region": "north_america",
          "strain": "USVI/6/2016"
         },
         {
          "cluster 1": null,
          "cluster 2": null,
          "cluster 3": null,
          "cluster 4": null,
          "country": "usvi",
          "region": "north_america",
          "strain": "USVI/7/2016"
         },
         {
          "cluster 1": null,
          "cluster 2": null,
          "cluster 3": null,
          "cluster 4": null,
          "country": "french_guiana",
          "region": "south_america",
          "strain": "V17271"
         }
        ]
       },
       "encoding": {
        "color": {
         "field": "country",
         "type": "nominal"
        },
        "tooltip": [
         {
          "field": "strain",
          "type": "nominal"
         },
         {
          "field": "country",
          "type": "nominal"
         }
        ],
        "x": {
         "field": "cluster 3",
         "type": "quantitative"
        },
        "y": {
         "field": "cluster 4",
         "type": "quantitative"
        }
       },
       "mark": {
        "size": 60,
        "type": "circle"
       },
       "selection": {
        "selector017": {
         "bind": "scales",
         "encodings": [
          "x",
          "y"
         ],
         "type": "interval"
        }
       }
      },
      "image/png": "[encoded data removed]",
      "text/plain": [
       "<VegaLite 3 object>\n",
       "\n",
       "If you see this message, it means the renderer has not been properly enabled\n",
       "for the frontend that you are using. For more information, see\n",
       "https://altair-viz.github.io/user_guide/troubleshooting.html\n"
      ]
     },
     "execution_count": 173,
     "metadata": {},
     "output_type": "execute_result"
    }
   ],
   "source": [
    "import altair as alt\n",
    "\n",
    "alt.Chart(finalDf).mark_circle(size=60).encode(\n",
    "    x='cluster 3',\n",
    "    y='cluster 4',\n",
    "    color='country',\n",
    "    tooltip=['strain', 'country']\n",
    ").interactive()\n",
    "#Make this into a website (view compiled vega -- gives you the javascript -- put that into a HTML script)"
   ]
  },
  {
   "cell_type": "code",
   "execution_count": 174,
   "metadata": {},
   "outputs": [],
   "source": [
    "import scipy.spatial.distance as ssd\n",
    "# convert the redundant n*n square matrix form into a condensed nC2 array\n",
    "distArray = ssd.squareform(dataa)"
   ]
  },
  {
   "cell_type": "code",
   "execution_count": 175,
   "metadata": {},
   "outputs": [],
   "source": [
    "Z = linkage(principalDf, 'ward')"
   ]
  },
  {
   "cell_type": "code",
   "execution_count": 176,
   "metadata": {},
   "outputs": [
    {
     "data": {
      "application/vnd.vegalite.v3+json": {
       "$schema": "https://vega.github.io/schema/vega-lite/v3.3.0.json",
       "config": {
        "mark": {
         "tooltip": null
        },
        "view": {
         "height": 300,
         "width": 400
        }
       },
       "data": {
        "name": "data-ea58d37ae18d6de89684fd3a9cc8de45"
       },
       "datasets": {
        "data-ea58d37ae18d6de89684fd3a9cc8de45": [
         {
          "cluster 1": 47,
          "cluster 2": 53,
          "cluster 3": 1.4621691080475085,
          "cluster 4": 2,
          "country": "french_polynesia",
          "region": "oceania",
          "strain": "1_0015_PF"
         },
         {
          "cluster 1": 133,
          "cluster 2": 144,
          "cluster 3": 1.6171412387194553,
          "cluster 4": 2,
          "country": "french_polynesia",
          "region": "oceania",
          "strain": "1_0016_PF"
         },
         {
          "cluster 1": 5,
          "cluster 2": 14,
          "cluster 3": 1.9734125062632453,
          "cluster 4": 2,
          "country": "french_polynesia",
          "region": "oceania",
          "strain": "1_0030_PF"
         },
         {
          "cluster 1": 173,
          "cluster 2": 199,
          "cluster 3": 2.324461743708424,
          "cluster 4": 2,
          "country": "french_polynesia",
          "region": "oceania",
          "strain": "1_0035_PF"
         },
         {
          "cluster 1": 6,
          "cluster 2": 27,
          "cluster 3": 3.1237672056144836,
          "cluster 4": 2,
          "country": "french_polynesia",
          "region": "oceania",
          "strain": "1_0038_PF"
         },
         {
          "cluster 1": 3,
          "cluster 2": 17,
          "cluster 3": 3.126454258578468,
          "cluster 4": 2,
          "country": "french_polynesia",
          "region": "oceania",
          "strain": "1_0049_PF"
         },
         {
          "cluster 1": 150,
          "cluster 2": 163,
          "cluster 3": 3.3329044516995463,
          "cluster 4": 2,
          "country": "french_polynesia",
          "region": "oceania",
          "strain": "1_0080_PF"
         },
         {
          "cluster 1": 57,
          "cluster 2": 62,
          "cluster 3": 3.621728206132298,
          "cluster 4": 2,
          "country": "french_polynesia",
          "region": "oceania",
          "strain": "1_0087_PF"
         },
         {
          "cluster 1": 121,
          "cluster 2": 161,
          "cluster 3": 4.034690555242557,
          "cluster 4": 2,
          "country": "french_polynesia",
          "region": "oceania",
          "strain": "1_0111_PF"
         },
         {
          "cluster 1": 229,
          "cluster 2": 245,
          "cluster 3": 4.087104823096396,
          "cluster 4": 2,
          "country": "french_polynesia",
          "region": "oceania",
          "strain": "1_0117_PF"
         },
         {
          "cluster 1": 283,
          "cluster 2": 292,
          "cluster 3": 4.361389702770532,
          "cluster 4": 2,
          "country": "french_polynesia",
          "region": "oceania",
          "strain": "1_0134_PF"
         },
         {
          "cluster 1": 26,
          "cluster 2": 34,
          "cluster 3": 4.600081856788302,
          "cluster 4": 2,
          "country": "french_polynesia",
          "region": "oceania",
          "strain": "1_0181_PF"
         },
         {
          "cluster 1": 179,
          "cluster 2": 212,
          "cluster 3": 4.705353993701688,
          "cluster 4": 2,
          "country": "french_polynesia",
          "region": "oceania",
          "strain": "1_0199_PF"
         },
         {
          "cluster 1": 96,
          "cluster 2": 115,
          "cluster 3": 4.760192037887358,
          "cluster 4": 2,
          "country": "french_polynesia",
          "region": "oceania",
          "strain": "FrenchPolynesia2014_060114_016"
         },
         {
          "cluster 1": 127,
          "cluster 2": 162,
          "cluster 3": 5.249938111452144,
          "cluster 4": 2,
          "country": "french_polynesia",
          "region": "oceania",
          "strain": "H/PF/2013"
         },
         {
          "cluster 1": 0,
          "cluster 2": 519,
          "cluster 3": 5.349294638934238,
          "cluster 4": 3,
          "country": "french_polynesia",
          "region": "oceania",
          "strain": "PF13/251013_18"
         },
         {
          "cluster 1": 190,
          "cluster 2": 193,
          "cluster 3": 5.390098964398919,
          "cluster 4": 2,
          "country": "honduras",
          "region": "north_america",
          "strain": "2016_HND_19563"
         },
         {
          "cluster 1": 73,
          "cluster 2": 80,
          "cluster 3": 5.396809568752756,
          "cluster 4": 2,
          "country": "honduras",
          "region": "north_america",
          "strain": "FHT1166/HON/2016"
         },
         {
          "cluster 1": 355,
          "cluster 2": 360,
          "cluster 3": 5.672809770847313,
          "cluster 4": 2,
          "country": "honduras",
          "region": "north_america",
          "strain": "FHT1175/HON/2016"
         },
         {
          "cluster 1": 108,
          "cluster 2": 113,
          "cluster 3": 5.858691290325239,
          "cluster 4": 2,
          "country": "honduras",
          "region": "north_america",
          "strain": "HN16"
         },
         {
          "cluster 1": 8,
          "cluster 2": 11,
          "cluster 3": 5.863026714986117,
          "cluster 4": 2,
          "country": "honduras",
          "region": "north_america",
          "strain": "HND/00002/2016"
         },
         {
          "cluster 1": 51,
          "cluster 2": 76,
          "cluster 3": 5.935635939932388,
          "cluster 4": 2,
          "country": "honduras",
          "region": "north_america",
          "strain": "HND/2016/HU_ME131"
         },
         {
          "cluster 1": 63,
          "cluster 2": 75,
          "cluster 3": 6.00406021446265,
          "cluster 4": 2,
          "country": "honduras",
          "region": "north_america",
          "strain": "HND/2016/HU_ME136"
         },
         {
          "cluster 1": 164,
          "cluster 2": 178,
          "cluster 3": 6.210836581068687,
          "cluster 4": 2,
          "country": "honduras",
          "region": "north_america",
          "strain": "HND/2016/HU_ME137"
         },
         {
          "cluster 1": 122,
          "cluster 2": 198,
          "cluster 3": 6.423391108657304,
          "cluster 4": 2,
          "country": "honduras",
          "region": "north_america",
          "strain": "HND/2016/HU_ME147"
         },
         {
          "cluster 1": 187,
          "cluster 2": 207,
          "cluster 3": 6.604323898887644,
          "cluster 4": 2,
          "country": "honduras",
          "region": "north_america",
          "strain": "HND/2016/HU_ME152"
         },
         {
          "cluster 1": 54,
          "cluster 2": 78,
          "cluster 3": 6.640482678792845,
          "cluster 4": 2,
          "country": "honduras",
          "region": "north_america",
          "strain": "HND/2016/HU_ME156"
         },
         {
          "cluster 1": 405,
          "cluster 2": 406,
          "cluster 3": 6.647303518961186,
          "cluster 4": 2,
          "country": "honduras",
          "region": "north_america",
          "strain": "HND/2016/HU_ME167"
         },
         {
          "cluster 1": 259,
          "cluster 2": 282,
          "cluster 3": 6.815331817324916,
          "cluster 4": 2,
          "country": "honduras",
          "region": "north_america",
          "strain": "HND/2016/HU_ME171"
         },
         {
          "cluster 1": 218,
          "cluster 2": 237,
          "cluster 3": 6.8492418899996474,
          "cluster 4": 2,
          "country": "honduras",
          "region": "north_america",
          "strain": "HND/2016/HU_ME172"
         },
         {
          "cluster 1": 82,
          "cluster 2": 154,
          "cluster 3": 7.008342541253868,
          "cluster 4": 2,
          "country": "honduras",
          "region": "north_america",
          "strain": "HND/2016/HU_ME178"
         },
         {
          "cluster 1": 77,
          "cluster 2": 528,
          "cluster 3": 7.116918529872482,
          "cluster 4": 3,
          "country": "honduras",
          "region": "north_america",
          "strain": "HND/2016/HU_ME180"
         },
         {
          "cluster 1": 172,
          "cluster 2": 529,
          "cluster 3": 7.159087806990427,
          "cluster 4": 3,
          "country": "honduras",
          "region": "north_america",
          "strain": "HND/2016/HU_ME33"
         },
         {
          "cluster 1": 377,
          "cluster 2": 378,
          "cluster 3": 7.296701765962529,
          "cluster 4": 2,
          "country": "honduras",
          "region": "north_america",
          "strain": "HND/2016/HU_ME38"
         },
         {
          "cluster 1": 155,
          "cluster 2": 521,
          "cluster 3": 7.3508747372623455,
          "cluster 4": 3,
          "country": "honduras",
          "region": "north_america",
          "strain": "HND/2016/HU_ME42"
         },
         {
          "cluster 1": 9,
          "cluster 2": 74,
          "cluster 3": 7.420763695971242,
          "cluster 4": 2,
          "country": "honduras",
          "region": "north_america",
          "strain": "HND/2016/HU_ME50"
         },
         {
          "cluster 1": 60,
          "cluster 2": 94,
          "cluster 3": 7.650565628244571,
          "cluster 4": 2,
          "country": "honduras",
          "region": "north_america",
          "strain": "HND/2016/HU_ME58"
         },
         {
          "cluster 1": 160,
          "cluster 2": 222,
          "cluster 3": 7.668204532100273,
          "cluster 4": 2,
          "country": "honduras",
          "region": "north_america",
          "strain": "HND/2016/HU_ME59"
         },
         {
          "cluster 1": 22,
          "cluster 2": 88,
          "cluster 3": 7.709269099480078,
          "cluster 4": 2,
          "country": "honduras",
          "region": "north_america",
          "strain": "HND/2016/HU_SZ76"
         },
         {
          "cluster 1": 196,
          "cluster 2": 247,
          "cluster 3": 8.042929582569702,
          "cluster 4": 2,
          "country": "honduras",
          "region": "north_america",
          "strain": "HND/2016/Honduras_1031"
         },
         {
          "cluster 1": 65,
          "cluster 2": 68,
          "cluster 3": 8.248545981474486,
          "cluster 4": 2,
          "country": "honduras",
          "region": "north_america",
          "strain": "HND/2016/Honduras_1055"
         },
         {
          "cluster 1": 130,
          "cluster 2": 518,
          "cluster 3": 8.299415808382493,
          "cluster 4": 3,
          "country": "honduras",
          "region": "north_america",
          "strain": "HND/2016/Honduras_1083"
         },
         {
          "cluster 1": 112,
          "cluster 2": 132,
          "cluster 3": 8.309697077923897,
          "cluster 4": 2,
          "country": "honduras",
          "region": "north_america",
          "strain": "HND/2016/Honduras_1122"
         },
         {
          "cluster 1": 392,
          "cluster 2": 398,
          "cluster 3": 8.324549751322563,
          "cluster 4": 2,
          "country": "honduras",
          "region": "north_america",
          "strain": "HND/2016/Honduras_1138"
         },
         {
          "cluster 1": 67,
          "cluster 2": 72,
          "cluster 3": 8.501627006061652,
          "cluster 4": 2,
          "country": "honduras",
          "region": "north_america",
          "strain": "HND/2016/Honduras_1162"
         },
         {
          "cluster 1": 116,
          "cluster 2": 547,
          "cluster 3": 8.528034750068132,
          "cluster 4": 4,
          "country": "honduras",
          "region": "north_america",
          "strain": "HND/2016/Honduras_24"
         },
         {
          "cluster 1": 274,
          "cluster 2": 294,
          "cluster 3": 8.555761465875552,
          "cluster 4": 2,
          "country": "honduras",
          "region": "north_america",
          "strain": "HND/2016/Honduras_25"
         },
         {
          "cluster 1": 39,
          "cluster 2": 56,
          "cluster 3": 8.62161443340741,
          "cluster 4": 2,
          "country": "honduras",
          "region": "north_america",
          "strain": "HND/2016/Honduras_4102"
         },
         {
          "cluster 1": 79,
          "cluster 2": 177,
          "cluster 3": 8.621838067867536,
          "cluster 4": 2,
          "country": "honduras",
          "region": "north_america",
          "strain": "HND/R103451/2015"
         },
         {
          "cluster 1": 100,
          "cluster 2": 131,
          "cluster 3": 8.647410559739019,
          "cluster 4": 2,
          "country": "honduras",
          "region": "north_america",
          "strain": "V103451"
         },
         {
          "cluster 1": 99,
          "cluster 2": 153,
          "cluster 3": 8.738484075269161,
          "cluster 4": 2,
          "country": "mexico",
          "region": "north_america",
          "strain": "31N"
         },
         {
          "cluster 1": 43,
          "cluster 2": 114,
          "cluster 3": 8.84379140030703,
          "cluster 4": 2,
          "country": "mexico",
          "region": "north_america",
          "strain": "Aedes_aegypti/MEX/MEX_I_44/2016"
         },
         {
          "cluster 1": 16,
          "cluster 2": 95,
          "cluster 3": 8.873333621157345,
          "cluster 4": 2,
          "country": "mexico",
          "region": "north_america",
          "strain": "Aedes_sp/MEX_I_44/2016"
         },
         {
          "cluster 1": 185,
          "cluster 2": 192,
          "cluster 3": 8.948974575339314,
          "cluster 4": 2,
          "country": "mexico",
          "region": "north_america",
          "strain": "Aedessp/MEX/MEX_2_81/2016"
         },
         {
          "cluster 1": 151,
          "cluster 2": 224,
          "cluster 3": 9.036383997747633,
          "cluster 4": 2,
          "country": "mexico",
          "region": "north_america",
          "strain": "Aedessp/MEX/MEX_I_7/2016"
         },
         {
          "cluster 1": 107,
          "cluster 2": 553,
          "cluster 3": 9.042974820834248,
          "cluster 4": 3,
          "country": "mexico",
          "region": "north_america",
          "strain": "ENCB165P4"
         },
         {
          "cluster 1": 343,
          "cluster 2": 358,
          "cluster 3": 9.110758120102819,
          "cluster 4": 2,
          "country": "mexico",
          "region": "north_america",
          "strain": "MEX/2016/Mexico_1"
         },
         {
          "cluster 1": 105,
          "cluster 2": 109,
          "cluster 3": 9.49614383954375,
          "cluster 4": 2,
          "country": "mexico",
          "region": "north_america",
          "strain": "MEX/2016/Mexico_3502"
         },
         {
          "cluster 1": 42,
          "cluster 2": 136,
          "cluster 3": 9.6920718314397,
          "cluster 4": 2,
          "country": "mexico",
          "region": "north_america",
          "strain": "MEX/2016/Mexico_4227"
         },
         {
          "cluster 1": 111,
          "cluster 2": 539,
          "cluster 3": 9.69868137775001,
          "cluster 4": 3,
          "country": "mexico",
          "region": "north_america",
          "strain": "MEX/2016/mex01"
         },
         {
          "cluster 1": 423,
          "cluster 2": 428,
          "cluster 3": 9.72724103496392,
          "cluster 4": 2,
          "country": "mexico",
          "region": "north_america",
          "strain": "MEX/2016/mex04"
         },
         {
          "cluster 1": 195,
          "cluster 2": 215,
          "cluster 3": 9.807234373365604,
          "cluster 4": 2,
          "country": "mexico",
          "region": "north_america",
          "strain": "MEX/2016/mex05"
         },
         {
          "cluster 1": 10,
          "cluster 2": 70,
          "cluster 3": 9.911877447760316,
          "cluster 4": 2,
          "country": "mexico",
          "region": "north_america",
          "strain": "MEX/2016/mex14"
         },
         {
          "cluster 1": 197,
          "cluster 2": 231,
          "cluster 3": 10.109618950103844,
          "cluster 4": 2,
          "country": "mexico",
          "region": "north_america",
          "strain": "MEX/2016/mex16"
         },
         {
          "cluster 1": 289,
          "cluster 2": 310,
          "cluster 3": 10.124032265119562,
          "cluster 4": 2,
          "country": "mexico",
          "region": "north_america",
          "strain": "MEX/2016/mex17"
         },
         {
          "cluster 1": 520,
          "cluster 2": 530,
          "cluster 3": 10.230722539855632,
          "cluster 4": 5,
          "country": "mexico",
          "region": "north_america",
          "strain": "MEX/2016/mex19"
         },
         {
          "cluster 1": 257,
          "cluster 2": 269,
          "cluster 3": 10.251988111633823,
          "cluster 4": 2,
          "country": "mexico",
          "region": "north_america",
          "strain": "MEX/2016/mex20"
         },
         {
          "cluster 1": 2,
          "cluster 2": 84,
          "cluster 3": 10.257301174390957,
          "cluster 4": 2,
          "country": "mexico",
          "region": "north_america",
          "strain": "MEX/2016/mex23"
         },
         {
          "cluster 1": 317,
          "cluster 2": 525,
          "cluster 3": 10.263211634002312,
          "cluster 4": 3,
          "country": "mexico",
          "region": "north_america",
          "strain": "MEX/2016/mex24"
         },
         {
          "cluster 1": 159,
          "cluster 2": 165,
          "cluster 3": 10.30656306415391,
          "cluster 4": 2,
          "country": "mexico",
          "region": "north_america",
          "strain": "MEX/2016/mex25"
         },
         {
          "cluster 1": 49,
          "cluster 2": 59,
          "cluster 3": 10.32375036072892,
          "cluster 4": 2,
          "country": "mexico",
          "region": "north_america",
          "strain": "MEX/2016/mex26"
         },
         {
          "cluster 1": 1,
          "cluster 2": 33,
          "cluster 3": 10.471610801863658,
          "cluster 4": 2,
          "country": "mexico",
          "region": "north_america",
          "strain": "MEX/2016/mex27"
         },
         {
          "cluster 1": 249,
          "cluster 2": 540,
          "cluster 3": 10.526920770778455,
          "cluster 4": 3,
          "country": "mexico",
          "region": "north_america",
          "strain": "MEX/2016/mex28"
         },
         {
          "cluster 1": 168,
          "cluster 2": 235,
          "cluster 3": 10.558203220483412,
          "cluster 4": 2,
          "country": "mexico",
          "region": "north_america",
          "strain": "MEX/2016/mex29"
         },
         {
          "cluster 1": 7,
          "cluster 2": 515,
          "cluster 3": 10.597708762629795,
          "cluster 4": 3,
          "country": "mexico",
          "region": "north_america",
          "strain": "MEX/2016/mex30"
         },
         {
          "cluster 1": 242,
          "cluster 2": 248,
          "cluster 3": 10.695525869889096,
          "cluster 4": 2,
          "country": "mexico",
          "region": "north_america",
          "strain": "MEX/2016/mex31"
         },
         {
          "cluster 1": 13,
          "cluster 2": 21,
          "cluster 3": 10.815210087794476,
          "cluster 4": 2,
          "country": "mexico",
          "region": "north_america",
          "strain": "MEX/2016/mex32"
         },
         {
          "cluster 1": 40,
          "cluster 2": 580,
          "cluster 3": 10.866134516500285,
          "cluster 4": 6,
          "country": "mexico",
          "region": "north_america",
          "strain": "MEX/2016/mex33"
         },
         {
          "cluster 1": 465,
          "cluster 2": 466,
          "cluster 3": 10.883786492449818,
          "cluster 4": 2,
          "country": "mexico",
          "region": "north_america",
          "strain": "MEX/2016/mex34"
         },
         {
          "cluster 1": 86,
          "cluster 2": 531,
          "cluster 3": 10.894989181566773,
          "cluster 4": 3,
          "country": "mexico",
          "region": "north_america",
          "strain": "MEX/2016/mex35"
         },
         {
          "cluster 1": 20,
          "cluster 2": 66,
          "cluster 3": 10.942678008584357,
          "cluster 4": 2,
          "country": "mexico",
          "region": "north_america",
          "strain": "MEX/2016/mex36"
         },
         {
          "cluster 1": 93,
          "cluster 2": 148,
          "cluster 3": 10.957192769824015,
          "cluster 4": 2,
          "country": "mexico",
          "region": "north_america",
          "strain": "MEX/2016/mex37"
         },
         {
          "cluster 1": 106,
          "cluster 2": 584,
          "cluster 3": 11.166137478060822,
          "cluster 4": 3,
          "country": "mexico",
          "region": "north_america",
          "strain": "MEX/2016/mex38"
         },
         {
          "cluster 1": 15,
          "cluster 2": 24,
          "cluster 3": 11.208248911830424,
          "cluster 4": 2,
          "country": "mexico",
          "region": "north_america",
          "strain": "MEX/2016/mex40"
         },
         {
          "cluster 1": 201,
          "cluster 2": 203,
          "cluster 3": 11.449930885378388,
          "cluster 4": 2,
          "country": "mexico",
          "region": "north_america",
          "strain": "MEX/2016/mex42"
         },
         {
          "cluster 1": 126,
          "cluster 2": 516,
          "cluster 3": 11.514800635243825,
          "cluster 4": 3,
          "country": "mexico",
          "region": "north_america",
          "strain": "MEX/2016/mex43"
         },
         {
          "cluster 1": 146,
          "cluster 2": 570,
          "cluster 3": 11.622432040031818,
          "cluster 4": 4,
          "country": "mexico",
          "region": "north_america",
          "strain": "MEX/2016/mex44"
         },
         {
          "cluster 1": 523,
          "cluster 2": 538,
          "cluster 3": 11.636423059466035,
          "cluster 4": 4,
          "country": "mexico",
          "region": "north_america",
          "strain": "MEX/2016/mex45"
         },
         {
          "cluster 1": 180,
          "cluster 2": 208,
          "cluster 3": 11.670699407946948,
          "cluster 4": 2,
          "country": "mexico",
          "region": "north_america",
          "strain": "MEX/2016/mex46"
         },
         {
          "cluster 1": 267,
          "cluster 2": 296,
          "cluster 3": 11.677531015063986,
          "cluster 4": 2,
          "country": "mexico",
          "region": "north_america",
          "strain": "MEX/2016/mex47"
         },
         {
          "cluster 1": 286,
          "cluster 2": 316,
          "cluster 3": 11.852080580372583,
          "cluster 4": 2,
          "country": "mexico",
          "region": "north_america",
          "strain": "MEX/2016/mex50"
         },
         {
          "cluster 1": 457,
          "cluster 2": 459,
          "cluster 3": 11.975360005681008,
          "cluster 4": 2,
          "country": "mexico",
          "region": "north_america",
          "strain": "MEX/41_001_F_V3_O/2016"
         },
         {
          "cluster 1": 46,
          "cluster 2": 591,
          "cluster 3": 11.994669392436208,
          "cluster 4": 3,
          "country": "mexico",
          "region": "north_america",
          "strain": "MEX/41_001_F_V7_O/2016"
         },
         {
          "cluster 1": 372,
          "cluster 2": 391,
          "cluster 3": 12.188500372414092,
          "cluster 4": 2,
          "country": "mexico",
          "region": "north_america",
          "strain": "MEX/41_006_F_V0_O/2016"
         },
         {
          "cluster 1": 298,
          "cluster 2": 299,
          "cluster 3": 12.207098450365912,
          "cluster 4": 2,
          "country": "mexico",
          "region": "north_america",
          "strain": "MEX/41_006_F_V7_O/2016"
         },
         {
          "cluster 1": 381,
          "cluster 2": 382,
          "cluster 3": 12.247947967724834,
          "cluster 4": 2,
          "country": "mexico",
          "region": "north_america",
          "strain": "MEX/41_017_F_V0_O/2016"
         },
         {
          "cluster 1": 407,
          "cluster 2": 420,
          "cluster 3": 12.391138113950339,
          "cluster 4": 2,
          "country": "mexico",
          "region": "north_america",
          "strain": "MEX/41_017_F_V3_O/2016"
         },
         {
          "cluster 1": 129,
          "cluster 2": 217,
          "cluster 3": 12.441707265572525,
          "cluster 4": 2,
          "country": "mexico",
          "region": "north_america",
          "strain": "MEX/41_017_F_V7_O/2016"
         },
         {
          "cluster 1": 361,
          "cluster 2": 365,
          "cluster 3": 12.52935663586004,
          "cluster 4": 2,
          "country": "mexico",
          "region": "north_america",
          "strain": "MEX/41_022_F_V0_O/2016"
         },
         {
          "cluster 1": 81,
          "cluster 2": 119,
          "cluster 3": 12.57346673353129,
          "cluster 4": 2,
          "country": "mexico",
          "region": "north_america",
          "strain": "MEX/41_022_F_V3_O/2016"
         },
         {
          "cluster 1": 23,
          "cluster 2": 564,
          "cluster 3": 12.63617496256067,
          "cluster 4": 3,
          "country": "mexico",
          "region": "north_america",
          "strain": "MEX/41_022_F_V7_O/2016"
         },
         {
          "cluster 1": 333,
          "cluster 2": 351,
          "cluster 3": 12.660269418788545,
          "cluster 4": 2,
          "country": "mexico",
          "region": "north_america",
          "strain": "MEX/41_023_F_V3_O/2016"
         },
         {
          "cluster 1": 216,
          "cluster 2": 549,
          "cluster 3": 12.724484988354472,
          "cluster 4": 4,
          "country": "mexico",
          "region": "north_america",
          "strain": "MEX/41_023_F_V7_O/2016"
         },
         {
          "cluster 1": 152,
          "cluster 2": 223,
          "cluster 3": 12.834477909740626,
          "cluster 4": 2,
          "country": "mexico",
          "region": "north_america",
          "strain": "MEX/42_001_F_V0_O/2016"
         },
         {
          "cluster 1": 36,
          "cluster 2": 149,
          "cluster 3": 12.876460733168944,
          "cluster 4": 2,
          "country": "mexico",
          "region": "north_america",
          "strain": "MEX/42_001_F_V3_O/2016"
         },
         {
          "cluster 1": 128,
          "cluster 2": 546,
          "cluster 3": 12.909715302966662,
          "cluster 4": 4,
          "country": "mexico",
          "region": "north_america",
          "strain": "MEX/42_007_F_V3_O/2016"
         },
         {
          "cluster 1": 385,
          "cluster 2": 548,
          "cluster 3": 13.221921443896466,
          "cluster 4": 3,
          "country": "mexico",
          "region": "north_america",
          "strain": "MEX/42_016_F_V0_O/2016"
         },
         {
          "cluster 1": 30,
          "cluster 2": 35,
          "cluster 3": 13.35891038911876,
          "cluster 4": 2,
          "country": "mexico",
          "region": "north_america",
          "strain": "MEX/42_018_F_V3_O/2016"
         },
         {
          "cluster 1": 147,
          "cluster 2": 541,
          "cluster 3": 13.415119567819007,
          "cluster 4": 3,
          "country": "mexico",
          "region": "north_america",
          "strain": "MEX/42_018_F_V7_O/2016"
         },
         {
          "cluster 1": 226,
          "cluster 2": 560,
          "cluster 3": 13.453925042273491,
          "cluster 4": 5,
          "country": "mexico",
          "region": "north_america",
          "strain": "MEX/43_023_F_V0_O/2016"
         },
         {
          "cluster 1": 156,
          "cluster 2": 263,
          "cluster 3": 13.5796250787114,
          "cluster 4": 2,
          "country": "mexico",
          "region": "north_america",
          "strain": "MEX/43_023_F_V3_O/2016"
         },
         {
          "cluster 1": 125,
          "cluster 2": 174,
          "cluster 3": 13.62295797504618,
          "cluster 4": 2,
          "country": "mexico",
          "region": "north_america",
          "strain": "MEX/InDRE/2016"
         },
         {
          "cluster 1": 69,
          "cluster 2": 103,
          "cluster 3": 13.641673784639165,
          "cluster 4": 2,
          "country": "mexico",
          "region": "north_america",
          "strain": "MEX/R116265/2016"
         },
         {
          "cluster 1": 175,
          "cluster 2": 565,
          "cluster 3": 13.673387309279033,
          "cluster 4": 3,
          "country": "mexico",
          "region": "north_america",
          "strain": "MEX_CIENI551"
         },
         {
          "cluster 1": 104,
          "cluster 2": 118,
          "cluster 3": 13.708683633097072,
          "cluster 4": 2,
          "country": "mexico",
          "region": "north_america",
          "strain": "MEX_ENCB165"
         },
         {
          "cluster 1": 306,
          "cluster 2": 313,
          "cluster 3": 13.745389124957596,
          "cluster 4": 2,
          "country": "mexico",
          "region": "north_america",
          "strain": "MEX_I_7"
         },
         {
          "cluster 1": 253,
          "cluster 2": 311,
          "cluster 3": 13.826848400307691,
          "cluster 4": 2,
          "country": "mexico",
          "region": "north_america",
          "strain": "Mex03/Mexico/2016"
         },
         {
          "cluster 1": 55,
          "cluster 2": 535,
          "cluster 3": 13.868183909139455,
          "cluster 4": 3,
          "country": "mexico",
          "region": "north_america",
          "strain": "Mexico/INPER38b/2016"
         },
         {
          "cluster 1": 262,
          "cluster 2": 543,
          "cluster 3": 13.977268016462352,
          "cluster 4": 3,
          "country": "mexico",
          "region": "north_america",
          "strain": "Mexico_Rus_10GNN_2016"
         },
         {
          "cluster 1": 461,
          "cluster 2": 463,
          "cluster 3": 13.996855068247132,
          "cluster 4": 2,
          "country": "mexico",
          "region": "north_america",
          "strain": "Mexico_Rus_12TVR_2017"
         },
         {
          "cluster 1": 337,
          "cluster 2": 342,
          "cluster 3": 14.274933582176958,
          "cluster 4": 2,
          "country": "mexico",
          "region": "north_america",
          "strain": "R116265"
         },
         {
          "cluster 1": 31,
          "cluster 2": 188,
          "cluster 3": 14.275890360098545,
          "cluster 4": 2,
          "country": "mexico",
          "region": "north_america",
          "strain": "USA/UT_1/2016"
         },
         {
          "cluster 1": 276,
          "cluster 2": 290,
          "cluster 3": 14.302354079553604,
          "cluster 4": 2,
          "country": "mexico",
          "region": "north_america",
          "strain": "mex07/Mexico/2016"
         },
         {
          "cluster 1": 266,
          "cluster 2": 583,
          "cluster 3": 14.40452786361383,
          "cluster 4": 4,
          "country": "mexico",
          "region": "north_america",
          "strain": "mex39/Mexico/2016"
         },
         {
          "cluster 1": 246,
          "cluster 2": 264,
          "cluster 3": 14.409106565795035,
          "cluster 4": 2,
          "country": "mexico",
          "region": "north_america",
          "strain": "mex48/Mexico/2016"
         },
         {
          "cluster 1": 176,
          "cluster 2": 250,
          "cluster 3": 14.563515997553278,
          "cluster 4": 2,
          "country": "japan",
          "region": "japan_korea",
          "strain": "3216DP137"
         },
         {
          "cluster 1": 28,
          "cluster 2": 169,
          "cluster 3": 14.594255341630175,
          "cluster 4": 2,
          "country": "japan",
          "region": "japan_korea",
          "strain": "Yokohama/1/2016"
         },
         {
          "cluster 1": 467,
          "cluster 2": 468,
          "cluster 3": 14.700083163098569,
          "cluster 4": 2,
          "country": "italy",
          "region": "europe",
          "strain": "34997/Pavia/2016"
         },
         {
          "cluster 1": 362,
          "cluster 2": 375,
          "cluster 3": 15.038967118184846,
          "cluster 4": 2,
          "country": "italy",
          "region": "europe",
          "strain": "Dominican_Republic/2016/PD2"
         },
         {
          "cluster 1": 12,
          "cluster 2": 18,
          "cluster 3": 15.049257323992611,
          "cluster 4": 2,
          "country": "italy",
          "region": "europe",
          "strain": "VR10599/Pavia/2016"
         },
         {
          "cluster 1": 58,
          "cluster 2": 566,
          "cluster 3": 15.112952618406988,
          "cluster 4": 3,
          "country": "colombia",
          "region": "south_america",
          "strain": "459148_Meta_Colombia_2016"
         },
         {
          "cluster 1": 411,
          "cluster 2": 416,
          "cluster 3": 15.130124168110973,
          "cluster 4": 2,
          "country": "colombia",
          "region": "south_america",
          "strain": "Aedes_aegypti/COL/FH04/2016"
         },
         {
          "cluster 1": 336,
          "cluster 2": 344,
          "cluster 3": 15.133686987423616,
          "cluster 4": 2,
          "country": "colombia",
          "region": "south_america",
          "strain": "COL/2016/SU_1810A"
         },
         {
          "cluster 1": 475,
          "cluster 2": 476,
          "cluster 3": 15.13722222985461,
          "cluster 4": 2,
          "country": "colombia",
          "region": "south_america",
          "strain": "COL/2016/SU_1856A"
         },
         {
          "cluster 1": 25,
          "cluster 2": 37,
          "cluster 3": 15.310870947073292,
          "cluster 4": 2,
          "country": "colombia",
          "region": "south_america",
          "strain": "COL/2016/SU_2293A"
         },
         {
          "cluster 1": 194,
          "cluster 2": 202,
          "cluster 3": 15.321708877690051,
          "cluster 4": 2,
          "country": "colombia",
          "region": "south_america",
          "strain": "COL/2016/SU_2724A"
         },
         {
          "cluster 1": 409,
          "cluster 2": 415,
          "cluster 3": 15.330624690845951,
          "cluster 4": 2,
          "country": "colombia",
          "region": "south_america",
          "strain": "COL/FCC00093/2015"
         },
         {
          "cluster 1": 318,
          "cluster 2": 322,
          "cluster 3": 15.629000615978985,
          "cluster 4": 2,
          "country": "colombia",
          "region": "south_america",
          "strain": "COL/FH02/2016"
         },
         {
          "cluster 1": 303,
          "cluster 2": 524,
          "cluster 3": 15.660115354169143,
          "cluster 4": 3,
          "country": "colombia",
          "region": "south_america",
          "strain": "COL/FH03/2016"
         },
         {
          "cluster 1": 396,
          "cluster 2": 402,
          "cluster 3": 15.80231379878576,
          "cluster 4": 2,
          "country": "colombia",
          "region": "south_america",
          "strain": "COL/FH05/2016"
         },
         {
          "cluster 1": 554,
          "cluster 2": 594,
          "cluster 3": 15.812973908147544,
          "cluster 4": 5,
          "country": "colombia",
          "region": "south_america",
          "strain": "COL/FH07/2016"
         },
         {
          "cluster 1": 71,
          "cluster 2": 102,
          "cluster 3": 15.94127856629861,
          "cluster 4": 2,
          "country": "colombia",
          "region": "south_america",
          "strain": "COL/FH09/2016"
         },
         {
          "cluster 1": 166,
          "cluster 2": 545,
          "cluster 3": 15.953931288918051,
          "cluster 4": 3,
          "country": "colombia",
          "region": "south_america",
          "strain": "COL/FH16/2015"
         },
         {
          "cluster 1": 50,
          "cluster 2": 617,
          "cluster 3": 15.98647092333637,
          "cluster 4": 5,
          "country": "colombia",
          "region": "south_america",
          "strain": "COL/FH16/2016"
         },
         {
          "cluster 1": 573,
          "cluster 2": 595,
          "cluster 3": 16.006127213126096,
          "cluster 4": 4,
          "country": "colombia",
          "region": "south_america",
          "strain": "COL/FH19/2015"
         },
         {
          "cluster 1": 537,
          "cluster 2": 567,
          "cluster 3": 16.010960367983174,
          "cluster 4": 4,
          "country": "colombia",
          "region": "south_america",
          "strain": "COL/FH19/2016"
         },
         {
          "cluster 1": 238,
          "cluster 2": 304,
          "cluster 3": 16.131644227447364,
          "cluster 4": 2,
          "country": "colombia",
          "region": "south_america",
          "strain": "COL/FLR/2015"
         },
         {
          "cluster 1": 171,
          "cluster 2": 189,
          "cluster 3": 16.186438282566048,
          "cluster 4": 2,
          "country": "colombia",
          "region": "south_america",
          "strain": "COL/FLR_00001/2015"
         },
         {
          "cluster 1": 44,
          "cluster 2": 120,
          "cluster 3": 16.19529718137386,
          "cluster 4": 2,
          "country": "colombia",
          "region": "south_america",
          "strain": "COL/FLR_00002/2015"
         },
         {
          "cluster 1": 170,
          "cluster 2": 581,
          "cluster 3": 16.22496504307969,
          "cluster 4": 3,
          "country": "colombia",
          "region": "south_america",
          "strain": "COL/FLR_00003/2015"
         },
         {
          "cluster 1": 220,
          "cluster 2": 534,
          "cluster 3": 16.233714097928104,
          "cluster 4": 3,
          "country": "colombia",
          "region": "south_america",
          "strain": "COL/FLR_00004/2015"
         },
         {
          "cluster 1": 4,
          "cluster 2": 645,
          "cluster 3": 16.35199892135441,
          "cluster 4": 4,
          "country": "colombia",
          "region": "south_america",
          "strain": "COL/FLR_00005/2015"
         },
         {
          "cluster 1": 388,
          "cluster 2": 390,
          "cluster 3": 16.43288958688683,
          "cluster 4": 2,
          "country": "colombia",
          "region": "south_america",
          "strain": "COL/FLR_00006/2015"
         },
         {
          "cluster 1": 29,
          "cluster 2": 586,
          "cluster 3": 16.489986755411056,
          "cluster 4": 3,
          "country": "colombia",
          "region": "south_america",
          "strain": "COL/FLR_00007/2015"
         },
         {
          "cluster 1": 45,
          "cluster 2": 550,
          "cluster 3": 16.494790435711078,
          "cluster 4": 3,
          "country": "colombia",
          "region": "south_america",
          "strain": "COL/FLR_00008/2015"
         },
         {
          "cluster 1": 436,
          "cluster 2": 440,
          "cluster 3": 16.55920545322546,
          "cluster 4": 2,
          "country": "colombia",
          "region": "south_america",
          "strain": "COL/FLR_00009/2015"
         },
         {
          "cluster 1": 386,
          "cluster 2": 404,
          "cluster 3": 16.619110438508642,
          "cluster 4": 2,
          "country": "colombia",
          "region": "south_america",
          "strain": "COL/FLR_00010/2015"
         },
         {
          "cluster 1": 451,
          "cluster 2": 454,
          "cluster 3": 16.650096733703535,
          "cluster 4": 2,
          "country": "colombia",
          "region": "south_america",
          "strain": "COL/FLR_00011/2015"
         },
         {
          "cluster 1": 85,
          "cluster 2": 587,
          "cluster 3": 16.880700250172655,
          "cluster 4": 4,
          "country": "colombia",
          "region": "south_america",
          "strain": "COL/FLR_00012/2015"
         },
         {
          "cluster 1": 123,
          "cluster 2": 213,
          "cluster 3": 16.965075234106767,
          "cluster 4": 2,
          "country": "colombia",
          "region": "south_america",
          "strain": "COL/FLR_00013/2015"
         },
         {
          "cluster 1": 329,
          "cluster 2": 332,
          "cluster 3": 16.977265445037983,
          "cluster 4": 2,
          "country": "colombia",
          "region": "south_america",
          "strain": "COL/FLR_00014/2015"
         },
         {
          "cluster 1": 52,
          "cluster 2": 137,
          "cluster 3": 17.005548292979807,
          "cluster 4": 2,
          "country": "colombia",
          "region": "south_america",
          "strain": "COL/FLR_00015/2015"
         },
         {
          "cluster 1": 410,
          "cluster 2": 418,
          "cluster 3": 17.257002316630473,
          "cluster 4": 2,
          "country": "colombia",
          "region": "south_america",
          "strain": "COL/FLR_00016/2015"
         },
         {
          "cluster 1": 41,
          "cluster 2": 555,
          "cluster 3": 17.275042965901182,
          "cluster 4": 3,
          "country": "colombia",
          "region": "south_america",
          "strain": "COL/FLR_00017/2015"
         },
         {
          "cluster 1": 261,
          "cluster 2": 544,
          "cluster 3": 17.285054070798257,
          "cluster 4": 3,
          "country": "colombia",
          "region": "south_america",
          "strain": "COL/FLR_00018/2015"
         },
         {
          "cluster 1": 206,
          "cluster 2": 552,
          "cluster 3": 17.388753186311224,
          "cluster 4": 3,
          "country": "colombia",
          "region": "south_america",
          "strain": "COL/FLR_00019/2015"
         },
         {
          "cluster 1": 158,
          "cluster 2": 574,
          "cluster 3": 17.40750417522149,
          "cluster 4": 4,
          "country": "colombia",
          "region": "south_america",
          "strain": "COL/FLR_00020/2015"
         },
         {
          "cluster 1": 486,
          "cluster 2": 487,
          "cluster 3": 17.421522536463012,
          "cluster 4": 2,
          "country": "colombia",
          "region": "south_america",
          "strain": "COL/FLR_00021/2015"
         },
         {
          "cluster 1": 359,
          "cluster 2": 367,
          "cluster 3": 17.488494429432546,
          "cluster 4": 2,
          "country": "colombia",
          "region": "south_america",
          "strain": "COL/FLR_00022/2015"
         },
         {
          "cluster 1": 271,
          "cluster 2": 295,
          "cluster 3": 17.5053004067794,
          "cluster 4": 2,
          "country": "colombia",
          "region": "south_america",
          "strain": "COL/FLR_00023/2015"
         },
         {
          "cluster 1": 445,
          "cluster 2": 449,
          "cluster 3": 17.81373288810188,
          "cluster 4": 2,
          "country": "colombia",
          "region": "south_america",
          "strain": "COL/FLR_00024/2015"
         },
         {
          "cluster 1": 401,
          "cluster 2": 542,
          "cluster 3": 18.05411474207113,
          "cluster 4": 3,
          "country": "colombia",
          "region": "south_america",
          "strain": "COL/FLR_00025/2015"
         },
         {
          "cluster 1": 443,
          "cluster 2": 448,
          "cluster 3": 18.08629592423261,
          "cluster 4": 2,
          "country": "colombia",
          "region": "south_america",
          "strain": "COL/FLR_00026/2015"
         },
         {
          "cluster 1": 338,
          "cluster 2": 348,
          "cluster 3": 18.093674971017634,
          "cluster 4": 2,
          "country": "colombia",
          "region": "south_america",
          "strain": "COL/FLR_00034/2015"
         },
         {
          "cluster 1": 89,
          "cluster 2": 590,
          "cluster 3": 18.243715511745282,
          "cluster 4": 3,
          "country": "colombia",
          "region": "south_america",
          "strain": "COL/FLR_00035/2015"
         },
         {
          "cluster 1": 232,
          "cluster 2": 255,
          "cluster 3": 18.417911371580132,
          "cluster 4": 2,
          "country": "colombia",
          "region": "south_america",
          "strain": "COL/FLR_00036/2015"
         },
         {
          "cluster 1": 142,
          "cluster 2": 181,
          "cluster 3": 18.662161050699485,
          "cluster 4": 2,
          "country": "colombia",
          "region": "south_america",
          "strain": "COL/FLR_00038/2015"
         },
         {
          "cluster 1": 145,
          "cluster 2": 607,
          "cluster 3": 18.695915698202235,
          "cluster 4": 4,
          "country": "colombia",
          "region": "south_america",
          "strain": "COL/FLR_00040/2015"
         },
         {
          "cluster 1": 32,
          "cluster 2": 522,
          "cluster 3": 18.77789009043754,
          "cluster 4": 3,
          "country": "colombia",
          "region": "south_america",
          "strain": "COL/FLR_00041/2015"
         },
         {
          "cluster 1": 397,
          "cluster 2": 403,
          "cluster 3": 18.866223570905287,
          "cluster 4": 2,
          "country": "colombia",
          "region": "south_america",
          "strain": "COL/FLR_00042/2015"
         },
         {
          "cluster 1": 297,
          "cluster 2": 625,
          "cluster 3": 19.241029888509956,
          "cluster 4": 3,
          "country": "colombia",
          "region": "south_america",
          "strain": "COL/PAN_00029/2015"
         },
         {
          "cluster 1": 98,
          "cluster 2": 532,
          "cluster 3": 19.254417026698057,
          "cluster 4": 3,
          "country": "colombia",
          "region": "south_america",
          "strain": "COL/PAN_00030/2015"
         },
         {
          "cluster 1": 325,
          "cluster 2": 357,
          "cluster 3": 19.26955109985166,
          "cluster 4": 2,
          "country": "colombia",
          "region": "south_america",
          "strain": "COL/PRV_00027/2015"
         },
         {
          "cluster 1": 234,
          "cluster 2": 239,
          "cluster 3": 19.324532687611526,
          "cluster 4": 2,
          "country": "colombia",
          "region": "south_america",
          "strain": "COL/PRV_00028/2015"
         },
         {
          "cluster 1": 260,
          "cluster 2": 330,
          "cluster 3": 19.380949321259344,
          "cluster 4": 2,
          "country": "colombia",
          "region": "south_america",
          "strain": "COL/UF_1/2016"
         },
         {
          "cluster 1": 414,
          "cluster 2": 575,
          "cluster 3": 19.52590225319659,
          "cluster 4": 3,
          "country": "colombia",
          "region": "south_america",
          "strain": "COL345Si"
         },
         {
          "cluster 1": 139,
          "cluster 2": 557,
          "cluster 3": 19.774648522801737,
          "cluster 4": 3,
          "country": "colombia",
          "region": "south_america",
          "strain": "Colombia/2016/ZC188Se"
         },
         {
          "cluster 1": 596,
          "cluster 2": 622,
          "cluster 3": 19.850610219174133,
          "cluster 4": 4,
          "country": "colombia",
          "region": "south_america",
          "strain": "Colombia/2016/ZC192Se"
         },
         {
          "cluster 1": 64,
          "cluster 2": 655,
          "cluster 3": 19.898029620748172,
          "cluster 4": 6,
          "country": "colombia",
          "region": "south_america",
          "strain": "Colombia/2016/ZC199Se"
         },
         {
          "cluster 1": 419,
          "cluster 2": 430,
          "cluster 3": 20.01793792739967,
          "cluster 4": 2,
          "country": "colombia",
          "region": "south_america",
          "strain": "Colombia/2016/ZC204Se"
         },
         {
          "cluster 1": 228,
          "cluster 2": 321,
          "cluster 3": 20.203366751015206,
          "cluster 4": 2,
          "country": "colombia",
          "region": "south_america",
          "strain": "Colombia/2016/ZC207Se"
         },
         {
          "cluster 1": 619,
          "cluster 2": 665,
          "cluster 3": 20.22005413443739,
          "cluster 4": 5,
          "country": "colombia",
          "region": "south_america",
          "strain": "FLA"
         },
         {
          "cluster 1": 230,
          "cluster 2": 293,
          "cluster 3": 20.357027063154156,
          "cluster 4": 2,
          "country": "usa",
          "region": "north_america",
          "strain": "Aedes_aegypti/USA/2016/FL01"
         },
         {
          "cluster 1": 563,
          "cluster 2": 602,
          "cluster 3": 20.518296143777707,
          "cluster 4": 6,
          "country": "usa",
          "region": "north_america",
          "strain": "Aedes_aegypti/USA/2016/FL02"
         },
         {
          "cluster 1": 97,
          "cluster 2": 623,
          "cluster 3": 20.82095748229955,
          "cluster 4": 4,
          "country": "usa",
          "region": "north_america",
          "strain": "Aedes_aegypti/USA/2016/FL03"
         },
         {
          "cluster 1": 272,
          "cluster 2": 277,
          "cluster 3": 20.911285629174856,
          "cluster 4": 2,
          "country": "usa",
          "region": "north_america",
          "strain": "Aedes_aegypti/USA/2016/FL04"
         },
         {
          "cluster 1": 562,
          "cluster 2": 572,
          "cluster 3": 21.09257092948944,
          "cluster 4": 4,
          "country": "usa",
          "region": "north_america",
          "strain": "Aedes_aegypti/USA/2016/FL05"
         },
         {
          "cluster 1": 479,
          "cluster 2": 480,
          "cluster 3": 21.292105716394477,
          "cluster 4": 2,
          "country": "usa",
          "region": "north_america",
          "strain": "Aedes_aegypti/USA/2016/FL06"
         },
         {
          "cluster 1": 200,
          "cluster 2": 577,
          "cluster 3": 21.674155358077684,
          "cluster 4": 3,
          "country": "usa",
          "region": "north_america",
          "strain": "Aedes_aegypti/USA/2016/FL08"
         },
         {
          "cluster 1": 450,
          "cluster 2": 453,
          "cluster 3": 22.108220716153042,
          "cluster 4": 2,
          "country": "usa",
          "region": "north_america",
          "strain": "MB16_23"
         },
         {
          "cluster 1": 273,
          "cluster 2": 281,
          "cluster 3": 22.12022874082551,
          "cluster 4": 2,
          "country": "usa",
          "region": "north_america",
          "strain": "USA/2016/FL010"
         },
         {
          "cluster 1": 134,
          "cluster 2": 569,
          "cluster 3": 22.19299120716294,
          "cluster 4": 3,
          "country": "usa",
          "region": "north_america",
          "strain": "USA/2016/FL019"
         },
         {
          "cluster 1": 205,
          "cluster 2": 609,
          "cluster 3": 22.329976965390102,
          "cluster 4": 3,
          "country": "usa",
          "region": "north_america",
          "strain": "USA/2016/FL021"
         },
         {
          "cluster 1": 399,
          "cluster 2": 677,
          "cluster 3": 22.408367934364524,
          "cluster 4": 3,
          "country": "usa",
          "region": "north_america",
          "strain": "USA/2016/FL022"
         },
         {
          "cluster 1": 477,
          "cluster 2": 478,
          "cluster 3": 22.476589422654765,
          "cluster 4": 2,
          "country": "usa",
          "region": "north_america",
          "strain": "USA/2016/FL028"
         },
         {
          "cluster 1": 319,
          "cluster 2": 661,
          "cluster 3": 22.535525164024698,
          "cluster 4": 3,
          "country": "usa",
          "region": "north_america",
          "strain": "USA/2016/FL029"
         },
         {
          "cluster 1": 412,
          "cluster 2": 611,
          "cluster 3": 22.54343965448853,
          "cluster 4": 3,
          "country": "usa",
          "region": "north_america",
          "strain": "USA/2016/FL030"
         },
         {
          "cluster 1": 376,
          "cluster 2": 408,
          "cluster 3": 23.037276530900712,
          "cluster 4": 2,
          "country": "usa",
          "region": "north_america",
          "strain": "USA/2016/FL032"
         },
         {
          "cluster 1": 140,
          "cluster 2": 233,
          "cluster 3": 23.06519155851952,
          "cluster 4": 2,
          "country": "usa",
          "region": "north_america",
          "strain": "USA/2016/FL035"
         },
         {
          "cluster 1": 632,
          "cluster 2": 668,
          "cluster 3": 23.242897933982036,
          "cluster 4": 6,
          "country": "usa",
          "region": "north_america",
          "strain": "USA/2016/FL036"
         },
         {
          "cluster 1": 470,
          "cluster 2": 471,
          "cluster 3": 23.262701378810767,
          "cluster 4": 2,
          "country": "usa",
          "region": "north_america",
          "strain": "USA/2016/FL038"
         },
         {
          "cluster 1": 191,
          "cluster 2": 579,
          "cluster 3": 23.46302427659158,
          "cluster 4": 3,
          "country": "usa",
          "region": "north_america",
          "strain": "USA/2016/FL039"
         },
         {
          "cluster 1": 380,
          "cluster 2": 558,
          "cluster 3": 23.467476677928587,
          "cluster 4": 3,
          "country": "usa",
          "region": "north_america",
          "strain": "USA/2016/FLSR036"
         },
         {
          "cluster 1": 117,
          "cluster 2": 691,
          "cluster 3": 23.541301516534297,
          "cluster 4": 3,
          "country": "usa",
          "region": "north_america",
          "strain": "USA/2016/FLSR043"
         },
         {
          "cluster 1": 38,
          "cluster 2": 615,
          "cluster 3": 23.57997513933668,
          "cluster 4": 4,
          "country": "usa",
          "region": "north_america",
          "strain": "USA/2016/FLUR001"
         },
         {
          "cluster 1": 186,
          "cluster 2": 599,
          "cluster 3": 23.671936973068476,
          "cluster 4": 3,
          "country": "usa",
          "region": "north_america",
          "strain": "USA/2016/FLUR002"
         },
         {
          "cluster 1": 92,
          "cluster 2": 614,
          "cluster 3": 23.690072194340125,
          "cluster 4": 3,
          "country": "usa",
          "region": "north_america",
          "strain": "USA/2016/FLUR005"
         },
         {
          "cluster 1": 345,
          "cluster 2": 571,
          "cluster 3": 23.845517557859772,
          "cluster 4": 3,
          "country": "usa",
          "region": "north_america",
          "strain": "USA/2016/FLUR006"
         },
         {
          "cluster 1": 291,
          "cluster 2": 353,
          "cluster 3": 23.991240188835143,
          "cluster 4": 2,
          "country": "usa",
          "region": "north_america",
          "strain": "USA/2016/FLUR007"
         },
         {
          "cluster 1": 265,
          "cluster 2": 578,
          "cluster 3": 24.00369212303171,
          "cluster 4": 3,
          "country": "usa",
          "region": "north_america",
          "strain": "USA/2016/FLUR008"
         },
         {
          "cluster 1": 433,
          "cluster 2": 438,
          "cluster 3": 24.08387025911835,
          "cluster 4": 2,
          "country": "usa",
          "region": "north_america",
          "strain": "USA/2016/FLUR009"
         },
         {
          "cluster 1": 141,
          "cluster 2": 660,
          "cluster 3": 24.195292553168713,
          "cluster 4": 5,
          "country": "usa",
          "region": "north_america",
          "strain": "USA/2016/FLUR011"
         },
         {
          "cluster 1": 91,
          "cluster 2": 730,
          "cluster 3": 24.230515795164816,
          "cluster 4": 4,
          "country": "usa",
          "region": "north_america",
          "strain": "USA/2016/FLUR013"
         },
         {
          "cluster 1": 87,
          "cluster 2": 598,
          "cluster 3": 24.319609364753358,
          "cluster 4": 3,
          "country": "usa",
          "region": "north_america",
          "strain": "USA/2016/FLUR014"
         },
         {
          "cluster 1": 492,
          "cluster 2": 493,
          "cluster 3": 24.678914240394125,
          "cluster 4": 2,
          "country": "usa",
          "region": "north_america",
          "strain": "USA/2016/FLUR015"
         },
         {
          "cluster 1": 61,
          "cluster 2": 627,
          "cluster 3": 24.91988178514329,
          "cluster 4": 3,
          "country": "usa",
          "region": "north_america",
          "strain": "USA/2016/FLUR022"
         },
         {
          "cluster 1": 83,
          "cluster 2": 559,
          "cluster 3": 25.426291167765736,
          "cluster 4": 3,
          "country": "usa",
          "region": "north_america",
          "strain": "USA/2016/FLUR026"
         },
         {
          "cluster 1": 314,
          "cluster 2": 354,
          "cluster 3": 25.512674825398335,
          "cluster 4": 2,
          "country": "usa",
          "region": "north_america",
          "strain": "USA/2016/FLUR057"
         },
         {
          "cluster 1": 305,
          "cluster 2": 616,
          "cluster 3": 25.73460945482833,
          "cluster 4": 3,
          "country": "usa",
          "region": "north_america",
          "strain": "USA/2016/FLUR058"
         },
         {
          "cluster 1": 243,
          "cluster 2": 641,
          "cluster 3": 25.926388490549495,
          "cluster 4": 3,
          "country": "usa",
          "region": "north_america",
          "strain": "USA/2016/FLUR063"
         },
         {
          "cluster 1": 219,
          "cluster 2": 679,
          "cluster 3": 26.010871781158396,
          "cluster 4": 4,
          "country": "usa",
          "region": "north_america",
          "strain": "USA/2016/FLWB042"
         },
         {
          "cluster 1": 568,
          "cluster 2": 588,
          "cluster 3": 26.07774336995507,
          "cluster 4": 4,
          "country": "usa",
          "region": "north_america",
          "strain": "USA/2016/FLWB044"
         },
         {
          "cluster 1": 256,
          "cluster 2": 340,
          "cluster 3": 26.19477071841869,
          "cluster 4": 2,
          "country": "usa",
          "region": "north_america",
          "strain": "USA/2016/Hu0015SA"
         },
         {
          "cluster 1": 300,
          "cluster 2": 726,
          "cluster 3": 26.21268751499522,
          "cluster 4": 4,
          "country": "usa",
          "region": "north_america",
          "strain": "USA/2016/MA_WGS16_034"
         },
         {
          "cluster 1": 346,
          "cluster 2": 605,
          "cluster 3": 26.311336277421393,
          "cluster 4": 3,
          "country": "thailand",
          "region": "southeast_asia",
          "strain": "BKK03"
         },
         {
          "cluster 1": 252,
          "cluster 2": 350,
          "cluster 3": 26.31479280939236,
          "cluster 4": 2,
          "country": "thailand",
          "region": "southeast_asia",
          "strain": "BKK04"
         },
         {
          "cluster 1": 370,
          "cluster 2": 387,
          "cluster 3": 26.40162134854774,
          "cluster 4": 2,
          "country": "thailand",
          "region": "southeast_asia",
          "strain": "BKK07"
         },
         {
          "cluster 1": 287,
          "cluster 2": 307,
          "cluster 3": 26.51115251411356,
          "cluster 4": 2,
          "country": "thailand",
          "region": "southeast_asia",
          "strain": "CVD_06_274"
         },
         {
          "cluster 1": 270,
          "cluster 2": 323,
          "cluster 3": 26.65423453023202,
          "cluster 4": 2,
          "country": "thailand",
          "region": "southeast_asia",
          "strain": "DMSc05684_16"
         },
         {
          "cluster 1": 517,
          "cluster 2": 585,
          "cluster 3": 26.664224519701516,
          "cluster 4": 4,
          "country": "thailand",
          "region": "southeast_asia",
          "strain": "SI_BKK01"
         },
         {
          "cluster 1": 225,
          "cluster 2": 280,
          "cluster 3": 26.737875662280448,
          "cluster 4": 2,
          "country": "thailand",
          "region": "southeast_asia",
          "strain": "SI_BKK02"
         },
         {
          "cluster 1": 422,
          "cluster 2": 700,
          "cluster 3": 26.924194030943056,
          "cluster 4": 4,
          "country": "thailand",
          "region": "southeast_asia",
          "strain": "SI_BKK05"
         },
         {
          "cluster 1": 458,
          "cluster 2": 606,
          "cluster 3": 26.92427534686285,
          "cluster 4": 3,
          "country": "thailand",
          "region": "southeast_asia",
          "strain": "SI_BKK06"
         },
         {
          "cluster 1": 424,
          "cluster 2": 704,
          "cluster 3": 26.93973470160595,
          "cluster 4": 3,
          "country": "thailand",
          "region": "southeast_asia",
          "strain": "SK364/13AS"
         },
         {
          "cluster 1": 628,
          "cluster 2": 689,
          "cluster 3": 26.990418656364263,
          "cluster 4": 6,
          "country": "thailand",
          "region": "southeast_asia",
          "strain": "SK403/13AS"
         },
         {
          "cluster 1": 157,
          "cluster 2": 656,
          "cluster 3": 26.99702569595982,
          "cluster 4": 3,
          "country": "thailand",
          "region": "southeast_asia",
          "strain": "SV0010/15"
         },
         {
          "cluster 1": 363,
          "cluster 2": 383,
          "cluster 3": 27.12867074036613,
          "cluster 4": 2,
          "country": "thailand",
          "region": "southeast_asia",
          "strain": "THA/2014/SV0127_14"
         },
         {
          "cluster 1": 495,
          "cluster 2": 496,
          "cluster 3": 27.1512827067124,
          "cluster 4": 2,
          "country": "thailand",
          "region": "southeast_asia",
          "strain": "THA/PLCal_ZV/2013"
         },
         {
          "cluster 1": 533,
          "cluster 2": 608,
          "cluster 3": 27.164499564889606,
          "cluster 4": 4,
          "country": "thailand",
          "region": "southeast_asia",
          "strain": "Thai/KngSG/17_D501"
         },
         {
          "cluster 1": 551,
          "cluster 2": 644,
          "cluster 3": 27.226454153089104,
          "cluster 4": 4,
          "country": "thailand",
          "region": "southeast_asia",
          "strain": "Thailand/1610acTw"
         },
         {
          "cluster 1": 472,
          "cluster 2": 473,
          "cluster 3": 27.550029208750175,
          "cluster 4": 2,
          "country": "brazil",
          "region": "south_america",
          "strain": "BR/AM/16800005"
         },
         {
          "cluster 1": 439,
          "cluster 2": 687,
          "cluster 3": 27.84343889688413,
          "cluster 4": 3,
          "country": "brazil",
          "region": "south_america",
          "strain": "BR/NHP_17_05/2017"
         },
         {
          "cluster 1": 254,
          "cluster 2": 626,
          "cluster 3": 27.97199222936515,
          "cluster 4": 3,
          "country": "brazil",
          "region": "south_america",
          "strain": "BR/NHP_17_17/2017"
         },
         {
          "cluster 1": 124,
          "cluster 2": 698,
          "cluster 3": 28.016128653327907,
          "cluster 4": 3,
          "country": "brazil",
          "region": "south_america",
          "strain": "BR/NHP_17_18/2017"
         },
         {
          "cluster 1": 227,
          "cluster 2": 309,
          "cluster 3": 28.041983512315387,
          "cluster 4": 2,
          "country": "brazil",
          "region": "south_america",
          "strain": "BR/NHP_17_19/2017"
         },
         {
          "cluster 1": 603,
          "cluster 2": 681,
          "cluster 3": 28.092666101218516,
          "cluster 4": 6,
          "country": "brazil",
          "region": "south_america",
          "strain": "BR/Sinop/H355/2015"
         },
         {
          "cluster 1": 326,
          "cluster 2": 732,
          "cluster 3": 28.22653558069732,
          "cluster 4": 4,
          "country": "brazil",
          "region": "south_america",
          "strain": "BR/Sinop/H366/2015"
         },
         {
          "cluster 1": 384,
          "cluster 2": 613,
          "cluster 3": 28.26298236714337,
          "cluster 4": 3,
          "country": "brazil",
          "region": "south_america",
          "strain": "BR/Sinop/H366_2P/2015"
         },
         {
          "cluster 1": 366,
          "cluster 2": 394,
          "cluster 3": 28.544031844148243,
          "cluster 4": 2,
          "country": "brazil",
          "region": "south_america",
          "strain": "BRA/2016/FC_5790"
         },
         {
          "cluster 1": 214,
          "cluster 2": 327,
          "cluster 3": 28.75904666203051,
          "cluster 4": 2,
          "country": "brazil",
          "region": "south_america",
          "strain": "BRA/2016/FC_5905"
         },
         {
          "cluster 1": 241,
          "cluster 2": 284,
          "cluster 3": 29.0194018292123,
          "cluster 4": 2,
          "country": "brazil",
          "region": "south_america",
          "strain": "BRA/2016/FC_6418"
         },
         {
          "cluster 1": 251,
          "cluster 2": 652,
          "cluster 3": 29.06311840276991,
          "cluster 4": 3,
          "country": "brazil",
          "region": "south_america",
          "strain": "BRA/2016/FC_6696"
         },
         {
          "cluster 1": 324,
          "cluster 2": 369,
          "cluster 3": 29.079175528085248,
          "cluster 4": 2,
          "country": "brazil",
          "region": "south_america",
          "strain": "BRA/2016/FC_6703"
         },
         {
          "cluster 1": 339,
          "cluster 2": 364,
          "cluster 3": 29.281656350063955,
          "cluster 4": 2,
          "country": "brazil",
          "region": "south_america",
          "strain": "BRA/2016/FC_6706"
         },
         {
          "cluster 1": 236,
          "cluster 2": 658,
          "cluster 3": 29.445947848654576,
          "cluster 4": 6,
          "country": "brazil",
          "region": "south_america",
          "strain": "BRA/2016/FC_6863"
         },
         {
          "cluster 1": 643,
          "cluster 2": 667,
          "cluster 3": 29.533832223697555,
          "cluster 4": 4,
          "country": "brazil",
          "region": "south_america",
          "strain": "BRA/2016/FC_6864"
         },
         {
          "cluster 1": 536,
          "cluster 2": 692,
          "cluster 3": 29.620896743066698,
          "cluster 4": 6,
          "country": "brazil",
          "region": "south_america",
          "strain": "BRA/2016/FC_DQ107D1"
         },
         {
          "cluster 1": 320,
          "cluster 2": 331,
          "cluster 3": 29.66540115258288,
          "cluster 4": 2,
          "country": "brazil",
          "region": "south_america",
          "strain": "BRA/2016/FC_DQ116D1"
         },
         {
          "cluster 1": 431,
          "cluster 2": 441,
          "cluster 3": 29.73688735652001,
          "cluster 4": 2,
          "country": "brazil",
          "region": "south_america",
          "strain": "BRA/2016/FC_DQ122D1"
         },
         {
          "cluster 1": 48,
          "cluster 2": 631,
          "cluster 3": 29.9795608572893,
          "cluster 4": 3,
          "country": "brazil",
          "region": "south_america",
          "strain": "BRA/2016/FC_DQ12D1"
         },
         {
          "cluster 1": 135,
          "cluster 2": 576,
          "cluster 3": 31.329513571130654,
          "cluster 4": 3,
          "country": "brazil",
          "region": "south_america",
          "strain": "BRA/2016/FC_DQ131D1"
         },
         {
          "cluster 1": 19,
          "cluster 2": 690,
          "cluster 3": 31.41586126339081,
          "cluster 4": 3,
          "country": "brazil",
          "region": "south_america",
          "strain": "BRA/2016/FC_DQ192D1"
         },
         {
          "cluster 1": 426,
          "cluster 2": 718,
          "cluster 3": 31.926193034681557,
          "cluster 4": 4,
          "country": "brazil",
          "region": "south_america",
          "strain": "BRA/2016/FC_DQ28D1"
         },
         {
          "cluster 1": 288,
          "cluster 2": 720,
          "cluster 3": 31.954522968589682,
          "cluster 4": 4,
          "country": "brazil",
          "region": "south_america",
          "strain": "BRA/2016/FC_DQ42D1"
         },
         {
          "cluster 1": 561,
          "cluster 2": 705,
          "cluster 3": 31.98621634959904,
          "cluster 4": 4,
          "country": "brazil",
          "region": "south_america",
          "strain": "BRA/2016/FC_DQ47D1"
         },
         {
          "cluster 1": 204,
          "cluster 2": 301,
          "cluster 3": 32.02141893338639,
          "cluster 4": 2,
          "country": "brazil",
          "region": "south_america",
          "strain": "BRA/2016/FC_DQ49D1"
         },
         {
          "cluster 1": 456,
          "cluster 2": 460,
          "cluster 3": 32.089801621034404,
          "cluster 4": 2,
          "country": "brazil",
          "region": "south_america",
          "strain": "BRA/2016/FC_DQ58D1"
         },
         {
          "cluster 1": 678,
          "cluster 2": 731,
          "cluster 3": 32.15927326274278,
          "cluster 4": 6,
          "country": "brazil",
          "region": "south_america",
          "strain": "BRA/2016/FC_DQ5D1"
         },
         {
          "cluster 1": 556,
          "cluster 2": 673,
          "cluster 3": 32.64473365836728,
          "cluster 4": 7,
          "country": "brazil",
          "region": "south_america",
          "strain": "BRA/2016/FC_DQ60D1"
         },
         {
          "cluster 1": 143,
          "cluster 2": 680,
          "cluster 3": 32.75655106013916,
          "cluster 4": 4,
          "country": "brazil",
          "region": "south_america",
          "strain": "BRA/2016/FC_DQ62D1"
         },
         {
          "cluster 1": 347,
          "cluster 2": 639,
          "cluster 3": 32.925151777298076,
          "cluster 4": 3,
          "country": "brazil",
          "region": "south_america",
          "strain": "BRA/2016/FC_DQ62D2"
         },
         {
          "cluster 1": 334,
          "cluster 2": 684,
          "cluster 3": 33.566550138506706,
          "cluster 4": 3,
          "country": "brazil",
          "region": "south_america",
          "strain": "BRA/2016/FC_DQ68D1"
         },
         {
          "cluster 1": 421,
          "cluster 2": 686,
          "cluster 3": 33.68149841659873,
          "cluster 4": 4,
          "country": "brazil",
          "region": "south_america",
          "strain": "BRA/2016/FC_DQ75D1"
         },
         {
          "cluster 1": 389,
          "cluster 2": 413,
          "cluster 3": 33.853576278084255,
          "cluster 4": 2,
          "country": "brazil",
          "region": "south_america",
          "strain": "BRA/2016/ZKV17Asem_2016_04_26"
         },
         {
          "cluster 1": 211,
          "cluster 2": 695,
          "cluster 3": 34.118354061136344,
          "cluster 4": 4,
          "country": "brazil",
          "region": "south_america",
          "strain": "BRA/2016/ZKV17Auri_2016_04_26"
         },
         {
          "cluster 1": 258,
          "cluster 2": 278,
          "cluster 3": 34.172888684539345,
          "cluster 4": 2,
          "country": "brazil",
          "region": "south_america",
          "strain": "BRA/2016/ZKV17Bsem_2016_05_03"
         },
         {
          "cluster 1": 167,
          "cluster 2": 638,
          "cluster 3": 34.29921217309573,
          "cluster 4": 5,
          "country": "brazil",
          "region": "south_america",
          "strain": "BRA/2016/ZKV17Csem_2016_05_10"
         },
         {
          "cluster 1": 285,
          "cluster 2": 717,
          "cluster 3": 34.311927889276355,
          "cluster 4": 4,
          "country": "brazil",
          "region": "south_america",
          "strain": "BRA/2016/ZKV17Dsem_2016_05_17"
         },
         {
          "cluster 1": 101,
          "cluster 2": 110,
          "cluster 3": 34.54228845153157,
          "cluster 4": 2,
          "country": "brazil",
          "region": "south_america",
          "strain": "BRA/2016/ZKV17Esem_2016_05_24"
         },
         {
          "cluster 1": 444,
          "cluster 2": 446,
          "cluster 3": 34.64319547665856,
          "cluster 4": 2,
          "country": "brazil",
          "region": "south_america",
          "strain": "BRA/2016/ZKV17Fsem_2016_05_31"
         },
         {
          "cluster 1": 685,
          "cluster 2": 714,
          "cluster 3": 35.005499436439024,
          "cluster 4": 4,
          "country": "brazil",
          "region": "south_america",
          "strain": "BRA/2016/ZKV17Gsem_2016_06_08"
         },
         {
          "cluster 1": 368,
          "cluster 2": 393,
          "cluster 3": 35.0259938450228,
          "cluster 4": 2,
          "country": "brazil",
          "region": "south_america",
          "strain": "BRA/2016/ZKV17Hsem_2016_06_16"
         },
         {
          "cluster 1": 379,
          "cluster 2": 697,
          "cluster 3": 35.12452950960533,
          "cluster 4": 3,
          "country": "brazil",
          "region": "south_america",
          "strain": "BRA/2016/ZKV17Jsem_2016_06_28"
         },
         {
          "cluster 1": 184,
          "cluster 2": 302,
          "cluster 3": 35.16742567987737,
          "cluster 4": 2,
          "country": "brazil",
          "region": "south_america",
          "strain": "BRA/2016/ZKV17Ksem_2016_07_05"
         },
         {
          "cluster 1": 240,
          "cluster 2": 630,
          "cluster 3": 35.228058697777676,
          "cluster 4": 3,
          "country": "brazil",
          "region": "south_america",
          "strain": "BRA/2016/ZKV17Lsem_2016_07_12"
         },
         {
          "cluster 1": 526,
          "cluster 2": 711,
          "cluster 3": 35.58810308136729,
          "cluster 4": 6,
          "country": "brazil",
          "region": "south_america",
          "strain": "BRA/2016/ZKV17Msem_2016_07_19"
         },
         {
          "cluster 1": 674,
          "cluster 2": 709,
          "cluster 3": 36.47212053813039,
          "cluster 4": 6,
          "country": "brazil",
          "region": "south_america",
          "strain": "BRA/2016/ZKV17Nsem_2016_07_27"
         },
         {
          "cluster 1": 654,
          "cluster 2": 722,
          "cluster 3": 36.680951574214006,
          "cluster 4": 4,
          "country": "brazil",
          "region": "south_america",
          "strain": "BRA/2016/ZKV17sem_2016_04_19"
         },
         {
          "cluster 1": 589,
          "cluster 2": 738,
          "cluster 3": 36.70909351270449,
          "cluster 4": 6,
          "country": "brazil",
          "region": "south_america",
          "strain": "BRA/2016/ZKV17uri_2016_04_19"
         },
         {
          "cluster 1": 427,
          "cluster 2": 432,
          "cluster 3": 36.78761005416284,
          "cluster 4": 2,
          "country": "brazil",
          "region": "south_america",
          "strain": "BRA/2016/ZKV19Auri_2016_05_05"
         },
         {
          "cluster 1": 707,
          "cluster 2": 748,
          "cluster 3": 36.927212704523065,
          "cluster 4": 6,
          "country": "brazil",
          "region": "south_america",
          "strain": "BRA/2016/ZKV19Bsem_2016_05_12"
         },
         {
          "cluster 1": 671,
          "cluster 2": 751,
          "cluster 3": 37.23508356179798,
          "cluster 4": 4,
          "country": "brazil",
          "region": "south_america",
          "strain": "BRA/2016/ZKV19Csem_2016_05_19"
         },
         {
          "cluster 1": 138,
          "cluster 2": 209,
          "cluster 3": 37.29121220648721,
          "cluster 4": 2,
          "country": "brazil",
          "region": "south_america",
          "strain": "BRA/2016/ZKV19Dsem_2016_05_24"
         },
         {
          "cluster 1": 669,
          "cluster 2": 744,
          "cluster 3": 37.30710331751444,
          "cluster 4": 6,
          "country": "brazil",
          "region": "south_america",
          "strain": "BRA/2016/ZKV19Esem_2016_06_02"
         },
         {
          "cluster 1": 582,
          "cluster 2": 666,
          "cluster 3": 37.6403068943726,
          "cluster 4": 6,
          "country": "brazil",
          "region": "south_america",
          "strain": "BRA/2016/ZKV19Fsem_2016_06_09"
         },
         {
          "cluster 1": 649,
          "cluster 2": 740,
          "cluster 3": 37.6931519734623,
          "cluster 4": 5,
          "country": "brazil",
          "region": "south_america",
          "strain": "BRA/2016/ZKV19uri_2016_04_30"
         },
         {
          "cluster 1": 651,
          "cluster 2": 758,
          "cluster 3": 38.227687085851194,
          "cluster 4": 5,
          "country": "brazil",
          "region": "south_america",
          "strain": "BR_SJRP1840"
         },
         {
          "cluster 1": 650,
          "cluster 2": 760,
          "cluster 3": 38.29889412726215,
          "cluster 4": 5,
          "country": "brazil",
          "region": "south_america",
          "strain": "BR_SJRP21"
         },
         {
          "cluster 1": 474,
          "cluster 2": 648,
          "cluster 3": 38.37083005896079,
          "cluster 4": 3,
          "country": "brazil",
          "region": "south_america",
          "strain": "BR_SJRP61"
         },
         {
          "cluster 1": 637,
          "cluster 2": 747,
          "cluster 3": 38.57967853269315,
          "cluster 4": 4,
          "country": "brazil",
          "region": "south_america",
          "strain": "Bahia01"
         },
         {
          "cluster 1": 183,
          "cluster 2": 785,
          "cluster 3": 38.79464540780884,
          "cluster 4": 4,
          "country": "brazil",
          "region": "south_america",
          "strain": "Bahia02"
         },
         {
          "cluster 1": 352,
          "cluster 2": 635,
          "cluster 3": 38.86964858900758,
          "cluster 4": 3,
          "country": "brazil",
          "region": "south_america",
          "strain": "Bahia03"
         },
         {
          "cluster 1": 315,
          "cluster 2": 349,
          "cluster 3": 39.08947312062262,
          "cluster 4": 2,
          "country": "brazil",
          "region": "south_america",
          "strain": "Bahia04"
         },
         {
          "cluster 1": 452,
          "cluster 2": 766,
          "cluster 3": 39.11024597150334,
          "cluster 4": 4,
          "country": "brazil",
          "region": "south_america",
          "strain": "Bahia05"
         },
         {
          "cluster 1": 308,
          "cluster 2": 729,
          "cluster 3": 39.1502955361687,
          "cluster 4": 5,
          "country": "brazil",
          "region": "south_america",
          "strain": "Bahia07"
         },
         {
          "cluster 1": 210,
          "cluster 2": 733,
          "cluster 3": 39.44523324367149,
          "cluster 4": 3,
          "country": "brazil",
          "region": "south_america",
          "strain": "Bahia08"
         },
         {
          "cluster 1": 356,
          "cluster 2": 827,
          "cluster 3": 39.468964575931345,
          "cluster 4": 3,
          "country": "brazil",
          "region": "south_america",
          "strain": "Bahia09"
         },
         {
          "cluster 1": 279,
          "cluster 2": 742,
          "cluster 3": 40.10695068201637,
          "cluster 4": 3,
          "country": "brazil",
          "region": "south_america",
          "strain": "Bahia11"
         },
         {
          "cluster 1": 734,
          "cluster 2": 770,
          "cluster 3": 41.20386745282649,
          "cluster 4": 9,
          "country": "brazil",
          "region": "south_america",
          "strain": "Bahia12"
         },
         {
          "cluster 1": 312,
          "cluster 2": 371,
          "cluster 3": 41.28160379252272,
          "cluster 4": 2,
          "country": "brazil",
          "region": "south_america",
          "strain": "Bahia15"
         },
         {
          "cluster 1": 437,
          "cluster 2": 783,
          "cluster 3": 41.37193287205361,
          "cluster 4": 3,
          "country": "brazil",
          "region": "south_america",
          "strain": "BeH815744"
         },
         {
          "cluster 1": 676,
          "cluster 2": 696,
          "cluster 3": 41.413791237370496,
          "cluster 4": 5,
          "country": "brazil",
          "region": "south_america",
          "strain": "BeH818995"
         },
         {
          "cluster 1": 275,
          "cluster 2": 755,
          "cluster 3": 41.515505473478896,
          "cluster 4": 3,
          "country": "brazil",
          "region": "south_america",
          "strain": "BeH819015"
         },
         {
          "cluster 1": 610,
          "cluster 2": 683,
          "cluster 3": 41.74240141393835,
          "cluster 4": 4,
          "country": "brazil",
          "region": "south_america",
          "strain": "BeH819966"
         },
         {
          "cluster 1": 735,
          "cluster 2": 804,
          "cluster 3": 41.80464965240049,
          "cluster 4": 4,
          "country": "brazil",
          "region": "south_america",
          "strain": "BeH823339"
         },
         {
          "cluster 1": 636,
          "cluster 2": 741,
          "cluster 3": 42.25874816422173,
          "cluster 4": 5,
          "country": "brazil",
          "region": "south_america",
          "strain": "BeH828305"
         },
         {
          "cluster 1": 629,
          "cluster 2": 767,
          "cluster 3": 42.31210355384394,
          "cluster 4": 5,
          "country": "brazil",
          "region": "south_america",
          "strain": "Brazil/16321"
         },
         {
          "cluster 1": 712,
          "cluster 2": 719,
          "cluster 3": 42.858465890556296,
          "cluster 4": 4,
          "country": "brazil",
          "region": "south_america",
          "strain": "Brazil/2015/ZBRA105"
         },
         {
          "cluster 1": 612,
          "cluster 2": 737,
          "cluster 3": 43.03047918044041,
          "cluster 4": 6,
          "country": "brazil",
          "region": "south_america",
          "strain": "Brazil/2015/ZBRC301"
         },
         {
          "cluster 1": 620,
          "cluster 2": 699,
          "cluster 3": 43.75071348819895,
          "cluster 4": 6,
          "country": "brazil",
          "region": "south_america",
          "strain": "Brazil/2015/ZBRC302"
         },
         {
          "cluster 1": 221,
          "cluster 2": 794,
          "cluster 3": 43.78291631193281,
          "cluster 4": 5,
          "country": "brazil",
          "region": "south_america",
          "strain": "Brazil/2015/ZBRC303"
         },
         {
          "cluster 1": 653,
          "cluster 2": 706,
          "cluster 3": 44.072524210865424,
          "cluster 4": 8,
          "country": "brazil",
          "region": "south_america",
          "strain": "Brazil/2015/ZBRC313"
         },
         {
          "cluster 1": 485,
          "cluster 2": 682,
          "cluster 3": 44.1835980586433,
          "cluster 4": 3,
          "country": "brazil",
          "region": "south_america",
          "strain": "Brazil/2015/ZBRC321"
         },
         {
          "cluster 1": 328,
          "cluster 2": 341,
          "cluster 3": 44.212835576174015,
          "cluster 4": 2,
          "country": "brazil",
          "region": "south_america",
          "strain": "Brazil/2015/ZBRD103"
         },
         {
          "cluster 1": 527,
          "cluster 2": 811,
          "cluster 3": 44.47365101417256,
          "cluster 4": 8,
          "country": "brazil",
          "region": "south_america",
          "strain": "Brazil/2015/ZBRD107"
         },
         {
          "cluster 1": 715,
          "cluster 2": 753,
          "cluster 3": 44.6779802210078,
          "cluster 4": 4,
          "country": "brazil",
          "region": "south_america",
          "strain": "Brazil/2015/ZBRD116"
         },
         {
          "cluster 1": 759,
          "cluster 2": 784,
          "cluster 3": 44.68963169432481,
          "cluster 4": 9,
          "country": "brazil",
          "region": "south_america",
          "strain": "Brazil/2016/INMI1"
         },
         {
          "cluster 1": 501,
          "cluster 2": 502,
          "cluster 3": 44.95860313463031,
          "cluster 4": 2,
          "country": "brazil",
          "region": "south_america",
          "strain": "Brazil/2016/ZBRC14"
         },
         {
          "cluster 1": 659,
          "cluster 2": 663,
          "cluster 3": 44.98405243052304,
          "cluster 4": 6,
          "country": "brazil",
          "region": "south_america",
          "strain": "Brazil/2016/ZBRC16"
         },
         {
          "cluster 1": 624,
          "cluster 2": 779,
          "cluster 3": 47.6613643267236,
          "cluster 4": 11,
          "country": "brazil",
          "region": "south_america",
          "strain": "Brazil/2016/ZBRC18"
         },
         {
          "cluster 1": 90,
          "cluster 2": 724,
          "cluster 3": 47.743284028998474,
          "cluster 4": 7,
          "country": "brazil",
          "region": "south_america",
          "strain": "Brazil/2016/ZBRC25"
         },
         {
          "cluster 1": 710,
          "cluster 2": 716,
          "cluster 3": 47.750103159880695,
          "cluster 4": 5,
          "country": "brazil",
          "region": "south_america",
          "strain": "Brazil/2016/ZBRC28"
         },
         {
          "cluster 1": 429,
          "cluster 2": 821,
          "cluster 3": 47.82102529805189,
          "cluster 4": 6,
          "country": "brazil",
          "region": "south_america",
          "strain": "Brazil/2016/ZBRC319"
         },
         {
          "cluster 1": 633,
          "cluster 2": 788,
          "cluster 3": 48.477314245830904,
          "cluster 4": 7,
          "country": "brazil",
          "region": "south_america",
          "strain": "Brazil/2016/ZBRE69"
         },
         {
          "cluster 1": 464,
          "cluster 2": 725,
          "cluster 3": 48.793863493064656,
          "cluster 4": 3,
          "country": "brazil",
          "region": "south_america",
          "strain": "Brazil/2016/ZBRX1"
         },
         {
          "cluster 1": 593,
          "cluster 2": 642,
          "cluster 3": 48.89960691242386,
          "cluster 4": 4,
          "country": "brazil",
          "region": "south_america",
          "strain": "Brazil/2016/ZBRX100"
         },
         {
          "cluster 1": 462,
          "cluster 2": 791,
          "cluster 3": 49.45294030016095,
          "cluster 4": 3,
          "country": "brazil",
          "region": "south_america",
          "strain": "Brazil/2016/ZBRX102"
         },
         {
          "cluster 1": 600,
          "cluster 2": 749,
          "cluster 3": 49.723835916024804,
          "cluster 4": 6,
          "country": "brazil",
          "region": "south_america",
          "strain": "Brazil/2016/ZBRX103"
         },
         {
          "cluster 1": 771,
          "cluster 2": 775,
          "cluster 3": 50.22074006309225,
          "cluster 4": 6,
          "country": "brazil",
          "region": "south_america",
          "strain": "Brazil/2016/ZBRX106"
         },
         {
          "cluster 1": 713,
          "cluster 2": 829,
          "cluster 3": 50.365603901759734,
          "cluster 4": 8,
          "country": "brazil",
          "region": "south_america",
          "strain": "Brazil/2016/ZBRX11"
         },
         {
          "cluster 1": 597,
          "cluster 2": 803,
          "cluster 3": 50.64504466753552,
          "cluster 4": 5,
          "country": "brazil",
          "region": "south_america",
          "strain": "Brazil/2016/ZBRX12"
         },
         {
          "cluster 1": 417,
          "cluster 2": 761,
          "cluster 3": 50.822237971513935,
          "cluster 4": 3,
          "country": "brazil",
          "region": "south_america",
          "strain": "Brazil/2016/ZBRX127"
         },
         {
          "cluster 1": 182,
          "cluster 2": 769,
          "cluster 3": 51.02824411695646,
          "cluster 4": 3,
          "country": "brazil",
          "region": "south_america",
          "strain": "Brazil/2016/ZBRX128"
         },
         {
          "cluster 1": 693,
          "cluster 2": 754,
          "cluster 3": 51.24396822834795,
          "cluster 4": 7,
          "country": "brazil",
          "region": "south_america",
          "strain": "Brazil/2016/ZBRX13"
         },
         {
          "cluster 1": 727,
          "cluster 2": 772,
          "cluster 3": 51.47525023344747,
          "cluster 4": 6,
          "country": "brazil",
          "region": "south_america",
          "strain": "Brazil/2016/ZBRX130"
         },
         {
          "cluster 1": 489,
          "cluster 2": 490,
          "cluster 3": 52.63156995912566,
          "cluster 4": 2,
          "country": "brazil",
          "region": "south_america",
          "strain": "Brazil/2016/ZBRX137"
         },
         {
          "cluster 1": 634,
          "cluster 2": 757,
          "cluster 3": 53.21425430346076,
          "cluster 4": 5,
          "country": "brazil",
          "region": "south_america",
          "strain": "Brazil/2016/ZBRX14"
         },
         {
          "cluster 1": 780,
          "cluster 2": 797,
          "cluster 3": 53.25710662242802,
          "cluster 4": 8,
          "country": "brazil",
          "region": "south_america",
          "strain": "Brazil/2016/ZBRX15"
         },
         {
          "cluster 1": 621,
          "cluster 2": 675,
          "cluster 3": 53.35169800283576,
          "cluster 4": 5,
          "country": "brazil",
          "region": "south_america",
          "strain": "Brazil/2016/ZBRX16"
         },
         {
          "cluster 1": 400,
          "cluster 2": 425,
          "cluster 3": 53.396431442766406,
          "cluster 4": 2,
          "country": "brazil",
          "region": "south_america",
          "strain": "Brazil/2016/ZBRX2"
         },
         {
          "cluster 1": 702,
          "cluster 2": 786,
          "cluster 3": 53.647627804711384,
          "cluster 4": 7,
          "country": "brazil",
          "region": "south_america",
          "strain": "Brazil/2016/ZBRX4"
         },
         {
          "cluster 1": 442,
          "cluster 2": 828,
          "cluster 3": 54.05004420454392,
          "cluster 4": 5,
          "country": "brazil",
          "region": "south_america",
          "strain": "Brazil/2016/ZBRX6"
         },
         {
          "cluster 1": 736,
          "cluster 2": 764,
          "cluster 3": 54.05820948746022,
          "cluster 4": 9,
          "country": "brazil",
          "region": "south_america",
          "strain": "Brazil/2016/ZBRX7"
         },
         {
          "cluster 1": 447,
          "cluster 2": 670,
          "cluster 3": 54.41152639229901,
          "cluster 4": 3,
          "country": "brazil",
          "region": "south_america",
          "strain": "Brazil/2016/ZBRX8"
         },
         {
          "cluster 1": 773,
          "cluster 2": 776,
          "cluster 3": 54.60914538577355,
          "cluster 4": 5,
          "country": "brazil",
          "region": "south_america",
          "strain": "Brazil/2016/ZBRY1"
         },
         {
          "cluster 1": 646,
          "cluster 2": 756,
          "cluster 3": 54.86580511834855,
          "cluster 4": 6,
          "country": "brazil",
          "region": "south_america",
          "strain": "Brazil/2016/ZBRY10"
         },
         {
          "cluster 1": 244,
          "cluster 2": 832,
          "cluster 3": 56.18856445562685,
          "cluster 4": 4,
          "country": "brazil",
          "region": "south_america",
          "strain": "Brazil/2016/ZBRY11"
         },
         {
          "cluster 1": 721,
          "cluster 2": 787,
          "cluster 3": 56.41042169660341,
          "cluster 4": 7,
          "country": "brazil",
          "region": "south_america",
          "strain": "Brazil/2016/ZBRY12"
         },
         {
          "cluster 1": 723,
          "cluster 2": 845,
          "cluster 3": 56.8654096961251,
          "cluster 4": 7,
          "country": "brazil",
          "region": "south_america",
          "strain": "Brazil/2016/ZBRY14"
         },
         {
          "cluster 1": 604,
          "cluster 2": 807,
          "cluster 3": 57.101127461400246,
          "cluster 4": 5,
          "country": "brazil",
          "region": "south_america",
          "strain": "Brazil/2016/ZBRY4"
         },
         {
          "cluster 1": 808,
          "cluster 2": 820,
          "cluster 3": 57.463467357350204,
          "cluster 4": 7,
          "country": "brazil",
          "region": "south_america",
          "strain": "Brazil/2016/ZBRY6"
         },
         {
          "cluster 1": 664,
          "cluster 2": 830,
          "cluster 3": 59.85279849797643,
          "cluster 4": 6,
          "country": "brazil",
          "region": "south_america",
          "strain": "Brazil/2016/ZBRY7"
         },
         {
          "cluster 1": 765,
          "cluster 2": 823,
          "cluster 3": 60.68217820423782,
          "cluster 4": 5,
          "country": "brazil",
          "region": "south_america",
          "strain": "Brazil/2016/ZBRY8"
         },
         {
          "cluster 1": 395,
          "cluster 2": 802,
          "cluster 3": 61.49041885709659,
          "cluster 4": 5,
          "country": "brazil",
          "region": "south_america",
          "strain": "Brazil/PE243/2015"
         },
         {
          "cluster 1": 647,
          "cluster 2": 824,
          "cluster 3": 63.07231528953026,
          "cluster 4": 6,
          "country": "brazil",
          "region": "south_america",
          "strain": "Brazil_2015_MG"
         },
         {
          "cluster 1": 774,
          "cluster 2": 815,
          "cluster 3": 63.26551388855784,
          "cluster 4": 8,
          "country": "brazil",
          "region": "south_america",
          "strain": "Brazil_ZKV2015"
         },
         {
          "cluster 1": 763,
          "cluster 2": 866,
          "cluster 3": 63.96567566898422,
          "cluster 4": 7,
          "country": "brazil",
          "region": "south_america",
          "strain": "CX17"
         },
         {
          "cluster 1": 869,
          "cluster 2": 882,
          "cluster 3": 64.15727733862784,
          "cluster 4": 13,
          "country": "brazil",
          "region": "south_america",
          "strain": "CX5"
         },
         {
          "cluster 1": 703,
          "cluster 2": 862,
          "cluster 3": 64.86329220570383,
          "cluster 4": 12,
          "country": "brazil",
          "region": "south_america",
          "strain": "GB_BR"
         },
         {
          "cluster 1": 601,
          "cluster 2": 846,
          "cluster 3": 65.24394451951159,
          "cluster 4": 12,
          "country": "brazil",
          "region": "south_america",
          "strain": "HS_2015_BA_01"
         },
         {
          "cluster 1": 768,
          "cluster 2": 848,
          "cluster 3": 66.65288445434835,
          "cluster 4": 5,
          "country": "brazil",
          "region": "south_america",
          "strain": "Natal_RGN"
         },
         {
          "cluster 1": 618,
          "cluster 2": 851,
          "cluster 3": 67.54330812111992,
          "cluster 4": 11,
          "country": "brazil",
          "region": "south_america",
          "strain": "PE243"
         },
         {
          "cluster 1": 481,
          "cluster 2": 483,
          "cluster 3": 67.70893690809355,
          "cluster 4": 2,
          "country": "brazil",
          "region": "south_america",
          "strain": "Paraiba_01"
         },
         {
          "cluster 1": 708,
          "cluster 2": 793,
          "cluster 3": 68.33732366861769,
          "cluster 4": 13,
          "country": "brazil",
          "region": "south_america",
          "strain": "RIO_BM1"
         },
         {
          "cluster 1": 434,
          "cluster 2": 798,
          "cluster 3": 70.24381770411736,
          "cluster 4": 3,
          "country": "brazil",
          "region": "south_america",
          "strain": "Rio_S1"
         },
         {
          "cluster 1": 834,
          "cluster 2": 879,
          "cluster 3": 70.28119596581321,
          "cluster 4": 7,
          "country": "brazil",
          "region": "south_america",
          "strain": "Rio_U1"
         },
         {
          "cluster 1": 781,
          "cluster 2": 836,
          "cluster 3": 71.68609366990076,
          "cluster 4": 11,
          "country": "brazil",
          "region": "south_america",
          "strain": "SPH2015"
         },
         {
          "cluster 1": 795,
          "cluster 2": 796,
          "cluster 3": 71.92470114861158,
          "cluster 4": 6,
          "country": "brazil",
          "region": "south_america",
          "strain": "SSABR1"
         },
         {
          "cluster 1": 435,
          "cluster 2": 455,
          "cluster 3": 72.34050066748661,
          "cluster 4": 2,
          "country": "brazil",
          "region": "south_america",
          "strain": "V15098"
         },
         {
          "cluster 1": 752,
          "cluster 2": 789,
          "cluster 3": 73.39583675302116,
          "cluster 4": 6,
          "country": "brazil",
          "region": "south_america",
          "strain": "V15261"
         },
         {
          "cluster 1": 694,
          "cluster 2": 831,
          "cluster 3": 73.50365680996839,
          "cluster 4": 5,
          "country": "brazil",
          "region": "south_america",
          "strain": "V16288"
         },
         {
          "cluster 1": 728,
          "cluster 2": 844,
          "cluster 3": 74.12829362954793,
          "cluster 4": 9,
          "country": "brazil",
          "region": "south_america",
          "strain": "V17829"
         },
         {
          "cluster 1": 688,
          "cluster 2": 891,
          "cluster 3": 75.50166925565131,
          "cluster 4": 9,
          "country": "brazil",
          "region": "south_america",
          "strain": "V9"
         },
         {
          "cluster 1": 484,
          "cluster 2": 847,
          "cluster 3": 75.75204613876983,
          "cluster 4": 4,
          "country": "brazil",
          "region": "south_america",
          "strain": "VIE/Bra/2016"
         },
         {
          "cluster 1": 782,
          "cluster 2": 838,
          "cluster 3": 76.01840854825451,
          "cluster 4": 6,
          "country": "brazil",
          "region": "south_america",
          "strain": "ZBRC13"
         },
         {
          "cluster 1": 745,
          "cluster 2": 800,
          "cluster 3": 76.21724728369584,
          "cluster 4": 6,
          "country": "brazil",
          "region": "south_america",
          "strain": "ZBRC15"
         },
         {
          "cluster 1": 813,
          "cluster 2": 868,
          "cluster 3": 77.55959566395745,
          "cluster 4": 13,
          "country": "american_samoa",
          "region": "oceania",
          "strain": "CN/SZ02/2016"
         },
         {
          "cluster 1": 373,
          "cluster 2": 889,
          "cluster 3": 78.12859936663982,
          "cluster 4": 7,
          "country": "american_samoa",
          "region": "oceania",
          "strain": "SMGC_1"
         },
         {
          "cluster 1": 746,
          "cluster 2": 856,
          "cluster 3": 78.27719285406124,
          "cluster 4": 9,
          "country": "american_samoa",
          "region": "oceania",
          "strain": "SZ01/2016/China"
         },
         {
          "cluster 1": 835,
          "cluster 2": 880,
          "cluster 3": 78.37112126866967,
          "cluster 4": 9,
          "country": "american_samoa",
          "region": "oceania",
          "strain": "SZ_WIV01"
         },
         {
          "cluster 1": 701,
          "cluster 2": 843,
          "cluster 3": 78.39825664697946,
          "cluster 4": 9,
          "country": "american_samoa",
          "region": "oceania",
          "strain": "Z16006"
         },
         {
          "cluster 1": 374,
          "cluster 2": 778,
          "cluster 3": 79.48349700512517,
          "cluster 4": 3,
          "country": "american_samoa",
          "region": "oceania",
          "strain": "ZJ02"
         },
         {
          "cluster 1": 810,
          "cluster 2": 855,
          "cluster 3": 79.7839297639715,
          "cluster 4": 13,
          "country": "american_samoa",
          "region": "oceania",
          "strain": "ZJ03"
         },
         {
          "cluster 1": 859,
          "cluster 2": 860,
          "cluster 3": 80.06987523577612,
          "cluster 4": 7,
          "country": "american_samoa",
          "region": "oceania",
          "strain": "ZKC2/2016"
         },
         {
          "cluster 1": 498,
          "cluster 2": 500,
          "cluster 3": 80.62638622778329,
          "cluster 4": 2,
          "country": "american_samoa",
          "region": "oceania",
          "strain": "Zhejiang04"
         },
         {
          "cluster 1": 743,
          "cluster 2": 884,
          "cluster 3": 81.01374999969181,
          "cluster 4": 8,
          "country": "fiji",
          "region": "oceania",
          "strain": "Chiba/S36/2016"
         },
         {
          "cluster 1": 861,
          "cluster 2": 871,
          "cluster 3": 82.23662516979222,
          "cluster 4": 8,
          "country": "cuba",
          "region": "north_america",
          "strain": "Cuba/2017/FL046Se"
         },
         {
          "cluster 1": 662,
          "cluster 2": 895,
          "cluster 3": 82.2757824072969,
          "cluster 4": 7,
          "country": "cuba",
          "region": "north_america",
          "strain": "Cuba/2017/FL047U"
         },
         {
          "cluster 1": 777,
          "cluster 2": 850,
          "cluster 3": 82.40683654983967,
          "cluster 4": 6,
          "country": "cuba",
          "region": "north_america",
          "strain": "Cuba/2017/FL049U"
         },
         {
          "cluster 1": 482,
          "cluster 2": 842,
          "cluster 3": 82.52449505751576,
          "cluster 4": 5,
          "country": "cuba",
          "region": "north_america",
          "strain": "Cuba/2017/FL051Se"
         },
         {
          "cluster 1": 839,
          "cluster 2": 857,
          "cluster 3": 86.93164554235545,
          "cluster 4": 10,
          "country": "cuba",
          "region": "north_america",
          "strain": "Cuba/2017/FL052U"
         },
         {
          "cluster 1": 818,
          "cluster 2": 864,
          "cluster 3": 87.37286853988336,
          "cluster 4": 14,
          "country": "cuba",
          "region": "north_america",
          "strain": "Cuba/2017/FL055Se"
         },
         {
          "cluster 1": 750,
          "cluster 2": 790,
          "cluster 3": 93.60226596700365,
          "cluster 4": 4,
          "country": "cuba",
          "region": "north_america",
          "strain": "Cuba/2017/FL057U"
         },
         {
          "cluster 1": 812,
          "cluster 2": 816,
          "cluster 3": 94.91452084987787,
          "cluster 4": 8,
          "country": "cuba",
          "region": "north_america",
          "strain": "Cuba/2017/Hu0046Sa"
         },
         {
          "cluster 1": 841,
          "cluster 2": 877,
          "cluster 3": 96.1643648562063,
          "cluster 4": 14,
          "country": "cuba",
          "region": "north_america",
          "strain": "Cuba/2017_10_09/FL82U"
         },
         {
          "cluster 1": 826,
          "cluster 2": 920,
          "cluster 3": 98.89485775709745,
          "cluster 4": 11,
          "country": "cuba",
          "region": "north_america",
          "strain": "Cuba/2018_01_18/FL257U"
         },
         {
          "cluster 1": 809,
          "cluster 2": 900,
          "cluster 3": 99.18179356739377,
          "cluster 4": 10,
          "country": "cuba",
          "region": "north_america",
          "strain": "Cuba_2017"
         },
         {
          "cluster 1": 640,
          "cluster 2": 867,
          "cluster 3": 99.4007112121982,
          "cluster 4": 5,
          "country": "cuba",
          "region": "north_america",
          "strain": "SG_EHI_/33164Y17"
         },
         {
          "cluster 1": 491,
          "cluster 2": 870,
          "cluster 3": 105.74135241176786,
          "cluster 4": 3,
          "country": "dominican_republic",
          "region": "north_america",
          "strain": "DOM/2016/BB_0059"
         },
         {
          "cluster 1": 268,
          "cluster 2": 837,
          "cluster 3": 105.86674864107043,
          "cluster 4": 4,
          "country": "dominican_republic",
          "region": "north_america",
          "strain": "DOM/2016/BB_0071"
         },
         {
          "cluster 1": 801,
          "cluster 2": 893,
          "cluster 3": 108.31393187733728,
          "cluster 4": 17,
          "country": "dominican_republic",
          "region": "north_america",
          "strain": "DOM/2016/BB_0076"
         },
         {
          "cluster 1": 886,
          "cluster 2": 902,
          "cluster 3": 110.0821147434872,
          "cluster 4": 12,
          "country": "dominican_republic",
          "region": "north_america",
          "strain": "DOM/2016/BB_0085"
         },
         {
          "cluster 1": 873,
          "cluster 2": 907,
          "cluster 3": 111.26845395850962,
          "cluster 4": 14,
          "country": "dominican_republic",
          "region": "north_america",
          "strain": "DOM/2016/BB_0091"
         },
         {
          "cluster 1": 819,
          "cluster 2": 906,
          "cluster 3": 111.50406937228298,
          "cluster 4": 15,
          "country": "dominican_republic",
          "region": "north_america",
          "strain": "DOM/2016/BB_0115"
         },
         {
          "cluster 1": 806,
          "cluster 2": 905,
          "cluster 3": 112.25179119512326,
          "cluster 4": 7,
          "country": "dominican_republic",
          "region": "north_america",
          "strain": "DOM/2016/BB_0127"
         },
         {
          "cluster 1": 853,
          "cluster 2": 901,
          "cluster 3": 114.344067527001,
          "cluster 4": 17,
          "country": "dominican_republic",
          "region": "north_america",
          "strain": "DOM/2016/BB_0180"
         },
         {
          "cluster 1": 887,
          "cluster 2": 918,
          "cluster 3": 119.90561395930699,
          "cluster 4": 12,
          "country": "dominican_republic",
          "region": "north_america",
          "strain": "DOM/2016/BB_0183"
         },
         {
          "cluster 1": 881,
          "cluster 2": 927,
          "cluster 3": 123.85294768506253,
          "cluster 4": 8,
          "country": "dominican_republic",
          "region": "north_america",
          "strain": "DOM/2016/BB_0208"
         },
         {
          "cluster 1": 840,
          "cluster 2": 915,
          "cluster 3": 126.2185638564737,
          "cluster 4": 14,
          "country": "dominican_republic",
          "region": "north_america",
          "strain": "DOM/2016/BB_0216"
         },
         {
          "cluster 1": 657,
          "cluster 2": 913,
          "cluster 3": 127.58903615748848,
          "cluster 4": 12,
          "country": "dominican_republic",
          "region": "north_america",
          "strain": "DOM/2016/BB_0269"
         },
         {
          "cluster 1": 335,
          "cluster 2": 896,
          "cluster 3": 127.64887845117325,
          "cluster 4": 12,
          "country": "dominican_republic",
          "region": "north_america",
          "strain": "DOM/2016/BB_0428"
         },
         {
          "cluster 1": 672,
          "cluster 2": 874,
          "cluster 3": 127.86444331077617,
          "cluster 4": 4,
          "country": "dominican_republic",
          "region": "north_america",
          "strain": "DOM/2016/BB_0433"
         },
         {
          "cluster 1": 872,
          "cluster 2": 892,
          "cluster 3": 128.03452848386263,
          "cluster 4": 21,
          "country": "dominican_republic",
          "region": "north_america",
          "strain": "DOM/2016/BB_0436"
         },
         {
          "cluster 1": 878,
          "cluster 2": 903,
          "cluster 3": 128.0923826924509,
          "cluster 4": 5,
          "country": "dominican_republic",
          "region": "north_america",
          "strain": "DOM/2016/MA_WGS16_007"
         },
         {
          "cluster 1": 833,
          "cluster 2": 854,
          "cluster 3": 131.4184106241612,
          "cluster 4": 20,
          "country": "dominican_republic",
          "region": "north_america",
          "strain": "DOM/2016/MA_WGS16_009"
         },
         {
          "cluster 1": 849,
          "cluster 2": 865,
          "cluster 3": 133.77950418176857,
          "cluster 4": 13,
          "country": "dominican_republic",
          "region": "north_america",
          "strain": "DOM/2016/MA_WGS16_011"
         },
         {
          "cluster 1": 899,
          "cluster 2": 928,
          "cluster 3": 135.61096798386095,
          "cluster 4": 11,
          "country": "dominican_republic",
          "region": "north_america",
          "strain": "DOM/2016/MA_WGS16_013"
         },
         {
          "cluster 1": 876,
          "cluster 2": 925,
          "cluster 3": 136.25511745013202,
          "cluster 4": 15,
          "country": "dominican_republic",
          "region": "north_america",
          "strain": "DOM/2016/MA_WGS16_014"
         },
         {
          "cluster 1": 799,
          "cluster 2": 904,
          "cluster 3": 141.66255028942064,
          "cluster 4": 10,
          "country": "dominican_republic",
          "region": "north_america",
          "strain": "DOM/2016/MA_WGS16_020"
         },
         {
          "cluster 1": 814,
          "cluster 2": 916,
          "cluster 3": 141.8156429223159,
          "cluster 4": 5,
          "country": "dominican_republic",
          "region": "north_america",
          "strain": "DOM/2016/MA_WGS16_024"
         },
         {
          "cluster 1": 792,
          "cluster 2": 885,
          "cluster 3": 142.3505669861289,
          "cluster 4": 13,
          "country": "dominican_republic",
          "region": "north_america",
          "strain": "DOM/2016/MA_WGS16_031"
         },
         {
          "cluster 1": 592,
          "cluster 2": 911,
          "cluster 3": 142.61861697806404,
          "cluster 4": 19,
          "country": "dominican_republic",
          "region": "north_america",
          "strain": "DOM/2016/MA_WGS16_036"
         },
         {
          "cluster 1": 875,
          "cluster 2": 917,
          "cluster 3": 144.1272010930044,
          "cluster 4": 20,
          "country": "dominican_republic",
          "region": "north_america",
          "strain": "DOM/2016/MA_WGS16_040"
         },
         {
          "cluster 1": 817,
          "cluster 2": 922,
          "cluster 3": 145.5153105746894,
          "cluster 4": 9,
          "country": "dominican_republic",
          "region": "north_america",
          "strain": "Dominican_Rep_Rus_3ALT_2016"
         },
         {
          "cluster 1": 858,
          "cluster 2": 890,
          "cluster 3": 154.61058039773377,
          "cluster 4": 15,
          "country": "dominican_republic",
          "region": "north_america",
          "strain": "Dominican_Rep_Rus_4MRG_2016"
         },
         {
          "cluster 1": 805,
          "cluster 2": 952,
          "cluster 3": 155.00680056292646,
          "cluster 4": 19,
          "country": "dominican_republic",
          "region": "north_america",
          "strain": "Dominican_Rep_Rus_5RMN_2016"
         },
         {
          "cluster 1": 938,
          "cluster 2": 945,
          "cluster 3": 161.1858323904564,
          "cluster 4": 27,
          "country": "dominican_republic",
          "region": "north_america",
          "strain": "Dominican_Rep_Rus_7EGR_2016"
         },
         {
          "cluster 1": 503,
          "cluster 2": 852,
          "cluster 3": 168.37805575013272,
          "cluster 4": 3,
          "country": "dominican_republic",
          "region": "north_america",
          "strain": "Dominican_Rep_Rus_8ZBR_2016"
         },
         {
          "cluster 1": 888,
          "cluster 2": 936,
          "cluster 3": 173.56837243472842,
          "cluster 4": 17,
          "country": "dominican_republic",
          "region": "north_america",
          "strain": "Dominican_Republic/2016/PD1"
         },
         {
          "cluster 1": 923,
          "cluster 2": 931,
          "cluster 3": 176.33791040211972,
          "cluster 4": 16,
          "country": "dominican_republic",
          "region": "north_america",
          "strain": "Dominican_Republic/2016/ZB"
         },
         {
          "cluster 1": 883,
          "cluster 2": 950,
          "cluster 3": 179.77730227557868,
          "cluster 4": 20,
          "country": "dominican_republic",
          "region": "north_america",
          "strain": "R114916"
         },
         {
          "cluster 1": 914,
          "cluster 2": 947,
          "cluster 3": 181.12013967905563,
          "cluster 4": 30,
          "country": "ecuador",
          "region": "south_america",
          "strain": "EC/Esmeraldas/121/2016"
         },
         {
          "cluster 1": 863,
          "cluster 2": 912,
          "cluster 3": 183.0264817234538,
          "cluster 4": 13,
          "country": "ecuador",
          "region": "south_america",
          "strain": "EcEs062_16"
         },
         {
          "cluster 1": 508,
          "cluster 2": 509,
          "cluster 3": 184.05706953579065,
          "cluster 4": 2,
          "country": "ecuador",
          "region": "south_america",
          "strain": "EcEs089_16"
         },
         {
          "cluster 1": 822,
          "cluster 2": 926,
          "cluster 3": 189.85156928993305,
          "cluster 4": 19,
          "country": "guatemala",
          "region": "north_america",
          "strain": "FB_GWUH_2016"
         },
         {
          "cluster 1": 910,
          "cluster 2": 934,
          "cluster 3": 192.54535862550892,
          "cluster 4": 10,
          "country": "guatemala",
          "region": "north_america",
          "strain": "GTM/2016/Guatemala_2411"
         },
         {
          "cluster 1": 488,
          "cluster 2": 897,
          "cluster 3": 206.10693386911115,
          "cluster 4": 3,
          "country": "guatemala",
          "region": "north_america",
          "strain": "GTM/2016/Guatemala_3294"
         },
         {
          "cluster 1": 955,
          "cluster 2": 957,
          "cluster 3": 213.93081350956777,
          "cluster 4": 33,
          "country": "guatemala",
          "region": "north_america",
          "strain": "GTM/2016/Guatemala_3921"
         },
         {
          "cluster 1": 909,
          "cluster 2": 951,
          "cluster 3": 220.014540882249,
          "cluster 4": 17,
          "country": "guatemala",
          "region": "north_america",
          "strain": "Henan/001/2016"
         },
         {
          "cluster 1": 929,
          "cluster 2": 943,
          "cluster 3": 222.98434995656146,
          "cluster 4": 28,
          "country": "guatemala",
          "region": "north_america",
          "strain": "V103344"
         },
         {
          "cluster 1": 908,
          "cluster 2": 933,
          "cluster 3": 228.0644150803069,
          "cluster 4": 7,
          "country": "guatemala",
          "region": "north_america",
          "strain": "V8375"
         },
         {
          "cluster 1": 953,
          "cluster 2": 958,
          "cluster 3": 235.95122001587742,
          "cluster 4": 19,
          "country": "peru",
          "region": "south_america",
          "strain": "FPI15198/PERU/Loreto/2016"
         },
         {
          "cluster 1": 469,
          "cluster 2": 948,
          "cluster 3": 240.70432409268582,
          "cluster 4": 6,
          "country": "peru",
          "region": "south_america",
          "strain": "FPI15263/PERU/Loreto/2016"
         },
         {
          "cluster 1": 825,
          "cluster 2": 974,
          "cluster 3": 241.2821778543463,
          "cluster 4": 32,
          "country": "venezuela",
          "region": "south_america",
          "strain": "FVM00318/VEN/Maracay/2016"
         },
         {
          "cluster 1": 898,
          "cluster 2": 935,
          "cluster 3": 242.29974757290015,
          "cluster 4": 30,
          "country": "venezuela",
          "region": "south_america",
          "strain": "GD01"
         },
         {
          "cluster 1": 932,
          "cluster 2": 963,
          "cluster 3": 244.49411395066446,
          "cluster 4": 22,
          "country": "venezuela",
          "region": "south_america",
          "strain": "GDZ16001"
         },
         {
          "cluster 1": 942,
          "cluster 2": 970,
          "cluster 3": 262.97292717663197,
          "cluster 4": 18,
          "country": "venezuela",
          "region": "south_america",
          "strain": "GZ01"
         },
         {
          "cluster 1": 939,
          "cluster 2": 954,
          "cluster 3": 264.0114663465503,
          "cluster 4": 12,
          "country": "venezuela",
          "region": "south_america",
          "strain": "GZ02/2016"
         },
         {
          "cluster 1": 930,
          "cluster 2": 937,
          "cluster 3": 264.92014377285653,
          "cluster 4": 25,
          "country": "venezuela",
          "region": "south_america",
          "strain": "VEN/UF_1/2016"
         },
         {
          "cluster 1": 894,
          "cluster 2": 949,
          "cluster 3": 278.1845290192119,
          "cluster 4": 32,
          "country": "venezuela",
          "region": "south_america",
          "strain": "VEN/UF_2/2016"
         },
         {
          "cluster 1": 921,
          "cluster 2": 941,
          "cluster 3": 282.5222075008687,
          "cluster 4": 20,
          "country": "venezuela",
          "region": "south_america",
          "strain": "VE_Ganxian"
         },
         {
          "cluster 1": 959,
          "cluster 2": 964,
          "cluster 3": 296.9189542129588,
          "cluster 4": 31,
          "country": "venezuela",
          "region": "south_america",
          "strain": "Z16019"
         },
         {
          "cluster 1": 494,
          "cluster 2": 499,
          "cluster 3": 309.3446801401391,
          "cluster 4": 2,
          "country": "china",
          "region": "china",
          "strain": "GDZ16021"
         },
         {
          "cluster 1": 762,
          "cluster 2": 919,
          "cluster 3": 320.8707109234127,
          "cluster 4": 4,
          "country": "china",
          "region": "china",
          "strain": "GZDJ1666_2"
         },
         {
          "cluster 1": 497,
          "cluster 2": 739,
          "cluster 3": 326.2571051523564,
          "cluster 4": 3,
          "country": "china",
          "region": "china",
          "strain": "GZDJ1685"
         },
         {
          "cluster 1": 946,
          "cluster 2": 979,
          "cluster 3": 341.98147388215267,
          "cluster 4": 34,
          "country": "china",
          "region": "china",
          "strain": "SY01_2016"
         },
         {
          "cluster 1": 940,
          "cluster 2": 969,
          "cluster 3": 344.06542777549015,
          "cluster 4": 36,
          "country": "china",
          "region": "china",
          "strain": "ZG_01"
         },
         {
          "cluster 1": 977,
          "cluster 2": 982,
          "cluster 3": 363.5547444053265,
          "cluster 4": 18,
          "country": "china",
          "region": "china",
          "strain": "ZJ01"
         },
         {
          "cluster 1": 924,
          "cluster 2": 985,
          "cluster 3": 407.2002263924128,
          "cluster 4": 25,
          "country": "china",
          "region": "china",
          "strain": "ZJ04"
         },
         {
          "cluster 1": 973,
          "cluster 2": 983,
          "cluster 3": 414.4284492185389,
          "cluster 4": 42,
          "country": "china",
          "region": "china",
          "strain": "ZKC2P4"
         },
         {
          "cluster 1": 960,
          "cluster 2": 966,
          "cluster 3": 431.79840872825656,
          "cluster 4": 49,
          "country": "china",
          "region": "china",
          "strain": "ZKC2P6"
         },
         {
          "cluster 1": 967,
          "cluster 2": 980,
          "cluster 3": 465.5160870210742,
          "cluster 4": 35,
          "country": "china",
          "region": "china",
          "strain": "ZK_YN001"
         },
         {
          "cluster 1": 944,
          "cluster 2": 986,
          "cluster 3": 484.7155457830803,
          "cluster 4": 43,
          "country": "china",
          "region": "china",
          "strain": "ZZ_1"
         },
         {
          "cluster 1": 505,
          "cluster 2": 506,
          "cluster 3": 492.7692398729704,
          "cluster 4": 2,
          "country": "china",
          "region": "china",
          "strain": "_CCMU01/2016"
         },
         {
          "cluster 1": 965,
          "cluster 2": 976,
          "cluster 3": 521.3972759331934,
          "cluster 4": 39,
          "country": "haiti",
          "region": "north_america",
          "strain": "HTI/2016/MA_WGS16_022"
         },
         {
          "cluster 1": 956,
          "cluster 2": 972,
          "cluster 3": 536.2947656144447,
          "cluster 4": 52,
          "country": "haiti",
          "region": "north_america",
          "strain": "Haiti/0029/2014"
         },
         {
          "cluster 1": 507,
          "cluster 2": 968,
          "cluster 3": 628.1330983257948,
          "cluster 4": 3,
          "country": "haiti",
          "region": "north_america",
          "strain": "Haiti/0033/2014"
         },
         {
          "cluster 1": 961,
          "cluster 2": 984,
          "cluster 3": 644.4884727514651,
          "cluster 4": 59,
          "country": "haiti",
          "region": "north_america",
          "strain": "Haiti/0036/2014"
         },
         {
          "cluster 1": 504,
          "cluster 2": 962,
          "cluster 3": 656.4569682951518,
          "cluster 4": 4,
          "country": "haiti",
          "region": "north_america",
          "strain": "Haiti/0054/2014"
         },
         {
          "cluster 1": 981,
          "cluster 2": 999,
          "cluster 3": 717.0768947513341,
          "cluster 4": 57,
          "country": "haiti",
          "region": "north_america",
          "strain": "Haiti/0074/2014"
         },
         {
          "cluster 1": 971,
          "cluster 2": 989,
          "cluster 3": 769.7268449174497,
          "cluster 4": 6,
          "country": "haiti",
          "region": "north_america",
          "strain": "Haiti/0097/2014"
         },
         {
          "cluster 1": 992,
          "cluster 2": 996,
          "cluster 3": 840.5942179374308,
          "cluster 4": 53,
          "country": "haiti",
          "region": "north_america",
          "strain": "Haiti/1/2016"
         },
         {
          "cluster 1": 988,
          "cluster 2": 1003,
          "cluster 3": 879.3218815154378,
          "cluster 4": 8,
          "country": "haiti",
          "region": "north_america",
          "strain": "Haiti/1225/2014"
         },
         {
          "cluster 1": 994,
          "cluster 2": 995,
          "cluster 3": 1008.9896865352663,
          "cluster 4": 91,
          "country": "haiti",
          "region": "north_america",
          "strain": "Haiti/2016/PD"
         },
         {
          "cluster 1": 991,
          "cluster 2": 1000,
          "cluster 3": 1016.6105279211314,
          "cluster 4": 88,
          "country": "haiti",
          "region": "north_america",
          "strain": "mosquito/Haiti/1682/2016"
         },
         {
          "cluster 1": 987,
          "cluster 2": 1005,
          "cluster 3": 1042.5760766679089,
          "cluster 4": 8,
          "country": "haiti",
          "region": "north_america",
          "strain": "mosquito/Haiti/1855/2016"
         },
         {
          "cluster 1": 978,
          "cluster 2": 1004,
          "cluster 3": 1127.4543260603045,
          "cluster 4": 89,
          "country": "haiti",
          "region": "north_america",
          "strain": "mosquito/Haiti/1919/2016"
         },
         {
          "cluster 1": 975,
          "cluster 2": 993,
          "cluster 3": 1181.591221857974,
          "cluster 4": 32,
          "country": "jamaica",
          "region": "north_america",
          "strain": "JAM/2016/MA_WGS16_025"
         },
         {
          "cluster 1": 990,
          "cluster 2": 1002,
          "cluster 3": 1276.3598127344944,
          "cluster 4": 93,
          "country": "jamaica",
          "region": "north_america",
          "strain": "JAM/2016/MA_WGS16_038"
         },
         {
          "cluster 1": 997,
          "cluster 2": 1006,
          "cluster 3": 1357.0507724854672,
          "cluster 4": 96,
          "country": "jamaica",
          "region": "north_america",
          "strain": "JAM/2016/MA_WGS16_039"
         },
         {
          "cluster 1": 1007,
          "cluster 2": 1010,
          "cluster 3": 1999.99148967347,
          "cluster 4": 16,
          "country": "jamaica",
          "region": "north_america",
          "strain": "JAM/2016/MA_WGS16_041"
         },
         {
          "cluster 1": 511,
          "cluster 2": 512,
          "cluster 3": 2192.979662086619,
          "cluster 4": 2,
          "country": "jamaica",
          "region": "north_america",
          "strain": "JAM/2016/WI_JM6"
         },
         {
          "cluster 1": 998,
          "cluster 2": 1001,
          "cluster 3": 2305.6391330493234,
          "cluster 4": 5,
          "country": "martinique",
          "region": "north_america",
          "strain": "MRS_OPY_Martinique_PaRi_2015"
         },
         {
          "cluster 1": 1008,
          "cluster 2": 1012,
          "cluster 3": 2438.4762198751405,
          "cluster 4": 123,
          "country": "martinique",
          "region": "north_america",
          "strain": "Martinique/2016/FL001"
         },
         {
          "cluster 1": 1011,
          "cluster 2": 1013,
          "cluster 3": 2823.1342980454924,
          "cluster 4": 182,
          "country": "martinique",
          "region": "north_america",
          "strain": "Martinique/2016/FL001Sa"
         },
         {
          "cluster 1": 510,
          "cluster 2": 1017,
          "cluster 3": 3480.6583883979965,
          "cluster 4": 6,
          "country": "nicaragua",
          "region": "north_america",
          "strain": "NIC/1304_13A1/2016"
         },
         {
          "cluster 1": 1014,
          "cluster 2": 1019,
          "cluster 3": 3624.6457138432625,
          "cluster 4": 278,
          "country": "nicaragua",
          "region": "north_america",
          "strain": "NIC/1659_13A1/2016"
         },
         {
          "cluster 1": 1015,
          "cluster 2": 1018,
          "cluster 3": 5149.988814547659,
          "cluster 4": 139,
          "country": "nicaragua",
          "region": "north_america",
          "strain": "NIC/2016/Nicaragua_3358"
         },
         {
          "cluster 1": 1009,
          "cluster 2": 1021,
          "cluster 3": 5550.632429844119,
          "cluster 4": 366,
          "country": "nicaragua",
          "region": "north_america",
          "strain": "NIC/2016/Nicaragua_3912"
         },
         {
          "cluster 1": 1016,
          "cluster 2": 1020,
          "cluster 3": 9481.312508181927,
          "cluster 4": 8,
          "country": "nicaragua",
          "region": "north_america",
          "strain": "NIC/4886_12A1/2016"
         },
         {
          "cluster 1": 1022,
          "cluster 2": 1023,
          "cluster 3": 10252.738531634388,
          "cluster 4": 505,
          "country": "nicaragua",
          "region": "north_america",
          "strain": "NIC/5005_13A1/2016"
         },
         {
          "cluster 1": 513,
          "cluster 2": 514,
          "cluster 3": 19672.374001318563,
          "cluster 4": 2,
          "country": "nicaragua",
          "region": "north_america",
          "strain": "NIC/5256_13A1/2016"
         },
         {
          "cluster 1": 1024,
          "cluster 2": 1025,
          "cluster 3": 22717.31659340282,
          "cluster 4": 513,
          "country": "nicaragua",
          "region": "north_america",
          "strain": "NIC/5338_13A1/2016"
         },
         {
          "cluster 1": 1026,
          "cluster 2": 1027,
          "cluster 3": 75697.60821833588,
          "cluster 4": 515,
          "country": "nicaragua",
          "region": "north_america",
          "strain": "NIC/5847_12B1/2016"
         },
         {
          "cluster 1": null,
          "cluster 2": null,
          "cluster 3": null,
          "cluster 4": null,
          "country": "nicaragua",
          "region": "north_america",
          "strain": "NIC/6188_13A1/2016"
         },
         {
          "cluster 1": null,
          "cluster 2": null,
          "cluster 3": null,
          "cluster 4": null,
          "country": "nicaragua",
          "region": "north_america",
          "strain": "NIC/6406_13A1/2016"
         },
         {
          "cluster 1": null,
          "cluster 2": null,
          "cluster 3": null,
          "cluster 4": null,
          "country": "nicaragua",
          "region": "north_america",
          "strain": "NIC/6547_13A1/2016"
         },
         {
          "cluster 1": null,
          "cluster 2": null,
          "cluster 3": null,
          "cluster 4": null,
          "country": "nicaragua",
          "region": "north_america",
          "strain": "NIC/7252_12A1/2016"
         },
         {
          "cluster 1": null,
          "cluster 2": null,
          "cluster 3": null,
          "cluster 4": null,
          "country": "nicaragua",
          "region": "north_america",
          "strain": "NIC/7253_13A1/2016"
         },
         {
          "cluster 1": null,
          "cluster 2": null,
          "cluster 3": null,
          "cluster 4": null,
          "country": "nicaragua",
          "region": "north_america",
          "strain": "NIC/8610_13A1/2016"
         },
         {
          "cluster 1": null,
          "cluster 2": null,
          "cluster 3": null,
          "cluster 4": null,
          "country": "nicaragua",
          "region": "north_america",
          "strain": "Nica1_16"
         },
         {
          "cluster 1": null,
          "cluster 2": null,
          "cluster 3": null,
          "cluster 4": null,
          "country": "nicaragua",
          "region": "north_america",
          "strain": "Nica2_16"
         },
         {
          "cluster 1": null,
          "cluster 2": null,
          "cluster 3": null,
          "cluster 4": null,
          "country": "vietnam",
          "region": "southeast_asia",
          "strain": "NIID123/2016"
         },
         {
          "cluster 1": null,
          "cluster 2": null,
          "cluster 3": null,
          "cluster 4": null,
          "country": "suriname",
          "region": "south_america",
          "strain": "NL00013"
         },
         {
          "cluster 1": null,
          "cluster 2": null,
          "cluster 3": null,
          "cluster 4": null,
          "country": "suriname",
          "region": "south_america",
          "strain": "SL1602"
         },
         {
          "cluster 1": null,
          "cluster 2": null,
          "cluster 3": null,
          "cluster 4": null,
          "country": "suriname",
          "region": "south_america",
          "strain": "Z1106033"
         },
         {
          "cluster 1": null,
          "cluster 2": null,
          "cluster 3": null,
          "cluster 4": null,
          "country": "panama",
          "region": "north_america",
          "strain": "PAN/BEI_259634_V4/2016"
         },
         {
          "cluster 1": null,
          "cluster 2": null,
          "cluster 3": null,
          "cluster 4": null,
          "country": "panama",
          "region": "north_america",
          "strain": "PAN/CDC_259249_V1_V3/2015"
         },
         {
          "cluster 1": null,
          "cluster 2": null,
          "cluster 3": null,
          "cluster 4": null,
          "country": "panama",
          "region": "north_america",
          "strain": "PAN/CDC_259359_V1_V3/2015"
         },
         {
          "cluster 1": null,
          "cluster 2": null,
          "cluster 3": null,
          "cluster 4": null,
          "country": "panama",
          "region": "north_america",
          "strain": "PAN/CDC_259364_V1_V2/2015"
         },
         {
          "cluster 1": null,
          "cluster 2": null,
          "cluster 3": null,
          "cluster 4": null,
          "country": "panama",
          "region": "north_america",
          "strain": "Panama/2015/259249"
         },
         {
          "cluster 1": null,
          "cluster 2": null,
          "cluster 3": null,
          "cluster 4": null,
          "country": "panama",
          "region": "north_america",
          "strain": "Panama/2015/259359"
         },
         {
          "cluster 1": null,
          "cluster 2": null,
          "cluster 3": null,
          "cluster 4": null,
          "country": "panama",
          "region": "north_america",
          "strain": "Panama/2015/259364"
         },
         {
          "cluster 1": null,
          "cluster 2": null,
          "cluster 3": null,
          "cluster 4": null,
          "country": "guadeloupe",
          "region": "north_america",
          "strain": "PHE_Guadeloupe"
         },
         {
          "cluster 1": null,
          "cluster 2": null,
          "cluster 3": null,
          "cluster 4": null,
          "country": "puerto_rico",
          "region": "north_america",
          "strain": "PRI/2016/MA_WGS16_004"
         },
         {
          "cluster 1": null,
          "cluster 2": null,
          "cluster 3": null,
          "cluster 4": null,
          "country": "puerto_rico",
          "region": "north_america",
          "strain": "PRI/2016/MA_WGS16_005"
         },
         {
          "cluster 1": null,
          "cluster 2": null,
          "cluster 3": null,
          "cluster 4": null,
          "country": "puerto_rico",
          "region": "north_america",
          "strain": "PRI/2016/MA_WGS16_016"
         },
         {
          "cluster 1": null,
          "cluster 2": null,
          "cluster 3": null,
          "cluster 4": null,
          "country": "puerto_rico",
          "region": "north_america",
          "strain": "PRVABC59"
         },
         {
          "cluster 1": null,
          "cluster 2": null,
          "cluster 3": null,
          "cluster 4": null,
          "country": "puerto_rico",
          "region": "north_america",
          "strain": "PuertoRico/2016/FL008U"
         },
         {
          "cluster 1": null,
          "cluster 2": null,
          "cluster 3": null,
          "cluster 4": null,
          "country": "puerto_rico",
          "region": "north_america",
          "strain": "PuertoRico/2016/FL016U"
         },
         {
          "cluster 1": null,
          "cluster 2": null,
          "cluster 3": null,
          "cluster 4": null,
          "country": "puerto_rico",
          "region": "north_america",
          "strain": "Puerto_Rico/2015/PRVABC59"
         },
         {
          "cluster 1": null,
          "cluster 2": null,
          "cluster 3": null,
          "cluster 4": null,
          "country": "singapore",
          "region": "southeast_asia",
          "strain": "SG_001"
         },
         {
          "cluster 1": null,
          "cluster 2": null,
          "cluster 3": null,
          "cluster 4": null,
          "country": "singapore",
          "region": "southeast_asia",
          "strain": "SG_003"
         },
         {
          "cluster 1": null,
          "cluster 2": null,
          "cluster 3": null,
          "cluster 4": null,
          "country": "singapore",
          "region": "southeast_asia",
          "strain": "SG_004"
         },
         {
          "cluster 1": null,
          "cluster 2": null,
          "cluster 3": null,
          "cluster 4": null,
          "country": "singapore",
          "region": "southeast_asia",
          "strain": "SG_005"
         },
         {
          "cluster 1": null,
          "cluster 2": null,
          "cluster 3": null,
          "cluster 4": null,
          "country": "singapore",
          "region": "southeast_asia",
          "strain": "SG_006"
         },
         {
          "cluster 1": null,
          "cluster 2": null,
          "cluster 3": null,
          "cluster 4": null,
          "country": "singapore",
          "region": "southeast_asia",
          "strain": "SG_007"
         },
         {
          "cluster 1": null,
          "cluster 2": null,
          "cluster 3": null,
          "cluster 4": null,
          "country": "singapore",
          "region": "southeast_asia",
          "strain": "SG_008"
         },
         {
          "cluster 1": null,
          "cluster 2": null,
          "cluster 3": null,
          "cluster 4": null,
          "country": "singapore",
          "region": "southeast_asia",
          "strain": "SG_009"
         },
         {
          "cluster 1": null,
          "cluster 2": null,
          "cluster 3": null,
          "cluster 4": null,
          "country": "singapore",
          "region": "southeast_asia",
          "strain": "SG_010"
         },
         {
          "cluster 1": null,
          "cluster 2": null,
          "cluster 3": null,
          "cluster 4": null,
          "country": "singapore",
          "region": "southeast_asia",
          "strain": "SG_011"
         },
         {
          "cluster 1": null,
          "cluster 2": null,
          "cluster 3": null,
          "cluster 4": null,
          "country": "singapore",
          "region": "southeast_asia",
          "strain": "SG_012"
         },
         {
          "cluster 1": null,
          "cluster 2": null,
          "cluster 3": null,
          "cluster 4": null,
          "country": "singapore",
          "region": "southeast_asia",
          "strain": "SG_013"
         },
         {
          "cluster 1": null,
          "cluster 2": null,
          "cluster 3": null,
          "cluster 4": null,
          "country": "singapore",
          "region": "southeast_asia",
          "strain": "SG_014"
         },
         {
          "cluster 1": null,
          "cluster 2": null,
          "cluster 3": null,
          "cluster 4": null,
          "country": "singapore",
          "region": "southeast_asia",
          "strain": "SG_015"
         },
         {
          "cluster 1": null,
          "cluster 2": null,
          "cluster 3": null,
          "cluster 4": null,
          "country": "singapore",
          "region": "southeast_asia",
          "strain": "SG_016"
         },
         {
          "cluster 1": null,
          "cluster 2": null,
          "cluster 3": null,
          "cluster 4": null,
          "country": "singapore",
          "region": "southeast_asia",
          "strain": "SG_017"
         },
         {
          "cluster 1": null,
          "cluster 2": null,
          "cluster 3": null,
          "cluster 4": null,
          "country": "singapore",
          "region": "southeast_asia",
          "strain": "SG_018"
         },
         {
          "cluster 1": null,
          "cluster 2": null,
          "cluster 3": null,
          "cluster 4": null,
          "country": "singapore",
          "region": "southeast_asia",
          "strain": "SG_019"
         },
         {
          "cluster 1": null,
          "cluster 2": null,
          "cluster 3": null,
          "cluster 4": null,
          "country": "singapore",
          "region": "southeast_asia",
          "strain": "SG_020"
         },
         {
          "cluster 1": null,
          "cluster 2": null,
          "cluster 3": null,
          "cluster 4": null,
          "country": "singapore",
          "region": "southeast_asia",
          "strain": "SG_021"
         },
         {
          "cluster 1": null,
          "cluster 2": null,
          "cluster 3": null,
          "cluster 4": null,
          "country": "singapore",
          "region": "southeast_asia",
          "strain": "SG_022"
         },
         {
          "cluster 1": null,
          "cluster 2": null,
          "cluster 3": null,
          "cluster 4": null,
          "country": "singapore",
          "region": "southeast_asia",
          "strain": "SG_023"
         },
         {
          "cluster 1": null,
          "cluster 2": null,
          "cluster 3": null,
          "cluster 4": null,
          "country": "singapore",
          "region": "southeast_asia",
          "strain": "SG_024"
         },
         {
          "cluster 1": null,
          "cluster 2": null,
          "cluster 3": null,
          "cluster 4": null,
          "country": "singapore",
          "region": "southeast_asia",
          "strain": "SG_025"
         },
         {
          "cluster 1": null,
          "cluster 2": null,
          "cluster 3": null,
          "cluster 4": null,
          "country": "singapore",
          "region": "southeast_asia",
          "strain": "SG_026"
         },
         {
          "cluster 1": null,
          "cluster 2": null,
          "cluster 3": null,
          "cluster 4": null,
          "country": "singapore",
          "region": "southeast_asia",
          "strain": "SG_027"
         },
         {
          "cluster 1": null,
          "cluster 2": null,
          "cluster 3": null,
          "cluster 4": null,
          "country": "singapore",
          "region": "southeast_asia",
          "strain": "SG_028"
         },
         {
          "cluster 1": null,
          "cluster 2": null,
          "cluster 3": null,
          "cluster 4": null,
          "country": "singapore",
          "region": "southeast_asia",
          "strain": "SG_029"
         },
         {
          "cluster 1": null,
          "cluster 2": null,
          "cluster 3": null,
          "cluster 4": null,
          "country": "singapore",
          "region": "southeast_asia",
          "strain": "SG_030"
         },
         {
          "cluster 1": null,
          "cluster 2": null,
          "cluster 3": null,
          "cluster 4": null,
          "country": "singapore",
          "region": "southeast_asia",
          "strain": "SG_031"
         },
         {
          "cluster 1": null,
          "cluster 2": null,
          "cluster 3": null,
          "cluster 4": null,
          "country": "singapore",
          "region": "southeast_asia",
          "strain": "SG_032"
         },
         {
          "cluster 1": null,
          "cluster 2": null,
          "cluster 3": null,
          "cluster 4": null,
          "country": "singapore",
          "region": "southeast_asia",
          "strain": "SG_033"
         },
         {
          "cluster 1": null,
          "cluster 2": null,
          "cluster 3": null,
          "cluster 4": null,
          "country": "singapore",
          "region": "southeast_asia",
          "strain": "SG_034"
         },
         {
          "cluster 1": null,
          "cluster 2": null,
          "cluster 3": null,
          "cluster 4": null,
          "country": "singapore",
          "region": "southeast_asia",
          "strain": "SG_035"
         },
         {
          "cluster 1": null,
          "cluster 2": null,
          "cluster 3": null,
          "cluster 4": null,
          "country": "singapore",
          "region": "southeast_asia",
          "strain": "SG_036"
         },
         {
          "cluster 1": null,
          "cluster 2": null,
          "cluster 3": null,
          "cluster 4": null,
          "country": "singapore",
          "region": "southeast_asia",
          "strain": "SG_037"
         },
         {
          "cluster 1": null,
          "cluster 2": null,
          "cluster 3": null,
          "cluster 4": null,
          "country": "singapore",
          "region": "southeast_asia",
          "strain": "SG_038"
         },
         {
          "cluster 1": null,
          "cluster 2": null,
          "cluster 3": null,
          "cluster 4": null,
          "country": "singapore",
          "region": "southeast_asia",
          "strain": "SG_039"
         },
         {
          "cluster 1": null,
          "cluster 2": null,
          "cluster 3": null,
          "cluster 4": null,
          "country": "singapore",
          "region": "southeast_asia",
          "strain": "SG_040"
         },
         {
          "cluster 1": null,
          "cluster 2": null,
          "cluster 3": null,
          "cluster 4": null,
          "country": "singapore",
          "region": "southeast_asia",
          "strain": "SG_041"
         },
         {
          "cluster 1": null,
          "cluster 2": null,
          "cluster 3": null,
          "cluster 4": null,
          "country": "singapore",
          "region": "southeast_asia",
          "strain": "SG_042"
         },
         {
          "cluster 1": null,
          "cluster 2": null,
          "cluster 3": null,
          "cluster 4": null,
          "country": "singapore",
          "region": "southeast_asia",
          "strain": "SG_043"
         },
         {
          "cluster 1": null,
          "cluster 2": null,
          "cluster 3": null,
          "cluster 4": null,
          "country": "singapore",
          "region": "southeast_asia",
          "strain": "SG_044"
         },
         {
          "cluster 1": null,
          "cluster 2": null,
          "cluster 3": null,
          "cluster 4": null,
          "country": "singapore",
          "region": "southeast_asia",
          "strain": "SG_045"
         },
         {
          "cluster 1": null,
          "cluster 2": null,
          "cluster 3": null,
          "cluster 4": null,
          "country": "singapore",
          "region": "southeast_asia",
          "strain": "SG_046"
         },
         {
          "cluster 1": null,
          "cluster 2": null,
          "cluster 3": null,
          "cluster 4": null,
          "country": "singapore",
          "region": "southeast_asia",
          "strain": "SG_047"
         },
         {
          "cluster 1": null,
          "cluster 2": null,
          "cluster 3": null,
          "cluster 4": null,
          "country": "singapore",
          "region": "southeast_asia",
          "strain": "SG_048"
         },
         {
          "cluster 1": null,
          "cluster 2": null,
          "cluster 3": null,
          "cluster 4": null,
          "country": "singapore",
          "region": "southeast_asia",
          "strain": "SG_049"
         },
         {
          "cluster 1": null,
          "cluster 2": null,
          "cluster 3": null,
          "cluster 4": null,
          "country": "singapore",
          "region": "southeast_asia",
          "strain": "SG_050"
         },
         {
          "cluster 1": null,
          "cluster 2": null,
          "cluster 3": null,
          "cluster 4": null,
          "country": "singapore",
          "region": "southeast_asia",
          "strain": "SG_051"
         },
         {
          "cluster 1": null,
          "cluster 2": null,
          "cluster 3": null,
          "cluster 4": null,
          "country": "singapore",
          "region": "southeast_asia",
          "strain": "SG_052"
         },
         {
          "cluster 1": null,
          "cluster 2": null,
          "cluster 3": null,
          "cluster 4": null,
          "country": "singapore",
          "region": "southeast_asia",
          "strain": "SG_053"
         },
         {
          "cluster 1": null,
          "cluster 2": null,
          "cluster 3": null,
          "cluster 4": null,
          "country": "singapore",
          "region": "southeast_asia",
          "strain": "SG_054"
         },
         {
          "cluster 1": null,
          "cluster 2": null,
          "cluster 3": null,
          "cluster 4": null,
          "country": "singapore",
          "region": "southeast_asia",
          "strain": "SG_055"
         },
         {
          "cluster 1": null,
          "cluster 2": null,
          "cluster 3": null,
          "cluster 4": null,
          "country": "singapore",
          "region": "southeast_asia",
          "strain": "SG_056"
         },
         {
          "cluster 1": null,
          "cluster 2": null,
          "cluster 3": null,
          "cluster 4": null,
          "country": "singapore",
          "region": "southeast_asia",
          "strain": "SG_057"
         },
         {
          "cluster 1": null,
          "cluster 2": null,
          "cluster 3": null,
          "cluster 4": null,
          "country": "singapore",
          "region": "southeast_asia",
          "strain": "SG_058"
         },
         {
          "cluster 1": null,
          "cluster 2": null,
          "cluster 3": null,
          "cluster 4": null,
          "country": "singapore",
          "region": "southeast_asia",
          "strain": "SG_059"
         },
         {
          "cluster 1": null,
          "cluster 2": null,
          "cluster 3": null,
          "cluster 4": null,
          "country": "singapore",
          "region": "southeast_asia",
          "strain": "SG_060"
         },
         {
          "cluster 1": null,
          "cluster 2": null,
          "cluster 3": null,
          "cluster 4": null,
          "country": "singapore",
          "region": "southeast_asia",
          "strain": "SG_061"
         },
         {
          "cluster 1": null,
          "cluster 2": null,
          "cluster 3": null,
          "cluster 4": null,
          "country": "singapore",
          "region": "southeast_asia",
          "strain": "SG_062"
         },
         {
          "cluster 1": null,
          "cluster 2": null,
          "cluster 3": null,
          "cluster 4": null,
          "country": "singapore",
          "region": "southeast_asia",
          "strain": "SG_063"
         },
         {
          "cluster 1": null,
          "cluster 2": null,
          "cluster 3": null,
          "cluster 4": null,
          "country": "singapore",
          "region": "southeast_asia",
          "strain": "SG_064"
         },
         {
          "cluster 1": null,
          "cluster 2": null,
          "cluster 3": null,
          "cluster 4": null,
          "country": "singapore",
          "region": "southeast_asia",
          "strain": "SG_065"
         },
         {
          "cluster 1": null,
          "cluster 2": null,
          "cluster 3": null,
          "cluster 4": null,
          "country": "singapore",
          "region": "southeast_asia",
          "strain": "SG_066"
         },
         {
          "cluster 1": null,
          "cluster 2": null,
          "cluster 3": null,
          "cluster 4": null,
          "country": "singapore",
          "region": "southeast_asia",
          "strain": "SG_067"
         },
         {
          "cluster 1": null,
          "cluster 2": null,
          "cluster 3": null,
          "cluster 4": null,
          "country": "singapore",
          "region": "southeast_asia",
          "strain": "SG_068"
         },
         {
          "cluster 1": null,
          "cluster 2": null,
          "cluster 3": null,
          "cluster 4": null,
          "country": "singapore",
          "region": "southeast_asia",
          "strain": "SG_069"
         },
         {
          "cluster 1": null,
          "cluster 2": null,
          "cluster 3": null,
          "cluster 4": null,
          "country": "singapore",
          "region": "southeast_asia",
          "strain": "SG_070"
         },
         {
          "cluster 1": null,
          "cluster 2": null,
          "cluster 3": null,
          "cluster 4": null,
          "country": "singapore",
          "region": "southeast_asia",
          "strain": "SG_071"
         },
         {
          "cluster 1": null,
          "cluster 2": null,
          "cluster 3": null,
          "cluster 4": null,
          "country": "singapore",
          "region": "southeast_asia",
          "strain": "SG_072"
         },
         {
          "cluster 1": null,
          "cluster 2": null,
          "cluster 3": null,
          "cluster 4": null,
          "country": "singapore",
          "region": "southeast_asia",
          "strain": "SG_073"
         },
         {
          "cluster 1": null,
          "cluster 2": null,
          "cluster 3": null,
          "cluster 4": null,
          "country": "singapore",
          "region": "southeast_asia",
          "strain": "SG_074"
         },
         {
          "cluster 1": null,
          "cluster 2": null,
          "cluster 3": null,
          "cluster 4": null,
          "country": "singapore",
          "region": "southeast_asia",
          "strain": "SG_075"
         },
         {
          "cluster 1": null,
          "cluster 2": null,
          "cluster 3": null,
          "cluster 4": null,
          "country": "singapore",
          "region": "southeast_asia",
          "strain": "SG_076"
         },
         {
          "cluster 1": null,
          "cluster 2": null,
          "cluster 3": null,
          "cluster 4": null,
          "country": "singapore",
          "region": "southeast_asia",
          "strain": "SG_077"
         },
         {
          "cluster 1": null,
          "cluster 2": null,
          "cluster 3": null,
          "cluster 4": null,
          "country": "singapore",
          "region": "southeast_asia",
          "strain": "SG_078"
         },
         {
          "cluster 1": null,
          "cluster 2": null,
          "cluster 3": null,
          "cluster 4": null,
          "country": "singapore",
          "region": "southeast_asia",
          "strain": "SG_079"
         },
         {
          "cluster 1": null,
          "cluster 2": null,
          "cluster 3": null,
          "cluster 4": null,
          "country": "singapore",
          "region": "southeast_asia",
          "strain": "SG_080"
         },
         {
          "cluster 1": null,
          "cluster 2": null,
          "cluster 3": null,
          "cluster 4": null,
          "country": "singapore",
          "region": "southeast_asia",
          "strain": "SG_081"
         },
         {
          "cluster 1": null,
          "cluster 2": null,
          "cluster 3": null,
          "cluster 4": null,
          "country": "singapore",
          "region": "southeast_asia",
          "strain": "SG_082"
         },
         {
          "cluster 1": null,
          "cluster 2": null,
          "cluster 3": null,
          "cluster 4": null,
          "country": "singapore",
          "region": "southeast_asia",
          "strain": "SG_083"
         },
         {
          "cluster 1": null,
          "cluster 2": null,
          "cluster 3": null,
          "cluster 4": null,
          "country": "singapore",
          "region": "southeast_asia",
          "strain": "SG_084"
         },
         {
          "cluster 1": null,
          "cluster 2": null,
          "cluster 3": null,
          "cluster 4": null,
          "country": "singapore",
          "region": "southeast_asia",
          "strain": "SG_085"
         },
         {
          "cluster 1": null,
          "cluster 2": null,
          "cluster 3": null,
          "cluster 4": null,
          "country": "singapore",
          "region": "southeast_asia",
          "strain": "SG_086"
         },
         {
          "cluster 1": null,
          "cluster 2": null,
          "cluster 3": null,
          "cluster 4": null,
          "country": "singapore",
          "region": "southeast_asia",
          "strain": "SG_087"
         },
         {
          "cluster 1": null,
          "cluster 2": null,
          "cluster 3": null,
          "cluster 4": null,
          "country": "singapore",
          "region": "southeast_asia",
          "strain": "SG_088"
         },
         {
          "cluster 1": null,
          "cluster 2": null,
          "cluster 3": null,
          "cluster 4": null,
          "country": "singapore",
          "region": "southeast_asia",
          "strain": "SG_089"
         },
         {
          "cluster 1": null,
          "cluster 2": null,
          "cluster 3": null,
          "cluster 4": null,
          "country": "singapore",
          "region": "southeast_asia",
          "strain": "SG_090"
         },
         {
          "cluster 1": null,
          "cluster 2": null,
          "cluster 3": null,
          "cluster 4": null,
          "country": "singapore",
          "region": "southeast_asia",
          "strain": "SG_091"
         },
         {
          "cluster 1": null,
          "cluster 2": null,
          "cluster 3": null,
          "cluster 4": null,
          "country": "singapore",
          "region": "southeast_asia",
          "strain": "SG_092"
         },
         {
          "cluster 1": null,
          "cluster 2": null,
          "cluster 3": null,
          "cluster 4": null,
          "country": "singapore",
          "region": "southeast_asia",
          "strain": "SG_093"
         },
         {
          "cluster 1": null,
          "cluster 2": null,
          "cluster 3": null,
          "cluster 4": null,
          "country": "singapore",
          "region": "southeast_asia",
          "strain": "SG_094"
         },
         {
          "cluster 1": null,
          "cluster 2": null,
          "cluster 3": null,
          "cluster 4": null,
          "country": "singapore",
          "region": "southeast_asia",
          "strain": "SG_095"
         },
         {
          "cluster 1": null,
          "cluster 2": null,
          "cluster 3": null,
          "cluster 4": null,
          "country": "singapore",
          "region": "southeast_asia",
          "strain": "SG_096"
         },
         {
          "cluster 1": null,
          "cluster 2": null,
          "cluster 3": null,
          "cluster 4": null,
          "country": "singapore",
          "region": "southeast_asia",
          "strain": "SG_097"
         },
         {
          "cluster 1": null,
          "cluster 2": null,
          "cluster 3": null,
          "cluster 4": null,
          "country": "singapore",
          "region": "southeast_asia",
          "strain": "SG_098"
         },
         {
          "cluster 1": null,
          "cluster 2": null,
          "cluster 3": null,
          "cluster 4": null,
          "country": "singapore",
          "region": "southeast_asia",
          "strain": "SG_099"
         },
         {
          "cluster 1": null,
          "cluster 2": null,
          "cluster 3": null,
          "cluster 4": null,
          "country": "singapore",
          "region": "southeast_asia",
          "strain": "SG_100"
         },
         {
          "cluster 1": null,
          "cluster 2": null,
          "cluster 3": null,
          "cluster 4": null,
          "country": "singapore",
          "region": "southeast_asia",
          "strain": "SG_101"
         },
         {
          "cluster 1": null,
          "cluster 2": null,
          "cluster 3": null,
          "cluster 4": null,
          "country": "singapore",
          "region": "southeast_asia",
          "strain": "SG_102"
         },
         {
          "cluster 1": null,
          "cluster 2": null,
          "cluster 3": null,
          "cluster 4": null,
          "country": "singapore",
          "region": "southeast_asia",
          "strain": "SG_103"
         },
         {
          "cluster 1": null,
          "cluster 2": null,
          "cluster 3": null,
          "cluster 4": null,
          "country": "singapore",
          "region": "southeast_asia",
          "strain": "SG_104"
         },
         {
          "cluster 1": null,
          "cluster 2": null,
          "cluster 3": null,
          "cluster 4": null,
          "country": "singapore",
          "region": "southeast_asia",
          "strain": "SG_105"
         },
         {
          "cluster 1": null,
          "cluster 2": null,
          "cluster 3": null,
          "cluster 4": null,
          "country": "singapore",
          "region": "southeast_asia",
          "strain": "SG_106"
         },
         {
          "cluster 1": null,
          "cluster 2": null,
          "cluster 3": null,
          "cluster 4": null,
          "country": "singapore",
          "region": "southeast_asia",
          "strain": "SG_107"
         },
         {
          "cluster 1": null,
          "cluster 2": null,
          "cluster 3": null,
          "cluster 4": null,
          "country": "singapore",
          "region": "southeast_asia",
          "strain": "SG_108"
         },
         {
          "cluster 1": null,
          "cluster 2": null,
          "cluster 3": null,
          "cluster 4": null,
          "country": "singapore",
          "region": "southeast_asia",
          "strain": "SG_109"
         },
         {
          "cluster 1": null,
          "cluster 2": null,
          "cluster 3": null,
          "cluster 4": null,
          "country": "singapore",
          "region": "southeast_asia",
          "strain": "SG_110"
         },
         {
          "cluster 1": null,
          "cluster 2": null,
          "cluster 3": null,
          "cluster 4": null,
          "country": "singapore",
          "region": "southeast_asia",
          "strain": "SG_111"
         },
         {
          "cluster 1": null,
          "cluster 2": null,
          "cluster 3": null,
          "cluster 4": null,
          "country": "singapore",
          "region": "southeast_asia",
          "strain": "SG_112"
         },
         {
          "cluster 1": null,
          "cluster 2": null,
          "cluster 3": null,
          "cluster 4": null,
          "country": "singapore",
          "region": "southeast_asia",
          "strain": "SG_113"
         },
         {
          "cluster 1": null,
          "cluster 2": null,
          "cluster 3": null,
          "cluster 4": null,
          "country": "singapore",
          "region": "southeast_asia",
          "strain": "SG_114"
         },
         {
          "cluster 1": null,
          "cluster 2": null,
          "cluster 3": null,
          "cluster 4": null,
          "country": "singapore",
          "region": "southeast_asia",
          "strain": "SG_115"
         },
         {
          "cluster 1": null,
          "cluster 2": null,
          "cluster 3": null,
          "cluster 4": null,
          "country": "singapore",
          "region": "southeast_asia",
          "strain": "SG_116"
         },
         {
          "cluster 1": null,
          "cluster 2": null,
          "cluster 3": null,
          "cluster 4": null,
          "country": "singapore",
          "region": "southeast_asia",
          "strain": "SG_117"
         },
         {
          "cluster 1": null,
          "cluster 2": null,
          "cluster 3": null,
          "cluster 4": null,
          "country": "singapore",
          "region": "southeast_asia",
          "strain": "SG_118"
         },
         {
          "cluster 1": null,
          "cluster 2": null,
          "cluster 3": null,
          "cluster 4": null,
          "country": "singapore",
          "region": "southeast_asia",
          "strain": "ZKA_16_097"
         },
         {
          "cluster 1": null,
          "cluster 2": null,
          "cluster 3": null,
          "cluster 4": null,
          "country": "singapore",
          "region": "southeast_asia",
          "strain": "ZKA_16_291"
         },
         {
          "cluster 1": null,
          "cluster 2": null,
          "cluster 3": null,
          "cluster 4": null,
          "country": "singapore",
          "region": "southeast_asia",
          "strain": "ZKA_16_922"
         },
         {
          "cluster 1": null,
          "cluster 2": null,
          "cluster 3": null,
          "cluster 4": null,
          "country": "el_salvador",
          "region": "north_america",
          "strain": "SLV/2016/ElSalvador_1055"
         },
         {
          "cluster 1": null,
          "cluster 2": null,
          "cluster 3": null,
          "cluster 4": null,
          "country": "el_salvador",
          "region": "north_america",
          "strain": "UNK/2016/MA_WGS16_029"
         },
         {
          "cluster 1": null,
          "cluster 2": null,
          "cluster 3": null,
          "cluster 4": null,
          "country": "saint_barthelemy",
          "region": "north_america",
          "strain": "Saint_Barthelemi_Rus_6BRN_2016"
         },
         {
          "cluster 1": null,
          "cluster 2": null,
          "cluster 3": null,
          "cluster 4": null,
          "country": "tonga",
          "region": "oceania",
          "strain": "TS17_2016"
         },
         {
          "cluster 1": null,
          "cluster 2": null,
          "cluster 3": null,
          "cluster 4": null,
          "country": "taiwan",
          "region": "china",
          "strain": "Thailand/1605aTw"
         },
         {
          "cluster 1": null,
          "cluster 2": null,
          "cluster 3": null,
          "cluster 4": null,
          "country": "usvi",
          "region": "north_america",
          "strain": "USVI/1/2016"
         },
         {
          "cluster 1": null,
          "cluster 2": null,
          "cluster 3": null,
          "cluster 4": null,
          "country": "usvi",
          "region": "north_america",
          "strain": "USVI/11/2016"
         },
         {
          "cluster 1": null,
          "cluster 2": null,
          "cluster 3": null,
          "cluster 4": null,
          "country": "usvi",
          "region": "north_america",
          "strain": "USVI/12/2016"
         },
         {
          "cluster 1": null,
          "cluster 2": null,
          "cluster 3": null,
          "cluster 4": null,
          "country": "usvi",
          "region": "north_america",
          "strain": "USVI/13/2016"
         },
         {
          "cluster 1": null,
          "cluster 2": null,
          "cluster 3": null,
          "cluster 4": null,
          "country": "usvi",
          "region": "north_america",
          "strain": "USVI/15/2016"
         },
         {
          "cluster 1": null,
          "cluster 2": null,
          "cluster 3": null,
          "cluster 4": null,
          "country": "usvi",
          "region": "north_america",
          "strain": "USVI/19/2016"
         },
         {
          "cluster 1": null,
          "cluster 2": null,
          "cluster 3": null,
          "cluster 4": null,
          "country": "usvi",
          "region": "north_america",
          "strain": "USVI/2/2016"
         },
         {
          "cluster 1": null,
          "cluster 2": null,
          "cluster 3": null,
          "cluster 4": null,
          "country": "usvi",
          "region": "north_america",
          "strain": "USVI/20/2016"
         },
         {
          "cluster 1": null,
          "cluster 2": null,
          "cluster 3": null,
          "cluster 4": null,
          "country": "usvi",
          "region": "north_america",
          "strain": "USVI/21/2016"
         },
         {
          "cluster 1": null,
          "cluster 2": null,
          "cluster 3": null,
          "cluster 4": null,
          "country": "usvi",
          "region": "north_america",
          "strain": "USVI/22/2016"
         },
         {
          "cluster 1": null,
          "cluster 2": null,
          "cluster 3": null,
          "cluster 4": null,
          "country": "usvi",
          "region": "north_america",
          "strain": "USVI/23/2016"
         },
         {
          "cluster 1": null,
          "cluster 2": null,
          "cluster 3": null,
          "cluster 4": null,
          "country": "usvi",
          "region": "north_america",
          "strain": "USVI/24/2016"
         },
         {
          "cluster 1": null,
          "cluster 2": null,
          "cluster 3": null,
          "cluster 4": null,
          "country": "usvi",
          "region": "north_america",
          "strain": "USVI/25/2016"
         },
         {
          "cluster 1": null,
          "cluster 2": null,
          "cluster 3": null,
          "cluster 4": null,
          "country": "usvi",
          "region": "north_america",
          "strain": "USVI/27/2016"
         },
         {
          "cluster 1": null,
          "cluster 2": null,
          "cluster 3": null,
          "cluster 4": null,
          "country": "usvi",
          "region": "north_america",
          "strain": "USVI/28/2016"
         },
         {
          "cluster 1": null,
          "cluster 2": null,
          "cluster 3": null,
          "cluster 4": null,
          "country": "usvi",
          "region": "north_america",
          "strain": "USVI/3/2016"
         },
         {
          "cluster 1": null,
          "cluster 2": null,
          "cluster 3": null,
          "cluster 4": null,
          "country": "usvi",
          "region": "north_america",
          "strain": "USVI/30/2016"
         },
         {
          "cluster 1": null,
          "cluster 2": null,
          "cluster 3": null,
          "cluster 4": null,
          "country": "usvi",
          "region": "north_america",
          "strain": "USVI/32/2016"
         },
         {
          "cluster 1": null,
          "cluster 2": null,
          "cluster 3": null,
          "cluster 4": null,
          "country": "usvi",
          "region": "north_america",
          "strain": "USVI/34/2016"
         },
         {
          "cluster 1": null,
          "cluster 2": null,
          "cluster 3": null,
          "cluster 4": null,
          "country": "usvi",
          "region": "north_america",
          "strain": "USVI/35/2016"
         },
         {
          "cluster 1": null,
          "cluster 2": null,
          "cluster 3": null,
          "cluster 4": null,
          "country": "usvi",
          "region": "north_america",
          "strain": "USVI/36/2016"
         },
         {
          "cluster 1": null,
          "cluster 2": null,
          "cluster 3": null,
          "cluster 4": null,
          "country": "usvi",
          "region": "north_america",
          "strain": "USVI/37/2016"
         },
         {
          "cluster 1": null,
          "cluster 2": null,
          "cluster 3": null,
          "cluster 4": null,
          "country": "usvi",
          "region": "north_america",
          "strain": "USVI/38/2016"
         },
         {
          "cluster 1": null,
          "cluster 2": null,
          "cluster 3": null,
          "cluster 4": null,
          "country": "usvi",
          "region": "north_america",
          "strain": "USVI/39/2016"
         },
         {
          "cluster 1": null,
          "cluster 2": null,
          "cluster 3": null,
          "cluster 4": null,
          "country": "usvi",
          "region": "north_america",
          "strain": "USVI/4/2016"
         },
         {
          "cluster 1": null,
          "cluster 2": null,
          "cluster 3": null,
          "cluster 4": null,
          "country": "usvi",
          "region": "north_america",
          "strain": "USVI/40/2016"
         },
         {
          "cluster 1": null,
          "cluster 2": null,
          "cluster 3": null,
          "cluster 4": null,
          "country": "usvi",
          "region": "north_america",
          "strain": "USVI/41/2016"
         },
         {
          "cluster 1": null,
          "cluster 2": null,
          "cluster 3": null,
          "cluster 4": null,
          "country": "usvi",
          "region": "north_america",
          "strain": "USVI/42/2016"
         },
         {
          "cluster 1": null,
          "cluster 2": null,
          "cluster 3": null,
          "cluster 4": null,
          "country": "usvi",
          "region": "north_america",
          "strain": "USVI/43/2016"
         },
         {
          "cluster 1": null,
          "cluster 2": null,
          "cluster 3": null,
          "cluster 4": null,
          "country": "usvi",
          "region": "north_america",
          "strain": "USVI/45/2016"
         },
         {
          "cluster 1": null,
          "cluster 2": null,
          "cluster 3": null,
          "cluster 4": null,
          "country": "usvi",
          "region": "north_america",
          "strain": "USVI/46/2016"
         },
         {
          "cluster 1": null,
          "cluster 2": null,
          "cluster 3": null,
          "cluster 4": null,
          "country": "usvi",
          "region": "north_america",
          "strain": "USVI/5/2016"
         },
         {
          "cluster 1": null,
          "cluster 2": null,
          "cluster 3": null,
          "cluster 4": null,
          "country": "usvi",
          "region": "north_america",
          "strain": "USVI/6/2016"
         },
         {
          "cluster 1": null,
          "cluster 2": null,
          "cluster 3": null,
          "cluster 4": null,
          "country": "usvi",
          "region": "north_america",
          "strain": "USVI/7/2016"
         },
         {
          "cluster 1": null,
          "cluster 2": null,
          "cluster 3": null,
          "cluster 4": null,
          "country": "french_guiana",
          "region": "south_america",
          "strain": "V17271"
         }
        ]
       },
       "encoding": {
        "color": {
         "field": "region",
         "type": "nominal"
        },
        "tooltip": [
         {
          "field": "strain",
          "type": "nominal"
         },
         {
          "field": "region",
          "type": "nominal"
         }
        ],
        "x": {
         "field": "cluster 3",
         "type": "quantitative"
        },
        "y": {
         "field": "cluster 4",
         "type": "quantitative"
        }
       },
       "mark": {
        "size": 60,
        "type": "circle"
       },
       "selection": {
        "selector018": {
         "bind": "scales",
         "encodings": [
          "x",
          "y"
         ],
         "type": "interval"
        }
       }
      },
      "image/png": "[encoded data removed]",
      "text/plain": [
       "<VegaLite 3 object>\n",
       "\n",
       "If you see this message, it means the renderer has not been properly enabled\n",
       "for the frontend that you are using. For more information, see\n",
       "https://altair-viz.github.io/user_guide/troubleshooting.html\n"
      ]
     },
     "execution_count": 176,
     "metadata": {},
     "output_type": "execute_result"
    }
   ],
   "source": [
    "import altair as alt\n",
    "\n",
    "alt.Chart(finalDf).mark_circle(size=60).encode(\n",
    "    x='cluster 3',\n",
    "    y='cluster 4',\n",
    "    color='region',\n",
    "    tooltip=['strain', 'region']\n",
    ").interactive()\n",
    "#Make this into a website (view compiled vega -- gives you the javascript -- put that into a HTML script)"
   ]
  },
  {
   "cell_type": "code",
   "execution_count": null,
   "metadata": {},
   "outputs": [],
   "source": []
  },
  {
   "cell_type": "code",
   "execution_count": null,
   "metadata": {},
   "outputs": [],
   "source": []
  }
 ],
 "metadata": {
  "kernelspec": {
   "display_name": "Python 3",
   "language": "python",
   "name": "python3"
  },
  "language_info": {
   "codemirror_mode": {
    "name": "ipython",
    "version": 3
   },
   "file_extension": ".py",
   "mimetype": "text/x-python",
   "name": "python",
   "nbconvert_exporter": "python",
   "pygments_lexer": "ipython3",
   "version": "3.7.3"
  }
 },
 "nbformat": 4,
 "nbformat_minor": 4
}
