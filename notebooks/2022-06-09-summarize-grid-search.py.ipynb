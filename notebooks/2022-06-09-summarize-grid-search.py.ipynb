{
 "cells": [
  {
   "cell_type": "code",
   "execution_count": null,
   "id": "008a21ca",
   "metadata": {},
   "outputs": [],
   "source": [
    "import matplotlib as mpl\n",
    "import matplotlib.pyplot as plt\n",
    "import numpy as np\n",
    "import pandas as pd\n",
    "import seaborn as sns\n",
    "\n",
    "%matplotlib inline"
   ]
  },
  {
   "cell_type": "code",
   "execution_count": null,
   "id": "4377b206",
   "metadata": {},
   "outputs": [],
   "source": [
    "sns.set_style(\"ticks\")"
   ]
  },
  {
   "cell_type": "code",
   "execution_count": null,
   "id": "9c2d9230",
   "metadata": {},
   "outputs": [],
   "source": [
    "# Display figures at a reasonable default size.\n",
    "mpl.rcParams['figure.figsize'] = (6, 4)\n",
    "\n",
    "# Disable top and right spines.\n",
    "mpl.rcParams['axes.spines.top'] = False\n",
    "mpl.rcParams['axes.spines.right'] = False\n",
    "    \n",
    "# Display and save figures at higher resolution for presentations and manuscripts.\n",
    "mpl.rcParams['savefig.dpi'] = 300\n",
    "mpl.rcParams['figure.dpi'] = 300\n",
    "\n",
    "# Display text at sizes large enough for presentations and manuscripts.\n",
    "mpl.rcParams['font.weight'] = \"normal\"\n",
    "mpl.rcParams['axes.labelweight'] = \"normal\"\n",
    "mpl.rcParams['font.size'] = 14\n",
    "mpl.rcParams['axes.labelsize'] = 14\n",
    "mpl.rcParams['legend.fontsize'] = 12\n",
    "mpl.rcParams['xtick.labelsize'] = 14\n",
    "mpl.rcParams['ytick.labelsize'] = 14"
   ]
  },
  {
   "cell_type": "code",
   "execution_count": null,
   "id": "d3b2bfe2",
   "metadata": {},
   "outputs": [],
   "source": [
    "# Minimum distance in nucleotides that an additional component needs\n",
    "# to reduce the error for a given embedding (PCA or MDS).\n",
    "minimum_distance_improvement = 1.0"
   ]
  },
  {
   "cell_type": "code",
   "execution_count": null,
   "id": "3f3d5a15",
   "metadata": {},
   "outputs": [],
   "source": [
    "# Function to summarize error across replicates and train/test splits.\n",
    "error_summary_statistic = \"median\""
   ]
  },
  {
   "cell_type": "markdown",
   "id": "fb51a223",
   "metadata": {},
   "source": [
    "## Load data\n",
    "\n",
    "Load exhaustive grid search data. For each possible embedding method, corresponding method parameters, and HDBSCAN distance threshold, we produced an embedding for training and validation data (using 2-fold validation with 3 repeats for N=6 cross-validation iterations per parameter combination), assigned clusters to each embedding, and evaluated how well all pairs of strains in the data were assigned to the same or different cluster compared to predetermined clade assignments."
   ]
  },
  {
   "cell_type": "code",
   "execution_count": null,
   "id": "678944ba",
   "metadata": {},
   "outputs": [],
   "source": [
    "grid = pd.read_csv(snakemake.input.table)"
   ]
  },
  {
   "cell_type": "code",
   "execution_count": null,
   "id": "2d7c577a",
   "metadata": {},
   "outputs": [],
   "source": [
    "grid.head()"
   ]
  },
  {
   "cell_type": "code",
   "execution_count": null,
   "id": "4c80d4e7",
   "metadata": {},
   "outputs": [],
   "source": [
    "list(grid.columns)"
   ]
  },
  {
   "cell_type": "markdown",
   "id": "4500e0a3",
   "metadata": {},
   "source": [
    "## Identify optimal method parameter values\n",
    "\n",
    "Find the method parameters for each method that minimizes the mean absolute error (MAE) across all replicates."
   ]
  },
  {
   "cell_type": "code",
   "execution_count": null,
   "id": "301fcbb4",
   "metadata": {},
   "outputs": [],
   "source": [
    "grid_columns = [\n",
    "    \"method\",\n",
    "    \"components\",\n",
    "    \"perplexity\",\n",
    "    \"learning_rate\",\n",
    "    \"nearest_neighbors\",\n",
    "    \"min_dist\",\n",
    "]"
   ]
  },
  {
   "cell_type": "code",
   "execution_count": null,
   "id": "bfdcb4fa",
   "metadata": {},
   "outputs": [],
   "source": [
    "grid"
   ]
  },
  {
   "cell_type": "code",
   "execution_count": null,
   "id": "117e3949",
   "metadata": {},
   "outputs": [],
   "source": [
    "grid.groupby(grid_columns, dropna=False)[\"mae\"].agg([\"mean\", \"std\"]).reset_index()"
   ]
  },
  {
   "cell_type": "markdown",
   "id": "69ee56c2",
   "metadata": {},
   "source": [
    "### PCA"
   ]
  },
  {
   "cell_type": "code",
   "execution_count": null,
   "id": "e8158a9f",
   "metadata": {},
   "outputs": [],
   "source": [
    "pca_grid = grid.query(\"method == 'pca'\").dropna(axis=1)"
   ]
  },
  {
   "cell_type": "code",
   "execution_count": null,
   "id": "b7700901",
   "metadata": {},
   "outputs": [],
   "source": [
    "pca_grid[\"components\"] = pca_grid[\"components\"].astype(int)"
   ]
  },
  {
   "cell_type": "code",
   "execution_count": null,
   "id": "f9ebb5da",
   "metadata": {},
   "outputs": [],
   "source": [
    "pca_grid.shape"
   ]
  },
  {
   "cell_type": "code",
   "execution_count": null,
   "id": "ccbc7fae",
   "metadata": {},
   "outputs": [],
   "source": [
    "pca_grid"
   ]
  },
  {
   "cell_type": "code",
   "execution_count": null,
   "id": "f3d768db",
   "metadata": {},
   "outputs": [],
   "source": [
    "pca_accuracy = pca_grid.groupby([\n",
    "    \"method\",\n",
    "    \"components\",\n",
    "])[\"mae\"].aggregate(\n",
    "    error_summary_statistic\n",
    ").reset_index().sort_values(\n",
    "    \"mae\",\n",
    "    ascending=False\n",
    ")"
   ]
  },
  {
   "cell_type": "code",
   "execution_count": null,
   "id": "15d249e2",
   "metadata": {},
   "outputs": [],
   "source": [
    "pca_accuracy"
   ]
  },
  {
   "cell_type": "code",
   "execution_count": null,
   "id": "0ac8d5b9",
   "metadata": {},
   "outputs": [],
   "source": [
    "pca_mae = pca_accuracy[\"mae\"].values"
   ]
  },
  {
   "cell_type": "code",
   "execution_count": null,
   "id": "6512281b",
   "metadata": {},
   "outputs": [],
   "source": [
    "np.abs(np.diff(pca_mae)) >= minimum_distance_improvement"
   ]
  },
  {
   "cell_type": "code",
   "execution_count": null,
   "id": "33798a18",
   "metadata": {},
   "outputs": [],
   "source": [
    "pca_indices_with_improvement = np.where(\n",
    "    np.abs(np.diff(pca_mae)) >= minimum_distance_improvement\n",
    ")[0]"
   ]
  },
  {
   "cell_type": "code",
   "execution_count": null,
   "id": "9a9e619c",
   "metadata": {},
   "outputs": [],
   "source": [
    "if len(pca_indices_with_improvement) > 0:\n",
    "    best_pca_mae_index = pca_indices_with_improvement[-1] + 1\n",
    "else:\n",
    "    best_pca_mae_index = 0"
   ]
  },
  {
   "cell_type": "code",
   "execution_count": null,
   "id": "5c6db4f8",
   "metadata": {},
   "outputs": [],
   "source": [
    "best_pca_mae_index"
   ]
  },
  {
   "cell_type": "code",
   "execution_count": null,
   "id": "3aad3975",
   "metadata": {},
   "outputs": [],
   "source": [
    "pca_best_accuracy = pca_accuracy[\n",
    "    pca_accuracy[\"components\"] == pca_accuracy.loc[best_pca_mae_index, \"components\"]\n",
    "].copy()"
   ]
  },
  {
   "cell_type": "code",
   "execution_count": null,
   "id": "e5210aab",
   "metadata": {},
   "outputs": [],
   "source": [
    "pca_best_accuracy"
   ]
  },
  {
   "cell_type": "code",
   "execution_count": null,
   "id": "6c3d6d14",
   "metadata": {},
   "outputs": [],
   "source": [
    "pca_best_accuracy[\"virus\"] = snakemake.wildcards.virus\n",
    "pca_best_accuracy[\"recombination_rate\"] = snakemake.wildcards.recombination_rate"
   ]
  },
  {
   "cell_type": "code",
   "execution_count": null,
   "id": "e27532e1",
   "metadata": {},
   "outputs": [],
   "source": [
    "pca_best_accuracy"
   ]
  },
  {
   "cell_type": "code",
   "execution_count": null,
   "id": "7a0fa51e",
   "metadata": {},
   "outputs": [],
   "source": [
    "pca_best_accuracy.to_csv(\n",
    "    snakemake.output.pca_parameters,\n",
    "    index=False,\n",
    ")"
   ]
  },
  {
   "cell_type": "markdown",
   "id": "89c785b0",
   "metadata": {},
   "source": [
    "### MDS"
   ]
  },
  {
   "cell_type": "code",
   "execution_count": null,
   "id": "aa9d3494",
   "metadata": {},
   "outputs": [],
   "source": [
    "mds_grid = grid.query(\"method == 'mds'\").dropna(axis=1)"
   ]
  },
  {
   "cell_type": "code",
   "execution_count": null,
   "id": "284c8595",
   "metadata": {},
   "outputs": [],
   "source": [
    "mds_grid[\"components\"] = mds_grid[\"components\"].astype(int)"
   ]
  },
  {
   "cell_type": "code",
   "execution_count": null,
   "id": "f77d0d67",
   "metadata": {},
   "outputs": [],
   "source": [
    "mds_grid.shape"
   ]
  },
  {
   "cell_type": "code",
   "execution_count": null,
   "id": "76ac43df",
   "metadata": {},
   "outputs": [],
   "source": [
    "mds_grid"
   ]
  },
  {
   "cell_type": "code",
   "execution_count": null,
   "id": "32bc9838",
   "metadata": {},
   "outputs": [],
   "source": [
    "mds_accuracy = mds_grid.groupby([\n",
    "    \"method\",\n",
    "    \"components\",\n",
    "])[\"mae\"].aggregate(\n",
    "    error_summary_statistic\n",
    ").reset_index().sort_values(\n",
    "    \"mae\",\n",
    "    ascending=False\n",
    ")"
   ]
  },
  {
   "cell_type": "code",
   "execution_count": null,
   "id": "9ce20b73",
   "metadata": {},
   "outputs": [],
   "source": [
    "mds_accuracy"
   ]
  },
  {
   "cell_type": "code",
   "execution_count": null,
   "id": "6df048d4",
   "metadata": {},
   "outputs": [],
   "source": [
    "mds_accuracy[\"mae\"].values"
   ]
  },
  {
   "cell_type": "code",
   "execution_count": null,
   "id": "e3203499",
   "metadata": {},
   "outputs": [],
   "source": [
    "mds_mae = mds_accuracy[\"mae\"].values"
   ]
  },
  {
   "cell_type": "code",
   "execution_count": null,
   "id": "d77362cf",
   "metadata": {},
   "outputs": [],
   "source": [
    "np.abs(np.diff(mds_mae)) >= minimum_distance_improvement"
   ]
  },
  {
   "cell_type": "code",
   "execution_count": null,
   "id": "0baef5ee",
   "metadata": {},
   "outputs": [],
   "source": [
    "best_mds_mae_index = np.where(np.abs(np.diff(mds_mae)) >= minimum_distance_improvement)[0][-1] + 1"
   ]
  },
  {
   "cell_type": "code",
   "execution_count": null,
   "id": "1b0e0aa6",
   "metadata": {},
   "outputs": [],
   "source": [
    "mds_mae[best_mds_mae_index]"
   ]
  },
  {
   "cell_type": "code",
   "execution_count": null,
   "id": "b167bd01",
   "metadata": {},
   "outputs": [],
   "source": [
    "mds_best_accuracy = mds_accuracy[\n",
    "    mds_accuracy[\"components\"] == mds_accuracy.loc[best_mds_mae_index, \"components\"]\n",
    "].copy()"
   ]
  },
  {
   "cell_type": "code",
   "execution_count": null,
   "id": "e753f430",
   "metadata": {},
   "outputs": [],
   "source": [
    "mds_best_accuracy"
   ]
  },
  {
   "cell_type": "code",
   "execution_count": null,
   "id": "8a44dc6e",
   "metadata": {},
   "outputs": [],
   "source": [
    "mds_best_accuracy[\"virus\"] = snakemake.wildcards.virus\n",
    "mds_best_accuracy[\"recombination_rate\"] = snakemake.wildcards.recombination_rate"
   ]
  },
  {
   "cell_type": "code",
   "execution_count": null,
   "id": "e61ac775",
   "metadata": {},
   "outputs": [],
   "source": [
    "mds_best_accuracy"
   ]
  },
  {
   "cell_type": "code",
   "execution_count": null,
   "id": "461ccab3",
   "metadata": {},
   "outputs": [],
   "source": [
    "mds_best_accuracy.to_csv(\n",
    "    snakemake.output.mds_parameters,\n",
    "    index=False,\n",
    ")"
   ]
  },
  {
   "cell_type": "markdown",
   "id": "b32a1bfe",
   "metadata": {},
   "source": [
    "### t-SNE"
   ]
  },
  {
   "cell_type": "code",
   "execution_count": null,
   "id": "f26ac634",
   "metadata": {},
   "outputs": [],
   "source": [
    "tsne_grid = grid.query(\"method == 't-sne'\").dropna(axis=1)"
   ]
  },
  {
   "cell_type": "code",
   "execution_count": null,
   "id": "671c454e",
   "metadata": {},
   "outputs": [],
   "source": [
    "tsne_grid[\"perplexity\"] = tsne_grid[\"perplexity\"].astype(float)"
   ]
  },
  {
   "cell_type": "code",
   "execution_count": null,
   "id": "22320bfb",
   "metadata": {},
   "outputs": [],
   "source": [
    "tsne_grid[\"learning_rate\"] = tsne_grid[\"learning_rate\"].astype(float)"
   ]
  },
  {
   "cell_type": "code",
   "execution_count": null,
   "id": "08bd1fec",
   "metadata": {},
   "outputs": [],
   "source": [
    "tsne_grid.shape"
   ]
  },
  {
   "cell_type": "code",
   "execution_count": null,
   "id": "ad7df32f",
   "metadata": {},
   "outputs": [],
   "source": [
    "tsne_grid"
   ]
  },
  {
   "cell_type": "code",
   "execution_count": null,
   "id": "67c62257",
   "metadata": {},
   "outputs": [],
   "source": [
    "tsne_mean_accuracy = tsne_grid.groupby([\n",
    "    \"method\",\n",
    "    \"perplexity\",\n",
    "    \"learning_rate\"\n",
    "])[\"mae\"].aggregate(\n",
    "    error_summary_statistic\n",
    ").reset_index().sort_values(\n",
    "    \"mae\",\n",
    "    ascending=False\n",
    ")"
   ]
  },
  {
   "cell_type": "code",
   "execution_count": null,
   "id": "8d8d4fd8",
   "metadata": {},
   "outputs": [],
   "source": [
    "tsne_mean_accuracy"
   ]
  },
  {
   "cell_type": "code",
   "execution_count": null,
   "id": "4440ed86",
   "metadata": {},
   "outputs": [],
   "source": [
    "tsne_best_accuracy = tsne_mean_accuracy.sort_values(\"mae\", ascending=True).head(1)"
   ]
  },
  {
   "cell_type": "code",
   "execution_count": null,
   "id": "e6504a6c",
   "metadata": {},
   "outputs": [],
   "source": [
    "tsne_best_accuracy"
   ]
  },
  {
   "cell_type": "code",
   "execution_count": null,
   "id": "b8fc9eb3",
   "metadata": {},
   "outputs": [],
   "source": [
    "tsne_best_accuracy[\"virus\"] = snakemake.wildcards.virus\n",
    "tsne_best_accuracy[\"recombination_rate\"] = snakemake.wildcards.recombination_rate"
   ]
  },
  {
   "cell_type": "code",
   "execution_count": null,
   "id": "f7a6cf7e",
   "metadata": {},
   "outputs": [],
   "source": [
    "tsne_best_accuracy"
   ]
  },
  {
   "cell_type": "code",
   "execution_count": null,
   "id": "db2614d5",
   "metadata": {},
   "outputs": [],
   "source": [
    "tsne_best_accuracy.to_csv(\n",
    "    snakemake.output.tsne_parameters,\n",
    "    index=False,\n",
    ")"
   ]
  },
  {
   "cell_type": "markdown",
   "id": "ee0894d4",
   "metadata": {},
   "source": [
    "### UMAP"
   ]
  },
  {
   "cell_type": "code",
   "execution_count": null,
   "id": "5027a74a",
   "metadata": {},
   "outputs": [],
   "source": [
    "umap_grid = grid.query(\"method == 'umap'\").dropna(axis=1)"
   ]
  },
  {
   "cell_type": "code",
   "execution_count": null,
   "id": "8f44ca79",
   "metadata": {},
   "outputs": [],
   "source": [
    "umap_grid[\"nearest_neighbors\"] = umap_grid[\"nearest_neighbors\"].astype(float)"
   ]
  },
  {
   "cell_type": "code",
   "execution_count": null,
   "id": "7794c696",
   "metadata": {},
   "outputs": [],
   "source": [
    "umap_grid.head()"
   ]
  },
  {
   "cell_type": "code",
   "execution_count": null,
   "id": "ddcd7263",
   "metadata": {},
   "outputs": [],
   "source": [
    "umap_grid.shape"
   ]
  },
  {
   "cell_type": "code",
   "execution_count": null,
   "id": "9ab27a1d",
   "metadata": {},
   "outputs": [],
   "source": [
    "umap_mean_accuracy = umap_grid.groupby([\n",
    "    \"method\",\n",
    "    \"min_dist\",\n",
    "    \"nearest_neighbors\",\n",
    "])[\"mae\"].aggregate(\n",
    "    error_summary_statistic\n",
    ").reset_index().sort_values(\n",
    "    \"mae\",\n",
    "    ascending=False\n",
    ")"
   ]
  },
  {
   "cell_type": "code",
   "execution_count": null,
   "id": "e6e803e6",
   "metadata": {},
   "outputs": [],
   "source": [
    "umap_mean_accuracy"
   ]
  },
  {
   "cell_type": "code",
   "execution_count": null,
   "id": "16b1d57d",
   "metadata": {},
   "outputs": [],
   "source": [
    "umap_best_accuracy = umap_mean_accuracy.sort_values(\"mae\", ascending=True).head(1)"
   ]
  },
  {
   "cell_type": "code",
   "execution_count": null,
   "id": "a5a3e216",
   "metadata": {},
   "outputs": [],
   "source": [
    "umap_best_accuracy"
   ]
  },
  {
   "cell_type": "code",
   "execution_count": null,
   "id": "286e8c5d",
   "metadata": {},
   "outputs": [],
   "source": [
    "umap_best_accuracy[\"virus\"] = snakemake.wildcards.virus\n",
    "umap_best_accuracy[\"recombination_rate\"] = snakemake.wildcards.recombination_rate"
   ]
  },
  {
   "cell_type": "code",
   "execution_count": null,
   "id": "88ee9d1a",
   "metadata": {},
   "outputs": [],
   "source": [
    "umap_best_accuracy"
   ]
  },
  {
   "cell_type": "code",
   "execution_count": null,
   "id": "97bd2035",
   "metadata": {},
   "outputs": [],
   "source": [
    "umap_best_accuracy.to_csv(\n",
    "    snakemake.output.umap_parameters,\n",
    "    index=False,\n",
    ")"
   ]
  },
  {
   "cell_type": "code",
   "execution_count": null,
   "id": "dc4edf19",
   "metadata": {},
   "outputs": [],
   "source": [
    "upper_ylim = int(np.ceil(grid[\"mae\"].max()) + 1)"
   ]
  },
  {
   "cell_type": "code",
   "execution_count": null,
   "id": "43e77ffd",
   "metadata": {
    "scrolled": false
   },
   "outputs": [],
   "source": [
    "fig, ((ax1, ax2), (ax3, ax4)) = plt.subplots(2, 2, figsize=(8, 8), dpi=200, sharey=True)\n",
    "\n",
    "ax1.set_title(\"PCA\")\n",
    "ax1 = sns.boxplot(\n",
    "    data=pca_grid,\n",
    "    x=\"components\",\n",
    "    y=\"mae\",\n",
    "    ax=ax1,\n",
    "    color=\"#CCCCCC\",\n",
    ")\n",
    "\n",
    "ax1.set_xlabel(\"Number of components\")\n",
    "ax1.set_ylabel(\"Mean absolute test error observed\\nand predicted genetic distance\")\n",
    "ax1.set_ylim(bottom=-2, top=upper_ylim)\n",
    "\n",
    "ax2.set_title(\"MDS\")\n",
    "ax2 = sns.boxplot(\n",
    "    data=mds_grid,\n",
    "    x=\"components\",\n",
    "    y=\"mae\",\n",
    "    ax=ax2,\n",
    "    color=\"#CCCCCC\",\n",
    ")\n",
    "\n",
    "ax2.set_xlabel(\"Number of components\")\n",
    "ax2.set_ylabel(\"\")\n",
    "ax2.set_ylim(bottom=-2, top=upper_ylim)\n",
    "\n",
    "ax3.set_title(\"t-SNE\")\n",
    "ax3 = sns.boxplot(\n",
    "    data=tsne_grid,\n",
    "    x=\"perplexity\",\n",
    "    y=\"mae\",\n",
    "    hue=\"learning_rate\",\n",
    "    dodge=True,\n",
    "    ax=ax3,\n",
    ")\n",
    "\n",
    "ax3.legend(\n",
    "    title=\"Learning rate\",\n",
    "    loc=\"lower left\",\n",
    "    frameon=False,\n",
    "    ncol=3,\n",
    "    handletextpad=0.5,\n",
    "    title_fontsize=12,\n",
    ")\n",
    "\n",
    "ax3.set_xlabel(\"Perplexity\")\n",
    "ax3.set_ylabel(\"Mean absolute test error observed\\nand predicted genetic distance\")\n",
    "ax3.set_ylim(bottom=-4, top=upper_ylim)\n",
    "\n",
    "ax4.set_title(\"UMAP\")\n",
    "ax4 = sns.boxplot(\n",
    "    data=umap_grid,\n",
    "    x=\"min_dist\",\n",
    "    y=\"mae\",\n",
    "    hue=\"nearest_neighbors\",\n",
    "    dodge=True,\n",
    "    ax=ax4,\n",
    ")\n",
    "\n",
    "ax4.legend(\n",
    "    title=\"Nearest neighbors\",\n",
    "    loc=\"lower left\",\n",
    "    frameon=False,\n",
    "    ncol=3,\n",
    "    handletextpad=0.5,\n",
    "    title_fontsize=12,\n",
    ")\n",
    "\n",
    "ax4.set_xlabel(\"Minimum distance between points\")\n",
    "ax4.set_ylabel(\"\")\n",
    "ax4.set_ylim(bottom=-4, top=upper_ylim)\n",
    "\n",
    "# Annotate panel labels.\n",
    "panel_labels_dict = {\n",
    "    \"weight\": \"bold\",\n",
    "    \"size\": 14\n",
    "}\n",
    "plt.figtext(0.005, 0.97, \"A\", **panel_labels_dict)\n",
    "plt.figtext(0.55, 0.97, \"B\", **panel_labels_dict)\n",
    "plt.figtext(0.005, 0.47, \"C\", **panel_labels_dict)\n",
    "plt.figtext(0.55, 0.47, \"D\", **panel_labels_dict)\n",
    "\n",
    "plt.tight_layout()\n",
    "plt.savefig(snakemake.output.scores_by_parameters)"
   ]
  },
  {
   "cell_type": "markdown",
   "id": "e47b7e9f",
   "metadata": {},
   "outputs": [],
   "source": [
    "## Find best accuracy per method"
   ]
  },
  {
   "cell_type": "code",
   "execution_count": null,
   "id": "78479d62",
   "metadata": {},
   "outputs": [],
   "source": [
    "best_accuracy = pd.concat([pca_best_accuracy, mds_best_accuracy, tsne_best_accuracy, umap_best_accuracy])"
   ]
  },
  {
   "cell_type": "code",
   "execution_count": null,
   "id": "d424d773",
   "metadata": {},
   "outputs": [],
   "source": [
    "best_accuracy"
   ]
  },
  {
   "cell_type": "code",
   "execution_count": null,
   "id": "639e9713",
   "metadata": {
    "id": "something"
   },
   "outputs": [],
   "source": [
    "output_columns = [\"virus\", \"recombination_rate\"] + grid_columns + [\"mae\"]\n",
    "best_accuracy.to_csv(\n",
    "    snakemake.output.summary_score_by_method,\n",
    "    index=False,\n",
    "    columns=output_columns,\n",
    ")"
   ]
  },
  {
   "cell_type": "code",
   "execution_count": null,
   "id": "c85a18b6",
   "metadata": {},
   "outputs": [],
   "source": []
  }
 ],
 "metadata": {
  "celltoolbar": "Edit Metadata",
  "kernelspec": {
   "display_name": "Python 3 (ipykernel)",
   "language": "python",
   "name": "python3"
  },
  "language_info": {
   "codemirror_mode": {
    "name": "ipython",
    "version": 3
   },
   "file_extension": ".py",
   "mimetype": "text/x-python",
   "name": "python",
   "nbconvert_exporter": "python",
   "pygments_lexer": "ipython3",
   "version": "3.9.18"
  }
 },
 "nbformat": 4,
 "nbformat_minor": 6
}
