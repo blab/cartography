{
 "cells": [
  {
   "cell_type": "code",
   "execution_count": null,
   "id": "008a21ca",
   "metadata": {},
   "outputs": [],
   "source": [
    "import matplotlib as mpl\n",
    "import matplotlib.pyplot as plt\n",
    "import pandas as pd\n",
    "import seaborn as sns\n",
    "\n",
    "%matplotlib inline"
   ]
  },
  {
   "cell_type": "code",
   "execution_count": null,
   "id": "4377b206",
   "metadata": {},
   "outputs": [],
   "source": [
    "sns.set_style(\"white\")"
   ]
  },
  {
   "cell_type": "code",
   "execution_count": null,
   "id": "9c2d9230",
   "metadata": {},
   "outputs": [],
   "source": [
    "# Display figures at a reasonable default size.\n",
    "mpl.rcParams['figure.figsize'] = (6, 4)\n",
    "\n",
    "# Disable top and right spines.\n",
    "mpl.rcParams['axes.spines.top'] = False\n",
    "mpl.rcParams['axes.spines.right'] = False\n",
    "    \n",
    "# Display and save figures at higher resolution for presentations and manuscripts.\n",
    "mpl.rcParams['savefig.dpi'] = 300\n",
    "mpl.rcParams['figure.dpi'] = 300\n",
    "\n",
    "# Display text at sizes large enough for presentations and manuscripts.\n",
    "mpl.rcParams['font.weight'] = \"normal\"\n",
    "mpl.rcParams['axes.labelweight'] = \"normal\"\n",
    "mpl.rcParams['font.size'] = 14\n",
    "mpl.rcParams['axes.labelsize'] = 14\n",
    "mpl.rcParams['legend.fontsize'] = 12\n",
    "mpl.rcParams['xtick.labelsize'] = 14\n",
    "mpl.rcParams['ytick.labelsize'] = 14"
   ]
  },
  {
   "cell_type": "markdown",
   "id": "fb51a223",
   "metadata": {},
   "outputs": [],
   "source": [
    "## Load data\n",
    "\n",
    "Load exhaustive grid search data. For each possible embedding method, corresponding method parameters, and HDBSCAN distance threshold, we produced an embedding for training and validation data (using 2-fold validation with 3 repeats for N=6 cross-validation iterations per parameter combination), assigned clusters to each embedding, and evaluated how well all pairs of strains in the data were assigned to the same or different cluster compared to predetermined clade assignments."
   ]
  },
  {
   "cell_type": "code",
   "execution_count": null,
   "id": "678944ba",
   "metadata": {},
   "outputs": [],
   "source": [
    "grid = pd.read_csv(snakemake.input.table)"
   ]
  },
  {
   "cell_type": "code",
   "execution_count": null,
   "id": "2d7c577a",
   "metadata": {},
   "outputs": [],
   "source": [
    "grid.head()"
   ]
  },
  {
   "cell_type": "code",
   "execution_count": null,
   "id": "4c80d4e7",
   "metadata": {},
   "outputs": [],
   "source": [
    "list(grid.columns)"
   ]
  },
  {
   "cell_type": "markdown",
   "id": "4500e0a3",
   "metadata": {},
   "outputs": [],
   "source": [
    "## Identify optimal method parameter values\n",
    "\n",
    "Find the method parameters for each method that minimizes the mean squared error (MSE) across all replicates."
   ]
  },
  {
   "cell_type": "code",
   "execution_count": null,
   "id": "301fcbb4",
   "metadata": {},
   "outputs": [],
   "source": [
    "grid_columns = [\n",
    "    \"method\",\n",
    "    \"components\",\n",
    "    \"perplexity\",\n",
    "    \"learning_rate\",\n",
    "    \"nearest_neighbors\",\n",
    "    \"min_dist\",\n",
    "]"
   ]
  },
  {
   "cell_type": "code",
   "execution_count": null,
   "id": "bfdcb4fa",
   "metadata": {},
   "outputs": [],
   "source": [
    "grid"
   ]
  },
  {
   "cell_type": "code",
   "execution_count": null,
   "id": "117e3949",
   "metadata": {},
   "outputs": [],
   "source": [
    "grid.groupby(grid_columns, dropna=False)[\"mse\"].agg([\"mean\", \"std\"]).reset_index()"
   ]
  },
  {
   "cell_type": "markdown",
   "id": "69ee56c2",
   "metadata": {},
   "outputs": [],
   "source": [
    "### PCA"
   ]
  },
  {
   "cell_type": "code",
   "execution_count": null,
   "id": "e8158a9f",
   "metadata": {},
   "outputs": [],
   "source": [
    "pca_grid = grid.query(\"method == 'pca'\")"
   ]
  },
  {
   "cell_type": "code",
   "execution_count": null,
   "id": "f9ebb5da",
   "metadata": {},
   "outputs": [],
   "source": [
    "pca_grid.shape"
   ]
  },
  {
   "cell_type": "code",
   "execution_count": null,
   "id": "ccbc7fae",
   "metadata": {},
   "outputs": [],
   "source": [
    "pca_grid"
   ]
  },
  {
   "cell_type": "code",
   "execution_count": null,
   "id": "41e5c517",
   "metadata": {},
   "outputs": [],
   "source": [
    "pca_mean_accuracy = pca_grid.groupby([\n",
    "    \"method\",\n",
    "    \"components\",\n",
    "])[\"mse\"].mean().reset_index().sort_values(\n",
    "    \"mse\",\n",
    "    ascending=False\n",
    ")"
   ]
  },
  {
   "cell_type": "code",
   "execution_count": null,
   "id": "b39a8561",
   "metadata": {},
   "outputs": [],
   "source": [
    "pca_mean_accuracy"
   ]
  },
  {
   "cell_type": "code",
   "execution_count": null,
   "id": "2039d449",
   "metadata": {},
   "outputs": [],
   "source": [
    "pca_best_accuracy = pca_mean_accuracy.sort_values(\"mse\", ascending=True).head(1)"
   ]
  },
  {
   "cell_type": "code",
   "execution_count": null,
   "id": "e5210aab",
   "metadata": {},
   "outputs": [],
   "source": [
    "pca_best_accuracy"
   ]
  },
  {
   "cell_type": "code",
   "execution_count": null,
   "id": "7a0fa51e",
   "metadata": {},
   "outputs": [],
   "source": [
    "pca_best_accuracy.to_csv(\n",
    "    snakemake.output.pca_parameters,\n",
    "    index=False,\n",
    ")"
   ]
  },
  {
   "cell_type": "code",
   "execution_count": null,
   "id": "beacaf75",
   "metadata": {},
   "outputs": [],
   "source": [
    "fig, ax = plt.subplots(1, 1, figsize=(6, 6), dpi=120)\n",
    "ax = sns.boxplot(\n",
    "    data=pca_grid,\n",
    "    x=\"components\",\n",
    "    y=\"mse\",\n",
    "    ax=ax,\n",
    "    color=\"#CCCCCC\",\n",
    ")\n",
    "\n",
    "ax = sns.swarmplot(\n",
    "    data=pca_grid,\n",
    "    x=\"components\",\n",
    "    y=\"mse\",\n",
    "    ax=ax\n",
    ")\n",
    "\n",
    "ax.set_ylabel(\"Mean squared test error\\nobserved and predicted Euclidean distance\")\n",
    "ax.set_ylim(bottom=0)\n",
    "\n",
    "plt.tight_layout()\n",
    "plt.savefig(snakemake.output.score_by_pca_parameters)"
   ]
  },
  {
   "cell_type": "markdown",
   "id": "89c785b0",
   "metadata": {},
   "outputs": [],
   "source": [
    "### MDS"
   ]
  },
  {
   "cell_type": "code",
   "execution_count": null,
   "id": "aa9d3494",
   "metadata": {},
   "outputs": [],
   "source": [
    "mds_grid = grid.query(\"method == 'mds'\")"
   ]
  },
  {
   "cell_type": "code",
   "execution_count": null,
   "id": "f77d0d67",
   "metadata": {},
   "outputs": [],
   "source": [
    "mds_grid.shape"
   ]
  },
  {
   "cell_type": "code",
   "execution_count": null,
   "id": "32bc9838",
   "metadata": {},
   "outputs": [],
   "source": [
    "mds_mean_accuracy = mds_grid.groupby([\n",
    "    \"method\",\n",
    "    \"components\",\n",
    "])[\"mse\"].mean().reset_index().sort_values(\n",
    "    \"mse\",\n",
    "    ascending=False\n",
    ")"
   ]
  },
  {
   "cell_type": "code",
   "execution_count": null,
   "id": "9ce20b73",
   "metadata": {},
   "outputs": [],
   "source": [
    "mds_mean_accuracy"
   ]
  },
  {
   "cell_type": "code",
   "execution_count": null,
   "id": "255b646b",
   "metadata": {},
   "outputs": [],
   "source": [
    "mds_best_accuracy = mds_mean_accuracy.sort_values(\"mse\", ascending=True).head(1)"
   ]
  },
  {
   "cell_type": "code",
   "execution_count": null,
   "id": "e753f430",
   "metadata": {},
   "outputs": [],
   "source": [
    "mds_best_accuracy"
   ]
  },
  {
   "cell_type": "code",
   "execution_count": null,
   "id": "461ccab3",
   "metadata": {},
   "outputs": [],
   "source": [
    "mds_best_accuracy.to_csv(\n",
    "    snakemake.output.mds_parameters,\n",
    "    index=False,\n",
    ")"
   ]
  },
  {
   "cell_type": "code",
   "execution_count": null,
   "id": "a7979078",
   "metadata": {},
   "outputs": [],
   "source": [
    "fig, ax = plt.subplots(1, 1, figsize=(6, 6), dpi=120)\n",
    "ax = sns.boxplot(\n",
    "    data=mds_grid,\n",
    "    x=\"components\",\n",
    "    y=\"mse\",\n",
    "    ax=ax,\n",
    "    color=\"#CCCCCC\",\n",
    ")\n",
    "\n",
    "ax = sns.swarmplot(\n",
    "    data=mds_grid,\n",
    "    x=\"components\",\n",
    "    y=\"mse\",\n",
    "    ax=ax\n",
    ")\n",
    "\n",
    "ax.set_ylabel(\"Mean squared test error\\nobserved and predicted Euclidean distance\")\n",
    "ax.set_ylim(bottom=0)\n",
    "\n",
    "plt.tight_layout()\n",
    "plt.savefig(snakemake.output.score_by_mds_parameters)"
   ]
  },
  {
   "cell_type": "markdown",
   "id": "b32a1bfe",
   "metadata": {},
   "outputs": [],
   "source": [
    "### t-SNE"
   ]
  },
  {
   "cell_type": "code",
   "execution_count": null,
   "id": "f26ac634",
   "metadata": {},
   "outputs": [],
   "source": [
    "tsne_grid = grid.query(\"method == 't-sne'\")"
   ]
  },
  {
   "cell_type": "code",
   "execution_count": null,
   "id": "08bd1fec",
   "metadata": {},
   "outputs": [],
   "source": [
    "tsne_grid.shape"
   ]
  },
  {
   "cell_type": "code",
   "execution_count": null,
   "id": "67c62257",
   "metadata": {},
   "outputs": [],
   "source": [
    "tsne_mean_accuracy = tsne_grid.groupby([\n",
    "    \"method\",\n",
    "    \"perplexity\",\n",
    "    \"learning_rate\"\n",
    "])[\"mse\"].mean().reset_index().sort_values(\n",
    "    \"mse\",\n",
    "    ascending=False\n",
    ")"
   ]
  },
  {
   "cell_type": "code",
   "execution_count": null,
   "id": "8d8d4fd8",
   "metadata": {},
   "outputs": [],
   "source": [
    "tsne_mean_accuracy"
   ]
  },
  {
   "cell_type": "code",
   "execution_count": null,
   "id": "4440ed86",
   "metadata": {},
   "outputs": [],
   "source": [
    "tsne_best_accuracy = tsne_mean_accuracy.sort_values(\"mse\", ascending=True).head(1)"
   ]
  },
  {
   "cell_type": "code",
   "execution_count": null,
   "id": "e6504a6c",
   "metadata": {},
   "outputs": [],
   "source": [
    "tsne_best_accuracy"
   ]
  },
  {
   "cell_type": "code",
   "execution_count": null,
   "id": "db2614d5",
   "metadata": {},
   "outputs": [],
   "source": [
    "tsne_best_accuracy.to_csv(\n",
    "    snakemake.output.tsne_parameters,\n",
    "    index=False,\n",
    ")"
   ]
  },
  {
   "cell_type": "code",
   "execution_count": null,
   "id": "e02089c7",
   "metadata": {},
   "outputs": [],
   "source": [
    "facet_grid = sns.catplot(\n",
    "    data=tsne_grid,\n",
    "    x=\"perplexity\",\n",
    "    y=\"mse\",\n",
    "    hue=\"learning_rate\",\n",
    "    dodge=True,\n",
    "    kind=\"box\",\n",
    "    aspect=1.41,\n",
    "    height=6,\n",
    "    legend=False,\n",
    ")\n",
    "\n",
    "for ax in facet_grid.axes.flatten():\n",
    "    ax.set_xlabel(\"Perplexity\")\n",
    "    ax.set_ylabel(\"Mean squared test error\\nobserved and predicted Euclidean distance\")\n",
    "    ax.set_ylim(bottom=0)\n",
    "\n",
    "facet_grid.add_legend(\n",
    "    title=\"Learning rate\",\n",
    "    loc=\"upper right\",\n",
    ")\n",
    "\n",
    "plt.tight_layout()\n",
    "plt.savefig(snakemake.output.score_by_tsne_parameters)"
   ]
  },
  {
   "cell_type": "markdown",
   "id": "ee0894d4",
   "metadata": {},
   "outputs": [],
   "source": [
    "### UMAP"
   ]
  },
  {
   "cell_type": "code",
   "execution_count": null,
   "id": "5027a74a",
   "metadata": {},
   "outputs": [],
   "source": [
    "umap_grid = grid.query(\"method == 'umap'\")"
   ]
  },
  {
   "cell_type": "code",
   "execution_count": null,
   "id": "7794c696",
   "metadata": {},
   "outputs": [],
   "source": [
    "umap_grid.head()"
   ]
  },
  {
   "cell_type": "code",
   "execution_count": null,
   "id": "ddcd7263",
   "metadata": {},
   "outputs": [],
   "source": [
    "umap_grid.shape"
   ]
  },
  {
   "cell_type": "code",
   "execution_count": null,
   "id": "9ab27a1d",
   "metadata": {},
   "outputs": [],
   "source": [
    "umap_mean_accuracy = umap_grid.groupby([\n",
    "    \"method\",\n",
    "    \"min_dist\",\n",
    "    \"nearest_neighbors\",\n",
    "])[\"mse\"].mean().reset_index().sort_values(\n",
    "    \"mse\",\n",
    "    ascending=False\n",
    ")"
   ]
  },
  {
   "cell_type": "code",
   "execution_count": null,
   "id": "e6e803e6",
   "metadata": {},
   "outputs": [],
   "source": [
    "umap_mean_accuracy"
   ]
  },
  {
   "cell_type": "code",
   "execution_count": null,
   "id": "16b1d57d",
   "metadata": {},
   "outputs": [],
   "source": [
    "umap_best_accuracy = umap_mean_accuracy.sort_values(\"mse\", ascending=True).head(1)"
   ]
  },
  {
   "cell_type": "code",
   "execution_count": null,
   "id": "a5a3e216",
   "metadata": {},
   "outputs": [],
   "source": [
    "umap_best_accuracy"
   ]
  },
  {
   "cell_type": "code",
   "execution_count": null,
   "id": "97bd2035",
   "metadata": {},
   "outputs": [],
   "source": [
    "umap_best_accuracy.to_csv(\n",
    "    snakemake.output.umap_parameters,\n",
    "    index=False,\n",
    ")"
   ]
  },
  {
   "cell_type": "code",
   "execution_count": null,
   "id": "b799728b",
   "metadata": {},
   "outputs": [],
   "source": [
    "facet_grid = sns.catplot(\n",
    "    data=umap_grid,\n",
    "    x=\"min_dist\",\n",
    "    y=\"mse\",\n",
    "    hue=\"nearest_neighbors\",\n",
    "    dodge=True,\n",
    "    kind=\"box\",\n",
    "    aspect=1.41,\n",
    "    height=6,\n",
    "    legend=False,\n",
    ")\n",
    "\n",
    "for ax in facet_grid.axes.flatten():\n",
    "    ax.set_xlabel(\"Minimum distance between points\")\n",
    "    ax.set_ylabel(\"Mean squared test error\\nobserved and predicted Euclidean distance\")\n",
    "    ax.set_ylim(bottom=0)\n",
    "\n",
    "facet_grid.add_legend(\n",
    "    title=\"Nearest neighbors\",\n",
    "    loc=\"upper right\",\n",
    ")\n",
    "\n",
    "plt.tight_layout()\n",
    "plt.savefig(snakemake.output.score_by_umap_parameters)"
   ]
  },
  {
   "cell_type": "markdown",
   "id": "e47b7e9f",
   "metadata": {},
   "outputs": [],
   "source": [
    "## Find best accuracy per method"
   ]
  },
  {
   "cell_type": "code",
   "execution_count": null,
   "id": "78479d62",
   "metadata": {},
   "outputs": [],
   "source": [
    "best_accuracy = pd.concat([pca_best_accuracy, mds_best_accuracy, tsne_best_accuracy, umap_best_accuracy])"
   ]
  },
  {
   "cell_type": "code",
   "execution_count": null,
   "id": "d424d773",
   "metadata": {},
   "outputs": [],
   "source": [
    "best_accuracy"
   ]
  },
  {
   "cell_type": "code",
   "execution_count": null,
   "id": "efffca85",
   "metadata": {},
   "outputs": [],
   "source": [
    "grid.head()"
   ]
  },
  {
   "cell_type": "code",
   "execution_count": null,
   "id": "bdb95d16",
   "metadata": {},
   "outputs": [],
   "source": [
    "grid_summary = grid.merge(\n",
    "    best_accuracy,\n",
    "    on=grid_columns,\n",
    "    suffixes=[\"\", \"_mean\"]\n",
    ").groupby([\n",
    "    \"method\",\n",
    "    \"recombination_rate\"\n",
    "]).aggregate({\n",
    "    \"replicate\": [\"count\"],\n",
    "    \"mse\": [\"mean\", \"std\"],\n",
    "})"
   ]
  },
  {
   "cell_type": "code",
   "execution_count": null,
   "id": "9c162e25",
   "metadata": {},
   "outputs": [],
   "source": [
    "grid_summary"
   ]
  },
  {
   "cell_type": "code",
   "execution_count": null,
   "id": "f93e35df",
   "metadata": {},
   "outputs": [],
   "source": [
    "grid_summary.columns"
   ]
  },
  {
   "cell_type": "code",
   "execution_count": null,
   "id": "aca1a874",
   "metadata": {},
   "outputs": [],
   "source": [
    "new_columns = [\"_\".join(columns) for columns in grid_summary.columns]"
   ]
  },
  {
   "cell_type": "code",
   "execution_count": null,
   "id": "dccfec72",
   "metadata": {},
   "outputs": [],
   "source": [
    "grid_summary = grid_summary.set_axis(new_columns, axis=1).reset_index()"
   ]
  },
  {
   "cell_type": "code",
   "execution_count": null,
   "id": "111b93b9",
   "metadata": {},
   "outputs": [],
   "source": [
    "grid_summary = grid_summary.sort_values(\"mse_mean\")"
   ]
  },
  {
   "cell_type": "code",
   "execution_count": null,
   "id": "7e632ad1",
   "metadata": {},
   "outputs": [],
   "source": [
    "grid_summary"
   ]
  },
  {
   "cell_type": "code",
   "execution_count": null,
   "id": "aeec8367",
   "metadata": {},
   "outputs": [],
   "source": [
    "grid_summary.to_csv(\n",
    "    snakemake.output.summary_score_by_method,\n",
    "    index=False,\n",
    ")"
   ]
  },
  {
   "cell_type": "code",
   "execution_count": null,
   "id": "4eadcd1b",
   "metadata": {},
   "outputs": [],
   "source": []
  }
 ],
 "metadata": {
  "kernelspec": {
   "display_name": "Python 3 (ipykernel)",
   "language": "python",
   "name": "python3"
  },
  "language_info": {
   "codemirror_mode": {
    "name": "ipython",
    "version": 3
   },
   "file_extension": ".py",
   "mimetype": "text/x-python",
   "name": "python",
   "nbconvert_exporter": "python",
   "pygments_lexer": "ipython3",
   "version": "3.7.12"
  }
 },
 "nbformat": 4,
 "nbformat_minor": 6
}
