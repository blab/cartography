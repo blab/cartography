{
 "cells": [
  {
   "cell_type": "code",
   "execution_count": null,
   "id": "8d8dcb4c",
   "metadata": {},
   "outputs": [],
   "source": [
    "import matplotlib as mpl\n",
    "import matplotlib.pyplot as plt\n",
    "import pandas as pd\n",
    "import seaborn as sns\n",
    "\n",
    "%matplotlib inline"
   ]
  },
  {
   "cell_type": "code",
   "execution_count": null,
   "id": "99715f28",
   "metadata": {},
   "outputs": [],
   "source": [
    "sns.set_style(\"ticks\")\n",
    "\n",
    "# Disable top and right spines.\n",
    "mpl.rcParams['axes.spines.top'] = False\n",
    "mpl.rcParams['axes.spines.right'] = False\n",
    "\n",
    "# Display and save figures at higher resolution for presentations and manuscripts.\n",
    "mpl.rcParams['savefig.dpi'] = 300\n",
    "mpl.rcParams['figure.dpi'] = 120\n",
    "\n",
    "# Display text at sizes large enough for presentations and manuscripts.\n",
    "mpl.rcParams['font.weight'] = \"normal\"\n",
    "mpl.rcParams['axes.labelweight'] = \"normal\"\n",
    "mpl.rcParams['font.size'] = 14\n",
    "mpl.rcParams['axes.labelsize'] = 14\n",
    "mpl.rcParams['legend.fontsize'] = 10\n",
    "mpl.rcParams['xtick.labelsize'] = 14\n",
    "mpl.rcParams['ytick.labelsize'] = 14\n",
    "mpl.rcParams['axes.titlesize'] = 14\n",
    "mpl.rc('text', usetex=False)"
   ]
  },
  {
   "cell_type": "markdown",
   "id": "bf8adea8",
   "metadata": {},
   "source": [
    "## Load data"
   ]
  },
  {
   "cell_type": "code",
   "execution_count": null,
   "id": "5d08f352",
   "metadata": {},
   "outputs": [],
   "source": [
    "df = pd.read_csv(snakemake.input.accuracies)"
   ]
  },
  {
   "cell_type": "code",
   "execution_count": null,
   "id": "ea2f60ae",
   "metadata": {},
   "outputs": [],
   "source": [
    "df.head()"
   ]
  },
  {
   "cell_type": "code",
   "execution_count": null,
   "id": "1d65ee48",
   "metadata": {},
   "outputs": [],
   "source": [
    "name_by_method = {\n",
    "    \"pca\": \"PCA\",\n",
    "    \"mds\": \"MDS\",\n",
    "    \"t-sne\": \"t-SNE\",\n",
    "    \"umap\": \"UMAP\",\n",
    "}"
   ]
  },
  {
   "cell_type": "code",
   "execution_count": null,
   "id": "826d3c05",
   "metadata": {},
   "outputs": [],
   "source": [
    "df[\"method_name\"] = df[\"method\"].map(name_by_method)"
   ]
  },
  {
   "cell_type": "markdown",
   "id": "ca6ba3a6",
   "metadata": {},
   "source": [
    "## Plot accuracies by method, sequences per group, and replicate"
   ]
  },
  {
   "cell_type": "code",
   "execution_count": null,
   "id": "8f66c3b7",
   "metadata": {
    "scrolled": false
   },
   "outputs": [],
   "source": [
    "fig, (ax1, ax2) = plt.subplots(2, 1, figsize=(8, 6), sharex=False, sharey=True)\n",
    "\n",
    "# Even subsampling\n",
    "even_df = df.query(\"subsampling_scheme == 'even'\")\n",
    "ax1 = sns.boxplot(\n",
    "    x=\"subsample_max_sequences\",\n",
    "    y=\"normalized_vi\",\n",
    "    hue=\"method_name\",\n",
    "    data=even_df,\n",
    "    dodge=True,\n",
    "    fliersize=0,\n",
    "    ax=ax1,\n",
    ")\n",
    "ax1 = sns.stripplot(\n",
    "    x=\"subsample_max_sequences\",\n",
    "    y=\"normalized_vi\",\n",
    "    hue=\"method_name\",\n",
    "    data=even_df,\n",
    "    dodge=True,\n",
    "    alpha=0.5,\n",
    "    color=\"#000000\",\n",
    "    ax=ax1,\n",
    ")\n",
    "\n",
    "ax1.set_ylim(bottom=0)\n",
    "\n",
    "handles, labels = ax1.get_legend_handles_labels()\n",
    "ax1.legend(\n",
    "    handles[:len(name_by_method)],\n",
    "    labels[:len(name_by_method)],\n",
    "    title=\"Method\",\n",
    "    frameon=False,\n",
    "    ncol=4,\n",
    "    title_fontsize=12,\n",
    "    handlelength=1,\n",
    "    handletextpad=0.25,\n",
    "    columnspacing=0.5,\n",
    ")\n",
    "\n",
    "ax1.set_xlabel(\"Number of sequences sampled evenly by geography and time\")\n",
    "ax1.set_ylabel(\"Cluster distance from\\nNextstrain clades\\n(normalized VI)\")\n",
    "\n",
    "# Random subsampling\n",
    "random_df = df.query(\"subsampling_scheme == 'random'\")\n",
    "\n",
    "ax2 = sns.boxplot(\n",
    "    x=\"subsample_max_sequences\",\n",
    "    y=\"normalized_vi\",\n",
    "    hue=\"method_name\",\n",
    "    data=random_df,\n",
    "    dodge=True,\n",
    "    fliersize=0,\n",
    "    ax=ax2,\n",
    ")\n",
    "ax2 = sns.stripplot(\n",
    "    x=\"subsample_max_sequences\",\n",
    "    y=\"normalized_vi\",\n",
    "    hue=\"method_name\",\n",
    "    data=random_df,\n",
    "    dodge=True,\n",
    "    alpha=0.5,\n",
    "    color=\"#000000\",\n",
    "    ax=ax2,\n",
    ")\n",
    "\n",
    "ax2.set_ylim(bottom=0)\n",
    "ax2.get_legend().remove()\n",
    "\n",
    "ax2.set_xlabel(\"Number of sequences sampled randomly\")\n",
    "ax2.set_ylabel(\"Cluster distance from\\nNextstrain clades\\n(normalized VI)\")\n",
    "\n",
    "# Annotate panel labels.\n",
    "panel_labels_dict = {\n",
    "    \"weight\": \"bold\",\n",
    "    \"size\": 14\n",
    "}\n",
    "plt.figtext(0.03, 0.97, \"A\", **panel_labels_dict)\n",
    "plt.figtext(0.03, 0.49, \"B\", **panel_labels_dict)\n",
    "\n",
    "plt.tight_layout()\n",
    "plt.savefig(snakemake.output.accuracies)"
   ]
  },
  {
   "cell_type": "code",
   "execution_count": null,
   "id": "08643124",
   "metadata": {},
   "outputs": [],
   "source": [
    "min_max = df.groupby([\"method\", \"subsample_max_sequences\"]).agg({\"normalized_vi\": [\"min\", \"max\"]}).reset_index(drop=True)"
   ]
  },
  {
   "cell_type": "code",
   "execution_count": null,
   "id": "9dafdd31",
   "metadata": {},
   "outputs": [],
   "source": [
    "(min_max.iloc[:, 1] - min_max.iloc[:, 0]).value_counts()"
   ]
  },
  {
   "cell_type": "code",
   "execution_count": null,
   "id": "5849a5f2",
   "metadata": {},
   "outputs": [],
   "source": [
    "df.groupby([\"method\", \"subsample_max_sequences\", \"subsampling_scheme\"]).agg({\"normalized_vi\": [\"median\", \"std\"]})"
   ]
  },
  {
   "cell_type": "code",
   "execution_count": null,
   "id": "3094be6a",
   "metadata": {},
   "outputs": [],
   "source": []
  }
 ],
 "metadata": {
  "kernelspec": {
   "display_name": "Python 3 (ipykernel)",
   "language": "python",
   "name": "python3"
  },
  "language_info": {
   "codemirror_mode": {
    "name": "ipython",
    "version": 3
   },
   "file_extension": ".py",
   "mimetype": "text/x-python",
   "name": "python",
   "nbconvert_exporter": "python",
   "pygments_lexer": "ipython3",
   "version": "3.9.18"
  }
 },
 "nbformat": 4,
 "nbformat_minor": 5
}
