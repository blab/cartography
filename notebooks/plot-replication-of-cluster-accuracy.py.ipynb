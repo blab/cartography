{
 "cells": [
  {
   "cell_type": "code",
   "execution_count": null,
   "id": "8d8dcb4c",
   "metadata": {},
   "outputs": [],
   "source": [
    "import matplotlib as mpl\n",
    "import matplotlib.pyplot as plt\n",
    "import pandas as pd\n",
    "import seaborn as sns\n",
    "\n",
    "%matplotlib inline"
   ]
  },
  {
   "cell_type": "code",
   "execution_count": null,
   "id": "99715f28",
   "metadata": {},
   "outputs": [],
   "source": [
    "sns.set_style(\"ticks\")\n",
    "\n",
    "# Disable top and right spines.\n",
    "mpl.rcParams['axes.spines.top'] = False\n",
    "mpl.rcParams['axes.spines.right'] = False\n",
    "\n",
    "# Display and save figures at higher resolution for presentations and manuscripts.\n",
    "mpl.rcParams['savefig.dpi'] = 300\n",
    "mpl.rcParams['figure.dpi'] = 120\n",
    "\n",
    "# Display text at sizes large enough for presentations and manuscripts.\n",
    "mpl.rcParams['font.weight'] = \"normal\"\n",
    "mpl.rcParams['axes.labelweight'] = \"normal\"\n",
    "mpl.rcParams['font.size'] = 14\n",
    "mpl.rcParams['axes.labelsize'] = 14\n",
    "mpl.rcParams['legend.fontsize'] = 10\n",
    "mpl.rcParams['xtick.labelsize'] = 14\n",
    "mpl.rcParams['ytick.labelsize'] = 14\n",
    "mpl.rcParams['axes.titlesize'] = 14\n",
    "mpl.rc('text', usetex=False)"
   ]
  },
  {
   "cell_type": "markdown",
   "id": "bf8adea8",
   "metadata": {},
   "source": [
    "## Load data"
   ]
  },
  {
   "cell_type": "code",
   "execution_count": null,
   "id": "5d08f352",
   "metadata": {},
   "outputs": [],
   "source": [
    "df = pd.read_csv(snakemake.input.accuracies)"
   ]
  },
  {
   "cell_type": "code",
   "execution_count": null,
   "id": "ea2f60ae",
   "metadata": {},
   "outputs": [],
   "source": [
    "df.head()"
   ]
  },
  {
   "cell_type": "markdown",
   "id": "ca6ba3a6",
   "metadata": {},
   "source": [
    "## Plot accuracies by method, sequences per group, and replicate"
   ]
  },
  {
   "cell_type": "code",
   "execution_count": null,
   "id": "8f66c3b7",
   "metadata": {},
   "outputs": [],
   "source": [
    "fig, ax = plt.subplots(1, 1, figsize=(8, 4))\n",
    "\n",
    "ax = sns.stripplot(\n",
    "    x=\"sequences_per_group\",\n",
    "    y=\"normalized_vi\",\n",
    "    hue=\"method\",\n",
    "    data=df,\n",
    "    dodge=True,\n",
    "    alpha=0.25,\n",
    "    ax=ax,\n",
    ")\n",
    "\n",
    "ax.set_ylim(bottom=0)\n",
    "ax.legend(\n",
    "    title=\"Method\",\n",
    "    frameon=False,\n",
    ")\n",
    "\n",
    "ax.set_xlabel(\"Number of sequences per group in subsampling\")\n",
    "ax.set_ylabel(\"Accuracy of clusters vs.\\nNextstrain clades (normalized VI)\")\n",
    "\n",
    "plt.tight_layout()\n",
    "plt.savefig(snakemake.output.accuracies)"
   ]
  },
  {
   "cell_type": "code",
   "execution_count": null,
   "id": "08643124",
   "metadata": {},
   "outputs": [],
   "source": [
    "min_max = df.groupby([\"method\", \"sequences_per_group\"]).agg({\"normalized_vi\": [\"min\", \"max\"]}).reset_index(drop=True)"
   ]
  },
  {
   "cell_type": "code",
   "execution_count": null,
   "id": "9dafdd31",
   "metadata": {},
   "outputs": [],
   "source": [
    "(min_max.iloc[:, 1] - min_max.iloc[:, 0]).value_counts()"
   ]
  },
  {
   "cell_type": "code",
   "execution_count": null,
   "id": "5849a5f2",
   "metadata": {},
   "outputs": [],
   "source": [
    "df.groupby([\"method\", \"sequences_per_group\"]).agg({\"normalized_vi\": [\"std\"]})"
   ]
  },
  {
   "cell_type": "code",
   "execution_count": null,
   "id": "3094be6a",
   "metadata": {},
   "outputs": [],
   "source": []
  }
 ],
 "metadata": {
  "kernelspec": {
   "display_name": "Python 3 (ipykernel)",
   "language": "python",
   "name": "python3"
  },
  "language_info": {
   "codemirror_mode": {
    "name": "ipython",
    "version": 3
   },
   "file_extension": ".py",
   "mimetype": "text/x-python",
   "name": "python",
   "nbconvert_exporter": "python",
   "pygments_lexer": "ipython3",
   "version": "3.9.18"
  }
 },
 "nbformat": 4,
 "nbformat_minor": 5
}
