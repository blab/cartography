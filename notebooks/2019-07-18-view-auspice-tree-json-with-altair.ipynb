{
 "cells": [
  {
   "cell_type": "code",
   "execution_count": 1,
   "metadata": {},
   "outputs": [],
   "source": [
    "!ls flu*json"
   ]
  },
  {
   "cell_type": "code",
   "execution_count": 2,
   "metadata": {},
   "outputs": [],
   "source": [
    "import altair as alt\n",
    "from augur.utils import json_to_tree\n",
    "import json\n",
    "import pandas as pd"
   ]
  },
  {
   "cell_type": "code",
   "execution_count": 3,
   "metadata": {},
   "outputs": [
    {
     "name": "stdout",
     "output_type": "stream",
     "text": [
      "  % Total    % Received % Xferd  Average Speed   Time    Time     Time  Current\n",
      "                                 Dload  Upload   Total   Spent    Left  Speed\n",
      "100  180k  100  180k    0     0   252k      0 --:--:-- --:--:-- --:--:--  252k\n"
     ]
    }
   ],
   "source": [
    "!curl http://data.nextstrain.org/zika_tree.json | gzip -c -d > zika_tree.json"
   ]
  },
  {
   "cell_type": "code",
   "execution_count": 4,
   "metadata": {},
   "outputs": [],
   "source": [
    "with open(\"zika_tree.json\", \"r\") as fh:\n",
    "    tree_json = json.load(fh)"
   ]
  },
  {
   "cell_type": "code",
   "execution_count": 5,
   "metadata": {},
   "outputs": [],
   "source": [
    "tree = json_to_tree(tree_json)"
   ]
  },
  {
   "cell_type": "code",
   "execution_count": 6,
   "metadata": {},
   "outputs": [
    {
     "data": {
      "text/plain": [
       "Clade(branch_length=0, clade=939, name='NODE_0000520', numdate=2007.1351029672512, strain='NODE_0000520', yvalue=511.9124154362944)"
      ]
     },
     "execution_count": 6,
     "metadata": {},
     "output_type": "execute_result"
    }
   ],
   "source": [
    "tree"
   ]
  },
  {
   "cell_type": "code",
   "execution_count": 7,
   "metadata": {},
   "outputs": [],
   "source": [
    "node_data = [\n",
    "    {\n",
    "        \"name\": node.name,\n",
    "        \"date\": node.attr[\"num_date\"],\n",
    "        \"y\": node.yvalue,\n",
    "        \"region\": node.attr[\"region\"],\n",
    "        \"country\": node.attr[\"country\"],\n",
    "        \"parent_date\": node.parent is not None and node.parent.attr[\"num_date\"] or node.attr[\"num_date\"],\n",
    "        \"parent_y\": node.parent is not None and node.parent.yvalue or node.yvalue\n",
    "    }\n",
    "    for node in tree.find_clades()\n",
    "]"
   ]
  },
  {
   "cell_type": "code",
   "execution_count": 8,
   "metadata": {},
   "outputs": [
    {
     "data": {
      "text/plain": [
       "{'name': 'NODE_0000345',\n",
       " 'date': 2008.612122972273,\n",
       " 'y': 507.4498308725888,\n",
       " 'region': 'southeast_asia',\n",
       " 'country': 'thailand',\n",
       " 'parent_date': 2007.1351029672512,\n",
       " 'parent_y': 511.9124154362944}"
      ]
     },
     "execution_count": 8,
     "metadata": {},
     "output_type": "execute_result"
    }
   ],
   "source": [
    "node_data[10]"
   ]
  },
  {
   "cell_type": "code",
   "execution_count": 9,
   "metadata": {},
   "outputs": [],
   "source": [
    "node_df = pd.DataFrame(node_data)"
   ]
  },
  {
   "cell_type": "code",
   "execution_count": 10,
   "metadata": {},
   "outputs": [
    {
     "data": {
      "text/html": [
       "<div>\n",
       "<style scoped>\n",
       "    .dataframe tbody tr th:only-of-type {\n",
       "        vertical-align: middle;\n",
       "    }\n",
       "\n",
       "    .dataframe tbody tr th {\n",
       "        vertical-align: top;\n",
       "    }\n",
       "\n",
       "    .dataframe thead th {\n",
       "        text-align: right;\n",
       "    }\n",
       "</style>\n",
       "<table border=\"1\" class=\"dataframe\">\n",
       "  <thead>\n",
       "    <tr style=\"text-align: right;\">\n",
       "      <th></th>\n",
       "      <th>country</th>\n",
       "      <th>date</th>\n",
       "      <th>name</th>\n",
       "      <th>parent_date</th>\n",
       "      <th>parent_y</th>\n",
       "      <th>region</th>\n",
       "      <th>y</th>\n",
       "    </tr>\n",
       "  </thead>\n",
       "  <tbody>\n",
       "    <tr>\n",
       "      <th>0</th>\n",
       "      <td>thailand</td>\n",
       "      <td>2007.135103</td>\n",
       "      <td>NODE_0000520</td>\n",
       "      <td>2007.135103</td>\n",
       "      <td>511.912415</td>\n",
       "      <td>southeast_asia</td>\n",
       "      <td>511.912415</td>\n",
       "    </tr>\n",
       "    <tr>\n",
       "      <th>1</th>\n",
       "      <td>thailand</td>\n",
       "      <td>2008.570845</td>\n",
       "      <td>NODE_0000346</td>\n",
       "      <td>2007.135103</td>\n",
       "      <td>511.912415</td>\n",
       "      <td>southeast_asia</td>\n",
       "      <td>516.375000</td>\n",
       "    </tr>\n",
       "    <tr>\n",
       "      <th>2</th>\n",
       "      <td>thailand</td>\n",
       "      <td>2010.979423</td>\n",
       "      <td>NODE_0000347</td>\n",
       "      <td>2008.570845</td>\n",
       "      <td>516.375000</td>\n",
       "      <td>southeast_asia</td>\n",
       "      <td>517.500000</td>\n",
       "    </tr>\n",
       "    <tr>\n",
       "      <th>3</th>\n",
       "      <td>thailand</td>\n",
       "      <td>2013.136893</td>\n",
       "      <td>THA/PLCal_ZV/2013</td>\n",
       "      <td>2010.979423</td>\n",
       "      <td>517.500000</td>\n",
       "      <td>southeast_asia</td>\n",
       "      <td>518.000000</td>\n",
       "    </tr>\n",
       "    <tr>\n",
       "      <th>4</th>\n",
       "      <td>thailand</td>\n",
       "      <td>2016.665298</td>\n",
       "      <td>SI_BKK01</td>\n",
       "      <td>2010.979423</td>\n",
       "      <td>517.500000</td>\n",
       "      <td>southeast_asia</td>\n",
       "      <td>517.000000</td>\n",
       "    </tr>\n",
       "  </tbody>\n",
       "</table>\n",
       "</div>"
      ],
      "text/plain": [
       "    country         date               name  parent_date    parent_y  \\\n",
       "0  thailand  2007.135103       NODE_0000520  2007.135103  511.912415   \n",
       "1  thailand  2008.570845       NODE_0000346  2007.135103  511.912415   \n",
       "2  thailand  2010.979423       NODE_0000347  2008.570845  516.375000   \n",
       "3  thailand  2013.136893  THA/PLCal_ZV/2013  2010.979423  517.500000   \n",
       "4  thailand  2016.665298           SI_BKK01  2010.979423  517.500000   \n",
       "\n",
       "           region           y  \n",
       "0  southeast_asia  511.912415  \n",
       "1  southeast_asia  516.375000  \n",
       "2  southeast_asia  517.500000  \n",
       "3  southeast_asia  518.000000  \n",
       "4  southeast_asia  517.000000  "
      ]
     },
     "execution_count": 10,
     "metadata": {},
     "output_type": "execute_result"
    }
   ],
   "source": [
    "node_df.head()"
   ]
  },
  {
   "cell_type": "code",
   "execution_count": 11,
   "metadata": {},
   "outputs": [],
   "source": [
    "node_df[\"y\"] = node_df[\"y\"].max() - node_df[\"y\"]"
   ]
  },
  {
   "cell_type": "code",
   "execution_count": 12,
   "metadata": {},
   "outputs": [],
   "source": [
    "node_df[\"parent_y\"] = node_df[\"parent_y\"].max() - node_df[\"parent_y\"]"
   ]
  },
  {
   "cell_type": "code",
   "execution_count": 13,
   "metadata": {},
   "outputs": [
    {
     "data": {
      "text/plain": [
       "(940, 7)"
      ]
     },
     "execution_count": 13,
     "metadata": {},
     "output_type": "execute_result"
    }
   ],
   "source": [
    "node_df.shape"
   ]
  },
  {
   "cell_type": "code",
   "execution_count": 14,
   "metadata": {},
   "outputs": [
    {
     "data": {
      "text/html": [
       "<div>\n",
       "<style scoped>\n",
       "    .dataframe tbody tr th:only-of-type {\n",
       "        vertical-align: middle;\n",
       "    }\n",
       "\n",
       "    .dataframe tbody tr th {\n",
       "        vertical-align: top;\n",
       "    }\n",
       "\n",
       "    .dataframe thead th {\n",
       "        text-align: right;\n",
       "    }\n",
       "</style>\n",
       "<table border=\"1\" class=\"dataframe\">\n",
       "  <thead>\n",
       "    <tr style=\"text-align: right;\">\n",
       "      <th></th>\n",
       "      <th>country</th>\n",
       "      <th>date</th>\n",
       "      <th>name</th>\n",
       "      <th>parent_date</th>\n",
       "      <th>parent_y</th>\n",
       "      <th>region</th>\n",
       "      <th>y</th>\n",
       "    </tr>\n",
       "  </thead>\n",
       "  <tbody>\n",
       "    <tr>\n",
       "      <th>0</th>\n",
       "      <td>thailand</td>\n",
       "      <td>2007.135103</td>\n",
       "      <td>NODE_0000520</td>\n",
       "      <td>2007.135103</td>\n",
       "      <td>5.587585</td>\n",
       "      <td>southeast_asia</td>\n",
       "      <td>6.087585</td>\n",
       "    </tr>\n",
       "    <tr>\n",
       "      <th>1</th>\n",
       "      <td>thailand</td>\n",
       "      <td>2008.570845</td>\n",
       "      <td>NODE_0000346</td>\n",
       "      <td>2007.135103</td>\n",
       "      <td>5.587585</td>\n",
       "      <td>southeast_asia</td>\n",
       "      <td>1.625000</td>\n",
       "    </tr>\n",
       "    <tr>\n",
       "      <th>2</th>\n",
       "      <td>thailand</td>\n",
       "      <td>2010.979423</td>\n",
       "      <td>NODE_0000347</td>\n",
       "      <td>2008.570845</td>\n",
       "      <td>1.125000</td>\n",
       "      <td>southeast_asia</td>\n",
       "      <td>0.500000</td>\n",
       "    </tr>\n",
       "    <tr>\n",
       "      <th>3</th>\n",
       "      <td>thailand</td>\n",
       "      <td>2013.136893</td>\n",
       "      <td>THA/PLCal_ZV/2013</td>\n",
       "      <td>2010.979423</td>\n",
       "      <td>0.000000</td>\n",
       "      <td>southeast_asia</td>\n",
       "      <td>0.000000</td>\n",
       "    </tr>\n",
       "    <tr>\n",
       "      <th>4</th>\n",
       "      <td>thailand</td>\n",
       "      <td>2016.665298</td>\n",
       "      <td>SI_BKK01</td>\n",
       "      <td>2010.979423</td>\n",
       "      <td>0.000000</td>\n",
       "      <td>southeast_asia</td>\n",
       "      <td>1.000000</td>\n",
       "    </tr>\n",
       "  </tbody>\n",
       "</table>\n",
       "</div>"
      ],
      "text/plain": [
       "    country         date               name  parent_date  parent_y  \\\n",
       "0  thailand  2007.135103       NODE_0000520  2007.135103  5.587585   \n",
       "1  thailand  2008.570845       NODE_0000346  2007.135103  5.587585   \n",
       "2  thailand  2010.979423       NODE_0000347  2008.570845  1.125000   \n",
       "3  thailand  2013.136893  THA/PLCal_ZV/2013  2010.979423  0.000000   \n",
       "4  thailand  2016.665298           SI_BKK01  2010.979423  0.000000   \n",
       "\n",
       "           region         y  \n",
       "0  southeast_asia  6.087585  \n",
       "1  southeast_asia  1.625000  \n",
       "2  southeast_asia  0.500000  \n",
       "3  southeast_asia  0.000000  \n",
       "4  southeast_asia  1.000000  "
      ]
     },
     "execution_count": 14,
     "metadata": {},
     "output_type": "execute_result"
    }
   ],
   "source": [
    "node_df.head()"
   ]
  },
  {
   "cell_type": "code",
   "execution_count": 15,
   "metadata": {},
   "outputs": [
    {
     "data": {
      "application/vnd.vegalite.v3+json": {
       "$schema": "https://vega.github.io/schema/vega-lite/v3.3.0.json",
       "config": {
        "mark": {
         "tooltip": null
        },
        "view": {
         "height": 300,
         "width": 400
        }
       },
       "data": {
        "name": "data-7ccd24067462afe5d23529401b05031e"
       },
       "datasets": {
        "data-7ccd24067462afe5d23529401b05031e": [
         {
          "country": "thailand",
          "date": 2007.1351029672512,
          "name": "NODE_0000520",
          "parent_date": 2007.1351029672512,
          "parent_y": 5.5875845637056045,
          "region": "southeast_asia",
          "y": 6.0875845637056045
         },
         {
          "country": "thailand",
          "date": 2008.5708446312985,
          "name": "NODE_0000346",
          "parent_date": 2007.1351029672512,
          "parent_y": 5.5875845637056045,
          "region": "southeast_asia",
          "y": 1.625
         },
         {
          "country": "thailand",
          "date": 2010.9794227684904,
          "name": "NODE_0000347",
          "parent_date": 2008.5708446312985,
          "parent_y": 1.125,
          "region": "southeast_asia",
          "y": 0.5
         },
         {
          "country": "thailand",
          "date": 2013.1368925393565,
          "name": "THA/PLCal_ZV/2013",
          "parent_date": 2010.9794227684904,
          "parent_y": 0,
          "region": "southeast_asia",
          "y": 0
         },
         {
          "country": "thailand",
          "date": 2016.6652977412732,
          "name": "SI_BKK01",
          "parent_date": 2010.9794227684904,
          "parent_y": 0,
          "region": "southeast_asia",
          "y": 1
         },
         {
          "country": "thailand",
          "date": 2010.110098282335,
          "name": "NODE_0000348",
          "parent_date": 2008.5708446312985,
          "parent_y": 1.125,
          "region": "southeast_asia",
          "y": 2.75
         },
         {
          "country": "thailand",
          "date": 2015.043805612594,
          "name": "SV0010/15",
          "parent_date": 2010.110098282335,
          "parent_y": 2.25,
          "region": "southeast_asia",
          "y": 2
         },
         {
          "country": "thailand",
          "date": 2011.196200595986,
          "name": "NODE_0000349",
          "parent_date": 2010.110098282335,
          "parent_y": 2.25,
          "region": "southeast_asia",
          "y": 3.5
         },
         {
          "country": "thailand",
          "date": 2013.7227926078028,
          "name": "SK403/13AS",
          "parent_date": 2011.196200595986,
          "parent_y": 3,
          "region": "southeast_asia",
          "y": 3
         },
         {
          "country": "thailand",
          "date": 2016.9199178644765,
          "name": "DMSc05684_16",
          "parent_date": 2011.196200595986,
          "parent_y": 3,
          "region": "southeast_asia",
          "y": 4
         },
         {
          "country": "thailand",
          "date": 2008.612122972273,
          "name": "NODE_0000345",
          "parent_date": 2007.1351029672512,
          "parent_y": 5.5875845637056045,
          "region": "southeast_asia",
          "y": 10.550169127411209
         },
         {
          "country": "thailand",
          "date": 2013.520191649555,
          "name": "SK364/13AS",
          "parent_date": 2008.612122972273,
          "parent_y": 10.050169127411209,
          "region": "southeast_asia",
          "y": 5
         },
         {
          "country": "thailand",
          "date": 2009.1145520094663,
          "name": "NODE_0000340",
          "parent_date": 2008.612122972273,
          "parent_y": 10.050169127411209,
          "region": "southeast_asia",
          "y": 16.100338254822418
         },
         {
          "country": "india",
          "date": 2016.6742287675806,
          "name": "NODE_0000341",
          "parent_date": 2009.1145520094663,
          "parent_y": 15.600338254822418,
          "region": "south_asia",
          "y": 6.9375
         },
         {
          "country": "india",
          "date": 2018.7145790554414,
          "name": "V17844",
          "parent_date": 2016.6742287675806,
          "parent_y": 6.4375,
          "region": "south_asia",
          "y": 6
         },
         {
          "country": "india",
          "date": 2017.5646214054025,
          "name": "NODE_0000342",
          "parent_date": 2016.6742287675806,
          "parent_y": 6.4375,
          "region": "south_asia",
          "y": 7.875
         },
         {
          "country": "india",
          "date": 2018.7775496235456,
          "name": "V20616",
          "parent_date": 2017.5646214054025,
          "parent_y": 7.375,
          "region": "south_asia",
          "y": 7
         },
         {
          "country": "india",
          "date": 2017.6141785894902,
          "name": "NODE_0000343",
          "parent_date": 2017.5646214054025,
          "parent_y": 7.375,
          "region": "south_asia",
          "y": 8.75
         },
         {
          "country": "india",
          "date": 2018.7748117727583,
          "name": "V20364",
          "parent_date": 2017.6141785894902,
          "parent_y": 8.25,
          "region": "south_asia",
          "y": 8
         },
         {
          "country": "india",
          "date": 2018.4751857056676,
          "name": "NODE_0000344",
          "parent_date": 2017.6141785894902,
          "parent_y": 8.25,
          "region": "south_asia",
          "y": 9.5
         },
         {
          "country": "india",
          "date": 2018.7885010266941,
          "name": "V21993",
          "parent_date": 2018.4751857056676,
          "parent_y": 9,
          "region": "south_asia",
          "y": 9
         },
         {
          "country": "india",
          "date": 2018.7748117727583,
          "name": "V20366",
          "parent_date": 2018.4751857056676,
          "parent_y": 9,
          "region": "south_asia",
          "y": 10
         },
         {
          "country": "thailand",
          "date": 2009.3383477365087,
          "name": "NODE_0000339",
          "parent_date": 2009.1145520094663,
          "parent_y": 15.600338254822418,
          "region": "southeast_asia",
          "y": 25.263176509644836
         },
         {
          "country": "thailand",
          "date": 2014.5475701574264,
          "name": "THA/2014/SV0127_14",
          "parent_date": 2009.3383477365087,
          "parent_y": 24.763176509644836,
          "region": "southeast_asia",
          "y": 11
         },
         {
          "country": "thailand",
          "date": 2010.6276210483102,
          "name": "NODE_0000338",
          "parent_date": 2009.3383477365087,
          "parent_y": 24.763176509644836,
          "region": "southeast_asia",
          "y": 39.52635301928967
         },
         {
          "country": "thailand",
          "date": 2011.5028551865837,
          "name": "NODE_0000350",
          "parent_date": 2010.6276210483102,
          "parent_y": 39.02635301928967,
          "region": "southeast_asia",
          "y": 14.737970933318138
         },
         {
          "country": "thailand",
          "date": 2017.684462696783,
          "name": "SI_BKK06",
          "parent_date": 2011.5028551865837,
          "parent_y": 14.237970933318138,
          "region": "southeast_asia",
          "y": 12
         },
         {
          "country": "thailand",
          "date": 2013.996084203178,
          "name": "NODE_0000351",
          "parent_date": 2011.5028551865837,
          "parent_y": 14.237970933318138,
          "region": "southeast_asia",
          "y": 17.475941866636276
         },
         {
          "country": "thailand",
          "date": 2014.71212062954,
          "name": "NODE_0000352",
          "parent_date": 2013.996084203178,
          "parent_y": 16.975941866636276,
          "region": "southeast_asia",
          "y": 13.96875
         },
         {
          "country": "thailand",
          "date": 2017.7501711156742,
          "name": "BKK07",
          "parent_date": 2014.71212062954,
          "parent_y": 13.46875,
          "region": "southeast_asia",
          "y": 13
         },
         {
          "country": "thailand",
          "date": 2015.085374880618,
          "name": "NODE_0000353",
          "parent_date": 2014.71212062954,
          "parent_y": 13.46875,
          "region": "southeast_asia",
          "y": 14.9375
         },
         {
          "country": "thailand",
          "date": 2016.8350444900752,
          "name": "Thailand/1610acTw",
          "parent_date": 2015.085374880618,
          "parent_y": 14.4375,
          "region": "southeast_asia",
          "y": 14
         },
         {
          "country": "thailand",
          "date": 2015.8378490064883,
          "name": "NODE_0000354",
          "parent_date": 2015.085374880618,
          "parent_y": 14.4375,
          "region": "southeast_asia",
          "y": 15.875
         },
         {
          "country": "thailand",
          "date": 2017.6455745511971,
          "name": "Thai/KngSG/17_D501",
          "parent_date": 2015.8378490064883,
          "parent_y": 15.375,
          "region": "southeast_asia",
          "y": 15
         },
         {
          "country": "thailand",
          "date": 2016.4419295262196,
          "name": "NODE_0000355",
          "parent_date": 2015.8378490064883,
          "parent_y": 15.375,
          "region": "southeast_asia",
          "y": 16.75
         },
         {
          "country": "thailand",
          "date": 2016.9171800136892,
          "name": "BKK03",
          "parent_date": 2016.4419295262196,
          "parent_y": 16.25,
          "region": "southeast_asia",
          "y": 16
         },
         {
          "country": "thailand",
          "date": 2016.5632763974181,
          "name": "NODE_0000356",
          "parent_date": 2016.4419295262196,
          "parent_y": 16.25,
          "region": "southeast_asia",
          "y": 17.5
         },
         {
          "country": "thailand",
          "date": 2017.599589322382,
          "name": "SI_BKK02",
          "parent_date": 2016.5632763974181,
          "parent_y": 17,
          "region": "southeast_asia",
          "y": 17
         },
         {
          "country": "thailand",
          "date": 2016.9171800136892,
          "name": "BKK04",
          "parent_date": 2016.5632763974181,
          "parent_y": 17,
          "region": "southeast_asia",
          "y": 18
         },
         {
          "country": "thailand",
          "date": 2015.0528178085854,
          "name": "NODE_0000357",
          "parent_date": 2013.996084203178,
          "parent_y": 16.975941866636276,
          "region": "southeast_asia",
          "y": 20.983133733272552
         },
         {
          "country": "thailand",
          "date": 2016.8651608487337,
          "name": "SI_BKK05",
          "parent_date": 2015.0528178085854,
          "parent_y": 20.483133733272552,
          "region": "southeast_asia",
          "y": 19
         },
         {
          "country": "singapore",
          "date": 2015.272487249406,
          "name": "NODE_0000358",
          "parent_date": 2015.0528178085854,
          "parent_y": 20.483133733272552,
          "region": "southeast_asia",
          "y": 22.966267466545105
         },
         {
          "country": "singapore",
          "date": 2015.3256885341605,
          "name": "NODE_0000369",
          "parent_date": 2015.272487249406,
          "parent_y": 22.466267466545105,
          "region": "southeast_asia",
          "y": 20.75
         },
         {
          "country": "singapore",
          "date": 2016.6570841889118,
          "name": "SG_030",
          "parent_date": 2015.3256885341605,
          "parent_y": 20.25,
          "region": "southeast_asia",
          "y": 20
         },
         {
          "country": "singapore",
          "date": 2016.2821145101632,
          "name": "NODE_0000370",
          "parent_date": 2015.3256885341605,
          "parent_y": 20.25,
          "region": "southeast_asia",
          "y": 21.5
         },
         {
          "country": "singapore",
          "date": 2016.6543463381245,
          "name": "SG_028",
          "parent_date": 2016.2821145101632,
          "parent_y": 21,
          "region": "southeast_asia",
          "y": 21
         },
         {
          "country": "singapore",
          "date": 2016.662559890486,
          "name": "SG_070",
          "parent_date": 2016.2821145101632,
          "parent_y": 21,
          "region": "southeast_asia",
          "y": 22
         },
         {
          "country": "singapore",
          "date": 2015.9209482825638,
          "name": "NODE_0000640",
          "parent_date": 2015.272487249406,
          "parent_y": 22.466267466545105,
          "region": "southeast_asia",
          "y": 25.18253493309021
         },
         {
          "country": "singapore",
          "date": 2016.439789109591,
          "name": "NODE_0000376",
          "parent_date": 2015.9209482825638,
          "parent_y": 24.68253493309021,
          "region": "southeast_asia",
          "y": 23.5
         },
         {
          "country": "singapore",
          "date": 2016.6598220396988,
          "name": "SG_043",
          "parent_date": 2016.439789109591,
          "parent_y": 23,
          "region": "southeast_asia",
          "y": 23
         },
         {
          "country": "singapore",
          "date": 2016.6570841889118,
          "name": "ZKA_16_097",
          "parent_date": 2016.439789109591,
          "parent_y": 23,
          "region": "southeast_asia",
          "y": 24
         },
         {
          "country": "singapore",
          "date": 2016.0243093330912,
          "name": "NODE_0000641",
          "parent_date": 2015.9209482825638,
          "parent_y": 24.68253493309021,
          "region": "southeast_asia",
          "y": 26.86506986618042
         },
         {
          "country": "singapore",
          "date": 2016.2801834029435,
          "name": "NODE_0000386",
          "parent_date": 2016.0243093330912,
          "parent_y": 26.36506986618042,
          "region": "southeast_asia",
          "y": 25.5
         },
         {
          "country": "singapore",
          "date": 2016.684462696783,
          "name": "SG_108",
          "parent_date": 2016.2801834029435,
          "parent_y": 25,
          "region": "southeast_asia",
          "y": 25
         },
         {
          "country": "singapore",
          "date": 2016.684462696783,
          "name": "SG_110",
          "parent_date": 2016.2801834029435,
          "parent_y": 25,
          "region": "southeast_asia",
          "y": 26
         },
         {
          "country": "singapore",
          "date": 2016.1018149575493,
          "name": "NODE_0000642",
          "parent_date": 2016.0243093330912,
          "parent_y": 26.36506986618042,
          "region": "southeast_asia",
          "y": 28.23013973236084
         },
         {
          "country": "singapore",
          "date": 2016.662559890486,
          "name": "SG_050",
          "parent_date": 2016.1018149575493,
          "parent_y": 27.73013973236084,
          "region": "southeast_asia",
          "y": 27
         },
         {
          "country": "singapore",
          "date": 2016.166705686052,
          "name": "NODE_0000643",
          "parent_date": 2016.1018149575493,
          "parent_y": 27.73013973236084,
          "region": "southeast_asia",
          "y": 29.46027946472168
         },
         {
          "country": "singapore",
          "date": 2016.6789869952088,
          "name": "SG_003",
          "parent_date": 2016.166705686052,
          "parent_y": 28.96027946472168,
          "region": "southeast_asia",
          "y": 28
         },
         {
          "country": "singapore",
          "date": 2016.2136611100948,
          "name": "NODE_0000644",
          "parent_date": 2016.166705686052,
          "parent_y": 28.96027946472168,
          "region": "southeast_asia",
          "y": 30.92055892944336
         },
         {
          "country": "singapore",
          "date": 2016.684462696783,
          "name": "SG_109",
          "parent_date": 2016.2136611100948,
          "parent_y": 30.42055892944336,
          "region": "southeast_asia",
          "y": 29
         },
         {
          "country": "singapore",
          "date": 2016.2730005392452,
          "name": "NODE_0000521",
          "parent_date": 2016.2136611100948,
          "parent_y": 30.42055892944336,
          "region": "southeast_asia",
          "y": 32.84111785888672
         },
         {
          "country": "singapore",
          "date": 2016.4782455382544,
          "name": "NODE_0000380",
          "parent_date": 2016.2730005392452,
          "parent_y": 32.34111785888672,
          "region": "southeast_asia",
          "y": 31
         },
         {
          "country": "singapore",
          "date": 2016.6872005475702,
          "name": "SG_103",
          "parent_date": 2016.4782455382544,
          "parent_y": 30.5,
          "region": "southeast_asia",
          "y": 30
         },
         {
          "country": "singapore",
          "date": 2016.6598220396988,
          "name": "SG_037",
          "parent_date": 2016.4782455382544,
          "parent_y": 30.5,
          "region": "southeast_asia",
          "y": 31
         },
         {
          "country": "singapore",
          "date": 2016.6598220396988,
          "name": "SG_081",
          "parent_date": 2016.4782455382544,
          "parent_y": 30.5,
          "region": "southeast_asia",
          "y": 32
         },
         {
          "country": "singapore",
          "date": 2016.3042326045777,
          "name": "NODE_0000522",
          "parent_date": 2016.2730005392452,
          "parent_y": 32.34111785888672,
          "region": "southeast_asia",
          "y": 34.68223571777344
         },
         {
          "country": "singapore",
          "date": 2016.6598220396988,
          "name": "ZKA_16_291",
          "parent_date": 2016.3042326045777,
          "parent_y": 34.18223571777344,
          "region": "southeast_asia",
          "y": 33
         },
         {
          "country": "singapore",
          "date": 2016.336001568089,
          "name": "NODE_0000523",
          "parent_date": 2016.3042326045777,
          "parent_y": 34.18223571777344,
          "region": "southeast_asia",
          "y": 36.364471435546875
         },
         {
          "country": "singapore",
          "date": 2016.6707734428473,
          "name": "ZKA_16_922",
          "parent_date": 2016.336001568089,
          "parent_y": 35.864471435546875,
          "region": "southeast_asia",
          "y": 34
         },
         {
          "country": "singapore",
          "date": 2016.381001848825,
          "name": "NODE_0000524",
          "parent_date": 2016.336001568089,
          "parent_y": 35.864471435546875,
          "region": "southeast_asia",
          "y": 38.72894287109375
         },
         {
          "country": "singapore",
          "date": 2016.5335167715098,
          "name": "NODE_0000371",
          "parent_date": 2016.381001848825,
          "parent_y": 38.22894287109375,
          "region": "southeast_asia",
          "y": 35.875
         },
         {
          "country": "singapore",
          "date": 2016.7008898015058,
          "name": "SG_016",
          "parent_date": 2016.5335167715098,
          "parent_y": 35.375,
          "region": "southeast_asia",
          "y": 35
         },
         {
          "country": "singapore",
          "date": 2016.6235588141772,
          "name": "NODE_0000645",
          "parent_date": 2016.5335167715098,
          "parent_y": 35.375,
          "region": "southeast_asia",
          "y": 36.75
         },
         {
          "country": "singapore",
          "date": 2016.7063655030802,
          "name": "SG_022",
          "parent_date": 2016.6235588141772,
          "parent_y": 36.25,
          "region": "southeast_asia",
          "y": 36
         },
         {
          "country": "singapore",
          "date": 2016.6817248459959,
          "name": "NODE_0000646",
          "parent_date": 2016.6235588141772,
          "parent_y": 36.25,
          "region": "southeast_asia",
          "y": 37.5
         },
         {
          "country": "singapore",
          "date": 2016.6817248459959,
          "name": "SG_105",
          "parent_date": 2016.6817248459959,
          "parent_y": 37,
          "region": "southeast_asia",
          "y": 37
         },
         {
          "country": "singapore",
          "date": 2016.6817248459959,
          "name": "SG_104",
          "parent_date": 2016.6817248459959,
          "parent_y": 37,
          "region": "southeast_asia",
          "y": 38
         },
         {
          "country": "singapore",
          "date": 2016.4161596490703,
          "name": "NODE_0000525",
          "parent_date": 2016.381001848825,
          "parent_y": 38.22894287109375,
          "region": "southeast_asia",
          "y": 41.5828857421875
         },
         {
          "country": "singapore",
          "date": 2016.6872005475702,
          "name": "NODE_0000395",
          "parent_date": 2016.4161596490703,
          "parent_y": 41.0828857421875,
          "region": "southeast_asia",
          "y": 40
         },
         {
          "country": "singapore",
          "date": 2016.6899383983573,
          "name": "SG_011",
          "parent_date": 2016.6872005475702,
          "parent_y": 39.5,
          "region": "southeast_asia",
          "y": 39
         },
         {
          "country": "singapore",
          "date": 2016.6899383983573,
          "name": "SG_014",
          "parent_date": 2016.6872005475702,
          "parent_y": 39.5,
          "region": "southeast_asia",
          "y": 40
         },
         {
          "country": "singapore",
          "date": 2016.6872005475702,
          "name": "SG_007",
          "parent_date": 2016.6872005475702,
          "parent_y": 39.5,
          "region": "southeast_asia",
          "y": 41
         },
         {
          "country": "singapore",
          "date": 2016.4425381900166,
          "name": "NODE_0000526",
          "parent_date": 2016.4161596490703,
          "parent_y": 41.0828857421875,
          "region": "southeast_asia",
          "y": 43.165771484375
         },
         {
          "country": "singapore",
          "date": 2016.6872005475702,
          "name": "SG_084",
          "parent_date": 2016.4425381900166,
          "parent_y": 42.665771484375,
          "region": "southeast_asia",
          "y": 42
         },
         {
          "country": "singapore",
          "date": 2016.4713164922612,
          "name": "NODE_0000527",
          "parent_date": 2016.4425381900166,
          "parent_y": 42.665771484375,
          "region": "southeast_asia",
          "y": 44.33154296875
         },
         {
          "country": "singapore",
          "date": 2016.6735112936344,
          "name": "SG_101",
          "parent_date": 2016.4713164922612,
          "parent_y": 43.83154296875,
          "region": "southeast_asia",
          "y": 43
         },
         {
          "country": "singapore",
          "date": 2016.4928000649008,
          "name": "NODE_0000528",
          "parent_date": 2016.4713164922612,
          "parent_y": 43.83154296875,
          "region": "southeast_asia",
          "y": 45.6630859375
         },
         {
          "country": "singapore",
          "date": 2016.6652977412732,
          "name": "SG_075",
          "parent_date": 2016.4928000649008,
          "parent_y": 45.1630859375,
          "region": "southeast_asia",
          "y": 44
         },
         {
          "country": "singapore",
          "date": 2016.5089866859064,
          "name": "NODE_0000529",
          "parent_date": 2016.4928000649008,
          "parent_y": 45.1630859375,
          "region": "southeast_asia",
          "y": 47.326171875
         },
         {
          "country": "singapore",
          "date": 2016.6652977412732,
          "name": "SG_095",
          "parent_date": 2016.5089866859064,
          "parent_y": 46.826171875,
          "region": "southeast_asia",
          "y": 45
         },
         {
          "country": "singapore",
          "date": 2016.524039647627,
          "name": "NODE_0000530",
          "parent_date": 2016.5089866859064,
          "parent_y": 46.826171875,
          "region": "southeast_asia",
          "y": 49.65234375
         },
         {
          "country": "singapore",
          "date": 2016.550876138832,
          "name": "NODE_0000531",
          "parent_date": 2016.524039647627,
          "parent_y": 49.15234375,
          "region": "southeast_asia",
          "y": 46.9375
         },
         {
          "country": "singapore",
          "date": 2016.6598220396988,
          "name": "SG_078",
          "parent_date": 2016.550876138832,
          "parent_y": 46.4375,
          "region": "southeast_asia",
          "y": 46
         },
         {
          "country": "singapore",
          "date": 2016.5991229065849,
          "name": "NODE_0000532",
          "parent_date": 2016.550876138832,
          "parent_y": 46.4375,
          "region": "southeast_asia",
          "y": 47.875
         },
         {
          "country": "singapore",
          "date": 2016.6598220396988,
          "name": "SG_038",
          "parent_date": 2016.5991229065849,
          "parent_y": 47.375,
          "region": "southeast_asia",
          "y": 47
         },
         {
          "country": "singapore",
          "date": 2016.6374540830184,
          "name": "NODE_0000533",
          "parent_date": 2016.5991229065849,
          "parent_y": 47.375,
          "region": "southeast_asia",
          "y": 48.75
         },
         {
          "country": "singapore",
          "date": 2016.6598220396988,
          "name": "SG_082",
          "parent_date": 2016.6374540830184,
          "parent_y": 48.25,
          "region": "southeast_asia",
          "y": 48
         },
         {
          "country": "singapore",
          "date": 2016.6762491444217,
          "name": "NODE_0000534",
          "parent_date": 2016.6374540830184,
          "parent_y": 48.25,
          "region": "southeast_asia",
          "y": 49.5
         },
         {
          "country": "singapore",
          "date": 2016.6817248459959,
          "name": "SG_004",
          "parent_date": 2016.6762491444217,
          "parent_y": 49,
          "region": "southeast_asia",
          "y": 49
         },
         {
          "country": "singapore",
          "date": 2016.6762491444217,
          "name": "SG_091",
          "parent_date": 2016.6762491444217,
          "parent_y": 49,
          "region": "southeast_asia",
          "y": 50
         },
         {
          "country": "singapore",
          "date": 2016.547394744156,
          "name": "NODE_0000535",
          "parent_date": 2016.524039647627,
          "parent_y": 49.15234375,
          "region": "southeast_asia",
          "y": 52.3671875
         },
         {
          "country": "singapore",
          "date": 2016.6598220396988,
          "name": "SG_054",
          "parent_date": 2016.547394744156,
          "parent_y": 51.8671875,
          "region": "southeast_asia",
          "y": 51
         },
         {
          "country": "singapore",
          "date": 2016.5607228428942,
          "name": "NODE_0000536",
          "parent_date": 2016.547394744156,
          "parent_y": 51.8671875,
          "region": "southeast_asia",
          "y": 53.734375
         },
         {
          "country": "singapore",
          "date": 2016.7008898015058,
          "name": "NODE_0000537",
          "parent_date": 2016.5607228428942,
          "parent_y": 53.234375,
          "region": "southeast_asia",
          "y": 52.5
         },
         {
          "country": "singapore",
          "date": 2016.7036276522929,
          "name": "SG_090",
          "parent_date": 2016.7008898015058,
          "parent_y": 52,
          "region": "southeast_asia",
          "y": 52
         },
         {
          "country": "singapore",
          "date": 2016.7008898015058,
          "name": "SG_087",
          "parent_date": 2016.7008898015058,
          "parent_y": 52,
          "region": "southeast_asia",
          "y": 53
         },
         {
          "country": "singapore",
          "date": 2016.593013738496,
          "name": "NODE_0000538",
          "parent_date": 2016.5607228428942,
          "parent_y": 53.234375,
          "region": "southeast_asia",
          "y": 54.96875
         },
         {
          "country": "singapore",
          "date": 2016.6598220396988,
          "name": "SG_067",
          "parent_date": 2016.593013738496,
          "parent_y": 54.46875,
          "region": "southeast_asia",
          "y": 54
         },
         {
          "country": "singapore",
          "date": 2016.609356493465,
          "name": "NODE_0000539",
          "parent_date": 2016.593013738496,
          "parent_y": 54.46875,
          "region": "southeast_asia",
          "y": 55.9375
         },
         {
          "country": "singapore",
          "date": 2016.6598220396988,
          "name": "SG_045",
          "parent_date": 2016.609356493465,
          "parent_y": 55.4375,
          "region": "southeast_asia",
          "y": 55
         },
         {
          "country": "singapore",
          "date": 2016.6292706783167,
          "name": "NODE_0000540",
          "parent_date": 2016.609356493465,
          "parent_y": 55.4375,
          "region": "southeast_asia",
          "y": 56.875
         },
         {
          "country": "singapore",
          "date": 2016.6598220396988,
          "name": "SG_072",
          "parent_date": 2016.6292706783167,
          "parent_y": 56.375,
          "region": "southeast_asia",
          "y": 56
         },
         {
          "country": "singapore",
          "date": 2016.6494769727562,
          "name": "NODE_0000541",
          "parent_date": 2016.6292706783167,
          "parent_y": 56.375,
          "region": "southeast_asia",
          "y": 57.75
         },
         {
          "country": "singapore",
          "date": 2016.6570841889118,
          "name": "SG_065",
          "parent_date": 2016.6494769727562,
          "parent_y": 57.25,
          "region": "southeast_asia",
          "y": 57
         },
         {
          "country": "singapore",
          "date": 2016.6680355920603,
          "name": "NODE_0000542",
          "parent_date": 2016.6494769727562,
          "parent_y": 57.25,
          "region": "southeast_asia",
          "y": 58.5
         },
         {
          "country": "singapore",
          "date": 2016.6735112936344,
          "name": "SG_093",
          "parent_date": 2016.6680355920603,
          "parent_y": 58,
          "region": "southeast_asia",
          "y": 58
         },
         {
          "country": "singapore",
          "date": 2016.6680355920603,
          "name": "SG_098",
          "parent_date": 2016.6680355920603,
          "parent_y": 58,
          "region": "southeast_asia",
          "y": 59
         },
         {
          "country": "thailand",
          "date": 2011.4427319722154,
          "name": "NODE_0000337",
          "parent_date": 2010.6276210483102,
          "parent_y": 39.02635301928967,
          "region": "southeast_asia",
          "y": 64.3147351052612
         },
         {
          "country": "vietnam",
          "date": 2016.8952772073922,
          "name": "NIID123/2016",
          "parent_date": 2011.4427319722154,
          "parent_y": 63.81473510526121,
          "region": "southeast_asia",
          "y": 60
         },
         {
          "country": "french_polynesia",
          "date": 2012.7864151527253,
          "name": "NODE_0000336",
          "parent_date": 2011.4427319722154,
          "parent_y": 63.81473510526121,
          "region": "oceania",
          "y": 68.62947021052241
         },
         {
          "country": "french_polynesia",
          "date": 2014.084873374401,
          "name": "1_0038_PF",
          "parent_date": 2012.7864151527253,
          "parent_y": 68.12947021052241,
          "region": "oceania",
          "y": 61
         },
         {
          "country": "french_polynesia",
          "date": 2012.9955403967751,
          "name": "NODE_0000317",
          "parent_date": 2012.7864151527253,
          "parent_y": 68.12947021052241,
          "region": "oceania",
          "y": 76.25894042104483
         },
         {
          "country": "french_polynesia",
          "date": 2013.8292744749415,
          "name": "NODE_0000318",
          "parent_date": 2012.9955403967751,
          "parent_y": 75.75894042104483,
          "region": "oceania",
          "y": 64.02734375
         },
         {
          "country": "tonga",
          "date": 2013.9831933566793,
          "name": "NODE_0000319",
          "parent_date": 2013.8292744749415,
          "parent_y": 63.52734375,
          "region": "oceania",
          "y": 62.5
         },
         {
          "country": "tonga",
          "date": 2016.0876112251883,
          "name": "TS17_2016",
          "parent_date": 2013.9831933566793,
          "parent_y": 62,
          "region": "oceania",
          "y": 62
         },
         {
          "country": "fiji",
          "date": 2016.3066392881587,
          "name": "Chiba/S36/2016",
          "parent_date": 2013.9831933566793,
          "parent_y": 62,
          "region": "oceania",
          "y": 63
         },
         {
          "country": "american_samoa",
          "date": 2015.6762424368665,
          "name": "NODE_0000320",
          "parent_date": 2013.8292744749415,
          "parent_y": 63.52734375,
          "region": "oceania",
          "y": 65.5546875
         },
         {
          "country": "american_samoa",
          "date": 2016.0876112251883,
          "name": "ZJ02",
          "parent_date": 2015.6762424368665,
          "parent_y": 65.0546875,
          "region": "oceania",
          "y": 64
         },
         {
          "country": "american_samoa",
          "date": 2015.770811492278,
          "name": "NODE_0000321",
          "parent_date": 2015.6762424368665,
          "parent_y": 65.0546875,
          "region": "oceania",
          "y": 67.109375
         },
         {
          "country": "american_samoa",
          "date": 2016.1308813781452,
          "name": "ZJ03",
          "parent_date": 2015.770811492278,
          "parent_y": 66.609375,
          "region": "oceania",
          "y": 65
         },
         {
          "country": "american_samoa",
          "date": 2015.9170198013953,
          "name": "NODE_0000322",
          "parent_date": 2015.770811492278,
          "parent_y": 66.609375,
          "region": "oceania",
          "y": 69.21875
         },
         {
          "country": "american_samoa",
          "date": 2016.1314168377824,
          "name": "Zhejiang04",
          "parent_date": 2015.9170198013953,
          "parent_y": 68.71875,
          "region": "oceania",
          "y": 66
         },
         {
          "country": "american_samoa",
          "date": 2016.004313286771,
          "name": "NODE_0000324",
          "parent_date": 2015.9170198013953,
          "parent_y": 68.71875,
          "region": "china",
          "y": 67.75
         },
         {
          "country": "china",
          "date": 2016.1314168377824,
          "name": "ZJ04",
          "parent_date": 2016.004313286771,
          "parent_y": 67.25,
          "region": "china",
          "y": 67
         },
         {
          "country": "american_samoa",
          "date": 2016.086814189581,
          "name": "NODE_0000325",
          "parent_date": 2016.004313286771,
          "parent_y": 67.25,
          "region": "china",
          "y": 68.5
         },
         {
          "country": "american_samoa",
          "date": 2016.1669058731368,
          "name": "SZ01/2016/China",
          "parent_date": 2016.086814189581,
          "parent_y": 68,
          "region": "oceania",
          "y": 68
         },
         {
          "country": "china",
          "date": 2016.1286789869953,
          "name": "ZJ01",
          "parent_date": 2016.086814189581,
          "parent_y": 68,
          "region": "china",
          "y": 69
         },
         {
          "country": "american_samoa",
          "date": 2015.9770768115545,
          "name": "NODE_0000326",
          "parent_date": 2015.9170198013953,
          "parent_y": 68.71875,
          "region": "oceania",
          "y": 72.4375
         },
         {
          "country": "american_samoa",
          "date": 2016.1314168377824,
          "name": "CN/SZ02/2016",
          "parent_date": 2015.9770768115545,
          "parent_y": 71.9375,
          "region": "oceania",
          "y": 70
         },
         {
          "country": "american_samoa",
          "date": 2016.1560219433943,
          "name": "SZ_WIV01",
          "parent_date": 2015.9770768115545,
          "parent_y": 71.9375,
          "region": "oceania",
          "y": 71
         },
         {
          "country": "china",
          "date": 2016.0485552272087,
          "name": "NODE_0000328",
          "parent_date": 2015.9770768115545,
          "parent_y": 71.9375,
          "region": "china",
          "y": 74.875
         },
         {
          "country": "china",
          "date": 2016.2929500342232,
          "name": "NODE_0000331",
          "parent_date": 2016.0485552272087,
          "parent_y": 74.375,
          "region": "china",
          "y": 72.5
         },
         {
          "country": "china",
          "date": 2016.2929500342232,
          "name": "ZKC2P4",
          "parent_date": 2016.2929500342232,
          "parent_y": 72,
          "region": "china",
          "y": 72
         },
         {
          "country": "china",
          "date": 2016.2929500342232,
          "name": "ZKC2P6",
          "parent_date": 2016.2929500342232,
          "parent_y": 72,
          "region": "china",
          "y": 73
         },
         {
          "country": "china",
          "date": 2016.6251862690667,
          "name": "NODE_0000335",
          "parent_date": 2016.0485552272087,
          "parent_y": 74.375,
          "region": "china",
          "y": 74.5
         },
         {
          "country": "china",
          "date": 2016.9199178644765,
          "name": "GZDJ1666_2",
          "parent_date": 2016.6251862690667,
          "parent_y": 74,
          "region": "china",
          "y": 74
         },
         {
          "country": "china",
          "date": 2016.6680355920603,
          "name": "GZDJ1685",
          "parent_date": 2016.6251862690667,
          "parent_y": 74,
          "region": "china",
          "y": 75
         },
         {
          "country": "american_samoa",
          "date": 2016.0778091600598,
          "name": "NODE_0000647",
          "parent_date": 2016.0485552272087,
          "parent_y": 74.375,
          "region": "oceania",
          "y": 77.25
         },
         {
          "country": "american_samoa",
          "date": 2016.123203285421,
          "name": "SMGC_1",
          "parent_date": 2016.0778091600598,
          "parent_y": 76.75,
          "region": "oceania",
          "y": 76
         },
         {
          "country": "american_samoa",
          "date": 2016.1016733293652,
          "name": "NODE_0000543",
          "parent_date": 2016.0778091600598,
          "parent_y": 76.75,
          "region": "oceania",
          "y": 78.5
         },
         {
          "country": "china",
          "date": 2016.8377823408625,
          "name": "NODE_0000334",
          "parent_date": 2016.1016733293652,
          "parent_y": 78,
          "region": "china",
          "y": 77.5
         },
         {
          "country": "china",
          "date": 2016.8405201916496,
          "name": "_CCMU01/2016",
          "parent_date": 2016.8377823408625,
          "parent_y": 77,
          "region": "china",
          "y": 77
         },
         {
          "country": "china",
          "date": 2016.8377823408625,
          "name": "SY01_2016",
          "parent_date": 2016.8377823408625,
          "parent_y": 77,
          "region": "china",
          "y": 78
         },
         {
          "country": "american_samoa",
          "date": 2016.1286789869953,
          "name": "NODE_0000544",
          "parent_date": 2016.1016733293652,
          "parent_y": 78,
          "region": "oceania",
          "y": 79.5
         },
         {
          "country": "american_samoa",
          "date": 2016.1286789869953,
          "name": "Z16006",
          "parent_date": 2016.1286789869953,
          "parent_y": 79,
          "region": "oceania",
          "y": 79
         },
         {
          "country": "american_samoa",
          "date": 2016.1286789869953,
          "name": "ZKC2/2016",
          "parent_date": 2016.1286789869953,
          "parent_y": 79,
          "region": "oceania",
          "y": 80
         },
         {
          "country": "french_polynesia",
          "date": 2013.080634509684,
          "name": "NODE_0000545",
          "parent_date": 2012.9955403967751,
          "parent_y": 75.75894042104483,
          "region": "oceania",
          "y": 88.49053709208965
         },
         {
          "country": "french_polynesia",
          "date": 2014.002737850787,
          "name": "1_0111_PF",
          "parent_date": 2013.080634509684,
          "parent_y": 87.99053709208965,
          "region": "oceania",
          "y": 81
         },
         {
          "country": "french_polynesia",
          "date": 2013.1612296240698,
          "name": "NODE_0000546",
          "parent_date": 2013.080634509684,
          "parent_y": 87.99053709208965,
          "region": "oceania",
          "y": 95.9810741841793
         },
         {
          "country": "french_polynesia",
          "date": 2013.2292739371576,
          "name": "NODE_0000547",
          "parent_date": 2013.1612296240698,
          "parent_y": 95.4810741841793,
          "region": "oceania",
          "y": 82.9375
         },
         {
          "country": "french_polynesia",
          "date": 2013.8605527045386,
          "name": "1_0030_PF",
          "parent_date": 2013.2292739371576,
          "parent_y": 82.4375,
          "region": "oceania",
          "y": 82
         },
         {
          "country": "french_polynesia",
          "date": 2013.4975568365758,
          "name": "NODE_0000312",
          "parent_date": 2013.2292739371576,
          "parent_y": 82.4375,
          "region": "oceania",
          "y": 83.875
         },
         {
          "country": "french_polynesia",
          "date": 2014.084873374401,
          "name": "1_0035_PF",
          "parent_date": 2013.4975568365758,
          "parent_y": 83.375,
          "region": "oceania",
          "y": 83
         },
         {
          "country": "french_polynesia",
          "date": 2013.6820428777585,
          "name": "NODE_0000548",
          "parent_date": 2013.4975568365758,
          "parent_y": 83.375,
          "region": "oceania",
          "y": 84.75
         },
         {
          "country": "french_polynesia",
          "date": 2013.908966461328,
          "name": "H/PF/2013",
          "parent_date": 2013.6820428777585,
          "parent_y": 84.25,
          "region": "oceania",
          "y": 84
         },
         {
          "country": "french_polynesia",
          "date": 2013.7217711529677,
          "name": "NODE_0000549",
          "parent_date": 2013.6820428777585,
          "parent_y": 84.25,
          "region": "oceania",
          "y": 85.5
         },
         {
          "country": "french_polynesia",
          "date": 2014.1615331964408,
          "name": "1_0080_PF",
          "parent_date": 2013.7217711529677,
          "parent_y": 85,
          "region": "oceania",
          "y": 85
         },
         {
          "country": "french_polynesia",
          "date": 2013.9980629182048,
          "name": "1_0087_PF",
          "parent_date": 2013.7217711529677,
          "parent_y": 85,
          "region": "oceania",
          "y": 86
         },
         {
          "country": "french_polynesia",
          "date": 2013.2414844917043,
          "name": "NODE_0000306",
          "parent_date": 2013.1612296240698,
          "parent_y": 95.4810741841793,
          "region": "oceania",
          "y": 109.02464836835861
         },
         {
          "country": "french_polynesia",
          "date": 2013.8273855459431,
          "name": "NODE_0000310",
          "parent_date": 2013.2414844917043,
          "parent_y": 108.52464836835861,
          "region": "oceania",
          "y": 87.5
         },
         {
          "country": "french_polynesia",
          "date": 2014.0164271047229,
          "name": "FrenchPolynesia2014_060114_016",
          "parent_date": 2013.8273855459431,
          "parent_y": 87,
          "region": "oceania",
          "y": 87
         },
         {
          "country": "french_polynesia",
          "date": 2014.084873374401,
          "name": "1_0016_PF",
          "parent_date": 2013.8273855459431,
          "parent_y": 87,
          "region": "oceania",
          "y": 88
         },
         {
          "country": "french_polynesia",
          "date": 2013.4697631337217,
          "name": "NODE_0000550",
          "parent_date": 2013.2414844917043,
          "parent_y": 108.52464836835861,
          "region": "oceania",
          "y": 90.25
         },
         {
          "country": "french_polynesia",
          "date": 2014.0677932995554,
          "name": "1_0015_PF",
          "parent_date": 2013.4697631337217,
          "parent_y": 89.75,
          "region": "oceania",
          "y": 89
         },
         {
          "country": "french_polynesia",
          "date": 2013.495101882975,
          "name": "NODE_0000551",
          "parent_date": 2013.4697631337217,
          "parent_y": 89.75,
          "region": "oceania",
          "y": 91.5
         },
         {
          "country": "french_polynesia",
          "date": 2013.688891950983,
          "name": "NODE_0000305",
          "parent_date": 2013.495101882975,
          "parent_y": 91,
          "region": "oceania",
          "y": 90.5
         },
         {
          "country": "french_polynesia",
          "date": 2013.9171800136892,
          "name": "1_0181_PF",
          "parent_date": 2013.688891950983,
          "parent_y": 90,
          "region": "oceania",
          "y": 90
         },
         {
          "country": "french_polynesia",
          "date": 2013.8158795345653,
          "name": "PF13/251013_18",
          "parent_date": 2013.688891950983,
          "parent_y": 90,
          "region": "oceania",
          "y": 91
         },
         {
          "country": "french_polynesia",
          "date": 2013.7005927327768,
          "name": "NODE_0000308",
          "parent_date": 2013.495101882975,
          "parent_y": 91,
          "region": "oceania",
          "y": 92.5
         },
         {
          "country": "french_polynesia",
          "date": 2013.8350444900752,
          "name": "1_0199_PF",
          "parent_date": 2013.7005927327768,
          "parent_y": 92,
          "region": "oceania",
          "y": 92
         },
         {
          "country": "french_polynesia",
          "date": 2013.9993155373031,
          "name": "1_0134_PF",
          "parent_date": 2013.7005927327768,
          "parent_y": 92,
          "region": "oceania",
          "y": 93
         },
         {
          "country": "french_polynesia",
          "date": 2013.514188542193,
          "name": "NODE_0000303",
          "parent_date": 2013.2414844917043,
          "parent_y": 108.52464836835861,
          "region": "oceania",
          "y": 130.54929673671722
         },
         {
          "country": "french_polynesia",
          "date": 2013.9943643086124,
          "name": "1_0049_PF",
          "parent_date": 2013.514188542193,
          "parent_y": 130.04929673671722,
          "region": "oceania",
          "y": 94
         },
         {
          "country": "french_polynesia",
          "date": 2013.9171800136892,
          "name": "1_0117_PF",
          "parent_date": 2013.514188542193,
          "parent_y": 130.04929673671722,
          "region": "oceania",
          "y": 95
         },
         {
          "country": "brazil",
          "date": 2013.728333592398,
          "name": "NODE_0000291",
          "parent_date": 2013.514188542193,
          "parent_y": 130.04929673671722,
          "region": "south_america",
          "y": 167.09859347343445
         },
         {
          "country": "haiti",
          "date": 2014.598091964385,
          "name": "NODE_0000292",
          "parent_date": 2013.728333592398,
          "parent_y": 166.59859347343445,
          "region": "south_america",
          "y": 97.515625
         },
         {
          "country": "haiti",
          "date": 2016.0985626283368,
          "name": "Haiti/1/2016",
          "parent_date": 2014.598091964385,
          "parent_y": 97.015625,
          "region": "north_america",
          "y": 96
         },
         {
          "country": "haiti",
          "date": 2014.931821068151,
          "name": "NODE_0000293",
          "parent_date": 2014.598091964385,
          "parent_y": 97.015625,
          "region": "south_america",
          "y": 99.03125
         },
         {
          "country": "haiti",
          "date": 2014.9472963723476,
          "name": "Haiti/1225/2014",
          "parent_date": 2014.931821068151,
          "parent_y": 98.53125,
          "region": "north_america",
          "y": 97
         },
         {
          "country": "brazil",
          "date": 2015.1219713800904,
          "name": "NODE_0000294",
          "parent_date": 2014.931821068151,
          "parent_y": 98.53125,
          "region": "south_america",
          "y": 101.0625
         },
         {
          "country": "brazil",
          "date": 2015.9303526932197,
          "name": "NODE_0000295",
          "parent_date": 2015.1219713800904,
          "parent_y": 100.5625,
          "region": "south_america",
          "y": 98.875
         },
         {
          "country": "brazil",
          "date": 2016.0492813141684,
          "name": "Brazil/2016/ZBRC25",
          "parent_date": 2015.9303526932197,
          "parent_y": 98.375,
          "region": "south_america",
          "y": 98
         },
         {
          "country": "brazil",
          "date": 2016.0081318765344,
          "name": "NODE_0000296",
          "parent_date": 2015.9303526932197,
          "parent_y": 98.375,
          "region": "south_america",
          "y": 99.75
         },
         {
          "country": "brazil",
          "date": 2016.0328542094455,
          "name": "ZBRC13",
          "parent_date": 2016.0081318765344,
          "parent_y": 99.25,
          "region": "south_america",
          "y": 99
         },
         {
          "country": "brazil",
          "date": 2016.041067761807,
          "name": "NODE_0000552",
          "parent_date": 2016.0081318765344,
          "parent_y": 99.25,
          "region": "south_america",
          "y": 100.5
         },
         {
          "country": "brazil",
          "date": 2016.041067761807,
          "name": "Brazil/2016/ZBRC14",
          "parent_date": 2016.041067761807,
          "parent_y": 100,
          "region": "south_america",
          "y": 100
         },
         {
          "country": "brazil",
          "date": 2016.041067761807,
          "name": "ZBRC15",
          "parent_date": 2016.041067761807,
          "parent_y": 100,
          "region": "south_america",
          "y": 101
         },
         {
          "country": "brazil",
          "date": 2015.1688150900613,
          "name": "NODE_0000298",
          "parent_date": 2015.1219713800904,
          "parent_y": 100.5625,
          "region": "south_america",
          "y": 103.25
         },
         {
          "country": "brazil",
          "date": 2015.2464065708418,
          "name": "SPH2015",
          "parent_date": 2015.1688150900613,
          "parent_y": 102.75,
          "region": "south_america",
          "y": 102
         },
         {
          "country": "brazil",
          "date": 2015.2937836470871,
          "name": "NODE_0000299",
          "parent_date": 2015.1688150900613,
          "parent_y": 102.75,
          "region": "south_america",
          "y": 104.5
         },
         {
          "country": "brazil",
          "date": 2015.5886710044683,
          "name": "Brazil/PE243/2015",
          "parent_date": 2015.2937836470871,
          "parent_y": 104,
          "region": "south_america",
          "y": 103
         },
         {
          "country": "haiti",
          "date": 2016.3586584531142,
          "name": "mosquito/Haiti/1919/2016",
          "parent_date": 2015.2937836470871,
          "parent_y": 104,
          "region": "north_america",
          "y": 104
         },
         {
          "country": "brazil",
          "date": 2015.3298036560846,
          "name": "V17829",
          "parent_date": 2015.2937836470871,
          "parent_y": 104,
          "region": "south_america",
          "y": 105
         },
         {
          "country": "brazil",
          "date": 2015.3641341546886,
          "name": "PE243",
          "parent_date": 2015.2937836470871,
          "parent_y": 104,
          "region": "south_america",
          "y": 106
         },
         {
          "country": "brazil",
          "date": 2013.827709413437,
          "name": "NODE_0000290",
          "parent_date": 2013.728333592398,
          "parent_y": 166.59859347343445,
          "region": "south_america",
          "y": 236.6815619468689
         },
         {
          "country": "singapore",
          "date": 2016.3668720054757,
          "name": "SG_118",
          "parent_date": 2013.827709413437,
          "parent_y": 236.1815619468689,
          "region": "southeast_asia",
          "y": 107
         },
         {
          "country": "brazil",
          "date": 2013.9065499409378,
          "name": "NODE_0000208",
          "parent_date": 2013.827709413437,
          "parent_y": 236.1815619468689,
          "region": "south_america",
          "y": 109.74609375
         },
         {
          "country": "brazil",
          "date": 2014.0122880152428,
          "name": "NODE_0000209",
          "parent_date": 2013.9065499409378,
          "parent_y": 109.24609375,
          "region": "south_america",
          "y": 108.5
         },
         {
          "country": "brazil",
          "date": 2015.374831593221,
          "name": "BeH828305",
          "parent_date": 2014.0122880152428,
          "parent_y": 108,
          "region": "south_america",
          "y": 108
         },
         {
          "country": "brazil",
          "date": 2015.6570841889118,
          "name": "Brazil/2015/ZBRD116",
          "parent_date": 2014.0122880152428,
          "parent_y": 108,
          "region": "south_america",
          "y": 109
         },
         {
          "country": "brazil",
          "date": 2014.7120925294432,
          "name": "NODE_0000210",
          "parent_date": 2013.9065499409378,
          "parent_y": 109.24609375,
          "region": "south_america",
          "y": 110.9921875
         },
         {
          "country": "brazil",
          "date": 2015.413415468857,
          "name": "Bahia01",
          "parent_date": 2014.7120925294432,
          "parent_y": 110.4921875,
          "region": "south_america",
          "y": 110
         },
         {
          "country": "brazil",
          "date": 2014.8645470793945,
          "name": "NODE_0000211",
          "parent_date": 2014.7120925294432,
          "parent_y": 110.4921875,
          "region": "south_america",
          "y": 111.984375
         },
         {
          "country": "brazil",
          "date": 2015.399112237837,
          "name": "Bahia02",
          "parent_date": 2014.8645470793945,
          "parent_y": 111.484375,
          "region": "south_america",
          "y": 111
         },
         {
          "country": "brazil",
          "date": 2015.0492414728196,
          "name": "NODE_0000212",
          "parent_date": 2014.8645470793945,
          "parent_y": 111.484375,
          "region": "south_america",
          "y": 112.96875
         },
         {
          "country": "brazil",
          "date": 2015.288625783173,
          "name": "Bahia11",
          "parent_date": 2015.0492414728196,
          "parent_y": 112.46875,
          "region": "south_america",
          "y": 112
         },
         {
          "country": "brazil",
          "date": 2015.187859581732,
          "name": "NODE_0000213",
          "parent_date": 2015.0492414728196,
          "parent_y": 112.46875,
          "region": "south_america",
          "y": 113.9375
         },
         {
          "country": "brazil",
          "date": 2015.413415468857,
          "name": "Bahia03",
          "parent_date": 2015.187859581732,
          "parent_y": 113.4375,
          "region": "south_america",
          "y": 113
         },
         {
          "country": "brazil",
          "date": 2015.2485498711962,
          "name": "NODE_0000553",
          "parent_date": 2015.187859581732,
          "parent_y": 113.4375,
          "region": "south_america",
          "y": 114.875
         },
         {
          "country": "brazil",
          "date": 2015.536618754278,
          "name": "Bahia08",
          "parent_date": 2015.2485498711962,
          "parent_y": 114.375,
          "region": "south_america",
          "y": 114
         },
         {
          "country": "brazil",
          "date": 2015.4892100181858,
          "name": "NODE_0000215",
          "parent_date": 2015.2485498711962,
          "parent_y": 114.375,
          "region": "south_america",
          "y": 115.75
         },
         {
          "country": "brazil",
          "date": 2015.498288843258,
          "name": "Bahia07",
          "parent_date": 2015.4892100181858,
          "parent_y": 115.25,
          "region": "south_america",
          "y": 115
         },
         {
          "country": "brazil",
          "date": 2015.5286892672257,
          "name": "NODE_0000216",
          "parent_date": 2015.4892100181858,
          "parent_y": 115.25,
          "region": "south_america",
          "y": 116.5
         },
         {
          "country": "brazil",
          "date": 2015.6652977412732,
          "name": "HS_2015_BA_01",
          "parent_date": 2015.5286892672257,
          "parent_y": 116,
          "region": "south_america",
          "y": 116
         },
         {
          "country": "brazil",
          "date": 2015.583162217659,
          "name": "Bahia09",
          "parent_date": 2015.5286892672257,
          "parent_y": 116,
          "region": "south_america",
          "y": 117
         },
         {
          "country": "brazil",
          "date": 2013.910413770024,
          "name": "NODE_0000194",
          "parent_date": 2013.827709413437,
          "parent_y": 236.1815619468689,
          "region": "south_america",
          "y": 151.44827592372894
         },
         {
          "country": "brazil",
          "date": 2014.0872741107328,
          "name": "NODE_0000051",
          "parent_date": 2013.910413770024,
          "parent_y": 150.94827592372894,
          "region": "south_america",
          "y": 123.34005737304688
         },
         {
          "country": "brazil",
          "date": 2015.9445585215606,
          "name": "BR/Sinop/H366_2P/2015",
          "parent_date": 2014.0872741107328,
          "parent_y": 122.84005737304688,
          "region": "south_america",
          "y": 118
         },
         {
          "country": "brazil",
          "date": 2016.1642710472279,
          "name": "BR_SJRP21",
          "parent_date": 2014.0872741107328,
          "parent_y": 122.84005737304688,
          "region": "south_america",
          "y": 119
         },
         {
          "country": "brazil",
          "date": 2014.7559113694535,
          "name": "NODE_0000054",
          "parent_date": 2014.0872741107328,
          "parent_y": 122.84005737304688,
          "region": "south_america",
          "y": 120.5
         },
         {
          "country": "venezuela",
          "date": 2016.8021902806297,
          "name": "FVM00318/VEN/Maracay/2016",
          "parent_date": 2014.7559113694535,
          "parent_y": 120,
          "region": "south_america",
          "y": 120
         },
         {
          "country": "brazil",
          "date": 2016.021902806297,
          "name": "BR/AM/16800005",
          "parent_date": 2014.7559113694535,
          "parent_y": 120,
          "region": "south_america",
          "y": 121
         },
         {
          "country": "brazil",
          "date": 2014.5911369515768,
          "name": "NODE_0000045",
          "parent_date": 2014.0872741107328,
          "parent_y": 122.84005737304688,
          "region": "south_america",
          "y": 128.68011474609375
         },
         {
          "country": "brazil",
          "date": 2015.050559314332,
          "name": "NODE_0000046",
          "parent_date": 2014.5911369515768,
          "parent_y": 128.18011474609375,
          "region": "south_america",
          "y": 123.625
         },
         {
          "country": "brazil",
          "date": 2015.9390828199862,
          "name": "BR/Sinop/H355/2015",
          "parent_date": 2015.050559314332,
          "parent_y": 123.125,
          "region": "south_america",
          "y": 122
         },
         {
          "country": "brazil",
          "date": 2016.1834360027378,
          "name": "Brazil/2016/ZBRX106",
          "parent_date": 2015.050559314332,
          "parent_y": 123.125,
          "region": "south_america",
          "y": 123
         },
         {
          "country": "brazil",
          "date": 2015.498288843258,
          "name": "NODE_0000048",
          "parent_date": 2015.050559314332,
          "parent_y": 123.125,
          "region": "south_america",
          "y": 125.25
         },
         {
          "country": "brazil",
          "date": 2015.5004431407328,
          "name": "BeH819966",
          "parent_date": 2015.498288843258,
          "parent_y": 124.75,
          "region": "south_america",
          "y": 124
         },
         {
          "country": "brazil",
          "date": 2015.498288843258,
          "name": "SSABR1",
          "parent_date": 2015.498288843258,
          "parent_y": 124.75,
          "region": "south_america",
          "y": 125
         },
         {
          "country": "brazil",
          "date": 2015.74396485754,
          "name": "NODE_0000050",
          "parent_date": 2015.498288843258,
          "parent_y": 124.75,
          "region": "south_america",
          "y": 126.5
         },
         {
          "country": "brazil",
          "date": 2015.9993155373031,
          "name": "BeH815744",
          "parent_date": 2015.74396485754,
          "parent_y": 126,
          "region": "south_america",
          "y": 126
         },
         {
          "country": "brazil",
          "date": 2015.8235629298654,
          "name": "BeH818995",
          "parent_date": 2015.74396485754,
          "parent_y": 126,
          "region": "south_america",
          "y": 127
         },
         {
          "country": "brazil",
          "date": 2014.7605651743545,
          "name": "NODE_0000043",
          "parent_date": 2014.5911369515768,
          "parent_y": 128.18011474609375,
          "region": "south_america",
          "y": 133.7352294921875
         },
         {
          "country": "brazil",
          "date": 2016.2819986310747,
          "name": "BRA/2016/FC_6864",
          "parent_date": 2014.7605651743545,
          "parent_y": 133.2352294921875,
          "region": "south_america",
          "y": 128
         },
         {
          "country": "suriname",
          "date": 2015.7529089664613,
          "name": "Z1106033",
          "parent_date": 2014.7605651743545,
          "parent_y": 133.2352294921875,
          "region": "south_america",
          "y": 129
         },
         {
          "country": "brazil",
          "date": 2015.0181720074247,
          "name": "NODE_0000036",
          "parent_date": 2014.7605651743545,
          "parent_y": 133.2352294921875,
          "region": "south_america",
          "y": 139.470458984375
         },
         {
          "country": "venezuela",
          "date": 2015.530553869168,
          "name": "NODE_0000037",
          "parent_date": 2015.0181720074247,
          "parent_y": 138.970458984375,
          "region": "south_america",
          "y": 131.21875
         },
         {
          "country": "venezuela",
          "date": 2016.123203285421,
          "name": "GZ01",
          "parent_date": 2015.530553869168,
          "parent_y": 130.71875,
          "region": "south_america",
          "y": 130
         },
         {
          "country": "venezuela",
          "date": 2015.6834787720895,
          "name": "NODE_0000038",
          "parent_date": 2015.530553869168,
          "parent_y": 130.71875,
          "region": "south_america",
          "y": 132.4375
         },
         {
          "country": "usvi",
          "date": 2016.2245037645448,
          "name": "USVI/11/2016",
          "parent_date": 2015.6834787720895,
          "parent_y": 131.9375,
          "region": "north_america",
          "y": 131
         },
         {
          "country": "dominican_republic",
          "date": 2016.432580424367,
          "name": "R114916",
          "parent_date": 2015.6834787720895,
          "parent_y": 131.9375,
          "region": "north_america",
          "y": 132
         },
         {
          "country": "venezuela",
          "date": 2016.0329396578775,
          "name": "NODE_0000040",
          "parent_date": 2015.6834787720895,
          "parent_y": 131.9375,
          "region": "south_america",
          "y": 133.875
         },
         {
          "country": "venezuela",
          "date": 2016.1533196440794,
          "name": "GZ02/2016",
          "parent_date": 2016.0329396578775,
          "parent_y": 133.375,
          "region": "south_america",
          "y": 133
         },
         {
          "country": "venezuela",
          "date": 2016.0902768899075,
          "name": "NODE_0000041",
          "parent_date": 2016.0329396578775,
          "parent_y": 133.375,
          "region": "south_america",
          "y": 134.75
         },
         {
          "country": "china",
          "date": 2016.1642710472279,
          "name": "ZG_01",
          "parent_date": 2016.0902768899075,
          "parent_y": 134.25,
          "region": "china",
          "y": 134
         },
         {
          "country": "venezuela",
          "date": 2016.137650728208,
          "name": "NODE_0000042",
          "parent_date": 2016.0902768899075,
          "parent_y": 134.25,
          "region": "south_america",
          "y": 135.5
         },
         {
          "country": "china",
          "date": 2016.1560574948664,
          "name": "GDZ16021",
          "parent_date": 2016.137650728208,
          "parent_y": 135,
          "region": "china",
          "y": 135
         },
         {
          "country": "venezuela",
          "date": 2016.1560574948664,
          "name": "Z16019",
          "parent_date": 2016.137650728208,
          "parent_y": 135,
          "region": "south_america",
          "y": 136
         },
         {
          "country": "brazil",
          "date": 2015.6799975602166,
          "name": "NODE_0000030",
          "parent_date": 2015.0181720074247,
          "parent_y": 138.970458984375,
          "region": "south_america",
          "y": 137.984375
         },
         {
          "country": "brazil",
          "date": 2016.0876112251883,
          "name": "V16288",
          "parent_date": 2015.6799975602166,
          "parent_y": 137.484375,
          "region": "south_america",
          "y": 137
         },
         {
          "country": "brazil",
          "date": 2015.8223355859707,
          "name": "NODE_0000601",
          "parent_date": 2015.6799975602166,
          "parent_y": 137.484375,
          "region": "south_america",
          "y": 138.96875
         },
         {
          "country": "brazil",
          "date": 2016.2628336755647,
          "name": "BR_SJRP61",
          "parent_date": 2015.8223355859707,
          "parent_y": 138.46875,
          "region": "south_america",
          "y": 138
         },
         {
          "country": "brazil",
          "date": 2015.9314673352194,
          "name": "NODE_0000032",
          "parent_date": 2015.8223355859707,
          "parent_y": 138.46875,
          "region": "south_america",
          "y": 139.9375
         },
         {
          "country": "brazil",
          "date": 2016.0301163586585,
          "name": "BR_SJRP1840",
          "parent_date": 2015.9314673352194,
          "parent_y": 139.4375,
          "region": "south_america",
          "y": 139
         },
         {
          "country": "brazil",
          "date": 2016.6945295255807,
          "name": "NODE_0000602",
          "parent_date": 2015.9314673352194,
          "parent_y": 139.4375,
          "region": "south_america",
          "y": 140.875
         },
         {
          "country": "brazil",
          "date": 2017.1697467488023,
          "name": "BR/NHP_17_18/2017",
          "parent_date": 2016.6945295255807,
          "parent_y": 140.375,
          "region": "south_america",
          "y": 140
         },
         {
          "country": "brazil",
          "date": 2016.7027992522806,
          "name": "NODE_0000603",
          "parent_date": 2016.6945295255807,
          "parent_y": 140.375,
          "region": "south_america",
          "y": 141.75
         },
         {
          "country": "brazil",
          "date": 2017.1697467488023,
          "name": "BR/NHP_17_17/2017",
          "parent_date": 2016.7027992522806,
          "parent_y": 141.25,
          "region": "south_america",
          "y": 141
         },
         {
          "country": "brazil",
          "date": 2017.0711841204654,
          "name": "NODE_0000604",
          "parent_date": 2016.7027992522806,
          "parent_y": 141.25,
          "region": "south_america",
          "y": 142.5
         },
         {
          "country": "brazil",
          "date": 2017.0711841204654,
          "name": "BR/NHP_17_05/2017",
          "parent_date": 2017.0711841204654,
          "parent_y": 142,
          "region": "south_america",
          "y": 142
         },
         {
          "country": "brazil",
          "date": 2017.1697467488023,
          "name": "BR/NHP_17_19/2017",
          "parent_date": 2017.0711841204654,
          "parent_y": 142,
          "region": "south_america",
          "y": 143
         },
         {
          "country": "brazil",
          "date": 2015.1081805532092,
          "name": "NODE_0000004",
          "parent_date": 2015.0181720074247,
          "parent_y": 138.970458984375,
          "region": "south_america",
          "y": 147.72216796875
         },
         {
          "country": "brazil",
          "date": 2015.9993155373031,
          "name": "BeH819015",
          "parent_date": 2015.1081805532092,
          "parent_y": 147.22216796875,
          "region": "south_america",
          "y": 144
         },
         {
          "country": "suriname",
          "date": 2015.2889485551386,
          "name": "NODE_0000001",
          "parent_date": 2015.1081805532092,
          "parent_y": 147.22216796875,
          "region": "south_america",
          "y": 146.25
         },
         {
          "country": "suriname",
          "date": 2016.060232717317,
          "name": "SL1602",
          "parent_date": 2015.2889485551386,
          "parent_y": 145.75,
          "region": "south_america",
          "y": 145
         },
         {
          "country": "french_guiana",
          "date": 2015.9171800136892,
          "name": "V17271",
          "parent_date": 2015.2889485551386,
          "parent_y": 145.75,
          "region": "south_america",
          "y": 146
         },
         {
          "country": "suriname",
          "date": 2015.5198259449066,
          "name": "NODE_0000003",
          "parent_date": 2015.2889485551386,
          "parent_y": 145.75,
          "region": "south_america",
          "y": 147.5
         },
         {
          "country": "suriname",
          "date": 2016.1149897330595,
          "name": "NL00013",
          "parent_date": 2015.5198259449066,
          "parent_y": 147,
          "region": "south_america",
          "y": 147
         },
         {
          "country": "usvi",
          "date": 2016.7885010266941,
          "name": "USVI/4/2016",
          "parent_date": 2015.5198259449066,
          "parent_y": 147,
          "region": "north_america",
          "y": 148
         },
         {
          "country": "usvi",
          "date": 2015.4160731377729,
          "name": "NODE_0000005",
          "parent_date": 2015.1081805532092,
          "parent_y": 147.22216796875,
          "region": "north_america",
          "y": 151.4443359375
         },
         {
          "country": "usvi",
          "date": 2016.848733744011,
          "name": "USVI/40/2016",
          "parent_date": 2015.4160731377729,
          "parent_y": 150.9443359375,
          "region": "north_america",
          "y": 149
         },
         {
          "country": "usvi",
          "date": 2015.534056202098,
          "name": "NODE_0000006",
          "parent_date": 2015.4160731377729,
          "parent_y": 150.9443359375,
          "region": "north_america",
          "y": 153.888671875
         },
         {
          "country": "usvi",
          "date": 2015.8320604453593,
          "name": "NODE_0000605",
          "parent_date": 2015.534056202098,
          "parent_y": 153.388671875,
          "region": "north_america",
          "y": 150.5
         },
         {
          "country": "usvi",
          "date": 2016.7036276522929,
          "name": "USVI/15/2016",
          "parent_date": 2015.8320604453593,
          "parent_y": 150,
          "region": "north_america",
          "y": 150
         },
         {
          "country": "brazil",
          "date": 2016.290212183436,
          "name": "BRA/2016/FC_DQ122D1",
          "parent_date": 2015.8320604453593,
          "parent_y": 150,
          "region": "south_america",
          "y": 151
         },
         {
          "country": "usvi",
          "date": 2015.72458260035,
          "name": "NODE_0000008",
          "parent_date": 2015.534056202098,
          "parent_y": 153.388671875,
          "region": "north_america",
          "y": 157.27734375
         },
         {
          "country": "puerto_rico",
          "date": 2015.8179285789683,
          "name": "NODE_0000009",
          "parent_date": 2015.72458260035,
          "parent_y": 156.77734375,
          "region": "north_america",
          "y": 153.75
         },
         {
          "country": "puerto_rico",
          "date": 2015.9170405200273,
          "name": "NODE_0000010",
          "parent_date": 2015.8179285789683,
          "parent_y": 153.25,
          "region": "north_america",
          "y": 152.5
         },
         {
          "country": "puerto_rico",
          "date": 2015.9659315878375,
          "name": "PRVABC59",
          "parent_date": 2015.9170405200273,
          "parent_y": 152,
          "region": "north_america",
          "y": 152
         },
         {
          "country": "puerto_rico",
          "date": 2016.473648186174,
          "name": "PuertoRico/2016/FL008U",
          "parent_date": 2015.9170405200273,
          "parent_y": 152,
          "region": "north_america",
          "y": 153
         },
         {
          "country": "puerto_rico",
          "date": 2016.0044510762089,
          "name": "NODE_0000011",
          "parent_date": 2015.8179285789683,
          "parent_y": 153.25,
          "region": "north_america",
          "y": 155
         },
         {
          "country": "puerto_rico",
          "date": 2016.5065023956195,
          "name": "PuertoRico/2016/FL016U",
          "parent_date": 2016.0044510762089,
          "parent_y": 154.5,
          "region": "north_america",
          "y": 154
         },
         {
          "country": "puerto_rico",
          "date": 2016.2847364818617,
          "name": "PRI/2016/MA_WGS16_004",
          "parent_date": 2016.0044510762089,
          "parent_y": 154.5,
          "region": "north_america",
          "y": 155
         },
         {
          "country": "puerto_rico",
          "date": 2016.4873374401095,
          "name": "PRI/2016/MA_WGS16_016",
          "parent_date": 2016.0044510762089,
          "parent_y": 154.5,
          "region": "north_america",
          "y": 156
         },
         {
          "country": "usvi",
          "date": 2015.8240581968512,
          "name": "NODE_0000013",
          "parent_date": 2015.72458260035,
          "parent_y": 156.77734375,
          "region": "north_america",
          "y": 160.8046875
         },
         {
          "country": "usvi",
          "date": 2016.2077149904337,
          "name": "NODE_0000014",
          "parent_date": 2015.8240581968512,
          "parent_y": 160.3046875,
          "region": "north_america",
          "y": 158.125
         },
         {
          "country": "usvi",
          "date": 2016.8596851471596,
          "name": "USVI/39/2016",
          "parent_date": 2016.2077149904337,
          "parent_y": 157.625,
          "region": "north_america",
          "y": 157
         },
         {
          "country": "usvi",
          "date": 2016.4138370517317,
          "name": "NODE_0000015",
          "parent_date": 2016.2077149904337,
          "parent_y": 157.625,
          "region": "north_america",
          "y": 159.25
         },
         {
          "country": "usvi",
          "date": 2016.766598220397,
          "name": "USVI/37/2016",
          "parent_date": 2016.4138370517317,
          "parent_y": 158.75,
          "region": "north_america",
          "y": 158
         },
         {
          "country": "usvi",
          "date": 2016.8459958932237,
          "name": "USVI/12/2016",
          "parent_date": 2016.4138370517317,
          "parent_y": 158.75,
          "region": "north_america",
          "y": 159
         },
         {
          "country": "usvi",
          "date": 2016.6440821449594,
          "name": "NODE_0000016",
          "parent_date": 2016.4138370517317,
          "parent_y": 158.75,
          "region": "north_america",
          "y": 160.5
         },
         {
          "country": "usvi",
          "date": 2016.7446954140999,
          "name": "USVI/1/2016",
          "parent_date": 2016.6440821449594,
          "parent_y": 160,
          "region": "north_america",
          "y": 160
         },
         {
          "country": "usvi",
          "date": 2016.7446954140999,
          "name": "USVI/2/2016",
          "parent_date": 2016.6440821449594,
          "parent_y": 160,
          "region": "north_america",
          "y": 161
         },
         {
          "country": "usvi",
          "date": 2015.8873506592981,
          "name": "NODE_0000018",
          "parent_date": 2015.8240581968512,
          "parent_y": 160.3046875,
          "region": "north_america",
          "y": 163.484375
         },
         {
          "country": "puerto_rico",
          "date": 2016.2819986310747,
          "name": "PRI/2016/MA_WGS16_005",
          "parent_date": 2015.8873506592981,
          "parent_y": 162.984375,
          "region": "north_america",
          "y": 162
         },
         {
          "country": "usvi",
          "date": 2015.9803716824174,
          "name": "NODE_0000019",
          "parent_date": 2015.8873506592981,
          "parent_y": 162.984375,
          "region": "north_america",
          "y": 164.96875
         },
         {
          "country": "usvi",
          "date": 2016.6899383983573,
          "name": "USVI/35/2016",
          "parent_date": 2015.9803716824174,
          "parent_y": 164.46875,
          "region": "north_america",
          "y": 163
         },
         {
          "country": "usvi",
          "date": 2016.1865110157976,
          "name": "NODE_0000020",
          "parent_date": 2015.9803716824174,
          "parent_y": 164.46875,
          "region": "north_america",
          "y": 166.9375
         },
         {
          "country": "usvi",
          "date": 2016.5503080082135,
          "name": "USVI/43/2016",
          "parent_date": 2016.1865110157976,
          "parent_y": 166.4375,
          "region": "north_america",
          "y": 164
         },
         {
          "country": "usvi",
          "date": 2016.7419575633128,
          "name": "USVI/25/2016",
          "parent_date": 2016.1865110157976,
          "parent_y": 166.4375,
          "region": "north_america",
          "y": 165
         },
         {
          "country": "usvi",
          "date": 2016.4404398288752,
          "name": "NODE_0000028",
          "parent_date": 2016.1865110157976,
          "parent_y": 166.4375,
          "region": "north_america",
          "y": 166.5
         },
         {
          "country": "usvi",
          "date": 2016.8186173853526,
          "name": "USVI/38/2016",
          "parent_date": 2016.4404398288752,
          "parent_y": 166,
          "region": "north_america",
          "y": 166
         },
         {
          "country": "usvi",
          "date": 2016.6187542778919,
          "name": "USVI/13/2016",
          "parent_date": 2016.4404398288752,
          "parent_y": 166,
          "region": "north_america",
          "y": 167
         },
         {
          "country": "usvi",
          "date": 2016.2175347063271,
          "name": "NODE_0000648",
          "parent_date": 2016.1865110157976,
          "parent_y": 166.4375,
          "region": "north_america",
          "y": 169.875
         },
         {
          "country": "usvi",
          "date": 2016.3062994805712,
          "name": "NODE_0000649",
          "parent_date": 2016.2175347063271,
          "parent_y": 169.375,
          "region": "north_america",
          "y": 168.5
         },
         {
          "country": "usvi",
          "date": 2016.5913757700205,
          "name": "USVI/45/2016",
          "parent_date": 2016.3062994805712,
          "parent_y": 168,
          "region": "north_america",
          "y": 168
         },
         {
          "country": "usvi",
          "date": 2016.8021902806297,
          "name": "USVI/6/2016",
          "parent_date": 2016.3062994805712,
          "parent_y": 168,
          "region": "north_america",
          "y": 169
         },
         {
          "country": "usvi",
          "date": 2016.3056378208507,
          "name": "NODE_0000022",
          "parent_date": 2016.2175347063271,
          "parent_y": 169.375,
          "region": "north_america",
          "y": 171.25
         },
         {
          "country": "usvi",
          "date": 2016.5859000684463,
          "name": "USVI/34/2016",
          "parent_date": 2016.3056378208507,
          "parent_y": 170.75,
          "region": "north_america",
          "y": 170
         },
         {
          "country": "usvi",
          "date": 2016.539356605065,
          "name": "USVI/46/2016",
          "parent_date": 2016.3056378208507,
          "parent_y": 170.75,
          "region": "north_america",
          "y": 171
         },
         {
          "country": "usvi",
          "date": 2016.4105964168125,
          "name": "NODE_0000606",
          "parent_date": 2016.3056378208507,
          "parent_y": 170.75,
          "region": "north_america",
          "y": 172.5
         },
         {
          "country": "usvi",
          "date": 2016.7392197125257,
          "name": "USVI/3/2016",
          "parent_date": 2016.4105964168125,
          "parent_y": 172,
          "region": "north_america",
          "y": 172
         },
         {
          "country": "usvi",
          "date": 2016.7967145790553,
          "name": "USVI/5/2016",
          "parent_date": 2016.4105964168125,
          "parent_y": 172,
          "region": "north_america",
          "y": 173
         },
         {
          "country": "brazil",
          "date": 2014.0107765503058,
          "name": "NODE_0000607",
          "parent_date": 2013.910413770024,
          "parent_y": 150.94827592372894,
          "region": "south_america",
          "y": 179.556494474411
         },
         {
          "country": "brazil",
          "date": 2015.0584521870314,
          "name": "NODE_0000195",
          "parent_date": 2014.0107765503058,
          "parent_y": 179.056494474411,
          "region": "south_america",
          "y": 174.5
         },
         {
          "country": "usvi",
          "date": 2016.7036276522929,
          "name": "USVI/24/2016",
          "parent_date": 2015.0584521870314,
          "parent_y": 174,
          "region": "north_america",
          "y": 174
         },
         {
          "country": "brazil",
          "date": 2016.2874743326488,
          "name": "BRA/2016/FC_DQ116D1",
          "parent_date": 2015.0584521870314,
          "parent_y": 174,
          "region": "south_america",
          "y": 175
         },
         {
          "country": "brazil",
          "date": 2014.4330880523914,
          "name": "NODE_0000056",
          "parent_date": 2014.0107765503058,
          "parent_y": 179.056494474411,
          "region": "south_america",
          "y": 184.61298894882202
         },
         {
          "country": "brazil",
          "date": 2014.8565118708218,
          "name": "NODE_0000608",
          "parent_date": 2014.4330880523914,
          "parent_y": 184.11298894882202,
          "region": "south_america",
          "y": 178.5625
         },
         {
          "country": "brazil",
          "date": 2015.0604693125672,
          "name": "NODE_0000058",
          "parent_date": 2014.8565118708218,
          "parent_y": 178.0625,
          "region": "south_america",
          "y": 176.75
         },
         {
          "country": "brazil",
          "date": 2016.0520191649555,
          "name": "Brazil/2016/ZBRC16",
          "parent_date": 2015.0604693125672,
          "parent_y": 176.25,
          "region": "south_america",
          "y": 176
         },
         {
          "country": "brazil",
          "date": 2015.3242380964502,
          "name": "NODE_0000059",
          "parent_date": 2015.0604693125672,
          "parent_y": 176.25,
          "region": "south_america",
          "y": 177.5
         },
         {
          "country": "brazil",
          "date": 2016.2381930184804,
          "name": "BRA/2016/FC_6418",
          "parent_date": 2015.3242380964502,
          "parent_y": 177,
          "region": "south_america",
          "y": 177
         },
         {
          "country": "brazil",
          "date": 2016.2272416153319,
          "name": "BRA/2016/FC_5905",
          "parent_date": 2015.3242380964502,
          "parent_y": 177,
          "region": "south_america",
          "y": 178
         },
         {
          "country": "brazil",
          "date": 2015.054964771314,
          "name": "NODE_0000060",
          "parent_date": 2014.8565118708218,
          "parent_y": 178.0625,
          "region": "south_america",
          "y": 180.375
         },
         {
          "country": "brazil",
          "date": 2016.03832991102,
          "name": "Rio_U1",
          "parent_date": 2015.054964771314,
          "parent_y": 179.875,
          "region": "south_america",
          "y": 179
         },
         {
          "country": "brazil",
          "date": 2016.1177275838468,
          "name": "RIO_BM1",
          "parent_date": 2015.054964771314,
          "parent_y": 179.875,
          "region": "south_america",
          "y": 180
         },
         {
          "country": "brazil",
          "date": 2015.17933768047,
          "name": "NODE_0000609",
          "parent_date": 2015.054964771314,
          "parent_y": 179.875,
          "region": "south_america",
          "y": 181.75
         },
         {
          "country": "brazil",
          "date": 2016.2026009582478,
          "name": "BRA/2016/FC_DQ5D1",
          "parent_date": 2015.17933768047,
          "parent_y": 181.25,
          "region": "south_america",
          "y": 181
         },
         {
          "country": "brazil",
          "date": 2015.320476639166,
          "name": "NODE_0000610",
          "parent_date": 2015.17933768047,
          "parent_y": 181.25,
          "region": "south_america",
          "y": 182.5
         },
         {
          "country": "brazil",
          "date": 2016.041067761807,
          "name": "Brazil/2016/ZBRY1",
          "parent_date": 2015.320476639166,
          "parent_y": 182,
          "region": "south_america",
          "y": 182
         },
         {
          "country": "brazil",
          "date": 2016.0762254468702,
          "name": "Brazil/2016/ZBRY7",
          "parent_date": 2015.320476639166,
          "parent_y": 182,
          "region": "south_america",
          "y": 183
         },
         {
          "country": "honduras",
          "date": 2014.745236316958,
          "name": "NODE_0000064",
          "parent_date": 2014.4330880523914,
          "parent_y": 184.11298894882202,
          "region": "north_america",
          "y": 190.66347789764404
         },
         {
          "country": "honduras",
          "date": 2016.416153319644,
          "name": "HND/2016/HU_ME136",
          "parent_date": 2014.745236316958,
          "parent_y": 190.16347789764404,
          "region": "north_america",
          "y": 184
         },
         {
          "country": "honduras",
          "date": 2014.7943599036205,
          "name": "NODE_0000065",
          "parent_date": 2014.745236316958,
          "parent_y": 190.16347789764404,
          "region": "north_america",
          "y": 197.3269557952881
         },
         {
          "country": "nicaragua",
          "date": 2016.498288843258,
          "name": "NIC/6188_13A1/2016",
          "parent_date": 2014.7943599036205,
          "parent_y": 196.8269557952881,
          "region": "north_america",
          "y": 185
         },
         {
          "country": "honduras",
          "date": 2014.8573127138059,
          "name": "NODE_0000066",
          "parent_date": 2014.7943599036205,
          "parent_y": 196.8269557952881,
          "region": "north_america",
          "y": 209.65391159057617
         },
         {
          "country": "guatemala",
          "date": 2016.5557837097879,
          "name": "GTM/2016/Guatemala_3921",
          "parent_date": 2014.8573127138059,
          "parent_y": 209.15391159057617,
          "region": "north_america",
          "y": 186
         },
         {
          "country": "honduras",
          "date": 2014.9260319406515,
          "name": "NODE_0000114",
          "parent_date": 2014.8573127138059,
          "parent_y": 209.15391159057617,
          "region": "north_america",
          "y": 187.75
         },
         {
          "country": "honduras",
          "date": 2016.2929500342232,
          "name": "2016_HND_19563",
          "parent_date": 2014.9260319406515,
          "parent_y": 187.25,
          "region": "north_america",
          "y": 187
         },
         {
          "country": "honduras",
          "date": 2014.9764803398634,
          "name": "NODE_0000115",
          "parent_date": 2014.9260319406515,
          "parent_y": 187.25,
          "region": "north_america",
          "y": 188.5
         },
         {
          "country": "honduras",
          "date": 2016.0164271047229,
          "name": "V103451",
          "parent_date": 2014.9764803398634,
          "parent_y": 188,
          "region": "north_america",
          "y": 188
         },
         {
          "country": "honduras",
          "date": 2015.0164271047229,
          "name": "HND/R103451/2015",
          "parent_date": 2014.9764803398634,
          "parent_y": 188,
          "region": "north_america",
          "y": 189
         },
         {
          "country": "honduras",
          "date": 2015.0698764183383,
          "name": "NODE_0000117",
          "parent_date": 2014.8573127138059,
          "parent_y": 209.15391159057617,
          "region": "north_america",
          "y": 192.921875
         },
         {
          "country": "nicaragua",
          "date": 2015.572068102814,
          "name": "NODE_0000118",
          "parent_date": 2015.0698764183383,
          "parent_y": 192.421875,
          "region": "north_america",
          "y": 190.5
         },
         {
          "country": "nicaragua",
          "date": 2016.517453798768,
          "name": "NIC/8610_13A1/2016",
          "parent_date": 2015.572068102814,
          "parent_y": 190,
          "region": "north_america",
          "y": 190
         },
         {
          "country": "nicaragua",
          "date": 2016.6543463381245,
          "name": "NIC/5256_13A1/2016",
          "parent_date": 2015.572068102814,
          "parent_y": 190,
          "region": "north_america",
          "y": 191
         },
         {
          "country": "honduras",
          "date": 2015.5808931569636,
          "name": "NODE_0000119",
          "parent_date": 2015.0698764183383,
          "parent_y": 192.421875,
          "region": "north_america",
          "y": 195.34375
         },
         {
          "country": "honduras",
          "date": 2015.7827178174155,
          "name": "NODE_0000120",
          "parent_date": 2015.5808931569636,
          "parent_y": 194.84375,
          "region": "north_america",
          "y": 193.25
         },
         {
          "country": "honduras",
          "date": 2016.1177275838468,
          "name": "HND/2016/Honduras_1055",
          "parent_date": 2015.7827178174155,
          "parent_y": 192.75,
          "region": "north_america",
          "y": 192
         },
         {
          "country": "honduras",
          "date": 2016.37234770705,
          "name": "HN16",
          "parent_date": 2015.7827178174155,
          "parent_y": 192.75,
          "region": "north_america",
          "y": 193
         },
         {
          "country": "honduras",
          "date": 2015.9130646405379,
          "name": "NODE_0000122",
          "parent_date": 2015.7827178174155,
          "parent_y": 192.75,
          "region": "north_america",
          "y": 194.5
         },
         {
          "country": "honduras",
          "date": 2016.435318275154,
          "name": "HND/2016/HU_ME156",
          "parent_date": 2015.9130646405379,
          "parent_y": 194,
          "region": "north_america",
          "y": 194
         },
         {
          "country": "honduras",
          "date": 2016.3668720054757,
          "name": "HND/2016/HU_ME58",
          "parent_date": 2015.9130646405379,
          "parent_y": 194,
          "region": "north_america",
          "y": 195
         },
         {
          "country": "honduras",
          "date": 2015.7287286746232,
          "name": "NODE_0000123",
          "parent_date": 2015.5808931569636,
          "parent_y": 194.84375,
          "region": "north_america",
          "y": 197.4375
         },
         {
          "country": "honduras",
          "date": 2016.3559206023272,
          "name": "HND/2016/HU_ME42",
          "parent_date": 2015.7287286746232,
          "parent_y": 196.9375,
          "region": "north_america",
          "y": 196
         },
         {
          "country": "honduras",
          "date": 2015.847796870128,
          "name": "NODE_0000124",
          "parent_date": 2015.7287286746232,
          "parent_y": 196.9375,
          "region": "north_america",
          "y": 198.875
         },
         {
          "country": "honduras",
          "date": 2016.331279945243,
          "name": "HND/2016/HU_ME38",
          "parent_date": 2015.847796870128,
          "parent_y": 198.375,
          "region": "north_america",
          "y": 197
         },
         {
          "country": "honduras",
          "date": 2016.4271047227926,
          "name": "HND/2016/HU_ME147",
          "parent_date": 2015.847796870128,
          "parent_y": 198.375,
          "region": "north_america",
          "y": 198
         },
         {
          "country": "honduras",
          "date": 2016.3258042436687,
          "name": "HND/2016/HU_ME33",
          "parent_date": 2015.847796870128,
          "parent_y": 198.375,
          "region": "north_america",
          "y": 199
         },
         {
          "country": "nicaragua",
          "date": 2015.9785618186665,
          "name": "NODE_0000127",
          "parent_date": 2015.847796870128,
          "parent_y": 198.375,
          "region": "north_america",
          "y": 200.75
         },
         {
          "country": "nicaragua",
          "date": 2016.5503080082135,
          "name": "NIC/6547_13A1/2016",
          "parent_date": 2015.9785618186665,
          "parent_y": 200.25,
          "region": "north_america",
          "y": 200
         },
         {
          "country": "nicaragua",
          "date": 2016.4139274737922,
          "name": "NODE_0000128",
          "parent_date": 2015.9785618186665,
          "parent_y": 200.25,
          "region": "north_america",
          "y": 201.5
         },
         {
          "country": "nicaragua",
          "date": 2016.5256673511294,
          "name": "NIC/4886_12A1/2016",
          "parent_date": 2016.4139274737922,
          "parent_y": 201,
          "region": "north_america",
          "y": 201
         },
         {
          "country": "nicaragua",
          "date": 2016.495550992471,
          "name": "NIC/7252_12A1/2016",
          "parent_date": 2016.4139274737922,
          "parent_y": 201,
          "region": "north_america",
          "y": 202
         },
         {
          "country": "honduras",
          "date": 2015.0522013171956,
          "name": "NODE_0000138",
          "parent_date": 2014.8573127138059,
          "parent_y": 209.15391159057617,
          "region": "north_america",
          "y": 204.93359375
         },
         {
          "country": "mexico",
          "date": 2016.517453798768,
          "name": "mex39/Mexico/2016",
          "parent_date": 2015.0522013171956,
          "parent_y": 204.43359375,
          "region": "north_america",
          "y": 203
         },
         {
          "country": "guatemala",
          "date": 2016.0903490759754,
          "name": "FB_GWUH_2016",
          "parent_date": 2015.0522013171956,
          "parent_y": 204.43359375,
          "region": "north_america",
          "y": 204
         },
         {
          "country": "honduras",
          "date": 2015.1192120226503,
          "name": "NODE_0000613",
          "parent_date": 2015.0522013171956,
          "parent_y": 204.43359375,
          "region": "north_america",
          "y": 206.8671875
         },
         {
          "country": "honduras",
          "date": 2016.2436687200548,
          "name": "HND/2016/Honduras_1122",
          "parent_date": 2015.1192120226503,
          "parent_y": 206.3671875,
          "region": "north_america",
          "y": 205
         },
         {
          "country": "honduras",
          "date": 2015.3152687216161,
          "name": "NODE_0000614",
          "parent_date": 2015.1192120226503,
          "parent_y": 206.3671875,
          "region": "north_america",
          "y": 208.734375
         },
         {
          "country": "nicaragua",
          "date": 2015.7938168216879,
          "name": "NODE_0000142",
          "parent_date": 2015.3152687216161,
          "parent_y": 208.234375,
          "region": "north_america",
          "y": 206.75
         },
         {
          "country": "nicaragua",
          "date": 2016.4106776180697,
          "name": "NIC/6406_13A1/2016",
          "parent_date": 2015.7938168216879,
          "parent_y": 206.25,
          "region": "north_america",
          "y": 206
         },
         {
          "country": "nicaragua",
          "date": 2016.0355920602328,
          "name": "NODE_0000615",
          "parent_date": 2015.7938168216879,
          "parent_y": 206.25,
          "region": "north_america",
          "y": 207.5
         },
         {
          "country": "nicaragua",
          "date": 2016.0355920602328,
          "name": "Nica2_16",
          "parent_date": 2016.0355920602328,
          "parent_y": 207,
          "region": "north_america",
          "y": 207
         },
         {
          "country": "nicaragua",
          "date": 2016.0520191649555,
          "name": "Nica1_16",
          "parent_date": 2016.0355920602328,
          "parent_y": 207,
          "region": "north_america",
          "y": 208
         },
         {
          "country": "honduras",
          "date": 2015.404314555208,
          "name": "NODE_0000616",
          "parent_date": 2015.3152687216161,
          "parent_y": 208.234375,
          "region": "north_america",
          "y": 210.71875
         },
         {
          "country": "honduras",
          "date": 2016.3586584531142,
          "name": "HND/2016/Honduras_1162",
          "parent_date": 2015.404314555208,
          "parent_y": 210.21875,
          "region": "north_america",
          "y": 209
         },
         {
          "country": "nicaragua",
          "date": 2015.6812958810756,
          "name": "NODE_0000145",
          "parent_date": 2015.404314555208,
          "parent_y": 210.21875,
          "region": "north_america",
          "y": 212.4375
         },
         {
          "country": "nicaragua",
          "date": 2016.5968514715948,
          "name": "NIC/1304_13A1/2016",
          "parent_date": 2015.6812958810756,
          "parent_y": 211.9375,
          "region": "north_america",
          "y": 210
         },
         {
          "country": "nicaragua",
          "date": 2015.7820448866769,
          "name": "NODE_0000146",
          "parent_date": 2015.6812958810756,
          "parent_y": 211.9375,
          "region": "north_america",
          "y": 211.75
         },
         {
          "country": "nicaragua",
          "date": 2016.662559890486,
          "name": "NIC/7253_13A1/2016",
          "parent_date": 2015.7820448866769,
          "parent_y": 211.25,
          "region": "north_america",
          "y": 211
         },
         {
          "country": "nicaragua",
          "date": 2015.9133801545977,
          "name": "NODE_0000147",
          "parent_date": 2015.7820448866769,
          "parent_y": 211.25,
          "region": "north_america",
          "y": 212.5
         },
         {
          "country": "nicaragua",
          "date": 2016.6351813826147,
          "name": "NIC/1659_13A1/2016",
          "parent_date": 2015.9133801545977,
          "parent_y": 212,
          "region": "north_america",
          "y": 212
         },
         {
          "country": "nicaragua",
          "date": 2016.558521560575,
          "name": "NIC/5338_13A1/2016",
          "parent_date": 2015.9133801545977,
          "parent_y": 212,
          "region": "north_america",
          "y": 213
         },
         {
          "country": "honduras",
          "date": 2015.79008995683,
          "name": "NODE_0000617",
          "parent_date": 2015.6812958810756,
          "parent_y": 211.9375,
          "region": "north_america",
          "y": 214.875
         },
         {
          "country": "honduras",
          "date": 2016.4435318275155,
          "name": "HND/2016/HU_ME171",
          "parent_date": 2015.79008995683,
          "parent_y": 214.375,
          "region": "north_america",
          "y": 214
         },
         {
          "country": "honduras",
          "date": 2015.9414875524603,
          "name": "NODE_0000618",
          "parent_date": 2015.79008995683,
          "parent_y": 214.375,
          "region": "north_america",
          "y": 215.75
         },
         {
          "country": "honduras",
          "date": 2016.4435318275155,
          "name": "HND/2016/HU_ME172",
          "parent_date": 2015.9414875524603,
          "parent_y": 215.25,
          "region": "north_america",
          "y": 215
         },
         {
          "country": "honduras",
          "date": 2016.4079397672826,
          "name": "NODE_0000149",
          "parent_date": 2015.9414875524603,
          "parent_y": 215.25,
          "region": "north_america",
          "y": 216.5
         },
         {
          "country": "honduras",
          "date": 2016.6543463381245,
          "name": "FHT1166/HON/2016",
          "parent_date": 2016.4079397672826,
          "parent_y": 216,
          "region": "north_america",
          "y": 216
         },
         {
          "country": "honduras",
          "date": 2016.4079397672826,
          "name": "HND/2016/HU_ME131",
          "parent_date": 2016.4079397672826,
          "parent_y": 216,
          "region": "north_america",
          "y": 217
         },
         {
          "country": "mexico",
          "date": 2014.91334008215,
          "name": "NODE_0000650",
          "parent_date": 2014.8573127138059,
          "parent_y": 209.15391159057617,
          "region": "north_america",
          "y": 233.30782318115234
         },
         {
          "country": "mexico",
          "date": 2015.1035281048273,
          "name": "NODE_0000134",
          "parent_date": 2014.91334008215,
          "parent_y": 232.80782318115234,
          "region": "north_america",
          "y": 218.5
         },
         {
          "country": "mexico",
          "date": 2016.517453798768,
          "name": "MEX/2016/mex28",
          "parent_date": 2015.1035281048273,
          "parent_y": 218,
          "region": "north_america",
          "y": 218
         },
         {
          "country": "mexico",
          "date": 2016.002737850787,
          "name": "MEX/2016/Mexico_1",
          "parent_date": 2015.1035281048273,
          "parent_y": 218,
          "region": "north_america",
          "y": 219
         },
         {
          "country": "mexico",
          "date": 2015.0124621832595,
          "name": "NODE_0000651",
          "parent_date": 2014.91334008215,
          "parent_y": 232.80782318115234,
          "region": "north_america",
          "y": 248.1156463623047
         },
         {
          "country": "mexico",
          "date": 2015.1173940250221,
          "name": "NODE_0000152",
          "parent_date": 2015.0124621832595,
          "parent_y": 247.6156463623047,
          "region": "north_america",
          "y": 225.09765625
         },
         {
          "country": "mexico",
          "date": 2016.5119780971936,
          "name": "MEX/2016/mex29",
          "parent_date": 2015.1173940250221,
          "parent_y": 224.59765625,
          "region": "north_america",
          "y": 220
         },
         {
          "country": "mexico",
          "date": 2015.7544607742514,
          "name": "NODE_0000154",
          "parent_date": 2015.1173940250221,
          "parent_y": 224.59765625,
          "region": "north_america",
          "y": 221.5
         },
         {
          "country": "mexico",
          "date": 2016.517453798768,
          "name": "MEX/2016/mex34",
          "parent_date": 2015.7544607742514,
          "parent_y": 221,
          "region": "north_america",
          "y": 221
         },
         {
          "country": "mexico",
          "date": 2016.5119780971936,
          "name": "MEX/2016/mex37",
          "parent_date": 2015.7544607742514,
          "parent_y": 221,
          "region": "north_america",
          "y": 222
         },
         {
          "country": "mexico",
          "date": 2015.3355849272082,
          "name": "NODE_0000155",
          "parent_date": 2015.1173940250221,
          "parent_y": 224.59765625,
          "region": "north_america",
          "y": 230.1953125
         },
         {
          "country": "mexico",
          "date": 2016.501026694045,
          "name": "MEX/2016/mex46",
          "parent_date": 2015.3355849272082,
          "parent_y": 229.6953125,
          "region": "north_america",
          "y": 223
         },
         {
          "country": "mexico",
          "date": 2015.41302225034,
          "name": "NODE_0000156",
          "parent_date": 2015.3355849272082,
          "parent_y": 229.6953125,
          "region": "north_america",
          "y": 237.390625
         },
         {
          "country": "mexico",
          "date": 2016.2747244916845,
          "name": "Aedes_aegypti/MEX/MEX_I_44/2016",
          "parent_date": 2015.41302225034,
          "parent_y": 236.890625,
          "region": "north_america",
          "y": 224
         },
         {
          "country": "mexico",
          "date": 2015.5287594764834,
          "name": "NODE_0000630",
          "parent_date": 2015.41302225034,
          "parent_y": 236.890625,
          "region": "north_america",
          "y": 225.9375
         },
         {
          "country": "mexico",
          "date": 2016.3860369609856,
          "name": "MEX/2016/mex17",
          "parent_date": 2015.5287594764834,
          "parent_y": 225.4375,
          "region": "north_america",
          "y": 225
         },
         {
          "country": "mexico",
          "date": 2015.68428715573,
          "name": "NODE_0000631",
          "parent_date": 2015.5287594764834,
          "parent_y": 225.4375,
          "region": "north_america",
          "y": 226.875
         },
         {
          "country": "mexico",
          "date": 2016.7310061601643,
          "name": "MEX/42_018_F_V3_O/2016",
          "parent_date": 2015.68428715573,
          "parent_y": 226.375,
          "region": "north_america",
          "y": 226
         },
         {
          "country": "mexico",
          "date": 2015.7843863009914,
          "name": "NODE_0000632",
          "parent_date": 2015.68428715573,
          "parent_y": 226.375,
          "region": "north_america",
          "y": 227.75
         },
         {
          "country": "mexico",
          "date": 2016.3093771389458,
          "name": "MEX/2016/mex01",
          "parent_date": 2015.7843863009914,
          "parent_y": 227.25,
          "region": "north_america",
          "y": 227
         },
         {
          "country": "mexico",
          "date": 2015.9154114829626,
          "name": "NODE_0000633",
          "parent_date": 2015.7843863009914,
          "parent_y": 227.25,
          "region": "north_america",
          "y": 228.5
         },
         {
          "country": "mexico",
          "date": 2016.3559206023272,
          "name": "MEX/2016/mex05",
          "parent_date": 2015.9154114829626,
          "parent_y": 228,
          "region": "north_america",
          "y": 228
         },
         {
          "country": "mexico",
          "date": 2016.5092402464065,
          "name": "MEX/2016/mex44",
          "parent_date": 2015.9154114829626,
          "parent_y": 228,
          "region": "north_america",
          "y": 229
         },
         {
          "country": "mexico",
          "date": 2015.520780082582,
          "name": "NODE_0000157",
          "parent_date": 2015.41302225034,
          "parent_y": 236.890625,
          "region": "north_america",
          "y": 232.375
         },
         {
          "country": "mexico",
          "date": 2015.6420647030673,
          "name": "NODE_0000158",
          "parent_date": 2015.520780082582,
          "parent_y": 231.875,
          "region": "north_america",
          "y": 230.75
         },
         {
          "country": "mexico",
          "date": 2016.002737850787,
          "name": "Aedessp/MEX/MEX_2_81/2016",
          "parent_date": 2015.6420647030673,
          "parent_y": 230.25,
          "region": "north_america",
          "y": 230
         },
         {
          "country": "mexico",
          "date": 2015.82091814638,
          "name": "NODE_0000159",
          "parent_date": 2015.6420647030673,
          "parent_y": 230.25,
          "region": "north_america",
          "y": 231.5
         },
         {
          "country": "mexico",
          "date": 2015.914442162902,
          "name": "MEX_I_7",
          "parent_date": 2015.82091814638,
          "parent_y": 231,
          "region": "north_america",
          "y": 231
         },
         {
          "country": "mexico",
          "date": 2016.002737850787,
          "name": "Aedessp/MEX/MEX_I_7/2016",
          "parent_date": 2015.82091814638,
          "parent_y": 231,
          "region": "north_america",
          "y": 232
         },
         {
          "country": "mexico",
          "date": 2016.1724845995893,
          "name": "NODE_0000160",
          "parent_date": 2015.520780082582,
          "parent_y": 231.875,
          "region": "north_america",
          "y": 234
         },
         {
          "country": "mexico",
          "date": 2016.3394934976043,
          "name": "MEX/2016/mex04",
          "parent_date": 2016.1724845995893,
          "parent_y": 233.5,
          "region": "north_america",
          "y": 233
         },
         {
          "country": "mexico",
          "date": 2016.1724845995893,
          "name": "MEX_CIENI551",
          "parent_date": 2016.1724845995893,
          "parent_y": 233.5,
          "region": "north_america",
          "y": 234
         },
         {
          "country": "mexico",
          "date": 2016.6129922700986,
          "name": "31N",
          "parent_date": 2016.1724845995893,
          "parent_y": 233.5,
          "region": "north_america",
          "y": 235
         },
         {
          "country": "mexico",
          "date": 2015.5041654200688,
          "name": "NODE_0000164",
          "parent_date": 2015.41302225034,
          "parent_y": 236.890625,
          "region": "north_america",
          "y": 239.125
         },
         {
          "country": "mexico",
          "date": 2015.7885010266941,
          "name": "NODE_0000166",
          "parent_date": 2015.5041654200688,
          "parent_y": 238.625,
          "region": "north_america",
          "y": 236.5
         },
         {
          "country": "mexico",
          "date": 2015.7885010266941,
          "name": "ENCB165P4",
          "parent_date": 2015.7885010266941,
          "parent_y": 236,
          "region": "north_america",
          "y": 236
         },
         {
          "country": "mexico",
          "date": 2015.7885010266941,
          "name": "MEX_ENCB165",
          "parent_date": 2015.7885010266941,
          "parent_y": 236,
          "region": "north_america",
          "y": 237
         },
         {
          "country": "mexico",
          "date": 2016.002737850787,
          "name": "NODE_0000169",
          "parent_date": 2015.5041654200688,
          "parent_y": 238.625,
          "region": "north_america",
          "y": 238.75
         },
         {
          "country": "mexico",
          "date": 2016.002737850787,
          "name": "USA/UT_1/2016",
          "parent_date": 2016.002737850787,
          "parent_y": 238.25,
          "region": "north_america",
          "y": 238
         },
         {
          "country": "mexico",
          "date": 2016.3375795822376,
          "name": "NODE_0000634",
          "parent_date": 2016.002737850787,
          "parent_y": 238.25,
          "region": "north_america",
          "y": 239.5
         },
         {
          "country": "mexico",
          "date": 2016.479123887748,
          "name": "R116265",
          "parent_date": 2016.3375795822376,
          "parent_y": 239,
          "region": "north_america",
          "y": 239
         },
         {
          "country": "mexico",
          "date": 2016.479123887748,
          "name": "MEX/R116265/2016",
          "parent_date": 2016.3375795822376,
          "parent_y": 239,
          "region": "north_america",
          "y": 240
         },
         {
          "country": "mexico",
          "date": 2015.7443999260038,
          "name": "NODE_0000635",
          "parent_date": 2015.5041654200688,
          "parent_y": 238.625,
          "region": "north_america",
          "y": 241.75
         },
         {
          "country": "mexico",
          "date": 2016.5968514715948,
          "name": "mex07/Mexico/2016",
          "parent_date": 2015.7443999260038,
          "parent_y": 241.25,
          "region": "north_america",
          "y": 241
         },
         {
          "country": "mexico",
          "date": 2016.0627814395687,
          "name": "NODE_0000167",
          "parent_date": 2015.7443999260038,
          "parent_y": 241.25,
          "region": "north_america",
          "y": 242.5
         },
         {
          "country": "mexico",
          "date": 2016.517453798768,
          "name": "MEX/2016/mex35",
          "parent_date": 2016.0627814395687,
          "parent_y": 242,
          "region": "north_america",
          "y": 242
         },
         {
          "country": "mexico",
          "date": 2016.501026694045,
          "name": "MEX/2016/mex38",
          "parent_date": 2016.0627814395687,
          "parent_y": 242,
          "region": "north_america",
          "y": 243
         },
         {
          "country": "mexico",
          "date": 2015.5259111595133,
          "name": "NODE_0000176",
          "parent_date": 2015.41302225034,
          "parent_y": 236.890625,
          "region": "north_america",
          "y": 250.78125
         },
         {
          "country": "mexico",
          "date": 2016.6351813826147,
          "name": "MEX/42_016_F_V0_O/2016",
          "parent_date": 2015.5259111595133,
          "parent_y": 250.28125,
          "region": "north_america",
          "y": 244
         },
         {
          "country": "mexico",
          "date": 2015.6737618198383,
          "name": "NODE_0000191",
          "parent_date": 2015.5259111595133,
          "parent_y": 250.28125,
          "region": "north_america",
          "y": 246
         },
         {
          "country": "mexico",
          "date": 2016.8596851471596,
          "name": "Mexico_Rus_10GNN_2016",
          "parent_date": 2015.6737618198383,
          "parent_y": 245.5,
          "region": "north_america",
          "y": 245
         },
         {
          "country": "mexico",
          "date": 2016.4109932473536,
          "name": "NODE_0000192",
          "parent_date": 2015.6737618198383,
          "parent_y": 245.5,
          "region": "north_america",
          "y": 247
         },
         {
          "country": "mexico",
          "date": 2016.6488706365503,
          "name": "MEX/41_022_F_V3_O/2016",
          "parent_date": 2016.4109932473536,
          "parent_y": 246.5,
          "region": "north_america",
          "y": 246
         },
         {
          "country": "mexico",
          "date": 2016.643394934976,
          "name": "MEX/41_022_F_V0_O/2016",
          "parent_date": 2016.4109932473536,
          "parent_y": 246.5,
          "region": "north_america",
          "y": 247
         },
         {
          "country": "mexico",
          "date": 2016.662559890486,
          "name": "MEX/41_022_F_V7_O/2016",
          "parent_date": 2016.4109932473536,
          "parent_y": 246.5,
          "region": "north_america",
          "y": 248
         },
         {
          "country": "mexico",
          "date": 2015.6784393444268,
          "name": "NODE_0000178",
          "parent_date": 2015.5259111595133,
          "parent_y": 250.28125,
          "region": "north_america",
          "y": 250.25
         },
         {
          "country": "mexico",
          "date": 2016.5119780971936,
          "name": "MEX/2016/mex36",
          "parent_date": 2015.6784393444268,
          "parent_y": 249.75,
          "region": "north_america",
          "y": 249
         },
         {
          "country": "mexico",
          "date": 2015.9109217552884,
          "name": "NODE_0000179",
          "parent_date": 2015.6784393444268,
          "parent_y": 249.75,
          "region": "north_america",
          "y": 251.5
         },
         {
          "country": "mexico",
          "date": 2016.1007761046355,
          "name": "NODE_0000180",
          "parent_date": 2015.9109217552884,
          "parent_y": 251,
          "region": "north_america",
          "y": 250.5
         },
         {
          "country": "mexico",
          "date": 2016.501026694045,
          "name": "MEX/2016/mex40",
          "parent_date": 2016.1007761046355,
          "parent_y": 250,
          "region": "north_america",
          "y": 250
         },
         {
          "country": "mexico",
          "date": 2016.394250513347,
          "name": "MEX/2016/mex23",
          "parent_date": 2016.1007761046355,
          "parent_y": 250,
          "region": "north_america",
          "y": 251
         },
         {
          "country": "mexico",
          "date": 2016.3573840879058,
          "name": "NODE_0000181",
          "parent_date": 2015.9109217552884,
          "parent_y": 251,
          "region": "north_america",
          "y": 252.5
         },
         {
          "country": "mexico",
          "date": 2016.4900752908966,
          "name": "MEX/42_001_F_V3_O/2016",
          "parent_date": 2016.3573840879058,
          "parent_y": 252,
          "region": "north_america",
          "y": 252
         },
         {
          "country": "mexico",
          "date": 2016.4818617385351,
          "name": "MEX/42_001_F_V0_O/2016",
          "parent_date": 2016.3573840879058,
          "parent_y": 252,
          "region": "north_america",
          "y": 253
         },
         {
          "country": "mexico",
          "date": 2015.6970801567913,
          "name": "NODE_0000636",
          "parent_date": 2015.5259111595133,
          "parent_y": 250.28125,
          "region": "north_america",
          "y": 257.5625
         },
         {
          "country": "mexico",
          "date": 2015.7464725775933,
          "name": "NODE_0000637",
          "parent_date": 2015.6970801567913,
          "parent_y": 257.0625,
          "region": "north_america",
          "y": 255.5
         },
         {
          "country": "mexico",
          "date": 2016.6258436447874,
          "name": "NODE_0000188",
          "parent_date": 2015.7464725775933,
          "parent_y": 255,
          "region": "north_america",
          "y": 254.5
         },
         {
          "country": "mexico",
          "date": 2016.8186173853526,
          "name": "MEX/43_023_F_V3_O/2016",
          "parent_date": 2016.6258436447874,
          "parent_y": 254,
          "region": "north_america",
          "y": 254
         },
         {
          "country": "mexico",
          "date": 2016.807665982204,
          "name": "MEX/43_023_F_V0_O/2016",
          "parent_date": 2016.6258436447874,
          "parent_y": 254,
          "region": "north_america",
          "y": 255
         },
         {
          "country": "mexico",
          "date": 2016.479123887748,
          "name": "NODE_0000183",
          "parent_date": 2015.7464725775933,
          "parent_y": 255,
          "region": "north_america",
          "y": 256.5
         },
         {
          "country": "mexico",
          "date": 2016.4928131416839,
          "name": "MEX/41_001_F_V7_O/2016",
          "parent_date": 2016.479123887748,
          "parent_y": 256,
          "region": "north_america",
          "y": 256
         },
         {
          "country": "mexico",
          "date": 2016.479123887748,
          "name": "MEX/41_001_F_V3_O/2016",
          "parent_date": 2016.479123887748,
          "parent_y": 256,
          "region": "north_america",
          "y": 257
         },
         {
          "country": "mexico",
          "date": 2015.789523496985,
          "name": "NODE_0000638",
          "parent_date": 2015.6970801567913,
          "parent_y": 257.0625,
          "region": "north_america",
          "y": 259.625
         },
         {
          "country": "mexico",
          "date": 2015.9807229254561,
          "name": "NODE_0000190",
          "parent_date": 2015.789523496985,
          "parent_y": 259.125,
          "region": "north_america",
          "y": 258.5
         },
         {
          "country": "mexico",
          "date": 2017.082135523614,
          "name": "Mexico_Rus_12TVR_2017",
          "parent_date": 2015.9807229254561,
          "parent_y": 258,
          "region": "north_america",
          "y": 258
         },
         {
          "country": "honduras",
          "date": 2016.3394934976043,
          "name": "HND/2016/HU_SZ76",
          "parent_date": 2015.9807229254561,
          "parent_y": 258,
          "region": "north_america",
          "y": 259
         },
         {
          "country": "mexico",
          "date": 2016.4873263266772,
          "name": "NODE_0000185",
          "parent_date": 2015.789523496985,
          "parent_y": 259.125,
          "region": "north_america",
          "y": 260.75
         },
         {
          "country": "mexico",
          "date": 2016.624229979466,
          "name": "MEX/41_017_F_V7_O/2016",
          "parent_date": 2016.4873263266772,
          "parent_y": 260.25,
          "region": "north_america",
          "y": 260
         },
         {
          "country": "mexico",
          "date": 2016.6050650239563,
          "name": "NODE_0000639",
          "parent_date": 2016.4873263266772,
          "parent_y": 260.25,
          "region": "north_america",
          "y": 261.5
         },
         {
          "country": "mexico",
          "date": 2016.6050650239563,
          "name": "MEX/41_017_F_V0_O/2016",
          "parent_date": 2016.6050650239563,
          "parent_y": 261,
          "region": "north_america",
          "y": 261
         },
         {
          "country": "mexico",
          "date": 2016.6105407255304,
          "name": "MEX/41_017_F_V3_O/2016",
          "parent_date": 2016.6050650239563,
          "parent_y": 261,
          "region": "north_america",
          "y": 262
         },
         {
          "country": "mexico",
          "date": 2015.0574160140234,
          "name": "NODE_0000652",
          "parent_date": 2015.0124621832595,
          "parent_y": 247.6156463623047,
          "region": "north_america",
          "y": 271.1336364746094
         },
         {
          "country": "mexico",
          "date": 2015.192754725037,
          "name": "NODE_0000071",
          "parent_date": 2015.0574160140234,
          "parent_y": 270.6336364746094,
          "region": "north_america",
          "y": 264.875
         },
         {
          "country": "honduras",
          "date": 2015.9117209664676,
          "name": "NODE_0000072",
          "parent_date": 2015.192754725037,
          "parent_y": 264.375,
          "region": "north_america",
          "y": 263.5
         },
         {
          "country": "honduras",
          "date": 2016.0930869267625,
          "name": "HND/2016/Honduras_1031",
          "parent_date": 2015.9117209664676,
          "parent_y": 263,
          "region": "north_america",
          "y": 263
         },
         {
          "country": "honduras",
          "date": 2016.1505817932923,
          "name": "HND/2016/Honduras_1083",
          "parent_date": 2015.9117209664676,
          "parent_y": 263,
          "region": "north_america",
          "y": 264
         },
         {
          "country": "mexico",
          "date": 2015.5216106522305,
          "name": "NODE_0000073",
          "parent_date": 2015.192754725037,
          "parent_y": 264.375,
          "region": "north_america",
          "y": 266.25
         },
         {
          "country": "mexico",
          "date": 2016.520191649555,
          "name": "MEX/2016/mex26",
          "parent_date": 2015.5216106522305,
          "parent_y": 265.75,
          "region": "north_america",
          "y": 265
         },
         {
          "country": "mexico",
          "date": 2016.1779603011637,
          "name": "Mex03/Mexico/2016",
          "parent_date": 2015.5216106522305,
          "parent_y": 265.75,
          "region": "north_america",
          "y": 266
         },
         {
          "country": "mexico",
          "date": 2016.2608371081487,
          "name": "NODE_0000075",
          "parent_date": 2015.5216106522305,
          "parent_y": 265.75,
          "region": "north_america",
          "y": 267.5
         },
         {
          "country": "mexico",
          "date": 2016.662559890486,
          "name": "MEX/41_023_F_V7_O/2016",
          "parent_date": 2016.2608371081487,
          "parent_y": 267,
          "region": "north_america",
          "y": 267
         },
         {
          "country": "mexico",
          "date": 2016.6516084873374,
          "name": "MEX/41_023_F_V3_O/2016",
          "parent_date": 2016.2608371081487,
          "parent_y": 267,
          "region": "north_america",
          "y": 268
         },
         {
          "country": "mexico",
          "date": 2015.1307649440555,
          "name": "NODE_0000653",
          "parent_date": 2015.0574160140234,
          "parent_y": 270.6336364746094,
          "region": "north_america",
          "y": 277.39227294921875
         },
         {
          "country": "mexico",
          "date": 2015.304396587203,
          "name": "NODE_0000090",
          "parent_date": 2015.1307649440555,
          "parent_y": 276.89227294921875,
          "region": "north_america",
          "y": 271.71875
         },
         {
          "country": "mexico",
          "date": 2016.3997262149212,
          "name": "MEX/2016/mex25",
          "parent_date": 2015.304396587203,
          "parent_y": 271.21875,
          "region": "north_america",
          "y": 269
         },
         {
          "country": "honduras",
          "date": 2016.4317063973037,
          "name": "HND/2016/Honduras_24",
          "parent_date": 2015.304396587203,
          "parent_y": 271.21875,
          "region": "north_america",
          "y": 270
         },
         {
          "country": "guatemala",
          "date": 2015.8350444900752,
          "name": "NODE_0000092",
          "parent_date": 2015.304396587203,
          "parent_y": 271.21875,
          "region": "north_america",
          "y": 271.5
         },
         {
          "country": "guatemala",
          "date": 2015.8350444900752,
          "name": "V8375",
          "parent_date": 2015.8350444900752,
          "parent_y": 271,
          "region": "north_america",
          "y": 271
         },
         {
          "country": "guatemala",
          "date": 2015.9171800136892,
          "name": "V103344",
          "parent_date": 2015.8350444900752,
          "parent_y": 271,
          "region": "north_america",
          "y": 272
         },
         {
          "country": "mexico",
          "date": 2015.6876217959018,
          "name": "NODE_0000094",
          "parent_date": 2015.304396587203,
          "parent_y": 271.21875,
          "region": "north_america",
          "y": 274.4375
         },
         {
          "country": "mexico",
          "date": 2016.9007529089665,
          "name": "Mexico/INPER38b/2016",
          "parent_date": 2015.6876217959018,
          "parent_y": 273.9375,
          "region": "north_america",
          "y": 273
         },
         {
          "country": "mexico",
          "date": 2016.5119780971936,
          "name": "MEX/2016/mex33",
          "parent_date": 2015.6876217959018,
          "parent_y": 273.9375,
          "region": "north_america",
          "y": 274
         },
         {
          "country": "mexico",
          "date": 2015.7730985486132,
          "name": "NODE_0000611",
          "parent_date": 2015.6876217959018,
          "parent_y": 273.9375,
          "region": "north_america",
          "y": 275.875
         },
         {
          "country": "mexico",
          "date": 2016.3860369609856,
          "name": "MEX/2016/mex19",
          "parent_date": 2015.7730985486132,
          "parent_y": 275.375,
          "region": "north_america",
          "y": 275
         },
         {
          "country": "mexico",
          "date": 2015.8477338279333,
          "name": "NODE_0000612",
          "parent_date": 2015.7730985486132,
          "parent_y": 275.375,
          "region": "north_america",
          "y": 276.75
         },
         {
          "country": "mexico",
          "date": 2016.3860369609856,
          "name": "MEX/2016/mex20",
          "parent_date": 2015.8477338279333,
          "parent_y": 276.25,
          "region": "north_america",
          "y": 276
         },
         {
          "country": "mexico",
          "date": 2016.0637349409435,
          "name": "NODE_0000095",
          "parent_date": 2015.8477338279333,
          "parent_y": 276.25,
          "region": "north_america",
          "y": 277.5
         },
         {
          "country": "mexico",
          "date": 2016.498288843258,
          "name": "mex48/Mexico/2016",
          "parent_date": 2016.0637349409435,
          "parent_y": 277,
          "region": "north_america",
          "y": 277
         },
         {
          "country": "mexico",
          "date": 2016.498288843258,
          "name": "MEX/2016/mex47",
          "parent_date": 2016.0637349409435,
          "parent_y": 277,
          "region": "north_america",
          "y": 278
         },
         {
          "country": "mexico",
          "date": 2015.2490270870019,
          "name": "NODE_0000619",
          "parent_date": 2015.1307649440555,
          "parent_y": 276.89227294921875,
          "region": "north_america",
          "y": 283.0657958984375
         },
         {
          "country": "mexico",
          "date": 2015.3980754075753,
          "name": "NODE_0000101",
          "parent_date": 2015.2490270870019,
          "parent_y": 282.5657958984375,
          "region": "north_america",
          "y": 279.9375
         },
         {
          "country": "guatemala",
          "date": 2016.7063655030802,
          "name": "Henan/001/2016",
          "parent_date": 2015.3980754075753,
          "parent_y": 279.4375,
          "region": "north_america",
          "y": 279
         },
         {
          "country": "mexico",
          "date": 2015.7017576712494,
          "name": "NODE_0000102",
          "parent_date": 2015.3980754075753,
          "parent_y": 279.4375,
          "region": "north_america",
          "y": 280.875
         },
         {
          "country": "mexico",
          "date": 2016.501026694045,
          "name": "MEX/2016/mex43",
          "parent_date": 2015.7017576712494,
          "parent_y": 280.375,
          "region": "north_america",
          "y": 280
         },
         {
          "country": "mexico",
          "date": 2015.7924702156308,
          "name": "NODE_0000103",
          "parent_date": 2015.7017576712494,
          "parent_y": 280.375,
          "region": "north_america",
          "y": 281.75
         },
         {
          "country": "mexico",
          "date": 2016.514715947981,
          "name": "MEX/2016/Mexico_3502",
          "parent_date": 2015.7924702156308,
          "parent_y": 281.25,
          "region": "north_america",
          "y": 281
         },
         {
          "country": "mexico",
          "date": 2016.316585462163,
          "name": "NODE_0000104",
          "parent_date": 2015.7924702156308,
          "parent_y": 281.25,
          "region": "north_america",
          "y": 282.5
         },
         {
          "country": "mexico",
          "date": 2016.5119780971936,
          "name": "MEX/41_006_F_V0_O/2016",
          "parent_date": 2016.316585462163,
          "parent_y": 282,
          "region": "north_america",
          "y": 282
         },
         {
          "country": "mexico",
          "date": 2016.5338809034909,
          "name": "MEX/41_006_F_V7_O/2016",
          "parent_date": 2016.316585462163,
          "parent_y": 282,
          "region": "north_america",
          "y": 283
         },
         {
          "country": "honduras",
          "date": 2015.311958748366,
          "name": "NODE_0000620",
          "parent_date": 2015.2490270870019,
          "parent_y": 282.5657958984375,
          "region": "north_america",
          "y": 286.194091796875
         },
         {
          "country": "honduras",
          "date": 2016.2658503687803,
          "name": "HND/2016/Honduras_25",
          "parent_date": 2015.311958748366,
          "parent_y": 285.694091796875,
          "region": "north_america",
          "y": 284
         },
         {
          "country": "honduras",
          "date": 2015.3557556957373,
          "name": "NODE_0000621",
          "parent_date": 2015.311958748366,
          "parent_y": 285.694091796875,
          "region": "north_america",
          "y": 288.38818359375
         },
         {
          "country": "honduras",
          "date": 2015.673754752775,
          "name": "NODE_0000068",
          "parent_date": 2015.3557556957373,
          "parent_y": 287.88818359375,
          "region": "north_america",
          "y": 285.5
         },
         {
          "country": "honduras",
          "date": 2016.4024640657085,
          "name": "HND/00002/2016",
          "parent_date": 2015.673754752775,
          "parent_y": 285,
          "region": "north_america",
          "y": 285
         },
         {
          "country": "honduras",
          "date": 2016.4243668720055,
          "name": "HND/2016/Honduras_4102",
          "parent_date": 2015.673754752775,
          "parent_y": 285,
          "region": "north_america",
          "y": 286
         },
         {
          "country": "honduras",
          "date": 2015.4129737697008,
          "name": "NODE_0000622",
          "parent_date": 2015.3557556957373,
          "parent_y": 287.88818359375,
          "region": "north_america",
          "y": 291.2763671875
         },
         {
          "country": "nicaragua",
          "date": 2015.6395209168768,
          "name": "NODE_0000131",
          "parent_date": 2015.4129737697008,
          "parent_y": 290.7763671875,
          "region": "north_america",
          "y": 287.75
         },
         {
          "country": "nicaragua",
          "date": 2016.5667351129364,
          "name": "NIC/2016/Nicaragua_3912",
          "parent_date": 2015.6395209168768,
          "parent_y": 287.25,
          "region": "north_america",
          "y": 287
         },
         {
          "country": "usa",
          "date": 2016.708380113811,
          "name": "NODE_0000132",
          "parent_date": 2015.6395209168768,
          "parent_y": 287.25,
          "region": "north_america",
          "y": 288.5
         },
         {
          "country": "usa",
          "date": 2016.7446954140999,
          "name": "USA/2016/FLWB044",
          "parent_date": 2016.708380113811,
          "parent_y": 288,
          "region": "north_america",
          "y": 288
         },
         {
          "country": "usa",
          "date": 2016.7446954140999,
          "name": "USA/2016/FLSR043",
          "parent_date": 2016.708380113811,
          "parent_y": 288,
          "region": "north_america",
          "y": 289
         },
         {
          "country": "mexico",
          "date": 2015.4868677042466,
          "name": "NODE_0000623",
          "parent_date": 2015.4129737697008,
          "parent_y": 290.7763671875,
          "region": "north_america",
          "y": 294.802734375
         },
         {
          "country": "mexico",
          "date": 2015.6833812200325,
          "name": "NODE_0000135",
          "parent_date": 2015.4868677042466,
          "parent_y": 294.302734375,
          "region": "north_america",
          "y": 291
         },
         {
          "country": "mexico",
          "date": 2016.498288843258,
          "name": "MEX/2016/mex42",
          "parent_date": 2015.6833812200325,
          "parent_y": 290.5,
          "region": "north_america",
          "y": 290
         },
         {
          "country": "mexico",
          "date": 2016.4024640657085,
          "name": "MEX/2016/mex24",
          "parent_date": 2015.6833812200325,
          "parent_y": 290.5,
          "region": "north_america",
          "y": 291
         },
         {
          "country": "mexico",
          "date": 2016.3778234086242,
          "name": "MEX/2016/mex14",
          "parent_date": 2015.6833812200325,
          "parent_y": 290.5,
          "region": "north_america",
          "y": 292
         },
         {
          "country": "mexico",
          "date": 2015.5287680204635,
          "name": "NODE_0000624",
          "parent_date": 2015.4868677042466,
          "parent_y": 294.302734375,
          "region": "north_america",
          "y": 298.60546875
         },
         {
          "country": "guatemala",
          "date": 2015.7355703116436,
          "name": "NODE_0000105",
          "parent_date": 2015.5287680204635,
          "parent_y": 298.10546875,
          "region": "north_america",
          "y": 294.625
         },
         {
          "country": "guatemala",
          "date": 2016.2792607802876,
          "name": "GTM/2016/Guatemala_2411",
          "parent_date": 2015.7355703116436,
          "parent_y": 294.125,
          "region": "north_america",
          "y": 293
         },
         {
          "country": "cuba",
          "date": 2016.0625560394303,
          "name": "NODE_0000106",
          "parent_date": 2015.7355703116436,
          "parent_y": 294.125,
          "region": "north_america",
          "y": 296.25
         },
         {
          "country": "cuba",
          "date": 2017.583162217659,
          "name": "SG_EHI_/33164Y17",
          "parent_date": 2016.0625560394303,
          "parent_y": 295.75,
          "region": "north_america",
          "y": 294
         },
         {
          "country": "cuba",
          "date": 2017.2984257357973,
          "name": "Cuba/2017/Hu0046Sa",
          "parent_date": 2016.0625560394303,
          "parent_y": 295.75,
          "region": "north_america",
          "y": 295
         },
         {
          "country": "cuba",
          "date": 2017.542094455852,
          "name": "Cuba/2017/FL057U",
          "parent_date": 2016.0625560394303,
          "parent_y": 295.75,
          "region": "north_america",
          "y": 296
         },
         {
          "country": "cuba",
          "date": 2016.275828995063,
          "name": "NODE_0000109",
          "parent_date": 2016.0625560394303,
          "parent_y": 295.75,
          "region": "north_america",
          "y": 298.5
         },
         {
          "country": "cuba",
          "date": 2016.5319356657749,
          "name": "NODE_0000110",
          "parent_date": 2016.275828995063,
          "parent_y": 298,
          "region": "north_america",
          "y": 297.5
         },
         {
          "country": "cuba",
          "date": 2017.542094455852,
          "name": "Cuba/2017/FL051Se",
          "parent_date": 2016.5319356657749,
          "parent_y": 297,
          "region": "north_america",
          "y": 297
         },
         {
          "country": "cuba",
          "date": 2017.7720739219712,
          "name": "Cuba/2017_10_09/FL82U",
          "parent_date": 2016.5319356657749,
          "parent_y": 297,
          "region": "north_america",
          "y": 298
         },
         {
          "country": "cuba",
          "date": 2016.539945748846,
          "name": "NODE_0000111",
          "parent_date": 2016.275828995063,
          "parent_y": 298,
          "region": "north_america",
          "y": 299.5
         },
         {
          "country": "cuba",
          "date": 2017.5941136208078,
          "name": "Cuba/2017/FL052U",
          "parent_date": 2016.539945748846,
          "parent_y": 299,
          "region": "north_america",
          "y": 299
         },
         {
          "country": "cuba",
          "date": 2017.5667351129364,
          "name": "Cuba/2017/FL046Se",
          "parent_date": 2016.539945748846,
          "parent_y": 299,
          "region": "north_america",
          "y": 300
         },
         {
          "country": "mexico",
          "date": 2015.5732721333554,
          "name": "NODE_0000625",
          "parent_date": 2015.5287680204635,
          "parent_y": 298.10546875,
          "region": "north_america",
          "y": 302.5859375
         },
         {
          "country": "mexico",
          "date": 2016.3860369609856,
          "name": "MEX/2016/mex16",
          "parent_date": 2015.5732721333554,
          "parent_y": 302.0859375,
          "region": "north_america",
          "y": 301
         },
         {
          "country": "mexico",
          "date": 2015.6535859132593,
          "name": "NODE_0000626",
          "parent_date": 2015.5732721333554,
          "parent_y": 302.0859375,
          "region": "north_america",
          "y": 304.171875
         },
         {
          "country": "nicaragua",
          "date": 2016.104038329911,
          "name": "NIC/5847_12B1/2016",
          "parent_date": 2015.6535859132593,
          "parent_y": 303.671875,
          "region": "north_america",
          "y": 302
         },
         {
          "country": "mexico",
          "date": 2015.673607246506,
          "name": "NODE_0000627",
          "parent_date": 2015.6535859132593,
          "parent_y": 303.671875,
          "region": "north_america",
          "y": 306.34375
         },
         {
          "country": "mexico",
          "date": 2015.7572178096714,
          "name": "NODE_0000628",
          "parent_date": 2015.673607246506,
          "parent_y": 305.84375,
          "region": "north_america",
          "y": 303.5
         },
         {
          "country": "el_salvador",
          "date": 2016.5968514715948,
          "name": "UNK/2016/MA_WGS16_029",
          "parent_date": 2015.7572178096714,
          "parent_y": 303,
          "region": "north_america",
          "y": 303
         },
         {
          "country": "mexico",
          "date": 2016.5119780971936,
          "name": "MEX/2016/mex30",
          "parent_date": 2015.7572178096714,
          "parent_y": 303,
          "region": "north_america",
          "y": 304
         },
         {
          "country": "honduras",
          "date": 2015.7518939460401,
          "name": "NODE_0000076",
          "parent_date": 2015.673607246506,
          "parent_y": 305.84375,
          "region": "north_america",
          "y": 309.1875
         },
         {
          "country": "honduras",
          "date": 2015.818923127826,
          "name": "NODE_0000081",
          "parent_date": 2015.7518939460401,
          "parent_y": 308.6875,
          "region": "north_america",
          "y": 306.75
         },
         {
          "country": "honduras",
          "date": 2015.9808700287472,
          "name": "NODE_0000082",
          "parent_date": 2015.818923127826,
          "parent_y": 306.25,
          "region": "north_america",
          "y": 305.5
         },
         {
          "country": "nicaragua",
          "date": 2016.3093771389458,
          "name": "NIC/5005_13A1/2016",
          "parent_date": 2015.9808700287472,
          "parent_y": 305,
          "region": "north_america",
          "y": 305
         },
         {
          "country": "honduras",
          "date": 2016.6543463381245,
          "name": "FHT1175/HON/2016",
          "parent_date": 2015.9808700287472,
          "parent_y": 305,
          "region": "north_america",
          "y": 306
         },
         {
          "country": "honduras",
          "date": 2015.9112100935868,
          "name": "NODE_0000083",
          "parent_date": 2015.818923127826,
          "parent_y": 306.25,
          "region": "north_america",
          "y": 308
         },
         {
          "country": "honduras",
          "date": 2016.4435318275155,
          "name": "HND/2016/HU_ME178",
          "parent_date": 2015.9112100935868,
          "parent_y": 307.5,
          "region": "north_america",
          "y": 307
         },
         {
          "country": "honduras",
          "date": 2016.3641341546886,
          "name": "HND/2016/HU_ME50",
          "parent_date": 2015.9112100935868,
          "parent_y": 307.5,
          "region": "north_america",
          "y": 308
         },
         {
          "country": "honduras",
          "date": 2016.4407939767282,
          "name": "HND/2016/HU_ME167",
          "parent_date": 2015.9112100935868,
          "parent_y": 307.5,
          "region": "north_america",
          "y": 309
         },
         {
          "country": "honduras",
          "date": 2015.7905703230397,
          "name": "NODE_0000629",
          "parent_date": 2015.7518939460401,
          "parent_y": 308.6875,
          "region": "north_america",
          "y": 311.625
         },
         {
          "country": "honduras",
          "date": 2015.9448263650552,
          "name": "NODE_0000077",
          "parent_date": 2015.7905703230397,
          "parent_y": 311.125,
          "region": "north_america",
          "y": 310.5
         },
         {
          "country": "honduras",
          "date": 2016.4517453798767,
          "name": "HND/2016/HU_ME180",
          "parent_date": 2015.9448263650552,
          "parent_y": 310,
          "region": "north_america",
          "y": 310
         },
         {
          "country": "mexico",
          "date": 2016.577686516085,
          "name": "MEX/42_007_F_V3_O/2016",
          "parent_date": 2015.9448263650552,
          "parent_y": 310,
          "region": "north_america",
          "y": 311
         },
         {
          "country": "honduras",
          "date": 2015.9064382485642,
          "name": "NODE_0000079",
          "parent_date": 2015.7905703230397,
          "parent_y": 311.125,
          "region": "north_america",
          "y": 312.75
         },
         {
          "country": "mexico",
          "date": 2016.5119780971936,
          "name": "MEX/2016/mex32",
          "parent_date": 2015.9064382485642,
          "parent_y": 312.25,
          "region": "north_america",
          "y": 312
         },
         {
          "country": "honduras",
          "date": 2016.1430473519804,
          "name": "NODE_0000080",
          "parent_date": 2015.9064382485642,
          "parent_y": 312.25,
          "region": "north_america",
          "y": 313.5
         },
         {
          "country": "honduras",
          "date": 2016.3668720054757,
          "name": "HND/2016/HU_ME59",
          "parent_date": 2016.1430473519804,
          "parent_y": 313,
          "region": "north_america",
          "y": 313
         },
         {
          "country": "honduras",
          "date": 2016.432580424367,
          "name": "HND/2016/HU_ME152",
          "parent_date": 2016.1430473519804,
          "parent_y": 313,
          "region": "north_america",
          "y": 314
         },
         {
          "country": "brazil",
          "date": 2013.8893272301054,
          "name": "NODE_0000654",
          "parent_date": 2013.827709413437,
          "parent_y": 236.1815619468689,
          "region": "south_america",
          "y": 366.3631238937378
         },
         {
          "country": "brazil",
          "date": 2013.9935352450939,
          "name": "NODE_0000655",
          "parent_date": 2013.8893272301054,
          "parent_y": 365.8631238937378,
          "region": "south_america",
          "y": 325.6573791503906
         },
         {
          "country": "brazil",
          "date": 2014.6031423561249,
          "name": "NODE_0000217",
          "parent_date": 2013.9935352450939,
          "parent_y": 325.1573791503906,
          "region": "south_america",
          "y": 317.234375
         },
         {
          "country": "brazil",
          "date": 2016.1916495550993,
          "name": "Brazil/2016/ZBRX127",
          "parent_date": 2014.6031423561249,
          "parent_y": 316.734375,
          "region": "south_america",
          "y": 315
         },
         {
          "country": "brazil",
          "date": 2015.9171800136892,
          "name": "NODE_0000219",
          "parent_date": 2014.6031423561249,
          "parent_y": 316.734375,
          "region": "south_america",
          "y": 316.5
         },
         {
          "country": "brazil",
          "date": 2016.167008898015,
          "name": "GB_BR",
          "parent_date": 2015.9171800136892,
          "parent_y": 316,
          "region": "south_america",
          "y": 316
         },
         {
          "country": "brazil",
          "date": 2015.9171800136892,
          "name": "V9",
          "parent_date": 2015.9171800136892,
          "parent_y": 316,
          "region": "south_america",
          "y": 317
         },
         {
          "country": "brazil",
          "date": 2015.3200880311783,
          "name": "NODE_0000220",
          "parent_date": 2014.6031423561249,
          "parent_y": 316.734375,
          "region": "south_america",
          "y": 319.46875
         },
         {
          "country": "brazil",
          "date": 2016.2245037645448,
          "name": "BRA/2016/FC_5790",
          "parent_date": 2015.3200880311783,
          "parent_y": 318.96875,
          "region": "south_america",
          "y": 318
         },
         {
          "country": "brazil",
          "date": 2016.2592648582295,
          "name": "NODE_0000221",
          "parent_date": 2015.3200880311783,
          "parent_y": 318.96875,
          "region": "south_america",
          "y": 320.9375
         },
         {
          "country": "brazil",
          "date": 2016.3449691991786,
          "name": "BRA/2016/ZKV19Auri_2016_05_05",
          "parent_date": 2016.2592648582295,
          "parent_y": 320.4375,
          "region": "south_america",
          "y": 319
         },
         {
          "country": "brazil",
          "date": 2016.331279945243,
          "name": "NODE_0000554",
          "parent_date": 2016.2592648582295,
          "parent_y": 320.4375,
          "region": "south_america",
          "y": 320.5
         },
         {
          "country": "brazil",
          "date": 2016.331279945243,
          "name": "BRA/2016/ZKV19uri_2016_04_30",
          "parent_date": 2016.331279945243,
          "parent_y": 320,
          "region": "south_america",
          "y": 320
         },
         {
          "country": "brazil",
          "date": 2016.3641341546886,
          "name": "BRA/2016/ZKV19Bsem_2016_05_12",
          "parent_date": 2016.331279945243,
          "parent_y": 320,
          "region": "south_america",
          "y": 321
         },
         {
          "country": "brazil",
          "date": 2016.336670497256,
          "name": "NODE_0000224",
          "parent_date": 2016.2592648582295,
          "parent_y": 320.4375,
          "region": "south_america",
          "y": 322.875
         },
         {
          "country": "brazil",
          "date": 2016.3832991101985,
          "name": "BRA/2016/ZKV19Csem_2016_05_19",
          "parent_date": 2016.336670497256,
          "parent_y": 322.375,
          "region": "south_america",
          "y": 322
         },
         {
          "country": "brazil",
          "date": 2016.3828340145722,
          "name": "NODE_0000555",
          "parent_date": 2016.336670497256,
          "parent_y": 322.375,
          "region": "south_america",
          "y": 323.75
         },
         {
          "country": "brazil",
          "date": 2016.3969883641341,
          "name": "BRA/2016/ZKV19Dsem_2016_05_24",
          "parent_date": 2016.3828340145722,
          "parent_y": 323.25,
          "region": "south_america",
          "y": 323
         },
         {
          "country": "brazil",
          "date": 2016.4216290212185,
          "name": "NODE_0000556",
          "parent_date": 2016.3828340145722,
          "parent_y": 323.25,
          "region": "south_america",
          "y": 324.5
         },
         {
          "country": "brazil",
          "date": 2016.4407939767282,
          "name": "BRA/2016/ZKV19Fsem_2016_06_09",
          "parent_date": 2016.4216290212185,
          "parent_y": 324,
          "region": "south_america",
          "y": 324
         },
         {
          "country": "brazil",
          "date": 2016.4216290212185,
          "name": "BRA/2016/ZKV19Esem_2016_06_02",
          "parent_date": 2016.4216290212185,
          "parent_y": 324,
          "region": "south_america",
          "y": 325
         },
         {
          "country": "brazil",
          "date": 2014.3470835031508,
          "name": "NODE_0000557",
          "parent_date": 2013.9935352450939,
          "parent_y": 325.1573791503906,
          "region": "south_america",
          "y": 334.08038330078125
         },
         {
          "country": "brazil",
          "date": 2015.1124755259523,
          "name": "NODE_0000230",
          "parent_date": 2014.3470835031508,
          "parent_y": 333.58038330078125,
          "region": "south_america",
          "y": 327.4375
         },
         {
          "country": "brazil",
          "date": 2016.2628336755647,
          "name": "BRA/2016/FC_6696",
          "parent_date": 2015.1124755259523,
          "parent_y": 326.9375,
          "region": "south_america",
          "y": 326
         },
         {
          "country": "brazil",
          "date": 2015.3257787566763,
          "name": "NODE_0000231",
          "parent_date": 2015.1124755259523,
          "parent_y": 326.9375,
          "region": "south_america",
          "y": 328.875
         },
         {
          "country": "brazil",
          "date": 2016.2272416153319,
          "name": "BRA/2016/FC_DQ42D1",
          "parent_date": 2015.3257787566763,
          "parent_y": 328.375,
          "region": "south_america",
          "y": 327
         },
         {
          "country": "brazil",
          "date": 2016.2847364818617,
          "name": "BRA/2016/FC_DQ107D1",
          "parent_date": 2015.3257787566763,
          "parent_y": 328.375,
          "region": "south_america",
          "y": 328
         },
         {
          "country": "brazil",
          "date": 2016.2464065708418,
          "name": "BRA/2016/FC_DQ58D1",
          "parent_date": 2015.3257787566763,
          "parent_y": 328.375,
          "region": "south_america",
          "y": 329
         },
         {
          "country": "brazil",
          "date": 2015.420764402107,
          "name": "NODE_0000558",
          "parent_date": 2015.3257787566763,
          "parent_y": 328.375,
          "region": "south_america",
          "y": 330.75
         },
         {
          "country": "brazil",
          "date": 2016.2217659137577,
          "name": "BRA/2016/FC_DQ28D1",
          "parent_date": 2015.420764402107,
          "parent_y": 330.25,
          "region": "south_america",
          "y": 330
         },
         {
          "country": "brazil",
          "date": 2015.5321630228416,
          "name": "NODE_0000559",
          "parent_date": 2015.420764402107,
          "parent_y": 330.25,
          "region": "south_america",
          "y": 331.5
         },
         {
          "country": "brazil",
          "date": 2016.2409308692677,
          "name": "BRA/2016/FC_DQ47D1",
          "parent_date": 2015.5321630228416,
          "parent_y": 331,
          "region": "south_america",
          "y": 331
         },
         {
          "country": "brazil",
          "date": 2016.002737850787,
          "name": "Brazil/2016/ZBRY8",
          "parent_date": 2015.5321630228416,
          "parent_y": 331,
          "region": "south_america",
          "y": 332
         },
         {
          "country": "brazil",
          "date": 2014.442344327622,
          "name": "NODE_0000560",
          "parent_date": 2014.3470835031508,
          "parent_y": 333.58038330078125,
          "region": "south_america",
          "y": 340.7232666015625
         },
         {
          "country": "brazil",
          "date": 2014.7655963188563,
          "name": "NODE_0000198",
          "parent_date": 2014.442344327622,
          "parent_y": 340.2232666015625,
          "region": "south_america",
          "y": 334.78125
         },
         {
          "country": "usvi",
          "date": 2016.7036276522929,
          "name": "USVI/36/2016",
          "parent_date": 2014.7655963188563,
          "parent_y": 334.28125,
          "region": "north_america",
          "y": 333
         },
         {
          "country": "brazil",
          "date": 2015.5322083909462,
          "name": "NODE_0000199",
          "parent_date": 2014.7655963188563,
          "parent_y": 334.28125,
          "region": "south_america",
          "y": 336.5625
         },
         {
          "country": "brazil",
          "date": 2016.098846693646,
          "name": "NODE_0000200",
          "parent_date": 2015.5322083909462,
          "parent_y": 336.0625,
          "region": "south_america",
          "y": 334.75
         },
         {
          "country": "brazil",
          "date": 2016.1533196440794,
          "name": "Brazil/2016/ZBRX102",
          "parent_date": 2016.098846693646,
          "parent_y": 334.25,
          "region": "south_america",
          "y": 334
         },
         {
          "country": "brazil",
          "date": 2016.1724845995893,
          "name": "NODE_0000561",
          "parent_date": 2016.098846693646,
          "parent_y": 334.25,
          "region": "south_america",
          "y": 335.5
         },
         {
          "country": "brazil",
          "date": 2016.2245037645448,
          "name": "Brazil/2016/ZBRX130",
          "parent_date": 2016.1724845995893,
          "parent_y": 335,
          "region": "south_america",
          "y": 335
         },
         {
          "country": "brazil",
          "date": 2016.1724845995893,
          "name": "Brazil/2016/ZBRX137",
          "parent_date": 2016.1724845995893,
          "parent_y": 335,
          "region": "south_america",
          "y": 336
         },
         {
          "country": "brazil",
          "date": 2015.8301097327742,
          "name": "NODE_0000202",
          "parent_date": 2015.5322083909462,
          "parent_y": 336.0625,
          "region": "south_america",
          "y": 338.375
         },
         {
          "country": "brazil",
          "date": 2016.3011635865846,
          "name": "Brazil/2016/ZBRX6",
          "parent_date": 2015.8301097327742,
          "parent_y": 337.875,
          "region": "south_america",
          "y": 337
         },
         {
          "country": "brazil",
          "date": 2015.9318550532569,
          "name": "NODE_0000203",
          "parent_date": 2015.8301097327742,
          "parent_y": 337.875,
          "region": "south_america",
          "y": 339.75
         },
         {
          "country": "brazil",
          "date": 2016.3011635865846,
          "name": "Brazil/2016/ZBRX7",
          "parent_date": 2015.9318550532569,
          "parent_y": 339.25,
          "region": "south_america",
          "y": 338
         },
         {
          "country": "brazil",
          "date": 2016.2984257357973,
          "name": "Brazil/2016/ZBRX2",
          "parent_date": 2015.9318550532569,
          "parent_y": 339.25,
          "region": "south_america",
          "y": 339
         },
         {
          "country": "brazil",
          "date": 2016.3011635865846,
          "name": "Brazil/2016/ZBRX12",
          "parent_date": 2015.9318550532569,
          "parent_y": 339.25,
          "region": "south_america",
          "y": 340
         },
         {
          "country": "brazil",
          "date": 2016.0588612587514,
          "name": "NODE_0000562",
          "parent_date": 2015.9318550532569,
          "parent_y": 339.25,
          "region": "south_america",
          "y": 341.5
         },
         {
          "country": "brazil",
          "date": 2016.3969883641341,
          "name": "Brazil/2016/ZBRX103",
          "parent_date": 2016.0588612587514,
          "parent_y": 341,
          "region": "south_america",
          "y": 341
         },
         {
          "country": "brazil",
          "date": 2016.3832991101985,
          "name": "Brazil/2016/ZBRX100",
          "parent_date": 2016.0588612587514,
          "parent_y": 341,
          "region": "south_america",
          "y": 342
         },
         {
          "country": "brazil",
          "date": 2014.5830001130869,
          "name": "NODE_0000236",
          "parent_date": 2014.442344327622,
          "parent_y": 340.2232666015625,
          "region": "south_america",
          "y": 346.665283203125
         },
         {
          "country": "brazil",
          "date": 2016.0861968599327,
          "name": "NODE_0000238",
          "parent_date": 2014.5830001130869,
          "parent_y": 346.165283203125,
          "region": "south_america",
          "y": 343.5
         },
         {
          "country": "brazil",
          "date": 2016.2655715263518,
          "name": "BRA/2016/FC_DQ62D2",
          "parent_date": 2016.0861968599327,
          "parent_y": 343,
          "region": "south_america",
          "y": 343
         },
         {
          "country": "brazil",
          "date": 2016.2464065708418,
          "name": "BRA/2016/FC_DQ62D1",
          "parent_date": 2016.0861968599327,
          "parent_y": 343,
          "region": "south_america",
          "y": 344
         },
         {
          "country": "brazil",
          "date": 2014.6840894847203,
          "name": "NODE_0000563",
          "parent_date": 2014.5830001130869,
          "parent_y": 346.165283203125,
          "region": "south_america",
          "y": 349.83056640625
         },
         {
          "country": "brazil",
          "date": 2016.002737850787,
          "name": "Brazil/2016/ZBRY10",
          "parent_date": 2014.6840894847203,
          "parent_y": 349.33056640625,
          "region": "south_america",
          "y": 345
         },
         {
          "country": "brazil",
          "date": 2014.74918673671,
          "name": "NODE_0000239",
          "parent_date": 2014.6840894847203,
          "parent_y": 349.33056640625,
          "region": "south_america",
          "y": 354.6611328125
         },
         {
          "country": "brazil",
          "date": 2014.8392539247764,
          "name": "NODE_0000248",
          "parent_date": 2014.74918673671,
          "parent_y": 354.1611328125,
          "region": "south_america",
          "y": 346.75
         },
         {
          "country": "brazil",
          "date": 2015.914442162902,
          "name": "Brazil_ZKV2015",
          "parent_date": 2014.8392539247764,
          "parent_y": 346.25,
          "region": "south_america",
          "y": 346
         },
         {
          "country": "brazil",
          "date": 2015.0123001549875,
          "name": "NODE_0000249",
          "parent_date": 2014.8392539247764,
          "parent_y": 346.25,
          "region": "south_america",
          "y": 347.5
         },
         {
          "country": "brazil",
          "date": 2015.3641341546886,
          "name": "Brazil/2015/ZBRC301",
          "parent_date": 2015.0123001549875,
          "parent_y": 347,
          "region": "south_america",
          "y": 347
         },
         {
          "country": "brazil",
          "date": 2015.6351813826147,
          "name": "Brazil/2015/ZBRD103",
          "parent_date": 2015.0123001549875,
          "parent_y": 347,
          "region": "south_america",
          "y": 348
         },
         {
          "country": "brazil",
          "date": 2015.0295879330058,
          "name": "NODE_0000564",
          "parent_date": 2014.74918673671,
          "parent_y": 354.1611328125,
          "region": "south_america",
          "y": 350.9375
         },
         {
          "country": "brazil",
          "date": 2015.185698647315,
          "name": "NODE_0000246",
          "parent_date": 2015.0295879330058,
          "parent_y": 350.4375,
          "region": "south_america",
          "y": 349.5
         },
         {
          "country": "brazil",
          "date": 2016.1806981519508,
          "name": "Brazil/2016/INMI1",
          "parent_date": 2015.185698647315,
          "parent_y": 349,
          "region": "south_america",
          "y": 349
         },
         {
          "country": "brazil",
          "date": 2016.1998631074607,
          "name": "Brazil/2016/ZBRX128",
          "parent_date": 2015.185698647315,
          "parent_y": 349,
          "region": "south_america",
          "y": 350
         },
         {
          "country": "brazil",
          "date": 2015.1158617427868,
          "name": "NODE_0000565",
          "parent_date": 2015.0295879330058,
          "parent_y": 350.4375,
          "region": "south_america",
          "y": 352.375
         },
         {
          "country": "brazil",
          "date": 2015.6899383983573,
          "name": "Brazil/2015/ZBRD107",
          "parent_date": 2015.1158617427868,
          "parent_y": 351.875,
          "region": "south_america",
          "y": 351
         },
         {
          "country": "brazil",
          "date": 2015.2681482472603,
          "name": "NODE_0000241",
          "parent_date": 2015.1158617427868,
          "parent_y": 351.875,
          "region": "south_america",
          "y": 353.75
         },
         {
          "country": "brazil",
          "date": 2016.0164271047229,
          "name": "Brazil/2016/ZBRC18",
          "parent_date": 2015.2681482472603,
          "parent_y": 353.25,
          "region": "south_america",
          "y": 352
         },
         {
          "country": "brazil",
          "date": 2015.348258477237,
          "name": "NODE_0000244",
          "parent_date": 2015.2681482472603,
          "parent_y": 353.25,
          "region": "south_america",
          "y": 353.5
         },
         {
          "country": "brazil",
          "date": 2016.2409308692677,
          "name": "BRA/2016/FC_DQ49D1",
          "parent_date": 2015.348258477237,
          "parent_y": 353,
          "region": "south_america",
          "y": 353
         },
         {
          "country": "brazil",
          "date": 2016.1286789869953,
          "name": "Brazil/2016/ZBRY6",
          "parent_date": 2015.348258477237,
          "parent_y": 353,
          "region": "south_america",
          "y": 354
         },
         {
          "country": "brazil",
          "date": 2015.3207307039252,
          "name": "NODE_0000566",
          "parent_date": 2015.2681482472603,
          "parent_y": 353.25,
          "region": "south_america",
          "y": 355.5
         },
         {
          "country": "brazil",
          "date": 2016.2710472279261,
          "name": "BRA/2016/FC_6703",
          "parent_date": 2015.3207307039252,
          "parent_y": 355,
          "region": "south_america",
          "y": 355
         },
         {
          "country": "brazil",
          "date": 2015.3668720054757,
          "name": "Brazil/2015/ZBRC303",
          "parent_date": 2015.3207307039252,
          "parent_y": 355,
          "region": "south_america",
          "y": 356
         },
         {
          "country": "brazil",
          "date": 2014.790530182771,
          "name": "NODE_0000250",
          "parent_date": 2014.74918673671,
          "parent_y": 354.1611328125,
          "region": "south_america",
          "y": 362.572265625
         },
         {
          "country": "brazil",
          "date": 2015.454483230664,
          "name": "NODE_0000254",
          "parent_date": 2014.790530182771,
          "parent_y": 362.072265625,
          "region": "south_america",
          "y": 357.5
         },
         {
          "country": "brazil",
          "date": 2015.454483230664,
          "name": "Brazil/2015/ZBRC313",
          "parent_date": 2015.454483230664,
          "parent_y": 357,
          "region": "south_america",
          "y": 357
         },
         {
          "country": "brazil",
          "date": 2016.0492813141684,
          "name": "Brazil/2016/ZBRC28",
          "parent_date": 2015.454483230664,
          "parent_y": 357,
          "region": "south_america",
          "y": 358
         },
         {
          "country": "brazil",
          "date": 2015.0954020537993,
          "name": "NODE_0000567",
          "parent_date": 2014.790530182771,
          "parent_y": 362.072265625,
          "region": "south_america",
          "y": 359.75
         },
         {
          "country": "brazil",
          "date": 2016.5256673511294,
          "name": "Brazil/2016/ZBRC319",
          "parent_date": 2015.0954020537993,
          "parent_y": 359.25,
          "region": "south_america",
          "y": 359
         },
         {
          "country": "brazil",
          "date": 2015.6781553154879,
          "name": "NODE_0000252",
          "parent_date": 2015.0954020537993,
          "parent_y": 359.25,
          "region": "south_america",
          "y": 360.5
         },
         {
          "country": "brazil",
          "date": 2016.3148528405202,
          "name": "Brazil/2016/ZBRX15",
          "parent_date": 2015.6781553154879,
          "parent_y": 360,
          "region": "south_america",
          "y": 360
         },
         {
          "country": "brazil",
          "date": 2016.3148528405202,
          "name": "Brazil/2016/ZBRX14",
          "parent_date": 2015.6781553154879,
          "parent_y": 360,
          "region": "south_america",
          "y": 361
         },
         {
          "country": "brazil",
          "date": 2014.8681679411284,
          "name": "NODE_0000255",
          "parent_date": 2014.790530182771,
          "parent_y": 362.072265625,
          "region": "south_america",
          "y": 367.64453125
         },
         {
          "country": "brazil",
          "date": 2015.3641341546886,
          "name": "Brazil/2015/ZBRC302",
          "parent_date": 2014.8681679411284,
          "parent_y": 367.14453125,
          "region": "south_america",
          "y": 362
         },
         {
          "country": "colombia",
          "date": 2015.1171443928565,
          "name": "NODE_0000256",
          "parent_date": 2014.8681679411284,
          "parent_y": 367.14453125,
          "region": "south_america",
          "y": 373.2890625
         },
         {
          "country": "colombia",
          "date": 2015.1936255114322,
          "name": "NODE_0000257",
          "parent_date": 2015.1171443928565,
          "parent_y": 372.7890625,
          "region": "south_america",
          "y": 365.125
         },
         {
          "country": "colombia",
          "date": 2015.766598220397,
          "name": "COL/FCC00093/2015",
          "parent_date": 2015.1936255114322,
          "parent_y": 364.625,
          "region": "south_america",
          "y": 363
         },
         {
          "country": "colombia",
          "date": 2015.4013878882058,
          "name": "NODE_0000258",
          "parent_date": 2015.1936255114322,
          "parent_y": 364.625,
          "region": "south_america",
          "y": 367.25
         },
         {
          "country": "colombia",
          "date": 2016.01916495551,
          "name": "Colombia/2016/ZC192Se",
          "parent_date": 2015.4013878882058,
          "parent_y": 366.75,
          "region": "south_america",
          "y": 364
         },
         {
          "country": "peru",
          "date": 2016.1792303420661,
          "name": "NODE_0000261",
          "parent_date": 2015.4013878882058,
          "parent_y": 366.75,
          "region": "south_america",
          "y": 365.5
         },
         {
          "country": "peru",
          "date": 2016.5284052019165,
          "name": "FPI15263/PERU/Loreto/2016",
          "parent_date": 2016.1792303420661,
          "parent_y": 365,
          "region": "south_america",
          "y": 365
         },
         {
          "country": "peru",
          "date": 2016.4928131416839,
          "name": "FPI15198/PERU/Loreto/2016",
          "parent_date": 2016.1792303420661,
          "parent_y": 365,
          "region": "south_america",
          "y": 366
         },
         {
          "country": "colombia",
          "date": 2015.673766724901,
          "name": "NODE_0000568",
          "parent_date": 2015.4013878882058,
          "parent_y": 366.75,
          "region": "south_america",
          "y": 367.5
         },
         {
          "country": "colombia",
          "date": 2016.1889117043122,
          "name": "COL/FH03/2016",
          "parent_date": 2015.673766724901,
          "parent_y": 367,
          "region": "south_america",
          "y": 367
         },
         {
          "country": "colombia",
          "date": 2015.9418206707735,
          "name": "COL345Si",
          "parent_date": 2015.673766724901,
          "parent_y": 367,
          "region": "south_america",
          "y": 368
         },
         {
          "country": "martinique",
          "date": 2015.545614785073,
          "name": "NODE_0000263",
          "parent_date": 2015.4013878882058,
          "parent_y": 366.75,
          "region": "north_america",
          "y": 370.5
         },
         {
          "country": "martinique",
          "date": 2015.73143433476,
          "name": "NODE_0000264",
          "parent_date": 2015.545614785073,
          "parent_y": 370,
          "region": "north_america",
          "y": 369.5
         },
         {
          "country": "martinique",
          "date": 2016.2245037645448,
          "name": "Martinique/2016/FL001",
          "parent_date": 2015.73143433476,
          "parent_y": 369,
          "region": "north_america",
          "y": 369
         },
         {
          "country": "martinique",
          "date": 2016.2245037645448,
          "name": "Martinique/2016/FL001Sa",
          "parent_date": 2015.73143433476,
          "parent_y": 369,
          "region": "north_america",
          "y": 370
         },
         {
          "country": "martinique",
          "date": 2015.9170405200273,
          "name": "NODE_0000265",
          "parent_date": 2015.545614785073,
          "parent_y": 370,
          "region": "north_america",
          "y": 371.5
         },
         {
          "country": "mexico",
          "date": 2016.1533196440794,
          "name": "MEX/InDRE/2016",
          "parent_date": 2015.9170405200273,
          "parent_y": 371,
          "region": "north_america",
          "y": 371
         },
         {
          "country": "martinique",
          "date": 2015.9171800136892,
          "name": "MRS_OPY_Martinique_PaRi_2015",
          "parent_date": 2015.9170405200273,
          "parent_y": 371,
          "region": "north_america",
          "y": 372
         },
         {
          "country": "colombia",
          "date": 2015.2713478647327,
          "name": "NODE_0000266",
          "parent_date": 2015.1171443928565,
          "parent_y": 372.7890625,
          "region": "south_america",
          "y": 381.453125
         },
         {
          "country": "colombia",
          "date": 2015.393762299689,
          "name": "NODE_0000281",
          "parent_date": 2015.2713478647327,
          "parent_y": 380.953125,
          "region": "south_america",
          "y": 373.875
         },
         {
          "country": "colombia",
          "date": 2016.0465434633813,
          "name": "459148_Meta_Colombia_2016",
          "parent_date": 2015.393762299689,
          "parent_y": 373.375,
          "region": "south_america",
          "y": 373
         },
         {
          "country": "colombia",
          "date": 2015.520817805347,
          "name": "NODE_0000569",
          "parent_date": 2015.393762299689,
          "parent_y": 373.375,
          "region": "south_america",
          "y": 374.75
         },
         {
          "country": "colombia",
          "date": 2016.2628336755647,
          "name": "COL/2016/SU_2724A",
          "parent_date": 2015.520817805347,
          "parent_y": 374.25,
          "region": "south_america",
          "y": 374
         },
         {
          "country": "colombia",
          "date": 2015.7295126126594,
          "name": "NODE_0000283",
          "parent_date": 2015.520817805347,
          "parent_y": 374.25,
          "region": "south_america",
          "y": 375.5
         },
         {
          "country": "colombia",
          "date": 2016.3258042436687,
          "name": "COL/2016/SU_1856A",
          "parent_date": 2015.7295126126594,
          "parent_y": 375,
          "region": "south_america",
          "y": 375
         },
         {
          "country": "colombia",
          "date": 2016.1642710472279,
          "name": "COL/FH02/2016",
          "parent_date": 2015.7295126126594,
          "parent_y": 375,
          "region": "south_america",
          "y": 376
         },
         {
          "country": "colombia",
          "date": 2015.3591399853246,
          "name": "NODE_0000267",
          "parent_date": 2015.2713478647327,
          "parent_y": 380.953125,
          "region": "south_america",
          "y": 379.5625
         },
         {
          "country": "colombia",
          "date": 2015.8464057553117,
          "name": "NODE_0000268",
          "parent_date": 2015.3591399853246,
          "parent_y": 379.0625,
          "region": "south_america",
          "y": 377.75
         },
         {
          "country": "colombia",
          "date": 2015.975254546647,
          "name": "COL/FLR/2015",
          "parent_date": 2015.8464057553117,
          "parent_y": 377.25,
          "region": "south_america",
          "y": 377
         },
         {
          "country": "colombia",
          "date": 2015.997622865933,
          "name": "NODE_0000269",
          "parent_date": 2015.8464057553117,
          "parent_y": 377.25,
          "region": "south_america",
          "y": 378.5
         },
         {
          "country": "venezuela",
          "date": 2016.2327173169062,
          "name": "VEN/UF_1/2016",
          "parent_date": 2015.997622865933,
          "parent_y": 378,
          "region": "south_america",
          "y": 378
         },
         {
          "country": "colombia",
          "date": 2016.1095140314853,
          "name": "COL/UF_1/2016",
          "parent_date": 2015.997622865933,
          "parent_y": 378,
          "region": "south_america",
          "y": 379
         },
         {
          "country": "colombia",
          "date": 2015.4321320288761,
          "name": "NODE_0000270",
          "parent_date": 2015.3591399853246,
          "parent_y": 379.0625,
          "region": "south_america",
          "y": 381.375
         },
         {
          "country": "colombia",
          "date": 2015.9171800136892,
          "name": "FLA",
          "parent_date": 2015.4321320288761,
          "parent_y": 380.875,
          "region": "south_america",
          "y": 380
         },
         {
          "country": "panama",
          "date": 2015.6761840186746,
          "name": "NODE_0000271",
          "parent_date": 2015.4321320288761,
          "parent_y": 380.875,
          "region": "north_america",
          "y": 382.75
         },
         {
          "country": "panama",
          "date": 2015.9637234770705,
          "name": "PAN/CDC_259359_V1_V3/2015",
          "parent_date": 2015.6761840186746,
          "parent_y": 382.25,
          "region": "north_america",
          "y": 381
         },
         {
          "country": "panama",
          "date": 2015.9993155373031,
          "name": "Panama/2015/259364",
          "parent_date": 2015.6761840186746,
          "parent_y": 382.25,
          "region": "north_america",
          "y": 382
         },
         {
          "country": "panama",
          "date": 2015.9637234770705,
          "name": "PAN/CDC_259364_V1_V2/2015",
          "parent_date": 2015.6761840186746,
          "parent_y": 382.25,
          "region": "north_america",
          "y": 383
         },
         {
          "country": "panama",
          "date": 2015.904380276395,
          "name": "NODE_0000275",
          "parent_date": 2015.6761840186746,
          "parent_y": 382.25,
          "region": "north_america",
          "y": 384.5
         },
         {
          "country": "panama",
          "date": 2015.9445585215606,
          "name": "PAN/CDC_259249_V1_V3/2015",
          "parent_date": 2015.904380276395,
          "parent_y": 384,
          "region": "north_america",
          "y": 384
         },
         {
          "country": "panama",
          "date": 2015.9993155373031,
          "name": "Panama/2015/259249",
          "parent_date": 2015.904380276395,
          "parent_y": 384,
          "region": "north_america",
          "y": 385
         },
         {
          "country": "colombia",
          "date": 2015.403833005909,
          "name": "NODE_0000570",
          "parent_date": 2015.2713478647327,
          "parent_y": 380.953125,
          "region": "south_america",
          "y": 389.03125
         },
         {
          "country": "colombia",
          "date": 2015.5740495013415,
          "name": "NODE_0000285",
          "parent_date": 2015.403833005909,
          "parent_y": 388.53125,
          "region": "south_america",
          "y": 386.5
         },
         {
          "country": "colombia",
          "date": 2016.0273785078714,
          "name": "Colombia/2016/ZC199Se",
          "parent_date": 2015.5740495013415,
          "parent_y": 386,
          "region": "south_america",
          "y": 386
         },
         {
          "country": "colombia",
          "date": 2016.024640657084,
          "name": "Colombia/2016/ZC207Se",
          "parent_date": 2015.5740495013415,
          "parent_y": 386,
          "region": "south_america",
          "y": 387
         },
         {
          "country": "colombia",
          "date": 2015.501330343004,
          "name": "NODE_0000571",
          "parent_date": 2015.403833005909,
          "parent_y": 388.53125,
          "region": "south_america",
          "y": 391.5625
         },
         {
          "country": "colombia",
          "date": 2015.772990273326,
          "name": "NODE_0000287",
          "parent_date": 2015.501330343004,
          "parent_y": 391.0625,
          "region": "south_america",
          "y": 389.5
         },
         {
          "country": "colombia",
          "date": 2016.476386036961,
          "name": "NODE_0000288",
          "parent_date": 2015.772990273326,
          "parent_y": 389,
          "region": "south_america",
          "y": 388.5
         },
         {
          "country": "colombia",
          "date": 2016.476386036961,
          "name": "COL/FH16/2015",
          "parent_date": 2016.476386036961,
          "parent_y": 388,
          "region": "south_america",
          "y": 388
         },
         {
          "country": "colombia",
          "date": 2016.476386036961,
          "name": "COL/FH16/2016",
          "parent_date": 2016.476386036961,
          "parent_y": 388,
          "region": "south_america",
          "y": 389
         },
         {
          "country": "colombia",
          "date": 2016.6652977412732,
          "name": "NODE_0000289",
          "parent_date": 2015.772990273326,
          "parent_y": 389,
          "region": "south_america",
          "y": 390.5
         },
         {
          "country": "colombia",
          "date": 2016.6652977412732,
          "name": "COL/FH19/2016",
          "parent_date": 2016.6652977412732,
          "parent_y": 390,
          "region": "south_america",
          "y": 390
         },
         {
          "country": "colombia",
          "date": 2016.6652977412732,
          "name": "COL/FH19/2015",
          "parent_date": 2016.6652977412732,
          "parent_y": 390,
          "region": "south_america",
          "y": 391
         },
         {
          "country": "colombia",
          "date": 2015.5810976670891,
          "name": "NODE_0000572",
          "parent_date": 2015.501330343004,
          "parent_y": 391.0625,
          "region": "south_america",
          "y": 393.625
         },
         {
          "country": "colombia",
          "date": 2015.8698333900131,
          "name": "NODE_0000280",
          "parent_date": 2015.5810976670891,
          "parent_y": 393.125,
          "region": "south_america",
          "y": 392.5
         },
         {
          "country": "colombia",
          "date": 2016.0164271047229,
          "name": "Colombia/2016/ZC204Se",
          "parent_date": 2015.8698333900131,
          "parent_y": 392,
          "region": "south_america",
          "y": 392
         },
         {
          "country": "colombia",
          "date": 2016.043805612594,
          "name": "Colombia/2016/ZC188Se",
          "parent_date": 2015.8698333900131,
          "parent_y": 392,
          "region": "south_america",
          "y": 393
         },
         {
          "country": "colombia",
          "date": 2015.705870101391,
          "name": "NODE_0000573",
          "parent_date": 2015.5810976670891,
          "parent_y": 393.125,
          "region": "south_america",
          "y": 394.75
         },
         {
          "country": "panama",
          "date": 2016.2747943867112,
          "name": "PAN/BEI_259634_V4/2016",
          "parent_date": 2015.705870101391,
          "parent_y": 394.25,
          "region": "north_america",
          "y": 394
         },
         {
          "country": "colombia",
          "date": 2015.7837638401252,
          "name": "NODE_0000574",
          "parent_date": 2015.705870101391,
          "parent_y": 394.25,
          "region": "south_america",
          "y": 395.5
         },
         {
          "country": "dominican_republic",
          "date": 2016.2792607802876,
          "name": "DOM/2016/BB_0127",
          "parent_date": 2015.7837638401252,
          "parent_y": 395,
          "region": "north_america",
          "y": 395
         },
         {
          "country": "colombia",
          "date": 2016.0793976728269,
          "name": "Aedes_aegypti/COL/FH04/2016",
          "parent_date": 2015.7837638401252,
          "parent_y": 395,
          "region": "south_america",
          "y": 396
         },
         {
          "country": "brazil",
          "date": 2014.340866217181,
          "name": "NODE_0000397",
          "parent_date": 2013.8893272301054,
          "parent_y": 365.8631238937378,
          "region": "south_america",
          "y": 407.06886863708496
         },
         {
          "country": "brazil",
          "date": 2014.7470200935577,
          "name": "NODE_0000575",
          "parent_date": 2014.340866217181,
          "parent_y": 406.56886863708496,
          "region": "south_america",
          "y": 399.1875
         },
         {
          "country": "brazil",
          "date": 2015.6050650239563,
          "name": "Brazil/2015/ZBRC321",
          "parent_date": 2014.7470200935577,
          "parent_y": 398.6875,
          "region": "south_america",
          "y": 397
         },
         {
          "country": "brazil",
          "date": 2015.0531923477329,
          "name": "NODE_0000399",
          "parent_date": 2014.7470200935577,
          "parent_y": 398.6875,
          "region": "south_america",
          "y": 401.375
         },
         {
          "country": "brazil",
          "date": 2015.1906783820762,
          "name": "NODE_0000576",
          "parent_date": 2015.0531923477329,
          "parent_y": 400.875,
          "region": "south_america",
          "y": 399
         },
         {
          "country": "brazil",
          "date": 2016.3175906913073,
          "name": "Brazil/2016/ZBRX16",
          "parent_date": 2015.1906783820762,
          "parent_y": 398.5,
          "region": "south_america",
          "y": 398
         },
         {
          "country": "brazil",
          "date": 2015.9445585215606,
          "name": "NODE_0000400",
          "parent_date": 2015.1906783820762,
          "parent_y": 398.5,
          "region": "south_america",
          "y": 400
         },
         {
          "country": "brazil",
          "date": 2016.454483230664,
          "name": "Brazil_2015_MG",
          "parent_date": 2015.9445585215606,
          "parent_y": 399.5,
          "region": "south_america",
          "y": 399
         },
         {
          "country": "brazil",
          "date": 2015.9445585215606,
          "name": "Paraiba_01",
          "parent_date": 2015.9445585215606,
          "parent_y": 399.5,
          "region": "south_america",
          "y": 400
         },
         {
          "country": "brazil",
          "date": 2015.9445585215606,
          "name": "BR/Sinop/H366/2015",
          "parent_date": 2015.9445585215606,
          "parent_y": 399.5,
          "region": "south_america",
          "y": 401
         },
         {
          "country": "colombia",
          "date": 2015.752023051062,
          "name": "NODE_0000403",
          "parent_date": 2015.0531923477329,
          "parent_y": 400.875,
          "region": "south_america",
          "y": 403.75
         },
         {
          "country": "colombia",
          "date": 2015.848731442564,
          "name": "NODE_0000577",
          "parent_date": 2015.752023051062,
          "parent_y": 403.25,
          "region": "south_america",
          "y": 402.5
         },
         {
          "country": "colombia",
          "date": 2016.8405201916496,
          "name": "COL/FH09/2016",
          "parent_date": 2015.848731442564,
          "parent_y": 402,
          "region": "south_america",
          "y": 402
         },
         {
          "country": "colombia",
          "date": 2016.375085557837,
          "name": "COL/FH07/2016",
          "parent_date": 2015.848731442564,
          "parent_y": 402,
          "region": "south_america",
          "y": 403
         },
         {
          "country": "colombia",
          "date": 2015.8285153182542,
          "name": "NODE_0000405",
          "parent_date": 2015.752023051062,
          "parent_y": 403.25,
          "region": "south_america",
          "y": 405
         },
         {
          "country": "colombia",
          "date": 2016.5722108145105,
          "name": "COL/FH05/2016",
          "parent_date": 2015.8285153182542,
          "parent_y": 404.5,
          "region": "south_america",
          "y": 404
         },
         {
          "country": "ecuador",
          "date": 2016.146424649992,
          "name": "NODE_0000406",
          "parent_date": 2015.8285153182542,
          "parent_y": 404.5,
          "region": "south_america",
          "y": 406
         },
         {
          "country": "ecuador",
          "date": 2016.2518822724162,
          "name": "EcEs089_16",
          "parent_date": 2016.146424649992,
          "parent_y": 405.5,
          "region": "south_america",
          "y": 405
         },
         {
          "country": "ecuador",
          "date": 2016.3340177960301,
          "name": "EC/Esmeraldas/121/2016",
          "parent_date": 2016.146424649992,
          "parent_y": 405.5,
          "region": "south_america",
          "y": 406
         },
         {
          "country": "ecuador",
          "date": 2016.331279945243,
          "name": "EcEs062_16",
          "parent_date": 2016.146424649992,
          "parent_y": 405.5,
          "region": "south_america",
          "y": 407
         },
         {
          "country": "brazil",
          "date": 2014.4455235765513,
          "name": "NODE_0000408",
          "parent_date": 2014.340866217181,
          "parent_y": 406.56886863708496,
          "region": "south_america",
          "y": 414.9502372741699
         },
         {
          "country": "brazil",
          "date": 2014.5716655134024,
          "name": "NODE_0000409",
          "parent_date": 2014.4455235765513,
          "parent_y": 414.4502372741699,
          "region": "south_america",
          "y": 408.5
         },
         {
          "country": "brazil",
          "date": 2016.0793976728269,
          "name": "Rio_S1",
          "parent_date": 2014.5716655134024,
          "parent_y": 408,
          "region": "south_america",
          "y": 408
         },
         {
          "country": "brazil",
          "date": 2015.9993155373031,
          "name": "Natal_RGN",
          "parent_date": 2014.5716655134024,
          "parent_y": 408,
          "region": "south_america",
          "y": 409
         },
         {
          "country": "brazil",
          "date": 2014.5881762053962,
          "name": "NODE_0000410",
          "parent_date": 2014.4455235765513,
          "parent_y": 414.4502372741699,
          "region": "south_america",
          "y": 421.40047454833984
         },
         {
          "country": "brazil",
          "date": 2015.1642710472279,
          "name": "V15098",
          "parent_date": 2014.5881762053962,
          "parent_y": 420.90047454833984,
          "region": "south_america",
          "y": 410
         },
         {
          "country": "brazil",
          "date": 2014.7493898661894,
          "name": "NODE_0000412",
          "parent_date": 2014.5881762053962,
          "parent_y": 420.90047454833984,
          "region": "south_america",
          "y": 411.75
         },
         {
          "country": "brazil",
          "date": 2015.416153319644,
          "name": "V15261",
          "parent_date": 2014.7493898661894,
          "parent_y": 411.25,
          "region": "south_america",
          "y": 411
         },
         {
          "country": "brazil",
          "date": 2015.3043973030751,
          "name": "NODE_0000413",
          "parent_date": 2014.7493898661894,
          "parent_y": 411.25,
          "region": "south_america",
          "y": 412.5
         },
         {
          "country": "brazil",
          "date": 2015.9993155373031,
          "name": "BeH823339",
          "parent_date": 2015.3043973030751,
          "parent_y": 412,
          "region": "south_america",
          "y": 412
         },
         {
          "country": "brazil",
          "date": 2016.2245037645448,
          "name": "Brazil/16321",
          "parent_date": 2015.3043973030751,
          "parent_y": 412,
          "region": "south_america",
          "y": 413
         },
         {
          "country": "brazil",
          "date": 2016.1040640053066,
          "name": "NODE_0000415",
          "parent_date": 2014.5881762053962,
          "parent_y": 420.90047454833984,
          "region": "south_america",
          "y": 416.7734375
         },
         {
          "country": "brazil",
          "date": 2016.3011635865846,
          "name": "BRA/2016/ZKV17uri_2016_04_19",
          "parent_date": 2016.1040640053066,
          "parent_y": 416.2734375,
          "region": "south_america",
          "y": 414
         },
         {
          "country": "brazil",
          "date": 2016.2621625102759,
          "name": "NODE_0000578",
          "parent_date": 2016.1040640053066,
          "parent_y": 416.2734375,
          "region": "south_america",
          "y": 415.75
         },
         {
          "country": "brazil",
          "date": 2016.3394934976043,
          "name": "BRA/2016/ZKV17Bsem_2016_05_03",
          "parent_date": 2016.2621625102759,
          "parent_y": 415.25,
          "region": "south_america",
          "y": 415
         },
         {
          "country": "brazil",
          "date": 2016.3203285420946,
          "name": "NODE_0000579",
          "parent_date": 2016.2621625102759,
          "parent_y": 415.25,
          "region": "south_america",
          "y": 416.5
         },
         {
          "country": "brazil",
          "date": 2016.3203285420946,
          "name": "BRA/2016/ZKV17Auri_2016_04_26",
          "parent_date": 2016.3203285420946,
          "parent_y": 416,
          "region": "south_america",
          "y": 416
         },
         {
          "country": "brazil",
          "date": 2016.3203285420946,
          "name": "BRA/2016/ZKV17Asem_2016_04_26",
          "parent_date": 2016.3203285420946,
          "parent_y": 416,
          "region": "south_america",
          "y": 417
         },
         {
          "country": "brazil",
          "date": 2016.1899576003111,
          "name": "NODE_0000419",
          "parent_date": 2016.1040640053066,
          "parent_y": 416.2734375,
          "region": "south_america",
          "y": 419.546875
         },
         {
          "country": "brazil",
          "date": 2016.3011635865846,
          "name": "BRA/2016/ZKV17sem_2016_04_19",
          "parent_date": 2016.1899576003111,
          "parent_y": 419.046875,
          "region": "south_america",
          "y": 418
         },
         {
          "country": "brazil",
          "date": 2016.2553143987532,
          "name": "NODE_0000420",
          "parent_date": 2016.1899576003111,
          "parent_y": 419.046875,
          "region": "south_america",
          "y": 421.09375
         },
         {
          "country": "brazil",
          "date": 2016.4599589322381,
          "name": "BRA/2016/ZKV17Hsem_2016_06_16",
          "parent_date": 2016.2553143987532,
          "parent_y": 420.59375,
          "region": "south_america",
          "y": 419
         },
         {
          "country": "brazil",
          "date": 2016.2830432393946,
          "name": "NODE_0000421",
          "parent_date": 2016.2553143987532,
          "parent_y": 420.59375,
          "region": "south_america",
          "y": 423.1875
         },
         {
          "country": "brazil",
          "date": 2016.3778234086242,
          "name": "NODE_0000424",
          "parent_date": 2016.2830432393946,
          "parent_y": 422.6875,
          "region": "south_america",
          "y": 420.5
         },
         {
          "country": "brazil",
          "date": 2016.3969883641341,
          "name": "BRA/2016/ZKV17Esem_2016_05_24",
          "parent_date": 2016.3778234086242,
          "parent_y": 420,
          "region": "south_america",
          "y": 420
         },
         {
          "country": "brazil",
          "date": 2016.3778234086242,
          "name": "BRA/2016/ZKV17Dsem_2016_05_17",
          "parent_date": 2016.3778234086242,
          "parent_y": 420,
          "region": "south_america",
          "y": 421
         },
         {
          "country": "brazil",
          "date": 2016.3586584531142,
          "name": "NODE_0000580",
          "parent_date": 2016.2830432393946,
          "parent_y": 422.6875,
          "region": "south_america",
          "y": 422.5
         },
         {
          "country": "brazil",
          "date": 2016.4243668720055,
          "name": "BRA/2016/ZKV17Fsem_2016_05_31",
          "parent_date": 2016.3586584531142,
          "parent_y": 422,
          "region": "south_america",
          "y": 422
         },
         {
          "country": "brazil",
          "date": 2016.3586584531142,
          "name": "BRA/2016/ZKV17Csem_2016_05_10",
          "parent_date": 2016.3586584531142,
          "parent_y": 422,
          "region": "south_america",
          "y": 423
         },
         {
          "country": "brazil",
          "date": 2016.3507676813156,
          "name": "NODE_0000425",
          "parent_date": 2016.2830432393946,
          "parent_y": 422.6875,
          "region": "south_america",
          "y": 425.875
         },
         {
          "country": "brazil",
          "date": 2016.5119780971936,
          "name": "BRA/2016/ZKV17Ksem_2016_07_05",
          "parent_date": 2016.3507676813156,
          "parent_y": 425.375,
          "region": "south_america",
          "y": 424
         },
         {
          "country": "brazil",
          "date": 2016.438056125941,
          "name": "NODE_0000581",
          "parent_date": 2016.3507676813156,
          "parent_y": 425.375,
          "region": "south_america",
          "y": 425.5
         },
         {
          "country": "brazil",
          "date": 2016.438056125941,
          "name": "BRA/2016/ZKV17Gsem_2016_06_08",
          "parent_date": 2016.438056125941,
          "parent_y": 425,
          "region": "south_america",
          "y": 425
         },
         {
          "country": "brazil",
          "date": 2016.4928131416839,
          "name": "BRA/2016/ZKV17Jsem_2016_06_28",
          "parent_date": 2016.438056125941,
          "parent_y": 425,
          "region": "south_america",
          "y": 426
         },
         {
          "country": "brazil",
          "date": 2016.4718000378712,
          "name": "NODE_0000426",
          "parent_date": 2016.3507676813156,
          "parent_y": 425.375,
          "region": "south_america",
          "y": 427.75
         },
         {
          "country": "brazil",
          "date": 2016.5722108145105,
          "name": "BRA/2016/ZKV17Nsem_2016_07_27",
          "parent_date": 2016.4718000378712,
          "parent_y": 427.25,
          "region": "south_america",
          "y": 427
         },
         {
          "country": "brazil",
          "date": 2016.5311430527036,
          "name": "NODE_0000656",
          "parent_date": 2016.4718000378712,
          "parent_y": 427.25,
          "region": "south_america",
          "y": 428.5
         },
         {
          "country": "brazil",
          "date": 2016.5503080082135,
          "name": "BRA/2016/ZKV17Msem_2016_07_19",
          "parent_date": 2016.5311430527036,
          "parent_y": 428,
          "region": "south_america",
          "y": 428
         },
         {
          "country": "brazil",
          "date": 2016.5311430527036,
          "name": "BRA/2016/ZKV17Lsem_2016_07_12",
          "parent_date": 2016.5311430527036,
          "parent_y": 428,
          "region": "south_america",
          "y": 429
         },
         {
          "country": "brazil",
          "date": 2014.7484426014648,
          "name": "NODE_0000430",
          "parent_date": 2014.5881762053962,
          "parent_y": 420.90047454833984,
          "region": "south_america",
          "y": 432.8009490966797
         },
         {
          "country": "brazil",
          "date": 2015.1478439425052,
          "name": "Brazil/2015/ZBRA105",
          "parent_date": 2014.7484426014648,
          "parent_y": 432.3009490966797,
          "region": "south_america",
          "y": 430
         },
         {
          "country": "brazil",
          "date": 2014.8650755284618,
          "name": "NODE_0000431",
          "parent_date": 2014.7484426014648,
          "parent_y": 432.3009490966797,
          "region": "south_america",
          "y": 435.6018981933594
         },
         {
          "country": "saint_barthelemy",
          "date": 2016.5667351129364,
          "name": "Saint_Barthelemi_Rus_6BRN_2016",
          "parent_date": 2014.8650755284618,
          "parent_y": 435.1018981933594,
          "region": "north_america",
          "y": 431
         },
         {
          "country": "brazil",
          "date": 2015.2749940419005,
          "name": "NODE_0000432",
          "parent_date": 2014.8650755284618,
          "parent_y": 435.1018981933594,
          "region": "south_america",
          "y": 440.20379638671875
         },
         {
          "country": "brazil",
          "date": 2015.4095034532866,
          "name": "NODE_0000582",
          "parent_date": 2015.2749940419005,
          "parent_y": 439.70379638671875,
          "region": "south_america",
          "y": 432.75
         },
         {
          "country": "brazil",
          "date": 2016.041067761807,
          "name": "Brazil/2016/ZBRY4",
          "parent_date": 2015.4095034532866,
          "parent_y": 432.25,
          "region": "south_america",
          "y": 432
         },
         {
          "country": "brazil",
          "date": 2015.6834206273559,
          "name": "NODE_0000583",
          "parent_date": 2015.4095034532866,
          "parent_y": 432.25,
          "region": "south_america",
          "y": 433.5
         },
         {
          "country": "brazil",
          "date": 2016.002737850787,
          "name": "Brazil/2016/ZBRY11",
          "parent_date": 2015.6834206273559,
          "parent_y": 433,
          "region": "south_america",
          "y": 433
         },
         {
          "country": "brazil",
          "date": 2016.084873374401,
          "name": "Brazil/2016/ZBRY14",
          "parent_date": 2015.6834206273559,
          "parent_y": 433,
          "region": "south_america",
          "y": 434
         },
         {
          "country": "dominican_republic",
          "date": 2015.5197603499605,
          "name": "NODE_0000435",
          "parent_date": 2015.2749940419005,
          "parent_y": 439.70379638671875,
          "region": "north_america",
          "y": 447.6575927734375
         },
         {
          "country": "dominican_republic",
          "date": 2015.64428939458,
          "name": "NODE_0000584",
          "parent_date": 2015.5197603499605,
          "parent_y": 447.1575927734375,
          "region": "north_america",
          "y": 435.5
         },
         {
          "country": "dominican_republic",
          "date": 2016.3066392881587,
          "name": "DOM/2016/BB_0216",
          "parent_date": 2015.64428939458,
          "parent_y": 435,
          "region": "north_america",
          "y": 435
         },
         {
          "country": "dominican_republic",
          "date": 2016.2984257357973,
          "name": "DOM/2016/BB_0180",
          "parent_date": 2015.64428939458,
          "parent_y": 435,
          "region": "north_america",
          "y": 436
         },
         {
          "country": "dominican_republic",
          "date": 2015.571565751518,
          "name": "NODE_0000437",
          "parent_date": 2015.5197603499605,
          "parent_y": 447.1575927734375,
          "region": "north_america",
          "y": 459.815185546875
         },
         {
          "country": "dominican_republic",
          "date": 2016.2628336755647,
          "name": "DOM/2016/BB_0071",
          "parent_date": 2015.571565751518,
          "parent_y": 459.315185546875,
          "region": "north_america",
          "y": 437
         },
         {
          "country": "dominican_republic",
          "date": 2016.4517453798767,
          "name": "DOM/2016/BB_0433",
          "parent_date": 2015.571565751518,
          "parent_y": 459.315185546875,
          "region": "north_america",
          "y": 438
         },
         {
          "country": "dominican_republic",
          "date": 2015.9778646763677,
          "name": "NODE_0000440",
          "parent_date": 2015.571565751518,
          "parent_y": 459.315185546875,
          "region": "north_america",
          "y": 439.5
         },
         {
          "country": "haiti",
          "date": 2016.4900752908966,
          "name": "mosquito/Haiti/1855/2016",
          "parent_date": 2015.9778646763677,
          "parent_y": 439,
          "region": "north_america",
          "y": 439
         },
         {
          "country": "guadeloupe",
          "date": 2016.3066392881587,
          "name": "PHE_Guadeloupe",
          "parent_date": 2015.9778646763677,
          "parent_y": 439,
          "region": "north_america",
          "y": 440
         },
         {
          "country": "dominican_republic",
          "date": 2015.7324115391164,
          "name": "NODE_0000441",
          "parent_date": 2015.571565751518,
          "parent_y": 459.315185546875,
          "region": "north_america",
          "y": 442
         },
         {
          "country": "dominican_republic",
          "date": 2016.454483230664,
          "name": "DOM/2016/BB_0436",
          "parent_date": 2015.7324115391164,
          "parent_y": 441.5,
          "region": "north_america",
          "y": 441
         },
         {
          "country": "dominican_republic",
          "date": 2016.2792607802876,
          "name": "DOM/2016/BB_0115",
          "parent_date": 2015.7324115391164,
          "parent_y": 441.5,
          "region": "north_america",
          "y": 442
         },
         {
          "country": "dominican_republic",
          "date": 2016.4654346338125,
          "name": "DOM/2016/MA_WGS16_014",
          "parent_date": 2015.7324115391164,
          "parent_y": 441.5,
          "region": "north_america",
          "y": 443
         },
         {
          "country": "cuba",
          "date": 2015.7111317319539,
          "name": "NODE_0000449",
          "parent_date": 2015.571565751518,
          "parent_y": 459.315185546875,
          "region": "north_america",
          "y": 444.75
         },
         {
          "country": "cuba",
          "date": 2017.1177275838468,
          "name": "Cuba_2017",
          "parent_date": 2015.7111317319539,
          "parent_y": 444.25,
          "region": "north_america",
          "y": 444
         },
         {
          "country": "cuba",
          "date": 2016.057275879447,
          "name": "NODE_0000450",
          "parent_date": 2015.7111317319539,
          "parent_y": 444.25,
          "region": "north_america",
          "y": 445.5
         },
         {
          "country": "cuba",
          "date": 2017.6160164271048,
          "name": "Cuba/2017/FL055Se",
          "parent_date": 2016.057275879447,
          "parent_y": 445,
          "region": "north_america",
          "y": 445
         },
         {
          "country": "cuba",
          "date": 2017.602327173169,
          "name": "Cuba/2017/FL047U",
          "parent_date": 2016.057275879447,
          "parent_y": 445,
          "region": "north_america",
          "y": 446
         },
         {
          "country": "dominican_republic",
          "date": 2015.7577332214323,
          "name": "NODE_0000452",
          "parent_date": 2015.571565751518,
          "parent_y": 459.315185546875,
          "region": "north_america",
          "y": 448
         },
         {
          "country": "japan",
          "date": 2017.0020533880904,
          "name": "3216DP137",
          "parent_date": 2015.7577332214323,
          "parent_y": 447.5,
          "region": "japan_korea",
          "y": 447
         },
         {
          "country": "dominican_republic",
          "date": 2016.2683093771388,
          "name": "DOM/2016/BB_0091",
          "parent_date": 2015.7577332214323,
          "parent_y": 447.5,
          "region": "north_america",
          "y": 448
         },
         {
          "country": "dominican_republic",
          "date": 2016.457221081451,
          "name": "DOM/2016/MA_WGS16_013",
          "parent_date": 2015.7577332214323,
          "parent_y": 447.5,
          "region": "north_america",
          "y": 449
         },
         {
          "country": "dominican_republic",
          "date": 2016.5530657435968,
          "name": "NODE_0000470",
          "parent_date": 2015.571565751518,
          "parent_y": 459.315185546875,
          "region": "north_america",
          "y": 450.75
         },
         {
          "country": "dominican_republic",
          "date": 2016.6516084873374,
          "name": "Dominican_Republic/2016/ZB",
          "parent_date": 2016.5530657435968,
          "parent_y": 450.25,
          "region": "north_america",
          "y": 450
         },
         {
          "country": "dominican_republic",
          "date": 2016.6425296622651,
          "name": "NODE_0000585",
          "parent_date": 2016.5530657435968,
          "parent_y": 450.25,
          "region": "north_america",
          "y": 451.5
         },
         {
          "country": "dominican_republic",
          "date": 2016.6516084873374,
          "name": "Dominican_Rep_Rus_8ZBR_2016",
          "parent_date": 2016.6425296622651,
          "parent_y": 451,
          "region": "north_america",
          "y": 451
         },
         {
          "country": "dominican_republic",
          "date": 2016.6516084873374,
          "name": "Dominican_Rep_Rus_7EGR_2016",
          "parent_date": 2016.6425296622651,
          "parent_y": 451,
          "region": "north_america",
          "y": 452
         },
         {
          "country": "dominican_republic",
          "date": 2015.7005076234586,
          "name": "NODE_0000455",
          "parent_date": 2015.571565751518,
          "parent_y": 459.315185546875,
          "region": "north_america",
          "y": 454.25
         },
         {
          "country": "jamaica",
          "date": 2016.4517453798767,
          "name": "JAM/2016/WI_JM6",
          "parent_date": 2015.7005076234586,
          "parent_y": 453.75,
          "region": "north_america",
          "y": 453
         },
         {
          "country": "usvi",
          "date": 2016.0553432478896,
          "name": "NODE_0000456",
          "parent_date": 2015.7005076234586,
          "parent_y": 453.75,
          "region": "north_america",
          "y": 455.5
         },
         {
          "country": "usvi",
          "date": 2016.7034849935646,
          "name": "NODE_0000457",
          "parent_date": 2016.0553432478896,
          "parent_y": 455,
          "region": "north_america",
          "y": 454.5
         },
         {
          "country": "usvi",
          "date": 2016.892539356605,
          "name": "USVI/19/2016",
          "parent_date": 2016.7034849935646,
          "parent_y": 454,
          "region": "north_america",
          "y": 454
         },
         {
          "country": "usvi",
          "date": 2016.8624229979466,
          "name": "USVI/41/2016",
          "parent_date": 2016.7034849935646,
          "parent_y": 454,
          "region": "north_america",
          "y": 455
         },
         {
          "country": "usvi",
          "date": 2016.1781084324784,
          "name": "NODE_0000458",
          "parent_date": 2016.0553432478896,
          "parent_y": 455,
          "region": "north_america",
          "y": 456.5
         },
         {
          "country": "usvi",
          "date": 2016.8213552361397,
          "name": "USVI/42/2016",
          "parent_date": 2016.1781084324784,
          "parent_y": 456,
          "region": "north_america",
          "y": 456
         },
         {
          "country": "usvi",
          "date": 2016.911704312115,
          "name": "USVI/28/2016",
          "parent_date": 2016.1781084324784,
          "parent_y": 456,
          "region": "north_america",
          "y": 457
         },
         {
          "country": "dominican_republic",
          "date": 2015.6773529451052,
          "name": "NODE_0000586",
          "parent_date": 2015.571565751518,
          "parent_y": 459.315185546875,
          "region": "north_america",
          "y": 460.619140625
         },
         {
          "country": "dominican_republic",
          "date": 2015.8469659528319,
          "name": "NODE_0000448",
          "parent_date": 2015.6773529451052,
          "parent_y": 460.119140625,
          "region": "north_america",
          "y": 458.5
         },
         {
          "country": "dominican_republic",
          "date": 2016.0876112251883,
          "name": "Dominican_Republic/2016/PD1",
          "parent_date": 2015.8469659528319,
          "parent_y": 458,
          "region": "north_america",
          "y": 458
         },
         {
          "country": "usa",
          "date": 2016.6297056810404,
          "name": "USA/2016/FL039",
          "parent_date": 2015.8469659528319,
          "parent_y": 458,
          "region": "north_america",
          "y": 459
         },
         {
          "country": "dominican_republic",
          "date": 2015.688532293206,
          "name": "NODE_0000587",
          "parent_date": 2015.6773529451052,
          "parent_y": 460.119140625,
          "region": "north_america",
          "y": 462.73828125
         },
         {
          "country": "dominican_republic",
          "date": 2016.002718216643,
          "name": "NODE_0000473",
          "parent_date": 2015.688532293206,
          "parent_y": 462.23828125,
          "region": "north_america",
          "y": 460.5
         },
         {
          "country": "dominican_republic",
          "date": 2016.3230663928816,
          "name": "DOM/2016/BB_0269",
          "parent_date": 2016.002718216643,
          "parent_y": 460,
          "region": "north_america",
          "y": 460
         },
         {
          "country": "dominican_republic",
          "date": 2016.2984257357973,
          "name": "DOM/2016/BB_0183",
          "parent_date": 2016.002718216643,
          "parent_y": 460,
          "region": "north_america",
          "y": 461
         },
         {
          "country": "dominican_republic",
          "date": 2015.7478567588103,
          "name": "NODE_0000588",
          "parent_date": 2015.688532293206,
          "parent_y": 462.23828125,
          "region": "north_america",
          "y": 464.9765625
         },
         {
          "country": "dominican_republic",
          "date": 2016.008396338346,
          "name": "NODE_0000466",
          "parent_date": 2015.7478567588103,
          "parent_y": 464.4765625,
          "region": "north_america",
          "y": 462.875
         },
         {
          "country": "dominican_republic",
          "date": 2016.3613963039015,
          "name": "Dominican_Rep_Rus_3ALT_2016",
          "parent_date": 2016.008396338346,
          "parent_y": 462.375,
          "region": "north_america",
          "y": 462
         },
         {
          "country": "dominican_republic",
          "date": 2016.1481878136485,
          "name": "NODE_0000467",
          "parent_date": 2016.008396338346,
          "parent_y": 462.375,
          "region": "north_america",
          "y": 463.75
         },
         {
          "country": "usvi",
          "date": 2016.6872005475702,
          "name": "USVI/22/2016",
          "parent_date": 2016.1481878136485,
          "parent_y": 463.25,
          "region": "north_america",
          "y": 463
         },
         {
          "country": "dominican_republic",
          "date": 2016.261622768101,
          "name": "NODE_0000468",
          "parent_date": 2016.1481878136485,
          "parent_y": 463.25,
          "region": "north_america",
          "y": 464.5
         },
         {
          "country": "dominican_republic",
          "date": 2016.7282683093772,
          "name": "DOM/2016/MA_WGS16_036",
          "parent_date": 2016.261622768101,
          "parent_y": 464,
          "region": "north_america",
          "y": 464
         },
         {
          "country": "dominican_republic",
          "date": 2016.766598220397,
          "name": "DOM/2016/MA_WGS16_040",
          "parent_date": 2016.261622768101,
          "parent_y": 464,
          "region": "north_america",
          "y": 465
         },
         {
          "country": "dominican_republic",
          "date": 2015.7872844672188,
          "name": "NODE_0000589",
          "parent_date": 2015.7478567588103,
          "parent_y": 464.4765625,
          "region": "north_america",
          "y": 467.078125
         },
         {
          "country": "japan",
          "date": 2016.3860369609856,
          "name": "Yokohama/1/2016",
          "parent_date": 2015.7872844672188,
          "parent_y": 466.578125,
          "region": "japan_korea",
          "y": 466
         },
         {
          "country": "dominican_republic",
          "date": 2015.8284296897925,
          "name": "NODE_0000590",
          "parent_date": 2015.7872844672188,
          "parent_y": 466.578125,
          "region": "north_america",
          "y": 468.15625
         },
         {
          "country": "dominican_republic",
          "date": 2016.2628336755647,
          "name": "DOM/2016/BB_0076",
          "parent_date": 2015.8284296897925,
          "parent_y": 467.65625,
          "region": "north_america",
          "y": 467
         },
         {
          "country": "dominican_republic",
          "date": 2015.876447457455,
          "name": "NODE_0000591",
          "parent_date": 2015.8284296897925,
          "parent_y": 467.65625,
          "region": "north_america",
          "y": 469.3125
         },
         {
          "country": "dominican_republic",
          "date": 2016.416153319644,
          "name": "Dominican_Rep_Rus_5RMN_2016",
          "parent_date": 2015.876447457455,
          "parent_y": 468.8125,
          "region": "north_america",
          "y": 468
         },
         {
          "country": "dominican_republic",
          "date": 2015.9280205122643,
          "name": "NODE_0000592",
          "parent_date": 2015.876447457455,
          "parent_y": 468.8125,
          "region": "north_america",
          "y": 470.625
         },
         {
          "country": "dominican_republic",
          "date": 2016.1494818313988,
          "name": "NODE_0000464",
          "parent_date": 2015.9280205122643,
          "parent_y": 470.125,
          "region": "north_america",
          "y": 469.5
         },
         {
          "country": "dominican_republic",
          "date": 2016.517453798768,
          "name": "DOM/2016/MA_WGS16_024",
          "parent_date": 2016.1494818313988,
          "parent_y": 469,
          "region": "north_america",
          "y": 469
         },
         {
          "country": "dominican_republic",
          "date": 2016.432580424367,
          "name": "DOM/2016/MA_WGS16_011",
          "parent_date": 2016.1494818313988,
          "parent_y": 469,
          "region": "north_america",
          "y": 470
         },
         {
          "country": "haiti",
          "date": 2015.9789600293334,
          "name": "NODE_0000593",
          "parent_date": 2015.9280205122643,
          "parent_y": 470.125,
          "region": "north_america",
          "y": 471.75
         },
         {
          "country": "haiti",
          "date": 2016.0876112251883,
          "name": "Haiti/2016/PD",
          "parent_date": 2015.9789600293334,
          "parent_y": 471.25,
          "region": "north_america",
          "y": 471
         },
         {
          "country": "cuba",
          "date": 2016.4755971838101,
          "name": "NODE_0000462",
          "parent_date": 2015.9789600293334,
          "parent_y": 471.25,
          "region": "north_america",
          "y": 472.5
         },
         {
          "country": "cuba",
          "date": 2018.0492813141684,
          "name": "Cuba/2018_01_18/FL257U",
          "parent_date": 2016.4755971838101,
          "parent_y": 472,
          "region": "north_america",
          "y": 472
         },
         {
          "country": "cuba",
          "date": 2017.7310061601643,
          "name": "Cuba/2017/FL049U",
          "parent_date": 2016.4755971838101,
          "parent_y": 472,
          "region": "north_america",
          "y": 473
         },
         {
          "country": "dominican_republic",
          "date": 2015.6875740729265,
          "name": "NODE_0000474",
          "parent_date": 2015.571565751518,
          "parent_y": 459.315185546875,
          "region": "north_america",
          "y": 482.63037109375
         },
         {
          "country": "dominican_republic",
          "date": 2015.800142732092,
          "name": "NODE_0000488",
          "parent_date": 2015.6875740729265,
          "parent_y": 482.13037109375,
          "region": "north_america",
          "y": 474.75
         },
         {
          "country": "jamaica",
          "date": 2016.7446954140999,
          "name": "JAM/2016/MA_WGS16_039",
          "parent_date": 2015.800142732092,
          "parent_y": 474.25,
          "region": "north_america",
          "y": 474
         },
         {
          "country": "dominican_republic",
          "date": 2016.149020849954,
          "name": "NODE_0000489",
          "parent_date": 2015.800142732092,
          "parent_y": 474.25,
          "region": "north_america",
          "y": 475.5
         },
         {
          "country": "dominican_republic",
          "date": 2016.3039014373717,
          "name": "DOM/2016/BB_0208",
          "parent_date": 2016.149020849954,
          "parent_y": 475,
          "region": "north_america",
          "y": 475
         },
         {
          "country": "dominican_republic",
          "date": 2016.3586584531142,
          "name": "DOM/2016/MA_WGS16_007",
          "parent_date": 2016.149020849954,
          "parent_y": 475,
          "region": "north_america",
          "y": 476
         },
         {
          "country": "usa",
          "date": 2016.1468374921758,
          "name": "NODE_0000475",
          "parent_date": 2015.6875740729265,
          "parent_y": 482.13037109375,
          "region": "north_america",
          "y": 478.75
         },
         {
          "country": "usa",
          "date": 2016.6050650239563,
          "name": "USA/2016/FLUR011",
          "parent_date": 2016.1468374921758,
          "parent_y": 478.25,
          "region": "north_america",
          "y": 477
         },
         {
          "country": "usa",
          "date": 2016.2356234980027,
          "name": "NODE_0000476",
          "parent_date": 2016.1468374921758,
          "parent_y": 478.25,
          "region": "north_america",
          "y": 480.5
         },
         {
          "country": "usa",
          "date": 2016.6256673769499,
          "name": "NODE_0000477",
          "parent_date": 2016.2356234980027,
          "parent_y": 480,
          "region": "north_america",
          "y": 478.5
         },
         {
          "country": "usa",
          "date": 2016.7802874743327,
          "name": "USA/2016/FLUR058",
          "parent_date": 2016.6256673769499,
          "parent_y": 478,
          "region": "north_america",
          "y": 478
         },
         {
          "country": "usa",
          "date": 2016.7200547570158,
          "name": "USA/2016/FLSR036",
          "parent_date": 2016.6256673769499,
          "parent_y": 478,
          "region": "north_america",
          "y": 479
         },
         {
          "country": "usa",
          "date": 2016.3167794015726,
          "name": "NODE_0000478",
          "parent_date": 2016.2356234980027,
          "parent_y": 480,
          "region": "north_america",
          "y": 482.5
         },
         {
          "country": "usa",
          "date": 2016.7036276522929,
          "name": "USA/2016/FLUR026",
          "parent_date": 2016.3167794015726,
          "parent_y": 482,
          "region": "north_america",
          "y": 480
         },
         {
          "country": "usa",
          "date": 2016.441672057058,
          "name": "NODE_0000479",
          "parent_date": 2016.3167794015726,
          "parent_y": 482,
          "region": "north_america",
          "y": 481.5
         },
         {
          "country": "usa",
          "date": 2016.6926762491444,
          "name": "Aedes_aegypti/USA/2016/FL05",
          "parent_date": 2016.441672057058,
          "parent_y": 481,
          "region": "north_america",
          "y": 481
         },
         {
          "country": "usa",
          "date": 2016.6488706365503,
          "name": "USA/2016/FLUR014",
          "parent_date": 2016.441672057058,
          "parent_y": 481,
          "region": "north_america",
          "y": 482
         },
         {
          "country": "usa",
          "date": 2016.4128558394752,
          "name": "NODE_0000481",
          "parent_date": 2016.3167794015726,
          "parent_y": 482,
          "region": "north_america",
          "y": 485
         },
         {
          "country": "usa",
          "date": 2016.6680355920603,
          "name": "USA/2016/FLUR022",
          "parent_date": 2016.4128558394752,
          "parent_y": 484.5,
          "region": "north_america",
          "y": 483
         },
         {
          "country": "usa",
          "date": 2016.5968514715948,
          "name": "USA/2016/FL032",
          "parent_date": 2016.4128558394752,
          "parent_y": 484.5,
          "region": "north_america",
          "y": 484
         },
         {
          "country": "usa",
          "date": 2016.6461327857633,
          "name": "Aedes_aegypti/USA/2016/FL03",
          "parent_date": 2016.4128558394752,
          "parent_y": 484.5,
          "region": "north_america",
          "y": 485
         },
         {
          "country": "usa",
          "date": 2016.4965928172826,
          "name": "NODE_0000484",
          "parent_date": 2016.4128558394752,
          "parent_y": 484.5,
          "region": "north_america",
          "y": 487
         },
         {
          "country": "usa",
          "date": 2016.6789869952088,
          "name": "Aedes_aegypti/USA/2016/FL04",
          "parent_date": 2016.4965928172826,
          "parent_y": 486.5,
          "region": "north_america",
          "y": 486
         },
         {
          "country": "usa",
          "date": 2016.624229979466,
          "name": "USA/2016/MA_WGS16_034",
          "parent_date": 2016.4965928172826,
          "parent_y": 486.5,
          "region": "north_america",
          "y": 487
         },
         {
          "country": "usa",
          "date": 2016.6707734428473,
          "name": "MB16_23",
          "parent_date": 2016.4965928172826,
          "parent_y": 486.5,
          "region": "north_america",
          "y": 488
         },
         {
          "country": "dominican_republic",
          "date": 2015.75190438175,
          "name": "NODE_0000594",
          "parent_date": 2015.6875740729265,
          "parent_y": 482.13037109375,
          "region": "north_america",
          "y": 490.5107421875
         },
         {
          "country": "jamaica",
          "date": 2016.5256673511294,
          "name": "JAM/2016/MA_WGS16_025",
          "parent_date": 2015.75190438175,
          "parent_y": 490.0107421875,
          "region": "north_america",
          "y": 489
         },
         {
          "country": "dominican_republic",
          "date": 2015.833907459208,
          "name": "NODE_0000490",
          "parent_date": 2015.75190438175,
          "parent_y": 490.0107421875,
          "region": "north_america",
          "y": 492.021484375
         },
         {
          "country": "dominican_republic",
          "date": 2016.394250513347,
          "name": "Dominican_Rep_Rus_4MRG_2016",
          "parent_date": 2015.833907459208,
          "parent_y": 491.521484375,
          "region": "north_america",
          "y": 490
         },
         {
          "country": "usvi",
          "date": 2016.8240930869267,
          "name": "USVI/7/2016",
          "parent_date": 2015.833907459208,
          "parent_y": 491.521484375,
          "region": "north_america",
          "y": 491
         },
         {
          "country": "dominican_republic",
          "date": 2015.951091511915,
          "name": "NODE_0000492",
          "parent_date": 2015.833907459208,
          "parent_y": 491.521484375,
          "region": "north_america",
          "y": 494.04296875
         },
         {
          "country": "dominican_republic",
          "date": 2016.2600958247776,
          "name": "DOM/2016/BB_0059",
          "parent_date": 2015.951091511915,
          "parent_y": 493.54296875,
          "region": "north_america",
          "y": 492
         },
         {
          "country": "usa",
          "date": 2016.0901603257403,
          "name": "NODE_0000493",
          "parent_date": 2015.951091511915,
          "parent_y": 493.54296875,
          "region": "north_america",
          "y": 496.0859375
         },
         {
          "country": "usa",
          "date": 2016.5859000684463,
          "name": "USA/2016/FL029",
          "parent_date": 2016.0901603257403,
          "parent_y": 495.5859375,
          "region": "north_america",
          "y": 493
         },
         {
          "country": "usa",
          "date": 2016.162129964958,
          "name": "NODE_0000494",
          "parent_date": 2016.0901603257403,
          "parent_y": 495.5859375,
          "region": "north_america",
          "y": 499.171875
         },
         {
          "country": "usa",
          "date": 2016.5859000684463,
          "name": "USA/2016/FL028",
          "parent_date": 2016.162129964958,
          "parent_y": 498.671875,
          "region": "north_america",
          "y": 494
         },
         {
          "country": "usa",
          "date": 2016.213309219638,
          "name": "NODE_0000495",
          "parent_date": 2016.162129964958,
          "parent_y": 498.671875,
          "region": "north_america",
          "y": 504.34375
         },
         {
          "country": "usa",
          "date": 2016.5968514715948,
          "name": "USA/2016/FL038",
          "parent_date": 2016.213309219638,
          "parent_y": 503.84375,
          "region": "north_america",
          "y": 495
         },
         {
          "country": "usa",
          "date": 2016.6488706365503,
          "name": "USA/2016/Hu0015SA",
          "parent_date": 2016.213309219638,
          "parent_y": 503.84375,
          "region": "north_america",
          "y": 496
         },
         {
          "country": "usa",
          "date": 2016.577686516085,
          "name": "USA/2016/FLUR006",
          "parent_date": 2016.213309219638,
          "parent_y": 503.84375,
          "region": "north_america",
          "y": 497
         },
         {
          "country": "usa",
          "date": 2016.3394200403409,
          "name": "NODE_0000514",
          "parent_date": 2016.213309219638,
          "parent_y": 503.84375,
          "region": "north_america",
          "y": 498.5
         },
         {
          "country": "usa",
          "date": 2016.5886379192334,
          "name": "USA/2016/FL030",
          "parent_date": 2016.3394200403409,
          "parent_y": 498,
          "region": "north_america",
          "y": 498
         },
         {
          "country": "usa",
          "date": 2016.577686516085,
          "name": "USA/2016/FLUR005",
          "parent_date": 2016.3394200403409,
          "parent_y": 498,
          "region": "north_america",
          "y": 499
         },
         {
          "country": "usa",
          "date": 2016.277900497265,
          "name": "NODE_0000516",
          "parent_date": 2016.213309219638,
          "parent_y": 503.84375,
          "region": "north_america",
          "y": 500.5
         },
         {
          "country": "usa",
          "date": 2016.558521560575,
          "name": "USA/2016/FL022",
          "parent_date": 2016.277900497265,
          "parent_y": 500,
          "region": "north_america",
          "y": 500
         },
         {
          "country": "usa",
          "date": 2016.5941136208078,
          "name": "USA/2016/FL036",
          "parent_date": 2016.277900497265,
          "parent_y": 500,
          "region": "north_america",
          "y": 501
         },
         {
          "country": "usa",
          "date": 2016.336860945903,
          "name": "NODE_0000508",
          "parent_date": 2016.213309219638,
          "parent_y": 503.84375,
          "region": "north_america",
          "y": 502.875
         },
         {
          "country": "usa",
          "date": 2016.643394934976,
          "name": "Aedes_aegypti/USA/2016/FL01",
          "parent_date": 2016.336860945903,
          "parent_y": 502.375,
          "region": "north_america",
          "y": 502
         },
         {
          "country": "usa",
          "date": 2016.6133851883496,
          "name": "NODE_0000509",
          "parent_date": 2016.336860945903,
          "parent_y": 502.375,
          "region": "north_america",
          "y": 503.75
         },
         {
          "country": "usa",
          "date": 2016.6488706365503,
          "name": "USA/2016/FLUR015",
          "parent_date": 2016.6133851883496,
          "parent_y": 503.25,
          "region": "north_america",
          "y": 503
         },
         {
          "country": "usa",
          "date": 2016.6474283467653,
          "name": "NODE_0000657",
          "parent_date": 2016.6133851883496,
          "parent_y": 503.25,
          "region": "north_america",
          "y": 504.5
         },
         {
          "country": "usa",
          "date": 2016.7583846680357,
          "name": "USA/2016/FLUR063",
          "parent_date": 2016.6474283467653,
          "parent_y": 504,
          "region": "north_america",
          "y": 504
         },
         {
          "country": "usa",
          "date": 2016.7227926078028,
          "name": "Aedes_aegypti/USA/2016/FL06",
          "parent_date": 2016.6474283467653,
          "parent_y": 504,
          "region": "north_america",
          "y": 505
         },
         {
          "country": "usa",
          "date": 2016.3174180009685,
          "name": "NODE_0000502",
          "parent_date": 2016.213309219638,
          "parent_y": 503.84375,
          "region": "north_america",
          "y": 507.4375
         },
         {
          "country": "usa",
          "date": 2016.5503080082135,
          "name": "USA/2016/FL021",
          "parent_date": 2016.3174180009685,
          "parent_y": 506.9375,
          "region": "north_america",
          "y": 506
         },
         {
          "country": "usa",
          "date": 2016.5749486652978,
          "name": "USA/2016/FLUR002",
          "parent_date": 2016.3174180009685,
          "parent_y": 506.9375,
          "region": "north_america",
          "y": 507
         },
         {
          "country": "usa",
          "date": 2016.387986306832,
          "name": "NODE_0000658",
          "parent_date": 2016.3174180009685,
          "parent_y": 506.9375,
          "region": "north_america",
          "y": 508.875
         },
         {
          "country": "usa",
          "date": 2016.7638603696098,
          "name": "Aedes_aegypti/USA/2016/FL08",
          "parent_date": 2016.387986306832,
          "parent_y": 508.375,
          "region": "north_america",
          "y": 508
         },
         {
          "country": "usa",
          "date": 2016.4434986342478,
          "name": "NODE_0000659",
          "parent_date": 2016.387986306832,
          "parent_y": 508.375,
          "region": "north_america",
          "y": 509.75
         },
         {
          "country": "usa",
          "date": 2016.6461327857633,
          "name": "Aedes_aegypti/USA/2016/FL02",
          "parent_date": 2016.4434986342478,
          "parent_y": 509.25,
          "region": "north_america",
          "y": 509
         },
         {
          "country": "usa",
          "date": 2016.531172903603,
          "name": "NODE_0000595",
          "parent_date": 2016.4434986342478,
          "parent_y": 509.25,
          "region": "north_america",
          "y": 510.5
         },
         {
          "country": "usa",
          "date": 2016.5941136208078,
          "name": "USA/2016/FLUR007",
          "parent_date": 2016.531172903603,
          "parent_y": 510,
          "region": "north_america",
          "y": 510
         },
         {
          "country": "usa",
          "date": 2016.5941136208078,
          "name": "USA/2016/FLUR008",
          "parent_date": 2016.531172903603,
          "parent_y": 510,
          "region": "north_america",
          "y": 511
         },
         {
          "country": "usa",
          "date": 2016.275780817556,
          "name": "NODE_0000596",
          "parent_date": 2016.213309219638,
          "parent_y": 503.84375,
          "region": "north_america",
          "y": 513.6875
         },
         {
          "country": "usa",
          "date": 2016.3374790652992,
          "name": "NODE_0000597",
          "parent_date": 2016.275780817556,
          "parent_y": 513.1875,
          "region": "north_america",
          "y": 512.5
         },
         {
          "country": "usa",
          "date": 2016.5941136208078,
          "name": "USA/2016/FLUR009",
          "parent_date": 2016.3374790652992,
          "parent_y": 512,
          "region": "north_america",
          "y": 512
         },
         {
          "country": "usa",
          "date": 2016.5749486652978,
          "name": "USA/2016/FLUR001",
          "parent_date": 2016.3374790652992,
          "parent_y": 512,
          "region": "north_america",
          "y": 513
         },
         {
          "country": "usa",
          "date": 2016.3380532543172,
          "name": "NODE_0000598",
          "parent_date": 2016.275780817556,
          "parent_y": 513.1875,
          "region": "north_america",
          "y": 514.875
         },
         {
          "country": "usa",
          "date": 2016.7392197125257,
          "name": "USA/2016/FLWB042",
          "parent_date": 2016.3380532543172,
          "parent_y": 514.375,
          "region": "north_america",
          "y": 514
         },
         {
          "country": "usa",
          "date": 2016.4333980924916,
          "name": "NODE_0000599",
          "parent_date": 2016.3380532543172,
          "parent_y": 514.375,
          "region": "north_america",
          "y": 515.75
         },
         {
          "country": "usa",
          "date": 2016.7638603696098,
          "name": "USA/2016/FLUR057",
          "parent_date": 2016.4333980924916,
          "parent_y": 515.25,
          "region": "north_america",
          "y": 515
         },
         {
          "country": "usa",
          "date": 2016.476386036961,
          "name": "NODE_0000600",
          "parent_date": 2016.4333980924916,
          "parent_y": 515.25,
          "region": "north_america",
          "y": 516.5
         },
         {
          "country": "usa",
          "date": 2016.6461327857633,
          "name": "USA/2016/FLUR013",
          "parent_date": 2016.476386036961,
          "parent_y": 516,
          "region": "north_america",
          "y": 516
         },
         {
          "country": "usa",
          "date": 2016.476386036961,
          "name": "USA/2016/FL010",
          "parent_date": 2016.476386036961,
          "parent_y": 516,
          "region": "north_america",
          "y": 517
         }
        ]
       },
       "height": 400,
       "layer": [
        {
         "encoding": {
          "color": {
           "value": "#cccccc"
          },
          "x": {
           "field": "parent_date",
           "scale": {
            "domain": [
             2006.9351029672512,
             2018.9885010266942
            ]
           },
           "type": "quantitative"
          },
          "x2": {
           "field": "date"
          },
          "y": {
           "field": "parent_y",
           "type": "quantitative"
          },
          "y2": {
           "field": "y"
          }
         },
         "mark": "line",
         "selection": {
          "selector001": {
           "bind": "scales",
           "encodings": [
            "x",
            "y"
           ],
           "type": "interval"
          }
         }
        },
        {
         "encoding": {
          "color": {
           "field": "region",
           "type": "nominal"
          },
          "tooltip": [
           {
            "field": "name",
            "type": "nominal"
           },
           {
            "field": "region",
            "type": "nominal"
           },
           {
            "field": "date",
            "type": "quantitative"
           }
          ],
          "x": {
           "axis": {
            "grid": false
           },
           "field": "date",
           "scale": {
            "domain": [
             2006.9351029672512,
             2018.9885010266942
            ]
           },
           "title": "Date",
           "type": "quantitative"
          },
          "y": {
           "axis": {
            "grid": false
           },
           "field": "y",
           "title": "",
           "type": "quantitative"
          }
         },
         "mark": "circle"
        }
       ],
       "width": 600
      },
      "image/png": "[encoded data removed]",
      "text/plain": [
       "<VegaLite 3 object>\n",
       "\n",
       "If you see this message, it means the renderer has not been properly enabled\n",
       "for the frontend that you are using. For more information, see\n",
       "https://altair-viz.github.io/user_guide/troubleshooting.html\n"
      ]
     },
     "execution_count": 15,
     "metadata": {},
     "output_type": "execute_result"
    }
   ],
   "source": [
    "base = alt.Chart(node_df)\n",
    "\n",
    "tips = base.mark_circle().encode(\n",
    "    x=alt.X(\n",
    "        \"date:Q\",\n",
    "        scale=alt.Scale(domain=(node_df[\"date\"].min() - 0.2, node_df[\"date\"].max() + 0.2)),\n",
    "        axis=alt.Axis(grid=False),\n",
    "        title=\"Date\",\n",
    "    ),\n",
    "    y=alt.Y(\n",
    "        \"y:Q\",\n",
    "        title=\"\",\n",
    "        axis=alt.Axis(grid=False),\n",
    "    ),\n",
    "    color=\"region:N\",\n",
    "    tooltip=[\"name:N\", \"region:N\", \"date:Q\"]\n",
    ")\n",
    "lines = base.mark_line().encode(\n",
    "    x=alt.X(\"parent_date:Q\", scale=alt.Scale(domain=(node_df[\"date\"].min() - 0.2, node_df[\"date\"].max() + 0.2))),\n",
    "    x2=\"date:Q\",\n",
    "    y=\"parent_y:Q\",\n",
    "    y2=\"y:Q\",\n",
    "    color=alt.ColorValue(\"#cccccc\")\n",
    ")\n",
    "(lines + tips).properties(\n",
    "    width=600,\n",
    "    height=400\n",
    ").interactive()"
   ]
  },
  {
   "cell_type": "code",
   "execution_count": null,
   "metadata": {},
   "outputs": [],
   "source": []
  }
 ],
 "metadata": {
  "kernelspec": {
   "display_name": "Python 3",
   "language": "python",
   "name": "python3"
  },
  "language_info": {
   "codemirror_mode": {
    "name": "ipython",
    "version": 3
   },
   "file_extension": ".py",
   "mimetype": "text/x-python",
   "name": "python",
   "nbconvert_exporter": "python",
   "pygments_lexer": "ipython3",
   "version": "3.6.7"
  }
 },
 "nbformat": 4,
 "nbformat_minor": 4
}
