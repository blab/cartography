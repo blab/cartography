{
 "cells": [
  {
   "cell_type": "code",
   "execution_count": 2,
   "id": "2d73bf83",
   "metadata": {},
   "outputs": [],
   "source": [
    "import matplotlib as mpl\n",
    "import matplotlib.pyplot as plt\n",
    "import pandas as pd\n",
    "import seaborn as sns\n",
    "\n",
    "%matplotlib inline"
   ]
  },
  {
   "cell_type": "code",
   "execution_count": 3,
   "id": "4658bdfc",
   "metadata": {},
   "outputs": [],
   "source": [
    "sns.set_style(\"white\")"
   ]
  },
  {
   "cell_type": "code",
   "execution_count": 4,
   "id": "1ddffce2",
   "metadata": {},
   "outputs": [],
   "source": [
    "# Display figures at a reasonable default size.\n",
    "mpl.rcParams['figure.figsize'] = (6, 4)\n",
    "\n",
    "# Disable top and right spines.\n",
    "mpl.rcParams['axes.spines.top'] = False\n",
    "mpl.rcParams['axes.spines.right'] = False\n",
    "    \n",
    "# Display and save figures at higher resolution for presentations and manuscripts.\n",
    "mpl.rcParams['savefig.dpi'] = 300\n",
    "mpl.rcParams['figure.dpi'] = 300\n",
    "\n",
    "# Display text at sizes large enough for presentations and manuscripts.\n",
    "mpl.rcParams['font.weight'] = \"normal\"\n",
    "mpl.rcParams['axes.labelweight'] = \"normal\"\n",
    "mpl.rcParams['font.size'] = 14\n",
    "mpl.rcParams['axes.labelsize'] = 14\n",
    "mpl.rcParams['legend.fontsize'] = 12\n",
    "mpl.rcParams['xtick.labelsize'] = 14\n",
    "mpl.rcParams['ytick.labelsize'] = 14"
   ]
  },
  {
   "cell_type": "markdown",
   "id": "af7e1b7e",
   "metadata": {},
   "source": [
    "## Load data\n",
    "\n",
    "Load exhaustive grid search data. For each possible embedding method, corresponding method parameters, and HDBSCAN distance threshold, we produced an embedding for training and validation data (using 2-fold validation with 3 repeats for N=6 cross-validation iterations per parameter combination), assigned clusters to each embedding, and evaluated how well all pairs of strains in the data were assigned to the same or different cluster compared to predetermined clade assignments."
   ]
  },
  {
   "cell_type": "code",
   "execution_count": 5,
   "id": "f38cc46b",
   "metadata": {},
   "outputs": [],
   "source": [
    "grid = pd.read_csv(snakemake.input.table, sep=\"\\t\")"
   ]
  },
  {
   "cell_type": "code",
   "execution_count": 6,
   "id": "6cbe87a7",
   "metadata": {},
   "outputs": [],
   "source": [
    "grid.head()"
   ]
  },
  {
   "cell_type": "code",
   "execution_count": 7,
   "id": "452cc5b8",
   "metadata": {},
   "outputs": [],
   "source": [
    "list(grid.columns)"
   ]
  },
  {
   "cell_type": "markdown",
   "id": "bb0eb8b3",
   "metadata": {},
   "source": [
    "## Identify the distance threshold that maximized the training accuracy\n",
    "\n",
    "We want to identify the distance threshold for HDBSCAN cluster assignment that produces the most accurate clusters (based on known clade assignments) across each method. To find this optimal threshold, we calculate the mean training MCC value across all cross-validation iterations for a given method and set of method parameters and find the threshold that maximizes this mean across each method."
   ]
  },
  {
   "cell_type": "code",
   "execution_count": 8,
   "id": "faa44ade",
   "metadata": {},
   "outputs": [],
   "source": [
    "mean_training_mcc_by_method = grid.groupby([\"method\", \"distance_threshold\"])[\"training_mcc\"].mean().reset_index()"
   ]
  },
  {
   "cell_type": "code",
   "execution_count": 9,
   "id": "0198499f",
   "metadata": {},
   "outputs": [],
   "source": [
    "mean_training_mcc_by_method"
   ]
  },
  {
   "cell_type": "code",
   "execution_count": 10,
   "id": "9d663fd9",
   "metadata": {},
   "outputs": [],
   "source": [
    "facet_grid = sns.relplot(\n",
    "    data=grid,\n",
    "    x=\"distance_threshold\",\n",
    "    y=\"training_mcc\",\n",
    "    col=\"method\",\n",
    "    col_wrap=2,\n",
    "    alpha=0.5,\n",
    ")\n",
    "\n",
    "for ax in facet_grid.axes.flatten():\n",
    "    ax.set_ylim(0, 1)\n",
    "    \n",
    "plt.tight_layout()\n",
    "plt.savefig(snakemake.output.mcc_by_method_and_distance_threshold)"
   ]
  },
  {
   "cell_type": "code",
   "execution_count": 17,
   "id": "5b7ca7a4",
   "metadata": {},
   "outputs": [],
   "source": [
    "facet_grid = sns.relplot(\n",
    "    data=grid,\n",
    "    x=\"distance_threshold\",\n",
    "    y=\"validation_mcc\",\n",
    "    col=\"method\",\n",
    "    col_wrap=2,\n",
    "    alpha=0.5,\n",
    ")\n",
    "\n",
    "for ax in facet_grid.axes.flatten():\n",
    "    ax.set_ylim(0, 1)\n",
    "    \n",
    "plt.tight_layout()\n",
    "plt.savefig(snakemake.output.mcc_by_method_and_distance_threshold)"
   ]
  },
  {
   "cell_type": "code",
   "execution_count": 28,
   "id": "9ba16f92",
   "metadata": {},
   "outputs": [],
   "source": [
    "grid"
   ]
  },
  {
   "cell_type": "code",
   "execution_count": 62,
   "id": "0f96a3d1",
   "metadata": {},
   "outputs": [],
   "source": [
    "for method in [\"pca\",\"mds\",\"t-sne\",\"umap\"]:\n",
    "    grid_search = []\n",
    "    for distance_threshold in range(0,14,2):\n",
    "        grid_ = grid.groupby(by=[\"method\", \"distance_threshold\"]).get_group((method, float(distance_threshold)))[\"validation_mcc\"].mean()#.argmax()\n",
    "        grid_search.append(grid_)\n",
    "    max_value = max(grid_search)\n",
    "    #2 is the step size, which I can use as a variable in a script if needed\n",
    "    print(2* grid_search.index(max_value))"
   ]
  },
  {
   "cell_type": "code",
   "execution_count": 11,
   "id": "cb38b3b2",
   "metadata": {},
   "outputs": [],
   "source": [
    "facet_grid = sns.relplot(\n",
    "    data=grid.query(\"method == 't-sne'\"),\n",
    "    x=\"distance_threshold\",\n",
    "    y=\"training_mcc\",\n",
    "    col=\"learning_rate\",\n",
    "    row=\"perplexity\",\n",
    "    alpha=0.75,\n",
    ")\n",
    "\n",
    "for ax in facet_grid.axes.flatten():\n",
    "    ax.set_ylim(0, 1)"
   ]
  },
  {
   "cell_type": "code",
   "execution_count": 12,
   "id": "dfcb911c",
   "metadata": {},
   "outputs": [],
   "source": [
    "facet_grid = sns.relplot(\n",
    "    data=grid.query(\"method == 'umap'\"),\n",
    "    x=\"distance_threshold\",\n",
    "    y=\"training_mcc\",\n",
    "    col=\"n_neighbors\",\n",
    "    row=\"min_dist\",\n",
    "    alpha=0.75,\n",
    ")\n",
    "\n",
    "for ax in facet_grid.axes.flatten():\n",
    "    ax.set_ylim(0, 1)"
   ]
  },
  {
   "cell_type": "markdown",
   "id": "dbb4b966",
   "metadata": {},
   "source": [
    "## Identify optimal method parameter values\n",
    "\n",
    "Given the distance threshold that maximizes the training MCC above (threshold=4 for t-SNE and threshold=2 for UMAP), we next identify the combination of method parameters that maximizes the validation MCC for that distance threshold."
   ]
  },
  {
   "cell_type": "code",
   "execution_count": 13,
   "id": "145fa91b",
   "metadata": {},
   "outputs": [],
   "source": [
    "grid.query(\"distance_threshold == 4\").groupby([\"method\", \"perplexity\", \"learning_rate\"])[\"validation_mcc\"].mean().reset_index().sort_values(\n",
    "    \"validation_mcc\",\n",
    "    ascending=False\n",
    ")"
   ]
  },
  {
   "cell_type": "code",
   "execution_count": 14,
   "id": "81e53db1",
   "metadata": {},
   "outputs": [],
   "source": [
    "facet_grid = sns.catplot(\n",
    "    data=grid.query(\"(method == 't-sne') & (distance_threshold == 4)\"),\n",
    "    x=\"perplexity\",\n",
    "    y=\"validation_mcc\",\n",
    "    hue=\"learning_rate\",\n",
    "    dodge=True,\n",
    "    alpha=0.75,\n",
    ")\n",
    "\n",
    "for ax in facet_grid.axes.flatten():\n",
    "    ax.set_ylim(0, 1)"
   ]
  },
  {
   "cell_type": "markdown",
   "id": "06a097f8",
   "metadata": {},
   "source": [
    "As we’ve seen before, learning rate doesn’t matter much, but perplexity does. The maximum validation MCC for t-SNE is at perplexity=30 and learning rate = 200, which is what we’ve been using."
   ]
  },
  {
   "cell_type": "code",
   "execution_count": 15,
   "id": "dbc3ac78",
   "metadata": {},
   "outputs": [],
   "source": [
    "grid.query(\"distance_threshold == 2\").groupby([\"method\", \"min_dist\", \"n_neighbors\"])[\"validation_mcc\"].mean().reset_index().sort_values(\n",
    "    \"validation_mcc\",\n",
    "    ascending=False\n",
    ")"
   ]
  },
  {
   "cell_type": "code",
   "execution_count": 16,
   "id": "1979a84c",
   "metadata": {},
   "outputs": [],
   "source": [
    "facet_grid = sns.catplot(\n",
    "    data=grid.query(\"(method == 'umap') & (distance_threshold == 2)\"),\n",
    "    x=\"min_dist\",\n",
    "    y=\"validation_mcc\",\n",
    "    hue=\"n_neighbors\",\n",
    "    dodge=True,\n",
    "    alpha=0.75,\n",
    ")\n",
    "\n",
    "for ax in facet_grid.axes.flatten():\n",
    "    ax.set_ylim(0, 1)"
   ]
  },
  {
   "cell_type": "markdown",
   "id": "bab26608",
   "metadata": {},
   "source": [
    "In contrast with t-SNE's parameters, UMAP appears robust across all tested parameter combinations, producing roughly the same MCC values for all combinations. Although the optimal parameter combination is min_dist=0.05, n_neighbors=50 (MCC=0.681), the second best combination of min_dist=0.05, n_neighbors=100 has an MCC=0.6796)."
   ]
  },
  {
   "cell_type": "code",
   "execution_count": null,
   "id": "195c61e1",
   "metadata": {},
   "outputs": [],
   "source": []
  }
 ],
 "metadata": {
  "kernelspec": {
   "display_name": "Python 3",
   "language": "python",
   "name": "python3"
  },
  "language_info": {
   "codemirror_mode": {
    "name": "ipython",
    "version": 3
   },
   "file_extension": ".py",
   "mimetype": "text/x-python",
   "name": "python",
   "nbconvert_exporter": "python",
   "pygments_lexer": "ipython3",
   "version": "3.7.10"
  }
 },
 "nbformat": 4,
 "nbformat_minor": 5
}
