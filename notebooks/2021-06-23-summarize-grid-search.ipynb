{
 "cells": [
  {
   "cell_type": "code",
   "execution_count": null,
   "id": "2d73bf83",
   "metadata": {},
   "outputs": [],
   "source": [
    "import matplotlib as mpl\n",
    "import matplotlib.pyplot as plt\n",
    "import pandas as pd\n",
    "import seaborn as sns\n",
    "\n",
    "%matplotlib inline"
   ]
  },
  {
   "cell_type": "code",
   "execution_count": null,
   "id": "4658bdfc",
   "metadata": {},
   "outputs": [],
   "source": [
    "sns.set_style(\"white\")"
   ]
  },
  {
   "cell_type": "code",
   "execution_count": null,
   "id": "1ddffce2",
   "metadata": {},
   "outputs": [],
   "source": [
    "# Display figures at a reasonable default size.\n",
    "mpl.rcParams['figure.figsize'] = (6, 4)\n",
    "\n",
    "# Disable top and right spines.\n",
    "mpl.rcParams['axes.spines.top'] = False\n",
    "mpl.rcParams['axes.spines.right'] = False\n",
    "    \n",
    "# Display and save figures at higher resolution for presentations and manuscripts.\n",
    "mpl.rcParams['savefig.dpi'] = 300\n",
    "mpl.rcParams['figure.dpi'] = 300\n",
    "\n",
    "# Display text at sizes large enough for presentations and manuscripts.\n",
    "mpl.rcParams['font.weight'] = \"normal\"\n",
    "mpl.rcParams['axes.labelweight'] = \"normal\"\n",
    "mpl.rcParams['font.size'] = 14\n",
    "mpl.rcParams['axes.labelsize'] = 14\n",
    "mpl.rcParams['legend.fontsize'] = 12\n",
    "mpl.rcParams['xtick.labelsize'] = 14\n",
    "mpl.rcParams['ytick.labelsize'] = 14"
   ]
  },
  {
   "cell_type": "markdown",
   "id": "af7e1b7e",
   "metadata": {},
   "outputs": [],
   "source": [
    "## Load data\n",
    "\n",
    "Load exhaustive grid search data. For each possible embedding method, corresponding method parameters, and HDBSCAN distance threshold, we produced an embedding for training and validation data (using 2-fold validation with 3 repeats for N=6 cross-validation iterations per parameter combination), assigned clusters to each embedding, and evaluated how well all pairs of strains in the data were assigned to the same or different cluster compared to predetermined clade assignments."
   ]
  },
  {
   "cell_type": "code",
   "execution_count": null,
   "id": "f38cc46b",
   "metadata": {},
   "outputs": [],
   "source": [
    "grid = pd.read_csv(snakemake.input.table, sep=\"\\t\")"
   ]
  },
  {
   "cell_type": "code",
   "execution_count": null,
   "id": "6cbe87a7",
   "metadata": {},
   "outputs": [],
   "source": [
    "grid.head()"
   ]
  },
  {
   "cell_type": "code",
   "execution_count": null,
   "id": "452cc5b8",
   "metadata": {},
   "outputs": [],
   "source": [
    "list(grid.columns)"
   ]
  },
  {
   "cell_type": "markdown",
   "id": "bb0eb8b3",
   "metadata": {},
   "outputs": [],
   "source": [
    "## Identify the distance threshold that maximized the training accuracy\n",
    "\n",
    "We want to identify the distance threshold for HDBSCAN cluster assignment that produces the most accurate clusters (based on known clade assignments) across each method. To find this optimal threshold, we calculate the mean training MCC value across all cross-validation iterations for a given method and set of method parameters and find the threshold that maximizes this mean across each method."
   ]
  },
  {
   "cell_type": "code",
   "execution_count": null,
   "id": "faa44ade",
   "metadata": {},
   "outputs": [],
   "source": [
    "mean_training_mcc_by_method = grid.groupby([\"method\", \"distance_threshold\"])[\"training_mcc\"].mean().reset_index()"
   ]
  },
  {
   "cell_type": "code",
   "execution_count": null,
   "id": "0198499f",
   "metadata": {},
   "outputs": [],
   "source": [
    "mean_training_mcc_by_method"
   ]
  },
  {
   "cell_type": "code",
   "execution_count": null,
   "id": "9d663fd9",
   "metadata": {},
   "outputs": [],
   "source": [
    "facet_grid = sns.relplot(\n",
    "    data=grid,\n",
    "    x=\"distance_threshold\",\n",
    "    y=\"training_mcc\",\n",
    "    col=\"method\",\n",
    "    col_wrap=2,\n",
    "    alpha=0.5,\n",
    ")\n",
    "\n",
    "for ax in facet_grid.axes.flatten():\n",
    "    ax.set_ylim(0, 1)\n",
    "    \n",
    "plt.tight_layout()\n",
    "plt.savefig(snakemake.output.mcc_by_method_and_distance_threshold)"
   ]
  },
  {
   "cell_type": "code",
   "execution_count": null,
   "id": "5b7ca7a4",
   "metadata": {},
   "outputs": [],
   "source": [
    "facet_grid = sns.relplot(\n",
    "    data=grid,\n",
    "    x=\"distance_threshold\",\n",
    "    y=\"validation_mcc\",\n",
    "    col=\"method\",\n",
    "    col_wrap=2,\n",
    "    alpha=0.5,\n",
    ")\n",
    "\n",
    "for ax in facet_grid.axes.flatten():\n",
    "    ax.set_ylim(0, 1)\n",
    "    \n",
    "plt.tight_layout()\n",
    "plt.savefig(snakemake.output.mcc_by_method_and_distance_threshold)"
   ]
  },
  {
   "cell_type": "code",
   "execution_count": null,
   "id": "9ba16f92",
   "metadata": {},
   "outputs": [],
   "source": [
    "grid"
   ]
  },
  {
   "cell_type": "markdown",
   "id": "9710bd57",
   "metadata": {},
   "outputs": [],
   "source": [
    "Calculate the mean training MCC for each method and distance threshold across all cross-validation iterations. The maximum mean training MCC per method identifies the optimal distance threshold for that method."
   ]
  },
  {
   "cell_type": "code",
   "execution_count": null,
   "id": "2c721eac",
   "metadata": {},
   "outputs": [],
   "source": [
    "mean_training_mcc = grid.groupby([\"method\", \"distance_threshold\"])[\"training_mcc\"].mean().reset_index()"
   ]
  },
  {
   "cell_type": "code",
   "execution_count": null,
   "id": "4a565d31",
   "metadata": {},
   "outputs": [],
   "source": [
    "mean_training_mcc"
   ]
  },
  {
   "cell_type": "code",
   "execution_count": null,
   "id": "e1cead46",
   "metadata": {},
   "outputs": [],
   "source": [
    "max_training_mcc = mean_training_mcc.sort_values([\n",
    "    \"method\",\n",
    "    \"training_mcc\"\n",
    "], ascending=False).groupby(\n",
    "    \"method\",\n",
    "    sort=False\n",
    ").first().reset_index()"
   ]
  },
  {
   "cell_type": "code",
   "execution_count": null,
   "id": "b74b2c12",
   "metadata": {},
   "outputs": [],
   "source": [
    "max_training_mcc"
   ]
  },
  {
   "cell_type": "code",
   "execution_count": null,
   "id": "cb38b3b2",
   "metadata": {},
   "outputs": [],
   "source": [
    "facet_grid = sns.relplot(\n",
    "    data=grid.query(\"method == 't-sne'\"),\n",
    "    x=\"distance_threshold\",\n",
    "    y=\"training_mcc\",\n",
    "    col=\"learning_rate\",\n",
    "    row=\"perplexity\",\n",
    "    alpha=0.75,\n",
    ")\n",
    "\n",
    "for ax in facet_grid.axes.flatten():\n",
    "    ax.set_ylim(0, 1)"
   ]
  },
  {
   "cell_type": "code",
   "execution_count": null,
   "id": "dfcb911c",
   "metadata": {},
   "outputs": [],
   "source": [
    "facet_grid = sns.relplot(\n",
    "    data=grid.query(\"method == 'umap'\"),\n",
    "    x=\"distance_threshold\",\n",
    "    y=\"training_mcc\",\n",
    "    col=\"n_neighbors\",\n",
    "    row=\"min_dist\",\n",
    "    alpha=0.75,\n",
    ")\n",
    "\n",
    "for ax in facet_grid.axes.flatten():\n",
    "    ax.set_ylim(0, 1)"
   ]
  },
  {
   "cell_type": "markdown",
   "id": "52eea76e",
   "metadata": {},
   "outputs": [],
   "source": [
    "### PCA"
   ]
  },
  {
   "cell_type": "code",
   "execution_count": null,
   "id": "b0d7a9b5",
   "metadata": {},
   "outputs": [],
   "source": [
    "pca_max_training_mcc = max_training_mcc.query(\"method == 'pca'\")"
   ]
  },
  {
   "cell_type": "code",
   "execution_count": null,
   "id": "d0b57fdd",
   "metadata": {},
   "outputs": [],
   "source": [
    "pca_max_training_mcc"
   ]
  },
  {
   "cell_type": "code",
   "execution_count": null,
   "id": "027d2c0c",
   "metadata": {},
   "outputs": [],
   "source": [
    "pca_max_training_mcc.to_csv(\n",
    "    snakemake.output.pca_parameters,\n",
    "    index=False,\n",
    ")"
   ]
  },
  {
   "cell_type": "markdown",
   "id": "c80ce88e",
   "metadata": {},
   "outputs": [],
   "source": [
    "### MDS"
   ]
  },
  {
   "cell_type": "code",
   "execution_count": null,
   "id": "de02c9ca",
   "metadata": {},
   "outputs": [],
   "source": [
    "mds_max_training_mcc = max_training_mcc.query(\"method == 'mds'\")"
   ]
  },
  {
   "cell_type": "code",
   "execution_count": null,
   "id": "36b96022",
   "metadata": {},
   "outputs": [],
   "source": [
    "mds_max_training_mcc"
   ]
  },
  {
   "cell_type": "code",
   "execution_count": null,
   "id": "4b0068b1",
   "metadata": {},
   "outputs": [],
   "source": [
    "mds_max_training_mcc.to_csv(\n",
    "    snakemake.output.mds_parameters,\n",
    "    index=False,\n",
    ")"
   ]
  },
  {
   "cell_type": "markdown",
   "id": "dbb4b966",
   "metadata": {},
   "outputs": [],
   "source": [
    "## Identify optimal method parameter values\n",
    "\n",
    "Given the distance threshold that maximizes the training MCC above (threshold=4 for t-SNE and threshold=2 for UMAP), we next identify the combination of method parameters that maximizes the validation MCC for that distance threshold."
   ]
  },
  {
   "cell_type": "markdown",
   "id": "405f4a65",
   "metadata": {},
   "outputs": [],
   "source": [
    "### t-SNE"
   ]
  },
  {
   "cell_type": "code",
   "execution_count": null,
   "id": "d022c80e",
   "metadata": {},
   "outputs": [],
   "source": [
    "tsne_max_training_mcc = max_training_mcc.query(\"method == 't-sne'\")"
   ]
  },
  {
   "cell_type": "code",
   "execution_count": null,
   "id": "1aba02f9",
   "metadata": {},
   "outputs": [],
   "source": [
    "tsne_grid = tsne_max_training_mcc.merge(\n",
    "    grid,\n",
    "    on=[\"method\", \"distance_threshold\"]\n",
    ")"
   ]
  },
  {
   "cell_type": "code",
   "execution_count": null,
   "id": "09a84387",
   "metadata": {},
   "outputs": [],
   "source": [
    "tsne_grid.head()"
   ]
  },
  {
   "cell_type": "code",
   "execution_count": null,
   "id": "145fa91b",
   "metadata": {},
   "outputs": [],
   "source": [
    "tsne_mean_validation_mcc = tsne_grid.groupby([\n",
    "    \"method\",\n",
    "    \"distance_threshold\",\n",
    "    \"perplexity\",\n",
    "    \"learning_rate\"\n",
    "])[\"validation_mcc\"].mean().reset_index().sort_values(\n",
    "    \"validation_mcc\",\n",
    "    ascending=False\n",
    ")"
   ]
  },
  {
   "cell_type": "code",
   "execution_count": null,
   "id": "0f4bdcf1",
   "metadata": {},
   "outputs": [],
   "source": [
    "tsne_mean_validation_mcc"
   ]
  },
  {
   "cell_type": "code",
   "execution_count": null,
   "id": "7725f109",
   "metadata": {},
   "outputs": [],
   "source": [
    "tsne_max_validation_mcc = tsne_mean_validation_mcc.sort_values(\"validation_mcc\", ascending=False).head(1)"
   ]
  },
  {
   "cell_type": "code",
   "execution_count": null,
   "id": "82011094",
   "metadata": {},
   "outputs": [],
   "source": [
    "tsne_max_validation_mcc"
   ]
  },
  {
   "cell_type": "code",
   "execution_count": null,
   "id": "722a9708",
   "metadata": {},
   "outputs": [],
   "source": [
    "tsne_max_validation_mcc.to_csv(\n",
    "    snakemake.output.tsne_parameters,\n",
    "    index=False,\n",
    ")"
   ]
  },
  {
   "cell_type": "code",
   "execution_count": null,
   "id": "81e53db1",
   "metadata": {},
   "outputs": [],
   "source": [
    "facet_grid = sns.catplot(\n",
    "    data=tsne_grid,\n",
    "    x=\"perplexity\",\n",
    "    y=\"validation_mcc\",\n",
    "    hue=\"learning_rate\",\n",
    "    dodge=True,\n",
    "    alpha=0.75,\n",
    ")\n",
    "\n",
    "for ax in facet_grid.axes.flatten():\n",
    "    ax.set_ylim(0, 1)"
   ]
  },
  {
   "cell_type": "markdown",
   "id": "06a097f8",
   "metadata": {},
   "outputs": [],
   "source": [
    "As we’ve seen before, learning rate doesn’t matter much, but perplexity does."
   ]
  },
  {
   "cell_type": "markdown",
   "id": "a19cc4f8",
   "metadata": {},
   "outputs": [],
   "source": [
    "### UMAP"
   ]
  },
  {
   "cell_type": "code",
   "execution_count": null,
   "id": "282c3ef1",
   "metadata": {},
   "outputs": [],
   "source": [
    "umap_max_training_mcc = max_training_mcc.query(\"method == 'umap'\")"
   ]
  },
  {
   "cell_type": "code",
   "execution_count": null,
   "id": "a246e0a9",
   "metadata": {},
   "outputs": [],
   "source": [
    "umap_grid = umap_max_training_mcc.merge(\n",
    "    grid,\n",
    "    on=[\"method\", \"distance_threshold\"]\n",
    ")"
   ]
  },
  {
   "cell_type": "code",
   "execution_count": null,
   "id": "871496cb",
   "metadata": {},
   "outputs": [],
   "source": [
    "umap_grid.head()"
   ]
  },
  {
   "cell_type": "code",
   "execution_count": null,
   "id": "52bdf4ad",
   "metadata": {},
   "outputs": [],
   "source": [
    "umap_mean_validation_mcc = umap_grid.groupby([\n",
    "    \"method\",\n",
    "    \"distance_threshold\",\n",
    "    \"min_dist\",\n",
    "    \"n_neighbors\"\n",
    "])[\"validation_mcc\"].mean().reset_index().sort_values(\n",
    "    \"validation_mcc\",\n",
    "    ascending=False\n",
    ")"
   ]
  },
  {
   "cell_type": "code",
   "execution_count": null,
   "id": "4979005e",
   "metadata": {},
   "outputs": [],
   "source": [
    "umap_mean_validation_mcc"
   ]
  },
  {
   "cell_type": "code",
   "execution_count": null,
   "id": "428b5afb",
   "metadata": {},
   "outputs": [],
   "source": [
    "umap_max_validation_mcc = umap_mean_validation_mcc.sort_values(\"validation_mcc\", ascending=False).head(1)"
   ]
  },
  {
   "cell_type": "code",
   "execution_count": null,
   "id": "f4b9c332",
   "metadata": {},
   "outputs": [],
   "source": [
    "umap_max_validation_mcc"
   ]
  },
  {
   "cell_type": "code",
   "execution_count": null,
   "id": "7d917fee",
   "metadata": {},
   "outputs": [],
   "source": [
    "umap_max_validation_mcc.to_csv(\n",
    "    snakemake.output.umap_parameters,\n",
    "    index=False,\n",
    ")"
   ]
  },
  {
   "cell_type": "code",
   "execution_count": null,
   "id": "1979a84c",
   "metadata": {},
   "outputs": [],
   "source": [
    "facet_grid = sns.catplot(\n",
    "    data=umap_grid,\n",
    "    x=\"min_dist\",\n",
    "    y=\"validation_mcc\",\n",
    "    hue=\"n_neighbors\",\n",
    "    dodge=True,\n",
    "    alpha=0.75,\n",
    ")\n",
    "\n",
    "for ax in facet_grid.axes.flatten():\n",
    "    ax.set_ylim(0, 1)"
   ]
  },
  {
   "cell_type": "markdown",
   "id": "bab26608",
   "metadata": {},
   "outputs": [],
   "source": [
    "In contrast with t-SNE's parameters, UMAP appears robust across all tested parameter combinations, producing roughly the same MCC values for all combinations. Although the optimal parameter combination is min_dist=0.05, n_neighbors=50 (MCC=0.681), the second best combination of min_dist=0.05, n_neighbors=100 has an MCC=0.6796)."
   ]
  },
  {
   "cell_type": "code",
   "execution_count": null,
   "id": "195c61e1",
   "metadata": {},
   "outputs": [],
   "source": []
  }
 ],
 "metadata": {
  "kernelspec": {
   "display_name": "Python 3",
   "language": "python",
   "name": "python3"
  },
  "language_info": {
   "codemirror_mode": {
    "name": "ipython",
    "version": 3
   },
   "file_extension": ".py",
   "mimetype": "text/x-python",
   "name": "python",
   "nbconvert_exporter": "python",
   "pygments_lexer": "ipython3",
   "version": "3.7.10"
  }
 },
 "nbformat": 4,
 "nbformat_minor": 5
}
