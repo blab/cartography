{
 "cells": [
  {
   "cell_type": "code",
   "execution_count": 3,
   "id": "7d2088eb",
   "metadata": {},
   "outputs": [],
   "source": [
    "import matplotlib as mpl\n",
    "import matplotlib.pyplot as plt\n",
    "import pandas as pd\n",
    "import seaborn as sns\n",
    "\n",
    "%matplotlib inline"
   ]
  },
  {
   "cell_type": "code",
   "execution_count": 4,
   "id": "2b0c4e13",
   "metadata": {},
   "outputs": [],
   "source": [
    "sns.set_style(\"white\")"
   ]
  },
  {
   "cell_type": "code",
   "execution_count": 5,
   "id": "5ea1b717",
   "metadata": {},
   "outputs": [],
   "source": [
    "# Display figures at a reasonable default size.\n",
    "mpl.rcParams['figure.figsize'] = (6, 4)\n",
    "\n",
    "# Disable top and right spines.\n",
    "mpl.rcParams['axes.spines.top'] = False\n",
    "mpl.rcParams['axes.spines.right'] = False\n",
    "    \n",
    "# Display and save figures at higher resolution for presentations and manuscripts.\n",
    "mpl.rcParams['savefig.dpi'] = 300\n",
    "mpl.rcParams['figure.dpi'] = 300\n",
    "\n",
    "# Display text at sizes large enough for presentations and manuscripts.\n",
    "mpl.rcParams['font.weight'] = \"normal\"\n",
    "mpl.rcParams['axes.labelweight'] = \"normal\"\n",
    "mpl.rcParams['font.size'] = 14\n",
    "mpl.rcParams['axes.labelsize'] = 14\n",
    "mpl.rcParams['legend.fontsize'] = 12\n",
    "mpl.rcParams['xtick.labelsize'] = 14\n",
    "mpl.rcParams['ytick.labelsize'] = 14"
   ]
  },
  {
   "cell_type": "markdown",
   "id": "fb35de3b",
   "metadata": {},
   "outputs": [],
   "source": [
    "## Load data\n",
    "\n",
    "Load exhaustive grid search data. For each possible embedding method, corresponding method parameters, and HDBSCAN distance threshold, we produced an embedding for training and validation data (using 2-fold validation with 3 repeats for N=6 cross-validation iterations per parameter combination), assigned clusters to each embedding, and evaluated how well all pairs of strains in the data were assigned to the same or different cluster compared to predetermined clade assignments."
   ]
  },
  {
   "cell_type": "code",
   "execution_count": 6,
   "id": "e1443ced",
   "metadata": {},
   "outputs": [],
   "source": [
    "grid = pd.read_csv(snakemake.input.table, sep=\"\\t\")"
   ]
  },
  {
   "cell_type": "code",
   "execution_count": 7,
   "id": "5fb0c60f",
   "metadata": {},
   "outputs": [],
   "source": [
    "grid.head()"
   ]
  },
  {
   "cell_type": "code",
   "execution_count": 8,
   "id": "6c0a3aa9",
   "metadata": {},
   "outputs": [],
   "source": [
    "list(grid.columns)"
   ]
  },
  {
   "cell_type": "markdown",
   "id": "02961951",
   "metadata": {},
   "outputs": [],
   "source": [
    "## Identify the distance threshold that maximized the training accuracy\n",
    "\n",
    "We want to identify the distance threshold for HDBSCAN cluster assignment that produces the most accurate clusters (based on known clade assignments) across each method. To find this optimal threshold, we calculate the mean training MCC value across all cross-validation iterations for a given method and set of method parameters and find the threshold that maximizes this mean across each method."
   ]
  },
  {
   "cell_type": "code",
   "execution_count": 9,
   "id": "fb1e74aa",
   "metadata": {},
   "outputs": [],
   "source": [
    "mean_training_mcc_by_method = grid.groupby([\"method\", \"distance_threshold\"])[\"training_mcc\"].mean().reset_index()"
   ]
  },
  {
   "cell_type": "code",
   "execution_count": 10,
   "id": "ca03e57e",
   "metadata": {},
   "outputs": [],
   "source": [
    "mean_training_mcc_by_method"
   ]
  },
  {
   "cell_type": "code",
   "execution_count": 11,
   "id": "4aad8f06",
   "metadata": {},
   "outputs": [],
   "source": [
    "facet_grid = sns.relplot(\n",
    "    data=grid,\n",
    "    x=\"distance_threshold\",\n",
    "    y=\"training_mcc\",\n",
    "    col=\"method\",\n",
    "    col_wrap=2,\n",
    "    alpha=0.5,\n",
    ")\n",
    "\n",
    "for ax in facet_grid.axes.flatten():\n",
    "    ax.set_ylim(0, 1)\n",
    "    \n",
    "plt.tight_layout()\n",
    "plt.savefig(snakemake.output.mcc_by_method_and_distance_threshold)"
   ]
  },
  {
   "cell_type": "code",
   "execution_count": 12,
   "id": "d450b361",
   "metadata": {},
   "outputs": [],
   "source": [
    "facet_grid = sns.relplot(\n",
    "    data=grid,\n",
    "    x=\"distance_threshold\",\n",
    "    y=\"validation_mcc\",\n",
    "    col=\"method\",\n",
    "    col_wrap=2,\n",
    "    alpha=0.5,\n",
    ")\n",
    "\n",
    "for ax in facet_grid.axes.flatten():\n",
    "    ax.set_ylim(0, 1)\n",
    "    \n",
    "plt.tight_layout()\n",
    "plt.savefig(snakemake.output.mcc_by_method_and_distance_threshold)"
   ]
  },
  {
   "cell_type": "code",
   "execution_count": 74,
   "id": "76b2e766",
   "metadata": {},
   "outputs": [],
   "source": [
    "grid"
   ]
  },
  {
   "cell_type": "code",
   "execution_count": 75,
   "id": "bc66a083",
   "metadata": {},
   "outputs": [],
   "source": [
    "mean_training_mcc_df = grid.groupby(by=[\"method\", \"distance_threshold\"])[\"training_mcc\"].mean().reset_index()"
   ]
  },
  {
   "cell_type": "code",
   "execution_count": 76,
   "id": "6664811f",
   "metadata": {},
   "outputs": [],
   "source": [
    "max_training_mcc = mean_training_mcc_df.sort_values([\"method\", \"training_mcc\"], ascending=False).groupby(\"method\", sort=False).first()\n",
    "max_training_mcc.to_csv(snakemake.output.thresholds)"
   ]
  },
  {
   "cell_type": "code",
   "execution_count": 77,
   "id": "759c932b",
   "metadata": {},
   "outputs": [],
   "source": [
    "facet_grid = sns.relplot(\n",
    "    data=grid.query(\"method == 't-sne'\"),\n",
    "    x=\"distance_threshold\",\n",
    "    y=\"training_mcc\",\n",
    "    col=\"learning_rate\",\n",
    "    row=\"perplexity\",\n",
    "    alpha=0.75,\n",
    ")\n",
    "\n",
    "for ax in facet_grid.axes.flatten():\n",
    "    ax.set_ylim(0, 1)"
   ]
  },
  {
   "cell_type": "code",
   "execution_count": 78,
   "id": "7918f50e",
   "metadata": {},
   "outputs": [],
   "source": [
    "facet_grid = sns.relplot(\n",
    "    data=grid.query(\"method == 'umap'\"),\n",
    "    x=\"distance_threshold\",\n",
    "    y=\"training_mcc\",\n",
    "    col=\"n_neighbors\",\n",
    "    row=\"min_dist\",\n",
    "    alpha=0.75,\n",
    ")\n",
    "\n",
    "for ax in facet_grid.axes.flatten():\n",
    "    ax.set_ylim(0, 1)"
   ]
  },
  {
   "cell_type": "markdown",
   "id": "0d23d47e",
   "metadata": {},
   "outputs": [],
   "source": [
    "## Identify optimal method parameter values\n",
    "\n",
    "Given the distance threshold that maximizes the training MCC above (threshold=4 for t-SNE and threshold=2 for UMAP), we next identify the combination of method parameters that maximizes the validation MCC for that distance threshold."
   ]
  },
  {
   "cell_type": "code",
   "execution_count": 79,
   "id": "7792f0d3",
   "metadata": {},
   "outputs": [],
   "source": [
    "tsne_df = max_training_mcc.query(\"method == 't-sne'\").merge(grid, on=[\"method\", \"distance_threshold\"])"
   ]
  },
  {
   "cell_type": "code",
   "execution_count": 63,
   "id": "17ddd74d",
   "metadata": {},
   "outputs": [],
   "source": [
    "mean_validation_mcc_tsne = tsne_df.groupby([\"method\", \"perplexity\", \"learning_rate\", \"distance_threshold\"])[\"validation_mcc\"].mean().reset_index().sort_values(\n",
    "    \"validation_mcc\",\n",
    "    ascending=False\n",
    ")"
   ]
  },
  {
   "cell_type": "code",
   "execution_count": 64,
   "id": "a0f310e8",
   "metadata": {
    "scrolled": true
   },
   "outputs": [],
   "source": [
    "#output this dataframe\n",
    "mean_validation_mcc_tsne"
   ]
  },
  {
   "cell_type": "code",
   "execution_count": 65,
   "id": "9949e0f5",
   "metadata": {},
   "outputs": [],
   "source": [
    "mean_validation_mcc_tsne.head(1).to_csv(snakemake.output.tsne_parameters)"
   ]
  },
  {
   "cell_type": "code",
   "execution_count": 66,
   "id": "97c9465a",
   "metadata": {},
   "outputs": [],
   "source": [
    "umap_df = max_training_mcc.query(\"method == 'umap'\").merge(grid, on=[\"method\", \"distance_threshold\"])"
   ]
  },
  {
   "cell_type": "code",
   "execution_count": 67,
   "id": "8c0ed2be",
   "metadata": {},
   "outputs": [],
   "source": [
    "mean_validation_mcc_umap = umap_df.groupby([\"method\", \"min_dist\", \"n_neighbors\", \"distance_threshold\"])[\"validation_mcc\"].mean().reset_index().sort_values(\n",
    "    \"validation_mcc\",\n",
    "    ascending=False\n",
    ")"
   ]
  },
  {
   "cell_type": "code",
   "execution_count": 68,
   "id": "9a9f76f4",
   "metadata": {
    "scrolled": true
   },
   "outputs": [],
   "source": [
    "#output this dataframe\n",
    "mean_validation_mcc_umap"
   ]
  },
  {
   "cell_type": "code",
   "execution_count": 69,
   "id": "6e777e17",
   "metadata": {},
   "outputs": [],
   "source": [
    "mean_validation_mcc_umap.head(1).to_csv(snakemake.output.umap_parameters)"
   ]
  },
  {
   "cell_type": "code",
   "execution_count": 70,
   "id": "58cd2bcb",
   "metadata": {},
   "outputs": [],
   "source": [
    "mds_df = max_training_mcc.query(\"method == 'mds'\").merge(grid, on=[\"method\", \"distance_threshold\"])"
   ]
  },
  {
   "cell_type": "code",
   "execution_count": 71,
   "id": "1832c531",
   "metadata": {},
   "outputs": [],
   "source": [
    "mean_validation_mcc_mds = mds_df.groupby([\"method\", \"distance_threshold\"])[\"validation_mcc\"].mean().reset_index().sort_values(\n",
    "    \"validation_mcc\",\n",
    "    ascending=False\n",
    ")"
   ]
  },
  {
   "cell_type": "code",
   "execution_count": 72,
   "id": "1ef3e436",
   "metadata": {
    "scrolled": true
   },
   "outputs": [],
   "source": [
    "#output this dataframe\n",
    "mean_validation_mcc_mds"
   ]
  },
  {
   "cell_type": "code",
   "execution_count": 52,
   "id": "8adfdce4",
   "metadata": {},
   "outputs": [],
   "source": [
    "mean_validation_mcc_mds.head(1).to_csv(snakemake.output.mds_parameters)"
   ]
  },
  {
   "cell_type": "code",
   "execution_count": 57,
   "id": "308d8c3a",
   "metadata": {},
   "outputs": [],
   "source": [
    "pca_df = max_training_mcc.query(\"method == 'pca'\").merge(grid, on=[\"method\", \"distance_threshold\"])"
   ]
  },
  {
   "cell_type": "code",
   "execution_count": 58,
   "id": "024fba67",
   "metadata": {},
   "outputs": [],
   "source": [
    "mean_validation_mcc_pca = pca_df.groupby([\"method\", \"distance_threshold\"])[\"validation_mcc\"].mean().reset_index().sort_values(\n",
    "    \"validation_mcc\",\n",
    "    ascending=False\n",
    ")"
   ]
  },
  {
   "cell_type": "code",
   "execution_count": 59,
   "id": "1401b881",
   "metadata": {
    "scrolled": true
   },
   "outputs": [],
   "source": [
    "#output this dataframe\n",
    "mean_validation_mcc_pca"
   ]
  },
  {
   "cell_type": "code",
   "execution_count": 61,
   "id": "17f83cc9",
   "metadata": {},
   "outputs": [],
   "source": [
    "mean_validation_mcc_pca.head(1).to_csv(snakemake.output.pca_parameters)"
   ]
  },
  {
   "cell_type": "code",
   "execution_count": null,
   "id": "3498002f",
   "metadata": {},
   "outputs": [],
   "source": []
  },
  {
   "cell_type": "code",
   "execution_count": 53,
   "id": "786fd56a",
   "metadata": {},
   "outputs": [],
   "source": [
    "facet_grid = sns.catplot(\n",
    "    data=grid.query(\"(method == 't-sne') & (distance_threshold == 4)\"),\n",
    "    x=\"perplexity\",\n",
    "    y=\"validation_mcc\",\n",
    "    hue=\"learning_rate\",\n",
    "    dodge=True,\n",
    "    alpha=0.75,\n",
    ")\n",
    "\n",
    "for ax in facet_grid.axes.flatten():\n",
    "    ax.set_ylim(0, 1)"
   ]
  },
  {
   "cell_type": "markdown",
   "id": "a46d5072",
   "metadata": {},
   "outputs": [],
   "source": [
    "As we’ve seen before, learning rate doesn’t matter much, but perplexity does. The maximum validation MCC for t-SNE is at perplexity=30 and learning rate = 200, which is what we’ve been using."
   ]
  },
  {
   "cell_type": "code",
   "execution_count": 16,
   "id": "8bd93416",
   "metadata": {},
   "outputs": [],
   "source": [
    "facet_grid = sns.catplot(\n",
    "    data=grid.query(\"(method == 'umap') & (distance_threshold == 2)\"),\n",
    "    x=\"min_dist\",\n",
    "    y=\"validation_mcc\",\n",
    "    hue=\"n_neighbors\",\n",
    "    dodge=True,\n",
    "    alpha=0.75,\n",
    ")\n",
    "\n",
    "for ax in facet_grid.axes.flatten():\n",
    "    ax.set_ylim(0, 1)"
   ]
  },
  {
   "cell_type": "markdown",
   "id": "c5c5b96d",
   "metadata": {},
   "outputs": [],
   "source": [
    "In contrast with t-SNE's parameters, UMAP appears robust across all tested parameter combinations, producing roughly the same MCC values for all combinations. Although the optimal parameter combination is min_dist=0.05, n_neighbors=50 (MCC=0.681), the second best combination of min_dist=0.05, n_neighbors=100 has an MCC=0.6796)."
   ]
  },
  {
   "cell_type": "code",
   "execution_count": null,
   "id": "7b7d7db6",
   "metadata": {},
   "outputs": [],
   "source": []
  }
 ],
 "metadata": {
  "kernelspec": {
   "display_name": "Python 3",
   "language": "python",
   "name": "python3"
  },
  "language_info": {
   "codemirror_mode": {
    "name": "ipython",
    "version": 3
   },
   "file_extension": ".py",
   "mimetype": "text/x-python",
   "name": "python",
   "nbconvert_exporter": "python",
   "pygments_lexer": "ipython3",
   "version": "3.8.2"
  }
 },
 "nbformat": 4,
 "nbformat_minor": 5
}
