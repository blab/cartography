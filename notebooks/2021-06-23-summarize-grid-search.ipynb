{
 "cells": [
  {
   "cell_type": "code",
   "execution_count": null,
   "id": "008a21ca",
   "metadata": {},
   "outputs": [],
   "source": [
    "import matplotlib as mpl\n",
    "import matplotlib.pyplot as plt\n",
    "import pandas as pd\n",
    "import seaborn as sns\n",
    "\n",
    "%matplotlib inline"
   ]
  },
  {
   "cell_type": "code",
   "execution_count": null,
   "id": "4377b206",
   "metadata": {},
   "outputs": [],
   "source": [
    "sns.set_style(\"white\")"
   ]
  },
  {
   "cell_type": "code",
   "execution_count": null,
   "id": "9c2d9230",
   "metadata": {},
   "outputs": [],
   "source": [
    "# Display figures at a reasonable default size.\n",
    "mpl.rcParams['figure.figsize'] = (6, 4)\n",
    "\n",
    "# Disable top and right spines.\n",
    "mpl.rcParams['axes.spines.top'] = False\n",
    "mpl.rcParams['axes.spines.right'] = False\n",
    "    \n",
    "# Display and save figures at higher resolution for presentations and manuscripts.\n",
    "mpl.rcParams['savefig.dpi'] = 300\n",
    "mpl.rcParams['figure.dpi'] = 300\n",
    "\n",
    "# Display text at sizes large enough for presentations and manuscripts.\n",
    "mpl.rcParams['font.weight'] = \"normal\"\n",
    "mpl.rcParams['axes.labelweight'] = \"normal\"\n",
    "mpl.rcParams['font.size'] = 14\n",
    "mpl.rcParams['axes.labelsize'] = 14\n",
    "mpl.rcParams['legend.fontsize'] = 12\n",
    "mpl.rcParams['xtick.labelsize'] = 14\n",
    "mpl.rcParams['ytick.labelsize'] = 14"
   ]
  },
  {
   "cell_type": "markdown",
   "id": "fb51a223",
   "metadata": {},
   "outputs": [],
   "source": [
    "## Load data\n",
    "\n",
    "Load exhaustive grid search data. For each possible embedding method, corresponding method parameters, and HDBSCAN distance threshold, we produced an embedding for training and validation data (using 2-fold validation with 3 repeats for N=6 cross-validation iterations per parameter combination), assigned clusters to each embedding, and evaluated how well all pairs of strains in the data were assigned to the same or different cluster compared to predetermined clade assignments."
   ]
  },
  {
   "cell_type": "code",
   "execution_count": null,
   "id": "678944ba",
   "metadata": {},
   "outputs": [],
   "source": [
    "grid = pd.read_csv(snakemake.input.table, sep=\"\\t\")\n",
    "#grid = pd.read_csv(\"../seasonal-flu-nextstrain/results/gridsearch.tsv\", sep=\"\\t\")"
   ]
  },
  {
   "cell_type": "code",
   "execution_count": null,
   "id": "2d7c577a",
   "metadata": {},
   "outputs": [],
   "source": [
    "grid.head()"
   ]
  },
  {
   "cell_type": "code",
   "execution_count": null,
   "id": "4c80d4e7",
   "metadata": {},
   "outputs": [],
   "source": [
    "list(grid.columns)"
   ]
  },
  {
   "cell_type": "markdown",
   "id": "3edd2df9",
   "metadata": {},
   "outputs": [],
   "source": [
    "## Identify the distance threshold that maximized the training accuracy\n",
    "\n",
    "We want to identify the distance threshold for HDBSCAN cluster assignment that produces the most accurate clusters (based on known clade assignments) across each method. To find this optimal threshold, we calculate the mean training MCC value across all cross-validation iterations for a given method and set of method parameters and find the threshold that maximizes this mean across each method."
   ]
  },
  {
   "cell_type": "code",
   "execution_count": null,
   "id": "875cfff9",
   "metadata": {},
   "outputs": [],
   "source": [
    "mean_training_mcc_by_method = grid.groupby([\"method\", \"distance_threshold\"])[\"training_mcc\"].mean().reset_index()"
   ]
  },
  {
   "cell_type": "code",
   "execution_count": null,
   "id": "7c86d657",
   "metadata": {},
   "outputs": [],
   "source": [
    "mean_training_mcc_by_method"
   ]
  },
  {
   "cell_type": "code",
   "execution_count": null,
   "id": "c127ea38",
   "metadata": {},
   "outputs": [],
   "source": [
    "facet_grid = sns.relplot(\n",
    "    data=grid,\n",
    "    x=\"distance_threshold\",\n",
    "    y=\"training_mcc\",\n",
    "    col=\"method\",\n",
    "    col_wrap=2,\n",
    "    alpha=0.5,\n",
    ")\n",
    "\n",
    "for ax in facet_grid.axes.flatten():\n",
    "    ax.set_ylim(0, 1)\n",
    "    \n",
    "plt.tight_layout()\n",
    "plt.savefig(snakemake.output.mcc_by_method_and_distance_threshold)"
   ]
  },
  {
   "cell_type": "markdown",
   "id": "72caf69b",
   "metadata": {},
   "outputs": [],
   "source": [
    "Calculate the mean training MCC for each method and distance threshold across all cross-validation iterations. The maximum mean training MCC per method identifies the optimal distance threshold for that method."
   ]
  },
  {
   "cell_type": "code",
   "execution_count": null,
   "id": "3d750099",
   "metadata": {},
   "outputs": [],
   "source": [
    "training_mcc = grid.groupby([\"method\", \"distance_threshold\"]).aggregate(\n",
    "    {\"training_mcc\": [\"mean\", \"std\"]}\n",
    ").reset_index().droplevel(1, axis=1).set_axis(\n",
    "    [\"method\", \"distance_threshold\", \"training_mcc_mean\", \"training_mcc_stddev\"],\n",
    "    axis=\"columns\"\n",
    ")"
   ]
  },
  {
   "cell_type": "code",
   "execution_count": null,
   "id": "e53e3669",
   "metadata": {},
   "outputs": [],
   "source": [
    "training_mcc"
   ]
  },
  {
   "cell_type": "code",
   "execution_count": null,
   "id": "4b6d6326",
   "metadata": {},
   "outputs": [],
   "source": [
    "max_training_mcc = training_mcc.sort_values([\n",
    "    \"method\",\n",
    "    \"training_mcc_mean\"\n",
    "], ascending=False).groupby(\n",
    "    \"method\",\n",
    "    sort=False\n",
    ").first().reset_index()"
   ]
  },
  {
   "cell_type": "code",
   "execution_count": null,
   "id": "37975db1",
   "metadata": {},
   "outputs": [],
   "source": [
    "max_training_mcc"
   ]
  },
  {
   "cell_type": "code",
   "execution_count": null,
   "id": "76d766fc",
   "metadata": {
    "tags": []
   },
   "outputs": [],
   "source": [
    "if \"perplexity\" in grid.columns:\n",
    "    facet_grid = sns.relplot(\n",
    "        data=grid.query(\"method == 't-sne'\"),\n",
    "        x=\"distance_threshold\",\n",
    "        y=\"training_mcc\",\n",
    "        col=\"learning_rate\",\n",
    "        row=\"perplexity\",\n",
    "        alpha=0.75,\n",
    "    )\n",
    "\n",
    "    for ax in facet_grid.axes.flatten():\n",
    "        ax.set_ylim(0, 1)"
   ]
  },
  {
   "cell_type": "code",
   "execution_count": null,
   "id": "6064c4b0",
   "metadata": {},
   "outputs": [],
   "source": [
    "if \"min_dist\" in grid.columns:\n",
    "    facet_grid = sns.relplot(\n",
    "        data=grid.query(\"method == 'umap'\"),\n",
    "        x=\"distance_threshold\",\n",
    "        y=\"training_mcc\",\n",
    "        col=\"n_neighbors\",\n",
    "        row=\"min_dist\",\n",
    "        alpha=0.75,\n",
    "    )\n",
    "\n",
    "    for ax in facet_grid.axes.flatten():\n",
    "        ax.set_ylim(0, 1)"
   ]
  },
  {
   "cell_type": "markdown",
   "id": "b32390aa",
   "metadata": {},
   "outputs": [],
   "source": [
    "### PCA"
   ]
  },
  {
   "cell_type": "code",
   "execution_count": null,
   "id": "fcc609ab",
   "metadata": {},
   "outputs": [],
   "source": [
    "pca_max_training_mcc = max_training_mcc.query(\"method == 'pca'\")"
   ]
  },
  {
   "cell_type": "code",
   "execution_count": null,
   "id": "4d386d48",
   "metadata": {},
   "outputs": [],
   "source": [
    "pca_max_training_mcc"
   ]
  },
  {
   "cell_type": "code",
   "execution_count": null,
   "id": "385d0749",
   "metadata": {},
   "outputs": [],
   "source": [
    "try:\n",
    "    pca_max_training_mcc.to_csv(\n",
    "        snakemake.output.pca_parameters,\n",
    "        index=False,\n",
    "    )\n",
    "except:\n",
    "    print(\"does not exist\")"
   ]
  },
  {
   "cell_type": "markdown",
   "id": "904614b3",
   "metadata": {
    "tags": []
   },
   "outputs": [],
   "source": [
    "### MDS"
   ]
  },
  {
   "cell_type": "code",
   "execution_count": null,
   "id": "fdae0073",
   "metadata": {},
   "outputs": [],
   "source": [
    "mds_max_training_mcc = max_training_mcc.query(\"method == 'mds'\")"
   ]
  },
  {
   "cell_type": "code",
   "execution_count": null,
   "id": "c71399bf",
   "metadata": {},
   "outputs": [],
   "source": [
    "mds_grid = mds_max_training_mcc.merge(\n",
    "    grid,\n",
    "    on=[\"method\", \"distance_threshold\"]\n",
    ")"
   ]
  },
  {
   "cell_type": "code",
   "execution_count": null,
   "id": "e0ae7b13",
   "metadata": {},
   "outputs": [],
   "source": [
    "mds_grid.head()"
   ]
  },
  {
   "cell_type": "code",
   "execution_count": null,
   "id": "cd0b7e90",
   "metadata": {},
   "outputs": [],
   "source": [
    "try:\n",
    "    mds_mean_validation_mcc = mds_grid.groupby([\n",
    "        \"method\",\n",
    "        \"distance_threshold\",\n",
    "        \"n_components\"\n",
    "    ])[\"validation_mcc\"].mean().reset_index().sort_values(\n",
    "        \"validation_mcc\",\n",
    "        ascending=False\n",
    "    )\n",
    "except:\n",
    "    mds_mean_validation_mcc = mds_grid.groupby([\n",
    "        \"method\",\n",
    "        \"distance_threshold\"\n",
    "    ])[\"validation_mcc\"].mean().reset_index().sort_values(\n",
    "        \"validation_mcc\",\n",
    "        ascending=False\n",
    "    )"
   ]
  },
  {
   "cell_type": "code",
   "execution_count": null,
   "id": "1f3697f4",
   "metadata": {},
   "outputs": [],
   "source": [
    "mds_mean_validation_mcc"
   ]
  },
  {
   "cell_type": "code",
   "execution_count": null,
   "id": "9a792930",
   "metadata": {},
   "outputs": [],
   "source": [
    "mds_max_validation_mcc = mds_mean_validation_mcc.sort_values(\"validation_mcc\", ascending=False).head(1)"
   ]
  },
  {
   "cell_type": "code",
   "execution_count": null,
   "id": "8f22cdaa",
   "metadata": {},
   "outputs": [],
   "source": [
    "mds_max_validation_mcc"
   ]
  },
  {
   "cell_type": "code",
   "execution_count": null,
   "id": "32de697f",
   "metadata": {},
   "outputs": [],
   "source": [
    "try:\n",
    "    mds_max_validation_mcc.to_csv(\n",
    "        snakemake.output.mds_parameters,\n",
    "        index=False,\n",
    "    )\n",
    "except:\n",
    "    print(\"not a parameter\")"
   ]
  },
  {
   "cell_type": "code",
   "execution_count": null,
   "id": "c4c3d7e6",
   "metadata": {},
   "outputs": [],
   "source": [
    "try: \n",
    "    facet_grid = sns.catplot(\n",
    "        data=mds_grid,\n",
    "        x=\"n_components\",\n",
    "        y=\"validation_mcc\",\n",
    "        dodge=True,\n",
    "        alpha=0.75,\n",
    "    )\n",
    "    \n",
    "    for ax in facet_grid.axes.flatten():\n",
    "        ax.set_ylim(0, 1)\n",
    "\n",
    "    plt.savefig(snakemake.output.mcc_by_mds_parameters)\n",
    "except:\n",
    "    print(\"no need for params\")\n",
    "    "
   ]
  },
  {
   "cell_type": "markdown",
   "id": "4500e0a3",
   "metadata": {},
   "outputs": [],
   "source": [
    "## Identify optimal method parameter values\n",
    "\n",
    "Given the distance threshold that maximizes the training MCC above (threshold=4 for t-SNE and threshold=2 for UMAP), we next identify the combination of method parameters that maximizes the validation MCC for that distance threshold."
   ]
  },
  {
   "cell_type": "markdown",
   "id": "b32a1bfe",
   "metadata": {},
   "outputs": [],
   "source": [
    "### t-SNE"
   ]
  },
  {
   "cell_type": "code",
   "execution_count": null,
   "id": "f26ac634",
   "metadata": {},
   "outputs": [],
   "source": [
    "tsne_max_training_mcc = max_training_mcc.query(\"method == 't-sne'\")"
   ]
  },
  {
   "cell_type": "code",
   "execution_count": null,
   "id": "fefba2f1",
   "metadata": {},
   "outputs": [],
   "source": [
    "tsne_grid = tsne_max_training_mcc.merge(\n",
    "    grid,\n",
    "    on=[\"method\", \"distance_threshold\"]\n",
    ")"
   ]
  },
  {
   "cell_type": "code",
   "execution_count": null,
   "id": "08bd1fec",
   "metadata": {},
   "outputs": [],
   "source": [
    "tsne_grid.head()"
   ]
  },
  {
   "cell_type": "code",
   "execution_count": null,
   "id": "67c62257",
   "metadata": {},
   "outputs": [],
   "source": [
    "try:\n",
    "    tsne_mean_validation_mcc = tsne_grid.groupby([\n",
    "        \"method\",\n",
    "        \"distance_threshold\",\n",
    "        \"perplexity\",\n",
    "        \"learning_rate\"\n",
    "    ])[\"validation_mcc\"].mean().reset_index().sort_values(\n",
    "        \"validation_mcc\",\n",
    "        ascending=False\n",
    "    )\n",
    "except:\n",
    "    tsne_mean_validation_mcc = tsne_grid.groupby([\n",
    "        \"method\",\n",
    "        \"distance_threshold\"\n",
    "    ])[\"validation_mcc\"].mean().reset_index().sort_values(\n",
    "        \"validation_mcc\",\n",
    "        ascending=False\n",
    "    )"
   ]
  },
  {
   "cell_type": "code",
   "execution_count": null,
   "id": "43907f53",
   "metadata": {},
   "outputs": [],
   "source": [
    "tsne_mean_validation_mcc"
   ]
  },
  {
   "cell_type": "code",
   "execution_count": null,
   "id": "4440ed86",
   "metadata": {},
   "outputs": [],
   "source": [
    "tsne_max_validation_mcc = tsne_mean_validation_mcc.sort_values(\"validation_mcc\", ascending=False).head(1)"
   ]
  },
  {
   "cell_type": "code",
   "execution_count": null,
   "id": "e6504a6c",
   "metadata": {},
   "outputs": [],
   "source": [
    "tsne_max_validation_mcc"
   ]
  },
  {
   "cell_type": "code",
   "execution_count": null,
   "id": "db2614d5",
   "metadata": {},
   "outputs": [],
   "source": [
    "try:\n",
    "    tsne_max_validation_mcc.to_csv(\n",
    "        snakemake.output.tsne_parameters,\n",
    "        index=False,\n",
    "    )\n",
    "except:\n",
    "    print(\"not a parameter\")"
   ]
  },
  {
   "cell_type": "code",
   "execution_count": null,
   "id": "e02089c7",
   "metadata": {},
   "outputs": [],
   "source": [
    "try: \n",
    "    facet_grid = sns.catplot(\n",
    "        data=tsne_grid,\n",
    "        x=\"perplexity\",\n",
    "        y=\"validation_mcc\",\n",
    "        hue=\"learning_rate\",\n",
    "        dodge=True,\n",
    "        alpha=0.75,\n",
    "    )\n",
    "    \n",
    "    for ax in facet_grid.axes.flatten():\n",
    "        ax.set_ylim(0, 1)\n",
    "\n",
    "    plt.savefig(snakemake.output.mcc_by_tsne_parameters)\n",
    "except:\n",
    "    print(\"no need for params\")\n",
    "    \n"
   ]
  },
  {
   "cell_type": "markdown",
   "id": "ee0894d4",
   "metadata": {},
   "outputs": [],
   "source": [
    "### UMAP"
   ]
  },
  {
   "cell_type": "code",
   "execution_count": null,
   "id": "5027a74a",
   "metadata": {},
   "outputs": [],
   "source": [
    "umap_max_training_mcc = max_training_mcc.query(\"method == 'umap'\")"
   ]
  },
  {
   "cell_type": "code",
   "execution_count": null,
   "id": "78a76678",
   "metadata": {},
   "outputs": [],
   "source": [
    "umap_grid = umap_max_training_mcc.merge(\n",
    "    grid,\n",
    "    on=[\"method\", \"distance_threshold\"]\n",
    ")"
   ]
  },
  {
   "cell_type": "code",
   "execution_count": null,
   "id": "cb936163",
   "metadata": {},
   "outputs": [],
   "source": [
    "umap_grid.head()"
   ]
  },
  {
   "cell_type": "code",
   "execution_count": null,
   "id": "9ab27a1d",
   "metadata": {},
   "outputs": [],
   "source": [
    "try:\n",
    "    umap_mean_validation_mcc = umap_grid.groupby([\n",
    "        \"method\",\n",
    "        \"distance_threshold\",\n",
    "        \"min_dist\",\n",
    "        \"n_neighbors\"\n",
    "    ])[\"validation_mcc\"].mean().reset_index().sort_values(\n",
    "        \"validation_mcc\",\n",
    "        ascending=False\n",
    "    )\n",
    "except:\n",
    "    umap_mean_validation_mcc = umap_grid.groupby([\n",
    "        \"method\",\n",
    "        \"distance_threshold\"\n",
    "    ])[\"validation_mcc\"].mean().reset_index().sort_values(\n",
    "        \"validation_mcc\",\n",
    "        ascending=False\n",
    "    )"
   ]
  },
  {
   "cell_type": "code",
   "execution_count": null,
   "id": "1ac7ca48",
   "metadata": {},
   "outputs": [],
   "source": [
    "umap_mean_validation_mcc"
   ]
  },
  {
   "cell_type": "code",
   "execution_count": null,
   "id": "689800c6",
   "metadata": {},
   "outputs": [],
   "source": [
    "umap_max_validation_mcc = umap_mean_validation_mcc.sort_values(\"validation_mcc\", ascending=False).head(1)"
   ]
  },
  {
   "cell_type": "code",
   "execution_count": null,
   "id": "16b1d57d",
   "metadata": {},
   "outputs": [],
   "source": [
    "umap_max_validation_mcc"
   ]
  },
  {
   "cell_type": "code",
   "execution_count": null,
   "id": "397c8fb3",
   "metadata": {},
   "outputs": [],
   "source": [
    "try:\n",
    "    umap_max_validation_mcc.to_csv(\n",
    "        snakemake.output.umap_parameters,\n",
    "        index=False,\n",
    "    )\n",
    "except:\n",
    "    print(\"not a parameter\")"
   ]
  },
  {
   "cell_type": "code",
   "execution_count": null,
   "id": "b799728b",
   "metadata": {},
   "outputs": [],
   "source": [
    "try:\n",
    "    facet_grid = sns.catplot(\n",
    "        data=umap_grid,\n",
    "        x=\"min_dist\",\n",
    "        y=\"validation_mcc\",\n",
    "        hue=\"n_neighbors\",\n",
    "        dodge=True,\n",
    "        alpha=0.75,\n",
    "    )\n",
    "    for ax in facet_grid.axes.flatten():\n",
    "        ax.set_ylim(0, 1)\n",
    "\n",
    "    plt.savefig(snakemake.output.mcc_by_umap_parameters)\n",
    "\n",
    "except:\n",
    "    print(\"no need for params\")\n",
    "\n"
   ]
  },
  {
   "cell_type": "code",
   "execution_count": null,
   "id": "ec267cd2",
   "metadata": {},
   "outputs": [],
   "source": []
  }
 ],
 "metadata": {
  "kernelspec": {
   "display_name": "Python 3 (ipykernel)",
   "language": "python",
   "name": "python3"
  },
  "language_info": {
   "codemirror_mode": {
    "name": "ipython",
    "version": 3
   },
   "file_extension": ".py",
   "mimetype": "text/x-python",
   "name": "python",
   "nbconvert_exporter": "python",
   "pygments_lexer": "ipython3",
   "version": "3.7.12"
  }
 },
 "nbformat": 4,
 "nbformat_minor": 5
}
