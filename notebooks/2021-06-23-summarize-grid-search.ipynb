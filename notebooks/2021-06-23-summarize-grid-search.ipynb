{
 "cells": [
  {
   "cell_type": "code",
   "execution_count": null,
   "id": "b0300c8d",
   "metadata": {},
   "outputs": [],
   "source": [
    "import matplotlib as mpl\n",
    "import matplotlib.pyplot as plt\n",
    "import pandas as pd\n",
    "import seaborn as sns\n",
    "\n",
    "%matplotlib inline"
   ]
  },
  {
   "cell_type": "code",
   "execution_count": null,
   "id": "786b10f4",
   "metadata": {},
   "outputs": [],
   "source": [
    "sns.set_style(\"white\")"
   ]
  },
  {
   "cell_type": "code",
   "execution_count": null,
   "id": "5d7fd148",
   "metadata": {},
   "outputs": [],
   "source": [
    "# Display figures at a reasonable default size.\n",
    "mpl.rcParams['figure.figsize'] = (6, 4)\n",
    "\n",
    "# Disable top and right spines.\n",
    "mpl.rcParams['axes.spines.top'] = False\n",
    "mpl.rcParams['axes.spines.right'] = False\n",
    "    \n",
    "# Display and save figures at higher resolution for presentations and manuscripts.\n",
    "mpl.rcParams['savefig.dpi'] = 300\n",
    "mpl.rcParams['figure.dpi'] = 300\n",
    "\n",
    "# Display text at sizes large enough for presentations and manuscripts.\n",
    "mpl.rcParams['font.weight'] = \"normal\"\n",
    "mpl.rcParams['axes.labelweight'] = \"normal\"\n",
    "mpl.rcParams['font.size'] = 14\n",
    "mpl.rcParams['axes.labelsize'] = 14\n",
    "mpl.rcParams['legend.fontsize'] = 12\n",
    "mpl.rcParams['xtick.labelsize'] = 14\n",
    "mpl.rcParams['ytick.labelsize'] = 14"
   ]
  },
  {
   "cell_type": "markdown",
   "id": "1cc1fb2f",
   "metadata": {},
   "outputs": [],
   "source": [
    "## Load data\n",
    "\n",
    "Load exhaustive grid search data. For each possible embedding method, corresponding method parameters, and HDBSCAN distance threshold, we produced an embedding for training and validation data (using 2-fold validation with 3 repeats for N=6 cross-validation iterations per parameter combination), assigned clusters to each embedding, and evaluated how well all pairs of strains in the data were assigned to the same or different cluster compared to predetermined clade assignments."
   ]
  },
  {
   "cell_type": "code",
   "execution_count": null,
   "id": "3a470032",
   "metadata": {},
   "outputs": [],
   "source": [
    "grid = pd.read_csv(snakemake.input.table, sep=\"\\t\")"
   ]
  },
  {
   "cell_type": "code",
   "execution_count": null,
   "id": "05410c97",
   "metadata": {},
   "outputs": [],
   "source": [
    "grid.head()"
   ]
  },
  {
   "cell_type": "code",
   "execution_count": null,
   "id": "99752edb",
   "metadata": {},
   "outputs": [],
   "source": [
    "list(grid.columns)"
   ]
  },
  {
   "cell_type": "markdown",
   "id": "95923158",
   "metadata": {},
   "outputs": [],
   "source": [
    "## Identify the distance threshold that maximized the training accuracy\n",
    "\n",
    "We want to identify the distance threshold for HDBSCAN cluster assignment that produces the most accurate clusters (based on known clade assignments) across each method. To find this optimal threshold, we calculate the mean training MCC value across all cross-validation iterations for a given method and set of method parameters and find the threshold that maximizes this mean across each method."
   ]
  },
  {
   "cell_type": "code",
   "execution_count": null,
   "id": "d6c88a83",
   "metadata": {},
   "outputs": [],
   "source": [
    "mean_training_mcc_by_method = grid.groupby([\"method\", \"distance_threshold\"])[\"training_mcc\"].mean().reset_index()"
   ]
  },
  {
   "cell_type": "code",
   "execution_count": null,
   "id": "0b49786f",
   "metadata": {},
   "outputs": [],
   "source": [
    "mean_training_mcc_by_method"
   ]
  },
  {
   "cell_type": "code",
   "execution_count": null,
   "id": "8e1dd856",
   "metadata": {},
   "outputs": [],
   "source": [
    "facet_grid = sns.relplot(\n",
    "    data=grid,\n",
    "    x=\"distance_threshold\",\n",
    "    y=\"training_mcc\",\n",
    "    col=\"method\",\n",
    "    col_wrap=2,\n",
    "    alpha=0.5,\n",
    ")\n",
    "\n",
    "for ax in facet_grid.axes.flatten():\n",
    "    ax.set_ylim(0, 1)\n",
    "    \n",
    "plt.tight_layout()\n",
    "plt.savefig(snakemake.output.mcc_by_method_and_distance_threshold)"
   ]
  },
  {
   "cell_type": "markdown",
   "id": "04bb8826",
   "metadata": {},
   "outputs": [],
   "source": [
    "Calculate the mean training MCC for each method and distance threshold across all cross-validation iterations. The maximum mean training MCC per method identifies the optimal distance threshold for that method."
   ]
  },
  {
   "cell_type": "code",
   "execution_count": null,
   "id": "b1a5e5f2",
   "metadata": {},
   "outputs": [],
   "source": [
    "training_mcc = grid.groupby([\"method\", \"distance_threshold\"]).aggregate(\n",
    "    {\"training_mcc\": [\"mean\", \"std\"]}\n",
    ").reset_index().droplevel(1, axis=1).set_axis(\n",
    "    [\"method\", \"distance_threshold\", \"training_mcc_mean\", \"training_mcc_stddev\"],\n",
    "    axis=\"columns\"\n",
    ")"
   ]
  },
  {
   "cell_type": "code",
   "execution_count": null,
   "id": "76ed5426",
   "metadata": {},
   "outputs": [],
   "source": [
    "training_mcc"
   ]
  },
  {
   "cell_type": "code",
   "execution_count": null,
   "id": "c140f37d",
   "metadata": {},
   "outputs": [],
   "source": [
    "max_training_mcc = training_mcc.sort_values([\n",
    "    \"method\",\n",
    "    \"training_mcc_mean\"\n",
    "], ascending=False).groupby(\n",
    "    \"method\",\n",
    "    sort=False\n",
    ").first().reset_index()"
   ]
  },
  {
   "cell_type": "code",
   "execution_count": null,
   "id": "e1b8bb6d",
   "metadata": {},
   "outputs": [],
   "source": [
    "max_training_mcc"
   ]
  },
  {
   "cell_type": "code",
   "execution_count": null,
   "id": "679550f9",
   "metadata": {
    "tags": []
   },
   "outputs": [],
   "source": [
    "if \"perplexity\" in grid.columns:\n",
    "    facet_grid = sns.relplot(\n",
    "        data=grid.query(\"method == 't-sne'\"),\n",
    "        x=\"distance_threshold\",\n",
    "        y=\"training_mcc\",\n",
    "        col=\"learning_rate\",\n",
    "        row=\"perplexity\",\n",
    "        alpha=0.75,\n",
    "    )\n",
    "\n",
    "    for ax in facet_grid.axes.flatten():\n",
    "        ax.set_ylim(0, 1)"
   ]
  },
  {
   "cell_type": "code",
   "execution_count": null,
   "id": "5d3b4423",
   "metadata": {},
   "outputs": [],
   "source": [
    "if \"min_dist\" in grid.columns:\n",
    "    facet_grid = sns.relplot(\n",
    "        data=grid.query(\"method == 'umap'\"),\n",
    "        x=\"distance_threshold\",\n",
    "        y=\"training_mcc\",\n",
    "        col=\"n_neighbors\",\n",
    "        row=\"min_dist\",\n",
    "        alpha=0.75,\n",
    "    )\n",
    "\n",
    "    for ax in facet_grid.axes.flatten():\n",
    "        ax.set_ylim(0, 1)"
   ]
  },
  {
   "cell_type": "markdown",
   "id": "1c0f7af1",
   "metadata": {},
   "outputs": [],
   "source": [
    "### PCA"
   ]
  },
  {
   "cell_type": "code",
   "execution_count": null,
   "id": "39eeef49",
   "metadata": {},
   "outputs": [],
   "source": [
    "pca_max_training_mcc = max_training_mcc.query(\"method == 'pca'\")"
   ]
  },
  {
   "cell_type": "code",
   "execution_count": null,
   "id": "e5675558",
   "metadata": {},
   "outputs": [],
   "source": [
    "pca_max_training_mcc"
   ]
  },
  {
   "cell_type": "code",
   "execution_count": null,
   "id": "11c85cf7",
   "metadata": {},
   "outputs": [],
   "source": [
    "pca_max_training_mcc.to_csv(\n",
    "    snakemake.output.pca_parameters,\n",
    "    index=False,\n",
    ")"
   ]
  },
  {
   "cell_type": "markdown",
   "id": "ca77d5d2",
   "metadata": {},
   "outputs": [],
   "source": [
    "### MDS"
   ]
  },
  {
   "cell_type": "code",
   "execution_count": null,
   "id": "2167aac3",
   "metadata": {},
   "outputs": [],
   "source": [
    "mds_max_training_mcc = max_training_mcc.query(\"method == 'mds'\")"
   ]
  },
  {
   "cell_type": "code",
   "execution_count": null,
   "id": "e5fabd07",
   "metadata": {},
   "outputs": [],
   "source": [
    "mds_max_training_mcc"
   ]
  },
  {
   "cell_type": "code",
   "execution_count": null,
   "id": "1890de5a",
   "metadata": {},
   "outputs": [],
   "source": [
    "mds_max_training_mcc.to_csv(\n",
    "    snakemake.output.mds_parameters,\n",
    "    index=False,\n",
    ")"
   ]
  },
  {
   "cell_type": "markdown",
   "id": "badb81cb",
   "metadata": {},
   "outputs": [],
   "source": [
    "## Identify optimal method parameter values\n",
    "\n",
    "Given the distance threshold that maximizes the training MCC above (threshold=4 for t-SNE and threshold=2 for UMAP), we next identify the combination of method parameters that maximizes the validation MCC for that distance threshold."
   ]
  },
  {
   "cell_type": "markdown",
   "id": "efef83b1",
   "metadata": {},
   "outputs": [],
   "source": [
    "### t-SNE"
   ]
  },
  {
   "cell_type": "code",
   "execution_count": null,
   "id": "bd29fa55",
   "metadata": {},
   "outputs": [],
   "source": [
    "tsne_max_training_mcc = max_training_mcc.query(\"method == 't-sne'\")"
   ]
  },
  {
   "cell_type": "code",
   "execution_count": null,
   "id": "6ac00b58",
   "metadata": {},
   "outputs": [],
   "source": [
    "tsne_grid = tsne_max_training_mcc.merge(\n",
    "    grid,\n",
    "    on=[\"method\", \"distance_threshold\"]\n",
    ")"
   ]
  },
  {
   "cell_type": "code",
   "execution_count": null,
   "id": "03e50983",
   "metadata": {},
   "outputs": [],
   "source": [
    "tsne_grid.head()"
   ]
  },
  {
   "cell_type": "code",
   "execution_count": null,
   "id": "af3ea0a4",
   "metadata": {},
   "outputs": [],
   "source": [
    "try:\n",
    "    tsne_mean_validation_mcc = tsne_grid.groupby([\n",
    "        \"method\",\n",
    "        \"distance_threshold\",\n",
    "        \"perplexity\",\n",
    "        \"learning_rate\"\n",
    "    ])[\"validation_mcc\"].mean().reset_index().sort_values(\n",
    "        \"validation_mcc\",\n",
    "        ascending=False\n",
    "    )\n",
    "except:\n",
    "    tsne_mean_validation_mcc = tsne_grid.groupby([\n",
    "        \"method\",\n",
    "        \"distance_threshold\"\n",
    "    ])[\"validation_mcc\"].mean().reset_index().sort_values(\n",
    "        \"validation_mcc\",\n",
    "        ascending=False\n",
    "    )"
   ]
  },
  {
   "cell_type": "code",
   "execution_count": null,
   "id": "42f542eb",
   "metadata": {},
   "outputs": [],
   "source": [
    "tsne_mean_validation_mcc"
   ]
  },
  {
   "cell_type": "code",
   "execution_count": null,
   "id": "5a7ca81a",
   "metadata": {},
   "outputs": [],
   "source": [
    "tsne_max_validation_mcc = tsne_mean_validation_mcc.sort_values(\"validation_mcc\", ascending=False).head(1)"
   ]
  },
  {
   "cell_type": "code",
   "execution_count": null,
   "id": "adc6c7bc",
   "metadata": {},
   "outputs": [],
   "source": [
    "tsne_max_validation_mcc"
   ]
  },
  {
   "cell_type": "code",
   "execution_count": null,
   "id": "2ba500d5",
   "metadata": {},
   "outputs": [],
   "source": [
    "tsne_max_validation_mcc.to_csv(\n",
    "    snakemake.output.tsne_parameters,\n",
    "    index=False,\n",
    ")"
   ]
  },
  {
   "cell_type": "code",
   "execution_count": null,
   "id": "867c17ee",
   "metadata": {},
   "outputs": [],
   "source": [
    "try: \n",
    "    facet_grid = sns.catplot(\n",
    "        data=tsne_grid,\n",
    "        x=\"perplexity\",\n",
    "        y=\"validation_mcc\",\n",
    "        hue=\"learning_rate\",\n",
    "        dodge=True,\n",
    "        alpha=0.75,\n",
    "    )\n",
    "    \n",
    "    for ax in facet_grid.axes.flatten():\n",
    "        ax.set_ylim(0, 1)\n",
    "\n",
    "    plt.savefig(snakemake.output.mcc_by_tsne_parameters)\n",
    "except:\n",
    "    print(\"no need for params\")\n",
    "    \n"
   ]
  },
  {
   "cell_type": "markdown",
   "id": "f0c92080",
   "metadata": {},
   "outputs": [],
   "source": [
    "### UMAP"
   ]
  },
  {
   "cell_type": "code",
   "execution_count": null,
   "id": "5470ada5",
   "metadata": {},
   "outputs": [],
   "source": [
    "umap_max_training_mcc = max_training_mcc.query(\"method == 'umap'\")"
   ]
  },
  {
   "cell_type": "code",
   "execution_count": null,
   "id": "edc93484",
   "metadata": {},
   "outputs": [],
   "source": [
    "umap_grid = umap_max_training_mcc.merge(\n",
    "    grid,\n",
    "    on=[\"method\", \"distance_threshold\"]\n",
    ")"
   ]
  },
  {
   "cell_type": "code",
   "execution_count": null,
   "id": "fb20709b",
   "metadata": {},
   "outputs": [],
   "source": [
    "umap_grid.head()"
   ]
  },
  {
   "cell_type": "code",
   "execution_count": null,
   "id": "30c8d7a4",
   "metadata": {},
   "outputs": [],
   "source": [
    "try:\n",
    "    umap_mean_validation_mcc = umap_grid.groupby([\n",
    "        \"method\",\n",
    "        \"distance_threshold\",\n",
    "        \"min_dist\",\n",
    "        \"n_neighbors\"\n",
    "    ])[\"validation_mcc\"].mean().reset_index().sort_values(\n",
    "        \"validation_mcc\",\n",
    "        ascending=False\n",
    "    )\n",
    "except:\n",
    "    umap_mean_validation_mcc = umap_grid.groupby([\n",
    "        \"method\",\n",
    "        \"distance_threshold\"\n",
    "    ])[\"validation_mcc\"].mean().reset_index().sort_values(\n",
    "        \"validation_mcc\",\n",
    "        ascending=False\n",
    "    )"
   ]
  },
  {
   "cell_type": "code",
   "execution_count": null,
   "id": "db3146e6",
   "metadata": {},
   "outputs": [],
   "source": [
    "umap_mean_validation_mcc"
   ]
  },
  {
   "cell_type": "code",
   "execution_count": null,
   "id": "a487b2bc",
   "metadata": {},
   "outputs": [],
   "source": [
    "umap_max_validation_mcc = umap_mean_validation_mcc.sort_values(\"validation_mcc\", ascending=False).head(1)"
   ]
  },
  {
   "cell_type": "code",
   "execution_count": null,
   "id": "c7301aea",
   "metadata": {},
   "outputs": [],
   "source": [
    "umap_max_validation_mcc"
   ]
  },
  {
   "cell_type": "code",
   "execution_count": null,
   "id": "59505fcc",
   "metadata": {},
   "outputs": [],
   "source": [
    "umap_max_validation_mcc.to_csv(\n",
    "    snakemake.output.umap_parameters,\n",
    "    index=False,\n",
    ")"
   ]
  },
  {
   "cell_type": "code",
   "execution_count": null,
   "id": "f67e523b",
   "metadata": {},
   "outputs": [],
   "source": [
    "try:\n",
    "    facet_grid = sns.catplot(\n",
    "        data=umap_grid,\n",
    "        x=\"min_dist\",\n",
    "        y=\"validation_mcc\",\n",
    "        hue=\"n_neighbors\",\n",
    "        dodge=True,\n",
    "        alpha=0.75,\n",
    "    )\n",
    "    for ax in facet_grid.axes.flatten():\n",
    "        ax.set_ylim(0, 1)\n",
    "\n",
    "    plt.savefig(snakemake.output.mcc_by_umap_parameters)\n",
    "\n",
    "except:\n",
    "    print(\"no need for params\")\n",
    "\n"
   ]
  },
  {
   "cell_type": "code",
   "execution_count": null,
   "id": "ad490df1",
   "metadata": {},
   "outputs": [],
   "source": []
  }
 ],
 "metadata": {
  "kernelspec": {
   "display_name": "Python 3",
   "language": "python",
   "name": "python3"
  },
  "language_info": {
   "codemirror_mode": {
    "name": "ipython",
    "version": 3
   },
   "file_extension": ".py",
   "mimetype": "text/x-python",
   "name": "python",
   "nbconvert_exporter": "python",
   "pygments_lexer": "ipython3",
   "version": "3.7.10"
  }
 },
 "nbformat": 4,
 "nbformat_minor": 5
}
