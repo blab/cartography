{
 "cells": [
  {
   "cell_type": "code",
   "execution_count": null,
   "id": "ee9f4163-01b3-4c05-98e6-1cda7217fe8c",
   "metadata": {},
   "outputs": [],
   "source": [
    "import sys\n",
    "sys.path.append(\"notebooks/scripts/\")"
   ]
  },
  {
   "cell_type": "code",
   "execution_count": null,
   "id": "7c6486fc-1bac-485e-b534-38adcf4a0396",
   "metadata": {},
   "outputs": [],
   "source": [
    "import matplotlib as mpl\n",
    "import matplotlib.pyplot as plt\n",
    "import numpy as np\n",
    "import pandas as pd\n",
    "import seaborn as sns"
   ]
  },
  {
   "cell_type": "markdown",
   "id": "7432e29b-f63d-4646-8fe4-f10f86afca70",
   "metadata": {},
   "source": [
    "## Define inputs, outputs, and parameters"
   ]
  },
  {
   "cell_type": "code",
   "execution_count": null,
   "id": "ee8b0027",
   "metadata": {},
   "outputs": [],
   "source": [
    "sns.set_style(\"ticks\")\n",
    "\n",
    "# Disable top and right spines.\n",
    "mpl.rcParams['axes.spines.top'] = False\n",
    "mpl.rcParams['axes.spines.right'] = False\n",
    "\n",
    "# Display and save figures at higher resolution for presentations and manuscripts.\n",
    "mpl.rcParams['savefig.dpi'] = 300\n",
    "mpl.rcParams['figure.dpi'] = 120\n",
    "\n",
    "# Display text at sizes large enough for presentations and manuscripts.\n",
    "mpl.rcParams['font.weight'] = \"normal\"\n",
    "mpl.rcParams['axes.labelweight'] = \"normal\"\n",
    "mpl.rcParams['font.size'] = 14\n",
    "mpl.rcParams['axes.labelsize'] = 14\n",
    "mpl.rcParams['legend.fontsize'] = 10\n",
    "mpl.rcParams['xtick.labelsize'] = 14\n",
    "mpl.rcParams['ytick.labelsize'] = 14\n",
    "mpl.rcParams['axes.titlesize'] = 14\n",
    "mpl.rc('text', usetex=False)"
   ]
  },
  {
   "cell_type": "code",
   "execution_count": null,
   "id": "dc50cafd-a0a5-4974-ab4c-08b02b7914c2",
   "metadata": {},
   "outputs": [],
   "source": [
    "within_between_df_training = pd.read_csv(snakemake.input.within_between_df_training)\n",
    "within_between_df_test = pd.read_csv(snakemake.input.within_between_df_test)\n",
    "within_between_df_sars_training = pd.read_csv(snakemake.input.within_between_df_sars_training)\n",
    "within_between_df_sars_test = pd.read_csv(snakemake.input.within_between_df_sars_test)"
   ]
  },
  {
   "cell_type": "code",
   "execution_count": null,
   "id": "b9991e92-d028-4d77-98ec-5791c4638e79",
   "metadata": {},
   "outputs": [],
   "source": [
    "png_chart_flu = snakemake.output.flu_png\n",
    "png_chart_sars = snakemake.output.sars_png"
   ]
  },
  {
   "cell_type": "code",
   "execution_count": null,
   "id": "6ecad488",
   "metadata": {},
   "outputs": [],
   "source": [
    "flu_labels_to_axis_labels = {\n",
    "    \"clade_membership\": \"Nextstrain clade\",\n",
    "    \"pca_label\": \"PCA cluster\",\n",
    "    \"mds_label\": \"MDS cluster\",\n",
    "    \"t-sne_label\": \"t-SNE cluster\",\n",
    "    \"umap_label\": \"UMAP cluster\",\n",
    "    \"genetic_label\": \"genetic distance cluster\",\n",
    "}"
   ]
  },
  {
   "cell_type": "code",
   "execution_count": null,
   "id": "44e654d9",
   "metadata": {},
   "outputs": [],
   "source": [
    "flu_training_upper_limit = int(\n",
    "    np.ceil(\n",
    "        (within_between_df_training[\"mean\"] + within_between_df_training[\"std\"]).max()\n",
    "    )\n",
    ")"
   ]
  },
  {
   "cell_type": "code",
   "execution_count": null,
   "id": "fa528f93",
   "metadata": {},
   "outputs": [],
   "source": [
    "flu_test_upper_limit = int(\n",
    "    np.ceil(\n",
    "        (within_between_df_test[\"mean\"] + within_between_df_test[\"std\"]).max()\n",
    "    )\n",
    ")"
   ]
  },
  {
   "cell_type": "code",
   "execution_count": null,
   "id": "a8b9ab6d",
   "metadata": {},
   "outputs": [],
   "source": [
    "flu_upper_limit = max(flu_training_upper_limit, flu_test_upper_limit) + 1"
   ]
  },
  {
   "cell_type": "code",
   "execution_count": null,
   "id": "45fe2244-ba14-42ee-a9d4-3a776865dfbd",
   "metadata": {},
   "outputs": [],
   "source": [
    "fig, (ax1, ax2) = plt.subplots(1, 2, figsize=(8.5, 4), sharey=True)\n",
    "\n",
    "x_positions = np.arange(len(within_between_df_training.to_numpy()) // 2)\n",
    "\n",
    "within_df = within_between_df_training[within_between_df_training[\"comparison\"] == \"within\"].copy()\n",
    "between_df = within_between_df_training[within_between_df_training[\"comparison\"] == \"between\"].copy()\n",
    "\n",
    "ax1.errorbar(\n",
    "    within_df[\"mean\"][::-1],\n",
    "    x_positions - 0.05,\n",
    "    xerr=within_df[\"std\"][::-1],\n",
    "    fmt='o',\n",
    "    color=\"blue\",\n",
    "    label=\"within\",\n",
    "    capsize=2,\n",
    ")\n",
    "ax1.errorbar(\n",
    "    between_df[\"mean\"][::-1],\n",
    "    x_positions + 0.05,\n",
    "    xerr=between_df[\"std\"][::-1],\n",
    "    fmt='o',\n",
    "    color=\"orange\",\n",
    "    label=\"between\",\n",
    "    capsize=2,\n",
    ")\n",
    "\n",
    "ax1.set_yticks(x_positions)\n",
    "y_labels = list(reversed(within_df[\"group\"].map(flu_labels_to_axis_labels).values))\n",
    "ax1.set_yticklabels(y_labels)\n",
    "\n",
    "ax1.set_xlim(0, flu_upper_limit)\n",
    "\n",
    "ax1.set_title(\"H3N2 HA 2016-2018\")\n",
    "ax1.set_xlabel(\"Pairwise nucleotide distance\")\n",
    "ax1.set_ylabel(\"Group\")\n",
    "\n",
    "within_df = within_between_df_test[within_between_df_test[\"comparison\"] == \"within\"].copy()\n",
    "between_df = within_between_df_test[within_between_df_test[\"comparison\"] == \"between\"].copy()\n",
    "\n",
    "ax2.errorbar(\n",
    "    within_df[\"mean\"][::-1],\n",
    "    x_positions - 0.05,\n",
    "    xerr=within_df[\"std\"][::-1],\n",
    "    fmt='o',\n",
    "    color=\"blue\",\n",
    "    label=\"within\",\n",
    "    capsize=2,\n",
    ")\n",
    "ax2.errorbar(\n",
    "    between_df[\"mean\"][::-1],\n",
    "    x_positions + 0.05,\n",
    "    xerr=between_df[\"std\"][::-1],\n",
    "    fmt='o',\n",
    "    color=\"orange\",\n",
    "    label=\"between\",\n",
    "    capsize=2,\n",
    ")\n",
    "ax2.set_yticks(x_positions)\n",
    "ax2.set_xlim(0, flu_upper_limit)\n",
    "\n",
    "ax2.set_title(\"H3N2 HA 2018-2020\")\n",
    "ax2.set_xlabel(\"Pairwise nucleotide distance\")\n",
    "\n",
    "ax1.legend(\n",
    "    frameon=False,\n",
    "    loc=\"upper right\",\n",
    ")\n",
    "sns.despine()\n",
    "plt.tight_layout()\n",
    "plt.savefig(png_chart_flu)"
   ]
  },
  {
   "cell_type": "code",
   "execution_count": null,
   "id": "63f01d4d-c1a3-42e1-b6a1-9a7c1c34ebf5",
   "metadata": {},
   "outputs": [],
   "source": [
    "sars_labels_to_axis_labels = {\n",
    "    \"Nextstrain_clade\": \"Nextstrain clade\",\n",
    "    \"Nextclade_pango_collapsed\": \"Pango\",\n",
    "    \"pca_label_for_Nextstrain_clade\": \"PCA cluster\",\n",
    "    \"mds_label_for_Nextstrain_clade\": \"MDS cluster\",\n",
    "    \"t-sne_label_for_Nextstrain_clade\": \"t-SNE cluster\",\n",
    "    \"umap_label_for_Nextstrain_clade\": \"UMAP cluster\",\n",
    "    \"genetic_label_for_Nextstrain_clade\": \"genetic distance cluster\",\n",
    "}"
   ]
  },
  {
   "cell_type": "code",
   "execution_count": null,
   "id": "dfd186c5",
   "metadata": {},
   "outputs": [],
   "source": [
    "within_between_df_sars_training_to_plot = within_between_df_sars_training[\n",
    "    within_between_df_sars_training[\"group\"].isin(list(sars_labels_to_axis_labels.keys()))\n",
    "]"
   ]
  },
  {
   "cell_type": "code",
   "execution_count": null,
   "id": "53bde52e",
   "metadata": {},
   "outputs": [],
   "source": [
    "within_between_df_sars_test_to_plot = within_between_df_sars_test[\n",
    "    within_between_df_sars_test[\"group\"].isin(list(sars_labels_to_axis_labels.keys()))\n",
    "]"
   ]
  },
  {
   "cell_type": "code",
   "execution_count": null,
   "id": "e9185470",
   "metadata": {},
   "outputs": [],
   "source": [
    "sars_training_upper_limit = int(\n",
    "    np.ceil(\n",
    "        (within_between_df_sars_training_to_plot[\"mean\"] + within_between_df_sars_training_to_plot[\"std\"]).max()\n",
    "    )\n",
    ")"
   ]
  },
  {
   "cell_type": "code",
   "execution_count": null,
   "id": "107d4d2f",
   "metadata": {},
   "outputs": [],
   "source": [
    "sars_test_upper_limit = int(\n",
    "    np.ceil(\n",
    "        (within_between_df_sars_test_to_plot[\"mean\"] + within_between_df_sars_test_to_plot[\"std\"]).max()\n",
    "    )\n",
    ")"
   ]
  },
  {
   "cell_type": "code",
   "execution_count": null,
   "id": "a9e259fb",
   "metadata": {},
   "outputs": [],
   "source": [
    "sars_upper_limit = max(sars_training_upper_limit, sars_test_upper_limit) + 1"
   ]
  },
  {
   "cell_type": "code",
   "execution_count": null,
   "id": "5bc035b9-0a9b-4e4d-ba39-7400b64700a6",
   "metadata": {},
   "outputs": [],
   "source": [
    "fig, (ax1, ax2) = plt.subplots(1, 2, figsize=(8.5, 4), sharex=True, sharey=True)\n",
    "\n",
    "# Training\n",
    "within_df = within_between_df_sars_training_to_plot[\n",
    "    within_between_df_sars_training_to_plot[\"comparison\"] == \"within\"\n",
    "].copy()\n",
    "between_df = within_between_df_sars_training_to_plot[\n",
    "    within_between_df_sars_training_to_plot[\"comparison\"] == \"between\"\n",
    "].copy()\n",
    "\n",
    "y_positions = np.arange(within_df.shape[0])\n",
    "y_labels = list(reversed(within_df[\"group\"].map(sars_labels_to_axis_labels).values))\n",
    "\n",
    "ax1.errorbar(\n",
    "    within_df[\"mean\"][::-1],\n",
    "    y_positions - 0.1,\n",
    "    xerr=within_df[\"std\"][::-1],\n",
    "    fmt='o',\n",
    "    color=\"blue\",\n",
    "    label=\"within\",\n",
    "    capsize=2,\n",
    ")\n",
    "ax1.errorbar(\n",
    "    between_df[\"mean\"][::-1],\n",
    "    y_positions + 0.1,\n",
    "    xerr=between_df[\"std\"][::-1],\n",
    "    fmt='o',\n",
    "    color=\"orange\",\n",
    "    label=\"between\",\n",
    "    capsize=2,\n",
    ")\n",
    "\n",
    "ax1.set_yticks(y_positions)\n",
    "ax1.set_yticklabels(y_labels)\n",
    "\n",
    "ax1.set_xlim(0, sars_upper_limit)\n",
    "\n",
    "ax1.set_title(\"SARS-CoV-2 2020-2022\")\n",
    "ax1.set_xlabel(\"Pairwise nucleotide distance\")\n",
    "ax1.set_ylabel(\"Group\")\n",
    "\n",
    "# Test\n",
    "within_df = within_between_df_sars_test_to_plot[\n",
    "    within_between_df_sars_test_to_plot[\"comparison\"] == \"within\"\n",
    "].copy()\n",
    "between_df = within_between_df_sars_test_to_plot[\n",
    "    within_between_df_sars_test_to_plot[\"comparison\"] == \"between\"\n",
    "].copy()\n",
    "\n",
    "ax2.errorbar(\n",
    "    within_df[\"mean\"][::-1],\n",
    "    y_positions - 0.1,\n",
    "    xerr=within_df[\"std\"][::-1],\n",
    "    fmt='o',\n",
    "    color=\"blue\",\n",
    "    label=\"within\",\n",
    "    capsize=2,\n",
    ")\n",
    "ax2.errorbar(\n",
    "    between_df[\"mean\"][::-1],\n",
    "    y_positions + 0.1,\n",
    "    xerr=between_df[\"std\"][::-1],\n",
    "    fmt='o',\n",
    "    color=\"orange\",\n",
    "    label=\"between\",\n",
    "    capsize=2,\n",
    ")\n",
    "\n",
    "ax2.set_title(\"SARS-CoV-2 2022-2023\")\n",
    "ax2.set_xlabel(\"Pairwise nucleotide distance\")\n",
    "\n",
    "ax1.legend(\n",
    "    frameon=False,\n",
    "    loc=(0.6, 0.8),\n",
    ")\n",
    "\n",
    "sns.despine()\n",
    "plt.tight_layout()\n",
    "plt.savefig(png_chart_sars)"
   ]
  },
  {
   "cell_type": "code",
   "execution_count": null,
   "id": "937e3ba6-e790-47a3-a448-60173ba69a40",
   "metadata": {},
   "outputs": [],
   "source": []
  }
 ],
 "metadata": {
  "kernelspec": {
   "display_name": "Python 3 (ipykernel)",
   "language": "python",
   "name": "python3"
  },
  "language_info": {
   "codemirror_mode": {
    "name": "ipython",
    "version": 3
   },
   "file_extension": ".py",
   "mimetype": "text/x-python",
   "name": "python",
   "nbconvert_exporter": "python",
   "pygments_lexer": "ipython3",
   "version": "3.9.17"
  }
 },
 "nbformat": 4,
 "nbformat_minor": 5
}
