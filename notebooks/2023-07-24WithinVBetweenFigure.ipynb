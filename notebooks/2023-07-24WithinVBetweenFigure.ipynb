{
 "cells": [
  {
   "cell_type": "code",
   "execution_count": null,
   "id": "ee9f4163-01b3-4c05-98e6-1cda7217fe8c",
   "metadata": {},
   "outputs": [],
   "source": [
    "import sys\n",
    "sys.path.append(\"notebooks/scripts/\")"
   ]
  },
  {
   "cell_type": "code",
   "execution_count": null,
   "id": "7c6486fc-1bac-485e-b534-38adcf4a0396",
   "metadata": {},
   "outputs": [],
   "source": [
    "import matplotlib as mpl\n",
    "import matplotlib.pyplot as plt\n",
    "import numpy as np\n",
    "import pandas as pd\n",
    "import seaborn as sns"
   ]
  },
  {
   "cell_type": "markdown",
   "id": "7432e29b-f63d-4646-8fe4-f10f86afca70",
   "metadata": {},
   "source": [
    "## Define inputs, outputs, and parameters"
   ]
  },
  {
   "cell_type": "code",
   "execution_count": null,
   "id": "ee8b0027",
   "metadata": {},
   "outputs": [],
   "source": [
    "sns.set_style(\"ticks\")\n",
    "\n",
    "# Disable top and right spines.\n",
    "mpl.rcParams['axes.spines.top'] = False\n",
    "mpl.rcParams['axes.spines.right'] = False\n",
    "\n",
    "# Display and save figures at higher resolution for presentations and manuscripts.\n",
    "mpl.rcParams['savefig.dpi'] = 300\n",
    "mpl.rcParams['figure.dpi'] = 120\n",
    "\n",
    "# Display text at sizes large enough for presentations and manuscripts.\n",
    "mpl.rcParams['font.weight'] = \"normal\"\n",
    "mpl.rcParams['axes.labelweight'] = \"normal\"\n",
    "mpl.rcParams['font.size'] = 14\n",
    "mpl.rcParams['axes.labelsize'] = 14\n",
    "mpl.rcParams['legend.fontsize'] = 10\n",
    "mpl.rcParams['xtick.labelsize'] = 14\n",
    "mpl.rcParams['ytick.labelsize'] = 14\n",
    "mpl.rcParams['axes.titlesize'] = 14\n",
    "mpl.rc('text', usetex=False)"
   ]
  },
  {
   "cell_type": "code",
   "execution_count": null,
   "id": "dc50cafd-a0a5-4974-ab4c-08b02b7914c2",
   "metadata": {},
   "outputs": [],
   "source": [
    "within_between_df_training = pd.read_csv(snakemake.input.within_between_df_training)\n",
    "within_between_df_test = pd.read_csv(snakemake.input.within_between_df_test)\n",
    "within_between_df_sars_training = pd.read_csv(snakemake.input.within_between_df_sars_training)\n",
    "within_between_df_sars_test = pd.read_csv(snakemake.input.within_between_df_sars_test)"
   ]
  },
  {
   "cell_type": "code",
   "execution_count": null,
   "id": "b9991e92-d028-4d77-98ec-5791c4638e79",
   "metadata": {},
   "outputs": [],
   "source": [
    "png_chart_flu = snakemake.output.flu_png\n",
    "png_chart_sars = snakemake.output.sars_png"
   ]
  },
  {
   "cell_type": "code",
   "execution_count": null,
   "id": "6ecad488",
   "metadata": {},
   "outputs": [],
   "source": [
    "y_labels"
   ]
  },
  {
   "cell_type": "code",
   "execution_count": null,
   "id": "44e654d9",
   "metadata": {},
   "outputs": [],
   "source": [
    "flu_labels_to_axis_labels = {\n",
    "    \"clade_membership\": \"Nextstrain clade\",\n",
    "    \"pca_label\": \"PCA\",\n",
    "    \"mds_label\": \"MDS\",\n",
    "    \"t-sne_label\": \"t-SNE\",\n",
    "    \"umap_label\": \"UMAP\",\n",
    "}"
   ]
  },
  {
   "cell_type": "code",
   "execution_count": null,
   "id": "45fe2244-ba14-42ee-a9d4-3a776865dfbd",
   "metadata": {},
   "outputs": [],
   "source": [
    "fig, (ax1, ax2) = plt.subplots(1, 2, figsize=(8, 4), sharey=True)\n",
    "\n",
    "x_positions = np.arange(len(within_between_df_training.to_numpy()) // 2)\n",
    "\n",
    "within_df = within_between_df_training[within_between_df_training[\"comparison\"] == \"within\"].copy()\n",
    "between_df = within_between_df_training[within_between_df_training[\"comparison\"] == \"between\"].copy()\n",
    "\n",
    "ax1.errorbar(\n",
    "    within_df[\"mean\"][::-1],\n",
    "    x_positions - 0.05,\n",
    "    xerr=within_df[\"std\"][::-1],\n",
    "    fmt='o',\n",
    "    color=\"blue\",\n",
    "    label=\"within\",\n",
    "    capsize=2,\n",
    ")\n",
    "ax1.errorbar(\n",
    "    between_df[\"mean\"][::-1],\n",
    "    x_positions + 0.05,\n",
    "    xerr=between_df[\"std\"][::-1],\n",
    "    fmt='o',\n",
    "    color=\"orange\",\n",
    "    label=\"between\",\n",
    "    capsize=2,\n",
    ")\n",
    "ax1.set_yticks(x_positions)\n",
    "y_labels = list(reversed(within_df[\"group\"].map(flu_labels_to_axis_labels).values))\n",
    "ax1.set_yticklabels(y_labels)\n",
    "ax1.set_xlim(0, 70)\n",
    "\n",
    "ax1.set_title(\"Influenza H3N2 HA 2016-2018\")\n",
    "\n",
    "within_df = within_between_df_test[within_between_df_test[\"comparison\"] == \"within\"].copy()\n",
    "between_df = within_between_df_test[within_between_df_test[\"comparison\"] == \"between\"].copy()\n",
    "\n",
    "ax2.errorbar(\n",
    "    within_df[\"mean\"][::-1],\n",
    "    x_positions - 0.05,\n",
    "    xerr=within_df[\"std\"][::-1],\n",
    "    fmt='o',\n",
    "    color=\"blue\",\n",
    "    label=\"within\",\n",
    "    capsize=2,\n",
    ")\n",
    "ax2.errorbar(\n",
    "    between_df[\"mean\"][::-1],\n",
    "    x_positions + 0.05,\n",
    "    xerr=between_df[\"std\"][::-1],\n",
    "    fmt='o',\n",
    "    color=\"orange\",\n",
    "    label=\"between\",\n",
    "    capsize=2,\n",
    ")\n",
    "ax2.set_yticks(x_positions)\n",
    "ax2.set_xlim(0, 70)\n",
    "\n",
    "ax2.set_title(\"Influenza H3N2 HA 2018-2020\")\n",
    "\n",
    "ax1.legend(\n",
    "    frameon=False,\n",
    "    loc=\"upper right\",\n",
    ")\n",
    "sns.despine()\n",
    "plt.tight_layout()\n",
    "plt.savefig(png_chart_flu)"
   ]
  },
  {
   "cell_type": "code",
   "execution_count": null,
   "id": "63f01d4d-c1a3-42e1-b6a1-9a7c1c34ebf5",
   "metadata": {},
   "outputs": [],
   "source": [
    "def make_subplot_sars(df, ax, nextstrain_or_pango, label): #'Nextstrain_clade' or 'pango'\n",
    "    grouped = df.groupby(df[\"group\"].str.contains(nextstrain_or_pango))\n",
    "    \n",
    "    group = grouped.get_group(True)\n",
    "\n",
    "    y_ticklabels = []\n",
    "\n",
    "    x_positions = np.arange(len(group.to_numpy()) // 2)\n",
    "\n",
    "    ax.errorbar(group[group[\"comparison\"] == \"within\"][\"mean\"][::-1], x_positions, xerr= group[group[\"comparison\"] == \"within\"][\"std\"][::-1], fmt='o', color=\"blue\", label=label + \" within\", capsize=2)\n",
    "    ax.errorbar(group[group[\"comparison\"] == \"between\"][\"mean\"][::-1], x_positions + 0.2, xerr= group[group[\"comparison\"] == \"between\"][\"std\"][::-1], fmt='o', color=\"orange\", label=label + \" between\", capsize=2)\n",
    "    y_ticklabels = [\"\"] + [val.replace(\"_for_\" + str(nextstrain_or_pango), \"\") for val in list(group[group[\"comparison\"] == \"within\"][\"group\"])[::-1]]\n",
    "    y_ticklabels[-1] = \"clade_membership\"\n",
    "\n",
    "    ax.set_yticklabels(y_ticklabels)\n",
    "    ax.set_xlim(0, 70)\n",
    "\n",
    "    sns.despine()\n",
    "    \n",
    "    return ax"
   ]
  },
  {
   "cell_type": "code",
   "execution_count": null,
   "id": "5bc035b9-0a9b-4e4d-ba39-7400b64700a6",
   "metadata": {},
   "outputs": [],
   "source": [
    "fig, ax = plt.subplots(2, 2, figsize=(9,11), dpi=120, sharex=True, sharey=True)\n",
    "make_subplot_sars(within_between_df_sars_training, ax[0][0], 'Nextstrain_clade', \"Nextstrain clade\") # early, nextclade\n",
    "make_subplot_sars(within_between_df_sars_test, ax[0][1], 'Nextstrain_clade', \"Nextstrain clade\") # late, nextclade\n",
    "make_subplot_sars(within_between_df_sars_training, ax[1][0], 'Nextclade_pango_collapsed', \"Pango\") # early, pango\n",
    "make_subplot_sars(within_between_df_sars_test, ax[1][1], 'Nextclade_pango_collapsed', \"Pango\") # late, pango\n",
    "# late - each method represented twice\n",
    "# clade membership should have both nextstrain clade and pango lineages\n",
    "# share row and col (2 by 2 figures) - left nextstrain clade, right  pango \n",
    "# generate both within_between dataframes for diff clade membership definitions\n",
    "\n",
    "ax[0][0].set_title(\"SARS-CoV-2 2020/2022\")\n",
    "ax[0][1].set_title(\"SARS-CoV-2 2022/2023\")\n",
    "ax[0][0].set_ylabel(\"Nextstrain Clade\")\n",
    "ax[1][0].set_ylabel(\"Nextclade Pango\")\n",
    "\n",
    "ax[0][1].legend(\n",
    "    frameon=False,\n",
    "    bbox_to_anchor=(1.0, 1.0), \n",
    "    loc=\"upper left\"\n",
    ")\n",
    "\n",
    "ax[1][1].legend(\n",
    "    frameon=False,\n",
    "    bbox_to_anchor=(1.0, 1.0), \n",
    "    loc=\"upper left\"\n",
    ")\n",
    "    \n",
    "plt.subplots_adjust(hspace=.0)#, wspace=.0)\n",
    "sns.despine()\n",
    "plt.savefig(png_chart_sars)\n",
    "\n",
    "# make x axis bigger, move legend to x axis of one chart (rotate legend in another way, add y axis buffer to each figure)\n",
    "# replace variable names (pca_label -> pca)\n",
    "# replace clade_membership with actual clade_membership\n",
    "# use nextclade_pango_collapsed in legend not just pango\n",
    "# x axis label (pairwise genetic distance (nucleotides))"
   ]
  },
  {
   "cell_type": "code",
   "execution_count": null,
   "id": "937e3ba6-e790-47a3-a448-60173ba69a40",
   "metadata": {},
   "outputs": [],
   "source": []
  }
 ],
 "metadata": {
  "kernelspec": {
   "display_name": "Python 3 (ipykernel)",
   "language": "python",
   "name": "python3"
  },
  "language_info": {
   "codemirror_mode": {
    "name": "ipython",
    "version": 3
   },
   "file_extension": ".py",
   "mimetype": "text/x-python",
   "name": "python",
   "nbconvert_exporter": "python",
   "pygments_lexer": "ipython3",
   "version": "3.9.18"
  }
 },
 "nbformat": 4,
 "nbformat_minor": 5
}
