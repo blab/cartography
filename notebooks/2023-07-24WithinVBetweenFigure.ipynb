{
 "cells": [
  {
   "cell_type": "code",
   "execution_count": null,
   "id": "ee9f4163-01b3-4c05-98e6-1cda7217fe8c",
   "metadata": {},
   "outputs": [],
   "source": [
    "import sys\n",
    "sys.path.append(\"notebooks/scripts/\")"
   ]
  },
  {
   "cell_type": "markdown",
   "id": "7432e29b-f63d-4646-8fe4-f10f86afca70",
   "metadata": {},
   "source": [
    "## Define inputs, outputs, and parameters"
   ]
  },
  {
   "cell_type": "code",
   "execution_count": null,
   "id": "7c6486fc-1bac-485e-b534-38adcf4a0396",
   "metadata": {},
   "outputs": [],
   "source": [
    "import matplotlib.pyplot as plt "
   ]
  },
  {
   "cell_type": "code",
   "execution_count": null,
   "id": "dc50cafd-a0a5-4974-ab4c-08b02b7914c2",
   "metadata": {},
   "outputs": [],
   "source": [
    "df_path = snakemake.input.dataframe"
   ]
  },
  {
   "cell_type": "code",
   "execution_count": null,
   "id": "b9991e92-d028-4d77-98ec-5791c4638e79",
   "metadata": {},
   "outputs": [],
   "source": [
    "png_chart = snakemake.output.png"
   ]
  },
  {
   "cell_type": "code",
   "execution_count": null,
   "id": "67a723cc-9f28-4108-8def-8f8913539fc1",
   "metadata": {},
   "outputs": [],
   "source": [
    "import pandas as pd\n",
    "within_between_df_training = pd.read_csv(\"../seasonal-flu-nextstrain/results/full_within_between_stats.csv\")\n",
    "within_between_df_test = pd.read_csv(\"../seasonal-flu-nextstrain-2018-2020/results/full_within_between_stats.csv\")\n",
    "within_between_df_sars_training = pd.read_csv(\"../sars-cov-2-nextstrain/results/full_within_between_stats.csv\")\n",
    "within_between_df_sars_test = pd.read_csv(\"../sars-cov-2-nextstrain-2022-2023/results/full_within_between_stats.csv\")"
   ]
  },
  {
   "cell_type": "code",
   "execution_count": null,
   "id": "cc9becc1-79fb-4928-a00a-983227edfd1e",
   "metadata": {},
   "outputs": [],
   "source": [
    "within_between_df_sars_test"
   ]
  },
  {
   "cell_type": "code",
   "execution_count": null,
   "id": "b0857a78-ce68-4ec3-9e28-72feb01d1d10",
   "metadata": {},
   "outputs": [],
   "source": [
    "def make_subplot(df, ax):\n",
    "    x_positions = np.arange(len(df.to_numpy()) // 2)\n",
    "    \n",
    "    ax.errorbar(df[df[\"comparison\"] == \"within\"][\"mean\"][::-1], x_positions, xerr= df[df[\"comparison\"] == \"within\"][\"std\"][::-1], fmt='o', color=\"blue\", label=\"within\", capsize=2)\n",
    "    ax.errorbar(df[df[\"comparison\"] == \"between\"][\"mean\"][::-1], x_positions + 0.1, xerr= df[df[\"comparison\"] == \"between\"][\"std\"][::-1], fmt='o', color=\"orange\", label=\"between\", capsize=2)\n",
    "    ax.set_yticklabels([\"\"] + list(df[df[\"comparison\"] == \"within\"][\"group\"])[::-1])\n",
    "    ax.set_xlim(0, 70)\n",
    "\n",
    "    sns.despine()\n",
    "    return ax"
   ]
  },
  {
   "cell_type": "code",
   "execution_count": null,
   "id": "45fe2244-ba14-42ee-a9d4-3a776865dfbd",
   "metadata": {},
   "outputs": [],
   "source": [
    "import matplotlib.pyplot as plt\n",
    "import numpy as np\n",
    "import seaborn as sns\n",
    "\n",
    "fig, ax = plt.subplots(2, 1, figsize=(6, 9), dpi=120, sharex='col')\n",
    "\n",
    "make_subplot(within_between_df_training, ax[0])\n",
    "make_subplot(within_between_df_test, ax[1])\n",
    "\n",
    "ax[0].set_ylabel(\"H3N2 HA Influenza 2016/2018\")\n",
    "ax[1].set_ylabel(\"H3N2 HA Influenza 2018/2020\")\n",
    "\n",
    "ax[0].legend(\n",
    "    frameon=False,\n",
    "    bbox_to_anchor=(0.8, 1.0), \n",
    "    loc=\"upper left\"\n",
    ")\n",
    "\n",
    "plt.subplots_adjust(hspace=.0)\n",
    "sns.despine()\n",
    "\n",
    "#early and late side by side instead of below eachother"
   ]
  },
  {
   "cell_type": "code",
   "execution_count": null,
   "id": "63f01d4d-c1a3-42e1-b6a1-9a7c1c34ebf5",
   "metadata": {},
   "outputs": [],
   "source": [
    "def make_subplot_sars(df, ax, nextstrain_or_pango, label): #'Nextstrain_clade' or 'pango'\n",
    "    grouped = df.groupby(df[\"group\"].str.contains(nextstrain_or_pango))\n",
    "    \n",
    "    group = grouped.get_group(True)\n",
    "\n",
    "    y_ticklabels = []\n",
    "\n",
    "    x_positions = np.arange(len(group.to_numpy()) // 2)\n",
    "\n",
    "    ax.errorbar(group[group[\"comparison\"] == \"within\"][\"mean\"][::-1], x_positions, xerr= group[group[\"comparison\"] == \"within\"][\"std\"][::-1], fmt='o', color=\"blue\", label=label + \" within\", capsize=2)\n",
    "    ax.errorbar(group[group[\"comparison\"] == \"between\"][\"mean\"][::-1], x_positions + 0.2, xerr= group[group[\"comparison\"] == \"between\"][\"std\"][::-1], fmt='o', color=\"orange\", label=label + \" between\", capsize=2)\n",
    "    y_ticklabels = [\"\"] + [val.replace(\"_for_\" + str(nextstrain_or_pango), \"\") for val in list(group[group[\"comparison\"] == \"within\"][\"group\"])[::-1]]\n",
    "    y_ticklabels[-1] = \"clade_membership\"\n",
    "\n",
    "    ax.set_yticklabels(y_ticklabels)\n",
    "    ax.set_xlim(0, 70)\n",
    "\n",
    "    sns.despine()\n",
    "    \n",
    "    return ax"
   ]
  },
  {
   "cell_type": "code",
   "execution_count": null,
   "id": "5bc035b9-0a9b-4e4d-ba39-7400b64700a6",
   "metadata": {},
   "outputs": [],
   "source": [
    "fig, ax = plt.subplots(2, 2, figsize=(9,9), dpi=120, sharex=True, sharey=True)\n",
    "make_subplot_sars(within_between_df_sars_training, ax[0][0], 'Nextstrain_clade', \"Nextstrain clade\") # early, nextclade\n",
    "make_subplot_sars(within_between_df_sars_test, ax[0][1], 'Nextstrain_clade', \"Nextstrain clade\") # late, nextclade\n",
    "make_subplot_sars(within_between_df_sars_training, ax[1][0], 'Nextclade_pango_collapsed', \"Pango\") # early, pango\n",
    "make_subplot_sars(within_between_df_sars_test, ax[1][1], 'Nextclade_pango_collapsed', \"Pango\") # late, pango\n",
    "# late - each method represented twice\n",
    "# clade membership should have both nextstrain clade and pango lineages\n",
    "# share row and col (2 by 2 figures) - left nextstrain clade, right  pango \n",
    "# generate both within_between dataframes for diff clade membership definitions\n",
    "\n",
    "ax[0][0].set_title(\"SARS-CoV-2 2020/2022\")\n",
    "ax[0][1].set_title(\"SARS-CoV-2 2022/2023\")\n",
    "ax[0][0].set_ylabel(\"Nextstrain Clade\")\n",
    "ax[1][0].set_ylabel(\"Nextclade Pango\")\n",
    "\n",
    "ax[0][1].legend(\n",
    "    frameon=False,\n",
    "    bbox_to_anchor=(1.0, 1.0), \n",
    "    loc=\"upper left\"\n",
    ")\n",
    "\n",
    "ax[1][1].legend(\n",
    "    frameon=False,\n",
    "    bbox_to_anchor=(1.0, 1.0), \n",
    "    loc=\"upper left\"\n",
    ")\n",
    "    \n",
    "plt.subplots_adjust(hspace=.0)#, wspace=.0)\n",
    "sns.despine()\n",
    "\n",
    "# make x axis bigger, move legend to x axis of one chart (rotate legend in another way, add y axis buffer to each figure)\n",
    "# replace variable names (pca_label -> pca)\n",
    "# replace clade_membership with actual clade_membership\n",
    "# use nextclade_pango_collapsed in legend not just pango\n",
    "# x axis label (pairwise genetic distance (nucleotides))"
   ]
  },
  {
   "cell_type": "code",
   "execution_count": null,
   "id": "cb663c93-f130-41aa-b776-64a09e35d46c",
   "metadata": {},
   "outputs": [],
   "source": [
    "within_between_df_test"
   ]
  },
  {
   "cell_type": "code",
   "execution_count": null,
   "id": "853560f4-68f6-4aa4-819b-e238acbb9c4c",
   "metadata": {},
   "outputs": [],
   "source": [
    "# old v new, mcc, clade membership\n",
    "import matplotlib\n",
    "import numpy as np\n",
    "\n",
    "fig, ax = plt.subplots(1, 1, figsize=(8, 4), dpi=120)\n",
    "\n",
    "df = within_between_df_test\n",
    "\n",
    "x_positions = np.arange(len(df.to_numpy()) // 2)\n",
    "\n",
    "ax.errorbar(df[df[\"comparison\"] == \"within\"][\"mean\"],x_positions, xerr= df[df[\"comparison\"] == \"within\"][\"std\"], fmt='o', color=\"blue\")\n",
    "ax.errorbar(df[df[\"comparison\"] == \"between\"][\"mean\"], x_positions + 0.2, xerr= df[df[\"comparison\"] == \"between\"][\"std\"], fmt='o', color=\"orange\")\n",
    "#ax.scatter(within_between_df[\"group\"], within_between_df[\"mean\"], c=cmap(within_between_df[\"comparison\"]), s=100)\n",
    "ax.set_yticklabels([\"\"] + list(df[\"group\"].unique()))\n",
    "ax.set_xlim(0)\n",
    "\n",
    "ax.legend(\n",
    "    frameon=False,\n",
    "    bbox_to_anchor=(1.05, 1.1), \n",
    "    loc=\"upper left\"\n",
    ")\n",
    "sns.despine()"
   ]
  },
  {
   "cell_type": "code",
   "execution_count": null,
   "id": "1f954831-c43b-4ca1-a006-e2c9a6748d53",
   "metadata": {},
   "outputs": [],
   "source": []
  },
  {
   "cell_type": "code",
   "execution_count": null,
   "id": "9e0342a5-f189-43ab-8475-4c8cc2fa3cbc",
   "metadata": {},
   "outputs": [],
   "source": [
    "# old v new, mcc, clade membership\n",
    "import matplotlib\n",
    "import numpy as np\n",
    "\n",
    "fig, ax = plt.subplots(1, 1, figsize=(8, 4), dpi=120)\n",
    "\n",
    "df = within_between_df_sars\n",
    "\n",
    "x_positions = np.arange(len(df.to_numpy()) // 2)\n",
    "\n",
    "ax.errorbar(df[df[\"comparison\"] == \"within\"][\"mean\"],x_positions, xerr= df[df[\"comparison\"] == \"within\"][\"std\"], fmt='o', color=\"blue\")\n",
    "ax.errorbar(df[df[\"comparison\"] == \"between\"][\"mean\"], x_positions + 0.2, xerr= df[df[\"comparison\"] == \"between\"][\"std\"], fmt='o', color=\"orange\")\n",
    "#ax.scatter(within_between_df[\"group\"], within_between_df[\"mean\"], c=cmap(within_between_df[\"comparison\"]), s=100)\n",
    "ax.set_yticklabels([\"\"] + list(df[\"group\"].unique()))\n",
    "ax.set_xlim(0)\n",
    "\n",
    "ax.legend(\n",
    "    frameon=False,\n",
    "    bbox_to_anchor=(1.05, 1.1), \n",
    "    loc=\"upper left\"\n",
    ")\n",
    "sns.despine()"
   ]
  },
  {
   "cell_type": "markdown",
   "id": "4fad0606-10d7-4f51-ad90-a903301217cb",
   "metadata": {},
   "source": [
    "# Annotated Embedding "
   ]
  },
  {
   "cell_type": "code",
   "execution_count": null,
   "id": "49c96af9-2ac1-419b-959b-5055fefda610",
   "metadata": {},
   "outputs": [],
   "source": [
    "def get_parent_y(row):\n",
    "    parent_name = row['parent_name']\n",
    "    if parent_name is not None:\n",
    "        parent_y = annotated_embeddings.loc[annotated_embeddings['strain'] == parent_name, 'y_value'].values\n",
    "        if len(parent_y) > 0:\n",
    "            return parent_y[0]\n",
    "        else:\n",
    "            return row['y_value']\n",
    "    \n",
    "    return np.nan\n",
    "\n",
    "def get_parent_mutation_length(row):\n",
    "    parent_name = row['parent_name']\n",
    "    if parent_name is not None:\n",
    "        parent_y = annotated_embeddings.loc[annotated_embeddings['strain'] == parent_name, 'divergence'].values\n",
    "        if len(parent_y) > 0:\n",
    "            return parent_y[0]\n",
    "        else:\n",
    "            return row['divergence']\n",
    "    \n",
    "    return np.nan"
   ]
  },
  {
   "cell_type": "code",
   "execution_count": null,
   "id": "f2d86a76-5abf-4613-90a7-103ecfe68184",
   "metadata": {},
   "outputs": [],
   "source": [
    "annotated_embeddings = pd.read_csv(\"../seasonal-flu-nextstrain/results/annotated_embeddings.tsv\", sep=\"\\t\")"
   ]
  },
  {
   "cell_type": "code",
   "execution_count": null,
   "id": "84c9a1d0-cb17-4c5c-80a3-5ba1ec8ef5fa",
   "metadata": {},
   "outputs": [],
   "source": [
    "annotated_embeddings"
   ]
  },
  {
   "cell_type": "code",
   "execution_count": null,
   "id": "74fc4174-5cec-4564-b35c-b1473d5aa1c3",
   "metadata": {},
   "outputs": [],
   "source": [
    "# Apply the function to create the 'parent_y' column\n",
    "import numpy as np\n",
    "annotated_embeddings['parent_y'] = annotated_embeddings.apply(get_parent_y, axis=1)\n",
    "annotated_embeddings['parent_mutation'] = annotated_embeddings.apply(get_parent_mutation_length, axis=1)"
   ]
  },
  {
   "cell_type": "code",
   "execution_count": null,
   "id": "467841f9-58ff-4737-988a-7baa8d5a5cd1",
   "metadata": {},
   "outputs": [],
   "source": [
    "annotated_embeddings[\"y_value\"] = annotated_embeddings[\"y_value\"].max() - annotated_embeddings[\"y_value\"]\n",
    "\n",
    "annotated_embeddings[\"parent_y\"] = annotated_embeddings[\"parent_y\"].max() - annotated_embeddings[\"parent_y\"]"
   ]
  },
  {
   "cell_type": "code",
   "execution_count": null,
   "id": "45b895c6-d93b-4229-9950-73d95a50a6c1",
   "metadata": {},
   "outputs": [],
   "source": [
    "annotated_embeddings"
   ]
  },
  {
   "cell_type": "code",
   "execution_count": null,
   "id": "677b9df0-8f2d-4c4c-a876-eafd55895e4e",
   "metadata": {},
   "outputs": [],
   "source": [
    "import seaborn as sns\n",
    "\n",
    "plt.scatter(annotated_embeddings[\"divergence\"], annotated_embeddings[\"y_value\"])"
   ]
  },
  {
   "cell_type": "code",
   "execution_count": null,
   "id": "30915075-94c0-402f-b7f7-72e17de5199d",
   "metadata": {},
   "outputs": [],
   "source": [
    "import altair as alt\n",
    "dataFrame = annotated_embeddings"
   ]
  },
  {
   "cell_type": "code",
   "execution_count": null,
   "id": "b2b023a7-a8a4-416c-b050-734a90ab7769",
   "metadata": {},
   "outputs": [],
   "source": [
    "base = alt.Chart(dataFrame[dataFrame[\"is_internal_node\"] == True])\n",
    "brush = alt.selection(type='interval', resolve='global')\n",
    "tips = base.mark_circle().encode(\n",
    "    x=alt.X(\n",
    "        \"divergence:Q\",\n",
    "        scale=alt.Scale(\n",
    "            domain=(dataFrame[\"divergence\"].min() - 0.0002, dataFrame[\"divergence\"].max() + 0.0002)),\n",
    "        title=\"Divergence\",\n",
    "        axis=alt.Axis(labels=True, ticks=True)\n",
    "    ),\n",
    "    y=alt.Y(\n",
    "        \"y_value:Q\",\n",
    "        title=\"\",\n",
    "        axis=alt.Axis(labels=False, ticks=False)\n",
    "    ),\n",
    "    # color=alt.condition(brush, if_false=alt.ColorValue('gray'), if_true=alt.Color(color, scale=alt.Scale(domain=domain, range=range_))),\n",
    "    #tooltip=ToolTip\n",
    ").add_selection(brush)\n",
    "\n",
    "lines = alt.Chart(dataFrame).mark_line().encode(\n",
    "            x=alt.X(\"parent_mutation:Q\", scale=alt.Scale(domain=(dataFrame[\"divergence\"].min() - 0.002, dataFrame[\"divergence\"].max() + 0.002))),\n",
    "            x2=\"divergence:Q\",\n",
    "            y=alt.Y(\"parent_y:Q\", scale=alt.Scale(domain=(dataFrame[\"y_value\"].min() - 1.0, dataFrame[\"y_value\"].max() + 0.2))),\n",
    "            y2=\"y_value:Q\",\n",
    "            color=alt.ColorValue(\"#cccccc\")\n",
    "        )"
   ]
  },
  {
   "cell_type": "code",
   "execution_count": null,
   "id": "d193a444-2bb0-45fc-8d3e-0448c379a6f5",
   "metadata": {},
   "outputs": [],
   "source": [
    "horizontal_lines = alt.Chart(dataFrame).mark_line().encode(\n",
    "    x=\"divergence:Q\",\n",
    "    x2=\"parent_mutation:Q\",\n",
    "    y=alt.Y(\"parent_y:Q\", scale=alt.Scale(domain=(dataFrame[\"y_value\"].min() - 1.0, dataFrame[\"y_value\"].max() + 0.2))),\n",
    "    color=alt.ColorValue(\"#cccccc\")\n",
    ")\n",
    "\n",
    "# Creating vertical lines\n",
    "vertical_lines = alt.Chart(dataFrame).mark_rule().encode(\n",
    "    x=\"divergence:Q\",\n",
    "    y=alt.Y(\"parent_y:Q\", scale=alt.Scale(domain=(dataFrame[\"y_value\"].min() - 1.0, dataFrame[\"y_value\"].max() + 0.2))),\n",
    "    y2=\"y_value:Q\",\n",
    "    color=alt.ColorValue(\"#cccccc\")\n",
    ")"
   ]
  },
  {
   "cell_type": "code",
   "execution_count": null,
   "id": "4eca64be-2aac-4d09-b3e7-b841c7bf7dfe",
   "metadata": {},
   "outputs": [],
   "source": [
    "lines_norm = (horizontal_lines + vertical_lines)"
   ]
  },
  {
   "cell_type": "code",
   "execution_count": null,
   "id": "49ab1e59-72c5-40a5-baaf-e97dddfa4a25",
   "metadata": {},
   "outputs": [],
   "source": [
    "(lines+tips)"
   ]
  },
  {
   "cell_type": "code",
   "execution_count": null,
   "id": "e7478ee4-596e-4b77-8b8d-9e7d699cb00d",
   "metadata": {},
   "outputs": [],
   "source": [
    "(lines_norm + tips)"
   ]
  },
  {
   "cell_type": "code",
   "execution_count": null,
   "id": "fbe13e9f-0b2b-4e55-b63c-a2bffcb4bfa8",
   "metadata": {},
   "outputs": [],
   "source": []
  }
 ],
 "metadata": {
  "kernelspec": {
   "display_name": "Python 3 (ipykernel)",
   "language": "python",
   "name": "python3"
  },
  "language_info": {
   "codemirror_mode": {
    "name": "ipython",
    "version": 3
   },
   "file_extension": ".py",
   "mimetype": "text/x-python",
   "name": "python",
   "nbconvert_exporter": "python",
   "pygments_lexer": "ipython3",
   "version": "3.7.12"
  }
 },
 "nbformat": 4,
 "nbformat_minor": 5
}
