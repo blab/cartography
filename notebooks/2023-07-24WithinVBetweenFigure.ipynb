{
 "cells": [
  {
   "cell_type": "code",
   "execution_count": null,
   "id": "ee9f4163-01b3-4c05-98e6-1cda7217fe8c",
   "metadata": {},
   "outputs": [],
   "source": [
    "import sys\n",
    "sys.path.append(\"notebooks/scripts/\")"
   ]
  },
  {
   "cell_type": "markdown",
   "id": "7432e29b-f63d-4646-8fe4-f10f86afca70",
   "metadata": {},
   "source": [
    "## Define inputs, outputs, and parameters"
   ]
  },
  {
   "cell_type": "code",
   "execution_count": null,
   "id": "7c6486fc-1bac-485e-b534-38adcf4a0396",
   "metadata": {},
   "outputs": [],
   "source": [
    "import matplotlib.pyplot as plt \n",
    "import pandas as pd"
   ]
  },
  {
   "cell_type": "code",
   "execution_count": null,
   "id": "dc50cafd-a0a5-4974-ab4c-08b02b7914c2",
   "metadata": {},
   "outputs": [],
   "source": [
    "within_between_df_training = pd.read_csv(snakemake.input.within_between_df_training)\n",
    "within_between_df_test = pd.read_csv(snakemake.input.within_between_df_test)\n",
    "within_between_df_sars_training = pd.read_csv(snakemake.input.within_between_df_sars_training)\n",
    "within_between_df_sars_test = pd.read_csv(snakemake.input.within_between_df_sars_test)\n",
    "#within_between_df_training = pd.read_csv(\"../seasonal-flu-nextstrain/results/full_within_between_stats.csv\")\n",
    "#within_between_df_test = pd.read_csv(\"../seasonal-flu-nextstrain-2018-2020/results/full_within_between_stats.csv\")\n",
    "#within_between_df_sars_training = pd.read_csv(\"../sars-cov-2-nextstrain/results/full_within_between_stats.csv\")\n",
    "#within_between_df_sars_test = pd.read_csv(\"../sars-cov-2-nextstrain-2022-2023/results/full_within_between_stats.csv\")"
   ]
  },
  {
   "cell_type": "code",
   "execution_count": null,
   "id": "b9991e92-d028-4d77-98ec-5791c4638e79",
   "metadata": {},
   "outputs": [],
   "source": [
    "png_chart_flu = snakemake.output.flu_png\n",
    "png_chart_sars = snakemake.output.sars_png"
   ]
  },
  {
   "cell_type": "code",
   "execution_count": null,
   "id": "b0857a78-ce68-4ec3-9e28-72feb01d1d10",
   "metadata": {},
   "outputs": [],
   "source": [
    "def make_subplot(df, ax):\n",
    "    x_positions = np.arange(len(df.to_numpy()) // 2)\n",
    "    \n",
    "    ax.errorbar(df[df[\"comparison\"] == \"within\"][\"mean\"][::-1], x_positions, xerr= df[df[\"comparison\"] == \"within\"][\"std\"][::-1], fmt='o', color=\"blue\", label=\"within\", capsize=2)\n",
    "    ax.errorbar(df[df[\"comparison\"] == \"between\"][\"mean\"][::-1], x_positions + 0.1, xerr= df[df[\"comparison\"] == \"between\"][\"std\"][::-1], fmt='o', color=\"orange\", label=\"between\", capsize=2)\n",
    "    ax.set_yticklabels([\"\"] + list(df[df[\"comparison\"] == \"within\"][\"group\"])[::-1])\n",
    "    ax.set_xlim(0, 70)\n",
    "\n",
    "    sns.despine()\n",
    "    return ax"
   ]
  },
  {
   "cell_type": "code",
   "execution_count": null,
   "id": "45fe2244-ba14-42ee-a9d4-3a776865dfbd",
   "metadata": {},
   "outputs": [],
   "source": [
    "import matplotlib.pyplot as plt\n",
    "import numpy as np\n",
    "import seaborn as sns\n",
    "\n",
    "fig, ax = plt.subplots(1, 2, figsize=(9, 9), dpi=120, sharey=True)\n",
    "\n",
    "make_subplot(within_between_df_training, ax[0])\n",
    "make_subplot(within_between_df_test, ax[1])\n",
    "\n",
    "ax[0].set_title(\"H3N2 HA Influenza 2016/2018\")\n",
    "ax[1].set_title(\"H3N2 HA Influenza 2018/2020\")\n",
    "ax[1].set_yticklabels([])\n",
    "ax[1].legend(\n",
    "    frameon=False,\n",
    "    bbox_to_anchor=(1.0, 1.0), \n",
    "    loc=\"upper left\"\n",
    ")\n",
    "plt.subplots_adjust(hspace=.0)\n",
    "sns.despine()\n",
    "plt.savefig(png_chart_flu)\n",
    "#early and late side by side instead of below eachother"
   ]
  },
  {
   "cell_type": "code",
   "execution_count": null,
   "id": "63f01d4d-c1a3-42e1-b6a1-9a7c1c34ebf5",
   "metadata": {},
   "outputs": [],
   "source": [
    "def make_subplot_sars(df, ax, nextstrain_or_pango, label): #'Nextstrain_clade' or 'pango'\n",
    "    grouped = df.groupby(df[\"group\"].str.contains(nextstrain_or_pango))\n",
    "    \n",
    "    group = grouped.get_group(True)\n",
    "\n",
    "    y_ticklabels = []\n",
    "\n",
    "    x_positions = np.arange(len(group.to_numpy()) // 2)\n",
    "\n",
    "    ax.errorbar(group[group[\"comparison\"] == \"within\"][\"mean\"][::-1], x_positions, xerr= group[group[\"comparison\"] == \"within\"][\"std\"][::-1], fmt='o', color=\"blue\", label=label + \" within\", capsize=2)\n",
    "    ax.errorbar(group[group[\"comparison\"] == \"between\"][\"mean\"][::-1], x_positions + 0.2, xerr= group[group[\"comparison\"] == \"between\"][\"std\"][::-1], fmt='o', color=\"orange\", label=label + \" between\", capsize=2)\n",
    "    y_ticklabels = [\"\"] + [val.replace(\"_for_\" + str(nextstrain_or_pango), \"\") for val in list(group[group[\"comparison\"] == \"within\"][\"group\"])[::-1]]\n",
    "    y_ticklabels[-1] = \"clade_membership\"\n",
    "\n",
    "    ax.set_yticklabels(y_ticklabels)\n",
    "    ax.set_xlim(0, 70)\n",
    "\n",
    "    sns.despine()\n",
    "    \n",
    "    return ax"
   ]
  },
  {
   "cell_type": "code",
   "execution_count": null,
   "id": "5bc035b9-0a9b-4e4d-ba39-7400b64700a6",
   "metadata": {},
   "outputs": [],
   "source": [
    "fig, ax = plt.subplots(2, 2, figsize=(9,11), dpi=120, sharex=True, sharey=True)\n",
    "make_subplot_sars(within_between_df_sars_training, ax[0][0], 'Nextstrain_clade', \"Nextstrain clade\") # early, nextclade\n",
    "make_subplot_sars(within_between_df_sars_test, ax[0][1], 'Nextstrain_clade', \"Nextstrain clade\") # late, nextclade\n",
    "make_subplot_sars(within_between_df_sars_training, ax[1][0], 'Nextclade_pango_collapsed', \"Pango\") # early, pango\n",
    "make_subplot_sars(within_between_df_sars_test, ax[1][1], 'Nextclade_pango_collapsed', \"Pango\") # late, pango\n",
    "# late - each method represented twice\n",
    "# clade membership should have both nextstrain clade and pango lineages\n",
    "# share row and col (2 by 2 figures) - left nextstrain clade, right  pango \n",
    "# generate both within_between dataframes for diff clade membership definitions\n",
    "\n",
    "ax[0][0].set_title(\"SARS-CoV-2 2020/2022\")\n",
    "ax[0][1].set_title(\"SARS-CoV-2 2022/2023\")\n",
    "ax[0][0].set_ylabel(\"Nextstrain Clade\")\n",
    "ax[1][0].set_ylabel(\"Nextclade Pango\")\n",
    "\n",
    "ax[0][1].legend(\n",
    "    frameon=False,\n",
    "    bbox_to_anchor=(1.0, 1.0), \n",
    "    loc=\"upper left\"\n",
    ")\n",
    "\n",
    "ax[1][1].legend(\n",
    "    frameon=False,\n",
    "    bbox_to_anchor=(1.0, 1.0), \n",
    "    loc=\"upper left\"\n",
    ")\n",
    "    \n",
    "plt.subplots_adjust(hspace=.0)#, wspace=.0)\n",
    "sns.despine()\n",
    "plt.savefig(png_chart_sars)\n",
    "\n",
    "# make x axis bigger, move legend to x axis of one chart (rotate legend in another way, add y axis buffer to each figure)\n",
    "# replace variable names (pca_label -> pca)\n",
    "# replace clade_membership with actual clade_membership\n",
    "# use nextclade_pango_collapsed in legend not just pango\n",
    "# x axis label (pairwise genetic distance (nucleotides))"
   ]
  },
  {
   "cell_type": "code",
   "execution_count": null,
   "id": "937e3ba6-e790-47a3-a448-60173ba69a40",
   "metadata": {},
   "outputs": [],
   "source": []
  }
 ],
 "metadata": {
  "kernelspec": {
   "display_name": "Python 3 (ipykernel)",
   "language": "python",
   "name": "python3"
  },
  "language_info": {
   "codemirror_mode": {
    "name": "ipython",
    "version": 3
   },
   "file_extension": ".py",
   "mimetype": "text/x-python",
   "name": "python",
   "nbconvert_exporter": "python",
   "pygments_lexer": "ipython3",
   "version": "3.7.12"
  }
 },
 "nbformat": 4,
 "nbformat_minor": 5
}
