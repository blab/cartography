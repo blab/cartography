{
 "cells": [
  {
   "cell_type": "code",
   "execution_count": null,
   "id": "ee9f4163-01b3-4c05-98e6-1cda7217fe8c",
   "metadata": {},
   "outputs": [],
   "source": [
    "import sys\n",
    "sys.path.append(\"notebooks/scripts/\")"
   ]
  },
  {
   "cell_type": "markdown",
   "id": "7432e29b-f63d-4646-8fe4-f10f86afca70",
   "metadata": {},
   "source": [
    "## Define inputs, outputs, and parameters"
   ]
  },
  {
   "cell_type": "code",
   "execution_count": null,
   "id": "dc50cafd-a0a5-4974-ab4c-08b02b7914c2",
   "metadata": {},
   "outputs": [],
   "source": [
    "df_path = snakemake.input.dataframe"
   ]
  },
  {
   "cell_type": "code",
   "execution_count": null,
   "id": "b9991e92-d028-4d77-98ec-5791c4638e79",
   "metadata": {},
   "outputs": [],
   "source": [
    "png_chart = snakemake.output.png"
   ]
  }
 ],
 "metadata": {
  "kernelspec": {
   "display_name": "Python 3 (ipykernel)",
   "language": "python",
   "name": "python3"
  },
  "language_info": {
   "codemirror_mode": {
    "name": "ipython",
    "version": 3
   },
   "file_extension": ".py",
   "mimetype": "text/x-python",
   "name": "python",
   "nbconvert_exporter": "python",
   "pygments_lexer": "ipython3",
   "version": "3.7.12"
  }
 },
 "nbformat": 4,
 "nbformat_minor": 5
}
