{
 "cells": [
  {
   "cell_type": "markdown",
   "metadata": {},
   "source": [
    "# Cross-validation of embedding methods\n",
    "\n",
    "Perform cross-validation of an embedding method to tune hyperparameters and evaluate the accuracy of classifications based on Euclidean distances of embedded space.\n",
    "\n",
    "## Analysis outline\n",
    "\n",
    "1. Load genome sequences from a FASTA file\n",
    "1. Load clade membership annotations for each genome from a separate metadata file\n",
    "1. Calculate a pairwise distance matrix from the genome sequences.\n",
    "1. For each fold in a *k-fold* analysis\n",
    "  1. Identify sequences in the fold\n",
    "  1. Subset the distance matrix to only those sequences in the fold\n",
    "  1. Apply the current embedding method (e.g., MDS, t-SNE, UMAP) to the distance matrix\n",
    "  1. Calculate the pairwise Euclidean distance between sequences in the embedding\n",
    "  1. Calculate and store the Pearson's correlation between genetic and Euclidean distances for all pairs in the embedding\n",
    "  1. Calculate and store a distance threshold below which any pair of sequences are assigned to the same clade\n",
    "  1. Apply the current embeddng method to the subset of the distance matrix corresponding to the validation data for the current fold\n",
    "  1. Calculate the pairwise Euclidean distance between sequences in the validation embedding\n",
    "  1. Assign all pairs of sequences in the validation set to estimated \"within\" or \"between\" clade statuses based on their distances\n",
    "  1. Calculate the confusion matrix from the estimated and observed clade identities\n",
    "  1. Calculate and store accuracy, Matthew's correlation coefficient, etc. from the confusion matrix\n",
    "1. Plot the distribution of Pearson's correlations across all *k* folds\n",
    "1. Plot the distribution of accuracies, etc. across all *k* folds"
   ]
  },
  {
   "cell_type": "code",
   "execution_count": 82,
   "metadata": {},
   "outputs": [],
   "source": [
    "import sys\n",
    "sys.path.append(\"../notebooks/scripts\")"
   ]
  },
  {
   "cell_type": "markdown",
   "metadata": {},
   "source": [
    "## Define inputs, outputs, and parameters"
   ]
  },
  {
   "cell_type": "code",
   "execution_count": 83,
   "metadata": {},
   "outputs": [],
   "source": [
    "sequences_path = \"../seasonal-flu-nextstrain/results/aligned.fasta\"\n",
    "clades_path = \"../seasonal-flu-nextstrain/results/clades.json\"\n",
    "KDE_pca_path = \"../seasonal-flu-nextstrain/results/KDEDensity_pca.csv\""
   ]
  },
  {
   "cell_type": "markdown",
   "metadata": {},
   "source": [
    "## Imports"
   ]
  },
  {
   "cell_type": "code",
   "execution_count": 243,
   "metadata": {},
   "outputs": [],
   "source": [
    "from augur.utils import read_node_data\n",
    "import Bio.SeqIO\n",
    "from collections import OrderedDict\n",
    "import itertools\n",
    "import matplotlib.pyplot as plt\n",
    "import matplotlib as mpl\n",
    "import numpy as np\n",
    "import pandas as pd\n",
    "from scipy.spatial.distance import pdist, squareform\n",
    "import seaborn as sns\n",
    "from sklearn.decomposition import PCA\n",
    "from sklearn.svm import LinearSVC\n",
    "from sklearn.manifold import MDS, TSNE\n",
    "from sklearn.model_selection import KFold\n",
    "from sklearn.metrics import confusion_matrix, matthews_corrcoef\n",
    "from sklearn.pipeline import make_pipeline\n",
    "from sklearn.preprocessing import StandardScaler\n",
    "from scipy.stats import linregress\n",
    "import statsmodels\n",
    "import statistics\n",
    "from umap import UMAP\n",
    "\n",
    "from Helpers import get_hamming_distances, get_euclidean_data_frame, scatterplot_xyvalues\n",
    "\n",
    "%matplotlib inline"
   ]
  },
  {
   "cell_type": "code",
   "execution_count": 244,
   "metadata": {},
   "outputs": [],
   "source": [
    "sns.set_style(\"ticks\")\n",
    "# Disable top and right spines.\n",
    "mpl.rcParams['axes.spines.top'] = False\n",
    "mpl.rcParams['axes.spines.right'] = False\n",
    "# Display and save figures at higher resolution for presentations and manuscripts.\n",
    "mpl.rcParams['savefig.dpi'] = 300\n",
    "mpl.rcParams['figure.dpi'] = 100\n",
    "# Display text at sizes large enough for presentations and manuscripts.\n",
    "mpl.rcParams['font.weight'] = \"normal\"\n",
    "mpl.rcParams['axes.labelweight'] = \"normal\"\n",
    "mpl.rcParams['font.size'] = 10\n",
    "mpl.rcParams['axes.labelsize'] = 10\n",
    "mpl.rcParams['legend.fontsize'] = 8\n",
    "mpl.rcParams['xtick.labelsize'] = 10\n",
    "mpl.rcParams['ytick.labelsize'] = 10\n",
    "mpl.rcParams['axes.titlesize'] = 8\n",
    "mpl.rc('text', usetex=False)"
   ]
  },
  {
   "cell_type": "code",
   "execution_count": 85,
   "metadata": {},
   "outputs": [],
   "source": [
    "def assign_clade_status_to_pairs(clade_annotations, index):\n",
    "    \"\"\"Assign clade status to all pairs in the given list of indices and the given data frame of clade annotations.\n",
    "    \n",
    "    Outputs a vector in condensed distance matrix format such that all nonredundant pairs of strains are represented.\n",
    "    \n",
    "    \"\"\"\n",
    "    clade_statuses = []\n",
    "    for i in range(len(index)):\n",
    "        for j in range(i + 1, len(index)):\n",
    "            same_clade = clade_annotations.loc[index[i], \"clade\"] == clade_annotations.loc[index[j], \"clade\"]\n",
    "            clade_statuses.append(int(same_clade))\n",
    "            \n",
    "    return np.array(clade_statuses)"
   ]
  },
  {
   "cell_type": "markdown",
   "metadata": {},
   "source": [
    "## Load clade membership annotations"
   ]
  },
  {
   "cell_type": "code",
   "execution_count": 86,
   "metadata": {},
   "outputs": [],
   "source": [
    "node_data = read_node_data(clades_path)"
   ]
  },
  {
   "cell_type": "markdown",
   "metadata": {},
   "source": [
    "## Load genome sequences"
   ]
  },
  {
   "cell_type": "code",
   "execution_count": 87,
   "metadata": {},
   "outputs": [],
   "source": [
    "sequences_by_name = OrderedDict()\n",
    "\n",
    "for sequence in Bio.SeqIO.parse(sequences_path, \"fasta\"):\n",
    "    if sequence.id in node_data[\"nodes\"]:\n",
    "        sequences_by_name[sequence.id] = str(sequence.seq)\n",
    "    \n",
    "sequence_names = list(sequences_by_name.keys())"
   ]
  },
  {
   "cell_type": "code",
   "execution_count": 88,
   "metadata": {},
   "outputs": [
    {
     "data": {
      "text/plain": [
       "['A/Alabama/02/2016',\n",
       " 'A/California/112/2015',\n",
       " 'A/Florida/15/2016',\n",
       " 'A/Florida/20/2016',\n",
       " 'A/NewMexico/06/2016']"
      ]
     },
     "execution_count": 88,
     "metadata": {},
     "output_type": "execute_result"
    }
   ],
   "source": [
    "sequence_names[:5]"
   ]
  },
  {
   "cell_type": "code",
   "execution_count": 89,
   "metadata": {},
   "outputs": [
    {
     "data": {
      "text/plain": [
       "1150"
      ]
     },
     "execution_count": 89,
     "metadata": {},
     "output_type": "execute_result"
    }
   ],
   "source": [
    "len(sequence_names)"
   ]
  },
  {
   "cell_type": "code",
   "execution_count": 90,
   "metadata": {},
   "outputs": [],
   "source": [
    "# Build a data frame of clade annotations per strain in the same order\n",
    "# as the sequences and the subsequent distance matrix.\n",
    "clade_annotations = pd.DataFrame([\n",
    "    {\"strain\": sequence_name, \"clade\": node_data[\"nodes\"][sequence_name][\"clade_membership\"]}\n",
    "    for sequence_name in sequence_names\n",
    "])"
   ]
  },
  {
   "cell_type": "code",
   "execution_count": 91,
   "metadata": {},
   "outputs": [
    {
     "data": {
      "text/plain": [
       "1150"
      ]
     },
     "execution_count": 91,
     "metadata": {},
     "output_type": "execute_result"
    }
   ],
   "source": [
    "len(clade_annotations)"
   ]
  },
  {
   "cell_type": "code",
   "execution_count": 92,
   "metadata": {},
   "outputs": [
    {
     "data": {
      "text/plain": [
       "(1150, 2)"
      ]
     },
     "execution_count": 92,
     "metadata": {},
     "output_type": "execute_result"
    }
   ],
   "source": [
    "clade_annotations.shape"
   ]
  },
  {
   "cell_type": "markdown",
   "metadata": {},
   "source": [
    "## Calculate distance matrix"
   ]
  },
  {
   "cell_type": "code",
   "execution_count": 93,
   "metadata": {},
   "outputs": [],
   "source": [
    "hamming_distances = get_hamming_distances(\n",
    "    sequences_by_name.values()\n",
    ")\n",
    "distance_matrix = squareform(hamming_distances)"
   ]
  },
  {
   "cell_type": "code",
   "execution_count": 94,
   "metadata": {},
   "outputs": [
    {
     "data": {
      "text/plain": [
       "(1150, 1150)"
      ]
     },
     "execution_count": 94,
     "metadata": {},
     "output_type": "execute_result"
    }
   ],
   "source": [
    "distance_matrix.shape"
   ]
  },
  {
   "cell_type": "code",
   "execution_count": 95,
   "metadata": {},
   "outputs": [
    {
     "data": {
      "text/plain": [
       "<AxesSubplot:>"
      ]
     },
     "execution_count": 95,
     "metadata": {},
     "output_type": "execute_result"
    },
    {
     "data": {
      "image/png": "[encoded data removed]",
      "text/plain": [
       "<Figure size 432x288 with 2 Axes>"
      ]
     },
     "metadata": {
      "needs_background": "light"
     },
     "output_type": "display_data"
    }
   ],
   "source": [
    "sns.heatmap(distance_matrix)"
   ]
  },
  {
   "cell_type": "markdown",
   "metadata": {},
   "source": [
    "## Assign sequences to k-fold groups and analyze each fold\n",
    "\n",
    "For each fold, use the training indices to subset the distance matrix to just those columns and rows that belong in the training data. Apply a given embedding method to the distance matrix subset, identify the classification threshold for clade membership, and validate that threshold on the subset of the distance matrix corresponding to the validation indices."
   ]
  },
  {
   "cell_type": "code",
   "execution_count": 96,
   "metadata": {},
   "outputs": [],
   "source": [
    "tuned_parameter_values = []\n",
    "list_of_embeddings = []\n",
    "default_tuned_values = []\n",
    "list_of_embeddings_strings = [\"TSNE\", \"UMAP\"]"
   ]
  },
  {
   "cell_type": "code",
   "execution_count": 97,
   "metadata": {},
   "outputs": [],
   "source": [
    "# TODO: In practice we will want to iterate over all combinations of parameters\n",
    "# for all embedding methods and also support PCA (which does not use a distance matrix as input).\n",
    "embedding_class = TSNE\n",
    "list_of_embeddings.append(embedding_class)\n",
    "embedding_parameters = {\n",
    "    \"metric\": \"precomputed\",\n",
    "    \"perplexity\": 15,\n",
    "    \"learning_rate\": 100.0\n",
    "}\n",
    "tuned_parameters_TSNE = {\n",
    "    \"perplexity\": [15, 30, 100],\n",
    "    \"learning_rate\": [100.0, 200.0, 500.0, 1000.0]\n",
    "}\n",
    "\n",
    "tuned_parameter_values.append(tuned_parameters_TSNE)\n",
    "default_tuned_values.append(embedding_parameters)"
   ]
  },
  {
   "cell_type": "code",
   "execution_count": 98,
   "metadata": {},
   "outputs": [],
   "source": [
    "embedding_class = UMAP\n",
    "list_of_embeddings.append(embedding_class)\n",
    "embedding_parameters = {\n",
    "    \"init\": \"spectral\",\n",
    "    \"n_neighbors\" : 25,\n",
    "    \"min_dist\" : .05\n",
    "}\n",
    "tuned_parameters_UMAP = {\n",
    "    \"n_neighbors\" : [5, 25, 200],\n",
    "    \"min_dist\" : [.05, .5]}\n",
    "tuned_parameter_values.append(tuned_parameters_UMAP)\n",
    "default_tuned_values.append(embedding_parameters)"
   ]
  },
  {
   "cell_type": "code",
   "execution_count": 99,
   "metadata": {},
   "outputs": [],
   "source": [
    "embedding_class = MDS\n",
    "list_of_embeddings.append(embedding_class)\n",
    "embedding_parameters = {\n",
    "    \"dissimilarity\": \"precomputed\",\n",
    "    \"n_components\" : 10\n",
    "}\n",
    "default_tuned_values.append(embedding_parameters)"
   ]
  },
  {
   "cell_type": "code",
   "execution_count": 100,
   "metadata": {},
   "outputs": [],
   "source": [
    "embedding_class = PCA\n",
    "embedding_parameters = {\n",
    "    \"n_components\" : 10,\n",
    "    \"svd_solver\" : \"full\"\n",
    "}\n",
    "default_tuned_values.append(embedding_parameters)"
   ]
  },
  {
   "cell_type": "markdown",
   "metadata": {},
   "source": [
    "# Exhaustive Grid Search"
   ]
  },
  {
   "cell_type": "code",
   "execution_count": 101,
   "metadata": {},
   "outputs": [
    {
     "name": "stdout",
     "output_type": "stream",
     "text": [
      "{'metric': 'precomputed', 'perplexity': 15, 'learning_rate': 100.0, 'method': 'TSNE', 'fold': 0, 'confusion_matrix': array([[19703,    39],\n",
      "       [ 3814,  2779]]), 'matthews_cc': 0.5879507276928364, 'threshold': array([-1.66288724]), 'accuracy': 0.8536928042528954}\n",
      "{'metric': 'precomputed', 'perplexity': 15, 'learning_rate': 200.0, 'method': 'TSNE', 'fold': 0, 'confusion_matrix': array([[19872,    40],\n",
      "       [ 3645,  2778]]), 'matthews_cc': 0.5980499158687849, 'threshold': array([-1.83187194]), 'accuracy': 0.8600721473324473}\n",
      "{'metric': 'precomputed', 'perplexity': 15, 'learning_rate': 500.0, 'method': 'TSNE', 'fold': 0, 'confusion_matrix': array([[20649,    42],\n",
      "       [ 2868,  2776]]), 'matthews_cc': 0.6502183174586811, 'threshold': array([-1.92046573]), 'accuracy': 0.8895006645149042}\n",
      "{'metric': 'precomputed', 'perplexity': 15, 'learning_rate': 1000.0, 'method': 'TSNE', 'fold': 0, 'confusion_matrix': array([[23511,  2600],\n",
      "       [    6,   218]]), 'matthews_cc': 0.2595413244159443, 'threshold': array([-2.11476837]), 'accuracy': 0.9010442377064742}\n",
      "{'metric': 'precomputed', 'perplexity': 30, 'learning_rate': 100.0, 'method': 'TSNE', 'fold': 0, 'confusion_matrix': array([[16719,    19],\n",
      "       [ 6798,  2799]]), 'matthews_cc': 0.4523054998271147, 'threshold': array([-1.64100668]), 'accuracy': 0.7411429656350864}\n",
      "{'metric': 'precomputed', 'perplexity': 30, 'learning_rate': 200.0, 'method': 'TSNE', 'fold': 0, 'confusion_matrix': array([[16923,     7],\n",
      "       [ 6594,  2811]]), 'matthews_cc': 0.4626443512232204, 'threshold': array([-1.90191632]), 'accuracy': 0.7493449781659388}\n",
      "{'metric': 'precomputed', 'perplexity': 30, 'learning_rate': 500.0, 'method': 'TSNE', 'fold': 0, 'confusion_matrix': array([[16015,    15],\n",
      "       [ 7502,  2803]]), 'matthews_cc': 0.4279645289796041, 'threshold': array([-1.66879641]), 'accuracy': 0.7145623694702867}\n"
     ]
    },
    {
     "name": "stderr",
     "output_type": "stream",
     "text": [
      "/home/nandsra21/anaconda3/envs/cartography/lib/python3.7/site-packages/sklearn/metrics/_classification.py:846: RuntimeWarning: invalid value encountered in double_scalars\n",
      "  mcc = cov_ytyp / np.sqrt(cov_ytyt * cov_ypyp)\n"
     ]
    },
    {
     "name": "stdout",
     "output_type": "stream",
     "text": [
      "{'metric': 'precomputed', 'perplexity': 30, 'learning_rate': 1000.0, 'method': 'TSNE', 'fold': 0, 'confusion_matrix': array([[23517,  2818],\n",
      "       [    0,     0]]), 'matthews_cc': 0.0, 'threshold': array([-1.63307898]), 'accuracy': 0.8929941142965635}\n",
      "{'metric': 'precomputed', 'perplexity': 100, 'learning_rate': 100.0, 'method': 'TSNE', 'fold': 0, 'confusion_matrix': array([[11603,     0],\n",
      "       [11914,  2818]]), 'matthews_cc': 0.30720892303031744, 'threshold': array([-1.48303609]), 'accuracy': 0.5475982532751091}\n",
      "{'metric': 'precomputed', 'perplexity': 100, 'learning_rate': 200.0, 'method': 'TSNE', 'fold': 0, 'confusion_matrix': array([[11267,    17],\n",
      "       [12250,  2801]]), 'matthews_cc': 0.2955088023998195, 'threshold': array([-1.41635332]), 'accuracy': 0.5341940383520031}\n",
      "{'metric': 'precomputed', 'perplexity': 100, 'learning_rate': 500.0, 'method': 'TSNE', 'fold': 0, 'confusion_matrix': array([[11681,    21],\n",
      "       [11836,  2797]]), 'matthews_cc': 0.30436709655331207, 'threshold': array([-1.5132874]), 'accuracy': 0.5497626732485286}\n"
     ]
    },
    {
     "name": "stderr",
     "output_type": "stream",
     "text": [
      "/home/nandsra21/anaconda3/envs/cartography/lib/python3.7/site-packages/sklearn/metrics/_classification.py:846: RuntimeWarning: invalid value encountered in double_scalars\n",
      "  mcc = cov_ytyp / np.sqrt(cov_ytyt * cov_ypyp)\n"
     ]
    },
    {
     "name": "stdout",
     "output_type": "stream",
     "text": [
      "{'metric': 'precomputed', 'perplexity': 100, 'learning_rate': 1000.0, 'method': 'TSNE', 'fold': 0, 'confusion_matrix': array([[23517,  2818],\n",
      "       [    0,     0]]), 'matthews_cc': 0.0, 'threshold': array([-1.34962081]), 'accuracy': 0.8929941142965635}\n"
     ]
    },
    {
     "name": "stderr",
     "output_type": "stream",
     "text": [
      "/home/nandsra21/anaconda3/envs/cartography/lib/python3.7/site-packages/sklearn/manifold/_spectral_embedding.py:236: UserWarning: Graph is not fully connected, spectral embedding may not work as expected.\n",
      "  warnings.warn(\"Graph is not fully connected, spectral embedding\"\n",
      "/home/nandsra21/anaconda3/envs/cartography/lib/python3.7/site-packages/sklearn/metrics/_classification.py:846: RuntimeWarning: invalid value encountered in double_scalars\n",
      "  mcc = cov_ytyp / np.sqrt(cov_ytyt * cov_ypyp)\n"
     ]
    },
    {
     "name": "stdout",
     "output_type": "stream",
     "text": [
      "{'init': 'spectral', 'n_neighbors': 5, 'min_dist': 0.05, 'method': 'UMAP', 'fold': 0, 'confusion_matrix': array([[23517,  2818],\n",
      "       [    0,     0]]), 'matthews_cc': 0.0, 'threshold': array([-4.85656207]), 'accuracy': 0.8929941142965635}\n"
     ]
    },
    {
     "name": "stderr",
     "output_type": "stream",
     "text": [
      "/home/nandsra21/anaconda3/envs/cartography/lib/python3.7/site-packages/sklearn/manifold/_spectral_embedding.py:236: UserWarning: Graph is not fully connected, spectral embedding may not work as expected.\n",
      "  warnings.warn(\"Graph is not fully connected, spectral embedding\"\n",
      "/home/nandsra21/anaconda3/envs/cartography/lib/python3.7/site-packages/sklearn/metrics/_classification.py:846: RuntimeWarning: invalid value encountered in double_scalars\n",
      "  mcc = cov_ytyp / np.sqrt(cov_ytyt * cov_ypyp)\n"
     ]
    },
    {
     "name": "stdout",
     "output_type": "stream",
     "text": [
      "{'init': 'spectral', 'n_neighbors': 5, 'min_dist': 0.5, 'method': 'UMAP', 'fold': 0, 'confusion_matrix': array([[23517,  2818],\n",
      "       [    0,     0]]), 'matthews_cc': 0.0, 'threshold': array([-12.98223425]), 'accuracy': 0.8929941142965635}\n",
      "{'init': 'spectral', 'n_neighbors': 25, 'min_dist': 0.05, 'method': 'UMAP', 'fold': 0, 'confusion_matrix': array([[20146,    23],\n",
      "       [ 3371,  2795]]), 'matthews_cc': 0.6193937715175503, 'threshold': array([-1.7016628]), 'accuracy': 0.8711220808809569}\n",
      "{'init': 'spectral', 'n_neighbors': 25, 'min_dist': 0.5, 'method': 'UMAP', 'fold': 0, 'confusion_matrix': array([[20922,   132],\n",
      "       [ 2595,  2686]]), 'matthews_cc': 0.6506794043742907, 'threshold': array([-1.61684023]), 'accuracy': 0.8964495917979874}\n",
      "{'init': 'spectral', 'n_neighbors': 200, 'min_dist': 0.05, 'method': 'UMAP', 'fold': 0, 'confusion_matrix': array([[21323,   123],\n",
      "       [ 2194,  2695]]), 'matthews_cc': 0.6861485840434681, 'threshold': array([-1.52833634]), 'accuracy': 0.912018226694513}\n",
      "{'init': 'spectral', 'n_neighbors': 200, 'min_dist': 0.5, 'method': 'UMAP', 'fold': 0, 'confusion_matrix': array([[21304,   209],\n",
      "       [ 2213,  2609]]), 'matthews_cc': 0.6647841577331774, 'threshold': array([-1.63242538]), 'accuracy': 0.908031137269793}\n",
      "{'metric': 'precomputed', 'perplexity': 15, 'learning_rate': 100.0, 'method': 'TSNE', 'fold': 1, 'confusion_matrix': array([[19044,    52],\n",
      "       [ 4211,  3028]]), 'matthews_cc': 0.5773215088663948, 'threshold': array([-1.74466276]), 'accuracy': 0.8381241693563698}\n",
      "{'metric': 'precomputed', 'perplexity': 15, 'learning_rate': 200.0, 'method': 'TSNE', 'fold': 1, 'confusion_matrix': array([[18889,    52],\n",
      "       [ 4366,  3028]]), 'matthews_cc': 0.5688042380467797, 'threshold': array([-1.65009236]), 'accuracy': 0.8322384659198785}\n",
      "{'metric': 'precomputed', 'perplexity': 15, 'learning_rate': 500.0, 'method': 'TSNE', 'fold': 1, 'confusion_matrix': array([[20355,    65],\n",
      "       [ 2900,  3015]]), 'matthews_cc': 0.6577845278054606, 'threshold': array([-2.23039335]), 'accuracy': 0.8874121891019555}\n",
      "{'metric': 'precomputed', 'perplexity': 15, 'learning_rate': 1000.0, 'method': 'TSNE', 'fold': 1, 'confusion_matrix': array([[23255,  3065],\n",
      "       [    0,    15]]), 'matthews_cc': 0.06559723001378479, 'threshold': array([-2.41398289]), 'accuracy': 0.8836149610784128}\n",
      "{'metric': 'precomputed', 'perplexity': 30, 'learning_rate': 100.0, 'method': 'TSNE', 'fold': 1, 'confusion_matrix': array([[17788,    52],\n",
      "       [ 5467,  3028]]), 'matthews_cc': 0.5142473564367043, 'threshold': array([-1.68272945]), 'accuracy': 0.7904309853806721}\n",
      "{'metric': 'precomputed', 'perplexity': 30, 'learning_rate': 200.0, 'method': 'TSNE', 'fold': 1, 'confusion_matrix': array([[17287,    46],\n",
      "       [ 5968,  3034]]), 'matthews_cc': 0.4935329413318117, 'threshold': array([-1.70724407]), 'accuracy': 0.7716347066641351}\n",
      "{'metric': 'precomputed', 'perplexity': 30, 'learning_rate': 500.0, 'method': 'TSNE', 'fold': 1, 'confusion_matrix': array([[17177,    52],\n",
      "       [ 6078,  3028]]), 'matthews_cc': 0.487673000406669, 'threshold': array([-1.67779636]), 'accuracy': 0.7672299221568255}\n",
      "{'metric': 'precomputed', 'perplexity': 30, 'learning_rate': 1000.0, 'method': 'TSNE', 'fold': 1, 'confusion_matrix': array([[23255,  3071],\n",
      "       [    0,     9]]), 'matthews_cc': 0.050805605297678816, 'threshold': array([-1.6779397]), 'accuracy': 0.8833871273970002}\n",
      "{'metric': 'precomputed', 'perplexity': 100, 'learning_rate': 100.0, 'method': 'TSNE', 'fold': 1, 'confusion_matrix': array([[11495,     0],\n",
      "       [11760,  3080]]), 'matthews_cc': 0.320298366397195, 'threshold': array([-1.43605374]), 'accuracy': 0.5534459844313651}\n",
      "{'metric': 'precomputed', 'perplexity': 100, 'learning_rate': 200.0, 'method': 'TSNE', 'fold': 1, 'confusion_matrix': array([[11534,     0],\n",
      "       [11721,  3080]]), 'matthews_cc': 0.3212636805607896, 'threshold': array([-1.4478629]), 'accuracy': 0.5549269033605468}\n",
      "{'metric': 'precomputed', 'perplexity': 100, 'learning_rate': 500.0, 'method': 'TSNE', 'fold': 1, 'confusion_matrix': array([[11254,     0],\n",
      "       [12001,  3080]]), 'matthews_cc': 0.3143804793207838, 'threshold': array([-1.48507133]), 'accuracy': 0.544294664894627}\n"
     ]
    },
    {
     "name": "stderr",
     "output_type": "stream",
     "text": [
      "/home/nandsra21/anaconda3/envs/cartography/lib/python3.7/site-packages/sklearn/metrics/_classification.py:846: RuntimeWarning: invalid value encountered in double_scalars\n",
      "  mcc = cov_ytyp / np.sqrt(cov_ytyt * cov_ypyp)\n"
     ]
    },
    {
     "name": "stdout",
     "output_type": "stream",
     "text": [
      "{'metric': 'precomputed', 'perplexity': 100, 'learning_rate': 1000.0, 'method': 'TSNE', 'fold': 1, 'confusion_matrix': array([[23255,  3080],\n",
      "       [    0,     0]]), 'matthews_cc': 0.0, 'threshold': array([-1.31078401]), 'accuracy': 0.8830453768748814}\n"
     ]
    },
    {
     "name": "stderr",
     "output_type": "stream",
     "text": [
      "/home/nandsra21/anaconda3/envs/cartography/lib/python3.7/site-packages/sklearn/manifold/_spectral_embedding.py:236: UserWarning: Graph is not fully connected, spectral embedding may not work as expected.\n",
      "  warnings.warn(\"Graph is not fully connected, spectral embedding\"\n",
      "/home/nandsra21/anaconda3/envs/cartography/lib/python3.7/site-packages/sklearn/manifold/_spectral_embedding.py:236: UserWarning: Graph is not fully connected, spectral embedding may not work as expected.\n",
      "  warnings.warn(\"Graph is not fully connected, spectral embedding\"\n",
      "/home/nandsra21/anaconda3/envs/cartography/lib/python3.7/site-packages/sklearn/metrics/_classification.py:846: RuntimeWarning: invalid value encountered in double_scalars\n",
      "  mcc = cov_ytyp / np.sqrt(cov_ytyt * cov_ypyp)\n"
     ]
    },
    {
     "name": "stdout",
     "output_type": "stream",
     "text": [
      "{'init': 'spectral', 'n_neighbors': 5, 'min_dist': 0.05, 'method': 'UMAP', 'fold': 1, 'confusion_matrix': array([[23255,  3080],\n",
      "       [    0,     0]]), 'matthews_cc': 0.0, 'threshold': array([-6.81491732]), 'accuracy': 0.8830453768748814}\n"
     ]
    },
    {
     "name": "stderr",
     "output_type": "stream",
     "text": [
      "/home/nandsra21/anaconda3/envs/cartography/lib/python3.7/site-packages/sklearn/manifold/_spectral_embedding.py:236: UserWarning: Graph is not fully connected, spectral embedding may not work as expected.\n",
      "  warnings.warn(\"Graph is not fully connected, spectral embedding\"\n",
      "/home/nandsra21/anaconda3/envs/cartography/lib/python3.7/site-packages/sklearn/manifold/_spectral_embedding.py:236: UserWarning: Graph is not fully connected, spectral embedding may not work as expected.\n",
      "  warnings.warn(\"Graph is not fully connected, spectral embedding\"\n",
      "/home/nandsra21/anaconda3/envs/cartography/lib/python3.7/site-packages/sklearn/metrics/_classification.py:846: RuntimeWarning: invalid value encountered in double_scalars\n",
      "  mcc = cov_ytyp / np.sqrt(cov_ytyt * cov_ypyp)\n"
     ]
    },
    {
     "name": "stdout",
     "output_type": "stream",
     "text": [
      "{'init': 'spectral', 'n_neighbors': 5, 'min_dist': 0.5, 'method': 'UMAP', 'fold': 1, 'confusion_matrix': array([[23255,  3080],\n",
      "       [    0,     0]]), 'matthews_cc': 0.0, 'threshold': array([-21.09192375]), 'accuracy': 0.8830453768748814}\n",
      "{'init': 'spectral', 'n_neighbors': 25, 'min_dist': 0.05, 'method': 'UMAP', 'fold': 1, 'confusion_matrix': array([[20260,    67],\n",
      "       [ 2995,  3013]]), 'matthews_cc': 0.6505391676679739, 'threshold': array([-1.78715643]), 'accuracy': 0.883728877919119}\n",
      "{'init': 'spectral', 'n_neighbors': 25, 'min_dist': 0.5, 'method': 'UMAP', 'fold': 1, 'confusion_matrix': array([[20973,   233],\n",
      "       [ 2282,  2847]]), 'matthews_cc': 0.6704774010920743, 'threshold': array([-1.73307912]), 'accuracy': 0.9044997152078982}\n",
      "{'init': 'spectral', 'n_neighbors': 200, 'min_dist': 0.05, 'method': 'UMAP', 'fold': 1, 'confusion_matrix': array([[21105,   278],\n",
      "       [ 2150,  2802]]), 'matthews_cc': 0.6721767675046855, 'threshold': array([-1.61255889]), 'accuracy': 0.9078033035883805}\n",
      "{'init': 'spectral', 'n_neighbors': 200, 'min_dist': 0.5, 'method': 'UMAP', 'fold': 1, 'confusion_matrix': array([[20932,   367],\n",
      "       [ 2323,  2713]]), 'matthews_cc': 0.6381682814068006, 'threshold': array([-1.55645695]), 'accuracy': 0.8978545661666983}\n",
      "{'metric': 'precomputed', 'perplexity': 15, 'learning_rate': 100.0, 'method': 'TSNE', 'fold': 2, 'confusion_matrix': array([[19667,    30],\n",
      "       [ 3575,  3063]]), 'matthews_cc': 0.6202486708324666, 'threshold': array([-1.64646697]), 'accuracy': 0.8631099297512815}\n",
      "{'metric': 'precomputed', 'perplexity': 15, 'learning_rate': 200.0, 'method': 'TSNE', 'fold': 2, 'confusion_matrix': array([[19319,    30],\n",
      "       [ 3923,  3063]]), 'matthews_cc': 0.5990964684350574, 'threshold': array([-1.72931547]), 'accuracy': 0.8498955762293525}\n",
      "{'metric': 'precomputed', 'perplexity': 15, 'learning_rate': 500.0, 'method': 'TSNE', 'fold': 2, 'confusion_matrix': array([[19429,    30],\n",
      "       [ 3813,  3063]]), 'matthews_cc': 0.6056294071135591, 'threshold': array([-1.72424232]), 'accuracy': 0.8540725270552497}\n",
      "{'metric': 'precomputed', 'perplexity': 15, 'learning_rate': 1000.0, 'method': 'TSNE', 'fold': 2, 'confusion_matrix': array([[23242,  3003],\n",
      "       [    0,    90]]), 'matthews_cc': 0.1605257673390779, 'threshold': array([-1.94904243]), 'accuracy': 0.8859692424530093}\n",
      "{'metric': 'precomputed', 'perplexity': 30, 'learning_rate': 100.0, 'method': 'TSNE', 'fold': 2, 'confusion_matrix': array([[17348,    25],\n",
      "       [ 5894,  3068]]), 'matthews_cc': 0.5016885238962097, 'threshold': array([-1.66437479]), 'accuracy': 0.7752420732865009}\n",
      "{'metric': 'precomputed', 'perplexity': 30, 'learning_rate': 200.0, 'method': 'TSNE', 'fold': 2, 'confusion_matrix': array([[17282,    30],\n",
      "       [ 5960,  3063]]), 'matthews_cc': 0.49784685834988696, 'threshold': array([-1.70630617]), 'accuracy': 0.7725460413897854}\n",
      "{'metric': 'precomputed', 'perplexity': 30, 'learning_rate': 500.0, 'method': 'TSNE', 'fold': 2, 'confusion_matrix': array([[16824,    23],\n",
      "       [ 6418,  3070]]), 'matthews_cc': 0.48045123790371336, 'threshold': array([-1.6681771]), 'accuracy': 0.7554205430036074}\n",
      "{'metric': 'precomputed', 'perplexity': 30, 'learning_rate': 1000.0, 'method': 'TSNE', 'fold': 2, 'confusion_matrix': array([[23240,  2952],\n",
      "       [    2,   141]]), 'matthews_cc': 0.19933932737227608, 'threshold': array([-1.65078728]), 'accuracy': 0.8878298841845453}\n",
      "{'metric': 'precomputed', 'perplexity': 100, 'learning_rate': 100.0, 'method': 'TSNE', 'fold': 2, 'confusion_matrix': array([[11131,    36],\n",
      "       [12111,  3057]]), 'matthews_cc': 0.30441769687398024, 'threshold': array([-1.45185865]), 'accuracy': 0.5387507119802544}\n",
      "{'metric': 'precomputed', 'perplexity': 100, 'learning_rate': 200.0, 'method': 'TSNE', 'fold': 2, 'confusion_matrix': array([[11480,     0],\n",
      "       [11762,  3093]]), 'matthews_cc': 0.32069177951329014, 'threshold': array([-1.45300608]), 'accuracy': 0.5533700398708943}\n",
      "{'metric': 'precomputed', 'perplexity': 100, 'learning_rate': 500.0, 'method': 'TSNE', 'fold': 2, 'confusion_matrix': array([[11062,     0],\n",
      "       [12180,  3093]]), 'matthews_cc': 0.31046157957080545, 'threshold': array([-1.44404153]), 'accuracy': 0.5374976267324852}\n"
     ]
    },
    {
     "name": "stderr",
     "output_type": "stream",
     "text": [
      "/home/nandsra21/anaconda3/envs/cartography/lib/python3.7/site-packages/sklearn/metrics/_classification.py:846: RuntimeWarning: invalid value encountered in double_scalars\n",
      "  mcc = cov_ytyp / np.sqrt(cov_ytyt * cov_ypyp)\n"
     ]
    },
    {
     "name": "stdout",
     "output_type": "stream",
     "text": [
      "{'metric': 'precomputed', 'perplexity': 100, 'learning_rate': 1000.0, 'method': 'TSNE', 'fold': 2, 'confusion_matrix': array([[23242,  3093],\n",
      "       [    0,     0]]), 'matthews_cc': 0.0, 'threshold': array([-1.46335807]), 'accuracy': 0.8825517372318208}\n"
     ]
    },
    {
     "name": "stderr",
     "output_type": "stream",
     "text": [
      "/home/nandsra21/anaconda3/envs/cartography/lib/python3.7/site-packages/sklearn/manifold/_spectral_embedding.py:236: UserWarning: Graph is not fully connected, spectral embedding may not work as expected.\n",
      "  warnings.warn(\"Graph is not fully connected, spectral embedding\"\n",
      "/home/nandsra21/anaconda3/envs/cartography/lib/python3.7/site-packages/sklearn/manifold/_spectral_embedding.py:236: UserWarning: Graph is not fully connected, spectral embedding may not work as expected.\n",
      "  warnings.warn(\"Graph is not fully connected, spectral embedding\"\n",
      "/home/nandsra21/anaconda3/envs/cartography/lib/python3.7/site-packages/sklearn/metrics/_classification.py:846: RuntimeWarning: invalid value encountered in double_scalars\n",
      "  mcc = cov_ytyp / np.sqrt(cov_ytyt * cov_ypyp)\n"
     ]
    },
    {
     "name": "stdout",
     "output_type": "stream",
     "text": [
      "{'init': 'spectral', 'n_neighbors': 5, 'min_dist': 0.05, 'method': 'UMAP', 'fold': 2, 'confusion_matrix': array([[23242,  3093],\n",
      "       [    0,     0]]), 'matthews_cc': 0.0, 'threshold': array([-5.40097072]), 'accuracy': 0.8825517372318208}\n"
     ]
    },
    {
     "name": "stderr",
     "output_type": "stream",
     "text": [
      "/home/nandsra21/anaconda3/envs/cartography/lib/python3.7/site-packages/sklearn/manifold/_spectral_embedding.py:236: UserWarning: Graph is not fully connected, spectral embedding may not work as expected.\n",
      "  warnings.warn(\"Graph is not fully connected, spectral embedding\"\n",
      "/home/nandsra21/anaconda3/envs/cartography/lib/python3.7/site-packages/sklearn/manifold/_spectral_embedding.py:236: UserWarning: Graph is not fully connected, spectral embedding may not work as expected.\n",
      "  warnings.warn(\"Graph is not fully connected, spectral embedding\"\n",
      "/home/nandsra21/anaconda3/envs/cartography/lib/python3.7/site-packages/sklearn/metrics/_classification.py:846: RuntimeWarning: invalid value encountered in double_scalars\n",
      "  mcc = cov_ytyp / np.sqrt(cov_ytyt * cov_ypyp)\n"
     ]
    },
    {
     "name": "stdout",
     "output_type": "stream",
     "text": [
      "{'init': 'spectral', 'n_neighbors': 5, 'min_dist': 0.5, 'method': 'UMAP', 'fold': 2, 'confusion_matrix': array([[23242,  3093],\n",
      "       [    0,     0]]), 'matthews_cc': 0.0, 'threshold': array([-4.61611338]), 'accuracy': 0.8825517372318208}\n",
      "{'init': 'spectral', 'n_neighbors': 25, 'min_dist': 0.05, 'method': 'UMAP', 'fold': 2, 'confusion_matrix': array([[20504,    48],\n",
      "       [ 2738,  3045]]), 'matthews_cc': 0.6740318108521717, 'threshold': array([-1.77992983]), 'accuracy': 0.8942092272640972}\n",
      "{'init': 'spectral', 'n_neighbors': 25, 'min_dist': 0.5, 'method': 'UMAP', 'fold': 2, 'confusion_matrix': array([[21227,    82],\n",
      "       [ 2015,  3011]]), 'matthews_cc': 0.7265336106657786, 'threshold': array([-1.7582793]), 'accuracy': 0.9203721283463072}\n",
      "{'init': 'spectral', 'n_neighbors': 200, 'min_dist': 0.05, 'method': 'UMAP', 'fold': 2, 'confusion_matrix': array([[21740,   176],\n",
      "       [ 1502,  2917]]), 'matthews_cc': 0.7568545827261357, 'threshold': array([-1.48202344]), 'accuracy': 0.9362825137649516}\n",
      "{'init': 'spectral', 'n_neighbors': 200, 'min_dist': 0.5, 'method': 'UMAP', 'fold': 2, 'confusion_matrix': array([[21427,   248],\n",
      "       [ 1815,  2845]]), 'matthews_cc': 0.7101101887814356, 'threshold': array([-1.44436346]), 'accuracy': 0.9216631858743117}\n",
      "{'metric': 'precomputed', 'perplexity': 15, 'learning_rate': 100.0, 'method': 'TSNE', 'fold': 3, 'confusion_matrix': array([[19035,     0],\n",
      "       [ 4375,  2925]]), 'matthews_cc': 0.5707911605512006, 'threshold': array([-1.66796478]), 'accuracy': 0.8338712739700019}\n",
      "{'metric': 'precomputed', 'perplexity': 15, 'learning_rate': 200.0, 'method': 'TSNE', 'fold': 3, 'confusion_matrix': array([[19674,     0],\n",
      "       [ 3736,  2925]]), 'matthews_cc': 0.607489596765602, 'threshold': array([-1.96048862]), 'accuracy': 0.8581355610404405}\n",
      "{'metric': 'precomputed', 'perplexity': 15, 'learning_rate': 500.0, 'method': 'TSNE', 'fold': 3, 'confusion_matrix': array([[20058,     8],\n",
      "       [ 3352,  2917]]), 'matthews_cc': 0.6301323601452818, 'threshold': array([-2.12856578]), 'accuracy': 0.8724131384089615}\n",
      "{'metric': 'precomputed', 'perplexity': 15, 'learning_rate': 1000.0, 'method': 'TSNE', 'fold': 3, 'confusion_matrix': array([[23403,  2680],\n",
      "       [    7,   245]]), 'matthews_cc': 0.2693839097231213, 'threshold': array([-1.78338152]), 'accuracy': 0.8979684830074046}\n",
      "{'metric': 'precomputed', 'perplexity': 30, 'learning_rate': 100.0, 'method': 'TSNE', 'fold': 3, 'confusion_matrix': array([[18131,     0],\n",
      "       [ 5279,  2925]]), 'matthews_cc': 0.5254849490402393, 'threshold': array([-1.68665854]), 'accuracy': 0.7995443326371748}\n",
      "{'metric': 'precomputed', 'perplexity': 30, 'learning_rate': 200.0, 'method': 'TSNE', 'fold': 3, 'confusion_matrix': array([[17734,     0],\n",
      "       [ 5676,  2925]]), 'matthews_cc': 0.507564345106859, 'threshold': array([-1.66038537]), 'accuracy': 0.7844693373837099}\n",
      "{'metric': 'precomputed', 'perplexity': 30, 'learning_rate': 500.0, 'method': 'TSNE', 'fold': 3, 'confusion_matrix': array([[17634,     0],\n",
      "       [ 5776,  2925]]), 'matthews_cc': 0.5032144021558653, 'threshold': array([-1.66046976]), 'accuracy': 0.7806721093601671}\n",
      "{'metric': 'precomputed', 'perplexity': 30, 'learning_rate': 1000.0, 'method': 'TSNE', 'fold': 3, 'confusion_matrix': array([[23405,  2766],\n",
      "       [    5,   159]]), 'matthews_cc': 0.21626839085699565, 'threshold': array([-1.67741064]), 'accuracy': 0.8947788114676286}\n",
      "{'metric': 'precomputed', 'perplexity': 100, 'learning_rate': 100.0, 'method': 'TSNE', 'fold': 3, 'confusion_matrix': array([[11231,     0],\n",
      "       [12179,  2925]]), 'matthews_cc': 0.3048073628526706, 'threshold': array([-1.42289714]), 'accuracy': 0.5375355990127207}\n",
      "{'metric': 'precomputed', 'perplexity': 100, 'learning_rate': 200.0, 'method': 'TSNE', 'fold': 3, 'confusion_matrix': array([[11061,     0],\n",
      "       [12349,  2925]]), 'matthews_cc': 0.3008036012665111, 'threshold': array([-1.41324057]), 'accuracy': 0.531080311372698}\n",
      "{'metric': 'precomputed', 'perplexity': 100, 'learning_rate': 500.0, 'method': 'TSNE', 'fold': 3, 'confusion_matrix': array([[10488,    66],\n",
      "       [12922,  2859]]), 'matthews_cc': 0.2727946966414201, 'threshold': array([-1.48410229]), 'accuracy': 0.5068160243022594}\n"
     ]
    },
    {
     "name": "stderr",
     "output_type": "stream",
     "text": [
      "/home/nandsra21/anaconda3/envs/cartography/lib/python3.7/site-packages/sklearn/metrics/_classification.py:846: RuntimeWarning: invalid value encountered in double_scalars\n",
      "  mcc = cov_ytyp / np.sqrt(cov_ytyt * cov_ypyp)\n"
     ]
    },
    {
     "name": "stdout",
     "output_type": "stream",
     "text": [
      "{'metric': 'precomputed', 'perplexity': 100, 'learning_rate': 1000.0, 'method': 'TSNE', 'fold': 3, 'confusion_matrix': array([[23410,  2925],\n",
      "       [    0,     0]]), 'matthews_cc': 0.0, 'threshold': array([-1.36103871]), 'accuracy': 0.8889310803113727}\n"
     ]
    },
    {
     "name": "stderr",
     "output_type": "stream",
     "text": [
      "/home/nandsra21/anaconda3/envs/cartography/lib/python3.7/site-packages/sklearn/manifold/_spectral_embedding.py:236: UserWarning: Graph is not fully connected, spectral embedding may not work as expected.\n",
      "  warnings.warn(\"Graph is not fully connected, spectral embedding\"\n",
      "/home/nandsra21/anaconda3/envs/cartography/lib/python3.7/site-packages/sklearn/manifold/_spectral_embedding.py:236: UserWarning: Graph is not fully connected, spectral embedding may not work as expected.\n",
      "  warnings.warn(\"Graph is not fully connected, spectral embedding\"\n",
      "/home/nandsra21/anaconda3/envs/cartography/lib/python3.7/site-packages/sklearn/metrics/_classification.py:846: RuntimeWarning: invalid value encountered in double_scalars\n",
      "  mcc = cov_ytyp / np.sqrt(cov_ytyt * cov_ypyp)\n"
     ]
    },
    {
     "name": "stdout",
     "output_type": "stream",
     "text": [
      "{'init': 'spectral', 'n_neighbors': 5, 'min_dist': 0.05, 'method': 'UMAP', 'fold': 3, 'confusion_matrix': array([[23410,  2925],\n",
      "       [    0,     0]]), 'matthews_cc': 0.0, 'threshold': array([-12.0315945]), 'accuracy': 0.8889310803113727}\n"
     ]
    },
    {
     "name": "stderr",
     "output_type": "stream",
     "text": [
      "/home/nandsra21/anaconda3/envs/cartography/lib/python3.7/site-packages/sklearn/manifold/_spectral_embedding.py:236: UserWarning: Graph is not fully connected, spectral embedding may not work as expected.\n",
      "  warnings.warn(\"Graph is not fully connected, spectral embedding\"\n",
      "/home/nandsra21/anaconda3/envs/cartography/lib/python3.7/site-packages/sklearn/manifold/_spectral_embedding.py:236: UserWarning: Graph is not fully connected, spectral embedding may not work as expected.\n",
      "  warnings.warn(\"Graph is not fully connected, spectral embedding\"\n",
      "/home/nandsra21/anaconda3/envs/cartography/lib/python3.7/site-packages/sklearn/metrics/_classification.py:846: RuntimeWarning: invalid value encountered in double_scalars\n",
      "  mcc = cov_ytyp / np.sqrt(cov_ytyt * cov_ypyp)\n"
     ]
    },
    {
     "name": "stdout",
     "output_type": "stream",
     "text": [
      "{'init': 'spectral', 'n_neighbors': 5, 'min_dist': 0.5, 'method': 'UMAP', 'fold': 3, 'confusion_matrix': array([[23410,  2925],\n",
      "       [    0,     0]]), 'matthews_cc': 0.0, 'threshold': array([-12.50389185]), 'accuracy': 0.8889310803113727}\n",
      "{'init': 'spectral', 'n_neighbors': 25, 'min_dist': 0.05, 'method': 'UMAP', 'fold': 3, 'confusion_matrix': array([[20607,    37],\n",
      "       [ 2803,  2888]]), 'matthews_cc': 0.6623684100997428, 'threshold': array([-1.78998418]), 'accuracy': 0.8921587241313841}\n",
      "{'init': 'spectral', 'n_neighbors': 25, 'min_dist': 0.5, 'method': 'UMAP', 'fold': 3, 'confusion_matrix': array([[20586,   150],\n",
      "       [ 2824,  2775]]), 'matthews_cc': 0.6359474383924629, 'threshold': array([-1.80409942]), 'accuracy': 0.8870704385798367}\n",
      "{'init': 'spectral', 'n_neighbors': 200, 'min_dist': 0.05, 'method': 'UMAP', 'fold': 3, 'confusion_matrix': array([[21145,   210],\n",
      "       [ 2265,  2715]]), 'matthews_cc': 0.6671694603929904, 'threshold': array([-1.61454479]), 'accuracy': 0.9060186064173154}\n",
      "{'init': 'spectral', 'n_neighbors': 200, 'min_dist': 0.5, 'method': 'UMAP', 'fold': 3, 'confusion_matrix': array([[20875,   272],\n",
      "       [ 2535,  2653]]), 'matthews_cc': 0.6310076803411616, 'threshold': array([-1.70727616]), 'accuracy': 0.8934118093791532}\n",
      "{'metric': 'precomputed', 'perplexity': 15, 'learning_rate': 100.0, 'method': 'TSNE', 'fold': 4, 'confusion_matrix': array([[19131,     0],\n",
      "       [ 4282,  2922]]), 'matthews_cc': 0.5756964574298481, 'threshold': array([-1.67514013]), 'accuracy': 0.8374026960318968}\n",
      "{'metric': 'precomputed', 'perplexity': 15, 'learning_rate': 200.0, 'method': 'TSNE', 'fold': 4, 'confusion_matrix': array([[20240,     0],\n",
      "       [ 3173,  2922]]), 'matthews_cc': 0.6437688702523763, 'threshold': array([-1.96952542]), 'accuracy': 0.8795139548129866}\n",
      "{'metric': 'precomputed', 'perplexity': 15, 'learning_rate': 500.0, 'method': 'TSNE', 'fold': 4, 'confusion_matrix': array([[20502,     0],\n",
      "       [ 2911,  2922]]), 'matthews_cc': 0.6623136406213385, 'threshold': array([-2.0864122]), 'accuracy': 0.8894626922346687}\n",
      "{'metric': 'precomputed', 'perplexity': 15, 'learning_rate': 1000.0, 'method': 'TSNE', 'fold': 4, 'confusion_matrix': array([[23411,  2825],\n",
      "       [    2,    97]]), 'matthews_cc': 0.169931842176535, 'threshold': array([-1.67650781]), 'accuracy': 0.8926523637744447}\n",
      "{'metric': 'precomputed', 'perplexity': 30, 'learning_rate': 100.0, 'method': 'TSNE', 'fold': 4, 'confusion_matrix': array([[17266,     0],\n",
      "       [ 6147,  2922]]), 'matthews_cc': 0.4874473801667434, 'threshold': array([-1.67765399]), 'accuracy': 0.7665843933928232}\n",
      "{'metric': 'precomputed', 'perplexity': 30, 'learning_rate': 200.0, 'method': 'TSNE', 'fold': 4, 'confusion_matrix': array([[17553,     0],\n",
      "       [ 5860,  2922]]), 'matthews_cc': 0.4994482931364852, 'threshold': array([-1.67401239]), 'accuracy': 0.7774824378203911}\n",
      "{'metric': 'precomputed', 'perplexity': 30, 'learning_rate': 500.0, 'method': 'TSNE', 'fold': 4, 'confusion_matrix': array([[17047,     0],\n",
      "       [ 6366,  2922]]), 'matthews_cc': 0.4786019353335882, 'threshold': array([-1.70029185]), 'accuracy': 0.7582684640212645}\n",
      "{'metric': 'precomputed', 'perplexity': 30, 'learning_rate': 1000.0, 'method': 'TSNE', 'fold': 4, 'confusion_matrix': array([[23413,  2912],\n",
      "       [    0,    10]]), 'matthews_cc': 0.05517015915779889, 'threshold': array([-1.68271151]), 'accuracy': 0.8894247199544333}\n",
      "{'metric': 'precomputed', 'perplexity': 100, 'learning_rate': 100.0, 'method': 'TSNE', 'fold': 4, 'confusion_matrix': array([[11226,     0],\n",
      "       [12187,  2922]]), 'matthews_cc': 0.30451327604785466, 'threshold': array([-1.35482828]), 'accuracy': 0.5372318207708373}\n",
      "{'metric': 'precomputed', 'perplexity': 100, 'learning_rate': 200.0, 'method': 'TSNE', 'fold': 4, 'confusion_matrix': array([[12247,     0],\n",
      "       [11166,  2922]]), 'matthews_cc': 0.3293834398305587, 'threshold': array([-1.44666903]), 'accuracy': 0.5760015188912094}\n",
      "{'metric': 'precomputed', 'perplexity': 100, 'learning_rate': 500.0, 'method': 'TSNE', 'fold': 4, 'confusion_matrix': array([[11920,     0],\n",
      "       [11493,  2922]]), 'matthews_cc': 0.3212494387390585, 'threshold': array([-1.44659575]), 'accuracy': 0.5635845832542244}\n"
     ]
    },
    {
     "name": "stderr",
     "output_type": "stream",
     "text": [
      "/home/nandsra21/anaconda3/envs/cartography/lib/python3.7/site-packages/sklearn/metrics/_classification.py:846: RuntimeWarning: invalid value encountered in double_scalars\n",
      "  mcc = cov_ytyp / np.sqrt(cov_ytyt * cov_ypyp)\n"
     ]
    },
    {
     "name": "stdout",
     "output_type": "stream",
     "text": [
      "{'metric': 'precomputed', 'perplexity': 100, 'learning_rate': 1000.0, 'method': 'TSNE', 'fold': 4, 'confusion_matrix': array([[23413,  2922],\n",
      "       [    0,     0]]), 'matthews_cc': 0.0, 'threshold': array([-1.49693769]), 'accuracy': 0.889044997152079}\n"
     ]
    },
    {
     "name": "stderr",
     "output_type": "stream",
     "text": [
      "/home/nandsra21/anaconda3/envs/cartography/lib/python3.7/site-packages/sklearn/manifold/_spectral_embedding.py:236: UserWarning: Graph is not fully connected, spectral embedding may not work as expected.\n",
      "  warnings.warn(\"Graph is not fully connected, spectral embedding\"\n",
      "/home/nandsra21/anaconda3/envs/cartography/lib/python3.7/site-packages/sklearn/manifold/_spectral_embedding.py:236: UserWarning: Graph is not fully connected, spectral embedding may not work as expected.\n",
      "  warnings.warn(\"Graph is not fully connected, spectral embedding\"\n",
      "/home/nandsra21/anaconda3/envs/cartography/lib/python3.7/site-packages/sklearn/metrics/_classification.py:846: RuntimeWarning: invalid value encountered in double_scalars\n",
      "  mcc = cov_ytyp / np.sqrt(cov_ytyt * cov_ypyp)\n"
     ]
    },
    {
     "name": "stdout",
     "output_type": "stream",
     "text": [
      "{'init': 'spectral', 'n_neighbors': 5, 'min_dist': 0.05, 'method': 'UMAP', 'fold': 4, 'confusion_matrix': array([[23413,  2922],\n",
      "       [    0,     0]]), 'matthews_cc': 0.0, 'threshold': array([-3.38579643]), 'accuracy': 0.889044997152079}\n"
     ]
    },
    {
     "name": "stderr",
     "output_type": "stream",
     "text": [
      "/home/nandsra21/anaconda3/envs/cartography/lib/python3.7/site-packages/sklearn/manifold/_spectral_embedding.py:236: UserWarning: Graph is not fully connected, spectral embedding may not work as expected.\n",
      "  warnings.warn(\"Graph is not fully connected, spectral embedding\"\n",
      "/home/nandsra21/anaconda3/envs/cartography/lib/python3.7/site-packages/sklearn/manifold/_spectral_embedding.py:236: UserWarning: Graph is not fully connected, spectral embedding may not work as expected.\n",
      "  warnings.warn(\"Graph is not fully connected, spectral embedding\"\n",
      "/home/nandsra21/anaconda3/envs/cartography/lib/python3.7/site-packages/sklearn/metrics/_classification.py:846: RuntimeWarning: invalid value encountered in double_scalars\n",
      "  mcc = cov_ytyp / np.sqrt(cov_ytyt * cov_ypyp)\n"
     ]
    },
    {
     "name": "stdout",
     "output_type": "stream",
     "text": [
      "{'init': 'spectral', 'n_neighbors': 5, 'min_dist': 0.5, 'method': 'UMAP', 'fold': 4, 'confusion_matrix': array([[23413,  2922],\n",
      "       [    0,     0]]), 'matthews_cc': 0.0, 'threshold': array([-3.55287367]), 'accuracy': 0.889044997152079}\n",
      "{'init': 'spectral', 'n_neighbors': 25, 'min_dist': 0.05, 'method': 'UMAP', 'fold': 4, 'confusion_matrix': array([[20508,     0],\n",
      "       [ 2905,  2922]]), 'matthews_cc': 0.6627514988305941, 'threshold': array([-1.81505279]), 'accuracy': 0.8896905259160812}\n",
      "{'init': 'spectral', 'n_neighbors': 25, 'min_dist': 0.5, 'method': 'UMAP', 'fold': 4, 'confusion_matrix': array([[21198,   104],\n",
      "       [ 2215,  2818]]), 'matthews_cc': 0.6948092219373799, 'threshold': array([-1.81168609]), 'accuracy': 0.9119422821340422}\n",
      "{'init': 'spectral', 'n_neighbors': 200, 'min_dist': 0.05, 'method': 'UMAP', 'fold': 4, 'confusion_matrix': array([[21148,    67],\n",
      "       [ 2265,  2855]]), 'matthews_cc': 0.6986462503422476, 'threshold': array([-1.51814206]), 'accuracy': 0.9114486424909816}\n",
      "{'init': 'spectral', 'n_neighbors': 200, 'min_dist': 0.5, 'method': 'UMAP', 'fold': 4, 'confusion_matrix': array([[20899,   168],\n",
      "       [ 2514,  2754]]), 'matthews_cc': 0.655689025860542, 'threshold': array([-1.61174231]), 'accuracy': 0.8981583444085818}\n"
     ]
    }
   ],
   "source": [
    "grid_search_results = []\n",
    "i = 0\n",
    "fold_factory = KFold(n_splits=5, shuffle=True)\n",
    "folds = fold_factory.split(sequence_names)\n",
    "for k, (training_index, validation_index) in enumerate(folds): \n",
    "    i = 0\n",
    "    for embed in tuned_parameter_values:\n",
    "        keys, values = zip(*embed.items())\n",
    "        experiments = [dict(zip(keys, v)) for v in itertools.product(*values)]\n",
    "        for experiment in experiments:\n",
    "            \n",
    "            method_dict = default_tuned_values[i].copy()\n",
    "            experiment_tuple = [(k, v) for k, v in experiment.items()]\n",
    "            method_dict.update(experiment_tuple)\n",
    "            \n",
    "            embedder = list_of_embeddings[i](**method_dict)\n",
    "            \n",
    "            training_distance_matrix = distance_matrix[training_index][:, training_index]\n",
    "            training_embedding = embedder.fit_transform(training_distance_matrix)\n",
    "            \n",
    "            training_embedding_distances = pdist(training_embedding).reshape(-1, 1)\n",
    "\n",
    "        \n",
    "            training_clade_status_for_pairs = assign_clade_status_to_pairs(\n",
    "                clade_annotations,\n",
    "                training_index\n",
    "            )\n",
    "\n",
    "            classifier = make_pipeline(\n",
    "                StandardScaler(),\n",
    "                LinearSVC(random_state=0, tol=1e-5)\n",
    "            )\n",
    "\n",
    "            classifier.fit(training_embedding_distances, training_clade_status_for_pairs)\n",
    "            classifier_threshold = (0.5 - classifier.named_steps[\"linearsvc\"].intercept_) / classifier.named_steps[\"linearsvc\"].coef_[0]\n",
    "\n",
    "\n",
    "            validation_distance_matrix = distance_matrix[validation_index][:, validation_index]\n",
    "\n",
    "            validation_embedding = embedder.fit_transform(validation_distance_matrix)\n",
    "\n",
    "            validation_embedding_distances = pdist(validation_embedding).reshape(-1, 1)\n",
    "\n",
    "            validation_clade_status_for_pairs = assign_clade_status_to_pairs(\n",
    "                clade_annotations,\n",
    "                validation_index\n",
    "            )\n",
    "\n",
    "            confusion_matrix_val = confusion_matrix(classifier.predict(validation_embedding_distances), validation_clade_status_for_pairs)\n",
    "            matthews_cc_val = matthews_corrcoef(classifier.predict(validation_embedding_distances), validation_clade_status_for_pairs)\n",
    "\n",
    "            accuracy = classifier.score(\n",
    "                validation_embedding_distances,\n",
    "                validation_clade_status_for_pairs\n",
    "            )\n",
    "            method_dict[\"method\"] = list_of_embeddings_strings[i]\n",
    "            method_dict[\"fold\"] = k\n",
    "            method_dict[\"confusion_matrix\"] = confusion_matrix_val\n",
    "            method_dict[\"matthews_cc\"] = matthews_cc_val\n",
    "            method_dict[\"threshold\"] = classifier_threshold\n",
    "            method_dict[\"accuracy\"] = accuracy\n",
    "            \n",
    "            print(method_dict)\n",
    "            grid_search_results.append(method_dict)\n",
    "        i = i + 1"
   ]
  },
  {
   "cell_type": "markdown",
   "metadata": {},
   "source": [
    "# Grid Search Plot"
   ]
  },
  {
   "cell_type": "code",
   "execution_count": 310,
   "metadata": {},
   "outputs": [],
   "source": [
    "df = pd.DataFrame(grid_search_results)"
   ]
  },
  {
   "cell_type": "code",
   "execution_count": 337,
   "metadata": {},
   "outputs": [
    {
     "data": {
      "text/plain": [
       "Text(0, 0.5, 'MCC')"
      ]
     },
     "execution_count": 337,
     "metadata": {},
     "output_type": "execute_result"
    },
    {
     "data": {
      "image/png": "[encoded data removed]",
      "text/plain": [
       "<Figure size 800x550 with 4 Axes>"
      ]
     },
     "metadata": {},
     "output_type": "display_data"
    }
   ],
   "source": [
    "# Creates two subplots and unpacks the output array immediately\n",
    "f, (ax1, ax2, ax3, ax4) = plt.subplots(1,4, sharey=True)\n",
    "ax1.scatter(df[\"learning_rate\"], df[\"matthews_cc\"], label=\"learning rate\")\n",
    "ax2.scatter(df[\"perplexity\"], df[\"matthews_cc\"], color=\"red\", label=\"perplexity\")\n",
    "ax1.set_title('TSNE')\n",
    "ax3.scatter(df[\"n_neighbors\"], df[\"matthews_cc\"], label=\"n neighbors\")\n",
    "ax4.scatter(df[\"min_dist\"], df[\"matthews_cc\"], color=\"red\", label=\"minimum distance\")\n",
    "ax3.set_title(\"UMAP\")\n",
    "ax1.legend(bbox_to_anchor=(0, -0.15, 1, 0))\n",
    "ax2.legend(bbox_to_anchor=(0, -0.15, -.37, -.1))\n",
    "ax3.legend(bbox_to_anchor=(0, -0.15, 1, 0))\n",
    "ax4.legend(bbox_to_anchor=(0, -0.15, .1, -.1))\n",
    "ax1.set_ylabel('MCC')"
   ]
  },
  {
   "cell_type": "code",
   "execution_count": 252,
   "metadata": {},
   "outputs": [],
   "source": [
    "df = pd.DataFrame(grid_search_results)"
   ]
  },
  {
   "cell_type": "code",
   "execution_count": 300,
   "metadata": {},
   "outputs": [],
   "source": [
    "df_TSNE = df[df.method == 'TSNE'].dropna(axis = 1)\n",
    "df_UMAP = df[df.method == 'UMAP'].dropna(axis = 1)\n",
    "df_MDS = df[df.method == 'MDS'].dropna(axis = 1)"
   ]
  },
  {
   "cell_type": "code",
   "execution_count": 266,
   "metadata": {},
   "outputs": [],
   "source": [
    "list_of_results = [TSNE_dictionary, UMAP_dictionary, MDS_dictionary]"
   ]
  },
  {
   "cell_type": "code",
   "execution_count": 296,
   "metadata": {},
   "outputs": [
    {
     "data": {
      "text/plain": [
       "matthews_cc    0.636214\n",
       "Name: (15.0, 100.0), dtype: float64"
      ]
     },
     "execution_count": 296,
     "metadata": {},
     "output_type": "execute_result"
    }
   ],
   "source": [
    "#perplexity: 15, learning rate: 100\n",
    "TSNE_grouped = pd.DataFrame(df_TSNE.groupby([\"perplexity\", \"learning_rate\"])['matthews_cc'].mean())\n",
    "TSNE_grouped.iloc[TSNE_grouped[\"matthews_cc\"].argmax()]"
   ]
  },
  {
   "cell_type": "code",
   "execution_count": 297,
   "metadata": {},
   "outputs": [
    {
     "data": {
      "text/plain": [
       "matthews_cc    0.761824\n",
       "Name: (25.0, 0.05), dtype: float64"
      ]
     },
     "execution_count": 297,
     "metadata": {},
     "output_type": "execute_result"
    }
   ],
   "source": [
    "# neighbors: 25, min_dist: .05\n",
    "UMAP_grouped = pd.DataFrame(df_UMAP.groupby([\"n_neighbors\", \"min_dist\"])['matthews_cc'].mean())\n",
    "UMAP_grouped.iloc[UMAP_grouped[\"matthews_cc\"].argmax()]"
   ]
  },
  {
   "cell_type": "markdown",
   "metadata": {},
   "source": [
    "# Main Classification Work"
   ]
  },
  {
   "cell_type": "markdown",
   "metadata": {},
   "source": [
    "### For PCA"
   ]
  },
  {
   "cell_type": "code",
   "execution_count": 270,
   "metadata": {},
   "outputs": [],
   "source": [
    "import re"
   ]
  },
  {
   "cell_type": "code",
   "execution_count": 353,
   "metadata": {},
   "outputs": [],
   "source": [
    "total_list_methods = []"
   ]
  },
  {
   "cell_type": "code",
   "execution_count": 354,
   "metadata": {},
   "outputs": [],
   "source": [
    "list_of_embedding_strings = [\"t-SNE\",\"UMAP\",\"MDS\", \"PCA\"]"
   ]
  },
  {
   "cell_type": "code",
   "execution_count": 355,
   "metadata": {},
   "outputs": [],
   "source": [
    "embedding_class = [TSNE, UMAP, MDS, PCA]"
   ]
  },
  {
   "cell_type": "code",
   "execution_count": 356,
   "metadata": {},
   "outputs": [
    {
     "data": {
      "text/plain": [
       "[{'metric': 'precomputed', 'perplexity': 15, 'learning_rate': 100.0},\n",
       " {'init': 'spectral', 'n_neighbors': 25, 'min_dist': 0.05},\n",
       " {'dissimilarity': 'precomputed', 'n_components': 10},\n",
       " {'n_components': 10, 'svd_solver': 'full'}]"
      ]
     },
     "execution_count": 356,
     "metadata": {},
     "output_type": "execute_result"
    }
   ],
   "source": [
    "default_tuned_values"
   ]
  },
  {
   "cell_type": "code",
   "execution_count": 357,
   "metadata": {},
   "outputs": [],
   "source": [
    "numbers = list(sequences_by_name.values())[:]\n",
    "for i in range(0,len(list(sequences_by_name.values()))):\n",
    "    numbers[i] = re.sub(r'[^AGCT]', '5', numbers[i])\n",
    "    numbers[i] = list(numbers[i].replace('A','1').replace('G','2').replace('C', '3').replace('T','4'))\n",
    "    numbers[i] = [int(j) for j in numbers[i]]\n"
   ]
  },
  {
   "cell_type": "code",
   "execution_count": 358,
   "metadata": {},
   "outputs": [],
   "source": [
    "numbers = np.array(numbers)"
   ]
  },
  {
   "cell_type": "code",
   "execution_count": 359,
   "metadata": {},
   "outputs": [],
   "source": [
    "fold_factory = KFold(n_splits=5, shuffle=True)\n",
    "folds = fold_factory.split(sequence_names)"
   ]
  },
  {
   "cell_type": "code",
   "execution_count": 360,
   "metadata": {},
   "outputs": [
    {
     "name": "stdout",
     "output_type": "stream",
     "text": [
      "Fit to fold: 0\n",
      "here\n",
      "0\n",
      "<class 'sklearn.manifold._t_sne.TSNE'>\n",
      "{'method': 't-SNE', 'fold': 0, 'confusion_matrix': array([[19287,     0],\n",
      "       [ 3944,  3104]]), 'matthews_cc': 0.6046809635218207, 'threshold': array([-1.76135595]), 'accuracy': 0.8502373267514715}\n",
      "1\n",
      "<class 'umap.umap_.UMAP'>\n",
      "{'method': 'UMAP', 'fold': 0, 'confusion_matrix': array([[20819,   172],\n",
      "       [ 2412,  2932]]), 'matthews_cc': 0.6740894000903227, 'threshold': array([-1.80435122]), 'accuracy': 0.9018796278716537}\n",
      "2\n",
      "<class 'sklearn.manifold._mds.MDS'>\n",
      "{'method': 'MDS', 'fold': 0, 'confusion_matrix': array([[22491,  1090],\n",
      "       [  740,  2014]]), 'matthews_cc': 0.6501404606287026, 'threshold': array([-1.7533658]), 'accuracy': 0.9305107271691665}\n",
      "3\n",
      "{'method': 'PCA', 'fold': 0, 'confusion_matrix': array([[22716,   751],\n",
      "       [  515,  2353]]), 'matthews_cc': 0.7617047717911771, 'threshold': array([-1.84933389]), 'accuracy': 0.951927093221948}\n",
      "Fit to fold: 1\n",
      "here\n",
      "0\n",
      "<class 'sklearn.manifold._t_sne.TSNE'>\n",
      "{'method': 't-SNE', 'fold': 1, 'confusion_matrix': array([[19363,     0],\n",
      "       [ 4078,  2894]]), 'matthews_cc': 0.585556531303844, 'threshold': array([-1.70203245]), 'accuracy': 0.8451490411999241}\n",
      "1\n",
      "<class 'umap.umap_.UMAP'>\n",
      "{'method': 'UMAP', 'fold': 1, 'confusion_matrix': array([[20563,     0],\n",
      "       [ 2878,  2894]]), 'matthews_cc': 0.6631950446028039, 'threshold': array([-1.77686511]), 'accuracy': 0.8907157774824378}\n",
      "2\n",
      "<class 'sklearn.manifold._mds.MDS'>\n",
      "{'method': 'MDS', 'fold': 1, 'confusion_matrix': array([[22936,  1180],\n",
      "       [  505,  1714]]), 'matthews_cc': 0.6425788004257528, 'threshold': array([-1.72247357]), 'accuracy': 0.9360167078033036}\n",
      "3\n",
      "{'method': 'PCA', 'fold': 1, 'confusion_matrix': array([[22937,   635],\n",
      "       [  504,  2259]]), 'matthews_cc': 0.7747044705475049, 'threshold': array([-1.82181985]), 'accuracy': 0.9567495728118474}\n",
      "Fit to fold: 2\n",
      "here\n",
      "0\n",
      "<class 'sklearn.manifold._t_sne.TSNE'>\n",
      "{'method': 't-SNE', 'fold': 2, 'confusion_matrix': array([[19321,    27],\n",
      "       [ 3983,  3004]]), 'matthews_cc': 0.5928604468109646, 'threshold': array([-1.85509797]), 'accuracy': 0.8477311562559332}\n",
      "1\n",
      "<class 'umap.umap_.UMAP'>\n",
      "{'method': 'UMAP', 'fold': 2, 'confusion_matrix': array([[20376,    26],\n",
      "       [ 2928,  3005]]), 'matthews_cc': 0.6613652283835415, 'threshold': array([-1.79734294]), 'accuracy': 0.8878298841845453}\n",
      "2\n",
      "<class 'sklearn.manifold._mds.MDS'>\n",
      "{'method': 'MDS', 'fold': 2, 'confusion_matrix': array([[22776,  1128],\n",
      "       [  528,  1903]]), 'matthews_cc': 0.6672231876462458, 'threshold': array([-1.74507073]), 'accuracy': 0.9371179039301311}\n",
      "3\n",
      "{'method': 'PCA', 'fold': 2, 'confusion_matrix': array([[22971,   836],\n",
      "       [  333,  2195]]), 'matthews_cc': 0.7690611385371151, 'threshold': array([-1.83538394]), 'accuracy': 0.9556104044047845}\n",
      "Fit to fold: 3\n",
      "here\n",
      "0\n",
      "<class 'sklearn.manifold._t_sne.TSNE'>\n",
      "{'method': 't-SNE', 'fold': 3, 'confusion_matrix': array([[19013,    46],\n",
      "       [ 4595,  2681]]), 'matthews_cc': 0.5372473594349659, 'threshold': array([-1.63033803]), 'accuracy': 0.823770647427378}\n",
      "1\n",
      "<class 'umap.umap_.UMAP'>\n",
      "{'method': 'UMAP', 'fold': 3, 'confusion_matrix': array([[20632,    47],\n",
      "       [ 2976,  2680]]), 'matthews_cc': 0.6356008929164576, 'threshold': array([-1.79181015]), 'accuracy': 0.8852097968483007}\n",
      "2\n",
      "<class 'sklearn.manifold._mds.MDS'>\n",
      "{'method': 'MDS', 'fold': 3, 'confusion_matrix': array([[23057,  1058],\n",
      "       [  551,  1669]]), 'matthews_cc': 0.6455612720135429, 'threshold': array([-1.72198782]), 'accuracy': 0.9389026011011962}\n",
      "3\n",
      "{'method': 'PCA', 'fold': 3, 'confusion_matrix': array([[23108,   671],\n",
      "       [  500,  2056]]), 'matthews_cc': 0.7541510886193026, 'threshold': array([-1.80377529]), 'accuracy': 0.9555344598443136}\n",
      "Fit to fold: 4\n",
      "here\n",
      "0\n",
      "<class 'sklearn.manifold._t_sne.TSNE'>\n",
      "{'method': 't-SNE', 'fold': 4, 'confusion_matrix': array([[19263,     0],\n",
      "       [ 3867,  3205]]), 'matthews_cc': 0.6143516610851785, 'threshold': array([-1.64693563]), 'accuracy': 0.8531611923295994}\n",
      "1\n",
      "<class 'umap.umap_.UMAP'>\n",
      "{'method': 'UMAP', 'fold': 4, 'confusion_matrix': array([[20686,   160],\n",
      "       [ 2444,  3045]]), 'matthews_cc': 0.6796721314083506, 'threshold': array([-1.79445101]), 'accuracy': 0.9011201822669451}\n",
      "2\n",
      "<class 'sklearn.manifold._mds.MDS'>\n",
      "{'method': 'MDS', 'fold': 4, 'confusion_matrix': array([[22737,  1306],\n",
      "       [  393,  1899]]), 'matthews_cc': 0.6675152733646066, 'threshold': array([-1.76906122]), 'accuracy': 0.9354850958800076}\n",
      "3\n",
      "{'method': 'PCA', 'fold': 4, 'confusion_matrix': array([[22760,  1002],\n",
      "       [  370,  2203]]), 'matthews_cc': 0.7392654413091324, 'threshold': array([-1.84609212]), 'accuracy': 0.9479020315169926}\n"
     ]
    }
   ],
   "source": [
    "for k, (training_index, validation_index) in enumerate(folds):\n",
    "    print(f\"Fit to fold: {k}\")\n",
    "    i = 0\n",
    "    print(\"here\")\n",
    "    for embed in default_tuned_values:\n",
    "        print(i)\n",
    "    # Calculate Euclidean distance between pairs of samples in the embedding.\n",
    "    # The output is a condensed distance matrix with distances between pairs.\n",
    "    # https://docs.scipy.org/doc/scipy/reference/generated/scipy.spatial.distance.pdist.html\n",
    "        if(list_of_embedding_strings[i] == \"PCA\"):\n",
    "            #performing PCA on my pandas dataframe\n",
    "            numbers_subset = numbers[training_index]\n",
    "            pca = PCA(**embed) #can specify n, since with no prior knowledge, I use None\n",
    "            training_embedding = pca.fit_transform(numbers_subset)\n",
    "        else:\n",
    "            # Subset distance matrix to training indices.\n",
    "            training_distance_matrix = distance_matrix[training_index][:, training_index]\n",
    "\n",
    "            # Embed training distance matrix.\n",
    "            print(embedding_class[i])\n",
    "            embedder = embedding_class[i](**embed)\n",
    "            training_embedding = embedder.fit_transform(training_distance_matrix)\n",
    "\n",
    "        # Calculate Euclidean distance between pairs of samples in the embedding.\n",
    "        # The output is a condensed distance matrix with distances between pairs.\n",
    "        # https://docs.scipy.org/doc/scipy/reference/generated/scipy.spatial.distance.pdist.html\n",
    "        training_embedding_distances = pdist(training_embedding).reshape(-1, 1)\n",
    "        # Assign a binary class to each pair of samples based on their clade memberships.\n",
    "        # Samples from different clades are assigned 0, samples from the same clade as assigned 1.\n",
    "        # This vector of binary values will be the output to fit a classifier to.\n",
    "        # These pairs should be in the same order as the embedding distances above.\n",
    "        training_clade_status_for_pairs = assign_clade_status_to_pairs(\n",
    "            clade_annotations,\n",
    "            training_index\n",
    "        )\n",
    "\n",
    "        # Use a support vector machine classifier to identify an optimal threshold\n",
    "        # to distinguish between within and between class pairs.\n",
    "        # See also: https://scikit-learn.org/stable/modules/svm.html#svm-classification\n",
    "        classifier = make_pipeline(\n",
    "            StandardScaler(),\n",
    "            LinearSVC(random_state=0, tol=1e-5)\n",
    "        )\n",
    "\n",
    "        classifier.fit(training_embedding_distances, training_clade_status_for_pairs)\n",
    "\n",
    "        classifier_threshold = (0.5 - classifier.named_steps[\"linearsvc\"].intercept_) / classifier.named_steps[\"linearsvc\"].coef_[0]\n",
    "\n",
    "        # Use a SVM to identify an optimal threshold for genetic distances.\n",
    "        genetic_classifier = make_pipeline(\n",
    "            StandardScaler(),\n",
    "            LinearSVC(random_state=0, tol=1e-5)\n",
    "        )\n",
    "        genetic_classifier.fit(squareform(training_distance_matrix).reshape(-1, 1), training_clade_status_for_pairs)\n",
    "        \n",
    "        if(list_of_embedding_strings[i] == \"PCA\"):\n",
    "            #performing PCA on my pandas dataframe\n",
    "            numbers_subset = numbers[validation_index]\n",
    "            pca = PCA(**embed) #can specify n, since with no prior knowledge, I use None\n",
    "            validation_embedding = pca.fit_transform(numbers_subset)\n",
    "        else:\n",
    "            # Subset distance matrix to validation indices.\n",
    "            validation_distance_matrix = distance_matrix[validation_index][:, validation_index]\n",
    "\n",
    "            # Embed validation distance matrix.\n",
    "            validation_embedding = embedder.fit_transform(validation_distance_matrix)\n",
    "\n",
    "        # Calculate Euclidean distance between pairs of samples in the embedding.\n",
    "        # The output should be a data frame of distances between pairs.\n",
    "        validation_embedding_distances = pdist(validation_embedding).reshape(-1, 1)\n",
    "\n",
    "        # Assign a binary class to each pair of samples based on their clade memberships.\n",
    "        # Samples from different clades are assigned 0, samples from the same clade as assigned 1.\n",
    "        # This vector of binary values will be the output to fit a classifier to.\n",
    "        # These pairs should be in the same order as the embedding distances above.\n",
    "        validation_clade_status_for_pairs = assign_clade_status_to_pairs(\n",
    "            clade_annotations,\n",
    "            validation_index\n",
    "        )\n",
    "\n",
    "        # Predict and score clade status from embedding distances and the trained classifier.\n",
    "        # The first argument is the set to predict classifier labels for. The second argument\n",
    "        # is the list of true labels. The return argument is the mean accuracy of the predicted\n",
    "        # labels.\n",
    "        # https://scikit-learn.org/stable/modules/generated/sklearn.svm.LinearSVC.html#sklearn.svm.LinearSVC.score\n",
    "\n",
    "        confusion_matrix_val = confusion_matrix(classifier.predict(validation_embedding_distances), validation_clade_status_for_pairs)\n",
    "        matthews_cc_val = matthews_corrcoef(classifier.predict(validation_embedding_distances), validation_clade_status_for_pairs)\n",
    "\n",
    "        accuracy = classifier.score(\n",
    "            validation_embedding_distances,\n",
    "            validation_clade_status_for_pairs\n",
    "        )\n",
    "        \n",
    "        genetic_accuracy = genetic_classifier.score(\n",
    "            squareform(validation_distance_matrix).reshape(-1, 1),\n",
    "            validation_clade_status_for_pairs\n",
    "        )\n",
    "\n",
    "        method_dict = {}\n",
    "        \n",
    "        method_dict[\"method\"] = list_of_embedding_strings[i]\n",
    "\n",
    "        method_dict[\"fold\"] = k\n",
    "        method_dict[\"confusion_matrix\"] = confusion_matrix_val\n",
    "        method_dict[\"matthews_cc\"] = matthews_cc_val\n",
    "        method_dict[\"threshold\"] = classifier_threshold\n",
    "        method_dict[\"accuracy\"] = accuracy\n",
    "\n",
    "\n",
    "        print(method_dict)\n",
    "        total_list_methods.append(method_dict)\n",
    "        i = i + 1\n",
    "    total_list_methods.append({\"method\":\"genetic\", \"matthews_cc\": genetic_accuracy, \"fold\":k})"
   ]
  },
  {
   "cell_type": "code",
   "execution_count": 361,
   "metadata": {},
   "outputs": [],
   "source": [
    "cross_v_info = pd.DataFrame(total_list_methods)"
   ]
  },
  {
   "cell_type": "code",
   "execution_count": 362,
   "metadata": {},
   "outputs": [
    {
     "data": {
      "text/html": [
       "<div>\n",
       "<style scoped>\n",
       "    .dataframe tbody tr th:only-of-type {\n",
       "        vertical-align: middle;\n",
       "    }\n",
       "\n",
       "    .dataframe tbody tr th {\n",
       "        vertical-align: top;\n",
       "    }\n",
       "\n",
       "    .dataframe thead th {\n",
       "        text-align: right;\n",
       "    }\n",
       "</style>\n",
       "<table border=\"1\" class=\"dataframe\">\n",
       "  <thead>\n",
       "    <tr style=\"text-align: right;\">\n",
       "      <th></th>\n",
       "      <th>method</th>\n",
       "      <th>fold</th>\n",
       "      <th>confusion_matrix</th>\n",
       "      <th>matthews_cc</th>\n",
       "      <th>threshold</th>\n",
       "      <th>accuracy</th>\n",
       "    </tr>\n",
       "  </thead>\n",
       "  <tbody>\n",
       "    <tr>\n",
       "      <th>0</th>\n",
       "      <td>t-SNE</td>\n",
       "      <td>0</td>\n",
       "      <td>[[19287, 0], [3944, 3104]]</td>\n",
       "      <td>0.604681</td>\n",
       "      <td>[-1.76135594845531]</td>\n",
       "      <td>0.850237</td>\n",
       "    </tr>\n",
       "    <tr>\n",
       "      <th>1</th>\n",
       "      <td>UMAP</td>\n",
       "      <td>0</td>\n",
       "      <td>[[20819, 172], [2412, 2932]]</td>\n",
       "      <td>0.674089</td>\n",
       "      <td>[-1.8043512181730685]</td>\n",
       "      <td>0.901880</td>\n",
       "    </tr>\n",
       "    <tr>\n",
       "      <th>2</th>\n",
       "      <td>MDS</td>\n",
       "      <td>0</td>\n",
       "      <td>[[22491, 1090], [740, 2014]]</td>\n",
       "      <td>0.650140</td>\n",
       "      <td>[-1.7533657952209305]</td>\n",
       "      <td>0.930511</td>\n",
       "    </tr>\n",
       "    <tr>\n",
       "      <th>3</th>\n",
       "      <td>PCA</td>\n",
       "      <td>0</td>\n",
       "      <td>[[22716, 751], [515, 2353]]</td>\n",
       "      <td>0.761705</td>\n",
       "      <td>[-1.849333891560181]</td>\n",
       "      <td>0.951927</td>\n",
       "    </tr>\n",
       "    <tr>\n",
       "      <th>4</th>\n",
       "      <td>genetic</td>\n",
       "      <td>0</td>\n",
       "      <td>NaN</td>\n",
       "      <td>0.925916</td>\n",
       "      <td>NaN</td>\n",
       "      <td>NaN</td>\n",
       "    </tr>\n",
       "    <tr>\n",
       "      <th>5</th>\n",
       "      <td>t-SNE</td>\n",
       "      <td>1</td>\n",
       "      <td>[[19363, 0], [4078, 2894]]</td>\n",
       "      <td>0.585557</td>\n",
       "      <td>[-1.7020324483485156]</td>\n",
       "      <td>0.845149</td>\n",
       "    </tr>\n",
       "    <tr>\n",
       "      <th>6</th>\n",
       "      <td>UMAP</td>\n",
       "      <td>1</td>\n",
       "      <td>[[20563, 0], [2878, 2894]]</td>\n",
       "      <td>0.663195</td>\n",
       "      <td>[-1.7768651093790757]</td>\n",
       "      <td>0.890716</td>\n",
       "    </tr>\n",
       "    <tr>\n",
       "      <th>7</th>\n",
       "      <td>MDS</td>\n",
       "      <td>1</td>\n",
       "      <td>[[22936, 1180], [505, 1714]]</td>\n",
       "      <td>0.642579</td>\n",
       "      <td>[-1.72247356671136]</td>\n",
       "      <td>0.936017</td>\n",
       "    </tr>\n",
       "    <tr>\n",
       "      <th>8</th>\n",
       "      <td>PCA</td>\n",
       "      <td>1</td>\n",
       "      <td>[[22937, 635], [504, 2259]]</td>\n",
       "      <td>0.774704</td>\n",
       "      <td>[-1.821819846812859]</td>\n",
       "      <td>0.956750</td>\n",
       "    </tr>\n",
       "    <tr>\n",
       "      <th>9</th>\n",
       "      <td>genetic</td>\n",
       "      <td>1</td>\n",
       "      <td>NaN</td>\n",
       "      <td>0.934118</td>\n",
       "      <td>NaN</td>\n",
       "      <td>NaN</td>\n",
       "    </tr>\n",
       "    <tr>\n",
       "      <th>10</th>\n",
       "      <td>t-SNE</td>\n",
       "      <td>2</td>\n",
       "      <td>[[19321, 27], [3983, 3004]]</td>\n",
       "      <td>0.592860</td>\n",
       "      <td>[-1.855097968042366]</td>\n",
       "      <td>0.847731</td>\n",
       "    </tr>\n",
       "    <tr>\n",
       "      <th>11</th>\n",
       "      <td>UMAP</td>\n",
       "      <td>2</td>\n",
       "      <td>[[20376, 26], [2928, 3005]]</td>\n",
       "      <td>0.661365</td>\n",
       "      <td>[-1.7973429404863641]</td>\n",
       "      <td>0.887830</td>\n",
       "    </tr>\n",
       "    <tr>\n",
       "      <th>12</th>\n",
       "      <td>MDS</td>\n",
       "      <td>2</td>\n",
       "      <td>[[22776, 1128], [528, 1903]]</td>\n",
       "      <td>0.667223</td>\n",
       "      <td>[-1.7450707287016114]</td>\n",
       "      <td>0.937118</td>\n",
       "    </tr>\n",
       "    <tr>\n",
       "      <th>13</th>\n",
       "      <td>PCA</td>\n",
       "      <td>2</td>\n",
       "      <td>[[22971, 836], [333, 2195]]</td>\n",
       "      <td>0.769061</td>\n",
       "      <td>[-1.8353839432557768]</td>\n",
       "      <td>0.955610</td>\n",
       "    </tr>\n",
       "    <tr>\n",
       "      <th>14</th>\n",
       "      <td>genetic</td>\n",
       "      <td>2</td>\n",
       "      <td>NaN</td>\n",
       "      <td>0.936055</td>\n",
       "      <td>NaN</td>\n",
       "      <td>NaN</td>\n",
       "    </tr>\n",
       "    <tr>\n",
       "      <th>15</th>\n",
       "      <td>t-SNE</td>\n",
       "      <td>3</td>\n",
       "      <td>[[19013, 46], [4595, 2681]]</td>\n",
       "      <td>0.537247</td>\n",
       "      <td>[-1.6303380276958699]</td>\n",
       "      <td>0.823771</td>\n",
       "    </tr>\n",
       "    <tr>\n",
       "      <th>16</th>\n",
       "      <td>UMAP</td>\n",
       "      <td>3</td>\n",
       "      <td>[[20632, 47], [2976, 2680]]</td>\n",
       "      <td>0.635601</td>\n",
       "      <td>[-1.7918101518858656]</td>\n",
       "      <td>0.885210</td>\n",
       "    </tr>\n",
       "    <tr>\n",
       "      <th>17</th>\n",
       "      <td>MDS</td>\n",
       "      <td>3</td>\n",
       "      <td>[[23057, 1058], [551, 1669]]</td>\n",
       "      <td>0.645561</td>\n",
       "      <td>[-1.7219878206030814]</td>\n",
       "      <td>0.938903</td>\n",
       "    </tr>\n",
       "    <tr>\n",
       "      <th>18</th>\n",
       "      <td>PCA</td>\n",
       "      <td>3</td>\n",
       "      <td>[[23108, 671], [500, 2056]]</td>\n",
       "      <td>0.754151</td>\n",
       "      <td>[-1.803775292704405]</td>\n",
       "      <td>0.955534</td>\n",
       "    </tr>\n",
       "    <tr>\n",
       "      <th>19</th>\n",
       "      <td>genetic</td>\n",
       "      <td>3</td>\n",
       "      <td>NaN</td>\n",
       "      <td>0.934840</td>\n",
       "      <td>NaN</td>\n",
       "      <td>NaN</td>\n",
       "    </tr>\n",
       "    <tr>\n",
       "      <th>20</th>\n",
       "      <td>t-SNE</td>\n",
       "      <td>4</td>\n",
       "      <td>[[19263, 0], [3867, 3205]]</td>\n",
       "      <td>0.614352</td>\n",
       "      <td>[-1.6469356337602081]</td>\n",
       "      <td>0.853161</td>\n",
       "    </tr>\n",
       "    <tr>\n",
       "      <th>21</th>\n",
       "      <td>UMAP</td>\n",
       "      <td>4</td>\n",
       "      <td>[[20686, 160], [2444, 3045]]</td>\n",
       "      <td>0.679672</td>\n",
       "      <td>[-1.794451012456673]</td>\n",
       "      <td>0.901120</td>\n",
       "    </tr>\n",
       "    <tr>\n",
       "      <th>22</th>\n",
       "      <td>MDS</td>\n",
       "      <td>4</td>\n",
       "      <td>[[22737, 1306], [393, 1899]]</td>\n",
       "      <td>0.667515</td>\n",
       "      <td>[-1.7690612187238937]</td>\n",
       "      <td>0.935485</td>\n",
       "    </tr>\n",
       "    <tr>\n",
       "      <th>23</th>\n",
       "      <td>PCA</td>\n",
       "      <td>4</td>\n",
       "      <td>[[22760, 1002], [370, 2203]]</td>\n",
       "      <td>0.739265</td>\n",
       "      <td>[-1.8460921241356831]</td>\n",
       "      <td>0.947902</td>\n",
       "    </tr>\n",
       "    <tr>\n",
       "      <th>24</th>\n",
       "      <td>genetic</td>\n",
       "      <td>4</td>\n",
       "      <td>NaN</td>\n",
       "      <td>0.935067</td>\n",
       "      <td>NaN</td>\n",
       "      <td>NaN</td>\n",
       "    </tr>\n",
       "  </tbody>\n",
       "</table>\n",
       "</div>"
      ],
      "text/plain": [
       "     method  fold              confusion_matrix  matthews_cc  \\\n",
       "0     t-SNE     0    [[19287, 0], [3944, 3104]]     0.604681   \n",
       "1      UMAP     0  [[20819, 172], [2412, 2932]]     0.674089   \n",
       "2       MDS     0  [[22491, 1090], [740, 2014]]     0.650140   \n",
       "3       PCA     0   [[22716, 751], [515, 2353]]     0.761705   \n",
       "4   genetic     0                           NaN     0.925916   \n",
       "5     t-SNE     1    [[19363, 0], [4078, 2894]]     0.585557   \n",
       "6      UMAP     1    [[20563, 0], [2878, 2894]]     0.663195   \n",
       "7       MDS     1  [[22936, 1180], [505, 1714]]     0.642579   \n",
       "8       PCA     1   [[22937, 635], [504, 2259]]     0.774704   \n",
       "9   genetic     1                           NaN     0.934118   \n",
       "10    t-SNE     2   [[19321, 27], [3983, 3004]]     0.592860   \n",
       "11     UMAP     2   [[20376, 26], [2928, 3005]]     0.661365   \n",
       "12      MDS     2  [[22776, 1128], [528, 1903]]     0.667223   \n",
       "13      PCA     2   [[22971, 836], [333, 2195]]     0.769061   \n",
       "14  genetic     2                           NaN     0.936055   \n",
       "15    t-SNE     3   [[19013, 46], [4595, 2681]]     0.537247   \n",
       "16     UMAP     3   [[20632, 47], [2976, 2680]]     0.635601   \n",
       "17      MDS     3  [[23057, 1058], [551, 1669]]     0.645561   \n",
       "18      PCA     3   [[23108, 671], [500, 2056]]     0.754151   \n",
       "19  genetic     3                           NaN     0.934840   \n",
       "20    t-SNE     4    [[19263, 0], [3867, 3205]]     0.614352   \n",
       "21     UMAP     4  [[20686, 160], [2444, 3045]]     0.679672   \n",
       "22      MDS     4  [[22737, 1306], [393, 1899]]     0.667515   \n",
       "23      PCA     4  [[22760, 1002], [370, 2203]]     0.739265   \n",
       "24  genetic     4                           NaN     0.935067   \n",
       "\n",
       "                threshold  accuracy  \n",
       "0     [-1.76135594845531]  0.850237  \n",
       "1   [-1.8043512181730685]  0.901880  \n",
       "2   [-1.7533657952209305]  0.930511  \n",
       "3    [-1.849333891560181]  0.951927  \n",
       "4                     NaN       NaN  \n",
       "5   [-1.7020324483485156]  0.845149  \n",
       "6   [-1.7768651093790757]  0.890716  \n",
       "7     [-1.72247356671136]  0.936017  \n",
       "8    [-1.821819846812859]  0.956750  \n",
       "9                     NaN       NaN  \n",
       "10   [-1.855097968042366]  0.847731  \n",
       "11  [-1.7973429404863641]  0.887830  \n",
       "12  [-1.7450707287016114]  0.937118  \n",
       "13  [-1.8353839432557768]  0.955610  \n",
       "14                    NaN       NaN  \n",
       "15  [-1.6303380276958699]  0.823771  \n",
       "16  [-1.7918101518858656]  0.885210  \n",
       "17  [-1.7219878206030814]  0.938903  \n",
       "18   [-1.803775292704405]  0.955534  \n",
       "19                    NaN       NaN  \n",
       "20  [-1.6469356337602081]  0.853161  \n",
       "21   [-1.794451012456673]  0.901120  \n",
       "22  [-1.7690612187238937]  0.935485  \n",
       "23  [-1.8460921241356831]  0.947902  \n",
       "24                    NaN       NaN  "
      ]
     },
     "execution_count": 362,
     "metadata": {},
     "output_type": "execute_result"
    }
   ],
   "source": [
    "cross_v_info.reset_index(drop=True)"
   ]
  },
  {
   "cell_type": "code",
   "execution_count": 363,
   "metadata": {},
   "outputs": [
    {
     "data": {
      "text/plain": [
       "['t-SNE', 'UMAP', 'MDS', 'PCA', 'genetic']"
      ]
     },
     "execution_count": 363,
     "metadata": {},
     "output_type": "execute_result"
    }
   ],
   "source": [
    "cross_v_info[\"method\"].unique().tolist()"
   ]
  },
  {
   "cell_type": "code",
   "execution_count": 364,
   "metadata": {},
   "outputs": [],
   "source": [
    "average = []\n",
    "for i in cross_v_info[\"method\"].unique().tolist():\n",
    "    cross_v_info_method = cross_v_info.where(cross_v_info[\"method\"] == i).dropna(how = \"all\")\n",
    "    average.append(np.average(np.array(cross_v_info_method[\"matthews_cc\"].values.tolist()).flatten()))\n",
    "    \n",
    "average = dict(zip(cross_v_info[\"method\"].unique().tolist(), average))"
   ]
  },
  {
   "cell_type": "code",
   "execution_count": 365,
   "metadata": {},
   "outputs": [
    {
     "data": {
      "text/html": [
       "<div>\n",
       "<style scoped>\n",
       "    .dataframe tbody tr th:only-of-type {\n",
       "        vertical-align: middle;\n",
       "    }\n",
       "\n",
       "    .dataframe tbody tr th {\n",
       "        vertical-align: top;\n",
       "    }\n",
       "\n",
       "    .dataframe thead th {\n",
       "        text-align: right;\n",
       "    }\n",
       "</style>\n",
       "<table border=\"1\" class=\"dataframe\">\n",
       "  <thead>\n",
       "    <tr style=\"text-align: right;\">\n",
       "      <th></th>\n",
       "      <th>method</th>\n",
       "      <th>fold</th>\n",
       "      <th>confusion_matrix</th>\n",
       "      <th>matthews_cc</th>\n",
       "      <th>threshold</th>\n",
       "      <th>accuracy</th>\n",
       "      <th>mean</th>\n",
       "    </tr>\n",
       "  </thead>\n",
       "  <tbody>\n",
       "    <tr>\n",
       "      <th>0</th>\n",
       "      <td>t-SNE</td>\n",
       "      <td>0.0</td>\n",
       "      <td>[[19287, 0], [3944, 3104]]</td>\n",
       "      <td>0.604681</td>\n",
       "      <td>[-1.76135594845531]</td>\n",
       "      <td>0.850237</td>\n",
       "      <td>NaN</td>\n",
       "    </tr>\n",
       "    <tr>\n",
       "      <th>1</th>\n",
       "      <td>UMAP</td>\n",
       "      <td>0.0</td>\n",
       "      <td>[[20819, 172], [2412, 2932]]</td>\n",
       "      <td>0.674089</td>\n",
       "      <td>[-1.8043512181730685]</td>\n",
       "      <td>0.901880</td>\n",
       "      <td>NaN</td>\n",
       "    </tr>\n",
       "    <tr>\n",
       "      <th>2</th>\n",
       "      <td>MDS</td>\n",
       "      <td>0.0</td>\n",
       "      <td>[[22491, 1090], [740, 2014]]</td>\n",
       "      <td>0.650140</td>\n",
       "      <td>[-1.7533657952209305]</td>\n",
       "      <td>0.930511</td>\n",
       "      <td>NaN</td>\n",
       "    </tr>\n",
       "    <tr>\n",
       "      <th>3</th>\n",
       "      <td>PCA</td>\n",
       "      <td>0.0</td>\n",
       "      <td>[[22716, 751], [515, 2353]]</td>\n",
       "      <td>0.761705</td>\n",
       "      <td>[-1.849333891560181]</td>\n",
       "      <td>0.951927</td>\n",
       "      <td>NaN</td>\n",
       "    </tr>\n",
       "    <tr>\n",
       "      <th>4</th>\n",
       "      <td>genetic</td>\n",
       "      <td>0.0</td>\n",
       "      <td>NaN</td>\n",
       "      <td>0.925916</td>\n",
       "      <td>NaN</td>\n",
       "      <td>NaN</td>\n",
       "      <td>NaN</td>\n",
       "    </tr>\n",
       "    <tr>\n",
       "      <th>5</th>\n",
       "      <td>t-SNE</td>\n",
       "      <td>1.0</td>\n",
       "      <td>[[19363, 0], [4078, 2894]]</td>\n",
       "      <td>0.585557</td>\n",
       "      <td>[-1.7020324483485156]</td>\n",
       "      <td>0.845149</td>\n",
       "      <td>NaN</td>\n",
       "    </tr>\n",
       "    <tr>\n",
       "      <th>6</th>\n",
       "      <td>UMAP</td>\n",
       "      <td>1.0</td>\n",
       "      <td>[[20563, 0], [2878, 2894]]</td>\n",
       "      <td>0.663195</td>\n",
       "      <td>[-1.7768651093790757]</td>\n",
       "      <td>0.890716</td>\n",
       "      <td>NaN</td>\n",
       "    </tr>\n",
       "    <tr>\n",
       "      <th>7</th>\n",
       "      <td>MDS</td>\n",
       "      <td>1.0</td>\n",
       "      <td>[[22936, 1180], [505, 1714]]</td>\n",
       "      <td>0.642579</td>\n",
       "      <td>[-1.72247356671136]</td>\n",
       "      <td>0.936017</td>\n",
       "      <td>NaN</td>\n",
       "    </tr>\n",
       "    <tr>\n",
       "      <th>8</th>\n",
       "      <td>PCA</td>\n",
       "      <td>1.0</td>\n",
       "      <td>[[22937, 635], [504, 2259]]</td>\n",
       "      <td>0.774704</td>\n",
       "      <td>[-1.821819846812859]</td>\n",
       "      <td>0.956750</td>\n",
       "      <td>NaN</td>\n",
       "    </tr>\n",
       "    <tr>\n",
       "      <th>9</th>\n",
       "      <td>genetic</td>\n",
       "      <td>1.0</td>\n",
       "      <td>NaN</td>\n",
       "      <td>0.934118</td>\n",
       "      <td>NaN</td>\n",
       "      <td>NaN</td>\n",
       "      <td>NaN</td>\n",
       "    </tr>\n",
       "    <tr>\n",
       "      <th>10</th>\n",
       "      <td>t-SNE</td>\n",
       "      <td>2.0</td>\n",
       "      <td>[[19321, 27], [3983, 3004]]</td>\n",
       "      <td>0.592860</td>\n",
       "      <td>[-1.855097968042366]</td>\n",
       "      <td>0.847731</td>\n",
       "      <td>NaN</td>\n",
       "    </tr>\n",
       "    <tr>\n",
       "      <th>11</th>\n",
       "      <td>UMAP</td>\n",
       "      <td>2.0</td>\n",
       "      <td>[[20376, 26], [2928, 3005]]</td>\n",
       "      <td>0.661365</td>\n",
       "      <td>[-1.7973429404863641]</td>\n",
       "      <td>0.887830</td>\n",
       "      <td>NaN</td>\n",
       "    </tr>\n",
       "    <tr>\n",
       "      <th>12</th>\n",
       "      <td>MDS</td>\n",
       "      <td>2.0</td>\n",
       "      <td>[[22776, 1128], [528, 1903]]</td>\n",
       "      <td>0.667223</td>\n",
       "      <td>[-1.7450707287016114]</td>\n",
       "      <td>0.937118</td>\n",
       "      <td>NaN</td>\n",
       "    </tr>\n",
       "    <tr>\n",
       "      <th>13</th>\n",
       "      <td>PCA</td>\n",
       "      <td>2.0</td>\n",
       "      <td>[[22971, 836], [333, 2195]]</td>\n",
       "      <td>0.769061</td>\n",
       "      <td>[-1.8353839432557768]</td>\n",
       "      <td>0.955610</td>\n",
       "      <td>NaN</td>\n",
       "    </tr>\n",
       "    <tr>\n",
       "      <th>14</th>\n",
       "      <td>genetic</td>\n",
       "      <td>2.0</td>\n",
       "      <td>NaN</td>\n",
       "      <td>0.936055</td>\n",
       "      <td>NaN</td>\n",
       "      <td>NaN</td>\n",
       "      <td>NaN</td>\n",
       "    </tr>\n",
       "    <tr>\n",
       "      <th>15</th>\n",
       "      <td>t-SNE</td>\n",
       "      <td>3.0</td>\n",
       "      <td>[[19013, 46], [4595, 2681]]</td>\n",
       "      <td>0.537247</td>\n",
       "      <td>[-1.6303380276958699]</td>\n",
       "      <td>0.823771</td>\n",
       "      <td>NaN</td>\n",
       "    </tr>\n",
       "    <tr>\n",
       "      <th>16</th>\n",
       "      <td>UMAP</td>\n",
       "      <td>3.0</td>\n",
       "      <td>[[20632, 47], [2976, 2680]]</td>\n",
       "      <td>0.635601</td>\n",
       "      <td>[-1.7918101518858656]</td>\n",
       "      <td>0.885210</td>\n",
       "      <td>NaN</td>\n",
       "    </tr>\n",
       "    <tr>\n",
       "      <th>17</th>\n",
       "      <td>MDS</td>\n",
       "      <td>3.0</td>\n",
       "      <td>[[23057, 1058], [551, 1669]]</td>\n",
       "      <td>0.645561</td>\n",
       "      <td>[-1.7219878206030814]</td>\n",
       "      <td>0.938903</td>\n",
       "      <td>NaN</td>\n",
       "    </tr>\n",
       "    <tr>\n",
       "      <th>18</th>\n",
       "      <td>PCA</td>\n",
       "      <td>3.0</td>\n",
       "      <td>[[23108, 671], [500, 2056]]</td>\n",
       "      <td>0.754151</td>\n",
       "      <td>[-1.803775292704405]</td>\n",
       "      <td>0.955534</td>\n",
       "      <td>NaN</td>\n",
       "    </tr>\n",
       "    <tr>\n",
       "      <th>19</th>\n",
       "      <td>genetic</td>\n",
       "      <td>3.0</td>\n",
       "      <td>NaN</td>\n",
       "      <td>0.934840</td>\n",
       "      <td>NaN</td>\n",
       "      <td>NaN</td>\n",
       "      <td>NaN</td>\n",
       "    </tr>\n",
       "    <tr>\n",
       "      <th>20</th>\n",
       "      <td>t-SNE</td>\n",
       "      <td>4.0</td>\n",
       "      <td>[[19263, 0], [3867, 3205]]</td>\n",
       "      <td>0.614352</td>\n",
       "      <td>[-1.6469356337602081]</td>\n",
       "      <td>0.853161</td>\n",
       "      <td>NaN</td>\n",
       "    </tr>\n",
       "    <tr>\n",
       "      <th>21</th>\n",
       "      <td>UMAP</td>\n",
       "      <td>4.0</td>\n",
       "      <td>[[20686, 160], [2444, 3045]]</td>\n",
       "      <td>0.679672</td>\n",
       "      <td>[-1.794451012456673]</td>\n",
       "      <td>0.901120</td>\n",
       "      <td>NaN</td>\n",
       "    </tr>\n",
       "    <tr>\n",
       "      <th>22</th>\n",
       "      <td>MDS</td>\n",
       "      <td>4.0</td>\n",
       "      <td>[[22737, 1306], [393, 1899]]</td>\n",
       "      <td>0.667515</td>\n",
       "      <td>[-1.7690612187238937]</td>\n",
       "      <td>0.935485</td>\n",
       "      <td>NaN</td>\n",
       "    </tr>\n",
       "    <tr>\n",
       "      <th>23</th>\n",
       "      <td>PCA</td>\n",
       "      <td>4.0</td>\n",
       "      <td>[[22760, 1002], [370, 2203]]</td>\n",
       "      <td>0.739265</td>\n",
       "      <td>[-1.8460921241356831]</td>\n",
       "      <td>0.947902</td>\n",
       "      <td>NaN</td>\n",
       "    </tr>\n",
       "    <tr>\n",
       "      <th>24</th>\n",
       "      <td>genetic</td>\n",
       "      <td>4.0</td>\n",
       "      <td>NaN</td>\n",
       "      <td>0.935067</td>\n",
       "      <td>NaN</td>\n",
       "      <td>NaN</td>\n",
       "      <td>NaN</td>\n",
       "    </tr>\n",
       "    <tr>\n",
       "      <th>0</th>\n",
       "      <td>t-SNE</td>\n",
       "      <td>NaN</td>\n",
       "      <td>NaN</td>\n",
       "      <td>NaN</td>\n",
       "      <td>NaN</td>\n",
       "      <td>NaN</td>\n",
       "      <td>0.586939</td>\n",
       "    </tr>\n",
       "    <tr>\n",
       "      <th>1</th>\n",
       "      <td>UMAP</td>\n",
       "      <td>NaN</td>\n",
       "      <td>NaN</td>\n",
       "      <td>NaN</td>\n",
       "      <td>NaN</td>\n",
       "      <td>NaN</td>\n",
       "      <td>0.662785</td>\n",
       "    </tr>\n",
       "    <tr>\n",
       "      <th>2</th>\n",
       "      <td>MDS</td>\n",
       "      <td>NaN</td>\n",
       "      <td>NaN</td>\n",
       "      <td>NaN</td>\n",
       "      <td>NaN</td>\n",
       "      <td>NaN</td>\n",
       "      <td>0.654604</td>\n",
       "    </tr>\n",
       "    <tr>\n",
       "      <th>3</th>\n",
       "      <td>PCA</td>\n",
       "      <td>NaN</td>\n",
       "      <td>NaN</td>\n",
       "      <td>NaN</td>\n",
       "      <td>NaN</td>\n",
       "      <td>NaN</td>\n",
       "      <td>0.759777</td>\n",
       "    </tr>\n",
       "    <tr>\n",
       "      <th>4</th>\n",
       "      <td>genetic</td>\n",
       "      <td>NaN</td>\n",
       "      <td>NaN</td>\n",
       "      <td>NaN</td>\n",
       "      <td>NaN</td>\n",
       "      <td>NaN</td>\n",
       "      <td>0.933199</td>\n",
       "    </tr>\n",
       "  </tbody>\n",
       "</table>\n",
       "</div>"
      ],
      "text/plain": [
       "     method  fold              confusion_matrix  matthews_cc  \\\n",
       "0     t-SNE   0.0    [[19287, 0], [3944, 3104]]     0.604681   \n",
       "1      UMAP   0.0  [[20819, 172], [2412, 2932]]     0.674089   \n",
       "2       MDS   0.0  [[22491, 1090], [740, 2014]]     0.650140   \n",
       "3       PCA   0.0   [[22716, 751], [515, 2353]]     0.761705   \n",
       "4   genetic   0.0                           NaN     0.925916   \n",
       "5     t-SNE   1.0    [[19363, 0], [4078, 2894]]     0.585557   \n",
       "6      UMAP   1.0    [[20563, 0], [2878, 2894]]     0.663195   \n",
       "7       MDS   1.0  [[22936, 1180], [505, 1714]]     0.642579   \n",
       "8       PCA   1.0   [[22937, 635], [504, 2259]]     0.774704   \n",
       "9   genetic   1.0                           NaN     0.934118   \n",
       "10    t-SNE   2.0   [[19321, 27], [3983, 3004]]     0.592860   \n",
       "11     UMAP   2.0   [[20376, 26], [2928, 3005]]     0.661365   \n",
       "12      MDS   2.0  [[22776, 1128], [528, 1903]]     0.667223   \n",
       "13      PCA   2.0   [[22971, 836], [333, 2195]]     0.769061   \n",
       "14  genetic   2.0                           NaN     0.936055   \n",
       "15    t-SNE   3.0   [[19013, 46], [4595, 2681]]     0.537247   \n",
       "16     UMAP   3.0   [[20632, 47], [2976, 2680]]     0.635601   \n",
       "17      MDS   3.0  [[23057, 1058], [551, 1669]]     0.645561   \n",
       "18      PCA   3.0   [[23108, 671], [500, 2056]]     0.754151   \n",
       "19  genetic   3.0                           NaN     0.934840   \n",
       "20    t-SNE   4.0    [[19263, 0], [3867, 3205]]     0.614352   \n",
       "21     UMAP   4.0  [[20686, 160], [2444, 3045]]     0.679672   \n",
       "22      MDS   4.0  [[22737, 1306], [393, 1899]]     0.667515   \n",
       "23      PCA   4.0  [[22760, 1002], [370, 2203]]     0.739265   \n",
       "24  genetic   4.0                           NaN     0.935067   \n",
       "0     t-SNE   NaN                           NaN          NaN   \n",
       "1      UMAP   NaN                           NaN          NaN   \n",
       "2       MDS   NaN                           NaN          NaN   \n",
       "3       PCA   NaN                           NaN          NaN   \n",
       "4   genetic   NaN                           NaN          NaN   \n",
       "\n",
       "                threshold  accuracy      mean  \n",
       "0     [-1.76135594845531]  0.850237       NaN  \n",
       "1   [-1.8043512181730685]  0.901880       NaN  \n",
       "2   [-1.7533657952209305]  0.930511       NaN  \n",
       "3    [-1.849333891560181]  0.951927       NaN  \n",
       "4                     NaN       NaN       NaN  \n",
       "5   [-1.7020324483485156]  0.845149       NaN  \n",
       "6   [-1.7768651093790757]  0.890716       NaN  \n",
       "7     [-1.72247356671136]  0.936017       NaN  \n",
       "8    [-1.821819846812859]  0.956750       NaN  \n",
       "9                     NaN       NaN       NaN  \n",
       "10   [-1.855097968042366]  0.847731       NaN  \n",
       "11  [-1.7973429404863641]  0.887830       NaN  \n",
       "12  [-1.7450707287016114]  0.937118       NaN  \n",
       "13  [-1.8353839432557768]  0.955610       NaN  \n",
       "14                    NaN       NaN       NaN  \n",
       "15  [-1.6303380276958699]  0.823771       NaN  \n",
       "16  [-1.7918101518858656]  0.885210       NaN  \n",
       "17  [-1.7219878206030814]  0.938903       NaN  \n",
       "18   [-1.803775292704405]  0.955534       NaN  \n",
       "19                    NaN       NaN       NaN  \n",
       "20  [-1.6469356337602081]  0.853161       NaN  \n",
       "21   [-1.794451012456673]  0.901120       NaN  \n",
       "22  [-1.7690612187238937]  0.935485       NaN  \n",
       "23  [-1.8460921241356831]  0.947902       NaN  \n",
       "24                    NaN       NaN       NaN  \n",
       "0                     NaN       NaN  0.586939  \n",
       "1                     NaN       NaN  0.662785  \n",
       "2                     NaN       NaN  0.654604  \n",
       "3                     NaN       NaN  0.759777  \n",
       "4                     NaN       NaN  0.933199  "
      ]
     },
     "execution_count": 365,
     "metadata": {},
     "output_type": "execute_result"
    }
   ],
   "source": [
    "df = pd.DataFrame.from_dict(average, orient=\"index\")\n",
    "df[\"method\"] = df.index\n",
    "df.columns=['mean', 'method']\n",
    "df = df.reset_index(drop=True)\n",
    "cross_v_info = cross_v_info.append(df)\n",
    "cross_v_info"
   ]
  },
  {
   "cell_type": "markdown",
   "metadata": {},
   "source": [
    "# Final Chart for Cross Validation Analysis"
   ]
  },
  {
   "cell_type": "code",
   "execution_count": 366,
   "metadata": {},
   "outputs": [],
   "source": [
    "import seaborn as sns\n",
    "mpl.style.use(\"seaborn\")\n",
    "#cross_v_info['method'] = pd.Categorical(cross_v_info['method'], categories = [\"genetic\", \"PCA\", \"MDS\", \"t-SNE\", \"UMAP\"] , ordered = True)\n",
    "#cross_v_info.sort_values('method', inplace=True)\n",
    "#cross_v_info"
   ]
  },
  {
   "cell_type": "code",
   "execution_count": 370,
   "metadata": {},
   "outputs": [
    {
     "data": {
      "image/png": "[encoded data removed]",
      "text/plain": [
       "<Figure size 800x550 with 1 Axes>"
      ]
     },
     "metadata": {},
     "output_type": "display_data"
    }
   ],
   "source": [
    "plt.scatter(x=cross_v_info[\"method\"], y=cross_v_info[\"matthews_cc\"])\n",
    "plt.scatter(x=cross_v_info[\"method\"], y=cross_v_info[\"mean\"], marker=\"_\")\n",
    "plt.ylim(0, 1)\n",
    "plt.show()\n",
    "#g = sns.catplot(x=\"method\", y=\"matthews_cc\", order= [\"genetic\", \"PCA\", \"MDS\", \"t-SNE\", \"UMAP\"], jitter=False, data=cross_v_info)\n",
    "#g.map(sns.catplot(x=\"method\", y=\"mean\",order= [\"genetic\", \"PCA\", \"MDS\", \"t-SNE\", \"UMAP\"], jitter=False, data=cross_v_info, marker=\"_\"))"
   ]
  },
  {
   "cell_type": "markdown",
   "metadata": {},
   "source": [
    "# Old Code"
   ]
  },
  {
   "cell_type": "code",
   "execution_count": 138,
   "metadata": {},
   "outputs": [
    {
     "data": {
      "image/png": "[encoded data removed]",
      "text/plain": [
       "<Figure size 864x432 with 1 Axes>"
      ]
     },
     "metadata": {
      "needs_background": "light"
     },
     "output_type": "display_data"
    }
   ],
   "source": [
    "KDE_df = pd.read_csv(KDE_pca_path, index_col=0)\n",
    "fig, ax = plt.subplots(1, 1, figsize=(12, 6))\n",
    "\n",
    "ax = sns.kdeplot(KDE_df.query(\"clade_status == 1\")[\"scaled_distance\"], label=\"Same clade\", ax=ax)\n",
    "ax = sns.kdeplot(KDE_df.query(\"clade_status == 0\")[\"scaled_distance\"], label=\"Different clade\", ax=ax)\n",
    "\n",
    "ax.axvline(x=average_pca, label=\"SVC threshold\", color=\"#000000\", alpha=0.5)\n",
    "\n",
    "ax.set_xlabel(\"Scaled Euclidean distance from embedding\")\n",
    "ax.set_ylabel(\"KDE density\")\n",
    "\n",
    "\n",
    "fig.suptitle('PCA' + ' KDE Plot - ', fontsize=16)\n",
    "sns.despine()\n"
   ]
  },
  {
   "cell_type": "code",
   "execution_count": 24,
   "metadata": {},
   "outputs": [],
   "source": [
    "fold_factory = KFold(n_splits=5, shuffle=True)\n",
    "folds = fold_factory.split(sequence_names)"
   ]
  },
  {
   "cell_type": "code",
   "execution_count": 20,
   "metadata": {},
   "outputs": [
    {
     "name": "stdout",
     "output_type": "stream",
     "text": [
      "Fit to fold: 0\n",
      "Accuracy: 0.8947788114676286\n",
      "Genetic accuracy: 0.9240934118093792\n",
      "\n",
      "Fit to fold: 1\n",
      "Accuracy: 0.8910195557243212\n",
      "Genetic accuracy: 0.9346497057148282\n",
      "\n",
      "Fit to fold: 2\n",
      "Accuracy: 0.8803340228300007\n",
      "Genetic accuracy: 0.9267601317704742\n",
      "\n",
      "Fit to fold: 3\n",
      "Accuracy: 0.8923619091396614\n",
      "Genetic accuracy: 0.9275262391787329\n",
      "\n",
      "Fit to fold: 4\n",
      "Accuracy: 0.8814448785719758\n",
      "Genetic accuracy: 0.9324293265915882\n",
      "\n"
     ]
    }
   ],
   "source": [
    "total_list=[]\n",
    "for k, (training_index, validation_index) in enumerate(folds): \n",
    "    for embed in default_tuned_values:\n",
    "        print(f\"Fit to fold: {k}\")\n",
    "        # Subset distance matrix to training indices.\n",
    "        training_distance_matrix = distance_matrix[training_index][:, training_index]\n",
    "\n",
    "        # Embed training distance matrix.\n",
    "        embedder = embedding_class(**embedding_parameters)\n",
    "        training_embedding = embedder.fit_transform(training_distance_matrix)\n",
    "\n",
    "        # Calculate Euclidean distance between pairs of samples in the embedding.\n",
    "        # The output is a condensed distance matrix with distances between pairs.\n",
    "        # https://docs.scipy.org/doc/scipy/reference/generated/scipy.spatial.distance.pdist.html\n",
    "        training_embedding_distances = pdist(training_embedding).reshape(-1, 1)\n",
    "\n",
    "        # Assign a binary class to each pair of samples based on their clade memberships.\n",
    "        # Samples from different clades are assigned 0, samples from the same clade as assigned 1.\n",
    "        # This vector of binary values will be the output to fit a classifier to.\n",
    "        # These pairs should be in the same order as the embedding distances above.\n",
    "        training_clade_status_for_pairs = assign_clade_status_to_pairs(\n",
    "            clade_annotations,\n",
    "            training_index\n",
    "        )\n",
    "\n",
    "        # Use a support vector machine classifier to identify an optimal threshold\n",
    "        # to distinguish between within and between class pairs.\n",
    "        # See also: https://scikit-learn.org/stable/modules/svm.html#svm-classification\n",
    "        classifier = make_pipeline(\n",
    "            StandardScaler(),\n",
    "            LinearSVC(random_state=0, tol=1e-5)\n",
    "        )\n",
    "\n",
    "        classifier.fit(training_embedding_distances, training_clade_status_for_pairs)\n",
    "\n",
    "        classifier_threshold = (0.5 - classifier.named_steps[\"linearsvc\"].intercept_) / classifier.named_steps[\"linearsvc\"].coef_[0]\n",
    "        classifier_thresholds.append(classifier_threshold)\n",
    "\n",
    "        # Use a SVM to identify an optimal threshold for genetic distances.\n",
    "        genetic_classifier = make_pipeline(\n",
    "            StandardScaler(),\n",
    "            LinearSVC(random_state=0, tol=1e-5)\n",
    "        )\n",
    "        genetic_classifier.fit(squareform(training_distance_matrix).reshape(-1, 1), training_clade_status_for_pairs)\n",
    "\n",
    "        # Subset distance matrix to validation indices.\n",
    "        validation_distance_matrix = distance_matrix[validation_index][:, validation_index]\n",
    "\n",
    "        # Embed validation distance matrix.\n",
    "        validation_embedding = embedder.fit_transform(validation_distance_matrix)\n",
    "\n",
    "        # Calculate Euclidean distance between pairs of samples in the embedding.\n",
    "        # The output should be a data frame of distances between pairs.\n",
    "        validation_embedding_distances = pdist(validation_embedding).reshape(-1, 1)\n",
    "\n",
    "        # Assign a binary class to each pair of samples based on their clade memberships.\n",
    "        # Samples from different clades are assigned 0, samples from the same clade as assigned 1.\n",
    "        # This vector of binary values will be the output to fit a classifier to.\n",
    "        # These pairs should be in the same order as the embedding distances above.\n",
    "        validation_clade_status_for_pairs = assign_clade_status_to_pairs(\n",
    "            clade_annotations,\n",
    "            validation_index\n",
    "        )\n",
    "\n",
    "        # Predict and score clade status from embedding distances and the trained classifier.\n",
    "        # The first argument is the set to predict classifier labels for. The second argument\n",
    "        # is the list of true labels. The return argument is the mean accuracy of the predicted\n",
    "        # labels.\n",
    "        # https://scikit-learn.org/stable/modules/generated/sklearn.svm.LinearSVC.html#sklearn.svm.LinearSVC.score\n",
    "\n",
    "        confusion_matrix_val = confusion_matrix(classifier.predict(validation_embedding_distances), validation_clade_status_for_pairs)\n",
    "        matthews_cc_val = matthews_corrcoef(classifier.predict(validation_embedding_distances), validation_clade_status_for_pairs)\n",
    "\n",
    "        accuracy = classifier.score(\n",
    "            validation_embedding_distances,\n",
    "            validation_clade_status_for_pairs\n",
    "        )\n",
    "        print(f\"Accuracy: {accuracy}\")\n",
    "\n",
    "        genetic_accuracy = genetic_classifier.score(\n",
    "            squareform(validation_distance_matrix).reshape(-1, 1),\n",
    "            validation_clade_status_for_pairs\n",
    "        )\n",
    "        print(f\"Genetic accuracy: {genetic_accuracy}\")\n",
    "        print()\n",
    "\n",
    "        accuracies.append(accuracy)\n",
    "        genetic_accuracies.append(genetic_accuracy)\n",
    "\n",
    "        method_dict = {}\n",
    "\n",
    "        method_dict[\"method\"] = list_of_embeddings_strings[i]\n",
    "        method_dict[\"fold\"] = k\n",
    "        method_dict[\"confusion_matrix\"] = confusion_matrix_val\n",
    "        method_dict[\"matthews_cc\"] = matthews_cc_val\n",
    "        method_dict[\"threshold\"] = classifier_threshold\n",
    "        method_dict[\"accuracy\"] = accuracy\n",
    "        method_dict[\"genetic_accuracy\"] = genetic_accuracy\n",
    "\n",
    "        print(method_dict)\n",
    "        total_list.append(method_dict)\n"
   ]
  },
  {
   "cell_type": "code",
   "execution_count": 43,
   "metadata": {},
   "outputs": [],
   "source": [
    "training_embedding_df = pd.DataFrame(training_embedding, columns=[\"x\", \"y\"])\n",
    "training_embedding_df[\"clade\"] = clade_annotations.loc[training_index, \"clade\"].values"
   ]
  },
  {
   "cell_type": "code",
   "execution_count": 44,
   "metadata": {},
   "outputs": [],
   "source": [
    "validation_embedding_df = pd.DataFrame(validation_embedding, columns=[\"x\", \"y\"])\n",
    "validation_embedding_df[\"clade\"] = clade_annotations.loc[validation_index, \"clade\"].values"
   ]
  },
  {
   "cell_type": "code",
   "execution_count": 45,
   "metadata": {},
   "outputs": [
    {
     "data": {
      "image/png": "[encoded data removed]",
      "text/plain": [
       "<Figure size 864x432 with 2 Axes>"
      ]
     },
     "metadata": {
      "needs_background": "light"
     },
     "output_type": "display_data"
    }
   ],
   "source": [
    "fig, axes = plt.subplots(1, 2, figsize=(12, 6))\n",
    "\n",
    "sns.scatterplot(\"x\", \"y\", hue=\"clade\", data=training_embedding_df, legend=False, ax=axes[0])\n",
    "axes[0].set_title(\"Training\")\n",
    "\n",
    "sns.scatterplot(\"x\", \"y\", hue=\"clade\", data=validation_embedding_df, legend=False, ax=axes[1])\n",
    "axes[1].set_title(\"Validation\")\n",
    "\n",
    "sns.despine()"
   ]
  },
  {
   "cell_type": "code",
   "execution_count": 46,
   "metadata": {},
   "outputs": [
    {
     "data": {
      "text/plain": [
       "(419986, 1)"
      ]
     },
     "execution_count": 46,
     "metadata": {},
     "output_type": "execute_result"
    }
   ],
   "source": [
    "training_embedding_distances.shape"
   ]
  },
  {
   "cell_type": "code",
   "execution_count": 47,
   "metadata": {},
   "outputs": [
    {
     "data": {
      "text/plain": [
       "(419986,)"
      ]
     },
     "execution_count": 47,
     "metadata": {},
     "output_type": "execute_result"
    }
   ],
   "source": [
    "training_clade_status_for_pairs.shape"
   ]
  },
  {
   "cell_type": "code",
   "execution_count": 48,
   "metadata": {},
   "outputs": [
    {
     "data": {
      "text/plain": [
       "array([14.00615474, 63.47261105, 22.14950939, ..., 53.16887278,\n",
       "       72.08460183, 19.19231246])"
      ]
     },
     "execution_count": 48,
     "metadata": {},
     "output_type": "execute_result"
    }
   ],
   "source": [
    "training_embedding_distances.flatten()"
   ]
  },
  {
   "cell_type": "code",
   "execution_count": 49,
   "metadata": {},
   "outputs": [],
   "source": [
    "scaler = StandardScaler()"
   ]
  },
  {
   "cell_type": "code",
   "execution_count": 50,
   "metadata": {},
   "outputs": [
    {
     "data": {
      "text/plain": [
       "array([[-0.65736654],\n",
       "       [ 3.14147981],\n",
       "       [-0.03198612],\n",
       "       ...,\n",
       "       [ 2.35018968],\n",
       "       [ 3.8028498 ],\n",
       "       [-0.25908824]])"
      ]
     },
     "execution_count": 50,
     "metadata": {},
     "output_type": "execute_result"
    }
   ],
   "source": [
    "scaler.fit_transform(training_embedding_distances)"
   ]
  },
  {
   "cell_type": "code",
   "execution_count": 51,
   "metadata": {},
   "outputs": [],
   "source": [
    "distances_df = pd.DataFrame({\"distance\": training_embedding_distances.flatten(), \"same_clade\": training_clade_status_for_pairs.flatten()})"
   ]
  },
  {
   "cell_type": "code",
   "execution_count": 53,
   "metadata": {},
   "outputs": [],
   "source": [
    "distances_df[\"scaled_distance\"] = scaler.fit_transform(training_embedding_distances).flatten()"
   ]
  },
  {
   "cell_type": "code",
   "execution_count": 54,
   "metadata": {},
   "outputs": [],
   "source": [
    "distances_df[\"genetic_distance\"] = squareform(training_distance_matrix)"
   ]
  },
  {
   "cell_type": "code",
   "execution_count": 52,
   "metadata": {},
   "outputs": [
    {
     "data": {
      "text/html": [
       "<div>\n",
       "<style scoped>\n",
       "    .dataframe tbody tr th:only-of-type {\n",
       "        vertical-align: middle;\n",
       "    }\n",
       "\n",
       "    .dataframe tbody tr th {\n",
       "        vertical-align: top;\n",
       "    }\n",
       "\n",
       "    .dataframe thead th {\n",
       "        text-align: right;\n",
       "    }\n",
       "</style>\n",
       "<table border=\"1\" class=\"dataframe\">\n",
       "  <thead>\n",
       "    <tr style=\"text-align: right;\">\n",
       "      <th></th>\n",
       "      <th>distance</th>\n",
       "      <th>same_clade</th>\n",
       "    </tr>\n",
       "  </thead>\n",
       "  <tbody>\n",
       "    <tr>\n",
       "      <th>0</th>\n",
       "      <td>14.006155</td>\n",
       "      <td>1</td>\n",
       "    </tr>\n",
       "    <tr>\n",
       "      <th>1</th>\n",
       "      <td>63.472611</td>\n",
       "      <td>1</td>\n",
       "    </tr>\n",
       "    <tr>\n",
       "      <th>2</th>\n",
       "      <td>22.149509</td>\n",
       "      <td>1</td>\n",
       "    </tr>\n",
       "    <tr>\n",
       "      <th>3</th>\n",
       "      <td>65.947260</td>\n",
       "      <td>1</td>\n",
       "    </tr>\n",
       "    <tr>\n",
       "      <th>4</th>\n",
       "      <td>62.232793</td>\n",
       "      <td>1</td>\n",
       "    </tr>\n",
       "  </tbody>\n",
       "</table>\n",
       "</div>"
      ],
      "text/plain": [
       "    distance  same_clade\n",
       "0  14.006155           1\n",
       "1  63.472611           1\n",
       "2  22.149509           1\n",
       "3  65.947260           1\n",
       "4  62.232793           1"
      ]
     },
     "execution_count": 52,
     "metadata": {},
     "output_type": "execute_result"
    }
   ],
   "source": [
    "distances_df.head()"
   ]
  },
  {
   "cell_type": "code",
   "execution_count": 55,
   "metadata": {},
   "outputs": [
    {
     "data": {
      "image/png": "[encoded data removed]",
      "text/plain": [
       "<Figure size 864x432 with 2 Axes>"
      ]
     },
     "metadata": {
      "needs_background": "light"
     },
     "output_type": "display_data"
    }
   ],
   "source": [
    "fig, axes = plt.subplots(1, 2, figsize=(12, 6))\n",
    "\n",
    "ax = axes[0]\n",
    "ax = sns.kdeplot(distances_df.query(\"same_clade == 1\")[\"scaled_distance\"], label=\"Same clade\", ax=ax)\n",
    "ax = sns.kdeplot(distances_df.query(\"same_clade == 0\")[\"scaled_distance\"], label=\"Different clade\", ax=ax)\n",
    "\n",
    "for classifier_threshold in classifier_thresholds:\n",
    "    ax.axvline(x=classifier_threshold, label=\"SVC threshold\", color=\"#000000\", alpha=0.5)\n",
    "\n",
    "ax.set_xlabel(\"Scaled Euclidean distance from embedding\")\n",
    "ax.set_ylabel(\"KDE density\")\n",
    "\n",
    "ax = axes[1]\n",
    "ax = sns.kdeplot(distances_df.query(\"same_clade == 1\")[\"genetic_distance\"], label=\"Same clade\", ax=ax)\n",
    "ax = sns.kdeplot(distances_df.query(\"same_clade == 0\")[\"genetic_distance\"], label=\"Different clade\", ax=ax)\n",
    "\n",
    "ax.set_xlabel(\"Genetic distance\")\n",
    "ax.set_ylabel(\"KDE density\")\n",
    "\n",
    "sns.despine()"
   ]
  },
  {
   "cell_type": "markdown",
   "metadata": {},
   "source": [
    "## Plot and summarize accuracies"
   ]
  },
  {
   "cell_type": "code",
   "execution_count": null,
   "metadata": {},
   "outputs": [],
   "source": [
    "# Print the mean accuracy and stddev\n",
    "print(f\"Accuracy: {np.mean(accuracies)} +/- {np.std(accuracies)}\")"
   ]
  },
  {
   "cell_type": "code",
   "execution_count": null,
   "metadata": {},
   "outputs": [],
   "source": [
    "fig, ax = plt.subplots(1, 1, figsize=(8, 6))\n",
    "bins = np.arange(0, 1.01, 0.05)\n",
    "\n",
    "ax.hist(accuracies, bins=bins)\n",
    "\n",
    "ax.axvline(\n",
    "    x=np.mean(accuracies),\n",
    "    label=f\"Mean accuracy: {np.mean(accuracies):.2f} +/- {np.std(accuracies):.2f}\",\n",
    "    color=\"orange\"\n",
    ")\n",
    "\n",
    "ax.set_xlabel(\"Accuracy of classifier\")\n",
    "ax.set_ylabel(\"Number of cross-validation folds\")\n",
    "\n",
    "ax.legend(frameon=False)\n",
    "\n",
    "sns.despine()"
   ]
  },
  {
   "cell_type": "markdown",
   "metadata": {},
   "source": [
    "## Plot classifier thresholds\n",
    "\n",
    "The linear support vector classifier (SVC) produces an intercept and coefficient for a single feature that represents a line through the domain of the input data that classifies samples into \"same clade\" (1) or \"different clade\" (0). The midpoint between these classification labels (0.5) is useful for visualizing the placement of the SVC results. We calculate the value of the input domain that corresponds to this line by solving for $0.5 = mx + b$ where $x$ is the value of interest from the input domain.\n",
    "\n",
    "Below we plot the resulting distribution of classifier thresholds across all *k* folds to get a sense of how consistent these values are across training sets. Note that the input data have been scaled to z-values (centered by their mean and divided by their standard deviation)."
   ]
  },
  {
   "cell_type": "code",
   "execution_count": null,
   "metadata": {},
   "outputs": [],
   "source": [
    "classifier_thresholds = np.array(classifier_thresholds).flatten()"
   ]
  },
  {
   "cell_type": "code",
   "execution_count": null,
   "metadata": {},
   "outputs": [],
   "source": [
    "fig, ax = plt.subplots(1, 1, figsize=(8, 6))\n",
    "ax.hist(classifier_thresholds.flatten(), bins=10)\n",
    "\n",
    "ax.axvline(\n",
    "    x=np.mean(classifier_thresholds),\n",
    "    label=f\"Mean classifier threshold: {np.mean(classifier_thresholds):.2f} +/- {np.std(classifier_thresholds):.2f}\",\n",
    "    color=\"orange\"\n",
    ")\n",
    "\n",
    "ax.set_xlabel(\"Classifier threshold on scaled Euclidean distances\")\n",
    "ax.set_ylabel(\"Number of cross-validation folds\")\n",
    "\n",
    "ax.legend(frameon=False)\n",
    "\n",
    "sns.despine()"
   ]
  }
 ],
 "metadata": {
  "kernelspec": {
   "display_name": "Python 3",
   "language": "python",
   "name": "python3"
  },
  "language_info": {
   "codemirror_mode": {
    "name": "ipython",
    "version": 3
   },
   "file_extension": ".py",
   "mimetype": "text/x-python",
   "name": "python",
   "nbconvert_exporter": "python",
   "pygments_lexer": "ipython3",
   "version": "3.7.8"
  }
 },
 "nbformat": 4,
 "nbformat_minor": 4
}
