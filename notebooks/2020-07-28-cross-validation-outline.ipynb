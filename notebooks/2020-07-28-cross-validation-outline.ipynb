{
 "cells": [
  {
   "cell_type": "markdown",
   "metadata": {},
   "source": [
    "# Cross-validation of embedding methods\n",
    "\n",
    "Perform cross-validation of an embedding method to tune hyperparameters and evaluate the accuracy of classifications based on Euclidean distances of embedded space.\n",
    "\n",
    "## Analysis outline\n",
    "\n",
    "1. Load genome sequences from a FASTA file\n",
    "1. Load clade membership annotations for each genome from a separate metadata file\n",
    "1. Calculate a pairwise distance matrix from the genome sequences.\n",
    "1. For each fold in a *k-fold* analysis\n",
    "  1. Identify sequences in the fold\n",
    "  1. Subset the distance matrix to only those sequences in the fold\n",
    "  1. Apply the current embedding method (e.g., MDS, t-SNE, UMAP) to the distance matrix\n",
    "  1. Calculate the pairwise Euclidean distance between sequences in the embedding\n",
    "  1. Calculate and store the Pearson's correlation between genetic and Euclidean distances for all pairs in the embedding\n",
    "  1. Calculate and store a distance threshold below which any pair of sequences are assigned to the same clade\n",
    "  1. Apply the current embeddng method to the subset of the distance matrix corresponding to the validation data for the current fold\n",
    "  1. Calculate the pairwise Euclidean distance between sequences in the validation embedding\n",
    "  1. Assign all pairs of sequences in the validation set to estimated \"within\" or \"between\" clade statuses based on their distances\n",
    "  1. Calculate the confusion matrix from the estimated and observed clade identities\n",
    "  1. Calculate and store accuracy, Matthew's correlation coefficient, etc. from the confusion matrix\n",
    "1. Plot the distribution of Pearson's correlations across all *k* folds\n",
    "1. Plot the distribution of accuracies, etc. across all *k* folds"
   ]
  },
  {
   "cell_type": "markdown",
   "metadata": {},
   "source": [
    "## Define inputs, outputs, and parameters"
   ]
  },
  {
   "cell_type": "code",
   "execution_count": 5,
   "metadata": {},
   "outputs": [],
   "source": [
    "sequences_path = \"../seasonal-flu-nextstrain/results/aligned.fasta\"\n",
    "clades_path = \"../seasonal-flu-nextstrain/results/clades.json\""
   ]
  },
  {
   "cell_type": "markdown",
   "metadata": {},
   "source": [
    "## Imports"
   ]
  },
  {
   "cell_type": "code",
   "execution_count": 2,
   "metadata": {},
   "outputs": [],
   "source": [
    "from augur.utils import read_node_data\n",
    "import Bio.SeqIO\n",
    "from collections import OrderedDict\n",
    "import itertools\n",
    "import matplotlib.pyplot as plt\n",
    "import numpy as np\n",
    "import pandas as pd\n",
    "from scipy.spatial.distance import pdist, squareform\n",
    "import seaborn as sns\n",
    "from sklearn.svm import LinearSVC\n",
    "from sklearn.manifold import MDS, TSNE\n",
    "from sklearn.model_selection import KFold\n",
    "from sklearn.metrics import confusion_matrix, matthews_corrcoef\n",
    "from sklearn.pipeline import make_pipeline\n",
    "from sklearn.preprocessing import StandardScaler\n",
    "from scipy.stats import linregress\n",
    "import statsmodels\n",
    "import statistics\n",
    "from umap import UMAP\n",
    "\n",
    "from Helpers import get_hamming_distances, get_euclidean_data_frame, scatterplot_xyvalues\n",
    "\n",
    "%matplotlib inline"
   ]
  },
  {
   "cell_type": "code",
   "execution_count": 3,
   "metadata": {},
   "outputs": [],
   "source": [
    "def assign_clade_status_to_pairs(clade_annotations, index):\n",
    "    \"\"\"Assign clade status to all pairs in the given list of indices and the given data frame of clade annotations.\n",
    "    \n",
    "    Outputs a vector in condensed distance matrix format such that all nonredundant pairs of strains are represented.\n",
    "    \n",
    "    \"\"\"\n",
    "    clade_statuses = []\n",
    "    for i in range(len(index)):\n",
    "        for j in range(i + 1, len(index)):\n",
    "            same_clade = clade_annotations.loc[index[i], \"clade\"] == clade_annotations.loc[index[j], \"clade\"]\n",
    "            clade_statuses.append(int(same_clade))\n",
    "            \n",
    "    return np.array(clade_statuses)"
   ]
  },
  {
   "cell_type": "markdown",
   "metadata": {},
   "source": [
    "## Load clade membership annotations"
   ]
  },
  {
   "cell_type": "code",
   "execution_count": 6,
   "metadata": {},
   "outputs": [],
   "source": [
    "node_data = read_node_data(clades_path)"
   ]
  },
  {
   "cell_type": "markdown",
   "metadata": {},
   "source": [
    "## Load genome sequences"
   ]
  },
  {
   "cell_type": "code",
   "execution_count": 7,
   "metadata": {},
   "outputs": [],
   "source": [
    "sequences_by_name = OrderedDict()\n",
    "\n",
    "for sequence in Bio.SeqIO.parse(sequences_path, \"fasta\"):\n",
    "    if sequence.id in node_data[\"nodes\"]:\n",
    "        sequences_by_name[sequence.id] = str(sequence.seq)\n",
    "    \n",
    "sequence_names = list(sequences_by_name.keys())"
   ]
  },
  {
   "cell_type": "code",
   "execution_count": 8,
   "metadata": {},
   "outputs": [
    {
     "data": {
      "text/plain": [
       "['A/Alabama/13/2016',\n",
       " 'A/Missouri/16/2016',\n",
       " 'A/Texas/166/2016',\n",
       " 'A/Texas/176/2016',\n",
       " 'A/Texas/174/2016']"
      ]
     },
     "execution_count": 8,
     "metadata": {},
     "output_type": "execute_result"
    }
   ],
   "source": [
    "sequence_names[:5]"
   ]
  },
  {
   "cell_type": "code",
   "execution_count": 9,
   "metadata": {},
   "outputs": [
    {
     "data": {
      "text/plain": [
       "1147"
      ]
     },
     "execution_count": 9,
     "metadata": {},
     "output_type": "execute_result"
    }
   ],
   "source": [
    "len(sequence_names)"
   ]
  },
  {
   "cell_type": "code",
   "execution_count": 10,
   "metadata": {},
   "outputs": [],
   "source": [
    "# Build a data frame of clade annotations per strain in the same order\n",
    "# as the sequences and the subsequent distance matrix.\n",
    "clade_annotations = pd.DataFrame([\n",
    "    {\"strain\": sequence_name, \"clade\": node_data[\"nodes\"][sequence_name][\"clade_membership\"]}\n",
    "    for sequence_name in sequence_names\n",
    "])"
   ]
  },
  {
   "cell_type": "code",
   "execution_count": 11,
   "metadata": {},
   "outputs": [
    {
     "data": {
      "text/plain": [
       "1147"
      ]
     },
     "execution_count": 11,
     "metadata": {},
     "output_type": "execute_result"
    }
   ],
   "source": [
    "len(clade_annotations)"
   ]
  },
  {
   "cell_type": "code",
   "execution_count": 12,
   "metadata": {},
   "outputs": [
    {
     "data": {
      "text/plain": [
       "(1147, 2)"
      ]
     },
     "execution_count": 12,
     "metadata": {},
     "output_type": "execute_result"
    }
   ],
   "source": [
    "clade_annotations.shape"
   ]
  },
  {
   "cell_type": "markdown",
   "metadata": {},
   "source": [
    "## Calculate distance matrix"
   ]
  },
  {
   "cell_type": "code",
   "execution_count": 13,
   "metadata": {},
   "outputs": [],
   "source": [
    "hamming_distances = get_hamming_distances(\n",
    "    sequences_by_name.values()\n",
    ")\n",
    "distance_matrix = squareform(hamming_distances)"
   ]
  },
  {
   "cell_type": "code",
   "execution_count": 14,
   "metadata": {},
   "outputs": [
    {
     "data": {
      "text/plain": [
       "(1147, 1147)"
      ]
     },
     "execution_count": 14,
     "metadata": {},
     "output_type": "execute_result"
    }
   ],
   "source": [
    "distance_matrix.shape"
   ]
  },
  {
   "cell_type": "code",
   "execution_count": 15,
   "metadata": {},
   "outputs": [
    {
     "data": {
      "text/plain": [
       "<matplotlib.axes._subplots.AxesSubplot at 0x7fee55842048>"
      ]
     },
     "execution_count": 15,
     "metadata": {},
     "output_type": "execute_result"
    },
    {
     "data": {
      "image/png": "[encoded data removed]",
      "text/plain": [
       "<Figure size 432x288 with 2 Axes>"
      ]
     },
     "metadata": {
      "needs_background": "light"
     },
     "output_type": "display_data"
    }
   ],
   "source": [
    "sns.heatmap(distance_matrix)"
   ]
  },
  {
   "cell_type": "markdown",
   "metadata": {},
   "source": [
    "## Assign sequences to k-fold groups and analyze each fold\n",
    "\n",
    "For each fold, use the training indices to subset the distance matrix to just those columns and rows that belong in the training data. Apply a given embedding method to the distance matrix subset, identify the classification threshold for clade membership, and validate that threshold on the subset of the distance matrix corresponding to the validation indices."
   ]
  },
  {
   "cell_type": "code",
   "execution_count": 16,
   "metadata": {},
   "outputs": [],
   "source": [
    "tuned_parameter_values = []\n",
    "list_of_embeddings = []\n",
    "default_tuned_values = []\n",
    "list_of_embeddings_strings = [\"TSNE\", \"UMAP\"]"
   ]
  },
  {
   "cell_type": "code",
   "execution_count": 17,
   "metadata": {},
   "outputs": [],
   "source": [
    "# TODO: In practice we will want to iterate over all combinations of parameters\n",
    "# for all embedding methods and also support PCA (which does not use a distance matrix as input).\n",
    "embedding_class = TSNE\n",
    "list_of_embeddings.append(embedding_class)\n",
    "embedding_parameters = {\n",
    "    \"metric\": \"precomputed\",\n",
    "    \"perplexity\": 15,\n",
    "    \"learning_rate\": 100.0\n",
    "}\n",
    "tuned_parameters_TSNE = {\n",
    "    \"perplexity\": [15, 20, 25, 30, 100],\n",
    "    \"learning_rate\": [100.0, 200.0, 300.0, 400.0, 500.0, 1000.0]\n",
    "}\n",
    "\n",
    "tuned_parameter_values.append(tuned_parameters_TSNE)\n",
    "default_tuned_values.append(embedding_parameters)"
   ]
  },
  {
   "cell_type": "code",
   "execution_count": 18,
   "metadata": {},
   "outputs": [],
   "source": [
    "embedding_class = UMAP\n",
    "list_of_embeddings.append(embedding_class)\n",
    "embedding_parameters = {\n",
    "    \"init\": \"spectral\",\n",
    "    \"n_neighbors\" : 25,\n",
    "    \"min_dist\" : .05\n",
    "}\n",
    "tuned_parameters_UMAP = {\n",
    "    \"n_neighbors\" : [5, 25, 200],\n",
    "    \"min_dist\" : [.05, .5]}\n",
    "tuned_parameter_values.append(tuned_parameters_UMAP)\n",
    "default_tuned_values.append(embedding_parameters)"
   ]
  },
  {
   "cell_type": "code",
   "execution_count": 243,
   "metadata": {},
   "outputs": [],
   "source": [
    "embedding_class = MDS\n",
    "list_of_embeddings.append(embedding_class)\n",
    "embedding_parameters = {\n",
    "    \"dissimilarity\": \"precomputed\"\n",
    "}"
   ]
  },
  {
   "cell_type": "markdown",
   "metadata": {},
   "source": [
    "# Exhaustive Grid Search"
   ]
  },
  {
   "cell_type": "code",
   "execution_count": 245,
   "metadata": {},
   "outputs": [
    {
     "name": "stdout",
     "output_type": "stream",
     "text": [
      "{'metric': 'precomputed', 'perplexity': 15, 'learning_rate': 100.0, 'method': 'TSNE', 'fold': 0, 'confusion_matrix': array([[7170,    0],\n",
      "       [1340, 1501]], dtype=int64), 'matthews_cc': 0.6671899979732595, 'threshold': array([-1.46336287]), 'accuracy': 0.8661472380381581}\n",
      "{'metric': 'precomputed', 'perplexity': 15, 'learning_rate': 200.0, 'method': 'TSNE', 'fold': 0, 'confusion_matrix': array([[6963,    0],\n",
      "       [1547, 1501]], dtype=int64), 'matthews_cc': 0.634769837833333, 'threshold': array([-1.46550873]), 'accuracy': 0.8454699830186795}\n",
      "{'metric': 'precomputed', 'perplexity': 15, 'learning_rate': 300.0, 'method': 'TSNE', 'fold': 0, 'confusion_matrix': array([[7405,    0],\n",
      "       [1105, 1501]], dtype=int64), 'matthews_cc': 0.7079472381457023, 'threshold': array([-1.60836447]), 'accuracy': 0.889621416441914}\n",
      "{'metric': 'precomputed', 'perplexity': 15, 'learning_rate': 400.0, 'method': 'TSNE', 'fold': 0, 'confusion_matrix': array([[8505, 1316],\n",
      "       [   5,  185]], dtype=int64), 'matthews_cc': 0.3209343878587918, 'threshold': array([-1.40720399]), 'accuracy': 0.8680451503346319}\n",
      "{'metric': 'precomputed', 'perplexity': 15, 'learning_rate': 500.0, 'method': 'TSNE', 'fold': 0, 'confusion_matrix': array([[8481, 1021],\n",
      "       [  29,  480]], dtype=int64), 'matthews_cc': 0.5141578182130724, 'threshold': array([-1.43191196]), 'accuracy': 0.8951153730896014}\n",
      "{'metric': 'precomputed', 'perplexity': 15, 'learning_rate': 1000.0, 'method': 'TSNE', 'fold': 0, 'confusion_matrix': array([[8509, 1370],\n",
      "       [   1,  131]], dtype=int64), 'matthews_cc': 0.27278289580039805, 'threshold': array([-1.46672278]), 'accuracy': 0.8630506442912796}\n",
      "{'metric': 'precomputed', 'perplexity': 20, 'learning_rate': 100.0, 'method': 'TSNE', 'fold': 0, 'confusion_matrix': array([[6294,    0],\n",
      "       [2216, 1501]], dtype=int64), 'matthews_cc': 0.5465031314879176, 'threshold': array([-1.43695128]), 'accuracy': 0.7786434921586255}\n",
      "{'metric': 'precomputed', 'perplexity': 20, 'learning_rate': 200.0, 'method': 'TSNE', 'fold': 0, 'confusion_matrix': array([[5925,    0],\n",
      "       [2585, 1501]], dtype=int64), 'matthews_cc': 0.5057321489989965, 'threshold': array([-1.43761098]), 'accuracy': 0.7417840375586855}\n",
      "{'metric': 'precomputed', 'perplexity': 20, 'learning_rate': 300.0, 'method': 'TSNE', 'fold': 0, 'confusion_matrix': array([[5850,    0],\n",
      "       [2660, 1501]], dtype=int64), 'matthews_cc': 0.49797167586627783, 'threshold': array([-1.48247708]), 'accuracy': 0.734292278493657}\n",
      "{'metric': 'precomputed', 'perplexity': 20, 'learning_rate': 400.0, 'method': 'TSNE', 'fold': 0, 'confusion_matrix': array([[8410,  590],\n",
      "       [ 100,  911]], dtype=int64), 'matthews_cc': 0.7051882077993054, 'threshold': array([-1.4915308]), 'accuracy': 0.9310758166017381}\n",
      "{'metric': 'precomputed', 'perplexity': 20, 'learning_rate': 500.0, 'method': 'TSNE', 'fold': 0, 'confusion_matrix': array([[8487, 1208],\n",
      "       [  23,  293]], dtype=int64), 'matthews_cc': 0.3930696654677798, 'threshold': array([-1.49193853]), 'accuracy': 0.8770352612126661}\n",
      "{'metric': 'precomputed', 'perplexity': 20, 'learning_rate': 1000.0, 'method': 'TSNE', 'fold': 0, 'confusion_matrix': array([[8507, 1312],\n",
      "       [   3,  189]], dtype=int64), 'matthews_cc': 0.3268393941424197, 'threshold': array([-1.50845939]), 'accuracy': 0.8686444910598342}\n",
      "{'metric': 'precomputed', 'perplexity': 25, 'learning_rate': 100.0, 'method': 'TSNE', 'fold': 0, 'confusion_matrix': array([[4952,    0],\n",
      "       [3558, 1501]], dtype=int64), 'matthews_cc': 0.4155119747811321, 'threshold': array([-1.47913946]), 'accuracy': 0.6445909499550494}\n",
      "{'metric': 'precomputed', 'perplexity': 25, 'learning_rate': 200.0, 'method': 'TSNE', 'fold': 0, 'confusion_matrix': array([[4696,    0],\n",
      "       [3814, 1501]], dtype=int64), 'matthews_cc': 0.39476439531282126, 'threshold': array([-1.47089742]), 'accuracy': 0.6190190790130856}\n",
      "{'metric': 'precomputed', 'perplexity': 25, 'learning_rate': 300.0, 'method': 'TSNE', 'fold': 0, 'confusion_matrix': array([[5275,    0],\n",
      "       [3235, 1501]], dtype=int64), 'matthews_cc': 0.443231840397807, 'threshold': array([-1.49525455]), 'accuracy': 0.6768554589951054}\n",
      "{'metric': 'precomputed', 'perplexity': 25, 'learning_rate': 400.0, 'method': 'TSNE', 'fold': 0, 'confusion_matrix': array([[8476, 1007],\n",
      "       [  34,  494]], dtype=int64), 'matthews_cc': 0.5192866268225345, 'threshold': array([-1.44364907]), 'accuracy': 0.8960143841774049}\n",
      "{'metric': 'precomputed', 'perplexity': 25, 'learning_rate': 500.0, 'method': 'TSNE', 'fold': 0, 'confusion_matrix': array([[8510, 1498],\n",
      "       [   0,    3]], dtype=int64), 'matthews_cc': 0.041225071062237696, 'threshold': array([-1.51158467]), 'accuracy': 0.8503645989411647}\n",
      "{'metric': 'precomputed', 'perplexity': 25, 'learning_rate': 1000.0, 'method': 'TSNE', 'fold': 0, 'confusion_matrix': array([[8509, 1405],\n",
      "       [   1,   96]], dtype=int64), 'matthews_cc': 0.23266801232625156, 'threshold': array([-1.50442173]), 'accuracy': 0.859554490060933}\n",
      "{'metric': 'precomputed', 'perplexity': 30, 'learning_rate': 100.0, 'method': 'TSNE', 'fold': 0, 'confusion_matrix': array([[2795,    0],\n",
      "       [5715, 1501]], dtype=int64), 'matthews_cc': 0.26137750612510535, 'threshold': array([-1.4782574]), 'accuracy': 0.42912795924483066}\n",
      "{'metric': 'precomputed', 'perplexity': 30, 'learning_rate': 200.0, 'method': 'TSNE', 'fold': 0, 'confusion_matrix': array([[3060,    0],\n",
      "       [5450, 1501]], dtype=int64), 'matthews_cc': 0.2786523019155857, 'threshold': array([-1.52359837]), 'accuracy': 0.45559884127459793}\n",
      "{'metric': 'precomputed', 'perplexity': 30, 'learning_rate': 300.0, 'method': 'TSNE', 'fold': 0, 'confusion_matrix': array([[3948,    0],\n",
      "       [4562, 1501]], dtype=int64), 'matthews_cc': 0.33889905197702963, 'threshold': array([-1.48043631]), 'accuracy': 0.544301268604535}\n",
      "{'metric': 'precomputed', 'perplexity': 30, 'learning_rate': 400.0, 'method': 'TSNE', 'fold': 0, 'confusion_matrix': array([[8474, 1002],\n",
      "       [  36,  499]], dtype=int64), 'matthews_cc': 0.5209832528213529, 'threshold': array([-1.45364572]), 'accuracy': 0.896314054540006}\n",
      "{'metric': 'precomputed', 'perplexity': 30, 'learning_rate': 500.0, 'method': 'TSNE', 'fold': 0, 'confusion_matrix': array([[8510, 1461],\n",
      "       [   0,   40]], dtype=int64), 'matthews_cc': 0.15081171249031441, 'threshold': array([-1.51664866]), 'accuracy': 0.8540605334132454}\n",
      "{'metric': 'precomputed', 'perplexity': 30, 'learning_rate': 1000.0, 'method': 'TSNE', 'fold': 0, 'confusion_matrix': array([[8510, 1497],\n",
      "       [   0,    4]], dtype=int64), 'matthews_cc': 0.047604990156533245, 'threshold': array([-1.53202318]), 'accuracy': 0.8504644890620318}\n",
      "{'metric': 'precomputed', 'perplexity': 100, 'learning_rate': 100.0, 'method': 'TSNE', 'fold': 0, 'confusion_matrix': array([[ 186,    0],\n",
      "       [8324, 1501]], dtype=int64), 'matthews_cc': 0.05778508529509284, 'threshold': array([-1.3414666]), 'accuracy': 0.16851463390270702}\n",
      "{'metric': 'precomputed', 'perplexity': 100, 'learning_rate': 200.0, 'method': 'TSNE', 'fold': 0, 'confusion_matrix': array([[  76,    0],\n",
      "       [8434, 1501]], dtype=int64), 'matthews_cc': 0.03673232570093231, 'threshold': array([-1.32456182]), 'accuracy': 0.15752672060733194}\n",
      "{'metric': 'precomputed', 'perplexity': 100, 'learning_rate': 300.0, 'method': 'TSNE', 'fold': 0, 'confusion_matrix': array([[ 155,    0],\n",
      "       [8355, 1501]], dtype=int64), 'matthews_cc': 0.052667301579235416, 'threshold': array([-1.33162702]), 'accuracy': 0.1654180401558286}\n",
      "{'metric': 'precomputed', 'perplexity': 100, 'learning_rate': 400.0, 'method': 'TSNE', 'fold': 0, 'confusion_matrix': array([[ 113,    0],\n",
      "       [8397, 1501]], dtype=int64), 'matthews_cc': 0.04487361557406848, 'threshold': array([-1.32379203]), 'accuracy': 0.16122265507941264}\n",
      "{'metric': 'precomputed', 'perplexity': 100, 'learning_rate': 500.0, 'method': 'TSNE', 'fold': 0, 'confusion_matrix': array([[ 204,    0],\n",
      "       [8306, 1501]], dtype=int64), 'matthews_cc': 0.060572090442949256, 'threshold': array([-1.31810482]), 'accuracy': 0.17031265607831386}\n"
     ]
    },
    {
     "name": "stderr",
     "output_type": "stream",
     "text": [
      "C:\\Work\\Miniconda3\\envs\\cartography\\lib\\site-packages\\sklearn\\metrics\\_classification.py:900: RuntimeWarning: invalid value encountered in double_scalars\n",
      "  mcc = cov_ytyp / np.sqrt(cov_ytyt * cov_ypyp)\n"
     ]
    },
    {
     "name": "stdout",
     "output_type": "stream",
     "text": [
      "{'metric': 'precomputed', 'perplexity': 100, 'learning_rate': 1000.0, 'method': 'TSNE', 'fold': 0, 'confusion_matrix': array([[8510, 1501],\n",
      "       [   0,    0]], dtype=int64), 'matthews_cc': 0.0, 'threshold': array([-1.2948725]), 'accuracy': 0.8500649285785635}\n"
     ]
    },
    {
     "name": "stderr",
     "output_type": "stream",
     "text": [
      "C:\\Work\\Miniconda3\\envs\\cartography\\lib\\site-packages\\umap\\spectral.py:106: NumbaDeprecationWarning: \u001b[1mAn import was requested from a module that has moved location.\n",
      "Import of 'CPUDispatcher' requested from: 'numba.targets.registry', please update to use 'numba.core.registry' or pin to Numba version 0.48.0. This alias will not be present in Numba version 0.50.0.\u001b[0m\n",
      "  ) == numba.targets.registry.CPUDispatcher and scipy.sparse.isspmatrix(data):\n",
      "C:\\Work\\Miniconda3\\envs\\cartography\\lib\\site-packages\\sklearn\\manifold\\_spectral_embedding.py:236: UserWarning: Graph is not fully connected, spectral embedding may not work as expected.\n",
      "  warnings.warn(\"Graph is not fully connected, spectral embedding\"\n",
      "C:\\Work\\Miniconda3\\envs\\cartography\\lib\\site-packages\\umap\\spectral.py:106: NumbaDeprecationWarning: \u001b[1mAn import was requested from a module that has moved location.\n",
      "Import of 'CPUDispatcher' requested from: 'numba.targets.registry', please update to use 'numba.core.registry' or pin to Numba version 0.48.0. This alias will not be present in Numba version 0.50.0.\u001b[0m\n",
      "  ) == numba.targets.registry.CPUDispatcher and scipy.sparse.isspmatrix(data):\n",
      "C:\\Work\\Miniconda3\\envs\\cartography\\lib\\site-packages\\sklearn\\manifold\\_spectral_embedding.py:236: UserWarning: Graph is not fully connected, spectral embedding may not work as expected.\n",
      "  warnings.warn(\"Graph is not fully connected, spectral embedding\"\n"
     ]
    },
    {
     "name": "stdout",
     "output_type": "stream",
     "text": [
      "{'init': 'spectral', 'n_neighbors': 5, 'min_dist': 0.05, 'method': 'UMAP', 'fold': 0, 'confusion_matrix': array([[8402,  121],\n",
      "       [ 108, 1380]], dtype=int64), 'matthews_cc': 0.9099534486285553, 'threshold': array([-1.82310482]), 'accuracy': 0.9771251623214464}\n"
     ]
    },
    {
     "name": "stderr",
     "output_type": "stream",
     "text": [
      "C:\\Work\\Miniconda3\\envs\\cartography\\lib\\site-packages\\umap\\spectral.py:106: NumbaDeprecationWarning: \u001b[1mAn import was requested from a module that has moved location.\n",
      "Import of 'CPUDispatcher' requested from: 'numba.targets.registry', please update to use 'numba.core.registry' or pin to Numba version 0.48.0. This alias will not be present in Numba version 0.50.0.\u001b[0m\n",
      "  ) == numba.targets.registry.CPUDispatcher and scipy.sparse.isspmatrix(data):\n",
      "C:\\Work\\Miniconda3\\envs\\cartography\\lib\\site-packages\\sklearn\\manifold\\_spectral_embedding.py:236: UserWarning: Graph is not fully connected, spectral embedding may not work as expected.\n",
      "  warnings.warn(\"Graph is not fully connected, spectral embedding\"\n",
      "C:\\Work\\Miniconda3\\envs\\cartography\\lib\\site-packages\\umap\\spectral.py:106: NumbaDeprecationWarning: \u001b[1mAn import was requested from a module that has moved location.\n",
      "Import of 'CPUDispatcher' requested from: 'numba.targets.registry', please update to use 'numba.core.registry' or pin to Numba version 0.48.0. This alias will not be present in Numba version 0.50.0.\u001b[0m\n",
      "  ) == numba.targets.registry.CPUDispatcher and scipy.sparse.isspmatrix(data):\n",
      "C:\\Work\\Miniconda3\\envs\\cartography\\lib\\site-packages\\sklearn\\manifold\\_spectral_embedding.py:236: UserWarning: Graph is not fully connected, spectral embedding may not work as expected.\n",
      "  warnings.warn(\"Graph is not fully connected, spectral embedding\"\n",
      "C:\\Work\\Miniconda3\\envs\\cartography\\lib\\site-packages\\sklearn\\metrics\\_classification.py:900: RuntimeWarning: invalid value encountered in double_scalars\n",
      "  mcc = cov_ytyp / np.sqrt(cov_ytyt * cov_ypyp)\n"
     ]
    },
    {
     "name": "stdout",
     "output_type": "stream",
     "text": [
      "{'init': 'spectral', 'n_neighbors': 5, 'min_dist': 0.5, 'method': 'UMAP', 'fold': 0, 'confusion_matrix': array([[8510, 1501],\n",
      "       [   0,    0]], dtype=int64), 'matthews_cc': 0.0, 'threshold': array([-3.61387832]), 'accuracy': 0.8500649285785635}\n",
      "{'init': 'spectral', 'n_neighbors': 25, 'min_dist': 0.05, 'method': 'UMAP', 'fold': 0, 'confusion_matrix': array([[7181,    0],\n",
      "       [1329, 1501]], dtype=int64), 'matthews_cc': 0.6689979880681112, 'threshold': array([-1.48607723]), 'accuracy': 0.8672460293676956}\n",
      "{'init': 'spectral', 'n_neighbors': 25, 'min_dist': 0.5, 'method': 'UMAP', 'fold': 0, 'confusion_matrix': array([[7356,    0],\n",
      "       [1154, 1501]], dtype=int64), 'matthews_cc': 0.6990595348311879, 'threshold': array([-1.33166002]), 'accuracy': 0.8847268005194286}\n"
     ]
    },
    {
     "name": "stderr",
     "output_type": "stream",
     "text": [
      "C:\\Work\\Miniconda3\\envs\\cartography\\lib\\site-packages\\umap\\umap_.py:1674: UserWarning: n_neighbors is larger than the dataset size; truncating to X.shape[0] - 1\n",
      "  \"n_neighbors is larger than the dataset size; truncating to \"\n"
     ]
    },
    {
     "name": "stdout",
     "output_type": "stream",
     "text": [
      "{'init': 'spectral', 'n_neighbors': 200, 'min_dist': 0.05, 'method': 'UMAP', 'fold': 0, 'confusion_matrix': array([[7394,    0],\n",
      "       [1116, 1501]], dtype=int64), 'matthews_cc': 0.7059329084816945, 'threshold': array([-1.34349976]), 'accuracy': 0.8885226251123763}\n"
     ]
    },
    {
     "name": "stderr",
     "output_type": "stream",
     "text": [
      "C:\\Work\\Miniconda3\\envs\\cartography\\lib\\site-packages\\umap\\umap_.py:1674: UserWarning: n_neighbors is larger than the dataset size; truncating to X.shape[0] - 1\n",
      "  \"n_neighbors is larger than the dataset size; truncating to \"\n"
     ]
    },
    {
     "name": "stdout",
     "output_type": "stream",
     "text": [
      "{'init': 'spectral', 'n_neighbors': 200, 'min_dist': 0.5, 'method': 'UMAP', 'fold': 0, 'confusion_matrix': array([[7381,    8],\n",
      "       [1129, 1493]], dtype=int64), 'matthews_cc': 0.6999300034147039, 'threshold': array([-1.30203497]), 'accuracy': 0.8864249325741684}\n",
      "{'dissimilarity': 'precomputed', 'n_components': 2, 'method': 'MDS', 'fold': 0, 'confusion_matrix': array([[7917,  211],\n",
      "       [ 593, 1290]], dtype=int64), 'matthews_cc': 0.7214805556439351, 'threshold': array([-1.29206916]), 'accuracy': 0.9196883428228948}\n",
      "{'dissimilarity': 'precomputed', 'n_components': 4, 'method': 'MDS', 'fold': 0, 'confusion_matrix': array([[8029,  175],\n",
      "       [ 481, 1326]], dtype=int64), 'matthews_cc': 0.7675569470666108, 'threshold': array([-1.30040214]), 'accuracy': 0.9344720807112177}\n",
      "{'dissimilarity': 'precomputed', 'n_components': 6, 'method': 'MDS', 'fold': 0, 'confusion_matrix': array([[8024,  185],\n",
      "       [ 486, 1316]], dtype=int64), 'matthews_cc': 0.7616501144927377, 'threshold': array([-1.29029004]), 'accuracy': 0.932973728898212}\n",
      "{'dissimilarity': 'precomputed', 'n_components': 8, 'method': 'MDS', 'fold': 0, 'confusion_matrix': array([[8022,  177],\n",
      "       [ 488, 1324]], dtype=int64), 'matthews_cc': 0.7647326809911538, 'threshold': array([-1.27768377]), 'accuracy': 0.9335730696234142}\n",
      "{'dissimilarity': 'precomputed', 'n_components': 10, 'method': 'MDS', 'fold': 0, 'confusion_matrix': array([[8023,  187],\n",
      "       [ 487, 1314]], dtype=int64), 'matthews_cc': 0.7604674756984324, 'threshold': array([-1.27367463]), 'accuracy': 0.9326740585356108}\n",
      "{'metric': 'precomputed', 'perplexity': 15, 'learning_rate': 100.0, 'method': 'TSNE', 'fold': 1, 'confusion_matrix': array([[6538,    0],\n",
      "       [1513, 1960]], dtype=int64), 'matthews_cc': 0.6769758696466355, 'threshold': array([-1.42802757]), 'accuracy': 0.8488662471281591}\n"
     ]
    },
    {
     "name": "stderr",
     "output_type": "stream",
     "text": [
      "C:\\Work\\Miniconda3\\envs\\cartography\\lib\\site-packages\\sklearn\\svm\\_base.py:947: ConvergenceWarning: Liblinear failed to converge, increase the number of iterations.\n",
      "  \"the number of iterations.\", ConvergenceWarning)\n",
      "C:\\Work\\Miniconda3\\envs\\cartography\\lib\\site-packages\\sklearn\\metrics\\_classification.py:900: RuntimeWarning: invalid value encountered in double_scalars\n",
      "  mcc = cov_ytyp / np.sqrt(cov_ytyt * cov_ypyp)\n"
     ]
    },
    {
     "name": "stdout",
     "output_type": "stream",
     "text": [
      "{'metric': 'precomputed', 'perplexity': 15, 'learning_rate': 200.0, 'method': 'TSNE', 'fold': 1, 'confusion_matrix': array([[8051, 1960],\n",
      "       [   0,    0]], dtype=int64), 'matthews_cc': 0.0, 'threshold': array([-3.59325093]), 'accuracy': 0.8042153631005894}\n",
      "{'metric': 'precomputed', 'perplexity': 15, 'learning_rate': 300.0, 'method': 'TSNE', 'fold': 1, 'confusion_matrix': array([[8036, 1729],\n",
      "       [  15,  231]], dtype=int64), 'matthews_cc': 0.29729312946545705, 'threshold': array([-1.43429006]), 'accuracy': 0.8257916292078713}\n",
      "{'metric': 'precomputed', 'perplexity': 15, 'learning_rate': 400.0, 'method': 'TSNE', 'fold': 1, 'confusion_matrix': array([[8047, 1800],\n",
      "       [   4,  160]], dtype=int64), 'matthews_cc': 0.2536247825645638, 'threshold': array([-1.4202244]), 'accuracy': 0.8197982219558486}\n",
      "{'metric': 'precomputed', 'perplexity': 15, 'learning_rate': 500.0, 'method': 'TSNE', 'fold': 1, 'confusion_matrix': array([[8032, 1590],\n",
      "       [  19,  370]], dtype=int64), 'matthews_cc': 0.38276094668855465, 'threshold': array([-1.41285063]), 'accuracy': 0.8392767955249226}\n",
      "{'metric': 'precomputed', 'perplexity': 15, 'learning_rate': 1000.0, 'method': 'TSNE', 'fold': 1, 'confusion_matrix': array([[8050, 1808],\n",
      "       [   1,  152]], dtype=int64), 'matthews_cc': 0.2504402945110415, 'threshold': array([-1.38823275]), 'accuracy': 0.8192987713515133}\n",
      "{'metric': 'precomputed', 'perplexity': 20, 'learning_rate': 100.0, 'method': 'TSNE', 'fold': 1, 'confusion_matrix': array([[6170,    0],\n",
      "       [1881, 1960]], dtype=int64), 'matthews_cc': 0.625350571086313, 'threshold': array([-1.46964526]), 'accuracy': 0.812106682649086}\n",
      "{'metric': 'precomputed', 'perplexity': 20, 'learning_rate': 200.0, 'method': 'TSNE', 'fold': 1, 'confusion_matrix': array([[6187,    0],\n",
      "       [1864, 1960]], dtype=int64), 'matthews_cc': 0.627601883910792, 'threshold': array([-1.43251053]), 'accuracy': 0.8138048147038258}\n",
      "{'metric': 'precomputed', 'perplexity': 20, 'learning_rate': 300.0, 'method': 'TSNE', 'fold': 1, 'confusion_matrix': array([[6187,    0],\n",
      "       [1864, 1960]], dtype=int64), 'matthews_cc': 0.627601883910792, 'threshold': array([-1.4816395]), 'accuracy': 0.8138048147038258}\n",
      "{'metric': 'precomputed', 'perplexity': 20, 'learning_rate': 400.0, 'method': 'TSNE', 'fold': 1, 'confusion_matrix': array([[8039, 1721],\n",
      "       [  12,  239]], dtype=int64), 'matthews_cc': 0.30569741959075, 'threshold': array([-1.49371189]), 'accuracy': 0.8268904205374088}\n",
      "{'metric': 'precomputed', 'perplexity': 20, 'learning_rate': 500.0, 'method': 'TSNE', 'fold': 1, 'confusion_matrix': array([[8051, 1877],\n",
      "       [   0,   83]], dtype=int64), 'matthews_cc': 0.18531263848109553, 'threshold': array([-1.48678414]), 'accuracy': 0.8125062431325542}\n",
      "{'metric': 'precomputed', 'perplexity': 20, 'learning_rate': 1000.0, 'method': 'TSNE', 'fold': 1, 'confusion_matrix': array([[8011, 1499],\n",
      "       [  40,  461]], dtype=int64), 'matthews_cc': 0.4190024827851275, 'threshold': array([-1.40370246]), 'accuracy': 0.8462691039856158}\n",
      "{'metric': 'precomputed', 'perplexity': 25, 'learning_rate': 100.0, 'method': 'TSNE', 'fold': 1, 'confusion_matrix': array([[6187,    0],\n",
      "       [1864, 1960]], dtype=int64), 'matthews_cc': 0.627601883910792, 'threshold': array([-1.48419038]), 'accuracy': 0.8138048147038258}\n",
      "{'metric': 'precomputed', 'perplexity': 25, 'learning_rate': 200.0, 'method': 'TSNE', 'fold': 1, 'confusion_matrix': array([[6187,    0],\n",
      "       [1864, 1960]], dtype=int64), 'matthews_cc': 0.627601883910792, 'threshold': array([-1.40818243]), 'accuracy': 0.8138048147038258}\n",
      "{'metric': 'precomputed', 'perplexity': 25, 'learning_rate': 300.0, 'method': 'TSNE', 'fold': 1, 'confusion_matrix': array([[6187,    0],\n",
      "       [1864, 1960]], dtype=int64), 'matthews_cc': 0.627601883910792, 'threshold': array([-1.51906203]), 'accuracy': 0.8138048147038258}\n",
      "{'metric': 'precomputed', 'perplexity': 25, 'learning_rate': 400.0, 'method': 'TSNE', 'fold': 1, 'confusion_matrix': array([[8033, 1685],\n",
      "       [  18,  275]], dtype=int64), 'matthews_cc': 0.3250357995250833, 'threshold': array([-1.53635949]), 'accuracy': 0.8298871241634203}\n",
      "{'metric': 'precomputed', 'perplexity': 25, 'learning_rate': 500.0, 'method': 'TSNE', 'fold': 1, 'confusion_matrix': array([[8051, 1958],\n",
      "       [   0,    2]], dtype=int64), 'matthews_cc': 0.028649465955499345, 'threshold': array([-1.53100537]), 'accuracy': 0.8044151433423234}\n",
      "{'metric': 'precomputed', 'perplexity': 25, 'learning_rate': 1000.0, 'method': 'TSNE', 'fold': 1, 'confusion_matrix': array([[8051, 1899],\n",
      "       [   0,   61]], dtype=int64), 'matthews_cc': 0.1586902538177854, 'threshold': array([-1.51700553]), 'accuracy': 0.8103086604734792}\n",
      "{'metric': 'precomputed', 'perplexity': 30, 'learning_rate': 100.0, 'method': 'TSNE', 'fold': 1, 'confusion_matrix': array([[6120,    0],\n",
      "       [1931, 1960]], dtype=int64), 'matthews_cc': 0.6187970263677215, 'threshold': array([-1.48954715]), 'accuracy': 0.8071121766057336}\n",
      "{'metric': 'precomputed', 'perplexity': 30, 'learning_rate': 200.0, 'method': 'TSNE', 'fold': 1, 'confusion_matrix': array([[5860,    0],\n",
      "       [2191, 1960]], dtype=int64), 'matthews_cc': 0.5862401566185669, 'threshold': array([-1.5368062]), 'accuracy': 0.7811407451803016}\n",
      "{'metric': 'precomputed', 'perplexity': 30, 'learning_rate': 300.0, 'method': 'TSNE', 'fold': 1, 'confusion_matrix': array([[5990,    0],\n",
      "       [2061, 1960]], dtype=int64), 'matthews_cc': 0.6022121272274581, 'threshold': array([-1.54003572]), 'accuracy': 0.7941264608930176}\n",
      "{'metric': 'precomputed', 'perplexity': 30, 'learning_rate': 400.0, 'method': 'TSNE', 'fold': 1, 'confusion_matrix': array([[8039, 1749],\n",
      "       [  12,  211]], dtype=int64), 'matthews_cc': 0.28544663821427546, 'threshold': array([-1.54072875]), 'accuracy': 0.8240934971531315}\n",
      "{'metric': 'precomputed', 'perplexity': 30, 'learning_rate': 500.0, 'method': 'TSNE', 'fold': 1, 'confusion_matrix': array([[8040, 1751],\n",
      "       [  11,  209]], dtype=int64), 'matthews_cc': 0.28491656651380876, 'threshold': array([-1.46768979]), 'accuracy': 0.8239936070322645}\n",
      "{'metric': 'precomputed', 'perplexity': 30, 'learning_rate': 1000.0, 'method': 'TSNE', 'fold': 1, 'confusion_matrix': array([[8051, 1948],\n",
      "       [   0,   12]], dtype=int64), 'matthews_cc': 0.0702116560204465, 'threshold': array([-1.53654898]), 'accuracy': 0.8054140445509939}\n",
      "{'metric': 'precomputed', 'perplexity': 100, 'learning_rate': 100.0, 'method': 'TSNE', 'fold': 1, 'confusion_matrix': array([[ 384,    0],\n",
      "       [7667, 1960]], dtype=int64), 'matthews_cc': 0.09854242571350406, 'threshold': array([-1.35440028]), 'accuracy': 0.2341424433123564}\n",
      "{'metric': 'precomputed', 'perplexity': 100, 'learning_rate': 200.0, 'method': 'TSNE', 'fold': 1, 'confusion_matrix': array([[ 286,    0],\n",
      "       [7765, 1960]], dtype=int64), 'matthews_cc': 0.084613826165484, 'threshold': array([-1.34508337]), 'accuracy': 0.22435321146738588}\n",
      "{'metric': 'precomputed', 'perplexity': 100, 'learning_rate': 300.0, 'method': 'TSNE', 'fold': 1, 'confusion_matrix': array([[ 384,    0],\n",
      "       [7667, 1960]], dtype=int64), 'matthews_cc': 0.09854242571350406, 'threshold': array([-1.35634774]), 'accuracy': 0.2341424433123564}\n",
      "{'metric': 'precomputed', 'perplexity': 100, 'learning_rate': 400.0, 'method': 'TSNE', 'fold': 1, 'confusion_matrix': array([[  85,    0],\n",
      "       [7966, 1960]], dtype=int64), 'matthews_cc': 0.04565890056674705, 'threshold': array([-1.33927313]), 'accuracy': 0.20427529717310958}\n"
     ]
    },
    {
     "name": "stderr",
     "output_type": "stream",
     "text": [
      "C:\\Work\\Miniconda3\\envs\\cartography\\lib\\site-packages\\sklearn\\metrics\\_classification.py:900: RuntimeWarning: invalid value encountered in double_scalars\n",
      "  mcc = cov_ytyp / np.sqrt(cov_ytyt * cov_ypyp)\n"
     ]
    },
    {
     "name": "stdout",
     "output_type": "stream",
     "text": [
      "{'metric': 'precomputed', 'perplexity': 100, 'learning_rate': 500.0, 'method': 'TSNE', 'fold': 1, 'confusion_matrix': array([[8051, 1960],\n",
      "       [   0,    0]], dtype=int64), 'matthews_cc': 0.0, 'threshold': array([-1.3232616]), 'accuracy': 0.8042153631005894}\n"
     ]
    },
    {
     "name": "stderr",
     "output_type": "stream",
     "text": [
      "C:\\Work\\Miniconda3\\envs\\cartography\\lib\\site-packages\\sklearn\\metrics\\_classification.py:900: RuntimeWarning: invalid value encountered in double_scalars\n",
      "  mcc = cov_ytyp / np.sqrt(cov_ytyt * cov_ypyp)\n"
     ]
    },
    {
     "name": "stdout",
     "output_type": "stream",
     "text": [
      "{'metric': 'precomputed', 'perplexity': 100, 'learning_rate': 1000.0, 'method': 'TSNE', 'fold': 1, 'confusion_matrix': array([[8051, 1960],\n",
      "       [   0,    0]], dtype=int64), 'matthews_cc': 0.0, 'threshold': array([-1.3634435]), 'accuracy': 0.8042153631005894}\n"
     ]
    },
    {
     "name": "stderr",
     "output_type": "stream",
     "text": [
      "C:\\Work\\Miniconda3\\envs\\cartography\\lib\\site-packages\\umap\\spectral.py:106: NumbaDeprecationWarning: \u001b[1mAn import was requested from a module that has moved location.\n",
      "Import of 'CPUDispatcher' requested from: 'numba.targets.registry', please update to use 'numba.core.registry' or pin to Numba version 0.48.0. This alias will not be present in Numba version 0.50.0.\u001b[0m\n",
      "  ) == numba.targets.registry.CPUDispatcher and scipy.sparse.isspmatrix(data):\n",
      "C:\\Work\\Miniconda3\\envs\\cartography\\lib\\site-packages\\sklearn\\manifold\\_spectral_embedding.py:236: UserWarning: Graph is not fully connected, spectral embedding may not work as expected.\n",
      "  warnings.warn(\"Graph is not fully connected, spectral embedding\"\n",
      "C:\\Work\\Miniconda3\\envs\\cartography\\lib\\site-packages\\sklearn\\metrics\\_classification.py:900: RuntimeWarning: invalid value encountered in double_scalars\n",
      "  mcc = cov_ytyp / np.sqrt(cov_ytyt * cov_ypyp)\n",
      "C:\\Work\\Miniconda3\\envs\\cartography\\lib\\site-packages\\umap\\spectral.py:106: NumbaDeprecationWarning: \u001b[1mAn import was requested from a module that has moved location.\n",
      "Import of 'CPUDispatcher' requested from: 'numba.targets.registry', please update to use 'numba.core.registry' or pin to Numba version 0.48.0. This alias will not be present in Numba version 0.50.0.\u001b[0m\n",
      "  ) == numba.targets.registry.CPUDispatcher and scipy.sparse.isspmatrix(data):\n"
     ]
    },
    {
     "name": "stdout",
     "output_type": "stream",
     "text": [
      "{'init': 'spectral', 'n_neighbors': 5, 'min_dist': 0.05, 'method': 'UMAP', 'fold': 1, 'confusion_matrix': array([[8051, 1960],\n",
      "       [   0,    0]], dtype=int64), 'matthews_cc': 0.0, 'threshold': array([-5.02122203]), 'accuracy': 0.8042153631005894}\n"
     ]
    },
    {
     "name": "stderr",
     "output_type": "stream",
     "text": [
      "C:\\Work\\Miniconda3\\envs\\cartography\\lib\\site-packages\\sklearn\\manifold\\_spectral_embedding.py:236: UserWarning: Graph is not fully connected, spectral embedding may not work as expected.\n",
      "  warnings.warn(\"Graph is not fully connected, spectral embedding\"\n"
     ]
    },
    {
     "name": "stdout",
     "output_type": "stream",
     "text": [
      "{'init': 'spectral', 'n_neighbors': 5, 'min_dist': 0.5, 'method': 'UMAP', 'fold': 1, 'confusion_matrix': array([[7926, 1069],\n",
      "       [ 125,  891]], dtype=int64), 'matthews_cc': 0.5769459594894075, 'threshold': array([-2.65061099]), 'accuracy': 0.8807311956847468}\n",
      "{'init': 'spectral', 'n_neighbors': 25, 'min_dist': 0.05, 'method': 'UMAP', 'fold': 1, 'confusion_matrix': array([[7377,    0],\n",
      "       [ 674, 1960]], dtype=int64), 'matthews_cc': 0.825724420283035, 'threshold': array([-1.50121212]), 'accuracy': 0.9326740585356108}\n",
      "{'init': 'spectral', 'n_neighbors': 25, 'min_dist': 0.5, 'method': 'UMAP', 'fold': 1, 'confusion_matrix': array([[7381,    0],\n",
      "       [ 670, 1960]], dtype=int64), 'matthews_cc': 0.8265761133954844, 'threshold': array([-1.43822528]), 'accuracy': 0.933073619019079}\n"
     ]
    },
    {
     "name": "stderr",
     "output_type": "stream",
     "text": [
      "C:\\Work\\Miniconda3\\envs\\cartography\\lib\\site-packages\\umap\\umap_.py:1674: UserWarning: n_neighbors is larger than the dataset size; truncating to X.shape[0] - 1\n",
      "  \"n_neighbors is larger than the dataset size; truncating to \"\n"
     ]
    },
    {
     "name": "stdout",
     "output_type": "stream",
     "text": [
      "{'init': 'spectral', 'n_neighbors': 200, 'min_dist': 0.05, 'method': 'UMAP', 'fold': 1, 'confusion_matrix': array([[7486,    3],\n",
      "       [ 565, 1957]], dtype=int64), 'matthews_cc': 0.8485022391708114, 'threshold': array([-1.47712919]), 'accuracy': 0.9432624113475178}\n"
     ]
    },
    {
     "name": "stderr",
     "output_type": "stream",
     "text": [
      "C:\\Work\\Miniconda3\\envs\\cartography\\lib\\site-packages\\umap\\umap_.py:1674: UserWarning: n_neighbors is larger than the dataset size; truncating to X.shape[0] - 1\n",
      "  \"n_neighbors is larger than the dataset size; truncating to \"\n"
     ]
    },
    {
     "name": "stdout",
     "output_type": "stream",
     "text": [
      "{'init': 'spectral', 'n_neighbors': 200, 'min_dist': 0.5, 'method': 'UMAP', 'fold': 1, 'confusion_matrix': array([[7202,    7],\n",
      "       [ 849, 1953]], dtype=int64), 'matthews_cc': 0.7874940749919868, 'threshold': array([-1.36047615]), 'accuracy': 0.9144940565378085}\n",
      "{'dissimilarity': 'precomputed', 'n_components': 2, 'method': 'MDS', 'fold': 1, 'confusion_matrix': array([[7749,  428],\n",
      "       [ 302, 1532]], dtype=int64), 'matthews_cc': 0.7633088602205735, 'threshold': array([-1.31436041]), 'accuracy': 0.9270802117670562}\n",
      "{'dissimilarity': 'precomputed', 'n_components': 4, 'method': 'MDS', 'fold': 1, 'confusion_matrix': array([[7851,  456],\n",
      "       [ 200, 1504]], dtype=int64), 'matthews_cc': 0.7839630773289453, 'threshold': array([-1.31879557]), 'accuracy': 0.9344720807112177}\n",
      "{'dissimilarity': 'precomputed', 'n_components': 6, 'method': 'MDS', 'fold': 1, 'confusion_matrix': array([[7864,  446],\n",
      "       [ 187, 1514]], dtype=int64), 'matthews_cc': 0.7916091973555468, 'threshold': array([-1.31309642]), 'accuracy': 0.9367695534911598}\n",
      "{'dissimilarity': 'precomputed', 'n_components': 8, 'method': 'MDS', 'fold': 1, 'confusion_matrix': array([[7871,  439],\n",
      "       [ 180, 1521]], dtype=int64), 'matthews_cc': 0.7963013257082797, 'threshold': array([-1.30027676]), 'accuracy': 0.9381680151832984}\n",
      "{'dissimilarity': 'precomputed', 'n_components': 10, 'method': 'MDS', 'fold': 1, 'confusion_matrix': array([[7869,  435],\n",
      "       [ 182, 1525]], dtype=int64), 'matthews_cc': 0.7970788983180946, 'threshold': array([-1.29863843]), 'accuracy': 0.9383677954250325}\n",
      "{'metric': 'precomputed', 'perplexity': 15, 'learning_rate': 100.0, 'method': 'TSNE', 'fold': 2, 'confusion_matrix': array([[5993,    0],\n",
      "       [2059, 1818]], dtype=int64), 'matthews_cc': 0.5907711718536978, 'threshold': array([-1.4050279]), 'accuracy': 0.7913880445795339}\n",
      "{'metric': 'precomputed', 'perplexity': 15, 'learning_rate': 200.0, 'method': 'TSNE', 'fold': 2, 'confusion_matrix': array([[5887,    0],\n",
      "       [2165, 1818]], dtype=int64), 'matthews_cc': 0.5776794533713618, 'threshold': array([-1.45019031]), 'accuracy': 0.7806484295845998}\n",
      "{'metric': 'precomputed', 'perplexity': 15, 'learning_rate': 300.0, 'method': 'TSNE', 'fold': 2, 'confusion_matrix': array([[7963, 1067],\n",
      "       [  89,  751]], dtype=int64), 'matthews_cc': 0.558512085656334, 'threshold': array([-1.57087343]), 'accuracy': 0.8828774062816616}\n",
      "{'metric': 'precomputed', 'perplexity': 15, 'learning_rate': 400.0, 'method': 'TSNE', 'fold': 2, 'confusion_matrix': array([[8026, 1422],\n",
      "       [  26,  396]], dtype=int64), 'matthews_cc': 0.4111854533169368, 'threshold': array([-1.53749523]), 'accuracy': 0.8532928064842958}\n",
      "{'metric': 'precomputed', 'perplexity': 15, 'learning_rate': 500.0, 'method': 'TSNE', 'fold': 2, 'confusion_matrix': array([[8039, 1539],\n",
      "       [  13,  279]], dtype=int64), 'matthews_cc': 0.3474058933502471, 'threshold': array([-1.49456506]), 'accuracy': 0.8427558257345491}\n",
      "{'metric': 'precomputed', 'perplexity': 15, 'learning_rate': 1000.0, 'method': 'TSNE', 'fold': 2, 'confusion_matrix': array([[8051, 1758],\n",
      "       [   1,   60]], dtype=int64), 'matthews_cc': 0.16262659124902842, 'threshold': array([-1.45872805]), 'accuracy': 0.8217831813576495}\n",
      "{'metric': 'precomputed', 'perplexity': 20, 'learning_rate': 100.0, 'method': 'TSNE', 'fold': 2, 'confusion_matrix': array([[5886,    0],\n",
      "       [2166, 1818]], dtype=int64), 'matthews_cc': 0.5775578889714952, 'threshold': array([-1.47551537]), 'accuracy': 0.780547112462006}\n",
      "{'metric': 'precomputed', 'perplexity': 20, 'learning_rate': 200.0, 'method': 'TSNE', 'fold': 2, 'confusion_matrix': array([[5886,    0],\n",
      "       [2166, 1818]], dtype=int64), 'matthews_cc': 0.5775578889714952, 'threshold': array([-1.45632576]), 'accuracy': 0.780547112462006}\n",
      "{'metric': 'precomputed', 'perplexity': 20, 'learning_rate': 300.0, 'method': 'TSNE', 'fold': 2, 'confusion_matrix': array([[5886,    0],\n",
      "       [2166, 1818]], dtype=int64), 'matthews_cc': 0.5775578889714952, 'threshold': array([-1.47689048]), 'accuracy': 0.780547112462006}\n",
      "{'metric': 'precomputed', 'perplexity': 20, 'learning_rate': 400.0, 'method': 'TSNE', 'fold': 2, 'confusion_matrix': array([[8043, 1592],\n",
      "       [   9,  226]], dtype=int64), 'matthews_cc': 0.31324276147511554, 'threshold': array([-1.50178042]), 'accuracy': 0.837791286727457}\n",
      "{'metric': 'precomputed', 'perplexity': 20, 'learning_rate': 500.0, 'method': 'TSNE', 'fold': 2, 'confusion_matrix': array([[8041, 1586],\n",
      "       [  11,  232]], dtype=int64), 'matthews_cc': 0.3158057490917032, 'threshold': array([-1.44962643]), 'accuracy': 0.8381965552178318}\n",
      "{'metric': 'precomputed', 'perplexity': 20, 'learning_rate': 1000.0, 'method': 'TSNE', 'fold': 2, 'confusion_matrix': array([[8052, 1807],\n",
      "       [   0,   11]], dtype=int64), 'matthews_cc': 0.07029668622667241, 'threshold': array([-1.61340839]), 'accuracy': 0.816919959473151}\n",
      "{'metric': 'precomputed', 'perplexity': 25, 'learning_rate': 100.0, 'method': 'TSNE', 'fold': 2, 'confusion_matrix': array([[5794,    0],\n",
      "       [2258, 1818]], dtype=int64), 'matthews_cc': 0.56652256669161, 'threshold': array([-1.49474237]), 'accuracy': 0.771225937183384}\n",
      "{'metric': 'precomputed', 'perplexity': 25, 'learning_rate': 200.0, 'method': 'TSNE', 'fold': 2, 'confusion_matrix': array([[5496,    0],\n",
      "       [2556, 1818]], dtype=int64), 'matthews_cc': 0.532634175867527, 'threshold': array([-1.42889465]), 'accuracy': 0.7410334346504559}\n",
      "{'metric': 'precomputed', 'perplexity': 25, 'learning_rate': 300.0, 'method': 'TSNE', 'fold': 2, 'confusion_matrix': array([[5689,    0],\n",
      "       [2363, 1818]], dtype=int64), 'matthews_cc': 0.5542719992684606, 'threshold': array([-1.51155202]), 'accuracy': 0.7605876393110436}\n",
      "{'metric': 'precomputed', 'perplexity': 25, 'learning_rate': 400.0, 'method': 'TSNE', 'fold': 2, 'confusion_matrix': array([[8052, 1817],\n",
      "       [   0,    1]], dtype=int64), 'matthews_cc': 0.021184507366109773, 'threshold': array([-1.48662595]), 'accuracy': 0.8159067882472137}\n",
      "{'metric': 'precomputed', 'perplexity': 25, 'learning_rate': 500.0, 'method': 'TSNE', 'fold': 2, 'confusion_matrix': array([[8013, 1321],\n",
      "       [  39,  497]], dtype=int64), 'matthews_cc': 0.45933709589394556, 'threshold': array([-1.49629157]), 'accuracy': 0.8622087132725431}\n",
      "{'metric': 'precomputed', 'perplexity': 25, 'learning_rate': 1000.0, 'method': 'TSNE', 'fold': 2, 'confusion_matrix': array([[8052, 1774],\n",
      "       [   0,   44]], dtype=int64), 'matthews_cc': 0.1408292615426697, 'threshold': array([-1.49861426]), 'accuracy': 0.8202634245187437}\n",
      "{'metric': 'precomputed', 'perplexity': 30, 'learning_rate': 100.0, 'method': 'TSNE', 'fold': 2, 'confusion_matrix': array([[4638,    0],\n",
      "       [3414, 1818]], dtype=int64), 'matthews_cc': 0.44737999551737007, 'threshold': array([-1.52577222]), 'accuracy': 0.6541033434650456}\n",
      "{'metric': 'precomputed', 'perplexity': 30, 'learning_rate': 200.0, 'method': 'TSNE', 'fold': 2, 'confusion_matrix': array([[5162,    0],\n",
      "       [2890, 1818]], dtype=int64), 'matthews_cc': 0.49754896751468314, 'threshold': array([-1.49808787]), 'accuracy': 0.707193515704154}\n",
      "{'metric': 'precomputed', 'perplexity': 30, 'learning_rate': 300.0, 'method': 'TSNE', 'fold': 2, 'confusion_matrix': array([[5229,    0],\n",
      "       [2823, 1818]], dtype=int64), 'matthews_cc': 0.5043692407867308, 'threshold': array([-1.49745391]), 'accuracy': 0.7139817629179331}\n",
      "{'metric': 'precomputed', 'perplexity': 30, 'learning_rate': 400.0, 'method': 'TSNE', 'fold': 2, 'confusion_matrix': array([[8052, 1723],\n",
      "       [   0,   95]], dtype=int64), 'matthews_cc': 0.2074714600673175, 'threshold': array([-1.53080285]), 'accuracy': 0.8254305977710233}\n",
      "{'metric': 'precomputed', 'perplexity': 30, 'learning_rate': 500.0, 'method': 'TSNE', 'fold': 2, 'confusion_matrix': array([[8050, 1643],\n",
      "       [   2,  175]], dtype=int64), 'matthews_cc': 0.28044981885350206, 'threshold': array([-1.51065608]), 'accuracy': 0.8333333333333334}\n"
     ]
    },
    {
     "name": "stderr",
     "output_type": "stream",
     "text": [
      "C:\\Work\\Miniconda3\\envs\\cartography\\lib\\site-packages\\sklearn\\metrics\\_classification.py:900: RuntimeWarning: invalid value encountered in double_scalars\n",
      "  mcc = cov_ytyp / np.sqrt(cov_ytyt * cov_ypyp)\n"
     ]
    },
    {
     "name": "stdout",
     "output_type": "stream",
     "text": [
      "{'metric': 'precomputed', 'perplexity': 30, 'learning_rate': 1000.0, 'method': 'TSNE', 'fold': 2, 'confusion_matrix': array([[8052, 1818],\n",
      "       [   0,    0]], dtype=int64), 'matthews_cc': 0.0, 'threshold': array([-1.5519065]), 'accuracy': 0.8158054711246201}\n",
      "{'metric': 'precomputed', 'perplexity': 100, 'learning_rate': 100.0, 'method': 'TSNE', 'fold': 2, 'confusion_matrix': array([[ 108,    0],\n",
      "       [7944, 1818]], dtype=int64), 'matthews_cc': 0.04997899655675335, 'threshold': array([-1.36616869]), 'accuracy': 0.1951367781155015}\n",
      "{'metric': 'precomputed', 'perplexity': 100, 'learning_rate': 200.0, 'method': 'TSNE', 'fold': 2, 'confusion_matrix': array([[ 140,    0],\n",
      "       [7912, 1818]], dtype=int64), 'matthews_cc': 0.056997086168991656, 'threshold': array([-1.37529238]), 'accuracy': 0.19837892603850052}\n",
      "{'metric': 'precomputed', 'perplexity': 100, 'learning_rate': 300.0, 'method': 'TSNE', 'fold': 2, 'confusion_matrix': array([[  90,    0],\n",
      "       [7962, 1818]], dtype=int64), 'matthews_cc': 0.04558236807032753, 'threshold': array([-1.35233311]), 'accuracy': 0.19331306990881458}\n",
      "{'metric': 'precomputed', 'perplexity': 100, 'learning_rate': 400.0, 'method': 'TSNE', 'fold': 2, 'confusion_matrix': array([[ 129,    0],\n",
      "       [7923, 1818]], dtype=int64), 'matthews_cc': 0.05468121297500617, 'threshold': array([-1.33579091]), 'accuracy': 0.1972644376899696}\n"
     ]
    },
    {
     "name": "stderr",
     "output_type": "stream",
     "text": [
      "C:\\Work\\Miniconda3\\envs\\cartography\\lib\\site-packages\\sklearn\\metrics\\_classification.py:900: RuntimeWarning: invalid value encountered in double_scalars\n",
      "  mcc = cov_ytyp / np.sqrt(cov_ytyt * cov_ypyp)\n"
     ]
    },
    {
     "name": "stdout",
     "output_type": "stream",
     "text": [
      "{'metric': 'precomputed', 'perplexity': 100, 'learning_rate': 500.0, 'method': 'TSNE', 'fold': 2, 'confusion_matrix': array([[8052, 1818],\n",
      "       [   0,    0]], dtype=int64), 'matthews_cc': 0.0, 'threshold': array([-1.36563872]), 'accuracy': 0.8158054711246201}\n"
     ]
    },
    {
     "name": "stderr",
     "output_type": "stream",
     "text": [
      "C:\\Work\\Miniconda3\\envs\\cartography\\lib\\site-packages\\sklearn\\metrics\\_classification.py:900: RuntimeWarning: invalid value encountered in double_scalars\n",
      "  mcc = cov_ytyp / np.sqrt(cov_ytyt * cov_ypyp)\n"
     ]
    },
    {
     "name": "stdout",
     "output_type": "stream",
     "text": [
      "{'metric': 'precomputed', 'perplexity': 100, 'learning_rate': 1000.0, 'method': 'TSNE', 'fold': 2, 'confusion_matrix': array([[8052, 1818],\n",
      "       [   0,    0]], dtype=int64), 'matthews_cc': 0.0, 'threshold': array([-1.34838483]), 'accuracy': 0.8158054711246201}\n"
     ]
    },
    {
     "name": "stderr",
     "output_type": "stream",
     "text": [
      "C:\\Work\\Miniconda3\\envs\\cartography\\lib\\site-packages\\umap\\spectral.py:106: NumbaDeprecationWarning: \u001b[1mAn import was requested from a module that has moved location.\n",
      "Import of 'CPUDispatcher' requested from: 'numba.targets.registry', please update to use 'numba.core.registry' or pin to Numba version 0.48.0. This alias will not be present in Numba version 0.50.0.\u001b[0m\n",
      "  ) == numba.targets.registry.CPUDispatcher and scipy.sparse.isspmatrix(data):\n",
      "C:\\Work\\Miniconda3\\envs\\cartography\\lib\\site-packages\\sklearn\\manifold\\_spectral_embedding.py:236: UserWarning: Graph is not fully connected, spectral embedding may not work as expected.\n",
      "  warnings.warn(\"Graph is not fully connected, spectral embedding\"\n"
     ]
    },
    {
     "name": "stdout",
     "output_type": "stream",
     "text": [
      "{'init': 'spectral', 'n_neighbors': 5, 'min_dist': 0.05, 'method': 'UMAP', 'fold': 2, 'confusion_matrix': array([[7609,  798],\n",
      "       [ 443, 1020]], dtype=int64), 'matthews_cc': 0.5520645788223995, 'threshold': array([-2.1890853]), 'accuracy': 0.8742654508611956}\n"
     ]
    },
    {
     "name": "stderr",
     "output_type": "stream",
     "text": [
      "C:\\Work\\Miniconda3\\envs\\cartography\\lib\\site-packages\\umap\\spectral.py:106: NumbaDeprecationWarning: \u001b[1mAn import was requested from a module that has moved location.\n",
      "Import of 'CPUDispatcher' requested from: 'numba.targets.registry', please update to use 'numba.core.registry' or pin to Numba version 0.48.0. This alias will not be present in Numba version 0.50.0.\u001b[0m\n",
      "  ) == numba.targets.registry.CPUDispatcher and scipy.sparse.isspmatrix(data):\n",
      "C:\\Work\\Miniconda3\\envs\\cartography\\lib\\site-packages\\sklearn\\manifold\\_spectral_embedding.py:236: UserWarning: Graph is not fully connected, spectral embedding may not work as expected.\n",
      "  warnings.warn(\"Graph is not fully connected, spectral embedding\"\n"
     ]
    },
    {
     "name": "stdout",
     "output_type": "stream",
     "text": [
      "{'init': 'spectral', 'n_neighbors': 5, 'min_dist': 0.5, 'method': 'UMAP', 'fold': 2, 'confusion_matrix': array([[8007, 1419],\n",
      "       [  45,  399]], dtype=int64), 'matthews_cc': 0.4000096258357928, 'threshold': array([-3.02957331]), 'accuracy': 0.8516717325227964}\n",
      "{'init': 'spectral', 'n_neighbors': 25, 'min_dist': 0.05, 'method': 'UMAP', 'fold': 2, 'confusion_matrix': array([[7118,    0],\n",
      "       [ 934, 1818]], dtype=int64), 'matthews_cc': 0.7641873307898406, 'threshold': array([-1.4853779]), 'accuracy': 0.9053698074974671}\n",
      "{'init': 'spectral', 'n_neighbors': 25, 'min_dist': 0.5, 'method': 'UMAP', 'fold': 2, 'confusion_matrix': array([[6750,    0],\n",
      "       [1302, 1818]], dtype=int64), 'matthews_cc': 0.6989074111884868, 'threshold': array([-1.38894741]), 'accuracy': 0.8680851063829788}\n"
     ]
    },
    {
     "name": "stderr",
     "output_type": "stream",
     "text": [
      "C:\\Work\\Miniconda3\\envs\\cartography\\lib\\site-packages\\umap\\umap_.py:1674: UserWarning: n_neighbors is larger than the dataset size; truncating to X.shape[0] - 1\n",
      "  \"n_neighbors is larger than the dataset size; truncating to \"\n"
     ]
    },
    {
     "name": "stdout",
     "output_type": "stream",
     "text": [
      "{'init': 'spectral', 'n_neighbors': 200, 'min_dist': 0.05, 'method': 'UMAP', 'fold': 2, 'confusion_matrix': array([[6901,    0],\n",
      "       [1151, 1818]], dtype=int64), 'matthews_cc': 0.724429239829945, 'threshold': array([-1.3729823]), 'accuracy': 0.8833839918946302}\n"
     ]
    },
    {
     "name": "stderr",
     "output_type": "stream",
     "text": [
      "C:\\Work\\Miniconda3\\envs\\cartography\\lib\\site-packages\\umap\\umap_.py:1674: UserWarning: n_neighbors is larger than the dataset size; truncating to X.shape[0] - 1\n",
      "  \"n_neighbors is larger than the dataset size; truncating to \"\n"
     ]
    },
    {
     "name": "stdout",
     "output_type": "stream",
     "text": [
      "{'init': 'spectral', 'n_neighbors': 200, 'min_dist': 0.5, 'method': 'UMAP', 'fold': 2, 'confusion_matrix': array([[6617,    6],\n",
      "       [1435, 1812]], dtype=int64), 'matthews_cc': 0.6752895132410851, 'threshold': array([-1.35181194]), 'accuracy': 0.8540020263424519}\n",
      "{'dissimilarity': 'precomputed', 'n_components': 2, 'method': 'MDS', 'fold': 2, 'confusion_matrix': array([[7651,  249],\n",
      "       [ 401, 1569]], dtype=int64), 'matthews_cc': 0.7887116063652707, 'threshold': array([-1.32188864]), 'accuracy': 0.9341438703140831}\n",
      "{'dissimilarity': 'precomputed', 'n_components': 4, 'method': 'MDS', 'fold': 2, 'confusion_matrix': array([[7782,  323],\n",
      "       [ 270, 1495]], dtype=int64), 'matthews_cc': 0.7979339902435019, 'threshold': array([-1.327606]), 'accuracy': 0.9399189463019251}\n",
      "{'dissimilarity': 'precomputed', 'n_components': 6, 'method': 'MDS', 'fold': 2, 'confusion_matrix': array([[7810,  303],\n",
      "       [ 242, 1515]], dtype=int64), 'matthews_cc': 0.8140263230483555, 'threshold': array([-1.31851412]), 'accuracy': 0.9447821681864235}\n",
      "{'dissimilarity': 'precomputed', 'n_components': 8, 'method': 'MDS', 'fold': 2, 'confusion_matrix': array([[7819,  310],\n",
      "       [ 233, 1508]], dtype=int64), 'matthews_cc': 0.8141739220177938, 'threshold': array([-1.3117747]), 'accuracy': 0.944984802431611}\n",
      "{'dissimilarity': 'precomputed', 'n_components': 10, 'method': 'MDS', 'fold': 2, 'confusion_matrix': array([[7828,  298],\n",
      "       [ 224, 1520]], dtype=int64), 'matthews_cc': 0.8214679837363705, 'threshold': array([-1.30755393]), 'accuracy': 0.947112462006079}\n",
      "{'metric': 'precomputed', 'perplexity': 15, 'learning_rate': 100.0, 'method': 'TSNE', 'fold': 3, 'confusion_matrix': array([[6534,    0],\n",
      "       [1733, 1603]], dtype=int64), 'matthews_cc': 0.6162676013650087, 'threshold': array([-1.59606965]), 'accuracy': 0.8244174265450861}\n",
      "{'metric': 'precomputed', 'perplexity': 15, 'learning_rate': 200.0, 'method': 'TSNE', 'fold': 3, 'confusion_matrix': array([[6608,    0],\n",
      "       [1659, 1603]], dtype=int64), 'matthews_cc': 0.6267377168432842, 'threshold': array([-1.53386605]), 'accuracy': 0.8319148936170213}\n",
      "{'metric': 'precomputed', 'perplexity': 15, 'learning_rate': 300.0, 'method': 'TSNE', 'fold': 3, 'confusion_matrix': array([[8233,  945],\n",
      "       [  34,  658]], dtype=int64), 'matthews_cc': 0.5869927575879098, 'threshold': array([-1.45424458]), 'accuracy': 0.9008105369807498}\n",
      "{'metric': 'precomputed', 'perplexity': 15, 'learning_rate': 400.0, 'method': 'TSNE', 'fold': 3, 'confusion_matrix': array([[8265, 1382],\n",
      "       [   2,  221]], dtype=int64), 'matthews_cc': 0.34157662941857, 'threshold': array([-1.53340743]), 'accuracy': 0.8597771023302938}\n",
      "{'metric': 'precomputed', 'perplexity': 15, 'learning_rate': 500.0, 'method': 'TSNE', 'fold': 3, 'confusion_matrix': array([[8267, 1486],\n",
      "       [   0,  117]], dtype=int64), 'matthews_cc': 0.24873163600713952, 'threshold': array([-1.4637657]), 'accuracy': 0.8494427558257346}\n",
      "{'metric': 'precomputed', 'perplexity': 15, 'learning_rate': 1000.0, 'method': 'TSNE', 'fold': 3, 'confusion_matrix': array([[8267, 1542],\n",
      "       [   0,   61]], dtype=int64), 'matthews_cc': 0.179085225404176, 'threshold': array([-1.5698909]), 'accuracy': 0.8437689969604864}\n",
      "{'metric': 'precomputed', 'perplexity': 20, 'learning_rate': 100.0, 'method': 'TSNE', 'fold': 3, 'confusion_matrix': array([[5795,    0],\n",
      "       [2472, 1603]], dtype=int64), 'matthews_cc': 0.5251165498722654, 'threshold': array([-1.45057631]), 'accuracy': 0.7495440729483283}\n",
      "{'metric': 'precomputed', 'perplexity': 20, 'learning_rate': 200.0, 'method': 'TSNE', 'fold': 3, 'confusion_matrix': array([[5718,    0],\n",
      "       [2549, 1603]], dtype=int64), 'matthews_cc': 0.5167567943341076, 'threshold': array([-1.49238262]), 'accuracy': 0.741742654508612}\n",
      "{'metric': 'precomputed', 'perplexity': 20, 'learning_rate': 300.0, 'method': 'TSNE', 'fold': 3, 'confusion_matrix': array([[5883,    0],\n",
      "       [2384, 1603]], dtype=int64), 'matthews_cc': 0.5348956902558089, 'threshold': array([-1.47306631]), 'accuracy': 0.7584599797365755}\n",
      "{'metric': 'precomputed', 'perplexity': 20, 'learning_rate': 400.0, 'method': 'TSNE', 'fold': 3, 'confusion_matrix': array([[8245, 1114],\n",
      "       [  22,  489]], dtype=int64), 'matthews_cc': 0.5033680282340204, 'threshold': array([-1.49295635]), 'accuracy': 0.8849037487335359}\n",
      "{'metric': 'precomputed', 'perplexity': 20, 'learning_rate': 500.0, 'method': 'TSNE', 'fold': 3, 'confusion_matrix': array([[8267, 1425],\n",
      "       [   0,  178]], dtype=int64), 'matthews_cc': 0.30775881852316667, 'threshold': array([-1.49674196]), 'accuracy': 0.8556231003039514}\n",
      "{'metric': 'precomputed', 'perplexity': 20, 'learning_rate': 1000.0, 'method': 'TSNE', 'fold': 3, 'confusion_matrix': array([[8250, 1208],\n",
      "       [  17,  395]], dtype=int64), 'matthews_cc': 0.4506263189588264, 'threshold': array([-1.55314728]), 'accuracy': 0.875886524822695}\n",
      "{'metric': 'precomputed', 'perplexity': 25, 'learning_rate': 100.0, 'method': 'TSNE', 'fold': 3, 'confusion_matrix': array([[5461,    0],\n",
      "       [2806, 1603]], dtype=int64), 'matthews_cc': 0.4900708051921719, 'threshold': array([-1.4133009]), 'accuracy': 0.7157041540020264}\n",
      "{'metric': 'precomputed', 'perplexity': 25, 'learning_rate': 200.0, 'method': 'TSNE', 'fold': 3, 'confusion_matrix': array([[5241,    0],\n",
      "       [3026, 1603]], dtype=int64), 'matthews_cc': 0.46855036639508757, 'threshold': array([-1.48381685]), 'accuracy': 0.6934143870314083}\n",
      "{'metric': 'precomputed', 'perplexity': 25, 'learning_rate': 300.0, 'method': 'TSNE', 'fold': 3, 'confusion_matrix': array([[5687,    0],\n",
      "       [2580, 1603]], dtype=int64), 'matthews_cc': 0.5134409155831102, 'threshold': array([-1.52114179]), 'accuracy': 0.7386018237082067}\n",
      "{'metric': 'precomputed', 'perplexity': 25, 'learning_rate': 400.0, 'method': 'TSNE', 'fold': 3, 'confusion_matrix': array([[8267, 1527],\n",
      "       [   0,   76]], dtype=int64), 'matthews_cc': 0.20004788028392861, 'threshold': array([-1.51361772]), 'accuracy': 0.8452887537993921}\n",
      "{'metric': 'precomputed', 'perplexity': 25, 'learning_rate': 500.0, 'method': 'TSNE', 'fold': 3, 'confusion_matrix': array([[8267, 1570],\n",
      "       [   0,   33]], dtype=int64), 'matthews_cc': 0.1315324294867444, 'threshold': array([-1.51786645]), 'accuracy': 0.8409321175278622}\n",
      "{'metric': 'precomputed', 'perplexity': 25, 'learning_rate': 1000.0, 'method': 'TSNE', 'fold': 3, 'confusion_matrix': array([[8266, 1540],\n",
      "       [   1,   63]], dtype=int64), 'matthews_cc': 0.18004168902312426, 'threshold': array([-1.49880662]), 'accuracy': 0.84387031408308}\n",
      "{'metric': 'precomputed', 'perplexity': 30, 'learning_rate': 100.0, 'method': 'TSNE', 'fold': 3, 'confusion_matrix': array([[4199,    0],\n",
      "       [4068, 1603]], dtype=int64), 'matthews_cc': 0.378909859474227, 'threshold': array([-1.48010028]), 'accuracy': 0.5878419452887538}\n",
      "{'metric': 'precomputed', 'perplexity': 30, 'learning_rate': 200.0, 'method': 'TSNE', 'fold': 3, 'confusion_matrix': array([[4214,    0],\n",
      "       [4053, 1603]], dtype=int64), 'matthews_cc': 0.3800890494992578, 'threshold': array([-1.4373537]), 'accuracy': 0.5893617021276596}\n",
      "{'metric': 'precomputed', 'perplexity': 30, 'learning_rate': 300.0, 'method': 'TSNE', 'fold': 3, 'confusion_matrix': array([[4366,    0],\n",
      "       [3901, 1603]], dtype=int64), 'matthews_cc': 0.3921890333183575, 'threshold': array([-1.51649009]), 'accuracy': 0.6047619047619047}\n",
      "{'metric': 'precomputed', 'perplexity': 30, 'learning_rate': 400.0, 'method': 'TSNE', 'fold': 3, 'confusion_matrix': array([[8267, 1599],\n",
      "       [   0,    4]], dtype=int64), 'matthews_cc': 0.04572636174232113, 'threshold': array([-1.51862525]), 'accuracy': 0.8379939209726444}\n",
      "{'metric': 'precomputed', 'perplexity': 30, 'learning_rate': 500.0, 'method': 'TSNE', 'fold': 3, 'confusion_matrix': array([[8267, 1600],\n",
      "       [   0,    3]], dtype=int64), 'matthews_cc': 0.039598184142004264, 'threshold': array([-1.51020377]), 'accuracy': 0.8378926038500507}\n"
     ]
    },
    {
     "name": "stderr",
     "output_type": "stream",
     "text": [
      "C:\\Work\\Miniconda3\\envs\\cartography\\lib\\site-packages\\sklearn\\metrics\\_classification.py:900: RuntimeWarning: invalid value encountered in double_scalars\n",
      "  mcc = cov_ytyp / np.sqrt(cov_ytyt * cov_ypyp)\n"
     ]
    },
    {
     "name": "stdout",
     "output_type": "stream",
     "text": [
      "{'metric': 'precomputed', 'perplexity': 30, 'learning_rate': 1000.0, 'method': 'TSNE', 'fold': 3, 'confusion_matrix': array([[8267, 1603],\n",
      "       [   0,    0]], dtype=int64), 'matthews_cc': 0.0, 'threshold': array([-1.52557798]), 'accuracy': 0.8375886524822695}\n",
      "{'metric': 'precomputed', 'perplexity': 100, 'learning_rate': 100.0, 'method': 'TSNE', 'fold': 3, 'confusion_matrix': array([[  51,    0],\n",
      "       [8216, 1603]], dtype=int64), 'matthews_cc': 0.03173542000533833, 'threshold': array([-1.34630462]), 'accuracy': 0.16757852077001012}\n"
     ]
    },
    {
     "name": "stderr",
     "output_type": "stream",
     "text": [
      "C:\\Work\\Miniconda3\\envs\\cartography\\lib\\site-packages\\sklearn\\metrics\\_classification.py:900: RuntimeWarning: invalid value encountered in double_scalars\n",
      "  mcc = cov_ytyp / np.sqrt(cov_ytyt * cov_ypyp)\n"
     ]
    },
    {
     "name": "stdout",
     "output_type": "stream",
     "text": [
      "{'metric': 'precomputed', 'perplexity': 100, 'learning_rate': 200.0, 'method': 'TSNE', 'fold': 3, 'confusion_matrix': array([[   0,    0],\n",
      "       [8267, 1603]], dtype=int64), 'matthews_cc': 0.0, 'threshold': array([-1.32756777]), 'accuracy': 0.1624113475177305}\n",
      "{'metric': 'precomputed', 'perplexity': 100, 'learning_rate': 300.0, 'method': 'TSNE', 'fold': 3, 'confusion_matrix': array([[  56,    0],\n",
      "       [8211, 1603]], dtype=int64), 'matthews_cc': 0.03326318100341936, 'threshold': array([-1.33183931]), 'accuracy': 0.16808510638297872}\n",
      "{'metric': 'precomputed', 'perplexity': 100, 'learning_rate': 400.0, 'method': 'TSNE', 'fold': 3, 'confusion_matrix': array([[  16,    0],\n",
      "       [8251, 1603]], dtype=int64), 'matthews_cc': 0.01774379473186148, 'threshold': array([-1.34852639]), 'accuracy': 0.16403242147923}\n",
      "{'metric': 'precomputed', 'perplexity': 100, 'learning_rate': 500.0, 'method': 'TSNE', 'fold': 3, 'confusion_matrix': array([[  43,    0],\n",
      "       [8224, 1603]], dtype=int64), 'matthews_cc': 0.0291283941177016, 'threshold': array([-1.30991539]), 'accuracy': 0.1667679837892604}\n"
     ]
    },
    {
     "name": "stderr",
     "output_type": "stream",
     "text": [
      "C:\\Work\\Miniconda3\\envs\\cartography\\lib\\site-packages\\sklearn\\metrics\\_classification.py:900: RuntimeWarning: invalid value encountered in double_scalars\n",
      "  mcc = cov_ytyp / np.sqrt(cov_ytyt * cov_ypyp)\n"
     ]
    },
    {
     "name": "stdout",
     "output_type": "stream",
     "text": [
      "{'metric': 'precomputed', 'perplexity': 100, 'learning_rate': 1000.0, 'method': 'TSNE', 'fold': 3, 'confusion_matrix': array([[8267, 1603],\n",
      "       [   0,    0]], dtype=int64), 'matthews_cc': 0.0, 'threshold': array([-1.31183042]), 'accuracy': 0.8375886524822695}\n"
     ]
    },
    {
     "name": "stderr",
     "output_type": "stream",
     "text": [
      "C:\\Work\\Miniconda3\\envs\\cartography\\lib\\site-packages\\umap\\spectral.py:106: NumbaDeprecationWarning: \u001b[1mAn import was requested from a module that has moved location.\n",
      "Import of 'CPUDispatcher' requested from: 'numba.targets.registry', please update to use 'numba.core.registry' or pin to Numba version 0.48.0. This alias will not be present in Numba version 0.50.0.\u001b[0m\n",
      "  ) == numba.targets.registry.CPUDispatcher and scipy.sparse.isspmatrix(data):\n",
      "C:\\Work\\Miniconda3\\envs\\cartography\\lib\\site-packages\\sklearn\\manifold\\_spectral_embedding.py:236: UserWarning: Graph is not fully connected, spectral embedding may not work as expected.\n",
      "  warnings.warn(\"Graph is not fully connected, spectral embedding\"\n"
     ]
    },
    {
     "name": "stdout",
     "output_type": "stream",
     "text": [
      "{'init': 'spectral', 'n_neighbors': 5, 'min_dist': 0.05, 'method': 'UMAP', 'fold': 3, 'confusion_matrix': array([[8198,  906],\n",
      "       [  69,  697]], dtype=int64), 'matthews_cc': 0.5878843212970246, 'threshold': array([-3.13509814]), 'accuracy': 0.9012158054711246}\n"
     ]
    },
    {
     "name": "stderr",
     "output_type": "stream",
     "text": [
      "C:\\Work\\Miniconda3\\envs\\cartography\\lib\\site-packages\\umap\\spectral.py:106: NumbaDeprecationWarning: \u001b[1mAn import was requested from a module that has moved location.\n",
      "Import of 'CPUDispatcher' requested from: 'numba.targets.registry', please update to use 'numba.core.registry' or pin to Numba version 0.48.0. This alias will not be present in Numba version 0.50.0.\u001b[0m\n",
      "  ) == numba.targets.registry.CPUDispatcher and scipy.sparse.isspmatrix(data):\n",
      "C:\\Work\\Miniconda3\\envs\\cartography\\lib\\site-packages\\sklearn\\manifold\\_spectral_embedding.py:236: UserWarning: Graph is not fully connected, spectral embedding may not work as expected.\n",
      "  warnings.warn(\"Graph is not fully connected, spectral embedding\"\n",
      "C:\\Work\\Miniconda3\\envs\\cartography\\lib\\site-packages\\sklearn\\metrics\\_classification.py:900: RuntimeWarning: invalid value encountered in double_scalars\n",
      "  mcc = cov_ytyp / np.sqrt(cov_ytyt * cov_ypyp)\n"
     ]
    },
    {
     "name": "stdout",
     "output_type": "stream",
     "text": [
      "{'init': 'spectral', 'n_neighbors': 5, 'min_dist': 0.5, 'method': 'UMAP', 'fold': 3, 'confusion_matrix': array([[8267, 1603],\n",
      "       [   0,    0]], dtype=int64), 'matthews_cc': 0.0, 'threshold': array([-3.62785805]), 'accuracy': 0.8375886524822695}\n",
      "{'init': 'spectral', 'n_neighbors': 25, 'min_dist': 0.05, 'method': 'UMAP', 'fold': 3, 'confusion_matrix': array([[7292,    0],\n",
      "       [ 975, 1603]], dtype=int64), 'matthews_cc': 0.7405845811134798, 'threshold': array([-1.41790972]), 'accuracy': 0.9012158054711246}\n",
      "{'init': 'spectral', 'n_neighbors': 25, 'min_dist': 0.5, 'method': 'UMAP', 'fold': 3, 'confusion_matrix': array([[7054,    0],\n",
      "       [1213, 1603]], dtype=int64), 'matthews_cc': 0.6969380803359353, 'threshold': array([-1.40784923]), 'accuracy': 0.8771023302938197}\n"
     ]
    },
    {
     "name": "stderr",
     "output_type": "stream",
     "text": [
      "C:\\Work\\Miniconda3\\envs\\cartography\\lib\\site-packages\\umap\\umap_.py:1674: UserWarning: n_neighbors is larger than the dataset size; truncating to X.shape[0] - 1\n",
      "  \"n_neighbors is larger than the dataset size; truncating to \"\n"
     ]
    },
    {
     "name": "stdout",
     "output_type": "stream",
     "text": [
      "{'init': 'spectral', 'n_neighbors': 200, 'min_dist': 0.05, 'method': 'UMAP', 'fold': 3, 'confusion_matrix': array([[7268,    3],\n",
      "       [ 999, 1600]], dtype=int64), 'matthews_cc': 0.7346525958199953, 'threshold': array([-1.287742]), 'accuracy': 0.8984802431610942}\n"
     ]
    },
    {
     "name": "stderr",
     "output_type": "stream",
     "text": [
      "C:\\Work\\Miniconda3\\envs\\cartography\\lib\\site-packages\\umap\\umap_.py:1674: UserWarning: n_neighbors is larger than the dataset size; truncating to X.shape[0] - 1\n",
      "  \"n_neighbors is larger than the dataset size; truncating to \"\n"
     ]
    },
    {
     "name": "stdout",
     "output_type": "stream",
     "text": [
      "{'init': 'spectral', 'n_neighbors': 200, 'min_dist': 0.5, 'method': 'UMAP', 'fold': 3, 'confusion_matrix': array([[7153,    0],\n",
      "       [1114, 1603]], dtype=int64), 'matthews_cc': 0.7144833056393651, 'threshold': array([-1.38912726]), 'accuracy': 0.8871327254305977}\n",
      "{'dissimilarity': 'precomputed', 'n_components': 2, 'method': 'MDS', 'fold': 3, 'confusion_matrix': array([[7703,  268],\n",
      "       [ 564, 1335]], dtype=int64), 'matthews_cc': 0.7154028975284927, 'threshold': array([-1.29221041]), 'accuracy': 0.9157041540020263}\n",
      "{'dissimilarity': 'precomputed', 'n_components': 4, 'method': 'MDS', 'fold': 3, 'confusion_matrix': array([[7770,  228],\n",
      "       [ 497, 1375]], dtype=int64), 'matthews_cc': 0.7504270267002409, 'threshold': array([-1.2960336]), 'accuracy': 0.9265450861195542}\n",
      "{'dissimilarity': 'precomputed', 'n_components': 6, 'method': 'MDS', 'fold': 3, 'confusion_matrix': array([[7790,  215],\n",
      "       [ 477, 1388]], dtype=int64), 'matthews_cc': 0.7614251812795797, 'threshold': array([-1.28768847]), 'accuracy': 0.9298885511651469}\n",
      "{'dissimilarity': 'precomputed', 'n_components': 8, 'method': 'MDS', 'fold': 3, 'confusion_matrix': array([[7788,  220],\n",
      "       [ 479, 1383]], dtype=int64), 'matthews_cc': 0.7587269749959965, 'threshold': array([-1.27796934]), 'accuracy': 0.9291793313069909}\n",
      "{'dissimilarity': 'precomputed', 'n_components': 10, 'method': 'MDS', 'fold': 3, 'confusion_matrix': array([[7778,  208],\n",
      "       [ 489, 1395]], dtype=int64), 'matthews_cc': 0.761212635018053, 'threshold': array([-1.27160881]), 'accuracy': 0.9293819655521783}\n",
      "{'metric': 'precomputed', 'perplexity': 15, 'learning_rate': 100.0, 'method': 'TSNE', 'fold': 4, 'confusion_matrix': array([[6031,    0],\n",
      "       [1849, 1990]], dtype=int64), 'matthews_cc': 0.6298672643257314, 'threshold': array([-1.49445016]), 'accuracy': 0.8126646403242148}\n",
      "{'metric': 'precomputed', 'perplexity': 15, 'learning_rate': 200.0, 'method': 'TSNE', 'fold': 4, 'confusion_matrix': array([[6035,    0],\n",
      "       [1845, 1990]], dtype=int64), 'matthews_cc': 0.630404613118228, 'threshold': array([-1.57708894]), 'accuracy': 0.8130699088145896}\n",
      "{'metric': 'precomputed', 'perplexity': 15, 'learning_rate': 300.0, 'method': 'TSNE', 'fold': 4, 'confusion_matrix': array([[7866, 1659],\n",
      "       [  14,  331]], dtype=int64), 'matthews_cc': 0.3594667396529114, 'threshold': array([-1.48222541]), 'accuracy': 0.8304964539007093}\n",
      "{'metric': 'precomputed', 'perplexity': 15, 'learning_rate': 400.0, 'method': 'TSNE', 'fold': 4, 'confusion_matrix': array([[7880, 1960],\n",
      "       [   0,   30]], dtype=int64), 'matthews_cc': 0.1098751924299055, 'threshold': array([-1.47672856]), 'accuracy': 0.8014184397163121}\n",
      "{'metric': 'precomputed', 'perplexity': 15, 'learning_rate': 500.0, 'method': 'TSNE', 'fold': 4, 'confusion_matrix': array([[7869, 1681],\n",
      "       [  11,  309]], dtype=int64), 'matthews_cc': 0.34857513112274174, 'threshold': array([-1.43683919]), 'accuracy': 0.8285714285714286}\n",
      "{'metric': 'precomputed', 'perplexity': 15, 'learning_rate': 1000.0, 'method': 'TSNE', 'fold': 4, 'confusion_matrix': array([[7880, 1977],\n",
      "       [   0,   13]], dtype=int64), 'matthews_cc': 0.0722663081200665, 'threshold': array([-1.48408382]), 'accuracy': 0.7996960486322189}\n",
      "{'metric': 'precomputed', 'perplexity': 20, 'learning_rate': 100.0, 'method': 'TSNE', 'fold': 4, 'confusion_matrix': array([[6035,    0],\n",
      "       [1845, 1990]], dtype=int64), 'matthews_cc': 0.630404613118228, 'threshold': array([-1.49530327]), 'accuracy': 0.8130699088145896}\n",
      "{'metric': 'precomputed', 'perplexity': 20, 'learning_rate': 200.0, 'method': 'TSNE', 'fold': 4, 'confusion_matrix': array([[6035,    0],\n",
      "       [1845, 1990]], dtype=int64), 'matthews_cc': 0.630404613118228, 'threshold': array([-1.45311354]), 'accuracy': 0.8130699088145896}\n",
      "{'metric': 'precomputed', 'perplexity': 20, 'learning_rate': 300.0, 'method': 'TSNE', 'fold': 4, 'confusion_matrix': array([[7844, 1479],\n",
      "       [  36,  511]], dtype=int64), 'matthews_cc': 0.44227228784341543, 'threshold': array([-1.4073441]), 'accuracy': 0.8465045592705167}\n",
      "{'metric': 'precomputed', 'perplexity': 20, 'learning_rate': 400.0, 'method': 'TSNE', 'fold': 4, 'confusion_matrix': array([[7872, 1759],\n",
      "       [   8,  231]], dtype=int64), 'matthews_cc': 0.3003301285677518, 'threshold': array([-1.51141589]), 'accuracy': 0.8209726443768997}\n",
      "{'metric': 'precomputed', 'perplexity': 20, 'learning_rate': 500.0, 'method': 'TSNE', 'fold': 4, 'confusion_matrix': array([[7880, 1973],\n",
      "       [   0,   17]], dtype=int64), 'matthews_cc': 0.08265645779171146, 'threshold': array([-1.47286651]), 'accuracy': 0.8001013171225937}\n",
      "{'metric': 'precomputed', 'perplexity': 20, 'learning_rate': 1000.0, 'method': 'TSNE', 'fold': 4, 'confusion_matrix': array([[7880, 1986],\n",
      "       [   0,    4]], dtype=int64), 'matthews_cc': 0.04006784735973883, 'threshold': array([-1.51981271]), 'accuracy': 0.7987841945288754}\n",
      "{'metric': 'precomputed', 'perplexity': 25, 'learning_rate': 100.0, 'method': 'TSNE', 'fold': 4, 'confusion_matrix': array([[5560,    0],\n",
      "       [2320, 1990]], dtype=int64), 'matthews_cc': 0.5707713824528379, 'threshold': array([-1.40285665]), 'accuracy': 0.7649442755825735}\n",
      "{'metric': 'precomputed', 'perplexity': 25, 'learning_rate': 200.0, 'method': 'TSNE', 'fold': 4, 'confusion_matrix': array([[5417,    0],\n",
      "       [2463, 1990]], dtype=int64), 'matthews_cc': 0.5542637805373495, 'threshold': array([-1.52548128]), 'accuracy': 0.7504559270516717}\n",
      "{'metric': 'precomputed', 'perplexity': 25, 'learning_rate': 300.0, 'method': 'TSNE', 'fold': 4, 'confusion_matrix': array([[7876, 1817],\n",
      "       [   4,  173]], dtype=int64), 'matthews_cc': 0.26129051384604945, 'threshold': array([-1.50317193]), 'accuracy': 0.8155015197568389}\n",
      "{'metric': 'precomputed', 'perplexity': 25, 'learning_rate': 400.0, 'method': 'TSNE', 'fold': 4, 'confusion_matrix': array([[7835, 1529],\n",
      "       [  45,  461]], dtype=int64), 'matthews_cc': 0.4110469966301523, 'threshold': array([-1.52043092]), 'accuracy': 0.8405268490374873}\n",
      "{'metric': 'precomputed', 'perplexity': 25, 'learning_rate': 500.0, 'method': 'TSNE', 'fold': 4, 'confusion_matrix': array([[7880, 1989],\n",
      "       [   0,    1]], dtype=int64), 'matthews_cc': 0.02003087847066886, 'threshold': array([-1.52388633]), 'accuracy': 0.7984802431610942}\n"
     ]
    },
    {
     "name": "stderr",
     "output_type": "stream",
     "text": [
      "C:\\Work\\Miniconda3\\envs\\cartography\\lib\\site-packages\\sklearn\\metrics\\_classification.py:900: RuntimeWarning: invalid value encountered in double_scalars\n",
      "  mcc = cov_ytyp / np.sqrt(cov_ytyt * cov_ypyp)\n"
     ]
    },
    {
     "name": "stdout",
     "output_type": "stream",
     "text": [
      "{'metric': 'precomputed', 'perplexity': 25, 'learning_rate': 1000.0, 'method': 'TSNE', 'fold': 4, 'confusion_matrix': array([[7880, 1990],\n",
      "       [   0,    0]], dtype=int64), 'matthews_cc': 0.0, 'threshold': array([-1.53446938]), 'accuracy': 0.7983789260385005}\n",
      "{'metric': 'precomputed', 'perplexity': 30, 'learning_rate': 100.0, 'method': 'TSNE', 'fold': 4, 'confusion_matrix': array([[4790,    0],\n",
      "       [3090, 1990]], dtype=int64), 'matthews_cc': 0.4879769744967424, 'threshold': array([-1.44183782]), 'accuracy': 0.6869300911854104}\n",
      "{'metric': 'precomputed', 'perplexity': 30, 'learning_rate': 200.0, 'method': 'TSNE', 'fold': 4, 'confusion_matrix': array([[4837,    0],\n",
      "       [3043, 1990]], dtype=int64), 'matthews_cc': 0.49264945644490926, 'threshold': array([-1.51707725]), 'accuracy': 0.6916919959473151}\n",
      "{'metric': 'precomputed', 'perplexity': 30, 'learning_rate': 300.0, 'method': 'TSNE', 'fold': 4, 'confusion_matrix': array([[5204,    0],\n",
      "       [2676, 1990]], dtype=int64), 'matthews_cc': 0.5307129758304701, 'threshold': array([-1.51669624]), 'accuracy': 0.7288753799392097}\n",
      "{'metric': 'precomputed', 'perplexity': 30, 'learning_rate': 400.0, 'method': 'TSNE', 'fold': 4, 'confusion_matrix': array([[7880, 1986],\n",
      "       [   0,    4]], dtype=int64), 'matthews_cc': 0.04006784735973883, 'threshold': array([-1.53117374]), 'accuracy': 0.7987841945288754}\n"
     ]
    },
    {
     "name": "stderr",
     "output_type": "stream",
     "text": [
      "C:\\Work\\Miniconda3\\envs\\cartography\\lib\\site-packages\\sklearn\\metrics\\_classification.py:900: RuntimeWarning: invalid value encountered in double_scalars\n",
      "  mcc = cov_ytyp / np.sqrt(cov_ytyt * cov_ypyp)\n"
     ]
    },
    {
     "name": "stdout",
     "output_type": "stream",
     "text": [
      "{'metric': 'precomputed', 'perplexity': 30, 'learning_rate': 500.0, 'method': 'TSNE', 'fold': 4, 'confusion_matrix': array([[7880, 1990],\n",
      "       [   0,    0]], dtype=int64), 'matthews_cc': 0.0, 'threshold': array([-1.53128916]), 'accuracy': 0.7983789260385005}\n",
      "{'metric': 'precomputed', 'perplexity': 30, 'learning_rate': 1000.0, 'method': 'TSNE', 'fold': 4, 'confusion_matrix': array([[7880, 1952],\n",
      "       [   0,   38]], dtype=int64), 'matthews_cc': 0.12371074831345719, 'threshold': array([-1.4763806]), 'accuracy': 0.8022289766970618}\n",
      "{'metric': 'precomputed', 'perplexity': 100, 'learning_rate': 100.0, 'method': 'TSNE', 'fold': 4, 'confusion_matrix': array([[ 148,    0],\n",
      "       [7732, 1990]], dtype=int64), 'matthews_cc': 0.06200353902688387, 'threshold': array([-1.37267005]), 'accuracy': 0.2166160081053698}\n",
      "{'metric': 'precomputed', 'perplexity': 100, 'learning_rate': 200.0, 'method': 'TSNE', 'fold': 4, 'confusion_matrix': array([[ 172,    0],\n",
      "       [7708, 1990]], dtype=int64), 'matthews_cc': 0.06692472002540993, 'threshold': array([-1.34911367]), 'accuracy': 0.21904761904761905}\n",
      "{'metric': 'precomputed', 'perplexity': 100, 'learning_rate': 300.0, 'method': 'TSNE', 'fold': 4, 'confusion_matrix': array([[ 152,    0],\n",
      "       [7728, 1990]], dtype=int64), 'matthews_cc': 0.0628487690520289, 'threshold': array([-1.36965921]), 'accuracy': 0.2170212765957447}\n",
      "{'metric': 'precomputed', 'perplexity': 100, 'learning_rate': 400.0, 'method': 'TSNE', 'fold': 4, 'confusion_matrix': array([[ 152,    0],\n",
      "       [7728, 1990]], dtype=int64), 'matthews_cc': 0.0628487690520289, 'threshold': array([-1.37247689]), 'accuracy': 0.2170212765957447}\n"
     ]
    },
    {
     "name": "stderr",
     "output_type": "stream",
     "text": [
      "C:\\Work\\Miniconda3\\envs\\cartography\\lib\\site-packages\\sklearn\\metrics\\_classification.py:900: RuntimeWarning: invalid value encountered in double_scalars\n",
      "  mcc = cov_ytyp / np.sqrt(cov_ytyt * cov_ypyp)\n"
     ]
    },
    {
     "name": "stdout",
     "output_type": "stream",
     "text": [
      "{'metric': 'precomputed', 'perplexity': 100, 'learning_rate': 500.0, 'method': 'TSNE', 'fold': 4, 'confusion_matrix': array([[7880, 1990],\n",
      "       [   0,    0]], dtype=int64), 'matthews_cc': 0.0, 'threshold': array([-1.35213217]), 'accuracy': 0.7983789260385005}\n"
     ]
    },
    {
     "name": "stderr",
     "output_type": "stream",
     "text": [
      "C:\\Work\\Miniconda3\\envs\\cartography\\lib\\site-packages\\sklearn\\metrics\\_classification.py:900: RuntimeWarning: invalid value encountered in double_scalars\n",
      "  mcc = cov_ytyp / np.sqrt(cov_ytyt * cov_ypyp)\n"
     ]
    },
    {
     "name": "stdout",
     "output_type": "stream",
     "text": [
      "{'metric': 'precomputed', 'perplexity': 100, 'learning_rate': 1000.0, 'method': 'TSNE', 'fold': 4, 'confusion_matrix': array([[7880, 1990],\n",
      "       [   0,    0]], dtype=int64), 'matthews_cc': 0.0, 'threshold': array([-1.34933679]), 'accuracy': 0.7983789260385005}\n"
     ]
    },
    {
     "name": "stderr",
     "output_type": "stream",
     "text": [
      "C:\\Work\\Miniconda3\\envs\\cartography\\lib\\site-packages\\umap\\spectral.py:106: NumbaDeprecationWarning: \u001b[1mAn import was requested from a module that has moved location.\n",
      "Import of 'CPUDispatcher' requested from: 'numba.targets.registry', please update to use 'numba.core.registry' or pin to Numba version 0.48.0. This alias will not be present in Numba version 0.50.0.\u001b[0m\n",
      "  ) == numba.targets.registry.CPUDispatcher and scipy.sparse.isspmatrix(data):\n",
      "C:\\Work\\Miniconda3\\envs\\cartography\\lib\\site-packages\\sklearn\\manifold\\_spectral_embedding.py:236: UserWarning: Graph is not fully connected, spectral embedding may not work as expected.\n",
      "  warnings.warn(\"Graph is not fully connected, spectral embedding\"\n",
      "C:\\Work\\Miniconda3\\envs\\cartography\\lib\\site-packages\\sklearn\\metrics\\_classification.py:900: RuntimeWarning: invalid value encountered in double_scalars\n",
      "  mcc = cov_ytyp / np.sqrt(cov_ytyt * cov_ypyp)\n"
     ]
    },
    {
     "name": "stdout",
     "output_type": "stream",
     "text": [
      "{'init': 'spectral', 'n_neighbors': 5, 'min_dist': 0.05, 'method': 'UMAP', 'fold': 4, 'confusion_matrix': array([[7880, 1990],\n",
      "       [   0,    0]], dtype=int64), 'matthews_cc': 0.0, 'threshold': array([-6.62292164]), 'accuracy': 0.7983789260385005}\n"
     ]
    },
    {
     "name": "stderr",
     "output_type": "stream",
     "text": [
      "C:\\Work\\Miniconda3\\envs\\cartography\\lib\\site-packages\\umap\\spectral.py:106: NumbaDeprecationWarning: \u001b[1mAn import was requested from a module that has moved location.\n",
      "Import of 'CPUDispatcher' requested from: 'numba.targets.registry', please update to use 'numba.core.registry' or pin to Numba version 0.48.0. This alias will not be present in Numba version 0.50.0.\u001b[0m\n",
      "  ) == numba.targets.registry.CPUDispatcher and scipy.sparse.isspmatrix(data):\n",
      "C:\\Work\\Miniconda3\\envs\\cartography\\lib\\site-packages\\sklearn\\manifold\\_spectral_embedding.py:236: UserWarning: Graph is not fully connected, spectral embedding may not work as expected.\n",
      "  warnings.warn(\"Graph is not fully connected, spectral embedding\"\n"
     ]
    },
    {
     "name": "stdout",
     "output_type": "stream",
     "text": [
      "{'init': 'spectral', 'n_neighbors': 5, 'min_dist': 0.5, 'method': 'UMAP', 'fold': 4, 'confusion_matrix': array([[7347,  977],\n",
      "       [ 533, 1013]], dtype=int64), 'matthews_cc': 0.4872554851080278, 'threshold': array([-2.32650309]), 'accuracy': 0.8470111448834853}\n",
      "{'init': 'spectral', 'n_neighbors': 25, 'min_dist': 0.05, 'method': 'UMAP', 'fold': 4, 'confusion_matrix': array([[7125,    0],\n",
      "       [ 755, 1990]], dtype=int64), 'matthews_cc': 0.8096264528806306, 'threshold': array([-1.58413507]), 'accuracy': 0.9235055724417427}\n",
      "{'init': 'spectral', 'n_neighbors': 25, 'min_dist': 0.5, 'method': 'UMAP', 'fold': 4, 'confusion_matrix': array([[7126,   28],\n",
      "       [ 754, 1962]], dtype=int64), 'matthews_cc': 0.7997597283902189, 'threshold': array([-1.47774545]), 'accuracy': 0.9207700101317122}\n"
     ]
    },
    {
     "name": "stderr",
     "output_type": "stream",
     "text": [
      "C:\\Work\\Miniconda3\\envs\\cartography\\lib\\site-packages\\umap\\umap_.py:1674: UserWarning: n_neighbors is larger than the dataset size; truncating to X.shape[0] - 1\n",
      "  \"n_neighbors is larger than the dataset size; truncating to \"\n"
     ]
    },
    {
     "name": "stdout",
     "output_type": "stream",
     "text": [
      "{'init': 'spectral', 'n_neighbors': 200, 'min_dist': 0.05, 'method': 'UMAP', 'fold': 4, 'confusion_matrix': array([[6867,  135],\n",
      "       [1013, 1855]], dtype=int64), 'matthews_cc': 0.710122059608427, 'threshold': array([-1.3357328]), 'accuracy': 0.8836879432624114}\n"
     ]
    },
    {
     "name": "stderr",
     "output_type": "stream",
     "text": [
      "C:\\Work\\Miniconda3\\envs\\cartography\\lib\\site-packages\\umap\\umap_.py:1674: UserWarning: n_neighbors is larger than the dataset size; truncating to X.shape[0] - 1\n",
      "  \"n_neighbors is larger than the dataset size; truncating to \"\n"
     ]
    },
    {
     "name": "stdout",
     "output_type": "stream",
     "text": [
      "{'init': 'spectral', 'n_neighbors': 200, 'min_dist': 0.5, 'method': 'UMAP', 'fold': 4, 'confusion_matrix': array([[6800,  205],\n",
      "       [1080, 1785]], dtype=int64), 'matthews_cc': 0.671732454963027, 'threshold': array([-1.29945171]), 'accuracy': 0.869807497467072}\n",
      "{'dissimilarity': 'precomputed', 'n_components': 2, 'method': 'MDS', 'fold': 4, 'confusion_matrix': array([[7518,  360],\n",
      "       [ 362, 1630]], dtype=int64), 'matthews_cc': 0.7728662486000711, 'threshold': array([-1.3127511]), 'accuracy': 0.9268490374873354}\n",
      "{'dissimilarity': 'precomputed', 'n_components': 4, 'method': 'MDS', 'fold': 4, 'confusion_matrix': array([[7635,  327],\n",
      "       [ 245, 1663]], dtype=int64), 'matthews_cc': 0.8174522582637542, 'threshold': array([-1.31873823]), 'accuracy': 0.9420466058763931}\n",
      "{'dissimilarity': 'precomputed', 'n_components': 6, 'method': 'MDS', 'fold': 4, 'confusion_matrix': array([[7648,  314],\n",
      "       [ 232, 1676]], dtype=int64), 'matthews_cc': 0.8257655033865874, 'threshold': array([-1.31500369]), 'accuracy': 0.9446808510638298}\n",
      "{'dissimilarity': 'precomputed', 'n_components': 8, 'method': 'MDS', 'fold': 4, 'confusion_matrix': array([[7648,  306],\n",
      "       [ 232, 1684]], dtype=int64), 'matthews_cc': 0.828531957064927, 'threshold': array([-1.30315966]), 'accuracy': 0.9454913880445796}\n",
      "{'dissimilarity': 'precomputed', 'n_components': 10, 'method': 'MDS', 'fold': 4, 'confusion_matrix': array([[7652,  297],\n",
      "       [ 228, 1693]], dtype=int64), 'matthews_cc': 0.832810696686776, 'threshold': array([-1.29939454]), 'accuracy': 0.9468085106382979}\n"
     ]
    }
   ],
   "source": [
    "grid_search_results = []\n",
    "i = 0\n",
    "fold_factory = KFold(n_splits=5, shuffle=True)\n",
    "folds = fold_factory.split(sequence_names)\n",
    "for k, (training_index, validation_index) in enumerate(folds): \n",
    "    i = 0\n",
    "    for embed in Dict:\n",
    "        keys, values = zip(*embed.items())\n",
    "        experiments = [dict(zip(keys, v)) for v in itertools.product(*values)]\n",
    "        for experiment in experiments:\n",
    "            \n",
    "            method_dict = default_dict[i].copy()\n",
    "            experiment_tuple = [(k, v) for k, v in experiment.items()]\n",
    "            method_dict.update(experiment_tuple)\n",
    "            \n",
    "            embedder = list_of_embeddings[i](**method_dict)\n",
    "            \n",
    "            training_distance_matrix = distance_matrix[training_index][:, training_index]\n",
    "            training_embedding = embedder.fit_transform(training_distance_matrix)\n",
    "            \n",
    "            training_embedding_distances = pdist(training_embedding).reshape(-1, 1)\n",
    "\n",
    "        \n",
    "            training_clade_status_for_pairs = assign_clade_status_to_pairs(\n",
    "                clade_annotations,\n",
    "                training_index\n",
    "            )\n",
    "\n",
    "            classifier = make_pipeline(\n",
    "                StandardScaler(),\n",
    "                LinearSVC(random_state=0, tol=1e-5)\n",
    "            )\n",
    "\n",
    "            classifier.fit(training_embedding_distances, training_clade_status_for_pairs)\n",
    "            classifier_threshold = (0.5 - classifier.named_steps[\"linearsvc\"].intercept_) / classifier.named_steps[\"linearsvc\"].coef_[0]\n",
    "\n",
    "\n",
    "            validation_distance_matrix = distance_matrix[validation_index][:, validation_index]\n",
    "\n",
    "            validation_embedding = embedder.fit_transform(validation_distance_matrix)\n",
    "\n",
    "            validation_embedding_distances = pdist(validation_embedding).reshape(-1, 1)\n",
    "\n",
    "            validation_clade_status_for_pairs = assign_clade_status_to_pairs(\n",
    "                clade_annotations,\n",
    "                validation_index\n",
    "            )\n",
    "\n",
    "            confusion_matrix_val = confusion_matrix(classifier.predict(validation_embedding_distances), validation_clade_status_for_pairs)\n",
    "            matthews_cc_val = matthews_corrcoef(classifier.predict(validation_embedding_distances), validation_clade_status_for_pairs)\n",
    "\n",
    "            accuracy = classifier.score(\n",
    "                validation_embedding_distances,\n",
    "                validation_clade_status_for_pairs\n",
    "            )\n",
    "            method_dict[\"method\"] = list_of_embeddings_strings[i]\n",
    "            method_dict[\"fold\"] = k\n",
    "            method_dict[\"confusion_matrix\"] = confusion_matrix_val\n",
    "            method_dict[\"matthews_cc\"] = matthews_cc_val\n",
    "            method_dict[\"threshold\"] = classifier_threshold\n",
    "            method_dict[\"accuracy\"] = accuracy\n",
    "            \n",
    "            print(method_dict)\n",
    "            grid_search_results.append(method_dict)\n",
    "        i = i + 1"
   ]
  },
  {
   "cell_type": "code",
   "execution_count": 252,
   "metadata": {},
   "outputs": [],
   "source": [
    "df = pd.DataFrame(grid_search_results)"
   ]
  },
  {
   "cell_type": "code",
   "execution_count": 300,
   "metadata": {},
   "outputs": [],
   "source": [
    "df_TSNE = df[df.method == 'TSNE'].dropna(axis = 1)\n",
    "df_UMAP = df[df.method == 'UMAP'].dropna(axis = 1)\n",
    "df_MDS = df[df.method == 'MDS'].dropna(axis = 1)"
   ]
  },
  {
   "cell_type": "code",
   "execution_count": 266,
   "metadata": {},
   "outputs": [],
   "source": [
    "list_of_results = [TSNE_dictionary, UMAP_dictionary, MDS_dictionary]"
   ]
  },
  {
   "cell_type": "code",
   "execution_count": 296,
   "metadata": {},
   "outputs": [
    {
     "data": {
      "text/plain": [
       "matthews_cc    0.636214\n",
       "Name: (15.0, 100.0), dtype: float64"
      ]
     },
     "execution_count": 296,
     "metadata": {},
     "output_type": "execute_result"
    }
   ],
   "source": [
    "#perplexity: 15, learning rate: 100\n",
    "TSNE_grouped = pd.DataFrame(df_TSNE.groupby([\"perplexity\", \"learning_rate\"])['matthews_cc'].mean())\n",
    "TSNE_grouped.iloc[TSNE_grouped[\"matthews_cc\"].argmax()]"
   ]
  },
  {
   "cell_type": "code",
   "execution_count": 297,
   "metadata": {},
   "outputs": [
    {
     "data": {
      "text/plain": [
       "matthews_cc    0.761824\n",
       "Name: (25.0, 0.05), dtype: float64"
      ]
     },
     "execution_count": 297,
     "metadata": {},
     "output_type": "execute_result"
    }
   ],
   "source": [
    "# neighbors: 25, min_dist: .05\n",
    "UMAP_grouped = pd.DataFrame(df_UMAP.groupby([\"n_neighbors\", \"min_dist\"])['matthews_cc'].mean())\n",
    "UMAP_grouped.iloc[UMAP_grouped[\"matthews_cc\"].argmax()]"
   ]
  },
  {
   "cell_type": "markdown",
   "metadata": {},
   "source": [
    "# Main Classification Work"
   ]
  },
  {
   "cell_type": "code",
   "execution_count": 19,
   "metadata": {},
   "outputs": [],
   "source": [
    "fold_factory = KFold(n_splits=5, shuffle=True)\n",
    "folds = fold_factory.split(sequence_names)"
   ]
  },
  {
   "cell_type": "code",
   "execution_count": 20,
   "metadata": {},
   "outputs": [
    {
     "name": "stdout",
     "output_type": "stream",
     "text": [
      "Fit to fold: 0\n",
      "Accuracy: 0.8947788114676286\n",
      "Genetic accuracy: 0.9240934118093792\n",
      "\n",
      "Fit to fold: 1\n",
      "Accuracy: 0.8910195557243212\n",
      "Genetic accuracy: 0.9346497057148282\n",
      "\n",
      "Fit to fold: 2\n",
      "Accuracy: 0.8803340228300007\n",
      "Genetic accuracy: 0.9267601317704742\n",
      "\n",
      "Fit to fold: 3\n",
      "Accuracy: 0.8923619091396614\n",
      "Genetic accuracy: 0.9275262391787329\n",
      "\n",
      "Fit to fold: 4\n",
      "Accuracy: 0.8814448785719758\n",
      "Genetic accuracy: 0.9324293265915882\n",
      "\n"
     ]
    }
   ],
   "source": [
    "# TODO: consider adding support for an exhaustive grid search of parameters \n",
    "# for different embeddings and the classifier:\n",
    "# https://scikit-learn.org/stable/modules/grid_search.html#exhaustive-grid-search\n",
    "genetic_accuracies = []\n",
    "accuracies = []\n",
    "classifier_thresholds = []\n",
    "confusion_matrices = []\n",
    "matthews_cc = []\n",
    "for k, (training_index, validation_index) in enumerate(folds): \n",
    "    print(f\"Fit to fold: {k}\")\n",
    "    # Subset distance matrix to training indices.\n",
    "    training_distance_matrix = distance_matrix[training_index][:, training_index]\n",
    "    \n",
    "    # Embed training distance matrix.\n",
    "    embedder = embedding_class(**embedding_parameters)\n",
    "    training_embedding = embedder.fit_transform(training_distance_matrix)\n",
    "    \n",
    "    # Calculate Euclidean distance between pairs of samples in the embedding.\n",
    "    # The output is a condensed distance matrix with distances between pairs.\n",
    "    # https://docs.scipy.org/doc/scipy/reference/generated/scipy.spatial.distance.pdist.html\n",
    "    training_embedding_distances = pdist(training_embedding).reshape(-1, 1)\n",
    "    \n",
    "    # Assign a binary class to each pair of samples based on their clade memberships.\n",
    "    # Samples from different clades are assigned 0, samples from the same clade as assigned 1.\n",
    "    # This vector of binary values will be the output to fit a classifier to.\n",
    "    # These pairs should be in the same order as the embedding distances above.\n",
    "    training_clade_status_for_pairs = assign_clade_status_to_pairs(\n",
    "        clade_annotations,\n",
    "        training_index\n",
    "    )\n",
    "    \n",
    "    # Use a support vector machine classifier to identify an optimal threshold\n",
    "    # to distinguish between within and between class pairs.\n",
    "    # See also: https://scikit-learn.org/stable/modules/svm.html#svm-classification\n",
    "    classifier = make_pipeline(\n",
    "        StandardScaler(),\n",
    "        LinearSVC(random_state=0, tol=1e-5)\n",
    "    )\n",
    "    \n",
    "    classifier.fit(training_embedding_distances, training_clade_status_for_pairs)\n",
    "    \n",
    "    classifier_threshold = (0.5 - classifier.named_steps[\"linearsvc\"].intercept_) / classifier.named_steps[\"linearsvc\"].coef_[0]\n",
    "    classifier_thresholds.append(classifier_threshold)\n",
    "    \n",
    "    # Use a SVM to identify an optimal threshold for genetic distances.\n",
    "    genetic_classifier = make_pipeline(\n",
    "        StandardScaler(),\n",
    "        LinearSVC(random_state=0, tol=1e-5)\n",
    "    )\n",
    "    genetic_classifier.fit(squareform(training_distance_matrix).reshape(-1, 1), training_clade_status_for_pairs)\n",
    "    \n",
    "    # Subset distance matrix to validation indices.\n",
    "    validation_distance_matrix = distance_matrix[validation_index][:, validation_index]\n",
    "    \n",
    "    # Embed validation distance matrix.\n",
    "    validation_embedding = embedder.fit_transform(validation_distance_matrix)\n",
    "    \n",
    "    # Calculate Euclidean distance between pairs of samples in the embedding.\n",
    "    # The output should be a data frame of distances between pairs.\n",
    "    validation_embedding_distances = pdist(validation_embedding).reshape(-1, 1)\n",
    "    \n",
    "    # Assign a binary class to each pair of samples based on their clade memberships.\n",
    "    # Samples from different clades are assigned 0, samples from the same clade as assigned 1.\n",
    "    # This vector of binary values will be the output to fit a classifier to.\n",
    "    # These pairs should be in the same order as the embedding distances above.\n",
    "    validation_clade_status_for_pairs = assign_clade_status_to_pairs(\n",
    "        clade_annotations,\n",
    "        validation_index\n",
    "    )\n",
    "\n",
    "    # Predict and score clade status from embedding distances and the trained classifier.\n",
    "    # The first argument is the set to predict classifier labels for. The second argument\n",
    "    # is the list of true labels. The return argument is the mean accuracy of the predicted\n",
    "    # labels.\n",
    "    # https://scikit-learn.org/stable/modules/generated/sklearn.svm.LinearSVC.html#sklearn.svm.LinearSVC.score\n",
    "    confusion_matrices.append(confusion_matrix(classifier.predict(validation_embedding_distances), validation_clade_status_for_pairs))\n",
    "    matthews_cc.append(matthews_corrcoef(classifier.predict(validation_embedding_distances), validation_clade_status_for_pairs))\n",
    "    \n",
    "    accuracy = classifier.score(\n",
    "        validation_embedding_distances,\n",
    "        validation_clade_status_for_pairs\n",
    "    )\n",
    "    print(f\"Accuracy: {accuracy}\")\n",
    "    \n",
    "    genetic_accuracy = genetic_classifier.score(\n",
    "        squareform(validation_distance_matrix).reshape(-1, 1),\n",
    "        validation_clade_status_for_pairs\n",
    "    )\n",
    "    print(f\"Genetic accuracy: {genetic_accuracy}\")\n",
    "    print()\n",
    "    \n",
    "    accuracies.append(accuracy)\n",
    "    genetic_accuracies.append(genetic_accuracy)"
   ]
  },
  {
   "cell_type": "code",
   "execution_count": 20,
   "metadata": {},
   "outputs": [],
   "source": [
    "# embedding parameters will be set within the script itself. This code will be creating the distribution (gives list of r values), and the scatterplot script will also return\n",
    "# a dataframe containing the xy values of the scatterplot (full) for whatever embedding is passed in.\n",
    "def scatterplot_distribution(distance_matrix, name_of_embedding):\n",
    "    fold_factory = KFold(n_splits=5, shuffle=True)\n",
    "    folds = fold_factory.split(sequence_names)\n",
    "    r_value_array = []\n",
    "    for k, (training_index, validation_index) in enumerate(folds): \n",
    "        validation_distance_matrix = distance_matrix[validation_index][:, validation_index]\n",
    "        validation_strains = np.take(sequence_names, validation_index)\n",
    "        validation_strains_df = pd.DataFrame(validation_strains, columns = [\"strain\"])\n",
    "        # Embed training distance matrix.\n",
    "        embedder = embedding_class(**embedding_parameters)\n",
    "        validation_embedding = embedder.fit_transform(validation_distance_matrix)\n",
    "        if name_of_embedding == \"pca\" or name_of_embedding == \"mds\":\n",
    "            validation_embedding_df = pd.DataFrame(validation_embedding, columns=[name_of_embedding + str(i) for i in range(1,embedding_parameters[\"n_components\"] + 1)])\n",
    "        else:\n",
    "            validation_embedding_df = pd.DataFrame(validation_embedding, columns=[name_of_embedding + str(1), name_of_embedding + str(2)])\n",
    "            \n",
    "        validation_embedding_df[\"strain\"] = validation_strains\n",
    "        total_df = scatterplot_xyvalues(validation_strains, validation_distance_matrix, validation_embedding_df, name_of_embedding + str(1), name_of_embedding + str(2), name_of_embedding)\n",
    "        \n",
    "        y_values = statsmodels.nonparametric.smoothers_lowess.lowess(\n",
    "        total_df[\"euclidean\"],\n",
    "        total_df[\"genetic\"],\n",
    "        frac=0.6666666666666666,\n",
    "        it=3,\n",
    "        delta=0.0,\n",
    "        is_sorted=False,\n",
    "        missing='drop',\n",
    "        return_sorted=True\n",
    "        )\n",
    "\n",
    "        PD_Y_values = pd.DataFrame(y_values)\n",
    "        PD_Y_values.columns = [\"LOWESS_x\", \"LOWESS_y\"]\n",
    "        regression = linregress(total_df[\"genetic\"], total_df[\"euclidean\"])\n",
    "        slope, intercept, r_value, p_value, std_err = regression\n",
    "\n",
    "        r_value_array.append(r_value ** 2)\n",
    "\n",
    "    return r_value_array"
   ]
  },
  {
   "cell_type": "code",
   "execution_count": null,
   "metadata": {},
   "outputs": [],
   "source": [
    "r_value_array = scatterplot_distribution(distance_matrix, \"pca\")\n",
    "mean, std = np.mean(r_value_array), np.std(r_value_array)\n",
    "sns.distplot(r_value_array, hist=False, rug=True).set(title = \"TSNE distribution\")"
   ]
  },
  {
   "cell_type": "code",
   "execution_count": null,
   "metadata": {},
   "outputs": [],
   "source": [
    "r_value_array = scatterplot_distribution(distance_matrix, \"mds\")\n",
    "mean, std = np.mean(r_value_array), np.std(r_value_array)\n",
    "sns.distplot(r_value_array, hist=False, rug=True).set(title = \"MDS distribution\")"
   ]
  },
  {
   "cell_type": "code",
   "execution_count": 21,
   "metadata": {},
   "outputs": [
    {
     "data": {
      "text/plain": [
       "[Text(0.5, 1.0, 'TSNE distribution')]"
      ]
     },
     "execution_count": 21,
     "metadata": {},
     "output_type": "execute_result"
    },
    {
     "data": {
      "image/png": "[encoded data removed]",
      "text/plain": [
       "<Figure size 432x288 with 1 Axes>"
      ]
     },
     "metadata": {
      "needs_background": "light"
     },
     "output_type": "display_data"
    }
   ],
   "source": [
    "r_value_array = scatterplot_distribution(distance_matrix, \"tsne\")\n",
    "mean, std = np.mean(r_value_array), np.std(r_value_array)\n",
    "sns.distplot(r_value_array, hist=False, rug=True).set(title = \"TSNE distribution\")"
   ]
  },
  {
   "cell_type": "code",
   "execution_count": 22,
   "metadata": {},
   "outputs": [
    {
     "name": "stdout",
     "output_type": "stream",
     "text": [
      "0.17316062666389115 0.12460806554938432\n"
     ]
    }
   ],
   "source": [
    "print(mean, std)"
   ]
  },
  {
   "cell_type": "code",
   "execution_count": null,
   "metadata": {},
   "outputs": [],
   "source": [
    "r_value_array = scatterplot_distribution(distance_matrix, \"umap\")\n",
    "mean, std = np.mean(r_value_array), np.std(r_value_array)\n",
    "sns.distplot(r_value_array, hist=False, rug=True).set(title = \"UMAP distribution\")"
   ]
  },
  {
   "cell_type": "code",
   "execution_count": null,
   "metadata": {},
   "outputs": [],
   "source": [
    "    total_df = scatterplot_xyvalues(validation_strains, validation_distance_matrix, validation_embedding_df, \"TSNE1\", \"TSNE2\", \"TSNE\")\n",
    "    y_values = statsmodels.nonparametric.smoothers_lowess.lowess(\n",
    "    total_df[\"euclidean\"],\n",
    "    total_df[\"genetic\"],\n",
    "    frac=0.6666666666666666,\n",
    "    it=3,\n",
    "    delta=0.0,\n",
    "    is_sorted=False,\n",
    "    missing='drop',\n",
    "    return_sorted=True\n",
    "    )\n",
    "\n",
    "    PD_Y_values = pd.DataFrame(y_values)\n",
    "    PD_Y_values.columns = [\"LOWESS_x\", \"LOWESS_y\"]"
   ]
  },
  {
   "cell_type": "code",
   "execution_count": null,
   "metadata": {},
   "outputs": [],
   "source": [
    "\n",
    "regression = linregress(total_df[\"genetic\"], total_df[\"euclidean\"])\n",
    "slope, intercept, r_value, p_value, std_err = regression\n",
    "\n",
    "fig, ax = plt.subplots(1, 1, figsize=(6, 6))\n",
    "\n",
    "ax.plot(total_df[\"genetic\"], total_df[\"euclidean\"], \"o\", alpha=0.25)\n",
    "ax.plot(PD_Y_values[\"LOWESS_x\"], PD_Y_values[\"LOWESS_y\"], label=\"LOESS\")\n",
    "\n",
    "ax.set_xlabel(\"Genetic distance\")\n",
    "ax.set_ylabel(\"Euclidean distance (PCA)\")\n",
    "ax.set_title(\"PCA Euclidean distance vs. genetic distance ($R^2=%.3f$)\" % (r_value ** 2))\n",
    "\n",
    "sns.despine()\n",
    "#plt.savefig(\"docs/PCAScatterplotLOESS\" + virus_name + \".png\")"
   ]
  },
  {
   "cell_type": "code",
   "execution_count": null,
   "metadata": {},
   "outputs": [],
   "source": [
    "sns.heatmap(confusion_matrices[3], annot=True)"
   ]
  },
  {
   "cell_type": "code",
   "execution_count": null,
   "metadata": {},
   "outputs": [],
   "source": [
    "training_embedding_df = pd.DataFrame(training_embedding, columns=[\"x\", \"y\"])\n",
    "training_embedding_df[\"clade\"] = clade_annotations.loc[training_index, \"clade\"].values"
   ]
  },
  {
   "cell_type": "code",
   "execution_count": null,
   "metadata": {},
   "outputs": [],
   "source": [
    "validation_embedding_df = pd.DataFrame(validation_embedding, columns=[\"x\", \"y\"])\n",
    "validation_embedding_df[\"clade\"] = clade_annotations.loc[validation_index, \"clade\"].values"
   ]
  },
  {
   "cell_type": "code",
   "execution_count": null,
   "metadata": {},
   "outputs": [],
   "source": [
    "fig, axes = plt.subplots(1, 2, figsize=(12, 6))\n",
    "\n",
    "sns.scatterplot(\"x\", \"y\", hue=\"clade\", data=training_embedding_df, legend=False, ax=axes[0])\n",
    "axes[0].set_title(\"Training\")\n",
    "\n",
    "sns.scatterplot(\"x\", \"y\", hue=\"clade\", data=validation_embedding_df, legend=False, ax=axes[1])\n",
    "axes[1].set_title(\"Validation\")\n",
    "\n",
    "sns.despine()"
   ]
  },
  {
   "cell_type": "code",
   "execution_count": null,
   "metadata": {},
   "outputs": [],
   "source": [
    "training_embedding_distances.shape"
   ]
  },
  {
   "cell_type": "code",
   "execution_count": null,
   "metadata": {},
   "outputs": [],
   "source": [
    "training_clade_status_for_pairs.shape"
   ]
  },
  {
   "cell_type": "code",
   "execution_count": null,
   "metadata": {},
   "outputs": [],
   "source": [
    "training_embedding_distances.flatten()"
   ]
  },
  {
   "cell_type": "code",
   "execution_count": null,
   "metadata": {},
   "outputs": [],
   "source": [
    "scaler = StandardScaler()"
   ]
  },
  {
   "cell_type": "code",
   "execution_count": null,
   "metadata": {},
   "outputs": [],
   "source": [
    "scaler.fit_transform(training_embedding_distances)"
   ]
  },
  {
   "cell_type": "code",
   "execution_count": null,
   "metadata": {},
   "outputs": [],
   "source": [
    "distances_df = pd.DataFrame({\"distance\": training_embedding_distances.flatten(), \"same_clade\": training_clade_status_for_pairs.flatten()})"
   ]
  },
  {
   "cell_type": "code",
   "execution_count": null,
   "metadata": {},
   "outputs": [],
   "source": [
    "distances_df.head()"
   ]
  },
  {
   "cell_type": "code",
   "execution_count": null,
   "metadata": {},
   "outputs": [],
   "source": [
    "distances_df[\"scaled_distance\"] = scaler.fit_transform(training_embedding_distances).flatten()"
   ]
  },
  {
   "cell_type": "code",
   "execution_count": null,
   "metadata": {},
   "outputs": [],
   "source": [
    "distances_df[\"genetic_distance\"] = squareform(training_distance_matrix)"
   ]
  },
  {
   "cell_type": "code",
   "execution_count": null,
   "metadata": {},
   "outputs": [],
   "source": [
    "fig, axes = plt.subplots(1, 2, figsize=(12, 6))\n",
    "\n",
    "ax = axes[0]\n",
    "ax = sns.kdeplot(distances_df.query(\"same_clade == 1\")[\"scaled_distance\"], label=\"Same clade\", ax=ax)\n",
    "ax = sns.kdeplot(distances_df.query(\"same_clade == 0\")[\"scaled_distance\"], label=\"Different clade\", ax=ax)\n",
    "\n",
    "for classifier_threshold in classifier_thresholds:\n",
    "    ax.axvline(x=classifier_threshold, label=\"SVC threshold\", color=\"#000000\", alpha=0.5)\n",
    "\n",
    "ax.set_xlabel(\"Scaled Euclidean distance from embedding\")\n",
    "ax.set_ylabel(\"KDE density\")\n",
    "\n",
    "ax = axes[1]\n",
    "ax = sns.kdeplot(distances_df.query(\"same_clade == 1\")[\"genetic_distance\"], label=\"Same clade\", ax=ax)\n",
    "ax = sns.kdeplot(distances_df.query(\"same_clade == 0\")[\"genetic_distance\"], label=\"Different clade\", ax=ax)\n",
    "\n",
    "ax.set_xlabel(\"Genetic distance\")\n",
    "ax.set_ylabel(\"KDE density\")\n",
    "\n",
    "sns.despine()"
   ]
  },
  {
   "cell_type": "markdown",
   "metadata": {},
   "source": [
    "## Plot and summarize accuracies"
   ]
  },
  {
   "cell_type": "code",
   "execution_count": null,
   "metadata": {},
   "outputs": [],
   "source": [
    "# Print the mean accuracy and stddev\n",
    "print(f\"Accuracy: {np.mean(accuracies)} +/- {np.std(accuracies)}\")"
   ]
  },
  {
   "cell_type": "code",
   "execution_count": null,
   "metadata": {},
   "outputs": [],
   "source": [
    "fig, ax = plt.subplots(1, 1, figsize=(8, 6))\n",
    "bins = np.arange(0, 1.01, 0.05)\n",
    "\n",
    "ax.hist(accuracies, bins=bins)\n",
    "\n",
    "ax.axvline(\n",
    "    x=np.mean(accuracies),\n",
    "    label=f\"Mean accuracy: {np.mean(accuracies):.2f} +/- {np.std(accuracies):.2f}\",\n",
    "    color=\"orange\"\n",
    ")\n",
    "\n",
    "ax.set_xlabel(\"Accuracy of classifier\")\n",
    "ax.set_ylabel(\"Number of cross-validation folds\")\n",
    "\n",
    "ax.legend(frameon=False)\n",
    "\n",
    "sns.despine()"
   ]
  },
  {
   "cell_type": "markdown",
   "metadata": {},
   "source": [
    "## Plot classifier thresholds\n",
    "\n",
    "The linear support vector classifier (SVC) produces an intercept and coefficient for a single feature that represents a line through the domain of the input data that classifies samples into \"same clade\" (1) or \"different clade\" (0). The midpoint between these classification labels (0.5) is useful for visualizing the placement of the SVC results. We calculate the value of the input domain that corresponds to this line by solving for $0.5 = mx + b$ where $x$ is the value of interest from the input domain.\n",
    "\n",
    "Below we plot the resulting distribution of classifier thresholds across all *k* folds to get a sense of how consistent these values are across training sets. Note that the input data have been scaled to z-values (centered by their mean and divided by their standard deviation)."
   ]
  },
  {
   "cell_type": "code",
   "execution_count": null,
   "metadata": {},
   "outputs": [],
   "source": [
    "classifier_thresholds = np.array(classifier_thresholds).flatten()"
   ]
  },
  {
   "cell_type": "code",
   "execution_count": null,
   "metadata": {},
   "outputs": [],
   "source": [
    "fig, ax = plt.subplots(1, 1, figsize=(8, 6))\n",
    "ax.hist(classifier_thresholds.flatten(), bins=10)\n",
    "\n",
    "ax.axvline(\n",
    "    x=np.mean(classifier_thresholds),\n",
    "    label=f\"Mean classifier threshold: {np.mean(classifier_thresholds):.2f} +/- {np.std(classifier_thresholds):.2f}\",\n",
    "    color=\"orange\"\n",
    ")\n",
    "\n",
    "ax.set_xlabel(\"Classifier threshold on scaled Euclidean distances\")\n",
    "ax.set_ylabel(\"Number of cross-validation folds\")\n",
    "\n",
    "ax.legend(frameon=False)\n",
    "\n",
    "sns.despine()"
   ]
  },
  {
   "cell_type": "code",
   "execution_count": null,
   "metadata": {},
   "outputs": [],
   "source": []
  }
 ],
 "metadata": {
  "kernelspec": {
   "display_name": "Python 3",
   "language": "python",
   "name": "python3"
  },
  "language_info": {
   "codemirror_mode": {
    "name": "ipython",
    "version": 3
   },
   "file_extension": ".py",
   "mimetype": "text/x-python",
   "name": "python",
   "nbconvert_exporter": "python",
   "pygments_lexer": "ipython3",
   "version": "3.6.10"
  }
 },
 "nbformat": 4,
 "nbformat_minor": 4
}
