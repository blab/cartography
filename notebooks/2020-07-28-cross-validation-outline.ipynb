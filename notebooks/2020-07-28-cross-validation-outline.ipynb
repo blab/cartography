{
 "cells": [
  {
   "cell_type": "markdown",
   "metadata": {},
   "source": [
    "# Cross-validation of embedding methods\n",
    "\n",
    "Perform cross-validation of an embedding method to tune hyperparameters and evaluate the accuracy of classifications based on Euclidean distances of embedded space.\n",
    "\n",
    "## Analysis outline\n",
    "\n",
    "1. Load genome sequences from a FASTA file\n",
    "1. Load clade membership annotations for each genome from a separate metadata file\n",
    "1. Calculate a pairwise distance matrix from the genome sequences.\n",
    "1. For each fold in a *k-fold* analysis\n",
    "  1. Identify sequences in the fold\n",
    "  1. Subset the distance matrix to only those sequences in the fold\n",
    "  1. Apply the current embedding method (e.g., MDS, t-SNE, UMAP) to the distance matrix\n",
    "  1. Calculate the pairwise Euclidean distance between sequences in the embedding\n",
    "  1. Calculate and store the Pearson's correlation between genetic and Euclidean distances for all pairs in the embedding\n",
    "  1. Calculate and store a distance threshold below which any pair of sequences are assigned to the same clade\n",
    "  1. Apply the current embeddng method to the subset of the distance matrix corresponding to the validation data for the current fold\n",
    "  1. Calculate the pairwise Euclidean distance between sequences in the validation embedding\n",
    "  1. Assign all pairs of sequences in the validation set to estimated \"within\" or \"between\" clade statuses based on their distances\n",
    "  1. Calculate the confusion matrix from the estimated and observed clade identities\n",
    "  1. Calculate and store accuracy, Matthew's correlation coefficient, etc. from the confusion matrix\n",
    "1. Plot the distribution of Pearson's correlations across all *k* folds\n",
    "1. Plot the distribution of accuracies, etc. across all *k* folds"
   ]
  },
  {
   "cell_type": "markdown",
   "metadata": {},
   "source": [
    "## Define inputs, outputs, and parameters"
   ]
  },
  {
   "cell_type": "code",
   "execution_count": null,
   "metadata": {},
   "outputs": [],
   "source": [
    "sequences_path = \"../seasonal-flu-nextstrain/results-20162018/aligned.fasta\"\n",
    "clades_path = \"../seasonal-flu-nextstrain/results-20162018/clades.json\""
   ]
  },
  {
   "cell_type": "markdown",
   "metadata": {},
   "source": [
    "## Imports"
   ]
  },
  {
   "cell_type": "code",
   "execution_count": null,
   "metadata": {},
   "outputs": [],
   "source": [
    "from augur.utils import read_node_data\n",
    "import Bio.SeqIO\n",
    "from collections import OrderedDict\n",
    "import matplotlib.pyplot as plt\n",
    "import numpy as np\n",
    "import pandas as pd\n",
    "from scipy.spatial.distance import pdist, squareform\n",
    "import seaborn as sns\n",
    "from sklearn.svm import LinearSVC\n",
    "from sklearn.manifold import MDS, TSNE\n",
    "from sklearn.model_selection import KFold\n",
    "from sklearn.pipeline import make_pipeline\n",
    "from sklearn.preprocessing import StandardScaler\n",
    "from umap import UMAP\n",
    "\n",
    "from Helpers import get_hamming_distances, get_euclidean_data_frame\n",
    "\n",
    "%matplotlib inline"
   ]
  },
  {
   "cell_type": "code",
   "execution_count": null,
   "metadata": {},
   "outputs": [],
   "source": [
    "def assign_clade_status_to_pairs(clade_annotations, index):\n",
    "    \"\"\"Assign clade status to all pairs in the given list of indices and the given data frame of clade annotations.\n",
    "    \n",
    "    Outputs a vector in condensed distance matrix format such that all nonredundant pairs of strains are represented.\n",
    "    \n",
    "    \"\"\"\n",
    "    clade_statuses = []\n",
    "    for i in range(len(index)):\n",
    "        for j in range(i + 1, len(index)):\n",
    "            same_clade = clade_annotations.loc[index[i], \"clade\"] == clade_annotations.loc[index[j], \"clade\"]\n",
    "            clade_statuses.append(int(same_clade))\n",
    "            \n",
    "    return np.array(clade_statuses)"
   ]
  },
  {
   "cell_type": "markdown",
   "metadata": {},
   "source": [
    "## Load clade membership annotations"
   ]
  },
  {
   "cell_type": "code",
   "execution_count": null,
   "metadata": {},
   "outputs": [],
   "source": [
    "node_data = read_node_data(clades_path)"
   ]
  },
  {
   "cell_type": "markdown",
   "metadata": {},
   "source": [
    "## Load genome sequences"
   ]
  },
  {
   "cell_type": "code",
   "execution_count": null,
   "metadata": {},
   "outputs": [],
   "source": [
    "sequences_by_name = OrderedDict()\n",
    "\n",
    "for sequence in Bio.SeqIO.parse(sequences_path, \"fasta\"):\n",
    "    if sequence.id in node_data[\"nodes\"]:\n",
    "        sequences_by_name[sequence.id] = str(sequence.seq)\n",
    "    \n",
    "sequence_names = list(sequences_by_name.keys())"
   ]
  },
  {
   "cell_type": "code",
   "execution_count": null,
   "metadata": {},
   "outputs": [],
   "source": [
    "sequence_names[:5]"
   ]
  },
  {
   "cell_type": "code",
   "execution_count": null,
   "metadata": {},
   "outputs": [],
   "source": [
    "len(sequence_names)"
   ]
  },
  {
   "cell_type": "code",
   "execution_count": null,
   "metadata": {},
   "outputs": [],
   "source": [
    "# Build a data frame of clade annotations per strain in the same order\n",
    "# as the sequences and the subsequent distance matrix.\n",
    "clade_annotations = pd.DataFrame([\n",
    "    {\"strain\": sequence_name, \"clade\": node_data[\"nodes\"][sequence_name][\"clade_membership\"]}\n",
    "    for sequence_name in sequence_names\n",
    "])"
   ]
  },
  {
   "cell_type": "code",
   "execution_count": null,
   "metadata": {},
   "outputs": [],
   "source": [
    "len(clade_annotations)"
   ]
  },
  {
   "cell_type": "code",
   "execution_count": null,
   "metadata": {},
   "outputs": [],
   "source": [
    "clade_annotations.head()"
   ]
  },
  {
   "cell_type": "markdown",
   "metadata": {},
   "source": [
    "## Calculate distance matrix"
   ]
  },
  {
   "cell_type": "code",
   "execution_count": null,
   "metadata": {},
   "outputs": [],
   "source": [
    "hamming_distances = get_hamming_distances(\n",
    "    sequences_by_name.values()\n",
    ")\n",
    "distance_matrix = squareform(hamming_distances)"
   ]
  },
  {
   "cell_type": "code",
   "execution_count": null,
   "metadata": {},
   "outputs": [],
   "source": [
    "distance_matrix.shape"
   ]
  },
  {
   "cell_type": "code",
   "execution_count": null,
   "metadata": {},
   "outputs": [],
   "source": [
    "sns.heatmap(distance_matrix)"
   ]
  },
  {
   "cell_type": "markdown",
   "metadata": {},
   "source": [
    "## Assign sequences to k-fold groups and analyze each fold\n",
    "\n",
    "For each fold, use the training indices to subset the distance matrix to just those columns and rows that belong in the training data. Apply a given embedding method to the distance matrix subset, identify the classification threshold for clade membership, and validate that threshold on the subset of the distance matrix corresponding to the validation indices."
   ]
  },
  {
   "cell_type": "code",
   "execution_count": null,
   "metadata": {},
   "outputs": [],
   "source": [
    "# TODO: In practice we will want to iterate over all combinations of parameters\n",
    "# for all embedding methods and also support PCA (which does not use a distance matrix as input).\n",
    "embedding_class = TSNE\n",
    "embedding_parameters = {\n",
    "    \"metric\": \"precomputed\",\n",
    "    \"perplexity\": 30,\n",
    "    \"learning_rate\": 500\n",
    "}"
   ]
  },
  {
   "cell_type": "code",
   "execution_count": null,
   "metadata": {},
   "outputs": [],
   "source": [
    "embedding_class = UMAP\n",
    "embedding_parameters = {\n",
    "    \"n_neighbors\": 20,\n",
    "    \"min_dist\": 0.5,\n",
    "    \"n_components\": 2,\n",
    "    \"init\": \"spectral\"\n",
    "}"
   ]
  },
  {
   "cell_type": "code",
   "execution_count": null,
   "metadata": {},
   "outputs": [],
   "source": [
    "embedding_class = MDS\n",
    "embedding_parameters = {\n",
    "    \"dissimilarity\": \"precomputed\"\n",
    "}"
   ]
  },
  {
   "cell_type": "code",
   "execution_count": null,
   "metadata": {},
   "outputs": [],
   "source": [
    "fold_factory = KFold(n_splits=5, shuffle=True)\n",
    "folds = fold_factory.split(sequence_names)"
   ]
  },
  {
   "cell_type": "code",
   "execution_count": null,
   "metadata": {},
   "outputs": [],
   "source": [
    "from sklearn.metrics import confusion_matrix\n",
    "from sklearn.metrics import matthews_corrcoef"
   ]
  },
  {
   "cell_type": "code",
   "execution_count": null,
   "metadata": {},
   "outputs": [],
   "source": [
    "# TODO: consider adding support for an exhaustive grid search of parameters \n",
    "# for different embeddings and the classifier:\n",
    "# https://scikit-learn.org/stable/modules/grid_search.html#exhaustive-grid-search\n",
    "genetic_accuracies = []\n",
    "accuracies = []\n",
    "classifier_thresholds = []\n",
    "confusion_matrices = []\n",
    "matthews_cc = []\n",
    "for k, (training_index, validation_index) in enumerate(folds): \n",
    "    print(f\"Fit to fold: {k}\")\n",
    "    # Subset distance matrix to training indices.\n",
    "    training_distance_matrix = distance_matrix[training_index][:, training_index]\n",
    "    \n",
    "    # Embed training distance matrix.\n",
    "    embedder = embedding_class(**embedding_parameters)\n",
    "    training_embedding = embedder.fit_transform(training_distance_matrix)\n",
    "    \n",
    "    # Calculate Euclidean distance between pairs of samples in the embedding.\n",
    "    # The output is a condensed distance matrix with distances between pairs.\n",
    "    # https://docs.scipy.org/doc/scipy/reference/generated/scipy.spatial.distance.pdist.html\n",
    "    training_embedding_distances = pdist(training_embedding).reshape(-1, 1)\n",
    "    \n",
    "    # Assign a binary class to each pair of samples based on their clade memberships.\n",
    "    # Samples from different clades are assigned 0, samples from the same clade as assigned 1.\n",
    "    # This vector of binary values will be the output to fit a classifier to.\n",
    "    # These pairs should be in the same order as the embedding distances above.\n",
    "    training_clade_status_for_pairs = assign_clade_status_to_pairs(\n",
    "        clade_annotations,\n",
    "        training_index\n",
    "    )\n",
    "    \n",
    "    # Use a support vector machine classifier to identify an optimal threshold\n",
    "    # to distinguish between within and between class pairs.\n",
    "    # See also: https://scikit-learn.org/stable/modules/svm.html#svm-classification\n",
    "    classifier = make_pipeline(\n",
    "        StandardScaler(),\n",
    "        LinearSVC(random_state=0, tol=1e-5)\n",
    "    )\n",
    "    \n",
    "    classifier.fit(training_embedding_distances, training_clade_status_for_pairs)\n",
    "    \n",
    "    classifier_threshold = (0.5 - classifier.named_steps[\"linearsvc\"].intercept_) / classifier.named_steps[\"linearsvc\"].coef_[0]\n",
    "    classifier_thresholds.append(classifier_threshold)\n",
    "    \n",
    "    # Use a SVM to identify an optimal threshold for genetic distances.\n",
    "    genetic_classifier = make_pipeline(\n",
    "        StandardScaler(),\n",
    "        LinearSVC(random_state=0, tol=1e-5)\n",
    "    )\n",
    "    genetic_classifier.fit(squareform(training_distance_matrix).reshape(-1, 1), training_clade_status_for_pairs)\n",
    "    \n",
    "    # Subset distance matrix to validation indices.\n",
    "    validation_distance_matrix = distance_matrix[validation_index][:, validation_index]\n",
    "    \n",
    "    # Embed validation distance matrix.\n",
    "    validation_embedding = embedder.fit_transform(validation_distance_matrix)\n",
    "    \n",
    "    # Calculate Euclidean distance between pairs of samples in the embedding.\n",
    "    # The output should be a data frame of distances between pairs.\n",
    "    validation_embedding_distances = pdist(validation_embedding).reshape(-1, 1)\n",
    "    \n",
    "    # Assign a binary class to each pair of samples based on their clade memberships.\n",
    "    # Samples from different clades are assigned 0, samples from the same clade as assigned 1.\n",
    "    # This vector of binary values will be the output to fit a classifier to.\n",
    "    # These pairs should be in the same order as the embedding distances above.\n",
    "    validation_clade_status_for_pairs = assign_clade_status_to_pairs(\n",
    "        clade_annotations,\n",
    "        validation_index\n",
    "    )\n",
    "\n",
    "    # Predict and score clade status from embedding distances and the trained classifier.\n",
    "    # The first argument is the set to predict classifier labels for. The second argument\n",
    "    # is the list of true labels. The return argument is the mean accuracy of the predicted\n",
    "    # labels.\n",
    "    # https://scikit-learn.org/stable/modules/generated/sklearn.svm.LinearSVC.html#sklearn.svm.LinearSVC.score\n",
    "    confusion_matrices.append(confusion_matrix(classifier.predict(validation_embedding_distances), validation_clade_status_for_pairs))\n",
    "    matthews_cc.append(matthews_corrcoef(classifier.predict(validation_embedding_distances), validation_clade_status_for_pairs))\n",
    "    \n",
    "    accuracy = classifier.score(\n",
    "        validation_embedding_distances,\n",
    "        validation_clade_status_for_pairs\n",
    "    )\n",
    "    print(f\"Accuracy: {accuracy}\")\n",
    "    \n",
    "    genetic_accuracy = genetic_classifier.score(\n",
    "        squareform(validation_distance_matrix).reshape(-1, 1),\n",
    "        validation_clade_status_for_pairs\n",
    "    )\n",
    "    print(f\"Genetic accuracy: {genetic_accuracy}\")\n",
    "    print()\n",
    "    \n",
    "    accuracies.append(accuracy)\n",
    "    genetic_accuracies.append(genetic_accuracy)"
   ]
  },
  {
   "cell_type": "code",
   "execution_count": null,
   "metadata": {},
   "outputs": [],
   "source": [
    "sns.heatmap(confusion_matrices[3], annot=True)"
   ]
  },
  {
   "cell_type": "code",
   "execution_count": null,
   "metadata": {},
   "outputs": [],
   "source": [
    "training_embedding_df = pd.DataFrame(training_embedding, columns=[\"x\", \"y\"])\n",
    "training_embedding_df[\"clade\"] = clade_annotations.loc[training_index, \"clade\"].values"
   ]
  },
  {
   "cell_type": "code",
   "execution_count": null,
   "metadata": {},
   "outputs": [],
   "source": [
    "validation_embedding_df = pd.DataFrame(validation_embedding, columns=[\"x\", \"y\"])\n",
    "validation_embedding_df[\"clade\"] = clade_annotations.loc[validation_index, \"clade\"].values"
   ]
  },
  {
   "cell_type": "code",
   "execution_count": null,
   "metadata": {},
   "outputs": [],
   "source": [
    "fig, axes = plt.subplots(1, 2, figsize=(12, 6))\n",
    "\n",
    "sns.scatterplot(\"x\", \"y\", hue=\"clade\", data=training_embedding_df, legend=False, ax=axes[0])\n",
    "axes[0].set_title(\"Training\")\n",
    "\n",
    "sns.scatterplot(\"x\", \"y\", hue=\"clade\", data=validation_embedding_df, legend=False, ax=axes[1])\n",
    "axes[1].set_title(\"Validation\")\n",
    "\n",
    "sns.despine()"
   ]
  },
  {
   "cell_type": "code",
   "execution_count": null,
   "metadata": {},
   "outputs": [],
   "source": [
    "training_embedding_distances.shape"
   ]
  },
  {
   "cell_type": "code",
   "execution_count": null,
   "metadata": {},
   "outputs": [],
   "source": [
    "training_clade_status_for_pairs.shape"
   ]
  },
  {
   "cell_type": "code",
   "execution_count": null,
   "metadata": {},
   "outputs": [],
   "source": [
    "training_embedding_distances.flatten()"
   ]
  },
  {
   "cell_type": "code",
   "execution_count": null,
   "metadata": {},
   "outputs": [],
   "source": [
    "scaler = StandardScaler()"
   ]
  },
  {
   "cell_type": "code",
   "execution_count": null,
   "metadata": {},
   "outputs": [],
   "source": [
    "scaler.fit_transform(training_embedding_distances)"
   ]
  },
  {
   "cell_type": "code",
   "execution_count": null,
   "metadata": {},
   "outputs": [],
   "source": [
    "distances_df = pd.DataFrame({\"distance\": training_embedding_distances.flatten(), \"same_clade\": training_clade_status_for_pairs.flatten()})"
   ]
  },
  {
   "cell_type": "code",
   "execution_count": null,
   "metadata": {},
   "outputs": [],
   "source": [
    "distances_df.head()"
   ]
  },
  {
   "cell_type": "code",
   "execution_count": null,
   "metadata": {},
   "outputs": [],
   "source": [
    "distances_df[\"scaled_distance\"] = scaler.fit_transform(training_embedding_distances).flatten()"
   ]
  },
  {
   "cell_type": "code",
   "execution_count": null,
   "metadata": {},
   "outputs": [],
   "source": [
    "distances_df[\"genetic_distance\"] = squareform(training_distance_matrix)"
   ]
  },
  {
   "cell_type": "code",
   "execution_count": null,
   "metadata": {},
   "outputs": [],
   "source": [
    "fig, axes = plt.subplots(1, 2, figsize=(12, 6))\n",
    "\n",
    "ax = axes[0]\n",
    "ax = sns.kdeplot(distances_df.query(\"same_clade == 1\")[\"scaled_distance\"], label=\"Same clade\", ax=ax)\n",
    "ax = sns.kdeplot(distances_df.query(\"same_clade == 0\")[\"scaled_distance\"], label=\"Different clade\", ax=ax)\n",
    "\n",
    "for classifier_threshold in classifier_thresholds:\n",
    "    ax.axvline(x=classifier_threshold, label=\"SVC threshold\", color=\"#000000\", alpha=0.5)\n",
    "\n",
    "ax.set_xlabel(\"Scaled Euclidean distance from embedding\")\n",
    "ax.set_ylabel(\"KDE density\")\n",
    "\n",
    "ax = axes[1]\n",
    "ax = sns.kdeplot(distances_df.query(\"same_clade == 1\")[\"genetic_distance\"], label=\"Same clade\", ax=ax)\n",
    "ax = sns.kdeplot(distances_df.query(\"same_clade == 0\")[\"genetic_distance\"], label=\"Different clade\", ax=ax)\n",
    "\n",
    "ax.set_xlabel(\"Genetic distance\")\n",
    "ax.set_ylabel(\"KDE density\")\n",
    "\n",
    "sns.despine()"
   ]
  },
  {
   "cell_type": "markdown",
   "metadata": {},
   "source": [
    "## Plot and summarize accuracies"
   ]
  },
  {
   "cell_type": "code",
   "execution_count": null,
   "metadata": {},
   "outputs": [],
   "source": [
    "# Print the mean accuracy and stddev\n",
    "print(f\"Accuracy: {np.mean(accuracies)} +/- {np.std(accuracies)}\")"
   ]
  },
  {
   "cell_type": "code",
   "execution_count": null,
   "metadata": {},
   "outputs": [],
   "source": [
    "fig, ax = plt.subplots(1, 1, figsize=(8, 6))\n",
    "bins = np.arange(0, 1.01, 0.05)\n",
    "\n",
    "ax.hist(accuracies, bins=bins)\n",
    "\n",
    "ax.axvline(\n",
    "    x=np.mean(accuracies),\n",
    "    label=f\"Mean accuracy: {np.mean(accuracies):.2f} +/- {np.std(accuracies):.2f}\",\n",
    "    color=\"orange\"\n",
    ")\n",
    "\n",
    "ax.set_xlabel(\"Accuracy of classifier\")\n",
    "ax.set_ylabel(\"Number of cross-validation folds\")\n",
    "\n",
    "ax.legend(frameon=False)\n",
    "\n",
    "sns.despine()"
   ]
  },
  {
   "cell_type": "markdown",
   "metadata": {},
   "source": [
    "## Plot classifier thresholds\n",
    "\n",
    "The linear support vector classifier (SVC) produces an intercept and coefficient for a single feature that represents a line through the domain of the input data that classifies samples into \"same clade\" (1) or \"different clade\" (0). The midpoint between these classification labels (0.5) is useful for visualizing the placement of the SVC results. We calculate the value of the input domain that corresponds to this line by solving for $0.5 = mx + b$ where $x$ is the value of interest from the input domain.\n",
    "\n",
    "Below we plot the resulting distribution of classifier thresholds across all *k* folds to get a sense of how consistent these values are across training sets. Note that the input data have been scaled to z-values (centered by their mean and divided by their standard deviation)."
   ]
  },
  {
   "cell_type": "code",
   "execution_count": null,
   "metadata": {},
   "outputs": [],
   "source": [
    "classifier_thresholds = np.array(classifier_thresholds).flatten()"
   ]
  },
  {
   "cell_type": "code",
   "execution_count": null,
   "metadata": {},
   "outputs": [],
   "source": [
    "fig, ax = plt.subplots(1, 1, figsize=(8, 6))\n",
    "ax.hist(classifier_thresholds.flatten(), bins=10)\n",
    "\n",
    "ax.axvline(\n",
    "    x=np.mean(classifier_thresholds),\n",
    "    label=f\"Mean classifier threshold: {np.mean(classifier_thresholds):.2f} +/- {np.std(classifier_thresholds):.2f}\",\n",
    "    color=\"orange\"\n",
    ")\n",
    "\n",
    "ax.set_xlabel(\"Classifier threshold on scaled Euclidean distances\")\n",
    "ax.set_ylabel(\"Number of cross-validation folds\")\n",
    "\n",
    "ax.legend(frameon=False)\n",
    "\n",
    "sns.despine()"
   ]
  },
  {
   "cell_type": "code",
   "execution_count": null,
   "metadata": {},
   "outputs": [],
   "source": []
  }
 ],
 "metadata": {
  "kernelspec": {
   "display_name": "Python 3",
   "language": "python",
   "name": "python3"
  },
  "language_info": {
   "codemirror_mode": {
    "name": "ipython",
    "version": 3
   },
   "file_extension": ".py",
   "mimetype": "text/x-python",
   "name": "python",
   "nbconvert_exporter": "python",
   "pygments_lexer": "ipython3",
   "version": "3.7.6"
  }
 },
 "nbformat": 4,
 "nbformat_minor": 4
}
