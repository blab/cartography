{
 "cells": [
  {
   "cell_type": "markdown",
   "metadata": {},
   "source": [
    "# Cross-validation of embedding methods\n",
    "\n",
    "Perform cross-validation of an embedding method to tune hyperparameters and evaluate the accuracy of classifications based on Euclidean distances of embedded space.\n",
    "\n",
    "## Analysis outline\n",
    "\n",
    "1. Load genome sequences from a FASTA file\n",
    "1. Load clade membership annotations for each genome from a separate metadata file\n",
    "1. Calculate a pairwise distance matrix from the genome sequences.\n",
    "1. For each fold in a *k-fold* analysis\n",
    "  1. Identify sequences in the fold\n",
    "  1. Subset the distance matrix to only those sequences in the fold\n",
    "  1. Apply the current embedding method (e.g., MDS, t-SNE, UMAP) to the distance matrix\n",
    "  1. Calculate the pairwise Euclidean distance between sequences in the embedding\n",
    "  1. Calculate and store the Pearson's correlation between genetic and Euclidean distances for all pairs in the embedding\n",
    "  1. Calculate and store a distance threshold below which any pair of sequences are assigned to the same clade\n",
    "  1. Apply the current embeddng method to the subset of the distance matrix corresponding to the validation data for the current fold\n",
    "  1. Calculate the pairwise Euclidean distance between sequences in the validation embedding\n",
    "  1. Assign all pairs of sequences in the validation set to estimated \"within\" or \"between\" clade statuses based on their distances\n",
    "  1. Calculate the confusion matrix from the estimated and observed clade identities\n",
    "  1. Calculate and store accuracy, Matthew's correlation coefficient, etc. from the confusion matrix\n",
    "1. Plot the distribution of Pearson's correlations across all *k* folds\n",
    "1. Plot the distribution of accuracies, etc. across all *k* folds"
   ]
  },
  {
   "cell_type": "markdown",
   "metadata": {},
   "source": [
    "## Define inputs, outputs, and parameters"
   ]
  },
  {
   "cell_type": "code",
   "execution_count": 3,
   "metadata": {},
   "outputs": [],
   "source": [
    "sequences_path = \"../seasonal-flu-nextstrain/results/variable_sites.fasta\"\n",
    "clades_path = \"../seasonal-flu-nextstrain/results/clades.json\""
   ]
  },
  {
   "cell_type": "markdown",
   "metadata": {},
   "source": [
    "## Imports"
   ]
  },
  {
   "cell_type": "code",
   "execution_count": 31,
   "metadata": {},
   "outputs": [],
   "source": [
    "from augur.utils import read_node_data\n",
    "import Bio.SeqIO\n",
    "from collections import OrderedDict\n",
    "import matplotlib.pyplot as plt\n",
    "import numpy as np\n",
    "import pandas as pd\n",
    "from scipy.spatial.distance import squareform\n",
    "from sklearn import svm\n",
    "from sklearn.manifold import TSNE\n",
    "from sklearn.model_selection import KFold\n",
    "\n",
    "%matplotlib inline"
   ]
  },
  {
   "cell_type": "markdown",
   "metadata": {},
   "source": [
    "## Load genome sequences"
   ]
  },
  {
   "cell_type": "code",
   "execution_count": 10,
   "metadata": {},
   "outputs": [],
   "source": [
    "sequences_by_name = OrderedDict()\n",
    "\n",
    "for sequence in Bio.SeqIO.parse(sequences_path, \"fasta\"):\n",
    "    sequences_by_name[sequence.id] = str(sequence.seq)\n",
    "    \n",
    "sequence_names = list(sequences_by_name.keys())"
   ]
  },
  {
   "cell_type": "markdown",
   "metadata": {},
   "source": [
    "## Load clade membership annotations"
   ]
  },
  {
   "cell_type": "code",
   "execution_count": 5,
   "metadata": {},
   "outputs": [],
   "source": [
    "node_data = read_node_data(clades_path)"
   ]
  },
  {
   "cell_type": "code",
   "execution_count": 26,
   "metadata": {},
   "outputs": [],
   "source": [
    "clade_annotations = pd.DataFrame([\n",
    "    {\"strain\": strain, \"clade\": annotations[\"clade_membership\"]}\n",
    "    for strain, annotations in node_data[\"nodes\"].items()\n",
    "    if strain in sequences_by_name\n",
    "])"
   ]
  },
  {
   "cell_type": "code",
   "execution_count": 27,
   "metadata": {},
   "outputs": [
    {
     "data": {
      "text/plain": [
       "707"
      ]
     },
     "execution_count": 27,
     "metadata": {},
     "output_type": "execute_result"
    }
   ],
   "source": [
    "len(clade_annotations)"
   ]
  },
  {
   "cell_type": "code",
   "execution_count": 28,
   "metadata": {},
   "outputs": [
    {
     "data": {
      "text/html": [
       "<div>\n",
       "<style scoped>\n",
       "    .dataframe tbody tr th:only-of-type {\n",
       "        vertical-align: middle;\n",
       "    }\n",
       "\n",
       "    .dataframe tbody tr th {\n",
       "        vertical-align: top;\n",
       "    }\n",
       "\n",
       "    .dataframe thead th {\n",
       "        text-align: right;\n",
       "    }\n",
       "</style>\n",
       "<table border=\"1\" class=\"dataframe\">\n",
       "  <thead>\n",
       "    <tr style=\"text-align: right;\">\n",
       "      <th></th>\n",
       "      <th>strain</th>\n",
       "      <th>clade</th>\n",
       "    </tr>\n",
       "  </thead>\n",
       "  <tbody>\n",
       "    <tr>\n",
       "      <th>0</th>\n",
       "      <td>A/Alaska/04/2019</td>\n",
       "      <td>3c3.A</td>\n",
       "    </tr>\n",
       "    <tr>\n",
       "      <th>1</th>\n",
       "      <td>A/Alaska/35/2019</td>\n",
       "      <td>A1b/197R</td>\n",
       "    </tr>\n",
       "    <tr>\n",
       "      <th>2</th>\n",
       "      <td>A/Alaska/38/2019</td>\n",
       "      <td>A1b/197R</td>\n",
       "    </tr>\n",
       "    <tr>\n",
       "      <th>3</th>\n",
       "      <td>A/Alaska/46/2018</td>\n",
       "      <td>A2/re</td>\n",
       "    </tr>\n",
       "    <tr>\n",
       "      <th>4</th>\n",
       "      <td>A/Alaska/47/2018</td>\n",
       "      <td>A2/re</td>\n",
       "    </tr>\n",
       "  </tbody>\n",
       "</table>\n",
       "</div>"
      ],
      "text/plain": [
       "             strain     clade\n",
       "0  A/Alaska/04/2019     3c3.A\n",
       "1  A/Alaska/35/2019  A1b/197R\n",
       "2  A/Alaska/38/2019  A1b/197R\n",
       "3  A/Alaska/46/2018     A2/re\n",
       "4  A/Alaska/47/2018     A2/re"
      ]
     },
     "execution_count": 28,
     "metadata": {},
     "output_type": "execute_result"
    }
   ],
   "source": [
    "clade_annotations.head()"
   ]
  },
  {
   "cell_type": "markdown",
   "metadata": {},
   "source": [
    "## Calculate distance matrix"
   ]
  },
  {
   "cell_type": "code",
   "execution_count": null,
   "metadata": {},
   "outputs": [],
   "source": [
    "# TODO: define `calculate_distance_matrix` function to make this cell run.\n",
    "# The function should take an OrderedDict of sequences by name and return\n",
    "# a distance matrix with rows and columns in the same order.\n",
    "distance_matrix = calculate_distance_matrix(\n",
    "    sequences_by_name\n",
    ")"
   ]
  },
  {
   "cell_type": "markdown",
   "metadata": {},
   "source": [
    "## Assign sequences to k-fold groups\n",
    "\n",
    "For each of *k* different folds, partition sequences into training and validation sets."
   ]
  },
  {
   "cell_type": "code",
   "execution_count": 11,
   "metadata": {},
   "outputs": [
    {
     "data": {
      "text/plain": [
       "['U26830.1',\n",
       " 'A/Alaska/04/2019',\n",
       " 'A/Georgia/32/2018',\n",
       " 'A/Kentucky/35/2018',\n",
       " 'A/Montana/35/2019']"
      ]
     },
     "execution_count": 11,
     "metadata": {},
     "output_type": "execute_result"
    }
   ],
   "source": [
    "sequence_names[:5]"
   ]
  },
  {
   "cell_type": "code",
   "execution_count": 18,
   "metadata": {},
   "outputs": [],
   "source": [
    "fold_factory = KFold(n_splits=5, shuffle=True)\n",
    "folds = fold_factory.split(sequence_names)"
   ]
  },
  {
   "cell_type": "markdown",
   "metadata": {},
   "source": [
    "## Analyze each fold\n",
    "\n",
    "For each fold, use the training indices to subset the distance matrix to just those columns and rows that belong in the training data. Apply a given embedding method to the distance matrix subset, identify the classification threshold for clade membership, and validate that threshold on the subset of the distance matrix corresponding to the validation indices."
   ]
  },
  {
   "cell_type": "code",
   "execution_count": 20,
   "metadata": {},
   "outputs": [
    {
     "name": "stdout",
     "output_type": "stream",
     "text": [
      "fold 0\n",
      "Training index: [  0   1   2   3   6   7   8   9  11  12  13  14  15  17  18  19  20  21\n",
      "  22  23  25  26  27  29  30  31  32  33  34  35  37  38  39  40  41  42\n",
      "  43  44  45  47  48  49  50  51  52  53  54  55  56  57  58  59  60  62\n",
      "  63  64  65  66  67  69  70  71  73  74  75  76  77  78  79  80  81  83\n",
      "  84  86  87  88  89  91  92  95  96  97  98  99 100 101 102 105 107 110\n",
      " 111 112 113 114 115 116 117 118 119 120 123 126 127 128 129 130 131 132\n",
      " 134 135 136 137 139 140 142 144 145 146 148 149 150 152 153 154 156 157\n",
      " 158 159 160 161 162 164 165 167 169 170 171 172 173 175 176 177 178 179\n",
      " 180 183 184 185 186 187 188 190 193 195 196 197 199 200 201 202 203 204\n",
      " 205 207 208 211 212 213 214 215 216 217 218 220 222 223 224 225 226 227\n",
      " 228 229 230 232 233 234 235 236 237 238 240 241 242 243 244 245 246 248\n",
      " 249 250 251 252 253 255 256 257 258 259 260 261 262 264 265 266 268 269\n",
      " 270 271 272 273 274 275 276 277 278 279 280 281 282 283 285 286 287 288\n",
      " 290 291 292 294 295 296 297 299 300 301 302 303 304 305 307 308 309 311\n",
      " 312 313 315 316 317 318 319 320 321 323 324 325 326 327 328 329 330 331\n",
      " 332 333 334 335 336 338 339 341 342 343 344 345 346 347 348 349 350 351\n",
      " 352 354 355 356 357 358 360 361 362 364 365 367 368 369 370 371 372 373\n",
      " 375 377 378 380 381 382 383 384 386 387 388 389 390 391 393 394 395 397\n",
      " 398 399 400 401 402 404 405 406 407 408 409 411 414 417 418 420 421 422\n",
      " 423 424 425 426 427 428 429 430 432 433 434 435 436 437 439 440 441 442\n",
      " 443 444 445 446 447 448 450 451 452 453 455 456 457 461 462 464 465 466\n",
      " 468 470 471 472 473 475 476 478 479 482 483 484 485 486 487 488 489 490\n",
      " 491 492 495 496 497 498 499 500 501 502 504 506 508 510 511 512 513 514\n",
      " 515 516 517 518 519 520 521 522 523 525 528 529 530 531 532 533 534 535\n",
      " 536 537 539 540 541 542 543 544 545 546 548 549 550 551 552 553 556 558\n",
      " 559 560 563 564 565 566 568 569 570 571 572 573 574 576 577 580 581 582\n",
      " 583 584 585 586 587 588 589 590 591 592 593 594 595 597 598 599 600 601\n",
      " 602 603 604 606 607 609 610 611 614 616 617 618 619 621 622 623 624 625\n",
      " 626 627 628 629 630 631 632 634 635 636 637 638 641 643 644 645 646 647\n",
      " 650 651 652 655 656 657 659 660 661 662 663 664 665 666 667 669 670 672\n",
      " 673 674 675 676 677 681 682 684 685 686 688 689 690 691 692 694 695 696\n",
      " 697 698 699 702 703 704 705 707 708]\n",
      "Validation index: [  4   5  10  16  24  28  36  46  61  68  72  82  85  90  93  94 103 104\n",
      " 106 108 109 121 122 124 125 133 138 141 143 147 151 155 163 166 168 174\n",
      " 181 182 189 191 192 194 198 206 209 210 219 221 231 239 247 254 263 267\n",
      " 284 289 293 298 306 310 314 322 337 340 353 359 363 366 374 376 379 385\n",
      " 392 396 403 410 412 413 415 416 419 431 438 449 454 458 459 460 463 467\n",
      " 469 474 477 480 481 493 494 503 505 507 509 524 526 527 538 547 554 555\n",
      " 557 561 562 567 575 578 579 596 605 608 612 613 615 620 633 639 640 642\n",
      " 648 649 653 654 658 668 671 678 679 680 683 687 693 700 701 706]\n",
      "\n",
      "fold 1\n",
      "Training index: [  0   1   4   5   6   7   8   9  10  12  13  14  15  16  19  22  24  27\n",
      "  28  29  30  31  32  33  35  36  37  38  39  41  42  43  46  47  48  49\n",
      "  51  52  53  54  55  58  59  60  61  62  63  65  66  67  68  71  72  73\n",
      "  76  77  78  79  81  82  83  84  85  89  90  91  92  93  94  95  96  97\n",
      "  98  99 100 101 102 103 104 106 107 108 109 111 112 114 115 116 117 118\n",
      " 119 120 121 122 123 124 125 126 127 129 130 131 132 133 134 135 136 138\n",
      " 139 140 141 142 143 144 146 147 149 150 151 152 153 154 155 156 157 158\n",
      " 159 160 161 162 163 164 166 167 168 169 170 171 173 174 175 178 179 180\n",
      " 181 182 183 186 187 188 189 190 191 192 194 195 196 197 198 199 203 206\n",
      " 207 209 210 211 212 213 214 215 217 219 220 221 222 223 224 226 227 229\n",
      " 230 231 232 233 234 235 236 237 238 239 241 243 244 245 246 247 250 251\n",
      " 252 253 254 255 257 258 260 261 262 263 265 266 267 269 271 272 273 274\n",
      " 279 280 282 283 284 285 286 287 289 290 292 293 294 295 296 297 298 300\n",
      " 301 302 303 305 306 307 309 310 311 312 313 314 315 317 318 319 320 321\n",
      " 322 323 324 325 326 327 328 329 330 331 332 334 335 336 337 339 340 341\n",
      " 342 343 344 345 346 347 348 349 351 352 353 356 357 358 359 360 361 362\n",
      " 363 365 366 367 368 369 370 371 372 373 374 375 376 377 378 379 380 382\n",
      " 383 384 385 386 389 390 391 392 393 394 396 397 398 399 400 401 402 403\n",
      " 404 405 407 408 409 410 411 412 413 415 416 417 419 420 422 423 425 426\n",
      " 427 429 430 431 432 433 435 436 437 438 439 441 442 445 446 447 449 450\n",
      " 451 452 453 454 455 457 458 459 460 461 462 463 464 465 466 467 468 469\n",
      " 471 473 474 475 476 477 479 480 481 483 484 485 488 489 490 491 492 493\n",
      " 494 495 497 499 500 501 503 505 507 508 509 510 511 512 514 515 516 517\n",
      " 520 521 522 523 524 525 526 527 528 529 530 532 535 536 538 539 544 545\n",
      " 546 547 548 550 551 552 553 554 555 556 557 558 560 561 562 563 565 567\n",
      " 568 569 570 571 572 573 574 575 576 577 578 579 580 581 582 583 584 585\n",
      " 586 587 588 589 590 591 593 594 595 596 597 598 599 600 601 603 605 606\n",
      " 608 609 610 612 613 614 615 616 618 620 621 622 624 625 626 627 628 629\n",
      " 631 632 633 634 635 636 639 640 642 643 644 645 646 647 648 649 650 651\n",
      " 652 653 654 655 657 658 659 660 661 662 663 664 665 666 668 670 671 673\n",
      " 678 679 680 681 682 683 685 686 687 688 690 691 692 693 694 695 696 698\n",
      " 699 700 701 702 704 705 706 707 708]\n",
      "Validation index: [  2   3  11  17  18  20  21  23  25  26  34  40  44  45  50  56  57  64\n",
      "  69  70  74  75  80  86  87  88 105 110 113 128 137 145 148 165 172 176\n",
      " 177 184 185 193 200 201 202 204 205 208 216 218 225 228 240 242 248 249\n",
      " 256 259 264 268 270 275 276 277 278 281 288 291 299 304 308 316 333 338\n",
      " 350 354 355 364 381 387 388 395 406 414 418 421 424 428 434 440 443 444\n",
      " 448 456 470 472 478 482 486 487 496 498 502 504 506 513 518 519 531 533\n",
      " 534 537 540 541 542 543 549 559 564 566 592 602 604 607 611 617 619 623\n",
      " 630 637 638 641 656 667 669 672 674 675 676 677 684 689 697 703]\n",
      "\n",
      "fold 2\n",
      "Training index: [  0   1   2   3   4   5   6  10  11  14  15  16  17  18  19  20  21  23\n",
      "  24  25  26  27  28  29  30  31  32  33  34  36  37  38  39  40  41  43\n",
      "  44  45  46  48  50  51  52  53  54  56  57  59  60  61  62  64  65  67\n",
      "  68  69  70  71  72  73  74  75  78  79  80  81  82  83  85  86  87  88\n",
      "  90  91  93  94  97  98 102 103 104 105 106 107 108 109 110 111 112 113\n",
      " 114 115 117 119 120 121 122 123 124 125 126 127 128 130 133 136 137 138\n",
      " 139 140 141 142 143 144 145 146 147 148 149 151 152 153 154 155 156 158\n",
      " 159 160 162 163 164 165 166 167 168 169 170 172 174 176 177 178 179 180\n",
      " 181 182 183 184 185 186 187 188 189 191 192 193 194 195 198 199 200 201\n",
      " 202 203 204 205 206 208 209 210 211 214 215 216 217 218 219 220 221 222\n",
      " 224 225 226 227 228 230 231 232 234 235 236 237 238 239 240 241 242 243\n",
      " 244 245 246 247 248 249 250 251 252 254 255 256 257 258 259 263 264 265\n",
      " 266 267 268 270 271 272 273 274 275 276 277 278 280 281 282 283 284 285\n",
      " 288 289 291 292 293 295 298 299 300 303 304 306 307 308 309 310 313 314\n",
      " 316 318 320 321 322 323 324 325 327 329 330 331 332 333 334 335 336 337\n",
      " 338 339 340 342 343 345 346 347 348 350 351 352 353 354 355 357 358 359\n",
      " 360 361 362 363 364 365 366 367 368 369 371 372 373 374 375 376 377 378\n",
      " 379 380 381 383 385 386 387 388 390 392 395 396 397 401 402 403 405 406\n",
      " 408 410 411 412 413 414 415 416 417 418 419 421 422 423 424 425 428 431\n",
      " 432 433 434 435 436 438 439 440 441 442 443 444 445 446 447 448 449 452\n",
      " 453 454 456 458 459 460 461 463 464 466 467 469 470 471 472 474 475 477\n",
      " 478 480 481 482 483 485 486 487 490 491 492 493 494 495 496 497 498 499\n",
      " 500 502 503 504 505 506 507 508 509 511 512 513 514 516 518 519 521 522\n",
      " 524 525 526 527 528 529 530 531 533 534 536 537 538 539 540 541 542 543\n",
      " 545 546 547 549 550 551 552 553 554 555 557 559 560 561 562 563 564 565\n",
      " 566 567 568 569 570 571 573 574 575 577 578 579 581 582 585 587 590 592\n",
      " 593 594 595 596 598 599 600 601 602 603 604 605 606 607 608 610 611 612\n",
      " 613 614 615 616 617 618 619 620 621 622 623 624 625 627 629 630 633 634\n",
      " 635 636 637 638 639 640 641 642 643 644 645 646 647 648 649 651 652 653\n",
      " 654 655 656 657 658 659 661 662 663 664 665 666 667 668 669 671 672 674\n",
      " 675 676 677 678 679 680 683 684 685 687 688 689 690 691 692 693 694 697\n",
      " 698 699 700 701 702 703 704 705 706]\n",
      "Validation index: [  7   8   9  12  13  22  35  42  47  49  55  58  63  66  76  77  84  89\n",
      "  92  95  96  99 100 101 116 118 129 131 132 134 135 150 157 161 171 173\n",
      " 175 190 196 197 207 212 213 223 229 233 253 260 261 262 269 279 286 287\n",
      " 290 294 296 297 301 302 305 311 312 315 317 319 326 328 341 344 349 356\n",
      " 370 382 384 389 391 393 394 398 399 400 404 407 409 420 426 427 429 430\n",
      " 437 450 451 455 457 462 465 468 473 476 479 484 488 489 501 510 515 517\n",
      " 520 523 532 535 544 548 556 558 572 576 580 583 584 586 588 589 591 597\n",
      " 609 626 628 631 632 650 660 670 673 681 682 686 695 696 707 708]\n",
      "\n",
      "fold 3\n",
      "Training index: [  1   2   3   4   5   7   8   9  10  11  12  13  14  15  16  17  18  20\n",
      "  21  22  23  24  25  26  27  28  32  33  34  35  36  37  40  42  43  44\n",
      "  45  46  47  49  50  53  55  56  57  58  59  61  62  63  64  66  67  68\n",
      "  69  70  71  72  73  74  75  76  77  78  79  80  82  84  85  86  87  88\n",
      "  89  90  92  93  94  95  96  97  98  99 100 101 102 103 104 105 106 107\n",
      " 108 109 110 113 114 116 118 119 120 121 122 123 124 125 127 128 129 131\n",
      " 132 133 134 135 137 138 139 141 142 143 145 147 148 149 150 151 152 155\n",
      " 157 158 159 161 163 164 165 166 167 168 169 171 172 173 174 175 176 177\n",
      " 178 179 181 182 183 184 185 186 188 189 190 191 192 193 194 195 196 197\n",
      " 198 200 201 202 204 205 206 207 208 209 210 212 213 214 216 218 219 221\n",
      " 223 225 228 229 230 231 232 233 234 239 240 241 242 243 247 248 249 253\n",
      " 254 256 257 258 259 260 261 262 263 264 265 266 267 268 269 270 271 272\n",
      " 273 274 275 276 277 278 279 280 281 284 285 286 287 288 289 290 291 293\n",
      " 294 295 296 297 298 299 301 302 303 304 305 306 307 308 309 310 311 312\n",
      " 313 314 315 316 317 319 320 321 322 325 326 327 328 329 330 332 333 335\n",
      " 336 337 338 340 341 343 344 345 346 347 348 349 350 352 353 354 355 356\n",
      " 357 358 359 360 362 363 364 366 370 373 374 376 378 379 380 381 382 383\n",
      " 384 385 386 387 388 389 390 391 392 393 394 395 396 398 399 400 401 402\n",
      " 403 404 405 406 407 408 409 410 412 413 414 415 416 417 418 419 420 421\n",
      " 423 424 426 427 428 429 430 431 432 433 434 436 437 438 439 440 442 443\n",
      " 444 445 448 449 450 451 453 454 455 456 457 458 459 460 461 462 463 464\n",
      " 465 466 467 468 469 470 472 473 474 476 477 478 479 480 481 482 483 484\n",
      " 486 487 488 489 491 493 494 495 496 498 500 501 502 503 504 505 506 507\n",
      " 509 510 511 513 515 517 518 519 520 521 523 524 526 527 528 531 532 533\n",
      " 534 535 536 537 538 540 541 542 543 544 545 547 548 549 554 555 556 557\n",
      " 558 559 561 562 563 564 566 567 568 570 572 573 574 575 576 578 579 580\n",
      " 581 583 584 586 588 589 590 591 592 596 597 599 600 602 603 604 605 606\n",
      " 607 608 609 611 612 613 614 615 617 618 619 620 621 622 623 625 626 628\n",
      " 629 630 631 632 633 634 636 637 638 639 640 641 642 643 645 648 649 650\n",
      " 652 653 654 655 656 657 658 660 661 664 665 667 668 669 670 671 672 673\n",
      " 674 675 676 677 678 679 680 681 682 683 684 686 687 688 689 692 693 695\n",
      " 696 697 698 700 701 703 706 707 708]\n",
      "Validation index: [  0   6  19  29  30  31  38  39  41  48  51  52  54  60  65  81  83  91\n",
      " 111 112 115 117 126 130 136 140 144 146 153 154 156 160 162 170 180 187\n",
      " 199 203 211 215 217 220 222 224 226 227 235 236 237 238 244 245 246 250\n",
      " 251 252 255 282 283 292 300 318 323 324 331 334 339 342 351 361 365 367\n",
      " 368 369 371 372 375 377 397 411 422 425 435 441 446 447 452 471 475 485\n",
      " 490 492 497 499 508 512 514 516 522 525 529 530 539 546 550 551 552 553\n",
      " 560 565 569 571 577 582 585 587 593 594 595 598 601 610 616 624 627 635\n",
      " 644 646 647 651 659 662 663 666 685 690 691 694 699 702 704 705]\n",
      "\n",
      "fold 4\n",
      "Training index: [  0   2   3   4   5   6   7   8   9  10  11  12  13  16  17  18  19  20\n",
      "  21  22  23  24  25  26  28  29  30  31  34  35  36  38  39  40  41  42\n",
      "  44  45  46  47  48  49  50  51  52  54  55  56  57  58  60  61  63  64\n",
      "  65  66  68  69  70  72  74  75  76  77  80  81  82  83  84  85  86  87\n",
      "  88  89  90  91  92  93  94  95  96  99 100 101 103 104 105 106 108 109\n",
      " 110 111 112 113 115 116 117 118 121 122 124 125 126 128 129 130 131 132\n",
      " 133 134 135 136 137 138 140 141 143 144 145 146 147 148 150 151 153 154\n",
      " 155 156 157 160 161 162 163 165 166 168 170 171 172 173 174 175 176 177\n",
      " 180 181 182 184 185 187 189 190 191 192 193 194 196 197 198 199 200 201\n",
      " 202 203 204 205 206 207 208 209 210 211 212 213 215 216 217 218 219 220\n",
      " 221 222 223 224 225 226 227 228 229 231 233 235 236 237 238 239 240 242\n",
      " 244 245 246 247 248 249 250 251 252 253 254 255 256 259 260 261 262 263\n",
      " 264 267 268 269 270 275 276 277 278 279 281 282 283 284 286 287 288 289\n",
      " 290 291 292 293 294 296 297 298 299 300 301 302 304 305 306 308 310 311\n",
      " 312 314 315 316 317 318 319 322 323 324 326 328 331 333 334 337 338 339\n",
      " 340 341 342 344 349 350 351 353 354 355 356 359 361 363 364 365 366 367\n",
      " 368 369 370 371 372 374 375 376 377 379 381 382 384 385 387 388 389 391\n",
      " 392 393 394 395 396 397 398 399 400 403 404 406 407 409 410 411 412 413\n",
      " 414 415 416 418 419 420 421 422 424 425 426 427 428 429 430 431 434 435\n",
      " 437 438 440 441 443 444 446 447 448 449 450 451 452 454 455 456 457 458\n",
      " 459 460 462 463 465 467 468 469 470 471 472 473 474 475 476 477 478 479\n",
      " 480 481 482 484 485 486 487 488 489 490 492 493 494 496 497 498 499 501\n",
      " 502 503 504 505 506 507 508 509 510 512 513 514 515 516 517 518 519 520\n",
      " 522 523 524 525 526 527 529 530 531 532 533 534 535 537 538 539 540 541\n",
      " 542 543 544 546 547 548 549 550 551 552 553 554 555 556 557 558 559 560\n",
      " 561 562 564 565 566 567 569 571 572 575 576 577 578 579 580 582 583 584\n",
      " 585 586 587 588 589 591 592 593 594 595 596 597 598 601 602 604 605 607\n",
      " 608 609 610 611 612 613 615 616 617 619 620 623 624 626 627 628 630 631\n",
      " 632 633 635 637 638 639 640 641 642 644 646 647 648 649 650 651 653 654\n",
      " 656 658 659 660 662 663 666 667 668 669 670 671 672 673 674 675 676 677\n",
      " 678 679 680 681 682 683 684 685 686 687 689 690 691 693 694 695 696 697\n",
      " 699 700 701 702 703 704 705 706 707 708]\n",
      "Validation index: [  1  14  15  27  32  33  37  43  53  59  62  67  71  73  78  79  97  98\n",
      " 102 107 114 119 120 123 127 139 142 149 152 158 159 164 167 169 178 179\n",
      " 183 186 188 195 214 230 232 234 241 243 257 258 265 266 271 272 273 274\n",
      " 280 285 295 303 307 309 313 320 321 325 327 329 330 332 335 336 343 345\n",
      " 346 347 348 352 357 358 360 362 373 378 380 383 386 390 401 402 405 408\n",
      " 417 423 432 433 436 439 442 445 453 461 464 466 483 491 495 500 511 521\n",
      " 528 536 545 563 568 570 573 574 581 590 599 600 603 606 614 618 621 622\n",
      " 625 629 634 636 643 645 652 655 657 661 664 665 688 692 698]\n",
      "\n"
     ]
    }
   ],
   "source": [
    "for k, (train_index, validate_index) in enumerate(folds):\n",
    "    print(f\"fold {k}\")\n",
    "    print(f\"Training index: {train_index}\")\n",
    "    print(f\"Validation index: {validate_index}\")\n",
    "    print()"
   ]
  },
  {
   "cell_type": "code",
   "execution_count": 34,
   "metadata": {},
   "outputs": [],
   "source": [
    "# TODO: In practice we will want to iterate over all combinations of parameters\n",
    "# for all embedding methods and also support PCA (which does not use a distance matrix as input).\n",
    "embedding_class = TSNE\n",
    "embedding_parameters = {\n",
    "    \"perplexity\": 30,\n",
    "    \"learning_rate\": 500\n",
    "}"
   ]
  },
  {
   "cell_type": "code",
   "execution_count": null,
   "metadata": {},
   "outputs": [],
   "source": [
    "# TODO: consider adding support for an exhaustive grid search of parameters \n",
    "# for different embeddings and the classifier:\n",
    "# https://scikit-learn.org/stable/modules/grid_search.html#exhaustive-grid-search\n",
    "accuracies = []\n",
    "for k, (training_index, validation_index) in enumerate(folds):    \n",
    "    # Subset distance matrix to training indices.\n",
    "    training_distance_matrix = distance_matrix[\n",
    "        training_index,\n",
    "        training_index\n",
    "    ]\n",
    "    \n",
    "    # Embed training distance matrix.\n",
    "    embedder = embedding_class(**embedding_parameters)\n",
    "    training_embedding = embedder.fit_transform(training_distance_matrix)\n",
    "    \n",
    "    # Calculate Euclidean distance between pairs of samples in the embedding.\n",
    "    # The output should be a data frame of distances between pairs.\n",
    "    training_embedding_distances = calculate_euclidean_distance_for_embedding(training_embedding)\n",
    "    \n",
    "    # Assign a binary class to each pair of samples based on their clade memberships.\n",
    "    # Samples from different clades are assigned 0, samples from the same clade as assigned 1.\n",
    "    # This vector of binary values will be the output to fit a classifier to.\n",
    "    # These pairs should be in the same order as the embedding distances above.\n",
    "    training_clade_status_for_pairs = assign_clade_status_to_pairs(\n",
    "        training_embedding_distances,\n",
    "        clade_annotations\n",
    "    )\n",
    "    \n",
    "    # Use a support vector machine classifier to identify an optimal threshold\n",
    "    # to distinguish between within and between class pairs.\n",
    "    # See also: https://scikit-learn.org/stable/modules/svm.html#svm-classification\n",
    "    classifier = svm.LinearSVC()\n",
    "    classifier.fit(embedding_distances, training_clade_status_for_pairs)\n",
    "    \n",
    "    # Subset distance matrix to validation indices.\n",
    "    validation_distance_matrix = distance_matrix[\n",
    "        validation_index,\n",
    "        validation_index\n",
    "    ]\n",
    "    \n",
    "    # Embed validation distance matrix.\n",
    "    validation_embedding = embedder.fit_transform(validation_distance_matrix)\n",
    "    \n",
    "    # Calculate Euclidean distance between pairs of samples in the embedding.\n",
    "    # The output should be a data frame of distances between pairs.\n",
    "    validation_embedding_distances = calculate_euclidean_distance_for_embedding(validation_embedding)\n",
    "    \n",
    "    # Assign a binary class to each pair of samples based on their clade memberships.\n",
    "    # Samples from different clades are assigned 0, samples from the same clade as assigned 1.\n",
    "    # This vector of binary values will be the output to fit a classifier to.\n",
    "    # These pairs should be in the same order as the embedding distances above.\n",
    "    validation_clade_status_for_pairs = assign_clade_status_to_pairs(\n",
    "        validation_embedding_distances,\n",
    "        clade_annotations\n",
    "    )\n",
    "\n",
    "    # Predict and score clade status from embedding distances and the trained classifier.\n",
    "    # The first argument is the set to predict classifier labels for. The second argument\n",
    "    # is the list of true labels. The return argument is the mean accuracy of the predicted\n",
    "    # labels.\n",
    "    # https://scikit-learn.org/stable/modules/generated/sklearn.svm.LinearSVC.html#sklearn.svm.LinearSVC.score\n",
    "    accuracy = classifier.score(\n",
    "        validation_embedding_distances,\n",
    "        validation_clade_status_for_pairs\n",
    "    )\n",
    "    \n",
    "    accuracies.append(accuracy)"
   ]
  },
  {
   "cell_type": "markdown",
   "metadata": {},
   "source": [
    "## Plot and summarize accuracies"
   ]
  },
  {
   "cell_type": "code",
   "execution_count": null,
   "metadata": {},
   "outputs": [],
   "source": [
    "# Print the mean accuracy and stddev\n",
    "print(f\"Accuracy: {np.mean(accuracies)} +/- {np.std(accuracies)}\")"
   ]
  },
  {
   "cell_type": "code",
   "execution_count": 33,
   "metadata": {},
   "outputs": [
    {
     "data": {
      "text/plain": [
       "array([0.        , 0.05263158, 0.10526316, 0.15789474, 0.21052632,\n",
       "       0.26315789, 0.31578947, 0.36842105, 0.42105263, 0.47368421,\n",
       "       0.52631579, 0.57894737, 0.63157895, 0.68421053, 0.73684211,\n",
       "       0.78947368, 0.84210526, 0.89473684, 0.94736842, 1.        ])"
      ]
     },
     "execution_count": 33,
     "metadata": {},
     "output_type": "execute_result"
    }
   ],
   "source": [
    "np.linspace(0, 1, 20)"
   ]
  },
  {
   "cell_type": "code",
   "execution_count": null,
   "metadata": {},
   "outputs": [],
   "source": [
    "fig, ax = plt.subplots(1, 1, figsize=(8, 6))\n",
    "bins = np.arange(0, 1.01, 0.1)\n",
    "\n",
    "ax.hist(accuracies, bins=bins)\n",
    "\n",
    "ax.set_xlabel(\"Accuracy of classifier\")\n",
    "ax.set_ylabel(\"Number of cross-validation folds\")"
   ]
  }
 ],
 "metadata": {
  "kernelspec": {
   "display_name": "Python 3",
   "language": "python",
   "name": "python3"
  },
  "language_info": {
   "codemirror_mode": {
    "name": "ipython",
    "version": 3
   },
   "file_extension": ".py",
   "mimetype": "text/x-python",
   "name": "python",
   "nbconvert_exporter": "python",
   "pygments_lexer": "ipython3",
   "version": "3.6.9"
  }
 },
 "nbformat": 4,
 "nbformat_minor": 4
}
