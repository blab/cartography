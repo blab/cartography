{
 "cells": [
  {
   "cell_type": "code",
   "execution_count": null,
   "id": "953fb04c",
   "metadata": {},
   "outputs": [],
   "source": [
    "import pandas as pd\n",
    "import seaborn as sns\n",
    "from matplotlib import pyplot as plt"
   ]
  },
  {
   "cell_type": "code",
   "execution_count": null,
   "id": "5ba0fefd",
   "metadata": {},
   "outputs": [],
   "source": [
    "accuracies = pd.read_csv(snakemake.input.accuracies)"
   ]
  },
  {
   "cell_type": "code",
   "execution_count": null,
   "id": "11db7939",
   "metadata": {},
   "outputs": [],
   "source": [
    "accuracies[\"distance_threshold\"] = accuracies[\"predicted_clusters_column\"].apply(\n",
    "    lambda value: float(value.split(\"_\")[-1])\n",
    ")"
   ]
  },
  {
   "cell_type": "code",
   "execution_count": null,
   "id": "be6c01b5",
   "metadata": {},
   "outputs": [],
   "source": [
    "g = sns.lmplot(\n",
    "    x=\"distance_threshold\",\n",
    "    y=\"normalized_vi\",\n",
    "    data=accuracies,\n",
    "    hue=\"method\",\n",
    "    col=\"method\",\n",
    "    col_wrap=2,\n",
    "    col_order=(\"pca\", \"mds\", \"t-sne\", \"umap\"),\n",
    "    fit_reg=False,\n",
    ")\n",
    "g.set_axis_labels(\n",
    "    \"HDBSCAN Euclidean distance threshold\",\n",
    "    \"normalized VI\",\n",
    ")\n",
    "g.set_titles\n",
    "plt.tight_layout()\n",
    "plt.savefig(snakemake.output.accuracies, dpi=300)"
   ]
  },
  {
   "cell_type": "code",
   "execution_count": null,
   "id": "0ba26e48",
   "metadata": {},
   "outputs": [],
   "source": []
  }
 ],
 "metadata": {
  "kernelspec": {
   "display_name": "Python 3 (ipykernel)",
   "language": "python",
   "name": "python3"
  },
  "language_info": {
   "codemirror_mode": {
    "name": "ipython",
    "version": 3
   },
   "file_extension": ".py",
   "mimetype": "text/x-python",
   "name": "python",
   "nbconvert_exporter": "python",
   "pygments_lexer": "ipython3",
   "version": "3.9.18"
  }
 },
 "nbformat": 4,
 "nbformat_minor": 5
}
