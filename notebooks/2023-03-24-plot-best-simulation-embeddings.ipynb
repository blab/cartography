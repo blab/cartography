{
 "cells": [
  {
   "cell_type": "code",
   "execution_count": null,
   "id": "134b4d44-6b91-4e44-9478-4fa8410b599a",
   "metadata": {},
   "outputs": [],
   "source": [
    "import matplotlib.pyplot as plt\n",
    "import pandas as pd\n",
    "import seaborn as sns"
   ]
  },
  {
   "cell_type": "code",
   "execution_count": null,
   "id": "83a8a62b-bf11-46f7-8af8-202fdbd10ec6",
   "metadata": {},
   "outputs": [],
   "source": [
    "influenza_pca = pd.read_csv(\n",
    "    \"simulations/influenza-like/no-reassortment/replicate-4/gridsearch/train_test_9/params_components~2/perplexity~nan/learning_rate~nan/method~pca/nearest_neighbors~nan/min_dist~nan/test_embedding.csv\",\n",
    "    index_col=\"strain\",\n",
    ")"
   ]
  },
  {
   "cell_type": "code",
   "execution_count": null,
   "id": "3658e20b-f6d6-472a-af3d-0a2fb789b93d",
   "metadata": {},
   "outputs": [],
   "source": [
    "influenza_pca.head()"
   ]
  },
  {
   "cell_type": "code",
   "execution_count": null,
   "id": "3a4f67c7-2de3-49c4-bc15-51e7ed760fc7",
   "metadata": {},
   "outputs": [],
   "source": [
    "influenza_mds = pd.read_csv(\n",
    "    \"simulations/influenza-like/no-reassortment/replicate-4/gridsearch/train_test_9/params_components~3/perplexity~nan/learning_rate~nan/method~mds/nearest_neighbors~nan/min_dist~nan/test_embedding.csv\",\n",
    "    index_col=\"strain\",\n",
    ")"
   ]
  },
  {
   "cell_type": "code",
   "execution_count": null,
   "id": "9d90b60a-d1f4-417e-be78-8aff488a1ae3",
   "metadata": {},
   "outputs": [],
   "source": [
    "influenza_mds.head()"
   ]
  },
  {
   "cell_type": "code",
   "execution_count": null,
   "id": "e2b545c8-91d5-4f30-9dee-62c5c8fa8817",
   "metadata": {},
   "outputs": [],
   "source": [
    "influenza_tsne = pd.read_csv(\n",
    "    \"simulations/influenza-like/no-reassortment/replicate-4/gridsearch/train_test_9/params_components~nan/perplexity~100.0/learning_rate~200.0/method~t-sne/nearest_neighbors~nan/min_dist~nan/test_embedding.csv\",\n",
    "    index_col=\"strain\",\n",
    ")"
   ]
  },
  {
   "cell_type": "code",
   "execution_count": null,
   "id": "19dd75e4-e083-46ec-8461-9aab84b88c74",
   "metadata": {},
   "outputs": [],
   "source": [
    "influenza_tsne.head()"
   ]
  },
  {
   "cell_type": "code",
   "execution_count": null,
   "id": "bb84716f-bfc6-4f44-aebc-2b393679e3d3",
   "metadata": {},
   "outputs": [],
   "source": [
    "influenza_umap = pd.read_csv(\n",
    "    \"simulations/influenza-like/no-reassortment/replicate-4/gridsearch/train_test_9/params_components~nan/perplexity~nan/learning_rate~nan/method~umap/nearest_neighbors~100/min_dist~0.25/test_embedding.csv\",\n",
    "    index_col=\"strain\",\n",
    ")"
   ]
  },
  {
   "cell_type": "code",
   "execution_count": null,
   "id": "f964e584-d4d2-44a9-b8e5-42c11e7e49ec",
   "metadata": {},
   "outputs": [],
   "source": [
    "influenza_umap.head()"
   ]
  },
  {
   "cell_type": "code",
   "execution_count": null,
   "id": "0056fcc1-14a4-441f-a673-782801267ccf",
   "metadata": {},
   "outputs": [],
   "source": [
    "coronavirus_low_pca = pd.read_csv(\n",
    "    \"\",\n",
    "    index_col=\"strain\",\n",
    ")"
   ]
  },
  {
   "cell_type": "code",
   "execution_count": null,
   "id": "72a97785-1ee9-41e5-b607-24ba155fe4e4",
   "metadata": {},
   "outputs": [],
   "source": [
    "fig, axes = plt.subplots(4, 4, figsize=(8, 8), dpi=300)\n",
    "alpha = 0.2\n",
    "\n",
    "# Influenza\n",
    "\n",
    "## PCA\n",
    "axes[0][0].plot(\n",
    "    influenza_pca[\"pca1\"],\n",
    "    influenza_pca[\"pca2\"],\n",
    "    \"o\",\n",
    "    alpha=alpha,\n",
    ")\n",
    "\n",
    "## MDS\n",
    "axes[0][1].plot(\n",
    "    influenza_mds[\"mds1\"],\n",
    "    influenza_mds[\"mds2\"],\n",
    "    \"o\",\n",
    "    alpha=alpha,\n",
    ")\n",
    "\n",
    "## t-SNE\n",
    "axes[0][2].plot(\n",
    "    influenza_tsne[\"tsne_x\"],\n",
    "    influenza_tsne[\"tsne_y\"],\n",
    "    \"o\",\n",
    "    alpha=alpha,\n",
    ")\n",
    "\n",
    "## UMAP\n",
    "axes[0][3].plot(\n",
    "    influenza_umap[\"umap_x\"],\n",
    "    influenza_umap[\"umap_y\"],\n",
    "    \"o\",\n",
    "    alpha=alpha,\n",
    ")\n",
    "\n",
    "# Coronavirus-like (low recombination rate)\n",
    "\n",
    "## PCA\n",
    "axes[1][0].plot(\n",
    "    coronavirus_low_pca[\"pca1\"],\n",
    "    coronavirus_low_pca[\"pca2\"],\n",
    "    \"o\",\n",
    "    alpha=alpha,\n",
    ")\n",
    "\n",
    "## MDS\n",
    "axes[1][1].plot(\n",
    "    coronavirus_low_mds[\"mds1\"],\n",
    "    coronavirus_low_mds[\"mds2\"],\n",
    "    \"o\",\n",
    "    alpha=alpha,\n",
    ")\n",
    "\n",
    "## t-SNE\n",
    "axes[1][2].plot(\n",
    "    coronavirus_low_tsne[\"tsne_x\"],\n",
    "    coronavirus_low_tsne[\"tsne_y\"],\n",
    "    \"o\",\n",
    "    alpha=alpha,\n",
    ")\n",
    "\n",
    "## UMAP\n",
    "axes[1][3].plot(\n",
    "    coronavirus_low_umap[\"umap_x\"],\n",
    "    coronavirus_low_umap[\"umap_y\"],\n",
    "    \"o\",\n",
    "    alpha=alpha,\n",
    ")\n",
    "\n",
    "sns.despine()"
   ]
  },
  {
   "cell_type": "code",
   "execution_count": null,
   "id": "487ecf47-4978-4995-ac4f-434122c5e626",
   "metadata": {},
   "outputs": [],
   "source": []
  }
 ],
 "metadata": {
  "kernelspec": {
   "display_name": "Python 3",
   "language": "python",
   "name": "python3"
  },
  "language_info": {
   "codemirror_mode": {
    "name": "ipython",
    "version": 3
   },
   "file_extension": ".py",
   "mimetype": "text/x-python",
   "name": "python",
   "nbconvert_exporter": "python",
   "pygments_lexer": "ipython3",
   "version": "3.7.10"
  }
 },
 "nbformat": 4,
 "nbformat_minor": 5
}
