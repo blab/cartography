{
 "cells": [
  {
   "cell_type": "code",
   "execution_count": null,
   "id": "134b4d44-6b91-4e44-9478-4fa8410b599a",
   "metadata": {},
   "outputs": [],
   "source": [
    "import matplotlib.pyplot as plt\n",
    "import pandas as pd\n",
    "import seaborn as sns"
   ]
  },
  {
   "cell_type": "code",
   "execution_count": null,
   "id": "64098afc-78cf-4e91-958d-2d5fbb352356",
   "metadata": {},
   "outputs": [],
   "source": [
    "influenza_metadata = pd.read_csv(\n",
    "    \"../simulations/influenza-like/no-reassortment/replicate-4/metadata.tsv\",\n",
    "    sep=\"\\t\",\n",
    "    index_col=\"strain\",\n",
    ")"
   ]
  },
  {
   "cell_type": "code",
   "execution_count": null,
   "id": "05de448e-c236-481a-a0d1-94a14fdd8acc",
   "metadata": {},
   "outputs": [],
   "source": [
    "influenza_metadata.head()"
   ]
  },
  {
   "cell_type": "code",
   "execution_count": null,
   "id": "a7d5de62-f167-4cfc-86fa-94b5639329f3",
   "metadata": {},
   "outputs": [],
   "source": [
    "influenza_metadata.shape"
   ]
  },
  {
   "cell_type": "code",
   "execution_count": null,
   "id": "83a8a62b-bf11-46f7-8af8-202fdbd10ec6",
   "metadata": {},
   "outputs": [],
   "source": [
    "influenza_pca = pd.read_csv(\n",
    "    \"../simulations/influenza-like/no-reassortment/replicate-4/gridsearch/train_test_9/params_components~2/perplexity~nan/learning_rate~nan/method~pca/nearest_neighbors~nan/min_dist~nan/test_embedding.csv\",\n",
    "    index_col=\"strain\",\n",
    ").join(\n",
    "    influenza_metadata,\n",
    ")"
   ]
  },
  {
   "cell_type": "code",
   "execution_count": null,
   "id": "3658e20b-f6d6-472a-af3d-0a2fb789b93d",
   "metadata": {},
   "outputs": [],
   "source": [
    "influenza_pca.head()"
   ]
  },
  {
   "cell_type": "code",
   "execution_count": null,
   "id": "d4933047-ef16-47d4-8cdb-8b77e7d73707",
   "metadata": {},
   "outputs": [],
   "source": [
    "influenza_pca.shape"
   ]
  },
  {
   "cell_type": "code",
   "execution_count": null,
   "id": "3a4f67c7-2de3-49c4-bc15-51e7ed760fc7",
   "metadata": {},
   "outputs": [],
   "source": [
    "influenza_mds = pd.read_csv(\n",
    "    \"../simulations/influenza-like/no-reassortment/replicate-4/gridsearch/train_test_9/params_components~3/perplexity~nan/learning_rate~nan/method~mds/nearest_neighbors~nan/min_dist~nan/test_embedding.csv\",\n",
    "    index_col=\"strain\",\n",
    ").join(\n",
    "    influenza_metadata,\n",
    ")"
   ]
  },
  {
   "cell_type": "code",
   "execution_count": null,
   "id": "9d90b60a-d1f4-417e-be78-8aff488a1ae3",
   "metadata": {},
   "outputs": [],
   "source": [
    "influenza_mds.head()"
   ]
  },
  {
   "cell_type": "code",
   "execution_count": null,
   "id": "e2b545c8-91d5-4f30-9dee-62c5c8fa8817",
   "metadata": {},
   "outputs": [],
   "source": [
    "influenza_tsne = pd.read_csv(\n",
    "    \"../simulations/influenza-like/no-reassortment/replicate-4/gridsearch/train_test_9/params_components~nan/perplexity~100.0/learning_rate~200.0/method~t-sne/nearest_neighbors~nan/min_dist~nan/test_embedding.csv\",\n",
    "    index_col=\"strain\",\n",
    ").join(\n",
    "    influenza_metadata,\n",
    ")"
   ]
  },
  {
   "cell_type": "code",
   "execution_count": null,
   "id": "19dd75e4-e083-46ec-8461-9aab84b88c74",
   "metadata": {},
   "outputs": [],
   "source": [
    "influenza_tsne.head()"
   ]
  },
  {
   "cell_type": "code",
   "execution_count": null,
   "id": "bb84716f-bfc6-4f44-aebc-2b393679e3d3",
   "metadata": {},
   "outputs": [],
   "source": [
    "influenza_umap = pd.read_csv(\n",
    "    \"../simulations/influenza-like/no-reassortment/replicate-4/gridsearch/train_test_9/params_components~nan/perplexity~nan/learning_rate~nan/method~umap/nearest_neighbors~100/min_dist~0.25/test_embedding.csv\",\n",
    "    index_col=\"strain\",\n",
    ").join(\n",
    "    influenza_metadata,\n",
    ")"
   ]
  },
  {
   "cell_type": "code",
   "execution_count": null,
   "id": "f964e584-d4d2-44a9-b8e5-42c11e7e49ec",
   "metadata": {},
   "outputs": [],
   "source": [
    "influenza_umap.head()"
   ]
  },
  {
   "cell_type": "code",
   "execution_count": null,
   "id": "fecbba14-8de9-4091-9d47-35374ca16ba9",
   "metadata": {},
   "outputs": [],
   "source": [
    "coronavirus_low_metadata = pd.read_csv(\n",
    "    \"../simulations/coronavirus-like/low-recombination-rate/replicate-4/metadata.tsv\",\n",
    "    sep=\"\\t\",\n",
    "    index_col=\"strain\",\n",
    ")"
   ]
  },
  {
   "cell_type": "code",
   "execution_count": null,
   "id": "8c89f602-b3cb-46d8-9845-31c0cc761b76",
   "metadata": {},
   "outputs": [],
   "source": [
    "coronavirus_low_metadata.head()"
   ]
  },
  {
   "cell_type": "code",
   "execution_count": null,
   "id": "0056fcc1-14a4-441f-a673-782801267ccf",
   "metadata": {},
   "outputs": [],
   "source": [
    "coronavirus_low_pca = pd.read_csv(\n",
    "    \"../simulations/coronavirus-like/low-recombination-rate/replicate-4/gridsearch/train_test_9/params_components~2/perplexity~nan/learning_rate~nan/method~pca/nearest_neighbors~nan/min_dist~nan/test_embedding.csv\",\n",
    "    index_col=\"strain\",\n",
    ").join(\n",
    "    coronavirus_low_metadata,\n",
    ")"
   ]
  },
  {
   "cell_type": "code",
   "execution_count": null,
   "id": "2bac61b9-6fd5-4612-b834-ca054de76788",
   "metadata": {},
   "outputs": [],
   "source": [
    "coronavirus_low_pca.head()"
   ]
  },
  {
   "cell_type": "code",
   "execution_count": null,
   "id": "5aa9e635-9a61-400e-ad75-a8e45b240c74",
   "metadata": {},
   "outputs": [],
   "source": [
    "coronavirus_low_pca.shape"
   ]
  },
  {
   "cell_type": "code",
   "execution_count": null,
   "id": "94126501-3d83-48fe-a6c0-1b8cb3f0201e",
   "metadata": {},
   "outputs": [],
   "source": [
    "coronavirus_low_pca[\"is_recombinant\"].sum()"
   ]
  },
  {
   "cell_type": "code",
   "execution_count": null,
   "id": "8797fe85-d951-4a9b-aaa8-af96b0589aa1",
   "metadata": {},
   "outputs": [],
   "source": [
    "coronavirus_low_mds = pd.read_csv(\n",
    "    \"../simulations/coronavirus-like/low-recombination-rate/replicate-4/gridsearch/train_test_9/params_components~3/perplexity~nan/learning_rate~nan/method~mds/nearest_neighbors~nan/min_dist~nan/test_embedding.csv\",\n",
    "    index_col=\"strain\",\n",
    ").join(\n",
    "    coronavirus_low_metadata,\n",
    ")"
   ]
  },
  {
   "cell_type": "code",
   "execution_count": null,
   "id": "1db41b43-518d-4ee9-9109-86dbfd4e0b7f",
   "metadata": {},
   "outputs": [],
   "source": [
    "coronavirus_low_mds.head()"
   ]
  },
  {
   "cell_type": "code",
   "execution_count": null,
   "id": "f58ca49a-ddf8-4042-8d1b-fd4d1552830e",
   "metadata": {},
   "outputs": [],
   "source": [
    "coronavirus_low_tsne = pd.read_csv(\n",
    "    \"../simulations/coronavirus-like/low-recombination-rate/replicate-4/gridsearch/train_test_9/params_components~nan/perplexity~200.0/learning_rate~200.0/method~t-sne/nearest_neighbors~nan/min_dist~nan/test_embedding.csv\",\n",
    "    index_col=\"strain\",\n",
    ").join(\n",
    "    coronavirus_low_metadata,\n",
    ")"
   ]
  },
  {
   "cell_type": "code",
   "execution_count": null,
   "id": "4d85c8ab-93e5-44ed-96c2-2b4b9ae842a2",
   "metadata": {},
   "outputs": [],
   "source": [
    "coronavirus_low_tsne.head()"
   ]
  },
  {
   "cell_type": "code",
   "execution_count": null,
   "id": "ba27e573-b0cb-4eec-b225-61e0a63c613b",
   "metadata": {},
   "outputs": [],
   "source": [
    "coronavirus_low_umap = pd.read_csv(\n",
    "    \"../simulations/coronavirus-like/low-recombination-rate/replicate-4/gridsearch/train_test_9/params_components~nan/perplexity~nan/learning_rate~nan/method~umap/nearest_neighbors~50/min_dist~0.1/test_embedding.csv\",\n",
    "    index_col=\"strain\",\n",
    ").join(\n",
    "    coronavirus_low_metadata,\n",
    ")"
   ]
  },
  {
   "cell_type": "code",
   "execution_count": null,
   "id": "74347929-cf78-4006-9760-e308ef58d294",
   "metadata": {},
   "outputs": [],
   "source": [
    "coronavirus_low_umap.head()"
   ]
  },
  {
   "cell_type": "code",
   "execution_count": null,
   "id": "13caaa62-ee3f-458c-9e8e-018de7bff770",
   "metadata": {},
   "outputs": [],
   "source": [
    "coronavirus_moderate_metadata = pd.read_csv(\n",
    "    \"../simulations/coronavirus-like/moderate-recombination-rate/replicate-4/metadata.tsv\",\n",
    "    sep=\"\\t\",\n",
    "    index_col=\"strain\",\n",
    ")"
   ]
  },
  {
   "cell_type": "code",
   "execution_count": null,
   "id": "607f940c-7999-4be6-acf6-efc45b600369",
   "metadata": {},
   "outputs": [],
   "source": [
    "coronavirus_moderate_metadata.head()"
   ]
  },
  {
   "cell_type": "code",
   "execution_count": null,
   "id": "3aaf8215-01e7-4211-9ff2-d100b67ce212",
   "metadata": {},
   "outputs": [],
   "source": [
    "coronavirus_moderate_pca = pd.read_csv(\n",
    "    \"../simulations/coronavirus-like/moderate-recombination-rate/replicate-4/gridsearch/train_test_9/params_components~2/perplexity~nan/learning_rate~nan/method~pca/nearest_neighbors~nan/min_dist~nan/test_embedding.csv\",\n",
    "    index_col=\"strain\",\n",
    ").join(\n",
    "    coronavirus_moderate_metadata,\n",
    ")"
   ]
  },
  {
   "cell_type": "code",
   "execution_count": null,
   "id": "55a35dec-ccdd-42ed-a2c8-59899f6c9012",
   "metadata": {},
   "outputs": [],
   "source": [
    "coronavirus_moderate_pca.head()"
   ]
  },
  {
   "cell_type": "code",
   "execution_count": null,
   "id": "dac2e98d-69d0-4b16-b874-77e92b9a93d5",
   "metadata": {},
   "outputs": [],
   "source": [
    "coronavirus_moderate_pca[\"is_recombinant\"].sum()"
   ]
  },
  {
   "cell_type": "code",
   "execution_count": null,
   "id": "d4045a2d-3066-4a4f-aa34-e96d3e4a3550",
   "metadata": {},
   "outputs": [],
   "source": [
    "coronavirus_moderate_mds = pd.read_csv(\n",
    "    \"../simulations/coronavirus-like/moderate-recombination-rate/replicate-4/gridsearch/train_test_9/params_components~3/perplexity~nan/learning_rate~nan/method~mds/nearest_neighbors~nan/min_dist~nan/test_embedding.csv\",\n",
    "    index_col=\"strain\",\n",
    ").join(\n",
    "    coronavirus_moderate_metadata,\n",
    ")"
   ]
  },
  {
   "cell_type": "code",
   "execution_count": null,
   "id": "050436f6-6168-42f9-8ad9-e4e54367a1e4",
   "metadata": {},
   "outputs": [],
   "source": [
    "coronavirus_moderate_mds.head()"
   ]
  },
  {
   "cell_type": "code",
   "execution_count": null,
   "id": "3494737d-ea70-4d55-a0cd-94db57343b88",
   "metadata": {},
   "outputs": [],
   "source": [
    "coronavirus_moderate_tsne = pd.read_csv(\n",
    "    \"../simulations/coronavirus-like/moderate-recombination-rate/replicate-4/gridsearch/train_test_9/params_components~nan/perplexity~100.0/learning_rate~500.0/method~t-sne/nearest_neighbors~nan/min_dist~nan/test_embedding.csv\",\n",
    "    index_col=\"strain\",\n",
    ").join(\n",
    "    coronavirus_moderate_metadata,\n",
    ")"
   ]
  },
  {
   "cell_type": "code",
   "execution_count": null,
   "id": "005f35fa-e6f3-4929-a195-36043ee7dfb9",
   "metadata": {},
   "outputs": [],
   "source": [
    "coronavirus_moderate_tsne.head()"
   ]
  },
  {
   "cell_type": "code",
   "execution_count": null,
   "id": "e4e3ef74-8441-4b34-a462-9e3619be073e",
   "metadata": {},
   "outputs": [],
   "source": [
    "coronavirus_moderate_umap = pd.read_csv(\n",
    "    \"../simulations/coronavirus-like/moderate-recombination-rate/replicate-4/gridsearch/train_test_9/params_components~nan/perplexity~nan/learning_rate~nan/method~umap/nearest_neighbors~100/min_dist~0.05/test_embedding.csv\",\n",
    "    index_col=\"strain\",\n",
    ").join(\n",
    "    coronavirus_moderate_metadata,\n",
    ")"
   ]
  },
  {
   "cell_type": "code",
   "execution_count": null,
   "id": "bd6c78b6-7d15-40da-8c37-11197cbb6da1",
   "metadata": {},
   "outputs": [],
   "source": [
    "coronavirus_moderate_umap.head()"
   ]
  },
  {
   "cell_type": "code",
   "execution_count": null,
   "id": "0d9deb55-40c2-47a6-9ad8-275db1cae79c",
   "metadata": {},
   "outputs": [],
   "source": [
    "coronavirus_high_metadata = pd.read_csv(\n",
    "    \"../simulations/coronavirus-like/high-recombination-rate/replicate-4/metadata.tsv\",\n",
    "    sep=\"\\t\",\n",
    "    index_col=\"strain\",\n",
    ")"
   ]
  },
  {
   "cell_type": "code",
   "execution_count": null,
   "id": "3356e434-ca94-4a4e-8b4b-513f3e0c6738",
   "metadata": {},
   "outputs": [],
   "source": [
    "coronavirus_high_pca = pd.read_csv(\n",
    "    \"../simulations/coronavirus-like/high-recombination-rate/replicate-4/gridsearch/train_test_9/params_components~2/perplexity~nan/learning_rate~nan/method~pca/nearest_neighbors~nan/min_dist~nan/test_embedding.csv\",\n",
    "    index_col=\"strain\",\n",
    ").join(\n",
    "    coronavirus_high_metadata,\n",
    ")"
   ]
  },
  {
   "cell_type": "code",
   "execution_count": null,
   "id": "14e82c3c-d3f6-4743-a213-9db32cb95991",
   "metadata": {},
   "outputs": [],
   "source": [
    "coronavirus_high_pca.head()"
   ]
  },
  {
   "cell_type": "code",
   "execution_count": null,
   "id": "335dd7f4-f31b-4012-ae0c-ae62bb16d66e",
   "metadata": {},
   "outputs": [],
   "source": [
    "coronavirus_high_pca[\"is_recombinant\"].sum()"
   ]
  },
  {
   "cell_type": "code",
   "execution_count": null,
   "id": "ea9b556b-ca40-4429-a2e0-4131c8b29adf",
   "metadata": {},
   "outputs": [],
   "source": [
    "coronavirus_high_mds = pd.read_csv(\n",
    "    \"../simulations/coronavirus-like/high-recombination-rate/replicate-4/gridsearch/train_test_9/params_components~3/perplexity~nan/learning_rate~nan/method~mds/nearest_neighbors~nan/min_dist~nan/test_embedding.csv\",\n",
    "    index_col=\"strain\",\n",
    ").join(\n",
    "    coronavirus_high_metadata,\n",
    ")"
   ]
  },
  {
   "cell_type": "code",
   "execution_count": null,
   "id": "d514c902-2ec8-4234-8dcf-b09ecdb8fcc3",
   "metadata": {},
   "outputs": [],
   "source": [
    "coronavirus_high_mds.head()"
   ]
  },
  {
   "cell_type": "code",
   "execution_count": null,
   "id": "812a6887-7c22-4cd8-ae90-2eacc44fd964",
   "metadata": {},
   "outputs": [],
   "source": [
    "coronavirus_high_tsne = pd.read_csv(\n",
    "    \"../simulations/coronavirus-like/high-recombination-rate/replicate-4/gridsearch/train_test_9/params_components~nan/perplexity~100.0/learning_rate~100.0/method~t-sne/nearest_neighbors~nan/min_dist~nan/test_embedding.csv\",\n",
    "    index_col=\"strain\",\n",
    ").join(\n",
    "    coronavirus_high_metadata,\n",
    ")"
   ]
  },
  {
   "cell_type": "code",
   "execution_count": null,
   "id": "d5851892-3bbc-483e-92ce-0bb9f0141658",
   "metadata": {},
   "outputs": [],
   "source": [
    "coronavirus_high_tsne.head()"
   ]
  },
  {
   "cell_type": "code",
   "execution_count": null,
   "id": "1b91cdc2-629e-4b69-b2ac-72e1b36263d3",
   "metadata": {},
   "outputs": [],
   "source": [
    "coronavirus_high_umap = pd.read_csv(\n",
    "    \"../simulations/coronavirus-like/high-recombination-rate/replicate-4/gridsearch/train_test_9/params_components~nan/perplexity~nan/learning_rate~nan/method~umap/nearest_neighbors~50/min_dist~0.05/test_embedding.csv\",\n",
    "    index_col=\"strain\",\n",
    ").join(\n",
    "    coronavirus_high_metadata,\n",
    ")"
   ]
  },
  {
   "cell_type": "code",
   "execution_count": null,
   "id": "4ac1e842-f571-447b-865a-e849d4a49255",
   "metadata": {},
   "outputs": [],
   "source": [
    "coronavirus_high_umap.head()"
   ]
  },
  {
   "cell_type": "code",
   "execution_count": null,
   "id": "72a97785-1ee9-41e5-b607-24ba155fe4e4",
   "metadata": {},
   "outputs": [],
   "source": [
    "fig, axes = plt.subplots(\n",
    "    nrows=4,\n",
    "    ncols=4,\n",
    "    figsize=(8, 8),\n",
    "    dpi=300,\n",
    "    gridspec_kw={\n",
    "        \"wspace\": 0.0,\n",
    "        \"hspace\": 0.0\n",
    "    },\n",
    "    constrained_layout=False,\n",
    ")\n",
    "\n",
    "alpha = 0.25\n",
    "size = 10\n",
    "recombinant_size = 150\n",
    "\n",
    "# Influenza\n",
    "\n",
    "## PCA\n",
    "axes[0][0] = sns.scatterplot(\n",
    "    data=influenza_pca,\n",
    "    x=\"pca1\",\n",
    "    y=\"pca2\",\n",
    "    hue=\"generation\",\n",
    "    ax=axes[0][0],\n",
    "    alpha=alpha,\n",
    "    s=size,\n",
    "    legend=False,\n",
    ")\n",
    "\n",
    "\n",
    "## MDS\n",
    "axes[0][1] = sns.scatterplot(\n",
    "    data=influenza_mds,\n",
    "    x=\"mds1\",\n",
    "    y=\"mds2\",\n",
    "    hue=\"generation\",\n",
    "    ax=axes[0][1],\n",
    "    alpha=alpha,\n",
    "    s=size,\n",
    "    legend=False,\n",
    ")\n",
    "\n",
    "## t-SNE\n",
    "axes[0][2] = sns.scatterplot(\n",
    "    data=influenza_tsne,\n",
    "    x=\"tsne_x\",\n",
    "    y=\"tsne_y\",\n",
    "    hue=\"generation\",\n",
    "    ax=axes[0][2],\n",
    "    alpha=alpha,\n",
    "    s=size,\n",
    "    legend=False,\n",
    ")\n",
    "\n",
    "## UMAP\n",
    "axes[0][3] = sns.scatterplot(\n",
    "    data=influenza_umap,\n",
    "    x=\"umap_x\",\n",
    "    y=\"umap_y\",\n",
    "    hue=\"generation\",\n",
    "    ax=axes[0][3],\n",
    "    alpha=alpha,\n",
    "    s=size,\n",
    "    legend=False,\n",
    ")\n",
    "\n",
    "# Coronavirus-like (low recombination rate)\n",
    "\n",
    "## PCA\n",
    "axes[1][0] = sns.scatterplot(\n",
    "    data=coronavirus_low_pca,\n",
    "    x=\"pca1\",\n",
    "    y=\"pca2\",\n",
    "    hue=\"generation\",\n",
    "    ax=axes[1][0],\n",
    "    alpha=alpha,\n",
    "    s=size,\n",
    "    legend=False,\n",
    ")\n",
    "\n",
    "## MDS\n",
    "axes[1][1] = sns.scatterplot(\n",
    "    data=coronavirus_low_mds,\n",
    "    x=\"mds1\",\n",
    "    y=\"mds2\",\n",
    "    hue=\"generation\",\n",
    "    ax=axes[1][1],\n",
    "    alpha=alpha,\n",
    "    s=size,\n",
    "    legend=False,\n",
    ")\n",
    "\n",
    "## t-SNE\n",
    "axes[1][2] = sns.scatterplot(\n",
    "    data=coronavirus_low_tsne,\n",
    "    x=\"tsne_x\",\n",
    "    y=\"tsne_y\",\n",
    "    hue=\"generation\",\n",
    "    ax=axes[1][2],\n",
    "    alpha=alpha,\n",
    "    s=size,\n",
    "    legend=False,\n",
    ")\n",
    "\n",
    "## UMAP\n",
    "axes[1][3] = sns.scatterplot(\n",
    "    data=coronavirus_low_umap,\n",
    "    x=\"umap_x\",\n",
    "    y=\"umap_y\",\n",
    "    hue=\"generation\",\n",
    "    ax=axes[1][3],\n",
    "    alpha=alpha,\n",
    "    s=size,\n",
    "    legend=False,\n",
    ")\n",
    "\n",
    "# Coronavirus-like (moderate recombination rate)\n",
    "\n",
    "## PCA\n",
    "axes[2][0] = sns.scatterplot(\n",
    "    data=coronavirus_moderate_pca,\n",
    "    x=\"pca1\",\n",
    "    y=\"pca2\",\n",
    "    hue=\"generation\",\n",
    "    style=\"is_recombinant\",\n",
    "    size=\"is_recombinant\",\n",
    "    sizes={True: recombinant_size, False: size},    \n",
    "    ax=axes[2][0],\n",
    "    alpha=alpha,\n",
    "    legend=False,\n",
    ")\n",
    "\n",
    "## MDS\n",
    "axes[2][1] = sns.scatterplot(\n",
    "    data=coronavirus_moderate_mds,\n",
    "    x=\"mds1\",\n",
    "    y=\"mds2\",\n",
    "    hue=\"generation\",\n",
    "    style=\"is_recombinant\",\n",
    "    size=\"is_recombinant\",\n",
    "    sizes={True: recombinant_size, False: size},    \n",
    "    ax=axes[2][1],\n",
    "    alpha=alpha,\n",
    "    legend=False,\n",
    ")\n",
    "\n",
    "## t-SNE\n",
    "axes[2][2] = sns.scatterplot(\n",
    "    data=coronavirus_moderate_tsne,\n",
    "    x=\"tsne_x\",\n",
    "    y=\"tsne_y\",\n",
    "    hue=\"generation\",\n",
    "    style=\"is_recombinant\",\n",
    "    size=\"is_recombinant\",\n",
    "    sizes={True: recombinant_size, False: size},\n",
    "    ax=axes[2][2],\n",
    "    alpha=alpha,\n",
    "    legend=False,\n",
    ")\n",
    "\n",
    "## UMAP\n",
    "axes[2][3] = sns.scatterplot(\n",
    "    data=coronavirus_moderate_umap,\n",
    "    x=\"umap_x\",\n",
    "    y=\"umap_y\",\n",
    "    hue=\"generation\",\n",
    "    style=\"is_recombinant\",\n",
    "    size=\"is_recombinant\",\n",
    "    sizes={True: recombinant_size, False: size},\n",
    "    ax=axes[2][3],\n",
    "    alpha=alpha,\n",
    "    legend=False,\n",
    ")\n",
    "\n",
    "# Coronavirus-like (high recombination rate)\n",
    "\n",
    "## PCA\n",
    "axes[3][0] = sns.scatterplot(\n",
    "    data=coronavirus_high_pca,\n",
    "    x=\"pca1\",\n",
    "    y=\"pca2\",\n",
    "    hue=\"generation\",\n",
    "    style=\"is_recombinant\",\n",
    "    size=\"is_recombinant\",\n",
    "    sizes={True: recombinant_size, False: size},\n",
    "    ax=axes[3][0],\n",
    "    alpha=alpha,\n",
    "    legend=False,\n",
    ")\n",
    "\n",
    "## MDS\n",
    "axes[3][1] = sns.scatterplot(\n",
    "    data=coronavirus_high_mds,\n",
    "    x=\"mds1\",\n",
    "    y=\"mds2\",\n",
    "    hue=\"generation\",\n",
    "    style=\"is_recombinant\",\n",
    "    size=\"is_recombinant\",\n",
    "    sizes={True: recombinant_size, False: size},\n",
    "    ax=axes[3][1],\n",
    "    alpha=alpha,\n",
    "    legend=False,\n",
    ")\n",
    "\n",
    "## t-SNE\n",
    "axes[3][2] = sns.scatterplot(\n",
    "    data=coronavirus_high_tsne,\n",
    "    x=\"tsne_x\",\n",
    "    y=\"tsne_y\",\n",
    "    hue=\"generation\",\n",
    "    style=\"is_recombinant\",\n",
    "    size=\"is_recombinant\",\n",
    "    sizes={True: recombinant_size, False: size},\n",
    "    ax=axes[3][2],\n",
    "    alpha=alpha,\n",
    "    legend=False,\n",
    ")\n",
    "\n",
    "## UMAP\n",
    "axes[3][3] = sns.scatterplot(\n",
    "    data=coronavirus_high_umap,\n",
    "    x=\"umap_x\",\n",
    "    y=\"umap_y\",\n",
    "    hue=\"generation\",\n",
    "    style=\"is_recombinant\",\n",
    "    size=\"is_recombinant\",\n",
    "    sizes={True: recombinant_size, False: size},\n",
    "    ax=axes[3][3],\n",
    "    alpha=alpha,\n",
    "    legend=False,\n",
    ")\n",
    "\n",
    "for ax in axes.flatten():\n",
    "    ax.set_xlabel(\"\")\n",
    "    ax.set_ylabel(\"\")\n",
    "    ax.set_xticks([])\n",
    "    ax.set_yticks([])\n",
    "    \n",
    "axes[0][0].set_title(\"PCA\")\n",
    "axes[0][1].set_title(\"MDS\")\n",
    "axes[0][2].set_title(\"t-SNE\")\n",
    "axes[0][3].set_title(\"UMAP\")\n",
    "\n",
    "axes[0][0].set_ylabel(\"Influenza-like\")\n",
    "axes[1][0].set_ylabel(\"Coronavirus-like\\n(low recomb.)\")\n",
    "axes[2][0].set_ylabel(\"Coronavirus-like\\n(moderate recomb.)\")\n",
    "axes[3][0].set_ylabel(\"Coronavirus-like\\n(high recomb.)\")"
   ]
  },
  {
   "cell_type": "code",
   "execution_count": null,
   "id": "487ecf47-4978-4995-ac4f-434122c5e626",
   "metadata": {},
   "outputs": [],
   "source": []
  }
 ],
 "metadata": {
  "kernelspec": {
   "display_name": "Python 3 (ipykernel)",
   "language": "python",
   "name": "python3"
  },
  "language_info": {
   "codemirror_mode": {
    "name": "ipython",
    "version": 3
   },
   "file_extension": ".py",
   "mimetype": "text/x-python",
   "name": "python",
   "nbconvert_exporter": "python",
   "pygments_lexer": "ipython3",
   "version": "3.7.12"
  }
 },
 "nbformat": 4,
 "nbformat_minor": 5
}
