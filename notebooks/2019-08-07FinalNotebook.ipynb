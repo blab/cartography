{
 "cells": [
  {
   "cell_type": "markdown",
   "metadata": {},
   "source": [
    "# This is Cartography put together into one place. "
   ]
  },
  {
   "cell_type": "markdown",
   "metadata": {},
   "source": [
    "## Modules to add to run this code:"
   ]
  },
  {
   "cell_type": "markdown",
   "metadata": {},
   "source": [
    "- [BioPython][1]\n",
    "- [Pandas][2]\n",
    "- [Numpy][3]\n",
    "- [Altair][4]\n",
    "- [Seaborn][5]\n",
    "- [Scikit-Learn][6]\n",
    "- [UMAP][7]\n",
    "- json\n",
    "- nextstrain-augur\n",
    "[1]:https://biopython.org/wiki/Download\n",
    "[2]:https://pandas.pydata.org/pandas-docs/version/0.23.3/install.html\n",
    "[3]:https://docs.scipy.org/doc/numpy/user/quickstart.html\n",
    "[4]:https://altair-viz.github.io/getting_started/installation.html\n",
    "[5]:https://seaborn.pydata.org/installing.html\n",
    "[6]:https://scikit-learn.org/stable/install.html\n",
    "[7]:https://umap-learn.readthedocs.io/en/latest/\n"
   ]
  },
  {
   "cell_type": "markdown",
   "metadata": {},
   "source": [
    "# Imports Section "
   ]
  },
  {
   "cell_type": "code",
   "execution_count": null,
   "metadata": {},
   "outputs": [],
   "source": [
    "import pandas as pd\n",
    "import altair as alt\n",
    "import numpy as np\n",
    "from scipy.spatial.distance import squareform, pdist\n",
    "import pandas as pd\n",
    "import numpy as np\n",
    "from Bio import SeqIO\n",
    "import seaborn as sns\n",
    "import re\n",
    "import matplotlib.pyplot as plt\n",
    "from sklearn.decomposition import PCA\n",
    "from augur.utils import json_to_tree\n",
    "import json\n",
    "from sklearn.manifold import MDS\n",
    "from sklearn.manifold import TSNE\n",
    "import umap\n",
    "import statistics\n",
    "from scipy.stats import linregress\n",
    "from pathlib import Path\n",
    "from Helpers import *"
   ]
  },
  {
   "cell_type": "markdown",
   "metadata": {},
   "source": [
    "### Reading in the Fasta File\n",
    "- I used BioPython to parse the Fasta file into two numpy Arrays: Genomes and Strains. "
   ]
  },
  {
   "cell_type": "code",
   "execution_count": null,
   "metadata": {},
   "outputs": [],
   "source": [
    "dropped_strains = [\"Yunnan/01/2019\"]"
   ]
  },
  {
   "cell_type": "code",
   "execution_count": null,
   "metadata": {},
   "outputs": [],
   "source": [
    "len(dropped_strains)"
   ]
  },
  {
   "cell_type": "code",
   "execution_count": null,
   "metadata": {},
   "outputs": [],
   "source": [
    "#work on making this work\n",
    "path = \"../zika-nextstrain/results/aligned.fasta\"\n",
    "strains = []\n",
    "genomes = []\n",
    "\n",
    "for record in SeqIO.parse(path, \"fasta\"):\n",
    "    if(record.id not in dropped_strains):\n",
    "        strains.append(str(record.id))\n",
    "        genomes.append(str(record.seq))"
   ]
  },
  {
   "cell_type": "markdown",
   "metadata": {},
   "source": [
    "#### Checking to make sure the file I picked is a aligned Fasta file / is the file I wanted"
   ]
  },
  {
   "cell_type": "code",
   "execution_count": null,
   "metadata": {},
   "outputs": [],
   "source": [
    "len(strains)\n",
    "print(len(genomes[0]) == len(genomes[1]))\n",
    "print(len(genomes))"
   ]
  },
  {
   "cell_type": "code",
   "execution_count": null,
   "metadata": {},
   "outputs": [],
   "source": [
    "strains[:5]"
   ]
  },
  {
   "cell_type": "markdown",
   "metadata": {},
   "source": [
    "# Creating the Distance Matrix\n",
    "- I used Hamming Distance to find the pairwise distance between each genome and each other genome, effectively creating a similarity/distance matrix\n",
    "    - In my Hamming Distance method, I only counted something as a different if it was a mismatch between the nucleotides (A,G,C, or T), not gaps (as that was throwing off the algorithm too much for smaller strains)\n",
    "- I then used Seaborn to generate a heatmap to make sure the matrix looked correct"
   ]
  },
  {
   "cell_type": "code",
   "execution_count": null,
   "metadata": {},
   "outputs": [],
   "source": [
    "distance_matrix_file = \"DistanceMatrixZika.csv\""
   ]
  },
  {
   "cell_type": "code",
   "execution_count": null,
   "metadata": {},
   "outputs": [],
   "source": [
    "%%time\n",
    "# Try to load an existing distance matrix. Create it, if it doesn't already exist.\n",
    "try:\n",
    "    # The index should be the first column and correspond to strain name for the row.\n",
    "    similarity_matrix = pd.read_csv(distance_matrix_file, index_col=0)\n",
    "    print(\"Loaded existing distance matrix\")\n",
    "except FileNotFoundError:\n",
    "    print(\"Could not find existing distance matrix, creating it now\", end=\"...\")\n",
    "    \n",
    "    # Calculate Hamming distances.\n",
    "    hamming_distances = get_hamming_distances(genomes)\n",
    "    \n",
    "    # Convert distinct pairwise distances into the more redundant but more interpretable square matrix.\n",
    "    similarity_matrix = squareform(hamming_distances)\n",
    "    \n",
    "    # Convert the numpy matrix to a pandas data frame with strain annotations for rows and columns.\n",
    "    similarity_matrix = pd.DataFrame(\n",
    "        similarity_matrix,\n",
    "        columns=strains,\n",
    "        index=strains\n",
    "    )\n",
    "    \n",
    "    # Write out the resulting data frame to cache distance calculations.\n",
    "    # Keep the index in the output file, so it is immediately available on read.\n",
    "    similarity_matrix.to_csv(distance_matrix_file)\n",
    "    print(\"done!\")"
   ]
  },
  {
   "cell_type": "code",
   "execution_count": null,
   "metadata": {},
   "outputs": [],
   "source": [
    "print(sns.heatmap(similarity_matrix))"
   ]
  },
  {
   "cell_type": "markdown",
   "metadata": {},
   "source": [
    "# Reading in the Metadata\n",
    "- The metadata is used for getting the region, country, etc of different strains. This data is used to color the clusters.\n",
    "- The metadata contains all of the possible sampled strains, so many of these will not be in the genomes from the aligned file, probably because the strains were corrupted, too short, etc. \n",
    "- We merge this metadata with the strains we have in the aligned file to get a list of all of the strains that match between both. It should come out to the amount of strains in the aligned file."
   ]
  },
  {
   "cell_type": "code",
   "execution_count": null,
   "metadata": {},
   "outputs": [],
   "source": [
    "#merging my final dataframe with their regions and strain names\n",
    "cwd = Path.cwd()\n",
    "goal_dir = cwd.parent\n",
    "pathMeta = goal_dir.joinpath(\"zika-nextstrain\", \"results\", \"metadata.tsv\")\n",
    "metadata_df = pd.read_csv(pathMeta, delimiter='\\t')"
   ]
  },
  {
   "cell_type": "code",
   "execution_count": null,
   "metadata": {},
   "outputs": [],
   "source": [
    "metadata_df.head()"
   ]
  },
  {
   "cell_type": "code",
   "execution_count": null,
   "metadata": {},
   "outputs": [],
   "source": [
    "metadata_df.shape"
   ]
  },
  {
   "cell_type": "code",
   "execution_count": null,
   "metadata": {},
   "outputs": [],
   "source": [
    "#making a dataframe out of the strains from the alignment file to merge with the metadata\n",
    "strains_df = pd.DataFrame(strains)\n",
    "strains_df.columns = ['strain']"
   ]
  },
  {
   "cell_type": "code",
   "execution_count": null,
   "metadata": {},
   "outputs": [],
   "source": [
    "strains_df.shape"
   ]
  },
  {
   "cell_type": "code",
   "execution_count": null,
   "metadata": {},
   "outputs": [],
   "source": [
    "#Merging strains and metadata \n",
    "result_strains = pd.merge(strains_df,metadata_df, on='strain', how= \"left\")"
   ]
  },
  {
   "cell_type": "code",
   "execution_count": null,
   "metadata": {},
   "outputs": [],
   "source": [
    "#checking that no strains were lost\n",
    "result_strains.shape"
   ]
  },
  {
   "cell_type": "code",
   "execution_count": null,
   "metadata": {},
   "outputs": [],
   "source": [
    "np.setdiff1d(strains_df['strain'].unique(),metadata_df['strain'].unique())"
   ]
  },
  {
   "cell_type": "markdown",
   "metadata": {},
   "source": [
    "# Creating the Phylogenetic Tree in Altair\n",
    "- I used Altair to make this tree (Documentation linked [here][1]\n",
    "- I opened and imported the json from a build from NextStrain ([flu][2], [zika][3], etc)\n",
    "- The data from the JSON and the Data from the tree are usually a little different, so after merging the two dataframes you may get some errors.\n",
    "\n",
    "[1]: https://altair-viz.github.io/index.html\n",
    "[2]: https://github.com/nextstrain/seasonal-flu\n",
    "[3]: https://altair-viz.github.io/index.html"
   ]
  },
  {
   "cell_type": "code",
   "execution_count": null,
   "metadata": {},
   "outputs": [],
   "source": [
    "with open('../zika-nextstrain/auspice/zika-cartography_tree.json') as fh:\n",
    "    json_tree_handle = json.load(fh)"
   ]
  },
  {
   "cell_type": "code",
   "execution_count": null,
   "metadata": {},
   "outputs": [],
   "source": [
    "tree = json_to_tree(json_tree_handle)"
   ]
  },
  {
   "cell_type": "code",
   "execution_count": null,
   "metadata": {},
   "outputs": [],
   "source": [
    "tree"
   ]
  },
  {
   "cell_type": "code",
   "execution_count": null,
   "metadata": {},
   "outputs": [],
   "source": [
    "node_data = [\n",
    "    {\n",
    "        \"strain\": node.name,\n",
    "        \"date\": node.attr[\"num_date\"],\n",
    "        \"y\": node.yvalue,\n",
    "        \"region\": node.attr[\"region\"],\n",
    "        \"country\": node.attr[\"country\"],\n",
    "        \"parent_date\": node.parent is not None and node.parent.attr[\"num_date\"] or node.attr[\"num_date\"],\n",
    "        \"parent_y\": node.parent is not None and node.parent.yvalue or node.yvalue,\n",
    "        \"clade_membership\" : node.attr['clade_membership']\n",
    "    }\n",
    "    for node in tree.find_clades(terminal=True)\n",
    "]"
   ]
  },
  {
   "cell_type": "code",
   "execution_count": null,
   "metadata": {},
   "outputs": [],
   "source": [
    "node_data[10]"
   ]
  },
  {
   "cell_type": "code",
   "execution_count": null,
   "metadata": {},
   "outputs": [],
   "source": [
    "node_df = pd.DataFrame(node_data)"
   ]
  },
  {
   "cell_type": "code",
   "execution_count": null,
   "metadata": {},
   "outputs": [],
   "source": [
    "node_df.head()"
   ]
  },
  {
   "cell_type": "code",
   "execution_count": null,
   "metadata": {},
   "outputs": [],
   "source": [
    "node_df[\"y\"] = node_df[\"y\"].max() - node_df[\"y\"]"
   ]
  },
  {
   "cell_type": "code",
   "execution_count": null,
   "metadata": {},
   "outputs": [],
   "source": [
    "node_df[\"parent_y\"] = node_df[\"parent_y\"].max() - node_df[\"parent_y\"]"
   ]
  },
  {
   "cell_type": "code",
   "execution_count": null,
   "metadata": {},
   "outputs": [],
   "source": [
    "node_df.shape"
   ]
  },
  {
   "cell_type": "code",
   "execution_count": null,
   "metadata": {},
   "outputs": [],
   "source": [
    "node_df.head()"
   ]
  },
  {
   "cell_type": "code",
   "execution_count": null,
   "metadata": {},
   "outputs": [],
   "source": [
    "node_df[\"region\"].unique()"
   ]
  },
  {
   "cell_type": "code",
   "execution_count": null,
   "metadata": {},
   "outputs": [],
   "source": [
    "node_numpy = node_df['clade_membership'].to_numpy()\n",
    "clade_ok = []\n",
    "for node in node_numpy:\n",
    "    clade_ok.append(node)"
   ]
  },
  {
   "cell_type": "code",
   "execution_count": null,
   "metadata": {},
   "outputs": [],
   "source": [
    "clade_new = pd.DataFrame(clade_ok)\n",
    "node_df = node_df.merge(clade_new, how='outer', left_index=True, right_index=True)"
   ]
  },
  {
   "cell_type": "code",
   "execution_count": null,
   "metadata": {},
   "outputs": [],
   "source": [
    "node_df.head()"
   ]
  },
  {
   "cell_type": "code",
   "execution_count": null,
   "metadata": {},
   "outputs": [],
   "source": [
    "node_df.columns = ['strain', 'date', 'y', 'region', 'country', 'parent_date',\n",
    "      'parent_y', 'clade_membership', 'clade_membership_color']"
   ]
  },
  {
   "cell_type": "markdown",
   "metadata": {},
   "source": [
    "## Checking for Outliers in Pairwise Distance"
   ]
  },
  {
   "cell_type": "code",
   "execution_count": null,
   "metadata": {},
   "outputs": [],
   "source": [
    "result_df = pd.DataFrame(result_strains['strain'])\n",
    "similarity_matrix.shape"
   ]
  },
  {
   "cell_type": "code",
   "execution_count": null,
   "metadata": {},
   "outputs": [],
   "source": [
    "index_df = pd.DataFrame(similarity_matrix.mean().index)"
   ]
  },
  {
   "cell_type": "code",
   "execution_count": null,
   "metadata": {},
   "outputs": [],
   "source": [
    "result_index_df = result_df.set_index(similarity_matrix.mean().index)\n",
    "mean_similarity_matrix = pd.DataFrame(similarity_matrix.mean())"
   ]
  },
  {
   "cell_type": "code",
   "execution_count": null,
   "metadata": {},
   "outputs": [],
   "source": [
    "result_index_df = result_index_df.merge(mean_similarity_matrix, left_index=True, right_index=True)\n",
    "result_index_df.columns = [\"strain\",\"mean\"]\n",
    "result_index_df"
   ]
  },
  {
   "cell_type": "code",
   "execution_count": null,
   "metadata": {},
   "outputs": [],
   "source": [
    "alt.Chart(result_index_df,height=150).mark_boxplot().encode(\n",
    "    x = alt.X('mean',title=\"mean of pairwise distances\"),\n",
    "    tooltip = [\"strain\"]\n",
    ")"
   ]
  },
  {
   "cell_type": "code",
   "execution_count": null,
   "metadata": {},
   "outputs": [],
   "source": [
    "genomes_missing_bases = []\n",
    "for x in genomes:\n",
    "    x = re.sub(r'[^AGCT]', '5', x)\n",
    "    numberOfN = x.count(\"5\")\n",
    "    genomes_missing_bases.append(numberOfN)"
   ]
  },
  {
   "cell_type": "code",
   "execution_count": null,
   "metadata": {},
   "outputs": [],
   "source": [
    "genomes_missing_bases_df = pd.DataFrame(genomes_missing_bases)\n",
    "genomes_missing_bases_df = genomes_missing_bases_df.merge(strains_df, how='outer', left_index = True, right_index = True)\n",
    "genomes_missing_bases_df.columns = [\"bases missing\", \"strain\"]"
   ]
  },
  {
   "cell_type": "markdown",
   "metadata": {},
   "source": [
    "# Missing Bases"
   ]
  },
  {
   "cell_type": "code",
   "execution_count": null,
   "metadata": {},
   "outputs": [],
   "source": [
    "genomes_missing_bases_df.head()"
   ]
  },
  {
   "cell_type": "code",
   "execution_count": null,
   "metadata": {},
   "outputs": [],
   "source": [
    "dropped_strains"
   ]
  },
  {
   "cell_type": "code",
   "execution_count": null,
   "metadata": {},
   "outputs": [],
   "source": [
    "alt.Chart(genomes_missing_bases_df).mark_bar().encode(\n",
    "    alt.X(\"bases missing:Q\", bin=True),\n",
    "    y=\"count()\"\n",
    ")"
   ]
  },
  {
   "cell_type": "code",
   "execution_count": null,
   "metadata": {},
   "outputs": [],
   "source": [
    "# TODO: extend dropped strains to omit those with lots of missing bases.\n",
    "# Also, consider storing the list of dropped strains in a text file outside of the notebook.\n",
    "#dropped_strains.extend(list(genomes_missing_bases_df[genomes_missing_bases_df[\"bases missing\"] > 1000][\"strain\"].values))"
   ]
  },
  {
   "cell_type": "markdown",
   "metadata": {},
   "source": [
    "# Running PCA on Scaled and Centered Data\n",
    "- I treated each nucleotide as a \"site\", or dimension, and found the probability of having a certain nucleotide given the frequency of that letter at that site.\n",
    "- I used [this paper][1] as my source \n",
    "- The equation is as follows where C is the matrix of dimensions, M is the mean, and p is the frequency of a nucleotide at that given site. \n",
    "![](https://journals.plos.org/plosgenetics/article/file?type=thumbnail&id=info:doi/10.1371/journal.pgen.0020190.e003)"
   ]
  },
  {
   "cell_type": "code",
   "execution_count": null,
   "metadata": {},
   "outputs": [],
   "source": [
    "numbers = genomes[:]\n",
    "for i in range(0,len(genomes)):\n",
    "    numbers[i] = re.sub(r'[^AGCT]', '5', numbers[i])\n",
    "    numbers[i] = list(numbers[i].replace('A','1').replace('G','2').replace('C', '3').replace('T','4'))\n",
    "    numbers[i] = [int(j) for j in numbers[i]]\n",
    "genomes_df = pd.DataFrame(numbers)\n",
    "genomes_df.columns = [\"Site \" + str(k) for k in range(0,len(numbers[i]))]"
   ]
  },
  {
   "cell_type": "code",
   "execution_count": null,
   "metadata": {},
   "outputs": [],
   "source": [
    "genomes_df.head()"
   ]
  },
  {
   "cell_type": "code",
   "execution_count": null,
   "metadata": {},
   "outputs": [],
   "source": [
    "#performing PCA on my pandas dataframe \n",
    "pca = PCA(n_components=10,svd_solver='full') #can specify n, since with no prior knowledge, I use None\n",
    "principalComponents = pca.fit_transform(genomes_df)\n",
    "principalDf = pd.DataFrame(data = principalComponents, columns = [\"PCA\" + str(i) for i in range(1,11)])"
   ]
  },
  {
   "cell_type": "code",
   "execution_count": null,
   "metadata": {},
   "outputs": [],
   "source": [
    "df = pd.concat([pd.DataFrame(np.arange(1,11)), pd.DataFrame([round(pca.explained_variance_ratio_[i],4) for i in range(0,len(pca.explained_variance_ratio_))])], axis = 1)\n",
    "df.columns = ['principal components','explained variance']\n",
    "df"
   ]
  },
  {
   "cell_type": "code",
   "execution_count": null,
   "metadata": {},
   "outputs": [],
   "source": [
    "alt.Chart(df).mark_point().encode(\n",
    "    x='principal components:Q',\n",
    "    y='explained variance:Q')"
   ]
  },
  {
   "cell_type": "code",
   "execution_count": null,
   "metadata": {},
   "outputs": [],
   "source": [
    "principalDf.head()"
   ]
  },
  {
   "cell_type": "markdown",
   "metadata": {},
   "source": [
    "# Merging Strain and PCA"
   ]
  },
  {
   "cell_type": "code",
   "execution_count": null,
   "metadata": {},
   "outputs": [],
   "source": [
    "strains_df = pd.DataFrame(strains)\n",
    "strains_df.columns = ['strain']"
   ]
  },
  {
   "cell_type": "code",
   "execution_count": null,
   "metadata": {},
   "outputs": [],
   "source": [
    "result_strains = pd.merge(strains_df,metadata_df, on='strain')"
   ]
  },
  {
   "cell_type": "code",
   "execution_count": null,
   "metadata": {},
   "outputs": [],
   "source": [
    "finalDf = pd.concat([principalDf, result_strains[['region','country','strain']]], axis = 1)"
   ]
  },
  {
   "cell_type": "code",
   "execution_count": null,
   "metadata": {},
   "outputs": [],
   "source": [
    "merged_df = pd.merge(finalDf,node_df,on=[\"strain\",\"region\"]).dropna()"
   ]
  },
  {
   "cell_type": "code",
   "execution_count": null,
   "metadata": {},
   "outputs": [],
   "source": [
    "merged_df.head()"
   ]
  },
  {
   "cell_type": "code",
   "execution_count": null,
   "metadata": {},
   "outputs": [],
   "source": [
    "merged_df = pd.merge(finalDf,node_df,on=[\"strain\",\"region\"]).dropna()"
   ]
  },
  {
   "cell_type": "code",
   "execution_count": null,
   "metadata": {},
   "outputs": [],
   "source": [
    "merged_df.head()"
   ]
  },
  {
   "cell_type": "code",
   "execution_count": null,
   "metadata": {},
   "outputs": [],
   "source": [
    "list_of_chart = linking_tree_with_plots_brush(merged_df,['PCA1','PCA2','PCA3','PCA4'],\n",
    "                                         ['Principal Component 1 (Explained Variance : {}%'.format(round(pca.explained_variance_ratio_[0]*100,2)) + \")\",\n",
    "                                          'Principal Component 2 (Explained Variance : {}%'.format(round(pca.explained_variance_ratio_[1]*100,2)) + \")\",\n",
    "                                          'PCA3 (Explained Variance : {}%'.format(round(pca.explained_variance_ratio_[2]*100,2)) + \")\",\n",
    "                                          'PCA4 (Explained Variance : {}%'.format(round(pca.explained_variance_ratio_[3]*100,2)) + \")\"],\n",
    "                                         \"clade_membership:N\",['strain','region'])\n",
    "chart = list_of_chart[0]|list_of_chart[1]|list_of_chart[2]\n",
    "chart.save(\"../Docs/PCAFluBrush.html\")\n",
    "chart"
   ]
  },
  {
   "cell_type": "code",
   "execution_count": null,
   "metadata": {},
   "outputs": [],
   "source": [
    "PCA_violin_df = get_euclidean_data_frame(merged_df, \"PCA1\", \"PCA2\", \"PCA\")\n",
    "g = sns.FacetGrid(\n",
    "    PCA_violin_df,\n",
    "    col=\"embedding\",\n",
    "    col_wrap=3,\n",
    "    sharey=False,\n",
    "    height=4\n",
    ")\n",
    "g = g.map(sns.violinplot, \"clade_status\", \"distance\", order=[\"within\", \"between\"])\n",
    "g.set_axis_labels(\"Clade status\", \"Distance\")"
   ]
  },
  {
   "cell_type": "markdown",
   "metadata": {},
   "source": [
    "# Running MDS on the Dataset"
   ]
  },
  {
   "cell_type": "code",
   "execution_count": null,
   "metadata": {},
   "outputs": [],
   "source": [
    "embedding = MDS(n_components=10,metric=True,dissimilarity='precomputed')\n",
    "X_transformed = embedding.fit_transform(similarity_matrix)"
   ]
  },
  {
   "cell_type": "code",
   "execution_count": null,
   "metadata": {},
   "outputs": [],
   "source": [
    "raw_stress = embedding.stress_\n",
    "normalized_stress = np.sqrt(raw_stress /((similarity_matrix.values.ravel() ** 2).sum() / 2))\n",
    "print(normalized_stress.round(2))"
   ]
  },
  {
   "cell_type": "code",
   "execution_count": null,
   "metadata": {},
   "outputs": [],
   "source": [
    "MDS_df = pd.DataFrame(X_transformed,columns=['MDS' + str(i) for i in range(1,11)])\n",
    "print(MDS_df.head())"
   ]
  },
  {
   "cell_type": "code",
   "execution_count": null,
   "metadata": {},
   "outputs": [],
   "source": [
    "MDS_df.set_index(similarity_matrix.index)\n",
    "finalDf = concatenate_results_with_strain_data(MDS_df, node_df, ['strain','clade_membership', 'clade_membership_color'])"
   ]
  },
  {
   "cell_type": "code",
   "execution_count": null,
   "metadata": {},
   "outputs": [],
   "source": [
    "finalDf.columns"
   ]
  },
  {
   "cell_type": "code",
   "execution_count": null,
   "metadata": {},
   "outputs": [],
   "source": [
    "finalDf.head()"
   ]
  },
  {
   "cell_type": "code",
   "execution_count": null,
   "metadata": {},
   "outputs": [],
   "source": [
    "merged_df = pd.merge(finalDf,node_df,on=[\"strain\",'clade_membership_color','clade_membership']).dropna()"
   ]
  },
  {
   "cell_type": "code",
   "execution_count": null,
   "metadata": {},
   "outputs": [],
   "source": [
    "chart_12_mds = scatterplot_with_tooltip_interactive(merged_df,'MDS1','MDS2',\"MDS1\",\"MDS2\",['strain','clade_membership'],'clade_membership_color')\n",
    "chart_34_mds = scatterplot_with_tooltip_interactive(merged_df,'MDS3','MDS4',\"MDS3\",\"MDS4\",['strain','clade_membership'],'clade_membership_color')\n",
    "chart_56_mds = scatterplot_with_tooltip_interactive(merged_df,'MDS5','MDS6',\"MDS5\",\"MDS6\",['strain','clade_membership'],'clade_membership_color')\n",
    "chart_12_mds|chart_34_mds|chart_56_mds"
   ]
  },
  {
   "cell_type": "code",
   "execution_count": null,
   "metadata": {},
   "outputs": [],
   "source": [
    "chart_12_scatter = scatterplot_tooltips(strains, similarity_matrix, merged_df, \"MDS1\", \"MDS2\", \"MDS\", 4000)\n",
    "chart_34_scatter = scatterplot_tooltips(strains, similarity_matrix,merged_df, \"MDS3\", \"MDS4\", \"MDS\", 4000)\n",
    "chart_56_scatter = scatterplot_tooltips(strains, similarity_matrix,merged_df, \"MDS5\", \"MDS6\", \"MDS\", 4000)\n",
    "chart_12_scatter | chart_34_scatter | chart_56_scatter"
   ]
  },
  {
   "cell_type": "code",
   "execution_count": null,
   "metadata": {},
   "outputs": [],
   "source": [
    "MDS_violin_df = get_euclidean_data_frame(merged_df, \"MDS1\", \"MDS2\", \"MDS\")\n",
    "g = sns.FacetGrid(\n",
    "    MDS_violin_df,\n",
    "    col=\"embedding\",\n",
    "    col_wrap=3,\n",
    "    sharey=False,\n",
    "    height=4\n",
    ")\n",
    "g = g.map(sns.violinplot, \"clade_status\", \"distance\", order=[\"within\", \"between\"])\n",
    "g.set_axis_labels(\"Clade status\", \"Distance\")"
   ]
  },
  {
   "cell_type": "code",
   "execution_count": null,
   "metadata": {},
   "outputs": [],
   "source": [
    "LOESS_scatterplot(strains, similarity_matrix, merged_df, \"MDS1\", \"MDS2\", \"MDS\", 4000)"
   ]
  },
  {
   "cell_type": "markdown",
   "metadata": {},
   "source": [
    "# Linking Tree to MDS plot"
   ]
  },
  {
   "cell_type": "code",
   "execution_count": null,
   "metadata": {},
   "outputs": [],
   "source": [
    "list_of_data_and_titles = ['MDS1','MDS2','MDS3','MDS4','MDS5','MDS6']\n",
    "list_of_chart = linking_tree_with_plots_brush(merged_df,list_of_data_and_titles,list_of_data_and_titles,'clade_membership_color',[\"clade_membership\",\"strain:N\"])\n",
    "chart = list_of_chart[0]|list_of_chart[1]|list_of_chart[2]|list_of_chart[3]\n",
    "chart"
   ]
  },
  {
   "cell_type": "code",
   "execution_count": null,
   "metadata": {},
   "outputs": [],
   "source": [
    "chart.save(\"../Docs/MDSFluBrush.html\")"
   ]
  },
  {
   "cell_type": "markdown",
   "metadata": {},
   "source": [
    "# Running T-SNE on the Dataset "
   ]
  },
  {
   "cell_type": "code",
   "execution_count": null,
   "metadata": {},
   "outputs": [],
   "source": [
    "embedding = TSNE(n_components=2,metric='precomputed',perplexity = 25.95)\n",
    "X_transformed = embedding.fit_transform(similarity_matrix)"
   ]
  },
  {
   "cell_type": "code",
   "execution_count": null,
   "metadata": {},
   "outputs": [],
   "source": [
    "TSNE_df = pd.DataFrame(X_transformed,columns=['TSNE' + str(i) for i in range(1,3)])\n",
    "print(TSNE_df.head())"
   ]
  },
  {
   "cell_type": "code",
   "execution_count": null,
   "metadata": {},
   "outputs": [],
   "source": [
    "finalDf = concatenate_results_with_strain_data(TSNE_df,result_strains,['strain','region'])"
   ]
  },
  {
   "cell_type": "code",
   "execution_count": null,
   "metadata": {},
   "outputs": [],
   "source": [
    "finalDf.shape"
   ]
  },
  {
   "cell_type": "code",
   "execution_count": null,
   "metadata": {},
   "outputs": [],
   "source": [
    "merged_df = pd.merge(finalDf,node_df,on=[\"strain\"]).dropna()"
   ]
  },
  {
   "cell_type": "code",
   "execution_count": null,
   "metadata": {},
   "outputs": [],
   "source": [
    "merged_df.columns"
   ]
  },
  {
   "cell_type": "code",
   "execution_count": null,
   "metadata": {},
   "outputs": [],
   "source": [
    "chart = scatterplot_tooltips(strains, similarity_matrix, merged_df, \"TSNE1\", \"TSNE2\", \"TSNE\", 4000)\n",
    "chart"
   ]
  },
  {
   "cell_type": "code",
   "execution_count": null,
   "metadata": {},
   "outputs": [],
   "source": [
    "scatterplot_with_tooltip_interactive(merged_df,'TSNE1','TSNE2',\"TSNE1\",\"TSNE2\",['strain','clade_membership'],'clade_membership_color')"
   ]
  },
  {
   "cell_type": "markdown",
   "metadata": {},
   "source": [
    "# Linking Tree to T-SNE plot"
   ]
  },
  {
   "cell_type": "code",
   "execution_count": null,
   "metadata": {},
   "outputs": [],
   "source": [
    "list_of_chart = linking_tree_with_plots_brush(merged_df,['TSNE1','TSNE2'],['TSNE1','TSNE2'],'clade_membership_color',[\"clade_membership:N\",\"strain:N\"])\n",
    "chart = list_of_chart[0]|list_of_chart[1]\n",
    "chart"
   ]
  },
  {
   "cell_type": "code",
   "execution_count": null,
   "metadata": {},
   "outputs": [],
   "source": [
    "TSNE_violin_df = get_euclidean_data_frame(merged_df, \"TSNE1\", \"TSNE2\", \"TSNE\")\n",
    "g = sns.FacetGrid(\n",
    "    TSNE_violin_df,\n",
    "    col=\"embedding\",\n",
    "    col_wrap=3,\n",
    "    sharey=False,\n",
    "    height=4\n",
    ")\n",
    "g = g.map(sns.violinplot, \"clade_status\", \"distance\", order=[\"within\", \"between\"])\n",
    "g.set_axis_labels(\"Clade status\", \"Distance\")"
   ]
  },
  {
   "cell_type": "code",
   "execution_count": null,
   "metadata": {},
   "outputs": [],
   "source": [
    "LOESS_scatterplot(strains, similarity_matrix, merged_df, \"TSNE1\", \"TSNE2\", \"TSNE\", 4000)"
   ]
  },
  {
   "cell_type": "markdown",
   "metadata": {},
   "source": [
    "# Running UMAP on the Dataset"
   ]
  },
  {
   "cell_type": "code",
   "execution_count": null,
   "metadata": {},
   "outputs": [],
   "source": [
    "reducer = umap.UMAP(n_neighbors=20,\n",
    "        min_dist=1.0,\n",
    "        n_components=2,\n",
    "        init=\"spectral\")\n",
    "embedding = reducer.fit_transform(similarity_matrix)"
   ]
  },
  {
   "cell_type": "code",
   "execution_count": null,
   "metadata": {},
   "outputs": [],
   "source": [
    "UMAP_df = pd.DataFrame(embedding,columns=['UMAP' + str(i) for i in range(1,3)])\n",
    "print(UMAP_df.head())"
   ]
  },
  {
   "cell_type": "code",
   "execution_count": null,
   "metadata": {},
   "outputs": [],
   "source": [
    "finalDf = concatenate_results_with_strain_data(UMAP_df, result_strains, ['strain','region','country'])"
   ]
  },
  {
   "cell_type": "code",
   "execution_count": null,
   "metadata": {},
   "outputs": [],
   "source": [
    "finalDf.shape"
   ]
  },
  {
   "cell_type": "code",
   "execution_count": null,
   "metadata": {},
   "outputs": [],
   "source": [
    "merged_df = pd.merge(finalDf,node_df,on=[\"strain\",\"region\"]).dropna()"
   ]
  },
  {
   "cell_type": "code",
   "execution_count": null,
   "metadata": {},
   "outputs": [],
   "source": [
    "merged_df.shape"
   ]
  },
  {
   "cell_type": "code",
   "execution_count": null,
   "metadata": {},
   "outputs": [],
   "source": [
    "chart = scatterplot_tooltips(strains, similarity_matrix, merged_df, \"UMAP1\", \"UMAP2\", \"UMAP\", 4000)\n",
    "chart"
   ]
  },
  {
   "cell_type": "code",
   "execution_count": null,
   "metadata": {},
   "outputs": [],
   "source": [
    "scatterplot_with_tooltip_interactive(merged_df,'UMAP1','UMAP2',\"UMAP1\",\"UMAP2\",['strain','clade_membership'],'clade_membership_color')"
   ]
  },
  {
   "cell_type": "markdown",
   "metadata": {},
   "source": [
    "# Linking Tree with UMAP plot"
   ]
  },
  {
   "cell_type": "code",
   "execution_count": null,
   "metadata": {},
   "outputs": [],
   "source": [
    "list_of_data_and_titles = ['UMAP1','UMAP2']\n",
    "list_of_chart = linking_tree_with_plots_brush(merged_df,list_of_data_and_titles,list_of_data_and_titles,'clade_membership_color',[\"clade_membership\",\"strain:N\"])\n",
    "chart = list_of_chart[0]|list_of_chart[1]\n",
    "chart"
   ]
  },
  {
   "cell_type": "code",
   "execution_count": null,
   "metadata": {},
   "outputs": [],
   "source": [
    "chart.save(\"../Docs/UMAPFluBrush.html\")"
   ]
  },
  {
   "cell_type": "code",
   "execution_count": null,
   "metadata": {},
   "outputs": [],
   "source": [
    "UMAP_violin_df = get_euclidean_data_frame(merged_df, \"UMAP1\", \"UMAP2\", \"UMAP\")\n",
    "g = sns.FacetGrid(\n",
    "    UMAP_violin_df,\n",
    "    col=\"embedding\",\n",
    "    col_wrap=3,\n",
    "    sharey=False,\n",
    "    height=4\n",
    ")\n",
    "g = g.map(sns.violinplot, \"clade_status\", \"distance\", order=[\"within\", \"between\"])\n",
    "g.set_axis_labels(\"Clade status\", \"Distance\")"
   ]
  },
  {
   "cell_type": "code",
   "execution_count": null,
   "metadata": {},
   "outputs": [],
   "source": [
    "LOESS_scatterplot(strains, similarity_matrix, merged_df, \"UMAP1\", \"UMAP2\", \"UMAP\", 4000)"
   ]
  },
  {
   "cell_type": "markdown",
   "metadata": {},
   "source": [
    "# Linking all plots together clickable with Tree"
   ]
  },
  {
   "cell_type": "code",
   "execution_count": null,
   "metadata": {},
   "outputs": [],
   "source": [
    "together_df = MDS_df.merge(TSNE_df, how='outer', left_index=True, right_index=True)\n",
    "together_df = together_df.merge(principalDf, how='outer', left_index=True, right_index=True)\n",
    "together_df = together_df.merge(UMAP_df, how='outer', left_index=True, right_index=True)\n",
    "together_df.head()"
   ]
  },
  {
   "cell_type": "code",
   "execution_count": null,
   "metadata": {},
   "outputs": [],
   "source": [
    "finalDf = concatenate_results_with_strain_data(together_df, result_strains, ['strain','region','country'])"
   ]
  },
  {
   "cell_type": "code",
   "execution_count": null,
   "metadata": {},
   "outputs": [],
   "source": [
    "merged_df = pd.merge(finalDf,node_df,on=[\"strain\",\"region\"]).dropna()"
   ]
  },
  {
   "cell_type": "code",
   "execution_count": null,
   "metadata": {},
   "outputs": [],
   "source": [
    "merged_df.columns"
   ]
  },
  {
   "cell_type": "code",
   "execution_count": null,
   "metadata": {},
   "outputs": [],
   "source": [
    "data = linking_tree_with_plots_clickable(merged_df,['MDS1', 'MDS2','TSNE1', 'TSNE2', 'PCA1', 'PCA2', 'UMAP1', 'UMAP2'], ['MDS1', 'MDS2', 'TSNE1', 'TSNE2','Principal Component 1 (Expected Variance : {}%'.format(round(pca.explained_variance_ratio_[0]*100,2)) + \")\",\n",
    "'Principal Component 2 (Expected Variance : {}%'.format(round(pca.explained_variance_ratio_[1]*100,2)) + \")\",'UMAP1','UMAP2'],'clade_membership_color:N',['clade_membership'],['strain','clade_membership'])"
   ]
  },
  {
   "cell_type": "code",
   "execution_count": null,
   "metadata": {},
   "outputs": [],
   "source": [
    "PCAMDS = data[3]|data[1]|data[5]\n",
    "TSNEUMAP = data[2]|data[4]\n",
    "embeddings = alt.vconcat(PCAMDS,TSNEUMAP)\n",
    "embeddings\n",
    "fullChart = alt.hconcat(data[0],embeddings)\n",
    "fullChart.save('../Docs/FullLinkedChartClickable.html')\n",
    "fullChart"
   ]
  },
  {
   "cell_type": "code",
   "execution_count": null,
   "metadata": {},
   "outputs": [],
   "source": [
    "data_frames = [\n",
    "    scatterplot_xyvalues(strains, similarity_matrix, merged_df, \"PCA1\", \"PCA2\", \"PCA\"),\n",
    "    scatterplot_xyvalues(strains, similarity_matrix, merged_df, \"MDS1\", \"MDS2\", \"MDS\"),\n",
    "    scatterplot_xyvalues(strains, similarity_matrix, merged_df, \"TSNE1\", \"TSNE2\", \"TSNE\"),\n",
    "    scatterplot_xyvalues(strains, similarity_matrix, merged_df, \"UMAP1\", \"UMAP2\", \"UMAP\"),\n",
    "]"
   ]
  },
  {
   "cell_type": "code",
   "execution_count": null,
   "metadata": {},
   "outputs": [],
   "source": [
    "merged_index = np.array(sorted(merged_df.index.values))"
   ]
  },
  {
   "cell_type": "code",
   "execution_count": null,
   "metadata": {},
   "outputs": [],
   "source": [
    "genetic_distances = squareform(similarity_matrix.values[merged_index][:, merged_index])"
   ]
  },
  {
   "cell_type": "code",
   "execution_count": null,
   "metadata": {},
   "outputs": [],
   "source": [
    "data_frames.append(pd.DataFrame({\n",
    "    \"distance\": genetic_distances,\n",
    "    \"embedding\":\"genetic\"\n",
    "}))"
   ]
  },
  {
   "cell_type": "code",
   "execution_count": null,
   "metadata": {},
   "outputs": [],
   "source": [
    "len(data_frames)"
   ]
  },
  {
   "cell_type": "code",
   "execution_count": null,
   "metadata": {},
   "outputs": [],
   "source": [
    "euclidean_data_frame = pd.concat(data_frames, sort=False)"
   ]
  },
  {
   "cell_type": "code",
   "execution_count": null,
   "metadata": {},
   "outputs": [],
   "source": [
    "euclidean_data_frame.head()"
   ]
  },
  {
   "cell_type": "code",
   "execution_count": null,
   "metadata": {},
   "outputs": [],
   "source": [
    "euclidean_data_frame.shape"
   ]
  },
  {
   "cell_type": "code",
   "execution_count": null,
   "metadata": {},
   "outputs": [],
   "source": [
    "PCA = scatterplot_tooltips(strains, similarity_matrix, merged_df, \"PCA1\", \"PCA2\", \"PCA\", 4000)\n",
    "MDS = scatterplot_tooltips(strains, similarity_matrix, merged_df, \"MDS1\", \"MDS2\", \"MDS\", 4000)\n",
    "TSNE = scatterplot_tooltips(strains, similarity_matrix, merged_df, \"TSNE1\", \"TSNE2\", \"TSNE\", 4000)\n",
    "UMAP = scatterplot_tooltips(strains, similarity_matrix, merged_df, \"UMAP1\", \"UMAP2\", \"UMAP\", 4000)\n",
    "\n",
    "chart = PCA|MDS|TSNE|UMAP\n",
    "chart.save('../Docs/FullScatterplot.html')"
   ]
  },
  {
   "cell_type": "code",
   "execution_count": null,
   "metadata": {},
   "outputs": [],
   "source": [
    "chart"
   ]
  },
  {
   "cell_type": "markdown",
   "metadata": {},
   "source": [
    "# Notes to Self:\n",
    "\n",
    "- Collapse cells underneath Markdown headers\n",
    "- Get docstrings above methods to show up when user presses SHIFT + TAB\n",
    "- link back to the methods section for user each time method is used\n",
    "- Run more Flu builds (3 years, 6 years, 12 years, H3, H1)\n",
    "- Try algorithm on MERS\n",
    "- Try algorithm on other bacterial genomes (unaligned / small snips of genomes)\n",
    "- Make Zika clades or run automatic clade naming on 12y H3N2 flu with different cutoffs to standardize coloring for graphs\n",
    "- Write a paper\n"
   ]
  },
  {
   "cell_type": "markdown",
   "metadata": {},
   "source": [
    "## Within- and between-clade Euclidean distances for all embeddings\n",
    "\n",
    "Use the complete embedding data frame to calculate pairwise Euclidean distances between samples and plot the results in a single figure."
   ]
  },
  {
   "cell_type": "code",
   "execution_count": null,
   "metadata": {},
   "outputs": [],
   "source": [
    "data_frames = [\n",
    "    get_euclidean_data_frame(merged_df, \"PCA1\", \"PCA2\", \"PCA\"),\n",
    "    get_euclidean_data_frame(merged_df, \"MDS1\", \"MDS2\", \"MDS\"),\n",
    "    get_euclidean_data_frame(merged_df, \"TSNE1\", \"TSNE2\", \"t-SNE\"),\n",
    "    get_euclidean_data_frame(merged_df, \"UMAP1\", \"UMAP2\", \"UMAP\"),\n",
    "]"
   ]
  },
  {
   "cell_type": "code",
   "execution_count": null,
   "metadata": {},
   "outputs": [],
   "source": [
    "data_frames"
   ]
  },
  {
   "cell_type": "markdown",
   "metadata": {},
   "source": [
    "Extract pairwise genetic (Hamming) distances corresponding to the records sampled above. This step assumes that the original merged data frame is indexed from zero to N for N total samples in the same order as the similarity matrix."
   ]
  },
  {
   "cell_type": "code",
   "execution_count": null,
   "metadata": {},
   "outputs": [],
   "source": [
    "genetic_distances = squareform(similarity_matrix)"
   ]
  },
  {
   "cell_type": "code",
   "execution_count": null,
   "metadata": {},
   "outputs": [],
   "source": [
    "data_frames.append(pd.DataFrame({\n",
    "    \"distance\": genetic_distances,\n",
    "    \"clade_status\": data_frames[0][\"clade_status\"].values,\n",
    "    \"embedding\": \"genetic\"\n",
    "}))"
   ]
  },
  {
   "cell_type": "code",
   "execution_count": null,
   "metadata": {},
   "outputs": [],
   "source": [
    "len(data_frames)"
   ]
  },
  {
   "cell_type": "code",
   "execution_count": null,
   "metadata": {},
   "outputs": [],
   "source": [
    "euclidean_data_frame = pd.concat(data_frames)"
   ]
  },
  {
   "cell_type": "code",
   "execution_count": null,
   "metadata": {},
   "outputs": [],
   "source": [
    "g = sns.FacetGrid(\n",
    "    euclidean_data_frame,\n",
    "    col=\"embedding\",\n",
    "    col_wrap=3,\n",
    "    col_order=[\"PCA\", \"MDS\", \"t-SNE\", \"UMAP\"],\n",
    "    sharey=False,\n",
    "    height=4\n",
    ")\n",
    "g = g.map(sns.violinplot, \"clade_status\", \"distance\", order=[\"within\", \"between\"])\n",
    "g.set_axis_labels(\"Clade status\", \"Distance\")\n",
    "\n",
    "plt.savefig(\"../docs/FullViolinPlot.png\")"
   ]
  },
  {
   "cell_type": "code",
   "execution_count": null,
   "metadata": {},
   "outputs": [],
   "source": [
    "PCA_df = euclidean_data_frame[euclidean_data_frame.embedding == \"PCA\"]\n",
    "MDS_df = euclidean_data_frame[euclidean_data_frame.embedding == \"MDS\"]\n",
    "TSNE_df = euclidean_data_frame[euclidean_data_frame.embedding == \"t-SNE\"]\n",
    "UMAP_df = euclidean_data_frame[euclidean_data_frame.embedding == \"UMAP\"]\n",
    "genetic_df = euclidean_data_frame[euclidean_data_frame.embedding == \"genetic\"]"
   ]
  },
  {
   "cell_type": "code",
   "execution_count": null,
   "metadata": {},
   "outputs": [],
   "source": [
    "genetic = alt.Chart(genetic_df,width=300).mark_boxplot().encode(\n",
    "    x=\"clade_status:N\",\n",
    "    y=\"distance:Q\"\n",
    ").properties(title=\"genetic\")\n",
    "PCA = alt.Chart(PCA_df,width=200).mark_boxplot().encode(\n",
    "    x=\"clade_status:N\",\n",
    "    y=\"distance:Q\"\n",
    ").properties(title=\"PCA\")\n",
    "MDS = alt.Chart(MDS_df,width=200).mark_boxplot().encode(\n",
    "    x=\"clade_status:N\",\n",
    "    y=\"distance:Q\"\n",
    ").properties(title=\"MDS\",width=200)\n",
    "TSNE = alt.Chart(TSNE_df).mark_boxplot().encode(\n",
    "    x=\"clade_status:N\",\n",
    "    y=\"distance:Q\"\n",
    ").properties(title=\"TSNE\",width=200)\n",
    "UMAP = alt.Chart(UMAP_df,width=200).mark_boxplot().encode(\n",
    "    x=\"clade_status:N\",\n",
    "    y=\"distance:Q\"\n",
    ").properties(title=\"UMAP\")\n",
    "\n",
    "chart = genetic|PCA|MDS|TSNE|UMAP\n",
    "chart"
   ]
  },
  {
   "cell_type": "code",
   "execution_count": null,
   "metadata": {},
   "outputs": [],
   "source": [
    "chart.save('../Docs/FullBoxplot.html')"
   ]
  },
  {
   "cell_type": "code",
   "execution_count": null,
   "metadata": {},
   "outputs": [],
   "source": [
    "#ratio of within vs between (within shorter than between) - label which metrics + sginificance level"
   ]
  },
  {
   "cell_type": "code",
   "execution_count": null,
   "metadata": {},
   "outputs": [],
   "source": [
    "genetic_df.mean()"
   ]
  },
  {
   "cell_type": "code",
   "execution_count": null,
   "metadata": {},
   "outputs": [],
   "source": [
    "median_genetic_within = genetic_df[genetic_df.clade_status == \"within\"].median()\n",
    "median_genetic_between = genetic_df[genetic_df.clade_status == \"between\"].median()"
   ]
  },
  {
   "cell_type": "code",
   "execution_count": null,
   "metadata": {},
   "outputs": [],
   "source": [
    "median_PCA_within = PCA_df[PCA_df.clade_status == \"within\"].median()\n",
    "median_PCA_between = PCA_df[PCA_df.clade_status == \"between\"].median()"
   ]
  },
  {
   "cell_type": "code",
   "execution_count": null,
   "metadata": {},
   "outputs": [],
   "source": [
    "median_MDS_within = MDS_df[MDS_df.clade_status == \"within\"].median()\n",
    "median_MDS_between = MDS_df[MDS_df.clade_status == \"between\"].median()"
   ]
  },
  {
   "cell_type": "code",
   "execution_count": null,
   "metadata": {},
   "outputs": [],
   "source": [
    "median_TSNE_within = TSNE_df[TSNE_df.clade_status == \"within\"].median()\n",
    "median_TSNE_between = TSNE_df[TSNE_df.clade_status == \"between\"].median()"
   ]
  },
  {
   "cell_type": "code",
   "execution_count": null,
   "metadata": {},
   "outputs": [],
   "source": [
    "median_UMAP_within = UMAP_df[UMAP_df.clade_status == \"within\"].median()\n",
    "median_UMAP_between = UMAP_df[UMAP_df.clade_status == \"between\"].median()"
   ]
  },
  {
   "cell_type": "code",
   "execution_count": null,
   "metadata": {},
   "outputs": [],
   "source": [
    "def ratioFunction(num1, num2):\n",
    "    ratio12 = int(num1/num2)\n",
    "    return ratio12"
   ]
  },
  {
   "cell_type": "code",
   "execution_count": null,
   "metadata": {},
   "outputs": [],
   "source": [
    "genetic_ratio = ratioFunction(median_genetic_between,median_genetic_within)\n",
    "print(genetic_ratio)"
   ]
  },
  {
   "cell_type": "code",
   "execution_count": null,
   "metadata": {},
   "outputs": [],
   "source": [
    "PCA_ratio = ratioFunction(median_PCA_between,median_PCA_within)\n",
    "print(PCA_ratio)"
   ]
  },
  {
   "cell_type": "code",
   "execution_count": null,
   "metadata": {},
   "outputs": [],
   "source": [
    "MDS_ratio = ratioFunction(median_MDS_between,median_MDS_within)\n",
    "print(MDS_ratio)"
   ]
  },
  {
   "cell_type": "code",
   "execution_count": null,
   "metadata": {},
   "outputs": [],
   "source": [
    "TSNE_ratio = ratioFunction(median_TSNE_between,median_TSNE_within)\n",
    "print(TSNE_ratio)"
   ]
  },
  {
   "cell_type": "code",
   "execution_count": null,
   "metadata": {},
   "outputs": [],
   "source": [
    "UMAP_ratio = ratioFunction(median_UMAP_between,median_UMAP_within)\n",
    "print(UMAP_ratio)"
   ]
  }
 ],
 "metadata": {
  "kernelspec": {
   "display_name": "Python 3",
   "language": "python",
   "name": "python3"
  },
  "language_info": {
   "codemirror_mode": {
    "name": "ipython",
    "version": 3
   },
   "file_extension": ".py",
   "mimetype": "text/x-python",
   "name": "python",
   "nbconvert_exporter": "python",
   "pygments_lexer": "ipython3",
   "version": "3.6.9"
  }
 },
 "nbformat": 4,
 "nbformat_minor": 4
}
