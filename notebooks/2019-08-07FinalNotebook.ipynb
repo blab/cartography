{
 "cells": [
  {
   "cell_type": "markdown",
   "metadata": {},
   "source": [
    "# This is Cartography put together into one place. "
   ]
  },
  {
   "cell_type": "markdown",
   "metadata": {},
   "source": [
    "## Modules to add to run this code:"
   ]
  },
  {
   "cell_type": "markdown",
   "metadata": {},
   "source": [
    "- [BioPython][1]\n",
    "- [Pandas][2]\n",
    "- [Numpy][3]\n",
    "- [Altair][4]\n",
    "- [Seaborn][5]\n",
    "- [Scikit-Learn][6]\n",
    "- [UMAP][7]\n",
    "- json\n",
    "- nextstrain-augur\n",
    "[1]:https://biopython.org/wiki/Download\n",
    "[2]:https://pandas.pydata.org/pandas-docs/version/0.23.3/install.html\n",
    "[3]:https://docs.scipy.org/doc/numpy/user/quickstart.html\n",
    "[4]:https://altair-viz.github.io/getting_started/installation.html\n",
    "[5]:https://seaborn.pydata.org/installing.html\n",
    "[6]:https://scikit-learn.org/stable/install.html\n",
    "[7]:https://umap-learn.readthedocs.io/en/latest/\n"
   ]
  },
  {
   "cell_type": "markdown",
   "metadata": {},
   "source": [
    "# Imports Section "
   ]
  },
  {
   "cell_type": "code",
   "execution_count": null,
   "metadata": {},
   "outputs": [],
   "source": [
    "import pandas as pd\n",
    "import altair as alt\n",
    "import numpy as np\n",
    "from scipy.spatial.distance import squareform, pdist\n",
    "import pandas as pd\n",
    "import numpy as np\n",
    "from Bio import SeqIO\n",
    "import seaborn as sns\n",
    "import re\n",
    "import matplotlib.pyplot as plt\n",
    "from sklearn.decomposition import PCA\n",
    "from augur.utils import json_to_tree\n",
    "import json\n",
    "from sklearn.manifold import MDS\n",
    "from sklearn.manifold import TSNE\n",
    "import umap\n",
    "from scipy.stats import linregress\n",
    "from pathlib import Path"
   ]
  },
  {
   "cell_type": "markdown",
   "metadata": {},
   "source": [
    "# METHODS SECTION\n",
    "- All the methods I use throughout this notebook is all together up here. "
   ]
  },
  {
   "cell_type": "markdown",
   "metadata": {},
   "source": [
    "### Taking the result strains from reading in the metadata and concatenating it to the principal components (where each row is joined with one genome)"
   ]
  },
  {
   "cell_type": "code",
   "execution_count": null,
   "metadata": {},
   "outputs": [],
   "source": [
    "\"\"\"\n",
    "principal_Df -- Data from data reduction (-T-SNE, MDS, etc) (pandas DataFrame)\n",
    "result_metadata -- the metadata that is being read in (Pandas DataFrame)\n",
    "fields, the parts of metadata that should be concatenated with princiapl_Df (list)\n",
    "\"\"\"\n",
    "def concatenate_results_with_strain_data(principal_Df,result_metadata,fields):\n",
    "    finalDf = pd.concat([principal_Df, result_metadata[fields]], axis = 1)\n",
    "    return finalDf"
   ]
  },
  {
   "cell_type": "markdown",
   "metadata": {},
   "source": [
    "### Altair method for easy tooltip/brushing below"
   ]
  },
  {
   "cell_type": "code",
   "execution_count": null,
   "metadata": {},
   "outputs": [],
   "source": [
    "\"\"\"\n",
    "Defining Fields:\n",
    "finalDf: The data that is used to generate the scatter plot (pandas DataFrame)\n",
    "x, the data you want on the x axis (string)\n",
    "y, the data you want on the y axis (string)\n",
    "Titlex,the name you want on the x axis (string)\n",
    "Titley, the name you want on the y axis (string)\n",
    "Tooltip, when scanning over a point, the data you want avaiable (list)\n",
    "Color, what the scatterplot is colored by (String)\n",
    "\"\"\"\n",
    "def scatterplot_with_tooltip_interactive(finalDf,x,y,Titlex,Titley,ToolTip,color):\n",
    "    brush = alt.selection(type='interval', resolve='global')\n",
    "    chart = alt.Chart(finalDf).mark_circle(size=60).encode(\n",
    "        x=alt.X(x,title=Titlex),\n",
    "        y=alt.X(y,title=Titley),\n",
    "        color=color,\n",
    "        tooltip=ToolTip\n",
    "    ).interactive()\n",
    "    chart.display()\n",
    "    #return chart"
   ]
  },
  {
   "cell_type": "markdown",
   "metadata": {},
   "source": [
    "### Linking tree with plots brush"
   ]
  },
  {
   "cell_type": "code",
   "execution_count": null,
   "metadata": {},
   "outputs": [],
   "source": [
    "\"\"\"\n",
    "dataframe: dataframe including node data and dimensionality reduction data (Pandas Dataframe)\n",
    "list_of_data: list of all the names of the columns in the dataframe for which you want graphs: goes in the order of [x1,y1,x2,y2,x3,y3] etc.(list)\n",
    "list_of_titles: list of all the TITLES you want for each axis: goes in order of[x1,y1,x2,y2,x3,y3] etc.(list)\n",
    "color: what the data should be colored by (string)\n",
    "ToolTip: when hovering over the data, what data should be shown (list)\n",
    "\"\"\"\n",
    "def linking_tree_with_plots_brush(dataFrame,list_of_data,list_of_titles,color,ToolTip):\n",
    "    list_of_chart = []\n",
    "    if(len(list_of_data) % 2 != 0 or len(list_of_titles) % 2 != 0):\n",
    "        raise Exception('The length of list_of_data and the length of list_of_titles should not be odd.')\n",
    "    else:\n",
    "        base = alt.Chart(dataFrame)\n",
    "        brush = alt.selection(type='interval', resolve='global')\n",
    "        tree_name = base.mark_circle().encode(\n",
    "            x=alt.X(\n",
    "                \"date:Q\",\n",
    "                scale=alt.Scale(domain=(dataFrame[\"date\"].min() - 0.2, dataFrame[\"date\"].max() + 0.2)),\n",
    "                title=\"Date\"\n",
    "            ),\n",
    "            y=alt.Y(\n",
    "                \"y:Q\",\n",
    "                title=\"\"\n",
    "            ),\n",
    "            color=alt.condition(brush, color, alt.ColorValue('gray')),\n",
    "            tooltip=ToolTip\n",
    "        ).add_selection(brush).properties(width=400,height=250)\n",
    "        list_of_chart.append(tree_name)\n",
    "        \n",
    "        for i in range(0,len(list_of_data) - 1,2):\n",
    "            if(i == len(list_of_data)):\n",
    "                break\n",
    "            chart = base.mark_circle(size=60).encode(\n",
    "            x=alt.X(list_of_data[i],title=list_of_titles[i]),\n",
    "            y=alt.X(list_of_data[i + 1],title=list_of_titles[i + 1]),\n",
    "            color=alt.condition(brush, color, alt.ColorValue('gray')),\n",
    "            tooltip=ToolTip\n",
    "            ).add_selection(\n",
    "                brush\n",
    "            ).properties(\n",
    "                width=250,\n",
    "                height=250\n",
    "            )\n",
    "            list_of_chart.append(chart)\n",
    "        return list_of_chart"
   ]
  },
  {
   "cell_type": "markdown",
   "metadata": {},
   "source": [
    "### Linking Tree with Plots Clickable"
   ]
  },
  {
   "cell_type": "code",
   "execution_count": null,
   "metadata": {},
   "outputs": [],
   "source": [
    "def linking_tree_with_plots_clickable(dataFrame,list_of_data,list_of_titles,colors,fields,ToolTip):\n",
    "    list_of_chart = []\n",
    "    if(len(list_of_data) % 2 != 0 or len(list_of_titles) % 2 != 0):\n",
    "        raise Exception('The length of list_of_data and the length of list_of_titles should not be odd.')\n",
    "    else:\n",
    "        base = alt.Chart(dataFrame)\n",
    "        selection = alt.selection_multi(fields=fields)\n",
    "\n",
    "        color = alt.condition(selection,\n",
    "                              alt.Color(colors,legend=None),\n",
    "                              alt.value('lightgray'))\n",
    "        tree_name = base.mark_circle().encode(\n",
    "            x=alt.X(\n",
    "                \"date:Q\",\n",
    "                scale=alt.Scale(domain=(dataFrame[\"date\"].min() - 0.2, dataFrame[\"date\"].max() + 0.2)),\n",
    "                title=\"Date\"\n",
    "            ),\n",
    "            y=alt.Y(\n",
    "                \"y:Q\",\n",
    "                title=\"\"\n",
    "            ),\n",
    "            color=color,\n",
    "            tooltip=ToolTip\n",
    "        ).add_selection(selection).properties(width=400,height=250)\n",
    "        \n",
    "        list_of_chart.append(tree_name)\n",
    "        for i in range(0,len(list_of_data) - 1,2):\n",
    "            if(i == len(list_of_data)):\n",
    "                break\n",
    "            chart = base.mark_circle(size=60).encode(\n",
    "            x=alt.X(list_of_data[i],title=list_of_titles[i]),\n",
    "            y=alt.X(list_of_data[i + 1],title=list_of_titles[i + 1]),\n",
    "            color=color,\n",
    "            tooltip=ToolTip\n",
    "            ).add_selection(\n",
    "                selection\n",
    "            ).properties(\n",
    "                width=250,\n",
    "                height=250\n",
    "            )\n",
    "            list_of_chart.append(chart)\n",
    "        legend = base.mark_point().encode(\n",
    "            y=alt.Y(colors, axis=alt.Axis(orient='right')),\n",
    "            color=colors\n",
    "        ).add_selection(\n",
    "            selection\n",
    "        )\n",
    "        list_of_chart.append(legend)\n",
    "        \n",
    "        \n",
    "        return list_of_chart"
   ]
  },
  {
   "cell_type": "markdown",
   "metadata": {},
   "source": [
    "### Making scatterplot of pairwise vs euclidean distance"
   ]
  },
  {
   "cell_type": "code",
   "execution_count": null,
   "metadata": {},
   "outputs": [],
   "source": [
    "\"\"\"\n",
    "similarity_matrix: matrix of pairwise differences from data (pandas Dataframe)\n",
    "df_merged: the mergd dataframe between your tree JSON and the FASTA file strains (pandas Dataframe)\n",
    "column1: one of the data cluster column names in df_merged\n",
    "column2: the other data cluster column name in df_merged\n",
    "type_of_embedding: type of embedding (PCA, UMAP, TSNE, MDS)\n",
    "\"\"\"\n",
    "\n",
    "def scatterplot_tooltips(similarity_matrix, df_merged, column1, column2, type_of_embedding):\n",
    "    \n",
    "    embedding_df = df_merged[[column1, column2]]\n",
    "\n",
    "    finalDf = pd.concat([embedding_df, df_merged[['strain']]], axis = 1).dropna()\n",
    "    finalDf.columns = [column1, column2, 'strain']\n",
    "    \n",
    "    pairwise_distance_array = np.array(similarity_matrix)[np.triu_indices(len(finalDf), k = 0)]\n",
    "    pairwise_df = pd.DataFrame(pairwise_distance_array)\n",
    "    pairwise_df = pd.concat([pairwise_df, finalDf[['strain']]], axis = 1)\n",
    "\n",
    "    euclidean_distance_array = pdist(finalDf[[column1, column2]])\n",
    "    euclidean_distance_array = squareform(euclidean_distance_array)\n",
    "    euclidean_distance_array = euclidean_distance_array[np.triu_indices(len(finalDf), k = 0)]\n",
    "        \n",
    "    euclidean_df = pd.DataFrame(euclidean_distance_array)\n",
    "    euclidean_df = pd.concat([euclidean_df, finalDf[['strain']]], axis = 1).dropna()\n",
    "    \n",
    "    final_df = euclidean_df.merge(pairwise_df,how='inner',on = 'strain')\n",
    "    \n",
    "    regression = linregress(pairwise_distance_array,euclidean_distance_array)\n",
    "    slope, intercept, r_value, p_value, std_err = regression\n",
    "    \n",
    "    alt.data_transformers.disable_max_rows()\n",
    "    chart = alt.Chart(final_df).mark_circle(size=60).encode(\n",
    "        x=alt.X('0_x',title = \"pairwise distance\"),\n",
    "        y=alt.X('0_y', title = \"Euclidean distance\"),\n",
    "        tooltip=['strain']\n",
    "    ).properties(title=\"Pairwise vs. Euclidean scatterplot: \" + type_of_embedding + \"  (\" + str(r_value.round(3)) + \")\",height=200,width=300)\n",
    "    return chart   \n",
    "        "
   ]
  },
  {
   "cell_type": "code",
   "execution_count": null,
   "metadata": {},
   "outputs": [],
   "source": [
    "def scatterplot_xyvalues(similarity_matrix, df_merged, column1, column2, type_of_embedding):\n",
    "    embedding_df = df_merged[[column1, column2]]\n",
    "\n",
    "    finalDf = pd.concat([embedding_df, df_merged[['strain']]], axis = 1).dropna()\n",
    "    finalDf.columns = [column1, column2, 'strain']\n",
    "    \n",
    "    pairwise_distance_array = np.array(similarity_matrix)[np.triu_indices(len(finalDf), k = 0)]\n",
    "    pairwise_df = pd.DataFrame(pairwise_distance_array)\n",
    "    pairwise_df = pd.concat([pairwise_df, finalDf[['strain']]], axis = 1)\n",
    "\n",
    "    euclidean_distance_array = pdist(finalDf[[column1, column2]])\n",
    "    euclidean_distance_array = squareform(euclidean_distance_array)\n",
    "    euclidean_distance_array = euclidean_distance_array[np.triu_indices(len(finalDf), k = 0)]\n",
    "        \n",
    "    euclidean_df = pd.DataFrame(euclidean_distance_array)\n",
    "    euclidean_df = pd.concat([euclidean_df, finalDf[['strain']]], axis = 1).dropna()\n",
    "    \n",
    "    final_df = euclidean_df.merge(pairwise_df,how='inner',on = 'strain')\n",
    "    \n",
    "    return final_df"
   ]
  },
  {
   "cell_type": "code",
   "execution_count": null,
   "metadata": {},
   "outputs": [],
   "source": [
    "def linregress_data(similarity_matrix, df_merged, column1, column2, type_of_embedding):\n",
    "    \n",
    "    embedding_df = df_merged[[column1, column2]]\n",
    "\n",
    "    finalDf = pd.concat([embedding_df, df_merged[['strain']]], axis = 1).dropna()\n",
    "    finalDf.columns = [column1, column2, 'strain']\n",
    "    \n",
    "    pairwise_distance_array = np.array(similarity_matrix)[np.triu_indices(len(finalDf), k = 0)]\n",
    "    pairwise_df = pd.DataFrame(pairwise_distance_array)\n",
    "    pairwise_df = pd.concat([pairwise_df, finalDf[['strain']]], axis = 1)\n",
    "\n",
    "    euclidean_distance_array = pdist(finalDf[[column1, column2]])\n",
    "    euclidean_distance_array = squareform(euclidean_distance_array)\n",
    "    euclidean_distance_array = euclidean_distance_array[np.triu_indices(len(finalDf), k = 0)]\n",
    "        \n",
    "    euclidean_df = pd.DataFrame(euclidean_distance_array)\n",
    "    euclidean_df = pd.concat([euclidean_df, finalDf[['strain']]], axis = 1).dropna()\n",
    "    \n",
    "    final_df = euclidean_df.merge(pairwise_df,how='inner',on = 'strain')\n",
    "    \n",
    "    regression = linregress(pairwise_distance_array,euclidean_distance_array)\n",
    "    slope, intercept, r_value, p_value, std_err = regression\n",
    "    return r_value"
   ]
  },
  {
   "cell_type": "code",
   "execution_count": null,
   "metadata": {},
   "outputs": [],
   "source": [
    "def scatterplot_tooltips_df(similarity_matrix, df_merged, column1, column2, type_of_embedding):\n",
    "    \n",
    "    embedding_df = df_merged[[column1, column2]]\n",
    "\n",
    "    finalDf = pd.concat([embedding_df, df_merged[['strain']]], axis = 1).dropna()\n",
    "    finalDf.columns = [column1, column2, 'strain']\n",
    "    \n",
    "    pairwise_distance_array = np.array(similarity_matrix)[np.triu_indices(len(finalDf), k = 0)]\n",
    "    pairwise_df = pd.DataFrame(pairwise_distance_array)\n",
    "    pairwise_df = pd.concat([pairwise_df, finalDf[['strain']]], axis = 1)\n",
    "\n",
    "    euclidean_distance_array = pdist(finalDf[[column1, column2]])\n",
    "    euclidean_distance_array = squareform(euclidean_distance_array)\n",
    "    euclidean_distance_array = euclidean_distance_array[np.triu_indices(len(finalDf), k = 0)]\n",
    "        \n",
    "    euclidean_df = pd.DataFrame(euclidean_distance_array)\n",
    "    euclidean_df = pd.concat([euclidean_df, finalDf[['strain']]], axis = 1).dropna()\n",
    "    \n",
    "    final_df = euclidean_df.merge(pairwise_df,how='inner',on = 'strain')\n",
    "    final_df[\"embedding\"]=type_of_embedding\n",
    "    return final_df"
   ]
  },
  {
   "cell_type": "markdown",
   "metadata": {},
   "source": [
    "### Creating a method for making the similarity matrix"
   ]
  },
  {
   "cell_type": "code",
   "execution_count": null,
   "metadata": {},
   "outputs": [],
   "source": [
    "\"\"\"\n",
    "path: path to file (string)\n",
    "df_merged: the merged dataframe that contains the metadata/strains that the tree JSON and FASTA file have (pandas dataframe)\n",
    "\"\"\"\n",
    "def making_scatterplot_pairwise_matrix(path,df_merged):\n",
    "    strains = []\n",
    "    genomes = []\n",
    "    for record in SeqIO.parse(path, \"fasta\"):\n",
    "            strains.append(str(record.id))\n",
    "            genomes.append(str(record.seq))\n",
    "    genomes_df = pd.DataFrame(genomes)\n",
    "    genomes_df.columns = ['genomes']\n",
    "\n",
    "    strains_df = pd.DataFrame(strains)\n",
    "    strains_df.columns = ['strain']\n",
    "\n",
    "    df_merged = genomes_df.merge(strains_df, how='outer', left_index=True, right_index=True)\n",
    "\n",
    "    merged2_df = df_merged.merge(merged_df, how = 'inner', on = 'strain')\n",
    "    merged2_df = merged2_df[['genomes','strain']]\n",
    "    \n",
    "    genomes_numpy = merged2_df[['genomes']].to_numpy()\n",
    "    genomes = genomes_numpy.tolist()\n",
    "    genomes = list(genomes_numpy)\n",
    "    \n",
    "    numbers = []\n",
    "    matrixOfNum = []\n",
    "    for i in merged2_df.index:\n",
    "        for j in merged2_df.index:\n",
    "            num = hamming_distance(merged2_df['genomes'][i],merged2_df['genomes'][j])\n",
    "            numbers.append(num)\n",
    "        matrixOfNum.append(numbers)\n",
    "        numbers = []\n",
    "    dataa = pd.DataFrame(matrixOfNum, columns = [\"strain \" + str(i) for i in range(1,len(matrixOfNum) + 1)], dtype=\"float\")\n",
    "    return dataa\n",
    "    \n",
    "    "
   ]
  },
  {
   "cell_type": "markdown",
   "metadata": {},
   "source": [
    "### Making within vs between clade boxplots"
   ]
  },
  {
   "cell_type": "code",
   "execution_count": null,
   "metadata": {},
   "outputs": [],
   "source": [
    "def get_euclidean_data_frame(sampled_df, column1, column2, embedding):\n",
    "    \"\"\"\n",
    "    Returns a data frame of Euclidean distances for the requested embedding columns.\n",
    "    \n",
    "    The given `sampled_df` MUST include a \"clade_membership\" column.\n",
    "    \"\"\"    \n",
    "    # Traverse pairs of samples from left-to-right, top-to-bottom\n",
    "    # along the upper triangle of the pairwise matrix and collect\n",
    "    # the clade status of each pair as either within- or between-clades.\n",
    "    # This traversal excludes self-self comparisons along the diagonal.\n",
    "    clade_status = []\n",
    "    for i in range(sampled_df.shape[0] - 1):\n",
    "        for j in range(i + 1, sampled_df.shape[0]):\n",
    "            if sampled_df.iloc[i][\"clade_membership\"] != sampled_df.iloc[j][\"clade_membership\"]:\n",
    "                clade_status.append(\"between\")\n",
    "            else:\n",
    "                clade_status.append(\"within\")\n",
    "\n",
    "    # Calculate pairwise distances between samples for the requested columns.\n",
    "    # The resulting array is in the same left-to-right, top-to-bottom order\n",
    "    # as the clade statuses above.\n",
    "    sampled_distances = pdist(sampled_df[[column1, column2]])\n",
    "    \n",
    "    # Align clade status with pairwise distance for each pairwise comparison.\n",
    "    sampled_distances_df = pd.DataFrame({\"distance\": sampled_distances, \"clade_status\": clade_status})\n",
    "    \n",
    "    # Annotate the requested embedding.\n",
    "    sampled_distances_df[\"embedding\"] = embedding\n",
    "    \n",
    "    return sampled_distances_df"
   ]
  },
  {
   "cell_type": "code",
   "execution_count": null,
   "metadata": {},
   "outputs": [],
   "source": [
    "#merged_df MUST include clade_membership and strain name merged with the respective distances\n",
    "def making_with_vs_between_boxplots(merged_df, column1, column2):\n",
    "    matrix_of_numbers = []\n",
    "    row_of_numbers = []\n",
    "    node_list = merged_df['clade_membership'].tolist()\n",
    "\n",
    "    for index in node_list:\n",
    "        for index2 in node_list:\n",
    "            if(index == index2):\n",
    "                row_of_numbers.append(\"within_clade\")\n",
    "            else:\n",
    "                row_of_numbers.append(\"between_clade\")\n",
    "        matrix_of_numbers.append(row_of_numbers)\n",
    "        row_of_numbers = []\n",
    "\n",
    "    color_distance_array = np.array(matrix_of_numbers)[np.triu_indices(len(matrix_of_numbers), k = 0)]\n",
    "    color_df = pd.DataFrame(color_distance_array)\n",
    "    \n",
    "    euclidean_distance_array = pdist(merged_df[[column1, column2]])\n",
    "    euclidean_distance_array = squareform(euclidean_distance_array)\n",
    "    euclidean_distance_array = euclidean_distance_array[np.triu_indices(len(matrix_of_numbers), k = 0)]\n",
    "    \n",
    "    euclidean_df = pd.DataFrame(euclidean_distance_array)\n",
    "    \n",
    "    color_similarity = euclidean_df.merge(color_df, right_index = True, left_index = True)\n",
    "    color_similarity.columns = ['distance','color']\n",
    "    \n",
    "    chart = alt.Chart(color_similarity.sample(n=25000),height=150).mark_boxplot().encode(\n",
    "    x = alt.X('distance',title=\"mean distances\"),\n",
    "    y = 'color'\n",
    "    )\n",
    "    return chart"
   ]
  },
  {
   "cell_type": "markdown",
   "metadata": {},
   "source": [
    "### Reading in the Fasta File\n",
    "- I used BioPython to parse the Fasta file into two numpy Arrays: Genomes and Strains. "
   ]
  },
  {
   "cell_type": "code",
   "execution_count": null,
   "metadata": {},
   "outputs": [],
   "source": [
    "#work on making this work\n",
    "path = \"../zika-nextstrain/results/aligned.fasta\"\n",
    "strains = []\n",
    "genomes = []\n",
    "for record in SeqIO.parse(path, \"fasta\"):\n",
    "    strains.append(str(record.id))\n",
    "    genomes.append(str(record.seq))"
   ]
  },
  {
   "cell_type": "markdown",
   "metadata": {},
   "source": [
    "#### Checking to make sure the file I picked is a aligned Fasta file / is the file I wanted"
   ]
  },
  {
   "cell_type": "code",
   "execution_count": null,
   "metadata": {},
   "outputs": [],
   "source": [
    "len(strains)\n",
    "print(len(genomes[0]) == len(genomes[1]))\n",
    "print(len(genomes))"
   ]
  },
  {
   "cell_type": "code",
   "execution_count": null,
   "metadata": {},
   "outputs": [],
   "source": [
    "strains[:5]"
   ]
  },
  {
   "cell_type": "markdown",
   "metadata": {},
   "source": [
    "# Creating the Distance Matrix\n",
    "- I used Hamming Distance to find the pairwise distance between each genome and each other genome, effectively creating a similarity/distance matrix\n",
    "    - In my Hamming Distance method, I only counted something as a different if it was a mismatch between the nucleotides (A,G,C, or T), not gaps (as that was throwing off the algorithm too much for smaller strains)\n",
    "- I then used Seaborn to generate a heatmap to make sure the matrix looked correct"
   ]
  },
  {
   "cell_type": "code",
   "execution_count": null,
   "metadata": {},
   "outputs": [],
   "source": [
    "# Return the Hamming distance between string1 and string2.\n",
    "# string1 and string2 should be the same length.\n",
    "# check both are in a list of [agct] - check if they are different\n",
    "# recalculate pairwise distances with just ATCG\n",
    "listOfNucleotides = [\"A\",\"G\",\"C\",\"T\"]\n",
    "def hamming_distance(array1, array2): \n",
    "    # Start with a distance of zero, and count up\n",
    "    distance = 0\n",
    "    # Loop over the indices of the string\n",
    "    L = len(array1)\n",
    "    for i in range(L):\n",
    "        # Add 1 to the distance if these two characters are not equal\n",
    "        if array1[i] in listOfNucleotides and array2[i] in listOfNucleotides and array1[i] != array2[i]:\n",
    "            distance += 1\n",
    "    # Return the final count of differences\n",
    "    return distance"
   ]
  },
  {
   "cell_type": "code",
   "execution_count": null,
   "metadata": {},
   "outputs": [],
   "source": [
    "try:\n",
    "    similarity_matrix = pd.read_csv(\"DistanceMatrixFluZika.csv\")\n",
    "except:\n",
    "    #using Hamming Distance to create a similarity matrix\n",
    "    numbers = []\n",
    "    matrixOfNum = []\n",
    "    for i in range(0, len(genomes)):\n",
    "        for j in range(0,len(genomes)):\n",
    "            num = hamming_distance(genomes[i],genomes[j])\n",
    "            numbers.append(num)\n",
    "        matrixOfNum.append(numbers)\n",
    "        numbers = []\n",
    "    similarity_matrix = pd.DataFrame(matrixOfNum, columns = [\"strain \" + str(i) for i in range(1,len(matrixOfNum) + 1)], dtype=\"int\") \n",
    "    similarity_matrix = similarity_matrix.to_csv(\"DistanceMatrixFluZika.csv\",sep=',',index=False)"
   ]
  },
  {
   "cell_type": "code",
   "execution_count": null,
   "metadata": {},
   "outputs": [],
   "source": [
    "print(sns.heatmap(similarity_matrix))"
   ]
  },
  {
   "cell_type": "markdown",
   "metadata": {},
   "source": [
    "# Reading in the Metadata\n",
    "- The metadata is used for getting the region, country, etc of different strains. This data is used to color the clusters.\n",
    "- The metadata contains all of the possible sampled strains, so many of these will not be in the genomes from the aligned file, probably because the strains were corrupted, too short, etc. \n",
    "- We merge this metadata with the strains we have in the aligned file to get a list of all of the strains that match between both. It should come out to the amount of strains in the aligned file."
   ]
  },
  {
   "cell_type": "code",
   "execution_count": null,
   "metadata": {},
   "outputs": [],
   "source": [
    "#merging my final dataframe with their regions and strain names\n",
    "cwd = Path.cwd()\n",
    "goal_dir = cwd.parent\n",
    "pathMeta = goal_dir.joinpath(\"zika-nextstrain\", \"results\", \"metadata.tsv\")\n",
    "metadata_df = pd.read_csv(pathMeta, delimiter='\\t')"
   ]
  },
  {
   "cell_type": "code",
   "execution_count": null,
   "metadata": {},
   "outputs": [],
   "source": [
    "metadata_df.head()"
   ]
  },
  {
   "cell_type": "code",
   "execution_count": null,
   "metadata": {},
   "outputs": [],
   "source": [
    "metadata_df.shape"
   ]
  },
  {
   "cell_type": "code",
   "execution_count": null,
   "metadata": {},
   "outputs": [],
   "source": [
    "#making a dataframe out of the strains from the alignment file to merge with the metadata\n",
    "strains_df = pd.DataFrame(strains)\n",
    "strains_df.columns = ['strain']"
   ]
  },
  {
   "cell_type": "code",
   "execution_count": null,
   "metadata": {},
   "outputs": [],
   "source": [
    "strains_df.shape"
   ]
  },
  {
   "cell_type": "code",
   "execution_count": null,
   "metadata": {},
   "outputs": [],
   "source": [
    "#Merging strains and metadata \n",
    "result_strains = pd.merge(strains_df,metadata_df, on='strain', how= \"left\")"
   ]
  },
  {
   "cell_type": "code",
   "execution_count": null,
   "metadata": {},
   "outputs": [],
   "source": [
    "#checking that no strains were lost\n",
    "result_strains.shape"
   ]
  },
  {
   "cell_type": "code",
   "execution_count": null,
   "metadata": {},
   "outputs": [],
   "source": [
    "np.setdiff1d(strains_df['strain'].unique(),metadata_df['strain'].unique())"
   ]
  },
  {
   "cell_type": "markdown",
   "metadata": {},
   "source": [
    "# Creating the Phylogenetic Tree in Altair\n",
    "- I used Altair to make this tree (Documentation linked [here][1]\n",
    "- I opened and imported the json from a build from NextStrain ([flu][2], [zika][3], etc)\n",
    "- The data from the JSON and the Data from the tree are usually a little different, so after merging the two dataframes you may get some errors.\n",
    "\n",
    "[1]: https://altair-viz.github.io/index.html\n",
    "[2]: https://github.com/nextstrain/seasonal-flu\n",
    "[3]: https://altair-viz.github.io/index.html"
   ]
  },
  {
   "cell_type": "code",
   "execution_count": null,
   "metadata": {},
   "outputs": [],
   "source": [
    "with open('../zika-nextstrain/auspice/zika-cartography_tree.json') as fh:\n",
    "    json_tree_handle = json.load(fh)"
   ]
  },
  {
   "cell_type": "code",
   "execution_count": null,
   "metadata": {},
   "outputs": [],
   "source": [
    "tree = json_to_tree(json_tree_handle)"
   ]
  },
  {
   "cell_type": "code",
   "execution_count": null,
   "metadata": {},
   "outputs": [],
   "source": [
    "tree"
   ]
  },
  {
   "cell_type": "code",
   "execution_count": null,
   "metadata": {},
   "outputs": [],
   "source": [
    "node_data = [\n",
    "    {\n",
    "        \"strain\": node.name,\n",
    "        \"date\": node.attr[\"num_date\"],\n",
    "        \"y\": node.yvalue,\n",
    "        \"region\": node.attr[\"region\"],\n",
    "        \"country\": node.attr[\"country\"],\n",
    "        \"parent_date\": node.parent is not None and node.parent.attr[\"num_date\"] or node.attr[\"num_date\"],\n",
    "        \"parent_y\": node.parent is not None and node.parent.yvalue or node.yvalue,\n",
    "        \"clade_membership\" : node.attr['clade_membership']\n",
    "    }\n",
    "    for node in tree.find_clades(terminal=True)\n",
    "]"
   ]
  },
  {
   "cell_type": "code",
   "execution_count": null,
   "metadata": {},
   "outputs": [],
   "source": [
    "node_data[10]"
   ]
  },
  {
   "cell_type": "code",
   "execution_count": null,
   "metadata": {},
   "outputs": [],
   "source": [
    "node_df = pd.DataFrame(node_data)"
   ]
  },
  {
   "cell_type": "code",
   "execution_count": null,
   "metadata": {},
   "outputs": [],
   "source": [
    "node_df.head()"
   ]
  },
  {
   "cell_type": "code",
   "execution_count": null,
   "metadata": {},
   "outputs": [],
   "source": [
    "node_df[\"y\"] = node_df[\"y\"].max() - node_df[\"y\"]"
   ]
  },
  {
   "cell_type": "code",
   "execution_count": null,
   "metadata": {},
   "outputs": [],
   "source": [
    "node_df[\"parent_y\"] = node_df[\"parent_y\"].max() - node_df[\"parent_y\"]"
   ]
  },
  {
   "cell_type": "code",
   "execution_count": null,
   "metadata": {},
   "outputs": [],
   "source": [
    "node_df.shape"
   ]
  },
  {
   "cell_type": "code",
   "execution_count": null,
   "metadata": {},
   "outputs": [],
   "source": [
    "node_df.head()"
   ]
  },
  {
   "cell_type": "code",
   "execution_count": null,
   "metadata": {},
   "outputs": [],
   "source": [
    "node_df[\"region\"].unique()"
   ]
  },
  {
   "cell_type": "code",
   "execution_count": null,
   "metadata": {},
   "outputs": [],
   "source": [
    "node_numpy = node_df['clade_membership'].to_numpy()\n",
    "clade_ok = []\n",
    "for node in node_numpy:\n",
    "    clade_ok.append(node)"
   ]
  },
  {
   "cell_type": "code",
   "execution_count": null,
   "metadata": {},
   "outputs": [],
   "source": [
    "clade_new = pd.DataFrame(clade_ok)\n",
    "node_df = node_df.merge(clade_new, how='outer', left_index=True, right_index=True)"
   ]
  },
  {
   "cell_type": "code",
   "execution_count": null,
   "metadata": {},
   "outputs": [],
   "source": [
    "node_df.head()"
   ]
  },
  {
   "cell_type": "code",
   "execution_count": null,
   "metadata": {},
   "outputs": [],
   "source": [
    "node_df.columns = ['strain', 'date', 'y', 'region', 'country', 'parent_date',\n",
    "      'parent_y', 'clade_membership', 'clade_membership_color']"
   ]
  },
  {
   "cell_type": "markdown",
   "metadata": {},
   "source": [
    "## Checking for Outliers in Pairwise Distance"
   ]
  },
  {
   "cell_type": "code",
   "execution_count": null,
   "metadata": {},
   "outputs": [],
   "source": [
    "result_df = pd.DataFrame(result_strains['strain'])\n",
    "similarity_matrix.shape"
   ]
  },
  {
   "cell_type": "code",
   "execution_count": null,
   "metadata": {},
   "outputs": [],
   "source": [
    "index_df = pd.DataFrame(similarity_matrix.mean().index)"
   ]
  },
  {
   "cell_type": "code",
   "execution_count": null,
   "metadata": {},
   "outputs": [],
   "source": [
    "result_index_df = result_df.set_index(similarity_matrix.mean().index)\n",
    "mean_similarity_matrix = pd.DataFrame(similarity_matrix.mean())"
   ]
  },
  {
   "cell_type": "code",
   "execution_count": null,
   "metadata": {},
   "outputs": [],
   "source": [
    "result_index_df = result_index_df.merge(mean_similarity_matrix, left_index=True, right_index=True)\n",
    "result_index_df.columns = [\"strain\",\"mean\"]\n",
    "result_index_df"
   ]
  },
  {
   "cell_type": "code",
   "execution_count": null,
   "metadata": {},
   "outputs": [],
   "source": [
    "alt.Chart(result_index_df,height=150).mark_boxplot().encode(\n",
    "    x = alt.X('mean',title=\"mean of pairwise distances\"),\n",
    "    tooltip = [\"strain\"]\n",
    ")"
   ]
  },
  {
   "cell_type": "markdown",
   "metadata": {},
   "source": [
    "# Running PCA on Scaled and Centered Data\n",
    "- I treated each nucleotide as a \"site\", or dimension, and found the probability of having a certain nucleotide given the frequency of that letter at that site.\n",
    "- I used [this paper][1] as my source \n",
    "- The equation is as follows where C is the matrix of dimensions, M is the mean, and p is the frequency of a nucleotide at that given site. \n",
    "![](https://journals.plos.org/plosgenetics/article/file?type=thumbnail&id=info:doi/10.1371/journal.pgen.0020190.e003)"
   ]
  },
  {
   "cell_type": "code",
   "execution_count": null,
   "metadata": {},
   "outputs": [],
   "source": [
    "numbers = genomes[:]\n",
    "for i in range(0,len(genomes)):\n",
    "    numbers[i] = re.sub(r'[^AGCT]', '5', numbers[i])\n",
    "    numbers[i] = list(numbers[i].replace('A','1').replace('G','2').replace('C', '3').replace('T','4'))\n",
    "    numbers[i] = [int(j) for j in numbers[i]]\n",
    "genomes_df = pd.DataFrame(numbers)\n",
    "genomes_df.columns = [\"Site \" + str(k) for k in range(0,len(numbers[i]))]"
   ]
  },
  {
   "cell_type": "code",
   "execution_count": null,
   "metadata": {},
   "outputs": [],
   "source": [
    "genomes_df.head()"
   ]
  },
  {
   "cell_type": "code",
   "execution_count": null,
   "metadata": {},
   "outputs": [],
   "source": [
    "#performing PCA on my pandas dataframe \n",
    "pca = PCA(n_components=10,svd_solver='full') #can specify n, since with no prior knowledge, I use None\n",
    "principalComponents = pca.fit_transform(genomes_df)\n",
    "principalDf = pd.DataFrame(data = principalComponents, columns = [\"principal component \" + str(i) for i in range(1,11)])"
   ]
  },
  {
   "cell_type": "code",
   "execution_count": null,
   "metadata": {},
   "outputs": [],
   "source": [
    "df = pd.concat([pd.DataFrame(np.arange(1,11)), pd.DataFrame([round(pca.explained_variance_ratio_[i],4) for i in range(0,len(pca.explained_variance_ratio_))])], axis = 1)\n",
    "df.columns = ['principal components','explained variance']\n",
    "df"
   ]
  },
  {
   "cell_type": "code",
   "execution_count": null,
   "metadata": {},
   "outputs": [],
   "source": [
    "alt.Chart(df).mark_circle().encode(\n",
    "    x='principal components:Q',\n",
    "    y='explained variance:Q')"
   ]
  },
  {
   "cell_type": "code",
   "execution_count": null,
   "metadata": {},
   "outputs": [],
   "source": [
    "principalDf.head()"
   ]
  },
  {
   "cell_type": "markdown",
   "metadata": {},
   "source": [
    "\n",
    "# Merging Strain and PCA"
   ]
  },
  {
   "cell_type": "code",
   "execution_count": null,
   "metadata": {},
   "outputs": [],
   "source": [
    "strains_df = pd.DataFrame(strains)\n",
    "strains_df.columns = ['strain']"
   ]
  },
  {
   "cell_type": "code",
   "execution_count": null,
   "metadata": {},
   "outputs": [],
   "source": [
    "result_strains = pd.merge(strains_df,metadata_df, on='strain')"
   ]
  },
  {
   "cell_type": "code",
   "execution_count": null,
   "metadata": {},
   "outputs": [],
   "source": [
    "finalDf = pd.concat([principalDf, result_strains[['region','country','strain']]], axis = 1)"
   ]
  },
  {
   "cell_type": "code",
   "execution_count": null,
   "metadata": {},
   "outputs": [],
   "source": [
    "merged_df = pd.merge(finalDf,node_df,on=[\"strain\",\"region\"]).dropna()"
   ]
  },
  {
   "cell_type": "code",
   "execution_count": null,
   "metadata": {},
   "outputs": [],
   "source": [
    "merged_df.head()"
   ]
  },
  {
   "cell_type": "code",
   "execution_count": null,
   "metadata": {},
   "outputs": [],
   "source": [
    "merged_df = pd.merge(finalDf,node_df,on=[\"strain\",\"region\"]).dropna()"
   ]
  },
  {
   "cell_type": "code",
   "execution_count": null,
   "metadata": {},
   "outputs": [],
   "source": [
    "merged_df.head()"
   ]
  },
  {
   "cell_type": "code",
   "execution_count": null,
   "metadata": {},
   "outputs": [],
   "source": [
    "list_of_chart = linking_tree_with_plots_brush(merged_df,['principal component 1','principal component 2','principal component 3','principal component 4'],\n",
    "                                         ['Principal Component 1 (Explained Variance : {}%'.format(round(pca.explained_variance_ratio_[0]*100,2)) + \")\",\n",
    "                                          'Principal Component 2 (Explained Variance : {}%'.format(round(pca.explained_variance_ratio_[1]*100,2)) + \")\",\n",
    "                                          'Principal Component 3 (Explained Variance : {}%'.format(round(pca.explained_variance_ratio_[2]*100,2)) + \")\",\n",
    "                                          'Principal Component 4 (Explained Variance : {}%'.format(round(pca.explained_variance_ratio_[3]*100,2)) + \")\"],\n",
    "                                         \"clade_membership:N\",['strain','region'])\n",
    "chart = list_of_chart[0]|list_of_chart[1]|list_of_chart[2]\n",
    "chart"
   ]
  },
  {
   "cell_type": "code",
   "execution_count": null,
   "metadata": {},
   "outputs": [],
   "source": [
    "alt.data_transformers.disable_max_rows()\n",
    "chart = making_with_vs_between_boxplots(merged_df,'principal component 1','principal component 2')\n",
    "chart"
   ]
  },
  {
   "cell_type": "code",
   "execution_count": null,
   "metadata": {},
   "outputs": [],
   "source": [
    "merged_df.head()"
   ]
  },
  {
   "cell_type": "code",
   "execution_count": null,
   "metadata": {},
   "outputs": [],
   "source": [
    "merged_df.columns"
   ]
  },
  {
   "cell_type": "code",
   "execution_count": null,
   "metadata": {},
   "outputs": [],
   "source": [
    "matrix_of_numbers = []\n",
    "row_of_numbers = []\n",
    "node_list = merged_df['clade_membership'].tolist()"
   ]
  },
  {
   "cell_type": "code",
   "execution_count": null,
   "metadata": {},
   "outputs": [],
   "source": [
    "for index in node_list:\n",
    "    for index2 in node_list:\n",
    "        if(index == index2):\n",
    "            row_of_numbers.append(\"within_clade\")\n",
    "        else:\n",
    "            row_of_numbers.append(\"between_clade\")\n",
    "    matrix_of_numbers.append(row_of_numbers)\n",
    "    row_of_numbers = []"
   ]
  },
  {
   "cell_type": "code",
   "execution_count": null,
   "metadata": {},
   "outputs": [],
   "source": [
    "len(matrix_of_numbers)"
   ]
  },
  {
   "cell_type": "code",
   "execution_count": null,
   "metadata": {},
   "outputs": [],
   "source": [
    "len(matrix_of_numbers[0])"
   ]
  },
  {
   "cell_type": "code",
   "execution_count": null,
   "metadata": {},
   "outputs": [],
   "source": [
    "matrix_of_numbers[0][:5]"
   ]
  },
  {
   "cell_type": "code",
   "execution_count": null,
   "metadata": {},
   "outputs": [],
   "source": [
    "color_distance_array = np.array(matrix_of_numbers)[np.triu_indices(len(matrix_of_numbers), k = 0)]\n",
    "color_df = pd.DataFrame(color_distance_array)"
   ]
  },
  {
   "cell_type": "code",
   "execution_count": null,
   "metadata": {},
   "outputs": [],
   "source": [
    "np.triu_indices(len(matrix_of_numbers), k = 0)"
   ]
  },
  {
   "cell_type": "code",
   "execution_count": null,
   "metadata": {},
   "outputs": [],
   "source": [
    "color_distance_array"
   ]
  },
  {
   "cell_type": "code",
   "execution_count": null,
   "metadata": {},
   "outputs": [],
   "source": [
    "color_df.head()"
   ]
  },
  {
   "cell_type": "code",
   "execution_count": null,
   "metadata": {},
   "outputs": [],
   "source": [
    "color_df.shape"
   ]
  },
  {
   "cell_type": "code",
   "execution_count": null,
   "metadata": {},
   "outputs": [],
   "source": [
    "merged_df[['principal component 1', 'principal component 2']].head()"
   ]
  },
  {
   "cell_type": "code",
   "execution_count": null,
   "metadata": {},
   "outputs": [],
   "source": [
    "euclidean_distance_array = pdist(merged_df[['principal component 1', 'principal component 2']])"
   ]
  },
  {
   "cell_type": "code",
   "execution_count": null,
   "metadata": {},
   "outputs": [],
   "source": [
    "euclidean_distance_array.shape"
   ]
  },
  {
   "cell_type": "code",
   "execution_count": null,
   "metadata": {},
   "outputs": [],
   "source": [
    "euclidean_distance_array = squareform(euclidean_distance_array)"
   ]
  },
  {
   "cell_type": "code",
   "execution_count": null,
   "metadata": {},
   "outputs": [],
   "source": [
    "euclidean_distance_array.shape"
   ]
  },
  {
   "cell_type": "code",
   "execution_count": null,
   "metadata": {},
   "outputs": [],
   "source": [
    "euclidean_distance_array = euclidean_distance_array[np.triu_indices(len(matrix_of_numbers), k = 0)]"
   ]
  },
  {
   "cell_type": "code",
   "execution_count": null,
   "metadata": {},
   "outputs": [],
   "source": [
    "euclidean_distance_array"
   ]
  },
  {
   "cell_type": "code",
   "execution_count": null,
   "metadata": {},
   "outputs": [],
   "source": [
    "euclidean_df = pd.DataFrame(euclidean_distance_array)\n",
    "\n",
    "color_similarity = euclidean_df.merge(color_df, right_index = True, left_index = True)\n",
    "color_similarity.columns = ['distance','color']\n",
    "\n",
    "chart = alt.Chart(color_similarity.sample(n=25000),height=150).mark_boxplot().encode(\n",
    "x = alt.X('distance',title=\"mean distances\"),\n",
    "y = 'color'\n",
    ")"
   ]
  },
  {
   "cell_type": "markdown",
   "metadata": {},
   "source": [
    "# Running MDS on the Dataset"
   ]
  },
  {
   "cell_type": "code",
   "execution_count": null,
   "metadata": {},
   "outputs": [],
   "source": [
    "embedding = MDS(n_components=10,metric=True,dissimilarity='precomputed')\n",
    "X_transformed = embedding.fit_transform(similarity_matrix)"
   ]
  },
  {
   "cell_type": "code",
   "execution_count": null,
   "metadata": {},
   "outputs": [],
   "source": [
    "raw_stress = embedding.stress_\n",
    "normalized_stress = np.sqrt(raw_stress /((similarity_matrix.values.ravel() ** 2).sum() / 2))\n",
    "print(normalized_stress.round(2))"
   ]
  },
  {
   "cell_type": "code",
   "execution_count": null,
   "metadata": {},
   "outputs": [],
   "source": [
    "MDS_df = pd.DataFrame(X_transformed,columns=['MDS cluster ' + str(i) for i in range(1,11)])\n",
    "print(MDS_df.head())"
   ]
  },
  {
   "cell_type": "code",
   "execution_count": null,
   "metadata": {},
   "outputs": [],
   "source": [
    "finalDf = concatenate_results_with_strain_data(MDS_df, node_df, ['strain','clade_membership', 'clade_membership_color'])"
   ]
  },
  {
   "cell_type": "code",
   "execution_count": null,
   "metadata": {},
   "outputs": [],
   "source": [
    "finalDf.columns"
   ]
  },
  {
   "cell_type": "code",
   "execution_count": null,
   "metadata": {},
   "outputs": [],
   "source": [
    "finalDf.head()"
   ]
  },
  {
   "cell_type": "code",
   "execution_count": null,
   "metadata": {},
   "outputs": [],
   "source": [
    "merged_df = pd.merge(finalDf,node_df,on=[\"strain\",'clade_membership_color','clade_membership']).dropna()"
   ]
  },
  {
   "cell_type": "code",
   "execution_count": null,
   "metadata": {},
   "outputs": [],
   "source": [
    "merged_df.columns"
   ]
  },
  {
   "cell_type": "code",
   "execution_count": null,
   "metadata": {},
   "outputs": [],
   "source": [
    "scatterplot_with_tooltip_interactive(merged_df,'MDS cluster 1','MDS cluster 2',\"MDS cluster 1\",\"MDS cluster 2\",['strain','clade_membership'],'clade_membership_color')"
   ]
  },
  {
   "cell_type": "code",
   "execution_count": null,
   "metadata": {},
   "outputs": [],
   "source": [
    "scatterplot_with_tooltip_interactive(merged_df,'MDS cluster 3','MDS cluster 4',\"MDS cluster 3\",\"MDS cluster 4\",['strain','clade_membership'],'clade_membership_color')"
   ]
  },
  {
   "cell_type": "code",
   "execution_count": null,
   "metadata": {},
   "outputs": [],
   "source": [
    "chart = scatterplot_tooltips(similarity_matrix, merged_df, \"MDS cluster 1\", \"MDS cluster 2\", \"MDS\")\n",
    "chart"
   ]
  },
  {
   "cell_type": "code",
   "execution_count": null,
   "metadata": {},
   "outputs": [],
   "source": [
    "chart = scatterplot_tooltips(similarity_matrix, merged_df, \"MDS cluster 3\", \"MDS cluster 4\", \"MDS\")\n",
    "chart"
   ]
  },
  {
   "cell_type": "code",
   "execution_count": null,
   "metadata": {},
   "outputs": [],
   "source": [
    "chart = scatterplot_tooltips(similarity_matrix, merged_df, \"MDS cluster 5\", \"MDS cluster 6\", \"MDS\")\n",
    "chart"
   ]
  },
  {
   "cell_type": "code",
   "execution_count": null,
   "metadata": {},
   "outputs": [],
   "source": [
    "scatterplot_with_tooltip_interactive(merged_df,'MDS cluster 5','MDS cluster 6',\"MDS cluster 5\",\"MDS cluster 6\",['strain','clade_membership'],'clade_membership_color')"
   ]
  },
  {
   "cell_type": "markdown",
   "metadata": {},
   "source": [
    "# Linking Tree to MDS plot"
   ]
  },
  {
   "cell_type": "code",
   "execution_count": null,
   "metadata": {},
   "outputs": [],
   "source": [
    "list_of_data_and_titles = ['MDS cluster 1','MDS cluster 2','MDS cluster 3','MDS cluster 4','MDS cluster 5','MDS cluster 6']\n",
    "list_of_chart = linking_tree_with_plots_brush(merged_df,list_of_data_and_titles,list_of_data_and_titles,'clade_membership_color',[\"clade_membership\",\"strain:N\"])\n",
    "chart = list_of_chart[0]|list_of_chart[1]|list_of_chart[2]|list_of_chart[3]\n",
    "chart"
   ]
  },
  {
   "cell_type": "code",
   "execution_count": null,
   "metadata": {},
   "outputs": [],
   "source": [
    "data = linking_tree_with_plots_clickable(merged_df,['MDS cluster 1','MDS cluster 2','MDS cluster 3','MDS cluster 4','MDS cluster 5','MDS cluster 6'],['MDS cluster 1','MDS cluster 2','MDS cluster 3','MDS cluster 4','MDS cluster 5','MDS cluster 6'],'clade_membership_color:N',['clade_membership'],[\"clade_membership:N\",\"strain:N\"])\n",
    "\n",
    "chart = data[0]|data[1]|data[2]|data[3]|data[4]\n",
    "chart"
   ]
  },
  {
   "cell_type": "code",
   "execution_count": null,
   "metadata": {},
   "outputs": [],
   "source": [
    "alt.data_transformers.disable_max_rows()\n",
    "chart = making_with_vs_between_boxplots(merged_df,'MDS cluster 1','MDS cluster 2')\n",
    "chart"
   ]
  },
  {
   "cell_type": "code",
   "execution_count": null,
   "metadata": {},
   "outputs": [],
   "source": [
    "chart = making_with_vs_between_boxplots(merged_df, 'MDS cluster 3', 'MDS cluster 4')\n",
    "chart"
   ]
  },
  {
   "cell_type": "markdown",
   "metadata": {},
   "source": [
    "# Running T-SNE on the Dataset "
   ]
  },
  {
   "cell_type": "code",
   "execution_count": null,
   "metadata": {},
   "outputs": [],
   "source": [
    "embedding = TSNE(n_components=2,metric='precomputed',perplexity = 25.95)\n",
    "X_transformed = embedding.fit_transform(similarity_matrix)"
   ]
  },
  {
   "cell_type": "code",
   "execution_count": null,
   "metadata": {},
   "outputs": [],
   "source": [
    "TSNE_df = pd.DataFrame(X_transformed,columns=['TSNE cluster ' + str(i) for i in range(1,3)])\n",
    "print(TSNE_df.head())"
   ]
  },
  {
   "cell_type": "code",
   "execution_count": null,
   "metadata": {},
   "outputs": [],
   "source": [
    "finalDf = concatenate_results_with_strain_data(TSNE_df,result_strains,['strain','region'])"
   ]
  },
  {
   "cell_type": "code",
   "execution_count": null,
   "metadata": {},
   "outputs": [],
   "source": [
    "finalDf.shape"
   ]
  },
  {
   "cell_type": "code",
   "execution_count": null,
   "metadata": {},
   "outputs": [],
   "source": [
    "merged_df = pd.merge(finalDf,node_df,on=[\"strain\"]).dropna()"
   ]
  },
  {
   "cell_type": "code",
   "execution_count": null,
   "metadata": {},
   "outputs": [],
   "source": [
    "merged_df.columns"
   ]
  },
  {
   "cell_type": "code",
   "execution_count": null,
   "metadata": {},
   "outputs": [],
   "source": [
    "chart = scatterplot_tooltips(similarity_matrix, merged_df, \"TSNE cluster 1\", \"TSNE cluster 2\", \"TSNE\")\n",
    "chart"
   ]
  },
  {
   "cell_type": "code",
   "execution_count": null,
   "metadata": {},
   "outputs": [],
   "source": [
    "scatterplot_with_tooltip_interactive(merged_df,'TSNE cluster 1','TSNE cluster 2',\"TSNE cluster 1\",\"TSNE cluster 2\",['strain','clade_membership'],'clade_membership_color')"
   ]
  },
  {
   "cell_type": "markdown",
   "metadata": {},
   "source": [
    "# Linking Tree to T-SNE plot"
   ]
  },
  {
   "cell_type": "code",
   "execution_count": null,
   "metadata": {},
   "outputs": [],
   "source": [
    "list_of_chart = linking_tree_with_plots_brush(merged_df,['TSNE cluster 1','TSNE cluster 2'],['TSNE cluster 1','TSNE cluster 2'],'clade_membership_color',[\"clade_membership:N\",\"strain:N\"])\n",
    "chart = list_of_chart[0]|list_of_chart[1]\n",
    "chart"
   ]
  },
  {
   "cell_type": "code",
   "execution_count": null,
   "metadata": {},
   "outputs": [],
   "source": [
    "data = linking_tree_with_plots_clickable(merged_df,['TSNE cluster 1','TSNE cluster 2'],['TSNE cluster 1','TSNE cluster 2'],'clade_membership_color:N',['clade_membership'],[\"clade_membership:N\",\"strain:N\"])\n",
    "\n",
    "chart = data[0]|data[1]|data[2]\n",
    "chart"
   ]
  },
  {
   "cell_type": "code",
   "execution_count": null,
   "metadata": {},
   "outputs": [],
   "source": [
    "alt.data_transformers.disable_max_rows()\n",
    "chart = making_with_vs_between_boxplots(merged_df,'TSNE cluster 1','TSNE cluster 2')\n",
    "chart"
   ]
  },
  {
   "cell_type": "markdown",
   "metadata": {},
   "source": [
    "# Running UMAP on the Dataset"
   ]
  },
  {
   "cell_type": "code",
   "execution_count": null,
   "metadata": {},
   "outputs": [],
   "source": [
    "reducer = umap.UMAP(n_neighbors=300,\n",
    "        min_dist=.5,\n",
    "        n_components=2,\n",
    "        init=\"random\")\n",
    "embedding = reducer.fit_transform(similarity_matrix)"
   ]
  },
  {
   "cell_type": "code",
   "execution_count": null,
   "metadata": {},
   "outputs": [],
   "source": [
    "UMAP_df = pd.DataFrame(embedding,columns=['UMAP cluster ' + str(i) for i in range(1,3)])\n",
    "print(UMAP_df.head())"
   ]
  },
  {
   "cell_type": "code",
   "execution_count": null,
   "metadata": {},
   "outputs": [],
   "source": [
    "finalDf = concatenate_results_with_strain_data(UMAP_df, result_strains, ['strain','region','country'])"
   ]
  },
  {
   "cell_type": "code",
   "execution_count": null,
   "metadata": {},
   "outputs": [],
   "source": [
    "finalDf.shape"
   ]
  },
  {
   "cell_type": "code",
   "execution_count": null,
   "metadata": {},
   "outputs": [],
   "source": [
    "merged_df = pd.merge(finalDf,node_df,on=[\"strain\",\"region\"]).dropna()"
   ]
  },
  {
   "cell_type": "code",
   "execution_count": null,
   "metadata": {},
   "outputs": [],
   "source": [
    "merged_df.shape"
   ]
  },
  {
   "cell_type": "code",
   "execution_count": null,
   "metadata": {},
   "outputs": [],
   "source": [
    "chart = scatterplot_tooltips(similarity_matrix, merged_df, \"UMAP cluster 1\", \"UMAP cluster 2\", \"UMAP\")\n",
    "chart"
   ]
  },
  {
   "cell_type": "code",
   "execution_count": null,
   "metadata": {},
   "outputs": [],
   "source": [
    "scatterplot_with_tooltip_interactive(merged_df,'UMAP cluster 1','UMAP cluster 2',\"UMAP cluster 1\",\"UMAP cluster 2\",['strain','clade_membership'],'clade_membership_color')"
   ]
  },
  {
   "cell_type": "markdown",
   "metadata": {},
   "source": [
    "# Linking Tree with UMAP plot"
   ]
  },
  {
   "cell_type": "code",
   "execution_count": null,
   "metadata": {},
   "outputs": [],
   "source": [
    "list_of_data_and_titles = ['UMAP cluster 1','UMAP cluster 2']\n",
    "list_of_chart = linking_tree_with_plots_brush(merged_df,list_of_data_and_titles,list_of_data_and_titles,'clade_membership_color',[\"clade_membership\",\"strain:N\"])\n",
    "chart = list_of_chart[0]|list_of_chart[1]\n",
    "chart"
   ]
  },
  {
   "cell_type": "code",
   "execution_count": null,
   "metadata": {},
   "outputs": [],
   "source": [
    "alt.data_transformers.disable_max_rows()\n",
    "chart = making_with_vs_between_boxplots(merged_df,'UMAP cluster 1','UMAP cluster 2')\n",
    "chart"
   ]
  },
  {
   "cell_type": "markdown",
   "metadata": {},
   "source": [
    "# Linking all plots together clickable with Tree"
   ]
  },
  {
   "cell_type": "code",
   "execution_count": null,
   "metadata": {},
   "outputs": [],
   "source": [
    "together_df = MDS_df.merge(TSNE_df, how='outer', left_index=True, right_index=True)\n",
    "together_df = together_df.merge(principalDf, how='outer', left_index=True, right_index=True)\n",
    "together_df = together_df.merge(UMAP_df, how='outer', left_index=True, right_index=True)\n",
    "together_df.head()"
   ]
  },
  {
   "cell_type": "code",
   "execution_count": null,
   "metadata": {},
   "outputs": [],
   "source": [
    "finalDf = concatenate_results_with_strain_data(together_df, result_strains, ['strain','region','country'])"
   ]
  },
  {
   "cell_type": "code",
   "execution_count": null,
   "metadata": {},
   "outputs": [],
   "source": [
    "merged_df = pd.merge(finalDf,node_df,on=[\"strain\",\"region\"]).dropna()"
   ]
  },
  {
   "cell_type": "code",
   "execution_count": null,
   "metadata": {},
   "outputs": [],
   "source": [
    "merged_df.columns"
   ]
  },
  {
   "cell_type": "code",
   "execution_count": null,
   "metadata": {},
   "outputs": [],
   "source": [
    "data = linking_tree_with_plots_clickable(merged_df,['MDS cluster 1', 'MDS cluster 2','TSNE cluster 1', 'TSNE cluster 2', 'principal component 1', 'principal component 2', 'UMAP cluster 1', 'UMAP cluster 2'], ['MDS cluster 1', 'MDS cluster 2', 'TSNE cluster 1', 'TSNE cluster 2','Principal Component 1 (Expected Variance : {}%'.format(round(pca.explained_variance_ratio_[0]*100,2)) + \")\",\n",
    "'Principal Component 2 (Expected Variance : {}%'.format(round(pca.explained_variance_ratio_[1]*100,2)) + \")\",'UMAP cluster 1','UMAP cluster 2'],'clade_membership_color:N',['clade_membership'],['strain','clade_membership'])"
   ]
  },
  {
   "cell_type": "code",
   "execution_count": null,
   "metadata": {},
   "outputs": [],
   "source": [
    "PCAMDS = data[3]|data[1]|data[5]\n",
    "TSNEUMAP = data[2]|data[4]\n",
    "embeddings = alt.vconcat(PCAMDS,TSNEUMAP)\n",
    "embeddings\n",
    "fullChart = alt.hconcat(data[0],embeddings)\n",
    "fullChart"
   ]
  },
  {
   "cell_type": "code",
   "execution_count": null,
   "metadata": {},
   "outputs": [],
   "source": [
    "n_samples = 650"
   ]
  },
  {
   "cell_type": "code",
   "execution_count": null,
   "metadata": {},
   "outputs": [],
   "source": [
    "sampled_df = merged_df.sample(n_samples).copy().sort_index()"
   ]
  },
  {
   "cell_type": "code",
   "execution_count": null,
   "metadata": {},
   "outputs": [],
   "source": [
    "#PCA eigenvectors factoring in - how do I do that\n",
    "data_frames = [\n",
    "    scatterplot_tooltips_df(similarity_matrix, sampled_df, \"principal component 1\", \"principal component 2\", \"PCA\"),\n",
    "    scatterplot_tooltips_df(similarity_matrix, sampled_df, \"MDS cluster 1\", \"MDS cluster 2\", \"MDS\"),\n",
    "    scatterplot_tooltips_df(similarity_matrix, sampled_df, \"TSNE cluster 1\", \"TSNE cluster 2\", \"TSNE\"),\n",
    "    scatterplot_tooltips_df(similarity_matrix, sampled_df, \"UMAP cluster 1\", \"UMAP cluster 2\", \"UMAP\"),\n",
    "]"
   ]
  },
  {
   "cell_type": "code",
   "execution_count": null,
   "metadata": {},
   "outputs": [],
   "source": [
    "sampled_index = np.array(sorted(sampled_df.index.values))"
   ]
  },
  {
   "cell_type": "markdown",
   "metadata": {},
   "source": [
    "Extract pairwise genetic (Hamming) distances corresponding to the records sampled above. This step assumes that the original merged data frame is indexed from zero to N for N total samples in the same order as the similarity matrix."
   ]
  },
  {
   "cell_type": "code",
   "execution_count": null,
   "metadata": {},
   "outputs": [],
   "source": [
    "genetic_distances = squareform(similarity_matrix.values[sampled_index][:, sampled_index])"
   ]
  },
  {
   "cell_type": "code",
   "execution_count": null,
   "metadata": {},
   "outputs": [],
   "source": [
    "data_frames.append(pd.DataFrame({\n",
    "    \"distance\": genetic_distances,\n",
    "    \"embedding\":\"genetic\"\n",
    "}))"
   ]
  },
  {
   "cell_type": "code",
   "execution_count": null,
   "metadata": {},
   "outputs": [],
   "source": [
    "len(data_frames)"
   ]
  },
  {
   "cell_type": "code",
   "execution_count": null,
   "metadata": {},
   "outputs": [],
   "source": [
    "euclidean_data_frame = pd.concat(data_frames, sort=False)"
   ]
  },
  {
   "cell_type": "code",
   "execution_count": null,
   "metadata": {},
   "outputs": [],
   "source": [
    "euclidean_data_frame.head()"
   ]
  },
  {
   "cell_type": "code",
   "execution_count": null,
   "metadata": {},
   "outputs": [],
   "source": [
    "euclidean_data_frame.shape"
   ]
  },
  {
   "cell_type": "code",
   "execution_count": null,
   "metadata": {},
   "outputs": [],
   "source": [
    "PCA = scatterplot_tooltips(similarity_matrix, sampled_df, \"principal component 1\", \"principal component 2\", \"PCA\")\n",
    "MDS = scatterplot_tooltips(similarity_matrix, sampled_df, \"MDS cluster 1\", \"MDS cluster 2\", \"MDS\")\n",
    "TSNE = scatterplot_tooltips(similarity_matrix, sampled_df, \"TSNE cluster 1\", \"TSNE cluster 2\", \"TSNE\")\n",
    "UMAP = scatterplot_tooltips(similarity_matrix, sampled_df, \"UMAP cluster 1\", \"UMAP cluster 2\", \"UMAP\")\n",
    "    \n",
    "chart = PCA|MDS|UMAP|TSNE"
   ]
  },
  {
   "cell_type": "code",
   "execution_count": null,
   "metadata": {},
   "outputs": [],
   "source": [
    "chart"
   ]
  },
  {
   "cell_type": "code",
   "execution_count": null,
   "metadata": {},
   "outputs": [],
   "source": [
    "chart = alt.Chart(euclidean_data_frame).mark_circle(size=60).encode(\n",
    "    x=\"0_y\",\n",
    "    y=\"0_x\",\n",
    "    facet=alt.Facet(\n",
    "        \"embedding:N\",\n",
    "        sort=[\"PCA\", \"MDS\", \"t-SNE\", \"UMAP\"]\n",
    "    )\n",
    ").interactive()\n",
    "\n",
    "chart.properties(width=150, height=200, columns=5)"
   ]
  },
  {
   "cell_type": "markdown",
   "metadata": {},
   "source": [
    "# Notes to Self:\n",
    "\n",
    "- Collapse cells underneath Markdown headers\n",
    "- Get docstrings above methods to show up when user presses SHIFT + TAB\n",
    "- link back to the methods section for user each time method is used\n",
    "- Run more Flu builds (3 years, 6 years, 12 years, H3, H1)\n",
    "- Try algorithm on MERS\n",
    "- Try algorithm on other bacterial genomes (unaligned / small snips of genomes)\n",
    "- Make Zika clades or run automatic clade naming on 12y H3N2 flu with different cutoffs to standardize coloring for graphs\n",
    "- Write a paper\n"
   ]
  },
  {
   "cell_type": "markdown",
   "metadata": {},
   "source": [
    "## Within- and between-clade Euclidean distances for all embeddings\n",
    "\n",
    "Sample a random subset of the complete embedding data frame, calculate pairwise Euclidean distances between samples, and plot the results in a single figure."
   ]
  },
  {
   "cell_type": "code",
   "execution_count": null,
   "metadata": {},
   "outputs": [],
   "source": [
    "n_samples = 50"
   ]
  },
  {
   "cell_type": "code",
   "execution_count": null,
   "metadata": {},
   "outputs": [],
   "source": [
    "sampled_df = merged_df.sample(n_samples).copy().sort_index()"
   ]
  },
  {
   "cell_type": "code",
   "execution_count": null,
   "metadata": {},
   "outputs": [],
   "source": [
    "data_frames = [\n",
    "    get_euclidean_data_frame(sampled_df, \"principal component 1\", \"principal component 2\", \"PCA\"),\n",
    "    get_euclidean_data_frame(sampled_df, \"MDS cluster 1\", \"MDS cluster 2\", \"MDS\"),\n",
    "    get_euclidean_data_frame(sampled_df, \"TSNE cluster 1\", \"TSNE cluster 2\", \"t-SNE\"),\n",
    "    get_euclidean_data_frame(sampled_df, \"UMAP cluster 1\", \"UMAP cluster 2\", \"UMAP\"),\n",
    "]"
   ]
  },
  {
   "cell_type": "code",
   "execution_count": null,
   "metadata": {},
   "outputs": [],
   "source": [
    "sampled_index = np.array(sorted(sampled_df.index.values))"
   ]
  },
  {
   "cell_type": "markdown",
   "metadata": {},
   "source": [
    "Extract pairwise genetic (Hamming) distances corresponding to the records sampled above. This step assumes that the original merged data frame is indexed from zero to N for N total samples in the same order as the similarity matrix."
   ]
  },
  {
   "cell_type": "code",
   "execution_count": null,
   "metadata": {},
   "outputs": [],
   "source": [
    "genetic_distances = squareform(similarity_matrix.values[sampled_index][:, sampled_index])"
   ]
  },
  {
   "cell_type": "code",
   "execution_count": null,
   "metadata": {},
   "outputs": [],
   "source": [
    "data_frames.append(pd.DataFrame({\n",
    "    \"distance\": genetic_distances,\n",
    "    \"clade_status\": data_frames[0][\"clade_status\"].values,\n",
    "    \"embedding\": \"genetic\"\n",
    "}))"
   ]
  },
  {
   "cell_type": "code",
   "execution_count": null,
   "metadata": {},
   "outputs": [],
   "source": [
    "len(data_frames)"
   ]
  },
  {
   "cell_type": "code",
   "execution_count": null,
   "metadata": {},
   "outputs": [],
   "source": [
    "euclidean_data_frame = pd.concat(data_frames)"
   ]
  },
  {
   "cell_type": "code",
   "execution_count": null,
   "metadata": {},
   "outputs": [],
   "source": [
    "PCA_df = euclidean_data_frame[euclidean_data_frame.embedding == \"PCA\"]\n",
    "MDS_df = euclidean_data_frame[euclidean_data_frame.embedding == \"MDS\"]\n",
    "TSNE_df = euclidean_data_frame[euclidean_data_frame.embedding == \"t-SNE\"]\n",
    "UMAP_df = euclidean_data_frame[euclidean_data_frame.embedding == \"UMAP\"]\n",
    "genetic_df = euclidean_data_frame[euclidean_data_frame.embedding == \"genetic\"]"
   ]
  },
  {
   "cell_type": "code",
   "execution_count": null,
   "metadata": {},
   "outputs": [],
   "source": [
    "genetic = alt.Chart(genetic_df,width=300).mark_boxplot().encode(\n",
    "    x=\"clade_status:N\",\n",
    "    y=\"distance:Q\"\n",
    ").properties(title=\"genetic\")\n",
    "PCA = alt.Chart(PCA_df,width=200).mark_boxplot().encode(\n",
    "    x=\"clade_status:N\",\n",
    "    y=\"distance:Q\"\n",
    ").properties(title=\"PCA\")\n",
    "MDS = alt.Chart(MDS_df,width=200).mark_boxplot().encode(\n",
    "    x=\"clade_status:N\",\n",
    "    y=\"distance:Q\"\n",
    ").properties(title=\"MDS\",width=200)\n",
    "TSNE = alt.Chart(TSNE_df).mark_boxplot().encode(\n",
    "    x=\"clade_status:N\",\n",
    "    y=\"distance:Q\"\n",
    ").properties(title=\"TSNE\",width=200)\n",
    "UMAP = alt.Chart(UMAP_df,width=200).mark_boxplot().encode(\n",
    "    x=\"clade_status:N\",\n",
    "    y=\"distance:Q\"\n",
    ").properties(title=\"UMAP\")\n",
    "\n",
    "chart = genetic|PCA|MDS|TSNE|UMAP"
   ]
  },
  {
   "cell_type": "code",
   "execution_count": null,
   "metadata": {},
   "outputs": [],
   "source": [
    "#ratio of within vs between (within shorter than between) - label which metrics + sginificance level"
   ]
  },
  {
   "cell_type": "code",
   "execution_count": null,
   "metadata": {},
   "outputs": [],
   "source": [
    "import statistics"
   ]
  },
  {
   "cell_type": "code",
   "execution_count": null,
   "metadata": {},
   "outputs": [],
   "source": [
    "genetic_df.mean()"
   ]
  },
  {
   "cell_type": "code",
   "execution_count": null,
   "metadata": {},
   "outputs": [],
   "source": [
    "median_genetic_within = genetic_df[genetic_df.clade_status == \"within\"].median()\n",
    "median_genetic_between = genetic_df[genetic_df.clade_status == \"between\"].median()"
   ]
  },
  {
   "cell_type": "code",
   "execution_count": null,
   "metadata": {},
   "outputs": [],
   "source": [
    "median_PCA_within = PCA_df[PCA_df.clade_status == \"within\"].median()\n",
    "median_PCA_between = PCA_df[PCA_df.clade_status == \"between\"].median()"
   ]
  },
  {
   "cell_type": "code",
   "execution_count": null,
   "metadata": {},
   "outputs": [],
   "source": [
    "median_MDS_within = MDS_df[MDS_df.clade_status == \"within\"].median()\n",
    "median_MDS_between = MDS_df[MDS_df.clade_status == \"between\"].median()"
   ]
  },
  {
   "cell_type": "code",
   "execution_count": null,
   "metadata": {},
   "outputs": [],
   "source": [
    "median_TSNE_within = TSNE_df[TSNE_df.clade_status == \"within\"].median()\n",
    "median_TSNE_between = TSNE_df[TSNE_df.clade_status == \"between\"].median()"
   ]
  },
  {
   "cell_type": "code",
   "execution_count": null,
   "metadata": {},
   "outputs": [],
   "source": [
    "median_UMAP_within = UMAP_df[UMAP_df.clade_status == \"within\"].median()\n",
    "median_UMAP_between = UMAP_df[UMAP_df.clade_status == \"between\"].median()"
   ]
  },
  {
   "cell_type": "code",
   "execution_count": null,
   "metadata": {},
   "outputs": [],
   "source": [
    "def ratioFunction(num1, num2):\n",
    "    ratio12 = int(num1/num2)\n",
    "    return ratio12"
   ]
  },
  {
   "cell_type": "code",
   "execution_count": null,
   "metadata": {},
   "outputs": [],
   "source": [
    "genetic_ratio = ratioFunction(median_genetic_between,median_genetic_within)\n",
    "print(genetic_ratio)"
   ]
  },
  {
   "cell_type": "code",
   "execution_count": null,
   "metadata": {},
   "outputs": [],
   "source": [
    "PCA_ratio = ratioFunction(median_PCA_between,median_PCA_within)\n",
    "print(PCA_ratio)"
   ]
  },
  {
   "cell_type": "code",
   "execution_count": null,
   "metadata": {},
   "outputs": [],
   "source": [
    "MDS_ratio = ratioFunction(median_MDS_between,median_MDS_within)\n",
    "print(MDS_ratio)"
   ]
  },
  {
   "cell_type": "code",
   "execution_count": null,
   "metadata": {},
   "outputs": [],
   "source": [
    "TSNE_ratio = ratioFunction(median_TSNE_between,median_TSNE_within)\n",
    "print(TSNE_ratio)"
   ]
  },
  {
   "cell_type": "code",
   "execution_count": null,
   "metadata": {},
   "outputs": [],
   "source": [
    "UMAP_ratio = ratioFunction(median_UMAP_between,median_UMAP_within)\n",
    "print(UMAP_ratio)"
   ]
  },
  {
   "cell_type": "code",
   "execution_count": null,
   "metadata": {},
   "outputs": [],
   "source": [
    "x_values = scatterplot_xyvalues(similarity_matrix, merged_df, \"MDS cluster 1\", \"MDS cluster 2\", \"MDS\")[\"0_x\"]\n",
    "y_values = scatterplot_xyvalues(similarity_matrix, merged_df, \"MDS cluster 1\", \"MDS cluster 2\", \"MDS\")[\"0_y\"]\n",
    "x_values"
   ]
  },
  {
   "cell_type": "code",
   "execution_count": null,
   "metadata": {},
   "outputs": [],
   "source": [
    "import pandas as pd               # Pandas handles dataframes\n",
    "import numpy as np\n",
    "import scipy\n",
    "import matplotlib                 # Numpy handles lots of basic maths operations\n",
    "import matplotlib.pyplot as plt   # Matplotlib for plotting\n",
    "import seaborn as sns             # Seaborn for beautiful plots\n",
    "import statsmodels\n",
    "\n",
    "df = pd.DataFrame({\"Xvalue\" : x_values,\n",
    "                    \"Yvalue\" : y_values\n",
    "                    })\n",
    "\n",
    "# Seaborne solution:\n",
    "sns.regplot(\"Xvalue\", \"Yvalue\", data=df,  color=\"grey\",\n",
    "line_kws={\"color\":\"r\",\"alpha\":1,\"lw\":1} ,lowess=True)\n",
    "plt.xlabel(\"X\"), plt.ylabel(\"Y\")\n",
    "plt.title('Test data - with seaborn lowess line')\n",
    "plt.show()\n",
    "\n",
    "\n",
    "def loc_eval(x, b):\n",
    "    loc_est = 0\n",
    "    for i in enumerate(b): loc_est+=i[1]*(x**i[0])\n",
    "    return(loc_est)\n",
    "\n",
    "\n",
    "def loess(xvals, yvals, data, alpha, poly_degree=1):\n",
    "    all_data = sorted(zip(data[xvals].tolist(), data[yvals].tolist()), key=lambda x: x[0])\n",
    "    xvals, yvals = zip(*all_data)\n",
    "    evalDF = pd.DataFrame(columns=['v','g'])\n",
    "    n = len(xvals)\n",
    "    m = n + 1\n",
    "    q = int(np.floor(n * alpha) if alpha <= 1.0 else n)\n",
    "    avg_interval = ((max(xvals)-min(xvals))/len(xvals))\n",
    "    v_lb = min(xvals)-(.5*avg_interval)\n",
    "    v_ub = (max(xvals)+(.5*avg_interval))\n",
    "    v = enumerate(np.linspace(start=v_lb, stop=v_ub, num=m), start=1)\n",
    "    xcols = [np.ones_like(xvals)]\n",
    "    for j in range(1, (poly_degree + 1)):\n",
    "        xcols.append([i ** j for i in xvals])\n",
    "    X = np.vstack(xcols).T\n",
    "    for i in v:\n",
    "        iterpos = i[0]\n",
    "        iterval = i[1]\n",
    "        iterdists = sorted([(j, np.abs(j-iterval)) for j in xvals], key=lambda x: x[1])\n",
    "        _, raw_dists = zip(*iterdists)\n",
    "        scale_fact = raw_dists[q-1]\n",
    "        scaled_dists = [(j[0],(j[1]/scale_fact)) for j in iterdists]\n",
    "        weights = [(j[0],((1-np.abs(j[1]**3))**3 if j[1]<=1 else 0)) for j in scaled_dists]\n",
    "        _, weights      = zip(*sorted(weights,     key=lambda x: x[0]))\n",
    "        _, raw_dists    = zip(*sorted(iterdists,   key=lambda x: x[0]))\n",
    "        _, scaled_dists = zip(*sorted(scaled_dists,key=lambda x: x[0]))\n",
    "        W         = np.diag(weights)\n",
    "        b         = np.linalg.inv(X.T @ W @ X) @ (X.T @ W @ yvals)\n",
    "        local_est = loc_eval(iterval, b)\n",
    "        iterDF2   = pd.DataFrame({\n",
    "                       'v'  :[iterval],\n",
    "                       'g'  :[local_est]\n",
    "                       })\n",
    "        evalDF = pd.concat([evalDF, iterDF2])\n",
    "    evalDF = evalDF[['v','g']]\n",
    "    return(evalDF)\n",
    "\n",
    "\n",
    "evalDF = loess(\"Xvalue\", \"Yvalue\", data = df, alpha=0.7, poly_degree=2)\n",
    "\n",
    "fig = plt.figure()\n",
    "ax1 = fig.add_subplot(111)\n",
    "ax1.scatter(df[\"Xvalue\"], df[\"Yvalue\"], color=\"grey\", marker=\"o\", s=5, label=\"_nolegend_\")\n",
    "ax1.plot(evalDF['v'], evalDF['g'], color='red', linewidth= 3, label=\"Test\")\n",
    "plt.title(\"UMAP pairwise vs Euclidean\")\n",
    "plt.legend()\n",
    "plt.tight_layout()\n",
    "plt.show()"
   ]
  }
 ],
 "metadata": {
  "kernelspec": {
   "display_name": "Python 3",
   "language": "python",
   "name": "python3"
  },
  "language_info": {
   "codemirror_mode": {
    "name": "ipython",
    "version": 3
   },
   "file_extension": ".py",
   "mimetype": "text/x-python",
   "name": "python",
   "nbconvert_exporter": "python",
   "pygments_lexer": "ipython3",
   "version": "3.7.3"
  }
 },
 "nbformat": 4,
 "nbformat_minor": 4
}
