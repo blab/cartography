{
 "cells": [
  {
   "cell_type": "markdown",
   "metadata": {},
   "source": [
    "# This is Cartography put together into one place. "
   ]
  },
  {
   "cell_type": "markdown",
   "metadata": {},
   "source": [
    "## Modules to add to run this code:"
   ]
  },
  {
   "cell_type": "markdown",
   "metadata": {},
   "source": [
    "- [BioPython][1]\n",
    "- [Pandas][2]\n",
    "- [Numpy][3]\n",
    "- [Altair][4]\n",
    "- [Seaborn][5]\n",
    "- [Scikit-Learn][6]\n",
    "- [UMAP][7]\n",
    "- json\n",
    "- nextstrain-augur\n",
    "- statsmodels\n",
    "[1]:https://biopython.org/wiki/Download\n",
    "[2]:https://pandas.pydata.org/pandas-docs/version/0.23.3/install.html\n",
    "[3]:https://docs.scipy.org/doc/numpy/user/quickstart.html\n",
    "[4]:https://altair-viz.github.io/getting_started/installation.html\n",
    "[5]:https://seaborn.pydata.org/installing.html\n",
    "[6]:https://scikit-learn.org/stable/install.html\n",
    "[7]:https://umap-learn.readthedocs.io/en/latest/\n"
   ]
  },
  {
   "cell_type": "markdown",
   "metadata": {},
   "source": [
    "# Massive to-do: remove ALL code that scripts are doing for you. \n",
    "- finish KDS plot script\n",
    "- push everything to github\n",
    "- fix snakemake input/output in main file\n",
    "- delete everything that isn't visualization (and creating the tree, merging)"
   ]
  },
  {
   "cell_type": "markdown",
   "metadata": {},
   "source": [
    "# Imports Section "
   ]
  },
  {
   "cell_type": "code",
   "execution_count": null,
   "metadata": {},
   "outputs": [],
   "source": [
    "import pandas as pd\n",
    "import altair as alt\n",
    "import numpy as np\n",
    "from scipy.spatial.distance import squareform, pdist\n",
    "from Bio import SeqIO\n",
    "import seaborn as sns\n",
    "import re\n",
    "import matplotlib.pyplot as plt\n",
    "from sklearn.decomposition import PCA\n",
    "from augur.utils import json_to_tree\n",
    "import json\n",
    "from sklearn.manifold import MDS\n",
    "from sklearn.manifold import TSNE\n",
    "import umap\n",
    "from scipy.stats import linregress\n",
    "from pathlib import Path\n",
    "import statsmodels\n",
    "import statistics\n",
    "import matplotlib.pyplot as plt\n",
    "from Helpers import get_euclidean_data_frame, get_hamming_distances, linking_tree_with_plots_brush\n",
    "from Helpers import linking_tree_with_plots_clickable\n",
    "from Helpers import scatterplot_xyvalues, scatterplot_tooltips, scatterplot_with_tooltip_interactive\n",
    "from Helpers import get_y_positions\n",
    "#import selenium\n",
    "#from selenium.webdriver import Chrome \n",
    "#from svglib.svglib import svg2rlg\n",
    "#from reportlab.graphics import renderPDF\n",
    "from Helpers import get_y_positions\n",
    "from sklearn.preprocessing import StandardScaler\n",
    "%matplotlib inline"
   ]
  },
  {
   "cell_type": "code",
   "execution_count": null,
   "metadata": {},
   "outputs": [],
   "source": [
    "from selenium import webdriver\n",
    "\n",
    "chrome_options = webdriver.ChromeOptions()\n",
    "chrome_options.add_argument('--headless')\n",
    "chrome_options.add_argument('--no-sandbox')\n",
    "chrome_options.add_argument('--disable-dev-shm-usage')\n",
    "chrome_options.add_argument(\"--remote-debugging-port=9222\")\n",
    "\n",
    "browser = webdriver.Chrome(options=chrome_options)"
   ]
  },
  {
   "cell_type": "markdown",
   "metadata": {},
   "source": [
    "## Pathogen-specific variables\n",
    "\n",
    "Consider consolidating these into a single configuration file that can be passed to the notebook as a command line argument for more scriptable generation of these figures."
   ]
  },
  {
   "cell_type": "markdown",
   "metadata": {},
   "source": [
    "# Flu Specific Variables"
   ]
  },
  {
   "cell_type": "code",
   "execution_count": null,
   "metadata": {},
   "outputs": [],
   "source": [
    "path = snakemake.input.alignment\n",
    "dropped_strains = [line.rstrip('\\n') for line in open(snakemake.input.dropped_strains,\"r\")]\n",
    "tree_path = snakemake.input.tree\n",
    "if snakemake.input.clade_names is not None:\n",
    "    clades_to_plot = [line.rstrip('\\n') for line in open(snakemake.input[len(snakemake.input)-2],\"r\")]\n",
    "f = open(snakemake.input.disease_name, \"r\")\n",
    "virus_name = f.read()"
   ]
  },
  {
   "cell_type": "markdown",
   "metadata": {},
   "source": [
    "### Old Flu Files"
   ]
  },
  {
   "cell_type": "code",
   "execution_count": null,
   "metadata": {},
   "outputs": [],
   "source": [
    "path = \"../seasonal-flu-nextstrain/results-20182020/variable_sites.fasta\"\n",
    "dropped_strains = []\n",
    "tree_path = \"../seasonal-flu-nextstrain/auspice-20182020/flu_seasonal_h3n2_ha_2y.json\"\n",
    "virus_name = \"Flu\"\n",
    "clades_to_plot = ['3c3.A', 'A3', 'A2/re', 'A2', 'A1b/135N', 'A1b/131K', 'A1b/94N', 'A1b/131K', 'A1b/197R', 'A1b/135K', 'A1b/137F', 'A1b/186D']"
   ]
  },
  {
   "cell_type": "markdown",
   "metadata": {},
   "source": [
    "# Zika Specific Variables "
   ]
  },
  {
   "cell_type": "code",
   "execution_count": null,
   "metadata": {},
   "outputs": [],
   "source": [
    "path = \"../zika-nextstrain/results-20182020/variable_sites.fasta\"\n",
    "dropped_strains = [\"Yunnan/01/2019\"]\n",
    "distance_matrix_file = \"DistanceMatrixZika.csv\"\n",
    "tree_path = '../zika-nextstrain/auspice-20182020/zika-cartography_tree.json'\n",
    "virus_name = \"Zika\"\n",
    "clades_to_plot = None"
   ]
  },
  {
   "cell_type": "markdown",
   "metadata": {},
   "source": [
    "# Reading in all the data from the scripts"
   ]
  },
  {
   "cell_type": "code",
   "execution_count": null,
   "metadata": {},
   "outputs": [],
   "source": [
    "similarity_matrix = pd.read_csv(\"../seasonal-flu-nextstrain/results/distance_matrix_tsne.csv\", index_col=0)"
   ]
  },
  {
   "cell_type": "code",
   "execution_count": null,
   "metadata": {},
   "outputs": [],
   "source": [
    "similarity_matrix.index = principalDf = pd.read_csv(\"../seasonal-flu-nextstrain/results/embed_pca.csv\", index_col=0).index"
   ]
  },
  {
   "cell_type": "code",
   "execution_count": null,
   "metadata": {},
   "outputs": [],
   "source": [
    "similarity_matrix.columns = similarity_matrix.index"
   ]
  },
  {
   "cell_type": "markdown",
   "metadata": {},
   "source": [
    "# Creating the Phylogenetic Tree in Altair\n",
    "- I used Altair to make this tree (Documentation linked [here][1]\n",
    "- The data from the JSON and the Data from the tree are usually a little different, so after merging the two dataframes you may get some errors.\n",
    "\n",
    "[1]: https://altair-viz.github.io/index.html"
   ]
  },
  {
   "cell_type": "code",
   "execution_count": null,
   "metadata": {},
   "outputs": [],
   "source": [
    "with open(tree_path) as fh:\n",
    "    json_tree_handle = json.load(fh)"
   ]
  },
  {
   "cell_type": "code",
   "execution_count": null,
   "metadata": {},
   "outputs": [],
   "source": [
    "tree = json_to_tree(json_tree_handle)"
   ]
  },
  {
   "cell_type": "code",
   "execution_count": null,
   "metadata": {},
   "outputs": [],
   "source": [
    "tree"
   ]
  },
  {
   "cell_type": "code",
   "execution_count": null,
   "metadata": {},
   "outputs": [],
   "source": [
    "heights = get_y_positions(tree)\n",
    "for node in tree.find_clades():\n",
    "    node.yvalue = heights[node]"
   ]
  },
  {
   "cell_type": "code",
   "execution_count": null,
   "metadata": {},
   "outputs": [],
   "source": [
    "node_data = [\n",
    "    {\n",
    "        \"strain\": node.name,\n",
    "        \"date\": node.node_attrs[\"num_date\"][\"value\"],\n",
    "        \"y\": node.yvalue,\n",
    "        \"region\": node.node_attrs[\"region\"][\"value\"],\n",
    "        \"country\": node.node_attrs[\"country\"][\"value\"],\n",
    "        \"parent_date\": node.parent is not None and node.parent.node_attrs[\"num_date\"][\"value\"] or node.node_attrs[\"num_date\"],\n",
    "        \"parent_y\": node.parent is not None and node.parent.yvalue or node.yvalue,\n",
    "        \"clade_membership\" : node.node_attrs['clade_membership'][\"value\"]\n",
    "    }\n",
    "    for node in tree.find_clades(terminal=True)\n",
    "]"
   ]
  },
  {
   "cell_type": "code",
   "execution_count": null,
   "metadata": {},
   "outputs": [],
   "source": [
    "node_data[10]"
   ]
  },
  {
   "cell_type": "code",
   "execution_count": null,
   "metadata": {},
   "outputs": [],
   "source": [
    "node_df = pd.DataFrame(node_data)"
   ]
  },
  {
   "cell_type": "code",
   "execution_count": null,
   "metadata": {},
   "outputs": [],
   "source": [
    "node_df.head()"
   ]
  },
  {
   "cell_type": "code",
   "execution_count": null,
   "metadata": {},
   "outputs": [],
   "source": [
    "node_df[\"y\"] = node_df[\"y\"].max() - node_df[\"y\"]"
   ]
  },
  {
   "cell_type": "code",
   "execution_count": null,
   "metadata": {},
   "outputs": [],
   "source": [
    "node_df[\"parent_y\"] = node_df[\"parent_y\"].max() - node_df[\"parent_y\"]"
   ]
  },
  {
   "cell_type": "code",
   "execution_count": null,
   "metadata": {},
   "outputs": [],
   "source": [
    "node_df.shape"
   ]
  },
  {
   "cell_type": "code",
   "execution_count": null,
   "metadata": {},
   "outputs": [],
   "source": [
    "node_df.head()"
   ]
  },
  {
   "cell_type": "code",
   "execution_count": null,
   "metadata": {},
   "outputs": [],
   "source": [
    "node_df[\"region\"].unique()"
   ]
  },
  {
   "cell_type": "code",
   "execution_count": null,
   "metadata": {},
   "outputs": [],
   "source": [
    "# Reannotate clades that we aren't interested in as \"other\" to simplify color assignment in visualizations.\n",
    "try:\n",
    "    node_df[\"clade_membership_color\"] = node_df[\"clade_membership\"].apply(lambda clade: clade if clade in clades_to_plot else \"other\")\n",
    "except:\n",
    "    node_df[\"clade_membership_color\"] = node_df[\"clade_membership\"]\n",
    "    print(\"clades_to_plot undefined\")"
   ]
  },
  {
   "cell_type": "code",
   "execution_count": null,
   "metadata": {},
   "outputs": [],
   "source": [
    "indices_to_drop = similarity_matrix[~similarity_matrix.index.isin(node_df[\"strain\"])].dropna(how = 'all')\n",
    "similarity_matrix = similarity_matrix[similarity_matrix.index.isin(node_df[\"strain\"])].dropna(how = 'all')\n",
    "similarity_matrix = similarity_matrix.drop(indices_to_drop.index, axis=1)\n",
    "similarity_matrix"
   ]
  },
  {
   "cell_type": "code",
   "execution_count": null,
   "metadata": {},
   "outputs": [],
   "source": [
    "node_df"
   ]
  },
  {
   "cell_type": "markdown",
   "metadata": {},
   "source": [
    "# Running PCA on Scaled and Centered Data\n",
    "- I treated each nucleotide as a \"site\", or dimension, and found the probability of having a certain nucleotide given the frequency of that letter at that site.\n",
    "- I used [this paper][1] as my source \n",
    "- The equation is as follows where C is the matrix of dimensions, M is the mean, and p is the frequency of a nucleotide at that given site. \n",
    "![](https://journals.plos.org/plosgenetics/article/file?type=thumbnail&id=info:doi/10.1371/journal.pgen.0020190.e003)"
   ]
  },
  {
   "cell_type": "code",
   "execution_count": null,
   "metadata": {},
   "outputs": [],
   "source": [
    "#principalDf = pd.read_csv(snakemake.input.pca)\n",
    "principalDf = pd.read_csv(\"../seasonal-flu-nextstrain/results/embed_pca.csv\", index_col=0)\n",
    "\n",
    "principalDf[\"strain\"] = principalDf.index"
   ]
  },
  {
   "cell_type": "code",
   "execution_count": null,
   "metadata": {},
   "outputs": [],
   "source": [
    "#explained_variance_df = pd.read_csv(snakemake.input.pca + \"explained_variance\")\n",
    "explained_variance_df = pd.read_csv(\"../seasonal-flu-nextstrain/results/explained_variance_pca.csv\")\n",
    "explained_variance_df"
   ]
  },
  {
   "cell_type": "code",
   "execution_count": null,
   "metadata": {},
   "outputs": [],
   "source": [
    "chart = alt.Chart(explained_variance_df).mark_line().encode(\n",
    "    x='principal components:Q',\n",
    "    y='explained variance:Q'\n",
    ")\n",
    "chart"
   ]
  },
  {
   "cell_type": "code",
   "execution_count": null,
   "metadata": {},
   "outputs": [],
   "source": [
    "merged_pca_df = principalDf.merge(node_df, on=\"strain\")"
   ]
  },
  {
   "cell_type": "code",
   "execution_count": null,
   "metadata": {},
   "outputs": [],
   "source": [
    "merged_pca_df.head()"
   ]
  },
  {
   "cell_type": "code",
   "execution_count": null,
   "metadata": {},
   "outputs": [],
   "source": [
    "explained_variance_PCA = explained_variance_df[\"explained variance\"].values.tolist()"
   ]
  },
  {
   "cell_type": "code",
   "execution_count": null,
   "metadata": {},
   "outputs": [],
   "source": [
    "list_of_chart = linking_tree_with_plots_brush(merged_pca_df,['pca1','pca2','pca3','pca4', 'pca5', 'pca6'],\n",
    "                                         ['PCA1 (Explained Variance : {}%'.format(round(explained_variance_PCA[0]*100,2)) + \")\",\n",
    "                                          'PCA2 (Explained Variance : {}%'.format(round(explained_variance_PCA[1]*100,2)) + \")\",\n",
    "                                          'PCA3 (Explained Variance : {}%'.format(round(explained_variance_PCA[2]*100,2)) + \")\",\n",
    "                                          'PCA4 (Explained Variance : {}%'.format(round(explained_variance_PCA[3]*100,2)) + \")\",\n",
    "                                          'PCA5 (Explained Variance : {}%'.format(round(explained_variance_PCA[4]*100,2)) + \")\",\n",
    "                                          'PCA6 (Explained Variance : {}%'.format(round(explained_variance_PCA[5]*100,2)) + \")\"],\n",
    "                                         \"clade_membership:N\",['strain','region'])\n",
    "PCAFluBrush = list_of_chart[0]|list_of_chart[1]|list_of_chart[2]\n",
    "\n",
    "PCAFluBrush\n",
    "#PCAFluBrush.save(\"docs/PCA\" + virus_name + \"Brush.html\")"
   ]
  },
  {
   "cell_type": "code",
   "execution_count": null,
   "metadata": {},
   "outputs": [],
   "source": [
    "#total_df = pd.read_csv(snakemake.input.pca.replace(\".csv\", \"\") + \"scatterplot.csv\", index_col=0)\n",
    "total_df_PCA = pd.read_csv(\"../seasonal-flu-nextstrain/results/scatterplot_pca.csv\",index_col=0)\n",
    "\n",
    "fig, ax = plt.subplots(1, 1, figsize=(6, 6))\n",
    "\n",
    "ax.plot(total_df_PCA[\"genetic\"], total_df_PCA[\"euclidean\"], \"o\", alpha=0.25)\n",
    "ax.plot(total_df_PCA[\"LOWESS_x\"], total_df_PCA[\"LOWESS_y\"], label=\"LOESS\")\n",
    "\n",
    "ax.set_xlabel(\"Genetic distance\")\n",
    "ax.set_ylabel(\"Euclidean distance (PCA)\")\n",
    "ax.set_title(\"PCA Euclidean distance vs. genetic distance ($R^2=%.3f$)\" % (total_df_PCA[\"pearson_coef\"].values.tolist()[0]))\n",
    "\n",
    "sns.despine()"
   ]
  },
  {
   "cell_type": "code",
   "execution_count": null,
   "metadata": {},
   "outputs": [],
   "source": [
    "PCA_violin_df = get_euclidean_data_frame(merged_pca_df, \"PCA1\", \"PCA2\", \"PCA\")\n",
    "g = sns.FacetGrid(\n",
    "    PCA_violin_df,\n",
    "    col=\"embedding\",\n",
    "    col_wrap=3,\n",
    "    sharey=False,\n",
    "    height=4\n",
    ")\n",
    "g = g.map(sns.violinplot, \"clade_status\", \"distance\", order=[\"within\", \"between\"])\n",
    "g.set_axis_labels(\"Clade status\", \"Distance\")\n",
    "#plt.savefig(\"docs/PCAViolinPlot\" + virus_name + \".png\")"
   ]
  },
  {
   "cell_type": "markdown",
   "metadata": {},
   "source": [
    "# Running UMAP on the first 10 PCs - colored by region and clade"
   ]
  },
  {
   "cell_type": "code",
   "execution_count": null,
   "metadata": {},
   "outputs": [],
   "source": [
    "reducer = umap.UMAP(n_neighbors=200,\n",
    "        min_dist=.05,\n",
    "        n_components=2,\n",
    "        init=\"spectral\")\n",
    "X_transformed_umap_1 = reducer.fit_transform(genomes_df)\n",
    "UMAP_PCA_df_1 = pd.DataFrame(X_transformed_umap_1,columns=['UMAP_' + str(i) for i in range(1,3)])\n",
    "merged_umap_pca_df_1 = UMAP_PCA_df_1"
   ]
  },
  {
   "cell_type": "code",
   "execution_count": null,
   "metadata": {},
   "outputs": [],
   "source": [
    "reducer = umap.UMAP(n_neighbors=200,\n",
    "        min_dist=.05,\n",
    "        n_components=2,\n",
    "        init=\"spectral\")\n",
    "X_transformed_umap_pca = reducer.fit_transform(principalComponents)\n",
    "UMAP_PCA_df = pd.DataFrame(X_transformed_umap_pca,columns=['UMAP' + str(i) for i in range(1,3)])\n",
    "UMAP_PCA_df[\"strain\"] = strains\n",
    "merged_umap_pca_df = UMAP_PCA_df.merge(node_df, on=\"strain\")"
   ]
  },
  {
   "cell_type": "code",
   "execution_count": null,
   "metadata": {},
   "outputs": [],
   "source": [
    "new_df = merged_umap_pca_df.join(merged_umap_pca_df_1)"
   ]
  },
  {
   "cell_type": "markdown",
   "metadata": {},
   "source": [
    "# By clade:"
   ]
  },
  {
   "cell_type": "code",
   "execution_count": null,
   "metadata": {},
   "outputs": [],
   "source": [
    "list_of_data_and_titles = ['UMAP1','UMAP2', 'UMAP_1', 'UMAP_2']\n",
    "list_of_chart = linking_tree_with_plots_brush(\n",
    "   new_df,\n",
    "    list_of_data_and_titles,\n",
    "    list_of_data_and_titles,\n",
    "    'clade_membership_color',\n",
    "    [\"clade_membership\",\"strain:N\"]\n",
    ")\n",
    "chart = list_of_chart[0]|list_of_chart[1].properties(title = \"UMAP on genomic data\")|list_of_chart[2].properties(title= \"UMAP run on 10 PCs\")\n",
    "chart.save(\"docs/UmapPCLinkedClade\" + virus_name + \".html\")\n",
    "chart.save(\"docs/UmapPCLinkedClade\" + virus_name + \".svg\", scale_factor=2.0)\n",
    "drawing = svg2rlg(\"docs/UmapPCLinkedClade\" + virus_name + \".svg\")\n",
    "renderPDF.drawToFile(drawing, \"docs/UmapPCLinkedClade\" + virus_name + \".pdf\")"
   ]
  },
  {
   "cell_type": "code",
   "execution_count": null,
   "metadata": {},
   "outputs": [],
   "source": [
    "UMAP_PCA_violin_df = get_euclidean_data_frame(merged_umap_pca_df, \"UMAP1\", \"UMAP2\", \"UMAP\")\n",
    "g = sns.FacetGrid(\n",
    "    UMAP_PCA_violin_df,\n",
    "    col=\"embedding\",\n",
    "    col_wrap=3,\n",
    "    sharey=False,\n",
    "    height=4\n",
    ")\n",
    "g = g.map(sns.violinplot, \"clade_status\", \"distance\", order=[\"within\", \"between\"])\n",
    "g.set_axis_labels(\"Clade status\", \"Distance\")\n",
    "plt.savefig(\"docs/UMAPPCCladeViolinPlot\" + virus_name + \".png\")"
   ]
  },
  {
   "cell_type": "markdown",
   "metadata": {},
   "source": [
    "# Running MDS on the Dataset"
   ]
  },
  {
   "cell_type": "code",
   "execution_count": null,
   "metadata": {},
   "outputs": [],
   "source": [
    "#principalDf = pd.read_csv(snakemake.input.pca)\n",
    "MDS_df = pd.read_csv(\"../seasonal-flu-nextstrain/results/embed_mds.csv\",index_col=0)\n",
    "\n",
    "MDS_df[\"strain\"] = MDS_df.index"
   ]
  },
  {
   "cell_type": "code",
   "execution_count": null,
   "metadata": {},
   "outputs": [],
   "source": [
    "merged_mds_df = MDS_df.merge(node_df, on=\"strain\")"
   ]
  },
  {
   "cell_type": "code",
   "execution_count": null,
   "metadata": {},
   "outputs": [],
   "source": [
    "chart_12_mds = scatterplot_with_tooltip_interactive(merged_mds_df,'mds1','mds2',\"mds1\",\"mds2\",['strain','clade_membership'],'clade_membership_color')\n",
    "chart_34_mds = scatterplot_with_tooltip_interactive(merged_mds_df,'mds3','mds4',\"mds3\",\"mds4\",['strain','clade_membership'],'clade_membership_color')\n",
    "chart_56_mds = scatterplot_with_tooltip_interactive(merged_mds_df,'mds5','mds6',\"mds5\",\"mds6\",['strain','clade_membership'],'clade_membership_color')\n",
    "chart_12_mds|chart_34_mds|chart_56_mds"
   ]
  },
  {
   "cell_type": "code",
   "execution_count": null,
   "metadata": {},
   "outputs": [],
   "source": [
    "list_of_chart = linking_tree_with_plots_brush(merged_mds_df,['mds1','mds2'],[\"MDS1\", \"MDS2\"], 'clade_membership_color:N', ['strain','clade_membership'])\n",
    "list_of_chart[0]|list_of_chart[1]"
   ]
  },
  {
   "cell_type": "code",
   "execution_count": null,
   "metadata": {},
   "outputs": [],
   "source": [
    "#total_df = pd.read_csv(snakemake.input.pca.replace(\".csv\", \"\") + \"scatterplot.csv\", index_col=0)\n",
    "total_df_MDS = pd.read_csv(\"../seasonal-flu-nextstrain/results/scatterplot_mds.csv\",index_col=0)\n",
    "\n",
    "fig, ax = plt.subplots(1, 1, figsize=(6, 6))\n",
    "\n",
    "ax.plot(total_df_MDS[\"genetic\"], total_df_MDS[\"euclidean\"], \"o\", alpha=0.25)\n",
    "ax.plot(total_df_MDS[\"LOWESS_x\"], total_df_MDS[\"LOWESS_y\"], label=\"LOESS\")\n",
    "\n",
    "ax.set_xlabel(\"Genetic distance\")\n",
    "ax.set_ylabel(\"Euclidean distance (PCA)\")\n",
    "ax.set_title(\"MDS Euclidean distance vs. genetic distance ($R^2=%.3f$)\" % (total_df_MDS[\"pearson_coef\"].values.tolist()[0]))\n",
    "\n",
    "sns.despine()"
   ]
  },
  {
   "cell_type": "code",
   "execution_count": null,
   "metadata": {},
   "outputs": [],
   "source": [
    "MDS_violin_df = get_euclidean_data_frame(merged_mds_df, \"MDS1\", \"MDS2\", \"MDS\")\n",
    "scaler = StandardScaler()\n",
    "\n",
    "MDS_violin_df[\"scaled_distance\"] = scaler.fit_transform(pdist(MDS_df.drop([\"strain\"], axis = 1)).reshape(-1, 1))\n",
    "\n",
    "MDS_violin_df[\"genetic_distance\"] = squareform(similarity_matrix).reshape(-1, 1)\n",
    "\n",
    "fig, axes = plt.subplots(1, 2, figsize=(12, 6))\n",
    "\n",
    "ax = axes[0]\n",
    "ax = sns.kdeplot(MDS_violin_df.query(\"clade_status == 'within'\")[\"scaled_distance\"], label=\"Same clade\", ax=ax)\n",
    "ax = sns.kdeplot(MDS_violin_df.query(\"clade_status == 'between'\")[\"scaled_distance\"], label=\"Different clade\", ax=ax)\n",
    "\n",
    "ax.set_xlabel(\"Scaled Euclidean distance from embedding\")\n",
    "ax.set_ylabel(\"KDE density\")\n",
    "\n",
    "ax = axes[1]\n",
    "ax = sns.kdeplot(MDS_violin_df.query(\"clade_status == 'within'\")[\"genetic_distance\"], label=\"Same clade\", ax=ax)\n",
    "ax = sns.kdeplot(MDS_violin_df.query(\"clade_status == 'between'\")[\"genetic_distance\"], label=\"Different clade\", ax=ax)\n",
    "\n",
    "ax.set_xlabel(\"Genetic distance\")\n",
    "ax.set_ylabel(\"KDE density\")\n",
    "\n",
    "fig.suptitle('MDS KDE Plot', fontsize=16)\n",
    "sns.despine()"
   ]
  },
  {
   "cell_type": "markdown",
   "metadata": {},
   "source": [
    "# Running T-SNE on the Dataset "
   ]
  },
  {
   "cell_type": "code",
   "execution_count": null,
   "metadata": {},
   "outputs": [],
   "source": [
    "#principalDf = pd.read_csv(snakemake.input.pca)\n",
    "TSNE_df = pd.read_csv(\"../seasonal-flu-nextstrain/results/embed_tsne.csv\",index_col=0)\n",
    "\n",
    "TSNE_df[\"strain\"] = TSNE_df.index"
   ]
  },
  {
   "cell_type": "code",
   "execution_count": null,
   "metadata": {},
   "outputs": [],
   "source": [
    "TSNE_df"
   ]
  },
  {
   "cell_type": "code",
   "execution_count": null,
   "metadata": {},
   "outputs": [],
   "source": [
    "merged_tsne_df = TSNE_df.merge(node_df, on=\"strain\")"
   ]
  },
  {
   "cell_type": "code",
   "execution_count": null,
   "metadata": {},
   "outputs": [],
   "source": [
    "real = scatterplot_with_tooltip_interactive(merged_tsne_df,'tsne_x','tsne_y',\"tsne_x\",\"tsne_y\",['strain','clade_membership'],'clade_membership')\n",
    "real"
   ]
  },
  {
   "cell_type": "code",
   "execution_count": null,
   "metadata": {},
   "outputs": [],
   "source": [
    "list_of_chart = linking_tree_with_plots_brush(\n",
    "    merged_tsne_df,\n",
    "    ['tsne_x','tsne_y'],\n",
    "    ['tsne_x','tsne_y'],\n",
    "    'clade_membership',\n",
    "    [\"clade_membership:N\",\"strain:N\"]\n",
    ")\n",
    "chart = list_of_chart[0]|list_of_chart[1]\n",
    "chart\n",
    "#chart.save(\"docs/TSNE\" + virus_name + \"Brush.html\")"
   ]
  },
  {
   "cell_type": "code",
   "execution_count": null,
   "metadata": {},
   "outputs": [],
   "source": [
    "total_df_TSNE = pd.read_csv(\"../seasonal-flu-nextstrain/results/scatterplot_tsne.csv\",index_col=0)\n",
    "\n",
    "fig, ax = plt.subplots(1, 1, figsize=(6, 6))\n",
    "\n",
    "ax.plot(total_df_TSNE[\"genetic\"], total_df_TSNE[\"euclidean\"], \"o\", alpha=0.25)\n",
    "ax.plot(total_df_TSNE[\"LOWESS_x\"], total_df_TSNE[\"LOWESS_y\"], label=\"LOESS\")\n",
    "\n",
    "ax.set_xlabel(\"Genetic distance\")\n",
    "ax.set_ylabel(\"Euclidean distance (t-SNE)\")\n",
    "ax.set_title(\"t-SNE Euclidean distance vs. genetic distance ($R^2=%.3f$)\" % (total_df_TSNE[\"pearson_coef\"].values.tolist()[0]))\n",
    "\n",
    "sns.despine()\n",
    "#plt.savefig(\"docs/TSNEScatterplot\" + virus_name + \".png\")"
   ]
  },
  {
   "cell_type": "code",
   "execution_count": null,
   "metadata": {},
   "outputs": [],
   "source": [
    "TSNE_violin_df = get_euclidean_data_frame(merged_tsne_df, \"TSNE1\", \"TSNE2\", \"TSNE\")\n",
    "\n",
    "scaler = StandardScaler()\n",
    "\n",
    "TSNE_violin_df[\"scaled_distance\"] = scaler.fit_transform(pdist(TSNE_df.drop([\"strain\"], axis = 1)).reshape(-1, 1))\n",
    "\n",
    "TSNE_violin_df[\"genetic_distance\"] = squareform(similarity_matrix).reshape(-1, 1)\n",
    "\n",
    "fig, axes = plt.subplots(1, 2, figsize=(12, 6))\n",
    "\n",
    "ax = axes[0]\n",
    "ax = sns.kdeplot(TSNE_violin_df.query(\"clade_status == 'within'\")[\"scaled_distance\"], label=\"Same clade\", ax=ax)\n",
    "ax = sns.kdeplot(TSNE_violin_df.query(\"clade_status == 'between'\")[\"scaled_distance\"], label=\"Different clade\", ax=ax)\n",
    "\n",
    "ax.set_xlabel(\"Scaled Euclidean distance from embedding\")\n",
    "ax.set_ylabel(\"KDE density\")\n",
    "\n",
    "ax = axes[1]\n",
    "ax = sns.kdeplot(TSNE_violin_df.query(\"clade_status == 'within'\")[\"genetic_distance\"], label=\"Same clade\", ax=ax)\n",
    "ax = sns.kdeplot(TSNE_violin_df.query(\"clade_status == 'between'\")[\"genetic_distance\"], label=\"Different clade\", ax=ax)\n",
    "\n",
    "ax.set_xlabel(\"Genetic distance\")\n",
    "ax.set_ylabel(\"KDE density\")\n",
    "\n",
    "fig.suptitle('TSNE KDE Plot', fontsize=16)\n",
    "sns.despine()"
   ]
  },
  {
   "cell_type": "markdown",
   "metadata": {},
   "source": [
    "# Running UMAP on the Dataset"
   ]
  },
  {
   "cell_type": "code",
   "execution_count": null,
   "metadata": {},
   "outputs": [],
   "source": [
    "#principalDf = pd.read_csv(snakemake.input.pca)\n",
    "UMAP_df = pd.read_csv(\"../seasonal-flu-nextstrain/results/embed_umap.csv\",index_col=0)\n",
    "\n",
    "UMAP_df[\"strain\"] = UMAP_df.index"
   ]
  },
  {
   "cell_type": "code",
   "execution_count": null,
   "metadata": {},
   "outputs": [],
   "source": [
    "merged_umap_df = UMAP_df.merge(node_df, on=\"strain\")"
   ]
  },
  {
   "cell_type": "code",
   "execution_count": null,
   "metadata": {},
   "outputs": [],
   "source": [
    "scatterplot_with_tooltip_interactive(merged_umap_df,'umap_x','umap_y',\"umap_x\",\"umap_y\",['strain','clade_membership'],'clade_membership_color')"
   ]
  },
  {
   "cell_type": "code",
   "execution_count": null,
   "metadata": {},
   "outputs": [],
   "source": [
    "list_of_data_and_titles = ['umap_x','umap_y']\n",
    "list_of_chart = linking_tree_with_plots_brush(\n",
    "    merged_umap_df,\n",
    "    list_of_data_and_titles,\n",
    "    list_of_data_and_titles,\n",
    "    'clade_membership',\n",
    "    [\"clade_membership\",\"strain:N\"]\n",
    ")\n",
    "chart = list_of_chart[0]|list_of_chart[1]\n",
    "chart\n",
    "#chart.save(\"docs/UMAP\" + virus_name + \"Brush.html\")\n",
    "#chart.save(\"docs/UMAP\" + virus_name + \"Brush.png\", scale_factor=2.0)"
   ]
  },
  {
   "cell_type": "code",
   "execution_count": null,
   "metadata": {},
   "outputs": [],
   "source": [
    "UMAP_violin_df = get_euclidean_data_frame(merged_umap_df, \"umap_x\", \"umap_y\", \"UMAP\")\n",
    "\n",
    "scaler = StandardScaler()\n",
    "\n",
    "UMAP_violin_df[\"scaled_distance\"] = scaler.fit_transform(pdist(UMAP_df.drop([\"strain\"], axis = 1)).reshape(-1, 1))\n",
    "\n",
    "UMAP_violin_df[\"genetic_distance\"] = squareform(similarity_matrix).reshape(-1, 1)\n",
    "\n",
    "fig, axes = plt.subplots(1, 2, figsize=(12, 6))\n",
    "\n",
    "ax = axes[0]\n",
    "ax = sns.kdeplot(UMAP_violin_df.query(\"clade_status == 'within'\")[\"scaled_distance\"], label=\"Same clade\", ax=ax)\n",
    "ax = sns.kdeplot(UMAP_violin_df.query(\"clade_status == 'between'\")[\"scaled_distance\"], label=\"Different clade\", ax=ax)\n",
    "\n",
    "ax.set_xlabel(\"Scaled Euclidean distance from embedding\")\n",
    "ax.set_ylabel(\"KDE density\")\n",
    "\n",
    "ax = axes[1]\n",
    "ax = sns.kdeplot(UMAP_violin_df.query(\"clade_status == 'within'\")[\"genetic_distance\"], label=\"Same clade\", ax=ax)\n",
    "ax = sns.kdeplot(UMAP_violin_df.query(\"clade_status == 'between'\")[\"genetic_distance\"], label=\"Different clade\", ax=ax)\n",
    "\n",
    "ax.set_xlabel(\"Genetic distance\")\n",
    "ax.set_ylabel(\"KDE density\")\n",
    "\n",
    "fig.suptitle('UMAP KDE Plot', fontsize=16)\n",
    "sns.despine()"
   ]
  },
  {
   "cell_type": "code",
   "execution_count": null,
   "metadata": {},
   "outputs": [],
   "source": [
    "total_df_UMAP = pd.read_csv(\"../seasonal-flu-nextstrain/results/scatterplot_umap.csv\",index_col=0)\n",
    "\n",
    "fig, ax = plt.subplots(1, 1, figsize=(6, 6))\n",
    "\n",
    "ax.plot(total_df_UMAP[\"genetic\"], total_df_UMAP[\"euclidean\"], \"o\", alpha=0.25)\n",
    "ax.plot(total_df_UMAP[\"LOWESS_x\"], total_df_UMAP[\"LOWESS_y\"], label=\"LOESS\")\n",
    "\n",
    "ax.set_xlabel(\"Genetic distance\")\n",
    "ax.set_ylabel(\"Euclidean distance (UMAP)\")\n",
    "ax.set_title(\"UMAP Euclidean distance vs. genetic distance ($R^2=%.3f$)\" % (total_df_UMAP[\"pearson_coef\"].values.tolist()[0]))\n",
    "\n",
    "sns.despine()\n",
    "#plt.savefig(\"docs/UMAPScatterplot\" + virus_name + \".png\")"
   ]
  },
  {
   "cell_type": "markdown",
   "metadata": {},
   "source": [
    "# Linking all plots together clickable with Tree"
   ]
  },
  {
   "cell_type": "code",
   "execution_count": null,
   "metadata": {},
   "outputs": [],
   "source": [
    "merged_df = node_df.merge(\n",
    "    principalDf,\n",
    "    on=\"strain\"\n",
    ").merge(\n",
    "    MDS_df,\n",
    "    on=\"strain\"\n",
    ").merge(\n",
    "    TSNE_df,\n",
    "    on=\"strain\"\n",
    ").merge(\n",
    "    UMAP_df,\n",
    "    on=\"strain\"\n",
    ")"
   ]
  },
  {
   "cell_type": "code",
   "execution_count": null,
   "metadata": {},
   "outputs": [],
   "source": [
    "merged_df.shape"
   ]
  },
  {
   "cell_type": "code",
   "execution_count": null,
   "metadata": {},
   "outputs": [],
   "source": [
    "merged_df.head()"
   ]
  },
  {
   "cell_type": "code",
   "execution_count": null,
   "metadata": {},
   "outputs": [],
   "source": [
    "data = linking_tree_with_plots_clickable(\n",
    "    merged_df,\n",
    "    ['MDS1', 'MDS2','TSNE1', 'TSNE2', 'PCA1', 'PCA2', 'UMAP1', 'UMAP2'],\n",
    "    ['MDS1', 'MDS2', 'TSNE1', 'TSNE2','PCA1 (Expected Variance : {}%'.format(round(explained_variance_PCA[0]*100,2)) + \")\",\n",
    "    'PCA2 (Expected Variance : {}%'.format(round(explained_variance_PCA[1]*100,2)) + \")\",'UMAP1','UMAP2'],\n",
    "    'clade_membership_color:N',\n",
    "    ['clade_membership'],\n",
    "    ['strain','clade_membership']\n",
    ")"
   ]
  },
  {
   "cell_type": "code",
   "execution_count": null,
   "metadata": {},
   "outputs": [],
   "source": [
    "data1 = linking_tree_with_plots_brush(\n",
    "    merged_df,\n",
    "    ['TSNE1', 'TSNE2','UMAP1', 'UMAP2'],\n",
    "    ['TSNE1', 'TSNE2','UMAP1','UMAP2'],\n",
    "    'clade_membership:N',\n",
    "    ['strain','clade_membership']\n",
    ")"
   ]
  },
  {
   "cell_type": "code",
   "execution_count": null,
   "metadata": {},
   "outputs": [],
   "source": [
    "TSNEUMAP = data1[0]|data1[1]|data1[2]\n",
    "TSNEUMAP.save(\"docs/TSNEUMAPClickable\" + virus_name + \".html\")\n",
    "TSNEUMAP"
   ]
  },
  {
   "cell_type": "code",
   "execution_count": null,
   "metadata": {},
   "outputs": [],
   "source": [
    "PCAMDS = data[3]|data[1]|data[5]\n",
    "TSNEUMAP = data[2]|data[4]\n",
    "embeddings = alt.vconcat(PCAMDS,TSNEUMAP)\n",
    "embeddings\n",
    "fullChart = alt.hconcat(data[0],embeddings)\n",
    "fullChart\n",
    "#fullChart.save(\"docs/FullLinkedChartClickable\" + virus_name + \".html\")\n",
    "#fullChart.save(\"docs/FullLinkedChartClickable\" + virus_name + \".svg\", scale_factor=2.0)\n",
    "#drawing = svg2rlg(\"docs/FullLinkedChartClickable\" + virus_name + \".svg\")\n",
    "#renderPDF.drawToFile(drawing, \"docs/FullLinkedChartClickable\" + virus_name + \".pdf\")"
   ]
  },
  {
   "cell_type": "markdown",
   "metadata": {},
   "source": [
    "## Scatterplots for all embeddings \n",
    "Concatenating all embedding data frames to plot genetic vs Euclidean distance for each embedding"
   ]
  },
  {
   "cell_type": "code",
   "execution_count": null,
   "metadata": {},
   "outputs": [],
   "source": [
    "fig, (ax1, ax2, ax3, ax4) = plt.subplots(1, 4, figsize=(24, 6))\n",
    "fig.tight_layout(pad=4.0)\n",
    "\n",
    "ax1.plot(total_df_PCA[\"genetic\"], total_df_PCA[\"euclidean\"], \"o\", alpha=0.25)\n",
    "ax1.plot(total_df_PCA[\"LOWESS_x\"], total_df_PCA[\"LOWESS_y\"], label=\"LOESS\")\n",
    "\n",
    "ax1.set_xlabel(\"Genetic distance\")\n",
    "ax1.set_ylabel(\"Euclidean distance (PCA)\")\n",
    "ax1.set_title(\"PCA Euclidean distance vs. genetic distance ($R^2=%.3f$)\" % (total_df_PCA[\"pearson_coef\"].values.tolist()[0]))\n",
    "\n",
    "ax2.plot(total_df_MDS[\"genetic\"], total_df_MDS[\"euclidean\"], \"o\", alpha=0.25)\n",
    "ax2.plot(total_df_MDS[\"LOWESS_x\"], total_df_MDS[\"LOWESS_y\"], label=\"LOESS\")\n",
    "\n",
    "ax2.set_xlabel(\"Genetic distance\")\n",
    "ax2.set_ylabel(\"Euclidean distance (MDS)\")\n",
    "ax2.set_title(\"MDS Euclidean distance vs. genetic distance ($R^2=%.3f$)\" % (total_df_MDS[\"pearson_coef\"].values.tolist()[0]))\n",
    "\n",
    "ax3.plot(total_df_TSNE[\"genetic\"], total_df_TSNE[\"euclidean\"], \"o\", alpha=0.25)\n",
    "ax3.plot(total_df_TSNE[\"LOWESS_x\"], total_df_TSNE[\"LOWESS_y\"], label=\"LOESS\")\n",
    "\n",
    "ax3.set_xlabel(\"Genetic distance\")\n",
    "ax3.set_ylabel(\"Euclidean distance (t-SNE)\")\n",
    "ax3.set_title(\"t-SNE Euclidean distance vs. genetic distance ($R^2=%.3f$)\" % (total_df_TSNE[\"pearson_coef\"].values.tolist()[0]))\n",
    "\n",
    "ax4.plot(total_df_UMAP[\"genetic\"], total_df_UMAP[\"euclidean\"], \"o\", alpha=0.25)\n",
    "ax4.plot(total_df_UMAP[\"LOWESS_x\"], total_df_UMAP[\"LOWESS_y\"], label=\"LOESS\")\n",
    "\n",
    "ax4.set_xlabel(\"Genetic distance\")\n",
    "ax4.set_ylabel(\"Euclidean distance (UMAP)\")\n",
    "ax4.set_title(\"UMAP Euclidean distance vs. genetic distance ($R^2=%.3f$)\" % (total_df_UMAP[\"pearson_coef\"].values.tolist()[0]))\n",
    "\n",
    "\n",
    "sns.despine()\n",
    "#plt.savefig(\"docs/FullScatterplot\" + virus_name + \".png\")"
   ]
  },
  {
   "cell_type": "markdown",
   "metadata": {},
   "source": [
    "## Within- and between-clade Euclidean distances for all embeddings\n",
    "\n",
    "Use the complete embedding data frame to calculate pairwise Euclidean distances between samples and plot the results in a single figure."
   ]
  },
  {
   "cell_type": "code",
   "execution_count": null,
   "metadata": {},
   "outputs": [],
   "source": [
    "scaler = StandardScaler()\n",
    "\n",
    "fig, axes = plt.subplots(1, 4, figsize=(28, 6))\n",
    "\n",
    "ax = axes[0]\n",
    "ax = sns.kdeplot(UMAP_violin_df.query(\"clade_status == 'within'\")[\"genetic_distance\"], label=\"Same clade\", ax=ax)\n",
    "ax = sns.kdeplot(UMAP_violin_df.query(\"clade_status == 'between'\")[\"genetic_distance\"], label=\"Different clade\", ax=ax)\n",
    "ax.set_title('genetic')\n",
    "ax.set_xlabel(\"Genetic distance\")\n",
    "ax.set_ylabel(\"KDE density\")\n",
    "\n",
    "#MDS\n",
    "ax = axes[1]\n",
    "ax = sns.kdeplot(MDS_violin_df.query(\"clade_status == 'within'\")[\"scaled_distance\"], label=\"Same clade\", ax=ax)\n",
    "ax = sns.kdeplot(MDS_violin_df.query(\"clade_status == 'between'\")[\"scaled_distance\"], label=\"Different clade\", ax=ax)\n",
    "ax.set_title('MDS')\n",
    "ax.set_xlabel(\"Scaled Euclidean distance from embedding (MDS)\")\n",
    "ax.set_ylabel(\"KDE density\")\n",
    "\n",
    "#TSNE\n",
    "ax = axes[2]\n",
    "ax = sns.kdeplot(TSNE_violin_df.query(\"clade_status == 'within'\")[\"scaled_distance\"], label=\"Same clade\", ax=ax)\n",
    "ax = sns.kdeplot(TSNE_violin_df.query(\"clade_status == 'between'\")[\"scaled_distance\"], label=\"Different clade\", ax=ax)\n",
    "ax.set_title('TSNE')\n",
    "ax.set_xlabel(\"Scaled Euclidean distance from embedding (TSNE)\")\n",
    "ax.set_ylabel(\"KDE density\")\n",
    "\n",
    "#UMAP\n",
    "ax = axes[3]\n",
    "ax = sns.kdeplot(UMAP_violin_df.query(\"clade_status == 'within'\")[\"scaled_distance\"], label=\"Same clade\", ax=ax)\n",
    "ax = sns.kdeplot(UMAP_violin_df.query(\"clade_status == 'between'\")[\"scaled_distance\"], label=\"Different clade\", ax=ax)\n",
    "ax.set_title('UMAP')\n",
    "ax.set_xlabel(\"Scaled Euclidean distance from embedding (UMAP)\")\n",
    "ax.set_ylabel(\"KDE density\")\n",
    "\n",
    "\n",
    "fig.suptitle('Total KDE Plot', fontsize=16)\n",
    "sns.despine()"
   ]
  },
  {
   "cell_type": "markdown",
   "metadata": {},
   "source": [
    "# Supplementary Figures"
   ]
  },
  {
   "cell_type": "markdown",
   "metadata": {},
   "source": [
    "## UMAP neighbors and distance "
   ]
  },
  {
   "cell_type": "code",
   "execution_count": null,
   "metadata": {},
   "outputs": [],
   "source": [
    "neighbors = [5, 25, 200]\n",
    "min_dist = [.05, .5]\n",
    "X_transformed_umap = []\n",
    "new_df = []\n",
    "UMAP_dataframe = pd.DataFrame()\n",
    "UMAP_dataframe[\"strain\"] = similarity_matrix.index\n",
    "for i in range(0, len(neighbors)):\n",
    "    for j in range(0, len(min_dist)):\n",
    "        reducer = umap.UMAP(n_neighbors=neighbors[i],\n",
    "        min_dist= min_dist[j],\n",
    "        n_components=2,\n",
    "        init=\"spectral\")  \n",
    "        new_list = pd.DataFrame(reducer.fit_transform(similarity_matrix))\n",
    "        new_list_df = pd.DataFrame(new_list)\n",
    "        new_list_df.columns = ['UMAP' + str(i) + str(j) + '_' + str(k) for k in range(1,3)]\n",
    "        UMAP_dataframe = UMAP_dataframe.join(pd.DataFrame(new_list))  \n",
    "        new_df = UMAP_dataframe.merge(node_df, on=\"strain\")\n",
    "        "
   ]
  },
  {
   "cell_type": "code",
   "execution_count": null,
   "metadata": {},
   "outputs": [],
   "source": [
    "new_df"
   ]
  },
  {
   "cell_type": "markdown",
   "metadata": {},
   "source": [
    "# Across the x axis, the neighbors increases (5, 25, 200)\n",
    "# From top to bottom, the min dist increases from .05 to .5"
   ]
  },
  {
   "cell_type": "code",
   "execution_count": null,
   "metadata": {},
   "outputs": [],
   "source": [
    "data1 = linking_tree_with_plots_brush(\n",
    "    new_df,\n",
    "    ['UMAP00_1',\"UMAP00_2\", 'UMAP01_1',\"UMAP01_2\", 'UMAP10_1',\"UMAP10_2\", 'UMAP11_1',\"UMAP11_2\", 'UMAP20_1',\"UMAP20_2\", 'UMAP21_1',\"UMAP21_2\"],\n",
    "    ['UMAP00_1',\"UMAP00_2\", 'UMAP01_1',\"UMAP01_2\", 'UMAP10_1',\"UMAP10_2\", 'UMAP11_1',\"UMAP11_2\", 'UMAP20_1',\"UMAP20_2\", 'UMAP21_1',\"UMAP21_2\"],\n",
    "    'clade_membership_color:N',\n",
    "    ['strain','clade_membership']\n",
    ")\n",
    "top_row = data1[2].properties(title = \"UMAP Neighbors = 5, min dist = .05\")|data1[4].properties(title = \"UMAP Neighbors = 25, min dist = .05\")|data1[6].properties(title = \"UMAP Neighbors = 200, min dist = .05\")\n",
    "bottom_row = data1[1].properties(title = \"UMAP Neighbors = 5, min dist = .5\")|data1[3].properties(title = \"UMAP Neighbors = 25, min dist = .5\")|data1[5].properties(title = \"UMAP Neighbors = 200, min dist = .5\")\n",
    "total = alt.vconcat(top_row, bottom_row)\n",
    "total = alt.hconcat(data1[0], total)\n",
    "total\n",
    "total.save(\"docs/UMAP_neighbors_mindist_chart_\" + virus_name + \".html\")\n",
    "total.save(\"docs/UMAP_neighbors_mindist_chart_\" + virus_name + \".svg\", scale_factor=2.0)\n",
    "drawing = svg2rlg(\"docs/UMAP_neighbors_mindist_chart_\" + virus_name + \".svg\")\n",
    "renderPDF.drawToFile(drawing, \"docs/UMAP_neighbors_mindist_chart_\" + virus_name + \".pdf\")"
   ]
  },
  {
   "cell_type": "code",
   "execution_count": null,
   "metadata": {},
   "outputs": [],
   "source": [
    "learning_rate = [100.0, 200.0, 300.0, 400.0, 500.0, 1000.0]\n",
    "new_df = []\n",
    "new_list_df = []\n",
    "TSNE_dataframe = pd.DataFrame()\n",
    "TSNE_dataframe[\"strain\"] = similarity_matrix.index\n",
    "for i in range (0, len(learning_rate)):\n",
    "    embedding = TSNE(n_components=2,metric='precomputed',learning_rate=learning_rate[i],perplexity = 25.95)\n",
    "    X_transformed = pd.DataFrame(embedding.fit_transform(similarity_matrix))\n",
    "    new_list_df = pd.DataFrame(X_transformed)\n",
    "    new_list_df.columns = ['TSNE' + str(i) + '_' + str(k) for k in range(1,3)]\n",
    "    TSNE_dataframe = TSNE_dataframe.join(pd.DataFrame(new_list_df))  \n",
    "    new_df = TSNE_dataframe.merge(node_df, on=\"strain\")"
   ]
  },
  {
   "cell_type": "code",
   "execution_count": null,
   "metadata": {},
   "outputs": [],
   "source": [
    "new_df"
   ]
  },
  {
   "cell_type": "code",
   "execution_count": null,
   "metadata": {},
   "outputs": [],
   "source": [
    "data1 = linking_tree_with_plots_brush(\n",
    "    new_df,\n",
    "    [\"TSNE0_1\", \"TSNE0_2\", \"TSNE1_1\", \"TSNE1_2\", \"TSNE2_1\", \"TSNE2_2\", \"TSNE3_1\", \"TSNE3_2\", \"TSNE4_1\", \"TSNE4_2\", \"TSNE5_1\", \"TSNE5_2\"],\n",
    "    [\"TSNE0_1\", \"TSNE0_2\", \"TSNE1_1\", \"TSNE1_2\", \"TSNE2_1\", \"TSNE2_2\", \"TSNE3_1\", \"TSNE3_2\", \"TSNE4_1\", \"TSNE4_2\", \"TSNE5_1\", \"TSNE5_2\"],\n",
    "    'clade_membership_color:N',\n",
    "    ['strain','clade_membership']\n",
    ")\n",
    "top_row = data1[1].properties(title = \"TSNE learning rate = 100.0\")|data1[2].properties(title = \"TSNE learning rate = 200.0 (default)\")|data1[3].properties(title = \"TSNE learning rate = 300.0\")\n",
    "bottom_row = data1[4].properties(title = \"TSNE learning rate = 400.0\")|data1[5].properties(title = \"TSNE learning rate = 500.0\")|data1[6].properties(title = \"TSNE learning rate = 1000.0\")\n",
    "total = alt.vconcat(top_row, bottom_row)\n",
    "total = alt.hconcat(data1[0], total)\n",
    "total\n",
    "total.save(\"docs/TSNELearningRates\" + virus_name + \".html\")\n",
    "total.save(\"docs/TSNELearningRates\" + virus_name + \".svg\", scale_factor=2.0)\n",
    "drawing = svg2rlg(\"docs/TSNELearningRates\" + virus_name + \".svg\")\n",
    "renderPDF.drawToFile(drawing, \"docs/TSNELearningRates\" + virus_name + \".pdf\")"
   ]
  },
  {
   "cell_type": "code",
   "execution_count": null,
   "metadata": {},
   "outputs": [],
   "source": [
    "perplexity = [15, 20, 25, 30, 100]\n",
    "new_df = []\n",
    "new_list_df = []\n",
    "TSNE_dataframe = pd.DataFrame()\n",
    "TSNE_dataframe[\"strain\"] = similarity_matrix.index\n",
    "for i in range (0, len(perplexity)):\n",
    "    embedding = TSNE(n_components=2,metric='precomputed', perplexity = perplexity[i])\n",
    "    X_transformed = pd.DataFrame(embedding.fit_transform(similarity_matrix))\n",
    "    new_list_df = pd.DataFrame(X_transformed)\n",
    "    new_list_df.columns = ['TSNE' + str(i) + '_' + str(k) for k in range(1,3)]\n",
    "    TSNE_dataframe = TSNE_dataframe.join(pd.DataFrame(new_list_df))  \n",
    "    new_df = TSNE_dataframe.merge(node_df, on=\"strain\")"
   ]
  },
  {
   "cell_type": "code",
   "execution_count": null,
   "metadata": {},
   "outputs": [],
   "source": [
    "data1 = linking_tree_with_plots_brush(\n",
    "    new_df,\n",
    "    [\"TSNE0_1\", \"TSNE0_2\", \"TSNE1_1\", \"TSNE1_2\", \"TSNE2_1\", \"TSNE2_2\", \"TSNE3_1\", \"TSNE3_2\", \"TSNE4_1\", \"TSNE4_2\"],\n",
    "    [\"TSNE0_1\", \"TSNE0_2\", \"TSNE1_1\", \"TSNE1_2\", \"TSNE2_1\", \"TSNE2_2\", \"TSNE3_1\", \"TSNE3_2\", \"TSNE4_1\", \"TSNE4_2\"],\n",
    "    'clade_membership_color:N',\n",
    "    ['strain','clade_membership']\n",
    ")\n",
    "top_row = data1[1].properties(title = \"TSNE perplexity = 15\")|data1[2].properties(title = \"TSNE perplexity = 20\")|data1[3].properties(title = \"TSNE perplexity = 25\")\n",
    "bottom_row = data1[4].properties(title = \"TSNE perplexity = 30\")|data1[5].properties(title = \"TSNE perplexity = 100\")\n",
    "total = alt.vconcat(top_row, bottom_row)\n",
    "total = alt.hconcat(data1[0], total)\n",
    "total\n",
    "total.save(\"docs/TSNEPerplexity\" + virus_name + \".html\")\n",
    "chart.save(\"docs/TSNEPerplexity\" + virus_name + \".svg\", scale_factor=2.0)\n",
    "drawing = svg2rlg(\"docs/TSNEPerplexity\" + virus_name + \".svg\")\n",
    "renderPDF.drawToFile(drawing, \"docs/TSNEPerplexity\" + virus_name + \".pdf\")"
   ]
  }
 ],
 "metadata": {
  "kernelspec": {
   "display_name": "Python 3",
   "language": "python",
   "name": "python3"
  },
  "language_info": {
   "codemirror_mode": {
    "name": "ipython",
    "version": 3
   },
   "file_extension": ".py",
   "mimetype": "text/x-python",
   "name": "python",
   "nbconvert_exporter": "python",
   "pygments_lexer": "ipython3",
   "version": "3.7.6"
  }
 },
 "nbformat": 4,
 "nbformat_minor": 4
}
