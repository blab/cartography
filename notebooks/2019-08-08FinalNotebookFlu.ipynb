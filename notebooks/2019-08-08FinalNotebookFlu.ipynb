{
 "cells": [
  {
   "cell_type": "markdown",
   "metadata": {},
   "source": [
    "# This is Cartography put together into one place. "
   ]
  },
  {
   "cell_type": "markdown",
   "metadata": {},
   "source": [
    "## Modules to add to run this code:"
   ]
  },
  {
   "cell_type": "markdown",
   "metadata": {},
   "source": [
    "- [BioPython][1]\n",
    "- [Pandas][2]\n",
    "- [Numpy][3]\n",
    "- [Altair][4]\n",
    "- [Seaborn][5]\n",
    "- [Scikit-Learn][6]\n",
    "- [UMAP][7]\n",
    "- json\n",
    "- nextstrain-augur\n",
    "- statsmodels\n",
    "[1]:https://biopython.org/wiki/Download\n",
    "[2]:https://pandas.pydata.org/pandas-docs/version/0.23.3/install.html\n",
    "[3]:https://docs.scipy.org/doc/numpy/user/quickstart.html\n",
    "[4]:https://altair-viz.github.io/getting_started/installation.html\n",
    "[5]:https://seaborn.pydata.org/installing.html\n",
    "[6]:https://scikit-learn.org/stable/install.html\n",
    "[7]:https://umap-learn.readthedocs.io/en/latest/\n"
   ]
  },
  {
   "cell_type": "markdown",
   "metadata": {},
   "source": [
    "# Imports Section "
   ]
  },
  {
   "cell_type": "code",
   "execution_count": null,
   "metadata": {},
   "outputs": [],
   "source": [
    "import pandas as pd\n",
    "import altair as alt\n",
    "import numpy as np\n",
    "from scipy.spatial.distance import squareform, pdist\n",
    "import pandas as pd\n",
    "import numpy as np\n",
    "from Bio import SeqIO\n",
    "import seaborn as sns\n",
    "import re\n",
    "import matplotlib.pyplot as plt\n",
    "from sklearn.decomposition import PCA\n",
    "from augur.utils import json_to_tree\n",
    "import json\n",
    "from sklearn.manifold import MDS\n",
    "from sklearn.manifold import TSNE\n",
    "import umap\n",
    "from scipy.stats import linregress\n",
    "from pathlib import Path\n",
    "import statsmodels\n",
    "import statistics\n",
    "import matplotlib.pyplot as plt\n",
    "from Helpers import get_euclidean_data_frame, get_hamming_distances, linking_tree_with_plots_brush\n",
    "from Helpers import linking_tree_with_plots_clickable\n",
    "from Helpers import scatterplot_xyvalues, scatterplot_tooltips, scatterplot_with_tooltip_interactive\n",
    "\n",
    "%matplotlib inline"
   ]
  },
  {
   "cell_type": "markdown",
   "metadata": {},
   "source": [
    "## Pathogen-specific variables\n",
    "\n",
    "Consider consolidating these into a single configuration file that can be passed to the notebook as a command line argument for more scriptable generation of these figures."
   ]
  },
  {
   "cell_type": "code",
   "execution_count": null,
   "metadata": {},
   "outputs": [],
   "source": [
    "path = \"Data/aligned_cdc_h3n2_ha_2y_cell_hi.fasta\"\n",
    "dropped_strains = [\"A/Usl/3850/2019\",\"A/Navarra/2284/2018\", \"A/Austria/1123467/2019\", \"A/Austria/1127203/2019\", \"A/Catalonia/NSVH100995626/2019\", \"A/Ontario/RV2296/2019\", \"A/Sydney/781/2019\", 'A/SouthAustralia/1034/2019','A/Usk/3850/2019']\n",
    "distance_matrix_file = \"DistanceMatrixFlu.csv\"\n",
    "pathMeta = Path.cwd().joinpath(\"Data\", \"metadata_h3n2_ha.tsv\")\n",
    "tree_path = 'Data/flu_seasonal_h3n2_ha_2y_tree.json'\n",
    "\n",
    "clades_to_plot = ['3c3.A', 'A1b/131K', 'A1b/135K', 'A2/re', 'A2', 'A3']"
   ]
  },
  {
   "cell_type": "markdown",
   "metadata": {},
   "source": [
    "### Reading in the Fasta File\n",
    "- I used BioPython to parse the Fasta file into two numpy Arrays: Genomes and Strains. "
   ]
  },
  {
   "cell_type": "code",
   "execution_count": null,
   "metadata": {},
   "outputs": [],
   "source": [
    "#work on making this work\n",
    "strains = []\n",
    "genomes = []\n",
    "for record in SeqIO.parse(path, \"fasta\"):\n",
    "    if(record.id not in dropped_strains):\n",
    "        strains.append(str(record.id))\n",
    "        genomes.append(str(record.seq))"
   ]
  },
  {
   "cell_type": "markdown",
   "metadata": {},
   "source": [
    "#### Checking to make sure the file I picked is a aligned Fasta file / is the file I wanted"
   ]
  },
  {
   "cell_type": "code",
   "execution_count": null,
   "metadata": {},
   "outputs": [],
   "source": [
    "len(strains)\n",
    "print(len(genomes[0]) == len(genomes[1]))\n",
    "print(len(genomes))"
   ]
  },
  {
   "cell_type": "code",
   "execution_count": null,
   "metadata": {},
   "outputs": [],
   "source": [
    "strains[:5]"
   ]
  },
  {
   "cell_type": "markdown",
   "metadata": {},
   "source": [
    "# Creating the Distance Matrix\n",
    "- I used Hamming Distance to find the pairwise distance between each genome and each other genome, effectively creating a similarity/distance matrix\n",
    "    - In my Hamming Distance method, I only counted something as a different if it was a mismatch between the nucleotides (A,G,C, or T), not gaps (as that was throwing off the algorithm too much for smaller strains)\n",
    "- I then used Seaborn to generate a heatmap to make sure the matrix looked correct"
   ]
  },
  {
   "cell_type": "code",
   "execution_count": null,
   "metadata": {},
   "outputs": [],
   "source": [
    "%%time\n",
    "# Try to load an existing distance matrix. Create it, if it doesn't already exist.\n",
    "try:\n",
    "    # The index should be the first column and correspond to strain name for the row.\n",
    "    similarity_matrix = pd.read_csv(distance_matrix_file, index_col=0)\n",
    "    print(\"Loaded existing distance matrix\")\n",
    "except FileNotFoundError:\n",
    "    print(\"Could not find existing distance matrix, creating it now\", end=\"...\")\n",
    "    \n",
    "    # Calculate Hamming distances.\n",
    "    hamming_distances = get_hamming_distances(genomes)\n",
    "    \n",
    "    # Convert distinct pairwise distances into the more redundant but more interpretable square matrix.\n",
    "    similarity_matrix = squareform(hamming_distances)\n",
    "    \n",
    "    # Convert the numpy matrix to a pandas data frame with strain annotations for rows and columns.\n",
    "    similarity_matrix = pd.DataFrame(\n",
    "        similarity_matrix,\n",
    "        columns=strains,\n",
    "        index=strains\n",
    "    )\n",
    "    \n",
    "    # Write out the resulting data frame to cache distance calculations.\n",
    "    # Keep the index in the output file, so it is immediately available on read.\n",
    "    similarity_matrix.to_csv(distance_matrix_file)\n",
    "    print(\"done!\")"
   ]
  },
  {
   "cell_type": "code",
   "execution_count": null,
   "metadata": {},
   "outputs": [],
   "source": [
    "similarity_matrix.head()"
   ]
  },
  {
   "cell_type": "code",
   "execution_count": null,
   "metadata": {},
   "outputs": [],
   "source": [
    "sns.heatmap(similarity_matrix)"
   ]
  },
  {
   "cell_type": "markdown",
   "metadata": {},
   "source": [
    "# Reading in the Metadata\n",
    "- The metadata is used for getting the region, country, etc of different strains. This data is used to color the clusters.\n",
    "- The metadata contains all of the possible sampled strains, so many of these will not be in the genomes from the aligned file, probably because the strains were corrupted, too short, etc. \n",
    "- We merge this metadata with the strains we have in the aligned file to get a list of all of the strains that match between both. It should come out to the amount of strains in the aligned file."
   ]
  },
  {
   "cell_type": "code",
   "execution_count": null,
   "metadata": {},
   "outputs": [],
   "source": [
    "#merging my final dataframe with their regions and strain names\n",
    "metadata_df = pd.read_csv(pathMeta, delimiter='\\t')"
   ]
  },
  {
   "cell_type": "code",
   "execution_count": null,
   "metadata": {},
   "outputs": [],
   "source": [
    "metadata_df.head()"
   ]
  },
  {
   "cell_type": "code",
   "execution_count": null,
   "metadata": {},
   "outputs": [],
   "source": [
    "metadata_df.shape"
   ]
  },
  {
   "cell_type": "code",
   "execution_count": null,
   "metadata": {},
   "outputs": [],
   "source": [
    "len(strains)"
   ]
  },
  {
   "cell_type": "code",
   "execution_count": null,
   "metadata": {},
   "outputs": [],
   "source": [
    "# Keep only the metadata for the current strains.\n",
    "result_strains = metadata_df[metadata_df[\"strain\"].isin(strains)].copy()"
   ]
  },
  {
   "cell_type": "code",
   "execution_count": null,
   "metadata": {},
   "outputs": [],
   "source": [
    "#checking that no strains were lost\n",
    "result_strains.shape"
   ]
  },
  {
   "cell_type": "code",
   "execution_count": null,
   "metadata": {},
   "outputs": [],
   "source": [
    "result_strains.head()"
   ]
  },
  {
   "cell_type": "code",
   "execution_count": null,
   "metadata": {},
   "outputs": [],
   "source": [
    "# Confirm that all current strains have metadata.\n",
    "# If this list is nonzero in length, metadata are missing.\n",
    "assert len(np.setdiff1d(np.unique(strains), metadata_df['strain'].unique())) == 0"
   ]
  },
  {
   "cell_type": "markdown",
   "metadata": {},
   "source": [
    "# Creating the Phylogenetic Tree in Altair\n",
    "- I used Altair to make this tree (Documentation linked [here][1]\n",
    "- I opened and imported the json from a build from NextStrain ([flu][2], [zika][3], etc)\n",
    "- The data from the JSON and the Data from the tree are usually a little different, so after merging the two dataframes you may get some errors.\n",
    "\n",
    "[1]: https://altair-viz.github.io/index.html\n",
    "[2]: https://github.com/nextstrain/seasonal-flu\n",
    "[3]: https://altair-viz.github.io/index.html"
   ]
  },
  {
   "cell_type": "code",
   "execution_count": null,
   "metadata": {},
   "outputs": [],
   "source": [
    "with open(tree_path) as fh:\n",
    "    json_tree_handle = json.load(fh)"
   ]
  },
  {
   "cell_type": "code",
   "execution_count": null,
   "metadata": {},
   "outputs": [],
   "source": [
    "tree = json_to_tree(json_tree_handle)"
   ]
  },
  {
   "cell_type": "code",
   "execution_count": null,
   "metadata": {},
   "outputs": [],
   "source": [
    "tree"
   ]
  },
  {
   "cell_type": "code",
   "execution_count": null,
   "metadata": {},
   "outputs": [],
   "source": [
    "node_data = [\n",
    "    {\n",
    "        \"strain\": node.name,\n",
    "        \"date\": node.attr[\"num_date\"],\n",
    "        \"y\": node.yvalue,\n",
    "        \"region\": node.attr[\"region\"],\n",
    "        \"country\": node.attr[\"country\"],\n",
    "        \"parent_date\": node.parent is not None and node.parent.attr[\"num_date\"] or node.attr[\"num_date\"],\n",
    "        \"parent_y\": node.parent is not None and node.parent.yvalue or node.yvalue,\n",
    "        \"clade_membership\" : node.attr['clade_membership']\n",
    "    }\n",
    "    for node in tree.find_clades(terminal=True)\n",
    "]"
   ]
  },
  {
   "cell_type": "code",
   "execution_count": null,
   "metadata": {},
   "outputs": [],
   "source": [
    "node_data[10]"
   ]
  },
  {
   "cell_type": "code",
   "execution_count": null,
   "metadata": {},
   "outputs": [],
   "source": [
    "node_df = pd.DataFrame(node_data)"
   ]
  },
  {
   "cell_type": "code",
   "execution_count": null,
   "metadata": {},
   "outputs": [],
   "source": [
    "node_df.head()"
   ]
  },
  {
   "cell_type": "code",
   "execution_count": null,
   "metadata": {},
   "outputs": [],
   "source": [
    "node_df[\"y\"] = node_df[\"y\"].max() - node_df[\"y\"]"
   ]
  },
  {
   "cell_type": "code",
   "execution_count": null,
   "metadata": {},
   "outputs": [],
   "source": [
    "node_df[\"parent_y\"] = node_df[\"parent_y\"].max() - node_df[\"parent_y\"]"
   ]
  },
  {
   "cell_type": "code",
   "execution_count": null,
   "metadata": {},
   "outputs": [],
   "source": [
    "node_df.shape"
   ]
  },
  {
   "cell_type": "code",
   "execution_count": null,
   "metadata": {},
   "outputs": [],
   "source": [
    "node_df.head()"
   ]
  },
  {
   "cell_type": "code",
   "execution_count": null,
   "metadata": {},
   "outputs": [],
   "source": [
    "node_df[\"region\"].unique()"
   ]
  },
  {
   "cell_type": "code",
   "execution_count": null,
   "metadata": {},
   "outputs": [],
   "source": [
    "# Reannotate clades that we aren't interested in as \"other\" to simplify color assignment in visualizations.\n",
    "node_df[\"clade_membership_color\"] = node_df[\"clade_membership\"].apply(lambda clade: clade if clade in clades_to_plot else \"other\")"
   ]
  },
  {
   "cell_type": "code",
   "execution_count": null,
   "metadata": {},
   "outputs": [],
   "source": [
    "node_df.head()"
   ]
  },
  {
   "cell_type": "code",
   "execution_count": null,
   "metadata": {},
   "outputs": [],
   "source": [
    "node_df.merge(metadata_df, on=\"strain\")"
   ]
  },
  {
   "cell_type": "markdown",
   "metadata": {},
   "source": [
    "## Checking for Outliers in Pairwise Distance"
   ]
  },
  {
   "cell_type": "code",
   "execution_count": null,
   "metadata": {},
   "outputs": [],
   "source": [
    "mean_distances = similarity_matrix.mean().reset_index(name=\"mean_distance\").rename(columns={\"index\": \"strain\"})"
   ]
  },
  {
   "cell_type": "code",
   "execution_count": null,
   "metadata": {},
   "outputs": [],
   "source": [
    "mean_distances.head()"
   ]
  },
  {
   "cell_type": "code",
   "execution_count": null,
   "metadata": {},
   "outputs": [],
   "source": [
    "alt.Chart(mean_distances, height=150).mark_boxplot().encode(\n",
    "    x = alt.X('mean_distance', title=\"mean of pairwise distances\"),\n",
    "    tooltip = [\"strain\"]\n",
    ")"
   ]
  },
  {
   "cell_type": "markdown",
   "metadata": {},
   "source": [
    "# Running PCA on Scaled and Centered Data\n",
    "- I treated each nucleotide as a \"site\", or dimension, and found the probability of having a certain nucleotide given the frequency of that letter at that site.\n",
    "- I used [this paper][1] as my source \n",
    "- The equation is as follows where C is the matrix of dimensions, M is the mean, and p is the frequency of a nucleotide at that given site. \n",
    "![](https://journals.plos.org/plosgenetics/article/file?type=thumbnail&id=info:doi/10.1371/journal.pgen.0020190.e003)"
   ]
  },
  {
   "cell_type": "code",
   "execution_count": null,
   "metadata": {},
   "outputs": [],
   "source": [
    "numbers = genomes[:]\n",
    "for i in range(0,len(genomes)):\n",
    "    numbers[i] = re.sub(r'[^AGCT]', '5', numbers[i])\n",
    "    numbers[i] = list(numbers[i].replace('A','1').replace('G','2').replace('C', '3').replace('T','4'))\n",
    "    numbers[i] = [int(j) for j in numbers[i]]\n",
    "genomes_df = pd.DataFrame(numbers)\n",
    "genomes_df.columns = [\"Site \" + str(k) for k in range(0,len(numbers[i]))]"
   ]
  },
  {
   "cell_type": "code",
   "execution_count": null,
   "metadata": {},
   "outputs": [],
   "source": [
    "genomes_df.head()"
   ]
  },
  {
   "cell_type": "code",
   "execution_count": null,
   "metadata": {},
   "outputs": [],
   "source": [
    "#performing PCA on my pandas dataframe \n",
    "pca = PCA(n_components=10,svd_solver='full') #can specify n, since with no prior knowledge, I use None\n",
    "principalComponents = pca.fit_transform(genomes_df)"
   ]
  },
  {
   "cell_type": "code",
   "execution_count": null,
   "metadata": {},
   "outputs": [],
   "source": [
    "# Create a data frame from the PCA embedding.\n",
    "principalDf = pd.DataFrame(data = principalComponents, columns = [\"PCA\" + str(i) for i in range(1,11)])\n",
    "\n",
    "# Annotate rows by their original strain names. PCA rows are in the same order as\n",
    "# the `genomes` rows which are in the same order as the `strains` rows.\n",
    "principalDf[\"strain\"] = strains"
   ]
  },
  {
   "cell_type": "code",
   "execution_count": null,
   "metadata": {},
   "outputs": [],
   "source": [
    "df = pd.concat([pd.DataFrame(np.arange(1,11)), pd.DataFrame([round(pca.explained_variance_ratio_[i],4) for i in range(0,len(pca.explained_variance_ratio_))])], axis = 1)\n",
    "df.columns = ['principal components','explained variance']\n",
    "df"
   ]
  },
  {
   "cell_type": "code",
   "execution_count": null,
   "metadata": {},
   "outputs": [],
   "source": [
    "alt.Chart(df).mark_point().encode(\n",
    "    x='principal components:Q',\n",
    "    y='explained variance:Q'\n",
    ")"
   ]
  },
  {
   "cell_type": "code",
   "execution_count": null,
   "metadata": {},
   "outputs": [],
   "source": [
    "merged_pca_df = principalDf.merge(node_df, on=\"strain\")"
   ]
  },
  {
   "cell_type": "code",
   "execution_count": null,
   "metadata": {},
   "outputs": [],
   "source": [
    "merged_pca_df.head()"
   ]
  },
  {
   "cell_type": "code",
   "execution_count": null,
   "metadata": {},
   "outputs": [],
   "source": [
    "list_of_chart = linking_tree_with_plots_brush(merged_pca_df,['PCA1','PCA2','PCA3','PCA4'],\n",
    "                                         ['PCA1 (Explained Variance : {}%'.format(round(pca.explained_variance_ratio_[0]*100,2)) + \")\",\n",
    "                                          'PCA2 (Explained Variance : {}%'.format(round(pca.explained_variance_ratio_[1]*100,2)) + \")\",\n",
    "                                          'PCA3 (Explained Variance : {}%'.format(round(pca.explained_variance_ratio_[2]*100,2)) + \")\",\n",
    "                                          'PCA4 (Explained Variance : {}%'.format(round(pca.explained_variance_ratio_[3]*100,2)) + \")\"],\n",
    "                                         \"clade_membership:N\",['strain','region'])\n",
    "chart = list_of_chart[0]|list_of_chart[1]|list_of_chart[2]\n",
    "chart.save(\"../Docs/PCAFluBrush.html\")\n",
    "chart"
   ]
  },
  {
   "cell_type": "code",
   "execution_count": null,
   "metadata": {},
   "outputs": [],
   "source": [
    "PCA_violin_df = get_euclidean_data_frame(merged_pca_df, \"PCA1\", \"PCA2\", \"PCA\")\n",
    "g = sns.FacetGrid(\n",
    "    PCA_violin_df,\n",
    "    col=\"embedding\",\n",
    "    col_wrap=3,\n",
    "    sharey=False,\n",
    "    height=4\n",
    ")\n",
    "g = g.map(sns.violinplot, \"clade_status\", \"distance\", order=[\"within\", \"between\"])\n",
    "g.set_axis_labels(\"Clade status\", \"Distance\")"
   ]
  },
  {
   "cell_type": "code",
   "execution_count": null,
   "metadata": {},
   "outputs": [],
   "source": [
    "total_df = scatterplot_xyvalues(strains, similarity_matrix, merged_pca_df, \"PCA1\", \"PCA2\", \"PCA\")\n",
    "y_values = statsmodels.nonparametric.smoothers_lowess.lowess(\n",
    "    total_df[\"euclidean\"],\n",
    "    total_df[\"genetic\"],\n",
    "    frac=0.6666666666666666,\n",
    "    it=3,\n",
    "    delta=0.0,\n",
    "    is_sorted=False,\n",
    "    missing='drop',\n",
    "    return_sorted=True\n",
    ")\n",
    "\n",
    "PD_Y_values = pd.DataFrame(y_values)\n",
    "PD_Y_values.columns = [\"LOWESS_x\", \"LOWESS_y\"]\n",
    "\n",
    "regression = linregress(total_df[\"genetic\"], total_df[\"euclidean\"])\n",
    "slope, intercept, r_value, p_value, std_err = regression"
   ]
  },
  {
   "cell_type": "code",
   "execution_count": null,
   "metadata": {},
   "outputs": [],
   "source": [
    "fig, ax = plt.subplots(1, 1, figsize=(6, 6))\n",
    "\n",
    "ax.plot(total_df[\"genetic\"], total_df[\"euclidean\"], \"o\", alpha=0.25)\n",
    "ax.plot(PD_Y_values[\"LOWESS_x\"], PD_Y_values[\"LOWESS_y\"], label=\"LOESS\")\n",
    "\n",
    "ax.set_xlabel(\"Genetic distance\")\n",
    "ax.set_ylabel(\"Euclidean distance (PCA)\")\n",
    "ax.set_title(\"PCA Euclidean distance vs. genetic distance ($R^2=%.3f$)\" % (r_value ** 2))\n",
    "\n",
    "sns.despine()"
   ]
  },
  {
   "cell_type": "markdown",
   "metadata": {},
   "source": [
    "# Running MDS on the Dataset"
   ]
  },
  {
   "cell_type": "code",
   "execution_count": null,
   "metadata": {},
   "outputs": [],
   "source": [
    "embedding = MDS(n_components=10,metric=True,dissimilarity='precomputed')\n",
    "X_transformed = embedding.fit_transform(similarity_matrix)"
   ]
  },
  {
   "cell_type": "code",
   "execution_count": null,
   "metadata": {},
   "outputs": [],
   "source": [
    "raw_stress = embedding.stress_\n",
    "normalized_stress = np.sqrt(raw_stress /((similarity_matrix.values.ravel() ** 2).sum() / 2))\n",
    "print(normalized_stress.round(2))"
   ]
  },
  {
   "cell_type": "code",
   "execution_count": null,
   "metadata": {},
   "outputs": [],
   "source": [
    "MDS_df = pd.DataFrame(X_transformed,columns=['MDS' + str(i) for i in range(1,11)])"
   ]
  },
  {
   "cell_type": "code",
   "execution_count": null,
   "metadata": {},
   "outputs": [],
   "source": [
    "# Annotate rows by their original strain names. The same logic from PCA holds here\n",
    "# and for later embeddings.\n",
    "MDS_df[\"strain\"] = strains"
   ]
  },
  {
   "cell_type": "code",
   "execution_count": null,
   "metadata": {},
   "outputs": [],
   "source": [
    "merged_df = MDS_df.merge(node_df, on=\"strain\")"
   ]
  },
  {
   "cell_type": "code",
   "execution_count": null,
   "metadata": {},
   "outputs": [],
   "source": [
    "merged_df.head()"
   ]
  },
  {
   "cell_type": "code",
   "execution_count": null,
   "metadata": {},
   "outputs": [],
   "source": [
    "chart_12_mds = scatterplot_with_tooltip_interactive(merged_df,'MDS1','MDS2',\"MDS1\",\"MDS2\",['strain','clade_membership'],'clade_membership_color')\n",
    "chart_34_mds = scatterplot_with_tooltip_interactive(merged_df,'MDS3','MDS4',\"MDS3\",\"MDS4\",['strain','clade_membership'],'clade_membership_color')\n",
    "chart_56_mds = scatterplot_with_tooltip_interactive(merged_df,'MDS5','MDS6',\"MDS5\",\"MDS6\",['strain','clade_membership'],'clade_membership_color')\n",
    "chart_12_mds|chart_34_mds|chart_56_mds"
   ]
  },
  {
   "cell_type": "code",
   "execution_count": null,
   "metadata": {},
   "outputs": [],
   "source": [
    "chart_12_scatter = scatterplot_tooltips(strains, similarity_matrix, merged_df, \"MDS1\", \"MDS2\", \"MDS\", 4000)\n",
    "chart_34_scatter = scatterplot_tooltips(strains, similarity_matrix, merged_df, \"MDS3\", \"MDS4\", \"MDS\", 4000)\n",
    "chart_56_scatter = scatterplot_tooltips(strains, similarity_matrix, merged_df, \"MDS5\", \"MDS6\", \"MDS\", 4000)\n",
    "chart_12_scatter | chart_34_scatter | chart_56_scatter"
   ]
  },
  {
   "cell_type": "code",
   "execution_count": null,
   "metadata": {},
   "outputs": [],
   "source": [
    "MDS_violin_df = get_euclidean_data_frame(merged_df, \"MDS1\", \"MDS2\", \"MDS\")\n",
    "g = sns.FacetGrid(\n",
    "    MDS_violin_df,\n",
    "    col=\"embedding\",\n",
    "    col_wrap=3,\n",
    "    sharey=False,\n",
    "    height=4\n",
    ")\n",
    "g = g.map(sns.violinplot, \"clade_status\", \"distance\", order=[\"within\", \"between\"])\n",
    "g.set_axis_labels(\"Clade status\", \"Distance\")"
   ]
  },
  {
   "cell_type": "code",
   "execution_count": null,
   "metadata": {},
   "outputs": [],
   "source": [
    "# TODO: replace with matplotlib plot as in PCA above.\n",
    "#LOESS_scatterplot(strains, similarity_matrix, merged_df, \"MDS1\", \"MDS2\", \"MDS\", 4000)"
   ]
  },
  {
   "cell_type": "code",
   "execution_count": null,
   "metadata": {},
   "outputs": [],
   "source": [
    "list_of_data_and_titles = ['MDS1','MDS2','MDS3','MDS4','MDS5','MDS6']\n",
    "list_of_chart = linking_tree_with_plots_brush(\n",
    "    merged_df,\n",
    "    list_of_data_and_titles,\n",
    "    list_of_data_and_titles,\n",
    "    'clade_membership_color',\n",
    "    [\"clade_membership\",\"strain:N\"]\n",
    ")\n",
    "chart = list_of_chart[0]|list_of_chart[1]|list_of_chart[2]|list_of_chart[3]\n",
    "chart"
   ]
  },
  {
   "cell_type": "code",
   "execution_count": null,
   "metadata": {},
   "outputs": [],
   "source": [
    "chart.save(\"../Docs/MDSFluBrush.html\")"
   ]
  },
  {
   "cell_type": "markdown",
   "metadata": {},
   "source": [
    "# Running T-SNE on the Dataset "
   ]
  },
  {
   "cell_type": "code",
   "execution_count": null,
   "metadata": {},
   "outputs": [],
   "source": [
    "embedding = TSNE(n_components=2,metric='precomputed',perplexity = 25.95)\n",
    "X_transformed = embedding.fit_transform(similarity_matrix)"
   ]
  },
  {
   "cell_type": "code",
   "execution_count": null,
   "metadata": {},
   "outputs": [],
   "source": [
    "TSNE_df = pd.DataFrame(X_transformed,columns=['TSNE' + str(i) for i in range(1,3)])"
   ]
  },
  {
   "cell_type": "code",
   "execution_count": null,
   "metadata": {},
   "outputs": [],
   "source": [
    "TSNE_df[\"strain\"] = strains"
   ]
  },
  {
   "cell_type": "code",
   "execution_count": null,
   "metadata": {},
   "outputs": [],
   "source": [
    "TSNE_df.head()"
   ]
  },
  {
   "cell_type": "code",
   "execution_count": null,
   "metadata": {},
   "outputs": [],
   "source": [
    "merged_df = TSNE_df.merge(node_df, on=\"strain\")"
   ]
  },
  {
   "cell_type": "code",
   "execution_count": null,
   "metadata": {},
   "outputs": [],
   "source": [
    "chart = scatterplot_tooltips(strains, similarity_matrix, merged_df, \"TSNE1\", \"TSNE2\", \"TSNE\", 4000)\n",
    "chart"
   ]
  },
  {
   "cell_type": "code",
   "execution_count": null,
   "metadata": {},
   "outputs": [],
   "source": [
    "scatterplot_with_tooltip_interactive(merged_df,'TSNE1','TSNE2',\"TSNE1\",\"TSNE2\",['strain','clade_membership'],'clade_membership_color')"
   ]
  },
  {
   "cell_type": "code",
   "execution_count": null,
   "metadata": {},
   "outputs": [],
   "source": [
    "list_of_chart = linking_tree_with_plots_brush(\n",
    "    merged_df,\n",
    "    ['TSNE1','TSNE2'],\n",
    "    ['TSNE1','TSNE2'],\n",
    "    'clade_membership_color',\n",
    "    [\"clade_membership:N\",\"strain:N\"]\n",
    ")\n",
    "chart = list_of_chart[0]|list_of_chart[1]\n",
    "chart"
   ]
  },
  {
   "cell_type": "code",
   "execution_count": null,
   "metadata": {},
   "outputs": [],
   "source": [
    "TSNE_violin_df = get_euclidean_data_frame(merged_df, \"TSNE1\", \"TSNE2\", \"TSNE\")\n",
    "g = sns.FacetGrid(\n",
    "    TSNE_violin_df,\n",
    "    col=\"embedding\",\n",
    "    col_wrap=3,\n",
    "    sharey=False,\n",
    "    height=4\n",
    ")\n",
    "g = g.map(sns.violinplot, \"clade_status\", \"distance\", order=[\"within\", \"between\"])\n",
    "g.set_axis_labels(\"Clade status\", \"Distance\")"
   ]
  },
  {
   "cell_type": "code",
   "execution_count": null,
   "metadata": {},
   "outputs": [],
   "source": [
    "# TODO: replace with matplotlib as in PCA\n",
    "#LOESS_scatterplot(strains, similarity_matrix, merged_df, \"TSNE1\", \"TSNE2\", \"TSNE\", 4000)"
   ]
  },
  {
   "cell_type": "markdown",
   "metadata": {},
   "source": [
    "# Running UMAP on the Dataset"
   ]
  },
  {
   "cell_type": "code",
   "execution_count": null,
   "metadata": {},
   "outputs": [],
   "source": [
    "reducer = umap.UMAP(n_neighbors=200,\n",
    "        min_dist=.05,\n",
    "        n_components=2,\n",
    "        init=\"spectral\")\n",
    "embedding = reducer.fit_transform(similarity_matrix)"
   ]
  },
  {
   "cell_type": "code",
   "execution_count": null,
   "metadata": {},
   "outputs": [],
   "source": [
    "UMAP_df = pd.DataFrame(embedding,columns=['UMAP' + str(i) for i in range(1,3)])"
   ]
  },
  {
   "cell_type": "code",
   "execution_count": null,
   "metadata": {},
   "outputs": [],
   "source": [
    "UMAP_df[\"strain\"] = strains"
   ]
  },
  {
   "cell_type": "code",
   "execution_count": null,
   "metadata": {},
   "outputs": [],
   "source": [
    "UMAP_df.head()"
   ]
  },
  {
   "cell_type": "code",
   "execution_count": null,
   "metadata": {},
   "outputs": [],
   "source": [
    "merged_df = UMAP_df.merge(node_df, on=\"strain\")"
   ]
  },
  {
   "cell_type": "code",
   "execution_count": null,
   "metadata": {},
   "outputs": [],
   "source": [
    "merged_df.head()"
   ]
  },
  {
   "cell_type": "code",
   "execution_count": null,
   "metadata": {},
   "outputs": [],
   "source": [
    "merged_df.shape"
   ]
  },
  {
   "cell_type": "code",
   "execution_count": null,
   "metadata": {},
   "outputs": [],
   "source": [
    "chart = scatterplot_tooltips(strains, similarity_matrix, merged_df, \"UMAP1\", \"UMAP2\", \"UMAP\", 4000)\n",
    "chart"
   ]
  },
  {
   "cell_type": "code",
   "execution_count": null,
   "metadata": {},
   "outputs": [],
   "source": [
    "scatterplot_with_tooltip_interactive(merged_df,'UMAP1','UMAP2',\"UMAP1\",\"UMAP2\",['strain','clade_membership'],'clade_membership_color')"
   ]
  },
  {
   "cell_type": "code",
   "execution_count": null,
   "metadata": {},
   "outputs": [],
   "source": [
    "list_of_data_and_titles = ['UMAP1','UMAP2']\n",
    "list_of_chart = linking_tree_with_plots_brush(\n",
    "    merged_df,\n",
    "    list_of_data_and_titles,\n",
    "    list_of_data_and_titles,\n",
    "    'clade_membership_color',\n",
    "    [\"clade_membership\",\"strain:N\"]\n",
    ")\n",
    "chart = list_of_chart[0]|list_of_chart[1]\n",
    "chart"
   ]
  },
  {
   "cell_type": "code",
   "execution_count": null,
   "metadata": {},
   "outputs": [],
   "source": [
    "chart.save(\"../Docs/UMAPFluBrush.html\")"
   ]
  },
  {
   "cell_type": "code",
   "execution_count": null,
   "metadata": {},
   "outputs": [],
   "source": [
    "UMAP_violin_df = get_euclidean_data_frame(merged_df, \"UMAP1\", \"UMAP2\", \"UMAP\")\n",
    "g = sns.FacetGrid(\n",
    "    UMAP_violin_df,\n",
    "    col=\"embedding\",\n",
    "    col_wrap=3,\n",
    "    sharey=False,\n",
    "    height=4\n",
    ")\n",
    "g = g.map(sns.violinplot, \"clade_status\", \"distance\", order=[\"within\", \"between\"])\n",
    "g.set_axis_labels(\"Clade status\", \"Distance\")"
   ]
  },
  {
   "cell_type": "code",
   "execution_count": null,
   "metadata": {},
   "outputs": [],
   "source": [
    "# TODO: replace with matplotlib as in PCA\n",
    "#LOESS_scatterplot(strains, similarity_matrix, merged_df, \"UMAP1\", \"UMAP2\", \"MDS\", 4000)"
   ]
  },
  {
   "cell_type": "markdown",
   "metadata": {},
   "source": [
    "# Linking all plots together clickable with Tree"
   ]
  },
  {
   "cell_type": "code",
   "execution_count": null,
   "metadata": {},
   "outputs": [],
   "source": [
    "merged_df = node_df.merge(\n",
    "    principalDf,\n",
    "    on=\"strain\"\n",
    ").merge(\n",
    "    MDS_df,\n",
    "    on=\"strain\"\n",
    ").merge(\n",
    "    TSNE_df,\n",
    "    on=\"strain\"\n",
    ").merge(\n",
    "    UMAP_df,\n",
    "    on=\"strain\"\n",
    ")"
   ]
  },
  {
   "cell_type": "code",
   "execution_count": null,
   "metadata": {},
   "outputs": [],
   "source": [
    "merged_df.shape"
   ]
  },
  {
   "cell_type": "code",
   "execution_count": null,
   "metadata": {},
   "outputs": [],
   "source": [
    "merged_df.head()"
   ]
  },
  {
   "cell_type": "code",
   "execution_count": null,
   "metadata": {},
   "outputs": [],
   "source": [
    "data = linking_tree_with_plots_clickable(\n",
    "    merged_df,\n",
    "    ['MDS1', 'MDS2','TSNE1', 'TSNE2', 'PCA1', 'PCA2', 'UMAP1', 'UMAP2'],\n",
    "    ['MDS1', 'MDS2', 'TSNE1', 'TSNE2','PCA1 (Expected Variance : {}%'.format(round(pca.explained_variance_ratio_[0]*100,2)) + \")\",\n",
    "    'PCA2 (Expected Variance : {}%'.format(round(pca.explained_variance_ratio_[1]*100,2)) + \")\",'UMAP1','UMAP2'],\n",
    "    'clade_membership_color:N',\n",
    "    ['clade_membership'],\n",
    "    ['strain','clade_membership']\n",
    ")"
   ]
  },
  {
   "cell_type": "code",
   "execution_count": null,
   "metadata": {},
   "outputs": [],
   "source": [
    "PCAMDS = data[3]|data[1]|data[5]\n",
    "TSNEUMAP = data[2]|data[4]\n",
    "embeddings = alt.vconcat(PCAMDS,TSNEUMAP)\n",
    "embeddings\n",
    "fullChart = alt.hconcat(data[0],embeddings)\n",
    "fullChart.save('../Docs/FullLinkedChartClickable.html')\n",
    "fullChart"
   ]
  },
  {
   "cell_type": "code",
   "execution_count": null,
   "metadata": {},
   "outputs": [],
   "source": [
    "#PCA eigenvectors factoring in - how do I do that\n",
    "data_frames = [\n",
    "    scatterplot_tooltips(similarity_matrix, merged_df, \"PCA1\", \"PCA2\", \"PCA\"),\n",
    "    scatterplot_tooltips_df(similarity_matrix, merged_df, \"MDS1\", \"MDS2\", \"MDS\"),\n",
    "    scatterplot_tooltips_df(similarity_matrix, merged_df, \"TSNE1\", \"TSNE2\", \"TSNE\"),\n",
    "    scatterplot_tooltips_df(similarity_matrix, merged_df, \"UMAP1\", \"UMAP2\", \"UMAP\"),\n",
    "]"
   ]
  },
  {
   "cell_type": "code",
   "execution_count": null,
   "metadata": {},
   "outputs": [],
   "source": [
    "merged_index = np.array(sorted(merged_df.index.values))"
   ]
  },
  {
   "cell_type": "code",
   "execution_count": null,
   "metadata": {},
   "outputs": [],
   "source": [
    "genetic_distances = squareform(similarity_matrix.values[merged_index][:, merged_index])"
   ]
  },
  {
   "cell_type": "code",
   "execution_count": null,
   "metadata": {},
   "outputs": [],
   "source": [
    "data_frames.append(pd.DataFrame({\n",
    "    \"distance\": genetic_distances,\n",
    "    \"embedding\":\"genetic\"\n",
    "}))"
   ]
  },
  {
   "cell_type": "code",
   "execution_count": null,
   "metadata": {},
   "outputs": [],
   "source": [
    "len(data_frames)"
   ]
  },
  {
   "cell_type": "code",
   "execution_count": null,
   "metadata": {},
   "outputs": [],
   "source": [
    "euclidean_data_frame = pd.concat(data_frames, sort=False)"
   ]
  },
  {
   "cell_type": "code",
   "execution_count": null,
   "metadata": {},
   "outputs": [],
   "source": [
    "euclidean_data_frame.head()"
   ]
  },
  {
   "cell_type": "code",
   "execution_count": null,
   "metadata": {},
   "outputs": [],
   "source": [
    "euclidean_data_frame.shape"
   ]
  },
  {
   "cell_type": "code",
   "execution_count": null,
   "metadata": {},
   "outputs": [],
   "source": [
    "PCA = scatterplot_tooltips(similarity_matrix, merged_df, \"PCA1\", \"PCA2\", \"PCA\")\n",
    "MDS = scatterplot_tooltips(similarity_matrix, merged_df, \"MDS1\", \"MDS2\", \"MDS\")\n",
    "TSNE = scatterplot_tooltips(similarity_matrix, merged_df, \"TSNE1\", \"TSNE2\", \"TSNE\")\n",
    "UMAP = scatterplot_tooltips(similarity_matrix, merged_df, \"UMAP1\", \"UMAP2\", \"UMAP\")\n",
    "\n",
    "chart = PCA|MDS|TSNE|UMAP\n",
    "chart.save('../Docs/FullScatterplot.html')"
   ]
  },
  {
   "cell_type": "code",
   "execution_count": null,
   "metadata": {},
   "outputs": [],
   "source": [
    "chart"
   ]
  },
  {
   "cell_type": "markdown",
   "metadata": {},
   "source": [
    "# Notes to Self:\n",
    "\n",
    "- Collapse cells underneath Markdown headers\n",
    "- Get docstrings above methods to show up when user presses SHIFT + TAB\n",
    "- link back to the methods section for user each time method is used\n",
    "- Run more Flu builds (3 years, 6 years, 12 years, H3, H1)\n",
    "- Try algorithm on MERS\n",
    "- Try algorithm on other bacterial genomes (unaligned / small snips of genomes)\n",
    "- Make Zika clades or run automatic clade naming on 12y H3N2 flu with different cutoffs to standardize coloring for graphs\n",
    "- Write a paper\n"
   ]
  },
  {
   "cell_type": "markdown",
   "metadata": {},
   "source": [
    "## Within- and between-clade Euclidean distances for all embeddings\n",
    "\n",
    "Use the complete embedding data frame to calculate pairwise Euclidean distances between samples and plot the results in a single figure."
   ]
  },
  {
   "cell_type": "code",
   "execution_count": null,
   "metadata": {},
   "outputs": [],
   "source": [
    "data_frames = [\n",
    "    get_euclidean_data_frame(merged_df, \"PCA1\", \"PCA2\", \"PCA\"),\n",
    "    get_euclidean_data_frame(merged_df, \"MDS1\", \"MDS2\", \"MDS\"),\n",
    "    get_euclidean_data_frame(merged_df, \"TSNE1\", \"TSNE2\", \"t-SNE\"),\n",
    "    get_euclidean_data_frame(merged_df, \"UMAP1\", \"UMAP2\", \"UMAP\"),\n",
    "]"
   ]
  },
  {
   "cell_type": "markdown",
   "metadata": {},
   "source": [
    "Extract pairwise genetic (Hamming) distances corresponding to the records sampled above. This step assumes that the original merged data frame is indexed from zero to N for N total samples in the same order as the similarity matrix."
   ]
  },
  {
   "cell_type": "code",
   "execution_count": null,
   "metadata": {},
   "outputs": [],
   "source": [
    "genetic_distances = squareform(similarity_matrix)"
   ]
  },
  {
   "cell_type": "code",
   "execution_count": null,
   "metadata": {},
   "outputs": [],
   "source": [
    "data_frames.append(pd.DataFrame({\n",
    "    \"distance\": genetic_distances,\n",
    "    \"clade_status\": data_frames[0][\"clade_status\"].values,\n",
    "    \"embedding\": \"genetic\"\n",
    "}))"
   ]
  },
  {
   "cell_type": "code",
   "execution_count": null,
   "metadata": {},
   "outputs": [],
   "source": [
    "len(data_frames)"
   ]
  },
  {
   "cell_type": "code",
   "execution_count": null,
   "metadata": {},
   "outputs": [],
   "source": [
    "euclidean_data_frame = pd.concat(data_frames)"
   ]
  },
  {
   "cell_type": "code",
   "execution_count": null,
   "metadata": {},
   "outputs": [],
   "source": [
    "g = sns.FacetGrid(\n",
    "    euclidean_data_frame,\n",
    "    col=\"embedding\",\n",
    "    col_wrap=3,\n",
    "    col_order=[\"genetic\", \"PCA\", \"MDS\", \"t-SNE\", \"UMAP\"],\n",
    "    sharey=False,\n",
    "    height=4\n",
    ")\n",
    "g = g.map(sns.violinplot, \"clade_status\", \"distance\", order=[\"within\", \"between\"])\n",
    "g.set_axis_labels(\"Clade status\", \"Distance\")\n",
    "\n",
    "plt.savefig(\"../docs/FullViolinPlot.png\")"
   ]
  },
  {
   "cell_type": "code",
   "execution_count": null,
   "metadata": {},
   "outputs": [],
   "source": [
    "PCA_df = euclidean_data_frame[euclidean_data_frame.embedding == \"PCA\"]\n",
    "MDS_df = euclidean_data_frame[euclidean_data_frame.embedding == \"MDS\"]\n",
    "TSNE_df = euclidean_data_frame[euclidean_data_frame.embedding == \"t-SNE\"]\n",
    "UMAP_df = euclidean_data_frame[euclidean_data_frame.embedding == \"UMAP\"]\n",
    "genetic_df = euclidean_data_frame[euclidean_data_frame.embedding == \"genetic\"]"
   ]
  },
  {
   "cell_type": "code",
   "execution_count": null,
   "metadata": {},
   "outputs": [],
   "source": [
    "genetic = alt.Chart(genetic_df,width=300).mark_boxplot().encode(\n",
    "    x=\"clade_status:N\",\n",
    "    y=\"distance:Q\"\n",
    ").properties(title=\"genetic\")\n",
    "PCA = alt.Chart(PCA_df,width=200).mark_boxplot().encode(\n",
    "    x=\"clade_status:N\",\n",
    "    y=\"distance:Q\"\n",
    ").properties(title=\"PCA\")\n",
    "MDS = alt.Chart(MDS_df,width=200).mark_boxplot().encode(\n",
    "    x=\"clade_status:N\",\n",
    "    y=\"distance:Q\"\n",
    ").properties(title=\"MDS\",width=200)\n",
    "TSNE = alt.Chart(TSNE_df).mark_boxplot().encode(\n",
    "    x=\"clade_status:N\",\n",
    "    y=\"distance:Q\"\n",
    ").properties(title=\"TSNE\",width=200)\n",
    "UMAP = alt.Chart(UMAP_df,width=200).mark_boxplot().encode(\n",
    "    x=\"clade_status:N\",\n",
    "    y=\"distance:Q\"\n",
    ").properties(title=\"UMAP\")\n",
    "\n",
    "chart = genetic|PCA|MDS|TSNE|UMAP"
   ]
  },
  {
   "cell_type": "code",
   "execution_count": null,
   "metadata": {},
   "outputs": [],
   "source": [
    "chart.save('../Docs/FullBoxplot.html')"
   ]
  },
  {
   "cell_type": "code",
   "execution_count": null,
   "metadata": {},
   "outputs": [],
   "source": [
    "#ratio of within vs between (within shorter than between) - label which metrics + sginificance level"
   ]
  },
  {
   "cell_type": "code",
   "execution_count": null,
   "metadata": {},
   "outputs": [],
   "source": [
    "genetic_df.mean()"
   ]
  },
  {
   "cell_type": "code",
   "execution_count": null,
   "metadata": {},
   "outputs": [],
   "source": [
    "median_genetic_within = genetic_df[genetic_df.clade_status == \"within\"].median()\n",
    "median_genetic_between = genetic_df[genetic_df.clade_status == \"between\"].median()"
   ]
  },
  {
   "cell_type": "code",
   "execution_count": null,
   "metadata": {},
   "outputs": [],
   "source": [
    "median_PCA_within = PCA_df[PCA_df.clade_status == \"within\"].median()\n",
    "median_PCA_between = PCA_df[PCA_df.clade_status == \"between\"].median()"
   ]
  },
  {
   "cell_type": "code",
   "execution_count": null,
   "metadata": {},
   "outputs": [],
   "source": [
    "median_MDS_within = MDS_df[MDS_df.clade_status == \"within\"].median()\n",
    "median_MDS_between = MDS_df[MDS_df.clade_status == \"between\"].median()"
   ]
  },
  {
   "cell_type": "code",
   "execution_count": null,
   "metadata": {},
   "outputs": [],
   "source": [
    "median_TSNE_within = TSNE_df[TSNE_df.clade_status == \"within\"].median()\n",
    "median_TSNE_between = TSNE_df[TSNE_df.clade_status == \"between\"].median()"
   ]
  },
  {
   "cell_type": "code",
   "execution_count": null,
   "metadata": {},
   "outputs": [],
   "source": [
    "median_UMAP_within = UMAP_df[UMAP_df.clade_status == \"within\"].median()\n",
    "median_UMAP_between = UMAP_df[UMAP_df.clade_status == \"between\"].median()"
   ]
  },
  {
   "cell_type": "code",
   "execution_count": null,
   "metadata": {},
   "outputs": [],
   "source": [
    "def ratioFunction(num1, num2):\n",
    "    ratio12 = int(num1/num2)\n",
    "    return ratio12"
   ]
  },
  {
   "cell_type": "code",
   "execution_count": null,
   "metadata": {},
   "outputs": [],
   "source": [
    "genetic_ratio = ratioFunction(median_genetic_between,median_genetic_within)\n",
    "print(genetic_ratio)"
   ]
  },
  {
   "cell_type": "code",
   "execution_count": null,
   "metadata": {},
   "outputs": [],
   "source": [
    "PCA_ratio = ratioFunction(median_PCA_between,median_PCA_within)\n",
    "print(PCA_ratio)"
   ]
  },
  {
   "cell_type": "code",
   "execution_count": null,
   "metadata": {},
   "outputs": [],
   "source": [
    "MDS_ratio = ratioFunction(median_MDS_between,median_MDS_within)\n",
    "print(MDS_ratio)"
   ]
  },
  {
   "cell_type": "code",
   "execution_count": null,
   "metadata": {},
   "outputs": [],
   "source": [
    "TSNE_ratio = ratioFunction(median_TSNE_between,median_TSNE_within)\n",
    "print(TSNE_ratio)"
   ]
  },
  {
   "cell_type": "code",
   "execution_count": null,
   "metadata": {},
   "outputs": [],
   "source": [
    "UMAP_ratio = ratioFunction(median_UMAP_between,median_UMAP_within)\n",
    "print(UMAP_ratio)"
   ]
  }
 ],
 "metadata": {
  "kernelspec": {
   "display_name": "Python 3",
   "language": "python",
   "name": "python3"
  },
  "language_info": {
   "codemirror_mode": {
    "name": "ipython",
    "version": 3
   },
   "file_extension": ".py",
   "mimetype": "text/x-python",
   "name": "python",
   "nbconvert_exporter": "python",
   "pygments_lexer": "ipython3",
   "version": "3.6.9"
  }
 },
 "nbformat": 4,
 "nbformat_minor": 4
}
