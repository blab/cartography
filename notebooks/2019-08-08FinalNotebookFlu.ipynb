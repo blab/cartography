{
 "cells": [
  {
   "cell_type": "markdown",
   "metadata": {},
   "source": [
    "# This is Cartography put together into one place. "
   ]
  },
  {
   "cell_type": "markdown",
   "metadata": {},
   "source": [
    "## Modules to add to run this code:"
   ]
  },
  {
   "cell_type": "markdown",
   "metadata": {},
   "source": [
    "- [BioPython][1]\n",
    "- [Pandas][2]\n",
    "- [Numpy][3]\n",
    "- [Altair][4]\n",
    "- [Seaborn][5]\n",
    "- [Scikit-Learn][6]\n",
    "- [UMAP][7]\n",
    "- json\n",
    "- nextstrain-augur\n",
    "[1]:https://biopython.org/wiki/Download\n",
    "[2]:https://pandas.pydata.org/pandas-docs/version/0.23.3/install.html\n",
    "[3]:https://docs.scipy.org/doc/numpy/user/quickstart.html\n",
    "[4]:https://altair-viz.github.io/getting_started/installation.html\n",
    "[5]:https://seaborn.pydata.org/installing.html\n",
    "[6]:https://scikit-learn.org/stable/install.html\n",
    "[7]:https://umap-learn.readthedocs.io/en/latest/\n"
   ]
  },
  {
   "cell_type": "markdown",
   "metadata": {},
   "source": [
    "# Imports Section "
   ]
  },
  {
   "cell_type": "code",
   "execution_count": 1,
   "metadata": {},
   "outputs": [],
   "source": [
    "import pandas as pd\n",
    "import altair as alt\n",
    "import numpy as np\n",
    "from scipy.spatial.distance import squareform, pdist\n",
    "import pandas as pd\n",
    "import numpy as np\n",
    "from Bio import SeqIO\n",
    "import seaborn as sns\n",
    "import re\n",
    "import matplotlib.pyplot as plt\n",
    "from sklearn.decomposition import PCA\n",
    "from augur.utils import json_to_tree\n",
    "import json\n",
    "from sklearn.manifold import MDS\n",
    "from sklearn.manifold import TSNE\n",
    "import umap\n",
    "from scipy.stats import linregress\n",
    "from pathlib import Path"
   ]
  },
  {
   "cell_type": "markdown",
   "metadata": {},
   "source": [
    "# METHODS SECTION\n",
    "- All the methods I use throughout this notebook is all together up here. "
   ]
  },
  {
   "cell_type": "markdown",
   "metadata": {},
   "source": [
    "### Taking the result strains from reading in the metadata and concatenating it to the principal components (where each row is joined with one genome)"
   ]
  },
  {
   "cell_type": "code",
   "execution_count": 2,
   "metadata": {},
   "outputs": [],
   "source": [
    "\"\"\"\n",
    "principal_Df -- Data from data reduction (-T-SNE, MDS, etc) (pandas DataFrame)\n",
    "result_metadata -- the metadata that is being read in (Pandas DataFrame)\n",
    "fields, the parts of metadata that should be concatenated with princiapl_Df (list)\n",
    "\"\"\"\n",
    "def concatenate_results_with_strain_data(principal_Df,result_metadata,fields):\n",
    "    finalDf = pd.concat([principal_Df, result_metadata[fields]], axis = 1)\n",
    "    return finalDf"
   ]
  },
  {
   "cell_type": "markdown",
   "metadata": {},
   "source": [
    "### Altair method for easy tooltip/brushing below"
   ]
  },
  {
   "cell_type": "code",
   "execution_count": 3,
   "metadata": {},
   "outputs": [],
   "source": [
    "\"\"\"\n",
    "Defining Fields:\n",
    "finalDf: The data that is used to generate the scatter plot (pandas DataFrame)\n",
    "x, the data you want on the x axis (string)\n",
    "y, the data you want on the y axis (string)\n",
    "Titlex,the name you want on the x axis (string)\n",
    "Titley, the name you want on the y axis (string)\n",
    "Tooltip, when scanning over a point, the data you want avaiable (list)\n",
    "Color, what the scatterplot is colored by (String)\n",
    "\"\"\"\n",
    "def scatterplot_with_tooltip_interactive(finalDf,x,y,Titlex,Titley,ToolTip,color):\n",
    "    brush = alt.selection(type='interval', resolve='global')\n",
    "    chart = alt.Chart(finalDf).mark_circle(size=60).encode(\n",
    "        x=alt.X(x,title=Titlex),\n",
    "        y=alt.X(y,title=Titley),\n",
    "        color=color,\n",
    "        tooltip=ToolTip\n",
    "    ).interactive()\n",
    "    chart.display()\n",
    "    #return chart"
   ]
  },
  {
   "cell_type": "markdown",
   "metadata": {},
   "source": [
    "### Linking tree with plots brush"
   ]
  },
  {
   "cell_type": "code",
   "execution_count": 4,
   "metadata": {},
   "outputs": [],
   "source": [
    "\"\"\"\n",
    "dataframe: dataframe including node data and dimensionality reduction data (Pandas Dataframe)\n",
    "list_of_data: list of all the names of the columns in the dataframe for which you want graphs: goes in the order of [x1,y1,x2,y2,x3,y3] etc.(list)\n",
    "list_of_titles: list of all the TITLES you want for each axis: goes in order of[x1,y1,x2,y2,x3,y3] etc.(list)\n",
    "color: what the data should be colored by (string)\n",
    "ToolTip: when hovering over the data, what data should be shown (list)\n",
    "\"\"\"\n",
    "def linking_tree_with_plots_brush(dataFrame,list_of_data,list_of_titles,color,ToolTip):\n",
    "    list_of_chart = []\n",
    "    if(len(list_of_data) % 2 != 0 or len(list_of_titles) % 2 != 0):\n",
    "        raise Exception('The length of list_of_data and the length of list_of_titles should not be odd.')\n",
    "    else:\n",
    "        base = alt.Chart(dataFrame)\n",
    "        brush = alt.selection(type='interval', resolve='global')\n",
    "        tree_name = base.mark_circle().encode(\n",
    "            x=alt.X(\n",
    "                \"date:Q\",\n",
    "                scale=alt.Scale(domain=(dataFrame[\"date\"].min() - 0.2, dataFrame[\"date\"].max() + 0.2)),\n",
    "                title=\"Date\"\n",
    "            ),\n",
    "            y=alt.Y(\n",
    "                \"y:Q\",\n",
    "                title=\"\"\n",
    "            ),\n",
    "            color=alt.condition(brush, color, alt.ColorValue('gray')),\n",
    "            tooltip=ToolTip\n",
    "        ).add_selection(brush).properties(width=400,height=250)\n",
    "        list_of_chart.append(tree_name)\n",
    "        \n",
    "        for i in range(0,len(list_of_data) - 1,2):\n",
    "            if(i == len(list_of_data)):\n",
    "                break\n",
    "            chart = base.mark_circle(size=60).encode(\n",
    "            x=alt.X(list_of_data[i],title=list_of_titles[i]),\n",
    "            y=alt.X(list_of_data[i + 1],title=list_of_titles[i + 1]),\n",
    "            color=alt.condition(brush, color, alt.ColorValue('gray')),\n",
    "            tooltip=ToolTip\n",
    "            ).add_selection(\n",
    "                brush\n",
    "            ).properties(\n",
    "                width=250,\n",
    "                height=250\n",
    "            )\n",
    "            list_of_chart.append(chart)\n",
    "        return list_of_chart"
   ]
  },
  {
   "cell_type": "markdown",
   "metadata": {},
   "source": [
    "### Linking Tree with Plots Clickable"
   ]
  },
  {
   "cell_type": "code",
   "execution_count": 5,
   "metadata": {},
   "outputs": [],
   "source": [
    "def linking_tree_with_plots_clickable(dataFrame,list_of_data,list_of_titles,colors,fields,ToolTip):\n",
    "    list_of_chart = []\n",
    "    if(len(list_of_data) % 2 != 0 or len(list_of_titles) % 2 != 0):\n",
    "        raise Exception('The length of list_of_data and the length of list_of_titles should not be odd.')\n",
    "    else:\n",
    "        base = alt.Chart(dataFrame)\n",
    "        selection = alt.selection_multi(fields=fields)\n",
    "\n",
    "        color = alt.condition(selection,\n",
    "                              alt.Color(colors,legend=None),\n",
    "                              alt.value('lightgray'))\n",
    "        tree_name = base.mark_circle().encode(\n",
    "            x=alt.X(\n",
    "                \"date:Q\",\n",
    "                scale=alt.Scale(domain=(dataFrame[\"date\"].min() - 0.2, dataFrame[\"date\"].max() + 0.2)),\n",
    "                title=\"Date\"\n",
    "            ),\n",
    "            y=alt.Y(\n",
    "                \"y:Q\",\n",
    "                title=\"\"\n",
    "            ),\n",
    "            color=color,\n",
    "            tooltip=ToolTip\n",
    "        ).add_selection(selection).properties(width=400,height=250)\n",
    "        \n",
    "        list_of_chart.append(tree_name)\n",
    "        for i in range(0,len(list_of_data) - 1,2):\n",
    "            if(i == len(list_of_data)):\n",
    "                break\n",
    "            chart = base.mark_circle(size=60).encode(\n",
    "            x=alt.X(list_of_data[i],title=list_of_titles[i]),\n",
    "            y=alt.X(list_of_data[i + 1],title=list_of_titles[i + 1]),\n",
    "            color=color,\n",
    "            tooltip=ToolTip\n",
    "            ).add_selection(\n",
    "                selection\n",
    "            ).properties(\n",
    "                width=250,\n",
    "                height=250\n",
    "            )\n",
    "            list_of_chart.append(chart)\n",
    "        legend = base.mark_point().encode(\n",
    "            y=alt.Y(colors, axis=alt.Axis(orient='right')),\n",
    "            color=colors\n",
    "        ).add_selection(\n",
    "            selection\n",
    "        )\n",
    "        list_of_chart.append(legend)\n",
    "        \n",
    "        \n",
    "        return list_of_chart"
   ]
  },
  {
   "cell_type": "markdown",
   "metadata": {},
   "source": [
    "### Making scatterplot of pairwise vs euclidean distance"
   ]
  },
  {
   "cell_type": "code",
   "execution_count": 6,
   "metadata": {},
   "outputs": [],
   "source": [
    "\"\"\"\n",
    "similarity_matrix: matrix of pairwise differences from data (pandas Dataframe)\n",
    "df_merged: the mergd dataframe between your tree JSON and the FASTA file strains (pandas Dataframe)\n",
    "column1: one of the data cluster column names in df_merged\n",
    "column2: the other data cluster column name in df_merged\n",
    "type_of_embedding: type of embedding (PCA, UMAP, TSNE, MDS)\n",
    "\"\"\"\n",
    "\n",
    "def scatterplot_tooltips(similarity_matrix, df_merged, column1, column2, type_of_embedding):\n",
    "    \n",
    "    embedding_df = df_merged[[column1, column2]]\n",
    "\n",
    "    finalDf = pd.concat([embedding_df, df_merged[['strain']]], axis = 1).dropna()\n",
    "    finalDf.columns = [column1, column2, 'strain']\n",
    "    \n",
    "    pairwise_distance_array = np.array(similarity_matrix)[np.triu_indices(len(finalDf), k = 0)]\n",
    "    pairwise_df = pd.DataFrame(pairwise_distance_array)\n",
    "    pairwise_df = pd.concat([pairwise_df, finalDf[['strain']]], axis = 1)\n",
    "\n",
    "    euclidean_distance_array = pdist(finalDf[[column1, column2]])\n",
    "    euclidean_distance_array = squareform(euclidean_distance_array)\n",
    "    euclidean_distance_array = euclidean_distance_array[np.triu_indices(len(finalDf), k = 0)]\n",
    "        \n",
    "    euclidean_df = pd.DataFrame(euclidean_distance_array)\n",
    "    euclidean_df = pd.concat([euclidean_df, finalDf[['strain']]], axis = 1).dropna()\n",
    "    \n",
    "    final_df = euclidean_df.merge(pairwise_df,how='inner',on = 'strain')\n",
    "\n",
    "    print(linregress(pairwise_distance_array,euclidean_distance_array))\n",
    "    \n",
    "    alt.data_transformers.disable_max_rows()\n",
    "    chart = alt.Chart(final_df).mark_circle(size=60).encode(\n",
    "        x=alt.X('0_x',title = \"pairwise distance\"),\n",
    "        y=alt.X('0_y', title = \"Euclidean distance\"),\n",
    "        tooltip=['strain']\n",
    "    ).properties(title=\"Pairwise vs. Euclidean scatterplot: \" + type_of_embedding,height=200,width=300)\n",
    "    return chart   \n",
    "        "
   ]
  },
  {
   "cell_type": "markdown",
   "metadata": {},
   "source": [
    "### Creating a method for making the similarity matrix"
   ]
  },
  {
   "cell_type": "code",
   "execution_count": 7,
   "metadata": {},
   "outputs": [],
   "source": [
    "\"\"\"\n",
    "path: path to file (string)\n",
    "df_merged: the merged dataframe that contains the metadata/strains that the tree JSON and FASTA file have (pandas dataframe)\n",
    "\"\"\"\n",
    "def making_scatterplot_pairwise_matrix(path,df_merged):\n",
    "    strains = []\n",
    "    genomes = []\n",
    "    for record in SeqIO.parse(path, \"fasta\"):\n",
    "            strains.append(str(record.id))\n",
    "            genomes.append(str(record.seq))\n",
    "    genomes_df = pd.DataFrame(genomes)\n",
    "    genomes_df.columns = ['genomes']\n",
    "\n",
    "    strains_df = pd.DataFrame(strains)\n",
    "    strains_df.columns = ['strain']\n",
    "\n",
    "    df_merged = genomes_df.merge(strains_df, how='outer', left_index=True, right_index=True)\n",
    "\n",
    "    merged2_df = df_merged.merge(merged_df, how = 'inner', on = 'strain')\n",
    "    merged2_df = merged2_df[['genomes','strain']]\n",
    "    \n",
    "    genomes_numpy = merged2_df[['genomes']].to_numpy()\n",
    "    genomes = genomes_numpy.tolist()\n",
    "    genomes = list(genomes_numpy)\n",
    "    \n",
    "    numbers = []\n",
    "    matrixOfNum = []\n",
    "    for i in merged2_df.index:\n",
    "        for j in merged2_df.index:\n",
    "            num = hamming_distance(merged2_df['genomes'][i],merged2_df['genomes'][j])\n",
    "            numbers.append(num)\n",
    "        matrixOfNum.append(numbers)\n",
    "        numbers = []\n",
    "    dataa = pd.DataFrame(matrixOfNum, columns = [\"strain \" + str(i) for i in range(1,len(matrixOfNum) + 1)], dtype=\"float\")\n",
    "    return dataa\n",
    "    \n",
    "    "
   ]
  },
  {
   "cell_type": "markdown",
   "metadata": {},
   "source": [
    "### Reading in the Fasta File\n",
    "- I used BioPython to parse the Fasta file into two numpy Arrays: Genomes and Strains. "
   ]
  },
  {
   "cell_type": "code",
   "execution_count": 8,
   "metadata": {},
   "outputs": [],
   "source": [
    "#work on making this work\n",
    "path = \"Data/aligned_cdc_h3n2_ha_2y_cell_hi.fasta\"\n",
    "strains = []\n",
    "genomes = []\n",
    "dropped_strains = [\"A/Usl/3850/2019\",\"A/Navarra/2284/2018\", \"A/Austria/1123467/2019\", \"A/Austria/1127203/2019\", \"A/Catalonia/NSVH100995626/2019\", \"A/Ontario/RV2296/2019\", \"A/Sydney/781/2019\", 'A/SouthAustralia/1034/2019','A/Usk/3850/2019']\n",
    "for record in SeqIO.parse(path, \"fasta\"):\n",
    "    if(record.id not in dropped_strains):\n",
    "        strains.append(str(record.id))\n",
    "        genomes.append(str(record.seq))"
   ]
  },
  {
   "cell_type": "markdown",
   "metadata": {},
   "source": [
    "#### Checking to make sure the file I picked is a aligned Fasta file / is the file I wanted"
   ]
  },
  {
   "cell_type": "code",
   "execution_count": 9,
   "metadata": {},
   "outputs": [
    {
     "name": "stdout",
     "output_type": "stream",
     "text": [
      "True\n",
      "2085\n"
     ]
    }
   ],
   "source": [
    "len(strains)\n",
    "print(len(genomes[0]) == len(genomes[1]))\n",
    "print(len(genomes))"
   ]
  },
  {
   "cell_type": "code",
   "execution_count": 10,
   "metadata": {},
   "outputs": [
    {
     "data": {
      "text/plain": [
       "['A/Oman/5263/2017',\n",
       " 'A/Oman/5101/2017',\n",
       " 'A/Madagascar/424/2018',\n",
       " 'A/Phetchaburi/104/2018',\n",
       " 'A/Philippines/160/2018']"
      ]
     },
     "execution_count": 10,
     "metadata": {},
     "output_type": "execute_result"
    }
   ],
   "source": [
    "strains[:5]"
   ]
  },
  {
   "cell_type": "markdown",
   "metadata": {},
   "source": [
    "# Creating the Distance Matrix\n",
    "- I used Hamming Distance to find the pairwise distance between each genome and each other genome, effectively creating a similarity/distance matrix\n",
    "    - In my Hamming Distance method, I only counted something as a different if it was a mismatch between the nucleotides (A,G,C, or T), not gaps (as that was throwing off the algorithm too much for smaller strains)\n",
    "- I then used Seaborn to generate a heatmap to make sure the matrix looked correct"
   ]
  },
  {
   "cell_type": "code",
   "execution_count": 11,
   "metadata": {},
   "outputs": [],
   "source": [
    "# Return the Hamming distance between string1 and string2.\n",
    "# string1 and string2 should be the same length.\n",
    "def hamming_distance(array1, array2): \n",
    "    # Start with a distance of zero, and count up\n",
    "    distance = 0\n",
    "    # Loop over the indices of the string\n",
    "    L = len(array1)\n",
    "    for i in range(L):\n",
    "        # Add 1 to the distance if these two characters are not equal\n",
    "        if array1[i] != array2[i] and array1[i] != 'N' and array2[i] != 'N':\n",
    "            distance += 1\n",
    "    # Return the final count of differences\n",
    "    return distance"
   ]
  },
  {
   "cell_type": "code",
   "execution_count": 12,
   "metadata": {},
   "outputs": [],
   "source": [
    "try:\n",
    "    similarity_matrix = pd.read_csv(\"DistanceMatrixFlu.csv\")\n",
    "except:\n",
    "    #using Hamming Distance to create a similarity matrix\n",
    "    numbers = []\n",
    "    matrixOfNum = []\n",
    "    for i in range(0, len(genomes)):\n",
    "        for j in range(0,len(genomes)):\n",
    "            num = hamming_distance(genomes[i],genomes[j])\n",
    "            numbers.append(num)\n",
    "        matrixOfNum.append(numbers)\n",
    "        numbers = []\n",
    "    similarity_matrix = pd.DataFrame(matrixOfNum, columns = [\"strain \" + str(i) for i in range(1,len(matrixOfNum) + 1)], dtype=\"int\") \n",
    "    similarity_matrix = similarity_matrix.to_csv(\"DistanceMatrixFlu.csv\",sep=',',index=False)"
   ]
  },
  {
   "cell_type": "code",
   "execution_count": 13,
   "metadata": {},
   "outputs": [
    {
     "name": "stdout",
     "output_type": "stream",
     "text": [
      "   strain 1  strain 2  strain 3  strain 4  strain 5  strain 6  strain 7  \\\n",
      "0       0.0       3.0       6.0       6.0       5.0       6.0       6.0   \n",
      "1       3.0       0.0       5.0       5.0       4.0       5.0       5.0   \n",
      "2       6.0       5.0       0.0       8.0       7.0       8.0       8.0   \n",
      "3       6.0       5.0       8.0       0.0       1.0       2.0       2.0   \n",
      "4       5.0       4.0       7.0       1.0       0.0       1.0       1.0   \n",
      "\n",
      "   strain 8  strain 9  strain 10  ...  strain 2076  strain 2077  strain 2078  \\\n",
      "0       6.0       8.0        8.0  ...         41.0         41.0         35.0   \n",
      "1       5.0       7.0        7.0  ...         40.0         40.0         34.0   \n",
      "2       8.0      10.0       10.0  ...         43.0         43.0         37.0   \n",
      "3       2.0       4.0        4.0  ...         39.0         37.0         33.0   \n",
      "4       1.0       3.0        3.0  ...         38.0         38.0         32.0   \n",
      "\n",
      "   strain 2079  strain 2080  strain 2081  strain 2082  strain 2083  \\\n",
      "0         42.0         36.0         89.0         35.0         34.0   \n",
      "1         41.0         35.0         88.0         34.0         33.0   \n",
      "2         44.0         38.0         91.0         37.0         36.0   \n",
      "3         40.0         34.0         87.0         33.0         32.0   \n",
      "4         39.0         33.0         86.0         32.0         31.0   \n",
      "\n",
      "   strain 2084  strain 2085  \n",
      "0         39.0         37.0  \n",
      "1         38.0         34.0  \n",
      "2         41.0         39.0  \n",
      "3         37.0         35.0  \n",
      "4         36.0         34.0  \n",
      "\n",
      "[5 rows x 2085 columns]\n"
     ]
    }
   ],
   "source": [
    "print(similarity_matrix.head())"
   ]
  },
  {
   "cell_type": "code",
   "execution_count": 14,
   "metadata": {},
   "outputs": [
    {
     "name": "stdout",
     "output_type": "stream",
     "text": [
      "AxesSubplot(0.125,0.125;0.62x0.755)\n"
     ]
    },
    {
     "data": {
      "image/png": "[encoded data removed]",
      "text/plain": [
       "<Figure size 432x288 with 2 Axes>"
      ]
     },
     "metadata": {
      "needs_background": "light"
     },
     "output_type": "display_data"
    }
   ],
   "source": [
    "print(sns.heatmap(similarity_matrix,vmin=0, vmax=300))"
   ]
  },
  {
   "cell_type": "markdown",
   "metadata": {},
   "source": [
    "# Reading in the Metadata\n",
    "- The metadata is used for getting the region, country, etc of different strains. This data is used to color the clusters.\n",
    "- The metadata contains all of the possible sampled strains, so many of these will not be in the genomes from the aligned file, probably because the strains were corrupted, too short, etc. \n",
    "- We merge this metadata with the strains we have in the aligned file to get a list of all of the strains that match between both. It should come out to the amount of strains in the aligned file."
   ]
  },
  {
   "cell_type": "code",
   "execution_count": 15,
   "metadata": {},
   "outputs": [],
   "source": [
    "#merging my final dataframe with their regions and strain names\n",
    "pathMeta = Path.cwd().joinpath(\"Data\", \"metadata_h3n2_ha.tsv\")\n",
    "metadata_df = pd.read_csv(pathMeta, delimiter='\\t')"
   ]
  },
  {
   "cell_type": "code",
   "execution_count": 16,
   "metadata": {},
   "outputs": [
    {
     "data": {
      "text/html": [
       "<div>\n",
       "<style scoped>\n",
       "    .dataframe tbody tr th:only-of-type {\n",
       "        vertical-align: middle;\n",
       "    }\n",
       "\n",
       "    .dataframe tbody tr th {\n",
       "        vertical-align: top;\n",
       "    }\n",
       "\n",
       "    .dataframe thead th {\n",
       "        text-align: right;\n",
       "    }\n",
       "</style>\n",
       "<table border=\"1\" class=\"dataframe\">\n",
       "  <thead>\n",
       "    <tr style=\"text-align: right;\">\n",
       "      <th></th>\n",
       "      <th>strain</th>\n",
       "      <th>virus</th>\n",
       "      <th>accession</th>\n",
       "      <th>date</th>\n",
       "      <th>region</th>\n",
       "      <th>country</th>\n",
       "      <th>division</th>\n",
       "      <th>location</th>\n",
       "      <th>passage</th>\n",
       "      <th>authors</th>\n",
       "      <th>age</th>\n",
       "      <th>gender</th>\n",
       "    </tr>\n",
       "  </thead>\n",
       "  <tbody>\n",
       "    <tr>\n",
       "      <td>0</td>\n",
       "      <td>A/Abakan/249/2018</td>\n",
       "      <td>flu</td>\n",
       "      <td>EPI1318896</td>\n",
       "      <td>2018-03-13</td>\n",
       "      <td>?</td>\n",
       "      <td>?</td>\n",
       "      <td>?</td>\n",
       "      <td>?</td>\n",
       "      <td>cell</td>\n",
       "      <td>state_research_center_of_virology_and_biotechn...</td>\n",
       "      <td>41y</td>\n",
       "      <td>female</td>\n",
       "    </tr>\n",
       "    <tr>\n",
       "      <td>1</td>\n",
       "      <td>A/Aberaeron/5961/2018</td>\n",
       "      <td>flu</td>\n",
       "      <td>EPI1227236</td>\n",
       "      <td>2018-03-12</td>\n",
       "      <td>europe</td>\n",
       "      <td>united_kingdom</td>\n",
       "      <td>wales</td>\n",
       "      <td>aberaeron</td>\n",
       "      <td>unpassaged</td>\n",
       "      <td>public_health_wales_microbiology</td>\n",
       "      <td>46y</td>\n",
       "      <td>male</td>\n",
       "    </tr>\n",
       "    <tr>\n",
       "      <td>2</td>\n",
       "      <td>A/Aberdare/1604/2018</td>\n",
       "      <td>flu</td>\n",
       "      <td>EPI1275673</td>\n",
       "      <td>2018-02-27</td>\n",
       "      <td>?</td>\n",
       "      <td>?</td>\n",
       "      <td>?</td>\n",
       "      <td>?</td>\n",
       "      <td>unpassaged</td>\n",
       "      <td>public_health_wales_microbiology</td>\n",
       "      <td>74y</td>\n",
       "      <td>female</td>\n",
       "    </tr>\n",
       "    <tr>\n",
       "      <td>3</td>\n",
       "      <td>A/Aberdare/588/2019</td>\n",
       "      <td>flu</td>\n",
       "      <td>EPI1414271</td>\n",
       "      <td>2019-02-11</td>\n",
       "      <td>europe</td>\n",
       "      <td>united_kingdom</td>\n",
       "      <td>wales</td>\n",
       "      <td>aberdare</td>\n",
       "      <td>unpassaged</td>\n",
       "      <td>public_health_wales_microbiology_cardiff</td>\n",
       "      <td>57y</td>\n",
       "      <td>female</td>\n",
       "    </tr>\n",
       "    <tr>\n",
       "      <td>4</td>\n",
       "      <td>A/Aberdare/632/2019</td>\n",
       "      <td>flu</td>\n",
       "      <td>EPI1414286</td>\n",
       "      <td>2019-02-13</td>\n",
       "      <td>europe</td>\n",
       "      <td>united_kingdom</td>\n",
       "      <td>wales</td>\n",
       "      <td>aberdare</td>\n",
       "      <td>unpassaged</td>\n",
       "      <td>public_health_wales_microbiology_cardiff</td>\n",
       "      <td>62y</td>\n",
       "      <td>male</td>\n",
       "    </tr>\n",
       "  </tbody>\n",
       "</table>\n",
       "</div>"
      ],
      "text/plain": [
       "                  strain virus   accession        date  region  \\\n",
       "0      A/Abakan/249/2018   flu  EPI1318896  2018-03-13       ?   \n",
       "1  A/Aberaeron/5961/2018   flu  EPI1227236  2018-03-12  europe   \n",
       "2   A/Aberdare/1604/2018   flu  EPI1275673  2018-02-27       ?   \n",
       "3    A/Aberdare/588/2019   flu  EPI1414271  2019-02-11  europe   \n",
       "4    A/Aberdare/632/2019   flu  EPI1414286  2019-02-13  europe   \n",
       "\n",
       "          country division   location     passage  \\\n",
       "0               ?        ?          ?        cell   \n",
       "1  united_kingdom    wales  aberaeron  unpassaged   \n",
       "2               ?        ?          ?  unpassaged   \n",
       "3  united_kingdom    wales   aberdare  unpassaged   \n",
       "4  united_kingdom    wales   aberdare  unpassaged   \n",
       "\n",
       "                                             authors  age  gender  \n",
       "0  state_research_center_of_virology_and_biotechn...  41y  female  \n",
       "1                   public_health_wales_microbiology  46y    male  \n",
       "2                   public_health_wales_microbiology  74y  female  \n",
       "3           public_health_wales_microbiology_cardiff  57y  female  \n",
       "4           public_health_wales_microbiology_cardiff  62y    male  "
      ]
     },
     "execution_count": 16,
     "metadata": {},
     "output_type": "execute_result"
    }
   ],
   "source": [
    "metadata_df.head()"
   ]
  },
  {
   "cell_type": "code",
   "execution_count": 17,
   "metadata": {},
   "outputs": [
    {
     "data": {
      "text/plain": [
       "(68655, 12)"
      ]
     },
     "execution_count": 17,
     "metadata": {},
     "output_type": "execute_result"
    }
   ],
   "source": [
    "metadata_df.shape"
   ]
  },
  {
   "cell_type": "code",
   "execution_count": 18,
   "metadata": {},
   "outputs": [],
   "source": [
    "#making a dataframe out of the strains from the alignment file to merge with the metadata\n",
    "strains_df = pd.DataFrame(strains)\n",
    "strains_df.columns = ['strain']"
   ]
  },
  {
   "cell_type": "code",
   "execution_count": 19,
   "metadata": {},
   "outputs": [
    {
     "data": {
      "text/plain": [
       "(2085, 1)"
      ]
     },
     "execution_count": 19,
     "metadata": {},
     "output_type": "execute_result"
    }
   ],
   "source": [
    "strains_df.shape"
   ]
  },
  {
   "cell_type": "code",
   "execution_count": 20,
   "metadata": {},
   "outputs": [],
   "source": [
    "#Merging strains and metadata \n",
    "result_strains = pd.merge(strains_df,metadata_df, on='strain')"
   ]
  },
  {
   "cell_type": "code",
   "execution_count": 21,
   "metadata": {},
   "outputs": [
    {
     "data": {
      "text/plain": [
       "(2085, 12)"
      ]
     },
     "execution_count": 21,
     "metadata": {},
     "output_type": "execute_result"
    }
   ],
   "source": [
    "#checking that no strains were lost\n",
    "result_strains.shape"
   ]
  },
  {
   "cell_type": "code",
   "execution_count": 22,
   "metadata": {},
   "outputs": [
    {
     "data": {
      "text/html": [
       "<div>\n",
       "<style scoped>\n",
       "    .dataframe tbody tr th:only-of-type {\n",
       "        vertical-align: middle;\n",
       "    }\n",
       "\n",
       "    .dataframe tbody tr th {\n",
       "        vertical-align: top;\n",
       "    }\n",
       "\n",
       "    .dataframe thead th {\n",
       "        text-align: right;\n",
       "    }\n",
       "</style>\n",
       "<table border=\"1\" class=\"dataframe\">\n",
       "  <thead>\n",
       "    <tr style=\"text-align: right;\">\n",
       "      <th></th>\n",
       "      <th>strain</th>\n",
       "      <th>virus</th>\n",
       "      <th>accession</th>\n",
       "      <th>date</th>\n",
       "      <th>region</th>\n",
       "      <th>country</th>\n",
       "      <th>division</th>\n",
       "      <th>location</th>\n",
       "      <th>passage</th>\n",
       "      <th>authors</th>\n",
       "      <th>age</th>\n",
       "      <th>gender</th>\n",
       "    </tr>\n",
       "  </thead>\n",
       "  <tbody>\n",
       "    <tr>\n",
       "      <td>0</td>\n",
       "      <td>A/Oman/5263/2017</td>\n",
       "      <td>flu</td>\n",
       "      <td>EPI1088172</td>\n",
       "      <td>2017-09-25</td>\n",
       "      <td>west_asia</td>\n",
       "      <td>oman</td>\n",
       "      <td>oman</td>\n",
       "      <td>oman</td>\n",
       "      <td>unpassaged</td>\n",
       "      <td>centers_for_disease_control_and_prevention</td>\n",
       "      <td>16y</td>\n",
       "      <td>male</td>\n",
       "    </tr>\n",
       "    <tr>\n",
       "      <td>1</td>\n",
       "      <td>A/Oman/5101/2017</td>\n",
       "      <td>flu</td>\n",
       "      <td>EPI1088180</td>\n",
       "      <td>2017-09-27</td>\n",
       "      <td>west_asia</td>\n",
       "      <td>oman</td>\n",
       "      <td>oman</td>\n",
       "      <td>oman</td>\n",
       "      <td>unpassaged</td>\n",
       "      <td>centers_for_disease_control_and_prevention</td>\n",
       "      <td>9y</td>\n",
       "      <td>male</td>\n",
       "    </tr>\n",
       "    <tr>\n",
       "      <td>2</td>\n",
       "      <td>A/Madagascar/424/2018</td>\n",
       "      <td>flu</td>\n",
       "      <td>EPI1282667</td>\n",
       "      <td>2018-02-06</td>\n",
       "      <td>africa</td>\n",
       "      <td>madagascar</td>\n",
       "      <td>madagascar</td>\n",
       "      <td>madagascar</td>\n",
       "      <td>cell</td>\n",
       "      <td>centers_for_disease_control_and_prevention</td>\n",
       "      <td>13y</td>\n",
       "      <td>male</td>\n",
       "    </tr>\n",
       "    <tr>\n",
       "      <td>3</td>\n",
       "      <td>A/Phetchaburi/104/2018</td>\n",
       "      <td>flu</td>\n",
       "      <td>EPI1281505</td>\n",
       "      <td>2018-05-27</td>\n",
       "      <td>southeast_asia</td>\n",
       "      <td>thailand</td>\n",
       "      <td>phetchaburi</td>\n",
       "      <td>phetchaburi</td>\n",
       "      <td>cell</td>\n",
       "      <td>who_collaborating_centre_for_reference_and_res...</td>\n",
       "      <td>33y</td>\n",
       "      <td>female</td>\n",
       "    </tr>\n",
       "    <tr>\n",
       "      <td>4</td>\n",
       "      <td>A/Philippines/160/2018</td>\n",
       "      <td>flu</td>\n",
       "      <td>EPI1266221</td>\n",
       "      <td>2018-02-05</td>\n",
       "      <td>southeast_asia</td>\n",
       "      <td>philippines</td>\n",
       "      <td>philippines</td>\n",
       "      <td>philippines</td>\n",
       "      <td>unpassaged</td>\n",
       "      <td>centers_for_disease_control_and_prevention</td>\n",
       "      <td>2y</td>\n",
       "      <td>female</td>\n",
       "    </tr>\n",
       "  </tbody>\n",
       "</table>\n",
       "</div>"
      ],
      "text/plain": [
       "                   strain virus   accession        date          region  \\\n",
       "0        A/Oman/5263/2017   flu  EPI1088172  2017-09-25       west_asia   \n",
       "1        A/Oman/5101/2017   flu  EPI1088180  2017-09-27       west_asia   \n",
       "2   A/Madagascar/424/2018   flu  EPI1282667  2018-02-06          africa   \n",
       "3  A/Phetchaburi/104/2018   flu  EPI1281505  2018-05-27  southeast_asia   \n",
       "4  A/Philippines/160/2018   flu  EPI1266221  2018-02-05  southeast_asia   \n",
       "\n",
       "       country     division     location     passage  \\\n",
       "0         oman         oman         oman  unpassaged   \n",
       "1         oman         oman         oman  unpassaged   \n",
       "2   madagascar   madagascar   madagascar        cell   \n",
       "3     thailand  phetchaburi  phetchaburi        cell   \n",
       "4  philippines  philippines  philippines  unpassaged   \n",
       "\n",
       "                                             authors  age  gender  \n",
       "0         centers_for_disease_control_and_prevention  16y    male  \n",
       "1         centers_for_disease_control_and_prevention   9y    male  \n",
       "2         centers_for_disease_control_and_prevention  13y    male  \n",
       "3  who_collaborating_centre_for_reference_and_res...  33y  female  \n",
       "4         centers_for_disease_control_and_prevention   2y  female  "
      ]
     },
     "execution_count": 22,
     "metadata": {},
     "output_type": "execute_result"
    }
   ],
   "source": [
    "result_strains.head()"
   ]
  },
  {
   "cell_type": "code",
   "execution_count": 23,
   "metadata": {},
   "outputs": [
    {
     "data": {
      "text/plain": [
       "array([], dtype=object)"
      ]
     },
     "execution_count": 23,
     "metadata": {},
     "output_type": "execute_result"
    }
   ],
   "source": [
    "np.setdiff1d(strains_df['strain'].unique(),metadata_df['strain'].unique())"
   ]
  },
  {
   "cell_type": "markdown",
   "metadata": {},
   "source": [
    "# Creating the Phylogenetic Tree in Altair\n",
    "- I used Altair to make this tree (Documentation linked [here][1]\n",
    "- I opened and imported the json from a build from NextStrain ([flu][2], [zika][3], etc)\n",
    "- The data from the JSON and the Data from the tree are usually a little different, so after merging the two dataframes you may get some errors.\n",
    "\n",
    "[1]: https://altair-viz.github.io/index.html\n",
    "[2]: https://github.com/nextstrain/seasonal-flu\n",
    "[3]: https://altair-viz.github.io/index.html"
   ]
  },
  {
   "cell_type": "code",
   "execution_count": 24,
   "metadata": {},
   "outputs": [],
   "source": [
    "with open('Data/flu_seasonal_h3n2_ha_2y_tree.json') as fh:\n",
    "    json_tree_handle = json.load(fh)"
   ]
  },
  {
   "cell_type": "code",
   "execution_count": 25,
   "metadata": {},
   "outputs": [],
   "source": [
    "tree = json_to_tree(json_tree_handle)"
   ]
  },
  {
   "cell_type": "code",
   "execution_count": 26,
   "metadata": {},
   "outputs": [
    {
     "data": {
      "text/plain": [
       "Clade(branch_length=0, clade=3769, name='NODE_0002093', numdate=2012.5519511386733, strain='NODE_0002093', yvalue=1985.2580021129058)"
      ]
     },
     "execution_count": 26,
     "metadata": {},
     "output_type": "execute_result"
    }
   ],
   "source": [
    "tree"
   ]
  },
  {
   "cell_type": "code",
   "execution_count": 27,
   "metadata": {},
   "outputs": [],
   "source": [
    "node_data = [\n",
    "    {\n",
    "        \"strain\": node.name,\n",
    "        \"date\": node.attr[\"num_date\"],\n",
    "        \"y\": node.yvalue,\n",
    "        \"region\": node.attr[\"region\"],\n",
    "        \"country\": node.attr[\"country\"],\n",
    "        \"parent_date\": node.parent is not None and node.parent.attr[\"num_date\"] or node.attr[\"num_date\"],\n",
    "        \"parent_y\": node.parent is not None and node.parent.yvalue or node.yvalue,\n",
    "        \"clade_membership\" : node.attr['clade_membership']\n",
    "    }\n",
    "    for node in tree.find_clades(terminal=True)\n",
    "]"
   ]
  },
  {
   "cell_type": "code",
   "execution_count": 28,
   "metadata": {},
   "outputs": [
    {
     "data": {
      "text/plain": [
       "{'strain': 'A/Texas/88/2016',\n",
       " 'date': 2016.1505817932923,\n",
       " 'y': 2083,\n",
       " 'region': 'north_america',\n",
       " 'country': 'usa',\n",
       " 'parent_date': 2015.1390475527255,\n",
       " 'parent_y': 2082.25,\n",
       " 'clade_membership': '3c3.A'}"
      ]
     },
     "execution_count": 28,
     "metadata": {},
     "output_type": "execute_result"
    }
   ],
   "source": [
    "node_data[10]"
   ]
  },
  {
   "cell_type": "code",
   "execution_count": 29,
   "metadata": {},
   "outputs": [],
   "source": [
    "node_df = pd.DataFrame(node_data)"
   ]
  },
  {
   "cell_type": "code",
   "execution_count": 30,
   "metadata": {},
   "outputs": [
    {
     "data": {
      "text/html": [
       "<div>\n",
       "<style scoped>\n",
       "    .dataframe tbody tr th:only-of-type {\n",
       "        vertical-align: middle;\n",
       "    }\n",
       "\n",
       "    .dataframe tbody tr th {\n",
       "        vertical-align: top;\n",
       "    }\n",
       "\n",
       "    .dataframe thead th {\n",
       "        text-align: right;\n",
       "    }\n",
       "</style>\n",
       "<table border=\"1\" class=\"dataframe\">\n",
       "  <thead>\n",
       "    <tr style=\"text-align: right;\">\n",
       "      <th></th>\n",
       "      <th>strain</th>\n",
       "      <th>date</th>\n",
       "      <th>y</th>\n",
       "      <th>region</th>\n",
       "      <th>country</th>\n",
       "      <th>parent_date</th>\n",
       "      <th>parent_y</th>\n",
       "      <th>clade_membership</th>\n",
       "    </tr>\n",
       "  </thead>\n",
       "  <tbody>\n",
       "    <tr>\n",
       "      <td>0</td>\n",
       "      <td>A/Almaty/2958/2013</td>\n",
       "      <td>2013.073922</td>\n",
       "      <td>2093</td>\n",
       "      <td>west_asia</td>\n",
       "      <td>kazakhstan</td>\n",
       "      <td>2012.995475</td>\n",
       "      <td>2091.519618</td>\n",
       "      <td>3c3</td>\n",
       "    </tr>\n",
       "    <tr>\n",
       "      <td>1</td>\n",
       "      <td>A/Victoria/505/2013</td>\n",
       "      <td>2013.459959</td>\n",
       "      <td>2092</td>\n",
       "      <td>oceania</td>\n",
       "      <td>australia</td>\n",
       "      <td>2013.293896</td>\n",
       "      <td>2091.500000</td>\n",
       "      <td>3c3</td>\n",
       "    </tr>\n",
       "    <tr>\n",
       "      <td>2</td>\n",
       "      <td>A/Newcastle/22/2014</td>\n",
       "      <td>2014.457221</td>\n",
       "      <td>2091</td>\n",
       "      <td>oceania</td>\n",
       "      <td>australia</td>\n",
       "      <td>2013.293896</td>\n",
       "      <td>2091.500000</td>\n",
       "      <td>3c3.B</td>\n",
       "    </tr>\n",
       "    <tr>\n",
       "      <td>3</td>\n",
       "      <td>A/Stockholm/6/2014</td>\n",
       "      <td>2014.101300</td>\n",
       "      <td>2090</td>\n",
       "      <td>europe</td>\n",
       "      <td>sweden</td>\n",
       "      <td>2013.840269</td>\n",
       "      <td>2088.578472</td>\n",
       "      <td>3c3.A</td>\n",
       "    </tr>\n",
       "    <tr>\n",
       "      <td>4</td>\n",
       "      <td>A/Switzerland/9715293/2013</td>\n",
       "      <td>2013.930869</td>\n",
       "      <td>2089</td>\n",
       "      <td>europe</td>\n",
       "      <td>switzerland</td>\n",
       "      <td>2013.930869</td>\n",
       "      <td>2087.156945</td>\n",
       "      <td>3c3.A</td>\n",
       "    </tr>\n",
       "  </tbody>\n",
       "</table>\n",
       "</div>"
      ],
      "text/plain": [
       "                       strain         date     y     region      country  \\\n",
       "0          A/Almaty/2958/2013  2013.073922  2093  west_asia   kazakhstan   \n",
       "1         A/Victoria/505/2013  2013.459959  2092    oceania    australia   \n",
       "2         A/Newcastle/22/2014  2014.457221  2091    oceania    australia   \n",
       "3          A/Stockholm/6/2014  2014.101300  2090     europe       sweden   \n",
       "4  A/Switzerland/9715293/2013  2013.930869  2089     europe  switzerland   \n",
       "\n",
       "   parent_date     parent_y clade_membership  \n",
       "0  2012.995475  2091.519618              3c3  \n",
       "1  2013.293896  2091.500000              3c3  \n",
       "2  2013.293896  2091.500000            3c3.B  \n",
       "3  2013.840269  2088.578472            3c3.A  \n",
       "4  2013.930869  2087.156945            3c3.A  "
      ]
     },
     "execution_count": 30,
     "metadata": {},
     "output_type": "execute_result"
    }
   ],
   "source": [
    "node_df.head()"
   ]
  },
  {
   "cell_type": "code",
   "execution_count": 31,
   "metadata": {},
   "outputs": [],
   "source": [
    "node_df[\"y\"] = node_df[\"y\"].max() - node_df[\"y\"]"
   ]
  },
  {
   "cell_type": "code",
   "execution_count": 32,
   "metadata": {},
   "outputs": [],
   "source": [
    "node_df[\"parent_y\"] = node_df[\"parent_y\"].max() - node_df[\"parent_y\"]"
   ]
  },
  {
   "cell_type": "code",
   "execution_count": 33,
   "metadata": {},
   "outputs": [
    {
     "data": {
      "text/plain": [
       "(2093, 8)"
      ]
     },
     "execution_count": 33,
     "metadata": {},
     "output_type": "execute_result"
    }
   ],
   "source": [
    "node_df.shape"
   ]
  },
  {
   "cell_type": "code",
   "execution_count": 34,
   "metadata": {},
   "outputs": [
    {
     "data": {
      "text/html": [
       "<div>\n",
       "<style scoped>\n",
       "    .dataframe tbody tr th:only-of-type {\n",
       "        vertical-align: middle;\n",
       "    }\n",
       "\n",
       "    .dataframe tbody tr th {\n",
       "        vertical-align: top;\n",
       "    }\n",
       "\n",
       "    .dataframe thead th {\n",
       "        text-align: right;\n",
       "    }\n",
       "</style>\n",
       "<table border=\"1\" class=\"dataframe\">\n",
       "  <thead>\n",
       "    <tr style=\"text-align: right;\">\n",
       "      <th></th>\n",
       "      <th>strain</th>\n",
       "      <th>date</th>\n",
       "      <th>y</th>\n",
       "      <th>region</th>\n",
       "      <th>country</th>\n",
       "      <th>parent_date</th>\n",
       "      <th>parent_y</th>\n",
       "      <th>clade_membership</th>\n",
       "    </tr>\n",
       "  </thead>\n",
       "  <tbody>\n",
       "    <tr>\n",
       "      <td>0</td>\n",
       "      <td>A/Almaty/2958/2013</td>\n",
       "      <td>2013.073922</td>\n",
       "      <td>0</td>\n",
       "      <td>west_asia</td>\n",
       "      <td>kazakhstan</td>\n",
       "      <td>2012.995475</td>\n",
       "      <td>0.000000</td>\n",
       "      <td>3c3</td>\n",
       "    </tr>\n",
       "    <tr>\n",
       "      <td>1</td>\n",
       "      <td>A/Victoria/505/2013</td>\n",
       "      <td>2013.459959</td>\n",
       "      <td>1</td>\n",
       "      <td>oceania</td>\n",
       "      <td>australia</td>\n",
       "      <td>2013.293896</td>\n",
       "      <td>0.019618</td>\n",
       "      <td>3c3</td>\n",
       "    </tr>\n",
       "    <tr>\n",
       "      <td>2</td>\n",
       "      <td>A/Newcastle/22/2014</td>\n",
       "      <td>2014.457221</td>\n",
       "      <td>2</td>\n",
       "      <td>oceania</td>\n",
       "      <td>australia</td>\n",
       "      <td>2013.293896</td>\n",
       "      <td>0.019618</td>\n",
       "      <td>3c3.B</td>\n",
       "    </tr>\n",
       "    <tr>\n",
       "      <td>3</td>\n",
       "      <td>A/Stockholm/6/2014</td>\n",
       "      <td>2014.101300</td>\n",
       "      <td>3</td>\n",
       "      <td>europe</td>\n",
       "      <td>sweden</td>\n",
       "      <td>2013.840269</td>\n",
       "      <td>2.941146</td>\n",
       "      <td>3c3.A</td>\n",
       "    </tr>\n",
       "    <tr>\n",
       "      <td>4</td>\n",
       "      <td>A/Switzerland/9715293/2013</td>\n",
       "      <td>2013.930869</td>\n",
       "      <td>4</td>\n",
       "      <td>europe</td>\n",
       "      <td>switzerland</td>\n",
       "      <td>2013.930869</td>\n",
       "      <td>4.362673</td>\n",
       "      <td>3c3.A</td>\n",
       "    </tr>\n",
       "  </tbody>\n",
       "</table>\n",
       "</div>"
      ],
      "text/plain": [
       "                       strain         date  y     region      country  \\\n",
       "0          A/Almaty/2958/2013  2013.073922  0  west_asia   kazakhstan   \n",
       "1         A/Victoria/505/2013  2013.459959  1    oceania    australia   \n",
       "2         A/Newcastle/22/2014  2014.457221  2    oceania    australia   \n",
       "3          A/Stockholm/6/2014  2014.101300  3     europe       sweden   \n",
       "4  A/Switzerland/9715293/2013  2013.930869  4     europe  switzerland   \n",
       "\n",
       "   parent_date  parent_y clade_membership  \n",
       "0  2012.995475  0.000000              3c3  \n",
       "1  2013.293896  0.019618              3c3  \n",
       "2  2013.293896  0.019618            3c3.B  \n",
       "3  2013.840269  2.941146            3c3.A  \n",
       "4  2013.930869  4.362673            3c3.A  "
      ]
     },
     "execution_count": 34,
     "metadata": {},
     "output_type": "execute_result"
    }
   ],
   "source": [
    "node_df.head()"
   ]
  },
  {
   "cell_type": "code",
   "execution_count": 35,
   "metadata": {},
   "outputs": [
    {
     "data": {
      "text/plain": [
       "array(['west_asia', 'oceania', 'europe', 'japan_korea', 'china',\n",
       "       'north_america', 'south_america', 'africa', 'south_asia',\n",
       "       'southeast_asia'], dtype=object)"
      ]
     },
     "execution_count": 35,
     "metadata": {},
     "output_type": "execute_result"
    }
   ],
   "source": [
    "node_df[\"region\"].unique()"
   ]
  },
  {
   "cell_type": "code",
   "execution_count": 36,
   "metadata": {},
   "outputs": [],
   "source": [
    "node_numpy = node_df['clade_membership'].to_numpy()\n",
    "clade_ok = []\n",
    "clades = ['3c3.A', 'A1b/131K', 'A1b/135K', 'A2/re', 'A2', 'A3']\n",
    "#node_numpy = node_numpy.tolist()\n",
    "for node in node_numpy:\n",
    "    if node not in clades:\n",
    "        clade_ok.append(\"other\")\n",
    "    else:\n",
    "        clade_ok.append(node)"
   ]
  },
  {
   "cell_type": "code",
   "execution_count": 37,
   "metadata": {},
   "outputs": [],
   "source": [
    "clade_new = pd.DataFrame(clade_ok)\n",
    "node_df = node_df.merge(clade_new, how='outer', left_index=True, right_index=True)"
   ]
  },
  {
   "cell_type": "code",
   "execution_count": 38,
   "metadata": {},
   "outputs": [
    {
     "data": {
      "text/html": [
       "<div>\n",
       "<style scoped>\n",
       "    .dataframe tbody tr th:only-of-type {\n",
       "        vertical-align: middle;\n",
       "    }\n",
       "\n",
       "    .dataframe tbody tr th {\n",
       "        vertical-align: top;\n",
       "    }\n",
       "\n",
       "    .dataframe thead th {\n",
       "        text-align: right;\n",
       "    }\n",
       "</style>\n",
       "<table border=\"1\" class=\"dataframe\">\n",
       "  <thead>\n",
       "    <tr style=\"text-align: right;\">\n",
       "      <th></th>\n",
       "      <th>strain</th>\n",
       "      <th>date</th>\n",
       "      <th>y</th>\n",
       "      <th>region</th>\n",
       "      <th>country</th>\n",
       "      <th>parent_date</th>\n",
       "      <th>parent_y</th>\n",
       "      <th>clade_membership</th>\n",
       "      <th>0</th>\n",
       "    </tr>\n",
       "  </thead>\n",
       "  <tbody>\n",
       "    <tr>\n",
       "      <td>0</td>\n",
       "      <td>A/Almaty/2958/2013</td>\n",
       "      <td>2013.073922</td>\n",
       "      <td>0</td>\n",
       "      <td>west_asia</td>\n",
       "      <td>kazakhstan</td>\n",
       "      <td>2012.995475</td>\n",
       "      <td>0.000000</td>\n",
       "      <td>3c3</td>\n",
       "      <td>other</td>\n",
       "    </tr>\n",
       "    <tr>\n",
       "      <td>1</td>\n",
       "      <td>A/Victoria/505/2013</td>\n",
       "      <td>2013.459959</td>\n",
       "      <td>1</td>\n",
       "      <td>oceania</td>\n",
       "      <td>australia</td>\n",
       "      <td>2013.293896</td>\n",
       "      <td>0.019618</td>\n",
       "      <td>3c3</td>\n",
       "      <td>other</td>\n",
       "    </tr>\n",
       "    <tr>\n",
       "      <td>2</td>\n",
       "      <td>A/Newcastle/22/2014</td>\n",
       "      <td>2014.457221</td>\n",
       "      <td>2</td>\n",
       "      <td>oceania</td>\n",
       "      <td>australia</td>\n",
       "      <td>2013.293896</td>\n",
       "      <td>0.019618</td>\n",
       "      <td>3c3.B</td>\n",
       "      <td>other</td>\n",
       "    </tr>\n",
       "    <tr>\n",
       "      <td>3</td>\n",
       "      <td>A/Stockholm/6/2014</td>\n",
       "      <td>2014.101300</td>\n",
       "      <td>3</td>\n",
       "      <td>europe</td>\n",
       "      <td>sweden</td>\n",
       "      <td>2013.840269</td>\n",
       "      <td>2.941146</td>\n",
       "      <td>3c3.A</td>\n",
       "      <td>3c3.A</td>\n",
       "    </tr>\n",
       "    <tr>\n",
       "      <td>4</td>\n",
       "      <td>A/Switzerland/9715293/2013</td>\n",
       "      <td>2013.930869</td>\n",
       "      <td>4</td>\n",
       "      <td>europe</td>\n",
       "      <td>switzerland</td>\n",
       "      <td>2013.930869</td>\n",
       "      <td>4.362673</td>\n",
       "      <td>3c3.A</td>\n",
       "      <td>3c3.A</td>\n",
       "    </tr>\n",
       "  </tbody>\n",
       "</table>\n",
       "</div>"
      ],
      "text/plain": [
       "                       strain         date  y     region      country  \\\n",
       "0          A/Almaty/2958/2013  2013.073922  0  west_asia   kazakhstan   \n",
       "1         A/Victoria/505/2013  2013.459959  1    oceania    australia   \n",
       "2         A/Newcastle/22/2014  2014.457221  2    oceania    australia   \n",
       "3          A/Stockholm/6/2014  2014.101300  3     europe       sweden   \n",
       "4  A/Switzerland/9715293/2013  2013.930869  4     europe  switzerland   \n",
       "\n",
       "   parent_date  parent_y clade_membership      0  \n",
       "0  2012.995475  0.000000              3c3  other  \n",
       "1  2013.293896  0.019618              3c3  other  \n",
       "2  2013.293896  0.019618            3c3.B  other  \n",
       "3  2013.840269  2.941146            3c3.A  3c3.A  \n",
       "4  2013.930869  4.362673            3c3.A  3c3.A  "
      ]
     },
     "execution_count": 38,
     "metadata": {},
     "output_type": "execute_result"
    }
   ],
   "source": [
    "node_df.head()"
   ]
  },
  {
   "cell_type": "code",
   "execution_count": 39,
   "metadata": {},
   "outputs": [],
   "source": [
    "node_df.columns = ['strain', 'date', 'y', 'region', 'country', 'parent_date',\n",
    "      'parent_y', 'clade_membership', 'clade_membership_color']"
   ]
  },
  {
   "cell_type": "markdown",
   "metadata": {},
   "source": [
    "## Checking for Outliers in Pairwise Distance"
   ]
  },
  {
   "cell_type": "code",
   "execution_count": 50,
   "metadata": {},
   "outputs": [],
   "source": [
    "result_df = pd.DataFrame(result_strains['strain'])\n",
    "index_df = pd.DataFrame(similarity_matrix.mean().index)\n",
    "result_index_df = result_df.set_index(similarity_matrix.mean().index)\n",
    "mean_similarity_matrix = pd.DataFrame(similarity_matrix.mean())"
   ]
  },
  {
   "cell_type": "code",
   "execution_count": 51,
   "metadata": {},
   "outputs": [
    {
     "data": {
      "text/html": [
       "<div>\n",
       "<style scoped>\n",
       "    .dataframe tbody tr th:only-of-type {\n",
       "        vertical-align: middle;\n",
       "    }\n",
       "\n",
       "    .dataframe tbody tr th {\n",
       "        vertical-align: top;\n",
       "    }\n",
       "\n",
       "    .dataframe thead th {\n",
       "        text-align: right;\n",
       "    }\n",
       "</style>\n",
       "<table border=\"1\" class=\"dataframe\">\n",
       "  <thead>\n",
       "    <tr style=\"text-align: right;\">\n",
       "      <th></th>\n",
       "      <th>strain</th>\n",
       "      <th>mean</th>\n",
       "    </tr>\n",
       "  </thead>\n",
       "  <tbody>\n",
       "    <tr>\n",
       "      <td>strain 1</td>\n",
       "      <td>A/Oman/5263/2017</td>\n",
       "      <td>24.521343</td>\n",
       "    </tr>\n",
       "    <tr>\n",
       "      <td>strain 2</td>\n",
       "      <td>A/Oman/5101/2017</td>\n",
       "      <td>23.664269</td>\n",
       "    </tr>\n",
       "    <tr>\n",
       "      <td>strain 3</td>\n",
       "      <td>A/Madagascar/424/2018</td>\n",
       "      <td>26.406715</td>\n",
       "    </tr>\n",
       "    <tr>\n",
       "      <td>strain 4</td>\n",
       "      <td>A/Phetchaburi/104/2018</td>\n",
       "      <td>23.973621</td>\n",
       "    </tr>\n",
       "    <tr>\n",
       "      <td>strain 5</td>\n",
       "      <td>A/Philippines/160/2018</td>\n",
       "      <td>22.982734</td>\n",
       "    </tr>\n",
       "    <tr>\n",
       "      <td>...</td>\n",
       "      <td>...</td>\n",
       "      <td>...</td>\n",
       "    </tr>\n",
       "    <tr>\n",
       "      <td>strain 2081</td>\n",
       "      <td>A/SaoPaulo/706496/2018</td>\n",
       "      <td>87.680096</td>\n",
       "    </tr>\n",
       "    <tr>\n",
       "      <td>strain 2082</td>\n",
       "      <td>A/Perth/151/2018</td>\n",
       "      <td>33.062830</td>\n",
       "    </tr>\n",
       "    <tr>\n",
       "      <td>strain 2083</td>\n",
       "      <td>A/Concepcion/87275/2018</td>\n",
       "      <td>33.844604</td>\n",
       "    </tr>\n",
       "    <tr>\n",
       "      <td>strain 2084</td>\n",
       "      <td>A/Kaliningrad/17/2018</td>\n",
       "      <td>37.717986</td>\n",
       "    </tr>\n",
       "    <tr>\n",
       "      <td>strain 2085</td>\n",
       "      <td>A/Shimane/112/2017</td>\n",
       "      <td>37.186571</td>\n",
       "    </tr>\n",
       "  </tbody>\n",
       "</table>\n",
       "<p>2085 rows × 2 columns</p>\n",
       "</div>"
      ],
      "text/plain": [
       "                              strain       mean\n",
       "strain 1            A/Oman/5263/2017  24.521343\n",
       "strain 2            A/Oman/5101/2017  23.664269\n",
       "strain 3       A/Madagascar/424/2018  26.406715\n",
       "strain 4      A/Phetchaburi/104/2018  23.973621\n",
       "strain 5      A/Philippines/160/2018  22.982734\n",
       "...                              ...        ...\n",
       "strain 2081   A/SaoPaulo/706496/2018  87.680096\n",
       "strain 2082         A/Perth/151/2018  33.062830\n",
       "strain 2083  A/Concepcion/87275/2018  33.844604\n",
       "strain 2084    A/Kaliningrad/17/2018  37.717986\n",
       "strain 2085       A/Shimane/112/2017  37.186571\n",
       "\n",
       "[2085 rows x 2 columns]"
      ]
     },
     "execution_count": 51,
     "metadata": {},
     "output_type": "execute_result"
    }
   ],
   "source": [
    "result_index_df = result_index_df.merge(mean_similarity_matrix, left_index=True, right_index=True)\n",
    "result_index_df.columns = [\"strain\",\"mean\"]\n",
    "result_index_df"
   ]
  },
  {
   "cell_type": "code",
   "execution_count": 52,
   "metadata": {},
   "outputs": [
    {
     "data": {
      "application/vnd.vegalite.v3+json": {
       "$schema": "https://vega.github.io/schema/vega-lite/v3.3.0.json",
       "config": {
        "mark": {
         "tooltip": null
        },
        "view": {
         "height": 300,
         "width": 400
        }
       },
       "data": {
        "name": "data-859cdc8a08d9a71fafbf6b19414094fc"
       },
       "datasets": {
        "data-859cdc8a08d9a71fafbf6b19414094fc": [
         {
          "mean": 24.52134292565947,
          "strain": "A/Oman/5263/2017"
         },
         {
          "mean": 23.664268585131893,
          "strain": "A/Oman/5101/2017"
         },
         {
          "mean": 26.40671462829736,
          "strain": "A/Madagascar/424/2018"
         },
         {
          "mean": 23.973621103117505,
          "strain": "A/Phetchaburi/104/2018"
         },
         {
          "mean": 22.98273381294964,
          "strain": "A/Philippines/160/2018"
         },
         {
          "mean": 23.975059952038368,
          "strain": "A/NewZealand/2379/2017"
         },
         {
          "mean": 23.975059952038368,
          "strain": "A/NewZealand/2391/2017"
         },
         {
          "mean": 23.937170263788968,
          "strain": "A/Philippines/799/2017"
         },
         {
          "mean": 25.955395683453236,
          "strain": "A/NewZealand/2267/2017"
         },
         {
          "mean": 25.378896882494004,
          "strain": "A/Colombia/6187/2017"
         },
         {
          "mean": 25.47242206235012,
          "strain": "A/Colombia/6186/2017"
         },
         {
          "mean": 23.616786570743404,
          "strain": "A/SakonNakhon/203/2017"
         },
         {
          "mean": 22.68537170263789,
          "strain": "A/Wisconsin/327/2017"
         },
         {
          "mean": 21.733333333333334,
          "strain": "A/NewCaledonia/8/2018"
         },
         {
          "mean": 21.733333333333334,
          "strain": "A/Bangladesh/64/2017"
         },
         {
          "mean": 21.733333333333334,
          "strain": "A/Vietnam/GHS890/2017"
         },
         {
          "mean": 22.630695443645084,
          "strain": "A/Vietnam/GHS846/2017"
         },
         {
          "mean": 22.69496402877698,
          "strain": "A/ChiangRai/23/2018"
         },
         {
          "mean": 22.17314148681055,
          "strain": "A/Hawaii/35/2018"
         },
         {
          "mean": 22.17314148681055,
          "strain": "A/Moscow/238/2018"
         },
         {
          "mean": 22.17314148681055,
          "strain": "A/Oman/1449/2018"
         },
         {
          "mean": 22.17314148681055,
          "strain": "A/Newcastle/55/2018"
         },
         {
          "mean": 23.161630695443645,
          "strain": "A/India/4612/2018"
         },
         {
          "mean": 22.71558752997602,
          "strain": "A/Lao/2918/2017"
         },
         {
          "mean": 23.712709832134294,
          "strain": "A/Lao/3842/2017"
         },
         {
          "mean": 24.27673860911271,
          "strain": "A/Lao/4292/2017"
         },
         {
          "mean": 25.223980815347723,
          "strain": "A/Lao/3825/2017"
         },
         {
          "mean": 25.271942446043166,
          "strain": "A/Lao/3894/2017"
         },
         {
          "mean": 24.619664268585133,
          "strain": "A/Lao/3981/2017"
         },
         {
          "mean": 24.61534772182254,
          "strain": "A/Lao/3877/2017"
         },
         {
          "mean": 24.62398081534772,
          "strain": "A/Lao/3307/2017"
         },
         {
          "mean": 23.712709832134294,
          "strain": "A/Lao/3310/2017"
         },
         {
          "mean": 25.80959232613909,
          "strain": "A/Lao/4957/2017"
         },
         {
          "mean": 25.275299760191846,
          "strain": "A/Lao/2901/2017"
         },
         {
          "mean": 23.705035971223023,
          "strain": "A/Bangkok/95/2018"
         },
         {
          "mean": 23.725659472422063,
          "strain": "A/Alberta/RV2370/2017"
         },
         {
          "mean": 23.626858513189447,
          "strain": "A/Bangladesh/2018/2017"
         },
         {
          "mean": 23.726139088729017,
          "strain": "A/Oman/879/2018"
         },
         {
          "mean": 22.820143884892087,
          "strain": "A/AbuDhabi/259/2018"
         },
         {
          "mean": 23.817745803357315,
          "strain": "A/AbuDhabi/217/2017"
         },
         {
          "mean": 24.659952038369305,
          "strain": "A/Pakistan/232/2017"
         },
         {
          "mean": 24.659952038369305,
          "strain": "A/Pakistan/231/2017"
         },
         {
          "mean": 23.684412470023982,
          "strain": "A/NakhonSiThammarat/200/2017"
         },
         {
          "mean": 24.687769784172662,
          "strain": "A/SouthAfrica/6922/2018"
         },
         {
          "mean": 23.6326139088729,
          "strain": "A/Washington/303/2017"
         },
         {
          "mean": 23.75251798561151,
          "strain": "A/Sydney/20/2018"
         },
         {
          "mean": 23.658992805755396,
          "strain": "A/India/6023/2017"
         },
         {
          "mean": 24.156834532374102,
          "strain": "A/AbuDhabi/240/2018"
         },
         {
          "mean": 24.16354916067146,
          "strain": "A/AbuDhabi/218/2017"
         },
         {
          "mean": 23.976498800959234,
          "strain": "A/Santiago/30143/2018"
         },
         {
          "mean": 23.95011990407674,
          "strain": "A/Ontario/RV2291/2017"
         },
         {
          "mean": 24.157314148681056,
          "strain": "A/Afghanistan/1560/2018"
         },
         {
          "mean": 23.415827338129496,
          "strain": "A/India/989/2017"
         },
         {
          "mean": 25.224460431654677,
          "strain": "A/Afghanistan/616/2017"
         },
         {
          "mean": 28.19040767386091,
          "strain": "A/Afghanistan/998/2017"
         },
         {
          "mean": 28.171702637889688,
          "strain": "A/Afghanistan/833/2017"
         },
         {
          "mean": 25.514148681055154,
          "strain": "A/Afghanistan/2026/2018"
         },
         {
          "mean": 25.514628297362112,
          "strain": "A/Afghanistan/435/2017"
         },
         {
          "mean": 25.514628297362112,
          "strain": "A/Afghanistan/438/2017"
         },
         {
          "mean": 26.523741007194246,
          "strain": "A/Afghanistan/428/2017"
         },
         {
          "mean": 25.22685851318945,
          "strain": "A/Ontario/RV2823/2018"
         },
         {
          "mean": 25.36642685851319,
          "strain": "A/SakonNakhon/185/2017"
         },
         {
          "mean": 26.121822541966427,
          "strain": "A/Bolivia/922/2018"
         },
         {
          "mean": 25.15491606714628,
          "strain": "A/LaSerena/60001/2018"
         },
         {
          "mean": 26.015347721822543,
          "strain": "A/Antofagasta/58996/2018"
         },
         {
          "mean": 25.034052757793766,
          "strain": "A/Santiago/34507/2018"
         },
         {
          "mean": 25.034052757793766,
          "strain": "A/Santiago/37932/2018"
         },
         {
          "mean": 26.008153477218226,
          "strain": "A/Santiago/38092/2018"
         },
         {
          "mean": 23.15779376498801,
          "strain": "A/Santiago/38879/2018"
         },
         {
          "mean": 23.15779376498801,
          "strain": "A/Minnesota/42/2018"
         },
         {
          "mean": 25.647002398081536,
          "strain": "A/Colombia/4252/2019"
         },
         {
          "mean": 25.97314148681055,
          "strain": "A/CostaRica/1301/2018"
         },
         {
          "mean": 25.080575539568347,
          "strain": "A/CostaRica/468/2018"
         },
         {
          "mean": 26.035971223021583,
          "strain": "A/NewYork/5/2019"
         },
         {
          "mean": 26.035971223021583,
          "strain": "A/Argentina/59/2019"
         },
         {
          "mean": 27.03021582733813,
          "strain": "A/Bolivia/32/2019"
         },
         {
          "mean": 27.034052757793766,
          "strain": "A/Bolivia/237/2019"
         },
         {
          "mean": 27.03021582733813,
          "strain": "A/Bolivia/8/2019"
         },
         {
          "mean": 27.03021582733813,
          "strain": "A/CostaRica/1614/2018"
         },
         {
          "mean": 25.744364508393286,
          "strain": "A/CostaRica/1932/2018"
         },
         {
          "mean": 26.0705035971223,
          "strain": "A/Florida/64/2019"
         },
         {
          "mean": 24.567386091127098,
          "strain": "A/PrachuapKhiriKhan/13/2018"
         },
         {
          "mean": 23.47482014388489,
          "strain": "A/Vietnam/GHS180004/2018"
         },
         {
          "mean": 24.683932853717025,
          "strain": "A/India/4662/2018"
         },
         {
          "mean": 24.683932853717025,
          "strain": "A/India/4667/2018"
         },
         {
          "mean": 24.684412470023982,
          "strain": "A/India/9927/2017"
         },
         {
          "mean": 24.684412470023982,
          "strain": "A/India/9944/2017"
         },
         {
          "mean": 25.35539568345324,
          "strain": "A/India/4661/2018"
         },
         {
          "mean": 27.41870503597122,
          "strain": "A/India/4666/2018"
         },
         {
          "mean": 26.375539568345324,
          "strain": "A/India/4658/2018"
         },
         {
          "mean": 25.610551558753,
          "strain": "A/Lao/2852/2017"
         },
         {
          "mean": 29.497841726618706,
          "strain": "A/Grozny/RII-08/2019"
         },
         {
          "mean": 28.494964028776977,
          "strain": "A/Lebanon/659/2018"
         },
         {
          "mean": 28.494964028776977,
          "strain": "A/Lebanon/648/2018"
         },
         {
          "mean": 27.507434052757795,
          "strain": "A/Lebanon/661/2018"
         },
         {
          "mean": 27.507434052757795,
          "strain": "A/Lebanon/694/2018"
         },
         {
          "mean": 26.508393285371703,
          "strain": "A/Bangkok/59/2018"
         },
         {
          "mean": 25.54484412470024,
          "strain": "A/Bahrain/326/2018"
         },
         {
          "mean": 24.583213429256595,
          "strain": "A/Maldives/1471/2017"
         },
         {
          "mean": 27.40767386091127,
          "strain": "A/Oman/1759/2018"
         },
         {
          "mean": 25.53621103117506,
          "strain": "A/Oman/943/2018"
         },
         {
          "mean": 27.01199040767386,
          "strain": "A/Brisbane/64/2018"
         },
         {
          "mean": 25.14916067146283,
          "strain": "A/Brisbane/60/2018"
         },
         {
          "mean": 24.956354916067145,
          "strain": "A/SouthAustralia/12/2018"
         },
         {
          "mean": 27.521822541966426,
          "strain": "A/Maldives/1438/2017"
         },
         {
          "mean": 26.260911270983215,
          "strain": "A/Afghanistan/2058/2018"
         },
         {
          "mean": 23.74388489208633,
          "strain": "A/SriLanka/41/2018"
         },
         {
          "mean": 23.74388489208633,
          "strain": "A/SriLanka/25/2018"
         },
         {
          "mean": 23.74388489208633,
          "strain": "A/SriLanka/36/2018"
         },
         {
          "mean": 23.831175059952038,
          "strain": "A/Ayutthaya/93/2018"
         },
         {
          "mean": 24.47482014388489,
          "strain": "A/HongKong/5838/2017"
         },
         {
          "mean": 24.717026378896882,
          "strain": "A/DistrictOfColumbia/18/2018"
         },
         {
          "mean": 24.510791366906474,
          "strain": "A/Washington/181/2018"
         },
         {
          "mean": 26.88009592326139,
          "strain": "A/CoteDIvoire/551/2019"
         },
         {
          "mean": 26.844124700239806,
          "strain": "A/Afghanistan/8313/2018"
         },
         {
          "mean": 26.87434052757794,
          "strain": "A/BurkinaFaso/2201317/2018"
         },
         {
          "mean": 28.798081534772184,
          "strain": "A/Togo/339/2019"
         },
         {
          "mean": 27.89400479616307,
          "strain": "A/CoteDIvoire/580/2019"
         },
         {
          "mean": 26.907913669064747,
          "strain": "A/Oman/896/2019"
         },
         {
          "mean": 28.727098321342925,
          "strain": "A/Togo/386/2019"
         },
         {
          "mean": 27.72997601918465,
          "strain": "A/Nigeria/3687/2018"
         },
         {
          "mean": 25.918465227817745,
          "strain": "A/Kenya/113/2019"
         },
         {
          "mean": 25.918465227817745,
          "strain": "A/Kenya/107/2019"
         },
         {
          "mean": 25.918465227817745,
          "strain": "A/Kenya/103/2019"
         },
         {
          "mean": 26.472901678657074,
          "strain": "A/Kenya/118/2019"
         },
         {
          "mean": 26.10263788968825,
          "strain": "A/Nonthaburi/1299/2018"
         },
         {
          "mean": 26.10263788968825,
          "strain": "A/Nonthaburi/131/2018"
         },
         {
          "mean": 25.105515587529975,
          "strain": "A/Lopburi/172/2018"
         },
         {
          "mean": 25.105515587529975,
          "strain": "A/Chanthaburi/1363/2018"
         },
         {
          "mean": 26.09304556354916,
          "strain": "A/Perth/1029/2018"
         },
         {
          "mean": 26.099760191846524,
          "strain": "A/Myanmar/18M139/2018"
         },
         {
          "mean": 25.045563549160672,
          "strain": "A/Nonthaburi/33/2018"
         },
         {
          "mean": 27.720863309352517,
          "strain": "A/Lebanon/747/2018"
         },
         {
          "mean": 27.720863309352517,
          "strain": "A/Lebanon/233/2019"
         },
         {
          "mean": 26.74388489208633,
          "strain": "A/Nakhonphanom/2883/2018"
         },
         {
          "mean": 27.71462829736211,
          "strain": "A/Moscow/234/2018"
         },
         {
          "mean": 28.707434052757794,
          "strain": "A/Lebanon/714/2018"
         },
         {
          "mean": 28.70167865707434,
          "strain": "A/Oman/1405/2019"
         },
         {
          "mean": 26.769784172661872,
          "strain": "A/Ohio/31/2018"
         },
         {
          "mean": 28.472901678657074,
          "strain": "A/Kuwait/6355/2018"
         },
         {
          "mean": 27.729016786570742,
          "strain": "A/Kuwait/6353/2018"
         },
         {
          "mean": 30.620143884892087,
          "strain": "A/Lebanon/687/2018"
         },
         {
          "mean": 25.752038369304557,
          "strain": "A/Mozambique/240/2019"
         },
         {
          "mean": 25.883453237410073,
          "strain": "A/BurkinaFaso/1464/2019"
         },
         {
          "mean": 25.845563549160673,
          "strain": "A/Mozambique/270/2019"
         },
         {
          "mean": 25.888249400479616,
          "strain": "A/Tanzania/523/2019"
         },
         {
          "mean": 28.688249400479616,
          "strain": "A/BurkinaFaso/1441/2019"
         },
         {
          "mean": 26.870023980815347,
          "strain": "A/SouthAustralia/153/2018"
         },
         {
          "mean": 25.824460431654675,
          "strain": "A/Lebanon/546/2018"
         },
         {
          "mean": 28.837410071942447,
          "strain": "A/CoteDIvoire/643/2019"
         },
         {
          "mean": 27.718465227817745,
          "strain": "A/Moscow/220/2018"
         },
         {
          "mean": 27.811031175059952,
          "strain": "A/Mozambique/275/2019"
         },
         {
          "mean": 26.885851318944844,
          "strain": "A/Minnesota/48/2018"
         },
         {
          "mean": 26.88009592326139,
          "strain": "A/Mozambique/262/2019"
         },
         {
          "mean": 27.86187050359712,
          "strain": "A/Oman/951/2019"
         },
         {
          "mean": 30.636930455635493,
          "strain": "A/Minnesota/44/2019"
         },
         {
          "mean": 30.88009592326139,
          "strain": "A/Mali/32/2019"
         },
         {
          "mean": 24.938129496402876,
          "strain": "A/Bangladesh/683/2018"
         },
         {
          "mean": 24.938129496402876,
          "strain": "A/Bangladesh/3031/2018"
         },
         {
          "mean": 24.938129496402876,
          "strain": "A/Bhutan/1219/2018"
         },
         {
          "mean": 25.873860911270985,
          "strain": "A/Bhutan/244/2018"
         },
         {
          "mean": 25.92661870503597,
          "strain": "A/Bhutan/1204/2018"
         },
         {
          "mean": 25.92661870503597,
          "strain": "A/Bhutan/742/2018"
         },
         {
          "mean": 25.92661870503597,
          "strain": "A/Bhutan/1220/2018"
         },
         {
          "mean": 25.92661870503597,
          "strain": "A/Bhutan/846/2018"
         },
         {
          "mean": 25.92661870503597,
          "strain": "A/Bhutan/1216/2018"
         },
         {
          "mean": 25.582254196642687,
          "strain": "A/Bangladesh/80914003/2018"
         },
         {
          "mean": 25.927098321342925,
          "strain": "A/Bhutan/865/2018"
         },
         {
          "mean": 25.0326139088729,
          "strain": "A/Bangladesh/215/2018"
         },
         {
          "mean": 26.93285371702638,
          "strain": "A/Bhutan/740/2018"
         },
         {
          "mean": 26.678177458033574,
          "strain": "A/Bangladesh/156/2018"
         },
         {
          "mean": 26.678177458033574,
          "strain": "A/Bangladesh/155/2018"
         },
         {
          "mean": 24.968824940047963,
          "strain": "A/Bangladesh/3005/2018"
         },
         {
          "mean": 24.972182254196643,
          "strain": "A/Bangladesh/186/2018"
         },
         {
          "mean": 28.441247002398082,
          "strain": "A/Bangladesh/15214/2018"
         },
         {
          "mean": 27.45083932853717,
          "strain": "A/Bangladesh/15205/2018"
         },
         {
          "mean": 27.876258992805756,
          "strain": "A/BurkinaFaso/1088/2018"
         },
         {
          "mean": 27.876258992805756,
          "strain": "A/BurkinaFaso/1035/2018"
         },
         {
          "mean": 28.87434052757794,
          "strain": "A/BurkinaFaso/2471/2019"
         },
         {
          "mean": 30.667146282973622,
          "strain": "A/Niger/6241/2018"
         },
         {
          "mean": 29.877218225419664,
          "strain": "A/Niger/6243/2018"
         },
         {
          "mean": 30.649400479616308,
          "strain": "A/CoteDIvoire/610/2019"
         },
         {
          "mean": 28.883453237410073,
          "strain": "A/Mali/42/2019"
         },
         {
          "mean": 30.671942446043165,
          "strain": "A/Bhutan/446/2019"
         },
         {
          "mean": 26.883932853717027,
          "strain": "A/Kuwait/6359/2018"
         },
         {
          "mean": 26.778417266187052,
          "strain": "A/NorthDakota/30/2018"
         },
         {
          "mean": 26.7947242206235,
          "strain": "A/Nonthaburi/329/2018"
         },
         {
          "mean": 26.93860911270983,
          "strain": "A/SouthAustralia/167/2018"
         },
         {
          "mean": 26.912709832134293,
          "strain": "A/Kyiv/477/2018"
         },
         {
          "mean": 26.912709832134293,
          "strain": "A/Dnipro/256/2019"
         },
         {
          "mean": 26.912709832134293,
          "strain": "A/Kyiv/466/2018"
         },
         {
          "mean": 26.912709832134293,
          "strain": "A/Kyiv/485/2018"
         },
         {
          "mean": 27.901678657074342,
          "strain": "A/Kyiv/473/2018"
         },
         {
          "mean": 27.9083932853717,
          "strain": "A/Kharkiv/438/2018"
         },
         {
          "mean": 28.608153477218224,
          "strain": "A/StPetersburg/RII-251/2019"
         },
         {
          "mean": 28.86570743405276,
          "strain": "A/Kyiv/482/2018"
         },
         {
          "mean": 28.63980815347722,
          "strain": "A/StPetersburg/RII-262/2019"
         },
         {
          "mean": 27.905515587529976,
          "strain": "A/Kyiv/492/2018"
         },
         {
          "mean": 29.863309352517987,
          "strain": "A/Kyiv/514/2018"
         },
         {
          "mean": 29.863309352517987,
          "strain": "A/Kyiv/489/2018"
         },
         {
          "mean": 29.690647482014388,
          "strain": "A/Kharkiv/447/2018"
         },
         {
          "mean": 30.823021582733812,
          "strain": "A/Kharkiv/448/2018"
         },
         {
          "mean": 26.74820143884892,
          "strain": "A/Alberta/RV4033/2018"
         },
         {
          "mean": 27.674340527577936,
          "strain": "A/Tanzania/5422/2019"
         },
         {
          "mean": 27.98800959232614,
          "strain": "A/NewYork/41/2018"
         },
         {
          "mean": 27.98800959232614,
          "strain": "A/NewYork/40/2018"
         },
         {
          "mean": 29.89640287769784,
          "strain": "A/Niger/6159/2018"
         },
         {
          "mean": 29.11127098321343,
          "strain": "A/Pennsylvania/129/2018"
         },
         {
          "mean": 27.109352517985613,
          "strain": "A/NewHampshire/24/2018"
         },
         {
          "mean": 27.772661870503597,
          "strain": "A/Bangladesh/151/2018"
         },
         {
          "mean": 26.117505995203835,
          "strain": "A/Utah/31/2018"
         },
         {
          "mean": 25.08441247002398,
          "strain": "A/Bahrain/408/2018"
         },
         {
          "mean": 26.0810551558753,
          "strain": "A/Delaware/33/2018"
         },
         {
          "mean": 30.944364508393285,
          "strain": "A/Kyiv/496/2018"
         },
         {
          "mean": 26.682973621103116,
          "strain": "A/Lao/3862/2017"
         },
         {
          "mean": 26.20431654676259,
          "strain": "A/Mozambique/418/2018"
         },
         {
          "mean": 27.2,
          "strain": "A/Mozambique/8218/2018"
         },
         {
          "mean": 27.2,
          "strain": "A/Mozambique/2118/2018"
         },
         {
          "mean": 26.5189448441247,
          "strain": "A/Kenya/104/2017"
         },
         {
          "mean": 23.622062350119904,
          "strain": "A/Phetchaburi/2607/2017"
         },
         {
          "mean": 23.52853717026379,
          "strain": "A/Lao/2903/2017"
         },
         {
          "mean": 24.227817745803357,
          "strain": "A/Florida/23/2017"
         },
         {
          "mean": 25.23693045563549,
          "strain": "A/Texas/68/2017"
         },
         {
          "mean": 22.68009592326139,
          "strain": "A/SouthCarolina/4/2017"
         },
         {
          "mean": 25.465227817745802,
          "strain": "A/NewZealand/2337/2017"
         },
         {
          "mean": 24.555395683453238,
          "strain": "A/AbuDhabi/8/2017"
         },
         {
          "mean": 24.555395683453238,
          "strain": "A/AbuDhabi/12/2017"
         },
         {
          "mean": 25.522781774580334,
          "strain": "A/NorthDakota/22/2017"
         },
         {
          "mean": 26.541486810551557,
          "strain": "A/Chanthaburi/101/2018"
         },
         {
          "mean": 29.89112709832134,
          "strain": "A/Kenya/134/2018"
         },
         {
          "mean": 32.18129496402878,
          "strain": "A/Kenya/162/2018"
         },
         {
          "mean": 29.33717026378897,
          "strain": "A/Kenya/163/2018"
         },
         {
          "mean": 28.46618705035971,
          "strain": "A/Kenya/167/2018"
         },
         {
          "mean": 26.187529976019185,
          "strain": "A/Kenya/166/2018"
         },
         {
          "mean": 25.667146282973622,
          "strain": "A/Bolivia/681/2018"
         },
         {
          "mean": 26.498800959232614,
          "strain": "A/Bolivia/867/2018"
         },
         {
          "mean": 25.688249400479616,
          "strain": "A/AbuDhabi/221/2017"
         },
         {
          "mean": 25.650359712230216,
          "strain": "A/Nonthaburi/182/2017"
         },
         {
          "mean": 27.6431654676259,
          "strain": "A/Phetchaburi/43/2018"
         },
         {
          "mean": 26.6484412470024,
          "strain": "A/Phetchaburi/28/2018"
         },
         {
          "mean": 24.683932853717025,
          "strain": "A/Nonthaburi/53/2018"
         },
         {
          "mean": 26.754916067146283,
          "strain": "A/HongKong/1101/2018"
         },
         {
          "mean": 26.754916067146283,
          "strain": "A/HongKong/1106/2018"
         },
         {
          "mean": 26.009112709832134,
          "strain": "A/Macau/601328/2018"
         },
         {
          "mean": 24.866666666666667,
          "strain": "A/Macedonia/1283/2019"
         },
         {
          "mean": 24.866666666666667,
          "strain": "A/Ecuador/1246/2018"
         },
         {
          "mean": 24.866666666666667,
          "strain": "A/Ecuador/4472/2019"
         },
         {
          "mean": 24.85707434052758,
          "strain": "A/Luxembourg/19008754/2019"
         },
         {
          "mean": 25.862350119904075,
          "strain": "A/Ecuador/4125/2019"
         },
         {
          "mean": 25.86378896882494,
          "strain": "A/Ecuador/2071/2019"
         },
         {
          "mean": 25.86378896882494,
          "strain": "A/Ecuador/2090/2019"
         },
         {
          "mean": 25.858033573141487,
          "strain": "A/Venezuela/21/2018"
         },
         {
          "mean": 26.831175059952038,
          "strain": "A/Wisconsin/555/2019"
         },
         {
          "mean": 26.85707434052758,
          "strain": "A/Ecuador/1285/2018"
         },
         {
          "mean": 26.834052757793764,
          "strain": "A/Colombia/396/2018"
         },
         {
          "mean": 26.77314148681055,
          "strain": "A/Peru/1418/2018"
         },
         {
          "mean": 27.76546762589928,
          "strain": "A/Peru/3118/2018"
         },
         {
          "mean": 25.865227817745804,
          "strain": "A/Denmark/2901/2019"
         },
         {
          "mean": 25.86043165467626,
          "strain": "A/Colombia/2689/2018"
         },
         {
          "mean": 25.86043165467626,
          "strain": "A/Colombia/2313/2019"
         },
         {
          "mean": 25.86043165467626,
          "strain": "A/Colombia/6090/2019"
         },
         {
          "mean": 25.86187050359712,
          "strain": "A/Colombia/2329/2019"
         },
         {
          "mean": 27.711750599520382,
          "strain": "A/Macedonia/1423/2019"
         },
         {
          "mean": 25.766906474820143,
          "strain": "A/Macedonia/1364/2019"
         },
         {
          "mean": 27.27817745803357,
          "strain": "A/Argentina/67/2019"
         },
         {
          "mean": 26.48009592326139,
          "strain": "A/Ontario/RV4196/2018"
         },
         {
          "mean": 27.8378896882494,
          "strain": "A/Colombia/4140/2019"
         },
         {
          "mean": 29.75971223021583,
          "strain": "A/Vermont/6/2019"
         },
         {
          "mean": 28.972182254196643,
          "strain": "A/Ecuador/4073/2018"
         },
         {
          "mean": 30.789928057553958,
          "strain": "A/Colombia/2312/2019"
         },
         {
          "mean": 26.503597122302157,
          "strain": "A/Vietnam/GHS992/2017"
         },
         {
          "mean": 25.542925659472424,
          "strain": "A/Bahrain/274/2018"
         },
         {
          "mean": 27.507434052757795,
          "strain": "A/Brisbane/67/2018"
         },
         {
          "mean": 27.507434052757795,
          "strain": "A/Brisbane/66/2018"
         },
         {
          "mean": 28.450359712230217,
          "strain": "A/Chanthaburi/108/2018"
         },
         {
          "mean": 28.45179856115108,
          "strain": "A/HongKong/1077/2018"
         },
         {
          "mean": 28.45179856115108,
          "strain": "A/Vladimir/191/2018"
         },
         {
          "mean": 28.45179856115108,
          "strain": "A/HongKong/1130/2018"
         },
         {
          "mean": 29.416786570743405,
          "strain": "A/HongKong/1078/2018"
         },
         {
          "mean": 25.647961630695445,
          "strain": "A/Maldives/1428/2017"
         },
         {
          "mean": 25.61534772182254,
          "strain": "A/NewZealand/2380/2017"
         },
         {
          "mean": 26.665227817745805,
          "strain": "A/Taiwan/80624/2018"
         },
         {
          "mean": 27.695443645083934,
          "strain": "A/Guyane/439/2019"
         },
         {
          "mean": 27.695443645083934,
          "strain": "A/Guyane/581/2019"
         },
         {
          "mean": 27.695443645083934,
          "strain": "A/Guyane/589/2019"
         },
         {
          "mean": 27.695443645083934,
          "strain": "A/Guyane/718/2019"
         },
         {
          "mean": 30.617266187050358,
          "strain": "A/Mozambique/248/2019"
         },
         {
          "mean": 28.629736211031176,
          "strain": "A/Mozambique/238/2019"
         },
         {
          "mean": 28.071462829736213,
          "strain": "A/Nakhonsithammarat/21/2018"
         },
         {
          "mean": 27.423980815347722,
          "strain": "A/Kyiv/7/2018"
         },
         {
          "mean": 27.500239808153477,
          "strain": "A/Bahrain/329/2018"
         },
         {
          "mean": 27.15011990407674,
          "strain": "A/Lao/3819/2017"
         },
         {
          "mean": 28.45803357314149,
          "strain": "A/AbuDhabi/112/2018"
         },
         {
          "mean": 29.094964028776978,
          "strain": "A/Kuwait/6408/2018"
         },
         {
          "mean": 27.078657074340526,
          "strain": "A/Townsville/23/2018"
         },
         {
          "mean": 26.687769784172662,
          "strain": "A/Lao/3921/2017"
         },
         {
          "mean": 26.684412470023982,
          "strain": "A/Cambodia/1054/2017"
         },
         {
          "mean": 29.33093525179856,
          "strain": "A/NewHampshire/27/2018"
         },
         {
          "mean": 29.704076738609114,
          "strain": "A/Sydney/1002/2018"
         },
         {
          "mean": 29.051798561151077,
          "strain": "A/Tomsk/159/2018"
         },
         {
          "mean": 29.101199040767387,
          "strain": "A/AbuDhabi/113/2018"
         },
         {
          "mean": 25.25179856115108,
          "strain": "A/India/1037/2017"
         },
         {
          "mean": 30.770263788968826,
          "strain": "A/Argentina/71/2019"
         },
         {
          "mean": 27.137649880095925,
          "strain": "A/Saskatchewan/RV3932/2018"
         },
         {
          "mean": 28.415347721822542,
          "strain": "A/NewJersey/42/2018"
         },
         {
          "mean": 29.397122302158273,
          "strain": "A/Kazakhstan/6/2019"
         },
         {
          "mean": 24.738129496402877,
          "strain": "A/Brisbane/44/2018"
         },
         {
          "mean": 24.715107913669065,
          "strain": "A/Brisbane/31/2018"
         },
         {
          "mean": 29.480575539568346,
          "strain": "A/Vietnam/190/2018"
         },
         {
          "mean": 28.229736211031174,
          "strain": "A/Vietnam/Lisn18022/2018"
         },
         {
          "mean": 27.73717026378897,
          "strain": "A/Cambodia/1004/2017"
         },
         {
          "mean": 27.828776978417267,
          "strain": "A/BurkinaFaso/2454/2019"
         },
         {
          "mean": 25.423980815347722,
          "strain": "A/Newcastle/6/2019"
         },
         {
          "mean": 28.048441247002398,
          "strain": "A/SouthAustralia/109/2019"
         },
         {
          "mean": 27.73717026378897,
          "strain": "A/Sydney/21/2019"
         },
         {
          "mean": 28.855635491606716,
          "strain": "A/Sydney/34/2018"
         },
         {
          "mean": 29.727098321342925,
          "strain": "A/Togo/353/2019"
         },
         {
          "mean": 32.30599520383693,
          "strain": "A/Jiangxi-Yuanzhou/1266/2019"
         },
         {
          "mean": 31.315107913669063,
          "strain": "A/Guangxi-Qinbei/321/2019"
         },
         {
          "mean": 31.960671462829737,
          "strain": "A/Guangdong-Jiangcheng/1409/2019"
         },
         {
          "mean": 32.29352517985612,
          "strain": "A/Guangxi-Wuming/351/2019"
         },
         {
          "mean": 32.172661870503596,
          "strain": "A/Guangdong-Huangpu/3203/2019"
         },
         {
          "mean": 29.321822541966426,
          "strain": "A/Gansu-Baiyin/183/2019"
         },
         {
          "mean": 29.321822541966426,
          "strain": "A/Henan-Chuanhui/1228/2019"
         },
         {
          "mean": 29.321822541966426,
          "strain": "A/Guangdong-Yuncheng/1651/2019"
         },
         {
          "mean": 29.321822541966426,
          "strain": "A/Hainan-Tianya/324/2019"
         },
         {
          "mean": 29.321822541966426,
          "strain": "A/Gansu-Xifeng/1303/2019"
         },
         {
          "mean": 30.180815347721822,
          "strain": "A/Henan-Shancheng/1372/2019"
         },
         {
          "mean": 30.317026378896884,
          "strain": "A/Guangdong-Rongcheng/1408/2019"
         },
         {
          "mean": 29.433093525179856,
          "strain": "A/Guangxi-Haicheng/351/2019"
         },
         {
          "mean": 30.27338129496403,
          "strain": "A/Hunan-Yuhu/1320/2019"
         },
         {
          "mean": 30.296882494004794,
          "strain": "A/Guangxi-Huanjiangmaonanzuzizhi/51/2019"
         },
         {
          "mean": 29.321822541966426,
          "strain": "A/HubeiWujiagang/1233/2019"
         },
         {
          "mean": 30.10263788968825,
          "strain": "A/Guangdong-Chancheng/1382/2019"
         },
         {
          "mean": 31.12853717026379,
          "strain": "A/Guangxi-Shanglin/312/2019"
         },
         {
          "mean": 31.318465227817747,
          "strain": "A/Beijing-Chaoyang/1544/2019"
         },
         {
          "mean": 31.295923261390886,
          "strain": "A/Guangdong-Chancheng/1361/2019"
         },
         {
          "mean": 31.30503597122302,
          "strain": "A/Henan-Zhaoling/1338/2019"
         },
         {
          "mean": 32.0599520383693,
          "strain": "A/Guangxi-Guiping/515/2019"
         },
         {
          "mean": 32.30071942446043,
          "strain": "A/Guizhou-Xinyi/354/2019"
         },
         {
          "mean": 31.391846522781776,
          "strain": "A/Guangdong-Zhongshan/357/2019"
         },
         {
          "mean": 33.03693045563549,
          "strain": "A/Anhui-Yingzhou/11133/2019"
         },
         {
          "mean": 32.280575539568346,
          "strain": "A/Jiangxi-Xunyang/1392/2019"
         },
         {
          "mean": 30.35539568345324,
          "strain": "A/Jiangxi-Yushui/383/2019"
         },
         {
          "mean": 30.35539568345324,
          "strain": "A/Guangxi-Cangwu/317/2019"
         },
         {
          "mean": 31.3515587529976,
          "strain": "A/Jiangxi-Zhanggong/1373/2019"
         },
         {
          "mean": 32.32757793764988,
          "strain": "A/Ningxia-Xinqing/1525/2019"
         },
         {
          "mean": 33.33045563549161,
          "strain": "A/Hunan-Jishou/11348/2019"
         },
         {
          "mean": 32.29448441247003,
          "strain": "A/Basel/5572/2018"
         },
         {
          "mean": 37.73093525179856,
          "strain": "A/Guangxi-Cenxi/38/2019"
         },
         {
          "mean": 34.30071942446043,
          "strain": "A/Kanagawa/ZC1841/2019"
         },
         {
          "mean": 32.29448441247003,
          "strain": "A/Myanmar/18M349/2018"
         },
         {
          "mean": 32.291606714628294,
          "strain": "A/Singapore/GP0008/2019"
         },
         {
          "mean": 32.94052757793765,
          "strain": "A/HongKong/3165/2018"
         },
         {
          "mean": 30.30695443645084,
          "strain": "A/Bangladesh/3038/2019"
         },
         {
          "mean": 30.30695443645084,
          "strain": "A/Bangladesh/2046/2019"
         },
         {
          "mean": 31.30503597122302,
          "strain": "A/Bangladesh/3028/2019"
         },
         {
          "mean": 31.272901678657075,
          "strain": "A/Bangladesh/3025/2019"
         },
         {
          "mean": 33.27913669064748,
          "strain": "A/Bangladesh/8008/2019"
         },
         {
          "mean": 22.17314148681055,
          "strain": "A/Novosibirsk/85/2019"
         },
         {
          "mean": 24.867625899280576,
          "strain": "A/Jiangxi-Zhushan/1657/2018"
         },
         {
          "mean": 23.124700239808153,
          "strain": "A/Lipetsk/129/2018"
         },
         {
          "mean": 24.10023980815348,
          "strain": "A/NizhnyNovgorod/2372/2018"
         },
         {
          "mean": 24.095923261390887,
          "strain": "A/Beijing-Huairou/1557/2018"
         },
         {
          "mean": 22.72757793764988,
          "strain": "A/Vologda/RII-3M/2018"
         },
         {
          "mean": 23.698800959232614,
          "strain": "A/Macau/600572/2018"
         },
         {
          "mean": 25.643645083932853,
          "strain": "A/StPetersburg/RII-475/2018"
         },
         {
          "mean": 24.722781774580337,
          "strain": "A/Yunnan-Linxiang/1673/2018"
         },
         {
          "mean": 23.71462829736211,
          "strain": "A/StPetersburg/RII-480/2018"
         },
         {
          "mean": 25.466666666666665,
          "strain": "A/Xinjiang-Midong/1633/2017"
         },
         {
          "mean": 24.670023980815348,
          "strain": "A/NizhnyNovgorod/RII-4452S/2018"
         },
         {
          "mean": 24.494964028776977,
          "strain": "A/Macau/600817/2018"
         },
         {
          "mean": 23.6863309352518,
          "strain": "A/Macau/600763/2018"
         },
         {
          "mean": 24.29544364508393,
          "strain": "A/Jilin-Yanji/1229/2018"
         },
         {
          "mean": 25.371702637889687,
          "strain": "A/Liaoning-Xinlongtai/1103/2018"
         },
         {
          "mean": 24.406235011990407,
          "strain": "A/Jilin-Longshan/1235/2018"
         },
         {
          "mean": 25.646522781774582,
          "strain": "A/Chongqing-Banan/1211/2018"
         },
         {
          "mean": 26.114148681055156,
          "strain": "A/Lyon/CHU/1520"
         },
         {
          "mean": 24.866666666666667,
          "strain": "A/Frejus/258/2019"
         },
         {
          "mean": 26.67242206235012,
          "strain": "A/Lyon/201/2019"
         },
         {
          "mean": 26.46378896882494,
          "strain": "A/Xinjiang-Tianshan/813/2018"
         },
         {
          "mean": 25.660911270983213,
          "strain": "A/Jilin-Hunjiang/1302/2018"
         },
         {
          "mean": 26.912709832134293,
          "strain": "A/Ulyanovsk/225/2019"
         },
         {
          "mean": 28.724700239808154,
          "strain": "A/Kursk/17/2019"
         },
         {
          "mean": 27.51558752997602,
          "strain": "A/Poitiers/1980/2018"
         },
         {
          "mean": 27.51558752997602,
          "strain": "A/Poitiers/1976/2018"
         },
         {
          "mean": 27.51558752997602,
          "strain": "A/Poitiers/1977/2018"
         },
         {
          "mean": 28.512230215827337,
          "strain": "A/Poitiers/2041/2018"
         },
         {
          "mean": 27.082494004796164,
          "strain": "A/Guangdong-Rongcheng/1394/2019"
         },
         {
          "mean": 26.997122302158274,
          "strain": "A/Yunnan-Chuxiong/1584/2018"
         },
         {
          "mean": 30.47769784172662,
          "strain": "A/Gansu-Chengguan/515/2019"
         },
         {
          "mean": 27.640767386091127,
          "strain": "A/Beijing-Huairou/11736/2018"
         },
         {
          "mean": 28.05515587529976,
          "strain": "A/StPetersburg/RII-4529S/2019"
         },
         {
          "mean": 26.117505995203835,
          "strain": "A/Novosibirsk/90/2019"
         },
         {
          "mean": 27.718465227817745,
          "strain": "A/Krasnoyarsk/RII-3642S/2019"
         },
         {
          "mean": 28.687769784172662,
          "strain": "A/StPetersburg/RII-4112S/2019"
         },
         {
          "mean": 27.741966426858514,
          "strain": "A/Noyabrsk/RII-4711S/2019"
         },
         {
          "mean": 30.725659472422063,
          "strain": "A/Novosibirsk/87/2019"
         },
         {
          "mean": 27.371223021582733,
          "strain": "A/Astrakhan/32/2017"
         },
         {
          "mean": 29.464748201438848,
          "strain": "A/Guangxi-Babu/1976/2018"
         },
         {
          "mean": 29.464748201438848,
          "strain": "A/Guangxi-Babu/1913/2018"
         },
         {
          "mean": 31.14916067146283,
          "strain": "A/Syktyvkar/RII-4625S/2018"
         },
         {
          "mean": 29.37410071942446,
          "strain": "A/Fujian-Tongan/1542/2018"
         },
         {
          "mean": 30.72134292565947,
          "strain": "A/Hubei-Xiling/1276/2018"
         },
         {
          "mean": 28.00863309352518,
          "strain": "A/Iquique/16325/2019"
         },
         {
          "mean": 26.929976019184654,
          "strain": "A/Iquique/10651/2019"
         },
         {
          "mean": 26.035971223021583,
          "strain": "A/Iquique/10652/2019"
         },
         {
          "mean": 24.153956834532373,
          "strain": "A/Santiago/79401/2018"
         },
         {
          "mean": 26.008153477218226,
          "strain": "A/Antofagasta/77945/2018"
         },
         {
          "mean": 27.989928057553957,
          "strain": "A/Santiago/64977/2018"
         },
         {
          "mean": 24.152997601918464,
          "strain": "A/Iquique/81065/2018"
         },
         {
          "mean": 26.838369304556355,
          "strain": "A/Iquique/19398/2019"
         },
         {
          "mean": 27.727098321342925,
          "strain": "A/Santiago/21659/2019"
         },
         {
          "mean": 27.80863309352518,
          "strain": "A/Iquique/30817/2019"
         },
         {
          "mean": 71.79472422062351,
          "strain": "A/SriLanka/62/2018"
         },
         {
          "mean": 71.79472422062351,
          "strain": "A/SriLanka/54/2018"
         },
         {
          "mean": 71.81055155875299,
          "strain": "A/SriLanka/45/2018"
         },
         {
          "mean": 72.79328537170264,
          "strain": "A/SriLanka/55/2018"
         },
         {
          "mean": 72.95011990407674,
          "strain": "A/SouthAustralia/233/2018"
         },
         {
          "mean": 70.97697841726618,
          "strain": "A/Victoria/2152/2018"
         },
         {
          "mean": 70.44412470023981,
          "strain": "A/Victoria/2147/2018"
         },
         {
          "mean": 70.14484412470024,
          "strain": "A/Iquique/81061/2018"
         },
         {
          "mean": 68.16067146282974,
          "strain": "A/SriLanka/51/2018"
         },
         {
          "mean": 29.5515587529976,
          "strain": "A/Smolensk/RII-4187S/2019"
         },
         {
          "mean": 30.141007194244605,
          "strain": "A/Astrakhan/33/2018"
         },
         {
          "mean": 28.23117505995204,
          "strain": "A/SriLanka/98/2017"
         },
         {
          "mean": 28.23117505995204,
          "strain": "A/SriLanka/87/2017"
         },
         {
          "mean": 28.238369304556354,
          "strain": "A/SriLanka/94/2017"
         },
         {
          "mean": 27.243645083932854,
          "strain": "A/SriLanka/1/2018"
         },
         {
          "mean": 28.2052757793765,
          "strain": "A/SriLanka/93/2017"
         },
         {
          "mean": 27.2431654676259,
          "strain": "A/SriLanka/97/2017"
         },
         {
          "mean": 28.230695443645082,
          "strain": "A/SriLanka/102/2017"
         },
         {
          "mean": 26.383213429256596,
          "strain": "A/SriLanka/95/2017"
         },
         {
          "mean": 26.45803357314149,
          "strain": "A/SriLanka/4/2018"
         },
         {
          "mean": 26.461390887290168,
          "strain": "A/SriLanka/90/2017"
         },
         {
          "mean": 27.067625899280575,
          "strain": "A/Brisbane/187/2017"
         },
         {
          "mean": 26.567865707434052,
          "strain": "A/Victoria/899/2017"
         },
         {
          "mean": 25.63021582733813,
          "strain": "A/Brisbane/14/2018"
         },
         {
          "mean": 21.733333333333334,
          "strain": "A/SouthAustralia/259/2017"
         },
         {
          "mean": 21.733333333333334,
          "strain": "A/Brisbane/204/2017"
         },
         {
          "mean": 21.733333333333334,
          "strain": "A/Sydney/236/2017"
         },
         {
          "mean": 22.17314148681055,
          "strain": "A/Victoria/830/2017"
         },
         {
          "mean": 22.429256594724222,
          "strain": "A/Brisbane/125/2017"
         },
         {
          "mean": 24.60767386091127,
          "strain": "A/Brisbane/198/2017"
         },
         {
          "mean": 23.62494004796163,
          "strain": "A/Brisbane/199/2017"
         },
         {
          "mean": 23.975059952038368,
          "strain": "A/Victoria/653/2017"
         },
         {
          "mean": 23.6863309352518,
          "strain": "A/Sydney/8/2018"
         },
         {
          "mean": 24.717026378896882,
          "strain": "A/Brisbane/197/2017"
         },
         {
          "mean": 27.144364508393284,
          "strain": "A/Brisbane/201/2017"
         },
         {
          "mean": 26.009112709832134,
          "strain": "A/Macau/601328/2017"
         },
         {
          "mean": 26.07242206235012,
          "strain": "A/Brisbane/7/2018"
         },
         {
          "mean": 24.447961630695442,
          "strain": "A/Victoria/233/2017"
         },
         {
          "mean": 26.645083932853716,
          "strain": "A/Perth/333/2017"
         },
         {
          "mean": 26.503597122302157,
          "strain": "A/Sydney/1049/2017"
         },
         {
          "mean": 28.048441247002398,
          "strain": "A/Hawaii/44/2018"
         },
         {
          "mean": 32.926139088729016,
          "strain": "A/AbuDhabi/134/2018"
         },
         {
          "mean": 28.001918465227817,
          "strain": "A/Kanagawa/IC1725/2018"
         },
         {
          "mean": 27.25611510791367,
          "strain": "A/Philippines/4/2018"
         },
         {
          "mean": 27.042685851318947,
          "strain": "A/HongKong/2060/2018"
         },
         {
          "mean": 27.042685851318947,
          "strain": "A/Madagascar/1123/2018"
         },
         {
          "mean": 27.042685851318947,
          "strain": "A/Hawaii/46/2018"
         },
         {
          "mean": 28.834052757793764,
          "strain": "A/NewHampshire/25/2018"
         },
         {
          "mean": 29.02302158273381,
          "strain": "A/NewJersey/41/2018"
         },
         {
          "mean": 25.294964028776977,
          "strain": "A/Philippines/334/2018"
         },
         {
          "mean": 25.294964028776977,
          "strain": "A/Ohio/26/2018"
         },
         {
          "mean": 26.286330935251797,
          "strain": "A/Philippines/189/2018"
         },
         {
          "mean": 29.92326139088729,
          "strain": "A/Wisconsin/98/2018"
         },
         {
          "mean": 29.015347721822543,
          "strain": "A/Wisconsin/97/2018"
         },
         {
          "mean": 29.015347721822543,
          "strain": "A/Wisconsin/96/2018"
         },
         {
          "mean": 25.439328537170265,
          "strain": "A/India/9930/2017"
         },
         {
          "mean": 24.472901678657074,
          "strain": "A/AbuDhabi/14/2017"
         },
         {
          "mean": 24.472901678657074,
          "strain": "A/AbuDhabi/225/2017"
         },
         {
          "mean": 25.46810551558753,
          "strain": "A/AbuDhabi/16/2017"
         },
         {
          "mean": 23.508872901678657,
          "strain": "A/India/6032/2017"
         },
         {
          "mean": 23.508872901678657,
          "strain": "A/India/2610/2017"
         },
         {
          "mean": 23.508872901678657,
          "strain": "A/Pakistan/192/2017"
         },
         {
          "mean": 24.494484412470023,
          "strain": "A/AbuDhabi/191/2017"
         },
         {
          "mean": 24.470503597122303,
          "strain": "A/AbuDhabi/13/2017"
         },
         {
          "mean": 24.50695443645084,
          "strain": "A/Bangladesh/1013/2017"
         },
         {
          "mean": 24.28968824940048,
          "strain": "A/Zhejiang-Nanhu/1745/2017"
         },
         {
          "mean": 26.426378896882493,
          "strain": "A/SouthAfrica/R00489/2018"
         },
         {
          "mean": 26.029736211031175,
          "strain": "A/Pakistan/184/2017"
         },
         {
          "mean": 25.496402877697843,
          "strain": "A/AbuDhabi/54/2018"
         },
         {
          "mean": 24.323741007194243,
          "strain": "A/AbuDhabi/1/2017"
         },
         {
          "mean": 26.449880095923263,
          "strain": "A/Afghanistan/785/2017"
         },
         {
          "mean": 26.38800959232614,
          "strain": "A/Philippines/20/2018"
         },
         {
          "mean": 26.997122302158274,
          "strain": "A/Pakistan/217/2017"
         },
         {
          "mean": 28.915107913669065,
          "strain": "A/Wisconsin/95/2018"
         },
         {
          "mean": 26.45179856115108,
          "strain": "A/AbuDhabi/111/2017"
         },
         {
          "mean": 27.448920863309354,
          "strain": "A/Maldives/1060/2017"
         },
         {
          "mean": 28.315107913669063,
          "strain": "A/SouthAustralia/75/2018"
         },
         {
          "mean": 27.389928057553956,
          "strain": "A/Maldives/1135/2017"
         },
         {
          "mean": 28.432613908872902,
          "strain": "A/Maldives/1455/2017"
         },
         {
          "mean": 28.432613908872902,
          "strain": "A/AbuDhabi/21/2018"
         },
         {
          "mean": 29.31031175059952,
          "strain": "A/Bangladesh/526/2018"
         },
         {
          "mean": 27.36402877697842,
          "strain": "A/Bangladesh/245/2018"
         },
         {
          "mean": 27.36402877697842,
          "strain": "A/Bangladesh/4004/2018"
         },
         {
          "mean": 27.36402877697842,
          "strain": "A/Bangladesh/8006/2018"
         },
         {
          "mean": 27.36402877697842,
          "strain": "A/Bangladesh/974/2018"
         },
         {
          "mean": 28.33621103117506,
          "strain": "A/Bangladesh/4008/2018"
         },
         {
          "mean": 28.350119904076738,
          "strain": "A/Bangladesh/178/2018"
         },
         {
          "mean": 26.376498800959233,
          "strain": "A/Bangladesh/973/2018"
         },
         {
          "mean": 27.3726618705036,
          "strain": "A/Bangladesh/3019/2018"
         },
         {
          "mean": 27.3673860911271,
          "strain": "A/Bangladesh/723/2018"
         },
         {
          "mean": 29.06378896882494,
          "strain": "A/Bangladesh/724/2018"
         },
         {
          "mean": 29.348681055155875,
          "strain": "A/Bangladesh/2013/2018"
         },
         {
          "mean": 27.652757793764987,
          "strain": "A/Pakistan/225/2017"
         },
         {
          "mean": 28.163069544364507,
          "strain": "A/India/2835/2017"
         },
         {
          "mean": 28.22685851318945,
          "strain": "A/HongKong/2012/2017"
         },
         {
          "mean": 27.24028776978417,
          "strain": "A/India/3862/2017"
         },
         {
          "mean": 28.021103117505994,
          "strain": "A/India/8050/2017"
         },
         {
          "mean": 27.200959232613908,
          "strain": "A/HongKong/4825/2017"
         },
         {
          "mean": 27.23117505995204,
          "strain": "A/India/3370/2017"
         },
         {
          "mean": 27.21294964028777,
          "strain": "A/Bangkok/94/2018"
         },
         {
          "mean": 32.82829736211031,
          "strain": "A/Fiji/61/2018"
         },
         {
          "mean": 29.844124700239806,
          "strain": "A/Fiji/8/2018"
         },
         {
          "mean": 29.844124700239806,
          "strain": "A/Fiji/56/2018"
         },
         {
          "mean": 29.844124700239806,
          "strain": "A/Fiji/33/2018"
         },
         {
          "mean": 29.844124700239806,
          "strain": "A/Fiji/49/2018"
         },
         {
          "mean": 29.844124700239806,
          "strain": "A/Fiji/68/2018"
         },
         {
          "mean": 29.844124700239806,
          "strain": "A/Fiji/37/2018"
         },
         {
          "mean": 28.324220623501198,
          "strain": "A/SriLanka/6/2018"
         },
         {
          "mean": 28.937649880095922,
          "strain": "A/India/3873/2017"
         },
         {
          "mean": 26.24892086330935,
          "strain": "A/SriLanka/40/2018"
         },
         {
          "mean": 30.01103117505995,
          "strain": "A/Afghanistan/1311/2018"
         },
         {
          "mean": 28.283932853717026,
          "strain": "A/SouthAustralia/7/2018"
         },
         {
          "mean": 28.254676258992806,
          "strain": "A/Asaka/4/2017"
         },
         {
          "mean": 31.60431654676259,
          "strain": "A/Hawaii/51/2018"
         },
         {
          "mean": 28.027338129496403,
          "strain": "A/Philippines/5/2018"
         },
         {
          "mean": 28.023501199040766,
          "strain": "A/Philippines/56/2018"
         },
         {
          "mean": 29.088249400479615,
          "strain": "A/Philippines/46/2018"
         },
         {
          "mean": 28.12661870503597,
          "strain": "A/Philippines/11/2018"
         },
         {
          "mean": 28.98896882494005,
          "strain": "A/Philippines/17/2018"
         },
         {
          "mean": 29.0052757793765,
          "strain": "A/Philippines/50/2018"
         },
         {
          "mean": 28.24748201438849,
          "strain": "A/Macau/600369/2018"
         },
         {
          "mean": 28.027338129496403,
          "strain": "A/SouthAustralia/116/2018"
         },
         {
          "mean": 32.52613908872902,
          "strain": "A/Christchurch/522/2018"
         },
         {
          "mean": 29.97074340527578,
          "strain": "A/Philippines/48/2018"
         },
         {
          "mean": 29.573141486810552,
          "strain": "A/Shanghai-Pudongxin/11178/2018"
         },
         {
          "mean": 30.238848920863308,
          "strain": "A/Macau/601326/2018"
         },
         {
          "mean": 72.31175059952038,
          "strain": "A/Singapore/GP0454/2018"
         },
         {
          "mean": 74.98752997601919,
          "strain": "A/Alberta/RV3884/2018"
         },
         {
          "mean": 28.58609112709832,
          "strain": "A/Bolivia/1/2018"
         },
         {
          "mean": 29.559712230215826,
          "strain": "A/Pakistan/197/2017"
         },
         {
          "mean": 29.559712230215826,
          "strain": "A/Pakistan/198/2017"
         },
         {
          "mean": 28.277218225419663,
          "strain": "A/Mozambique/309/2017"
         },
         {
          "mean": 29.367865707434053,
          "strain": "A/Colombia/6434/2017"
         },
         {
          "mean": 28.839328537170264,
          "strain": "A/Oregon/19/2016"
         },
         {
          "mean": 28.898800959232613,
          "strain": "A/Washington/106/2016"
         },
         {
          "mean": 27.906474820143885,
          "strain": "A/Delaware/32/2016"
         },
         {
          "mean": 27.73621103117506,
          "strain": "A/Newcastle/30/2016"
         },
         {
          "mean": 26.893525179856116,
          "strain": "A/SouthAustralia/135/2016"
         },
         {
          "mean": 27.392805755395685,
          "strain": "A/Ontario/RV2414/2015"
         },
         {
          "mean": 24.410551558753,
          "strain": "A/Alaska/232/2015"
         },
         {
          "mean": 23.41390887290168,
          "strain": "A/NorthCarolina/4/2016"
         },
         {
          "mean": 25.371223021582733,
          "strain": "A/Canberra/7/2016"
         },
         {
          "mean": 24.022541966426857,
          "strain": "A/Antananarivo/1067/2016"
         },
         {
          "mean": 28.58992805755396,
          "strain": "A/Arizona/67/2016"
         },
         {
          "mean": 28.85083932853717,
          "strain": "A/Montana/28/2015"
         },
         {
          "mean": 26.698800959232614,
          "strain": "A/HongKong/4801/2014"
         },
         {
          "mean": 27.18800959232614,
          "strain": "A/HongKong/7127/2014"
         },
         {
          "mean": 27.836930455635493,
          "strain": "A/Michigan/15/2014"
         },
         {
          "mean": 33.273381294964025,
          "strain": "A/Nebraska/19/2015"
         },
         {
          "mean": 34.375539568345324,
          "strain": "A/Congo/553/2017"
         },
         {
          "mean": 33.378896882494004,
          "strain": "A/Congo/487/2017"
         },
         {
          "mean": 32.387050359712234,
          "strain": "A/Congo/428/2017"
         },
         {
          "mean": 34.375539568345324,
          "strain": "A/Congo/467/2017"
         },
         {
          "mean": 33.37170263788969,
          "strain": "A/Congo/510/2017"
         },
         {
          "mean": 32.861870503597125,
          "strain": "A/Congo/7/2018"
         },
         {
          "mean": 32.89544364508393,
          "strain": "A/Brazil/4729/2017"
         },
         {
          "mean": 30.957314148681053,
          "strain": "A/Iowa/37/2017"
         },
         {
          "mean": 34.71414868105516,
          "strain": "A/Mississippi/30/2017"
         },
         {
          "mean": 33.571702637889686,
          "strain": "A/Pakistan/199/2017"
         },
         {
          "mean": 29.291127098321343,
          "strain": "A/Wisconsin/20/2015"
         },
         {
          "mean": 30.25083932853717,
          "strain": "A/Sapporo/71/2015"
         },
         {
          "mean": 25.931414868105517,
          "strain": "A/Hawaii/47/2014"
         },
         {
          "mean": 28.635011990407673,
          "strain": "A/NewJersey/26/2014"
         },
         {
          "mean": 28.85083932853717,
          "strain": "A/Alaska/240/2015"
         },
         {
          "mean": 27.130455635491607,
          "strain": "A/Fiji/2/2015"
         },
         {
          "mean": 30.552997601918467,
          "strain": "A/Wisconsin/66/2015"
         },
         {
          "mean": 30.79568345323741,
          "strain": "A/StPetersburg/RII-308S/2017"
         },
         {
          "mean": 33.59664268585132,
          "strain": "A/Toyama/2/2018"
         },
         {
          "mean": 26.24892086330935,
          "strain": "A/Singapore/GP2321/2017"
         },
         {
          "mean": 26.24892086330935,
          "strain": "A/Singapore/KK1366/2017"
         },
         {
          "mean": 26.24892086330935,
          "strain": "A/Singapore/CGH0007/2017"
         },
         {
          "mean": 26.24892086330935,
          "strain": "A/England/73880605/2017"
         },
         {
          "mean": 27.23117505995204,
          "strain": "A/England/73560808/2017"
         },
         {
          "mean": 27.892565947242208,
          "strain": "A/England/74100567/2017"
         },
         {
          "mean": 28.23453237410072,
          "strain": "A/Iwate/69/2017"
         },
         {
          "mean": 28.235011990407674,
          "strain": "A/Tokyo/17427/2017"
         },
         {
          "mean": 27.940047961630697,
          "strain": "A/Singapore/KK1384/2017"
         },
         {
          "mean": 28.013429256594723,
          "strain": "A/Nagano/2717/2017"
         },
         {
          "mean": 27.01486810551559,
          "strain": "A/Nagano/2731/2017"
         },
         {
          "mean": 28.01199040767386,
          "strain": "A/Tottori/42/2017"
         },
         {
          "mean": 28.20767386091127,
          "strain": "A/Singapore/MOH0219/2017"
         },
         {
          "mean": 28.476258992805754,
          "strain": "A/Mauritius/2287/2018"
         },
         {
          "mean": 30.19568345323741,
          "strain": "A/England/75260833/2017"
         },
         {
          "mean": 29.13525179856115,
          "strain": "A/Finland/797/2017"
         },
         {
          "mean": 31.128057553956836,
          "strain": "A/SriLanka/104/2017"
         },
         {
          "mean": 32.857074340527575,
          "strain": "A/Kanagawa/ZC1711/2018"
         },
         {
          "mean": 27.02302158273381,
          "strain": "A/Iran/88527/2017"
         },
         {
          "mean": 26.02685851318945,
          "strain": "A/Iran/88361/2017"
         },
         {
          "mean": 25.03165467625899,
          "strain": "A/Paris/1379/2017"
         },
         {
          "mean": 26.021103117505994,
          "strain": "A/Qatar/14-VI-17-0038145/2017"
         },
         {
          "mean": 26.021103117505994,
          "strain": "A/Qatar/14-VI-17-0038205/2017"
         },
         {
          "mean": 26.024460431654678,
          "strain": "A/Saitama/261/2017"
         },
         {
          "mean": 25.066187050359712,
          "strain": "A/Tokyo/17330/2017"
         },
         {
          "mean": 25.389928057553956,
          "strain": "A/HongKong/4226/2017"
         },
         {
          "mean": 25.389928057553956,
          "strain": "A/HongKong/4193/2017"
         },
         {
          "mean": 24.506474820143886,
          "strain": "A/Yokohama/145/2017"
         },
         {
          "mean": 23.508872901678657,
          "strain": "A/Tokyo/17297/2017"
         },
         {
          "mean": 24.50695443645084,
          "strain": "A/Mie/60/2017"
         },
         {
          "mean": 24.496402877697843,
          "strain": "A/Singapore/NTF0033/2018"
         },
         {
          "mean": 26.25083932853717,
          "strain": "A/Hunan-Hecheng/1826/2017"
         },
         {
          "mean": 25.48729016786571,
          "strain": "A/Beijing-Huairou/11878/2017"
         },
         {
          "mean": 27.25611510791367,
          "strain": "A/Kanagawa/AC1736/2018"
         },
         {
          "mean": 26.040767386091126,
          "strain": "A/Liaoning-Xinlongtai/1374/2017"
         },
         {
          "mean": 27.371702637889687,
          "strain": "A/Stockholm/28/2017"
         },
         {
          "mean": 28.014388489208635,
          "strain": "A/HongKong/2044/2018"
         },
         {
          "mean": 27.042685851318947,
          "strain": "A/HongKong/2632/2018"
         },
         {
          "mean": 27.042685851318947,
          "strain": "A/HongKong/1763/2018"
         },
         {
          "mean": 27.042685851318947,
          "strain": "A/HongKong/1934/2018"
         },
         {
          "mean": 28.039808153477217,
          "strain": "A/Qatar/10-vi-18-0040589/2018"
         },
         {
          "mean": 28.027338129496403,
          "strain": "A/HongKong/1325/2018"
         },
         {
          "mean": 28.027338129496403,
          "strain": "A/HongKong/1826/2018"
         },
         {
          "mean": 29.00863309352518,
          "strain": "A/Kanagawa/IC1806/2018"
         },
         {
          "mean": 28.023501199040766,
          "strain": "A/HongKong/2325/2018"
         },
         {
          "mean": 29.995203836930454,
          "strain": "A/HongKong/1508/2018"
         },
         {
          "mean": 30.94148681055156,
          "strain": "A/Yokohama/95/2018"
         },
         {
          "mean": 29.98513189448441,
          "strain": "A/Qatar/10-VI-18-0043482/2018"
         },
         {
          "mean": 31.997122302158274,
          "strain": "A/HongKong/1941/2018"
         },
         {
          "mean": 30.998081534772183,
          "strain": "A/HongKong/1838/2018"
         },
         {
          "mean": 30.952997601918465,
          "strain": "A/HongKong/1732/2018"
         },
         {
          "mean": 29.043645083932855,
          "strain": "A/HongKong/1834/2018"
         },
         {
          "mean": 30.977458033573143,
          "strain": "A/HongKong/1757/2018"
         },
         {
          "mean": 29.025419664268586,
          "strain": "A/Sydney/100/2018"
         },
         {
          "mean": 27.042685851318947,
          "strain": "A/Victoria/9/2019"
         },
         {
          "mean": 28.034052757793766,
          "strain": "A/Sydney/22/2018"
         },
         {
          "mean": 27.042685851318947,
          "strain": "A/Sydney/121/2018"
         },
         {
          "mean": 30.005755395683455,
          "strain": "A/Sydney/1020/2018"
         },
         {
          "mean": 30.009112709832134,
          "strain": "A/Philippines/52/2018"
         },
         {
          "mean": 28.048441247002398,
          "strain": "A/SouthAustralia/28/2018"
         },
         {
          "mean": 32.843645083932856,
          "strain": "A/Qatar/32-VI-18-0043277/2018"
         },
         {
          "mean": 27.28201438848921,
          "strain": "A/Yamaguchi/45/2017"
         },
         {
          "mean": 27.3673860911271,
          "strain": "A/Singapore/GP2179/2018"
         },
         {
          "mean": 31.871942446043164,
          "strain": "A/HongKong/1708/2018"
         },
         {
          "mean": 31.8326139088729,
          "strain": "A/Canterbury/3/2018"
         },
         {
          "mean": 30.84124700239808,
          "strain": "A/Canterbury/4/2018"
         },
         {
          "mean": 42.63884892086331,
          "strain": "A/SouthKorea/A2458-H3-HA/2018"
         },
         {
          "mean": 45.23836930455636,
          "strain": "A/SouthKorea/A2521-H3-HA/2018"
         },
         {
          "mean": 28.92661870503597,
          "strain": "A/NewCaledonia/23/2018"
         },
         {
          "mean": 43.64460431654676,
          "strain": "A/SouthKorea/A2523-H3-HA/2018"
         },
         {
          "mean": 42.65035971223021,
          "strain": "A/SouthKorea/G4229-H3-HA/2018"
         },
         {
          "mean": 21.733333333333334,
          "strain": "A/Sydney/235/2017"
         },
         {
          "mean": 24.52757793764988,
          "strain": "A/Darwin/1007/2018"
         },
         {
          "mean": 24.26618705035971,
          "strain": "A/Victoria/2038/2018"
         },
         {
          "mean": 24.10023980815348,
          "strain": "A/Niedersachsen/117/2018"
         },
         {
          "mean": 40.062350119904075,
          "strain": "A/SouthKorea/D1614-H3-HA/2018"
         },
         {
          "mean": 39.08057553956834,
          "strain": "A/SouthKorea/A2530-H3-HA/2018"
         },
         {
          "mean": 39.08057553956834,
          "strain": "A/SouthKorea/A2545-H3-HA/2018"
         },
         {
          "mean": 40.32134292565947,
          "strain": "A/SouthKorea/C1995-H3-HA/2018"
         },
         {
          "mean": 27.023501199040766,
          "strain": "A/Macau/600279/2018"
         },
         {
          "mean": 32.95875299760192,
          "strain": "A/SouthAustralia/1006/2018"
         },
         {
          "mean": 31.96546762589928,
          "strain": "A/SouthAustralia/1009/2018"
         },
         {
          "mean": 31.664268585131893,
          "strain": "A/SouthAustralia/19/2018"
         },
         {
          "mean": 26.09304556354916,
          "strain": "A/Myanmar/18M115/2018"
         },
         {
          "mean": 26.100719424460433,
          "strain": "A/Myanmar/18M290/2018"
         },
         {
          "mean": 26.905515587529976,
          "strain": "A/Myanmar/18M294/2018"
         },
         {
          "mean": 26.905515587529976,
          "strain": "A/Myanmar/18M296/2018"
         },
         {
          "mean": 27.40095923261391,
          "strain": "A/Myanmar/18M295/2018"
         },
         {
          "mean": 23.664268585131893,
          "strain": "A/Hyogo/1067/2017"
         },
         {
          "mean": 23.168345323741008,
          "strain": "A/Adana/A14/2018"
         },
         {
          "mean": 23.169304556354916,
          "strain": "A/Qatar/10-vi-18-0041895/2018"
         },
         {
          "mean": 23.148681055155876,
          "strain": "A/Austria/1030866/2017"
         },
         {
          "mean": 22.953956834532374,
          "strain": "A/SaudiArabia/460864/2018"
         },
         {
          "mean": 23.168824940047962,
          "strain": "A/Egypt/278/2018"
         },
         {
          "mean": 22.28968824940048,
          "strain": "A/SouthAustralia/267/2017"
         },
         {
          "mean": 21.733333333333334,
          "strain": "A/Victoria/236/2017"
         },
         {
          "mean": 21.733333333333334,
          "strain": "A/Singapore/GP2271/2017"
         },
         {
          "mean": 21.733333333333334,
          "strain": "A/England/75040590/2017"
         },
         {
          "mean": 21.733333333333334,
          "strain": "A/England/74340637/2017"
         },
         {
          "mean": 21.733333333333334,
          "strain": "A/Stockholm/51/2017"
         },
         {
          "mean": 22.711750599520382,
          "strain": "A/Tianjin-Nankai/17/2018"
         },
         {
          "mean": 22.361630695443644,
          "strain": "A/Yokohama/1/2018"
         },
         {
          "mean": 22.614388489208633,
          "strain": "A/Yokohama/232/2017"
         },
         {
          "mean": 22.729016786570742,
          "strain": "A/Krasnoyarsk/16266/2017"
         },
         {
          "mean": 23.720863309352517,
          "strain": "A/Sakai/24/2017"
         },
         {
          "mean": 23.578896882494004,
          "strain": "A/Beijing-Chaoyang/12560/2017"
         },
         {
          "mean": 23.710791366906474,
          "strain": "A/Tunis/12773/2017"
         },
         {
          "mean": 23.726139088729017,
          "strain": "A/Rabat/1229/2018"
         },
         {
          "mean": 23.7189448441247,
          "strain": "A/Incheon/1425/2018"
         },
         {
          "mean": 23.636450839328536,
          "strain": "A/Wakayama-C/107/2017"
         },
         {
          "mean": 23.581774580335733,
          "strain": "A/England/73520490/2017"
         },
         {
          "mean": 23.728057553956834,
          "strain": "A/Kalmar/2/2017"
         },
         {
          "mean": 23.717505995203837,
          "strain": "A/Yokohama/160/2017"
         },
         {
          "mean": 24.15875299760192,
          "strain": "A/Algeria/418/2018"
         },
         {
          "mean": 24.101199040767387,
          "strain": "A/HongKong/681/2018"
         },
         {
          "mean": 25.504556354916065,
          "strain": "A/LaRioja/2197/2018"
         },
         {
          "mean": 23.15779376498801,
          "strain": "A/LaRioja/2202/2018"
         },
         {
          "mean": 26.071462829736213,
          "strain": "A/HongKong/674/2018"
         },
         {
          "mean": 23.71462829736211,
          "strain": "A/Estonia/111435/2018"
         },
         {
          "mean": 23.550119904076737,
          "strain": "A/Meknes/1299/2018"
         },
         {
          "mean": 24.347721822541967,
          "strain": "A/Nara/38/2017"
         },
         {
          "mean": 24.678177458033574,
          "strain": "A/Yamanashi/18068/2018"
         },
         {
          "mean": 24.516067146282975,
          "strain": "A/HongKong/4984/2017"
         },
         {
          "mean": 24.569304556354915,
          "strain": "A/Yokohama/147/2017"
         },
         {
          "mean": 24.69736211031175,
          "strain": "A/England/80700280/2018"
         },
         {
          "mean": 24.716546762589928,
          "strain": "A/Egypt/460/2018"
         },
         {
          "mean": 23.716546762589928,
          "strain": "A/England/73420564/2017"
         },
         {
          "mean": 26.711750599520382,
          "strain": "A/Kanagawa/AC1727/2018"
         },
         {
          "mean": 23.720863309352517,
          "strain": "A/Kanagawa/AC1732/2018"
         },
         {
          "mean": 24.70359712230216,
          "strain": "A/Hyogo/1239/2018"
         },
         {
          "mean": 26.38465227817746,
          "strain": "A/Mie/23/2018"
         },
         {
          "mean": 24.710791366906474,
          "strain": "A/Niigata/836/2017"
         },
         {
          "mean": 25.711750599520382,
          "strain": "A/HongKong/680/2018"
         },
         {
          "mean": 25.644124700239807,
          "strain": "A/Kawasaki/128/2017"
         },
         {
          "mean": 25.484892086330934,
          "strain": "A/Incheon/919/2017"
         },
         {
          "mean": 26.637410071942448,
          "strain": "A/Myanmar/18MI026/2018"
         },
         {
          "mean": 25.644124700239807,
          "strain": "A/Myanmar/18MI027/2018"
         },
         {
          "mean": 25.644124700239807,
          "strain": "A/Myanmar/18MI025/2018"
         },
         {
          "mean": 24.680575539568345,
          "strain": "A/Niigata-C/21/2018"
         },
         {
          "mean": 23.6863309352518,
          "strain": "A/Dnipro/408/2018"
         },
         {
          "mean": 25.494484412470023,
          "strain": "A/Seoul/1287/2018"
         },
         {
          "mean": 25.658992805755396,
          "strain": "A/HongKong/1006/2018"
         },
         {
          "mean": 28.738129496402877,
          "strain": "A/Kobe/355/2018"
         },
         {
          "mean": 28.738129496402877,
          "strain": "A/HongKong/2235/2018"
         },
         {
          "mean": 29.684412470023982,
          "strain": "A/Ehime/35/2018"
         },
         {
          "mean": 24.872422062350118,
          "strain": "A/SaudiArabia/158/2018"
         },
         {
          "mean": 27.76450839328537,
          "strain": "A/Nagano/2632/2018"
         },
         {
          "mean": 27.009112709832134,
          "strain": "A/Oman/3372/2018"
         },
         {
          "mean": 25.900239808153476,
          "strain": "A/FrancheComte/1802/2018"
         },
         {
          "mean": 25.900239808153476,
          "strain": "A/FrancheComte/1801/2018"
         },
         {
          "mean": 26.080575539568347,
          "strain": "A/HongKong/979/2018"
         },
         {
          "mean": 26.04748201438849,
          "strain": "A/RheinlandPfalz/59/2019"
         },
         {
          "mean": 25.048441247002398,
          "strain": "A/Denmark/2791/2019"
         },
         {
          "mean": 25.08297362110312,
          "strain": "A/NordPasDeCalais/1914/2019"
         },
         {
          "mean": 28.60335731414868,
          "strain": "A/Guyane/1888/2019"
         },
         {
          "mean": 29.862350119904075,
          "strain": "A/Guyane/1894/2019"
         },
         {
          "mean": 25.70071942446043,
          "strain": "A/Lao/F4538/2017"
         },
         {
          "mean": 25.693525179856117,
          "strain": "A/Zambia/4-378/2018"
         },
         {
          "mean": 25.59328537170264,
          "strain": "A/Osaka/177/2017"
         },
         {
          "mean": 24.681534772182253,
          "strain": "A/Egypt/293/2018"
         },
         {
          "mean": 25.934772182254196,
          "strain": "A/Yamagata/134/2017"
         },
         {
          "mean": 26.136690647482013,
          "strain": "A/SaudiArabia/462458/2018"
         },
         {
          "mean": 24.884892086330936,
          "strain": "A/Yokohama/107/2018"
         },
         {
          "mean": 24.884892086330936,
          "strain": "A/Stockholm/22/2018"
         },
         {
          "mean": 24.884892086330936,
          "strain": "A/Shiga/18/2018"
         },
         {
          "mean": 24.504556354916065,
          "strain": "A/Nepal/19FL1496/2019"
         },
         {
          "mean": 26.382254196642688,
          "strain": "A/Kanagawa/AC1816/2018"
         },
         {
          "mean": 29.394244604316548,
          "strain": "A/England/74320429/2017"
         },
         {
          "mean": 26.40863309352518,
          "strain": "A/Galicia/2444/2017"
         },
         {
          "mean": 26.48968824940048,
          "strain": "A/SouthAfrica/R7925/2017"
         },
         {
          "mean": 25.503597122302157,
          "strain": "A/Southafrica/R7908/2017"
         },
         {
          "mean": 21.704076738609114,
          "strain": "A/Singapore/TT0555/2017"
         },
         {
          "mean": 24.567386091127098,
          "strain": "A/Shanghai-Songjiang/1635/2017"
         },
         {
          "mean": 28.48441247002398,
          "strain": "A/Zambia/4-381/2018"
         },
         {
          "mean": 26.117505995203835,
          "strain": "A/Qatar/10-VI-18-0037276/2018"
         },
         {
          "mean": 26.74388489208633,
          "strain": "A/SaudiArabia/459160/2018"
         },
         {
          "mean": 26.74820143884892,
          "strain": "A/Paris/2149/2018"
         },
         {
          "mean": 26.78369304556355,
          "strain": "A/Oman/6228/2018"
         },
         {
          "mean": 27.8705035971223,
          "strain": "A/Mauritania/255-2018/2018"
         },
         {
          "mean": 27.862350119904075,
          "strain": "A/Jordan/10624/2019"
         },
         {
          "mean": 25.882494004796165,
          "strain": "A/SaudiArabia/464902/2018"
         },
         {
          "mean": 25.882494004796165,
          "strain": "A/Stockholm/20/2018"
         },
         {
          "mean": 27.346282973621104,
          "strain": "A/Egypt/5816/2018"
         },
         {
          "mean": 26.494484412470023,
          "strain": "A/SaudiArabia/183/2018"
         },
         {
          "mean": 25.52853717026379,
          "strain": "A/Oman/3542/2018"
         },
         {
          "mean": 25.52853717026379,
          "strain": "A/SaudiArabia/4880/2018"
         },
         {
          "mean": 26.524700239808155,
          "strain": "A/SaudiArabia/1037082672/2018"
         },
         {
          "mean": 27.482494004796163,
          "strain": "A/Iran/143227/2018"
         },
         {
          "mean": 27.50071942446043,
          "strain": "A/Iran/145771/2018"
         },
         {
          "mean": 29.19040767386091,
          "strain": "A/Singapore/NUH0004/2019"
         },
         {
          "mean": 27.516067146282975,
          "strain": "A/LaReunion/1965/2018"
         },
         {
          "mean": 27.33189448441247,
          "strain": "A/LaReunion/1970/2018"
         },
         {
          "mean": 27.49304556354916,
          "strain": "A/LaReunion/1966/2018"
         },
         {
          "mean": 27.518465227817746,
          "strain": "A/LaReunion/1972/2018"
         },
         {
          "mean": 27.51798561151079,
          "strain": "A/LaReunion/1967/2018"
         },
         {
          "mean": 29.635011990407673,
          "strain": "A/NordPasDeCalais/54/2019"
         },
         {
          "mean": 31.227817745803357,
          "strain": "A/HongKong/123/2019"
         },
         {
          "mean": 31.414868105515588,
          "strain": "A/Oita/9/2018"
         },
         {
          "mean": 24.634052757793764,
          "strain": "A/Myanmar/18M151/2018"
         },
         {
          "mean": 29.82925659472422,
          "strain": "A/Egypt/7820/2018"
         },
         {
          "mean": 26.983693045563548,
          "strain": "A/Egypt/5730/2018"
         },
         {
          "mean": 27.750599520383695,
          "strain": "A/Sanliurfa/1763/2018"
         },
         {
          "mean": 26.064268585131895,
          "strain": "A/SaudiArabia/461288/2018"
         },
         {
          "mean": 26.064268585131895,
          "strain": "A/SaudiArabia/462659/2018"
         },
         {
          "mean": 26.160191846522782,
          "strain": "A/SaudiArabia/2015060813/2018"
         },
         {
          "mean": 28.816786570743407,
          "strain": "A/Soria/11/2019"
         },
         {
          "mean": 25.850359712230215,
          "strain": "A/Greece/7/2018"
         },
         {
          "mean": 27.774580335731414,
          "strain": "A/Netherlands/10244/2019"
         },
         {
          "mean": 26.77505995203837,
          "strain": "A/Kanagawa/85/2018"
         },
         {
          "mean": 26.70167865707434,
          "strain": "A/Kanagawa/ZC1856/2019"
         },
         {
          "mean": 26.948681055155877,
          "strain": "A/Kanagawa/ZC1832/2019"
         },
         {
          "mean": 28.93189448441247,
          "strain": "A/Nepal/19FL1376/2019"
         },
         {
          "mean": 29.8810551558753,
          "strain": "A/Stockholm/12/2019"
         },
         {
          "mean": 27.4810551558753,
          "strain": "A/Iceland/101/2018"
         },
         {
          "mean": 26.754916067146283,
          "strain": "A/HongKong/1100/2018"
         },
         {
          "mean": 26.413429256594725,
          "strain": "A/Ishikawa/119/2017"
         },
         {
          "mean": 28.20287769784173,
          "strain": "A/Mauritius/I-851/2018"
         },
         {
          "mean": 26.994244604316545,
          "strain": "A/Mauritius/I-925/2018"
         },
         {
          "mean": 26.994244604316545,
          "strain": "A/Mauritius/I-974/2018"
         },
         {
          "mean": 27.21199040767386,
          "strain": "A/Osaka-C/2026/2018"
         },
         {
          "mean": 27.03021582733813,
          "strain": "A/Mauritius/I-967/2018"
         },
         {
          "mean": 29.018705035971223,
          "strain": "A/Iceland/90/2018"
         },
         {
          "mean": 28.023501199040766,
          "strain": "A/Netherlands/4189/2017"
         },
         {
          "mean": 27.423980815347722,
          "strain": "A/England/80160674/2017"
         },
         {
          "mean": 27.4484412470024,
          "strain": "A/England/73660232/2017"
         },
         {
          "mean": 30.33812949640288,
          "strain": "A/HongKong/639/2018"
         },
         {
          "mean": 28.38081534772182,
          "strain": "A/Moscow/CRIE/226/2018"
         },
         {
          "mean": 27.383213429256596,
          "strain": "A/Moscow/184/2018"
         },
         {
          "mean": 28.456115107913668,
          "strain": "A/Qatar/10-VI-18-0043462/2018"
         },
         {
          "mean": 26.660911270983213,
          "strain": "A/Lund/4/2017"
         },
         {
          "mean": 25.818705035971224,
          "strain": "A/Kanagawa/209/2017"
         },
         {
          "mean": 29.40191846522782,
          "strain": "A/Iceland/88/2018"
         },
         {
          "mean": 27.670023980815348,
          "strain": "A/SaudiArabia/1057368092/2018"
         },
         {
          "mean": 28.843645083932852,
          "strain": "A/Nepal/19FL1203/2019"
         },
         {
          "mean": 28.760671462829738,
          "strain": "A/Ireland/71305/2018"
         },
         {
          "mean": 29.633093525179856,
          "strain": "A/England/763/2018"
         },
         {
          "mean": 27.798561151079138,
          "strain": "A/Lorraine/2365/2018"
         },
         {
          "mean": 29.29640287769784,
          "strain": "A/Nepal/19FL0702/2019"
         },
         {
          "mean": 28.503117505995203,
          "strain": "A/NorthernIreland/14060/2018"
         },
         {
          "mean": 28.45179856115108,
          "strain": "A/Moscow/150/2018"
         },
         {
          "mean": 28.45179856115108,
          "strain": "A/HongKong/974/2018"
         },
         {
          "mean": 28.45179856115108,
          "strain": "A/HongKong/1129/2018"
         },
         {
          "mean": 29.416786570743405,
          "strain": "A/HongKong/1080/2018"
         },
         {
          "mean": 23.168345323741008,
          "strain": "A/HongKong/417610/2018"
         },
         {
          "mean": 30.409112709832133,
          "strain": "A/SouthAfrica/R8116/2017"
         },
         {
          "mean": 25.514148681055154,
          "strain": "A/SouthAfrica/R7911/2017"
         },
         {
          "mean": 26.315587529976018,
          "strain": "A/Myanmar/17M191/2017"
         },
         {
          "mean": 29.065707434052758,
          "strain": "A/SaudiArabia/604532786/2018"
         },
         {
          "mean": 28.373141486810553,
          "strain": "A/Tambov/CRIE/298/2018"
         },
         {
          "mean": 29.152038369304556,
          "strain": "A/Cambodia/c06254116/2018"
         },
         {
          "mean": 26.19040767386091,
          "strain": "A/Newcastle/19/2018"
         },
         {
          "mean": 29.632134292565947,
          "strain": "A/Sydney/1000/2018"
         },
         {
          "mean": 30.614388489208633,
          "strain": "A/Perth/142/2017"
         },
         {
          "mean": 28.5947242206235,
          "strain": "A/Santiago/72273/2017"
         },
         {
          "mean": 26.741966426858514,
          "strain": "A/Singapore/Infimh-16-0019/2016"
         },
         {
          "mean": 212.49208633093525,
          "strain": "A/MatoGrossodoSul/510074/2018"
         },
         {
          "mean": 31.05275779376499,
          "strain": "A/SouthAustralia/164/2018"
         },
         {
          "mean": 32.14820143884892,
          "strain": "A/SaoPaulo/913733/2017"
         },
         {
          "mean": 30.95779376498801,
          "strain": "A/SouthAustralia/174/2018"
         },
         {
          "mean": 24.25275779376499,
          "strain": "A/Vietnam/211/2018"
         },
         {
          "mean": 24.25275779376499,
          "strain": "A/Vietnam/204/2018"
         },
         {
          "mean": 24.25275779376499,
          "strain": "A/Brisbane/146/2018"
         },
         {
          "mean": 24.25275779376499,
          "strain": "A/Vietnam/245/2018"
         },
         {
          "mean": 24.25275779376499,
          "strain": "A/Vietnam/203/2018"
         },
         {
          "mean": 24.25275779376499,
          "strain": "A/Vietnam/212/2018"
         },
         {
          "mean": 24.25275779376499,
          "strain": "A/Santiago/103164/2018"
         },
         {
          "mean": 24.25275779376499,
          "strain": "A/Vietnam/197/2018"
         },
         {
          "mean": 24.25275779376499,
          "strain": "A/Vietnam/193/2018"
         },
         {
          "mean": 25.24988009592326,
          "strain": "A/Vietnam/194/2018"
         },
         {
          "mean": 25.251318944844126,
          "strain": "A/Vietnam/206/2018"
         },
         {
          "mean": 25.24220623501199,
          "strain": "A/Vietnam/234/2018"
         },
         {
          "mean": 25.25179856115108,
          "strain": "A/Iowa/60/2018"
         },
         {
          "mean": 25.23549160671463,
          "strain": "A/Vietnam/233/2018"
         },
         {
          "mean": 25.237410071942445,
          "strain": "A/Texas/136/2018"
         },
         {
          "mean": 26.1083932853717,
          "strain": "A/Vietnam/202/2018"
         },
         {
          "mean": 26.24892086330935,
          "strain": "A/Vietnam/240/2018"
         },
         {
          "mean": 25.24988009592326,
          "strain": "A/Vietnam/242/2018"
         },
         {
          "mean": 26.246043165467626,
          "strain": "A/Denmark/1793/2018"
         },
         {
          "mean": 25.25083932853717,
          "strain": "A/Vietnam/207/2018"
         },
         {
          "mean": 27.20863309352518,
          "strain": "A/Kyiv/488/2018"
         },
         {
          "mean": 27.21486810551559,
          "strain": "A/AbuDhabi/11/2019"
         },
         {
          "mean": 27.065227817745804,
          "strain": "A/Victoria/2123/2018"
         },
         {
          "mean": 24.156354916067148,
          "strain": "A/Jamaica/3797/2018"
         },
         {
          "mean": 25.95347721822542,
          "strain": "A/Vietnam/Lisn18336/2018"
         },
         {
          "mean": 27.975539568345322,
          "strain": "A/Arizona/31/2019"
         },
         {
          "mean": 26.999520383693046,
          "strain": "A/Connecticut/28/2019"
         },
         {
          "mean": 26.951079136690648,
          "strain": "A/Tennessee/71/2019"
         },
         {
          "mean": 27.014388489208635,
          "strain": "A/Hawaii/20/2019"
         },
         {
          "mean": 28.02062350119904,
          "strain": "A/HongKong/119/2019"
         },
         {
          "mean": 27.02302158273381,
          "strain": "A/SouthAustralia/123/2019"
         },
         {
          "mean": 27.76882494004796,
          "strain": "A/HongKong/11/2018"
         },
         {
          "mean": 27.01726618705036,
          "strain": "A/Florida/71/2019"
         },
         {
          "mean": 27.859952038369304,
          "strain": "A/Fiji/13/2019"
         },
         {
          "mean": 29.385611510791367,
          "strain": "A/SouthDakota/31/2019"
         },
         {
          "mean": 29.659952038369305,
          "strain": "A/Ohio/21/2019"
         },
         {
          "mean": 29.659952038369305,
          "strain": "A/Wisconsin/554/2019"
         },
         {
          "mean": 29.659952038369305,
          "strain": "A/Wisconsin/556/2019"
         },
         {
          "mean": 29.659952038369305,
          "strain": "A/Louisiana/38/2019"
         },
         {
          "mean": 28.82589928057554,
          "strain": "A/SouthAustralia/1007/2019"
         },
         {
          "mean": 27.832134292565947,
          "strain": "A/Alaska/28/2019"
         },
         {
          "mean": 27.832134292565947,
          "strain": "A/Washington/646/2019"
         },
         {
          "mean": 27.832134292565947,
          "strain": "A/Wisconsin/552/2019"
         },
         {
          "mean": 27.832134292565947,
          "strain": "A/Hawaii/50/2019"
         },
         {
          "mean": 27.832134292565947,
          "strain": "A/SouthAustralia/113/2019"
         },
         {
          "mean": 27.832134292565947,
          "strain": "A/SouthAustralia/93/2019"
         },
         {
          "mean": 27.832134292565947,
          "strain": "A/SouthAustralia/115/2019"
         },
         {
          "mean": 28.827338129496404,
          "strain": "A/SouthAustralia/137/2019"
         },
         {
          "mean": 28.798561151079138,
          "strain": "A/Michigan/383/2019"
         },
         {
          "mean": 25.942925659472422,
          "strain": "A/Colorado/12/2019"
         },
         {
          "mean": 26.941966426858514,
          "strain": "A/SouthAustralia/44/2019"
         },
         {
          "mean": 27.870023980815347,
          "strain": "A/Missouri/25/2019"
         },
         {
          "mean": 27.85851318944844,
          "strain": "A/SouthCarolina/14/2019"
         },
         {
          "mean": 27.85851318944844,
          "strain": "A/SouthCarolina/13/2019"
         },
         {
          "mean": 28.82494004796163,
          "strain": "A/California/159/2019"
         },
         {
          "mean": 28.84124700239808,
          "strain": "A/Hawaii/42/2019"
         },
         {
          "mean": 28.849400479616307,
          "strain": "A/Florida/79/2019"
         },
         {
          "mean": 30.843165467625898,
          "strain": "A/Ohio/20/2019"
         },
         {
          "mean": 29.8484412470024,
          "strain": "A/Florida/80/2019"
         },
         {
          "mean": 27.916546762589928,
          "strain": "A/NorthDakota/25/2019"
         },
         {
          "mean": 27.921342925659474,
          "strain": "A/Brisbane/12/2019"
         },
         {
          "mean": 29.65611510791367,
          "strain": "A/Hawaii/36/2019"
         },
         {
          "mean": 28.22589928057554,
          "strain": "A/Victoria/2112/2019"
         },
         {
          "mean": 27.17841726618705,
          "strain": "A/Massachusetts/37/2018"
         },
         {
          "mean": 28.22350119904077,
          "strain": "A/Vietnam/243/2018"
         },
         {
          "mean": 28.225419664268586,
          "strain": "A/Vietnam/196/2018"
         },
         {
          "mean": 29.183213429256593,
          "strain": "A/Vietnam/241/2018"
         },
         {
          "mean": 28.892086330935253,
          "strain": "A/NewYork/41/2019"
         },
         {
          "mean": 28.106954436450838,
          "strain": "A/Jamaica/6191/2018"
         },
         {
          "mean": 26.12086330935252,
          "strain": "A/Jamaica/8211/2018"
         },
         {
          "mean": 29.799040767386092,
          "strain": "A/Arizona/29/2019"
         },
         {
          "mean": 28.669544364508393,
          "strain": "A/Makhachkala/RII-02/2019"
         },
         {
          "mean": 28.10359712230216,
          "strain": "A/Ulaanbaatar/1532/2019"
         },
         {
          "mean": 27.107434052757792,
          "strain": "A/Olgii/1723/2019"
         },
         {
          "mean": 28.921342925659474,
          "strain": "A/Ulaanbaatar/1835/2019"
         },
         {
          "mean": 26.198561151079137,
          "strain": "A/Newcastle/604/2019"
         },
         {
          "mean": 26.033573141486812,
          "strain": "A/SouthAustralia/8/2019"
         },
         {
          "mean": 27.022062350119903,
          "strain": "A/Sydney/8/2019"
         },
         {
          "mean": 29,
          "strain": "A/Sydney/12/2019"
         },
         {
          "mean": 26.939088729016788,
          "strain": "A/Macau/600004/2019"
         },
         {
          "mean": 26.937649880095922,
          "strain": "A/Tasmania/511/2019"
         },
         {
          "mean": 26.907913669064747,
          "strain": "A/Sydney/25/2019"
         },
         {
          "mean": 27.832134292565947,
          "strain": "A/SouthAustralia/36/2019"
         },
         {
          "mean": 28.831175059952038,
          "strain": "A/SouthAustralia/111/2019"
         },
         {
          "mean": 27.01966426858513,
          "strain": "A/SouthAustralia/1001/2019"
         },
         {
          "mean": 28.157314148681056,
          "strain": "A/SouthAustralia/77/2019"
         },
         {
          "mean": 27.907913669064747,
          "strain": "A/WallisAndFutuna/3/2019"
         },
         {
          "mean": 26.929976019184654,
          "strain": "A/Wellington/7/2019"
         },
         {
          "mean": 26.929976019184654,
          "strain": "A/Wellington/6/2019"
         },
         {
          "mean": 27.926139088729016,
          "strain": "A/Victoria/708/2019"
         },
         {
          "mean": 27.832134292565947,
          "strain": "A/SouthAustralia/189/2019"
         },
         {
          "mean": 28.271942446043166,
          "strain": "A/Perth/1008/2019"
         },
         {
          "mean": 27.0052757793765,
          "strain": "A/Belgium/G0389/2019"
         },
         {
          "mean": 26.813429256594723,
          "strain": "A/Norway/1971/2019"
         },
         {
          "mean": 69.27386091127099,
          "strain": "A/Newcastle/79/2018"
         },
         {
          "mean": 69.27386091127099,
          "strain": "A/Brisbane/1029/2018"
         },
         {
          "mean": 69.27386091127099,
          "strain": "A/Townsville/46/2018"
         },
         {
          "mean": 71.26474820143885,
          "strain": "A/Newcastle/158/2018"
         },
         {
          "mean": 30.954916067146282,
          "strain": "A/Utah/37/2019"
         },
         {
          "mean": 28.210071942446042,
          "strain": "A/SouthAustralia/39/2019"
         },
         {
          "mean": 31.942925659472422,
          "strain": "A/Florida/55/2019"
         },
         {
          "mean": 28.770263788968826,
          "strain": "A/Kagawa/19195/2019"
         },
         {
          "mean": 25.942925659472422,
          "strain": "A/Kanagawa/IC18161/2019"
         },
         {
          "mean": 25.942925659472422,
          "strain": "A/Aichi/2/2019"
         },
         {
          "mean": 25.942925659472422,
          "strain": "A/Tokyo/EH1805/2019"
         },
         {
          "mean": 25.942925659472422,
          "strain": "A/Kanagawa/ZC1844/2019"
         },
         {
          "mean": 25.942925659472422,
          "strain": "A/Osaka/93/2019"
         },
         {
          "mean": 26.751558752997603,
          "strain": "A/Nara/13/2019"
         },
         {
          "mean": 26.941007194244605,
          "strain": "A/Niigata/95/2019"
         },
         {
          "mean": 26.914148681055156,
          "strain": "A/Kanagawa/IC18159/2019"
         },
         {
          "mean": 26.940047961630697,
          "strain": "A/Kanagawa/IC18144/2019"
         },
         {
          "mean": 26.932374100719425,
          "strain": "A/Yokohama/158/2019"
         },
         {
          "mean": 26.941966426858514,
          "strain": "A/Kanagawa/IC1867/2019"
         },
         {
          "mean": 26.923741007194245,
          "strain": "A/Gunma/69/2019"
         },
         {
          "mean": 26.939568345323742,
          "strain": "A/Osaka/70/2019"
         },
         {
          "mean": 27.88297362110312,
          "strain": "A/Okayama/4/2019"
         },
         {
          "mean": 26.94148681055156,
          "strain": "A/Iwate/45/2019"
         },
         {
          "mean": 26.941007194244605,
          "strain": "A/Kanagawa/AC1829/2019"
         },
         {
          "mean": 27.859952038369304,
          "strain": "A/Kanagawa/AC1877/2019"
         },
         {
          "mean": 27.859952038369304,
          "strain": "A/Kanagawa/AC1876/2019"
         },
         {
          "mean": 28.85515587529976,
          "strain": "A/Kanagawa/AC1878/2019"
         },
         {
          "mean": 28.840287769784172,
          "strain": "A/Ehime/80/2019"
         },
         {
          "mean": 28.834052757793764,
          "strain": "A/PaysDeLoire/1981/2019"
         },
         {
          "mean": 28.709832134292565,
          "strain": "A/Tottori/5/2019"
         },
         {
          "mean": 26.01966426858513,
          "strain": "A/Paris/36/2019"
         },
         {
          "mean": 27.99760191846523,
          "strain": "A/Singapore/SGH0127/2019"
         },
         {
          "mean": 26.82158273381295,
          "strain": "A/Kanagawa/AC1883/2019"
         },
         {
          "mean": 26.01822541966427,
          "strain": "A/Sweden/53/2019"
         },
         {
          "mean": 27.016306954436452,
          "strain": "A/Tokyo/19063/2019"
         },
         {
          "mean": 27.82398081534772,
          "strain": "A/Fukushima/67/2019"
         },
         {
          "mean": 27.976498800959234,
          "strain": "A/Paris/177/2019"
         },
         {
          "mean": 28.005755395683455,
          "strain": "A/Iwate/19/2019"
         },
         {
          "mean": 27.01486810551559,
          "strain": "A/Kanagawa/IC18166/2019"
         },
         {
          "mean": 27.014388489208635,
          "strain": "A/Aomori/45/2019"
         },
         {
          "mean": 27.014388489208635,
          "strain": "A/Nagano-C/25/2019"
         },
         {
          "mean": 28.01294964028777,
          "strain": "A/Wakayama/23/2019"
         },
         {
          "mean": 28.99136690647482,
          "strain": "A/Finland/123/2019"
         },
         {
          "mean": 27.02302158273381,
          "strain": "A/Kanagawa/ZC1857/2019"
         },
         {
          "mean": 27.95875299760192,
          "strain": "A/Iran/171909/2019"
         },
         {
          "mean": 26.225419664268586,
          "strain": "A/Wakayama/97/2018"
         },
         {
          "mean": 27.034052757793766,
          "strain": "A/Wakayama/109/2018"
         },
         {
          "mean": 27.207194244604317,
          "strain": "A/Wakayama/100/2018"
         },
         {
          "mean": 26.222062350119906,
          "strain": "A/Mie/41/2018"
         },
         {
          "mean": 25.033573141486812,
          "strain": "A/Saitama/133/2018"
         },
         {
          "mean": 26.764028776978417,
          "strain": "A/Yamagata/119/2019"
         },
         {
          "mean": 26.245083932853717,
          "strain": "A/Singapore/MOH0159/2018"
         },
         {
          "mean": 26.245083932853717,
          "strain": "A/Singapore/MOH0157/2018"
         },
         {
          "mean": 28.216786570743405,
          "strain": "A/Singapore/GP0296/2019"
         },
         {
          "mean": 26.132374100719424,
          "strain": "A/Singapore/GP2196/2018"
         },
         {
          "mean": 26.132374100719424,
          "strain": "A/Singapore/GP0074/2019"
         },
         {
          "mean": 26.132374100719424,
          "strain": "A/Singapore/MOH0156/2018"
         },
         {
          "mean": 28.028776978417266,
          "strain": "A/Singapore/TT0069/2019"
         },
         {
          "mean": 27.12565947242206,
          "strain": "A/Yokohama/134/2018"
         },
         {
          "mean": 27.997122302158274,
          "strain": "A/Singapore/GP2151/2018"
         },
         {
          "mean": 28.114148681055156,
          "strain": "A/Singapore/MOH0015/2019"
         },
         {
          "mean": 28.114148681055156,
          "strain": "A/Singapore/MOH0020/2019"
         },
         {
          "mean": 29.104076738609113,
          "strain": "A/Singapore/KK0070/2019"
         },
         {
          "mean": 28.743405275779377,
          "strain": "A/Kumamoto-C/6/2019"
         },
         {
          "mean": 29.266666666666666,
          "strain": "A/Niigata-C/37/2019"
         },
         {
          "mean": 29.015347721822543,
          "strain": "A/Hyogo/1011/2019"
         },
         {
          "mean": 29.98800959232614,
          "strain": "A/HauteNormandie/1907/2019"
         },
         {
          "mean": 30.670983213429256,
          "strain": "A/Saga/93/2019"
         },
         {
          "mean": 29.920383693045565,
          "strain": "A/Nagano/2291/2019"
         },
         {
          "mean": 32.45275779376499,
          "strain": "A/Saitama/125/2019"
         },
         {
          "mean": 27.989928057553957,
          "strain": "A/Netherlands/10084/2019"
         },
         {
          "mean": 28.021103117505994,
          "strain": "A/Singapore/NTF0019/2019"
         },
         {
          "mean": 29.009112709832134,
          "strain": "A/Darwin/388/2019"
         },
         {
          "mean": 28.010071942446043,
          "strain": "A/Canberra/65/2019"
         },
         {
          "mean": 30.957314148681053,
          "strain": "A/Sydney/82/2019"
         },
         {
          "mean": 27.832134292565947,
          "strain": "A/Darwin/398/2019"
         },
         {
          "mean": 27.832134292565947,
          "strain": "A/Victoria/729/2019"
         },
         {
          "mean": 27.832134292565947,
          "strain": "A/Darwin/348/2019"
         },
         {
          "mean": 28.83021582733813,
          "strain": "A/Canberra/128/2019"
         },
         {
          "mean": 28.664268585131893,
          "strain": "A/Darwin/355/2019"
         },
         {
          "mean": 28.829736211031175,
          "strain": "A/Canberra/144/2019"
         },
         {
          "mean": 28.78800959232614,
          "strain": "A/Darwin/343/2019"
         },
         {
          "mean": 28.824460431654675,
          "strain": "A/Darwin/402/2019"
         },
         {
          "mean": 28.819664268585132,
          "strain": "A/Darwin/358/2019"
         },
         {
          "mean": 29.816306954436453,
          "strain": "A/Victoria/151/2019"
         },
         {
          "mean": 29.79136690647482,
          "strain": "A/Darwin/385/2019"
         },
         {
          "mean": 28.825419664268583,
          "strain": "A/Darwin/372/2019"
         },
         {
          "mean": 28.79712230215827,
          "strain": "A/Darwin/384/2019"
         },
         {
          "mean": 25.942925659472422,
          "strain": "A/Canberra/102/2019"
         },
         {
          "mean": 27.930455635491608,
          "strain": "A/SouthAustralia/1060/2019"
         },
         {
          "mean": 27.928537170263787,
          "strain": "A/Tasmania/542/2019"
         },
         {
          "mean": 26.937649880095922,
          "strain": "A/Tasmania/1009/2019"
         },
         {
          "mean": 24.25275779376499,
          "strain": "A/Brisbane/176/2018"
         },
         {
          "mean": 24.25275779376499,
          "strain": "A/Newcastle/83/2018"
         },
         {
          "mean": 28.87673860911271,
          "strain": "A/Darwin/489/2019"
         },
         {
          "mean": 29.825419664268583,
          "strain": "A/Darwin/374/2019"
         },
         {
          "mean": 25.24412470023981,
          "strain": "A/Brisbane/154/2018"
         },
         {
          "mean": 29.99040767386091,
          "strain": "A/Victoria/2515/2019"
         },
         {
          "mean": 28.99136690647482,
          "strain": "A/Darwin/459/2019"
         },
         {
          "mean": 29.96978417266187,
          "strain": "A/Canberra/66/2019"
         },
         {
          "mean": 31.66906474820144,
          "strain": "A/Darwin/470/2019"
         },
         {
          "mean": 31.66906474820144,
          "strain": "A/Darwin/482/2019"
         },
         {
          "mean": 31.66906474820144,
          "strain": "A/Darwin/479/2019"
         },
         {
          "mean": 32.658992805755396,
          "strain": "A/Victoria/48/2019"
         },
         {
          "mean": 27.832134292565947,
          "strain": "A/Darwin/394/2019"
         },
         {
          "mean": 25.24076738609113,
          "strain": "A/Victoria/2051/2018"
         },
         {
          "mean": 30.823021582733812,
          "strain": "A/Victoria/67/2019"
         },
         {
          "mean": 27.832134292565947,
          "strain": "A/SouthAustralia/1028/2019"
         },
         {
          "mean": 28.157314148681056,
          "strain": "A/Netherlands/452/2019"
         },
         {
          "mean": 27.959232613908874,
          "strain": "A/Netherlands/1167/2019"
         },
         {
          "mean": 26.021103117505994,
          "strain": "A/Khabarovsk/1/2018"
         },
         {
          "mean": 28.00623501199041,
          "strain": "A/StPetersburg/RII-4208S/2019"
         },
         {
          "mean": 27.016786570743406,
          "strain": "A/Fujian-Meilie/182/2019"
         },
         {
          "mean": 24.25275779376499,
          "strain": "A/Chongqing-Yuzhong/11841/2018"
         },
         {
          "mean": 26.23213429256595,
          "strain": "A/Anhui-Langya/1176/2019"
         },
         {
          "mean": 26.217745803357314,
          "strain": "A/Shandong-Rencheng/1401/2019"
         },
         {
          "mean": 26.03453237410072,
          "strain": "A/Gansu-Chengguan/1321/2019"
         },
         {
          "mean": 27.020143884892086,
          "strain": "A/Sichuan-Chuanshan/12957/2018"
         },
         {
          "mean": 26.985611510791365,
          "strain": "A/Cardiff/9254/2019"
         },
         {
          "mean": 26.985611510791365,
          "strain": "A/Neath/3346/2019"
         },
         {
          "mean": 27.95875299760192,
          "strain": "A/Zhejiang-Nanhu/1108/2019"
         },
         {
          "mean": 26.928057553956833,
          "strain": "A/Fujian-Tongan/1958/2018"
         },
         {
          "mean": 27.012470023980814,
          "strain": "A/Shanghai-Huangpu/11325/2018"
         },
         {
          "mean": 27.045563549160672,
          "strain": "A/StPetersburg/RII-4534S/2019"
         },
         {
          "mean": 25.942925659472422,
          "strain": "A/BurryPort/1014/2019"
         },
         {
          "mean": 25.942925659472422,
          "strain": "A/BurryPort/8088/2019"
         },
         {
          "mean": 25.942925659472422,
          "strain": "A/Macau/600113/2019"
         },
         {
          "mean": 26.873860911270985,
          "strain": "A/Usk/3845/2019"
         },
         {
          "mean": 26.873860911270985,
          "strain": "A/Usk/3848/2019"
         },
         {
          "mean": 28.87769784172662,
          "strain": "A/Macau/600980/2019"
         },
         {
          "mean": 28.90599520383693,
          "strain": "A/MerthyrTydfil/3219/2019"
         },
         {
          "mean": 27.828776978417267,
          "strain": "A/Shandong-Qingzhou/36/2019"
         },
         {
          "mean": 26.920383693045565,
          "strain": "A/Guizhou-Qingzhen/1110/2019"
         },
         {
          "mean": 29.573621103117507,
          "strain": "A/Hunan-Changsha/37/2019"
         },
         {
          "mean": 29.787529976019183,
          "strain": "A/Hunan-Yongding/1221/2019"
         },
         {
          "mean": 31.473860911270982,
          "strain": "A/Hebei-Haigang/1203/2019"
         },
         {
          "mean": 28.59232613908873,
          "strain": "A/Anhui-Baohe/1115/2019"
         },
         {
          "mean": 28.708393285371702,
          "strain": "A/Anhui-Jiujiang/32/2019"
         },
         {
          "mean": 27.2378896882494,
          "strain": "A/Hunan-Tianyuan/12109/2018"
         },
         {
          "mean": 29.89832134292566,
          "strain": "A/Hainan-Wenchang/1358/2019"
         },
         {
          "mean": 29.767386091127097,
          "strain": "A/Anhui-Xuanzhou/1433/2019"
         },
         {
          "mean": 30.77745803357314,
          "strain": "A/Jiangxi-Zhushan/1171/2019"
         },
         {
          "mean": 28.021103117505994,
          "strain": "A/Cardiff/9171/2019"
         },
         {
          "mean": 28.99904076738609,
          "strain": "A/Guangdong-Dongwanbendi/315/2019"
         },
         {
          "mean": 27.91558752997602,
          "strain": "A/Macau/600141/2019"
         },
         {
          "mean": 30.877218225419664,
          "strain": "A/Newport/3632/2019"
         },
         {
          "mean": 28.961630695443645,
          "strain": "A/Syktyvkar/RII-4256S/2019"
         },
         {
          "mean": 28.044604316546764,
          "strain": "A/Guangdong-Huicheng/1404/2019"
         },
         {
          "mean": 25.942925659472422,
          "strain": "A/Newport/3754/2019"
         },
         {
          "mean": 26.01966426858513,
          "strain": "A/StAsaph/5604/2019"
         },
         {
          "mean": 26.873860911270985,
          "strain": "A/Usk/3851/2019"
         },
         {
          "mean": 29.88872901678657,
          "strain": "A/StPetersburg/RII-4812S/2019"
         },
         {
          "mean": 30.931414868105517,
          "strain": "A/StPetersburg/RII-4025S/2019"
         },
         {
          "mean": 28.919424460431653,
          "strain": "A/Canterbury/13/2019"
         },
         {
          "mean": 73.94772182254196,
          "strain": "A/Ontario/RV2239/2019"
         },
         {
          "mean": 72.73141486810552,
          "strain": "A/Saskatchewan/RV2240/2019"
         },
         {
          "mean": 73.71318944844124,
          "strain": "A/Saskatchewan/RV2242/2019"
         },
         {
          "mean": 73.54004796163069,
          "strain": "A/Saskatchewan/RV2243/2019"
         },
         {
          "mean": 73.54004796163069,
          "strain": "A/Saskatchewan/RV2241/2019"
         },
         {
          "mean": 75.64172661870504,
          "strain": "A/Ontario/RV2297/2019"
         },
         {
          "mean": 73.63405275779377,
          "strain": "A/Ontario/RV2371/2019"
         },
         {
          "mean": 72.45947242206235,
          "strain": "A/Ontario/RV2380/2019"
         },
         {
          "mean": 54.1621103117506,
          "strain": "A/Usk/3849/2019"
         },
         {
          "mean": 43.02254196642686,
          "strain": "A/Netherlands/10187/2019"
         },
         {
          "mean": 29.952997601918465,
          "strain": "A/Concepcion/50561/2019"
         },
         {
          "mean": 29.97170263788969,
          "strain": "A/Concepcion/50492/2019"
         },
         {
          "mean": 28.81294964028777,
          "strain": "A/Santiago/49299/2019"
         },
         {
          "mean": 29.199520383693045,
          "strain": "A/NewCaledonia/37/2019"
         },
         {
          "mean": 29.198081534772182,
          "strain": "A/Singapore/GP2155/2018"
         },
         {
          "mean": 32.145323741007196,
          "strain": "A/Thuringen/116/2019"
         },
         {
          "mean": 32.729976019184654,
          "strain": "A/Kanagawa/AC1880/2019"
         },
         {
          "mean": 32.61678657074341,
          "strain": "A/Kanagawa/ZC1861/2019"
         },
         {
          "mean": 76.56019184652278,
          "strain": "A/Ontario/RV2379/2019"
         },
         {
          "mean": 28.67769784172662,
          "strain": "A/AbuDhabi/123/2018"
         },
         {
          "mean": 28.67769784172662,
          "strain": "A/Oman/2163/2019"
         },
         {
          "mean": 28.67769784172662,
          "strain": "A/Connecticut/33/2018"
         },
         {
          "mean": 28.67769784172662,
          "strain": "A/Bahrain/689/2018"
         },
         {
          "mean": 28.67769784172662,
          "strain": "A/Kuwait/6418/2018"
         },
         {
          "mean": 27.717505995203837,
          "strain": "A/Maldives/932/2018"
         },
         {
          "mean": 27.717505995203837,
          "strain": "A/Maldives/386/2018"
         },
         {
          "mean": 27.717505995203837,
          "strain": "A/Maldives/931/2018"
         },
         {
          "mean": 27.717505995203837,
          "strain": "A/Maldives/964/2018"
         },
         {
          "mean": 28.710791366906474,
          "strain": "A/Maldives/343/2018"
         },
         {
          "mean": 28.710791366906474,
          "strain": "A/Maldives/486/2018"
         },
         {
          "mean": 28.710791366906474,
          "strain": "A/Maldives/925/2018"
         },
         {
          "mean": 28.715107913669065,
          "strain": "A/Maldives/657/2018"
         },
         {
          "mean": 29.670983213429256,
          "strain": "A/AbuDhabi/97/2018"
         },
         {
          "mean": 29.67386091127098,
          "strain": "A/AbuDhabi/116/2018"
         },
         {
          "mean": 29.656594724220625,
          "strain": "A/Wisconsin/103/2018"
         },
         {
          "mean": 29.656594724220625,
          "strain": "A/AbuDhabi/117/2018"
         },
         {
          "mean": 29.78369304556355,
          "strain": "A/AbuDhabi/133/2018"
         },
         {
          "mean": 29.657553956834533,
          "strain": "A/AbuDhabi/114/2018"
         },
         {
          "mean": 30.64220623501199,
          "strain": "A/AbuDhabi/115/2018"
         },
         {
          "mean": 29.67673860911271,
          "strain": "A/AbuDhabi/98/2018"
         },
         {
          "mean": 30.6484412470024,
          "strain": "A/AbuDhabi/12/2019"
         },
         {
          "mean": 29.673381294964027,
          "strain": "A/AbuDhabi/7/2019"
         },
         {
          "mean": 30.66187050359712,
          "strain": "A/AbuDhabi/128/2018"
         },
         {
          "mean": 30.66187050359712,
          "strain": "A/AbuDhabi/129/2018"
         },
         {
          "mean": 32.659952038369305,
          "strain": "A/AbuDhabi/111/2018"
         },
         {
          "mean": 28.716067146282974,
          "strain": "A/Maldives/980/2018"
         },
         {
          "mean": 28.714148681055157,
          "strain": "A/Maldives/810/2018"
         },
         {
          "mean": 30.6,
          "strain": "A/AbuDhabi/1/2019"
         },
         {
          "mean": 29.64460431654676,
          "strain": "A/Kuwait/6414/2018"
         },
         {
          "mean": 29.64460431654676,
          "strain": "A/Maldives/340/2018"
         },
         {
          "mean": 29.64460431654676,
          "strain": "A/Maldives/993/2018"
         },
         {
          "mean": 29.64460431654676,
          "strain": "A/Maldives/462/2018"
         },
         {
          "mean": 29.64460431654676,
          "strain": "A/Bahrain/506/2018"
         },
         {
          "mean": 30.632134292565947,
          "strain": "A/NorthDakota/38/2018"
         },
         {
          "mean": 32.59088729016786,
          "strain": "A/Kuwait/6434/2018"
         },
         {
          "mean": 31.563549160671464,
          "strain": "A/Kyiv/484/2018"
         },
         {
          "mean": 29.71031175059952,
          "strain": "A/Maldives/1001/2018"
         },
         {
          "mean": 31.631654676258993,
          "strain": "A/Kuwait/743/2019"
         },
         {
          "mean": 30.539088729016786,
          "strain": "A/AbuDhabi/127/2018"
         },
         {
          "mean": 31.64748201438849,
          "strain": "A/AbuDhabi/125/2018"
         },
         {
          "mean": 32.5779376498801,
          "strain": "A/AbuDhabi/132/2018"
         },
         {
          "mean": 30.665227817745805,
          "strain": "A/Kuwait/6433/2018"
         },
         {
          "mean": 31.58273381294964,
          "strain": "A/Maldives/941/2018"
         },
         {
          "mean": 32.44748201438849,
          "strain": "A/AbuDhabi/8/2019"
         },
         {
          "mean": 31.626858513189447,
          "strain": "A/AbuDhabi/19/2019"
         },
         {
          "mean": 32.60191846522782,
          "strain": "A/Oman/2593/2019"
         },
         {
          "mean": 32.64556354916067,
          "strain": "A/BurkinaFaso/1077/2018"
         },
         {
          "mean": 33.625419664268584,
          "strain": "A/BurkinaFaso/2467/2019"
         },
         {
          "mean": 31.706474820143885,
          "strain": "A/CoteDIvoire/650/2019"
         },
         {
          "mean": 32.70215827338129,
          "strain": "A/CoteDIvoire/648/2019"
         },
         {
          "mean": 35.42685851318945,
          "strain": "A/AbuDhabi/6/2019"
         },
         {
          "mean": 36.544364508393286,
          "strain": "A/Delaware/41/2019"
         },
         {
          "mean": 36.544364508393286,
          "strain": "A/Delaware/42/2019"
         },
         {
          "mean": 75.7621103117506,
          "strain": "A/SriLanka/1/2019"
         },
         {
          "mean": 74.76306954436451,
          "strain": "A/SriLanka/60/2018"
         },
         {
          "mean": 74.76354916067146,
          "strain": "A/SriLanka/59/2018"
         },
         {
          "mean": 75.70695443645084,
          "strain": "A/SriLanka/2/2019"
         },
         {
          "mean": 75.63117505995204,
          "strain": "A/Brisbane/1028/2018"
         },
         {
          "mean": 33.522302158273384,
          "strain": "A/Darwin/61/2019"
         },
         {
          "mean": 34.50359712230216,
          "strain": "A/Netherlands/564/2019"
         },
         {
          "mean": 31.566906474820144,
          "strain": "A/Netherlands/581/2019"
         },
         {
          "mean": 31.579856115107912,
          "strain": "A/Singapore/KK0291/2019"
         },
         {
          "mean": 33.35251798561151,
          "strain": "A/Singapore/TT0110/2019"
         },
         {
          "mean": 30.62925659472422,
          "strain": "A/Paris/2315/2018"
         },
         {
          "mean": 29.64460431654676,
          "strain": "A/England/e2hta2ptY21mag/2018"
         },
         {
          "mean": 30.640767386091127,
          "strain": "A/HongKong/2500/2018"
         },
         {
          "mean": 33.867625899280576,
          "strain": "A/Shimane/35/2018"
         },
         {
          "mean": 32.59136690647482,
          "strain": "A/Oman/5756/2018"
         },
         {
          "mean": 30.667146282973622,
          "strain": "A/Iran/168336/2019"
         },
         {
          "mean": 29.37745803357314,
          "strain": "A/Greece/1430/2018"
         },
         {
          "mean": 31.56115107913669,
          "strain": "A/Egypt/6213/2018"
         },
         {
          "mean": 30.664268585131893,
          "strain": "A/CoteDIvoire/2268/2018"
         },
         {
          "mean": 32.66187050359712,
          "strain": "A/Singapore/KK0261/2019"
         },
         {
          "mean": 34.317026378896884,
          "strain": "A/Singapore/TT1183/2018"
         },
         {
          "mean": 37.18896882494005,
          "strain": "A/Niigata/165/2019"
         },
         {
          "mean": 30.665227817745805,
          "strain": "A/Victoria/23/2018"
         },
         {
          "mean": 32.618705035971225,
          "strain": "A/Lyon/124/2019"
         },
         {
          "mean": 77.47913669064748,
          "strain": "A/Ontario/RV2295/2019"
         },
         {
          "mean": 31.78273381294964,
          "strain": "A/Norway/4436/2016"
         },
         {
          "mean": 41.00575539568345,
          "strain": "A/Norway/3806/2016"
         },
         {
          "mean": 41.172661870503596,
          "strain": "A/Singapore/GP2021/2018"
         },
         {
          "mean": 40.17458033573141,
          "strain": "A/Singapore/GP2022/2018"
         },
         {
          "mean": 40.17074340527578,
          "strain": "A/HongKong/1247/2018"
         },
         {
          "mean": 40.752997601918466,
          "strain": "A/Yokohama/112/2018"
         },
         {
          "mean": 41.003836930455634,
          "strain": "A/Singapore/TT0754/2018"
         },
         {
          "mean": 41.003836930455634,
          "strain": "A/HongKong/1201/2018"
         },
         {
          "mean": 43.80815347721823,
          "strain": "A/Portugal/38/2018"
         },
         {
          "mean": 44.69352517985612,
          "strain": "A/Singapore/GP0245/2019"
         },
         {
          "mean": 44.94820143884892,
          "strain": "A/Myanmar/18M308/2018"
         },
         {
          "mean": 42.80959232613909,
          "strain": "A/Niger/6800/2019"
         },
         {
          "mean": 42.80959232613909,
          "strain": "A/Minnesota/47/2018"
         },
         {
          "mean": 43.759712230215825,
          "strain": "A/BurkinaFaso/1110/2019"
         },
         {
          "mean": 43.45659472422062,
          "strain": "A/Brunei/16/2019"
         },
         {
          "mean": 43.98513189448441,
          "strain": "A/Oman/898/2019"
         },
         {
          "mean": 86.2820143884892,
          "strain": "A/Brisbane/168/2018"
         },
         {
          "mean": 47.80863309352518,
          "strain": "A/Oman/939/2019"
         },
         {
          "mean": 37.199040767386094,
          "strain": "A/Cardiff/7156/2017"
         },
         {
          "mean": 34.51702637889688,
          "strain": "A/HongKong/4818/2017"
         },
         {
          "mean": 33.6052757793765,
          "strain": "A/Cambodia/1013/2017"
         },
         {
          "mean": 33.6052757793765,
          "strain": "A/Washington/295/2017"
         },
         {
          "mean": 34.57026378896882,
          "strain": "A/BurkinaFaso/827/2018"
         },
         {
          "mean": 35.58513189448441,
          "strain": "A/HongKong/4822/2017"
         },
         {
          "mean": 34.59376498800959,
          "strain": "A/Iowa/26/2017"
         },
         {
          "mean": 36.5779376498801,
          "strain": "A/Ulaanbaatar/2863/2017"
         },
         {
          "mean": 36.5779376498801,
          "strain": "A/Choibalsan/2919/2017"
         },
         {
          "mean": 36.5779376498801,
          "strain": "A/Choibalsan/2929/2017"
         },
         {
          "mean": 36.5779376498801,
          "strain": "A/Choibalsan/3093/2017"
         },
         {
          "mean": 35.413429256594725,
          "strain": "A/Florida/60/2017"
         },
         {
          "mean": 35.59760191846523,
          "strain": "A/SierraLeone/193/2017"
         },
         {
          "mean": 34.08968824940048,
          "strain": "A/Ontario/RV2301/2017"
         },
         {
          "mean": 35.56978417266187,
          "strain": "A/Virginia/33/2017"
         },
         {
          "mean": 38.55587529976019,
          "strain": "A/HongKong/4994/2017"
         },
         {
          "mean": 38.55587529976019,
          "strain": "A/HongKong/7228/2017"
         },
         {
          "mean": 37.57074340527578,
          "strain": "A/Russia/329/2017"
         },
         {
          "mean": 36.52038369304557,
          "strain": "A/Lao/3913/2017"
         },
         {
          "mean": 39.13189448441247,
          "strain": "A/Congo/2/2019"
         },
         {
          "mean": 38.257553956834535,
          "strain": "A/Congo/732/2018"
         },
         {
          "mean": 40.034052757793766,
          "strain": "A/Congo/422/2018"
         },
         {
          "mean": 41.22158273381295,
          "strain": "A/Congo/416/2018"
         },
         {
          "mean": 38.04028776978417,
          "strain": "A/Congo/717/2018"
         },
         {
          "mean": 37.97745803357314,
          "strain": "A/Congo/319/2018"
         },
         {
          "mean": 38.973141486810555,
          "strain": "A/Congo/293/2018"
         },
         {
          "mean": 37.00815347721822,
          "strain": "A/Congo/357/2018"
         },
         {
          "mean": 36.38177458033573,
          "strain": "A/StPetersburg/RII-419/2018"
         },
         {
          "mean": 38.410071942446045,
          "strain": "A/HongKong/4983/2017"
         },
         {
          "mean": 38.18896882494005,
          "strain": "A/Ethiopia/1871/2017"
         },
         {
          "mean": 39.13381294964029,
          "strain": "A/Ethiopia/2458/2017"
         },
         {
          "mean": 37.20623501199041,
          "strain": "A/Ethiopia/1866/2017"
         },
         {
          "mean": 41.08441247002398,
          "strain": "A/Ethiopia/1877/2017"
         },
         {
          "mean": 34.255155875299764,
          "strain": "A/Ethiopia/2457/2017"
         },
         {
          "mean": 31.378896882494004,
          "strain": "A/California/179/2016"
         },
         {
          "mean": 32.24796163069544,
          "strain": "A/Maryland/23/2016"
         },
         {
          "mean": 36.03309352517986,
          "strain": "A/Brazil/8285/2017"
         },
         {
          "mean": 39.11270983213429,
          "strain": "A/Tanzania/2941/2018"
         },
         {
          "mean": 34.80191846522782,
          "strain": "A/Togo/1046/2017"
         },
         {
          "mean": 37.25419664268585,
          "strain": "A/Parana/929/2017"
         },
         {
          "mean": 39.747242206235015,
          "strain": "A/PuertoRico/12/2018"
         },
         {
          "mean": 38.15731414868105,
          "strain": "A/AbuDhabi/15/2018"
         },
         {
          "mean": 42.05755395683453,
          "strain": "A/Kenya/164/2018"
         },
         {
          "mean": 41.077218225419664,
          "strain": "A/Kenya/165/2018"
         },
         {
          "mean": 40.23741007194245,
          "strain": "A/Brazil/6791/2017"
         },
         {
          "mean": 41.23836930455636,
          "strain": "A/Brazil/3870/2017"
         },
         {
          "mean": 38.46570743405276,
          "strain": "A/Niger/5360/2017"
         },
         {
          "mean": 37.47242206235012,
          "strain": "A/Niger/5361/2017"
         },
         {
          "mean": 34.49832134292566,
          "strain": "A/Missouri/30/2017"
         },
         {
          "mean": 37.43117505995204,
          "strain": "A/Niger/5297/2017"
         },
         {
          "mean": 38.43836930455635,
          "strain": "A/Nigeria/3608/2018"
         },
         {
          "mean": 38.34388489208633,
          "strain": "A/Nigeria/3620/2018"
         },
         {
          "mean": 37.82206235011991,
          "strain": "A/CoteDIvoire/1632/2017"
         },
         {
          "mean": 37.82206235011991,
          "strain": "A/Niger/5283/2017"
         },
         {
          "mean": 37.82206235011991,
          "strain": "A/Niger/5256/2017"
         },
         {
          "mean": 37.82206235011991,
          "strain": "A/CoteDIvoire/1580/2017"
         },
         {
          "mean": 37.176019184652276,
          "strain": "A/Niger/5311/2017"
         },
         {
          "mean": 39.28201438848921,
          "strain": "A/BurkinaFaso/972/2018"
         },
         {
          "mean": 40.28968824940048,
          "strain": "A/BurkinaFaso/2445/2018"
         },
         {
          "mean": 39.64124700239808,
          "strain": "A/BurkinaFaso/1442/2019"
         },
         {
          "mean": 38.41774580335731,
          "strain": "A/Cameroon/9162/2017"
         },
         {
          "mean": 38.41774580335731,
          "strain": "A/Cameroon/9402/2017"
         },
         {
          "mean": 39.40911270983214,
          "strain": "A/Cameroon/9521/2017"
         },
         {
          "mean": 37.93573141486811,
          "strain": "A/Cameroon/9153/2017"
         },
         {
          "mean": 36.476258992805754,
          "strain": "A/Cameroon/9537/2017"
         },
         {
          "mean": 36.79568345323741,
          "strain": "A/Singapore/GP2439/2017"
         },
         {
          "mean": 36.25179856115108,
          "strain": "A/Singapore/KK1298/2017"
         },
         {
          "mean": 36.25179856115108,
          "strain": "A/Singapore/TT1740/2017"
         },
         {
          "mean": 36.25179856115108,
          "strain": "A/Singapore/GP2430/2017"
         },
         {
          "mean": 34.56067146282974,
          "strain": "A/Kanagawa/208/2017"
         },
         {
          "mean": 35.27961630695444,
          "strain": "A/Beijing-Haidian/14/2018"
         },
         {
          "mean": 35.16642685851319,
          "strain": "A/Qinghai-Chengdong/1768/2017"
         },
         {
          "mean": 36.34916067146283,
          "strain": "A/Kanagawa/213/2017"
         },
         {
          "mean": 36.34916067146283,
          "strain": "A/Kanagawa/212/2017"
         },
         {
          "mean": 35.354916067146284,
          "strain": "A/Boras/1/2017"
         },
         {
          "mean": 35.533812949640286,
          "strain": "A/Kanagawa/215/2017"
         },
         {
          "mean": 35.533812949640286,
          "strain": "A/Yokohama/150/2017"
         },
         {
          "mean": 37.531414868105514,
          "strain": "A/Miyazaki/115/2017"
         },
         {
          "mean": 35.52997601918465,
          "strain": "A/Hubei-Dongbao/1631/2017"
         },
         {
          "mean": 34.38609112709832,
          "strain": "A/Shanghai-Chongming/1906/2017"
         },
         {
          "mean": 34.51702637889688,
          "strain": "A/Shanxi-Yingze/1692/2017"
         },
         {
          "mean": 34.57026378896882,
          "strain": "A/HongKong/4986/2017"
         },
         {
          "mean": 35.34820143884892,
          "strain": "A/Guizhou-Xixiu/1777/2017"
         },
         {
          "mean": 34.60191846522782,
          "strain": "A/Tokyo/17327/2017"
         },
         {
          "mean": 34.65467625899281,
          "strain": "A/Niigata/767/2017"
         },
         {
          "mean": 34.62254196642686,
          "strain": "A/Niigata/771/2017"
         },
         {
          "mean": 36.64988009592326,
          "strain": "A/Niigata/766/2017"
         },
         {
          "mean": 35.6431654676259,
          "strain": "A/Yunnan-Mengzi/1724/2017"
         },
         {
          "mean": 34.65515587529976,
          "strain": "A/Kochi/9/2018"
         },
         {
          "mean": 34.765467625899284,
          "strain": "A/Toulon/2533/2017"
         },
         {
          "mean": 32.97505995203837,
          "strain": "A/AixEnProvence/2064/2017"
         },
         {
          "mean": 33.79136690647482,
          "strain": "A/Marseille/2195/2017"
         },
         {
          "mean": 38.55587529976019,
          "strain": "A/HongKong/4995/2017"
         },
         {
          "mean": 37.568345323741006,
          "strain": "A/England/74000492/2017"
         },
         {
          "mean": 36.51702637889688,
          "strain": "A/Hubei-Xiling/37/2017"
         },
         {
          "mean": 38.43597122302158,
          "strain": "A/Paris/1825/2018"
         },
         {
          "mean": 41.209112709832134,
          "strain": "A/Cameroon/9010/2018"
         },
         {
          "mean": 39.24508393285372,
          "strain": "A/Cameroon/8919/2018"
         },
         {
          "mean": 39.24508393285372,
          "strain": "A/Cameroon/8915/2018"
         },
         {
          "mean": 41.18225419664269,
          "strain": "A/Cameroon/9207/2018"
         },
         {
          "mean": 41.21438848920863,
          "strain": "A/Cameroon/9319/2018"
         },
         {
          "mean": 42.94532374100719,
          "strain": "A/Cameroon/9278/2018"
         },
         {
          "mean": 39.52997601918465,
          "strain": "A/Shizuoka-C/39/2017"
         },
         {
          "mean": 33.59856115107914,
          "strain": "A/Netherlands/3421/2017"
         },
         {
          "mean": 46.9726618705036,
          "strain": "A/BadenWurttemberg/254/2017"
         },
         {
          "mean": 33.25707434052758,
          "strain": "A/Singapore/TT1374/2016"
         },
         {
          "mean": 33.27913669064748,
          "strain": "A/Finland/788/2017"
         },
         {
          "mean": 33.121822541966424,
          "strain": "A/Ghana/2717/2017"
         },
         {
          "mean": 34.80191846522782,
          "strain": "A/Ghana/832/2017"
         },
         {
          "mean": 37.48489208633094,
          "strain": "A/England/73520174/2017"
         },
         {
          "mean": 37.48489208633094,
          "strain": "A/England/73520179/2017"
         },
         {
          "mean": 39.16498800959233,
          "strain": "A/Liaoning-Shuangta/1224/2018"
         },
         {
          "mean": 34.59856115107914,
          "strain": "A/Brisbane/1098/2017"
         },
         {
          "mean": 34.601438848920864,
          "strain": "A/Victoria/724/2017"
         },
         {
          "mean": 37.188489208633094,
          "strain": "A/Brisbane/8/2018"
         },
         {
          "mean": 38.579856115107916,
          "strain": "A/Ekaterinburg/RII-4774S/2018"
         },
         {
          "mean": 36.56498800959233,
          "strain": "A/Shanghai-Pudongxin/1416/2018"
         },
         {
          "mean": 35.64988009592326,
          "strain": "A/Zhejiang-Shangcheng/1153/2018"
         },
         {
          "mean": 38.32565947242206,
          "strain": "A/SriLanka/101/2017"
         },
         {
          "mean": 36.23884892086331,
          "strain": "A/SriLanka/88/2017"
         },
         {
          "mean": 43.0431654676259,
          "strain": "A/Brisbane/203/2017"
         },
         {
          "mean": 39.07482014388489,
          "strain": "A/Jordan/1138/2017"
         },
         {
          "mean": 39.05179856115108,
          "strain": "A/Cameroon/4372/2018"
         },
         {
          "mean": 42.027817745803354,
          "strain": "A/Mexico/220/2018"
         },
         {
          "mean": 41.368824940047965,
          "strain": "A/Niigata/888/2017"
         },
         {
          "mean": 40.60431654676259,
          "strain": "A/Aichi/343/2017"
         },
         {
          "mean": 40.601438848920864,
          "strain": "A/Okinawa/64/2017"
         },
         {
          "mean": 39.51031175059952,
          "strain": "A/Vaxjo/1/2017"
         },
         {
          "mean": 37.54676258992806,
          "strain": "A/England/73660229/2017"
         },
         {
          "mean": 38.52661870503597,
          "strain": "A/Victoria/118/2017"
         },
         {
          "mean": 39.51127098321343,
          "strain": "A/Victoria/962/2017"
         },
         {
          "mean": 43.49304556354916,
          "strain": "A/Lithuania/MB33993/2018"
         },
         {
          "mean": 39.54148681055156,
          "strain": "A/Tasmania/76/2017"
         },
         {
          "mean": 40.521342925659475,
          "strain": "A/Victoria/632/2017"
         },
         {
          "mean": 42.32661870503597,
          "strain": "A/Canberra/70/2017"
         },
         {
          "mean": 39.454676258992805,
          "strain": "A/Brisbane/32/2017"
         },
         {
          "mean": 38.49208633093525,
          "strain": "A/Brisbane/29/2017"
         },
         {
          "mean": 37.556834532374104,
          "strain": "A/Bangladesh/1246/2017"
         },
         {
          "mean": 37.899760191846525,
          "strain": "A/AbuDhabi/24/2017"
         },
         {
          "mean": 56.700239808153476,
          "strain": "A/Georgia/42/2018"
         },
         {
          "mean": 56.700239808153476,
          "strain": "A/Georgia/37/2018"
         },
         {
          "mean": 56.700239808153476,
          "strain": "A/RhodeIsland/9/2019"
         },
         {
          "mean": 56.700239808153476,
          "strain": "A/Georgia/43/2018"
         },
         {
          "mean": 57.694484412470025,
          "strain": "A/Georgia/40/2018"
         },
         {
          "mean": 57.69928057553957,
          "strain": "A/Georgia/38/2018"
         },
         {
          "mean": 57.69304556354916,
          "strain": "A/Georgia/39/2018"
         },
         {
          "mean": 57.69352517985612,
          "strain": "A/Minnesota/33/2019"
         },
         {
          "mean": 57.68489208633093,
          "strain": "A/California/124/2018"
         },
         {
          "mean": 58.682973621103116,
          "strain": "A/Hawaii/17/2019"
         },
         {
          "mean": 58.69640287769784,
          "strain": "A/Georgia/41/2018"
         },
         {
          "mean": 58.67865707434053,
          "strain": "A/Connecticut/31/2019"
         },
         {
          "mean": 58.67817745803357,
          "strain": "A/Maryland/2/2019"
         },
         {
          "mean": 57.76834532374101,
          "strain": "A/Suriname/607/2019"
         },
         {
          "mean": 57.76834532374101,
          "strain": "A/Suriname/606/2019"
         },
         {
          "mean": 56.790887290167866,
          "strain": "A/Suriname/601/2019"
         },
         {
          "mean": 56.790887290167866,
          "strain": "A/Suriname/500/2019"
         },
         {
          "mean": 57.7673860911271,
          "strain": "A/California/113/2019"
         },
         {
          "mean": 60.54100719424461,
          "strain": "A/Bolivia/576/2019"
         },
         {
          "mean": 59.65515587529976,
          "strain": "A/Bolivia/544/2019"
         },
         {
          "mean": 58.65803357314149,
          "strain": "A/Bolivia/563/2019"
         },
         {
          "mean": 58.65803357314149,
          "strain": "A/Bolivia/586/2019"
         },
         {
          "mean": 59.632613908872905,
          "strain": "A/DistrictOfColumbia/35/2019"
         },
         {
          "mean": 58.65131894484413,
          "strain": "A/Utah/36/2019"
         },
         {
          "mean": 58.65131894484413,
          "strain": "A/NewMexico/5/2019"
         },
         {
          "mean": 58.65131894484413,
          "strain": "A/Washington/225/2018"
         },
         {
          "mean": 59.64412470023981,
          "strain": "A/Louisiana/11/2019"
         },
         {
          "mean": 59.60959232613909,
          "strain": "A/Colombia/4015/2019"
         },
         {
          "mean": 59.60959232613909,
          "strain": "A/Colombia/3900/2019"
         },
         {
          "mean": 59.60959232613909,
          "strain": "A/Colombia/4010/2019"
         },
         {
          "mean": 59.60959232613909,
          "strain": "A/Colombia/3977/2019"
         },
         {
          "mean": 59.60959232613909,
          "strain": "A/Colombia/4016/2019"
         },
         {
          "mean": 61.63021582733813,
          "strain": "A/Oklahoma/20/2019"
         },
         {
          "mean": 59.781294964028774,
          "strain": "A/Kansas/26/2019"
         },
         {
          "mean": 60.62829736211031,
          "strain": "A/Mississippi/11/2019"
         },
         {
          "mean": 62.58369304556355,
          "strain": "A/Hawaii/48/2019"
         },
         {
          "mean": 61.59760191846523,
          "strain": "A/Hawaii/30/2019"
         },
         {
          "mean": 59.389448441247005,
          "strain": "A/Louisiana/14/2019"
         },
         {
          "mean": 58.69016786570744,
          "strain": "A/Georgia/44/2018"
         },
         {
          "mean": 56.76978417266187,
          "strain": "A/Bolivia/3906/2018"
         },
         {
          "mean": 57.76354916067146,
          "strain": "A/Oregon/12/2019"
         },
         {
          "mean": 54.94052757793765,
          "strain": "A/Santiago/103167/2018"
         },
         {
          "mean": 54.94052757793765,
          "strain": "A/Santiago/103008/2018"
         },
         {
          "mean": 55.88345323741007,
          "strain": "A/Macedonia/1430/2019"
         },
         {
          "mean": 57.864268585131896,
          "strain": "A/Macedonia/1402/2019"
         },
         {
          "mean": 56.85227817745803,
          "strain": "A/Santiago/103161/2018"
         },
         {
          "mean": 56.81342925659472,
          "strain": "A/Macedonia/1438/2019"
         },
         {
          "mean": 60.61247002398081,
          "strain": "A/Bolivia/562/2019"
         },
         {
          "mean": 59.517505995203834,
          "strain": "A/NewHampshire/9/2019"
         },
         {
          "mean": 59.76834532374101,
          "strain": "A/Indiana/24/2019"
         },
         {
          "mean": 57.87002398081535,
          "strain": "A/Tennessee/69/2019"
         },
         {
          "mean": 59.610551558752995,
          "strain": "A/Kentucky/18/2019"
         },
         {
          "mean": 59.65083932853717,
          "strain": "A/Alaska/11/2019"
         },
         {
          "mean": 58.208153477218225,
          "strain": "A/AbuDhabi/34/2019"
         },
         {
          "mean": 61.648441247002395,
          "strain": "A/California/108/2019"
         },
         {
          "mean": 59.743405275779374,
          "strain": "A/Hawaii/41/2019"
         },
         {
          "mean": 60.716067146282974,
          "strain": "A/Hawaii/46/2019"
         },
         {
          "mean": 60.2431654676259,
          "strain": "A/Florida/68/2019"
         },
         {
          "mean": 61.24220623501199,
          "strain": "A/Florida/78/2019"
         },
         {
          "mean": 61.073860911270984,
          "strain": "A/Michigan/384/2019"
         },
         {
          "mean": 59.6810551558753,
          "strain": "A/Wisconsin/549/2019"
         },
         {
          "mean": 60.864268585131896,
          "strain": "A/Michigan/382/2019"
         },
         {
          "mean": 63.673860911270985,
          "strain": "A/Wisconsin/27/2019"
         },
         {
          "mean": 47.2,
          "strain": "A/Texas/71/2017"
         },
         {
          "mean": 50.1031175059952,
          "strain": "A/Brazil/6531/2017"
         },
         {
          "mean": 49.71414868105516,
          "strain": "A/Ohio/23/2018"
         },
         {
          "mean": 49.71414868105516,
          "strain": "A/SantaCatarina/918/2017"
         },
         {
          "mean": 48.7189448441247,
          "strain": "A/Brazil/485/2017"
         },
         {
          "mean": 49.70983213429257,
          "strain": "A/Brazil/3864/2018"
         },
         {
          "mean": 51.701199040767385,
          "strain": "A/Bolivia/3899/2018"
         },
         {
          "mean": 50.70407673860911,
          "strain": "A/Brazil/4623/2018"
         },
         {
          "mean": 50.67913669064748,
          "strain": "A/Brazil/750/2018"
         },
         {
          "mean": 50.71414868105516,
          "strain": "A/Paraguay/9130/2018"
         },
         {
          "mean": 50.663309352517985,
          "strain": "A/Brazil/8306/2018"
         },
         {
          "mean": 53.63213429256595,
          "strain": "A/Florida/83/2018"
         },
         {
          "mean": 51.69832134292566,
          "strain": "A/Alberta/RV2835/2018"
         },
         {
          "mean": 57.57218225419664,
          "strain": "A/Connecticut/35/2019"
         },
         {
          "mean": 57.05275779376499,
          "strain": "A/Nebraska/7/2019"
         },
         {
          "mean": 57.05275779376499,
          "strain": "A/SouthDakota/60/2018"
         },
         {
          "mean": 58.05083932853717,
          "strain": "A/Colorado/10/2019"
         },
         {
          "mean": 58.04556354916067,
          "strain": "A/Colorado/33/2019"
         },
         {
          "mean": 58.979856115107914,
          "strain": "A/Nevada/30/2019"
         },
         {
          "mean": 58.13669064748201,
          "strain": "A/California/142/2019"
         },
         {
          "mean": 59.02973621103118,
          "strain": "A/Iowa/83/2018"
         },
         {
          "mean": 57.187529976019185,
          "strain": "A/Guatemala/329/2018"
         },
         {
          "mean": 59.13285371702638,
          "strain": "A/Guatemala/998/2018"
         },
         {
          "mean": 61.032613908872904,
          "strain": "A/Maine/19/2019"
         },
         {
          "mean": 54.250359712230214,
          "strain": "A/Minnesota/39/2018"
         },
         {
          "mean": 53.266666666666666,
          "strain": "A/Virginia/50/2018"
         },
         {
          "mean": 52.28585131894484,
          "strain": "A/Maryland/42/2018"
         },
         {
          "mean": 51.4220623501199,
          "strain": "A/Perth/1001/2018"
         },
         {
          "mean": 52.27434052757794,
          "strain": "A/DistrictOfColumbia/7/2017"
         },
         {
          "mean": 52.26187050359712,
          "strain": "A/Arizona/36/2018"
         },
         {
          "mean": 52.26187050359712,
          "strain": "A/Indiana/8/2018"
         },
         {
          "mean": 53.25131894484412,
          "strain": "A/Iowa/53/2018"
         },
         {
          "mean": 54.01294964028777,
          "strain": "A/Minnesota/38/2018"
         },
         {
          "mean": 53.27721822541967,
          "strain": "A/Quebec/RV2946/2018"
         },
         {
          "mean": 53.12853717026379,
          "strain": "A/Wisconsin/92/2018"
         },
         {
          "mean": 53.11702637889688,
          "strain": "A/DistrictOfColumbia/20/2018"
         },
         {
          "mean": 52.57889688249401,
          "strain": "A/RhodeIsland/4/2018"
         },
         {
          "mean": 53.22158273381295,
          "strain": "A/Iowa/54/2018"
         },
         {
          "mean": 54.209112709832134,
          "strain": "A/Maryland/7/2018"
         },
         {
          "mean": 53.25227817745803,
          "strain": "A/Guatemala/300/2018"
         },
         {
          "mean": 54.94820143884892,
          "strain": "A/Guatemala/974/2018"
         },
         {
          "mean": 54.84748201438849,
          "strain": "A/DistrictOfColumbia/23/2018"
         },
         {
          "mean": 51.861870503597125,
          "strain": "A/DistrictOfColumbia/21/2018"
         },
         {
          "mean": 52.377937649880096,
          "strain": "A/NorthCarolina/38/2018"
         },
         {
          "mean": 54.14820143884892,
          "strain": "A/NorthDakota/18/2019"
         },
         {
          "mean": 54.14820143884892,
          "strain": "A/Florida/49/2019"
         },
         {
          "mean": 53.152997601918464,
          "strain": "A/Paraguay/1839/2018"
         },
         {
          "mean": 53.152997601918464,
          "strain": "A/Paraguay/1296/2018"
         },
         {
          "mean": 53.152997601918464,
          "strain": "A/California/141/2019"
         },
         {
          "mean": 55.12230215827338,
          "strain": "A/Vermont/11/2019"
         },
         {
          "mean": 55.14340527577938,
          "strain": "A/PuntaArenas/102705/2018"
         },
         {
          "mean": 53.27242206235012,
          "strain": "A/NewYork/4/2019"
         },
         {
          "mean": 54.9083932853717,
          "strain": "A/Florida/11/2019"
         },
         {
          "mean": 55.06187050359712,
          "strain": "A/Connecticut/5/2019"
         },
         {
          "mean": 56.11270983213429,
          "strain": "A/Vermont/14/2019"
         },
         {
          "mean": 56.11990407673861,
          "strain": "A/California/138/2019"
         },
         {
          "mean": 55.90407673860911,
          "strain": "A/Colombia/3962/2019"
         },
         {
          "mean": 50.58609112709832,
          "strain": "A/Idaho/17/2018"
         },
         {
          "mean": 53.27529976019185,
          "strain": "A/Pennsylvania/78/2018"
         },
         {
          "mean": 55.688729016786574,
          "strain": "A/PuntaArenas/108822/2018"
         },
         {
          "mean": 48.7189448441247,
          "strain": "A/Pernambuco/151608-IEC/2018"
         },
         {
          "mean": 62.40575539568346,
          "strain": "A/SouthDakota/29/2019"
         },
         {
          "mean": 59.66091127098321,
          "strain": "A/Santiago/50600/2019"
         },
         {
          "mean": 59.66091127098321,
          "strain": "A/Santiago/41313/2019"
         },
         {
          "mean": 59.83741007194244,
          "strain": "A/Jordan/30121/2019"
         },
         {
          "mean": 58.64652278177458,
          "strain": "A/Guyane/1877/2019"
         },
         {
          "mean": 54.888249400479616,
          "strain": "A/Guyane/1879/2019"
         },
         {
          "mean": 55.87146282973621,
          "strain": "A/Guyane/1886/2019"
         },
         {
          "mean": 57.686330935251796,
          "strain": "A/Picardie/1548/2019"
         },
         {
          "mean": 55.225419664268586,
          "strain": "A/Dakar/25/2018"
         },
         {
          "mean": 56.22446043165468,
          "strain": "A/Dakar/29/2018"
         },
         {
          "mean": 56.15347721822542,
          "strain": "A/Dakar/10/2018"
         },
         {
          "mean": 57.19376498800959,
          "strain": "A/Dakar/28/2018"
         },
         {
          "mean": 55.213908872901676,
          "strain": "A/HongKong/655/2018"
         },
         {
          "mean": 48.74052757793765,
          "strain": "A/England/75020489/2017"
         },
         {
          "mean": 53.29448441247003,
          "strain": "A/CastillaLaMancha/235/2019"
         },
         {
          "mean": 56.85803357314148,
          "strain": "A/Kirov/CRIE/416/2019"
         },
         {
          "mean": 56.2167865707434,
          "strain": "A/Netherlands/10245/2019"
         },
         {
          "mean": 55.576498800959236,
          "strain": "A/Israel/8989/2018"
         },
         {
          "mean": 59.556834532374104,
          "strain": "A/NordrheinWestfalen/114/2019"
         },
         {
          "mean": 54.301199040767386,
          "strain": "A/Beijing-Huairou/11922/2018"
         },
         {
          "mean": 53.30359712230216,
          "strain": "A/Shandong-Mudan/1181/2019"
         },
         {
          "mean": 51.291606714628294,
          "strain": "A/Kansas/14/2017"
         },
         {
          "mean": 53.41199040767386,
          "strain": "A/Perth/103/2018"
         },
         {
          "mean": 57.319424460431655,
          "strain": "A/SouthAustralia/218/2019"
         },
         {
          "mean": 55.7726618705036,
          "strain": "A/Iquique/96295/2018"
         },
         {
          "mean": 102.3937649880096,
          "strain": "A/Quebec/RV2150/2019"
         },
         {
          "mean": 104.87721822541967,
          "strain": "A/NewBrunswick/RV2374/2019"
         },
         {
          "mean": 56.669064748201436,
          "strain": "A/Brazil/4139/2018"
         },
         {
          "mean": 103.37074340527577,
          "strain": "A/NewBrunswick/RV2370/2019"
         },
         {
          "mean": 102.47242206235012,
          "strain": "A/Ontario/RV2300/2019"
         },
         {
          "mean": 103.37601918465228,
          "strain": "A/Saskatchewan/RV2226/2019"
         },
         {
          "mean": 103.37601918465228,
          "strain": "A/Saskatchewan/RV2225/2019"
         },
         {
          "mean": 103.46762589928058,
          "strain": "A/Saskatchewan/RV2224/2019"
         },
         {
          "mean": 58.37362110311751,
          "strain": "A/VinaDelMar/47324/2019"
         },
         {
          "mean": 50.187529976019185,
          "strain": "A/Sydney/1113/2017"
         },
         {
          "mean": 53.523741007194246,
          "strain": "A/Bridgend/9399/2018"
         },
         {
          "mean": 49.66474820143885,
          "strain": "A/Kenya/156/2018"
         },
         {
          "mean": 49.66474820143885,
          "strain": "A/Kenya/155/2018"
         },
         {
          "mean": 50.65947242206235,
          "strain": "A/Kenya/157/2018"
         },
         {
          "mean": 50.65947242206235,
          "strain": "A/Kenya/158/2018"
         },
         {
          "mean": 50.66378896882494,
          "strain": "A/Minnesota/40/2018"
         },
         {
          "mean": 51.61630695443645,
          "strain": "A/Kenya/105/2019"
         },
         {
          "mean": 50.62158273381295,
          "strain": "A/Kenya/110/2019"
         },
         {
          "mean": 50.62158273381295,
          "strain": "A/Kenya/109/2019"
         },
         {
          "mean": 50.62158273381295,
          "strain": "A/Kenya/108/2019"
         },
         {
          "mean": 51.61678657074341,
          "strain": "A/Kenya/119/2019"
         },
         {
          "mean": 51.61678657074341,
          "strain": "A/Kenya/121/2019"
         },
         {
          "mean": 51.653237410071945,
          "strain": "A/Kenya/102/2019"
         },
         {
          "mean": 49.6810551558753,
          "strain": "A/Kenya/159/2018"
         },
         {
          "mean": 50.66618705035971,
          "strain": "A/Kenya/154/2018"
         },
         {
          "mean": 49.65803357314149,
          "strain": "A/Minnesota/1/2018"
         },
         {
          "mean": 51.65083932853717,
          "strain": "A/Kenya/101/2019"
         },
         {
          "mean": 53.40719424460432,
          "strain": "A/Idaho/13/2018"
         },
         {
          "mean": 51.50119904076739,
          "strain": "A/Colombia/6063/2017"
         },
         {
          "mean": 51.50119904076739,
          "strain": "A/Colombia/6062/2017"
         },
         {
          "mean": 52.49400479616307,
          "strain": "A/Colombia/6059/2017"
         },
         {
          "mean": 52.48872901678657,
          "strain": "A/Peru/4617/2017"
         },
         {
          "mean": 52.67098321342926,
          "strain": "A/Colombia/6639/2017"
         },
         {
          "mean": 52.67098321342926,
          "strain": "A/Colombia/6646/2017"
         },
         {
          "mean": 51.59280575539568,
          "strain": "A/Colombia/6717/2017"
         },
         {
          "mean": 48.00191846522782,
          "strain": "A/Idaho/33/2016"
         },
         {
          "mean": 39.819184652278174,
          "strain": "A/Switzerland/9715293/2013"
         },
         {
          "mean": 44.679616306954436,
          "strain": "A/Nevada/22/2016"
         },
         {
          "mean": 48.40719424460432,
          "strain": "A/Texas/88/2016"
         },
         {
          "mean": 43.239328537170266,
          "strain": "A/Peru/27/2015"
         },
         {
          "mean": 38.823021582733816,
          "strain": "A/Norway/466/2014"
         },
         {
          "mean": 38.90935251798561,
          "strain": "A/Stockholm/6/2014"
         },
         {
          "mean": 40.752997601918466,
          "strain": "A/SouthAustralia/55/2014"
         },
         {
          "mean": 41.802398081534776,
          "strain": "A/Kobe/63/2014"
         },
         {
          "mean": 39.81966426858513,
          "strain": "A/Tasmania/11/2014"
         },
         {
          "mean": 41.65467625899281,
          "strain": "A/Zhejiang-Yongkang/1137/2018"
         },
         {
          "mean": 37.765467625899284,
          "strain": "A/Victoria/505/2013"
         },
         {
          "mean": 38.05035971223022,
          "strain": "A/Almaty/2958/2013"
         },
         {
          "mean": 34.55587529976019,
          "strain": "A/Victoria/506/2013"
         },
         {
          "mean": 45.01247002398082,
          "strain": "A/Newcastle/22/2014"
         },
         {
          "mean": 33.78177458033573,
          "strain": "A/Taiwan/80749/2018"
         },
         {
          "mean": 34.861870503597125,
          "strain": "A/Kawasaki/80/2018"
         },
         {
          "mean": 30.218705035971222,
          "strain": "A/Santiago/62354/2017"
         },
         {
          "mean": 29.25275779376499,
          "strain": "A/Valparaiso/62593/2017"
         },
         {
          "mean": 30.247961630695443,
          "strain": "A/Osorno/73747/2017"
         },
         {
          "mean": 29.282973621103118,
          "strain": "A/England/120/2017"
         },
         {
          "mean": 29.282973621103118,
          "strain": "A/England/80920517/2018"
         },
         {
          "mean": 29.282973621103118,
          "strain": "A/England/80820629/2018"
         },
         {
          "mean": 28.520383693045563,
          "strain": "A/Norway/3278/2017"
         },
         {
          "mean": 32.0484412470024,
          "strain": "A/Zambia/4-356/2018"
         },
         {
          "mean": 32.04652278177458,
          "strain": "A/Zambia/1-387/2018"
         },
         {
          "mean": 31.054196642685852,
          "strain": "A/Zambia/2-130/2018"
         },
         {
          "mean": 31.057074340527578,
          "strain": "A/Belgium/G0044/2018"
         },
         {
          "mean": 30.05947242206235,
          "strain": "A/Tochigi/18136/2018"
         },
         {
          "mean": 30.05947242206235,
          "strain": "A/Zambia/1-305/2018"
         },
         {
          "mean": 30.05947242206235,
          "strain": "A/Paris/1678/2018"
         },
         {
          "mean": 30.05947242206235,
          "strain": "A/Yamagata/168/2018"
         },
         {
          "mean": 30.05947242206235,
          "strain": "A/Denmark/796/2018"
         },
         {
          "mean": 31.056594724220624,
          "strain": "A/Zambia/1-344/2018"
         },
         {
          "mean": 31.052278177458035,
          "strain": "A/Paris/1191/2018"
         },
         {
          "mean": 31.047002398081535,
          "strain": "A/Kanagawa/AC1709/2017"
         },
         {
          "mean": 32.038369304556355,
          "strain": "A/Kanagawa/IC1745/2018"
         },
         {
          "mean": 31.9568345323741,
          "strain": "A/Chiba-C/73/2018"
         },
         {
          "mean": 30.969304556354917,
          "strain": "A/NorthernIreland/13591/2018"
         },
         {
          "mean": 31.96450839328537,
          "strain": "A/Mie/21/2018"
         },
         {
          "mean": 31.01822541966427,
          "strain": "A/England/80580478/2018"
         },
         {
          "mean": 31.01822541966427,
          "strain": "A/Estonia/111717/2018"
         },
         {
          "mean": 31.01822541966427,
          "strain": "A/Kanagawa/AC1729/2018"
         },
         {
          "mean": 31.01822541966427,
          "strain": "A/Osaka-C/2020/2018"
         },
         {
          "mean": 32.016786570743406,
          "strain": "A/Kanagawa/68/2018"
         },
         {
          "mean": 32.00095923261391,
          "strain": "A/England/80540707/2018"
         },
         {
          "mean": 32.010551558753,
          "strain": "A/England/75160387/2017"
         },
         {
          "mean": 31.04412470023981,
          "strain": "A/Yamanashi/18202/2018"
         },
         {
          "mean": 32.0431654676259,
          "strain": "A/Sapporo/33/2018"
         },
         {
          "mean": 33.02302158273381,
          "strain": "A/Miyagi/10/2018"
         },
         {
          "mean": 30.51127098321343,
          "strain": "A/England/75060552/2017"
         },
         {
          "mean": 31.287769784172664,
          "strain": "A/Mauritius/2263/2018"
         },
         {
          "mean": 30.506474820143886,
          "strain": "A/England/81040592/2018"
         },
         {
          "mean": 29.510791366906474,
          "strain": "A/Paris/707/2018"
         },
         {
          "mean": 31.2052757793765,
          "strain": "A/PuertoMontt/91225/2017"
         },
         {
          "mean": 31.1673860911271,
          "strain": "A/HongKong/4946/2017"
         },
         {
          "mean": 31.231654676258994,
          "strain": "A/LaSerena/61435/2017"
         },
         {
          "mean": 31.23549160671463,
          "strain": "A/Goias/383452/2017"
         },
         {
          "mean": 30.251318944844126,
          "strain": "A/SaoPaulo/591445/2017"
         },
         {
          "mean": 31.420143884892088,
          "strain": "A/NorthernIreland/16822/2018"
         },
         {
          "mean": 31.072901678657075,
          "strain": "A/Ehime/18/2018"
         },
         {
          "mean": 31.506474820143886,
          "strain": "A/England/80920331/2018"
         },
         {
          "mean": 31.0326139088729,
          "strain": "A/Zambia/4-368/2018"
         },
         {
          "mean": 32.90071942446043,
          "strain": "A/Saga/88/2018"
         },
         {
          "mean": 32.00671462829736,
          "strain": "A/Kanagawa/IC1714/2017"
         },
         {
          "mean": 32.0484412470024,
          "strain": "A/Zambia/4-352/2018"
         },
         {
          "mean": 32.038369304556355,
          "strain": "A/HongKong/1983/2018"
         },
         {
          "mean": 32.04460431654676,
          "strain": "A/Yamagata/182/2018"
         },
         {
          "mean": 31.056594724220624,
          "strain": "A/Zambia/2-132/2018"
         },
         {
          "mean": 31.056594724220624,
          "strain": "A/Zambia/1-366/2018"
         },
         {
          "mean": 33.821103117506,
          "strain": "A/Aichi/199/2018"
         },
         {
          "mean": 32.02637889688249,
          "strain": "A/Kanagawa/AC1739/2018"
         },
         {
          "mean": 32.02637889688249,
          "strain": "A/Kanagawa/AC1740/2018"
         },
         {
          "mean": 31.99664268585132,
          "strain": "A/Niigata/185/2018"
         },
         {
          "mean": 32.00095923261391,
          "strain": "A/HongKong/656/2018"
         },
         {
          "mean": 33.77745803357314,
          "strain": "A/Wakayama-C/49/2018"
         },
         {
          "mean": 32.7515587529976,
          "strain": "A/Kobe/441/2018"
         },
         {
          "mean": 32.48057553956834,
          "strain": "A/Fukushima/33/2018"
         },
         {
          "mean": 32.04796163069545,
          "strain": "A/Kawasaki/68/2018"
         },
         {
          "mean": 33.79376498800959,
          "strain": "A/Toyama/27/2018"
         },
         {
          "mean": 32.88297362110312,
          "strain": "A/Aomori/39/2018"
         },
         {
          "mean": 33.92470023980815,
          "strain": "A/Kawasaki/65/2018"
         },
         {
          "mean": 34.61678657074341,
          "strain": "A/Yokohama/100/2018"
         },
         {
          "mean": 33.771223021582735,
          "strain": "A/Kobe/50/2018"
         },
         {
          "mean": 32.97937649880096,
          "strain": "A/HongKong/676/2018"
         },
         {
          "mean": 32.69928057553957,
          "strain": "A/Kanagawa/IC1739/2018"
         },
         {
          "mean": 32.9568345323741,
          "strain": "A/Yokohama/53/2018"
         },
         {
          "mean": 32.934292565947246,
          "strain": "A/NorthernIreland/12971/2018"
         },
         {
          "mean": 34.62014388489209,
          "strain": "A/Yamaguchi/31/2018"
         },
         {
          "mean": 33.767865707434055,
          "strain": "A/Akita/14/2018"
         },
         {
          "mean": 33.65947242206235,
          "strain": "A/Saitama-C/16/2018"
         },
         {
          "mean": 33.052278177458035,
          "strain": "A/Paris/1818/2018"
         },
         {
          "mean": 32.0220623501199,
          "strain": "A/Yamagata/164/2018"
         },
         {
          "mean": 31.832134292565947,
          "strain": "A/Sapporo/51/2018"
         },
         {
          "mean": 32.05611510791367,
          "strain": "A/Ehime/27/2018"
         },
         {
          "mean": 32.98848920863309,
          "strain": "A/Tochigi/18144/2018"
         },
         {
          "mean": 33.94868105515587,
          "strain": "A/Kanagawa/ZC1735/2018"
         },
         {
          "mean": 33.97505995203837,
          "strain": "A/England/81120520/2018"
         },
         {
          "mean": 33.99328537170264,
          "strain": "A/Hiroshima-C/9/2018"
         },
         {
          "mean": 33.7410071942446,
          "strain": "A/HongKong/626/2018"
         },
         {
          "mean": 36.44172661870503,
          "strain": "A/Taiwan/79754/2018"
         },
         {
          "mean": 33.94244604316547,
          "strain": "A/Taiwan/80692/2018"
         },
         {
          "mean": 34.81438848920863,
          "strain": "A/Kanagawa/90/2018"
         },
         {
          "mean": 33.01870503597122,
          "strain": "A/Nagano/2197/2018"
         },
         {
          "mean": 36.90935251798561,
          "strain": "A/Taiwan/81211/2018"
         },
         {
          "mean": 35.010551558753,
          "strain": "A/Niigata-C/33/2018"
         },
         {
          "mean": 32.73429256594724,
          "strain": "A/Mauritius/I-1020/2018"
         },
         {
          "mean": 35.71414868105516,
          "strain": "A/Taiwan/81049/2018"
         },
         {
          "mean": 33.71990407673861,
          "strain": "A/HongKong/1295/2018"
         },
         {
          "mean": 34.52853717026379,
          "strain": "A/Taiwan/79731/2018"
         },
         {
          "mean": 38.82254196642686,
          "strain": "A/Taiwan/81100/2018"
         },
         {
          "mean": 39.46666666666667,
          "strain": "A/Saitama/135/2018"
         },
         {
          "mean": 37.69064748201439,
          "strain": "A/Hiroshima/73/2018"
         },
         {
          "mean": 39.64748201438849,
          "strain": "A/Fukuoka/18288/2018"
         },
         {
          "mean": 33.82589928057554,
          "strain": "A/Yokohama/111/2018"
         },
         {
          "mean": 34.92853717026379,
          "strain": "A/Yokohama/78/2018"
         },
         {
          "mean": 36.9242206235012,
          "strain": "A/Okayama/22/2018"
         },
         {
          "mean": 34.976498800959234,
          "strain": "A/Miyazaki/72/2018"
         },
         {
          "mean": 36.78752997601919,
          "strain": "A/Taiwan/80613/2018"
         },
         {
          "mean": 33.99568345323741,
          "strain": "A/Shimane/30/2018"
         },
         {
          "mean": 33.43453237410072,
          "strain": "A/Malta/53052/2019"
         },
         {
          "mean": 33.43453237410072,
          "strain": "A/HauteNormandie/2695/2018"
         },
         {
          "mean": 33.544364508393286,
          "strain": "A/Kumamoto/11/2018"
         },
         {
          "mean": 34.35635491606715,
          "strain": "A/Ishikawa/78/2018"
         },
         {
          "mean": 35.54148681055156,
          "strain": "A/Wakayama/105/2018"
         },
         {
          "mean": 36.52661870503597,
          "strain": "A/Tokyo/NIID1803/2018"
         },
         {
          "mean": 35.523741007194246,
          "strain": "A/Tokyo/NIID1801/2018"
         },
         {
          "mean": 34.240287769784175,
          "strain": "A/Ishikawa/77/2018"
         },
         {
          "mean": 35.93956834532374,
          "strain": "A/Nagano-C/43/2018"
         },
         {
          "mean": 35.45275779376499,
          "strain": "A/Zambia/1-390/2018"
         },
         {
          "mean": 29.210071942446042,
          "strain": "A/SouthAustralia/269/2017"
         },
         {
          "mean": 28.363549160671464,
          "strain": "A/Kumamoto/15/2017"
         },
         {
          "mean": 27.36546762589928,
          "strain": "A/Fukushima/69/2017"
         },
         {
          "mean": 27.36546762589928,
          "strain": "A/Hubei-Maojian/11412/2017"
         },
         {
          "mean": 28.18177458033573,
          "strain": "A/Taiwan/1428/2017"
         },
         {
          "mean": 29.317026378896884,
          "strain": "A/HongKong/4184/2017"
         },
         {
          "mean": 29.09928057553957,
          "strain": "A/Sichuan-Qingyang/11804/2017"
         },
         {
          "mean": 28.33429256594724,
          "strain": "A/Cameroon/8779/2017"
         },
         {
          "mean": 29.305515587529975,
          "strain": "A/Cameroon/8586/2017"
         },
         {
          "mean": 35.08872901678657,
          "strain": "A/Jilin-Chaoyang/111/2018"
         },
         {
          "mean": 28.40095923261391,
          "strain": "A/Yunnan-Hongta/1769/2017"
         },
         {
          "mean": 31.28968824940048,
          "strain": "A/Wakayama-C/80/2018"
         },
         {
          "mean": 31.005755395683455,
          "strain": "A/England/81260389/2018"
         },
         {
          "mean": 30.006714628297363,
          "strain": "A/Norway/3305/2017"
         },
         {
          "mean": 28.458992805755397,
          "strain": "A/SaoPaulo/911967/2017"
         },
         {
          "mean": 31.41630695443645,
          "strain": "A/Malta/32563/2018"
         },
         {
          "mean": 30.331414868105515,
          "strain": "A/Kanagawa/IC1710/2017"
         },
         {
          "mean": 32.3189448441247,
          "strain": "A/Niigata-C/1/2018"
         },
         {
          "mean": 32.105035971223025,
          "strain": "A/Hunan-Heshan/1700/2017"
         },
         {
          "mean": 30.352038369304555,
          "strain": "A/Nantes/1441/2017"
         },
         {
          "mean": 32.219664268585134,
          "strain": "A/Chiba/30/2017"
         },
         {
          "mean": 31.129976019184653,
          "strain": "A/Busan/1458/2018"
         },
         {
          "mean": 32.02158273381295,
          "strain": "A/Tasmania/1010/2017"
         },
         {
          "mean": 32.838848920863306,
          "strain": "A/Uppsala/1/2017"
         },
         {
          "mean": 33.01390887290168,
          "strain": "A/England/74820686/2017"
         },
         {
          "mean": 33.00671462829736,
          "strain": "A/Perth/345/2017"
         },
         {
          "mean": 31.096882494004795,
          "strain": "A/Santiago/89613/2017"
         },
         {
          "mean": 32.21294964028777,
          "strain": "A/VinadelMar/70327/2017"
         },
         {
          "mean": 29.21630695443645,
          "strain": "A/Israel/C6192/2017"
         },
         {
          "mean": 33.102637889688246,
          "strain": "A/Switzerland/2159/2017"
         },
         {
          "mean": 31.50599520383693,
          "strain": "A/Catalonia/10107S/2017"
         },
         {
          "mean": 35.66378896882494,
          "strain": "A/Bretagne/1413/2017"
         },
         {
          "mean": 33.07146282973621,
          "strain": "A/Finland/790/2017"
         },
         {
          "mean": 32.85419664268585,
          "strain": "A/Estonia/113228/2018"
         },
         {
          "mean": 36.01486810551559,
          "strain": "A/Estonia/113318/2018"
         },
         {
          "mean": 31.548681055155875,
          "strain": "A/Zambia/305/2017"
         },
         {
          "mean": 32.04652278177458,
          "strain": "A/Brisbane/40/2018"
         },
         {
          "mean": 29.282973621103118,
          "strain": "A/SouthAustralia/276/2017"
         },
         {
          "mean": 30.05947242206235,
          "strain": "A/SouthAustralia/8/2018"
         },
         {
          "mean": 32.04604316546762,
          "strain": "A/Sydney/98/2018"
         },
         {
          "mean": 33.99568345323741,
          "strain": "A/Brisbane/161/2018"
         },
         {
          "mean": 34.00767386091127,
          "strain": "A/Victoria/1003/2018"
         },
         {
          "mean": 32.03069544364509,
          "strain": "A/Christchurch/505/2018"
         },
         {
          "mean": 32.933812949640284,
          "strain": "A/Victoria/901/2018"
         },
         {
          "mean": 32.77074340527578,
          "strain": "A/Brisbane/36/2018"
         },
         {
          "mean": 32.74388489208633,
          "strain": "A/Brisbane/57/2018"
         },
         {
          "mean": 32.71318944844125,
          "strain": "A/Canberra/9/2018"
         },
         {
          "mean": 32.01726618705036,
          "strain": "A/Canberra/8/2018"
         },
         {
          "mean": 33.79904076738609,
          "strain": "A/Brisbane/32/2018"
         },
         {
          "mean": 31.50071942446043,
          "strain": "A/Belgium/H0103/2018"
         },
         {
          "mean": 30.47482014388489,
          "strain": "A/Brisbane/55/2018"
         },
         {
          "mean": 32.093525179856115,
          "strain": "A/Sydney/1017/2018"
         },
         {
          "mean": 32.093525179856115,
          "strain": "A/Townsville/1002/2018"
         },
         {
          "mean": 32.51702637889688,
          "strain": "A/Newcastle/21/2018"
         },
         {
          "mean": 31.047002398081535,
          "strain": "A/Perth/12/2018"
         },
         {
          "mean": 31.424460431654676,
          "strain": "A/SouthAustralia/11/2018"
         },
         {
          "mean": 31.500239808153477,
          "strain": "A/Netherlands/10193/2018"
         },
         {
          "mean": 28.520383693045563,
          "strain": "A/Netherlands/10159/2018"
         },
         {
          "mean": 31.045083932853718,
          "strain": "A/Netherlands/10542/2018"
         },
         {
          "mean": 33.687290167865704,
          "strain": "A/Netherlands/10153/2019"
         },
         {
          "mean": 34.16067146282974,
          "strain": "A/SouthAustralia/273/2017"
         },
         {
          "mean": 31.52853717026379,
          "strain": "A/Sydney/17/2018"
         },
         {
          "mean": 33.50551558752998,
          "strain": "A/Brisbane/56/2018"
         },
         {
          "mean": 34.2863309352518,
          "strain": "A/Brisbane/54/2018"
         },
         {
          "mean": 30.47242206235012,
          "strain": "A/Sydney/515/2018"
         },
         {
          "mean": 32.789448441247,
          "strain": "A/Sydney/47/2018"
         },
         {
          "mean": 34.97505995203837,
          "strain": "A/Mie/25/2018"
         },
         {
          "mean": 38.572661870503595,
          "strain": "A/Ulsan/1867/2018"
         },
         {
          "mean": 37.85995203836931,
          "strain": "A/Niigata-C/38/2018"
         },
         {
          "mean": 35.83597122302158,
          "strain": "A/Ireland/36874/2018"
         },
         {
          "mean": 35.44988009592326,
          "strain": "A/Mauritius/I-1027/2018"
         },
         {
          "mean": 42.08585131894485,
          "strain": "A/BadenWurttemberg/160/2018"
         },
         {
          "mean": 44.038369304556355,
          "strain": "A/NordrheinWestfalen/13/2018"
         },
         {
          "mean": 34.233093525179854,
          "strain": "A/Sendai/60/2017"
         },
         {
          "mean": 35.045083932853714,
          "strain": "A/Sydney/224/2017"
         },
         {
          "mean": 31.621103117505996,
          "strain": "A/Lithuania/MB10238/2018"
         },
         {
          "mean": 30.622062350119904,
          "strain": "A/Stockholm/49/2017"
         },
         {
          "mean": 31.620143884892087,
          "strain": "A/HongKong/951/2018"
         },
         {
          "mean": 31.614388489208633,
          "strain": "A/NordrheinWestfalen/36/2018"
         },
         {
          "mean": 32.6052757793765,
          "strain": "A/Tyumen/RII-01/2018"
         },
         {
          "mean": 32.30359712230216,
          "strain": "A/Iceland/80/2018"
         },
         {
          "mean": 32.58800959232614,
          "strain": "A/Orenburg/24/2018"
         },
         {
          "mean": 33.584172661870504,
          "strain": "A/Madrid/2175/2018"
         },
         {
          "mean": 32.59184652278177,
          "strain": "A/Bayern/39/2018"
         },
         {
          "mean": 31.819664268585132,
          "strain": "A/Yokohama/76/2018"
         },
         {
          "mean": 31.654676258992804,
          "strain": "A/Niedersachsen/187/2017"
         },
         {
          "mean": 35.01199040767386,
          "strain": "A/Iceland/95/2018"
         },
         {
          "mean": 34.4,
          "strain": "A/Iceland/94/2018"
         },
         {
          "mean": 37.304556354916066,
          "strain": "A/SouthAfrica/R03668/2018"
         },
         {
          "mean": 37.29400479616307,
          "strain": "A/SouthAfrica/R09652/2018"
         },
         {
          "mean": 35.39568345323741,
          "strain": "A/Netherlands/10539/2018"
         },
         {
          "mean": 34.76498800959233,
          "strain": "A/Brisbane/1002/2018"
         },
         {
          "mean": 32.84892086330935,
          "strain": "A/Brisbane/94/2018"
         },
         {
          "mean": 32.83357314148681,
          "strain": "A/Brisbane/85/2018"
         },
         {
          "mean": 30.622062350119904,
          "strain": "A/Santiago/7338/2018"
         },
         {
          "mean": 30.622062350119904,
          "strain": "A/Santiago/7339/2018"
         },
         {
          "mean": 29.017745803357315,
          "strain": "A/Santiago/9435/2018"
         },
         {
          "mean": 29.017745803357315,
          "strain": "A/Santiago/9536/2018"
         },
         {
          "mean": 29.512230215827337,
          "strain": "A/Santiago/13108/2018"
         },
         {
          "mean": 33.14580335731415,
          "strain": "A/Temuco/84454/2018"
         },
         {
          "mean": 32.21582733812949,
          "strain": "A/Iquique/19400/2019"
         },
         {
          "mean": 33.10695443645084,
          "strain": "A/Iquique/21652/2019"
         },
         {
          "mean": 30.48201438848921,
          "strain": "A/Santiago/7340/2018"
         },
         {
          "mean": 32.79616306954436,
          "strain": "A/Iquique/24507/2018"
         },
         {
          "mean": 34.06666666666667,
          "strain": "A/Santiago/2775/2018"
         },
         {
          "mean": 32.604796163069544,
          "strain": "A/Noyabrsk/RII-4717S/2019"
         },
         {
          "mean": 32.60239808153477,
          "strain": "A/Chita/RII-4461S/2019"
         },
         {
          "mean": 30.622062350119904,
          "strain": "A/Smolensk/RII-2195S/2018"
         },
         {
          "mean": 32.6052757793765,
          "strain": "A/Tyumen/RII-4680S/2018"
         },
         {
          "mean": 32.61247002398081,
          "strain": "A/Noyabrsk/RII-4667S/2018"
         },
         {
          "mean": 33.56882494004796,
          "strain": "A/Arkhangelsk/29/2018"
         },
         {
          "mean": 33.49400479616307,
          "strain": "A/Yaroslavl/128/2018"
         },
         {
          "mean": 33.60335731414868,
          "strain": "A/Naryan-Mar/RII-1/2018"
         },
         {
          "mean": 35.064748201438846,
          "strain": "A/Iquique/81059/2018"
         },
         {
          "mean": 32.069544364508396,
          "strain": "A/Podporozhie/RII-3532S/2018"
         },
         {
          "mean": 34.0484412470024,
          "strain": "A/StPetersburg/RII-4213S/2018"
         },
         {
          "mean": 37.04268585131894,
          "strain": "A/Syktyvkar/RII-4624S/2018"
         },
         {
          "mean": 35.67769784172662,
          "strain": "A/Guizhou-Douyun/1209/2019"
         },
         {
          "mean": 36.58129496402878,
          "strain": "A/Henan-Beiguan/524/2018"
         },
         {
          "mean": 32.05179856115108,
          "strain": "A/Macau/602251/2018"
         },
         {
          "mean": 31.291127098321343,
          "strain": "A/Macau/603706/2017"
         },
         {
          "mean": 30.095443645083932,
          "strain": "A/Heilongjiang-Taoshan/1145/2019"
         },
         {
          "mean": 31.058033573141486,
          "strain": "A/Guizhou-Nanming/1958/2018"
         },
         {
          "mean": 27.109832134292567,
          "strain": "A/Zhejiang-Linhai/1342/2019"
         },
         {
          "mean": 28.227338129496403,
          "strain": "A/Yunnan-Xianggelila/1708/2017"
         },
         {
          "mean": 27.937170263788968,
          "strain": "A/Jiangsu-Quanshan/11784/2018"
         },
         {
          "mean": 27.937170263788968,
          "strain": "A/Jiangsu-Quanshan/11727/2018"
         },
         {
          "mean": 33.73141486810552,
          "strain": "A/Macau/602073/2018"
         },
         {
          "mean": 34.72565947242206,
          "strain": "A/Heilongjiang-Aihui/1208/2018"
         },
         {
          "mean": 33.7832134292566,
          "strain": "A/Noyabrsk/RII-4712S/2019"
         },
         {
          "mean": 34.78225419664268,
          "strain": "A/Ekaterinburg/RII-4740S/2018"
         },
         {
          "mean": 36.72613908872901,
          "strain": "A/Kazakhstan/137/2018"
         },
         {
          "mean": 33.7832134292566,
          "strain": "A/Kazakhstan/125/2018"
         },
         {
          "mean": 34.76594724220624,
          "strain": "A/Kazakhstan/128/2018"
         },
         {
          "mean": 35.73621103117506,
          "strain": "A/Kazakhstan/146/2018"
         },
         {
          "mean": 37.68441247002398,
          "strain": "A/Kazakhstan/A-07/2018"
         },
         {
          "mean": 38.68345323741007,
          "strain": "A/Kazakhstan/A-09/2018"
         },
         {
          "mean": 34.56402877697842,
          "strain": "A/Taiwan/1443/2017"
         },
         {
          "mean": 31.84988009592326,
          "strain": "A/Jiangsu-Haizhou/1692/2017"
         },
         {
          "mean": 35.764508393285375,
          "strain": "A/Karaganda/315/2018"
         },
         {
          "mean": 31.365947242206236,
          "strain": "A/Shanghai-Putuo/1623/2017"
         },
         {
          "mean": 30.622062350119904,
          "strain": "A/Moscow/149/2018"
         },
         {
          "mean": 31.61199040767386,
          "strain": "A/HongKong/675/2018"
         },
         {
          "mean": 31.590887290167867,
          "strain": "A/Kansas/8/2017"
         },
         {
          "mean": 33.47098321342926,
          "strain": "A/Guatemala/143/2018"
         },
         {
          "mean": 32.6052757793765,
          "strain": "A/Dnipro/416/2018"
         },
         {
          "mean": 34.33237410071943,
          "strain": "A/Tyumen/RII-2/2018"
         },
         {
          "mean": 30.622062350119904,
          "strain": "A/Dunedin/1/2018"
         },
         {
          "mean": 28.363069544364507,
          "strain": "A/Washington/16/2017"
         },
         {
          "mean": 26.41390887290168,
          "strain": "A/NorthCarolina/4/2017"
         },
         {
          "mean": 28.335731414868107,
          "strain": "A/HongKong/4824/2017"
         },
         {
          "mean": 28.335731414868107,
          "strain": "A/HongKong/4823/2017"
         },
         {
          "mean": 27.948681055155877,
          "strain": "A/Nebraska/2/2017"
         },
         {
          "mean": 30.01966426858513,
          "strain": "A/Illinois/42/2017"
         },
         {
          "mean": 29.036930455635492,
          "strain": "A/Peru/3517/2017"
         },
         {
          "mean": 28.047961630695443,
          "strain": "A/Peru/3817/2017"
         },
         {
          "mean": 28.047961630695443,
          "strain": "A/Peru/3917/2017"
         },
         {
          "mean": 29.035011990407675,
          "strain": "A/Pennsylvania/265/2017"
         },
         {
          "mean": 28.69304556354916,
          "strain": "A/RioDeJaneiro/1/2018"
         },
         {
          "mean": 28.458992805755397,
          "strain": "A/Brazil/1967/2017"
         },
         {
          "mean": 28.458992805755397,
          "strain": "A/RioGrandeDoSul/27/2018"
         },
         {
          "mean": 30.619664268585133,
          "strain": "A/Lebanon/427/2018"
         },
         {
          "mean": 29.972661870503597,
          "strain": "A/Brazil/20/2018"
         },
         {
          "mean": 30.330455635491607,
          "strain": "A/Chanthaburi/2445/2017"
         },
         {
          "mean": 30.379856115107913,
          "strain": "A/Lao/2922/2017"
         },
         {
          "mean": 30.304556354916066,
          "strain": "A/Liaoning-Yinzhou/1399/2017"
         },
         {
          "mean": 31.983213429256594,
          "strain": "A/Paraguay/11/2018"
         },
         {
          "mean": 31.7621103117506,
          "strain": "A/Ohio/22/2018"
         },
         {
          "mean": 30.92326139088729,
          "strain": "A/Paraguay/4199/2018"
         },
         {
          "mean": 31.019184652278177,
          "strain": "A/Santiago/52649/2018"
         },
         {
          "mean": 29.387529976019184,
          "strain": "A/Vietnam/Lisn199/2017"
         },
         {
          "mean": 32.37937649880096,
          "strain": "A/Vietnam/GHS959/2017"
         },
         {
          "mean": 34.00959232613909,
          "strain": "A/Bolivia/159/2019"
         },
         {
          "mean": 33.89448441247002,
          "strain": "A/Bolivia/307/2019"
         },
         {
          "mean": 32.01247002398082,
          "strain": "A/Peru/1318/2018"
         },
         {
          "mean": 33.33285371702638,
          "strain": "A/Brazil/5866/2018"
         },
         {
          "mean": 31.852278177458032,
          "strain": "A/Brisbane/73/2018"
         },
         {
          "mean": 32.84892086330935,
          "strain": "A/Brisbane/89/2018"
         },
         {
          "mean": 33.73285371702638,
          "strain": "A/Brisbane/112/2018"
         },
         {
          "mean": 30.77314148681055,
          "strain": "A/Afghanistan/804/2017"
         },
         {
          "mean": 30.24412470023981,
          "strain": "A/Colorado/12/2017"
         },
         {
          "mean": 33.3947242206235,
          "strain": "A/Paraguay/1723/2018"
         },
         {
          "mean": 34.97122302158273,
          "strain": "A/Philippines/797/2017"
         },
         {
          "mean": 33.9726618705036,
          "strain": "A/California/103/2017"
         },
         {
          "mean": 35.96067146282974,
          "strain": "A/California/106/2017"
         },
         {
          "mean": 34.697841726618705,
          "strain": "A/Philippines/782/2017"
         },
         {
          "mean": 33.18465227817746,
          "strain": "A/Macau/603824/2017"
         },
         {
          "mean": 33.03117505995204,
          "strain": "A/ChiangRai/2537/2017"
         },
         {
          "mean": 31.38609112709832,
          "strain": "A/Texas/299/2017"
         },
         {
          "mean": 32.22781774580336,
          "strain": "A/Brazil/8260/2018"
         },
         {
          "mean": 30.157314148681056,
          "strain": "A/Kazakhstan/49/2018"
         },
         {
          "mean": 31.210551558752996,
          "strain": "A/LaSerena/76599/2017"
         },
         {
          "mean": 31.04412470023981,
          "strain": "A/Brazil/8164/2017"
         },
         {
          "mean": 29.282973621103118,
          "strain": "A/Arizona/52/2017"
         },
         {
          "mean": 29.282973621103118,
          "strain": "A/Mississippi/31/2017"
         },
         {
          "mean": 29.282973621103118,
          "strain": "A/Florida/98/2017"
         },
         {
          "mean": 29.282973621103118,
          "strain": "A/Seoul/786/2017"
         },
         {
          "mean": 29.282973621103118,
          "strain": "A/SouthDakota/1/2018"
         },
         {
          "mean": 28.520383693045563,
          "strain": "A/Alberta/RV2280/2017"
         },
         {
          "mean": 28.520383693045563,
          "strain": "A/Arkansas/33/2017"
         },
         {
          "mean": 28.520383693045563,
          "strain": "A/Illinois/33/2017"
         },
         {
          "mean": 28.520383693045563,
          "strain": "A/California/87/2017"
         },
         {
          "mean": 28.520383693045563,
          "strain": "A/NorthDakota/21/2017"
         },
         {
          "mean": 28.520383693045563,
          "strain": "A/Connecticut/29/2017"
         },
         {
          "mean": 29.51127098321343,
          "strain": "A/Missouri/49/2017"
         },
         {
          "mean": 29.512230215827337,
          "strain": "A/Guatemala/121/2018"
         },
         {
          "mean": 29.4757793764988,
          "strain": "A/Arizona/54/2017"
         },
         {
          "mean": 30.47002398081535,
          "strain": "A/Alaska/54/2017"
         },
         {
          "mean": 30.245083932853717,
          "strain": "A/RioGrandeDoSul/103/2018"
         },
         {
          "mean": 29.25275779376499,
          "strain": "A/Peru/751017/2017"
         },
         {
          "mean": 29.25275779376499,
          "strain": "A/Brazil/1445/2017"
         },
         {
          "mean": 30.24028776978417,
          "strain": "A/Peru/7617/2017"
         },
         {
          "mean": 30.236450839328537,
          "strain": "A/Suriname/2326/2017"
         },
         {
          "mean": 30.217745803357314,
          "strain": "A/Alaska/50/2017"
         },
         {
          "mean": 30.217745803357314,
          "strain": "A/Montana/14/2017"
         },
         {
          "mean": 31.051798561151077,
          "strain": "A/Bahamas/329/2018"
         },
         {
          "mean": 30.05947242206235,
          "strain": "A/Nonthaburi/16/2018"
         },
         {
          "mean": 30.05947242206235,
          "strain": "A/Ayutthaya/56/2018"
         },
         {
          "mean": 31.04412470023981,
          "strain": "A/NorthDakota/26/2018"
         },
         {
          "mean": 31.037410071942446,
          "strain": "A/Bolivia/71/2018"
         },
         {
          "mean": 31.037410071942446,
          "strain": "A/Alaska/37/2018"
         },
         {
          "mean": 32.01534772182254,
          "strain": "A/Iquique/37846/2018"
         },
         {
          "mean": 31.01822541966427,
          "strain": "A/ChiangMai/10/2018"
         },
         {
          "mean": 31.01822541966427,
          "strain": "A/Townsville/10/2018"
         },
         {
          "mean": 31.951558752997602,
          "strain": "A/Newcastle/13/2018"
         },
         {
          "mean": 32.97841726618705,
          "strain": "A/Ontario/RV2327/2018"
         },
         {
          "mean": 30.517505995203837,
          "strain": "A/Saskatchewan/RV2340/2017"
         },
         {
          "mean": 32.81103117505995,
          "strain": "A/Quebec/RV2853/2018"
         },
         {
          "mean": 31.823501199040766,
          "strain": "A/TurksAndCaicos/74/2017"
         },
         {
          "mean": 31.786570743405274,
          "strain": "A/StPetersburg/RII-362/2018"
         },
         {
          "mean": 32.05419664268585,
          "strain": "A/SouthAfrica/R00173/2018"
         },
         {
          "mean": 32.04604316546762,
          "strain": "A/Newcastle/7/2018"
         },
         {
          "mean": 31.894484412470025,
          "strain": "A/PuertoRico/19/2018"
         },
         {
          "mean": 31.75011990407674,
          "strain": "A/Taiwan/80719/2018"
         },
         {
          "mean": 31.023980815347723,
          "strain": "A/Philippines/464/2018"
         },
         {
          "mean": 31.058033573141486,
          "strain": "A/Alaska/46/2018"
         },
         {
          "mean": 30.986091127098323,
          "strain": "A/Alberta/RV2830/2018"
         },
         {
          "mean": 33.027817745803354,
          "strain": "A/Hawaii/57/2018"
         },
         {
          "mean": 30.288729016786572,
          "strain": "A/NovaScotia/RV2912/2018"
         },
         {
          "mean": 30.201438848920862,
          "strain": "A/Colombia/8139/2018"
         },
         {
          "mean": 30.496402877697843,
          "strain": "A/Newfoundland/RV1529/2018"
         },
         {
          "mean": 30.496402877697843,
          "strain": "A/Newfoundland/RV2272/2018"
         },
         {
          "mean": 30.496402877697843,
          "strain": "A/Newfoundland/RV1812/2018"
         },
         {
          "mean": 30.24892086330935,
          "strain": "A/Arkansas/43/2017"
         },
         {
          "mean": 31.158273381294965,
          "strain": "A/Arkansas/34/2017"
         },
         {
          "mean": 32.1832134292566,
          "strain": "A/Ecuador/103/2018"
         },
         {
          "mean": 29.512230215827337,
          "strain": "A/Maine/2/2018"
         },
         {
          "mean": 33.25131894484412,
          "strain": "A/Mexico/527/2018"
         },
         {
          "mean": 31.325179856115106,
          "strain": "A/Minnesota/39/2017"
         },
         {
          "mean": 31.465707434052756,
          "strain": "A/Mexico/1707/2018"
         },
         {
          "mean": 32.16642685851319,
          "strain": "A/Brazil/4558/2017"
         },
         {
          "mean": 30.409112709832133,
          "strain": "A/Guatemala/126/2018"
         },
         {
          "mean": 32.49880095923261,
          "strain": "A/Guatemala/183/2018"
         },
         {
          "mean": 31.356354916067147,
          "strain": "A/Paraguay/9159/2018"
         },
         {
          "mean": 32.694484412470025,
          "strain": "A/Suriname/2354/2017"
         },
         {
          "mean": 32.023501199040766,
          "strain": "A/Guyane/23/2018"
         },
         {
          "mean": 33.01726618705036,
          "strain": "A/Guyane/8/2018"
         },
         {
          "mean": 32.81966426858513,
          "strain": "A/Guyane/499/2018"
         },
         {
          "mean": 33.99856115107914,
          "strain": "A/Guyane/529/2018"
         },
         {
          "mean": 33.002877697841726,
          "strain": "A/Guyane/360/2017"
         },
         {
          "mean": 32.2863309352518,
          "strain": "A/Guyane/17/2018"
         },
         {
          "mean": 34.016786570743406,
          "strain": "A/Guyane/333/2017"
         },
         {
          "mean": 31.239808153477217,
          "strain": "A/Suriname/2263/2017"
         },
         {
          "mean": 32.21774580335732,
          "strain": "A/Peru/5918/2018"
         },
         {
          "mean": 31.216786570743405,
          "strain": "A/Montana/20/2017"
         },
         {
          "mean": 31.224460431654677,
          "strain": "A/Brazil/6029/2018"
         },
         {
          "mean": 30.863309352517987,
          "strain": "A/Peru/806817/2017"
         },
         {
          "mean": 32.20431654676259,
          "strain": "A/Wisconsin/500/2018"
         },
         {
          "mean": 32.16306954436451,
          "strain": "A/Bolivia/74/2018"
         },
         {
          "mean": 32.16306954436451,
          "strain": "A/Bolivia/150/2018"
         },
         {
          "mean": 32.447961630695445,
          "strain": "A/Bolivia/829/2018"
         },
         {
          "mean": 32.20287769784173,
          "strain": "A/Michigan/78/2018"
         },
         {
          "mean": 33.053237410071944,
          "strain": "A/Texas/298/2017"
         },
         {
          "mean": 32.06858513189449,
          "strain": "A/Tennessee/62/2017"
         },
         {
          "mean": 33.98177458033573,
          "strain": "A/RhodeIsland/14/2018"
         },
         {
          "mean": 34.99040767386091,
          "strain": "A/SaintLucia/638/2018"
         },
         {
          "mean": 31.076258992805755,
          "strain": "A/Townsville/1000/2018"
         },
         {
          "mean": 33.069544364508396,
          "strain": "A/SouthAustralia/4/2018"
         },
         {
          "mean": 33.50551558752998,
          "strain": "A/Brisbane/1001/2018"
         },
         {
          "mean": 32.2052757793765,
          "strain": "A/Peru/718/2018"
         },
         {
          "mean": 32.2052757793765,
          "strain": "A/Peru/3318/2018"
         },
         {
          "mean": 34.19856115107914,
          "strain": "A/Peru/918/2018"
         },
         {
          "mean": 34.13956834532374,
          "strain": "A/Amazonas/152018-IEC/2018"
         },
         {
          "mean": 31.44652278177458,
          "strain": "A/SouthAustralia/13/2018"
         },
         {
          "mean": 35.06378896882494,
          "strain": "A/Michigan/299/2017"
         },
         {
          "mean": 32.159712230215824,
          "strain": "A/Hawaii/42/2018"
         },
         {
          "mean": 32.04028776978417,
          "strain": "A/WestVirginia/30/2017"
         },
         {
          "mean": 36.01534772182254,
          "strain": "A/Amazonas/152016-IEC/2018"
         },
         {
          "mean": 34.03309352517986,
          "strain": "A/Peru/7917/2017"
         },
         {
          "mean": 33.575059952038366,
          "strain": "A/Peru/5117/2017"
         },
         {
          "mean": 32.48968824940048,
          "strain": "A/Bermuda/743/2018"
         },
         {
          "mean": 31.479136690647483,
          "strain": "A/California/78/2017"
         },
         {
          "mean": 32.58561151079137,
          "strain": "A/Mexico/983/2018"
         },
         {
          "mean": 31.892086330935253,
          "strain": "A/NewMexico/14/2018"
         },
         {
          "mean": 32.07242206235012,
          "strain": "A/Taiwan/81051/2018"
         },
         {
          "mean": 33.68153477218225,
          "strain": "A/Jamaica/6188/2018"
         },
         {
          "mean": 36.124700239808156,
          "strain": "A/PuertoRico/21/2018"
         },
         {
          "mean": 33.14436450839329,
          "strain": "A/Santiago/61477/2018"
         },
         {
          "mean": 34.13381294964029,
          "strain": "A/Paraguay/3983/2018"
         },
         {
          "mean": 34.01151079136691,
          "strain": "A/Brazil/8169/2018"
         },
         {
          "mean": 33.27434052757794,
          "strain": "A/Loei/116/2018"
         },
         {
          "mean": 33.27434052757794,
          "strain": "A/Loei/1152/2018"
         },
         {
          "mean": 32.264268585131894,
          "strain": "A/Bangkok/127/2018"
         },
         {
          "mean": 32.44124700239808,
          "strain": "A/Bangkok/54/2018"
         },
         {
          "mean": 33.854676258992804,
          "strain": "A/ChiangMai/181/2018"
         },
         {
          "mean": 33.94340527577938,
          "strain": "A/Hawaii/43/2018"
         },
         {
          "mean": 33.548681055155875,
          "strain": "A/Nagano/2531/2018"
         },
         {
          "mean": 32.7673860911271,
          "strain": "A/Philippines/539/2018"
         },
         {
          "mean": 33.27434052757794,
          "strain": "A/Loei/1155/2018"
         },
         {
          "mean": 33.88729016786571,
          "strain": "A/Peru/224918/2018"
         },
         {
          "mean": 33.85515587529976,
          "strain": "A/Peru/418/2018"
         },
         {
          "mean": 33.892565947242204,
          "strain": "A/Peru/223518/2018"
         },
         {
          "mean": 33.85995203836931,
          "strain": "A/Bolivia/2193/2018"
         },
         {
          "mean": 35.850359712230215,
          "strain": "A/Bolivia/2203/2018"
         },
         {
          "mean": 34.84892086330935,
          "strain": "A/Bolivia/2365/2018"
         },
         {
          "mean": 32.43117505995204,
          "strain": "A/Perth/43/2018"
         },
         {
          "mean": 32.96019184652278,
          "strain": "A/Ayutthaya/176/2018"
         },
         {
          "mean": 34.7568345323741,
          "strain": "A/Taiwan/81233/2018"
         },
         {
          "mean": 33.35923261390887,
          "strain": "A/Taiwan/80683/2018"
         },
         {
          "mean": 36.52182254196643,
          "strain": "A/Taiwan/80650/2018"
         },
         {
          "mean": 33.97745803357314,
          "strain": "A/Taiwan/79440/2018"
         },
         {
          "mean": 33.02494004796163,
          "strain": "A/Victoria/2088/2018"
         },
         {
          "mean": 33.79040767386091,
          "strain": "A/NewJersey/38/2018"
         },
         {
          "mean": 33.016786570743406,
          "strain": "A/Brisbane/25/2018"
         },
         {
          "mean": 32.91414868105515,
          "strain": "A/SouthAustralia/5/2018"
         },
         {
          "mean": 31.051798561151077,
          "strain": "A/Sydney/23/2018"
         },
         {
          "mean": 33.985611510791365,
          "strain": "A/Sydney/15/2018"
         },
         {
          "mean": 33.117505995203835,
          "strain": "A/Newcastle/11/2018"
         },
         {
          "mean": 35.00671462829736,
          "strain": "A/SuratThani/83/2018"
         },
         {
          "mean": 32.093525179856115,
          "strain": "A/Sydney/67/2018"
         },
         {
          "mean": 32.093525179856115,
          "strain": "A/Newcastle/44/2018"
         },
         {
          "mean": 32.093525179856115,
          "strain": "A/Brisbane/117/2018"
         },
         {
          "mean": 32.093525179856115,
          "strain": "A/Newcastle/56/2018"
         },
         {
          "mean": 32.093525179856115,
          "strain": "A/SouthAustralia/179/2018"
         },
         {
          "mean": 32.093525179856115,
          "strain": "A/Victoria/747/2018"
         },
         {
          "mean": 76.1558752997602,
          "strain": "A/Newcastle/145/2018"
         },
         {
          "mean": 80.75731414868106,
          "strain": "A/Ayutthaya/347/2018"
         },
         {
          "mean": 34.75203836930456,
          "strain": "A/Sydney/182/2018"
         },
         {
          "mean": 36.57122302158273,
          "strain": "A/Yasothon/21/2019"
         },
         {
          "mean": 36.712709832134294,
          "strain": "A/Bangkok/24/2019"
         },
         {
          "mean": 34.98033573141487,
          "strain": "A/Hawaii/45/2018"
         },
         {
          "mean": 36.33525179856115,
          "strain": "A/Taiwan/79723/2018"
         },
         {
          "mean": 35.80479616306955,
          "strain": "A/Taiwan/81101/2018"
         },
         {
          "mean": 36.60575539568345,
          "strain": "A/Taiwan/79795/2018"
         },
         {
          "mean": 32.03309352517986,
          "strain": "A/SouthAustralia/134/2018"
         },
         {
          "mean": 34.00095923261391,
          "strain": "A/Switzerland/8060/2017"
         },
         {
          "mean": 31.04988009592326,
          "strain": "A/Asaka/5/2018"
         },
         {
          "mean": 33.73381294964029,
          "strain": "A/Asaka/6/2018"
         },
         {
          "mean": 32.385611510791364,
          "strain": "A/SouthAustralia/3/2018"
         },
         {
          "mean": 39.38369304556355,
          "strain": "A/Peru/769818/2018"
         },
         {
          "mean": 36.82206235011991,
          "strain": "A/Calama/59025/2018"
         },
         {
          "mean": 36.86043165467626,
          "strain": "A/Valparaiso/54264/2018"
         },
         {
          "mean": 36.858513189448445,
          "strain": "A/Coyhaique/36501/2018"
         },
         {
          "mean": 36.84652278177458,
          "strain": "A/Brisbane/120/2018"
         },
         {
          "mean": 36.80959232613909,
          "strain": "A/Osorno/54626/2018"
         },
         {
          "mean": 36.732374100719426,
          "strain": "A/Lota/52321/2018"
         },
         {
          "mean": 37.63980815347722,
          "strain": "A/Bahrain/449/2018"
         },
         {
          "mean": 34.4599520383693,
          "strain": "A/StVincentAndTheGrenadines/205/2018"
         },
         {
          "mean": 34.38609112709832,
          "strain": "A/Texas/137/2018"
         },
         {
          "mean": 78.03357314148681,
          "strain": "A/Iquique/27192/2018"
         },
         {
          "mean": 75.47721822541966,
          "strain": "A/PuntaArenas/23392/2018"
         },
         {
          "mean": 75.5189448441247,
          "strain": "A/Antofagasta/27188/2018"
         },
         {
          "mean": 74.53812949640287,
          "strain": "A/Santiago/17989/2018"
         },
         {
          "mean": 76.7736211031175,
          "strain": "A/Taiwan/80928/2018"
         },
         {
          "mean": 78.58848920863309,
          "strain": "A/Taiwan/80929/2018"
         },
         {
          "mean": 78.97745803357314,
          "strain": "A/Taiwan/80925/2018"
         },
         {
          "mean": 78.85227817745803,
          "strain": "A/Taiwan/80868/2018"
         },
         {
          "mean": 77.98129496402878,
          "strain": "A/Taiwan/80876/2018"
         },
         {
          "mean": 80.94148681055155,
          "strain": "A/Taiwan/80870/2018"
         },
         {
          "mean": 75.51750599520383,
          "strain": "A/Newfoundland/RV1805/2018"
         },
         {
          "mean": 78.84796163069544,
          "strain": "A/Newcastle/113/2018"
         },
         {
          "mean": 81.04508393285371,
          "strain": "A/Iquique/73969/2018"
         },
         {
          "mean": 36.02398081534772,
          "strain": "A/Guyane/666/2018"
         },
         {
          "mean": 36.02398081534772,
          "strain": "A/Guyane/663/2018"
         },
         {
          "mean": 35.861870503597125,
          "strain": "A/StPetersburg/RII-530/2018"
         },
         {
          "mean": 35.80959232613909,
          "strain": "A/Nakhonsithammarat/336/2018"
         },
         {
          "mean": 34.74676258992806,
          "strain": "A/Ontario/RV3857/2018"
         },
         {
          "mean": 38.062350119904075,
          "strain": "A/Venezuela/22/2018"
         },
         {
          "mean": 37.85515587529976,
          "strain": "A/Amazonas/153154-IEC/2018"
         },
         {
          "mean": 37.97122302158273,
          "strain": "A/Bolivia/2170/2018"
         },
         {
          "mean": 30.50695443645084,
          "strain": "A/Barry/8372/2018"
         },
         {
          "mean": 31.055635491606715,
          "strain": "A/Brisbane/6/2018"
         },
         {
          "mean": 30.05947242206235,
          "strain": "A/Newcastle/5/2018"
         },
         {
          "mean": 30.05947242206235,
          "strain": "A/Brisbane/16/2018"
         },
         {
          "mean": 30.87146282973621,
          "strain": "A/Brisbane/1/2018"
         },
         {
          "mean": 30.279136690647483,
          "strain": "A/SouthAustralia/271/2017"
         },
         {
          "mean": 30.281534772182255,
          "strain": "A/SouthAustralia/275/2017"
         },
         {
          "mean": 33,
          "strain": "A/Sydney/11/2018"
         },
         {
          "mean": 29.21630695443645,
          "strain": "A/Brisbane/190/2017"
         },
         {
          "mean": 28.520383693045563,
          "strain": "A/Sydney/221/2017"
         },
         {
          "mean": 33.016786570743406,
          "strain": "A/Brisbane/1076/2017"
         },
         {
          "mean": 29.339088729016787,
          "strain": "A/Brisbane/195/2017"
         },
         {
          "mean": 29.350599520383692,
          "strain": "A/Cambodia/36943/2017"
         },
         {
          "mean": 28.363069544364507,
          "strain": "A/Brisbane/321/2016"
         },
         {
          "mean": 28.363069544364507,
          "strain": "A/Brisbane/318/2016"
         },
         {
          "mean": 29.022062350119903,
          "strain": "A/Brisbane/11/2018"
         },
         {
          "mean": 33.99760191846523,
          "strain": "A/NewCaledonia/6/2017"
         },
         {
          "mean": 32.03069544364509,
          "strain": "A/Christchurch/504/2018"
         },
         {
          "mean": 32.03069544364509,
          "strain": "A/Victoria/2036/2018"
         },
         {
          "mean": 31.04652278177458,
          "strain": "A/Neath/9065/2018"
         },
         {
          "mean": 30.543884892086332,
          "strain": "A/Swansea/5501/2018"
         },
         {
          "mean": 37.858513189448445,
          "strain": "A/PuertoMontt/84724/2018"
         },
         {
          "mean": 37.83405275779376,
          "strain": "A/Temuco/100559/2018"
         },
         {
          "mean": 37.79040767386091,
          "strain": "A/Temuco/74961/2018"
         },
         {
          "mean": 37.84508393285372,
          "strain": "A/Concepcion/68212/2018"
         },
         {
          "mean": 38.8431654676259,
          "strain": "A/Santiago/67766/2018"
         },
         {
          "mean": 36.85083932853717,
          "strain": "A/PuertoMontt/59138/2018"
         },
         {
          "mean": 35.86330935251799,
          "strain": "A/Antofagasta/77949/2018"
         },
         {
          "mean": 35.7515587529976,
          "strain": "A/Temuco/72577/2018"
         },
         {
          "mean": 38.85179856115108,
          "strain": "A/Temuco/85881/2018"
         },
         {
          "mean": 38.53285371702638,
          "strain": "A/Beijing-Chaoyang/12841/2018"
         },
         {
          "mean": 37.838848920863306,
          "strain": "A/Darwin/16/2018"
         },
         {
          "mean": 36.83741007194244,
          "strain": "A/Guyane/1895/2019"
         },
         {
          "mean": 81.88153477218225,
          "strain": "A/Iquique/77975/2018"
         },
         {
          "mean": 82.69400479616307,
          "strain": "A/Santiago/71655/2018"
         },
         {
          "mean": 84.84556354916067,
          "strain": "A/Newcastle/161/2018"
         },
         {
          "mean": 33.129016786570745,
          "strain": "A/Parana/1315/2018"
         },
         {
          "mean": 38.87961630695444,
          "strain": "A/Hokkaido/7/2018"
         },
         {
          "mean": 39.03549160671463,
          "strain": "A/Nagano/2283/2018"
         },
         {
          "mean": 34.99664268585132,
          "strain": "A/Lyon/1560/2018"
         },
         {
          "mean": 39.70551558752997,
          "strain": "A/Taiwan/81136/2018"
         },
         {
          "mean": 34.85659472422062,
          "strain": "A/Swansea/699/2018"
         },
         {
          "mean": 87.68009592326139,
          "strain": "A/SaoPaulo/706496/2018"
         },
         {
          "mean": 33.06282973621103,
          "strain": "A/Perth/151/2018"
         },
         {
          "mean": 33.844604316546764,
          "strain": "A/Concepcion/87275/2018"
         },
         {
          "mean": 37.71798561151079,
          "strain": "A/Kaliningrad/17/2018"
         },
         {
          "mean": 37.18657074340528,
          "strain": "A/Shimane/112/2017"
         }
        ]
       },
       "encoding": {
        "tooltip": [
         {
          "field": "strain",
          "type": "nominal"
         }
        ],
        "x": {
         "field": "mean",
         "title": "mean of pairwise distances",
         "type": "quantitative"
        }
       },
       "height": 150,
       "mark": "boxplot"
      },
      "image/png": "[encoded data removed]",
      "text/plain": [
       "<VegaLite 3 object>\n",
       "\n",
       "If you see this message, it means the renderer has not been properly enabled\n",
       "for the frontend that you are using. For more information, see\n",
       "https://altair-viz.github.io/user_guide/troubleshooting.html\n"
      ]
     },
     "execution_count": 52,
     "metadata": {},
     "output_type": "execute_result"
    }
   ],
   "source": [
    "alt.Chart(result_index_df,height=150).mark_boxplot().encode(\n",
    "    x = alt.X('mean',title=\"mean of pairwise distances\"),\n",
    "    tooltip = [\"strain\"]\n",
    ")"
   ]
  },
  {
   "cell_type": "markdown",
   "metadata": {},
   "source": [
    "# Running PCA on Scaled and Centered Data\n",
    "- I treated each nucleotide as a \"site\", or dimension, and found the probability of having a certain nucleotide given the frequency of that letter at that site.\n",
    "- I used [this paper][1] as my source \n",
    "- The equation is as follows where C is the matrix of dimensions, M is the mean, and p is the frequency of a nucleotide at that given site. \n",
    "![](https://journals.plos.org/plosgenetics/article/file?type=thumbnail&id=info:doi/10.1371/journal.pgen.0020190.e003)"
   ]
  },
  {
   "cell_type": "code",
   "execution_count": null,
   "metadata": {},
   "outputs": [],
   "source": [
    "numbers = genomes[:]\n",
    "for i in range(0,len(genomes)):\n",
    "    numbers[i] = re.sub(r'[^AGCT]', '5', numbers[i])\n",
    "    numbers[i] = list(numbers[i].replace('A','1').replace('G','2').replace('C', '3').replace('T','4'))\n",
    "    numbers[i] = [int(j) for j in numbers[i]]\n",
    "genomes_df = pd.DataFrame(numbers)\n",
    "genomes_df.columns = [\"Site \" + str(k) for k in range(0,len(numbers[i]))]"
   ]
  },
  {
   "cell_type": "code",
   "execution_count": null,
   "metadata": {},
   "outputs": [],
   "source": [
    "genomes_df.head()"
   ]
  },
  {
   "cell_type": "code",
   "execution_count": null,
   "metadata": {},
   "outputs": [],
   "source": [
    "#performing PCA on my pandas dataframe \n",
    "pca = PCA(n_components=10,svd_solver='full') #can specify n, since with no prior knowledge, I use None\n",
    "principalComponents = pca.fit_transform(genomes_df)\n",
    "principalDf = pd.DataFrame(data = principalComponents, columns = [\"principal component \" + str(i) for i in range(1,11)])"
   ]
  },
  {
   "cell_type": "code",
   "execution_count": null,
   "metadata": {},
   "outputs": [],
   "source": [
    "df = pd.concat([pd.DataFrame(np.arange(1,11)), pd.DataFrame([round(pca.explained_variance_ratio_[i],4) for i in range(0,len(pca.explained_variance_ratio_))])], axis = 1)\n",
    "df.columns = ['principal components','explained variance']\n",
    "df"
   ]
  },
  {
   "cell_type": "code",
   "execution_count": null,
   "metadata": {},
   "outputs": [],
   "source": [
    "alt.Chart(df).mark_line().encode(\n",
    "    x='principal components:Q',\n",
    "    y='explained variance:Q')"
   ]
  },
  {
   "cell_type": "code",
   "execution_count": null,
   "metadata": {},
   "outputs": [],
   "source": [
    "principalDf.head()"
   ]
  },
  {
   "cell_type": "markdown",
   "metadata": {},
   "source": [
    "# Merging Strain and PCA"
   ]
  },
  {
   "cell_type": "code",
   "execution_count": null,
   "metadata": {},
   "outputs": [],
   "source": [
    "strains_df = pd.DataFrame(strains)\n",
    "strains_df.columns = ['strain']"
   ]
  },
  {
   "cell_type": "code",
   "execution_count": null,
   "metadata": {},
   "outputs": [],
   "source": [
    "result_strains = pd.merge(strains_df,metadata_df, on='strain')"
   ]
  },
  {
   "cell_type": "code",
   "execution_count": null,
   "metadata": {},
   "outputs": [],
   "source": [
    "finalDf = pd.concat([principalDf, result_strains[['region','country','strain']]], axis = 1)"
   ]
  },
  {
   "cell_type": "code",
   "execution_count": null,
   "metadata": {},
   "outputs": [],
   "source": [
    "merged_df = pd.merge(finalDf,node_df,on=[\"strain\",\"region\"]).dropna()"
   ]
  },
  {
   "cell_type": "code",
   "execution_count": null,
   "metadata": {},
   "outputs": [],
   "source": [
    "merged_df.head()"
   ]
  },
  {
   "cell_type": "code",
   "execution_count": null,
   "metadata": {},
   "outputs": [],
   "source": [
    "merged_df = pd.merge(finalDf,node_df,on=[\"strain\",\"region\"]).dropna()"
   ]
  },
  {
   "cell_type": "code",
   "execution_count": null,
   "metadata": {},
   "outputs": [],
   "source": [
    "merged_df.head()"
   ]
  },
  {
   "cell_type": "code",
   "execution_count": null,
   "metadata": {},
   "outputs": [],
   "source": [
    "list_of_chart = linking_tree_with_plots_brush(merged_df,['principal component 1','principal component 2','principal component 3','principal component 4'],\n",
    "                                         ['Principal Component 1 (Explained Variance : {}%'.format(round(pca.explained_variance_ratio_[0]*100,2)) + \")\",\n",
    "                                          'Principal Component 2 (Explained Variance : {}%'.format(round(pca.explained_variance_ratio_[1]*100,2)) + \")\",\n",
    "                                          'Principal Component 3 (Explained Variance : {}%'.format(round(pca.explained_variance_ratio_[2]*100,2)) + \")\",\n",
    "                                          'Principal Component 4 (Explained Variance : {}%'.format(round(pca.explained_variance_ratio_[3]*100,2)) + \")\"],\n",
    "                                         \"clade_membership:N\",['strain','region'])\n",
    "list_of_chart[0]|list_of_chart[1]|list_of_chart[2]"
   ]
  },
  {
   "cell_type": "markdown",
   "metadata": {},
   "source": [
    "# Running MDS on the Dataset"
   ]
  },
  {
   "cell_type": "code",
   "execution_count": null,
   "metadata": {},
   "outputs": [],
   "source": [
    "embedding = MDS(n_components=10,metric=True,dissimilarity='precomputed')\n",
    "X_transformed = embedding.fit_transform(similarity_matrix)"
   ]
  },
  {
   "cell_type": "code",
   "execution_count": null,
   "metadata": {},
   "outputs": [],
   "source": [
    "raw_stress = embedding.stress_\n",
    "normalized_stress = np.sqrt(raw_stress /((similarity_matrix.values.ravel() ** 2).sum() / 2))\n",
    "print(normalized_stress.round(2))"
   ]
  },
  {
   "cell_type": "code",
   "execution_count": null,
   "metadata": {},
   "outputs": [],
   "source": [
    "MDS_df = pd.DataFrame(X_transformed,columns=['MDS cluster ' + str(i) for i in range(1,11)])\n",
    "print(MDS_df.head())"
   ]
  },
  {
   "cell_type": "code",
   "execution_count": null,
   "metadata": {},
   "outputs": [],
   "source": [
    "finalDf = concatenate_results_with_strain_data(MDS_df, node_df, ['strain','clade_membership', 'clade_membership_color'])"
   ]
  },
  {
   "cell_type": "code",
   "execution_count": null,
   "metadata": {},
   "outputs": [],
   "source": [
    "finalDf.columns"
   ]
  },
  {
   "cell_type": "code",
   "execution_count": null,
   "metadata": {},
   "outputs": [],
   "source": [
    "finalDf.head()"
   ]
  },
  {
   "cell_type": "code",
   "execution_count": null,
   "metadata": {},
   "outputs": [],
   "source": [
    "merged_df = pd.merge(finalDf,node_df,on=[\"strain\",'clade_membership_color','clade_membership']).dropna()"
   ]
  },
  {
   "cell_type": "code",
   "execution_count": null,
   "metadata": {},
   "outputs": [],
   "source": [
    "merged_df.columns"
   ]
  },
  {
   "cell_type": "code",
   "execution_count": null,
   "metadata": {},
   "outputs": [],
   "source": [
    "scatterplot_with_tooltip_interactive(merged_df,'MDS cluster 1','MDS cluster 2',\"MDS cluster 1\",\"MDS cluster 2\",['strain','clade_membership'],'clade_membership_color')"
   ]
  },
  {
   "cell_type": "code",
   "execution_count": null,
   "metadata": {},
   "outputs": [],
   "source": [
    "scatterplot_with_tooltip_interactive(merged_df,'MDS cluster 3','MDS cluster 4',\"MDS cluster 3\",\"MDS cluster 4\",['strain','clade_membership'],'clade_membership_color')"
   ]
  },
  {
   "cell_type": "code",
   "execution_count": null,
   "metadata": {},
   "outputs": [],
   "source": [
    "scatterplot_tooltips(similarity_matrix, merged_df, \"MDS cluster 1\", \"MDS cluster 2\", \"MDS\")"
   ]
  },
  {
   "cell_type": "code",
   "execution_count": null,
   "metadata": {},
   "outputs": [],
   "source": [
    "scatterplot_tooltips(similarity_matrix, merged_df, \"MDS cluster 3\", \"MDS cluster 4\", \"MDS\")"
   ]
  },
  {
   "cell_type": "code",
   "execution_count": null,
   "metadata": {},
   "outputs": [],
   "source": [
    "scatterplot_tooltips(similarity_matrix, merged_df, \"MDS cluster 5\", \"MDS cluster 6\", \"MDS\")"
   ]
  },
  {
   "cell_type": "code",
   "execution_count": null,
   "metadata": {},
   "outputs": [],
   "source": [
    "scatterplot_with_tooltip_interactive(merged_df,'MDS cluster 5','MDS cluster 6',\"MDS cluster 5\",\"MDS cluster 6\",['strain','clade_membership'],'clade_membership_color')"
   ]
  },
  {
   "cell_type": "markdown",
   "metadata": {},
   "source": [
    "# Linking Tree to MDS plot"
   ]
  },
  {
   "cell_type": "code",
   "execution_count": null,
   "metadata": {},
   "outputs": [],
   "source": [
    "list_of_data_and_titles = ['MDS cluster 1','MDS cluster 2','MDS cluster 3','MDS cluster 4','MDS cluster 5','MDS cluster 6']\n",
    "list_of_chart = linking_tree_with_plots_brush(merged_df,list_of_data_and_titles,list_of_data_and_titles,'clade_membership_color',[\"clade_membership\",\"strain:N\"])\n",
    "chart = list_of_chart[0]|list_of_chart[1]|list_of_chart[2]|list_of_chart[3]\n",
    "chart"
   ]
  },
  {
   "cell_type": "code",
   "execution_count": null,
   "metadata": {},
   "outputs": [],
   "source": [
    "data = linking_tree_with_plots_clickable(merged_df,['MDS cluster 1','MDS cluster 2','MDS cluster 3','MDS cluster 4','MDS cluster 5','MDS cluster 6'],['MDS cluster 1','MDS cluster 2','MDS cluster 3','MDS cluster 4','MDS cluster 5','MDS cluster 6'],'clade_membership_color:N',['clade_membership'],[\"clade_membership:N\",\"strain:N\"])\n",
    "\n",
    "chart = data[0]|data[1]|data[2]|data[3]|data[4]\n",
    "chart"
   ]
  },
  {
   "cell_type": "code",
   "execution_count": null,
   "metadata": {},
   "outputs": [],
   "source": [
    "chart.save(\"../Docs/MDSFluBrush.html\")"
   ]
  },
  {
   "cell_type": "markdown",
   "metadata": {},
   "source": [
    "# Running T-SNE on the Dataset "
   ]
  },
  {
   "cell_type": "code",
   "execution_count": null,
   "metadata": {},
   "outputs": [],
   "source": [
    "embedding = TSNE(n_components=2,metric='precomputed',perplexity = 25.95)\n",
    "X_transformed = embedding.fit_transform(similarity_matrix)"
   ]
  },
  {
   "cell_type": "code",
   "execution_count": null,
   "metadata": {},
   "outputs": [],
   "source": [
    "TSNE_df = pd.DataFrame(X_transformed,columns=['TSNE cluster ' + str(i) for i in range(1,3)])\n",
    "print(TSNE_df.head())"
   ]
  },
  {
   "cell_type": "code",
   "execution_count": null,
   "metadata": {},
   "outputs": [],
   "source": [
    "finalDf = concatenate_results_with_strain_data(TSNE_df,result_strains,['strain','region'])"
   ]
  },
  {
   "cell_type": "code",
   "execution_count": null,
   "metadata": {},
   "outputs": [],
   "source": [
    "finalDf.shape"
   ]
  },
  {
   "cell_type": "code",
   "execution_count": null,
   "metadata": {},
   "outputs": [],
   "source": [
    "merged_df = pd.merge(finalDf,node_df,on=[\"strain\"]).dropna()"
   ]
  },
  {
   "cell_type": "code",
   "execution_count": null,
   "metadata": {},
   "outputs": [],
   "source": [
    "merged_df.columns"
   ]
  },
  {
   "cell_type": "code",
   "execution_count": null,
   "metadata": {},
   "outputs": [],
   "source": [
    "scatterplot_tooltips(similarity_matrix, merged_df, \"TSNE cluster 1\", \"TSNE cluster 2\", \"TSNE\")"
   ]
  },
  {
   "cell_type": "code",
   "execution_count": null,
   "metadata": {},
   "outputs": [],
   "source": [
    "scatterplot_with_tooltip_interactive(merged_df,'TSNE cluster 1','TSNE cluster 2',\"TSNE cluster 1\",\"TSNE cluster 2\",['strain','clade_membership'],'clade_membership_color')"
   ]
  },
  {
   "cell_type": "markdown",
   "metadata": {},
   "source": [
    "# Linking Tree to T-SNE plot"
   ]
  },
  {
   "cell_type": "code",
   "execution_count": null,
   "metadata": {},
   "outputs": [],
   "source": [
    "list_of_chart = linking_tree_with_plots_brush(merged_df,['TSNE cluster 1','TSNE cluster 2'],['TSNE cluster 1','TSNE cluster 2'],'clade_membership_color',[\"clade_membership:N\",\"strain:N\"])\n",
    "chart = list_of_chart[0]|list_of_chart[1]\n",
    "chart"
   ]
  },
  {
   "cell_type": "code",
   "execution_count": null,
   "metadata": {},
   "outputs": [],
   "source": [
    "data = linking_tree_with_plots_clickable(merged_df,['TSNE cluster 1','TSNE cluster 2'],['TSNE cluster 1','TSNE cluster 2'],'clade_membership_color:N',['clade_membership'],[\"clade_membership:N\",\"strain:N\"])\n",
    "\n",
    "chart = data[0]|data[1]|data[2]\n",
    "chart"
   ]
  },
  {
   "cell_type": "code",
   "execution_count": null,
   "metadata": {},
   "outputs": [],
   "source": [
    "chart.save(\"../Docs/TSNEFluClickable.html\")"
   ]
  },
  {
   "cell_type": "markdown",
   "metadata": {},
   "source": [
    "# Running UMAP on the Dataset"
   ]
  },
  {
   "cell_type": "code",
   "execution_count": null,
   "metadata": {},
   "outputs": [],
   "source": [
    "reducer = umap.UMAP()\n",
    "embedding = reducer.fit_transform(similarity_matrix)"
   ]
  },
  {
   "cell_type": "code",
   "execution_count": null,
   "metadata": {},
   "outputs": [],
   "source": [
    "UMAP_df = pd.DataFrame(embedding,columns=['UMAP cluster ' + str(i) for i in range(1,3)])\n",
    "print(UMAP_df.head())"
   ]
  },
  {
   "cell_type": "code",
   "execution_count": null,
   "metadata": {},
   "outputs": [],
   "source": [
    "finalDf = concatenate_results_with_strain_data(UMAP_df, result_strains, ['strain','region','country'])"
   ]
  },
  {
   "cell_type": "code",
   "execution_count": null,
   "metadata": {},
   "outputs": [],
   "source": [
    "finalDf.shape"
   ]
  },
  {
   "cell_type": "code",
   "execution_count": null,
   "metadata": {},
   "outputs": [],
   "source": [
    "merged_df = pd.merge(finalDf,node_df,on=[\"strain\",\"region\"]).dropna()"
   ]
  },
  {
   "cell_type": "code",
   "execution_count": null,
   "metadata": {},
   "outputs": [],
   "source": [
    "merged_df.shape"
   ]
  },
  {
   "cell_type": "code",
   "execution_count": null,
   "metadata": {},
   "outputs": [],
   "source": [
    "scatterplot_tooltips(similarity_matrix, merged_df, \"UMAP cluster 1\", \"UMAP cluster 2\", \"UMAP\")"
   ]
  },
  {
   "cell_type": "code",
   "execution_count": null,
   "metadata": {},
   "outputs": [],
   "source": [
    "scatterplot_with_tooltip_interactive(merged_df,'UMAP cluster 1','UMAP cluster 2',\"UMAP cluster 1\",\"UMAP cluster 2\",['strain','clade_membership'],'clade_membership_color')"
   ]
  },
  {
   "cell_type": "markdown",
   "metadata": {},
   "source": [
    "# Linking Tree with UMAP plot"
   ]
  },
  {
   "cell_type": "code",
   "execution_count": null,
   "metadata": {},
   "outputs": [],
   "source": [
    "list_of_data_and_titles = ['UMAP cluster 1','UMAP cluster 2']\n",
    "list_of_chart = linking_tree_with_plots_brush(merged_df,list_of_data_and_titles,list_of_data_and_titles,'clade_membership_color',[\"clade_membership\",\"strain:N\"])\n",
    "chart = list_of_chart[0]|list_of_chart[1]\n",
    "chart"
   ]
  },
  {
   "cell_type": "code",
   "execution_count": null,
   "metadata": {},
   "outputs": [],
   "source": [
    "chart.save(\"../Docs/UMAPFluBrush.html\")"
   ]
  },
  {
   "cell_type": "markdown",
   "metadata": {},
   "source": [
    "# Linking all plots together clickable with Tree"
   ]
  },
  {
   "cell_type": "code",
   "execution_count": null,
   "metadata": {},
   "outputs": [],
   "source": [
    "together_df = MDS_df.merge(TSNE_df, how='outer', left_index=True, right_index=True)\n",
    "together_df = together_df.merge(principalDf, how='outer', left_index=True, right_index=True)\n",
    "together_df = together_df.merge(UMAP_df, how='outer', left_index=True, right_index=True)\n",
    "together_df.head()"
   ]
  },
  {
   "cell_type": "code",
   "execution_count": null,
   "metadata": {},
   "outputs": [],
   "source": [
    "finalDf = concatenate_results_with_strain_data(together_df, result_strains, ['strain','region','country'])"
   ]
  },
  {
   "cell_type": "code",
   "execution_count": null,
   "metadata": {},
   "outputs": [],
   "source": [
    "merged_df = pd.merge(finalDf,node_df,on=[\"strain\",\"region\"]).dropna()"
   ]
  },
  {
   "cell_type": "code",
   "execution_count": null,
   "metadata": {},
   "outputs": [],
   "source": [
    "merged_df.columns"
   ]
  },
  {
   "cell_type": "code",
   "execution_count": null,
   "metadata": {},
   "outputs": [],
   "source": [
    "data = linking_tree_with_plots_clickable(merged_df,['MDS cluster 1', 'MDS cluster 2','TSNE cluster 1', 'TSNE cluster 2', 'principal component 1', 'principal component 2', 'UMAP cluster 1', 'UMAP cluster 2'], ['MDS cluster 1', 'MDS cluster 2', 'TSNE cluster 1', 'TSNE cluster 2','Principal Component 1 (Expected Variance : {}%'.format(round(pca.explained_variance_ratio_[0]*100,2)) + \")\",\n",
    "'Principal Component 2 (Expected Variance : {}%'.format(round(pca.explained_variance_ratio_[1]*100,2)) + \")\",'UMAP cluster 1','UMAP cluster 2'],'clade_membership_color:N',['clade_membership'],['strain','clade_membership'])"
   ]
  },
  {
   "cell_type": "code",
   "execution_count": null,
   "metadata": {},
   "outputs": [],
   "source": [
    "PCAMDS = data[3]|data[1]|data[5]\n",
    "TSNEUMAP = data[2]|data[4]\n",
    "embeddings = alt.vconcat(PCAMDS,TSNEUMAP)\n",
    "embeddings\n",
    "fullChart = alt.hconcat(data[0],embeddings)\n",
    "fullChart.save('../Docs/FullLinkedChartClickable.html')\n",
    "fullChart"
   ]
  },
  {
   "cell_type": "markdown",
   "metadata": {},
   "source": [
    "# Notes to Self:\n",
    "\n",
    "- Collapse cells underneath Markdown headers\n",
    "- Get docstrings above methods to show up when user presses SHIFT + TAB\n",
    "- link back to the methods section for user each time method is used\n",
    "- Run more Flu builds (3 years, 6 years, 12 years, H3, H1)\n",
    "- Try algorithm on MERS\n",
    "- Try algorithm on other bacterial genomes (unaligned / small snips of genomes)\n",
    "- Make Zika clades or run automatic clade naming on 12y H3N2 flu with different cutoffs to standardize coloring for graphs\n",
    "- Write a paper\n"
   ]
  }
 ],
 "metadata": {
  "kernelspec": {
   "display_name": "Python 3",
   "language": "python",
   "name": "python3"
  },
  "language_info": {
   "codemirror_mode": {
    "name": "ipython",
    "version": 3
   },
   "file_extension": ".py",
   "mimetype": "text/x-python",
   "name": "python",
   "nbconvert_exporter": "python",
   "pygments_lexer": "ipython3",
   "version": "3.7.3"
  }
 },
 "nbformat": 4,
 "nbformat_minor": 4
}
