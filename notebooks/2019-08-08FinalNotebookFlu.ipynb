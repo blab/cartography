{
 "cells": [
  {
   "cell_type": "markdown",
   "metadata": {},
   "source": [
    "# This is Cartography put together into one place. "
   ]
  },
  {
   "cell_type": "markdown",
   "metadata": {},
   "source": [
    "## Modules to add to run this code:"
   ]
  },
  {
   "cell_type": "markdown",
   "metadata": {},
   "source": [
    "- [BioPython][1]\n",
    "- [Pandas][2]\n",
    "- [Numpy][3]\n",
    "- [Altair][4]\n",
    "- [Seaborn][5]\n",
    "- [Scikit-Learn][6]\n",
    "- [UMAP][7]\n",
    "- json\n",
    "- nextstrain-augur\n",
    "- statsmodels\n",
    "[1]:https://biopython.org/wiki/Download\n",
    "[2]:https://pandas.pydata.org/pandas-docs/version/0.23.3/install.html\n",
    "[3]:https://docs.scipy.org/doc/numpy/user/quickstart.html\n",
    "[4]:https://altair-viz.github.io/getting_started/installation.html\n",
    "[5]:https://seaborn.pydata.org/installing.html\n",
    "[6]:https://scikit-learn.org/stable/install.html\n",
    "[7]:https://umap-learn.readthedocs.io/en/latest/\n"
   ]
  },
  {
   "cell_type": "markdown",
   "metadata": {},
   "source": [
    "# Imports Section "
   ]
  },
  {
   "cell_type": "code",
   "execution_count": null,
   "metadata": {},
   "outputs": [],
   "source": [
    "import pandas as pd\n",
    "import altair as alt\n",
    "import numpy as np\n",
    "from scipy.spatial.distance import squareform, pdist\n",
    "from Bio import SeqIO\n",
    "import seaborn as sns\n",
    "import re\n",
    "import matplotlib.pyplot as plt\n",
    "from sklearn.decomposition import PCA\n",
    "from augur.utils import json_to_tree\n",
    "import json\n",
    "from sklearn.manifold import MDS\n",
    "from sklearn.manifold import TSNE\n",
    "import umap\n",
    "from scipy.stats import linregress\n",
    "from pathlib import Path\n",
    "import statsmodels\n",
    "import statistics\n",
    "import matplotlib.pyplot as plt\n",
    "from Helpers import get_euclidean_data_frame, get_hamming_distances, linking_tree_with_plots_brush\n",
    "from Helpers import linking_tree_with_plots_clickable\n",
    "from Helpers import scatterplot_xyvalues, scatterplot_tooltips, scatterplot_with_tooltip_interactive\n",
    "import selenium\n",
    "from selenium.webdriver import Chrome \n",
    "from svglib.svglib import svg2rlg\n",
    "from reportlab.graphics import renderPDF\n",
    "%matplotlib inline"
   ]
  },
  {
   "cell_type": "code",
   "execution_count": null,
   "metadata": {},
   "outputs": [],
   "source": [
    "from selenium import webdriver\n",
    "\n",
    "chrome_options = webdriver.ChromeOptions()\n",
    "chrome_options.add_argument('--headless')\n",
    "chrome_options.add_argument('--no-sandbox')\n",
    "chrome_options.add_argument('--disable-dev-shm-usage')\n",
    "chrome_options.add_argument(\"--remote-debugging-port=9222\")\n",
    "\n",
    "browser = webdriver.Chrome(options=chrome_options)"
   ]
  },
  {
   "cell_type": "markdown",
   "metadata": {},
   "source": [
    "## Pathogen-specific variables\n",
    "\n",
    "Consider consolidating these into a single configuration file that can be passed to the notebook as a command line argument for more scriptable generation of these figures."
   ]
  },
  {
   "cell_type": "markdown",
   "metadata": {},
   "source": [
    "# Flu Specific Variables"
   ]
  },
  {
   "cell_type": "code",
   "execution_count": null,
   "metadata": {},
   "outputs": [],
   "source": [
    "path = snakemake.input[0]\n",
    "dropped_strains = [line.rstrip('\\n') for line in open(snakemake.input[1],\"r\")]\n",
    "tree_path = snakemake.input[2]\n",
    "if(len(snakemake.input) > 4):\n",
    "    clades_to_plot = [line.rstrip('\\n') for line in open(snakemake.input[len(snakemake.input)-2],\"r\")]\n",
    "f = open(snakemake.input[len(snakemake.input)-1], \"r\")\n",
    "virus_name = f.read()"
   ]
  },
  {
   "cell_type": "raw",
   "metadata": {},
   "source": [
    "path = \"Data/aligned_cdc_h3n2_ha_2y_cell_hi.fasta\"\n",
    "dropped_strains = [\"A/Usl/3850/2019\",\"A/Navarra/2284/2018\", \"A/Austria/1123467/2019\", \"A/Austria/1127203/2019\", \"A/Catalonia/NSVH100995626/2019\", \"A/Ontario/RV2296/2019\", \"A/Sydney/781/2019\", 'A/SouthAustralia/1034/2019','A/Usk/3850/2019']\n",
    "distance_matrix_file = \"DistanceMatrixFlu.csv\"\n",
    "tree_path = 'Data/flu_seasonal_h3n2_ha_2y_tree.json'\n",
    "virus_name = \"Flu\"\n",
    "clades_to_plot = ['3c3.A', 'A1b/131K', 'A1b/135K', 'A2/re', 'A2', 'A3']"
   ]
  },
  {
   "cell_type": "markdown",
   "metadata": {},
   "source": [
    "# Zika Specific Variables "
   ]
  },
  {
   "cell_type": "raw",
   "metadata": {},
   "source": [
    "path = \"../zika-nextstrain/results/aligned.fasta\"\n",
    "dropped_strains = [\"Yunnan/01/2019\"]\n",
    "distance_matrix_file = \"DistanceMatrixZika.csv\"\n",
    "tree_path = '../zika-nextstrain/auspice/zika-cartography_tree.json'\n",
    "virus_name = \"Zika\"\n",
    "clades_to_plot = None"
   ]
  },
  {
   "cell_type": "markdown",
   "metadata": {},
   "source": [
    "### Reading in the Fasta File\n",
    "- I used BioPython to parse the Fasta file into two numpy Arrays: Genomes and Strains. "
   ]
  },
  {
   "cell_type": "code",
   "execution_count": null,
   "metadata": {},
   "outputs": [],
   "source": [
    "#work on making this work\n",
    "strains = []\n",
    "genomes = []\n",
    "for record in SeqIO.parse(path, \"fasta\"):\n",
    "    if(record.id not in dropped_strains):\n",
    "        strains.append(str(record.id))\n",
    "        genomes.append(str(record.seq))"
   ]
  },
  {
   "cell_type": "markdown",
   "metadata": {},
   "source": [
    "#### Checking to make sure the file I picked is a aligned Fasta file / is the file I wanted"
   ]
  },
  {
   "cell_type": "code",
   "execution_count": null,
   "metadata": {},
   "outputs": [],
   "source": [
    "len(strains)\n",
    "print(len(genomes[0]) == len(genomes[1]))\n",
    "print(len(genomes))"
   ]
  },
  {
   "cell_type": "code",
   "execution_count": null,
   "metadata": {},
   "outputs": [],
   "source": [
    "strains[:5]"
   ]
  },
  {
   "cell_type": "code",
   "execution_count": null,
   "metadata": {},
   "outputs": [],
   "source": [
    "genomes_df = pd.DataFrame(genomes)\n",
    "strains_df = pd.DataFrame(strains)"
   ]
  },
  {
   "cell_type": "code",
   "execution_count": null,
   "metadata": {},
   "outputs": [],
   "source": [
    "genomes_missing_bases = []\n",
    "for x in genomes:\n",
    "    x = re.sub(r'[^AGCT]', '5', x)\n",
    "    numberOfN = x.count(\"5\")\n",
    "    genomes_missing_bases.append(numberOfN)"
   ]
  },
  {
   "cell_type": "code",
   "execution_count": null,
   "metadata": {},
   "outputs": [],
   "source": [
    "genomes_missing_bases_df = pd.DataFrame(genomes_missing_bases)\n",
    "genomes_missing_bases_df = genomes_missing_bases_df.merge(strains_df, how='outer', left_index = True, right_index = True)\n",
    "genomes_missing_bases_df.columns = [\"bases missing\", \"strain\"]"
   ]
  },
  {
   "cell_type": "markdown",
   "metadata": {},
   "source": [
    "# Missing Bases"
   ]
  },
  {
   "cell_type": "code",
   "execution_count": null,
   "metadata": {},
   "outputs": [],
   "source": [
    "genomes_missing_bases_df.head()"
   ]
  },
  {
   "cell_type": "code",
   "execution_count": null,
   "metadata": {},
   "outputs": [],
   "source": [
    "alt.Chart(genomes_missing_bases_df).mark_bar().encode(\n",
    "    alt.X(\"bases missing:Q\", bin=True),\n",
    "    y=\"count()\"\n",
    ")"
   ]
  },
  {
   "cell_type": "code",
   "execution_count": null,
   "metadata": {},
   "outputs": [],
   "source": [
    "# Also, consider storing the list of dropped strains in a text file outside of the notebook.\n",
    "dropped_strains.extend(list(genomes_missing_bases_df[genomes_missing_bases_df[\"bases missing\"]>1000][\"strain\"]))"
   ]
  },
  {
   "cell_type": "code",
   "execution_count": null,
   "metadata": {},
   "outputs": [],
   "source": [
    "#work on making this work\n",
    "strains = []\n",
    "genomes = []\n",
    "for record in SeqIO.parse(path, \"fasta\"):\n",
    "    if(record.id not in dropped_strains):\n",
    "        strains.append(str(record.id))\n",
    "        genomes.append(str(record.seq))"
   ]
  },
  {
   "cell_type": "code",
   "execution_count": null,
   "metadata": {},
   "outputs": [],
   "source": [
    "len(strains)\n",
    "print(len(genomes[0]) == len(genomes[1]))\n",
    "print(len(genomes))"
   ]
  },
  {
   "cell_type": "code",
   "execution_count": null,
   "metadata": {},
   "outputs": [],
   "source": [
    "strains[:5]"
   ]
  },
  {
   "cell_type": "code",
   "execution_count": null,
   "metadata": {},
   "outputs": [],
   "source": [
    "genomes_df = pd.DataFrame(genomes)\n",
    "strains_df = pd.DataFrame(strains)\n",
    "genomes_df.columns = [\"strain\"]"
   ]
  },
  {
   "cell_type": "markdown",
   "metadata": {},
   "source": [
    "# Creating the Distance Matrix\n",
    "- I used Hamming Distance to find the pairwise distance between each genome and each other genome, effectively creating a similarity/distance matrix\n",
    "    - In my Hamming Distance method, I only counted something as a different if it was a mismatch between the nucleotides (A,G,C, or T), not gaps (as that was throwing off the algorithm too much for smaller strains)\n",
    "- I then used Seaborn to generate a heatmap to make sure the matrix looked correct"
   ]
  },
  {
   "cell_type": "code",
   "execution_count": null,
   "metadata": {},
   "outputs": [],
   "source": [
    "%%time\n",
    "# Try to load an existing distance matrix. Create it, if it doesn't already exist.\n",
    "\"\"\"try:\n",
    "    # The index should be the first column and correspond to strain name for the row.\n",
    "    similarity_matrix = pd.read_csv(distance_matrix_file, index_col=0)\n",
    "    print(\"Loaded existing distance matrix\")\n",
    "except FileNotFoundError:\n",
    "    print(\"Could not find existing distance matrix, creating it now\", end=\"...\")\n",
    "\"\"\"    \n",
    "# Calculate Hamming distances.\n",
    "hamming_distances = get_hamming_distances(genomes)\n",
    "\n",
    "# Convert distinct pairwise distances into the more redundant but more interpretable square matrix.\n",
    "similarity_matrix = squareform(hamming_distances)\n",
    "\n",
    "# Convert the numpy matrix to a pandas data frame with strain annotations for rows and columns.\n",
    "similarity_matrix = pd.DataFrame(\n",
    "    similarity_matrix,\n",
    "    columns=strains,\n",
    "    index=strains\n",
    ")\n",
    "\n",
    "# Write out the resulting data frame to cache distance calculations.\n",
    "# Keep the index in the output file, so it is immediately available on read.\n",
    "#similarity_matrix.to_csv(distance_matrix_file)\n",
    "print(\"done!\")"
   ]
  },
  {
   "cell_type": "code",
   "execution_count": null,
   "metadata": {},
   "outputs": [],
   "source": [
    "similarity_matrix"
   ]
  },
  {
   "cell_type": "code",
   "execution_count": null,
   "metadata": {},
   "outputs": [],
   "source": [
    "sns.heatmap(similarity_matrix)"
   ]
  },
  {
   "cell_type": "markdown",
   "metadata": {},
   "source": [
    "# Creating the Phylogenetic Tree in Altair\n",
    "- I used Altair to make this tree (Documentation linked [here][1]\n",
    "- I opened and imported the json from a build from NextStrain ([flu][2], [zika][3], etc)\n",
    "- The data from the JSON and the Data from the tree are usually a little different, so after merging the two dataframes you may get some errors.\n",
    "\n",
    "[1]: https://altair-viz.github.io/index.html\n",
    "[2]: https://github.com/nextstrain/seasonal-flu\n",
    "[3]: https://altair-viz.github.io/index.html"
   ]
  },
  {
   "cell_type": "code",
   "execution_count": null,
   "metadata": {},
   "outputs": [],
   "source": [
    "with open(tree_path) as fh:\n",
    "    json_tree_handle = json.load(fh)"
   ]
  },
  {
   "cell_type": "code",
   "execution_count": null,
   "metadata": {},
   "outputs": [],
   "source": [
    "tree = json_to_tree(json_tree_handle)"
   ]
  },
  {
   "cell_type": "code",
   "execution_count": null,
   "metadata": {},
   "outputs": [],
   "source": [
    "tree"
   ]
  },
  {
   "cell_type": "code",
   "execution_count": null,
   "metadata": {},
   "outputs": [],
   "source": [
    "node_data = [\n",
    "    {\n",
    "        \"strain\": node.name,\n",
    "        \"date\": node.attr[\"num_date\"],\n",
    "        \"y\": node.yvalue,\n",
    "        \"region\": node.attr[\"region\"],\n",
    "        \"country\": node.attr[\"country\"],\n",
    "        \"parent_date\": node.parent is not None and node.parent.attr[\"num_date\"] or node.attr[\"num_date\"],\n",
    "        \"parent_y\": node.parent is not None and node.parent.yvalue or node.yvalue,\n",
    "        \"clade_membership\" : node.attr['clade_membership']\n",
    "    }\n",
    "    for node in tree.find_clades(terminal=True)\n",
    "]"
   ]
  },
  {
   "cell_type": "code",
   "execution_count": null,
   "metadata": {},
   "outputs": [],
   "source": [
    "node_data[10]"
   ]
  },
  {
   "cell_type": "code",
   "execution_count": null,
   "metadata": {},
   "outputs": [],
   "source": [
    "node_df = pd.DataFrame(node_data)"
   ]
  },
  {
   "cell_type": "code",
   "execution_count": null,
   "metadata": {},
   "outputs": [],
   "source": [
    "node_df.head()"
   ]
  },
  {
   "cell_type": "code",
   "execution_count": null,
   "metadata": {},
   "outputs": [],
   "source": [
    "node_df[\"y\"] = node_df[\"y\"].max() - node_df[\"y\"]"
   ]
  },
  {
   "cell_type": "code",
   "execution_count": null,
   "metadata": {},
   "outputs": [],
   "source": [
    "node_df[\"parent_y\"] = node_df[\"parent_y\"].max() - node_df[\"parent_y\"]"
   ]
  },
  {
   "cell_type": "code",
   "execution_count": null,
   "metadata": {},
   "outputs": [],
   "source": [
    "node_df.shape"
   ]
  },
  {
   "cell_type": "code",
   "execution_count": null,
   "metadata": {},
   "outputs": [],
   "source": [
    "node_df.head()"
   ]
  },
  {
   "cell_type": "code",
   "execution_count": null,
   "metadata": {},
   "outputs": [],
   "source": [
    "node_df[\"region\"].unique()"
   ]
  },
  {
   "cell_type": "code",
   "execution_count": null,
   "metadata": {},
   "outputs": [],
   "source": [
    "# Reannotate clades that we aren't interested in as \"other\" to simplify color assignment in visualizations.\n",
    "try:\n",
    "    node_df[\"clade_membership_color\"] = node_df[\"clade_membership\"].apply(lambda clade: clade if clade in clades_to_plot else \"other\")\n",
    "except:\n",
    "    node_df[\"clade_membership_color\"] = node_df[\"clade_membership\"]\n",
    "    print(\"clades_to_plot undefined\")"
   ]
  },
  {
   "cell_type": "code",
   "execution_count": null,
   "metadata": {},
   "outputs": [],
   "source": [
    "indices_to_drop = similarity_matrix[~similarity_matrix.index.isin(node_df[\"strain\"])].dropna(how = 'all')\n",
    "similarity_matrix = similarity_matrix[similarity_matrix.index.isin(node_df[\"strain\"])].dropna(how = 'all')\n",
    "similarity_matrix = similarity_matrix.drop(indices_to_drop.index, axis=1)\n",
    "similarity_matrix"
   ]
  },
  {
   "cell_type": "code",
   "execution_count": null,
   "metadata": {},
   "outputs": [],
   "source": [
    "node_df.head()"
   ]
  },
  {
   "cell_type": "markdown",
   "metadata": {},
   "source": [
    "## Checking for Outliers in Pairwise Distance"
   ]
  },
  {
   "cell_type": "code",
   "execution_count": null,
   "metadata": {},
   "outputs": [],
   "source": [
    "mean_distances = similarity_matrix.mean().reset_index(name=\"mean_distance\").rename(columns={\"index\": \"strain\"})"
   ]
  },
  {
   "cell_type": "code",
   "execution_count": null,
   "metadata": {},
   "outputs": [],
   "source": [
    "mean_distances.head()"
   ]
  },
  {
   "cell_type": "code",
   "execution_count": null,
   "metadata": {},
   "outputs": [],
   "source": [
    "alt.Chart(mean_distances, height=150).mark_boxplot().encode(\n",
    "    x = alt.X('mean_distance', title=\"mean of pairwise distances\"),\n",
    "    tooltip = [\"strain\"]\n",
    ")"
   ]
  },
  {
   "cell_type": "markdown",
   "metadata": {},
   "source": [
    "# Running PCA on Scaled and Centered Data\n",
    "- I treated each nucleotide as a \"site\", or dimension, and found the probability of having a certain nucleotide given the frequency of that letter at that site.\n",
    "- I used [this paper][1] as my source \n",
    "- The equation is as follows where C is the matrix of dimensions, M is the mean, and p is the frequency of a nucleotide at that given site. \n",
    "![](https://journals.plos.org/plosgenetics/article/file?type=thumbnail&id=info:doi/10.1371/journal.pgen.0020190.e003)"
   ]
  },
  {
   "cell_type": "code",
   "execution_count": null,
   "metadata": {},
   "outputs": [],
   "source": [
    "numbers = genomes[:]\n",
    "for i in range(0,len(genomes)):\n",
    "    numbers[i] = re.sub(r'[^AGCT]', '5', numbers[i])\n",
    "    numbers[i] = list(numbers[i].replace('A','1').replace('G','2').replace('C', '3').replace('T','4'))\n",
    "    numbers[i] = [int(j) for j in numbers[i]]\n",
    "genomes_df = pd.DataFrame(numbers)\n",
    "genomes_df.columns = [\"Site \" + str(k) for k in range(0,len(numbers[i]))]"
   ]
  },
  {
   "cell_type": "code",
   "execution_count": null,
   "metadata": {},
   "outputs": [],
   "source": [
    "genomes_df.head()"
   ]
  },
  {
   "cell_type": "code",
   "execution_count": null,
   "metadata": {},
   "outputs": [],
   "source": [
    "#performing PCA on my pandas dataframe \n",
    "pca = PCA(n_components=10,svd_solver='full') #can specify n, since with no prior knowledge, I use None\n",
    "principalComponents = pca.fit_transform(genomes_df)"
   ]
  },
  {
   "cell_type": "code",
   "execution_count": null,
   "metadata": {},
   "outputs": [],
   "source": [
    "# Create a data frame from the PCA embedding.\n",
    "principalDf = pd.DataFrame(data = principalComponents, columns = [\"PCA\" + str(i) for i in range(1,11)])\n",
    "\n",
    "# Annotate rows by their original strain names. PCA rows are in the same order as\n",
    "# the `genomes` rows which are in the same order as the `strains` rows.\n",
    "principalDf[\"strain\"] = strains"
   ]
  },
  {
   "cell_type": "code",
   "execution_count": null,
   "metadata": {},
   "outputs": [],
   "source": [
    "df = pd.concat([pd.DataFrame(np.arange(1,11)), pd.DataFrame([round(pca.explained_variance_ratio_[i],4) for i in range(0,len(pca.explained_variance_ratio_))])], axis = 1)\n",
    "df.columns = ['principal components','explained variance']\n",
    "df"
   ]
  },
  {
   "cell_type": "code",
   "execution_count": null,
   "metadata": {},
   "outputs": [],
   "source": [
    "alt.Chart(df).mark_point().encode(\n",
    "    x='principal components:Q',\n",
    "    y='explained variance:Q'\n",
    ")"
   ]
  },
  {
   "cell_type": "code",
   "execution_count": null,
   "metadata": {},
   "outputs": [],
   "source": [
    "merged_pca_df = principalDf.merge(node_df, on=\"strain\")"
   ]
  },
  {
   "cell_type": "code",
   "execution_count": null,
   "metadata": {},
   "outputs": [],
   "source": [
    "merged_pca_df.head()"
   ]
  },
  {
   "cell_type": "code",
   "execution_count": null,
   "metadata": {},
   "outputs": [],
   "source": [
    "list_of_chart = linking_tree_with_plots_brush(merged_pca_df,['PCA1','PCA2','PCA3','PCA4'],\n",
    "                                         ['PCA1 (Explained Variance : {}%'.format(round(pca.explained_variance_ratio_[0]*100,2)) + \")\",\n",
    "                                          'PCA2 (Explained Variance : {}%'.format(round(pca.explained_variance_ratio_[1]*100,2)) + \")\",\n",
    "                                          'PCA3 (Explained Variance : {}%'.format(round(pca.explained_variance_ratio_[2]*100,2)) + \")\",\n",
    "                                          'PCA4 (Explained Variance : {}%'.format(round(pca.explained_variance_ratio_[3]*100,2)) + \")\"],\n",
    "                                         \"clade_membership:N\",['strain','region'])\n",
    "PCAFluBrush = list_of_chart[0]|list_of_chart[1]|list_of_chart[2]\n",
    "\n",
    "PCAFluBrush"
   ]
  },
  {
   "cell_type": "code",
   "execution_count": null,
   "metadata": {},
   "outputs": [],
   "source": [
    "PCA_violin_df = get_euclidean_data_frame(merged_pca_df, \"PCA1\", \"PCA2\", \"PCA\")\n",
    "g = sns.FacetGrid(\n",
    "    PCA_violin_df,\n",
    "    col=\"embedding\",\n",
    "    col_wrap=3,\n",
    "    sharey=False,\n",
    "    height=4\n",
    ")\n",
    "g = g.map(sns.violinplot, \"clade_status\", \"distance\", order=[\"within\", \"between\"])\n",
    "g.set_axis_labels(\"Clade status\", \"Distance\")\n",
    "plt.savefig(\"docs/PCAViolinPlot\" + virus_name + \".png\")"
   ]
  },
  {
   "cell_type": "code",
   "execution_count": null,
   "metadata": {},
   "outputs": [],
   "source": [
    "total_df = scatterplot_xyvalues(similarity_matrix.index, similarity_matrix, merged_pca_df, \"PCA1\", \"PCA2\", \"PCA\")\n",
    "y_values = statsmodels.nonparametric.smoothers_lowess.lowess(\n",
    "    total_df[\"euclidean\"],\n",
    "    total_df[\"genetic\"],\n",
    "    frac=0.6666666666666666,\n",
    "    it=3,\n",
    "    delta=0.0,\n",
    "    is_sorted=False,\n",
    "    missing='drop',\n",
    "    return_sorted=True\n",
    ")\n",
    "\n",
    "PD_Y_values = pd.DataFrame(y_values)\n",
    "PD_Y_values.columns = [\"LOWESS_x\", \"LOWESS_y\"]\n",
    "\n",
    "regression = linregress(total_df[\"genetic\"], total_df[\"euclidean\"])\n",
    "slope, intercept, r_value, p_value, std_err = regression"
   ]
  },
  {
   "cell_type": "code",
   "execution_count": null,
   "metadata": {},
   "outputs": [],
   "source": [
    "fig, ax = plt.subplots(1, 1, figsize=(6, 6))\n",
    "\n",
    "ax.plot(total_df[\"genetic\"], total_df[\"euclidean\"], \"o\", alpha=0.25)\n",
    "ax.plot(PD_Y_values[\"LOWESS_x\"], PD_Y_values[\"LOWESS_y\"], label=\"LOESS\")\n",
    "\n",
    "ax.set_xlabel(\"Genetic distance\")\n",
    "ax.set_ylabel(\"Euclidean distance (PCA)\")\n",
    "ax.set_title(\"PCA Euclidean distance vs. genetic distance ($R^2=%.3f$)\" % (r_value ** 2))\n",
    "\n",
    "sns.despine()\n",
    "plt.savefig(\"docs/PCAScatterplotLOESS\" + virus_name + \".png\")"
   ]
  },
  {
   "cell_type": "markdown",
   "metadata": {},
   "source": [
    "# Running MDS on the Dataset"
   ]
  },
  {
   "cell_type": "code",
   "execution_count": null,
   "metadata": {},
   "outputs": [],
   "source": [
    "embedding = MDS(n_components=10,metric=True,dissimilarity='precomputed')\n",
    "X_transformed_mds = embedding.fit_transform(similarity_matrix)"
   ]
  },
  {
   "cell_type": "code",
   "execution_count": null,
   "metadata": {},
   "outputs": [],
   "source": [
    "raw_stress = embedding.stress_\n",
    "normalized_stress = np.sqrt(raw_stress /((similarity_matrix.values.ravel() ** 2).sum() / 2))\n",
    "print(normalized_stress.round(2))"
   ]
  },
  {
   "cell_type": "code",
   "execution_count": null,
   "metadata": {},
   "outputs": [],
   "source": [
    "MDS_df = pd.DataFrame(X_transformed_mds,columns=['MDS' + str(i) for i in range(1,11)])"
   ]
  },
  {
   "cell_type": "code",
   "execution_count": null,
   "metadata": {},
   "outputs": [],
   "source": [
    "MDS_df.shape"
   ]
  },
  {
   "cell_type": "code",
   "execution_count": null,
   "metadata": {},
   "outputs": [],
   "source": [
    "# Annotate rows by their original strain names. The same logic from PCA holds here\n",
    "# and for later embeddings.\n",
    "MDS_df[\"strain\"] = similarity_matrix.index"
   ]
  },
  {
   "cell_type": "code",
   "execution_count": null,
   "metadata": {},
   "outputs": [],
   "source": [
    "merged_mds_df = MDS_df.merge(node_df, on=\"strain\")"
   ]
  },
  {
   "cell_type": "code",
   "execution_count": null,
   "metadata": {},
   "outputs": [],
   "source": [
    "merged_mds_df.head()"
   ]
  },
  {
   "cell_type": "code",
   "execution_count": null,
   "metadata": {},
   "outputs": [],
   "source": [
    "chart_12_mds = scatterplot_with_tooltip_interactive(merged_mds_df,'MDS1','MDS2',\"MDS1\",\"MDS2\",['strain','clade_membership'],'clade_membership_color')\n",
    "chart_34_mds = scatterplot_with_tooltip_interactive(merged_mds_df,'MDS3','MDS4',\"MDS3\",\"MDS4\",['strain','clade_membership'],'clade_membership_color')\n",
    "chart_56_mds = scatterplot_with_tooltip_interactive(merged_mds_df,'MDS5','MDS6',\"MDS5\",\"MDS6\",['strain','clade_membership'],'clade_membership_color')\n",
    "chart_12_mds|chart_34_mds|chart_56_mds"
   ]
  },
  {
   "cell_type": "code",
   "execution_count": null,
   "metadata": {},
   "outputs": [],
   "source": [
    "chart_MDS = scatterplot_tooltips(similarity_matrix.index, similarity_matrix, merged_mds_df, \"MDS1\", \"MDS2\", \"MDS\", 4000)\n",
    "chart_34_scatter = scatterplot_tooltips(similarity_matrix.index, similarity_matrix, merged_mds_df, \"MDS3\", \"MDS4\", \"MDS\", 4000)\n",
    "chart_56_scatter = scatterplot_tooltips(similarity_matrix.index, similarity_matrix, merged_mds_df, \"MDS5\", \"MDS6\", \"MDS\", 4000)\n",
    "chart_MDS | chart_34_scatter | chart_56_scatter"
   ]
  },
  {
   "cell_type": "code",
   "execution_count": null,
   "metadata": {},
   "outputs": [],
   "source": [
    "total_df = scatterplot_xyvalues(similarity_matrix.index, similarity_matrix, merged_mds_df, \"MDS1\", \"MDS2\", \"MDS\")\n",
    "y_values = statsmodels.nonparametric.smoothers_lowess.lowess(\n",
    "    total_df[\"euclidean\"],\n",
    "    total_df[\"genetic\"],\n",
    "    frac=0.6666666666666666,\n",
    "    it=3,\n",
    "    delta=0.0,\n",
    "    is_sorted=False,\n",
    "    missing='drop',\n",
    "    return_sorted=True\n",
    ")\n",
    "\n",
    "PD_Y_values = pd.DataFrame(y_values)\n",
    "PD_Y_values.columns = [\"LOWESS_x\", \"LOWESS_y\"]\n",
    "\n",
    "regression = linregress(total_df[\"genetic\"], total_df[\"euclidean\"])\n",
    "slope, intercept, r_value, p_value, std_err = regression"
   ]
  },
  {
   "cell_type": "code",
   "execution_count": null,
   "metadata": {},
   "outputs": [],
   "source": [
    "fig, ax = plt.subplots(1, 1, figsize=(6, 6))\n",
    "\n",
    "ax.plot(total_df[\"genetic\"], total_df[\"euclidean\"], \"o\", alpha=0.25)\n",
    "ax.plot(PD_Y_values[\"LOWESS_x\"], PD_Y_values[\"LOWESS_y\"], label=\"LOESS\")\n",
    "\n",
    "ax.set_xlabel(\"Genetic distance\")\n",
    "ax.set_ylabel(\"Euclidean distance (MDS)\")\n",
    "ax.set_title(\"MDS Euclidean distance vs. genetic distance ($R^2=%.3f$)\" % (r_value ** 2))\n",
    "\n",
    "sns.despine()\n",
    "plt.savefig(\"docs/MDSScatterplotLOESS\" + virus_name + \".png\")"
   ]
  },
  {
   "cell_type": "code",
   "execution_count": null,
   "metadata": {},
   "outputs": [],
   "source": [
    "MDS_violin_df = get_euclidean_data_frame(merged_mds_df, \"MDS1\", \"MDS2\", \"MDS\")\n",
    "g = sns.FacetGrid(\n",
    "    MDS_violin_df,\n",
    "    col=\"embedding\",\n",
    "    col_wrap=3,\n",
    "    sharey=False,\n",
    "    height=4\n",
    ")\n",
    "g = g.map(sns.violinplot, \"clade_status\", \"distance\", order=[\"within\", \"between\"])\n",
    "g.set_axis_labels(\"Clade status\", \"Distance\")\n",
    "plt.savefig(\"docs/MDSViolinPlot\" + virus_name + \".png\")"
   ]
  },
  {
   "cell_type": "code",
   "execution_count": null,
   "metadata": {},
   "outputs": [],
   "source": [
    "list_of_data_and_titles = ['MDS1','MDS2','MDS3','MDS4','MDS5','MDS6']\n",
    "list_of_chart = linking_tree_with_plots_brush(\n",
    "    merged_mds_df,\n",
    "    list_of_data_and_titles,\n",
    "    list_of_data_and_titles,\n",
    "    'clade_membership_color',\n",
    "    [\"clade_membership\",\"strain:N\"]\n",
    ")\n",
    "chart = list_of_chart[0]|list_of_chart[1]|list_of_chart[2]|list_of_chart[3]\n",
    "chart"
   ]
  },
  {
   "cell_type": "code",
   "execution_count": null,
   "metadata": {},
   "outputs": [],
   "source": [
    "chart.save(\"docs/MDS\" + virus_name + \"Brush.html\")"
   ]
  },
  {
   "cell_type": "markdown",
   "metadata": {},
   "source": [
    "# Running T-SNE on the Dataset "
   ]
  },
  {
   "cell_type": "code",
   "execution_count": null,
   "metadata": {},
   "outputs": [],
   "source": [
    "embedding = TSNE(n_components=2,metric='precomputed',perplexity = 25.95)\n",
    "X_transformed_tsne = embedding.fit_transform(similarity_matrix)"
   ]
  },
  {
   "cell_type": "code",
   "execution_count": null,
   "metadata": {},
   "outputs": [],
   "source": [
    "TSNE_df = pd.DataFrame(X_transformed_tsne,columns=['TSNE' + str(i) for i in range(1,3)])"
   ]
  },
  {
   "cell_type": "code",
   "execution_count": null,
   "metadata": {},
   "outputs": [],
   "source": [
    "TSNE_df[\"strain\"] = similarity_matrix.index"
   ]
  },
  {
   "cell_type": "code",
   "execution_count": null,
   "metadata": {},
   "outputs": [],
   "source": [
    "TSNE_df.head()"
   ]
  },
  {
   "cell_type": "code",
   "execution_count": null,
   "metadata": {},
   "outputs": [],
   "source": [
    "merged_tsne_df = TSNE_df.merge(node_df, on=\"strain\")"
   ]
  },
  {
   "cell_type": "code",
   "execution_count": null,
   "metadata": {},
   "outputs": [],
   "source": [
    "scatterplot_with_tooltip_interactive(merged_tsne_df,'TSNE1','TSNE2',\"TSNE1\",\"TSNE2\",['strain','clade_membership'],'clade_membership_color')"
   ]
  },
  {
   "cell_type": "code",
   "execution_count": null,
   "metadata": {},
   "outputs": [],
   "source": [
    "list_of_chart = linking_tree_with_plots_brush(\n",
    "    merged_tsne_df,\n",
    "    ['TSNE1','TSNE2'],\n",
    "    ['TSNE1','TSNE2'],\n",
    "    'clade_membership_color',\n",
    "    [\"clade_membership:N\",\"strain:N\"]\n",
    ")\n",
    "chart = list_of_chart[0]|list_of_chart[1]\n",
    "chart\n",
    "chart.save(\"docs/TSNE\" + virus_name + \"Brush.html\")"
   ]
  },
  {
   "cell_type": "code",
   "execution_count": null,
   "metadata": {},
   "outputs": [],
   "source": [
    "TSNE_violin_df = get_euclidean_data_frame(merged_tsne_df, \"TSNE1\", \"TSNE2\", \"TSNE\")\n",
    "g = sns.FacetGrid(\n",
    "    TSNE_violin_df,\n",
    "    col=\"embedding\",\n",
    "    col_wrap=3,\n",
    "    sharey=False,\n",
    "    height=4\n",
    ")\n",
    "g = g.map(sns.violinplot, \"clade_status\", \"distance\", order=[\"within\", \"between\"])\n",
    "g.set_axis_labels(\"Clade status\", \"Distance\")\n",
    "plt.savefig(\"docs/TSNEViolinPlot\" + virus_name + \".png\")"
   ]
  },
  {
   "cell_type": "code",
   "execution_count": null,
   "metadata": {},
   "outputs": [],
   "source": [
    "total_df = scatterplot_xyvalues(similarity_matrix.index, similarity_matrix, merged_tsne_df, \"TSNE1\", \"TSNE2\", \"TSNE\")\n",
    "y_values = statsmodels.nonparametric.smoothers_lowess.lowess(\n",
    "    total_df[\"euclidean\"],\n",
    "    total_df[\"genetic\"],\n",
    "    frac=0.6666666666666666,\n",
    "    it=3,\n",
    "    delta=0.0,\n",
    "    is_sorted=False,\n",
    "    missing='drop',\n",
    "    return_sorted=True\n",
    ")\n",
    "\n",
    "PD_Y_values = pd.DataFrame(y_values)\n",
    "PD_Y_values.columns = [\"LOWESS_x\", \"LOWESS_y\"]\n",
    "\n",
    "regression = linregress(total_df[\"genetic\"], total_df[\"euclidean\"])\n",
    "slope, intercept, r_value, p_value, std_err = regression"
   ]
  },
  {
   "cell_type": "code",
   "execution_count": null,
   "metadata": {},
   "outputs": [],
   "source": [
    "fig, ax = plt.subplots(1, 1, figsize=(6, 6))\n",
    "\n",
    "ax.plot(total_df[\"genetic\"], total_df[\"euclidean\"], \"o\", alpha=0.25)\n",
    "ax.plot(PD_Y_values[\"LOWESS_x\"], PD_Y_values[\"LOWESS_y\"], label=\"LOESS\")\n",
    "\n",
    "ax.set_xlabel(\"Genetic distance\")\n",
    "ax.set_ylabel(\"Euclidean distance (t-SNE)\")\n",
    "ax.set_title(\"t-SNE Euclidean distance vs. genetic distance ($R^2=%.3f$)\" % (r_value ** 2))\n",
    "\n",
    "sns.despine()\n",
    "plt.savefig(\"docs/TSNEScatterplot\" + virus_name + \".png\")"
   ]
  },
  {
   "cell_type": "markdown",
   "metadata": {},
   "source": [
    "# Running UMAP on the Dataset"
   ]
  },
  {
   "cell_type": "code",
   "execution_count": null,
   "metadata": {},
   "outputs": [],
   "source": [
    "reducer = umap.UMAP(n_neighbors=200,\n",
    "        min_dist=.05,\n",
    "        n_components=2,\n",
    "        init=\"spectral\")\n",
    "X_transformed_umap = reducer.fit_transform(similarity_matrix)"
   ]
  },
  {
   "cell_type": "code",
   "execution_count": null,
   "metadata": {},
   "outputs": [],
   "source": [
    "UMAP_df = pd.DataFrame(X_transformed_umap,columns=['UMAP' + str(i) for i in range(1,3)])"
   ]
  },
  {
   "cell_type": "code",
   "execution_count": null,
   "metadata": {},
   "outputs": [],
   "source": [
    "UMAP_df[\"strain\"] = similarity_matrix.index"
   ]
  },
  {
   "cell_type": "code",
   "execution_count": null,
   "metadata": {},
   "outputs": [],
   "source": [
    "UMAP_df.head()"
   ]
  },
  {
   "cell_type": "code",
   "execution_count": null,
   "metadata": {},
   "outputs": [],
   "source": [
    "merged_umap_df = UMAP_df.merge(node_df, on=\"strain\")"
   ]
  },
  {
   "cell_type": "code",
   "execution_count": null,
   "metadata": {},
   "outputs": [],
   "source": [
    "merged_umap_df.head()"
   ]
  },
  {
   "cell_type": "code",
   "execution_count": null,
   "metadata": {},
   "outputs": [],
   "source": [
    "merged_umap_df.shape"
   ]
  },
  {
   "cell_type": "code",
   "execution_count": null,
   "metadata": {},
   "outputs": [],
   "source": [
    "scatterplot_with_tooltip_interactive(merged_umap_df,'UMAP1','UMAP2',\"UMAP1\",\"UMAP2\",['strain','clade_membership'],'clade_membership_color')"
   ]
  },
  {
   "cell_type": "code",
   "execution_count": null,
   "metadata": {},
   "outputs": [],
   "source": [
    "list_of_data_and_titles = ['UMAP1','UMAP2']\n",
    "list_of_chart = linking_tree_with_plots_brush(\n",
    "    merged_umap_df,\n",
    "    list_of_data_and_titles,\n",
    "    list_of_data_and_titles,\n",
    "    'clade_membership_color',\n",
    "    [\"clade_membership\",\"strain:N\"]\n",
    ")\n",
    "chart = list_of_chart[0]|list_of_chart[1]\n",
    "chart\n",
    "chart.save(\"docs/UMAP\" + virus_name + \"Brush.html\")\n",
    "chart.save(\"docs/UMAP\" + virus_name + \"Brush.png\", scale_factor=2.0)"
   ]
  },
  {
   "cell_type": "code",
   "execution_count": null,
   "metadata": {},
   "outputs": [],
   "source": [
    "UMAP_violin_df = get_euclidean_data_frame(merged_umap_df, \"UMAP1\", \"UMAP2\", \"UMAP\")\n",
    "g = sns.FacetGrid(\n",
    "    UMAP_violin_df,\n",
    "    col=\"embedding\",\n",
    "    col_wrap=3,\n",
    "    sharey=False,\n",
    "    height=4\n",
    ")\n",
    "g = g.map(sns.violinplot, \"clade_status\", \"distance\", order=[\"within\", \"between\"])\n",
    "g.set_axis_labels(\"Clade status\", \"Distance\")\n",
    "plt.savefig(\"docs/UMAPViolinPlot\" + virus_name + \".png\")"
   ]
  },
  {
   "cell_type": "code",
   "execution_count": null,
   "metadata": {},
   "outputs": [],
   "source": [
    "total_df = scatterplot_xyvalues(similarity_matrix.index, similarity_matrix, merged_umap_df, \"UMAP1\", \"UMAP2\", \"UMAP\")\n",
    "y_values = statsmodels.nonparametric.smoothers_lowess.lowess(\n",
    "    total_df[\"euclidean\"],\n",
    "    total_df[\"genetic\"],\n",
    "    frac=0.6666666666666666,\n",
    "    it=3,\n",
    "    delta=0.0,\n",
    "    is_sorted=False,\n",
    "    missing='drop',\n",
    "    return_sorted=True\n",
    ")\n",
    "\n",
    "PD_Y_values = pd.DataFrame(y_values)\n",
    "PD_Y_values.columns = [\"LOWESS_x\", \"LOWESS_y\"]\n",
    "\n",
    "regression = linregress(total_df[\"genetic\"], total_df[\"euclidean\"])\n",
    "slope, intercept, r_value, p_value, std_err = regression"
   ]
  },
  {
   "cell_type": "code",
   "execution_count": null,
   "metadata": {},
   "outputs": [],
   "source": [
    "fig, ax = plt.subplots(1, 1, figsize=(6, 6))\n",
    "\n",
    "ax.plot(total_df[\"genetic\"], total_df[\"euclidean\"], \"o\", alpha=0.25)\n",
    "ax.plot(PD_Y_values[\"LOWESS_x\"], PD_Y_values[\"LOWESS_y\"], label=\"LOESS\")\n",
    "\n",
    "ax.set_xlabel(\"Genetic distance\")\n",
    "ax.set_ylabel(\"Euclidean distance (UMAP)\")\n",
    "ax.set_title(\"UMAP Euclidean distance vs. genetic distance ($R^2=%.3f$)\" % (r_value ** 2))\n",
    "\n",
    "sns.despine()\n",
    "plt.savefig(\"docs/UMAPScatterplot\" + virus_name + \".png\")"
   ]
  },
  {
   "cell_type": "markdown",
   "metadata": {},
   "source": [
    "# Linking all plots together clickable with Tree"
   ]
  },
  {
   "cell_type": "code",
   "execution_count": null,
   "metadata": {},
   "outputs": [],
   "source": [
    "merged_df = node_df.merge(\n",
    "    principalDf,\n",
    "    on=\"strain\"\n",
    ").merge(\n",
    "    MDS_df,\n",
    "    on=\"strain\"\n",
    ").merge(\n",
    "    TSNE_df,\n",
    "    on=\"strain\"\n",
    ").merge(\n",
    "    UMAP_df,\n",
    "    on=\"strain\"\n",
    ")"
   ]
  },
  {
   "cell_type": "code",
   "execution_count": null,
   "metadata": {},
   "outputs": [],
   "source": [
    "merged_df.shape"
   ]
  },
  {
   "cell_type": "code",
   "execution_count": null,
   "metadata": {},
   "outputs": [],
   "source": [
    "merged_df.head()"
   ]
  },
  {
   "cell_type": "code",
   "execution_count": null,
   "metadata": {},
   "outputs": [],
   "source": [
    "data = linking_tree_with_plots_clickable(\n",
    "    merged_df,\n",
    "    ['MDS1', 'MDS2','TSNE1', 'TSNE2', 'PCA1', 'PCA2', 'UMAP1', 'UMAP2'],\n",
    "    ['MDS1', 'MDS2', 'TSNE1', 'TSNE2','PCA1 (Expected Variance : {}%'.format(round(pca.explained_variance_ratio_[0]*100,2)) + \")\",\n",
    "    'PCA2 (Expected Variance : {}%'.format(round(pca.explained_variance_ratio_[1]*100,2)) + \")\",'UMAP1','UMAP2'],\n",
    "    'clade_membership_color:N',\n",
    "    ['clade_membership'],\n",
    "    ['strain','clade_membership']\n",
    ")"
   ]
  },
  {
   "cell_type": "code",
   "execution_count": null,
   "metadata": {},
   "outputs": [],
   "source": [
    "data1 = linking_tree_with_plots_brush(\n",
    "    merged_df,\n",
    "    ['TSNE1', 'TSNE2','UMAP1', 'UMAP2'],\n",
    "    ['TSNE1', 'TSNE2','UMAP1','UMAP2'],\n",
    "    'clade_membership_color:N',\n",
    "    ['strain','clade_membership']\n",
    ")"
   ]
  },
  {
   "cell_type": "code",
   "execution_count": null,
   "metadata": {},
   "outputs": [],
   "source": [
    "TSNEUMAP = data1[0]|data1[1]|data1[2]\n",
    "TSNEUMAP.save(\"docs/TSNEUMAPClickable\" + virus_name + \".html\")\n",
    "TSNEUMAP"
   ]
  },
  {
   "cell_type": "code",
   "execution_count": null,
   "metadata": {},
   "outputs": [],
   "source": [
    "PCAMDS = data[3]|data[1]|data[5]\n",
    "TSNEUMAP = data[2]|data[4]\n",
    "embeddings = alt.vconcat(PCAMDS,TSNEUMAP)\n",
    "embeddings\n",
    "fullChart = alt.hconcat(data[0],embeddings)\n",
    "fullChart.save(\"docs/FullLinkedChartClickable\" + virus_name + \".html\")\n",
    "fullChart.save(\"docs/FullLinkedChartClickable\" + virus_name + \".svg\", scale_factor=2.0)\n",
    "drawing = svg2rlg(\"docs/FullLinkedChartClickable\" + virus_name + \".svg\")\n",
    "renderPDF.drawToFile(drawing, \"docs/FullLinkedChartClickable\" + virus_name + \".pdf\")"
   ]
  },
  {
   "cell_type": "markdown",
   "metadata": {},
   "source": [
    "## Scatterplots for all embeddings \n",
    "Concatenating all embedding data frames to plot genetic vs Euclidean distance for each embedding"
   ]
  },
  {
   "cell_type": "code",
   "execution_count": null,
   "metadata": {},
   "outputs": [],
   "source": [
    "umap_df = scatterplot_xyvalues(similarity_matrix.index, similarity_matrix, merged_umap_df, \"UMAP1\", \"UMAP2\", \"UMAP\")\n",
    "tsne_df = scatterplot_xyvalues(similarity_matrix.index, similarity_matrix, merged_tsne_df, \"TSNE1\", \"TSNE2\", \"TSNE\")\n",
    "mds_df = scatterplot_xyvalues(similarity_matrix.index, similarity_matrix, merged_mds_df, \"MDS1\", \"MDS2\", \"MDS\")\n",
    "pca_df = scatterplot_xyvalues(similarity_matrix.index, similarity_matrix, merged_pca_df, \"PCA1\", \"PCA2\", \"PCA\")\n",
    "\n",
    "y_values_umap = statsmodels.nonparametric.smoothers_lowess.lowess(\n",
    "    umap_df[\"euclidean\"],\n",
    "    umap_df[\"genetic\"],\n",
    "    frac=0.6666666666666666,\n",
    "    it=3,\n",
    "    delta=0.0,\n",
    "    is_sorted=False,\n",
    "    missing='drop',\n",
    "    return_sorted=True\n",
    ")\n",
    "\n",
    "y_values_tsne = statsmodels.nonparametric.smoothers_lowess.lowess(\n",
    "    tsne_df[\"euclidean\"],\n",
    "    tsne_df[\"genetic\"],\n",
    "    frac=0.6666666666666666,\n",
    "    it=3,\n",
    "    delta=0.0,\n",
    "    is_sorted=False,\n",
    "    missing='drop',\n",
    "    return_sorted=True\n",
    ")\n",
    "\n",
    "y_values_mds = statsmodels.nonparametric.smoothers_lowess.lowess(\n",
    "    mds_df[\"euclidean\"],\n",
    "    mds_df[\"genetic\"],\n",
    "    frac=0.6666666666666666,\n",
    "    it=3,\n",
    "    delta=0.0,\n",
    "    is_sorted=False,\n",
    "    missing='drop',\n",
    "    return_sorted=True\n",
    ")\n",
    "\n",
    "y_values_pca = statsmodels.nonparametric.smoothers_lowess.lowess(\n",
    "    pca_df[\"euclidean\"],\n",
    "    pca_df[\"genetic\"],\n",
    "    frac=0.6666666666666666,\n",
    "    it=3,\n",
    "    delta=0.0,\n",
    "    is_sorted=False,\n",
    "    missing='drop',\n",
    "    return_sorted=True\n",
    ")\n",
    "\n",
    "PD_Y_values_umap = pd.DataFrame(y_values_umap)\n",
    "PD_Y_values_umap.columns = [\"LOWESS_x\", \"LOWESS_y\"]\n",
    "\n",
    "regression_umap = linregress(umap_df[\"genetic\"], umap_df[\"euclidean\"])\n",
    "slope, intercept, r_value_umap, p_value, std_err = regression_umap\n",
    "\n",
    "PD_Y_values_tsne = pd.DataFrame(y_values_tsne)\n",
    "PD_Y_values_tsne.columns = [\"LOWESS_x\", \"LOWESS_y\"]\n",
    "\n",
    "regression_tsne = linregress(tsne_df[\"genetic\"], tsne_df[\"euclidean\"])\n",
    "slope, intercept, r_value_tsne, p_value, std_err = regression_tsne\n",
    "\n",
    "PD_Y_values_mds = pd.DataFrame(y_values_mds)\n",
    "PD_Y_values_mds.columns = [\"LOWESS_x\", \"LOWESS_y\"]\n",
    "\n",
    "regression_mds = linregress(mds_df[\"genetic\"], mds_df[\"euclidean\"])\n",
    "slope, intercept, r_value_mds, p_value, std_err = regression_mds\n",
    "\n",
    "PD_Y_values_pca = pd.DataFrame(y_values_pca)\n",
    "PD_Y_values_pca.columns = [\"LOWESS_x\", \"LOWESS_y\"]\n",
    "\n",
    "regression_pca = linregress(pca_df[\"genetic\"], pca_df[\"euclidean\"])\n",
    "slope, intercept, r_value_pca, p_value, std_err = regression_pca"
   ]
  },
  {
   "cell_type": "code",
   "execution_count": null,
   "metadata": {},
   "outputs": [],
   "source": [
    "fig, (ax1, ax2, ax3, ax4) = plt.subplots(1, 4, figsize=(24, 6))\n",
    "fig.tight_layout(pad=4.0)\n",
    "\n",
    "ax1.plot(pca_df[\"genetic\"], pca_df[\"euclidean\"], \"o\", alpha=0.25)\n",
    "ax1.plot(PD_Y_values_pca[\"LOWESS_x\"], PD_Y_values_pca[\"LOWESS_y\"], label=\"LOESS\")\n",
    "\n",
    "ax1.set_xlabel(\"Genetic distance\")\n",
    "ax1.set_ylabel(\"Euclidean distance (PCA)\")\n",
    "ax1.set_title(\"PCA Euclidean distance vs. genetic distance ($R^2=%.3f$)\" % (r_value_pca ** 2))\n",
    "\n",
    "ax2.plot(mds_df[\"genetic\"], mds_df[\"euclidean\"], \"o\", alpha=0.25)\n",
    "ax2.plot(PD_Y_values_mds[\"LOWESS_x\"], PD_Y_values_mds[\"LOWESS_y\"], label=\"LOESS\")\n",
    "\n",
    "ax2.set_xlabel(\"Genetic distance\")\n",
    "ax2.set_ylabel(\"Euclidean distance (MDS)\")\n",
    "ax2.set_title(\"MDS Euclidean distance vs. genetic distance ($R^2=%.3f$)\" % (r_value_mds ** 2))\n",
    "\n",
    "ax3.plot(tsne_df[\"genetic\"], tsne_df[\"euclidean\"], \"o\", alpha=0.25)\n",
    "ax3.plot(PD_Y_values_tsne[\"LOWESS_x\"], PD_Y_values_tsne[\"LOWESS_y\"], label=\"LOESS\")\n",
    "\n",
    "ax3.set_xlabel(\"Genetic distance\")\n",
    "ax3.set_ylabel(\"Euclidean distance (t-SNE)\")\n",
    "ax3.set_title(\"t-SNE Euclidean distance vs. genetic distance ($R^2=%.3f$)\" % (r_value_tsne ** 2))\n",
    "\n",
    "ax4.plot(umap_df[\"genetic\"], umap_df[\"euclidean\"], \"o\", alpha=0.25)\n",
    "ax4.plot(PD_Y_values_umap[\"LOWESS_x\"], PD_Y_values_umap[\"LOWESS_y\"], label=\"LOESS\")\n",
    "\n",
    "ax4.set_xlabel(\"Genetic distance\")\n",
    "ax4.set_ylabel(\"Euclidean distance (UMAP)\")\n",
    "ax4.set_title(\"UMAP Euclidean distance vs. genetic distance ($R^2=%.3f$)\" % (r_value_umap ** 2))\n",
    "\n",
    "\n",
    "sns.despine()\n",
    "plt.savefig(\"docs/FullScatterplot\" + virus_name + \".png\")"
   ]
  },
  {
   "cell_type": "markdown",
   "metadata": {},
   "source": [
    "## Within- and between-clade Euclidean distances for all embeddings\n",
    "\n",
    "Use the complete embedding data frame to calculate pairwise Euclidean distances between samples and plot the results in a single figure."
   ]
  },
  {
   "cell_type": "code",
   "execution_count": null,
   "metadata": {},
   "outputs": [],
   "source": [
    "data_frames = [\n",
    "    get_euclidean_data_frame(merged_df, \"PCA1\", \"PCA2\", \"PCA\"),\n",
    "    get_euclidean_data_frame(merged_df, \"MDS1\", \"MDS2\", \"MDS\"),\n",
    "    get_euclidean_data_frame(merged_df, \"TSNE1\", \"TSNE2\", \"t-SNE\"),\n",
    "    get_euclidean_data_frame(merged_df, \"UMAP1\", \"UMAP2\", \"UMAP\"),\n",
    "]"
   ]
  },
  {
   "cell_type": "markdown",
   "metadata": {},
   "source": [
    "Extract pairwise genetic (Hamming) distances corresponding to the records sampled above. This step assumes that the original merged data frame is indexed from zero to N for N total samples in the same order as the similarity matrix."
   ]
  },
  {
   "cell_type": "code",
   "execution_count": null,
   "metadata": {},
   "outputs": [],
   "source": [
    "genetic_distances = squareform(similarity_matrix)"
   ]
  },
  {
   "cell_type": "code",
   "execution_count": null,
   "metadata": {},
   "outputs": [],
   "source": [
    "data_frames.append(pd.DataFrame({\n",
    "    \"distance\": genetic_distances,\n",
    "    \"clade_status\": data_frames[0][\"clade_status\"].values,\n",
    "    \"embedding\": \"genetic\"\n",
    "}))"
   ]
  },
  {
   "cell_type": "code",
   "execution_count": null,
   "metadata": {},
   "outputs": [],
   "source": [
    "len(data_frames)"
   ]
  },
  {
   "cell_type": "code",
   "execution_count": null,
   "metadata": {},
   "outputs": [],
   "source": [
    "euclidean_data_frame = pd.concat(data_frames)"
   ]
  },
  {
   "cell_type": "code",
   "execution_count": null,
   "metadata": {},
   "outputs": [],
   "source": [
    "g = sns.FacetGrid(\n",
    "    euclidean_data_frame,\n",
    "    col=\"embedding\",\n",
    "    col_wrap=3,\n",
    "    col_order=[\"genetic\", \"PCA\", \"MDS\", \"t-SNE\", \"UMAP\"],\n",
    "    sharey=False,\n",
    "    height=4\n",
    ")\n",
    "g = g.map(sns.violinplot, \"clade_status\", \"distance\", order=[\"within\", \"between\"])\n",
    "g.set_axis_labels(\"Clade status\", \"Distance\")\n",
    "plt.savefig(\"docs/FullViolinPlot\" + virus_name + \".png\")"
   ]
  },
  {
   "cell_type": "code",
   "execution_count": null,
   "metadata": {},
   "outputs": [],
   "source": [
    "PCA_df = euclidean_data_frame[euclidean_data_frame.embedding == \"PCA\"]\n",
    "MDS_df = euclidean_data_frame[euclidean_data_frame.embedding == \"MDS\"]\n",
    "TSNE_df = euclidean_data_frame[euclidean_data_frame.embedding == \"t-SNE\"]\n",
    "UMAP_df = euclidean_data_frame[euclidean_data_frame.embedding == \"UMAP\"]\n",
    "genetic_df = euclidean_data_frame[euclidean_data_frame.embedding == \"genetic\"]"
   ]
  },
  {
   "cell_type": "code",
   "execution_count": null,
   "metadata": {},
   "outputs": [],
   "source": [
    "genetic_df"
   ]
  },
  {
   "cell_type": "code",
   "execution_count": null,
   "metadata": {},
   "outputs": [],
   "source": [
    "genetic_df['distance'].mean()"
   ]
  },
  {
   "cell_type": "code",
   "execution_count": null,
   "metadata": {},
   "outputs": [],
   "source": [
    "median_genetic_within = genetic_df[genetic_df.clade_status == \"within\"].median()\n",
    "median_genetic_between = genetic_df[genetic_df.clade_status == \"between\"].median()"
   ]
  },
  {
   "cell_type": "code",
   "execution_count": null,
   "metadata": {},
   "outputs": [],
   "source": [
    "median_PCA_within = PCA_df[PCA_df.clade_status == \"within\"].median()\n",
    "median_PCA_between = PCA_df[PCA_df.clade_status == \"between\"].median()"
   ]
  },
  {
   "cell_type": "code",
   "execution_count": null,
   "metadata": {},
   "outputs": [],
   "source": [
    "median_MDS_within = MDS_df[MDS_df.clade_status == \"within\"].median()\n",
    "median_MDS_between = MDS_df[MDS_df.clade_status == \"between\"].median()"
   ]
  },
  {
   "cell_type": "code",
   "execution_count": null,
   "metadata": {},
   "outputs": [],
   "source": [
    "median_TSNE_within = TSNE_df[TSNE_df.clade_status == \"within\"].median()\n",
    "median_TSNE_between = TSNE_df[TSNE_df.clade_status == \"between\"].median()"
   ]
  },
  {
   "cell_type": "code",
   "execution_count": null,
   "metadata": {},
   "outputs": [],
   "source": [
    "median_UMAP_within = UMAP_df[UMAP_df.clade_status == \"within\"].median()\n",
    "median_UMAP_between = UMAP_df[UMAP_df.clade_status == \"between\"].median()"
   ]
  },
  {
   "cell_type": "code",
   "execution_count": null,
   "metadata": {},
   "outputs": [],
   "source": [
    "def ratioFunction(num1, num2):\n",
    "    ratio12 = int(num1/num2)\n",
    "    return ratio12"
   ]
  },
  {
   "cell_type": "code",
   "execution_count": null,
   "metadata": {},
   "outputs": [],
   "source": [
    "genetic_ratio = ratioFunction(median_genetic_between,median_genetic_within)\n",
    "print(genetic_ratio)"
   ]
  },
  {
   "cell_type": "code",
   "execution_count": null,
   "metadata": {},
   "outputs": [],
   "source": [
    "PCA_ratio = ratioFunction(median_PCA_between,median_PCA_within)\n",
    "print(PCA_ratio)"
   ]
  },
  {
   "cell_type": "code",
   "execution_count": null,
   "metadata": {},
   "outputs": [],
   "source": [
    "MDS_ratio = ratioFunction(median_MDS_between,median_MDS_within)\n",
    "print(MDS_ratio)"
   ]
  },
  {
   "cell_type": "code",
   "execution_count": null,
   "metadata": {},
   "outputs": [],
   "source": [
    "TSNE_ratio = ratioFunction(median_TSNE_between,median_TSNE_within)\n",
    "print(TSNE_ratio)"
   ]
  },
  {
   "cell_type": "code",
   "execution_count": null,
   "metadata": {},
   "outputs": [],
   "source": [
    "UMAP_ratio = ratioFunction(median_UMAP_between,median_UMAP_within)\n",
    "print(UMAP_ratio)"
   ]
  },
  {
   "cell_type": "markdown",
   "metadata": {},
   "source": [
    "## Missing Bases Analysis"
   ]
  },
  {
   "cell_type": "markdown",
   "metadata": {},
   "source": [
    "(low importance)\n",
    "- use similarity_matrix.index and cluster by K-means\n",
    "- find accuracy by taking into account the total amount of relationships between clusters and taking the percentage of them which are STILL correct (ex. within/between stays within/between)\n",
    "    - this allows you to reuse code if needed"
   ]
  },
  {
   "cell_type": "code",
   "execution_count": null,
   "metadata": {},
   "outputs": [],
   "source": [
    "from sklearn.cluster import KMeans\n",
    "kmeans = KMeans(n_clusters=7, init='k-means++', n_init=10, max_iter=300, tol=0.0001, precompute_distances='auto', verbose=0, random_state=None, copy_x=True, n_jobs=None, algorithm='auto')\n",
    "kmeans_data= kmeans.fit(X_transformed_tsne)"
   ]
  },
  {
   "cell_type": "code",
   "execution_count": null,
   "metadata": {},
   "outputs": [],
   "source": [
    "merged_tsne_df_copy = merged_tsne_df.copy()\n",
    "merged_tsne_df_copy[\"clade_membership\"] = kmeans_data.labels_"
   ]
  },
  {
   "cell_type": "code",
   "execution_count": null,
   "metadata": {},
   "outputs": [],
   "source": [
    "brush = alt.selection(type='interval', resolve='global')\n",
    "chart = alt.Chart(merged_tsne_df_copy).mark_circle(size=60).encode(\n",
    "    x=alt.X(\"TSNE1\", title=\"TSNE1\"),\n",
    "    y=alt.X(\"TSNE2\", title=\"TSNE2\"),\n",
    "    color=alt.Color('clade_membership',\n",
    "               scale=alt.Scale(\n",
    "        domain = [\"0\", \"1\", \"2\", \"3\", \"4\", \"5\", \"6\"],\n",
    "        range=['blue', 'orange', \"red\", \"light blue\", \"green\", \"yellow\", \"purple\"])),\n",
    "    tooltip=[\"strain\", \"clade_membership\"]\n",
    ").interactive()\n",
    "chart.display()"
   ]
  },
  {
   "cell_type": "code",
   "execution_count": null,
   "metadata": {},
   "outputs": [],
   "source": [
    "chart2 = scatterplot_with_tooltip_interactive(merged_tsne_df,'TSNE1','TSNE2',\"TSNE1\",\"TSNE2\",['strain','clade_membership'],'clade_membership_color')"
   ]
  },
  {
   "cell_type": "code",
   "execution_count": null,
   "metadata": {},
   "outputs": [],
   "source": [
    "chart | chart2"
   ]
  },
  {
   "cell_type": "code",
   "execution_count": null,
   "metadata": {},
   "outputs": [],
   "source": [
    "merged_tsne_df_copy = get_euclidean_data_frame(merged_tsne_df_copy, \"TSNE1\", \"TSNE2\", \"TSNE\")"
   ]
  },
  {
   "cell_type": "code",
   "execution_count": null,
   "metadata": {},
   "outputs": [],
   "source": [
    "diff_btw_df = TSNE_violin_df[\"clade_status\"] == merged_tsne_df_copy[\"clade_status\"]\n",
    "diff_btw_df.sum()"
   ]
  },
  {
   "cell_type": "code",
   "execution_count": null,
   "metadata": {},
   "outputs": [],
   "source": [
    "((diff_btw_df.sum() / TSNE_violin_df.shape[0])*100)"
   ]
  },
  {
   "cell_type": "code",
   "execution_count": null,
   "metadata": {},
   "outputs": [],
   "source": [
    "from sklearn.metrics import confusion_matrix\n",
    "confusion = confusion_matrix(TSNE_violin_df[\"clade_status\"], merged_tsne_df_copy[\"clade_status\"])\n",
    "confusion_df = pd.DataFrame(confusion)"
   ]
  },
  {
   "cell_type": "code",
   "execution_count": null,
   "metadata": {},
   "outputs": [],
   "source": [
    "confusion_df.columns = [\"False\", \"True\"]\n",
    "confusion_df.index = [\"False\", \"True\"]\n",
    "confusion_df"
   ]
  },
  {
   "cell_type": "code",
   "execution_count": null,
   "metadata": {},
   "outputs": [],
   "source": [
    "sns.heatmap(confusion_df, cmap = sns.diverging_palette(220, 10, as_cmap=True))"
   ]
  },
  {
   "cell_type": "code",
   "execution_count": null,
   "metadata": {},
   "outputs": [],
   "source": [
    "from sklearn.cluster import KMeans\n",
    "kmeans = KMeans(n_clusters=7, init='k-means++', n_init=10, max_iter=300, tol=0.0001, precompute_distances='auto', verbose=0, random_state=None, copy_x=True, n_jobs=None, algorithm='auto')\n",
    "kmeans_data= kmeans.fit(X_transformed_umap)"
   ]
  },
  {
   "cell_type": "code",
   "execution_count": null,
   "metadata": {},
   "outputs": [],
   "source": [
    "merged_umap_df_copy = merged_umap_df.copy()\n",
    "merged_umap_df_copy[\"clade_membership\"] = kmeans_data.labels_"
   ]
  },
  {
   "cell_type": "code",
   "execution_count": null,
   "metadata": {},
   "outputs": [],
   "source": [
    "brush = alt.selection(type='interval', resolve='global')\n",
    "chart = alt.Chart(merged_umap_df_copy).mark_circle(size=60).encode(\n",
    "    x=alt.X(\"UMAP1\", title=\"UMAP1\"),\n",
    "    y=alt.X(\"UMAP2\", title=\"UMAP2\"),\n",
    "    color=alt.Color('clade_membership',\n",
    "               scale=alt.Scale(\n",
    "        domain = [\"0\", \"1\", \"2\", \"3\", \"4\", \"5\", \"6\"],\n",
    "        range=['blue', 'orange', \"red\", \"light blue\", \"green\", \"yellow\", \"purple\"])),\n",
    "    tooltip=[\"strain\", \"clade_membership\"]\n",
    ").interactive()\n",
    "chart.display()"
   ]
  },
  {
   "cell_type": "code",
   "execution_count": null,
   "metadata": {},
   "outputs": [],
   "source": [
    "chart2 = scatterplot_with_tooltip_interactive(merged_umap_df,'UMAP1','UMAP2',\"UMAP1\",\"UMAP2\",['strain','clade_membership'],'clade_membership_color')"
   ]
  },
  {
   "cell_type": "code",
   "execution_count": null,
   "metadata": {},
   "outputs": [],
   "source": [
    "chart | chart2"
   ]
  },
  {
   "cell_type": "code",
   "execution_count": null,
   "metadata": {},
   "outputs": [],
   "source": [
    "merged_umap_df_copy = get_euclidean_data_frame(merged_umap_df_copy, \"UMAP1\", \"UMAP2\", \"UMAP\")"
   ]
  },
  {
   "cell_type": "code",
   "execution_count": null,
   "metadata": {},
   "outputs": [],
   "source": [
    "diff_btw_df = UMAP_violin_df[\"clade_status\"] == merged_umap_df_copy[\"clade_status\"]\n",
    "diff_btw_df.sum()"
   ]
  },
  {
   "cell_type": "code",
   "execution_count": null,
   "metadata": {},
   "outputs": [],
   "source": [
    "((diff_btw_df.sum() / UMAP_violin_df.shape[0])*100)"
   ]
  },
  {
   "cell_type": "code",
   "execution_count": null,
   "metadata": {},
   "outputs": [],
   "source": [
    "from sklearn.metrics import confusion_matrix\n",
    "confusion = confusion_matrix(UMAP_violin_df[\"clade_status\"], merged_umap_df_copy[\"clade_status\"])\n",
    "confusion_df = pd.DataFrame(confusion)"
   ]
  },
  {
   "cell_type": "code",
   "execution_count": null,
   "metadata": {},
   "outputs": [],
   "source": [
    "confusion_df.columns = [\"False\", \"True\"]\n",
    "confusion_df.index = [\"False\", \"True\"]\n",
    "confusion_df"
   ]
  },
  {
   "cell_type": "code",
   "execution_count": null,
   "metadata": {},
   "outputs": [],
   "source": [
    "sns.heatmap(confusion_df, cmap = sns.diverging_palette(220, 10, as_cmap=True))"
   ]
  },
  {
   "cell_type": "code",
   "execution_count": null,
   "metadata": {},
   "outputs": [],
   "source": [
    "from sklearn.cluster import KMeans\n",
    "kmeans = KMeans(n_clusters=7, init='k-means++', n_init=10, max_iter=300, tol=0.0001, precompute_distances='auto', verbose=0, random_state=None, copy_x=True, n_jobs=None, algorithm='auto')\n",
    "kmeans_data= kmeans.fit(X_transformed_mds)"
   ]
  },
  {
   "cell_type": "code",
   "execution_count": null,
   "metadata": {},
   "outputs": [],
   "source": [
    "merged_mds_df_copy = merged_mds_df.copy()\n",
    "merged_mds_df_copy[\"clade_membership\"] = kmeans_data.labels_"
   ]
  },
  {
   "cell_type": "code",
   "execution_count": null,
   "metadata": {},
   "outputs": [],
   "source": [
    "brush = alt.selection(type='interval', resolve='global')\n",
    "chart = alt.Chart(merged_mds_df_copy).mark_circle(size=60).encode(\n",
    "    x=alt.X(\"MDS1\", title=\"MDS1\"),\n",
    "    y=alt.X(\"MDS2\", title=\"MDS2\"),\n",
    "    color=alt.Color('clade_membership',\n",
    "               scale=alt.Scale(\n",
    "        domain = [\"0\", \"1\", \"2\", \"3\", \"4\", \"5\", \"6\"],\n",
    "        range=['blue', 'orange', \"red\", \"light blue\", \"green\", \"yellow\", \"purple\"])),\n",
    "    tooltip=[\"strain\", \"clade_membership\"]\n",
    ").interactive()\n",
    "chart.display()"
   ]
  },
  {
   "cell_type": "code",
   "execution_count": null,
   "metadata": {},
   "outputs": [],
   "source": [
    "chart2 = scatterplot_with_tooltip_interactive(merged_mds_df,'MDS1','MDS2',\"MDS1\",\"MDS2\",['strain','clade_membership'],'clade_membership_color')"
   ]
  },
  {
   "cell_type": "code",
   "execution_count": null,
   "metadata": {},
   "outputs": [],
   "source": [
    "chart | chart2"
   ]
  },
  {
   "cell_type": "code",
   "execution_count": null,
   "metadata": {},
   "outputs": [],
   "source": [
    "merged_mds_df_copy = get_euclidean_data_frame(merged_mds_df_copy, \"MDS1\", \"MDS2\", \"MDS\")"
   ]
  },
  {
   "cell_type": "code",
   "execution_count": null,
   "metadata": {},
   "outputs": [],
   "source": [
    "diff_btw_df = MDS_violin_df[\"clade_status\"] == merged_mds_df_copy[\"clade_status\"]\n",
    "diff_btw_df.sum()"
   ]
  },
  {
   "cell_type": "code",
   "execution_count": null,
   "metadata": {},
   "outputs": [],
   "source": [
    "((diff_btw_df.sum() / MDS_violin_df.shape[0])*100)"
   ]
  },
  {
   "cell_type": "code",
   "execution_count": null,
   "metadata": {},
   "outputs": [],
   "source": [
    "from sklearn.metrics import confusion_matrix\n",
    "confusion = confusion_matrix(MDS_violin_df[\"clade_status\"], merged_mds_df_copy[\"clade_status\"])\n",
    "confusion_df = pd.DataFrame(confusion)"
   ]
  },
  {
   "cell_type": "code",
   "execution_count": null,
   "metadata": {},
   "outputs": [],
   "source": [
    "confusion_df.columns = [\"False\", \"True\"]\n",
    "confusion_df.index = [\"False\", \"True\"]\n",
    "confusion_df"
   ]
  },
  {
   "cell_type": "code",
   "execution_count": null,
   "metadata": {},
   "outputs": [],
   "source": [
    "sns.heatmap(confusion_df, cmap = sns.diverging_palette(220, 10, as_cmap=True))"
   ]
  },
  {
   "cell_type": "code",
   "execution_count": null,
   "metadata": {},
   "outputs": [],
   "source": []
  }
 ],
 "metadata": {
  "kernelspec": {
   "display_name": "Python 3",
   "language": "python",
   "name": "python3"
  },
  "language_info": {
   "codemirror_mode": {
    "name": "ipython",
    "version": 3
   },
   "file_extension": ".py",
   "mimetype": "text/x-python",
   "name": "python",
   "nbconvert_exporter": "python",
   "pygments_lexer": "ipython3",
   "version": "3.6.10"
  }
 },
 "nbformat": 4,
 "nbformat_minor": 4
}
