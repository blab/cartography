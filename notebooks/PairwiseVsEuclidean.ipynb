{
 "cells": [
  {
   "cell_type": "code",
   "execution_count": null,
   "metadata": {},
   "outputs": [],
   "source": [
    "import pandas as pd\n",
    "import numpy as np\n",
    "from Bio import SeqIO\n",
    "strains = []\n",
    "genomes = []\n",
    "for record in SeqIO.parse('C:/Users/srava/BedfordProjects/zika/results/aligned.fasta', \"fasta\"):\n",
    "        strains.append(str(record.id))\n",
    "        genomes.append(str(record.seq))"
   ]
  },
  {
   "cell_type": "code",
   "execution_count": null,
   "metadata": {},
   "outputs": [],
   "source": [
    "dataa = pd.read_csv(\"DistanceMatrix\")"
   ]
  },
  {
   "cell_type": "code",
   "execution_count": null,
   "metadata": {},
   "outputs": [],
   "source": [
    "pairwise_distance = dataa.to_numpy()[np.triu_indices(486, k = 1)]"
   ]
  },
  {
   "cell_type": "code",
   "execution_count": null,
   "metadata": {},
   "outputs": [],
   "source": [
    "pairwise_distance"
   ]
  },
  {
   "cell_type": "code",
   "execution_count": null,
   "metadata": {},
   "outputs": [],
   "source": [
    "dataa_subset = dataa.loc[0:49, 'strain 1':'strain 50']"
   ]
  },
  {
   "cell_type": "code",
   "execution_count": null,
   "metadata": {},
   "outputs": [],
   "source": [
    "pairwise_distance_subset = dataa.to_numpy()[np.tril_indices(len(genomes), k = 1)]"
   ]
  },
  {
   "cell_type": "code",
   "execution_count": null,
   "metadata": {},
   "outputs": [],
   "source": [
    "from sklearn.manifold import TSNE\n",
    "embedding = TSNE(n_components=2,metric='precomputed',perplexity = 25.95)\n",
    "X_transformed = embedding.fit_transform(dataa)"
   ]
  },
  {
   "cell_type": "code",
   "execution_count": null,
   "metadata": {},
   "outputs": [],
   "source": [
    "MDS_df = pd.DataFrame(X_transformed,columns=['cluster ' + str(i) for i in range(1,3)])\n",
    "print(MDS_df.head())"
   ]
  },
  {
   "cell_type": "code",
   "execution_count": null,
   "metadata": {},
   "outputs": [],
   "source": [
    "#merging my final dataframe with their regions and strain names\n",
    "import pandas as pd\n",
    "metadata_df = pd.read_csv(r'C:\\Users\\srava\\BedfordProjects\\zika\\results\\metadata.tsv', delimiter='\\t')"
   ]
  },
  {
   "cell_type": "code",
   "execution_count": null,
   "metadata": {},
   "outputs": [],
   "source": [
    "metadata_df.head()"
   ]
  },
  {
   "cell_type": "code",
   "execution_count": null,
   "metadata": {},
   "outputs": [],
   "source": [
    "strains_df = pd.DataFrame(strains)\n",
    "strains_df.columns = ['strain']"
   ]
  },
  {
   "cell_type": "code",
   "execution_count": null,
   "metadata": {},
   "outputs": [],
   "source": [
    "result_strains = pd.merge(strains_df,metadata_df, on='strain')"
   ]
  },
  {
   "cell_type": "code",
   "execution_count": null,
   "metadata": {},
   "outputs": [],
   "source": [
    "result_strains.head()"
   ]
  },
  {
   "cell_type": "code",
   "execution_count": null,
   "metadata": {},
   "outputs": [],
   "source": [
    "finalDf = pd.concat([MDS_df, result_strains[['region','country','strain']]], axis = 1)"
   ]
  },
  {
   "cell_type": "code",
   "execution_count": null,
   "metadata": {},
   "outputs": [],
   "source": [
    "finalDf"
   ]
  },
  {
   "cell_type": "code",
   "execution_count": null,
   "metadata": {},
   "outputs": [],
   "source": [
    "#There are 519 strains up until here"
   ]
  },
  {
   "cell_type": "code",
   "execution_count": null,
   "metadata": {},
   "outputs": [],
   "source": [
    "import altair as alt\n",
    "from augur.utils import json_to_tree\n",
    "import json\n",
    "import pandas as pd"
   ]
  },
  {
   "cell_type": "code",
   "execution_count": null,
   "metadata": {},
   "outputs": [],
   "source": [
    "# Import modules\n",
    "with open('Data/zika_tree.json') as fh:\n",
    "    json_tree_handle = json.load(fh)\n",
    "#json_tree_handle = json.loads(requests.get(\"http://data.nextstrain.org/zika_tree.json\").text)\n",
    "# Download tree JSON file used by auspice. Despite its filename extension, the data are compressed.\n",
    "#http = urllib3.PoolManager()\n",
    "# = http.request('GET', \"\")\n"
   ]
  },
  {
   "cell_type": "code",
   "execution_count": null,
   "metadata": {},
   "outputs": [],
   "source": [
    "tree = json_to_tree(json_tree_handle)"
   ]
  },
  {
   "cell_type": "code",
   "execution_count": null,
   "metadata": {},
   "outputs": [],
   "source": [
    "tree"
   ]
  },
  {
   "cell_type": "code",
   "execution_count": null,
   "metadata": {},
   "outputs": [],
   "source": [
    "node_data = [\n",
    "    {\n",
    "        \"strain\": node.name,\n",
    "        \"date\": node.attr[\"num_date\"],\n",
    "        \"y\": node.yvalue,\n",
    "        \"region\": node.attr[\"region\"],\n",
    "        \"country\": node.attr[\"country\"],\n",
    "        \"parent_date\": node.parent is not None and node.parent.attr[\"num_date\"] or node.attr[\"num_date\"],\n",
    "        \"parent_y\": node.parent is not None and node.parent.yvalue or node.yvalue\n",
    "    }\n",
    "    for node in tree.find_clades(terminal=True)\n",
    "]"
   ]
  },
  {
   "cell_type": "code",
   "execution_count": null,
   "metadata": {},
   "outputs": [],
   "source": [
    "node_data[10]"
   ]
  },
  {
   "cell_type": "code",
   "execution_count": null,
   "metadata": {},
   "outputs": [],
   "source": [
    "node_df = pd.DataFrame(node_data)"
   ]
  },
  {
   "cell_type": "code",
   "execution_count": null,
   "metadata": {},
   "outputs": [],
   "source": [
    "node_df.head()\n",
    "#there are 517 strains here"
   ]
  },
  {
   "cell_type": "code",
   "execution_count": null,
   "metadata": {},
   "outputs": [],
   "source": [
    "node_df[\"y\"] = node_df[\"y\"].max() - node_df[\"y\"]"
   ]
  },
  {
   "cell_type": "code",
   "execution_count": null,
   "metadata": {},
   "outputs": [],
   "source": [
    "node_df[\"parent_y\"] = node_df[\"parent_y\"].max() - node_df[\"parent_y\"]"
   ]
  },
  {
   "cell_type": "code",
   "execution_count": null,
   "metadata": {},
   "outputs": [],
   "source": [
    "node_df.shape"
   ]
  },
  {
   "cell_type": "code",
   "execution_count": null,
   "metadata": {},
   "outputs": [],
   "source": [
    "node_df.head()"
   ]
  },
  {
   "cell_type": "code",
   "execution_count": null,
   "metadata": {},
   "outputs": [],
   "source": [
    "node_df[\"region\"].unique()"
   ]
  },
  {
   "cell_type": "code",
   "execution_count": null,
   "metadata": {},
   "outputs": [],
   "source": [
    "finalDf[\"region\"].unique()"
   ]
  },
  {
   "cell_type": "code",
   "execution_count": null,
   "metadata": {},
   "outputs": [],
   "source": [
    "merged_df = pd.merge(finalDf,node_df,on=[\"strain\",\"region\"]).dropna()"
   ]
  },
  {
   "cell_type": "code",
   "execution_count": null,
   "metadata": {},
   "outputs": [],
   "source": [
    "merged_df\n",
    "#this has 485 strains"
   ]
  },
  {
   "cell_type": "markdown",
   "metadata": {},
   "source": [
    "# Pairwise vs. Euclidean distance scatterplot"
   ]
  },
  {
   "cell_type": "code",
   "execution_count": null,
   "metadata": {},
   "outputs": [],
   "source": [
    "#change pandas to numpy for euclidean and pairwise\n",
    "#plot the points and draw the least squares regression line\n",
    "#print out r\n",
    "#do it for T-SNE, UMAP, MDS, all of them and add it as a panel to all the graphs\n",
    "#start putting together a more cohesive github pages to look at all the panels\n",
    "\n",
    "#make a final project notebook and start putting it together in a cohesive way\n",
    "#try for flu clades (Color by clade instead of region) and see how it works"
   ]
  },
  {
   "cell_type": "code",
   "execution_count": null,
   "metadata": {},
   "outputs": [],
   "source": [
    "#work on making this work\n",
    "\n",
    "import pandas as pd\n",
    "import numpy as np\n",
    "from Bio import SeqIO\n",
    "strains = []\n",
    "genomes = []\n",
    "for record in SeqIO.parse('C:/Users/srava/BedfordProjects/zika/results/aligned.fasta', \"fasta\"):\n",
    "        strains.append(str(record.id))\n",
    "        genomes.append(str(record.seq))"
   ]
  },
  {
   "cell_type": "code",
   "execution_count": null,
   "metadata": {},
   "outputs": [],
   "source": [
    "len(strains)\n",
    "print(len(genomes))"
   ]
  },
  {
   "cell_type": "code",
   "execution_count": null,
   "metadata": {},
   "outputs": [],
   "source": [
    "strains[:5]"
   ]
  },
  {
   "cell_type": "code",
   "execution_count": null,
   "metadata": {},
   "outputs": [],
   "source": [
    "merged_df.head()"
   ]
  },
  {
   "cell_type": "code",
   "execution_count": null,
   "metadata": {},
   "outputs": [],
   "source": [
    "#recalculate the pairwise distance here with merged df (add column of genomes and run pairwise distance again)"
   ]
  },
  {
   "cell_type": "code",
   "execution_count": null,
   "metadata": {},
   "outputs": [],
   "source": [
    "genomes_df = pd.DataFrame(genomes)\n",
    "genomes_df.columns = ['genomes']"
   ]
  },
  {
   "cell_type": "code",
   "execution_count": null,
   "metadata": {},
   "outputs": [],
   "source": [
    "strains_df = pd.DataFrame(strains)\n",
    "strains_df.columns = ['strain']"
   ]
  },
  {
   "cell_type": "code",
   "execution_count": null,
   "metadata": {},
   "outputs": [],
   "source": [
    "df_merged = genomes_df.merge(strains_df, how='outer', left_index=True, right_index=True)"
   ]
  },
  {
   "cell_type": "code",
   "execution_count": null,
   "metadata": {},
   "outputs": [],
   "source": [
    "merged2_df = df_merged.merge(merged_df, how = 'inner', on = 'strain')\n",
    "merged2_df = merged2_df[['genomes','strain']]\n",
    "merged2_df.head()"
   ]
  },
  {
   "cell_type": "code",
   "execution_count": null,
   "metadata": {},
   "outputs": [],
   "source": [
    "genomes_numpy = merged2_df[['genomes']].to_numpy()\n",
    "genomes = genomes_numpy.tolist()\n",
    "genomes = list(genomes_numpy)"
   ]
  },
  {
   "cell_type": "code",
   "execution_count": null,
   "metadata": {},
   "outputs": [],
   "source": [
    "# Return the Hamming distance between string1 and string2.\n",
    "# string1 and string2 should be the same length.\n",
    "def hamming_distance(array1, array2): \n",
    "    # Start with a distance of zero, and count up\n",
    "    distance = 0\n",
    "    # Loop over the indices of the string\n",
    "    L = len(array1)\n",
    "    for i in range(L):\n",
    "        # Add 1 to the distance if these two characters are not equal\n",
    "        if array1[i] != array2[i] and array1[i] != 'N' and array2[i] != 'N':\n",
    "            distance += 1\n",
    "    # Return the final count of differences\n",
    "    return distance"
   ]
  },
  {
   "cell_type": "code",
   "execution_count": null,
   "metadata": {},
   "outputs": [],
   "source": [
    "#Using the Hamming distance to create a similarity matrix\n",
    "numbers = []\n",
    "matrixOfNum = []\n",
    "for i in merged2_df.index:\n",
    "    for j in merged2_df.index:\n",
    "        num = hamming_distance(merged2_df['genomes'][i],merged2_df['genomes'][j])\n",
    "        numbers.append(num)\n",
    "    matrixOfNum.append(numbers)\n",
    "    numbers = []\n",
    "dataa = pd.DataFrame(matrixOfNum, columns = [\"strain \" + str(i) for i in range(1,len(matrixOfNum) + 1)], dtype=\"float\")\n",
    "print(dataa)"
   ]
  },
  {
   "cell_type": "code",
   "execution_count": null,
   "metadata": {},
   "outputs": [],
   "source": [
    "#Read in correct matrix\n",
    "merged_df"
   ]
  },
  {
   "cell_type": "code",
   "execution_count": null,
   "metadata": {},
   "outputs": [],
   "source": [
    "dataa = dataa.to_csv(\"DistanceMatrixPairwiseEuclidean\",sep=',',index=False)"
   ]
  },
  {
   "cell_type": "code",
   "execution_count": null,
   "metadata": {},
   "outputs": [],
   "source": [
    "dataa.shape"
   ]
  },
  {
   "cell_type": "code",
   "execution_count": null,
   "metadata": {},
   "outputs": [],
   "source": [
    "import numpy as np\n",
    "pairwise_distance_array = np.array(dataa)[np.triu_indices(486, k = 1)]"
   ]
  },
  {
   "cell_type": "code",
   "execution_count": null,
   "metadata": {},
   "outputs": [],
   "source": [
    "len(pairwise_distance_array)"
   ]
  },
  {
   "cell_type": "code",
   "execution_count": null,
   "metadata": {},
   "outputs": [],
   "source": [
    "pairwise_df = pd.DataFrame(pairwise_distance_array)"
   ]
  },
  {
   "cell_type": "code",
   "execution_count": null,
   "metadata": {},
   "outputs": [],
   "source": [
    "from scipy.spatial.distance import squareform, pdist\n",
    "euclidean_distance_array = pdist(merged_df[['cluster 1','cluster 2']])"
   ]
  },
  {
   "cell_type": "code",
   "execution_count": null,
   "metadata": {},
   "outputs": [],
   "source": [
    "euclidean_distance_array"
   ]
  },
  {
   "cell_type": "code",
   "execution_count": null,
   "metadata": {},
   "outputs": [],
   "source": [
    "len(euclidean_distance_array)"
   ]
  },
  {
   "cell_type": "code",
   "execution_count": null,
   "metadata": {},
   "outputs": [],
   "source": [
    "euclidean_df = pd.DataFrame(euclidean_distance_array)"
   ]
  },
  {
   "cell_type": "code",
   "execution_count": null,
   "metadata": {},
   "outputs": [],
   "source": [
    "final_df = pairwise_df.merge(euclidean_df,how='inner',left_index=True, right_index=True)"
   ]
  },
  {
   "cell_type": "raw",
   "metadata": {},
   "source": [
    "final_df"
   ]
  },
  {
   "cell_type": "code",
   "execution_count": null,
   "metadata": {},
   "outputs": [],
   "source": [
    "import altair as alt\n",
    "alt.data_transformers.disable_max_rows()\n",
    "alt.Chart(final_df).mark_circle(size=60).encode(\n",
    "    x=alt.X('0_x',title = \"pairwise distance\"),\n",
    "    y=alt.X('0_y', title = \"Euclidean distance\"),\n",
    "    tooltip=['0_x', '0_y']\n",
    ").properties(title=\"pairwise vs. Euclidean scatterplot: T-SNE\")"
   ]
  },
  {
   "cell_type": "code",
   "execution_count": null,
   "metadata": {},
   "outputs": [],
   "source": [
    "dataa = pd.read_csv(\"DistanceMatrixPairwiseEuclidean\")"
   ]
  },
  {
   "cell_type": "code",
   "execution_count": null,
   "metadata": {},
   "outputs": [],
   "source": [
    "from sklearn.manifold import MDS\n",
    "embedding = MDS(n_components=10,metric=True,dissimilarity='precomputed')\n",
    "X_transformed = embedding.fit_transform(dataa)"
   ]
  },
  {
   "cell_type": "code",
   "execution_count": null,
   "metadata": {},
   "outputs": [],
   "source": [
    "MDS_df = pd.DataFrame(X_transformed,columns=['cluster ' + str(i) for i in range(1,11)])\n",
    "print(MDS_df.head())"
   ]
  },
  {
   "cell_type": "code",
   "execution_count": null,
   "metadata": {},
   "outputs": [],
   "source": [
    "len(MDS_df)"
   ]
  },
  {
   "cell_type": "code",
   "execution_count": null,
   "metadata": {},
   "outputs": [],
   "source": [
    "finalDf = pd.concat([MDS_df, result_strains[['strain']]], axis = 1).dropna()"
   ]
  },
  {
   "cell_type": "code",
   "execution_count": null,
   "metadata": {},
   "outputs": [],
   "source": [
    "finalDf"
   ]
  },
  {
   "cell_type": "code",
   "execution_count": null,
   "metadata": {},
   "outputs": [],
   "source": [
    "import numpy as np\n",
    "pairwise_distance_array = np.array(dataa)[np.triu_indices(486, k = 1)]"
   ]
  },
  {
   "cell_type": "code",
   "execution_count": null,
   "metadata": {},
   "outputs": [],
   "source": [
    "pairwise_df = pd.DataFrame(pairwise_distance_array)"
   ]
  },
  {
   "cell_type": "code",
   "execution_count": null,
   "metadata": {},
   "outputs": [],
   "source": [
    "from scipy.spatial.distance import squareform, pdist\n",
    "euclidean_distance_array = pdist(finalDf[['cluster 1','cluster 2']])"
   ]
  },
  {
   "cell_type": "code",
   "execution_count": null,
   "metadata": {},
   "outputs": [],
   "source": [
    "euclidean_distance_array"
   ]
  },
  {
   "cell_type": "code",
   "execution_count": null,
   "metadata": {},
   "outputs": [],
   "source": [
    "len(euclidean_distance_array)"
   ]
  },
  {
   "cell_type": "code",
   "execution_count": null,
   "metadata": {},
   "outputs": [],
   "source": [
    "euclidean_df = pd.DataFrame(euclidean_distance_array)"
   ]
  },
  {
   "cell_type": "code",
   "execution_count": null,
   "metadata": {},
   "outputs": [],
   "source": [
    "final_df = pairwise_df.merge(euclidean_df,how='inner',left_index=True, right_index=True)"
   ]
  },
  {
   "cell_type": "code",
   "execution_count": null,
   "metadata": {},
   "outputs": [],
   "source": [
    "import altair as alt\n",
    "alt.data_transformers.disable_max_rows()\n",
    "alt.Chart(final_df).mark_circle(size=60).encode(\n",
    "    x=alt.X('0_x',title = \"pairwise distance\"),\n",
    "    y=alt.X('0_y', title = \"Euclidean distance\"),\n",
    "    tooltip=['0_x', '0_y']\n",
    ").properties(title=\"pairwise vs. Euclidean scatterplot: MDS\")"
   ]
  },
  {
   "cell_type": "code",
   "execution_count": null,
   "metadata": {},
   "outputs": [],
   "source": []
  },
  {
   "cell_type": "code",
   "execution_count": null,
   "metadata": {},
   "outputs": [],
   "source": [
    "dataa = pd.read_csv(\"DistanceMatrixPairwiseEuclidean\")"
   ]
  },
  {
   "cell_type": "code",
   "execution_count": null,
   "metadata": {},
   "outputs": [],
   "source": [
    "import umap\n",
    "reducer = umap.UMAP()\n",
    "embedding = reducer.fit_transform(dataa)"
   ]
  },
  {
   "cell_type": "code",
   "execution_count": null,
   "metadata": {},
   "outputs": [],
   "source": [
    "UMAP_df = pd.DataFrame(embedding,columns=['cluster ' + str(i) for i in range(1,3)])\n",
    "print(UMAP_df.head())"
   ]
  },
  {
   "cell_type": "code",
   "execution_count": null,
   "metadata": {},
   "outputs": [],
   "source": [
    "len(UMAP_df)"
   ]
  },
  {
   "cell_type": "code",
   "execution_count": null,
   "metadata": {},
   "outputs": [],
   "source": [
    "finalDf = pd.concat([UMAP_df, result_strains[['strain']]], axis = 1).dropna()"
   ]
  },
  {
   "cell_type": "code",
   "execution_count": null,
   "metadata": {},
   "outputs": [],
   "source": [
    "finalDf"
   ]
  },
  {
   "cell_type": "code",
   "execution_count": null,
   "metadata": {},
   "outputs": [],
   "source": [
    "import numpy as np\n",
    "pairwise_distance_array = np.array(dataa)[np.triu_indices(486, k = 1)]"
   ]
  },
  {
   "cell_type": "code",
   "execution_count": null,
   "metadata": {},
   "outputs": [],
   "source": [
    "pairwise_df = pd.DataFrame(pairwise_distance_array)"
   ]
  },
  {
   "cell_type": "code",
   "execution_count": null,
   "metadata": {},
   "outputs": [],
   "source": [
    "from scipy.spatial.distance import squareform, pdist\n",
    "euclidean_distance_array = pdist(finalDf[['cluster 1','cluster 2']])"
   ]
  },
  {
   "cell_type": "code",
   "execution_count": null,
   "metadata": {},
   "outputs": [],
   "source": [
    "euclidean_distance_array"
   ]
  },
  {
   "cell_type": "code",
   "execution_count": null,
   "metadata": {},
   "outputs": [],
   "source": [
    "len(euclidean_distance_array)"
   ]
  },
  {
   "cell_type": "code",
   "execution_count": null,
   "metadata": {},
   "outputs": [],
   "source": [
    "euclidean_df = pd.DataFrame(euclidean_distance_array)"
   ]
  },
  {
   "cell_type": "code",
   "execution_count": null,
   "metadata": {},
   "outputs": [],
   "source": [
    "final_df = pairwise_df.merge(euclidean_df,how='inner',left_index=True, right_index=True)"
   ]
  },
  {
   "cell_type": "code",
   "execution_count": null,
   "metadata": {},
   "outputs": [],
   "source": [
    "import altair as alt\n",
    "alt.data_transformers.disable_max_rows()\n",
    "alt.Chart(final_df).mark_circle(size=60).encode(\n",
    "    x=alt.X('0_x',title = \"pairwise distance\"),\n",
    "    y=alt.X('0_y', title = \"Euclidean distance\"),\n",
    "    tooltip=['0_x', '0_y']\n",
    ").properties(title=\"pairwise vs. Euclidean scatterplot: UMAP\")"
   ]
  },
  {
   "cell_type": "code",
   "execution_count": null,
   "metadata": {},
   "outputs": [],
   "source": [
    "from sklearn.decomposition import PCA\n",
    "\n",
    "\n",
    "#performing PCA on my pandas dataframe \n",
    "pca = PCA(n_components=10,svd_solver='full') #can specify n, since with no prior knowledge, I use None\n",
    "principalComponents = pca.fit_transform(dataa)\n",
    "principalDf = pd.DataFrame(data = principalComponents, columns = [\"principal component \" + str(i) for i in range(1,11)])"
   ]
  },
  {
   "cell_type": "code",
   "execution_count": null,
   "metadata": {},
   "outputs": [],
   "source": [
    "principalDf.head()"
   ]
  },
  {
   "cell_type": "code",
   "execution_count": null,
   "metadata": {},
   "outputs": [],
   "source": [
    "finalDf = pd.concat([principalDf, result_strains[['strain']]], axis = 1).dropna()"
   ]
  },
  {
   "cell_type": "code",
   "execution_count": null,
   "metadata": {},
   "outputs": [],
   "source": [
    "finalDf"
   ]
  },
  {
   "cell_type": "code",
   "execution_count": null,
   "metadata": {},
   "outputs": [],
   "source": [
    "import numpy as np\n",
    "pairwise_distance_array = np.array(dataa)[np.triu_indices(486, k = 1)]"
   ]
  },
  {
   "cell_type": "code",
   "execution_count": null,
   "metadata": {},
   "outputs": [],
   "source": [
    "pairwise_df = pd.DataFrame(pairwise_distance_array)"
   ]
  },
  {
   "cell_type": "code",
   "execution_count": null,
   "metadata": {},
   "outputs": [],
   "source": [
    "from scipy.spatial.distance import squareform, pdist\n",
    "euclidean_distance_array = pdist(finalDf[['principal component 1','principal component 2']])"
   ]
  },
  {
   "cell_type": "code",
   "execution_count": null,
   "metadata": {},
   "outputs": [],
   "source": [
    "euclidean_distance_array"
   ]
  },
  {
   "cell_type": "code",
   "execution_count": null,
   "metadata": {},
   "outputs": [],
   "source": [
    "len(euclidean_distance_array)"
   ]
  },
  {
   "cell_type": "code",
   "execution_count": null,
   "metadata": {},
   "outputs": [],
   "source": [
    "euclidean_df = pd.DataFrame(euclidean_distance_array)"
   ]
  },
  {
   "cell_type": "code",
   "execution_count": null,
   "metadata": {},
   "outputs": [],
   "source": [
    "final_df = pairwise_df.merge(euclidean_df,how='inner',left_index=True, right_index=True)"
   ]
  },
  {
   "cell_type": "code",
   "execution_count": null,
   "metadata": {},
   "outputs": [],
   "source": [
    "import altair as alt\n",
    "alt.data_transformers.disable_max_rows()\n",
    "alt.Chart(final_df).mark_circle(size=60).encode(\n",
    "    x=alt.X('0_x',title = \"pairwise distance\"),\n",
    "    y=alt.X('0_y', title = \"Euclidean distance\"),\n",
    "    tooltip=['0_x', '0_y']\n",
    ").properties(title=\"pairwise vs. Euclidean scatterplot: PCA\")"
   ]
  },
  {
   "cell_type": "markdown",
   "metadata": {},
   "source": [
    "# Creating a method"
   ]
  },
  {
   "cell_type": "code",
   "execution_count": null,
   "metadata": {},
   "outputs": [],
   "source": [
    "\"\"\"\n",
    "similarity_matrix: matrix of pairwise differences from data (pandas Dataframe)\n",
    "df_merged: the mergd dataframe between your tree JSON and the FASTA file strains (pandas Dataframe)\n",
    "type_of_embedding: PCA, UMAP, MDS, or TSNE (string)\n",
    "\"\"\"\n",
    "def scatterplot_tooltips(similarity_matrix, df_merged, type_of_embedding):\n",
    "    import numpy as np\n",
    "    from scipy.spatial.distance import squareform, pdist\n",
    "    import altair as alt\n",
    "    \n",
    "    if type_of_embedding == \"UMAP\":\n",
    "        import umap\n",
    "        reducer = umap.UMAP()\n",
    "        embedding = reducer.fit_transform(dataa)\n",
    "        embedding_df = pd.DataFrame(embedding,columns=['cluster ' + str(i) for i in range(1,3)])\n",
    "    elif type_of_embedding == \"MDS\":\n",
    "        from sklearn.manifold import MDS\n",
    "        embedding = MDS(n_components=10,metric=True,dissimilarity='precomputed')\n",
    "        X_transformed = embedding.fit_transform(dataa)\n",
    "        embedding_df = pd.DataFrame(X_transformed,columns=['cluster ' + str(i) for i in range(1,11)])\n",
    "    elif type_of_embedding == \"TSNE\":\n",
    "        from sklearn.manifold import TSNE\n",
    "        embedding = TSNE(n_components=2,metric='precomputed',perplexity = 25.95)\n",
    "        X_transformed = embedding.fit_transform(dataa)\n",
    "        embedding_df = pd.DataFrame(X_transformed,columns=['cluster ' + str(i) for i in range(1,3)])\n",
    "    elif type_of_embedding == \"PCA\":\n",
    "        pca = PCA(n_components=10,svd_solver='full') #can specify n, since with no prior knowledge, I use None\n",
    "        principalComponents = pca.fit_transform(dataa)\n",
    "        embedding_df = pd.DataFrame(data = principalComponents, columns = [\"principal component \" + str(i) for i in range(1,11)])\n",
    "    finalDf = pd.concat([embedding_df, df_merged[['strain']]], axis = 1).dropna()\n",
    "\n",
    "    pairwise_distance_array = np.array(dataa)[np.triu_indices(486, k = 1)]\n",
    "    pairwise_df = pd.DataFrame(pairwise_distance_array)\n",
    "    \n",
    "    euclidean_distance_array = pdist(finalDf[['cluster 1','cluster 2']])\n",
    "    euclidean_df = pd.DataFrame(euclidean_distance_array)\n",
    "\n",
    "    final_df = pairwise_df.merge(euclidean_df,how='inner',left_index=True, right_index=True)\n",
    "    \n",
    "    alt.data_transformers.disable_max_rows()\n",
    "    chart = alt.Chart(final_df).mark_circle(size=60).encode(\n",
    "        x=alt.X('0_x',title = \"pairwise distance\"),\n",
    "        y=alt.X('0_y', title = \"Euclidean distance\"),\n",
    "        tooltip=['0_x', '0_y']\n",
    "    ).properties(title=\"Pairwise vs. Euclidean scatterplot: \" + type_of_embedding)\n",
    "    return chart   \n",
    "        "
   ]
  },
  {
   "cell_type": "code",
   "execution_count": null,
   "metadata": {},
   "outputs": [],
   "source": [
    "scatterplot_tooltips(dataa,merged_df,\"MDS\")"
   ]
  },
  {
   "cell_type": "markdown",
   "metadata": {},
   "source": [
    "# Creating a method for making the similarity matrix"
   ]
  },
  {
   "cell_type": "code",
   "execution_count": null,
   "metadata": {},
   "outputs": [],
   "source": [
    "def making_scatterplot_pairwise_matrix(path,df_merged)\n",
    "    import pandas as pd\n",
    "    import numpy as np\n",
    "    from Bio import SeqIO\n",
    "    strains = []\n",
    "    genomes = []\n",
    "    for record in SeqIO.parse(path, \"fasta\"):\n",
    "            strains.append(str(record.id))\n",
    "            genomes.append(str(record.seq))\n",
    "    genomes_df = pd.DataFrame(genomes)\n",
    "    genomes_df.columns = ['genomes']\n",
    "\n",
    "    strains_df = pd.DataFrame(strains)\n",
    "    strains_df.columns = ['strain']\n",
    "\n",
    "    df_merged = genomes_df.merge(strains_df, how='outer', left_index=True, right_index=True)\n",
    "\n",
    "    merged2_df = df_merged.merge(merged_df, how = 'inner', on = 'strain')\n",
    "    merged2_df = merged2_df[['genomes','strain']]\n",
    "    \n",
    "    genomes_numpy = merged2_df[['genomes']].to_numpy()\n",
    "    genomes = genomes_numpy.tolist()\n",
    "    genomes = list(genomes_numpy)\n",
    "    \n",
    "    numbers = []\n",
    "    matrixOfNum = []\n",
    "    for i in merged2_df.index:\n",
    "        for j in merged2_df.index:\n",
    "            num = hamming_distance(merged2_df['genomes'][i],merged2_df['genomes'][j])\n",
    "            numbers.append(num)\n",
    "        matrixOfNum.append(numbers)\n",
    "        numbers = []\n",
    "    dataa = pd.DataFrame(matrixOfNum, columns = [\"strain \" + str(i) for i in range(1,len(matrixOfNum) + 1)], dtype=\"float\")\n",
    "    return dataa\n",
    "    \n",
    "    "
   ]
  },
  {
   "cell_type": "code",
   "execution_count": null,
   "metadata": {},
   "outputs": [],
   "source": [
    "genomes_df = pd.DataFrame(genomes)\n",
    "genomes_df.columns = ['genomes']\n",
    "\n",
    "strains_df = pd.DataFrame(strains)\n",
    "strains_df.columns = ['strain']\n",
    "\n",
    "df_merged = genomes_df.merge(strains_df, how='outer', left_index=True, right_index=True)\n",
    "\n",
    "merged2_df = df_merged.merge(merged_df, how = 'inner', on = 'strain')\n",
    "merged2_df = merged2_df[['genomes','strain']]\n",
    "merged2_df.head()\n"
   ]
  },
  {
   "cell_type": "code",
   "execution_count": null,
   "metadata": {},
   "outputs": [],
   "source": [
    "genomes_numpy = merged2_df[['genomes']].to_numpy()\n",
    "genomes = genomes_numpy.tolist()\n",
    "genomes = list(genomes_numpy)"
   ]
  },
  {
   "cell_type": "code",
   "execution_count": null,
   "metadata": {},
   "outputs": [],
   "source": [
    "# Return the Hamming distance between string1 and string2.\n",
    "# string1 and string2 should be the same length.\n",
    "def hamming_distance(array1, array2): \n",
    "    # Start with a distance of zero, and count up\n",
    "    distance = 0\n",
    "    # Loop over the indices of the string\n",
    "    L = len(array1)\n",
    "    for i in range(L):\n",
    "        # Add 1 to the distance if these two characters are not equal\n",
    "        if array1[i] != array2[i] and array1[i] != 'N' and array2[i] != 'N':\n",
    "            distance += 1\n",
    "    # Return the final count of differences\n",
    "    return distance"
   ]
  },
  {
   "cell_type": "code",
   "execution_count": null,
   "metadata": {},
   "outputs": [],
   "source": [
    "#Using the Hamming distance to create a similarity matrix\n",
    "numbers = []\n",
    "matrixOfNum = []\n",
    "for i in merged2_df.index:\n",
    "    for j in merged2_df.index:\n",
    "        num = hamming_distance(merged2_df['genomes'][i],merged2_df['genomes'][j])\n",
    "        numbers.append(num)\n",
    "    matrixOfNum.append(numbers)\n",
    "    numbers = []\n",
    "dataa = pd.DataFrame(matrixOfNum, columns = [\"strain \" + str(i) for i in range(1,len(matrixOfNum) + 1)], dtype=\"float\")\n",
    "print(dataa)"
   ]
  },
  {
   "cell_type": "code",
   "execution_count": null,
   "metadata": {},
   "outputs": [],
   "source": [
    "#Read in correct matrix\n"
   ]
  },
  {
   "cell_type": "code",
   "execution_count": null,
   "metadata": {},
   "outputs": [],
   "source": [
    "dataa = dataa.to_csv(\"DistanceMatrixPairwiseEuclidean\",sep=',',index=False)"
   ]
  },
  {
   "cell_type": "code",
   "execution_count": null,
   "metadata": {},
   "outputs": [],
   "source": []
  },
  {
   "cell_type": "code",
   "execution_count": null,
   "metadata": {},
   "outputs": [],
   "source": [
    "#work on making this work\n",
    "path = \"Data/aligned_cdc_h3n2_ha_2y_cell_hi.fasta\"\n",
    "import pandas as pd\n",
    "import numpy as np\n",
    "import altair as alt\n",
    "from Bio import SeqIO\n",
    "strains = []\n",
    "genomes = []\n",
    "i = 0\n",
    "dropped_strains = [\"A/Usl/3850/2019\",\"A/Navarra/2284/2018\", \"A/Austria/1123467/2019\", \"A/Austria/1127203/2019\", \"A/Catalonia/NSVH100995626/2019\", \"A/Ontario/RV2296/2019\", \"A/Sydney/781/2019\", 'A/SouthAustralia/1034/2019','A/Usk/3850/2019']\n",
    "for record in SeqIO.parse(path, \"fasta\"):\n",
    "    if(record.id not in dropped_strains):\n",
    "        strains.append(str(record.id))\n",
    "        genomes.append(str(record.seq))\n",
    "        i = i + 1"
   ]
  },
  {
   "cell_type": "markdown",
   "metadata": {},
   "source": [
    "#### Checking to make sure the file I picked is a aligned Fasta file / is the file I wanted"
   ]
  },
  {
   "cell_type": "code",
   "execution_count": null,
   "metadata": {},
   "outputs": [],
   "source": [
    "len(strains)\n",
    "print(len(genomes[0]) == len(genomes[1]))\n",
    "print(len(genomes))"
   ]
  },
  {
   "cell_type": "code",
   "execution_count": null,
   "metadata": {},
   "outputs": [],
   "source": [
    "strains[:5]"
   ]
  },
  {
   "cell_type": "markdown",
   "metadata": {},
   "source": [
    "# Creating the Distance Matrix\n",
    "- I used Hamming Distance to find the pairwise distance between each genome and each other genome, effectively creating a similarity/distance matrix\n",
    "    - In my Hamming Distance method, I only counted something as a different if it was a mismatch between the nucleotides (A,G,C, or T), not gaps (as that was throwing off the algorithm too much for smaller strains)\n",
    "- I then used Seaborn to generate a heatmap to make sure the matrix looked correct"
   ]
  },
  {
   "cell_type": "code",
   "execution_count": null,
   "metadata": {},
   "outputs": [],
   "source": [
    "#if statement for runing ist matrix\n",
    "# Return the Hamming distance between string1 and string2.\n",
    "# string1 and string2 should be the same length.\n",
    "def hamming_distance(array1, array2): \n",
    "    # Start with a distance of zero, and count up\n",
    "    distance = 0\n",
    "    # Loop over the indices of the string\n",
    "    L = len(array1)\n",
    "    for i in range(L):\n",
    "        # Add 1 to the distance if these two characters are not equal\n",
    "        if array1[i] != array2[i] and array1[i] != 'N' and array2[i] != 'N':\n",
    "            distance += 1\n",
    "    # Return the final count of differences\n",
    "    return distance"
   ]
  },
  {
   "cell_type": "code",
   "execution_count": null,
   "metadata": {},
   "outputs": [],
   "source": [
    "#Using the Hamming distance to create a similarity matrix\n",
    "numbers = []\n",
    "matrixOfNum = []\n",
    "for i in range(0, len(genomes)):\n",
    "    for j in range(0,len(genomes)):\n",
    "        num = hamming_distance(genomes[i],genomes[j])\n",
    "        numbers.append(num)\n",
    "    matrixOfNum.append(numbers)\n",
    "    numbers = []\n",
    "similarity_matrix = pd.DataFrame(matrixOfNum, columns = [\"strain \" + str(i) for i in range(1,len(matrixOfNum) + 1)], dtype=\"float\")"
   ]
  },
  {
   "cell_type": "code",
   "execution_count": null,
   "metadata": {},
   "outputs": [],
   "source": [
    "print(similarity_matrix.head())"
   ]
  },
  {
   "cell_type": "code",
   "execution_count": null,
   "metadata": {},
   "outputs": [],
   "source": [
    "import seaborn as sns\n",
    "print(sns.heatmap(similarity_matrix))"
   ]
  },
  {
   "cell_type": "markdown",
   "metadata": {},
   "source": [
    "# Reading in the Metadata\n",
    "- The metadata is used for getting the region, country, etc of different strains. This data is used to color the clusters.\n",
    "- The metadata contains all of the possible sampled strains, so many of these will not be in the genomes from the aligned file, probably because the strains were corrupted, too short, etc. \n",
    "- We merge this metadata with the strains we have in the aligned file to get a list of all of the strains that match between both. It should come out to the amount of strains in the aligned file."
   ]
  },
  {
   "cell_type": "code",
   "execution_count": null,
   "metadata": {},
   "outputs": [],
   "source": [
    "#merging my final dataframe with their regions and strain names\n",
    "pathMeta = 'Data\\metadata_h3n2_ha.tsv'\n",
    "metadata_df = pd.read_csv(pathMeta, delimiter='\\t')"
   ]
  },
  {
   "cell_type": "code",
   "execution_count": null,
   "metadata": {},
   "outputs": [],
   "source": [
    "metadata_df.head()"
   ]
  },
  {
   "cell_type": "code",
   "execution_count": null,
   "metadata": {},
   "outputs": [],
   "source": [
    "metadata_df.shape"
   ]
  },
  {
   "cell_type": "code",
   "execution_count": null,
   "metadata": {},
   "outputs": [],
   "source": [
    "#making a dataframe out of the strains from the alignment file to merge with the metadata\n",
    "strains_df = pd.DataFrame(strains)\n",
    "strains_df.columns = ['strain']"
   ]
  },
  {
   "cell_type": "code",
   "execution_count": null,
   "metadata": {},
   "outputs": [],
   "source": [
    "strains_df.shape"
   ]
  },
  {
   "cell_type": "code",
   "execution_count": null,
   "metadata": {},
   "outputs": [],
   "source": [
    "#Merging strains and metadata \n",
    "result_strains = pd.merge(strains_df,metadata_df, on='strain')"
   ]
  },
  {
   "cell_type": "code",
   "execution_count": null,
   "metadata": {},
   "outputs": [],
   "source": [
    "#checking that no strains were lost\n",
    "result_strains.shape"
   ]
  },
  {
   "cell_type": "code",
   "execution_count": null,
   "metadata": {},
   "outputs": [],
   "source": [
    "np.setdiff1d(strains_df['strain'].unique(),metadata_df['strain'].unique())"
   ]
  },
  {
   "cell_type": "markdown",
   "metadata": {},
   "source": [
    "# Creating the Phylogenetic Tree in Altair\n",
    "- I used Altair to make this tree (Documentation linked [here][1]\n",
    "- I opened and imported the json from a build from NextStrain ([flu][2], [zika][3], etc)\n",
    "- The data from the JSON and the Data from the tree are usually a little different, so after merging the two dataframes you may get some errors.\n",
    "\n",
    "[1]: https://altair-viz.github.io/index.html\n",
    "[2]: https://github.com/nextstrain/seasonal-flu\n",
    "[3]: https://altair-viz.github.io/index.html"
   ]
  },
  {
   "cell_type": "code",
   "execution_count": null,
   "metadata": {},
   "outputs": [],
   "source": [
    "import altair as alt\n",
    "from augur.utils import json_to_tree\n",
    "import json\n",
    "import pandas as pd"
   ]
  },
  {
   "cell_type": "code",
   "execution_count": null,
   "metadata": {},
   "outputs": [],
   "source": [
    "# Import modules\n",
    "with open('Data/flu_seasonal_h3n2_ha_2y_tree.json') as fh:\n",
    "    json_tree_handle = json.load(fh)\n",
    "#json_tree_handle = json.loads(requests.get(\"http://data.nextstrain.org/zika_tree.json\").text)\n",
    "# Download tree JSON file used by auspice. Despite its filename extension, the data are compressed.\n",
    "#http = urllib3.PoolManager()\n",
    "# = http.request('GET', \"\")\n"
   ]
  },
  {
   "cell_type": "code",
   "execution_count": null,
   "metadata": {},
   "outputs": [],
   "source": [
    "tree = json_to_tree(json_tree_handle)"
   ]
  },
  {
   "cell_type": "code",
   "execution_count": null,
   "metadata": {},
   "outputs": [],
   "source": [
    "tree"
   ]
  },
  {
   "cell_type": "code",
   "execution_count": null,
   "metadata": {},
   "outputs": [],
   "source": [
    "node_data = [\n",
    "    {\n",
    "        \"strain\": node.name,\n",
    "        \"date\": node.attr[\"num_date\"],\n",
    "        \"y\": node.yvalue,\n",
    "        \"region\": node.attr[\"region\"],\n",
    "        \"country\": node.attr[\"country\"],\n",
    "        \"parent_date\": node.parent is not None and node.parent.attr[\"num_date\"] or node.attr[\"num_date\"],\n",
    "        \"parent_y\": node.parent is not None and node.parent.yvalue or node.yvalue,\n",
    "        \"clade_membership\" : node.attr['clade_membership']\n",
    "    }\n",
    "    for node in tree.find_clades(terminal=True)\n",
    "]"
   ]
  },
  {
   "cell_type": "code",
   "execution_count": null,
   "metadata": {},
   "outputs": [],
   "source": [
    "node_data[10]"
   ]
  },
  {
   "cell_type": "code",
   "execution_count": null,
   "metadata": {},
   "outputs": [],
   "source": [
    "node_df = pd.DataFrame(node_data)"
   ]
  },
  {
   "cell_type": "code",
   "execution_count": null,
   "metadata": {},
   "outputs": [],
   "source": [
    "node_df.head()"
   ]
  },
  {
   "cell_type": "code",
   "execution_count": null,
   "metadata": {},
   "outputs": [],
   "source": [
    "node_df[\"y\"] = node_df[\"y\"].max() - node_df[\"y\"]"
   ]
  },
  {
   "cell_type": "code",
   "execution_count": null,
   "metadata": {},
   "outputs": [],
   "source": [
    "node_df[\"parent_y\"] = node_df[\"parent_y\"].max() - node_df[\"parent_y\"]"
   ]
  },
  {
   "cell_type": "code",
   "execution_count": null,
   "metadata": {},
   "outputs": [],
   "source": [
    "node_df.shape"
   ]
  },
  {
   "cell_type": "code",
   "execution_count": null,
   "metadata": {},
   "outputs": [],
   "source": [
    "node_df.head()"
   ]
  },
  {
   "cell_type": "code",
   "execution_count": null,
   "metadata": {},
   "outputs": [],
   "source": [
    "node_df[\"region\"].unique()"
   ]
  },
  {
   "cell_type": "code",
   "execution_count": null,
   "metadata": {},
   "outputs": [],
   "source": [
    "node_numpy = node_df['clade_membership'].to_numpy()\n",
    "clade_ok = []\n",
    "clades = ['3c3.A', 'A1b/131K', 'A1b/135K', 'A2/re', 'A2', 'A3']\n",
    "#node_numpy = node_numpy.tolist()\n",
    "for node in node_numpy:\n",
    "    if node not in clades:\n",
    "        clade_ok.append(\"other\")\n",
    "    else:\n",
    "        clade_ok.append(node)"
   ]
  },
  {
   "cell_type": "code",
   "execution_count": null,
   "metadata": {},
   "outputs": [],
   "source": [
    "clade_new = pd.DataFrame(clade_ok)\n",
    "node_df = node_df.merge(clade_new, how='outer', left_index=True, right_index=True)"
   ]
  },
  {
   "cell_type": "code",
   "execution_count": null,
   "metadata": {},
   "outputs": [],
   "source": [
    "node_df.head()"
   ]
  },
  {
   "cell_type": "code",
   "execution_count": null,
   "metadata": {},
   "outputs": [],
   "source": [
    "node_df.columns = ['strain', 'date', 'y', 'region', 'country', 'parent_date',\n",
    "      'parent_y', 'clade_membership', 'clade_membership_color']"
   ]
  },
  {
   "cell_type": "markdown",
   "metadata": {},
   "source": [
    "# Running PCA on the Dataset"
   ]
  },
  {
   "cell_type": "code",
   "execution_count": null,
   "metadata": {},
   "outputs": [],
   "source": [
    "from sklearn.decomposition import PCA\n",
    "\n",
    "#performing PCA on my pandas dataframe \n",
    "pca = PCA(n_components=10,svd_solver='full') #can specify n, since with no prior knowledge, I use None\n",
    "principalComponents = pca.fit_transform(similarity_matrix)\n",
    "principalDf = pd.DataFrame(data = principalComponents, columns = [\"principal component \" + str(i) for i in range(1,11)])"
   ]
  },
  {
   "cell_type": "code",
   "execution_count": null,
   "metadata": {},
   "outputs": [],
   "source": [
    "principalDf"
   ]
  },
  {
   "cell_type": "markdown",
   "metadata": {},
   "source": [
    "# Visualizing PCA in Altair\n",
    "- Visualizing both PC1 (x) and PC2(y), and PC3(x) and PC4(y) in seperate plots"
   ]
  },
  {
   "cell_type": "code",
   "execution_count": null,
   "metadata": {},
   "outputs": [],
   "source": [
    "\"\"\"\n",
    "principal_Df -- Data from data reduction (-T-SNE, MDS, etc) (pandas DataFrame)\n",
    "result_metadata -- the metadata that is being read in (Pandas DataFrame)\n",
    "fields, the parts of metadata that should be concatenated with princiapl_Df (list)\n",
    "\"\"\"\n",
    "def concatenate_results_with_strain_data(principal_Df,result_metadata,fields):\n",
    "    finalDf = pd.concat([principal_Df, result_metadata[fields]], axis = 1)\n",
    "    return finalDf"
   ]
  },
  {
   "cell_type": "code",
   "execution_count": null,
   "metadata": {},
   "outputs": [],
   "source": [
    "finalDf = concatenate_results_with_strain_data(principalDf, node_df, ['strain','clade_membership', 'clade_membership_color'])\n",
    "strain_df = finalDf['strain']"
   ]
  },
  {
   "cell_type": "code",
   "execution_count": null,
   "metadata": {},
   "outputs": [],
   "source": [
    "import pandas as pd\n",
    "import altair as alt\n",
    "import numpy as np\n",
    "from scipy.spatial.distance import squareform, pdist\n",
    "import pandas as pd\n",
    "import numpy as np\n",
    "from Bio import SeqIO\n",
    "import seaborn as sns\n",
    "import re\n",
    "import matplotlib.pyplot as plt\n",
    "from sklearn.decomposition import PCA\n",
    "from augur.utils import json_to_tree\n",
    "import json\n",
    "from sklearn.manifold import MDS\n",
    "from sklearn.manifold import TSNE\n",
    "import umap\n",
    "from scipy.stats import linregress\n",
    "from pathlib import Path"
   ]
  },
  {
   "cell_type": "code",
   "execution_count": null,
   "metadata": {},
   "outputs": [],
   "source": [
    "#work on making this work\n",
    "path = \"Data/aligned_cdc_h3n2_ha_2y_cell_hi.fasta\"\n",
    "strains = []\n",
    "genomes = []\n",
    "dropped_strains = [\"A/Usl/3850/2019\",\"A/Navarra/2284/2018\", \"A/Austria/1123467/2019\", \"A/Austria/1127203/2019\", \"A/Catalonia/NSVH100995626/2019\", \"A/Ontario/RV2296/2019\", \"A/Sydney/781/2019\", 'A/SouthAustralia/1034/2019','A/Usk/3850/2019']\n",
    "for record in SeqIO.parse(path, \"fasta\"):\n",
    "    if(record.id not in dropped_strains):\n",
    "        strains.append(str(record.id))\n",
    "        genomes.append(str(record.seq))"
   ]
  },
  {
   "cell_type": "code",
   "execution_count": null,
   "metadata": {},
   "outputs": [],
   "source": [
    "\"\"\"\n",
    "similarity_matrix: matrix of pairwise differences from data (pandas Dataframe)\n",
    "df_merged: the mergd dataframe between your tree JSON and the FASTA file strains (pandas Dataframe)\n",
    "column1: one of the data cluster column names in df_merged\n",
    "column2: the other data cluster column name in df_merged\n",
    "type_of_embedding: type of embedding (PCA, UMAP, TSNE, MDS)\n",
    "\"\"\"\n",
    "\n",
    "def scatterplot_tooltips(similarity_matrix, df_merged, column1, column2, type_of_embedding):\n",
    "    \n",
    "    embedding_df = df_merged[[column1, column2]]\n",
    "\n",
    "    finalDf = pd.concat([embedding_df, df_merged[['strain']]], axis = 1).dropna()\n",
    "    finalDf.columns = [column1, column2, 'strain']\n",
    "    \n",
    "    pairwise_distance_array = np.array(similarity_matrix)[np.triu_indices(len(finalDf), k = 0)]\n",
    "    pairwise_df = pd.DataFrame(pairwise_distance_array)\n",
    "    pairwise_df = pd.concat([pairwise_df, finalDf[['strain']]], axis = 1)\n",
    "\n",
    "    euclidean_distance_array = pdist(finalDf[[column1, column2]])\n",
    "    euclidean_distance_array = squareform(euclidean_distance_array)\n",
    "    euclidean_distance_array = euclidean_distance_array[np.triu_indices(len(finalDf), k = 0)]\n",
    "        \n",
    "    euclidean_df = pd.DataFrame(euclidean_distance_array)\n",
    "    euclidean_df = pd.concat([euclidean_df, finalDf[['strain']]], axis = 1).dropna()\n",
    "    \n",
    "    final_df = euclidean_df.merge(pairwise_df,how='inner',on = 'strain')\n",
    "\n",
    "    print(linregress(pairwise_distance_array,euclidean_distance_array))\n",
    "    \n",
    "    alt.data_transformers.disable_max_rows()\n",
    "    chart = alt.Chart(final_df).mark_circle(size=60).encode(\n",
    "        x=alt.X('0_x',title = \"pairwise distance\"),\n",
    "        y=alt.X('0_y', title = \"Euclidean distance\"),\n",
    "        tooltip=['strain']\n",
    "    ).properties(title=\"Pairwise vs. Euclidean scatterplot: \" + type_of_embedding,height=200,width=300)\n",
    "    return chart   \n",
    "        "
   ]
  },
  {
   "cell_type": "code",
   "execution_count": null,
   "metadata": {},
   "outputs": [],
   "source": []
  },
  {
   "cell_type": "code",
   "execution_count": null,
   "metadata": {},
   "outputs": [],
   "source": [
    "scatterplot_tooltips(similarity_matrix, finalDf.dropna(), \"principal component 1\", \"principal component 2\", \"PCA\")"
   ]
  },
  {
   "cell_type": "code",
   "execution_count": null,
   "metadata": {},
   "outputs": [],
   "source": [
    "\"\"\"Create a box/violin plot in order to plot the within vs between clade distance for \n",
    "1) genetic distance and \n",
    "2) the different embeddings (PCA, t-SNE, MDS, UMAP) for Zika and Flu\"\"\""
   ]
  },
  {
   "cell_type": "code",
   "execution_count": null,
   "metadata": {},
   "outputs": [],
   "source": [
    "#Plot between vs within clade distance for Pairwise distance\n",
    "\n",
    "\"\"\"Steps:\n",
    "1) use the similarity matrix and categorize by clade (if within clade, color distance with red, if between clade, use blue)\n",
    "2) find the euclidean distance matrix and categorize by clade (if within clade, color distance with red, if between cladem use blue)\n",
    "\n",
    "\n",
    "\"\"\""
   ]
  },
  {
   "cell_type": "code",
   "execution_count": null,
   "metadata": {},
   "outputs": [],
   "source": [
    "similarity_matrix.head()"
   ]
  },
  {
   "cell_type": "code",
   "execution_count": null,
   "metadata": {},
   "outputs": [],
   "source": [
    "similarity_matrix_df = pd.DataFrame(similarity_matrix)\n",
    "similarity_matrix_df"
   ]
  },
  {
   "cell_type": "code",
   "execution_count": null,
   "metadata": {},
   "outputs": [],
   "source": [
    "strain_df = pd.DataFrame(strains)\n",
    "strains_similarity_df_merged = similarity_matrix_df.merge(strain_df, how='outer', left_index=True, right_index=True)"
   ]
  },
  {
   "cell_type": "code",
   "execution_count": null,
   "metadata": {},
   "outputs": [],
   "source": [
    "strains_similarity_df_merged"
   ]
  },
  {
   "cell_type": "code",
   "execution_count": null,
   "metadata": {},
   "outputs": [],
   "source": [
    "#strains_df.set_index(similarity_matrix.mean().index)\n",
    "strain_df.columns = ['strain']"
   ]
  },
  {
   "cell_type": "code",
   "execution_count": null,
   "metadata": {},
   "outputs": [],
   "source": [
    "node_df_new = node_df.merge(strain_df,how = \"inner\",on=\"strain\")\n",
    "node_df_new"
   ]
  },
  {
   "cell_type": "code",
   "execution_count": null,
   "metadata": {},
   "outputs": [],
   "source": [
    "node_df_new.set_index(similarity_matrix.mean().index)"
   ]
  },
  {
   "cell_type": "code",
   "execution_count": null,
   "metadata": {},
   "outputs": [],
   "source": []
  },
  {
   "cell_type": "code",
   "execution_count": null,
   "metadata": {},
   "outputs": [],
   "source": [
    "matrix_of_numbers = []\n",
    "row_of_numbers = []\n",
    "node_list = node_df_new['clade_membership'].tolist()\n",
    "\n",
    "for index in node_list:\n",
    "    for index2 in node_list:\n",
    "        if(index == index2):\n",
    "            row_of_numbers.append(\"within_clade\")\n",
    "        else:\n",
    "            row_of_numbers.append(\"between_clade\")\n",
    "    matrix_of_numbers.append(row_of_numbers)\n",
    "    row_of_numbers = []\n",
    "\n",
    "len(matrix_of_numbers[0])"
   ]
  },
  {
   "cell_type": "code",
   "execution_count": null,
   "metadata": {},
   "outputs": [],
   "source": [
    "pairwise_distance_array = np.array(similarity_matrix)[np.triu_indices(len(matrix_of_numbers), k = 0)]\n",
    "pairwise_df = pd.DataFrame(pairwise_distance_array)\n",
    "\n",
    "color_distance_array = np.array(matrix_of_numbers)[np.triu_indices(len(matrix_of_numbers), k = 0)]\n",
    "color_df = pd.DataFrame(color_distance_array)\n",
    "\n",
    "color_similarity = pairwise_df.merge(color_df, right_index = True, left_index = True)"
   ]
  },
  {
   "cell_type": "code",
   "execution_count": null,
   "metadata": {},
   "outputs": [],
   "source": [
    "color_similarity.columns = ['distance','color']"
   ]
  },
  {
   "cell_type": "code",
   "execution_count": null,
   "metadata": {},
   "outputs": [],
   "source": [
    "alt.Chart(color_similarity.sample(n=100000),height=150).mark_boxplot().encode(\n",
    "    x = alt.X('distance',title=\"mean of pairwise distances\"),\n",
    "    y = 'color'\n",
    ")"
   ]
  },
  {
   "cell_type": "code",
   "execution_count": null,
   "metadata": {},
   "outputs": [],
   "source": [
    "#make a method for euclidean distance boxplot"
   ]
  },
  {
   "cell_type": "code",
   "execution_count": null,
   "metadata": {},
   "outputs": [],
   "source": [
    "principalDf"
   ]
  },
  {
   "cell_type": "code",
   "execution_count": null,
   "metadata": {},
   "outputs": [],
   "source": [
    "finalDf"
   ]
  },
  {
   "cell_type": "code",
   "execution_count": null,
   "metadata": {},
   "outputs": [],
   "source": [
    "euclidean_distance_array = pdist(principalDf[['principal component 1', 'principal component 2']])\n",
    "euclidean_distance_array = squareform(euclidean_distance_array)\n",
    "euclidean_distance_array = euclidean_distance_array[np.triu_indices(len(matrix_of_numbers), k = 0)]"
   ]
  },
  {
   "cell_type": "code",
   "execution_count": null,
   "metadata": {},
   "outputs": [],
   "source": [
    "euclidean_df = pd.DataFrame(euclidean_distance_array)\n",
    "euclidean_df"
   ]
  },
  {
   "cell_type": "code",
   "execution_count": null,
   "metadata": {},
   "outputs": [],
   "source": [
    "color_similarity = euclidean_df.merge(color_df, right_index = True, left_index = True)\n",
    "color_similarity.columns = ['distance','color']"
   ]
  },
  {
   "cell_type": "code",
   "execution_count": null,
   "metadata": {},
   "outputs": [],
   "source": [
    "alt.Chart(color_similarity.sample(n=250000),height=150).mark_boxplot().encode(\n",
    "    x = alt.X('distance',title=\"mean of pairwise distances\"),\n",
    "    y = 'color'\n",
    ")"
   ]
  },
  {
   "cell_type": "code",
   "execution_count": null,
   "metadata": {},
   "outputs": [],
   "source": [
    "#making method for boxplots"
   ]
  },
  {
   "cell_type": "code",
   "execution_count": null,
   "metadata": {},
   "outputs": [],
   "source": [
    "#merged_df MUST include clade_membership and strain name merged with the respective distances\n",
    "def making_with_vs_between_boxplots(merged_df,column1,column2):\n",
    "    matrix_of_numbers = []\n",
    "    row_of_numbers = []\n",
    "    node_list = merged_df['clade_membership'].tolist()\n",
    "\n",
    "    for index in node_list:\n",
    "        for index2 in node_list:\n",
    "            if(index == index2):\n",
    "                row_of_numbers.append(\"within_clade\")\n",
    "            else:\n",
    "                row_of_numbers.append(\"between_clade\")\n",
    "        matrix_of_numbers.append(row_of_numbers)\n",
    "        row_of_numbers = []\n",
    "\n",
    "    color_distance_array = np.array(matrix_of_numbers)[np.triu_indices(len(matrix_of_numbers), k = 0)]\n",
    "    color_df = pd.DataFrame(color_distance_array)\n",
    "    \n",
    "    euclidean_distance_array = pdist(merged_df[[column1, column2]])\n",
    "    euclidean_distance_array = squareform(euclidean_distance_array)\n",
    "    euclidean_distance_array = euclidean_distance_array[np.triu_indices(len(matrix_of_numbers), k = 0)]\n",
    "    euclidean_df = pd.DataFrame(euclidean_distance_array)\n",
    "    \n",
    "    color_similarity = euclidean_df.merge(color_df, right_index = True, left_index = True)\n",
    "    color_similarity.columns = ['distance','color']\n",
    "    \n",
    "    chart = alt.Chart(color_similarity.sample(n=250000),height=150).mark_boxplot().encode(\n",
    "    x = alt.X('distance',title=\"mean distances\"),\n",
    "    y = 'color'\n",
    "    )\n",
    "    return chart"
   ]
  },
  {
   "cell_type": "code",
   "execution_count": null,
   "metadata": {},
   "outputs": [],
   "source": []
  },
  {
   "cell_type": "code",
   "execution_count": null,
   "metadata": {},
   "outputs": [],
   "source": [
    "making_with_vs_between_boxplots(node_df.merge(finalDf, on='strain'),'TSNE cluster 1','TSNE cluster 2')"
   ]
  },
  {
   "cell_type": "code",
   "execution_count": null,
   "metadata": {},
   "outputs": [],
   "source": []
  }
 ],
 "metadata": {
  "kernelspec": {
   "display_name": "Python 3",
   "language": "python",
   "name": "python3"
  },
  "language_info": {
   "codemirror_mode": {
    "name": "ipython",
    "version": 3
   },
   "file_extension": ".py",
   "mimetype": "text/x-python",
   "name": "python",
   "nbconvert_exporter": "python",
   "pygments_lexer": "ipython3",
   "version": "3.6.10"
  }
 },
 "nbformat": 4,
 "nbformat_minor": 4
}
